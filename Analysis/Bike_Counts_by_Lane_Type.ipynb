{
 "cells": [
  {
   "cell_type": "code",
   "execution_count": 1,
   "id": "df903dd7",
   "metadata": {},
   "outputs": [],
   "source": [
    "import sys\n",
    "# insert at 1, 0 is the script path (or '' in REPL)\n",
    "sys.path.insert(1, 'T:\\\\DCProjects\\\\GitHub\\\\BikeCounting\\\\BikeMap')\n",
    "import ReviewData as RD\n",
    "import pandas as pd\n",
    "import geopandas as gpd\n",
    "import pygeos\n",
    "import matplotlib.pyplot as plt\n",
    "import numpy as np\n",
    "import os"
   ]
  },
  {
   "cell_type": "code",
   "execution_count": 2,
   "id": "dde46fdd",
   "metadata": {},
   "outputs": [],
   "source": [
    "bikeFacilities = RD.readBikeFacility(add=False)"
   ]
  },
  {
   "cell_type": "code",
   "execution_count": 3,
   "id": "85c84063",
   "metadata": {},
   "outputs": [
    {
     "data": {
      "text/plain": [
       "Index(['name', 'type', 'lane_type', 'source', 'geom'], dtype='object')"
      ]
     },
     "execution_count": 3,
     "metadata": {},
     "output_type": "execute_result"
    }
   ],
   "source": [
    "bikeFacilities.columns"
   ]
  },
  {
   "cell_type": "code",
   "execution_count": 5,
   "id": "3868ddf3",
   "metadata": {},
   "outputs": [],
   "source": [
    "bph = gpd.read_file(\"T:/DCProjects/StoryMap/BikeCounting/BikeCounts/Output/BPH_by_Year.shp\")"
   ]
  },
  {
   "cell_type": "code",
   "execution_count": 6,
   "id": "24ff2cb6",
   "metadata": {},
   "outputs": [],
   "source": [
    "bph = bph.to_crs(epsg=3857)"
   ]
  },
  {
   "cell_type": "code",
   "execution_count": 7,
   "id": "c2249e92",
   "metadata": {},
   "outputs": [],
   "source": [
    "gpd.options.use_pygeos = True"
   ]
  },
  {
   "cell_type": "code",
   "execution_count": 9,
   "id": "fbc05a58",
   "metadata": {
    "scrolled": true
   },
   "outputs": [],
   "source": [
    "spatial_join = gpd.sjoin_nearest(bph, bikeFacilities, distance_col=\"distances\")"
   ]
  },
  {
   "cell_type": "code",
   "execution_count": 132,
   "id": "c6f5f0a7",
   "metadata": {},
   "outputs": [
    {
     "data": {
      "text/html": [
       "<div>\n",
       "<style scoped>\n",
       "    .dataframe tbody tr th:only-of-type {\n",
       "        vertical-align: middle;\n",
       "    }\n",
       "\n",
       "    .dataframe tbody tr th {\n",
       "        vertical-align: top;\n",
       "    }\n",
       "\n",
       "    .dataframe thead th {\n",
       "        text-align: right;\n",
       "    }\n",
       "</style>\n",
       "<table border=\"1\" class=\"dataframe\">\n",
       "  <thead>\n",
       "    <tr style=\"text-align: right;\">\n",
       "      <th></th>\n",
       "      <th>Locatin</th>\n",
       "      <th>Year</th>\n",
       "      <th>BPH</th>\n",
       "      <th>Latitud</th>\n",
       "      <th>Longitd</th>\n",
       "      <th>Site_Nm</th>\n",
       "      <th>DblCntL</th>\n",
       "      <th>IsOnewy</th>\n",
       "      <th>OnwyDrc</th>\n",
       "      <th>IsSdwlk</th>\n",
       "      <th>geometry</th>\n",
       "      <th>index_right</th>\n",
       "      <th>name</th>\n",
       "      <th>type</th>\n",
       "      <th>lane_type</th>\n",
       "      <th>source</th>\n",
       "      <th>distances</th>\n",
       "    </tr>\n",
       "  </thead>\n",
       "  <tbody>\n",
       "    <tr>\n",
       "      <th>0</th>\n",
       "      <td>S32ndAccessPath</td>\n",
       "      <td>2016</td>\n",
       "      <td>0.147321</td>\n",
       "      <td>44.037466</td>\n",
       "      <td>-122.980292</td>\n",
       "      <td>Access Path between S 32nd Pl &amp; S 32nd St</td>\n",
       "      <td>0</td>\n",
       "      <td>0</td>\n",
       "      <td>&lt;Null&gt;</td>\n",
       "      <td>0</td>\n",
       "      <td>POINT (-13690103.483 5471241.965)</td>\n",
       "      <td>147</td>\n",
       "      <td>None</td>\n",
       "      <td>Bike Lane</td>\n",
       "      <td>None</td>\n",
       "      <td>LCOG</td>\n",
       "      <td>50.944522</td>\n",
       "    </tr>\n",
       "    <tr>\n",
       "      <th>1</th>\n",
       "      <td>S32ndAccessPath</td>\n",
       "      <td>2019</td>\n",
       "      <td>0.164957</td>\n",
       "      <td>44.037466</td>\n",
       "      <td>-122.980292</td>\n",
       "      <td>Access Path between S 32nd Pl &amp; S 32nd St</td>\n",
       "      <td>0</td>\n",
       "      <td>0</td>\n",
       "      <td>&lt;Null&gt;</td>\n",
       "      <td>0</td>\n",
       "      <td>POINT (-13690103.483 5471241.965)</td>\n",
       "      <td>147</td>\n",
       "      <td>None</td>\n",
       "      <td>Bike Lane</td>\n",
       "      <td>None</td>\n",
       "      <td>LCOG</td>\n",
       "      <td>50.944522</td>\n",
       "    </tr>\n",
       "    <tr>\n",
       "      <th>2</th>\n",
       "      <td>YolandaEast23rd</td>\n",
       "      <td>2019</td>\n",
       "      <td>0.254958</td>\n",
       "      <td>44.072392</td>\n",
       "      <td>-122.990277</td>\n",
       "      <td>Yolanda Ave East of 23rd St</td>\n",
       "      <td>0</td>\n",
       "      <td>0</td>\n",
       "      <td>&lt;Null&gt;</td>\n",
       "      <td>0</td>\n",
       "      <td>POINT (-13691215.008 5476651.855)</td>\n",
       "      <td>740</td>\n",
       "      <td>None</td>\n",
       "      <td>Bike Lane</td>\n",
       "      <td>None</td>\n",
       "      <td>LCOG</td>\n",
       "      <td>0.175681</td>\n",
       "    </tr>\n",
       "    <tr>\n",
       "      <th>3</th>\n",
       "      <td>WillametteSouth24thWestSidewalk</td>\n",
       "      <td>2017</td>\n",
       "      <td>0.338196</td>\n",
       "      <td>44.032808</td>\n",
       "      <td>-123.090711</td>\n",
       "      <td>Willamette St West Sidewalk South of 24th Pl</td>\n",
       "      <td>0</td>\n",
       "      <td>0</td>\n",
       "      <td>&lt;Null&gt;</td>\n",
       "      <td>1</td>\n",
       "      <td>POINT (-13702395.270 5470520.701)</td>\n",
       "      <td>2793</td>\n",
       "      <td>None</td>\n",
       "      <td>Bike Lane</td>\n",
       "      <td>None</td>\n",
       "      <td>EUG</td>\n",
       "      <td>6.627695</td>\n",
       "    </tr>\n",
       "    <tr>\n",
       "      <th>63</th>\n",
       "      <td>WillametteSouth24thWestSidewalk</td>\n",
       "      <td>2016</td>\n",
       "      <td>1.547170</td>\n",
       "      <td>44.032808</td>\n",
       "      <td>-123.090711</td>\n",
       "      <td>Willamette St West Sidewalk South of 24th Pl</td>\n",
       "      <td>0</td>\n",
       "      <td>0</td>\n",
       "      <td>&lt;Null&gt;</td>\n",
       "      <td>1</td>\n",
       "      <td>POINT (-13702395.270 5470520.701)</td>\n",
       "      <td>2793</td>\n",
       "      <td>None</td>\n",
       "      <td>Bike Lane</td>\n",
       "      <td>None</td>\n",
       "      <td>EUG</td>\n",
       "      <td>6.627695</td>\n",
       "    </tr>\n",
       "  </tbody>\n",
       "</table>\n",
       "</div>"
      ],
      "text/plain": [
       "                            Locatin  Year       BPH    Latitud     Longitd  \\\n",
       "0                   S32ndAccessPath  2016  0.147321  44.037466 -122.980292   \n",
       "1                   S32ndAccessPath  2019  0.164957  44.037466 -122.980292   \n",
       "2                   YolandaEast23rd  2019  0.254958  44.072392 -122.990277   \n",
       "3   WillametteSouth24thWestSidewalk  2017  0.338196  44.032808 -123.090711   \n",
       "63  WillametteSouth24thWestSidewalk  2016  1.547170  44.032808 -123.090711   \n",
       "\n",
       "                                         Site_Nm  DblCntL  IsOnewy OnwyDrc  \\\n",
       "0      Access Path between S 32nd Pl & S 32nd St        0        0  <Null>   \n",
       "1      Access Path between S 32nd Pl & S 32nd St        0        0  <Null>   \n",
       "2                    Yolanda Ave East of 23rd St        0        0  <Null>   \n",
       "3   Willamette St West Sidewalk South of 24th Pl        0        0  <Null>   \n",
       "63  Willamette St West Sidewalk South of 24th Pl        0        0  <Null>   \n",
       "\n",
       "    IsSdwlk                           geometry  index_right  name       type  \\\n",
       "0         0  POINT (-13690103.483 5471241.965)          147  None  Bike Lane   \n",
       "1         0  POINT (-13690103.483 5471241.965)          147  None  Bike Lane   \n",
       "2         0  POINT (-13691215.008 5476651.855)          740  None  Bike Lane   \n",
       "3         1  POINT (-13702395.270 5470520.701)         2793  None  Bike Lane   \n",
       "63        1  POINT (-13702395.270 5470520.701)         2793  None  Bike Lane   \n",
       "\n",
       "   lane_type source  distances  \n",
       "0       None   LCOG  50.944522  \n",
       "1       None   LCOG  50.944522  \n",
       "2       None   LCOG   0.175681  \n",
       "3       None    EUG   6.627695  \n",
       "63      None    EUG   6.627695  "
      ]
     },
     "execution_count": 132,
     "metadata": {},
     "output_type": "execute_result"
    }
   ],
   "source": [
    "spatial_join.head()"
   ]
  },
  {
   "cell_type": "code",
   "execution_count": 133,
   "id": "b623bee6",
   "metadata": {},
   "outputs": [
    {
     "data": {
      "text/plain": [
       "Index(['Locatin', 'Year', 'BPH', 'Latitud', 'Longitd', 'Site_Nm', 'DblCntL',\n",
       "       'IsOnewy', 'OnwyDrc', 'IsSdwlk', 'geometry', 'index_right', 'name',\n",
       "       'type', 'lane_type', 'source', 'distances'],\n",
       "      dtype='object')"
      ]
     },
     "execution_count": 133,
     "metadata": {},
     "output_type": "execute_result"
    }
   ],
   "source": [
    "spatial_join.columns"
   ]
  },
  {
   "cell_type": "code",
   "execution_count": 10,
   "id": "58f2bb0e",
   "metadata": {},
   "outputs": [
    {
     "data": {
      "text/plain": [
       "2012"
      ]
     },
     "execution_count": 10,
     "metadata": {},
     "output_type": "execute_result"
    }
   ],
   "source": [
    "spatial_join.Year.min()"
   ]
  },
  {
   "cell_type": "code",
   "execution_count": 11,
   "id": "3063a4ec",
   "metadata": {},
   "outputs": [
    {
     "data": {
      "text/plain": [
       "2020"
      ]
     },
     "execution_count": 11,
     "metadata": {},
     "output_type": "execute_result"
    }
   ],
   "source": [
    "spatial_join.Year.max()"
   ]
  },
  {
   "cell_type": "code",
   "execution_count": 12,
   "id": "32438a36",
   "metadata": {},
   "outputs": [
    {
     "data": {
      "text/plain": [
       "geopandas.geodataframe.GeoDataFrame"
      ]
     },
     "execution_count": 12,
     "metadata": {},
     "output_type": "execute_result"
    }
   ],
   "source": [
    "type(spatial_join)"
   ]
  },
  {
   "cell_type": "code",
   "execution_count": 13,
   "id": "13f39a9f",
   "metadata": {},
   "outputs": [
    {
     "name": "stdout",
     "output_type": "stream",
     "text": [
      "epsg:3857\n"
     ]
    }
   ],
   "source": [
    "print(spatial_join.crs)"
   ]
  },
  {
   "cell_type": "code",
   "execution_count": 14,
   "id": "b8458d42",
   "metadata": {},
   "outputs": [
    {
     "data": {
      "text/plain": [
       "count     667.000000\n",
       "mean       89.337060\n",
       "std       486.062045\n",
       "min         0.075835\n",
       "25%         0.907384\n",
       "50%         1.660238\n",
       "75%         6.322402\n",
       "max      3899.685572\n",
       "Name: distances, dtype: float64"
      ]
     },
     "execution_count": 14,
     "metadata": {},
     "output_type": "execute_result"
    }
   ],
   "source": [
    "spatial_join.distances.describe()"
   ]
  },
  {
   "cell_type": "code",
   "execution_count": 15,
   "id": "59f63c90",
   "metadata": {},
   "outputs": [
    {
     "data": {
      "text/plain": [
       "<AxesSubplot:>"
      ]
     },
     "execution_count": 15,
     "metadata": {},
     "output_type": "execute_result"
    },
    {
     "data": {
      "image/png": "[encoded data removed]",
      "text/plain": [
       "<Figure size 432x288 with 1 Axes>"
      ]
     },
     "metadata": {
      "needs_background": "light"
     },
     "output_type": "display_data"
    }
   ],
   "source": [
    "spatial_join.distances.hist()"
   ]
  },
  {
   "cell_type": "code",
   "execution_count": 16,
   "id": "dabc50d1",
   "metadata": {},
   "outputs": [
    {
     "data": {
      "text/html": [
       "<div>\n",
       "<style scoped>\n",
       "    .dataframe tbody tr th:only-of-type {\n",
       "        vertical-align: middle;\n",
       "    }\n",
       "\n",
       "    .dataframe tbody tr th {\n",
       "        vertical-align: top;\n",
       "    }\n",
       "\n",
       "    .dataframe thead th {\n",
       "        text-align: right;\n",
       "    }\n",
       "</style>\n",
       "<table border=\"1\" class=\"dataframe\">\n",
       "  <thead>\n",
       "    <tr style=\"text-align: right;\">\n",
       "      <th></th>\n",
       "      <th>BPH</th>\n",
       "    </tr>\n",
       "    <tr>\n",
       "      <th>type</th>\n",
       "      <th></th>\n",
       "    </tr>\n",
       "  </thead>\n",
       "  <tbody>\n",
       "    <tr>\n",
       "      <th>Bike Lane</th>\n",
       "      <td>9.576148</td>\n",
       "    </tr>\n",
       "    <tr>\n",
       "      <th>Bike Route</th>\n",
       "      <td>10.058736</td>\n",
       "    </tr>\n",
       "    <tr>\n",
       "      <th>Neighborhood Greenway</th>\n",
       "      <td>12.209210</td>\n",
       "    </tr>\n",
       "    <tr>\n",
       "      <th>Pedestrian and Bicycle Access Way</th>\n",
       "      <td>10.838856</td>\n",
       "    </tr>\n",
       "    <tr>\n",
       "      <th>Shared Use Path</th>\n",
       "      <td>14.076764</td>\n",
       "    </tr>\n",
       "  </tbody>\n",
       "</table>\n",
       "</div>"
      ],
      "text/plain": [
       "                                         BPH\n",
       "type                                        \n",
       "Bike Lane                           9.576148\n",
       "Bike Route                         10.058736\n",
       "Neighborhood Greenway              12.209210\n",
       "Pedestrian and Bicycle Access Way  10.838856\n",
       "Shared Use Path                    14.076764"
      ]
     },
     "execution_count": 16,
     "metadata": {},
     "output_type": "execute_result"
    }
   ],
   "source": [
    "spatial_join[spatial_join.distances <= 10][['BPH', 'type']].groupby('type').agg('mean')"
   ]
  },
  {
   "cell_type": "code",
   "execution_count": 17,
   "id": "a7932292",
   "metadata": {},
   "outputs": [
    {
     "data": {
      "text/html": [
       "<div>\n",
       "<style scoped>\n",
       "    .dataframe tbody tr th:only-of-type {\n",
       "        vertical-align: middle;\n",
       "    }\n",
       "\n",
       "    .dataframe tbody tr th {\n",
       "        vertical-align: top;\n",
       "    }\n",
       "\n",
       "    .dataframe thead th {\n",
       "        text-align: right;\n",
       "    }\n",
       "</style>\n",
       "<table border=\"1\" class=\"dataframe\">\n",
       "  <thead>\n",
       "    <tr style=\"text-align: right;\">\n",
       "      <th></th>\n",
       "      <th>BPH</th>\n",
       "    </tr>\n",
       "    <tr>\n",
       "      <th>type</th>\n",
       "      <th></th>\n",
       "    </tr>\n",
       "  </thead>\n",
       "  <tbody>\n",
       "    <tr>\n",
       "      <th>Bike Lane</th>\n",
       "      <td>3.397694</td>\n",
       "    </tr>\n",
       "    <tr>\n",
       "      <th>Bike Route</th>\n",
       "      <td>3.194917</td>\n",
       "    </tr>\n",
       "    <tr>\n",
       "      <th>Connectivity for Routing</th>\n",
       "      <td>1.118775</td>\n",
       "    </tr>\n",
       "    <tr>\n",
       "      <th>Neighborhood Greenway</th>\n",
       "      <td>6.295846</td>\n",
       "    </tr>\n",
       "    <tr>\n",
       "      <th>Paved Shoulder</th>\n",
       "      <td>2.338563</td>\n",
       "    </tr>\n",
       "    <tr>\n",
       "      <th>Pedestrian and Bicycle Access Way</th>\n",
       "      <td>3.400949</td>\n",
       "    </tr>\n",
       "    <tr>\n",
       "      <th>Shared Use Path</th>\n",
       "      <td>3.867214</td>\n",
       "    </tr>\n",
       "  </tbody>\n",
       "</table>\n",
       "</div>"
      ],
      "text/plain": [
       "                                        BPH\n",
       "type                                       \n",
       "Bike Lane                          3.397694\n",
       "Bike Route                         3.194917\n",
       "Connectivity for Routing           1.118775\n",
       "Neighborhood Greenway              6.295846\n",
       "Paved Shoulder                     2.338563\n",
       "Pedestrian and Bicycle Access Way  3.400949\n",
       "Shared Use Path                    3.867214"
      ]
     },
     "execution_count": 17,
     "metadata": {},
     "output_type": "execute_result"
    }
   ],
   "source": [
    "spatial_join[spatial_join.distances > 10][['BPH', 'type']].groupby('type').agg('mean')"
   ]
  },
  {
   "cell_type": "code",
   "execution_count": 135,
   "id": "b694ee0b",
   "metadata": {},
   "outputs": [
    {
     "data": {
      "text/html": [
       "<div>\n",
       "<style scoped>\n",
       "    .dataframe tbody tr th:only-of-type {\n",
       "        vertical-align: middle;\n",
       "    }\n",
       "\n",
       "    .dataframe tbody tr th {\n",
       "        vertical-align: top;\n",
       "    }\n",
       "\n",
       "    .dataframe thead th {\n",
       "        text-align: right;\n",
       "    }\n",
       "</style>\n",
       "<table border=\"1\" class=\"dataframe\">\n",
       "  <thead>\n",
       "    <tr style=\"text-align: right;\">\n",
       "      <th></th>\n",
       "      <th>BPH</th>\n",
       "      <th>Locatin</th>\n",
       "    </tr>\n",
       "    <tr>\n",
       "      <th>type</th>\n",
       "      <th></th>\n",
       "      <th></th>\n",
       "    </tr>\n",
       "  </thead>\n",
       "  <tbody>\n",
       "    <tr>\n",
       "      <th>Bike Lane</th>\n",
       "      <td>9.067334</td>\n",
       "      <td>75</td>\n",
       "    </tr>\n",
       "    <tr>\n",
       "      <th>Bike Route</th>\n",
       "      <td>8.540776</td>\n",
       "      <td>28</td>\n",
       "    </tr>\n",
       "    <tr>\n",
       "      <th>Connectivity for Routing</th>\n",
       "      <td>1.118775</td>\n",
       "      <td>2</td>\n",
       "    </tr>\n",
       "    <tr>\n",
       "      <th>Neighborhood Greenway</th>\n",
       "      <td>11.275521</td>\n",
       "      <td>16</td>\n",
       "    </tr>\n",
       "    <tr>\n",
       "      <th>Paved Shoulder</th>\n",
       "      <td>2.338563</td>\n",
       "      <td>3</td>\n",
       "    </tr>\n",
       "    <tr>\n",
       "      <th>Pedestrian and Bicycle Access Way</th>\n",
       "      <td>7.405976</td>\n",
       "      <td>4</td>\n",
       "    </tr>\n",
       "    <tr>\n",
       "      <th>Shared Use Path</th>\n",
       "      <td>13.347511</td>\n",
       "      <td>50</td>\n",
       "    </tr>\n",
       "  </tbody>\n",
       "</table>\n",
       "</div>"
      ],
      "text/plain": [
       "                                         BPH  Locatin\n",
       "type                                                 \n",
       "Bike Lane                           9.067334       75\n",
       "Bike Route                          8.540776       28\n",
       "Connectivity for Routing            1.118775        2\n",
       "Neighborhood Greenway              11.275521       16\n",
       "Paved Shoulder                      2.338563        3\n",
       "Pedestrian and Bicycle Access Way   7.405976        4\n",
       "Shared Use Path                    13.347511       50"
      ]
     },
     "execution_count": 135,
     "metadata": {},
     "output_type": "execute_result"
    }
   ],
   "source": [
    "spatial_join[['BPH', 'Locatin', 'type']].groupby('type').agg({\"BPH\": np.mean, \"Locatin\": pd.Series.nunique})"
   ]
  },
  {
   "cell_type": "code",
   "execution_count": 19,
   "id": "4d9b93c1",
   "metadata": {},
   "outputs": [
    {
     "data": {
      "text/plain": [
       "Index(['Locatin', 'Year', 'BPH', 'Latitud', 'Longitd', 'Site_Nm', 'DblCntL',\n",
       "       'IsOnewy', 'OnwyDrc', 'IsSdwlk', 'geometry', 'index_right', 'name',\n",
       "       'type', 'source', 'distances'],\n",
       "      dtype='object')"
      ]
     },
     "execution_count": 19,
     "metadata": {},
     "output_type": "execute_result"
    }
   ],
   "source": [
    "spatial_join.columns"
   ]
  },
  {
   "cell_type": "code",
   "execution_count": 11,
   "id": "05190a7e",
   "metadata": {},
   "outputs": [
    {
     "data": {
      "text/plain": [
       "array([None, 'Protected Bikeway', 'Shared Lane Marking',\n",
       "       'Buffered Bike Lane'], dtype=object)"
      ]
     },
     "execution_count": 11,
     "metadata": {},
     "output_type": "execute_result"
    }
   ],
   "source": [
    "spatial_join.lane_type.unique()"
   ]
  },
  {
   "cell_type": "code",
   "execution_count": 17,
   "id": "3c6b4cd4",
   "metadata": {},
   "outputs": [
    {
     "data": {
      "text/html": [
       "<div>\n",
       "<style scoped>\n",
       "    .dataframe tbody tr th:only-of-type {\n",
       "        vertical-align: middle;\n",
       "    }\n",
       "\n",
       "    .dataframe tbody tr th {\n",
       "        vertical-align: top;\n",
       "    }\n",
       "\n",
       "    .dataframe thead th {\n",
       "        text-align: right;\n",
       "    }\n",
       "</style>\n",
       "<table border=\"1\" class=\"dataframe\">\n",
       "  <thead>\n",
       "    <tr style=\"text-align: right;\">\n",
       "      <th></th>\n",
       "      <th>BPH</th>\n",
       "    </tr>\n",
       "    <tr>\n",
       "      <th>lane_type</th>\n",
       "      <th></th>\n",
       "    </tr>\n",
       "  </thead>\n",
       "  <tbody>\n",
       "    <tr>\n",
       "      <th>Buffered Bike Lane</th>\n",
       "      <td>14.293924</td>\n",
       "    </tr>\n",
       "    <tr>\n",
       "      <th>Protected Bikeway</th>\n",
       "      <td>19.427560</td>\n",
       "    </tr>\n",
       "  </tbody>\n",
       "</table>\n",
       "</div>"
      ],
      "text/plain": [
       "                          BPH\n",
       "lane_type                    \n",
       "Buffered Bike Lane  14.293924\n",
       "Protected Bikeway   19.427560"
      ]
     },
     "execution_count": 17,
     "metadata": {},
     "output_type": "execute_result"
    }
   ],
   "source": [
    "spatial_join[(spatial_join.distances <= 10) & (spatial_join['type'] == 'Bike Lane')][['BPH', 'lane_type']].groupby('lane_type').agg('mean')"
   ]
  },
  {
   "cell_type": "code",
   "execution_count": 18,
   "id": "db39d9b5",
   "metadata": {
    "scrolled": true
   },
   "outputs": [
    {
     "data": {
      "text/html": [
       "<div>\n",
       "<style scoped>\n",
       "    .dataframe tbody tr th:only-of-type {\n",
       "        vertical-align: middle;\n",
       "    }\n",
       "\n",
       "    .dataframe tbody tr th {\n",
       "        vertical-align: top;\n",
       "    }\n",
       "\n",
       "    .dataframe thead th {\n",
       "        text-align: right;\n",
       "    }\n",
       "</style>\n",
       "<table border=\"1\" class=\"dataframe\">\n",
       "  <thead>\n",
       "    <tr style=\"text-align: right;\">\n",
       "      <th></th>\n",
       "      <th>BPH</th>\n",
       "    </tr>\n",
       "    <tr>\n",
       "      <th>lane_type</th>\n",
       "      <th></th>\n",
       "    </tr>\n",
       "  </thead>\n",
       "  <tbody>\n",
       "    <tr>\n",
       "      <th>Buffered Bike Lane</th>\n",
       "      <td>14.293924</td>\n",
       "    </tr>\n",
       "    <tr>\n",
       "      <th>Protected Bikeway</th>\n",
       "      <td>19.427560</td>\n",
       "    </tr>\n",
       "    <tr>\n",
       "      <th>Shared Lane Marking</th>\n",
       "      <td>1.528278</td>\n",
       "    </tr>\n",
       "  </tbody>\n",
       "</table>\n",
       "</div>"
      ],
      "text/plain": [
       "                           BPH\n",
       "lane_type                     \n",
       "Buffered Bike Lane   14.293924\n",
       "Protected Bikeway    19.427560\n",
       "Shared Lane Marking   1.528278"
      ]
     },
     "execution_count": 18,
     "metadata": {},
     "output_type": "execute_result"
    }
   ],
   "source": [
    "spatial_join[(spatial_join.distances <= 10)][['BPH', 'lane_type']].groupby('lane_type').agg('mean')"
   ]
  },
  {
   "cell_type": "code",
   "execution_count": 19,
   "id": "266cf1d2",
   "metadata": {},
   "outputs": [
    {
     "data": {
      "text/html": [
       "<div>\n",
       "<style scoped>\n",
       "    .dataframe tbody tr th:only-of-type {\n",
       "        vertical-align: middle;\n",
       "    }\n",
       "\n",
       "    .dataframe tbody tr th {\n",
       "        vertical-align: top;\n",
       "    }\n",
       "\n",
       "    .dataframe thead th {\n",
       "        text-align: right;\n",
       "    }\n",
       "</style>\n",
       "<table border=\"1\" class=\"dataframe\">\n",
       "  <thead>\n",
       "    <tr style=\"text-align: right;\">\n",
       "      <th></th>\n",
       "      <th>BPH</th>\n",
       "    </tr>\n",
       "    <tr>\n",
       "      <th>lane_type</th>\n",
       "      <th></th>\n",
       "    </tr>\n",
       "  </thead>\n",
       "  <tbody>\n",
       "    <tr>\n",
       "      <th>Buffered Bike Lane</th>\n",
       "      <td>14.293924</td>\n",
       "    </tr>\n",
       "    <tr>\n",
       "      <th>Protected Bikeway</th>\n",
       "      <td>18.036778</td>\n",
       "    </tr>\n",
       "    <tr>\n",
       "      <th>Shared Lane Marking</th>\n",
       "      <td>1.528278</td>\n",
       "    </tr>\n",
       "  </tbody>\n",
       "</table>\n",
       "</div>"
      ],
      "text/plain": [
       "                           BPH\n",
       "lane_type                     \n",
       "Buffered Bike Lane   14.293924\n",
       "Protected Bikeway    18.036778\n",
       "Shared Lane Marking   1.528278"
      ]
     },
     "execution_count": 19,
     "metadata": {},
     "output_type": "execute_result"
    }
   ],
   "source": [
    "spatial_join[['BPH', 'lane_type']].groupby('lane_type').agg('mean')"
   ]
  },
  {
   "cell_type": "code",
   "execution_count": 156,
   "id": "4f84bc43",
   "metadata": {},
   "outputs": [],
   "source": [
    "sj_lane = spatial_join[spatial_join['type'] == 'Bike Lane'][['BPH', 'lane_type', 'Locatin']]"
   ]
  },
  {
   "cell_type": "code",
   "execution_count": 157,
   "id": "288f4f57",
   "metadata": {},
   "outputs": [],
   "source": [
    "#sj_lane[sj_lane.lane_type.isnull()]\n",
    "sj_lane.fillna(\"Bike Lane\",inplace=True)"
   ]
  },
  {
   "cell_type": "code",
   "execution_count": 158,
   "id": "390106d5",
   "metadata": {},
   "outputs": [
    {
     "data": {
      "text/html": [
       "<div>\n",
       "<style scoped>\n",
       "    .dataframe tbody tr th:only-of-type {\n",
       "        vertical-align: middle;\n",
       "    }\n",
       "\n",
       "    .dataframe tbody tr th {\n",
       "        vertical-align: top;\n",
       "    }\n",
       "\n",
       "    .dataframe thead th {\n",
       "        text-align: right;\n",
       "    }\n",
       "</style>\n",
       "<table border=\"1\" class=\"dataframe\">\n",
       "  <thead>\n",
       "    <tr style=\"text-align: right;\">\n",
       "      <th></th>\n",
       "      <th>BPH</th>\n",
       "    </tr>\n",
       "    <tr>\n",
       "      <th>lane_type</th>\n",
       "      <th></th>\n",
       "    </tr>\n",
       "  </thead>\n",
       "  <tbody>\n",
       "    <tr>\n",
       "      <th>Bike Lane</th>\n",
       "      <td>6.172789</td>\n",
       "    </tr>\n",
       "    <tr>\n",
       "      <th>Buffered Bike Lane</th>\n",
       "      <td>14.293924</td>\n",
       "    </tr>\n",
       "    <tr>\n",
       "      <th>Protected Bikeway</th>\n",
       "      <td>18.036778</td>\n",
       "    </tr>\n",
       "  </tbody>\n",
       "</table>\n",
       "</div>"
      ],
      "text/plain": [
       "                          BPH\n",
       "lane_type                    \n",
       "Bike Lane            6.172789\n",
       "Buffered Bike Lane  14.293924\n",
       "Protected Bikeway   18.036778"
      ]
     },
     "execution_count": 158,
     "metadata": {},
     "output_type": "execute_result"
    }
   ],
   "source": [
    "sj_lane.groupby('lane_type').agg('mean')"
   ]
  },
  {
   "cell_type": "code",
   "execution_count": 138,
   "id": "ce1c5aa3",
   "metadata": {},
   "outputs": [],
   "source": [
    "bph_type = spatial_join[['BPH', 'Locatin', 'type']].groupby('type').agg({\"BPH\": np.mean, \"Locatin\": pd.Series.nunique})"
   ]
  },
  {
   "cell_type": "code",
   "execution_count": 145,
   "id": "b8ac06f9",
   "metadata": {},
   "outputs": [
    {
     "data": {
      "text/html": [
       "<div>\n",
       "<style scoped>\n",
       "    .dataframe tbody tr th:only-of-type {\n",
       "        vertical-align: middle;\n",
       "    }\n",
       "\n",
       "    .dataframe tbody tr th {\n",
       "        vertical-align: top;\n",
       "    }\n",
       "\n",
       "    .dataframe thead th {\n",
       "        text-align: right;\n",
       "    }\n",
       "</style>\n",
       "<table border=\"1\" class=\"dataframe\">\n",
       "  <thead>\n",
       "    <tr style=\"text-align: right;\">\n",
       "      <th></th>\n",
       "      <th>BPH</th>\n",
       "      <th>Locatin</th>\n",
       "    </tr>\n",
       "    <tr>\n",
       "      <th>type</th>\n",
       "      <th></th>\n",
       "      <th></th>\n",
       "    </tr>\n",
       "  </thead>\n",
       "  <tbody>\n",
       "    <tr>\n",
       "      <th>Bike Lane</th>\n",
       "      <td>9.067334</td>\n",
       "      <td>75</td>\n",
       "    </tr>\n",
       "    <tr>\n",
       "      <th>Bike Route</th>\n",
       "      <td>8.540776</td>\n",
       "      <td>28</td>\n",
       "    </tr>\n",
       "    <tr>\n",
       "      <th>Connectivity for Routing</th>\n",
       "      <td>1.118775</td>\n",
       "      <td>2</td>\n",
       "    </tr>\n",
       "    <tr>\n",
       "      <th>Neighborhood Greenway</th>\n",
       "      <td>11.275521</td>\n",
       "      <td>16</td>\n",
       "    </tr>\n",
       "    <tr>\n",
       "      <th>Paved Shoulder</th>\n",
       "      <td>2.338563</td>\n",
       "      <td>3</td>\n",
       "    </tr>\n",
       "    <tr>\n",
       "      <th>Pedestrian and Bicycle Access Way</th>\n",
       "      <td>7.405976</td>\n",
       "      <td>4</td>\n",
       "    </tr>\n",
       "    <tr>\n",
       "      <th>Shared Use Path</th>\n",
       "      <td>13.347511</td>\n",
       "      <td>50</td>\n",
       "    </tr>\n",
       "  </tbody>\n",
       "</table>\n",
       "</div>"
      ],
      "text/plain": [
       "                                         BPH  Locatin\n",
       "type                                                 \n",
       "Bike Lane                           9.067334       75\n",
       "Bike Route                          8.540776       28\n",
       "Connectivity for Routing            1.118775        2\n",
       "Neighborhood Greenway              11.275521       16\n",
       "Paved Shoulder                      2.338563        3\n",
       "Pedestrian and Bicycle Access Way   7.405976        4\n",
       "Shared Use Path                    13.347511       50"
      ]
     },
     "execution_count": 145,
     "metadata": {},
     "output_type": "execute_result"
    }
   ],
   "source": [
    "bph_type"
   ]
  },
  {
   "cell_type": "code",
   "execution_count": 146,
   "id": "9e6d2238",
   "metadata": {},
   "outputs": [],
   "source": [
    "def get_df(dat=bph_type):\n",
    "    data = {'name':dat.index.values,'bph':dat.BPH.values, 'loct':dat.Locatin.values}\n",
    "    df = pd.DataFrame(data)\n",
    "    df = df.sort_values(by=['bph'], ignore_index=True)\n",
    "    return df"
   ]
  },
  {
   "cell_type": "code",
   "execution_count": 83,
   "id": "d408ded3",
   "metadata": {},
   "outputs": [],
   "source": [
    "outpath = r\"T:\\DCProjects\\StoryMap\\BikeCounting\\figures\""
   ]
  },
  {
   "cell_type": "code",
   "execution_count": 149,
   "id": "68add61a",
   "metadata": {},
   "outputs": [],
   "source": [
    "def plot_bph(dat=bph_type, x = np.array(range(0,7)), axis_range=[0, 9, 0, 14], outname=\"bph_facility_type\"):\n",
    "    df = get_df(dat=dat)\n",
    "    fig, ax = plt.subplots(figsize=(12,8))\n",
    "    plt.xticks(x, \"\")\n",
    "    plt.plot(x, df.bph, linewidth=3)\n",
    "    right_side = ax.spines[\"right\"]\n",
    "    right_side.set_visible(False)\n",
    "    #top_side = ax.spines[\"top\"]\n",
    "    #top_side.set_visible(False)\n",
    "    plt.tick_params(axis='x', which='both', bottom=False, top=False, labelbottom=False) \n",
    "    plt.tick_params(axis='y', labelsize=16)\n",
    "    for index in range(len(x)):\n",
    "        ax.text(x[index], df.bph[index], df.name[index] + \", \" + str(round(df.bph[index], 2)) + \" (\" + str(df.loct[index]) + \")\", size=16)\n",
    "    plt.axis(axis_range)\n",
    "    plt.ylabel(\"Average Bikes Per Hour\", size=16)\n",
    "    plt.savefig(os.path.join(outpath, outname+\".png\"))"
   ]
  },
  {
   "cell_type": "code",
   "execution_count": 150,
   "id": "e08bacb2",
   "metadata": {},
   "outputs": [
    {
     "data": {
      "image/png": "[encoded data removed]",
      "text/plain": [
       "<Figure size 864x576 with 1 Axes>"
      ]
     },
     "metadata": {
      "needs_background": "light"
     },
     "output_type": "display_data"
    }
   ],
   "source": [
    "plot_bph()"
   ]
  },
  {
   "cell_type": "code",
   "execution_count": 159,
   "id": "a4988508",
   "metadata": {},
   "outputs": [],
   "source": [
    "bph_lane = sj_lane[['BPH', 'Locatin', 'lane_type']].groupby('lane_type').agg({\"BPH\": np.mean, \"Locatin\": pd.Series.nunique})"
   ]
  },
  {
   "cell_type": "code",
   "execution_count": 160,
   "id": "7c5b733b",
   "metadata": {},
   "outputs": [
    {
     "data": {
      "image/png": "[encoded data removed]",
      "text/plain": [
       "<Figure size 864x576 with 1 Axes>"
      ]
     },
     "metadata": {
      "needs_background": "light"
     },
     "output_type": "display_data"
    }
   ],
   "source": [
    "plot_bph(dat=bph_lane, x = np.array(range(0,3)), axis_range=[0, 3, 5, 19], outname=\"bph_lane_type\")"
   ]
  }
 ],
 "metadata": {
  "kernelspec": {
   "display_name": "Python 3",
   "language": "python",
   "name": "python3"
  },
  "language_info": {
   "codemirror_mode": {
    "name": "ipython",
    "version": 3
   },
   "file_extension": ".py",
   "mimetype": "text/x-python",
   "name": "python",
   "nbconvert_exporter": "python",
   "pygments_lexer": "ipython3",
   "version": "3.8.8"
  }
 },
 "nbformat": 4,
 "nbformat_minor": 5
}
