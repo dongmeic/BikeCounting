{
 "cells": [
  {
   "cell_type": "code",
   "execution_count": 1,
   "id": "df903dd7",
   "metadata": {},
   "outputs": [],
   "source": [
    "import sys\n",
    "# insert at 1, 0 is the script path (or '' in REPL)\n",
    "sys.path.insert(1, 'C:\\\\Users\\\\clid1852\\\\.0GitHub\\\\BikeCounting\\\\BikeMap')\n",
    "import ReviewData as RD\n",
    "import pandas as pd\n",
    "import geopandas as gpd\n",
    "import pygeos\n",
    "import matplotlib.pyplot as plt\n",
    "import numpy as np\n",
    "import os"
   ]
  },
  {
   "cell_type": "code",
   "execution_count": 2,
   "id": "dde46fdd",
   "metadata": {},
   "outputs": [],
   "source": [
    "bikeFacilities = RD.readBikeFacility(add=False)"
   ]
  },
  {
   "cell_type": "code",
   "execution_count": 3,
   "id": "85c84063",
   "metadata": {},
   "outputs": [
    {
     "data": {
      "text/plain": [
       "Index(['name', 'type', 'lane_type', 'source', 'geom'], dtype='object')"
      ]
     },
     "execution_count": 3,
     "metadata": {},
     "output_type": "execute_result"
    }
   ],
   "source": [
    "bikeFacilities.columns"
   ]
  },
  {
   "cell_type": "code",
   "execution_count": 4,
   "id": "3868ddf3",
   "metadata": {},
   "outputs": [],
   "source": [
    "bph = gpd.read_file(r\"T:\\MPO\\Bike&Ped\\BikeCounting\\StoryMap\\BikeCounts\\Output\\BPH_by_Year.shp\")"
   ]
  },
  {
   "cell_type": "code",
   "execution_count": 5,
   "id": "24ff2cb6",
   "metadata": {},
   "outputs": [],
   "source": [
    "bph = bph.to_crs(epsg=3857)"
   ]
  },
  {
   "cell_type": "code",
   "execution_count": 6,
   "id": "c2249e92",
   "metadata": {},
   "outputs": [],
   "source": [
    "gpd.options.use_pygeos = True"
   ]
  },
  {
   "cell_type": "code",
   "execution_count": 7,
   "id": "fbc05a58",
   "metadata": {
    "scrolled": true
   },
   "outputs": [],
   "source": [
    "spatial_join = gpd.sjoin_nearest(bph, bikeFacilities, distance_col=\"distances\")"
   ]
  },
  {
   "cell_type": "code",
   "execution_count": 8,
   "id": "c6f5f0a7",
   "metadata": {},
   "outputs": [
    {
     "data": {
      "text/html": [
       "<div>\n",
       "<style scoped>\n",
       "    .dataframe tbody tr th:only-of-type {\n",
       "        vertical-align: middle;\n",
       "    }\n",
       "\n",
       "    .dataframe tbody tr th {\n",
       "        vertical-align: top;\n",
       "    }\n",
       "\n",
       "    .dataframe thead th {\n",
       "        text-align: right;\n",
       "    }\n",
       "</style>\n",
       "<table border=\"1\" class=\"dataframe\">\n",
       "  <thead>\n",
       "    <tr style=\"text-align: right;\">\n",
       "      <th></th>\n",
       "      <th>Locatin</th>\n",
       "      <th>Year</th>\n",
       "      <th>BPH</th>\n",
       "      <th>Latitud</th>\n",
       "      <th>Longitd</th>\n",
       "      <th>Site_Nm</th>\n",
       "      <th>DblCntL</th>\n",
       "      <th>IsOnewy</th>\n",
       "      <th>OnwyDrc</th>\n",
       "      <th>IsSdwlk</th>\n",
       "      <th>Growth</th>\n",
       "      <th>Nyrs</th>\n",
       "      <th>City</th>\n",
       "      <th>geometry</th>\n",
       "      <th>index_right</th>\n",
       "      <th>name</th>\n",
       "      <th>type</th>\n",
       "      <th>lane_type</th>\n",
       "      <th>source</th>\n",
       "      <th>distances</th>\n",
       "    </tr>\n",
       "  </thead>\n",
       "  <tbody>\n",
       "    <tr>\n",
       "      <th>0</th>\n",
       "      <td>S32ndAccessPath</td>\n",
       "      <td>2016</td>\n",
       "      <td>0.147321</td>\n",
       "      <td>44.037466</td>\n",
       "      <td>-122.980292</td>\n",
       "      <td>Access Path between S 32nd Pl &amp; S 32nd St</td>\n",
       "      <td>0</td>\n",
       "      <td>0</td>\n",
       "      <td>None</td>\n",
       "      <td>0</td>\n",
       "      <td>NaN</td>\n",
       "      <td>2 (2016, 2019)</td>\n",
       "      <td>Springfield</td>\n",
       "      <td>POINT (-13690103.439 5471242.027)</td>\n",
       "      <td>147</td>\n",
       "      <td>None</td>\n",
       "      <td>Bike Lane</td>\n",
       "      <td>None</td>\n",
       "      <td>LCOG</td>\n",
       "      <td>50.989781</td>\n",
       "    </tr>\n",
       "    <tr>\n",
       "      <th>1</th>\n",
       "      <td>S32ndAccessPath</td>\n",
       "      <td>2019</td>\n",
       "      <td>0.164957</td>\n",
       "      <td>44.037466</td>\n",
       "      <td>-122.980292</td>\n",
       "      <td>Access Path between S 32nd Pl &amp; S 32nd St</td>\n",
       "      <td>0</td>\n",
       "      <td>0</td>\n",
       "      <td>None</td>\n",
       "      <td>0</td>\n",
       "      <td>0.039903</td>\n",
       "      <td>2 (2016, 2019)</td>\n",
       "      <td>Springfield</td>\n",
       "      <td>POINT (-13690103.439 5471242.027)</td>\n",
       "      <td>147</td>\n",
       "      <td>None</td>\n",
       "      <td>Bike Lane</td>\n",
       "      <td>None</td>\n",
       "      <td>LCOG</td>\n",
       "      <td>50.989781</td>\n",
       "    </tr>\n",
       "    <tr>\n",
       "      <th>2</th>\n",
       "      <td>YolandaEast23rd</td>\n",
       "      <td>2019</td>\n",
       "      <td>0.254958</td>\n",
       "      <td>44.072392</td>\n",
       "      <td>-122.990277</td>\n",
       "      <td>Yolanda Ave East of 23rd St</td>\n",
       "      <td>0</td>\n",
       "      <td>0</td>\n",
       "      <td>None</td>\n",
       "      <td>0</td>\n",
       "      <td>NaN</td>\n",
       "      <td>1 (2019)</td>\n",
       "      <td>Springfield</td>\n",
       "      <td>POINT (-13691215.053 5476651.807)</td>\n",
       "      <td>736</td>\n",
       "      <td>None</td>\n",
       "      <td>Bike Lane</td>\n",
       "      <td>None</td>\n",
       "      <td>LCOG</td>\n",
       "      <td>0.127209</td>\n",
       "    </tr>\n",
       "    <tr>\n",
       "      <th>3</th>\n",
       "      <td>WillametteSouth24thWestSidewalk</td>\n",
       "      <td>2017</td>\n",
       "      <td>0.338196</td>\n",
       "      <td>44.032808</td>\n",
       "      <td>-123.090711</td>\n",
       "      <td>Willamette St West Sidewalk South of 24th Pl</td>\n",
       "      <td>0</td>\n",
       "      <td>0</td>\n",
       "      <td>None</td>\n",
       "      <td>1</td>\n",
       "      <td>-0.781410</td>\n",
       "      <td>4 (2014, 2015, 2016, 2017)</td>\n",
       "      <td>Eugene</td>\n",
       "      <td>POINT (-13702395.281 5470520.739)</td>\n",
       "      <td>2782</td>\n",
       "      <td>None</td>\n",
       "      <td>Bike Lane</td>\n",
       "      <td>None</td>\n",
       "      <td>EUG</td>\n",
       "      <td>6.638764</td>\n",
       "    </tr>\n",
       "    <tr>\n",
       "      <th>73</th>\n",
       "      <td>WillametteSouth24thWestSidewalk</td>\n",
       "      <td>2016</td>\n",
       "      <td>1.547170</td>\n",
       "      <td>44.032808</td>\n",
       "      <td>-123.090711</td>\n",
       "      <td>Willamette St West Sidewalk South of 24th Pl</td>\n",
       "      <td>0</td>\n",
       "      <td>0</td>\n",
       "      <td>None</td>\n",
       "      <td>1</td>\n",
       "      <td>-0.645038</td>\n",
       "      <td>4 (2014, 2015, 2016, 2017)</td>\n",
       "      <td>Eugene</td>\n",
       "      <td>POINT (-13702395.281 5470520.739)</td>\n",
       "      <td>2782</td>\n",
       "      <td>None</td>\n",
       "      <td>Bike Lane</td>\n",
       "      <td>None</td>\n",
       "      <td>EUG</td>\n",
       "      <td>6.638764</td>\n",
       "    </tr>\n",
       "  </tbody>\n",
       "</table>\n",
       "</div>"
      ],
      "text/plain": [
       "                            Locatin  Year       BPH    Latitud     Longitd  \\\n",
       "0                   S32ndAccessPath  2016  0.147321  44.037466 -122.980292   \n",
       "1                   S32ndAccessPath  2019  0.164957  44.037466 -122.980292   \n",
       "2                   YolandaEast23rd  2019  0.254958  44.072392 -122.990277   \n",
       "3   WillametteSouth24thWestSidewalk  2017  0.338196  44.032808 -123.090711   \n",
       "73  WillametteSouth24thWestSidewalk  2016  1.547170  44.032808 -123.090711   \n",
       "\n",
       "                                         Site_Nm  DblCntL  IsOnewy OnwyDrc  \\\n",
       "0      Access Path between S 32nd Pl & S 32nd St        0        0    None   \n",
       "1      Access Path between S 32nd Pl & S 32nd St        0        0    None   \n",
       "2                    Yolanda Ave East of 23rd St        0        0    None   \n",
       "3   Willamette St West Sidewalk South of 24th Pl        0        0    None   \n",
       "73  Willamette St West Sidewalk South of 24th Pl        0        0    None   \n",
       "\n",
       "    IsSdwlk    Growth                        Nyrs         City  \\\n",
       "0         0       NaN              2 (2016, 2019)  Springfield   \n",
       "1         0  0.039903              2 (2016, 2019)  Springfield   \n",
       "2         0       NaN                    1 (2019)  Springfield   \n",
       "3         1 -0.781410  4 (2014, 2015, 2016, 2017)       Eugene   \n",
       "73        1 -0.645038  4 (2014, 2015, 2016, 2017)       Eugene   \n",
       "\n",
       "                             geometry  index_right  name       type lane_type  \\\n",
       "0   POINT (-13690103.439 5471242.027)          147  None  Bike Lane      None   \n",
       "1   POINT (-13690103.439 5471242.027)          147  None  Bike Lane      None   \n",
       "2   POINT (-13691215.053 5476651.807)          736  None  Bike Lane      None   \n",
       "3   POINT (-13702395.281 5470520.739)         2782  None  Bike Lane      None   \n",
       "73  POINT (-13702395.281 5470520.739)         2782  None  Bike Lane      None   \n",
       "\n",
       "   source  distances  \n",
       "0    LCOG  50.989781  \n",
       "1    LCOG  50.989781  \n",
       "2    LCOG   0.127209  \n",
       "3     EUG   6.638764  \n",
       "73    EUG   6.638764  "
      ]
     },
     "execution_count": 8,
     "metadata": {},
     "output_type": "execute_result"
    }
   ],
   "source": [
    "spatial_join.head()"
   ]
  },
  {
   "cell_type": "code",
   "execution_count": 9,
   "id": "b623bee6",
   "metadata": {},
   "outputs": [
    {
     "data": {
      "text/plain": [
       "Index(['Locatin', 'Year', 'BPH', 'Latitud', 'Longitd', 'Site_Nm', 'DblCntL',\n",
       "       'IsOnewy', 'OnwyDrc', 'IsSdwlk', 'Growth', 'Nyrs', 'City', 'geometry',\n",
       "       'index_right', 'name', 'type', 'lane_type', 'source', 'distances'],\n",
       "      dtype='object')"
      ]
     },
     "execution_count": 9,
     "metadata": {},
     "output_type": "execute_result"
    }
   ],
   "source": [
    "spatial_join.columns"
   ]
  },
  {
   "cell_type": "code",
   "execution_count": 38,
   "id": "9c024910",
   "metadata": {},
   "outputs": [
    {
     "data": {
      "text/plain": [
       "array(['Bike Lane', 'Shared Use Path', 'Bike Route',\n",
       "       'Connectivity for Routing', 'Paved Shoulder',\n",
       "       'Pedestrian and Bicycle Access Way', 'Neighborhood Greenway'],\n",
       "      dtype=object)"
      ]
     },
     "execution_count": 38,
     "metadata": {},
     "output_type": "execute_result"
    }
   ],
   "source": [
    "spatial_join['type'].unique()"
   ]
  },
  {
   "cell_type": "code",
   "execution_count": 10,
   "id": "58f2bb0e",
   "metadata": {
    "scrolled": true
   },
   "outputs": [
    {
     "data": {
      "text/plain": [
       "2012"
      ]
     },
     "execution_count": 10,
     "metadata": {},
     "output_type": "execute_result"
    }
   ],
   "source": [
    "spatial_join.Year.min()"
   ]
  },
  {
   "cell_type": "code",
   "execution_count": 11,
   "id": "3063a4ec",
   "metadata": {},
   "outputs": [
    {
     "data": {
      "text/plain": [
       "2022"
      ]
     },
     "execution_count": 11,
     "metadata": {},
     "output_type": "execute_result"
    }
   ],
   "source": [
    "spatial_join.Year.max()"
   ]
  },
  {
   "cell_type": "code",
   "execution_count": 12,
   "id": "32438a36",
   "metadata": {},
   "outputs": [
    {
     "data": {
      "text/plain": [
       "geopandas.geodataframe.GeoDataFrame"
      ]
     },
     "execution_count": 12,
     "metadata": {},
     "output_type": "execute_result"
    }
   ],
   "source": [
    "type(spatial_join)"
   ]
  },
  {
   "cell_type": "code",
   "execution_count": 13,
   "id": "13f39a9f",
   "metadata": {},
   "outputs": [
    {
     "name": "stdout",
     "output_type": "stream",
     "text": [
      "epsg:3857\n"
     ]
    }
   ],
   "source": [
    "print(spatial_join.crs)"
   ]
  },
  {
   "cell_type": "code",
   "execution_count": 14,
   "id": "b8458d42",
   "metadata": {},
   "outputs": [
    {
     "data": {
      "text/plain": [
       "count     810.000000\n",
       "mean       79.546922\n",
       "std       454.586139\n",
       "min         0.041764\n",
       "25%         0.997356\n",
       "50%         1.647275\n",
       "75%         6.267052\n",
       "max      3899.681505\n",
       "Name: distances, dtype: float64"
      ]
     },
     "execution_count": 14,
     "metadata": {},
     "output_type": "execute_result"
    }
   ],
   "source": [
    "spatial_join.distances.describe()"
   ]
  },
  {
   "cell_type": "code",
   "execution_count": 15,
   "id": "59f63c90",
   "metadata": {},
   "outputs": [
    {
     "data": {
      "text/plain": [
       "<AxesSubplot:>"
      ]
     },
     "execution_count": 15,
     "metadata": {},
     "output_type": "execute_result"
    },
    {
     "data": {
      "image/png": "[encoded data removed]",
      "text/plain": [
       "<Figure size 432x288 with 1 Axes>"
      ]
     },
     "metadata": {
      "needs_background": "light"
     },
     "output_type": "display_data"
    }
   ],
   "source": [
    "spatial_join.distances.hist()"
   ]
  },
  {
   "cell_type": "code",
   "execution_count": 16,
   "id": "dabc50d1",
   "metadata": {},
   "outputs": [
    {
     "data": {
      "text/html": [
       "<div>\n",
       "<style scoped>\n",
       "    .dataframe tbody tr th:only-of-type {\n",
       "        vertical-align: middle;\n",
       "    }\n",
       "\n",
       "    .dataframe tbody tr th {\n",
       "        vertical-align: top;\n",
       "    }\n",
       "\n",
       "    .dataframe thead th {\n",
       "        text-align: right;\n",
       "    }\n",
       "</style>\n",
       "<table border=\"1\" class=\"dataframe\">\n",
       "  <thead>\n",
       "    <tr style=\"text-align: right;\">\n",
       "      <th></th>\n",
       "      <th>BPH</th>\n",
       "    </tr>\n",
       "    <tr>\n",
       "      <th>type</th>\n",
       "      <th></th>\n",
       "    </tr>\n",
       "  </thead>\n",
       "  <tbody>\n",
       "    <tr>\n",
       "      <th>Bike Lane</th>\n",
       "      <td>9.735967</td>\n",
       "    </tr>\n",
       "    <tr>\n",
       "      <th>Bike Route</th>\n",
       "      <td>9.467700</td>\n",
       "    </tr>\n",
       "    <tr>\n",
       "      <th>Neighborhood Greenway</th>\n",
       "      <td>11.223102</td>\n",
       "    </tr>\n",
       "    <tr>\n",
       "      <th>Pedestrian and Bicycle Access Way</th>\n",
       "      <td>9.571446</td>\n",
       "    </tr>\n",
       "    <tr>\n",
       "      <th>Shared Use Path</th>\n",
       "      <td>13.557319</td>\n",
       "    </tr>\n",
       "  </tbody>\n",
       "</table>\n",
       "</div>"
      ],
      "text/plain": [
       "                                         BPH\n",
       "type                                        \n",
       "Bike Lane                           9.735967\n",
       "Bike Route                          9.467700\n",
       "Neighborhood Greenway              11.223102\n",
       "Pedestrian and Bicycle Access Way   9.571446\n",
       "Shared Use Path                    13.557319"
      ]
     },
     "execution_count": 16,
     "metadata": {},
     "output_type": "execute_result"
    }
   ],
   "source": [
    "spatial_join[spatial_join.distances <= 10][['BPH', 'type']].groupby('type').agg('mean')"
   ]
  },
  {
   "cell_type": "code",
   "execution_count": 17,
   "id": "a7932292",
   "metadata": {},
   "outputs": [
    {
     "data": {
      "text/html": [
       "<div>\n",
       "<style scoped>\n",
       "    .dataframe tbody tr th:only-of-type {\n",
       "        vertical-align: middle;\n",
       "    }\n",
       "\n",
       "    .dataframe tbody tr th {\n",
       "        vertical-align: top;\n",
       "    }\n",
       "\n",
       "    .dataframe thead th {\n",
       "        text-align: right;\n",
       "    }\n",
       "</style>\n",
       "<table border=\"1\" class=\"dataframe\">\n",
       "  <thead>\n",
       "    <tr style=\"text-align: right;\">\n",
       "      <th></th>\n",
       "      <th>BPH</th>\n",
       "    </tr>\n",
       "    <tr>\n",
       "      <th>type</th>\n",
       "      <th></th>\n",
       "    </tr>\n",
       "  </thead>\n",
       "  <tbody>\n",
       "    <tr>\n",
       "      <th>Bike Lane</th>\n",
       "      <td>5.718138</td>\n",
       "    </tr>\n",
       "    <tr>\n",
       "      <th>Bike Route</th>\n",
       "      <td>2.983007</td>\n",
       "    </tr>\n",
       "    <tr>\n",
       "      <th>Connectivity for Routing</th>\n",
       "      <td>1.118775</td>\n",
       "    </tr>\n",
       "    <tr>\n",
       "      <th>Neighborhood Greenway</th>\n",
       "      <td>6.295846</td>\n",
       "    </tr>\n",
       "    <tr>\n",
       "      <th>Paved Shoulder</th>\n",
       "      <td>2.320472</td>\n",
       "    </tr>\n",
       "    <tr>\n",
       "      <th>Pedestrian and Bicycle Access Way</th>\n",
       "      <td>3.400949</td>\n",
       "    </tr>\n",
       "    <tr>\n",
       "      <th>Shared Use Path</th>\n",
       "      <td>3.956107</td>\n",
       "    </tr>\n",
       "  </tbody>\n",
       "</table>\n",
       "</div>"
      ],
      "text/plain": [
       "                                        BPH\n",
       "type                                       \n",
       "Bike Lane                          5.718138\n",
       "Bike Route                         2.983007\n",
       "Connectivity for Routing           1.118775\n",
       "Neighborhood Greenway              6.295846\n",
       "Paved Shoulder                     2.320472\n",
       "Pedestrian and Bicycle Access Way  3.400949\n",
       "Shared Use Path                    3.956107"
      ]
     },
     "execution_count": 17,
     "metadata": {},
     "output_type": "execute_result"
    }
   ],
   "source": [
    "spatial_join[spatial_join.distances > 10][['BPH', 'type']].groupby('type').agg('mean')"
   ]
  },
  {
   "cell_type": "code",
   "execution_count": 18,
   "id": "b694ee0b",
   "metadata": {},
   "outputs": [
    {
     "data": {
      "text/html": [
       "<div>\n",
       "<style scoped>\n",
       "    .dataframe tbody tr th:only-of-type {\n",
       "        vertical-align: middle;\n",
       "    }\n",
       "\n",
       "    .dataframe tbody tr th {\n",
       "        vertical-align: top;\n",
       "    }\n",
       "\n",
       "    .dataframe thead th {\n",
       "        text-align: right;\n",
       "    }\n",
       "</style>\n",
       "<table border=\"1\" class=\"dataframe\">\n",
       "  <thead>\n",
       "    <tr style=\"text-align: right;\">\n",
       "      <th></th>\n",
       "      <th>BPH</th>\n",
       "      <th>Locatin</th>\n",
       "    </tr>\n",
       "    <tr>\n",
       "      <th>type</th>\n",
       "      <th></th>\n",
       "      <th></th>\n",
       "    </tr>\n",
       "  </thead>\n",
       "  <tbody>\n",
       "    <tr>\n",
       "      <th>Bike Lane</th>\n",
       "      <td>9.308263</td>\n",
       "      <td>81</td>\n",
       "    </tr>\n",
       "    <tr>\n",
       "      <th>Bike Route</th>\n",
       "      <td>8.038004</td>\n",
       "      <td>29</td>\n",
       "    </tr>\n",
       "    <tr>\n",
       "      <th>Connectivity for Routing</th>\n",
       "      <td>1.118775</td>\n",
       "      <td>2</td>\n",
       "    </tr>\n",
       "    <tr>\n",
       "      <th>Neighborhood Greenway</th>\n",
       "      <td>10.445114</td>\n",
       "      <td>14</td>\n",
       "    </tr>\n",
       "    <tr>\n",
       "      <th>Paved Shoulder</th>\n",
       "      <td>2.320472</td>\n",
       "      <td>3</td>\n",
       "    </tr>\n",
       "    <tr>\n",
       "      <th>Pedestrian and Bicycle Access Way</th>\n",
       "      <td>7.103247</td>\n",
       "      <td>4</td>\n",
       "    </tr>\n",
       "    <tr>\n",
       "      <th>Shared Use Path</th>\n",
       "      <td>12.818765</td>\n",
       "      <td>50</td>\n",
       "    </tr>\n",
       "  </tbody>\n",
       "</table>\n",
       "</div>"
      ],
      "text/plain": [
       "                                         BPH  Locatin\n",
       "type                                                 \n",
       "Bike Lane                           9.308263       81\n",
       "Bike Route                          8.038004       29\n",
       "Connectivity for Routing            1.118775        2\n",
       "Neighborhood Greenway              10.445114       14\n",
       "Paved Shoulder                      2.320472        3\n",
       "Pedestrian and Bicycle Access Way   7.103247        4\n",
       "Shared Use Path                    12.818765       50"
      ]
     },
     "execution_count": 18,
     "metadata": {},
     "output_type": "execute_result"
    }
   ],
   "source": [
    "spatial_join[['BPH', 'Locatin', 'type']].groupby('type').agg({\"BPH\": np.mean, \"Locatin\": pd.Series.nunique})"
   ]
  },
  {
   "cell_type": "code",
   "execution_count": 19,
   "id": "4d9b93c1",
   "metadata": {},
   "outputs": [
    {
     "data": {
      "text/plain": [
       "Index(['Locatin', 'Year', 'BPH', 'Latitud', 'Longitd', 'Site_Nm', 'DblCntL',\n",
       "       'IsOnewy', 'OnwyDrc', 'IsSdwlk', 'Growth', 'Nyrs', 'City', 'geometry',\n",
       "       'index_right', 'name', 'type', 'lane_type', 'source', 'distances'],\n",
       "      dtype='object')"
      ]
     },
     "execution_count": 19,
     "metadata": {},
     "output_type": "execute_result"
    }
   ],
   "source": [
    "spatial_join.columns"
   ]
  },
  {
   "cell_type": "code",
   "execution_count": 21,
   "id": "05190a7e",
   "metadata": {},
   "outputs": [
    {
     "data": {
      "text/plain": [
       "array([None, 'Protected Bikeway', 'Shared Lane Marking',\n",
       "       'Buffered Bike Lane'], dtype=object)"
      ]
     },
     "execution_count": 21,
     "metadata": {},
     "output_type": "execute_result"
    }
   ],
   "source": [
    "spatial_join.lane_type.unique()"
   ]
  },
  {
   "cell_type": "code",
   "execution_count": 22,
   "id": "3c6b4cd4",
   "metadata": {},
   "outputs": [
    {
     "data": {
      "text/html": [
       "<div>\n",
       "<style scoped>\n",
       "    .dataframe tbody tr th:only-of-type {\n",
       "        vertical-align: middle;\n",
       "    }\n",
       "\n",
       "    .dataframe tbody tr th {\n",
       "        vertical-align: top;\n",
       "    }\n",
       "\n",
       "    .dataframe thead th {\n",
       "        text-align: right;\n",
       "    }\n",
       "</style>\n",
       "<table border=\"1\" class=\"dataframe\">\n",
       "  <thead>\n",
       "    <tr style=\"text-align: right;\">\n",
       "      <th></th>\n",
       "      <th>BPH</th>\n",
       "    </tr>\n",
       "    <tr>\n",
       "      <th>lane_type</th>\n",
       "      <th></th>\n",
       "    </tr>\n",
       "  </thead>\n",
       "  <tbody>\n",
       "    <tr>\n",
       "      <th>Buffered Bike Lane</th>\n",
       "      <td>14.048335</td>\n",
       "    </tr>\n",
       "    <tr>\n",
       "      <th>Protected Bikeway</th>\n",
       "      <td>18.868210</td>\n",
       "    </tr>\n",
       "  </tbody>\n",
       "</table>\n",
       "</div>"
      ],
      "text/plain": [
       "                          BPH\n",
       "lane_type                    \n",
       "Buffered Bike Lane  14.048335\n",
       "Protected Bikeway   18.868210"
      ]
     },
     "execution_count": 22,
     "metadata": {},
     "output_type": "execute_result"
    }
   ],
   "source": [
    "spatial_join[(spatial_join.distances <= 10) & (spatial_join['type'] == 'Bike Lane')][['BPH', 'lane_type']].groupby('lane_type').agg('mean')"
   ]
  },
  {
   "cell_type": "code",
   "execution_count": 23,
   "id": "db39d9b5",
   "metadata": {
    "scrolled": true
   },
   "outputs": [
    {
     "data": {
      "text/html": [
       "<div>\n",
       "<style scoped>\n",
       "    .dataframe tbody tr th:only-of-type {\n",
       "        vertical-align: middle;\n",
       "    }\n",
       "\n",
       "    .dataframe tbody tr th {\n",
       "        vertical-align: top;\n",
       "    }\n",
       "\n",
       "    .dataframe thead th {\n",
       "        text-align: right;\n",
       "    }\n",
       "</style>\n",
       "<table border=\"1\" class=\"dataframe\">\n",
       "  <thead>\n",
       "    <tr style=\"text-align: right;\">\n",
       "      <th></th>\n",
       "      <th>BPH</th>\n",
       "    </tr>\n",
       "    <tr>\n",
       "      <th>lane_type</th>\n",
       "      <th></th>\n",
       "    </tr>\n",
       "  </thead>\n",
       "  <tbody>\n",
       "    <tr>\n",
       "      <th>Buffered Bike Lane</th>\n",
       "      <td>14.048335</td>\n",
       "    </tr>\n",
       "    <tr>\n",
       "      <th>Protected Bikeway</th>\n",
       "      <td>18.868210</td>\n",
       "    </tr>\n",
       "    <tr>\n",
       "      <th>Shared Lane Marking</th>\n",
       "      <td>1.528278</td>\n",
       "    </tr>\n",
       "  </tbody>\n",
       "</table>\n",
       "</div>"
      ],
      "text/plain": [
       "                           BPH\n",
       "lane_type                     \n",
       "Buffered Bike Lane   14.048335\n",
       "Protected Bikeway    18.868210\n",
       "Shared Lane Marking   1.528278"
      ]
     },
     "execution_count": 23,
     "metadata": {},
     "output_type": "execute_result"
    }
   ],
   "source": [
    "spatial_join[(spatial_join.distances <= 10)][['BPH', 'lane_type']].groupby('lane_type').agg('mean')"
   ]
  },
  {
   "cell_type": "code",
   "execution_count": 24,
   "id": "266cf1d2",
   "metadata": {},
   "outputs": [
    {
     "data": {
      "text/html": [
       "<div>\n",
       "<style scoped>\n",
       "    .dataframe tbody tr th:only-of-type {\n",
       "        vertical-align: middle;\n",
       "    }\n",
       "\n",
       "    .dataframe tbody tr th {\n",
       "        vertical-align: top;\n",
       "    }\n",
       "\n",
       "    .dataframe thead th {\n",
       "        text-align: right;\n",
       "    }\n",
       "</style>\n",
       "<table border=\"1\" class=\"dataframe\">\n",
       "  <thead>\n",
       "    <tr style=\"text-align: right;\">\n",
       "      <th></th>\n",
       "      <th>BPH</th>\n",
       "    </tr>\n",
       "    <tr>\n",
       "      <th>lane_type</th>\n",
       "      <th></th>\n",
       "    </tr>\n",
       "  </thead>\n",
       "  <tbody>\n",
       "    <tr>\n",
       "      <th>Buffered Bike Lane</th>\n",
       "      <td>14.048335</td>\n",
       "    </tr>\n",
       "    <tr>\n",
       "      <th>Protected Bikeway</th>\n",
       "      <td>18.868210</td>\n",
       "    </tr>\n",
       "    <tr>\n",
       "      <th>Shared Lane Marking</th>\n",
       "      <td>1.528278</td>\n",
       "    </tr>\n",
       "  </tbody>\n",
       "</table>\n",
       "</div>"
      ],
      "text/plain": [
       "                           BPH\n",
       "lane_type                     \n",
       "Buffered Bike Lane   14.048335\n",
       "Protected Bikeway    18.868210\n",
       "Shared Lane Marking   1.528278"
      ]
     },
     "execution_count": 24,
     "metadata": {},
     "output_type": "execute_result"
    }
   ],
   "source": [
    "spatial_join[['BPH', 'lane_type']].groupby('lane_type').agg('mean')"
   ]
  },
  {
   "cell_type": "code",
   "execution_count": 25,
   "id": "7c281d0f",
   "metadata": {},
   "outputs": [],
   "source": [
    "spatial_join_n = spatial_join[spatial_join.distances <= 10]"
   ]
  },
  {
   "cell_type": "code",
   "execution_count": 26,
   "id": "4f84bc43",
   "metadata": {},
   "outputs": [],
   "source": [
    "sj_lane = spatial_join_n[spatial_join_n['type'] == 'Bike Lane'][['BPH', 'lane_type', 'Locatin']]"
   ]
  },
  {
   "cell_type": "code",
   "execution_count": 27,
   "id": "288f4f57",
   "metadata": {},
   "outputs": [],
   "source": [
    "#sj_lane[sj_lane.lane_type.isnull()]\n",
    "sj_lane.fillna(\"Bike Lane\",inplace=True)"
   ]
  },
  {
   "cell_type": "code",
   "execution_count": 28,
   "id": "390106d5",
   "metadata": {},
   "outputs": [
    {
     "data": {
      "text/html": [
       "<div>\n",
       "<style scoped>\n",
       "    .dataframe tbody tr th:only-of-type {\n",
       "        vertical-align: middle;\n",
       "    }\n",
       "\n",
       "    .dataframe tbody tr th {\n",
       "        vertical-align: top;\n",
       "    }\n",
       "\n",
       "    .dataframe thead th {\n",
       "        text-align: right;\n",
       "    }\n",
       "</style>\n",
       "<table border=\"1\" class=\"dataframe\">\n",
       "  <thead>\n",
       "    <tr style=\"text-align: right;\">\n",
       "      <th></th>\n",
       "      <th>BPH</th>\n",
       "    </tr>\n",
       "    <tr>\n",
       "      <th>lane_type</th>\n",
       "      <th></th>\n",
       "    </tr>\n",
       "  </thead>\n",
       "  <tbody>\n",
       "    <tr>\n",
       "      <th>Bike Lane</th>\n",
       "      <td>8.000488</td>\n",
       "    </tr>\n",
       "    <tr>\n",
       "      <th>Buffered Bike Lane</th>\n",
       "      <td>14.048335</td>\n",
       "    </tr>\n",
       "    <tr>\n",
       "      <th>Protected Bikeway</th>\n",
       "      <td>18.868210</td>\n",
       "    </tr>\n",
       "  </tbody>\n",
       "</table>\n",
       "</div>"
      ],
      "text/plain": [
       "                          BPH\n",
       "lane_type                    \n",
       "Bike Lane            8.000488\n",
       "Buffered Bike Lane  14.048335\n",
       "Protected Bikeway   18.868210"
      ]
     },
     "execution_count": 28,
     "metadata": {},
     "output_type": "execute_result"
    }
   ],
   "source": [
    "sj_lane.groupby('lane_type').agg('mean')"
   ]
  },
  {
   "cell_type": "code",
   "execution_count": 39,
   "id": "ce1c5aa3",
   "metadata": {},
   "outputs": [],
   "source": [
    "bph_type_1 = spatial_join_n[['BPH', 'Locatin', 'type']].groupby('type').agg({\"BPH\": np.mean, \"Locatin\": pd.Series.nunique})"
   ]
  },
  {
   "cell_type": "code",
   "execution_count": 40,
   "id": "b8ac06f9",
   "metadata": {},
   "outputs": [
    {
     "data": {
      "text/html": [
       "<div>\n",
       "<style scoped>\n",
       "    .dataframe tbody tr th:only-of-type {\n",
       "        vertical-align: middle;\n",
       "    }\n",
       "\n",
       "    .dataframe tbody tr th {\n",
       "        vertical-align: top;\n",
       "    }\n",
       "\n",
       "    .dataframe thead th {\n",
       "        text-align: right;\n",
       "    }\n",
       "</style>\n",
       "<table border=\"1\" class=\"dataframe\">\n",
       "  <thead>\n",
       "    <tr style=\"text-align: right;\">\n",
       "      <th></th>\n",
       "      <th>BPH</th>\n",
       "      <th>Locatin</th>\n",
       "    </tr>\n",
       "    <tr>\n",
       "      <th>type</th>\n",
       "      <th></th>\n",
       "      <th></th>\n",
       "    </tr>\n",
       "  </thead>\n",
       "  <tbody>\n",
       "    <tr>\n",
       "      <th>Bike Lane</th>\n",
       "      <td>9.735967</td>\n",
       "      <td>69</td>\n",
       "    </tr>\n",
       "    <tr>\n",
       "      <th>Bike Route</th>\n",
       "      <td>9.467700</td>\n",
       "      <td>24</td>\n",
       "    </tr>\n",
       "    <tr>\n",
       "      <th>Neighborhood Greenway</th>\n",
       "      <td>11.223102</td>\n",
       "      <td>12</td>\n",
       "    </tr>\n",
       "    <tr>\n",
       "      <th>Pedestrian and Bicycle Access Way</th>\n",
       "      <td>9.571446</td>\n",
       "      <td>1</td>\n",
       "    </tr>\n",
       "    <tr>\n",
       "      <th>Shared Use Path</th>\n",
       "      <td>13.557319</td>\n",
       "      <td>45</td>\n",
       "    </tr>\n",
       "  </tbody>\n",
       "</table>\n",
       "</div>"
      ],
      "text/plain": [
       "                                         BPH  Locatin\n",
       "type                                                 \n",
       "Bike Lane                           9.735967       69\n",
       "Bike Route                          9.467700       24\n",
       "Neighborhood Greenway              11.223102       12\n",
       "Pedestrian and Bicycle Access Way   9.571446        1\n",
       "Shared Use Path                    13.557319       45"
      ]
     },
     "execution_count": 40,
     "metadata": {},
     "output_type": "execute_result"
    }
   ],
   "source": [
    "bph_type_1"
   ]
  },
  {
   "cell_type": "code",
   "execution_count": 31,
   "id": "9e6d2238",
   "metadata": {},
   "outputs": [],
   "source": [
    "def get_df(dat=bph_type):\n",
    "    data = {'name':dat.index.values,'bph':dat.BPH.values, 'loct':dat.Locatin.values}\n",
    "    df = pd.DataFrame(data)\n",
    "    df = df.sort_values(by=['bph'], ignore_index=True)\n",
    "    return df"
   ]
  },
  {
   "cell_type": "code",
   "execution_count": 32,
   "id": "d408ded3",
   "metadata": {},
   "outputs": [],
   "source": [
    "outpath = r\"T:\\MPO\\Bike&Ped\\BikeCounting\\StoryMap\\figures\""
   ]
  },
  {
   "cell_type": "code",
   "execution_count": 33,
   "id": "68add61a",
   "metadata": {},
   "outputs": [],
   "source": [
    "def plot_bph(dat=bph_type, x = np.array(range(0,5)), axis_range=[0, 6.5, 9, 14.5], \n",
    "             adjust_label = False, adj_p = 0, adj_d = 0.2,\n",
    "             outname=\"bph_facility_type\"):\n",
    "    df = get_df(dat=dat)\n",
    "    fig, ax = plt.subplots(figsize=(12,8))\n",
    "    plt.xticks(x, \"\")\n",
    "    plt.plot(x, df.bph, linewidth=4)\n",
    "    right_side = ax.spines[\"right\"]\n",
    "    right_side.set_visible(False)\n",
    "    #top_side = ax.spines[\"top\"]\n",
    "    #top_side.set_visible(False)\n",
    "    plt.tick_params(axis='x', which='both', bottom=False, top=False, labelbottom=False) \n",
    "    plt.tick_params(axis='y', labelsize=16)\n",
    "    for index in range(len(x)):\n",
    "        if adjust_label:\n",
    "            if index == adj_p:\n",
    "                ax.text(x[index], df.bph[index]-adj_d, df.name[index] + \", \" + str(round(df.bph[index], 2)) + \" (\" + str(df.loct[index]) + \")\", size=16)\n",
    "            else:\n",
    "                ax.text(x[index], df.bph[index], df.name[index] + \", \" + str(round(df.bph[index], 2)) + \" (\" + str(df.loct[index]) + \")\", size=16)\n",
    "        else:\n",
    "            ax.text(x[index], df.bph[index], df.name[index] + \", \" + str(round(df.bph[index], 2)) + \" (\" + str(df.loct[index]) + \")\", size=16)\n",
    "    plt.axis(axis_range)\n",
    "    plt.ylabel(\"Average Bikes Per Hour\", size=16)\n",
    "    plt.savefig(os.path.join(outpath, outname+\".png\"))"
   ]
  },
  {
   "cell_type": "code",
   "execution_count": 41,
   "id": "e08bacb2",
   "metadata": {},
   "outputs": [
    {
     "data": {
      "image/png": "[encoded data removed]",
      "text/plain": [
       "<Figure size 864x576 with 1 Axes>"
      ]
     },
     "metadata": {
      "needs_background": "light"
     },
     "output_type": "display_data"
    }
   ],
   "source": [
    "plot_bph(dat=bph_type_1, adjust_label = True)"
   ]
  },
  {
   "cell_type": "code",
   "execution_count": 42,
   "id": "a4988508",
   "metadata": {},
   "outputs": [],
   "source": [
    "bph_lane_2 = sj_lane[['BPH', 'Locatin', 'lane_type']].groupby('lane_type').agg({\"BPH\": np.mean, \"Locatin\": pd.Series.nunique})"
   ]
  },
  {
   "cell_type": "code",
   "execution_count": 43,
   "id": "7c5b733b",
   "metadata": {},
   "outputs": [
    {
     "data": {
      "image/png": "[encoded data removed]",
      "text/plain": [
       "<Figure size 864x576 with 1 Axes>"
      ]
     },
     "metadata": {
      "needs_background": "light"
     },
     "output_type": "display_data"
    }
   ],
   "source": [
    "plot_bph(dat=bph_lane_2, x = np.array(range(0,3)), axis_range=[0, 3.5, 5, 20.3], outname=\"bph_lane_type\")"
   ]
  },
  {
   "cell_type": "code",
   "execution_count": 44,
   "id": "12ea08b1",
   "metadata": {},
   "outputs": [
    {
     "data": {
      "text/html": [
       "<div>\n",
       "<style scoped>\n",
       "    .dataframe tbody tr th:only-of-type {\n",
       "        vertical-align: middle;\n",
       "    }\n",
       "\n",
       "    .dataframe tbody tr th {\n",
       "        vertical-align: top;\n",
       "    }\n",
       "\n",
       "    .dataframe thead th {\n",
       "        text-align: right;\n",
       "    }\n",
       "</style>\n",
       "<table border=\"1\" class=\"dataframe\">\n",
       "  <thead>\n",
       "    <tr style=\"text-align: right;\">\n",
       "      <th></th>\n",
       "      <th>BPH</th>\n",
       "      <th>Locatin</th>\n",
       "    </tr>\n",
       "    <tr>\n",
       "      <th>lane_type</th>\n",
       "      <th></th>\n",
       "      <th></th>\n",
       "    </tr>\n",
       "  </thead>\n",
       "  <tbody>\n",
       "    <tr>\n",
       "      <th>Bike Lane</th>\n",
       "      <td>8.000488</td>\n",
       "      <td>58</td>\n",
       "    </tr>\n",
       "    <tr>\n",
       "      <th>Buffered Bike Lane</th>\n",
       "      <td>14.048335</td>\n",
       "      <td>3</td>\n",
       "    </tr>\n",
       "    <tr>\n",
       "      <th>Protected Bikeway</th>\n",
       "      <td>18.868210</td>\n",
       "      <td>8</td>\n",
       "    </tr>\n",
       "  </tbody>\n",
       "</table>\n",
       "</div>"
      ],
      "text/plain": [
       "                          BPH  Locatin\n",
       "lane_type                             \n",
       "Bike Lane            8.000488       58\n",
       "Buffered Bike Lane  14.048335        3\n",
       "Protected Bikeway   18.868210        8"
      ]
     },
     "execution_count": 44,
     "metadata": {},
     "output_type": "execute_result"
    }
   ],
   "source": [
    "bph_lane_2"
   ]
  },
  {
   "cell_type": "code",
   "execution_count": 67,
   "id": "5951f98d",
   "metadata": {},
   "outputs": [],
   "source": [
    "df = bph_type_1.iloc[1:,:].append(bph_lane_2).sort_values(by=['BPH'], ascending=False)"
   ]
  },
  {
   "cell_type": "code",
   "execution_count": 68,
   "id": "4204ff26",
   "metadata": {},
   "outputs": [],
   "source": [
    "df.reset_index(inplace=True)"
   ]
  },
  {
   "cell_type": "code",
   "execution_count": 69,
   "id": "6ebdd6aa",
   "metadata": {},
   "outputs": [],
   "source": [
    "df = df.rename(columns={'index': 'Bike Lane Type', 'BPH': 'Bikes Per Hour', 'Locatin': 'Sampling Size'})"
   ]
  },
  {
   "cell_type": "code",
   "execution_count": 70,
   "id": "a0461c80",
   "metadata": {},
   "outputs": [
    {
     "data": {
      "text/html": [
       "<div>\n",
       "<style scoped>\n",
       "    .dataframe tbody tr th:only-of-type {\n",
       "        vertical-align: middle;\n",
       "    }\n",
       "\n",
       "    .dataframe tbody tr th {\n",
       "        vertical-align: top;\n",
       "    }\n",
       "\n",
       "    .dataframe thead th {\n",
       "        text-align: right;\n",
       "    }\n",
       "</style>\n",
       "<table border=\"1\" class=\"dataframe\">\n",
       "  <thead>\n",
       "    <tr style=\"text-align: right;\">\n",
       "      <th></th>\n",
       "      <th>Bike Lane Type</th>\n",
       "      <th>Bikes Per Hour</th>\n",
       "      <th>Sampling Size</th>\n",
       "    </tr>\n",
       "  </thead>\n",
       "  <tbody>\n",
       "    <tr>\n",
       "      <th>0</th>\n",
       "      <td>Protected Bikeway</td>\n",
       "      <td>18.868210</td>\n",
       "      <td>8</td>\n",
       "    </tr>\n",
       "    <tr>\n",
       "      <th>1</th>\n",
       "      <td>Buffered Bike Lane</td>\n",
       "      <td>14.048335</td>\n",
       "      <td>3</td>\n",
       "    </tr>\n",
       "    <tr>\n",
       "      <th>2</th>\n",
       "      <td>Shared Use Path</td>\n",
       "      <td>13.557319</td>\n",
       "      <td>45</td>\n",
       "    </tr>\n",
       "    <tr>\n",
       "      <th>3</th>\n",
       "      <td>Neighborhood Greenway</td>\n",
       "      <td>11.223102</td>\n",
       "      <td>12</td>\n",
       "    </tr>\n",
       "    <tr>\n",
       "      <th>4</th>\n",
       "      <td>Pedestrian and Bicycle Access Way</td>\n",
       "      <td>9.571446</td>\n",
       "      <td>1</td>\n",
       "    </tr>\n",
       "    <tr>\n",
       "      <th>5</th>\n",
       "      <td>Bike Route</td>\n",
       "      <td>9.467700</td>\n",
       "      <td>24</td>\n",
       "    </tr>\n",
       "    <tr>\n",
       "      <th>6</th>\n",
       "      <td>Bike Lane</td>\n",
       "      <td>8.000488</td>\n",
       "      <td>58</td>\n",
       "    </tr>\n",
       "  </tbody>\n",
       "</table>\n",
       "</div>"
      ],
      "text/plain": [
       "                      Bike Lane Type  Bikes Per Hour  Sampling Size\n",
       "0                  Protected Bikeway       18.868210              8\n",
       "1                 Buffered Bike Lane       14.048335              3\n",
       "2                    Shared Use Path       13.557319             45\n",
       "3              Neighborhood Greenway       11.223102             12\n",
       "4  Pedestrian and Bicycle Access Way        9.571446              1\n",
       "5                         Bike Route        9.467700             24\n",
       "6                          Bike Lane        8.000488             58"
      ]
     },
     "execution_count": 70,
     "metadata": {},
     "output_type": "execute_result"
    }
   ],
   "source": [
    "df"
   ]
  },
  {
   "cell_type": "code",
   "execution_count": 116,
   "id": "fc650b8a",
   "metadata": {},
   "outputs": [
    {
     "data": {
      "image/png": "[encoded data removed]",
      "text/plain": [
       "<Figure size 864x576 with 1 Axes>"
      ]
     },
     "metadata": {
      "needs_background": "light"
     },
     "output_type": "display_data"
    }
   ],
   "source": [
    "fig, ax = plt.subplots(figsize=(12,8))\n",
    "g=ax.barh(df['Bike Lane Type'], df['Bikes Per Hour'])\n",
    "ax.bar_label(g, label_type='center', labels=df['Bike Lane Type'], color='white', fontsize=14.0, fontweight='bold')\n",
    "ax.bar_label(g, label_type=\"edge\", fmt='%.2f', padding=3, fontsize=14.0, fontweight='bold', color='white')\n",
    "ax.bar_label(g, label_type=\"edge\", labels= \"(\" + df['Sampling Size'].astype(str) + \")\", padding=50, fontsize=14.0, fontweight='bold', color='white') \n",
    "plt.axis('off')\n",
    "ax.set_title('Bikes per hour by bike lane type (sampling size)', loc='left', fontsize=16, fontweight='bold', color='white')\n",
    "#plt.show()\n",
    "plt.savefig(os.path.join(outpath, \"BPH_Lane_Type.png\"), transparent=False)"
   ]
  },
  {
   "cell_type": "code",
   "execution_count": 73,
   "id": "b9ad5909",
   "metadata": {},
   "outputs": [
    {
     "data": {
      "image/png": "[encoded data removed]",
      "text/plain": [
       "<Figure size 864x576 with 1 Axes>"
      ]
     },
     "metadata": {
      "needs_background": "light"
     },
     "output_type": "display_data"
    }
   ],
   "source": [
    "fig, ax = plt.subplots(figsize=(12,8))\n",
    "ax.barh(df['Bike Lane Type'], df['Bikes Per Hour'])\n",
    "for s in ['top', 'bottom', 'left', 'right']:\n",
    "    ax.spines[s].set_visible(False)\n",
    "ax.xaxis.set_ticks_position('none')\n",
    "ax.yaxis.set_ticks_position('none')\n",
    "ax.xaxis.set_tick_params(pad=5)\n",
    "ax.yaxis.set_tick_params(pad=10)\n",
    "ax.grid(b=True, color='grey', linestyle='-.', linewidth=0.5, alpha=0.2)\n",
    "#ax.invert_yaxis()\n",
    "for i in ax.patches:\n",
    "    plt.text(i.get_width()+0.2, i.get_y()+0.5,\n",
    "            str(round((i.get_width()), 2)),\n",
    "             fontsize=10, fontweight='bold', color='grey')\n",
    "ax.set_title('Bikes per hour by bike lane type', loc='left')\n",
    "plt.show()"
   ]
  }
 ],
 "metadata": {
  "kernelspec": {
   "display_name": "Python 3",
   "language": "python",
   "name": "python3"
  },
  "language_info": {
   "codemirror_mode": {
    "name": "ipython",
    "version": 3
   },
   "file_extension": ".py",
   "mimetype": "text/x-python",
   "name": "python",
   "nbconvert_exporter": "python",
   "pygments_lexer": "ipython3",
   "version": "3.8.8"
  }
 },
 "nbformat": 4,
 "nbformat_minor": 5
}
