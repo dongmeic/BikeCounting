{
 "cells": [
  {
   "cell_type": "code",
   "execution_count": 1,
   "id": "df903dd7",
   "metadata": {},
   "outputs": [],
   "source": [
    "import sys\n",
    "# insert at 1, 0 is the script path (or '' in REPL)\n",
    "sys.path.insert(1, 'T:\\\\DCProjects\\\\GitHub\\\\BikeCounting\\\\BikeMap')\n",
    "import ReviewData as RD"
   ]
  },
  {
   "cell_type": "code",
   "execution_count": 2,
   "id": "dde46fdd",
   "metadata": {},
   "outputs": [],
   "source": [
    "bikeFacilities = RD.readBikeFacility(add=False)"
   ]
  },
  {
   "cell_type": "code",
   "execution_count": 3,
   "id": "98a6da4c",
   "metadata": {},
   "outputs": [],
   "source": [
    "import geopandas as gpd"
   ]
  },
  {
   "cell_type": "code",
   "execution_count": 4,
   "id": "3868ddf3",
   "metadata": {},
   "outputs": [],
   "source": [
    "bph = gpd.read_file(\"T:/DCProjects/StoryMap/BikeCounting/BikeCounts/Output/BPH.shp\")"
   ]
  },
  {
   "cell_type": "code",
   "execution_count": 5,
   "id": "24ff2cb6",
   "metadata": {},
   "outputs": [],
   "source": [
    "bph = bph.to_crs(epsg=3857)"
   ]
  },
  {
   "cell_type": "code",
   "execution_count": 6,
   "id": "c2249e92",
   "metadata": {},
   "outputs": [],
   "source": [
    "gpd.options.use_pygeos = True"
   ]
  },
  {
   "cell_type": "code",
   "execution_count": 7,
   "id": "3549563d",
   "metadata": {},
   "outputs": [],
   "source": [
    "import pygeos"
   ]
  },
  {
   "cell_type": "code",
   "execution_count": 8,
   "id": "fbc05a58",
   "metadata": {
    "scrolled": true
   },
   "outputs": [],
   "source": [
    "spatial_join = gpd.sjoin_nearest(bph, bikeFacilities, distance_col=\"distances\")"
   ]
  },
  {
   "cell_type": "code",
   "execution_count": 9,
   "id": "c6f5f0a7",
   "metadata": {},
   "outputs": [
    {
     "data": {
      "text/html": [
       "<div>\n",
       "<style scoped>\n",
       "    .dataframe tbody tr th:only-of-type {\n",
       "        vertical-align: middle;\n",
       "    }\n",
       "\n",
       "    .dataframe tbody tr th {\n",
       "        vertical-align: top;\n",
       "    }\n",
       "\n",
       "    .dataframe thead th {\n",
       "        text-align: right;\n",
       "    }\n",
       "</style>\n",
       "<table border=\"1\" class=\"dataframe\">\n",
       "  <thead>\n",
       "    <tr style=\"text-align: right;\">\n",
       "      <th></th>\n",
       "      <th>Locatin</th>\n",
       "      <th>Year</th>\n",
       "      <th>BPH</th>\n",
       "      <th>Latitud</th>\n",
       "      <th>Longitd</th>\n",
       "      <th>Site_Nm</th>\n",
       "      <th>DblCntL</th>\n",
       "      <th>IsOnewy</th>\n",
       "      <th>OnwyDrc</th>\n",
       "      <th>IsSdwlk</th>\n",
       "      <th>geometry</th>\n",
       "      <th>index_right</th>\n",
       "      <th>name</th>\n",
       "      <th>type</th>\n",
       "      <th>source</th>\n",
       "      <th>distances</th>\n",
       "    </tr>\n",
       "  </thead>\n",
       "  <tbody>\n",
       "    <tr>\n",
       "      <th>0</th>\n",
       "      <td>S32ndAccessPath</td>\n",
       "      <td>2016</td>\n",
       "      <td>0.098214</td>\n",
       "      <td>44.037466</td>\n",
       "      <td>-122.980292</td>\n",
       "      <td>Access Path between S 32nd Pl &amp; S 32nd St</td>\n",
       "      <td>0</td>\n",
       "      <td>0</td>\n",
       "      <td>&lt;Null&gt;</td>\n",
       "      <td>0</td>\n",
       "      <td>POINT (-13690103.483 5471241.965)</td>\n",
       "      <td>147</td>\n",
       "      <td>None</td>\n",
       "      <td>Bike Lane</td>\n",
       "      <td>LCOG</td>\n",
       "      <td>50.944522</td>\n",
       "    </tr>\n",
       "    <tr>\n",
       "      <th>1</th>\n",
       "      <td>S32ndAccessPath</td>\n",
       "      <td>2019</td>\n",
       "      <td>0.109972</td>\n",
       "      <td>44.037466</td>\n",
       "      <td>-122.980292</td>\n",
       "      <td>Access Path between S 32nd Pl &amp; S 32nd St</td>\n",
       "      <td>0</td>\n",
       "      <td>0</td>\n",
       "      <td>&lt;Null&gt;</td>\n",
       "      <td>0</td>\n",
       "      <td>POINT (-13690103.483 5471241.965)</td>\n",
       "      <td>147</td>\n",
       "      <td>None</td>\n",
       "      <td>Bike Lane</td>\n",
       "      <td>LCOG</td>\n",
       "      <td>50.944522</td>\n",
       "    </tr>\n",
       "    <tr>\n",
       "      <th>2</th>\n",
       "      <td>YolandaEast23rd</td>\n",
       "      <td>2019</td>\n",
       "      <td>0.169972</td>\n",
       "      <td>44.072392</td>\n",
       "      <td>-122.990277</td>\n",
       "      <td>Yolanda Ave East of 23rd St</td>\n",
       "      <td>0</td>\n",
       "      <td>0</td>\n",
       "      <td>&lt;Null&gt;</td>\n",
       "      <td>0</td>\n",
       "      <td>POINT (-13691215.008 5476651.855)</td>\n",
       "      <td>740</td>\n",
       "      <td>None</td>\n",
       "      <td>Bike Lane</td>\n",
       "      <td>LCOG</td>\n",
       "      <td>0.175681</td>\n",
       "    </tr>\n",
       "    <tr>\n",
       "      <th>3</th>\n",
       "      <td>WillametteSouth24thWestSidewalk</td>\n",
       "      <td>2017</td>\n",
       "      <td>0.225464</td>\n",
       "      <td>44.032808</td>\n",
       "      <td>-123.090711</td>\n",
       "      <td>Willamette St West Sidewalk South of 24th Pl</td>\n",
       "      <td>0</td>\n",
       "      <td>0</td>\n",
       "      <td>&lt;Null&gt;</td>\n",
       "      <td>1</td>\n",
       "      <td>POINT (-13702395.270 5470520.701)</td>\n",
       "      <td>2793</td>\n",
       "      <td>None</td>\n",
       "      <td>Bike Lane</td>\n",
       "      <td>EUG</td>\n",
       "      <td>6.627695</td>\n",
       "    </tr>\n",
       "    <tr>\n",
       "      <th>63</th>\n",
       "      <td>WillametteSouth24thWestSidewalk</td>\n",
       "      <td>2016</td>\n",
       "      <td>1.031447</td>\n",
       "      <td>44.032808</td>\n",
       "      <td>-123.090711</td>\n",
       "      <td>Willamette St West Sidewalk South of 24th Pl</td>\n",
       "      <td>0</td>\n",
       "      <td>0</td>\n",
       "      <td>&lt;Null&gt;</td>\n",
       "      <td>1</td>\n",
       "      <td>POINT (-13702395.270 5470520.701)</td>\n",
       "      <td>2793</td>\n",
       "      <td>None</td>\n",
       "      <td>Bike Lane</td>\n",
       "      <td>EUG</td>\n",
       "      <td>6.627695</td>\n",
       "    </tr>\n",
       "  </tbody>\n",
       "</table>\n",
       "</div>"
      ],
      "text/plain": [
       "                            Locatin  Year       BPH    Latitud     Longitd  \\\n",
       "0                   S32ndAccessPath  2016  0.098214  44.037466 -122.980292   \n",
       "1                   S32ndAccessPath  2019  0.109972  44.037466 -122.980292   \n",
       "2                   YolandaEast23rd  2019  0.169972  44.072392 -122.990277   \n",
       "3   WillametteSouth24thWestSidewalk  2017  0.225464  44.032808 -123.090711   \n",
       "63  WillametteSouth24thWestSidewalk  2016  1.031447  44.032808 -123.090711   \n",
       "\n",
       "                                         Site_Nm  DblCntL  IsOnewy OnwyDrc  \\\n",
       "0      Access Path between S 32nd Pl & S 32nd St        0        0  <Null>   \n",
       "1      Access Path between S 32nd Pl & S 32nd St        0        0  <Null>   \n",
       "2                    Yolanda Ave East of 23rd St        0        0  <Null>   \n",
       "3   Willamette St West Sidewalk South of 24th Pl        0        0  <Null>   \n",
       "63  Willamette St West Sidewalk South of 24th Pl        0        0  <Null>   \n",
       "\n",
       "    IsSdwlk                           geometry  index_right  name       type  \\\n",
       "0         0  POINT (-13690103.483 5471241.965)          147  None  Bike Lane   \n",
       "1         0  POINT (-13690103.483 5471241.965)          147  None  Bike Lane   \n",
       "2         0  POINT (-13691215.008 5476651.855)          740  None  Bike Lane   \n",
       "3         1  POINT (-13702395.270 5470520.701)         2793  None  Bike Lane   \n",
       "63        1  POINT (-13702395.270 5470520.701)         2793  None  Bike Lane   \n",
       "\n",
       "   source  distances  \n",
       "0    LCOG  50.944522  \n",
       "1    LCOG  50.944522  \n",
       "2    LCOG   0.175681  \n",
       "3     EUG   6.627695  \n",
       "63    EUG   6.627695  "
      ]
     },
     "execution_count": 9,
     "metadata": {},
     "output_type": "execute_result"
    }
   ],
   "source": [
    "spatial_join.head()"
   ]
  },
  {
   "cell_type": "code",
   "execution_count": 35,
   "id": "58f2bb0e",
   "metadata": {},
   "outputs": [
    {
     "data": {
      "text/plain": [
       "2012"
      ]
     },
     "execution_count": 35,
     "metadata": {},
     "output_type": "execute_result"
    }
   ],
   "source": [
    "spatial_join.Year.min()"
   ]
  },
  {
   "cell_type": "code",
   "execution_count": 36,
   "id": "3063a4ec",
   "metadata": {},
   "outputs": [
    {
     "data": {
      "text/plain": [
       "2020"
      ]
     },
     "execution_count": 36,
     "metadata": {},
     "output_type": "execute_result"
    }
   ],
   "source": [
    "spatial_join.Year.max()"
   ]
  },
  {
   "cell_type": "code",
   "execution_count": 10,
   "id": "32438a36",
   "metadata": {},
   "outputs": [
    {
     "data": {
      "text/plain": [
       "geopandas.geodataframe.GeoDataFrame"
      ]
     },
     "execution_count": 10,
     "metadata": {},
     "output_type": "execute_result"
    }
   ],
   "source": [
    "type(spatial_join)"
   ]
  },
  {
   "cell_type": "code",
   "execution_count": 18,
   "id": "13f39a9f",
   "metadata": {},
   "outputs": [
    {
     "name": "stdout",
     "output_type": "stream",
     "text": [
      "epsg:3857\n"
     ]
    }
   ],
   "source": [
    "print(spatial_join.crs)"
   ]
  },
  {
   "cell_type": "code",
   "execution_count": 19,
   "id": "b8458d42",
   "metadata": {},
   "outputs": [
    {
     "data": {
      "text/plain": [
       "count     667.000000\n",
       "mean       89.337060\n",
       "std       486.062045\n",
       "min         0.075835\n",
       "25%         0.907384\n",
       "50%         1.660238\n",
       "75%         6.322402\n",
       "max      3899.685572\n",
       "Name: distances, dtype: float64"
      ]
     },
     "execution_count": 19,
     "metadata": {},
     "output_type": "execute_result"
    }
   ],
   "source": [
    "spatial_join.distances.describe()"
   ]
  },
  {
   "cell_type": "code",
   "execution_count": 20,
   "id": "59f63c90",
   "metadata": {},
   "outputs": [
    {
     "data": {
      "text/plain": [
       "<AxesSubplot:>"
      ]
     },
     "execution_count": 20,
     "metadata": {},
     "output_type": "execute_result"
    },
    {
     "data": {
      "image/png": "[encoded data removed]",
      "text/plain": [
       "<Figure size 432x288 with 1 Axes>"
      ]
     },
     "metadata": {
      "needs_background": "light"
     },
     "output_type": "display_data"
    }
   ],
   "source": [
    "spatial_join.distances.hist()"
   ]
  },
  {
   "cell_type": "code",
   "execution_count": 29,
   "id": "dabc50d1",
   "metadata": {},
   "outputs": [
    {
     "data": {
      "text/html": [
       "<div>\n",
       "<style scoped>\n",
       "    .dataframe tbody tr th:only-of-type {\n",
       "        vertical-align: middle;\n",
       "    }\n",
       "\n",
       "    .dataframe tbody tr th {\n",
       "        vertical-align: top;\n",
       "    }\n",
       "\n",
       "    .dataframe thead th {\n",
       "        text-align: right;\n",
       "    }\n",
       "</style>\n",
       "<table border=\"1\" class=\"dataframe\">\n",
       "  <thead>\n",
       "    <tr style=\"text-align: right;\">\n",
       "      <th></th>\n",
       "      <th>BPH</th>\n",
       "    </tr>\n",
       "    <tr>\n",
       "      <th>type</th>\n",
       "      <th></th>\n",
       "    </tr>\n",
       "  </thead>\n",
       "  <tbody>\n",
       "    <tr>\n",
       "      <th>Bike Lane</th>\n",
       "      <td>6.383479</td>\n",
       "    </tr>\n",
       "    <tr>\n",
       "      <th>Bike Route</th>\n",
       "      <td>6.705824</td>\n",
       "    </tr>\n",
       "    <tr>\n",
       "      <th>Neighborhood Greenway</th>\n",
       "      <td>8.139473</td>\n",
       "    </tr>\n",
       "    <tr>\n",
       "      <th>Pedestrian and Bicycle Access Way</th>\n",
       "      <td>7.225904</td>\n",
       "    </tr>\n",
       "    <tr>\n",
       "      <th>Shared Use Path</th>\n",
       "      <td>9.384510</td>\n",
       "    </tr>\n",
       "  </tbody>\n",
       "</table>\n",
       "</div>"
      ],
      "text/plain": [
       "                                        BPH\n",
       "type                                       \n",
       "Bike Lane                          6.383479\n",
       "Bike Route                         6.705824\n",
       "Neighborhood Greenway              8.139473\n",
       "Pedestrian and Bicycle Access Way  7.225904\n",
       "Shared Use Path                    9.384510"
      ]
     },
     "execution_count": 29,
     "metadata": {},
     "output_type": "execute_result"
    }
   ],
   "source": [
    "spatial_join[spatial_join.distances <= 10][['BPH', 'type']].groupby('type').agg('mean')"
   ]
  },
  {
   "cell_type": "code",
   "execution_count": 30,
   "id": "a7932292",
   "metadata": {},
   "outputs": [
    {
     "data": {
      "text/html": [
       "<div>\n",
       "<style scoped>\n",
       "    .dataframe tbody tr th:only-of-type {\n",
       "        vertical-align: middle;\n",
       "    }\n",
       "\n",
       "    .dataframe tbody tr th {\n",
       "        vertical-align: top;\n",
       "    }\n",
       "\n",
       "    .dataframe thead th {\n",
       "        text-align: right;\n",
       "    }\n",
       "</style>\n",
       "<table border=\"1\" class=\"dataframe\">\n",
       "  <thead>\n",
       "    <tr style=\"text-align: right;\">\n",
       "      <th></th>\n",
       "      <th>BPH</th>\n",
       "    </tr>\n",
       "    <tr>\n",
       "      <th>type</th>\n",
       "      <th></th>\n",
       "    </tr>\n",
       "  </thead>\n",
       "  <tbody>\n",
       "    <tr>\n",
       "      <th>Bike Lane</th>\n",
       "      <td>2.265129</td>\n",
       "    </tr>\n",
       "    <tr>\n",
       "      <th>Bike Route</th>\n",
       "      <td>2.129945</td>\n",
       "    </tr>\n",
       "    <tr>\n",
       "      <th>Connectivity for Routing</th>\n",
       "      <td>0.745850</td>\n",
       "    </tr>\n",
       "    <tr>\n",
       "      <th>Neighborhood Greenway</th>\n",
       "      <td>4.197231</td>\n",
       "    </tr>\n",
       "    <tr>\n",
       "      <th>Paved Shoulder</th>\n",
       "      <td>1.559042</td>\n",
       "    </tr>\n",
       "    <tr>\n",
       "      <th>Pedestrian and Bicycle Access Way</th>\n",
       "      <td>2.267299</td>\n",
       "    </tr>\n",
       "    <tr>\n",
       "      <th>Shared Use Path</th>\n",
       "      <td>2.578143</td>\n",
       "    </tr>\n",
       "  </tbody>\n",
       "</table>\n",
       "</div>"
      ],
      "text/plain": [
       "                                        BPH\n",
       "type                                       \n",
       "Bike Lane                          2.265129\n",
       "Bike Route                         2.129945\n",
       "Connectivity for Routing           0.745850\n",
       "Neighborhood Greenway              4.197231\n",
       "Paved Shoulder                     1.559042\n",
       "Pedestrian and Bicycle Access Way  2.267299\n",
       "Shared Use Path                    2.578143"
      ]
     },
     "execution_count": 30,
     "metadata": {},
     "output_type": "execute_result"
    }
   ],
   "source": [
    "spatial_join[spatial_join.distances > 10][['BPH', 'type']].groupby('type').agg('mean')"
   ]
  }
 ],
 "metadata": {
  "kernelspec": {
   "display_name": "Python 3",
   "language": "python",
   "name": "python3"
  },
  "language_info": {
   "codemirror_mode": {
    "name": "ipython",
    "version": 3
   },
   "file_extension": ".py",
   "mimetype": "text/x-python",
   "name": "python",
   "nbconvert_exporter": "python",
   "pygments_lexer": "ipython3",
   "version": "3.8.8"
  }
 },
 "nbformat": 4,
 "nbformat_minor": 5
}
