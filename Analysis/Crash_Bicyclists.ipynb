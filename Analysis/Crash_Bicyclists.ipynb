{
 "cells": [
  {
   "cell_type": "code",
   "execution_count": 1,
   "id": "c1c5c816",
   "metadata": {},
   "outputs": [],
   "source": [
    "import geopandas as gpd\n",
    "import os\n",
    "import pandas as pd"
   ]
  },
  {
   "cell_type": "code",
   "execution_count": 11,
   "id": "457ccb5e",
   "metadata": {},
   "outputs": [],
   "source": [
    "# this data is clipped from ArcGIS Pro\n",
    "crash = gpd.read_file(r'T:\\MPO\\DataPortal\\Crash\\CrashData\\CrashData.gdb', layer='Crash_CLMPO')"
   ]
  },
  {
   "cell_type": "code",
   "execution_count": 12,
   "id": "b76947ef",
   "metadata": {},
   "outputs": [],
   "source": [
    "# this data is exported from the Geodatabase Table selected\n",
    "bicyclists_crash = pd.read_csv(r'T:\\MPO\\Bike&Ped\\BikeCounting\\StoryMap\\Crashes\\bicyclists_crashes.csv')"
   ]
  },
  {
   "cell_type": "code",
   "execution_count": 15,
   "id": "ea9bc6ee",
   "metadata": {},
   "outputs": [
    {
     "data": {
      "text/plain": [
       "array(['Pedalcyclist', 'Pedalcyclist towing or trailering an object, etc'],\n",
       "      dtype=object)"
      ]
     },
     "execution_count": 15,
     "metadata": {},
     "output_type": "execute_result"
    }
   ],
   "source": [
    "bicyclists_crash.partic_typ_long_desc.unique()"
   ]
  },
  {
   "cell_type": "code",
   "execution_count": 18,
   "id": "8430c214",
   "metadata": {},
   "outputs": [],
   "source": [
    "gdf = crash[crash.crash_id.isin(bicyclists_crash.crash_id.unique())]"
   ]
  },
  {
   "cell_type": "code",
   "execution_count": 23,
   "id": "0a971105",
   "metadata": {},
   "outputs": [
    {
     "data": {
      "text/plain": [
       "['crash_id',\n",
       " 'ser_no',\n",
       " 'crash_dt',\n",
       " 'crash_mo_no',\n",
       " 'crash_day_no',\n",
       " 'crash_yr_no',\n",
       " 'crash_wk_day_cd',\n",
       " 'wkday_short_desc',\n",
       " 'crash_hr_no',\n",
       " 'crash_hr_short_desc',\n",
       " 'crash_hr_med_desc',\n",
       " 'crash_hr_long_desc',\n",
       " 'cnty_id',\n",
       " 'cnty_nm',\n",
       " 'city_sect_id',\n",
       " 'city_sect_nm',\n",
       " 'urb_area_cd',\n",
       " 'urb_area_short_nm',\n",
       " 'urb_area_long_nm',\n",
       " 'fc_cd',\n",
       " 'fc_short_desc',\n",
       " 'fc_desc',\n",
       " 'nhs_flg',\n",
       " 'hwy_no',\n",
       " 'hwy_sfx_no',\n",
       " 'hwy_med_nm',\n",
       " 'hwy_long_nm',\n",
       " 'rdwy_no',\n",
       " 'rdwy_desc',\n",
       " 'hwy_compnt_cd',\n",
       " 'hwy_compnt_short_desc',\n",
       " 'hwy_compnt_med_desc',\n",
       " 'hwy_compnt_long_desc',\n",
       " 'mlge_typ_cd',\n",
       " 'mlge_typ_short_desc',\n",
       " 'mlge_typ_med_desc',\n",
       " 'mlge_typ_long_desc',\n",
       " 'rd_con_no',\n",
       " 'lrs_val',\n",
       " 'longtd_deg_no',\n",
       " 'longtd_minute_no',\n",
       " 'longtd_sec_no',\n",
       " 'lat_deg_no',\n",
       " 'lat_minute_no',\n",
       " 'lat_sec_no',\n",
       " 'longtd_dd',\n",
       " 'lat_dd',\n",
       " 'specl_jrsdct_id',\n",
       " 'specl_jrsdct_short_desc',\n",
       " 'specl_jrsdct_med_desc',\n",
       " 'specl_jrsdct_long_desc',\n",
       " 'jrsdct_grp_cd',\n",
       " 'jrsdct_grp_short_desc',\n",
       " 'jrsdct_grp_med_desc',\n",
       " 'jrsdct_grp_long_desc',\n",
       " 'agy_st_no',\n",
       " 'st_full_nm',\n",
       " 'recre_rd_nm',\n",
       " 'isect_agy_st_no',\n",
       " 'isect_st_full_nm',\n",
       " 'isect_recre_rd_nm',\n",
       " 'isect_seq_no',\n",
       " 'from_isect_dstnc_qty',\n",
       " 'cmpss_dir_cd',\n",
       " 'cmpss_dir_short_desc',\n",
       " 'mp_no',\n",
       " 'post_speed_lmt_val',\n",
       " 'rd_char_cd',\n",
       " 'rd_char_short_desc',\n",
       " 'rd_char_med_desc',\n",
       " 'rd_char_long_desc',\n",
       " 'off_rdwy_flg',\n",
       " 'isect_typ_cd',\n",
       " 'isect_typ_short_desc',\n",
       " 'isect_rel_flg',\n",
       " 'rndabt_flg',\n",
       " 'drvwy_rel_flg',\n",
       " 'ln_qty',\n",
       " 'turng_leg_qty',\n",
       " 'medn_typ_cd',\n",
       " 'medn_typ_short_desc',\n",
       " 'medn_typ_long_desc',\n",
       " 'impct_loc_cd',\n",
       " 'crash_typ_cd',\n",
       " 'crash_typ_short_desc',\n",
       " 'crash_typ_med_desc',\n",
       " 'crash_typ_long_desc',\n",
       " 'collis_typ_cd',\n",
       " 'collis_typ_short_desc',\n",
       " 'collis_typ_med_desc',\n",
       " 'collis_typ_long_desc',\n",
       " 'collis_typ_alt_long_desc',\n",
       " 'collis_typ_sort_ordr_no',\n",
       " 'crash_svrty_cd',\n",
       " 'crash_svrty_short_desc',\n",
       " 'crash_svrty_long_desc',\n",
       " 'wthr_cond_cd',\n",
       " 'wthr_cond_short_desc',\n",
       " 'wthr_cond_med_desc',\n",
       " 'wthr_cond_long_desc',\n",
       " 'rd_surf_cond_cd',\n",
       " 'rd_surf_short_desc',\n",
       " 'rd_surf_med_desc',\n",
       " 'lgt_cond_cd',\n",
       " 'lgt_cond_short_desc',\n",
       " 'lgt_cond_med_desc',\n",
       " 'lgt_cond_long_desc',\n",
       " 'traf_cntl_device_cd',\n",
       " 'traf_cntl_device_short_desc',\n",
       " 'traf_cntl_device_long_desc',\n",
       " 'traf_cntl_func_flg',\n",
       " 'invstg_agy_cd',\n",
       " 'invstg_agy_short_desc',\n",
       " 'invstg_agy_long_desc',\n",
       " 'crash_evnt_1_cd',\n",
       " 'crash_evnt_1_short_desc',\n",
       " 'crash_evnt_1_med_desc',\n",
       " 'crash_evnt_1_long_desc',\n",
       " 'crash_evnt_1_crash_valid_flg',\n",
       " 'crash_evnt_1_partic_valid_flg',\n",
       " 'crash_evnt_1_vhcl_valid_flg',\n",
       " 'crash_evnt_2_cd',\n",
       " 'crash_evnt_2_short_desc',\n",
       " 'crash_evnt_2_med_desc',\n",
       " 'crash_evnt_2_long_desc',\n",
       " 'crash_evnt_2_crash_valid_flg',\n",
       " 'crash_evnt_2_partic_valid_flg',\n",
       " 'crash_evnt_2_vhcl_valid_flg',\n",
       " 'crash_evnt_3_cd',\n",
       " 'crash_evnt_3_short_desc',\n",
       " 'crash_evnt_3_med_desc',\n",
       " 'crash_evnt_3_long_desc',\n",
       " 'crash_evnt_3_crash_valid_flg',\n",
       " 'crash_evnt_3_partic_valid_flg',\n",
       " 'crash_evnt_3_vhcl_valid_flg',\n",
       " 'crash_cause_1_cd',\n",
       " 'crash_cause_1_short_desc',\n",
       " 'crash_cause_1_med_desc',\n",
       " 'crash_cause_1_long_desc',\n",
       " 'crash_cause_1_crash_valid_flg',\n",
       " 'crash_cause_1_partic_valid_flg',\n",
       " 'crash_cause_1_vhcl_valid_flg',\n",
       " 'crash_cause_2_cd',\n",
       " 'crash_cause_2_short_desc',\n",
       " 'crash_cause_2_med_desc',\n",
       " 'crash_cause_2_long_desc',\n",
       " 'crash_cause_2_crash_valid_flg',\n",
       " 'crash_cause_2_partic_valid_flg',\n",
       " 'crash_cause_2_vhcl_valid_flg',\n",
       " 'crash_cause_3_cd',\n",
       " 'crash_cause_3_short_desc',\n",
       " 'crash_cause_3_med_desc',\n",
       " 'crash_cause_3_long_desc',\n",
       " 'crash_cause_3_crash_valid_flg',\n",
       " 'crash_cause_3_partic_valid_flg',\n",
       " 'crash_cause_3_vhcl_valid_flg',\n",
       " 'schl_zone_ind',\n",
       " 'wrk_zone_ind',\n",
       " 'alchl_invlv_flg',\n",
       " 'drug_invlv_flg',\n",
       " 'mj_invlv_flg',\n",
       " 'crash_speed_invlv_flg',\n",
       " 'crash_hit_run_flg',\n",
       " 'pop_rng_cd',\n",
       " 'pop_rng_med_desc',\n",
       " 'rd_cntl_cd',\n",
       " 'rd_cntl_med_desc',\n",
       " 'rd_cntl_long_desc',\n",
       " 'rte_typ_cd',\n",
       " 'rte_id',\n",
       " 'rte_nm',\n",
       " 'reg_id',\n",
       " 'dist_id',\n",
       " 'seg_mrk_id',\n",
       " 'seg_pt_lrs_meas',\n",
       " 'unloct_flg',\n",
       " 'crash_last_ud_dt',\n",
       " 'tot_vhcl_cnt',\n",
       " 'tot_fatal_cnt',\n",
       " 'tot_inj_lvl_a_cnt',\n",
       " 'tot_inj_lvl_b_cnt',\n",
       " 'tot_inj_lvl_c_cnt',\n",
       " 'tot_inj_cnt',\n",
       " 'tot_uninjd_age00_04_cnt',\n",
       " 'tot_uninjd_per_cnt',\n",
       " 'tot_ped_cnt',\n",
       " 'tot_ped_fatal_cnt',\n",
       " 'tot_ped_inj_lvl_a_cnt',\n",
       " 'tot_ped_inj_cnt',\n",
       " 'tot_pedcycl_cnt',\n",
       " 'tot_pedcycl_fatal_cnt',\n",
       " 'tot_pedcycl_inj_lvl_a_cnt',\n",
       " 'tot_pedcycl_inj_cnt',\n",
       " 'tot_unknwn_cnt',\n",
       " 'tot_unknwn_fatal_cnt',\n",
       " 'tot_unknwn_inj_cnt',\n",
       " 'tot_occup_cnt',\n",
       " 'tot_per_invlv_cnt',\n",
       " 'tot_sfty_equip_used_qty',\n",
       " 'tot_sfty_equip_unused_qty',\n",
       " 'tot_sfty_equip_use_unknwn_qty',\n",
       " 'tot_psngr_vhcl_occ_unrestrnd_fa',\n",
       " 'tot_mcyclst_fatal_cnt',\n",
       " 'tot_mcyclst_inj_lvl_a_cnt',\n",
       " 'tot_mcyclst_inj_cnt',\n",
       " 'tot_mcyclst_unhelmtd_fatal_cnt',\n",
       " 'tot_alchl_impaired_drvr_inv_fat',\n",
       " 'tot_drvr_age_01_20_cnt',\n",
       " 'lane_rdwy_dprt_crash_flg',\n",
       " 'gis_prc_dt',\n",
       " 'effectv_dt',\n",
       " 'fire_protection_provider_code',\n",
       " 'fire_protection_provider_name',\n",
       " 'fire_responder_code',\n",
       " 'fire_responder_name',\n",
       " 'is_in_mpo',\n",
       " 'ugb_code',\n",
       " 'ugb_name',\n",
       " 'geometry']"
      ]
     },
     "execution_count": 23,
     "metadata": {},
     "output_type": "execute_result"
    }
   ],
   "source": [
    "list(gdf.columns)"
   ]
  },
  {
   "cell_type": "code",
   "execution_count": 25,
   "id": "857401cd",
   "metadata": {},
   "outputs": [],
   "source": [
    "gdf.rename(columns={'crash_yr_no': 'crash_yr', 'crash_mo_no': 'crash_mo', 'crash_hr_no': 'crash_hr', 'wkday_short_desc':'wkday',\n",
    "                   'collis_typ_long_desc':'collis_typ', 'crash_svrty_long_desc': 'crash_svrt'}, inplace=True)"
   ]
  },
  {
   "cell_type": "code",
   "execution_count": 27,
   "id": "b88c1b66",
   "metadata": {},
   "outputs": [],
   "source": [
    "ngdf = gdf[['crash_id', 'crash_dt', 'crash_yr', 'crash_mo', 'crash_hr', 'wkday', 'fc_desc', 'collis_typ', 'crash_svrt', 'ugb_name', 'geometry']]"
   ]
  },
  {
   "cell_type": "code",
   "execution_count": 32,
   "id": "06913ec0",
   "metadata": {},
   "outputs": [],
   "source": [
    "ngdf['fc_desc'] = ngdf.fc_desc.apply(lambda x: x.capitalize())"
   ]
  },
  {
   "cell_type": "code",
   "execution_count": 39,
   "id": "25d019e9",
   "metadata": {},
   "outputs": [],
   "source": [
    "ngdf['crash_dt'] = ngdf.crash_dt.apply(lambda x: x.split('T')[0])"
   ]
  },
  {
   "cell_type": "code",
   "execution_count": 46,
   "id": "699aa0e8",
   "metadata": {},
   "outputs": [],
   "source": [
    "ngdf['crash_yr'] = ngdf.crash_yr.astype(int)"
   ]
  },
  {
   "cell_type": "code",
   "execution_count": 52,
   "id": "9f169985",
   "metadata": {},
   "outputs": [
    {
     "data": {
      "text/plain": [
       "2007"
      ]
     },
     "execution_count": 52,
     "metadata": {},
     "output_type": "execute_result"
    }
   ],
   "source": [
    "ngdf.crash_yr.min()"
   ]
  },
  {
   "cell_type": "code",
   "execution_count": 41,
   "id": "f9eb5228",
   "metadata": {},
   "outputs": [],
   "source": [
    "ngdf.to_file(r'T:\\MPO\\Bike&Ped\\BikeCounting\\StoryMap\\Crashes\\crash_data.shp')"
   ]
  }
 ],
 "metadata": {
  "kernelspec": {
   "display_name": "Python 3",
   "language": "python",
   "name": "python3"
  },
  "language_info": {
   "codemirror_mode": {
    "name": "ipython",
    "version": 3
   },
   "file_extension": ".py",
   "mimetype": "text/x-python",
   "name": "python",
   "nbconvert_exporter": "python",
   "pygments_lexer": "ipython3",
   "version": "3.8.8"
  }
 },
 "nbformat": 4,
 "nbformat_minor": 5
}
