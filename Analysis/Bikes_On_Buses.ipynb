{
 "cells": [
  {
   "cell_type": "code",
   "execution_count": 1,
   "id": "06aecacd",
   "metadata": {},
   "outputs": [],
   "source": [
    "import pandas as pd\n",
    "import geopandas as gpd\n",
    "import matplotlib.pyplot as plt\n",
    "import contextily as ctx"
   ]
  },
  {
   "cell_type": "code",
   "execution_count": 2,
   "id": "5acad4eb",
   "metadata": {},
   "outputs": [],
   "source": [
    "def standardization(x):\n",
    "    z = (x - min(x))/(max(x) - min(x))\n",
    "    return(z)"
   ]
  },
  {
   "cell_type": "code",
   "execution_count": 29,
   "id": "dc74810d",
   "metadata": {},
   "outputs": [],
   "source": [
    "def aggdata(b='_total', out='data', export=False):\n",
    "    # data is from https://github.com/dongmeic/BikeCounting/blob/main/BikeCounts/Explore_Bikes_On_Buses.ipynb\n",
    "    data = pd.read_csv('T:/Tableau/tableauBikesOnBuses/Datasources/AggregatedBikesOnBuses' + b + '.csv')\n",
    "    aggdata = data.groupby(\"Location\").agg({\"Counts\": \"mean\", \"Growth\": lambda x: x.dropna().mean()})\n",
    "    aggdata = {'Location':aggdata.index.values,\n",
    "               'Counts':aggdata.Counts.values,\n",
    "               'Growth':aggdata.Growth.values}\n",
    "    aggdata = pd.DataFrame(aggdata)\n",
    "    locdata = data[['Location', 'Latitude', 'Longitude', 'Route']].drop_duplicates(ignore_index=True)\n",
    "    outdata = locdata.merge(aggdata, how='inner', on='Location')\n",
    "    gdf = gpd.GeoDataFrame(outdata, geometry=gpd.points_from_xy(outdata.Longitude, outdata.Latitude))\n",
    "    gdf = gdf.set_crs(\"EPSG:4326\")\n",
    "    gdf = gdf.to_crs(\"EPSG:3857\")\n",
    "    \n",
    "    if out == 'data':\n",
    "        return(data)\n",
    "    else:\n",
    "        if export:\n",
    "            if b == '_total':\n",
    "                gdf.to_file(fr\"T:\\MPO\\Bike&Ped\\BikeCounting\\StoryMap\\BikeOnBuses\\Output\\Bikes_on_Buses.shp\")\n",
    "            else:\n",
    "                gdf.to_file(fr\"T:\\MPO\\Bike&Ped\\BikeCounting\\StoryMap\\BikeOnBuses\\Output\\Bikes_on_Buses{b}.shp\")\n",
    "        return(gdf)"
   ]
  },
  {
   "cell_type": "code",
   "execution_count": 30,
   "id": "4ac92a2f",
   "metadata": {},
   "outputs": [],
   "source": [
    "data = aggdata()"
   ]
  },
  {
   "cell_type": "code",
   "execution_count": 31,
   "id": "06250b8a",
   "metadata": {},
   "outputs": [
    {
     "data": {
      "text/plain": [
       "array([2015, 2016, 2017, 2019, 2013, 2022, 2014, 2020, 2018, 2021],\n",
       "      dtype=int64)"
      ]
     },
     "execution_count": 31,
     "metadata": {},
     "output_type": "execute_result"
    }
   ],
   "source": [
    "data.Year.unique()"
   ]
  },
  {
   "cell_type": "code",
   "execution_count": 32,
   "id": "2bca15b3",
   "metadata": {},
   "outputs": [
    {
     "data": {
      "text/html": [
       "<div>\n",
       "<style scoped>\n",
       "    .dataframe tbody tr th:only-of-type {\n",
       "        vertical-align: middle;\n",
       "    }\n",
       "\n",
       "    .dataframe tbody tr th {\n",
       "        vertical-align: top;\n",
       "    }\n",
       "\n",
       "    .dataframe thead th {\n",
       "        text-align: right;\n",
       "    }\n",
       "</style>\n",
       "<table border=\"1\" class=\"dataframe\">\n",
       "  <thead>\n",
       "    <tr style=\"text-align: right;\">\n",
       "      <th></th>\n",
       "      <th>Location</th>\n",
       "      <th>Year</th>\n",
       "      <th>Counts</th>\n",
       "      <th>Latitude</th>\n",
       "      <th>Longitude</th>\n",
       "      <th>Growth</th>\n",
       "      <th>Route</th>\n",
       "    </tr>\n",
       "  </thead>\n",
       "  <tbody>\n",
       "    <tr>\n",
       "      <th>0</th>\n",
       "      <td>(^) N/S of Hwy 126 (MP 23.8) W of Leaburg Dam</td>\n",
       "      <td>2015</td>\n",
       "      <td>10</td>\n",
       "      <td>44.135869</td>\n",
       "      <td>-122.613404</td>\n",
       "      <td>-0.166667</td>\n",
       "      <td>91</td>\n",
       "    </tr>\n",
       "    <tr>\n",
       "      <th>1</th>\n",
       "      <td>(^) N/S of Hwy 126 (MP 23.8) W of Leaburg Dam</td>\n",
       "      <td>2016</td>\n",
       "      <td>3</td>\n",
       "      <td>44.135869</td>\n",
       "      <td>-122.613404</td>\n",
       "      <td>-0.700000</td>\n",
       "      <td>91</td>\n",
       "    </tr>\n",
       "    <tr>\n",
       "      <th>2</th>\n",
       "      <td>(^) N/S of Hwy 126 (MP 23.8) W of Leaburg Dam</td>\n",
       "      <td>2017</td>\n",
       "      <td>21</td>\n",
       "      <td>44.135869</td>\n",
       "      <td>-122.613404</td>\n",
       "      <td>6.000000</td>\n",
       "      <td>91</td>\n",
       "    </tr>\n",
       "    <tr>\n",
       "      <th>3</th>\n",
       "      <td>(^) N/S of Hwy 126 (MP 23.8) W of Leaburg Dam</td>\n",
       "      <td>2019</td>\n",
       "      <td>3</td>\n",
       "      <td>44.135869</td>\n",
       "      <td>-122.613404</td>\n",
       "      <td>-0.500000</td>\n",
       "      <td>91</td>\n",
       "    </tr>\n",
       "    <tr>\n",
       "      <th>4</th>\n",
       "      <td>(^) N/S of Hwy 126 (MP 23.8) W of Leaburg Dam</td>\n",
       "      <td>2013</td>\n",
       "      <td>10</td>\n",
       "      <td>44.135869</td>\n",
       "      <td>-122.613404</td>\n",
       "      <td>NaN</td>\n",
       "      <td>91</td>\n",
       "    </tr>\n",
       "    <tr>\n",
       "      <th>5</th>\n",
       "      <td>(^) N/S of Hwy 126 (MP 23.8) W of Leaburg Dam</td>\n",
       "      <td>2022</td>\n",
       "      <td>2</td>\n",
       "      <td>44.135869</td>\n",
       "      <td>-122.613404</td>\n",
       "      <td>0.500000</td>\n",
       "      <td>91</td>\n",
       "    </tr>\n",
       "    <tr>\n",
       "      <th>6</th>\n",
       "      <td>(^) N/S of Hwy 126 (MP 23.8) W of Leaburg Dam</td>\n",
       "      <td>2014</td>\n",
       "      <td>12</td>\n",
       "      <td>44.135869</td>\n",
       "      <td>-122.613404</td>\n",
       "      <td>0.200000</td>\n",
       "      <td>91</td>\n",
       "    </tr>\n",
       "    <tr>\n",
       "      <th>7</th>\n",
       "      <td>(^) N/S of Hwy 126 (MP 23.8) W of Leaburg Dam</td>\n",
       "      <td>2020</td>\n",
       "      <td>1</td>\n",
       "      <td>44.135869</td>\n",
       "      <td>-122.613404</td>\n",
       "      <td>-0.666667</td>\n",
       "      <td>91</td>\n",
       "    </tr>\n",
       "    <tr>\n",
       "      <th>8</th>\n",
       "      <td>(^) N/S of Hwy 126 (MP 23.8) W of Leaburg Dam</td>\n",
       "      <td>2018</td>\n",
       "      <td>6</td>\n",
       "      <td>44.135869</td>\n",
       "      <td>-122.613404</td>\n",
       "      <td>-0.714286</td>\n",
       "      <td>91</td>\n",
       "    </tr>\n",
       "  </tbody>\n",
       "</table>\n",
       "</div>"
      ],
      "text/plain": [
       "                                        Location  Year  Counts   Latitude  \\\n",
       "0  (^) N/S of Hwy 126 (MP 23.8) W of Leaburg Dam  2015      10  44.135869   \n",
       "1  (^) N/S of Hwy 126 (MP 23.8) W of Leaburg Dam  2016       3  44.135869   \n",
       "2  (^) N/S of Hwy 126 (MP 23.8) W of Leaburg Dam  2017      21  44.135869   \n",
       "3  (^) N/S of Hwy 126 (MP 23.8) W of Leaburg Dam  2019       3  44.135869   \n",
       "4  (^) N/S of Hwy 126 (MP 23.8) W of Leaburg Dam  2013      10  44.135869   \n",
       "5  (^) N/S of Hwy 126 (MP 23.8) W of Leaburg Dam  2022       2  44.135869   \n",
       "6  (^) N/S of Hwy 126 (MP 23.8) W of Leaburg Dam  2014      12  44.135869   \n",
       "7  (^) N/S of Hwy 126 (MP 23.8) W of Leaburg Dam  2020       1  44.135869   \n",
       "8  (^) N/S of Hwy 126 (MP 23.8) W of Leaburg Dam  2018       6  44.135869   \n",
       "\n",
       "    Longitude    Growth Route  \n",
       "0 -122.613404 -0.166667    91  \n",
       "1 -122.613404 -0.700000    91  \n",
       "2 -122.613404  6.000000    91  \n",
       "3 -122.613404 -0.500000    91  \n",
       "4 -122.613404       NaN    91  \n",
       "5 -122.613404  0.500000    91  \n",
       "6 -122.613404  0.200000    91  \n",
       "7 -122.613404 -0.666667    91  \n",
       "8 -122.613404 -0.714286    91  "
      ]
     },
     "execution_count": 32,
     "metadata": {},
     "output_type": "execute_result"
    }
   ],
   "source": [
    "data[data.Location.isin(data.Location.values[0:4])]"
   ]
  },
  {
   "cell_type": "code",
   "execution_count": 33,
   "id": "4cff4126",
   "metadata": {},
   "outputs": [
    {
     "data": {
      "text/html": [
       "<div>\n",
       "<style scoped>\n",
       "    .dataframe tbody tr th:only-of-type {\n",
       "        vertical-align: middle;\n",
       "    }\n",
       "\n",
       "    .dataframe tbody tr th {\n",
       "        vertical-align: top;\n",
       "    }\n",
       "\n",
       "    .dataframe thead th {\n",
       "        text-align: right;\n",
       "    }\n",
       "</style>\n",
       "<table border=\"1\" class=\"dataframe\">\n",
       "  <thead>\n",
       "    <tr style=\"text-align: right;\">\n",
       "      <th></th>\n",
       "      <th>Location</th>\n",
       "      <th>Year</th>\n",
       "      <th>Counts</th>\n",
       "      <th>Latitude</th>\n",
       "      <th>Longitude</th>\n",
       "      <th>Growth</th>\n",
       "      <th>Route</th>\n",
       "    </tr>\n",
       "  </thead>\n",
       "  <tbody>\n",
       "    <tr>\n",
       "      <th>4</th>\n",
       "      <td>(^) N/S of Hwy 126 (MP 23.8) W of Leaburg Dam</td>\n",
       "      <td>2013</td>\n",
       "      <td>10</td>\n",
       "      <td>44.135869</td>\n",
       "      <td>-122.613404</td>\n",
       "      <td>NaN</td>\n",
       "      <td>91</td>\n",
       "    </tr>\n",
       "    <tr>\n",
       "      <th>16</th>\n",
       "      <td>(^) N/S of Lost Crk (Dexter)</td>\n",
       "      <td>2013</td>\n",
       "      <td>53</td>\n",
       "      <td>43.914832</td>\n",
       "      <td>-122.812855</td>\n",
       "      <td>NaN</td>\n",
       "      <td>92</td>\n",
       "    </tr>\n",
       "    <tr>\n",
       "      <th>22</th>\n",
       "      <td>(^) S/S of Lost Crk (Dexter)</td>\n",
       "      <td>2013</td>\n",
       "      <td>14</td>\n",
       "      <td>43.914660</td>\n",
       "      <td>-122.812502</td>\n",
       "      <td>NaN</td>\n",
       "      <td>92</td>\n",
       "    </tr>\n",
       "    <tr>\n",
       "      <th>39</th>\n",
       "      <td>(RRS) E/S River Rd N of River Ave (NE)</td>\n",
       "      <td>2013</td>\n",
       "      <td>1372</td>\n",
       "      <td>44.096173</td>\n",
       "      <td>-123.126966</td>\n",
       "      <td>NaN</td>\n",
       "      <td>52</td>\n",
       "    </tr>\n",
       "    <tr>\n",
       "      <th>40</th>\n",
       "      <td>(RRS) E/S River Rd N of River Ave (NE)</td>\n",
       "      <td>2013</td>\n",
       "      <td>1372</td>\n",
       "      <td>44.096173</td>\n",
       "      <td>-123.126966</td>\n",
       "      <td>NaN</td>\n",
       "      <td>51</td>\n",
       "    </tr>\n",
       "    <tr>\n",
       "      <th>...</th>\n",
       "      <td>...</td>\n",
       "      <td>...</td>\n",
       "      <td>...</td>\n",
       "      <td>...</td>\n",
       "      <td>...</td>\n",
       "      <td>...</td>\n",
       "      <td>...</td>\n",
       "    </tr>\n",
       "    <tr>\n",
       "      <th>15906</th>\n",
       "      <td>W/S of Willamette S of 29th</td>\n",
       "      <td>2013</td>\n",
       "      <td>62</td>\n",
       "      <td>44.025703</td>\n",
       "      <td>-123.090799</td>\n",
       "      <td>NaN</td>\n",
       "      <td>24</td>\n",
       "    </tr>\n",
       "    <tr>\n",
       "      <th>15922</th>\n",
       "      <td>W/S of Willamette S of 36th</td>\n",
       "      <td>2013</td>\n",
       "      <td>3</td>\n",
       "      <td>44.016119</td>\n",
       "      <td>-123.092550</td>\n",
       "      <td>NaN</td>\n",
       "      <td>73</td>\n",
       "    </tr>\n",
       "    <tr>\n",
       "      <th>15936</th>\n",
       "      <td>W/S of Wilshire N of Windsor Circle</td>\n",
       "      <td>2013</td>\n",
       "      <td>1</td>\n",
       "      <td>44.030492</td>\n",
       "      <td>-123.147714</td>\n",
       "      <td>NaN</td>\n",
       "      <td>78</td>\n",
       "    </tr>\n",
       "    <tr>\n",
       "      <th>15937</th>\n",
       "      <td>W/S of Wilshire N of Windsor Circle</td>\n",
       "      <td>2013</td>\n",
       "      <td>1</td>\n",
       "      <td>44.030492</td>\n",
       "      <td>-123.147714</td>\n",
       "      <td>NaN</td>\n",
       "      <td>76</td>\n",
       "    </tr>\n",
       "    <tr>\n",
       "      <th>15941</th>\n",
       "      <td>W/S Terry S of Arrowsmith</td>\n",
       "      <td>2013</td>\n",
       "      <td>61</td>\n",
       "      <td>44.050879</td>\n",
       "      <td>-123.188361</td>\n",
       "      <td>NaN</td>\n",
       "      <td>36</td>\n",
       "    </tr>\n",
       "  </tbody>\n",
       "</table>\n",
       "<p>1715 rows × 7 columns</p>\n",
       "</div>"
      ],
      "text/plain": [
       "                                            Location  Year  Counts   Latitude  \\\n",
       "4      (^) N/S of Hwy 126 (MP 23.8) W of Leaburg Dam  2013      10  44.135869   \n",
       "16                      (^) N/S of Lost Crk (Dexter)  2013      53  43.914832   \n",
       "22                      (^) S/S of Lost Crk (Dexter)  2013      14  43.914660   \n",
       "39            (RRS) E/S River Rd N of River Ave (NE)  2013    1372  44.096173   \n",
       "40            (RRS) E/S River Rd N of River Ave (NE)  2013    1372  44.096173   \n",
       "...                                              ...   ...     ...        ...   \n",
       "15906                    W/S of Willamette S of 29th  2013      62  44.025703   \n",
       "15922                    W/S of Willamette S of 36th  2013       3  44.016119   \n",
       "15936            W/S of Wilshire N of Windsor Circle  2013       1  44.030492   \n",
       "15937            W/S of Wilshire N of Windsor Circle  2013       1  44.030492   \n",
       "15941                      W/S Terry S of Arrowsmith  2013      61  44.050879   \n",
       "\n",
       "        Longitude  Growth Route  \n",
       "4     -122.613404     NaN    91  \n",
       "16    -122.812855     NaN    92  \n",
       "22    -122.812502     NaN    92  \n",
       "39    -123.126966     NaN    52  \n",
       "40    -123.126966     NaN    51  \n",
       "...           ...     ...   ...  \n",
       "15906 -123.090799     NaN    24  \n",
       "15922 -123.092550     NaN    73  \n",
       "15936 -123.147714     NaN    78  \n",
       "15937 -123.147714     NaN    76  \n",
       "15941 -123.188361     NaN    36  \n",
       "\n",
       "[1715 rows x 7 columns]"
      ]
     },
     "execution_count": 33,
     "metadata": {},
     "output_type": "execute_result"
    }
   ],
   "source": [
    "data[data.Year==2013]"
   ]
  },
  {
   "cell_type": "code",
   "execution_count": 34,
   "id": "85f956f8",
   "metadata": {},
   "outputs": [
    {
     "data": {
      "text/plain": [
       "0.2900908791930446"
      ]
     },
     "execution_count": 34,
     "metadata": {},
     "output_type": "execute_result"
    }
   ],
   "source": [
    "data.Growth.dropna().mean()"
   ]
  },
  {
   "cell_type": "code",
   "execution_count": 12,
   "id": "bb2b9766",
   "metadata": {},
   "outputs": [],
   "source": [
    "MPOBound = gpd.read_file(\"X:/Data/Transportation/MPO_Bound.shp\")"
   ]
  },
  {
   "cell_type": "code",
   "execution_count": 35,
   "id": "957b9abc",
   "metadata": {},
   "outputs": [],
   "source": [
    "gdf = aggdata(out='gdf', export=True)"
   ]
  },
  {
   "cell_type": "code",
   "execution_count": 36,
   "id": "ef8bd754",
   "metadata": {},
   "outputs": [],
   "source": [
    "ngdf = gdf[~gdf[\"Location\"].str.contains('|'.join([\"Springfield Station\", \"Eugene Station\"]))]"
   ]
  },
  {
   "cell_type": "code",
   "execution_count": 45,
   "id": "311787bb",
   "metadata": {},
   "outputs": [],
   "source": [
    "outpath = r'T:\\MPO\\Bike&Ped\\BikeCounting\\StoryMap\\BikeOnBuses\\Output'"
   ]
  },
  {
   "cell_type": "code",
   "execution_count": 37,
   "id": "f1cfe4d8",
   "metadata": {},
   "outputs": [],
   "source": [
    "ngdf.to_file(fr\"{outpath}\\Bikes_on_Buses_excluded.shp\")"
   ]
  },
  {
   "cell_type": "code",
   "execution_count": 38,
   "id": "e8a6289c",
   "metadata": {},
   "outputs": [],
   "source": [
    "values = standardization(gdf.Counts) * 1000"
   ]
  },
  {
   "cell_type": "code",
   "execution_count": 24,
   "id": "6e550417",
   "metadata": {},
   "outputs": [
    {
     "data": {
      "text/html": [
       "<div>\n",
       "<style scoped>\n",
       "    .dataframe tbody tr th:only-of-type {\n",
       "        vertical-align: middle;\n",
       "    }\n",
       "\n",
       "    .dataframe tbody tr th {\n",
       "        vertical-align: top;\n",
       "    }\n",
       "\n",
       "    .dataframe thead th {\n",
       "        text-align: right;\n",
       "    }\n",
       "</style>\n",
       "<table border=\"1\" class=\"dataframe\">\n",
       "  <thead>\n",
       "    <tr style=\"text-align: right;\">\n",
       "      <th></th>\n",
       "      <th>Area</th>\n",
       "      <th>inside_mpo</th>\n",
       "      <th>is_in_mpo</th>\n",
       "      <th>geometry</th>\n",
       "    </tr>\n",
       "  </thead>\n",
       "  <tbody>\n",
       "    <tr>\n",
       "      <th>0</th>\n",
       "      <td>125.303</td>\n",
       "      <td>Y</td>\n",
       "      <td>1</td>\n",
       "      <td>POLYGON ((-13702033.591 5490268.024, -13700318...</td>\n",
       "    </tr>\n",
       "  </tbody>\n",
       "</table>\n",
       "</div>"
      ],
      "text/plain": [
       "      Area inside_mpo  is_in_mpo  \\\n",
       "0  125.303          Y          1   \n",
       "\n",
       "                                            geometry  \n",
       "0  POLYGON ((-13702033.591 5490268.024, -13700318...  "
      ]
     },
     "execution_count": 24,
     "metadata": {},
     "output_type": "execute_result"
    }
   ],
   "source": [
    "MPOBound"
   ]
  },
  {
   "cell_type": "code",
   "execution_count": 39,
   "id": "f27f7048",
   "metadata": {},
   "outputs": [],
   "source": [
    "pip = gdf.within(MPOBound.loc[0, 'geometry'])"
   ]
  },
  {
   "cell_type": "code",
   "execution_count": 40,
   "id": "acc8b323",
   "metadata": {},
   "outputs": [],
   "source": [
    "pnts = gdf.loc[pip].copy()"
   ]
  },
  {
   "cell_type": "code",
   "execution_count": 41,
   "id": "767bfdd7",
   "metadata": {},
   "outputs": [
    {
     "data": {
      "image/png": "[encoded data removed]",
      "text/plain": [
       "<Figure size 1008x864 with 1 Axes>"
      ]
     },
     "metadata": {
      "needs_background": "light"
     },
     "output_type": "display_data"
    }
   ],
   "source": [
    "fig, ax = plt.subplots(figsize=(14, 12))\n",
    "pnts.plot(ax=ax, marker='o', markersize=values, color='red', alpha=.5, legend=True, aspect=1)\n",
    "MPOBound.plot(ax=ax, facecolor=\"none\", edgecolor=\"black\", linestyle='--', aspect=1)\n",
    "#ctx.add_basemap(ax)\n",
    "plt.title(\"Average Annual Total Counts of Bikes on Buses (2013 - 2022)\", fontsize=30, fontname=\"Palatino Linotype\", \n",
    "          color=\"grey\")\n",
    "ax.axis(\"off\");"
   ]
  },
  {
   "cell_type": "code",
   "execution_count": 42,
   "id": "ca2b8ea8",
   "metadata": {},
   "outputs": [],
   "source": [
    "gdf = aggdata(b='_inbound', out='gdf', export=True)"
   ]
  },
  {
   "cell_type": "code",
   "execution_count": 43,
   "id": "ab8f50a3",
   "metadata": {},
   "outputs": [],
   "source": [
    "ngdf = gdf[~gdf[\"Location\"].str.contains('|'.join([\"Springfield Station\", \"Eugene Station\"]))]"
   ]
  },
  {
   "cell_type": "code",
   "execution_count": 46,
   "id": "963210da",
   "metadata": {},
   "outputs": [],
   "source": [
    "ngdf.to_file(fr\"{outpath}\\Bikes_on_Buses_inbound_excluded.shp\")"
   ]
  },
  {
   "cell_type": "code",
   "execution_count": 47,
   "id": "801a8518",
   "metadata": {},
   "outputs": [],
   "source": [
    "gdf = aggdata(b='_outbound', out='gdf', export=True)"
   ]
  },
  {
   "cell_type": "code",
   "execution_count": 48,
   "id": "00767b26",
   "metadata": {},
   "outputs": [],
   "source": [
    "ngdf = gdf[~gdf[\"Location\"].str.contains('|'.join([\"Springfield Station\", \"Eugene Station\"]))]"
   ]
  },
  {
   "cell_type": "code",
   "execution_count": 49,
   "id": "e40cd98b",
   "metadata": {},
   "outputs": [],
   "source": [
    "ngdf.to_file(fr\"{outpath}\\Bikes_on_Buses_outbound_excluded.shp\")"
   ]
  },
  {
   "cell_type": "code",
   "execution_count": 50,
   "id": "c7c72c03",
   "metadata": {},
   "outputs": [
    {
     "data": {
      "text/html": [
       "<div>\n",
       "<style scoped>\n",
       "    .dataframe tbody tr th:only-of-type {\n",
       "        vertical-align: middle;\n",
       "    }\n",
       "\n",
       "    .dataframe tbody tr th {\n",
       "        vertical-align: top;\n",
       "    }\n",
       "\n",
       "    .dataframe thead th {\n",
       "        text-align: right;\n",
       "    }\n",
       "</style>\n",
       "<table border=\"1\" class=\"dataframe\">\n",
       "  <thead>\n",
       "    <tr style=\"text-align: right;\">\n",
       "      <th></th>\n",
       "      <th>Location</th>\n",
       "      <th>Latitude</th>\n",
       "      <th>Longitude</th>\n",
       "      <th>Route</th>\n",
       "      <th>Counts</th>\n",
       "      <th>Growth</th>\n",
       "      <th>geometry</th>\n",
       "    </tr>\n",
       "  </thead>\n",
       "  <tbody>\n",
       "    <tr>\n",
       "      <th>0</th>\n",
       "      <td>(^) S/S of Hwy 58 E of Pleasant Hill</td>\n",
       "      <td>43.969440</td>\n",
       "      <td>-122.938802</td>\n",
       "      <td>92</td>\n",
       "      <td>1.000000</td>\n",
       "      <td>0.000000</td>\n",
       "      <td>POINT (-13685484.837 5460714.170)</td>\n",
       "    </tr>\n",
       "    <tr>\n",
       "      <th>1</th>\n",
       "      <td>(^) S/S of Lost Crk (Dexter)</td>\n",
       "      <td>43.914660</td>\n",
       "      <td>-122.812502</td>\n",
       "      <td>92</td>\n",
       "      <td>4.875000</td>\n",
       "      <td>1.020408</td>\n",
       "      <td>POINT (-13671425.186 5452245.106)</td>\n",
       "    </tr>\n",
       "    <tr>\n",
       "      <th>2</th>\n",
       "      <td>(RRS) E/S River Rd N of River Ave (on-street)</td>\n",
       "      <td>44.096038</td>\n",
       "      <td>-123.128015</td>\n",
       "      <td>51</td>\n",
       "      <td>160.900000</td>\n",
       "      <td>-0.155670</td>\n",
       "      <td>POINT (-13706547.932 5480316.333)</td>\n",
       "    </tr>\n",
       "    <tr>\n",
       "      <th>3</th>\n",
       "      <td>(RRS) E/S River Rd N of River Ave (on-street)</td>\n",
       "      <td>44.096038</td>\n",
       "      <td>-123.128015</td>\n",
       "      <td>52</td>\n",
       "      <td>160.900000</td>\n",
       "      <td>-0.155670</td>\n",
       "      <td>POINT (-13706547.932 5480316.333)</td>\n",
       "    </tr>\n",
       "    <tr>\n",
       "      <th>4</th>\n",
       "      <td>(RRS) E/S River Rd N of River Ave (SE)</td>\n",
       "      <td>44.096072</td>\n",
       "      <td>-123.126967</td>\n",
       "      <td>55</td>\n",
       "      <td>37.666667</td>\n",
       "      <td>0.179137</td>\n",
       "      <td>POINT (-13706431.269 5480321.603)</td>\n",
       "    </tr>\n",
       "  </tbody>\n",
       "</table>\n",
       "</div>"
      ],
      "text/plain": [
       "                                        Location   Latitude   Longitude Route  \\\n",
       "0           (^) S/S of Hwy 58 E of Pleasant Hill  43.969440 -122.938802    92   \n",
       "1                   (^) S/S of Lost Crk (Dexter)  43.914660 -122.812502    92   \n",
       "2  (RRS) E/S River Rd N of River Ave (on-street)  44.096038 -123.128015    51   \n",
       "3  (RRS) E/S River Rd N of River Ave (on-street)  44.096038 -123.128015    52   \n",
       "4         (RRS) E/S River Rd N of River Ave (SE)  44.096072 -123.126967    55   \n",
       "\n",
       "       Counts    Growth                           geometry  \n",
       "0    1.000000  0.000000  POINT (-13685484.837 5460714.170)  \n",
       "1    4.875000  1.020408  POINT (-13671425.186 5452245.106)  \n",
       "2  160.900000 -0.155670  POINT (-13706547.932 5480316.333)  \n",
       "3  160.900000 -0.155670  POINT (-13706547.932 5480316.333)  \n",
       "4   37.666667  0.179137  POINT (-13706431.269 5480321.603)  "
      ]
     },
     "execution_count": 50,
     "metadata": {},
     "output_type": "execute_result"
    }
   ],
   "source": [
    "ngdf.head()"
   ]
  }
 ],
 "metadata": {
  "kernelspec": {
   "display_name": "Python 3",
   "language": "python",
   "name": "python3"
  },
  "language_info": {
   "codemirror_mode": {
    "name": "ipython",
    "version": 3
   },
   "file_extension": ".py",
   "mimetype": "text/x-python",
   "name": "python",
   "nbconvert_exporter": "python",
   "pygments_lexer": "ipython3",
   "version": "3.8.8"
  }
 },
 "nbformat": 4,
 "nbformat_minor": 5
}
