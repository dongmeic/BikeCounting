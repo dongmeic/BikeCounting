{
 "cells": [
  {
   "cell_type": "code",
   "execution_count": 1,
   "id": "64584030",
   "metadata": {},
   "outputs": [],
   "source": [
    "import pandas as pd"
   ]
  },
  {
   "cell_type": "code",
   "execution_count": 3,
   "id": "b7448f48",
   "metadata": {
    "scrolled": true
   },
   "outputs": [],
   "source": [
    "trips = pd.read_csv(\"T:/DCProjects/StoryMap/BikeCounting/BikeShare/Data/trips_org_dst.csv\")"
   ]
  },
  {
   "cell_type": "code",
   "execution_count": 4,
   "id": "89b0739c",
   "metadata": {},
   "outputs": [
    {
     "data": {
      "text/html": [
       "<div>\n",
       "<style scoped>\n",
       "    .dataframe tbody tr th:only-of-type {\n",
       "        vertical-align: middle;\n",
       "    }\n",
       "\n",
       "    .dataframe tbody tr th {\n",
       "        vertical-align: top;\n",
       "    }\n",
       "\n",
       "    .dataframe thead th {\n",
       "        text-align: right;\n",
       "    }\n",
       "</style>\n",
       "<table border=\"1\" class=\"dataframe\">\n",
       "  <thead>\n",
       "    <tr style=\"text-align: right;\">\n",
       "      <th></th>\n",
       "      <th>RouteID</th>\n",
       "      <th>BikeID</th>\n",
       "      <th>UserID</th>\n",
       "      <th>Location</th>\n",
       "      <th>Latitude</th>\n",
       "      <th>Longitude</th>\n",
       "      <th>Date</th>\n",
       "      <th>Time</th>\n",
       "      <th>OriginDestination</th>\n",
       "    </tr>\n",
       "  </thead>\n",
       "  <tbody>\n",
       "    <tr>\n",
       "      <th>0</th>\n",
       "      <td>10551719</td>\n",
       "      <td>19607</td>\n",
       "      <td>1197171</td>\n",
       "      <td>13th &amp; Kincaid</td>\n",
       "      <td>44.045876666666665</td>\n",
       "      <td>-123.078595</td>\n",
       "      <td>2019-01-01</td>\n",
       "      <td>00:30</td>\n",
       "      <td>Origin</td>\n",
       "    </tr>\n",
       "    <tr>\n",
       "      <th>1</th>\n",
       "      <td>10551732</td>\n",
       "      <td>19812</td>\n",
       "      <td>1404147</td>\n",
       "      <td>13th &amp; Kincaid</td>\n",
       "      <td>44.04576</td>\n",
       "      <td>-123.0786</td>\n",
       "      <td>2019-01-01</td>\n",
       "      <td>00:34</td>\n",
       "      <td>Origin</td>\n",
       "    </tr>\n",
       "    <tr>\n",
       "      <th>2</th>\n",
       "      <td>10551790</td>\n",
       "      <td>19749</td>\n",
       "      <td>1210268</td>\n",
       "      <td>Matthew Knight Arena</td>\n",
       "      <td>44.045471666666664</td>\n",
       "      <td>-123.06529333333333</td>\n",
       "      <td>2019-01-01</td>\n",
       "      <td>01:07</td>\n",
       "      <td>Origin</td>\n",
       "    </tr>\n",
       "    <tr>\n",
       "      <th>3</th>\n",
       "      <td>10551796</td>\n",
       "      <td>19743</td>\n",
       "      <td>1210268</td>\n",
       "      <td>Matthew Knight Arena</td>\n",
       "      <td>44.045426666666664</td>\n",
       "      <td>-123.065345</td>\n",
       "      <td>2019-01-01</td>\n",
       "      <td>01:10</td>\n",
       "      <td>Origin</td>\n",
       "    </tr>\n",
       "    <tr>\n",
       "      <th>4</th>\n",
       "      <td>10551856</td>\n",
       "      <td>19597</td>\n",
       "      <td>557417</td>\n",
       "      <td>Broadway &amp; Willamette</td>\n",
       "      <td>44.049645</td>\n",
       "      <td>-123.092835</td>\n",
       "      <td>2019-01-01</td>\n",
       "      <td>01:50</td>\n",
       "      <td>Origin</td>\n",
       "    </tr>\n",
       "  </tbody>\n",
       "</table>\n",
       "</div>"
      ],
      "text/plain": [
       "    RouteID  BikeID   UserID               Location            Latitude  \\\n",
       "0  10551719   19607  1197171         13th & Kincaid  44.045876666666665   \n",
       "1  10551732   19812  1404147         13th & Kincaid            44.04576   \n",
       "2  10551790   19749  1210268   Matthew Knight Arena  44.045471666666664   \n",
       "3  10551796   19743  1210268   Matthew Knight Arena  44.045426666666664   \n",
       "4  10551856   19597   557417  Broadway & Willamette           44.049645   \n",
       "\n",
       "             Longitude        Date   Time OriginDestination  \n",
       "0          -123.078595  2019-01-01  00:30            Origin  \n",
       "1            -123.0786  2019-01-01  00:34            Origin  \n",
       "2  -123.06529333333333  2019-01-01  01:07            Origin  \n",
       "3          -123.065345  2019-01-01  01:10            Origin  \n",
       "4          -123.092835  2019-01-01  01:50            Origin  "
      ]
     },
     "execution_count": 4,
     "metadata": {},
     "output_type": "execute_result"
    }
   ],
   "source": [
    "trips.head()"
   ]
  },
  {
   "cell_type": "code",
   "execution_count": 38,
   "id": "6a719691",
   "metadata": {},
   "outputs": [],
   "source": [
    "trips.Location = trips.Location.str.replace(', ', ' @ ', regex=True)"
   ]
  },
  {
   "cell_type": "code",
   "execution_count": 39,
   "id": "64ff4d4c",
   "metadata": {},
   "outputs": [],
   "source": [
    "trips.Location = trips.Location.str.replace('Monroe St & Blair Blvd ', 'Monroe St & Blair Blvd', regex=True)"
   ]
  },
  {
   "cell_type": "code",
   "execution_count": 5,
   "id": "a22807ec",
   "metadata": {},
   "outputs": [],
   "source": [
    "import geopandas as gpd"
   ]
  },
  {
   "cell_type": "code",
   "execution_count": 6,
   "id": "4b980c61",
   "metadata": {},
   "outputs": [],
   "source": [
    "stations = gpd.read_file(r\"T:\\DCProjects\\StoryMap\\BikeCounting\\BikeMap\\data\\mapdata\\bike_share_stations.shp\")"
   ]
  },
  {
   "cell_type": "code",
   "execution_count": 7,
   "id": "e14d4869",
   "metadata": {},
   "outputs": [
    {
     "data": {
      "text/html": [
       "<div>\n",
       "<style scoped>\n",
       "    .dataframe tbody tr th:only-of-type {\n",
       "        vertical-align: middle;\n",
       "    }\n",
       "\n",
       "    .dataframe tbody tr th {\n",
       "        vertical-align: top;\n",
       "    }\n",
       "\n",
       "    .dataframe thead th {\n",
       "        text-align: right;\n",
       "    }\n",
       "</style>\n",
       "<table border=\"1\" class=\"dataframe\">\n",
       "  <thead>\n",
       "    <tr style=\"text-align: right;\">\n",
       "      <th></th>\n",
       "      <th>station id</th>\n",
       "      <th>name</th>\n",
       "      <th>geometry</th>\n",
       "    </tr>\n",
       "  </thead>\n",
       "  <tbody>\n",
       "    <tr>\n",
       "      <th>0</th>\n",
       "      <td>hub_3828</td>\n",
       "      <td>Eugene Family YMCA</td>\n",
       "      <td>POINT (-13701591.712 5471253.204)</td>\n",
       "    </tr>\n",
       "    <tr>\n",
       "      <th>1</th>\n",
       "      <td>hub_3829</td>\n",
       "      <td>Monroe St &amp; Blair Blvd</td>\n",
       "      <td>POINT (-13704001.270 5473411.225)</td>\n",
       "    </tr>\n",
       "    <tr>\n",
       "      <th>2</th>\n",
       "      <td>hub_3830</td>\n",
       "      <td>10th &amp; Olive SE</td>\n",
       "      <td>POINT (-13702770.365 5472975.425)</td>\n",
       "    </tr>\n",
       "    <tr>\n",
       "      <th>3</th>\n",
       "      <td>hub_3831</td>\n",
       "      <td>16th &amp; Willamette</td>\n",
       "      <td>POINT (-13702642.423 5471973.384)</td>\n",
       "    </tr>\n",
       "    <tr>\n",
       "      <th>4</th>\n",
       "      <td>hub_3832</td>\n",
       "      <td>13th &amp; Pearl @ Pearl side</td>\n",
       "      <td>POINT (-13702278.750 5472449.473)</td>\n",
       "    </tr>\n",
       "  </tbody>\n",
       "</table>\n",
       "</div>"
      ],
      "text/plain": [
       "  station id                       name                           geometry\n",
       "0   hub_3828         Eugene Family YMCA  POINT (-13701591.712 5471253.204)\n",
       "1   hub_3829     Monroe St & Blair Blvd  POINT (-13704001.270 5473411.225)\n",
       "2   hub_3830            10th & Olive SE  POINT (-13702770.365 5472975.425)\n",
       "3   hub_3831          16th & Willamette  POINT (-13702642.423 5471973.384)\n",
       "4   hub_3832  13th & Pearl @ Pearl side  POINT (-13702278.750 5472449.473)"
      ]
     },
     "execution_count": 7,
     "metadata": {},
     "output_type": "execute_result"
    }
   ],
   "source": [
    "stations.head()"
   ]
  },
  {
   "cell_type": "code",
   "execution_count": 25,
   "id": "188d7bb6",
   "metadata": {
    "scrolled": false
   },
   "outputs": [
    {
     "data": {
      "text/plain": [
       "True"
      ]
     },
     "execution_count": 25,
     "metadata": {},
     "output_type": "execute_result"
    }
   ],
   "source": [
    "\"Monroe St & Blair Blvd\" in stations.name.values"
   ]
  },
  {
   "cell_type": "code",
   "execution_count": 40,
   "id": "d552a7a6",
   "metadata": {},
   "outputs": [],
   "source": [
    "tripLocations = [x for x in trips.Location.unique() if x != 'nan']"
   ]
  },
  {
   "cell_type": "code",
   "execution_count": 42,
   "id": "2556058f",
   "metadata": {},
   "outputs": [],
   "source": [
    "tripLocSelected = []"
   ]
  },
  {
   "cell_type": "code",
   "execution_count": 43,
   "id": "8cd0d62e",
   "metadata": {},
   "outputs": [],
   "source": [
    "Loc2Review = []"
   ]
  },
  {
   "cell_type": "code",
   "execution_count": 44,
   "id": "6b476117",
   "metadata": {},
   "outputs": [
    {
     "name": "stdout",
     "output_type": "stream",
     "text": [
      "nan\n",
      "Carson Hall (virtual hub)\n",
      "Court Cafe (virtual hub)\n",
      "Event Rack 1 (Virtual Hub)\n",
      "Millrace Garage\n"
     ]
    }
   ],
   "source": [
    "# check if the trip location names are matched with the station names\n",
    "for loc in tripLocations:\n",
    "    if loc in stations.name.values:\n",
    "        tripLocSelected.append(loc)\n",
    "    else:\n",
    "        print(loc)\n",
    "        Loc2Review.append(loc)"
   ]
  },
  {
   "cell_type": "code",
   "execution_count": 49,
   "id": "039fe0f4",
   "metadata": {},
   "outputs": [],
   "source": [
    "trips_selected = trips[trips.Location.isin(tripLocSelected)]"
   ]
  },
  {
   "cell_type": "code",
   "execution_count": 51,
   "id": "287408c4",
   "metadata": {},
   "outputs": [],
   "source": [
    "originCounts = trips_selected[trips_selected.OriginDestination == 'Origin'][['Location', 'RouteID', 'UserID']].groupby('Location').agg({\"RouteID\": lambda x: x.nunique(), \"UserID\": lambda x: x.nunique()})"
   ]
  },
  {
   "cell_type": "code",
   "execution_count": 52,
   "id": "1bf1b50e",
   "metadata": {
    "scrolled": true
   },
   "outputs": [
    {
     "data": {
      "text/html": [
       "<div>\n",
       "<style scoped>\n",
       "    .dataframe tbody tr th:only-of-type {\n",
       "        vertical-align: middle;\n",
       "    }\n",
       "\n",
       "    .dataframe tbody tr th {\n",
       "        vertical-align: top;\n",
       "    }\n",
       "\n",
       "    .dataframe thead th {\n",
       "        text-align: right;\n",
       "    }\n",
       "</style>\n",
       "<table border=\"1\" class=\"dataframe\">\n",
       "  <thead>\n",
       "    <tr style=\"text-align: right;\">\n",
       "      <th></th>\n",
       "      <th>RouteID</th>\n",
       "      <th>UserID</th>\n",
       "    </tr>\n",
       "    <tr>\n",
       "      <th>Location</th>\n",
       "      <th></th>\n",
       "      <th></th>\n",
       "    </tr>\n",
       "  </thead>\n",
       "  <tbody>\n",
       "    <tr>\n",
       "      <th>10th &amp; Olive NE</th>\n",
       "      <td>198</td>\n",
       "      <td>109</td>\n",
       "    </tr>\n",
       "    <tr>\n",
       "      <th>10th &amp; Olive SE</th>\n",
       "      <td>6334</td>\n",
       "      <td>1369</td>\n",
       "    </tr>\n",
       "    <tr>\n",
       "      <th>10th &amp; Pearl</th>\n",
       "      <td>2082</td>\n",
       "      <td>735</td>\n",
       "    </tr>\n",
       "    <tr>\n",
       "      <th>12th &amp; Willamette</th>\n",
       "      <td>12691</td>\n",
       "      <td>1885</td>\n",
       "    </tr>\n",
       "    <tr>\n",
       "      <th>13th &amp; Agate (Virtual Hub)</th>\n",
       "      <td>507</td>\n",
       "      <td>205</td>\n",
       "    </tr>\n",
       "  </tbody>\n",
       "</table>\n",
       "</div>"
      ],
      "text/plain": [
       "                            RouteID  UserID\n",
       "Location                                   \n",
       "10th & Olive NE                 198     109\n",
       "10th & Olive SE                6334    1369\n",
       "10th & Pearl                   2082     735\n",
       "12th & Willamette             12691    1885\n",
       "13th & Agate (Virtual Hub)      507     205"
      ]
     },
     "execution_count": 52,
     "metadata": {},
     "output_type": "execute_result"
    }
   ],
   "source": [
    "originCounts.head()"
   ]
  },
  {
   "cell_type": "code",
   "execution_count": 55,
   "id": "2a4aa8a4",
   "metadata": {},
   "outputs": [
    {
     "data": {
      "text/plain": [
       "21761"
      ]
     },
     "execution_count": 55,
     "metadata": {},
     "output_type": "execute_result"
    }
   ],
   "source": [
    "len(trips_selected.UserID.unique())"
   ]
  },
  {
   "cell_type": "code",
   "execution_count": 54,
   "id": "789ebf05",
   "metadata": {
    "scrolled": true
   },
   "outputs": [
    {
     "data": {
      "text/plain": [
       "565524"
      ]
     },
     "execution_count": 54,
     "metadata": {},
     "output_type": "execute_result"
    }
   ],
   "source": [
    "trips_selected.shape[0]"
   ]
  },
  {
   "cell_type": "code",
   "execution_count": 63,
   "id": "a4171aef",
   "metadata": {},
   "outputs": [],
   "source": [
    "data = {'name':originCounts.index.values,\n",
    "        'ntrips':originCounts.RouteID.values,\n",
    "        'nbikers':originCounts.UserID.values}"
   ]
  },
  {
   "cell_type": "code",
   "execution_count": 64,
   "id": "5c2efca3",
   "metadata": {},
   "outputs": [],
   "source": [
    "df = pd.DataFrame(data)"
   ]
  },
  {
   "cell_type": "code",
   "execution_count": 66,
   "id": "ec469b6f",
   "metadata": {},
   "outputs": [],
   "source": [
    "origin_df = stations.merge(df, how='inner', on='name')"
   ]
  },
  {
   "cell_type": "code",
   "execution_count": 67,
   "id": "d40d1e5c",
   "metadata": {},
   "outputs": [
    {
     "data": {
      "text/html": [
       "<div>\n",
       "<style scoped>\n",
       "    .dataframe tbody tr th:only-of-type {\n",
       "        vertical-align: middle;\n",
       "    }\n",
       "\n",
       "    .dataframe tbody tr th {\n",
       "        vertical-align: top;\n",
       "    }\n",
       "\n",
       "    .dataframe thead th {\n",
       "        text-align: right;\n",
       "    }\n",
       "</style>\n",
       "<table border=\"1\" class=\"dataframe\">\n",
       "  <thead>\n",
       "    <tr style=\"text-align: right;\">\n",
       "      <th></th>\n",
       "      <th>station id</th>\n",
       "      <th>name</th>\n",
       "      <th>geometry</th>\n",
       "      <th>ntrips</th>\n",
       "      <th>nbikers</th>\n",
       "    </tr>\n",
       "  </thead>\n",
       "  <tbody>\n",
       "    <tr>\n",
       "      <th>0</th>\n",
       "      <td>hub_3828</td>\n",
       "      <td>Eugene Family YMCA</td>\n",
       "      <td>POINT (-13701591.712 5471253.204)</td>\n",
       "      <td>9618</td>\n",
       "      <td>1231</td>\n",
       "    </tr>\n",
       "    <tr>\n",
       "      <th>1</th>\n",
       "      <td>hub_3829</td>\n",
       "      <td>Monroe St &amp; Blair Blvd</td>\n",
       "      <td>POINT (-13704001.270 5473411.225)</td>\n",
       "      <td>2080</td>\n",
       "      <td>593</td>\n",
       "    </tr>\n",
       "    <tr>\n",
       "      <th>2</th>\n",
       "      <td>hub_3830</td>\n",
       "      <td>10th &amp; Olive SE</td>\n",
       "      <td>POINT (-13702770.365 5472975.425)</td>\n",
       "      <td>6334</td>\n",
       "      <td>1369</td>\n",
       "    </tr>\n",
       "    <tr>\n",
       "      <th>3</th>\n",
       "      <td>hub_3831</td>\n",
       "      <td>16th &amp; Willamette</td>\n",
       "      <td>POINT (-13702642.423 5471973.384)</td>\n",
       "      <td>4212</td>\n",
       "      <td>877</td>\n",
       "    </tr>\n",
       "    <tr>\n",
       "      <th>4</th>\n",
       "      <td>hub_3832</td>\n",
       "      <td>13th &amp; Pearl @ Pearl side</td>\n",
       "      <td>POINT (-13702278.750 5472449.473)</td>\n",
       "      <td>5013</td>\n",
       "      <td>1471</td>\n",
       "    </tr>\n",
       "  </tbody>\n",
       "</table>\n",
       "</div>"
      ],
      "text/plain": [
       "  station id                       name                           geometry  \\\n",
       "0   hub_3828         Eugene Family YMCA  POINT (-13701591.712 5471253.204)   \n",
       "1   hub_3829     Monroe St & Blair Blvd  POINT (-13704001.270 5473411.225)   \n",
       "2   hub_3830            10th & Olive SE  POINT (-13702770.365 5472975.425)   \n",
       "3   hub_3831          16th & Willamette  POINT (-13702642.423 5471973.384)   \n",
       "4   hub_3832  13th & Pearl @ Pearl side  POINT (-13702278.750 5472449.473)   \n",
       "\n",
       "   ntrips  nbikers  \n",
       "0    9618     1231  \n",
       "1    2080      593  \n",
       "2    6334     1369  \n",
       "3    4212      877  \n",
       "4    5013     1471  "
      ]
     },
     "execution_count": 67,
     "metadata": {},
     "output_type": "execute_result"
    }
   ],
   "source": [
    "origin_df.head()"
   ]
  },
  {
   "cell_type": "code",
   "execution_count": 69,
   "id": "6e9fc95f",
   "metadata": {},
   "outputs": [],
   "source": [
    "origin_df.to_file(r'T:\\DCProjects\\StoryMap\\BikeCounting\\BikeShare\\Data\\OriginCounts.shp')"
   ]
  },
  {
   "cell_type": "code",
   "execution_count": 70,
   "id": "8136ddc0",
   "metadata": {},
   "outputs": [],
   "source": [
    "destinationCounts = trips_selected[trips_selected.OriginDestination == 'Destination'][['Location', 'RouteID', 'UserID']].groupby('Location').agg({\"RouteID\": lambda x: x.nunique(), \"UserID\": lambda x: x.nunique()})"
   ]
  },
  {
   "cell_type": "code",
   "execution_count": null,
   "id": "b38a21df",
   "metadata": {},
   "outputs": [],
   "source": []
  }
 ],
 "metadata": {
  "kernelspec": {
   "display_name": "Python 3",
   "language": "python",
   "name": "python3"
  },
  "language_info": {
   "codemirror_mode": {
    "name": "ipython",
    "version": 3
   },
   "file_extension": ".py",
   "mimetype": "text/x-python",
   "name": "python",
   "nbconvert_exporter": "python",
   "pygments_lexer": "ipython3",
   "version": "3.8.8"
  }
 },
 "nbformat": 4,
 "nbformat_minor": 5
}
