{
 "cells": [
  {
   "cell_type": "code",
   "execution_count": 11,
   "id": "64584030",
   "metadata": {},
   "outputs": [],
   "source": [
    "import pandas as pd\n",
    "import geopandas as gpd"
   ]
  },
  {
   "cell_type": "code",
   "execution_count": 3,
   "id": "46799267",
   "metadata": {
    "scrolled": true
   },
   "outputs": [],
   "source": [
    "trips = pd.read_csv(r\"T:\\MPO\\Bike&Ped\\BikeCounting\\StoryMap\\BikeShare\\Data\\trips_org_dst.csv\")"
   ]
  },
  {
   "cell_type": "code",
   "execution_count": 4,
   "id": "5588555e",
   "metadata": {},
   "outputs": [
    {
     "data": {
      "text/html": [
       "<div>\n",
       "<style scoped>\n",
       "    .dataframe tbody tr th:only-of-type {\n",
       "        vertical-align: middle;\n",
       "    }\n",
       "\n",
       "    .dataframe tbody tr th {\n",
       "        vertical-align: top;\n",
       "    }\n",
       "\n",
       "    .dataframe thead th {\n",
       "        text-align: right;\n",
       "    }\n",
       "</style>\n",
       "<table border=\"1\" class=\"dataframe\">\n",
       "  <thead>\n",
       "    <tr style=\"text-align: right;\">\n",
       "      <th></th>\n",
       "      <th>RouteID</th>\n",
       "      <th>BikeID</th>\n",
       "      <th>UserID</th>\n",
       "      <th>Location</th>\n",
       "      <th>Latitude</th>\n",
       "      <th>Longitude</th>\n",
       "      <th>Date</th>\n",
       "      <th>Time</th>\n",
       "      <th>Distance</th>\n",
       "      <th>Minutes</th>\n",
       "      <th>OriginDestination</th>\n",
       "      <th>Weekday</th>\n",
       "      <th>Month</th>\n",
       "      <th>Season</th>\n",
       "      <th>SeasonOrder</th>\n",
       "      <th>WeekdayOrder</th>\n",
       "      <th>Year</th>\n",
       "    </tr>\n",
       "  </thead>\n",
       "  <tbody>\n",
       "    <tr>\n",
       "      <th>1531533</th>\n",
       "      <td>14824759</td>\n",
       "      <td>19600</td>\n",
       "      <td>2218937</td>\n",
       "      <td>NaN</td>\n",
       "      <td>44.060020</td>\n",
       "      <td>-123.057868</td>\n",
       "      <td>2022-12-31</td>\n",
       "      <td>21:55</td>\n",
       "      <td>3.37</td>\n",
       "      <td>22.716667</td>\n",
       "      <td>Destination</td>\n",
       "      <td>Saturday</td>\n",
       "      <td>December</td>\n",
       "      <td>Winter</td>\n",
       "      <td>4</td>\n",
       "      <td>6</td>\n",
       "      <td>2022</td>\n",
       "    </tr>\n",
       "    <tr>\n",
       "      <th>1531534</th>\n",
       "      <td>14824763</td>\n",
       "      <td>19717</td>\n",
       "      <td>919298</td>\n",
       "      <td>PeaceHealth University District</td>\n",
       "      <td>44.047618</td>\n",
       "      <td>-123.081802</td>\n",
       "      <td>2022-12-31</td>\n",
       "      <td>22:05</td>\n",
       "      <td>1.25</td>\n",
       "      <td>8.416667</td>\n",
       "      <td>Destination</td>\n",
       "      <td>Saturday</td>\n",
       "      <td>December</td>\n",
       "      <td>Winter</td>\n",
       "      <td>4</td>\n",
       "      <td>6</td>\n",
       "      <td>2022</td>\n",
       "    </tr>\n",
       "    <tr>\n",
       "      <th>1531535</th>\n",
       "      <td>14824768</td>\n",
       "      <td>19828</td>\n",
       "      <td>2300240</td>\n",
       "      <td>17th &amp; Hilyard</td>\n",
       "      <td>44.041130</td>\n",
       "      <td>-123.081808</td>\n",
       "      <td>2022-12-31</td>\n",
       "      <td>22:19</td>\n",
       "      <td>0.39</td>\n",
       "      <td>3.266667</td>\n",
       "      <td>Destination</td>\n",
       "      <td>Saturday</td>\n",
       "      <td>December</td>\n",
       "      <td>Winter</td>\n",
       "      <td>4</td>\n",
       "      <td>6</td>\n",
       "      <td>2022</td>\n",
       "    </tr>\n",
       "    <tr>\n",
       "      <th>1531536</th>\n",
       "      <td>14824771</td>\n",
       "      <td>19632</td>\n",
       "      <td>2267182</td>\n",
       "      <td>Matthew Knight Arena</td>\n",
       "      <td>44.045390</td>\n",
       "      <td>-123.065177</td>\n",
       "      <td>2022-12-31</td>\n",
       "      <td>22:31</td>\n",
       "      <td>1.66</td>\n",
       "      <td>12.466667</td>\n",
       "      <td>Destination</td>\n",
       "      <td>Saturday</td>\n",
       "      <td>December</td>\n",
       "      <td>Winter</td>\n",
       "      <td>4</td>\n",
       "      <td>6</td>\n",
       "      <td>2022</td>\n",
       "    </tr>\n",
       "    <tr>\n",
       "      <th>1531537</th>\n",
       "      <td>14824790</td>\n",
       "      <td>19658</td>\n",
       "      <td>2208273</td>\n",
       "      <td>Franklin Blvd &amp; Walnut North</td>\n",
       "      <td>44.045292</td>\n",
       "      <td>-123.061408</td>\n",
       "      <td>2022-12-31</td>\n",
       "      <td>23:28</td>\n",
       "      <td>1.15</td>\n",
       "      <td>6.666667</td>\n",
       "      <td>Destination</td>\n",
       "      <td>Saturday</td>\n",
       "      <td>December</td>\n",
       "      <td>Winter</td>\n",
       "      <td>4</td>\n",
       "      <td>6</td>\n",
       "      <td>2022</td>\n",
       "    </tr>\n",
       "  </tbody>\n",
       "</table>\n",
       "</div>"
      ],
      "text/plain": [
       "          RouteID  BikeID   UserID                         Location  \\\n",
       "1531533  14824759   19600  2218937                              NaN   \n",
       "1531534  14824763   19717   919298  PeaceHealth University District   \n",
       "1531535  14824768   19828  2300240                   17th & Hilyard   \n",
       "1531536  14824771   19632  2267182             Matthew Knight Arena   \n",
       "1531537  14824790   19658  2208273     Franklin Blvd & Walnut North   \n",
       "\n",
       "          Latitude   Longitude        Date   Time  Distance    Minutes  \\\n",
       "1531533  44.060020 -123.057868  2022-12-31  21:55      3.37  22.716667   \n",
       "1531534  44.047618 -123.081802  2022-12-31  22:05      1.25   8.416667   \n",
       "1531535  44.041130 -123.081808  2022-12-31  22:19      0.39   3.266667   \n",
       "1531536  44.045390 -123.065177  2022-12-31  22:31      1.66  12.466667   \n",
       "1531537  44.045292 -123.061408  2022-12-31  23:28      1.15   6.666667   \n",
       "\n",
       "        OriginDestination   Weekday     Month  Season  SeasonOrder  \\\n",
       "1531533       Destination  Saturday  December  Winter            4   \n",
       "1531534       Destination  Saturday  December  Winter            4   \n",
       "1531535       Destination  Saturday  December  Winter            4   \n",
       "1531536       Destination  Saturday  December  Winter            4   \n",
       "1531537       Destination  Saturday  December  Winter            4   \n",
       "\n",
       "         WeekdayOrder  Year  \n",
       "1531533             6  2022  \n",
       "1531534             6  2022  \n",
       "1531535             6  2022  \n",
       "1531536             6  2022  \n",
       "1531537             6  2022  "
      ]
     },
     "execution_count": 4,
     "metadata": {},
     "output_type": "execute_result"
    }
   ],
   "source": [
    "trips.tail()"
   ]
  },
  {
   "cell_type": "code",
   "execution_count": 5,
   "id": "e814cc1a",
   "metadata": {},
   "outputs": [
    {
     "data": {
      "text/plain": [
       "array([2019, 2020, 2021, 2022, 2023, 2018], dtype=int64)"
      ]
     },
     "execution_count": 5,
     "metadata": {},
     "output_type": "execute_result"
    }
   ],
   "source": [
    "trips.Year.unique()"
   ]
  },
  {
   "cell_type": "code",
   "execution_count": 6,
   "id": "2e960386",
   "metadata": {},
   "outputs": [],
   "source": [
    "excludedIDs = [717565, 742339, 764038, 819845, 1228447, 1354709, 1897910, 2184703, 2207685]"
   ]
  },
  {
   "cell_type": "code",
   "execution_count": 7,
   "id": "ee61e388",
   "metadata": {},
   "outputs": [],
   "source": [
    "excludedyears = [2018, 2023]"
   ]
  },
  {
   "cell_type": "code",
   "execution_count": 8,
   "id": "142c0108",
   "metadata": {},
   "outputs": [],
   "source": [
    "trips = trips[(~trips.UserID.isin(excludedIDs))&(~trips.Year.isin(excludedyears))]"
   ]
  },
  {
   "cell_type": "code",
   "execution_count": 9,
   "id": "c7c779ff",
   "metadata": {},
   "outputs": [],
   "source": [
    "trips.Location = trips.Location.str.replace(', ', ' @ ', regex=True)"
   ]
  },
  {
   "cell_type": "code",
   "execution_count": 10,
   "id": "0fd9493e",
   "metadata": {},
   "outputs": [],
   "source": [
    "trips.Location = trips.Location.str.replace('Monroe St & Blair Blvd ', 'Monroe St & Blair Blvd', regex=True)"
   ]
  },
  {
   "cell_type": "code",
   "execution_count": 12,
   "id": "dc77c0a2",
   "metadata": {},
   "outputs": [],
   "source": [
    "stations = gpd.read_file(r\"T:\\MPO\\Bike&Ped\\BikeCounting\\StoryMap\\BikeMap\\data\\mapdata\\bike_share_stations.shp\")"
   ]
  },
  {
   "cell_type": "code",
   "execution_count": 13,
   "id": "b79fe98b",
   "metadata": {},
   "outputs": [
    {
     "data": {
      "text/html": [
       "<div>\n",
       "<style scoped>\n",
       "    .dataframe tbody tr th:only-of-type {\n",
       "        vertical-align: middle;\n",
       "    }\n",
       "\n",
       "    .dataframe tbody tr th {\n",
       "        vertical-align: top;\n",
       "    }\n",
       "\n",
       "    .dataframe thead th {\n",
       "        text-align: right;\n",
       "    }\n",
       "</style>\n",
       "<table border=\"1\" class=\"dataframe\">\n",
       "  <thead>\n",
       "    <tr style=\"text-align: right;\">\n",
       "      <th></th>\n",
       "      <th>station id</th>\n",
       "      <th>name</th>\n",
       "      <th>geometry</th>\n",
       "    </tr>\n",
       "  </thead>\n",
       "  <tbody>\n",
       "    <tr>\n",
       "      <th>0</th>\n",
       "      <td>hub_3828</td>\n",
       "      <td>Eugene Family YMCA</td>\n",
       "      <td>POINT (-13701591.712 5471253.204)</td>\n",
       "    </tr>\n",
       "    <tr>\n",
       "      <th>1</th>\n",
       "      <td>hub_3829</td>\n",
       "      <td>Monroe St &amp; Blair Blvd</td>\n",
       "      <td>POINT (-13704001.270 5473411.225)</td>\n",
       "    </tr>\n",
       "    <tr>\n",
       "      <th>2</th>\n",
       "      <td>hub_3830</td>\n",
       "      <td>10th &amp; Olive SE</td>\n",
       "      <td>POINT (-13702770.365 5472975.425)</td>\n",
       "    </tr>\n",
       "    <tr>\n",
       "      <th>3</th>\n",
       "      <td>hub_3831</td>\n",
       "      <td>16th &amp; Willamette</td>\n",
       "      <td>POINT (-13702642.423 5471973.384)</td>\n",
       "    </tr>\n",
       "    <tr>\n",
       "      <th>4</th>\n",
       "      <td>hub_3832</td>\n",
       "      <td>13th &amp; Pearl @ Pearl side</td>\n",
       "      <td>POINT (-13702278.750 5472449.473)</td>\n",
       "    </tr>\n",
       "  </tbody>\n",
       "</table>\n",
       "</div>"
      ],
      "text/plain": [
       "  station id                       name                           geometry\n",
       "0   hub_3828         Eugene Family YMCA  POINT (-13701591.712 5471253.204)\n",
       "1   hub_3829     Monroe St & Blair Blvd  POINT (-13704001.270 5473411.225)\n",
       "2   hub_3830            10th & Olive SE  POINT (-13702770.365 5472975.425)\n",
       "3   hub_3831          16th & Willamette  POINT (-13702642.423 5471973.384)\n",
       "4   hub_3832  13th & Pearl @ Pearl side  POINT (-13702278.750 5472449.473)"
      ]
     },
     "execution_count": 13,
     "metadata": {},
     "output_type": "execute_result"
    }
   ],
   "source": [
    "stations.head()"
   ]
  },
  {
   "cell_type": "code",
   "execution_count": 14,
   "id": "582d441a",
   "metadata": {
    "scrolled": false
   },
   "outputs": [
    {
     "data": {
      "text/plain": [
       "True"
      ]
     },
     "execution_count": 14,
     "metadata": {},
     "output_type": "execute_result"
    }
   ],
   "source": [
    "\"Monroe St & Blair Blvd\" in stations.name.values"
   ]
  },
  {
   "cell_type": "code",
   "execution_count": 15,
   "id": "f8bf7ead",
   "metadata": {},
   "outputs": [],
   "source": [
    "tripLocations = [x for x in trips.Location.unique() if x != 'nan']"
   ]
  },
  {
   "cell_type": "code",
   "execution_count": 16,
   "id": "97277f03",
   "metadata": {},
   "outputs": [],
   "source": [
    "tripLocSelected = []\n",
    "Loc2Review = []"
   ]
  },
  {
   "cell_type": "code",
   "execution_count": 17,
   "id": "ebdbe651",
   "metadata": {},
   "outputs": [
    {
     "name": "stdout",
     "output_type": "stream",
     "text": [
      "nan\n",
      "17th & Pearl\n",
      "16th & Hilyard @ West side\n",
      "Millrace Garage\n",
      "Event Rack 1 (Virtual Hub)\n",
      "Outdoor Program Barn (Virtual Hub)\n",
      "16th & Hilyard @ East side\n",
      "10th & Olive @ South\n",
      "10th & Olive @ North\n",
      "Court Cafe (virtual hub)\n",
      "Carson Hall (virtual hub)\n",
      "Franklin Blvd & Walnut North\n",
      "Autzen Stadium (Virtual Hub)\n",
      "Papé Field (Virtual Hub)\n",
      "17th & Pearl @ NE corner\n",
      "16th & Hilyard\n",
      "Frohnmayer Footbridge\n",
      "Monroe & Blair\n",
      "Lane County Farmer's Market (Virtual Hub)\n",
      "8th & Park\n",
      "NEST\n",
      "Heartfelt House (Virtual Hub)\n",
      "17th & Pearl @ SW corner\n",
      "Unthank Hall (Virtual Hub)\n",
      "12th & Patterson (Virtual Hub)\n",
      "13th & Oak (Virtual Hub)\n",
      "13th & Olive (Virtual Hub)\n",
      "12th & Patterson Alley (Virtual Hub)\n",
      "Broadway & Hilyard (Virtual Hub)\n",
      "17th & Ferry Alley\n"
     ]
    }
   ],
   "source": [
    "# check if the trip location names are matched with the station names\n",
    "for loc in tripLocations:\n",
    "    if loc in stations.name.values:\n",
    "        tripLocSelected.append(loc)\n",
    "    else:\n",
    "        print(loc)\n",
    "        Loc2Review.append(loc)"
   ]
  },
  {
   "cell_type": "code",
   "execution_count": 18,
   "id": "bc49195b",
   "metadata": {},
   "outputs": [],
   "source": [
    "trips_selected = trips[trips.Location.isin(tripLocSelected)]"
   ]
  },
  {
   "cell_type": "code",
   "execution_count": 19,
   "id": "b22a6469",
   "metadata": {},
   "outputs": [],
   "source": [
    "originCounts = trips_selected[trips_selected.OriginDestination == 'Origin'][['Location', 'RouteID', 'UserID']].groupby('Location').agg({\"RouteID\": lambda x: x.nunique(), \"UserID\": lambda x: x.nunique()})"
   ]
  },
  {
   "cell_type": "code",
   "execution_count": 20,
   "id": "3c6cece0",
   "metadata": {
    "scrolled": true
   },
   "outputs": [
    {
     "data": {
      "text/html": [
       "<div>\n",
       "<style scoped>\n",
       "    .dataframe tbody tr th:only-of-type {\n",
       "        vertical-align: middle;\n",
       "    }\n",
       "\n",
       "    .dataframe tbody tr th {\n",
       "        vertical-align: top;\n",
       "    }\n",
       "\n",
       "    .dataframe thead th {\n",
       "        text-align: right;\n",
       "    }\n",
       "</style>\n",
       "<table border=\"1\" class=\"dataframe\">\n",
       "  <thead>\n",
       "    <tr style=\"text-align: right;\">\n",
       "      <th></th>\n",
       "      <th>RouteID</th>\n",
       "      <th>UserID</th>\n",
       "    </tr>\n",
       "    <tr>\n",
       "      <th>Location</th>\n",
       "      <th></th>\n",
       "      <th></th>\n",
       "    </tr>\n",
       "  </thead>\n",
       "  <tbody>\n",
       "    <tr>\n",
       "      <th>10th &amp; Olive NE</th>\n",
       "      <td>315</td>\n",
       "      <td>146</td>\n",
       "    </tr>\n",
       "    <tr>\n",
       "      <th>10th &amp; Olive SE</th>\n",
       "      <td>6313</td>\n",
       "      <td>1393</td>\n",
       "    </tr>\n",
       "    <tr>\n",
       "      <th>10th &amp; Pearl</th>\n",
       "      <td>2703</td>\n",
       "      <td>1019</td>\n",
       "    </tr>\n",
       "    <tr>\n",
       "      <th>12th &amp; Willamette</th>\n",
       "      <td>19725</td>\n",
       "      <td>2723</td>\n",
       "    </tr>\n",
       "    <tr>\n",
       "      <th>13th &amp; Agate (Virtual Hub)</th>\n",
       "      <td>2853</td>\n",
       "      <td>1042</td>\n",
       "    </tr>\n",
       "  </tbody>\n",
       "</table>\n",
       "</div>"
      ],
      "text/plain": [
       "                            RouteID  UserID\n",
       "Location                                   \n",
       "10th & Olive NE                 315     146\n",
       "10th & Olive SE                6313    1393\n",
       "10th & Pearl                   2703    1019\n",
       "12th & Willamette             19725    2723\n",
       "13th & Agate (Virtual Hub)     2853    1042"
      ]
     },
     "execution_count": 20,
     "metadata": {},
     "output_type": "execute_result"
    }
   ],
   "source": [
    "originCounts.head()"
   ]
  },
  {
   "cell_type": "code",
   "execution_count": 21,
   "id": "4428bfbb",
   "metadata": {},
   "outputs": [
    {
     "data": {
      "text/plain": [
       "29468"
      ]
     },
     "execution_count": 21,
     "metadata": {},
     "output_type": "execute_result"
    }
   ],
   "source": [
    "len(trips_selected.UserID.unique())"
   ]
  },
  {
   "cell_type": "code",
   "execution_count": 22,
   "id": "68643820",
   "metadata": {
    "scrolled": true
   },
   "outputs": [
    {
     "data": {
      "text/plain": [
       "767244"
      ]
     },
     "execution_count": 22,
     "metadata": {},
     "output_type": "execute_result"
    }
   ],
   "source": [
    "trips_selected.shape[0]"
   ]
  },
  {
   "cell_type": "code",
   "execution_count": 23,
   "id": "7cd2ec22",
   "metadata": {},
   "outputs": [],
   "source": [
    "data = {'name':originCounts.index.values,\n",
    "        'ntrips':originCounts.RouteID.values,\n",
    "        'nbikers':originCounts.UserID.values}"
   ]
  },
  {
   "cell_type": "code",
   "execution_count": 24,
   "id": "20ec4118",
   "metadata": {},
   "outputs": [],
   "source": [
    "df = pd.DataFrame(data)"
   ]
  },
  {
   "cell_type": "code",
   "execution_count": 25,
   "id": "06ad9ec9",
   "metadata": {},
   "outputs": [],
   "source": [
    "origin_df = stations.merge(df, how='inner', on='name')"
   ]
  },
  {
   "cell_type": "code",
   "execution_count": 26,
   "id": "fcad1ed9",
   "metadata": {},
   "outputs": [
    {
     "data": {
      "text/html": [
       "<div>\n",
       "<style scoped>\n",
       "    .dataframe tbody tr th:only-of-type {\n",
       "        vertical-align: middle;\n",
       "    }\n",
       "\n",
       "    .dataframe tbody tr th {\n",
       "        vertical-align: top;\n",
       "    }\n",
       "\n",
       "    .dataframe thead th {\n",
       "        text-align: right;\n",
       "    }\n",
       "</style>\n",
       "<table border=\"1\" class=\"dataframe\">\n",
       "  <thead>\n",
       "    <tr style=\"text-align: right;\">\n",
       "      <th></th>\n",
       "      <th>station id</th>\n",
       "      <th>name</th>\n",
       "      <th>geometry</th>\n",
       "      <th>ntrips</th>\n",
       "      <th>nbikers</th>\n",
       "    </tr>\n",
       "  </thead>\n",
       "  <tbody>\n",
       "    <tr>\n",
       "      <th>0</th>\n",
       "      <td>hub_3828</td>\n",
       "      <td>Eugene Family YMCA</td>\n",
       "      <td>POINT (-13701591.712 5471253.204)</td>\n",
       "      <td>12255</td>\n",
       "      <td>1623</td>\n",
       "    </tr>\n",
       "    <tr>\n",
       "      <th>1</th>\n",
       "      <td>hub_3829</td>\n",
       "      <td>Monroe St &amp; Blair Blvd</td>\n",
       "      <td>POINT (-13704001.270 5473411.225)</td>\n",
       "      <td>2145</td>\n",
       "      <td>632</td>\n",
       "    </tr>\n",
       "    <tr>\n",
       "      <th>2</th>\n",
       "      <td>hub_3830</td>\n",
       "      <td>10th &amp; Olive SE</td>\n",
       "      <td>POINT (-13702770.365 5472975.425)</td>\n",
       "      <td>6313</td>\n",
       "      <td>1393</td>\n",
       "    </tr>\n",
       "    <tr>\n",
       "      <th>3</th>\n",
       "      <td>hub_3831</td>\n",
       "      <td>16th &amp; Willamette</td>\n",
       "      <td>POINT (-13702642.423 5471973.384)</td>\n",
       "      <td>4940</td>\n",
       "      <td>1096</td>\n",
       "    </tr>\n",
       "    <tr>\n",
       "      <th>4</th>\n",
       "      <td>hub_3832</td>\n",
       "      <td>13th &amp; Pearl @ Pearl side</td>\n",
       "      <td>POINT (-13702278.750 5472449.473)</td>\n",
       "      <td>5824</td>\n",
       "      <td>1840</td>\n",
       "    </tr>\n",
       "  </tbody>\n",
       "</table>\n",
       "</div>"
      ],
      "text/plain": [
       "  station id                       name                           geometry  \\\n",
       "0   hub_3828         Eugene Family YMCA  POINT (-13701591.712 5471253.204)   \n",
       "1   hub_3829     Monroe St & Blair Blvd  POINT (-13704001.270 5473411.225)   \n",
       "2   hub_3830            10th & Olive SE  POINT (-13702770.365 5472975.425)   \n",
       "3   hub_3831          16th & Willamette  POINT (-13702642.423 5471973.384)   \n",
       "4   hub_3832  13th & Pearl @ Pearl side  POINT (-13702278.750 5472449.473)   \n",
       "\n",
       "   ntrips  nbikers  \n",
       "0   12255     1623  \n",
       "1    2145      632  \n",
       "2    6313     1393  \n",
       "3    4940     1096  \n",
       "4    5824     1840  "
      ]
     },
     "execution_count": 26,
     "metadata": {},
     "output_type": "execute_result"
    }
   ],
   "source": [
    "origin_df.head()"
   ]
  },
  {
   "cell_type": "code",
   "execution_count": 27,
   "id": "f45fd5b7",
   "metadata": {},
   "outputs": [],
   "source": [
    "origin_df.to_file(r'T:\\MPO\\Bike&Ped\\BikeCounting\\StoryMap\\BikeShare\\Data\\OriginCounts.shp')"
   ]
  },
  {
   "cell_type": "code",
   "execution_count": 28,
   "id": "06e07313",
   "metadata": {},
   "outputs": [],
   "source": [
    "destinationCounts = trips_selected[trips_selected.OriginDestination == 'Destination'][['Location', 'RouteID', 'UserID']].groupby('Location').agg({\"RouteID\": lambda x: x.nunique(), \"UserID\": lambda x: x.nunique()})"
   ]
  },
  {
   "cell_type": "code",
   "execution_count": 29,
   "id": "23f21e18",
   "metadata": {},
   "outputs": [],
   "source": [
    "data = {'name':destinationCounts.index.values,\n",
    "        'ntrips':destinationCounts.RouteID.values,\n",
    "        'nbikers':destinationCounts.UserID.values}\n",
    "df = pd.DataFrame(data)\n",
    "destination_df = stations.merge(df, how='inner', on='name')\n",
    "destination_df.to_file(r'T:\\MPO\\Bike&Ped\\BikeCounting\\StoryMap\\BikeShare\\Data\\DestinationCounts.shp')"
   ]
  }
 ],
 "metadata": {
  "kernelspec": {
   "display_name": "Python 3",
   "language": "python",
   "name": "python3"
  },
  "language_info": {
   "codemirror_mode": {
    "name": "ipython",
    "version": 3
   },
   "file_extension": ".py",
   "mimetype": "text/x-python",
   "name": "python",
   "nbconvert_exporter": "python",
   "pygments_lexer": "ipython3",
   "version": "3.8.8"
  }
 },
 "nbformat": 4,
 "nbformat_minor": 5
}
