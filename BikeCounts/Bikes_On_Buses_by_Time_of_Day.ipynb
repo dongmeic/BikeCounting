{
 "cells": [
  {
   "cell_type": "code",
   "execution_count": 1,
   "id": "0ae37fdd",
   "metadata": {},
   "outputs": [],
   "source": [
    "options(warn = -1)"
   ]
  },
  {
   "cell_type": "code",
   "execution_count": 2,
   "id": "5f8b5157",
   "metadata": {},
   "outputs": [
    {
     "name": "stderr",
     "output_type": "stream",
     "text": [
      "\n",
      "Attaching package: 'lubridate'\n",
      "\n",
      "\n",
      "The following objects are masked from 'package:base':\n",
      "\n",
      "    date, intersect, setdiff, union\n",
      "\n",
      "\n",
      "Loading required package: sp\n",
      "\n",
      "rgdal: version: 1.5-23, (SVN revision 1121)\n",
      "Geospatial Data Abstraction Library extensions to R successfully loaded\n",
      "Loaded GDAL runtime: GDAL 3.2.1, released 2020/12/29\n",
      "Path to GDAL shared files: C:/Users/clid1852/Documents/R/win-library/4.0/rgdal/gdal\n",
      "GDAL binary built with GEOS: TRUE \n",
      "Loaded PROJ runtime: Rel. 7.2.1, January 1st, 2021, [PJ_VERSION: 721]\n",
      "Path to PROJ shared files: C:/Users/clid1852/Documents/R/win-library/4.0/rgdal/proj\n",
      "PROJ CDN enabled: TRUE\n",
      "Linking to sp version:1.4-5\n",
      "To mute warnings of possible GDAL/OSR exportToProj4() degradation,\n",
      "use options(\"rgdal_show_exportToProj4_warnings\"=\"none\") before loading rgdal.\n",
      "Overwritten PROJ_LIB was C:/Users/clid1852/Documents/R/win-library/4.0/rgdal/proj\n",
      "\n"
     ]
    }
   ],
   "source": [
    "library(lubridate)\n",
    "library(rgdal)\n",
    "library(stringr)"
   ]
  },
  {
   "cell_type": "code",
   "execution_count": 3,
   "id": "b2997dce",
   "metadata": {},
   "outputs": [],
   "source": [
    "data <- read.csv('T:/Tableau/tableauBikesOnBuses/Datasources/MonthlyBikesOnBuses.csv')"
   ]
  },
  {
   "cell_type": "code",
   "execution_count": 4,
   "id": "36f2b2e4",
   "metadata": {},
   "outputs": [],
   "source": [
    "data$date <- as.Date(data$date, \"%Y-%m-%d\")"
   ]
  },
  {
   "cell_type": "code",
   "execution_count": 5,
   "id": "ba60cb18",
   "metadata": {},
   "outputs": [],
   "source": [
    "data$year <- year(data$date)"
   ]
  },
  {
   "cell_type": "code",
   "execution_count": 6,
   "id": "bd9a31ad",
   "metadata": {},
   "outputs": [],
   "source": [
    "dat <- data[data$year == 2021,]"
   ]
  },
  {
   "cell_type": "code",
   "execution_count": 7,
   "id": "c54cceae",
   "metadata": {},
   "outputs": [
    {
     "data": {
      "text/html": [
       "<style>\n",
       ".list-inline {list-style: none; margin:0; padding: 0}\n",
       ".list-inline>li {display: inline-block}\n",
       ".list-inline>li:not(:last-child)::after {content: \"\\00b7\"; padding: 0 .5ex}\n",
       "</style>\n",
       "<ol class=list-inline><li>'stop'</li><li>'srv'</li><li>'date'</li><li>'block'</li><li>'trip_end'</li><li>'time'</li><li>'route'</li><li>'dir'</li><li>'stop_name'</li><li>'bus'</li><li>'odometer'</li><li>'desc'</li><li>'qty'</li><li>'MonthYear'</li><li>'longitude'</li><li>'latitude'</li><li>'year'</li></ol>\n"
      ],
      "text/latex": [
       "\\begin{enumerate*}\n",
       "\\item 'stop'\n",
       "\\item 'srv'\n",
       "\\item 'date'\n",
       "\\item 'block'\n",
       "\\item 'trip\\_end'\n",
       "\\item 'time'\n",
       "\\item 'route'\n",
       "\\item 'dir'\n",
       "\\item 'stop\\_name'\n",
       "\\item 'bus'\n",
       "\\item 'odometer'\n",
       "\\item 'desc'\n",
       "\\item 'qty'\n",
       "\\item 'MonthYear'\n",
       "\\item 'longitude'\n",
       "\\item 'latitude'\n",
       "\\item 'year'\n",
       "\\end{enumerate*}\n"
      ],
      "text/markdown": [
       "1. 'stop'\n",
       "2. 'srv'\n",
       "3. 'date'\n",
       "4. 'block'\n",
       "5. 'trip_end'\n",
       "6. 'time'\n",
       "7. 'route'\n",
       "8. 'dir'\n",
       "9. 'stop_name'\n",
       "10. 'bus'\n",
       "11. 'odometer'\n",
       "12. 'desc'\n",
       "13. 'qty'\n",
       "14. 'MonthYear'\n",
       "15. 'longitude'\n",
       "16. 'latitude'\n",
       "17. 'year'\n",
       "\n",
       "\n"
      ],
      "text/plain": [
       " [1] \"stop\"      \"srv\"       \"date\"      \"block\"     \"trip_end\"  \"time\"     \n",
       " [7] \"route\"     \"dir\"       \"stop_name\" \"bus\"       \"odometer\"  \"desc\"     \n",
       "[13] \"qty\"       \"MonthYear\" \"longitude\" \"latitude\"  \"year\"     "
      ]
     },
     "metadata": {},
     "output_type": "display_data"
    }
   ],
   "source": [
    "names(dat)"
   ]
  },
  {
   "cell_type": "code",
   "execution_count": 8,
   "id": "5d70e1cb",
   "metadata": {},
   "outputs": [],
   "source": [
    "convert_time_to_hour <- function(x){\n",
    "    x <- unlist(str_split(x, \" \"))[2]\n",
    "    s <- unlist(str_split(x, \":\"))\n",
    "    return(as.numeric(s[1])+as.numeric(s[2])/60)\n",
    "}"
   ]
  },
  {
   "cell_type": "code",
   "execution_count": 9,
   "id": "a2055a0f",
   "metadata": {},
   "outputs": [],
   "source": [
    "dat$hour <- sapply(dat$trip_end, function(x) convert_time_to_hour(x))"
   ]
  },
  {
   "cell_type": "code",
   "execution_count": 10,
   "id": "381aaf71",
   "metadata": {},
   "outputs": [],
   "source": [
    "get_parts_of_day <- function(x){\n",
    "    if(x >= 21 | x <= 4){\n",
    "        d <- \"Night\"\n",
    "    }else if(x > 17 & x < 21){\n",
    "        d <- \"Evening\"\n",
    "    }else if(x > 12 & x <= 17){\n",
    "        d <- \"Afternoon\"\n",
    "    }else{\n",
    "        d <- \"Morning\"\n",
    "    }\n",
    "    return(d)\n",
    "}"
   ]
  },
  {
   "cell_type": "code",
   "execution_count": 11,
   "id": "daca23d4",
   "metadata": {},
   "outputs": [],
   "source": [
    "dat$DayPart <- sapply(dat$hour, function(x) get_parts_of_day(x))"
   ]
  },
  {
   "cell_type": "code",
   "execution_count": 12,
   "id": "b211fac8",
   "metadata": {},
   "outputs": [
    {
     "data": {
      "text/html": [
       "<style>\n",
       ".list-inline {list-style: none; margin:0; padding: 0}\n",
       ".list-inline>li {display: inline-block}\n",
       ".list-inline>li:not(:last-child)::after {content: \"\\00b7\"; padding: 0 .5ex}\n",
       "</style>\n",
       "<ol class=list-inline><li>'O'</li><li>'I'</li></ol>\n"
      ],
      "text/latex": [
       "\\begin{enumerate*}\n",
       "\\item 'O'\n",
       "\\item 'I'\n",
       "\\end{enumerate*}\n"
      ],
      "text/markdown": [
       "1. 'O'\n",
       "2. 'I'\n",
       "\n",
       "\n"
      ],
      "text/plain": [
       "[1] \"O\" \"I\""
      ]
     },
     "metadata": {},
     "output_type": "display_data"
    }
   ],
   "source": [
    "unique(dat$dir)"
   ]
  },
  {
   "cell_type": "code",
   "execution_count": 13,
   "id": "93cd6241",
   "metadata": {},
   "outputs": [],
   "source": [
    "agg_data <- function(df=dat, by=\"I\"){\n",
    "    dt <- df[df$dir == by,]\n",
    "    aggdt <- aggregate(x=list(qty=dt$qty),\n",
    "              by=list(stop = dt$stop, stop_name = dt$stop_name, route=dt$route, longitude = dt$longitude, latitude=dt$latitude, daypart=dt$DayPart),\n",
    "              FUN=sum)\n",
    "    return(aggdt)\n",
    "}"
   ]
  },
  {
   "cell_type": "code",
   "execution_count": 14,
   "id": "5dcdbff6",
   "metadata": {},
   "outputs": [],
   "source": [
    "inbound_dt <- agg_data()"
   ]
  },
  {
   "cell_type": "code",
   "execution_count": 22,
   "id": "55ebe632",
   "metadata": {},
   "outputs": [
    {
     "data": {
      "text/html": [
       "<table class=\"dataframe\">\n",
       "<caption>A data.frame: 6 × 7</caption>\n",
       "<thead>\n",
       "\t<tr><th></th><th scope=col>stop</th><th scope=col>stop_name</th><th scope=col>route</th><th scope=col>longitude</th><th scope=col>latitude</th><th scope=col>daypart</th><th scope=col>qty</th></tr>\n",
       "\t<tr><th></th><th scope=col>&lt;int&gt;</th><th scope=col>&lt;chr&gt;</th><th scope=col>&lt;chr&gt;</th><th scope=col>&lt;dbl&gt;</th><th scope=col>&lt;dbl&gt;</th><th scope=col>&lt;chr&gt;</th><th scope=col>&lt;int&gt;</th></tr>\n",
       "</thead>\n",
       "<tbody>\n",
       "\t<tr><th scope=row>1</th><td>9800</td><td>E/S of WalMart Rd N of Thomas Ln   </td><td>98</td><td>-123.0406</td><td>43.79921</td><td>Afternoon</td><td>64</td></tr>\n",
       "\t<tr><th scope=row>2</th><td>9821</td><td>E/S of Row River N of Thornton     </td><td>98</td><td>-123.0403</td><td>43.80244</td><td>Afternoon</td><td> 1</td></tr>\n",
       "\t<tr><th scope=row>3</th><td>9830</td><td>N/S of C E of 1st                  </td><td>98</td><td>-123.0198</td><td>43.91701</td><td>Afternoon</td><td>92</td></tr>\n",
       "\t<tr><th scope=row>4</th><td>9832</td><td>S/S of E. Oregon Ave. E of Hwy 99  </td><td>98</td><td>-123.0169</td><td>43.91781</td><td>Afternoon</td><td> 3</td></tr>\n",
       "\t<tr><th scope=row>5</th><td>9833</td><td>N/S of E. Oregon Ave. E of Hwy 99  </td><td>98</td><td>-123.0173</td><td>43.91794</td><td>Afternoon</td><td> 4</td></tr>\n",
       "\t<tr><th scope=row>6</th><td> 516</td><td>E/S of Donald S/O Cul deSac 5315-35</td><td>24</td><td>-123.0906</td><td>43.99823</td><td>Afternoon</td><td> 7</td></tr>\n",
       "</tbody>\n",
       "</table>\n"
      ],
      "text/latex": [
       "A data.frame: 6 × 7\n",
       "\\begin{tabular}{r|lllllll}\n",
       "  & stop & stop\\_name & route & longitude & latitude & daypart & qty\\\\\n",
       "  & <int> & <chr> & <chr> & <dbl> & <dbl> & <chr> & <int>\\\\\n",
       "\\hline\n",
       "\t1 & 9800 & E/S of WalMart Rd N of Thomas Ln    & 98 & -123.0406 & 43.79921 & Afternoon & 64\\\\\n",
       "\t2 & 9821 & E/S of Row River N of Thornton      & 98 & -123.0403 & 43.80244 & Afternoon &  1\\\\\n",
       "\t3 & 9830 & N/S of C E of 1st                   & 98 & -123.0198 & 43.91701 & Afternoon & 92\\\\\n",
       "\t4 & 9832 & S/S of E. Oregon Ave. E of Hwy 99   & 98 & -123.0169 & 43.91781 & Afternoon &  3\\\\\n",
       "\t5 & 9833 & N/S of E. Oregon Ave. E of Hwy 99   & 98 & -123.0173 & 43.91794 & Afternoon &  4\\\\\n",
       "\t6 &  516 & E/S of Donald S/O Cul deSac 5315-35 & 24 & -123.0906 & 43.99823 & Afternoon &  7\\\\\n",
       "\\end{tabular}\n"
      ],
      "text/markdown": [
       "\n",
       "A data.frame: 6 × 7\n",
       "\n",
       "| <!--/--> | stop &lt;int&gt; | stop_name &lt;chr&gt; | route &lt;chr&gt; | longitude &lt;dbl&gt; | latitude &lt;dbl&gt; | daypart &lt;chr&gt; | qty &lt;int&gt; |\n",
       "|---|---|---|---|---|---|---|---|\n",
       "| 1 | 9800 | E/S of WalMart Rd N of Thomas Ln    | 98 | -123.0406 | 43.79921 | Afternoon | 64 |\n",
       "| 2 | 9821 | E/S of Row River N of Thornton      | 98 | -123.0403 | 43.80244 | Afternoon |  1 |\n",
       "| 3 | 9830 | N/S of C E of 1st                   | 98 | -123.0198 | 43.91701 | Afternoon | 92 |\n",
       "| 4 | 9832 | S/S of E. Oregon Ave. E of Hwy 99   | 98 | -123.0169 | 43.91781 | Afternoon |  3 |\n",
       "| 5 | 9833 | N/S of E. Oregon Ave. E of Hwy 99   | 98 | -123.0173 | 43.91794 | Afternoon |  4 |\n",
       "| 6 |  516 | E/S of Donald S/O Cul deSac 5315-35 | 24 | -123.0906 | 43.99823 | Afternoon |  7 |\n",
       "\n"
      ],
      "text/plain": [
       "  stop stop_name                           route longitude latitude daypart  \n",
       "1 9800 E/S of WalMart Rd N of Thomas Ln    98    -123.0406 43.79921 Afternoon\n",
       "2 9821 E/S of Row River N of Thornton      98    -123.0403 43.80244 Afternoon\n",
       "3 9830 N/S of C E of 1st                   98    -123.0198 43.91701 Afternoon\n",
       "4 9832 S/S of E. Oregon Ave. E of Hwy 99   98    -123.0169 43.91781 Afternoon\n",
       "5 9833 N/S of E. Oregon Ave. E of Hwy 99   98    -123.0173 43.91794 Afternoon\n",
       "6  516 E/S of Donald S/O Cul deSac 5315-35 24    -123.0906 43.99823 Afternoon\n",
       "  qty\n",
       "1 64 \n",
       "2  1 \n",
       "3 92 \n",
       "4  3 \n",
       "5  4 \n",
       "6  7 "
      ]
     },
     "metadata": {},
     "output_type": "display_data"
    }
   ],
   "source": [
    "head(inbound_dt)"
   ]
  },
  {
   "cell_type": "code",
   "execution_count": 15,
   "id": "a8fed220",
   "metadata": {},
   "outputs": [],
   "source": [
    "outbound_dt <- agg_data(by=\"O\")"
   ]
  },
  {
   "cell_type": "code",
   "execution_count": 16,
   "id": "e582a3aa",
   "metadata": {},
   "outputs": [],
   "source": [
    "df2spdf <- function(df, lon_col_name, lat_col_name, trans = TRUE){\n",
    "  lonlat <- sp::CRS(\"+proj=longlat +datum=WGS84 +ellps=WGS84 +towgs84=0,0,0\")\n",
    "  lon_col_no <- which(names(df)==lon_col_name)\n",
    "  lat_col_no <- which(names(df)==lat_col_name)\n",
    "  xy <- data.frame(df[,c(lon_col_no,lat_col_no)])\n",
    "  coordinates(xy) <- c(lon_col_name, lat_col_name)\n",
    "  proj4string(xy) <- lonlat\n",
    "  spdf <- sp::SpatialPointsDataFrame(coords = xy, data = df)\n",
    "  if(trans){\n",
    "    spdf <- spTransform(spdf,  CRS(\"+proj=merc +a=6378137 +b=6378137 +lat_ts=0 +lon_0=0 +x_0=0 +y_0=0 +k=1 +units=m +nadgrids=@null +wktext +no_defs +type=crs\"))\n",
    "  }\n",
    "  return(spdf)\n",
    "}"
   ]
  },
  {
   "cell_type": "code",
   "execution_count": 17,
   "id": "cc11cfc1",
   "metadata": {},
   "outputs": [],
   "source": [
    "inbound_spdf <- df2spdf(inbound_dt, 'longitude', 'latitude')"
   ]
  },
  {
   "cell_type": "code",
   "execution_count": 23,
   "id": "629e31e7",
   "metadata": {},
   "outputs": [
    {
     "data": {
      "text/html": [
       "<table class=\"dataframe\">\n",
       "<caption>A data.frame: 6 × 7</caption>\n",
       "<thead>\n",
       "\t<tr><th></th><th scope=col>stop</th><th scope=col>stop_name</th><th scope=col>route</th><th scope=col>longitude</th><th scope=col>latitude</th><th scope=col>daypart</th><th scope=col>qty</th></tr>\n",
       "\t<tr><th></th><th scope=col>&lt;int&gt;</th><th scope=col>&lt;chr&gt;</th><th scope=col>&lt;chr&gt;</th><th scope=col>&lt;dbl&gt;</th><th scope=col>&lt;dbl&gt;</th><th scope=col>&lt;chr&gt;</th><th scope=col>&lt;int&gt;</th></tr>\n",
       "</thead>\n",
       "<tbody>\n",
       "\t<tr><th scope=row>1</th><td>9800</td><td>E/S of WalMart Rd N of Thomas Ln   </td><td>98</td><td>-123.0406</td><td>43.79921</td><td>Afternoon</td><td>64</td></tr>\n",
       "\t<tr><th scope=row>2</th><td>9821</td><td>E/S of Row River N of Thornton     </td><td>98</td><td>-123.0403</td><td>43.80244</td><td>Afternoon</td><td> 1</td></tr>\n",
       "\t<tr><th scope=row>3</th><td>9830</td><td>N/S of C E of 1st                  </td><td>98</td><td>-123.0198</td><td>43.91701</td><td>Afternoon</td><td>92</td></tr>\n",
       "\t<tr><th scope=row>4</th><td>9832</td><td>S/S of E. Oregon Ave. E of Hwy 99  </td><td>98</td><td>-123.0169</td><td>43.91781</td><td>Afternoon</td><td> 3</td></tr>\n",
       "\t<tr><th scope=row>5</th><td>9833</td><td>N/S of E. Oregon Ave. E of Hwy 99  </td><td>98</td><td>-123.0173</td><td>43.91794</td><td>Afternoon</td><td> 4</td></tr>\n",
       "\t<tr><th scope=row>6</th><td> 516</td><td>E/S of Donald S/O Cul deSac 5315-35</td><td>24</td><td>-123.0906</td><td>43.99823</td><td>Afternoon</td><td> 7</td></tr>\n",
       "</tbody>\n",
       "</table>\n"
      ],
      "text/latex": [
       "A data.frame: 6 × 7\n",
       "\\begin{tabular}{r|lllllll}\n",
       "  & stop & stop\\_name & route & longitude & latitude & daypart & qty\\\\\n",
       "  & <int> & <chr> & <chr> & <dbl> & <dbl> & <chr> & <int>\\\\\n",
       "\\hline\n",
       "\t1 & 9800 & E/S of WalMart Rd N of Thomas Ln    & 98 & -123.0406 & 43.79921 & Afternoon & 64\\\\\n",
       "\t2 & 9821 & E/S of Row River N of Thornton      & 98 & -123.0403 & 43.80244 & Afternoon &  1\\\\\n",
       "\t3 & 9830 & N/S of C E of 1st                   & 98 & -123.0198 & 43.91701 & Afternoon & 92\\\\\n",
       "\t4 & 9832 & S/S of E. Oregon Ave. E of Hwy 99   & 98 & -123.0169 & 43.91781 & Afternoon &  3\\\\\n",
       "\t5 & 9833 & N/S of E. Oregon Ave. E of Hwy 99   & 98 & -123.0173 & 43.91794 & Afternoon &  4\\\\\n",
       "\t6 &  516 & E/S of Donald S/O Cul deSac 5315-35 & 24 & -123.0906 & 43.99823 & Afternoon &  7\\\\\n",
       "\\end{tabular}\n"
      ],
      "text/markdown": [
       "\n",
       "A data.frame: 6 × 7\n",
       "\n",
       "| <!--/--> | stop &lt;int&gt; | stop_name &lt;chr&gt; | route &lt;chr&gt; | longitude &lt;dbl&gt; | latitude &lt;dbl&gt; | daypart &lt;chr&gt; | qty &lt;int&gt; |\n",
       "|---|---|---|---|---|---|---|---|\n",
       "| 1 | 9800 | E/S of WalMart Rd N of Thomas Ln    | 98 | -123.0406 | 43.79921 | Afternoon | 64 |\n",
       "| 2 | 9821 | E/S of Row River N of Thornton      | 98 | -123.0403 | 43.80244 | Afternoon |  1 |\n",
       "| 3 | 9830 | N/S of C E of 1st                   | 98 | -123.0198 | 43.91701 | Afternoon | 92 |\n",
       "| 4 | 9832 | S/S of E. Oregon Ave. E of Hwy 99   | 98 | -123.0169 | 43.91781 | Afternoon |  3 |\n",
       "| 5 | 9833 | N/S of E. Oregon Ave. E of Hwy 99   | 98 | -123.0173 | 43.91794 | Afternoon |  4 |\n",
       "| 6 |  516 | E/S of Donald S/O Cul deSac 5315-35 | 24 | -123.0906 | 43.99823 | Afternoon |  7 |\n",
       "\n"
      ],
      "text/plain": [
       "  stop stop_name                           route longitude latitude daypart  \n",
       "1 9800 E/S of WalMart Rd N of Thomas Ln    98    -123.0406 43.79921 Afternoon\n",
       "2 9821 E/S of Row River N of Thornton      98    -123.0403 43.80244 Afternoon\n",
       "3 9830 N/S of C E of 1st                   98    -123.0198 43.91701 Afternoon\n",
       "4 9832 S/S of E. Oregon Ave. E of Hwy 99   98    -123.0169 43.91781 Afternoon\n",
       "5 9833 N/S of E. Oregon Ave. E of Hwy 99   98    -123.0173 43.91794 Afternoon\n",
       "6  516 E/S of Donald S/O Cul deSac 5315-35 24    -123.0906 43.99823 Afternoon\n",
       "  qty\n",
       "1 64 \n",
       "2  1 \n",
       "3 92 \n",
       "4  3 \n",
       "5  4 \n",
       "6  7 "
      ]
     },
     "metadata": {},
     "output_type": "display_data"
    }
   ],
   "source": [
    "head(inbound_spdf@data)"
   ]
  },
  {
   "cell_type": "code",
   "execution_count": 18,
   "id": "9676bfe0",
   "metadata": {},
   "outputs": [],
   "source": [
    "outbound_spdf <- df2spdf(outbound_dt, 'longitude', 'latitude')"
   ]
  },
  {
   "cell_type": "code",
   "execution_count": 19,
   "id": "3591cfe8",
   "metadata": {},
   "outputs": [],
   "source": [
    "path <- \"T:/DCProjects/StoryMap/BikeCounting/BikeOnBuses/Output\""
   ]
  },
  {
   "cell_type": "code",
   "execution_count": 20,
   "id": "64bf71ef",
   "metadata": {},
   "outputs": [],
   "source": [
    "writeOGR(inbound_spdf, dsn=path, layer=\"Inbound_BOB_DayPart\", driver=\"ESRI Shapefile\", overwrite_layer=TRUE)"
   ]
  },
  {
   "cell_type": "code",
   "execution_count": 21,
   "id": "0946e076",
   "metadata": {},
   "outputs": [],
   "source": [
    "writeOGR(outbound_spdf, dsn=path, layer=\"Outbound_BOB_DayPart\", driver=\"ESRI Shapefile\", overwrite_layer=TRUE)"
   ]
  }
 ],
 "metadata": {
  "kernelspec": {
   "display_name": "R",
   "language": "R",
   "name": "ir"
  },
  "language_info": {
   "codemirror_mode": "r",
   "file_extension": ".r",
   "mimetype": "text/x-r-source",
   "name": "R",
   "pygments_lexer": "r",
   "version": "4.0.3"
  }
 },
 "nbformat": 4,
 "nbformat_minor": 5
}
