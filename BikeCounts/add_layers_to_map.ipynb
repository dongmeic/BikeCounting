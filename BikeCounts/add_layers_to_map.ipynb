{
 "cells": [
  {
   "cell_type": "code",
   "execution_count": 1,
   "id": "f3bf9389",
   "metadata": {},
   "outputs": [],
   "source": [
    "from IPython.display import display\n",
    "import arcgis\n",
    "from arcgis.gis import GIS\n",
    "\n",
    "gis = GIS('home')"
   ]
  },
  {
   "cell_type": "code",
   "execution_count": 2,
   "id": "a1b003e8",
   "metadata": {},
   "outputs": [],
   "source": [
    "from arcgis.mapping import WebMap\n",
    "empty_webmap = WebMap()"
   ]
  },
  {
   "cell_type": "code",
   "execution_count": 3,
   "id": "f4ced23b",
   "metadata": {},
   "outputs": [
    {
     "data": {
      "text/plain": [
       "[]"
      ]
     },
     "execution_count": 3,
     "metadata": {},
     "output_type": "execute_result"
    }
   ],
   "source": [
    "empty_webmap.layers"
   ]
  },
  {
   "cell_type": "code",
   "execution_count": 4,
   "id": "23149afb",
   "metadata": {},
   "outputs": [],
   "source": [
    "hourly_bike_counts = empty_webmap"
   ]
  },
  {
   "cell_type": "code",
   "execution_count": 5,
   "id": "a9f88346",
   "metadata": {},
   "outputs": [],
   "source": [
    "year = 2021"
   ]
  },
  {
   "cell_type": "code",
   "execution_count": 6,
   "id": "befe9d84",
   "metadata": {},
   "outputs": [],
   "source": [
    "my_content = gis.content.search(query=\"owner:\" + gis.users.me.username + \" AND title:\" + \"Hourly Bike Counts in \" + str(year),\n",
    "                               item_type=\"Feature Layer\")\n",
    "file_item=my_content[0]"
   ]
  },
  {
   "cell_type": "code",
   "execution_count": 7,
   "id": "ec3d9ee4",
   "metadata": {},
   "outputs": [
    {
     "data": {
      "text/plain": [
       "True"
      ]
     },
     "execution_count": 7,
     "metadata": {},
     "output_type": "execute_result"
    }
   ],
   "source": [
    "hourly_bike_counts.add_layer(file_item)"
   ]
  },
  {
   "cell_type": "code",
   "execution_count": 8,
   "id": "75cb7130",
   "metadata": {},
   "outputs": [
    {
     "data": {
      "text/html": [
       "<div class=\"item_container\" style=\"height: auto; overflow: hidden; border: 1px solid #cfcfcf; border-radius: 2px; background: #f6fafa; line-height: 1.21429em; padding: 10px;\">\n",
       "                    <div class=\"item_left\" style=\"width: 210px; float: left;\">\n",
       "                       <a href='https://www.arcgis.com//home/item.html?id=e23fa099d190463dadef3a7cf81c7038' target='_blank'>\n",
       "                        <img src='http://static.arcgis.com/images/desktopapp.png' class=\"itemThumbnail\">\n",
       "                       </a>\n",
       "                    </div>\n",
       "\n",
       "                    <div class=\"item_right\"     style=\"float: none; width: auto; overflow: hidden;\">\n",
       "                        <a href='https://www.arcgis.com//home/item.html?id=e23fa099d190463dadef3a7cf81c7038' target='_blank'><b>Hourly bike counts in central Lane</b>\n",
       "                        </a>\n",
       "                        <br/>Map created using Python API showing hourly bike counts in central Lane County<img src='https://www.arcgis.com//home/js/jsapi/esri/css/images/item_type_icons/maps16.png' style=\"vertical-align:middle;\">Web Map by DCHEN_LCOG\n",
       "                        <br/>Last Modified: May 02, 2022\n",
       "                        <br/>0 comments, 0 views\n",
       "                    </div>\n",
       "                </div>\n",
       "                "
      ],
      "text/plain": [
       "<Item title:\"Hourly bike counts in central Lane\" type:Web Map owner:DCHEN_LCOG>"
      ]
     },
     "execution_count": 8,
     "metadata": {},
     "output_type": "execute_result"
    }
   ],
   "source": [
    "webmap_item_properties = {'title':'Hourly bike counts in central Lane', \n",
    "                         'snippet':'Map created using Python API showing hourly bike counts in central Lane County',\n",
    "                         'tags':['bike counts', 'bike', 'python']}\n",
    "hourly_bike_counts.save(webmap_item_properties)"
   ]
  },
  {
   "cell_type": "code",
   "execution_count": 12,
   "id": "4f892809",
   "metadata": {},
   "outputs": [],
   "source": [
    "hourly_bike_counts.remove_layer(hourly_bike_counts.layers[0])"
   ]
  },
  {
   "cell_type": "code",
   "execution_count": 13,
   "id": "e4c40385",
   "metadata": {},
   "outputs": [],
   "source": [
    "for year in range(2012, 2022):\n",
    "    my_content = gis.content.search(query=\"owner:\" + gis.users.me.username + \" AND title:\" + \"Hourly Bike Counts in \" + str(year),\n",
    "                               item_type=\"Feature Layer\")\n",
    "    file_item=my_content[0]\n",
    "    hourly_bike_counts.add_layer(file_item, options={'title':'Hourly Bike Counts in ' + str(year)})"
   ]
  },
  {
   "cell_type": "code",
   "execution_count": 16,
   "id": "e73dd390",
   "metadata": {},
   "outputs": [],
   "source": [
    "import re"
   ]
  },
  {
   "cell_type": "code",
   "execution_count": 29,
   "id": "e183854b",
   "metadata": {},
   "outputs": [
    {
     "data": {
      "text/plain": [
       "True"
      ]
     },
     "execution_count": 29,
     "metadata": {},
     "output_type": "execute_result"
    }
   ],
   "source": [
    "z = re.search(\"2021\", \"Hourly Bike Counts in 2012\")\n",
    "z is None"
   ]
  },
  {
   "cell_type": "code",
   "execution_count": 30,
   "id": "e1cb83ad",
   "metadata": {},
   "outputs": [],
   "source": [
    "year = 2021\n",
    "for layer in hourly_bike_counts.layers:\n",
    "    z = re.search(str(year), layer.title)\n",
    "    if z is None:\n",
    "        layer.visibility = False\n",
    "    else:\n",
    "        layer.visibility = True"
   ]
  },
  {
   "cell_type": "code",
   "execution_count": 37,
   "id": "c217575e",
   "metadata": {},
   "outputs": [],
   "source": [
    "webmap_search = gis.content.search(query=\"owner:\" + gis.users.me.username + \" AND title:\" + \"Hourly bike counts in central Lane\",\n",
    "                                  item_type=\"Web Map\")"
   ]
  },
  {
   "cell_type": "code",
   "execution_count": 38,
   "id": "34574d13",
   "metadata": {},
   "outputs": [
    {
     "data": {
      "text/plain": [
       "[<Item title:\"Hourly bike counts in central Lane\" type:Web Map owner:DCHEN_LCOG>]"
      ]
     },
     "execution_count": 38,
     "metadata": {},
     "output_type": "execute_result"
    }
   ],
   "source": [
    "webmap_search"
   ]
  },
  {
   "cell_type": "code",
   "execution_count": 39,
   "id": "325ee557",
   "metadata": {},
   "outputs": [
    {
     "name": "stdout",
     "output_type": "stream",
     "text": [
      "item deleted: <Item title:\"Hourly bike counts in central Lane\" type:Web Map owner:DCHEN_LCOG>\n"
     ]
    }
   ],
   "source": [
    "for i in webmap_search:\n",
    "    try:\n",
    "        i.delete()\n",
    "        print(\"item deleted: \" + str(i))\n",
    "    except Exception as err:\n",
    "        print(err)"
   ]
  },
  {
   "cell_type": "code",
   "execution_count": 40,
   "id": "4face35f",
   "metadata": {},
   "outputs": [
    {
     "data": {
      "text/html": [
       "<div class=\"item_container\" style=\"height: auto; overflow: hidden; border: 1px solid #cfcfcf; border-radius: 2px; background: #f6fafa; line-height: 1.21429em; padding: 10px;\">\n",
       "                    <div class=\"item_left\" style=\"width: 210px; float: left;\">\n",
       "                       <a href='https://www.arcgis.com//home/item.html?id=7fedc2c2bac240538f6f30c62105af8b' target='_blank'>\n",
       "                        <img src='http://static.arcgis.com/images/desktopapp.png' class=\"itemThumbnail\">\n",
       "                       </a>\n",
       "                    </div>\n",
       "\n",
       "                    <div class=\"item_right\"     style=\"float: none; width: auto; overflow: hidden;\">\n",
       "                        <a href='https://www.arcgis.com//home/item.html?id=7fedc2c2bac240538f6f30c62105af8b' target='_blank'><b>Hourly bike counts in central Lane</b>\n",
       "                        </a>\n",
       "                        <br/>Map created using Python API showing hourly bike counts in central Lane County<img src='https://www.arcgis.com//home/js/jsapi/esri/css/images/item_type_icons/maps16.png' style=\"vertical-align:middle;\">Web Map by DCHEN_LCOG\n",
       "                        <br/>Last Modified: May 03, 2022\n",
       "                        <br/>0 comments, 0 views\n",
       "                    </div>\n",
       "                </div>\n",
       "                "
      ],
      "text/plain": [
       "<Item title:\"Hourly bike counts in central Lane\" type:Web Map owner:DCHEN_LCOG>"
      ]
     },
     "execution_count": 40,
     "metadata": {},
     "output_type": "execute_result"
    }
   ],
   "source": [
    "hourly_bike_counts.save(webmap_item_properties)"
   ]
  },
  {
   "cell_type": "code",
   "execution_count": null,
   "id": "7b866435",
   "metadata": {},
   "outputs": [],
   "source": []
  }
 ],
 "metadata": {
  "kernelspec": {
   "display_name": "Python 3",
   "language": "python",
   "name": "python3"
  },
  "language_info": {
   "codemirror_mode": {
    "name": "ipython",
    "version": 3
   },
   "file_extension": ".py",
   "mimetype": "text/x-python",
   "name": "python",
   "nbconvert_exporter": "python",
   "pygments_lexer": "ipython3",
   "version": "3.7.11"
  }
 },
 "nbformat": 4,
 "nbformat_minor": 5
}
