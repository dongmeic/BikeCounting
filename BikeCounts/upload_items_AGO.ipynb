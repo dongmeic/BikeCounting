{
 "cells": [
  {
   "cell_type": "code",
   "execution_count": 1,
   "id": "d0b7d0e9",
   "metadata": {},
   "outputs": [],
   "source": [
    "from arcgis.gis import GIS"
   ]
  },
  {
   "cell_type": "code",
   "execution_count": 11,
   "id": "b94c0717",
   "metadata": {},
   "outputs": [],
   "source": [
    "import datetime"
   ]
  },
  {
   "cell_type": "code",
   "execution_count": 2,
   "id": "8bc30502",
   "metadata": {},
   "outputs": [],
   "source": [
    "gis = GIS('home')"
   ]
  },
  {
   "cell_type": "code",
   "execution_count": 4,
   "id": "96178e00",
   "metadata": {},
   "outputs": [],
   "source": [
    "path = \"T:/DCProjects/StoryMap/BikeCounting/BikeCounts/Data/\""
   ]
  },
  {
   "cell_type": "code",
   "execution_count": 5,
   "id": "9da7ea85",
   "metadata": {},
   "outputs": [],
   "source": [
    "year = 2021"
   ]
  },
  {
   "cell_type": "code",
   "execution_count": 6,
   "id": "7733f9d0",
   "metadata": {},
   "outputs": [],
   "source": [
    "file_properties={'title':\"Hourly Bike Counts in \" + str(year),\n",
    "                 'type': 'Shapefile',\n",
    "                 #'overwrite':True,\n",
    "                 'tags': 'bike counts, bike'}"
   ]
  },
  {
   "cell_type": "code",
   "execution_count": 7,
   "id": "d0f82758",
   "metadata": {},
   "outputs": [],
   "source": [
    "file_item = gis.content.add(data=path+\"shp/bike_counts_\"+str(year)+ \".zip\",\n",
    "                            item_properties=file_properties)"
   ]
  },
  {
   "cell_type": "code",
   "execution_count": 10,
   "id": "4273771f",
   "metadata": {},
   "outputs": [],
   "source": [
    "file_item_layer = file_item.publish()"
   ]
  },
  {
   "cell_type": "code",
   "execution_count": 12,
   "id": "c036566d",
   "metadata": {},
   "outputs": [
    {
     "name": "stdout",
     "output_type": "stream",
     "text": [
      "0:01:10.133203\n",
      "2012\n",
      "0:02:12.780095\n",
      "2013\n",
      "0:02:49.951698\n",
      "2014\n",
      "0:03:44.543311\n",
      "2015\n",
      "0:02:39.438739\n",
      "2016\n",
      "0:02:29.862250\n",
      "2017\n",
      "0:06:58.633104\n",
      "2018\n",
      "0:08:40.064633\n",
      "2019\n",
      "0:09:00.552522\n",
      "2020\n"
     ]
    }
   ],
   "source": [
    "# upload items online\n",
    "for year in range(2012, 2021):\n",
    "    file_properties={'title':\"Hourly Bike Counts in \" + str(year),\n",
    "                 'type': 'Shapefile',\n",
    "                 'tags': 'bike counts, bike'}\n",
    "    \n",
    "    now = datetime.datetime.now()\n",
    "    file_item = gis.content.add(data=path+\"shp/bike_counts_\"+str(year)+ \".zip\",\n",
    "                            item_properties=file_properties)\n",
    "    file_item_layer = file_item.publish()\n",
    "    later = datetime.datetime.now()\n",
    "    elapsed = later - now\n",
    "    print(elapsed)\n",
    "    print(year)"
   ]
  },
  {
   "cell_type": "code",
   "execution_count": 17,
   "id": "e64d7204",
   "metadata": {},
   "outputs": [],
   "source": [
    "# change the sharing level\n",
    "for year in range(2012, 2022):\n",
    "    my_content = gis.content.search(query=\"owner:\" + gis.users.me.username + \" AND title:\" + \"Hourly Bike Counts in \" + str(year),\n",
    "                               item_type=\"Feature Layer\")\n",
    "    file_item=my_content[0]\n",
    "    file_item.share(everyone=True)"
   ]
  }
 ],
 "metadata": {
  "kernelspec": {
   "display_name": "Python 3",
   "language": "python",
   "name": "python3"
  },
  "language_info": {
   "codemirror_mode": {
    "name": "ipython",
    "version": 3
   },
   "file_extension": ".py",
   "mimetype": "text/x-python",
   "name": "python",
   "nbconvert_exporter": "python",
   "pygments_lexer": "ipython3",
   "version": "3.7.11"
  }
 },
 "nbformat": 4,
 "nbformat_minor": 5
}
