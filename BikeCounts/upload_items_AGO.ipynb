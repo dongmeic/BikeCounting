{
 "cells": [
  {
   "cell_type": "code",
   "execution_count": 1,
   "id": "bec16bf1",
   "metadata": {},
   "outputs": [],
   "source": [
    "from arcgis.gis import GIS"
   ]
  },
  {
   "cell_type": "code",
   "execution_count": 11,
   "id": "3dbe14e3",
   "metadata": {},
   "outputs": [],
   "source": [
    "import datetime"
   ]
  },
  {
   "cell_type": "code",
   "execution_count": 2,
   "id": "b744bd42",
   "metadata": {},
   "outputs": [],
   "source": [
    "gis = GIS('home')"
   ]
  },
  {
   "cell_type": "code",
   "execution_count": 3,
   "id": "eee9190d",
   "metadata": {},
   "outputs": [
    {
     "data": {
      "text/plain": [
       "[<Item title:\"Title VI By Block Group\" type:Feature Layer Collection owner:DCHEN_LCOG>,\n",
       " <Item title:\"Transit Stops\" type:Feature Layer Collection owner:DCHEN_LCOG>,\n",
       " <Item title:\"Map_WFL1\" type:Feature Layer Collection owner:DCHEN_LCOG>,\n",
       " <Item title:\"Native Land Map View\" type:Feature Layer Collection owner:DCHEN_LCOG>,\n",
       " <Item title:\"CityHall\" type:Feature Layer Collection owner:DCHEN_LCOG>]"
      ]
     },
     "execution_count": 3,
     "metadata": {},
     "output_type": "execute_result"
    }
   ],
   "source": [
    "my_content = gis.content.search(query=\"owner:\" + gis.users.me.username,\n",
    "                               item_type=\"Feature Layer\",\n",
    "                               max_items=5)\n",
    "my_content"
   ]
  },
  {
   "cell_type": "code",
   "execution_count": 4,
   "id": "cd348afa",
   "metadata": {},
   "outputs": [],
   "source": [
    "path = \"T:/DCProjects/StoryMap/BikeCounting/BikeCounts/Data/\""
   ]
  },
  {
   "cell_type": "code",
   "execution_count": 5,
   "id": "27b8aa67",
   "metadata": {},
   "outputs": [],
   "source": [
    "year = 2021"
   ]
  },
  {
   "cell_type": "code",
   "execution_count": 6,
   "id": "0c20a0de",
   "metadata": {},
   "outputs": [],
   "source": [
    "file_properties={'title':\"Hourly Bike Counts in \" + str(year),\n",
    "                 'type': 'Shapefile',\n",
    "                 #'overwrite':True,\n",
    "                 'tags': 'bike counts, bike'}"
   ]
  },
  {
   "cell_type": "code",
   "execution_count": 7,
   "id": "c409f351",
   "metadata": {},
   "outputs": [],
   "source": [
    "file_item = gis.content.add(data=path+\"shp/bike_counts_\"+str(year)+ \".zip\",\n",
    "                            item_properties=file_properties)"
   ]
  },
  {
   "cell_type": "code",
   "execution_count": 10,
   "id": "417b18b5",
   "metadata": {},
   "outputs": [],
   "source": [
    "file_item_layer = file_item.publish()"
   ]
  },
  {
   "cell_type": "code",
   "execution_count": 12,
   "id": "40bdd210",
   "metadata": {},
   "outputs": [
    {
     "name": "stdout",
     "output_type": "stream",
     "text": [
      "0:01:10.133203\n",
      "2012\n",
      "0:02:12.780095\n",
      "2013\n",
      "0:02:49.951698\n",
      "2014\n",
      "0:03:44.543311\n",
      "2015\n",
      "0:02:39.438739\n",
      "2016\n",
      "0:02:29.862250\n",
      "2017\n",
      "0:06:58.633104\n",
      "2018\n",
      "0:08:40.064633\n",
      "2019\n",
      "0:09:00.552522\n",
      "2020\n"
     ]
    }
   ],
   "source": [
    "for year in range(2012, 2021):\n",
    "    file_properties={'title':\"Hourly Bike Counts in \" + str(year),\n",
    "                 'type': 'Shapefile',\n",
    "                 'tags': 'bike counts, bike'}\n",
    "    \n",
    "    now = datetime.datetime.now()\n",
    "    file_item = gis.content.add(data=path+\"shp/bike_counts_\"+str(year)+ \".zip\",\n",
    "                            item_properties=file_properties)\n",
    "    file_item_layer = file_item.publish()\n",
    "    later = datetime.datetime.now()\n",
    "    elapsed = later - now\n",
    "    print(elapsed)\n",
    "    print(year)"
   ]
  }
 ],
 "metadata": {
  "kernelspec": {
   "display_name": "Python 3",
   "language": "python",
   "name": "python3"
  },
  "language_info": {
   "codemirror_mode": {
    "name": "ipython",
    "version": 3
   },
   "file_extension": ".py",
   "mimetype": "text/x-python",
   "name": "python",
   "nbconvert_exporter": "python",
   "pygments_lexer": "ipython3",
   "version": "3.7.11"
  }
 },
 "nbformat": 4,
 "nbformat_minor": 5
}
