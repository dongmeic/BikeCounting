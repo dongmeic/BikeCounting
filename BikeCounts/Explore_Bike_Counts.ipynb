{
 "cells": [
  {
   "cell_type": "code",
   "execution_count": 4,
   "id": "d96d11e9",
   "metadata": {},
   "outputs": [],
   "source": [
    "library(readxl)"
   ]
  },
  {
   "cell_type": "code",
   "execution_count": 3,
   "id": "a84014d1",
   "metadata": {},
   "outputs": [],
   "source": [
    "inpath <- 'T:/Data/COUNTS/Nonmotorized Counts/Summary Tables/Bicycle/'"
   ]
  },
  {
   "cell_type": "code",
   "execution_count": 6,
   "id": "748c65f3",
   "metadata": {},
   "outputs": [],
   "source": [
    "data <- read.csv(paste0(inpath, 'Bicycle_HourlyForTableau.csv'))"
   ]
  },
  {
   "cell_type": "code",
   "execution_count": 7,
   "id": "bacc6f96",
   "metadata": {},
   "outputs": [
    {
     "data": {
      "text/html": [
       "<table class=\"dataframe\">\n",
       "<caption>A data.frame: 6 × 22</caption>\n",
       "<thead>\n",
       "\t<tr><th></th><th scope=col>Direction</th><th scope=col>ObsHours</th><th scope=col>Location</th><th scope=col>LocationId</th><th scope=col>Day</th><th scope=col>Month</th><th scope=col>MonthDesc</th><th scope=col>Year</th><th scope=col>Date</th><th scope=col>Season</th><th scope=col>⋯</th><th scope=col>Period</th><th scope=col>DailyCounts</th><th scope=col>IsOneway</th><th scope=col>OnewayDirection</th><th scope=col>IsSidewalk</th><th scope=col>UoInSession</th><th scope=col>IsSpecialEvent</th><th scope=col>UniqueId</th><th scope=col>Hour</th><th scope=col>Hourly_Count</th></tr>\n",
       "\t<tr><th></th><th scope=col>&lt;chr&gt;</th><th scope=col>&lt;int&gt;</th><th scope=col>&lt;chr&gt;</th><th scope=col>&lt;int&gt;</th><th scope=col>&lt;int&gt;</th><th scope=col>&lt;int&gt;</th><th scope=col>&lt;chr&gt;</th><th scope=col>&lt;int&gt;</th><th scope=col>&lt;chr&gt;</th><th scope=col>&lt;chr&gt;</th><th scope=col>⋯</th><th scope=col>&lt;chr&gt;</th><th scope=col>&lt;int&gt;</th><th scope=col>&lt;lgl&gt;</th><th scope=col>&lt;chr&gt;</th><th scope=col>&lt;lgl&gt;</th><th scope=col>&lt;int&gt;</th><th scope=col>&lt;int&gt;</th><th scope=col>&lt;chr&gt;</th><th scope=col>&lt;chr&gt;</th><th scope=col>&lt;int&gt;</th></tr>\n",
       "</thead>\n",
       "<tbody>\n",
       "\t<tr><th scope=row>1</th><td>Total</td><td> 7</td><td>NorthbankSouthGreenwayBr</td><td>3</td><td>21</td><td>1</td><td>January</td><td>2020</td><td>2020-01-21</td><td>Winter</td><td>⋯</td><td>01.21.2020-12.31.2020</td><td> NA</td><td>FALSE</td><td>NA</td><td>FALSE</td><td>1</td><td>0</td><td>Total-NorthbankSouthGreenwayBr-01-21-2020</td><td>0:00</td><td>NA</td></tr>\n",
       "\t<tr><th scope=row>2</th><td>North</td><td> 7</td><td>NorthbankSouthGreenwayBr</td><td>3</td><td>21</td><td>1</td><td>January</td><td>2020</td><td>2020-01-21</td><td>Winter</td><td>⋯</td><td>01.21.2020-12.31.2020</td><td> NA</td><td>FALSE</td><td>NA</td><td>FALSE</td><td>1</td><td>0</td><td>North-NorthbankSouthGreenwayBr-01-21-2020</td><td>0:00</td><td>NA</td></tr>\n",
       "\t<tr><th scope=row>3</th><td>South</td><td> 7</td><td>NorthbankSouthGreenwayBr</td><td>3</td><td>21</td><td>1</td><td>January</td><td>2020</td><td>2020-01-21</td><td>Winter</td><td>⋯</td><td>01.21.2020-12.31.2020</td><td> NA</td><td>FALSE</td><td>NA</td><td>FALSE</td><td>1</td><td>0</td><td>South-NorthbankSouthGreenwayBr-01-21-2020</td><td>0:00</td><td>NA</td></tr>\n",
       "\t<tr><th scope=row>4</th><td>Total</td><td>24</td><td>NorthbankSouthGreenwayBr</td><td>3</td><td>22</td><td>1</td><td>January</td><td>2020</td><td>2020-01-22</td><td>Winter</td><td>⋯</td><td>01.21.2020-12.31.2020</td><td>211</td><td>FALSE</td><td>NA</td><td>FALSE</td><td>1</td><td>0</td><td>Total-NorthbankSouthGreenwayBr-01-22-2020</td><td>0:00</td><td> 2</td></tr>\n",
       "\t<tr><th scope=row>5</th><td>North</td><td>24</td><td>NorthbankSouthGreenwayBr</td><td>3</td><td>22</td><td>1</td><td>January</td><td>2020</td><td>2020-01-22</td><td>Winter</td><td>⋯</td><td>01.21.2020-12.31.2020</td><td>111</td><td>FALSE</td><td>NA</td><td>FALSE</td><td>1</td><td>0</td><td>North-NorthbankSouthGreenwayBr-01-22-2020</td><td>0:00</td><td> 0</td></tr>\n",
       "\t<tr><th scope=row>6</th><td>South</td><td>24</td><td>NorthbankSouthGreenwayBr</td><td>3</td><td>22</td><td>1</td><td>January</td><td>2020</td><td>2020-01-22</td><td>Winter</td><td>⋯</td><td>01.21.2020-12.31.2020</td><td>100</td><td>FALSE</td><td>NA</td><td>FALSE</td><td>1</td><td>0</td><td>South-NorthbankSouthGreenwayBr-01-22-2020</td><td>0:00</td><td> 2</td></tr>\n",
       "</tbody>\n",
       "</table>\n"
      ],
      "text/latex": [
       "A data.frame: 6 × 22\n",
       "\\begin{tabular}{r|lllllllllllllllllllll}\n",
       "  & Direction & ObsHours & Location & LocationId & Day & Month & MonthDesc & Year & Date & Season & ⋯ & Period & DailyCounts & IsOneway & OnewayDirection & IsSidewalk & UoInSession & IsSpecialEvent & UniqueId & Hour & Hourly\\_Count\\\\\n",
       "  & <chr> & <int> & <chr> & <int> & <int> & <int> & <chr> & <int> & <chr> & <chr> & ⋯ & <chr> & <int> & <lgl> & <chr> & <lgl> & <int> & <int> & <chr> & <chr> & <int>\\\\\n",
       "\\hline\n",
       "\t1 & Total &  7 & NorthbankSouthGreenwayBr & 3 & 21 & 1 & January & 2020 & 2020-01-21 & Winter & ⋯ & 01.21.2020-12.31.2020 &  NA & FALSE & NA & FALSE & 1 & 0 & Total-NorthbankSouthGreenwayBr-01-21-2020 & 0:00 & NA\\\\\n",
       "\t2 & North &  7 & NorthbankSouthGreenwayBr & 3 & 21 & 1 & January & 2020 & 2020-01-21 & Winter & ⋯ & 01.21.2020-12.31.2020 &  NA & FALSE & NA & FALSE & 1 & 0 & North-NorthbankSouthGreenwayBr-01-21-2020 & 0:00 & NA\\\\\n",
       "\t3 & South &  7 & NorthbankSouthGreenwayBr & 3 & 21 & 1 & January & 2020 & 2020-01-21 & Winter & ⋯ & 01.21.2020-12.31.2020 &  NA & FALSE & NA & FALSE & 1 & 0 & South-NorthbankSouthGreenwayBr-01-21-2020 & 0:00 & NA\\\\\n",
       "\t4 & Total & 24 & NorthbankSouthGreenwayBr & 3 & 22 & 1 & January & 2020 & 2020-01-22 & Winter & ⋯ & 01.21.2020-12.31.2020 & 211 & FALSE & NA & FALSE & 1 & 0 & Total-NorthbankSouthGreenwayBr-01-22-2020 & 0:00 &  2\\\\\n",
       "\t5 & North & 24 & NorthbankSouthGreenwayBr & 3 & 22 & 1 & January & 2020 & 2020-01-22 & Winter & ⋯ & 01.21.2020-12.31.2020 & 111 & FALSE & NA & FALSE & 1 & 0 & North-NorthbankSouthGreenwayBr-01-22-2020 & 0:00 &  0\\\\\n",
       "\t6 & South & 24 & NorthbankSouthGreenwayBr & 3 & 22 & 1 & January & 2020 & 2020-01-22 & Winter & ⋯ & 01.21.2020-12.31.2020 & 100 & FALSE & NA & FALSE & 1 & 0 & South-NorthbankSouthGreenwayBr-01-22-2020 & 0:00 &  2\\\\\n",
       "\\end{tabular}\n"
      ],
      "text/markdown": [
       "\n",
       "A data.frame: 6 × 22\n",
       "\n",
       "| <!--/--> | Direction &lt;chr&gt; | ObsHours &lt;int&gt; | Location &lt;chr&gt; | LocationId &lt;int&gt; | Day &lt;int&gt; | Month &lt;int&gt; | MonthDesc &lt;chr&gt; | Year &lt;int&gt; | Date &lt;chr&gt; | Season &lt;chr&gt; | ⋯ ⋯ | Period &lt;chr&gt; | DailyCounts &lt;int&gt; | IsOneway &lt;lgl&gt; | OnewayDirection &lt;chr&gt; | IsSidewalk &lt;lgl&gt; | UoInSession &lt;int&gt; | IsSpecialEvent &lt;int&gt; | UniqueId &lt;chr&gt; | Hour &lt;chr&gt; | Hourly_Count &lt;int&gt; |\n",
       "|---|---|---|---|---|---|---|---|---|---|---|---|---|---|---|---|---|---|---|---|---|---|\n",
       "| 1 | Total |  7 | NorthbankSouthGreenwayBr | 3 | 21 | 1 | January | 2020 | 2020-01-21 | Winter | ⋯ | 01.21.2020-12.31.2020 |  NA | FALSE | NA | FALSE | 1 | 0 | Total-NorthbankSouthGreenwayBr-01-21-2020 | 0:00 | NA |\n",
       "| 2 | North |  7 | NorthbankSouthGreenwayBr | 3 | 21 | 1 | January | 2020 | 2020-01-21 | Winter | ⋯ | 01.21.2020-12.31.2020 |  NA | FALSE | NA | FALSE | 1 | 0 | North-NorthbankSouthGreenwayBr-01-21-2020 | 0:00 | NA |\n",
       "| 3 | South |  7 | NorthbankSouthGreenwayBr | 3 | 21 | 1 | January | 2020 | 2020-01-21 | Winter | ⋯ | 01.21.2020-12.31.2020 |  NA | FALSE | NA | FALSE | 1 | 0 | South-NorthbankSouthGreenwayBr-01-21-2020 | 0:00 | NA |\n",
       "| 4 | Total | 24 | NorthbankSouthGreenwayBr | 3 | 22 | 1 | January | 2020 | 2020-01-22 | Winter | ⋯ | 01.21.2020-12.31.2020 | 211 | FALSE | NA | FALSE | 1 | 0 | Total-NorthbankSouthGreenwayBr-01-22-2020 | 0:00 |  2 |\n",
       "| 5 | North | 24 | NorthbankSouthGreenwayBr | 3 | 22 | 1 | January | 2020 | 2020-01-22 | Winter | ⋯ | 01.21.2020-12.31.2020 | 111 | FALSE | NA | FALSE | 1 | 0 | North-NorthbankSouthGreenwayBr-01-22-2020 | 0:00 |  0 |\n",
       "| 6 | South | 24 | NorthbankSouthGreenwayBr | 3 | 22 | 1 | January | 2020 | 2020-01-22 | Winter | ⋯ | 01.21.2020-12.31.2020 | 100 | FALSE | NA | FALSE | 1 | 0 | South-NorthbankSouthGreenwayBr-01-22-2020 | 0:00 |  2 |\n",
       "\n"
      ],
      "text/plain": [
       "  Direction ObsHours Location                 LocationId Day Month MonthDesc\n",
       "1 Total      7       NorthbankSouthGreenwayBr 3          21  1     January  \n",
       "2 North      7       NorthbankSouthGreenwayBr 3          21  1     January  \n",
       "3 South      7       NorthbankSouthGreenwayBr 3          21  1     January  \n",
       "4 Total     24       NorthbankSouthGreenwayBr 3          22  1     January  \n",
       "5 North     24       NorthbankSouthGreenwayBr 3          22  1     January  \n",
       "6 South     24       NorthbankSouthGreenwayBr 3          22  1     January  \n",
       "  Year Date       Season <U+22EF>        Period                DailyCounts IsOneway\n",
       "1 2020 2020-01-21 Winter <U+22EF> 01.21.2020-12.31.2020  NA         FALSE   \n",
       "2 2020 2020-01-21 Winter <U+22EF> 01.21.2020-12.31.2020  NA         FALSE   \n",
       "3 2020 2020-01-21 Winter <U+22EF> 01.21.2020-12.31.2020  NA         FALSE   \n",
       "4 2020 2020-01-22 Winter <U+22EF> 01.21.2020-12.31.2020 211         FALSE   \n",
       "5 2020 2020-01-22 Winter <U+22EF> 01.21.2020-12.31.2020 111         FALSE   \n",
       "6 2020 2020-01-22 Winter <U+22EF> 01.21.2020-12.31.2020 100         FALSE   \n",
       "  OnewayDirection IsSidewalk UoInSession IsSpecialEvent\n",
       "1 NA              FALSE      1           0             \n",
       "2 NA              FALSE      1           0             \n",
       "3 NA              FALSE      1           0             \n",
       "4 NA              FALSE      1           0             \n",
       "5 NA              FALSE      1           0             \n",
       "6 NA              FALSE      1           0             \n",
       "  UniqueId                                  Hour Hourly_Count\n",
       "1 Total-NorthbankSouthGreenwayBr-01-21-2020 0:00 NA          \n",
       "2 North-NorthbankSouthGreenwayBr-01-21-2020 0:00 NA          \n",
       "3 South-NorthbankSouthGreenwayBr-01-21-2020 0:00 NA          \n",
       "4 Total-NorthbankSouthGreenwayBr-01-22-2020 0:00  2          \n",
       "5 North-NorthbankSouthGreenwayBr-01-22-2020 0:00  0          \n",
       "6 South-NorthbankSouthGreenwayBr-01-22-2020 0:00  2          "
      ]
     },
     "metadata": {},
     "output_type": "display_data"
    }
   ],
   "source": [
    "head(data)"
   ]
  },
  {
   "cell_type": "code",
   "execution_count": 8,
   "id": "aafc7dfc",
   "metadata": {},
   "outputs": [
    {
     "data": {
      "text/html": [
       "<style>\n",
       ".list-inline {list-style: none; margin:0; padding: 0}\n",
       ".list-inline>li {display: inline-block}\n",
       ".list-inline>li:not(:last-child)::after {content: \"\\00b7\"; padding: 0 .5ex}\n",
       "</style>\n",
       "<ol class=list-inline><li>'Direction'</li><li>'ObsHours'</li><li>'Location'</li><li>'LocationId'</li><li>'Day'</li><li>'Month'</li><li>'MonthDesc'</li><li>'Year'</li><li>'Date'</li><li>'Season'</li><li>'Weekday'</li><li>'IsHoliday'</li><li>'Period'</li><li>'DailyCounts'</li><li>'IsOneway'</li><li>'OnewayDirection'</li><li>'IsSidewalk'</li><li>'UoInSession'</li><li>'IsSpecialEvent'</li><li>'UniqueId'</li><li>'Hour'</li><li>'Hourly_Count'</li></ol>\n"
      ],
      "text/latex": [
       "\\begin{enumerate*}\n",
       "\\item 'Direction'\n",
       "\\item 'ObsHours'\n",
       "\\item 'Location'\n",
       "\\item 'LocationId'\n",
       "\\item 'Day'\n",
       "\\item 'Month'\n",
       "\\item 'MonthDesc'\n",
       "\\item 'Year'\n",
       "\\item 'Date'\n",
       "\\item 'Season'\n",
       "\\item 'Weekday'\n",
       "\\item 'IsHoliday'\n",
       "\\item 'Period'\n",
       "\\item 'DailyCounts'\n",
       "\\item 'IsOneway'\n",
       "\\item 'OnewayDirection'\n",
       "\\item 'IsSidewalk'\n",
       "\\item 'UoInSession'\n",
       "\\item 'IsSpecialEvent'\n",
       "\\item 'UniqueId'\n",
       "\\item 'Hour'\n",
       "\\item 'Hourly\\_Count'\n",
       "\\end{enumerate*}\n"
      ],
      "text/markdown": [
       "1. 'Direction'\n",
       "2. 'ObsHours'\n",
       "3. 'Location'\n",
       "4. 'LocationId'\n",
       "5. 'Day'\n",
       "6. 'Month'\n",
       "7. 'MonthDesc'\n",
       "8. 'Year'\n",
       "9. 'Date'\n",
       "10. 'Season'\n",
       "11. 'Weekday'\n",
       "12. 'IsHoliday'\n",
       "13. 'Period'\n",
       "14. 'DailyCounts'\n",
       "15. 'IsOneway'\n",
       "16. 'OnewayDirection'\n",
       "17. 'IsSidewalk'\n",
       "18. 'UoInSession'\n",
       "19. 'IsSpecialEvent'\n",
       "20. 'UniqueId'\n",
       "21. 'Hour'\n",
       "22. 'Hourly_Count'\n",
       "\n",
       "\n"
      ],
      "text/plain": [
       " [1] \"Direction\"       \"ObsHours\"        \"Location\"        \"LocationId\"     \n",
       " [5] \"Day\"             \"Month\"           \"MonthDesc\"       \"Year\"           \n",
       " [9] \"Date\"            \"Season\"          \"Weekday\"         \"IsHoliday\"      \n",
       "[13] \"Period\"          \"DailyCounts\"     \"IsOneway\"        \"OnewayDirection\"\n",
       "[17] \"IsSidewalk\"      \"UoInSession\"     \"IsSpecialEvent\"  \"UniqueId\"       \n",
       "[21] \"Hour\"            \"Hourly_Count\"   "
      ]
     },
     "metadata": {},
     "output_type": "display_data"
    }
   ],
   "source": [
    "names(data)"
   ]
  },
  {
   "cell_type": "code",
   "execution_count": null,
   "id": "0095964f",
   "metadata": {},
   "outputs": [],
   "source": []
  }
 ],
 "metadata": {
  "kernelspec": {
   "display_name": "R",
   "language": "R",
   "name": "ir"
  },
  "language_info": {
   "codemirror_mode": "r",
   "file_extension": ".r",
   "mimetype": "text/x-r-source",
   "name": "R",
   "pygments_lexer": "r",
   "version": "4.0.3"
  }
 },
 "nbformat": 4,
 "nbformat_minor": 5
}
