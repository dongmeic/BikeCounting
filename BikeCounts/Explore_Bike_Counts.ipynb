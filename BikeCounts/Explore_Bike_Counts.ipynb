{
 "cells": [
  {
   "cell_type": "code",
   "execution_count": 1,
   "id": "1abd89c4",
   "metadata": {},
   "outputs": [],
   "source": [
    "options(warn = -1)"
   ]
  },
  {
   "cell_type": "code",
   "execution_count": 2,
   "id": "3f6bf7b9",
   "metadata": {
    "scrolled": true
   },
   "outputs": [
    {
     "name": "stderr",
     "output_type": "stream",
     "text": [
      "\n",
      "Attaching package: 'lubridate'\n",
      "\n",
      "\n",
      "The following objects are masked from 'package:base':\n",
      "\n",
      "    date, intersect, setdiff, union\n",
      "\n",
      "\n",
      "Loading required package: sp\n",
      "\n",
      "rgdal: version: 1.5-23, (SVN revision 1121)\n",
      "Geospatial Data Abstraction Library extensions to R successfully loaded\n",
      "Loaded GDAL runtime: GDAL 3.2.1, released 2020/12/29\n",
      "Path to GDAL shared files: C:/Users/clid1852/Documents/R/win-library/4.0/rgdal/gdal\n",
      "GDAL binary built with GEOS: TRUE \n",
      "Loaded PROJ runtime: Rel. 7.2.1, January 1st, 2021, [PJ_VERSION: 721]\n",
      "Path to PROJ shared files: C:/Users/clid1852/Documents/R/win-library/4.0/rgdal/proj\n",
      "PROJ CDN enabled: TRUE\n",
      "Linking to sp version:1.4-5\n",
      "To mute warnings of possible GDAL/OSR exportToProj4() degradation,\n",
      "use options(\"rgdal_show_exportToProj4_warnings\"=\"none\") before loading rgdal.\n",
      "Overwritten PROJ_LIB was C:/Users/clid1852/Documents/R/win-library/4.0/rgdal/proj\n",
      "\n"
     ]
    }
   ],
   "source": [
    "library(readxl)\n",
    "library(lubridate)\n",
    "library(rgdal)\n",
    "library(RColorBrewer)\n",
    "library(classInt)"
   ]
  },
  {
   "cell_type": "code",
   "execution_count": 3,
   "id": "ce444415",
   "metadata": {},
   "outputs": [],
   "source": [
    "inpath <- 'T:/Data/COUNTS/Nonmotorized Counts/Summary Tables/Bicycle/'"
   ]
  },
  {
   "cell_type": "code",
   "execution_count": 4,
   "id": "b4d3a29b",
   "metadata": {},
   "outputs": [],
   "source": [
    "data <- read.csv(paste0(inpath, 'Bicycle_HourlyForTableau.csv'))"
   ]
  },
  {
   "cell_type": "code",
   "execution_count": 5,
   "id": "f513ec29",
   "metadata": {
    "scrolled": true
   },
   "outputs": [
    {
     "data": {
      "text/html": [
       "<table class=\"dataframe\">\n",
       "<caption>A data.frame: 6 × 22</caption>\n",
       "<thead>\n",
       "\t<tr><th></th><th scope=col>Direction</th><th scope=col>ObsHours</th><th scope=col>Location</th><th scope=col>LocationId</th><th scope=col>Day</th><th scope=col>Month</th><th scope=col>MonthDesc</th><th scope=col>Year</th><th scope=col>Date</th><th scope=col>Season</th><th scope=col>⋯</th><th scope=col>Period</th><th scope=col>DailyCounts</th><th scope=col>IsOneway</th><th scope=col>OnewayDirection</th><th scope=col>IsSidewalk</th><th scope=col>UoInSession</th><th scope=col>IsSpecialEvent</th><th scope=col>UniqueId</th><th scope=col>Hour</th><th scope=col>Hourly_Count</th></tr>\n",
       "\t<tr><th></th><th scope=col>&lt;chr&gt;</th><th scope=col>&lt;int&gt;</th><th scope=col>&lt;chr&gt;</th><th scope=col>&lt;int&gt;</th><th scope=col>&lt;int&gt;</th><th scope=col>&lt;int&gt;</th><th scope=col>&lt;chr&gt;</th><th scope=col>&lt;int&gt;</th><th scope=col>&lt;chr&gt;</th><th scope=col>&lt;chr&gt;</th><th scope=col>⋯</th><th scope=col>&lt;chr&gt;</th><th scope=col>&lt;int&gt;</th><th scope=col>&lt;lgl&gt;</th><th scope=col>&lt;chr&gt;</th><th scope=col>&lt;lgl&gt;</th><th scope=col>&lt;int&gt;</th><th scope=col>&lt;int&gt;</th><th scope=col>&lt;chr&gt;</th><th scope=col>&lt;chr&gt;</th><th scope=col>&lt;int&gt;</th></tr>\n",
       "</thead>\n",
       "<tbody>\n",
       "\t<tr><th scope=row>1</th><td>Total</td><td> 9</td><td>10thWestJackson</td><td>104</td><td>19</td><td>7</td><td>July</td><td>2013</td><td>2013-07-19</td><td>Summer</td><td>⋯</td><td>07.19.2013-07.29.2013</td><td> NA</td><td>FALSE</td><td>NA</td><td>FALSE</td><td>0</td><td>0</td><td>Total-10thWestJackson-07-19-2013</td><td>0:00</td><td>NA</td></tr>\n",
       "\t<tr><th scope=row>2</th><td>East </td><td> 9</td><td>10thWestJackson</td><td>104</td><td>19</td><td>7</td><td>July</td><td>2013</td><td>2013-07-19</td><td>Summer</td><td>⋯</td><td>07.19.2013-07.29.2013</td><td> NA</td><td>FALSE</td><td>NA</td><td>FALSE</td><td>0</td><td>0</td><td>East-10thWestJackson-07-19-2013 </td><td>0:00</td><td>NA</td></tr>\n",
       "\t<tr><th scope=row>3</th><td>West </td><td> 9</td><td>10thWestJackson</td><td>104</td><td>19</td><td>7</td><td>July</td><td>2013</td><td>2013-07-19</td><td>Summer</td><td>⋯</td><td>07.19.2013-07.29.2013</td><td> NA</td><td>FALSE</td><td>NA</td><td>FALSE</td><td>0</td><td>0</td><td>West-10thWestJackson-07-19-2013 </td><td>0:00</td><td>NA</td></tr>\n",
       "\t<tr><th scope=row>4</th><td>Total</td><td>24</td><td>10thWestJackson</td><td>104</td><td>20</td><td>7</td><td>July</td><td>2013</td><td>2013-07-20</td><td>Summer</td><td>⋯</td><td>07.19.2013-07.29.2013</td><td>147</td><td>FALSE</td><td>NA</td><td>FALSE</td><td>0</td><td>0</td><td>Total-10thWestJackson-07-20-2013</td><td>0:00</td><td> 5</td></tr>\n",
       "\t<tr><th scope=row>5</th><td>East </td><td>24</td><td>10thWestJackson</td><td>104</td><td>20</td><td>7</td><td>July</td><td>2013</td><td>2013-07-20</td><td>Summer</td><td>⋯</td><td>07.19.2013-07.29.2013</td><td> 69</td><td>FALSE</td><td>NA</td><td>FALSE</td><td>0</td><td>0</td><td>East-10thWestJackson-07-20-2013 </td><td>0:00</td><td> 1</td></tr>\n",
       "\t<tr><th scope=row>6</th><td>West </td><td>24</td><td>10thWestJackson</td><td>104</td><td>20</td><td>7</td><td>July</td><td>2013</td><td>2013-07-20</td><td>Summer</td><td>⋯</td><td>07.19.2013-07.29.2013</td><td> 78</td><td>FALSE</td><td>NA</td><td>FALSE</td><td>0</td><td>0</td><td>West-10thWestJackson-07-20-2013 </td><td>0:00</td><td> 4</td></tr>\n",
       "</tbody>\n",
       "</table>\n"
      ],
      "text/latex": [
       "A data.frame: 6 × 22\n",
       "\\begin{tabular}{r|lllllllllllllllllllll}\n",
       "  & Direction & ObsHours & Location & LocationId & Day & Month & MonthDesc & Year & Date & Season & ⋯ & Period & DailyCounts & IsOneway & OnewayDirection & IsSidewalk & UoInSession & IsSpecialEvent & UniqueId & Hour & Hourly\\_Count\\\\\n",
       "  & <chr> & <int> & <chr> & <int> & <int> & <int> & <chr> & <int> & <chr> & <chr> & ⋯ & <chr> & <int> & <lgl> & <chr> & <lgl> & <int> & <int> & <chr> & <chr> & <int>\\\\\n",
       "\\hline\n",
       "\t1 & Total &  9 & 10thWestJackson & 104 & 19 & 7 & July & 2013 & 2013-07-19 & Summer & ⋯ & 07.19.2013-07.29.2013 &  NA & FALSE & NA & FALSE & 0 & 0 & Total-10thWestJackson-07-19-2013 & 0:00 & NA\\\\\n",
       "\t2 & East  &  9 & 10thWestJackson & 104 & 19 & 7 & July & 2013 & 2013-07-19 & Summer & ⋯ & 07.19.2013-07.29.2013 &  NA & FALSE & NA & FALSE & 0 & 0 & East-10thWestJackson-07-19-2013  & 0:00 & NA\\\\\n",
       "\t3 & West  &  9 & 10thWestJackson & 104 & 19 & 7 & July & 2013 & 2013-07-19 & Summer & ⋯ & 07.19.2013-07.29.2013 &  NA & FALSE & NA & FALSE & 0 & 0 & West-10thWestJackson-07-19-2013  & 0:00 & NA\\\\\n",
       "\t4 & Total & 24 & 10thWestJackson & 104 & 20 & 7 & July & 2013 & 2013-07-20 & Summer & ⋯ & 07.19.2013-07.29.2013 & 147 & FALSE & NA & FALSE & 0 & 0 & Total-10thWestJackson-07-20-2013 & 0:00 &  5\\\\\n",
       "\t5 & East  & 24 & 10thWestJackson & 104 & 20 & 7 & July & 2013 & 2013-07-20 & Summer & ⋯ & 07.19.2013-07.29.2013 &  69 & FALSE & NA & FALSE & 0 & 0 & East-10thWestJackson-07-20-2013  & 0:00 &  1\\\\\n",
       "\t6 & West  & 24 & 10thWestJackson & 104 & 20 & 7 & July & 2013 & 2013-07-20 & Summer & ⋯ & 07.19.2013-07.29.2013 &  78 & FALSE & NA & FALSE & 0 & 0 & West-10thWestJackson-07-20-2013  & 0:00 &  4\\\\\n",
       "\\end{tabular}\n"
      ],
      "text/markdown": [
       "\n",
       "A data.frame: 6 × 22\n",
       "\n",
       "| <!--/--> | Direction &lt;chr&gt; | ObsHours &lt;int&gt; | Location &lt;chr&gt; | LocationId &lt;int&gt; | Day &lt;int&gt; | Month &lt;int&gt; | MonthDesc &lt;chr&gt; | Year &lt;int&gt; | Date &lt;chr&gt; | Season &lt;chr&gt; | ⋯ ⋯ | Period &lt;chr&gt; | DailyCounts &lt;int&gt; | IsOneway &lt;lgl&gt; | OnewayDirection &lt;chr&gt; | IsSidewalk &lt;lgl&gt; | UoInSession &lt;int&gt; | IsSpecialEvent &lt;int&gt; | UniqueId &lt;chr&gt; | Hour &lt;chr&gt; | Hourly_Count &lt;int&gt; |\n",
       "|---|---|---|---|---|---|---|---|---|---|---|---|---|---|---|---|---|---|---|---|---|---|\n",
       "| 1 | Total |  9 | 10thWestJackson | 104 | 19 | 7 | July | 2013 | 2013-07-19 | Summer | ⋯ | 07.19.2013-07.29.2013 |  NA | FALSE | NA | FALSE | 0 | 0 | Total-10thWestJackson-07-19-2013 | 0:00 | NA |\n",
       "| 2 | East  |  9 | 10thWestJackson | 104 | 19 | 7 | July | 2013 | 2013-07-19 | Summer | ⋯ | 07.19.2013-07.29.2013 |  NA | FALSE | NA | FALSE | 0 | 0 | East-10thWestJackson-07-19-2013  | 0:00 | NA |\n",
       "| 3 | West  |  9 | 10thWestJackson | 104 | 19 | 7 | July | 2013 | 2013-07-19 | Summer | ⋯ | 07.19.2013-07.29.2013 |  NA | FALSE | NA | FALSE | 0 | 0 | West-10thWestJackson-07-19-2013  | 0:00 | NA |\n",
       "| 4 | Total | 24 | 10thWestJackson | 104 | 20 | 7 | July | 2013 | 2013-07-20 | Summer | ⋯ | 07.19.2013-07.29.2013 | 147 | FALSE | NA | FALSE | 0 | 0 | Total-10thWestJackson-07-20-2013 | 0:00 |  5 |\n",
       "| 5 | East  | 24 | 10thWestJackson | 104 | 20 | 7 | July | 2013 | 2013-07-20 | Summer | ⋯ | 07.19.2013-07.29.2013 |  69 | FALSE | NA | FALSE | 0 | 0 | East-10thWestJackson-07-20-2013  | 0:00 |  1 |\n",
       "| 6 | West  | 24 | 10thWestJackson | 104 | 20 | 7 | July | 2013 | 2013-07-20 | Summer | ⋯ | 07.19.2013-07.29.2013 |  78 | FALSE | NA | FALSE | 0 | 0 | West-10thWestJackson-07-20-2013  | 0:00 |  4 |\n",
       "\n"
      ],
      "text/plain": [
       "  Direction ObsHours Location        LocationId Day Month MonthDesc Year\n",
       "1 Total      9       10thWestJackson 104        19  7     July      2013\n",
       "2 East       9       10thWestJackson 104        19  7     July      2013\n",
       "3 West       9       10thWestJackson 104        19  7     July      2013\n",
       "4 Total     24       10thWestJackson 104        20  7     July      2013\n",
       "5 East      24       10thWestJackson 104        20  7     July      2013\n",
       "6 West      24       10thWestJackson 104        20  7     July      2013\n",
       "  Date       Season <U+22EF>        Period                DailyCounts IsOneway\n",
       "1 2013-07-19 Summer <U+22EF> 07.19.2013-07.29.2013  NA         FALSE   \n",
       "2 2013-07-19 Summer <U+22EF> 07.19.2013-07.29.2013  NA         FALSE   \n",
       "3 2013-07-19 Summer <U+22EF> 07.19.2013-07.29.2013  NA         FALSE   \n",
       "4 2013-07-20 Summer <U+22EF> 07.19.2013-07.29.2013 147         FALSE   \n",
       "5 2013-07-20 Summer <U+22EF> 07.19.2013-07.29.2013  69         FALSE   \n",
       "6 2013-07-20 Summer <U+22EF> 07.19.2013-07.29.2013  78         FALSE   \n",
       "  OnewayDirection IsSidewalk UoInSession IsSpecialEvent\n",
       "1 NA              FALSE      0           0             \n",
       "2 NA              FALSE      0           0             \n",
       "3 NA              FALSE      0           0             \n",
       "4 NA              FALSE      0           0             \n",
       "5 NA              FALSE      0           0             \n",
       "6 NA              FALSE      0           0             \n",
       "  UniqueId                         Hour Hourly_Count\n",
       "1 Total-10thWestJackson-07-19-2013 0:00 NA          \n",
       "2 East-10thWestJackson-07-19-2013  0:00 NA          \n",
       "3 West-10thWestJackson-07-19-2013  0:00 NA          \n",
       "4 Total-10thWestJackson-07-20-2013 0:00  5          \n",
       "5 East-10thWestJackson-07-20-2013  0:00  1          \n",
       "6 West-10thWestJackson-07-20-2013  0:00  4          "
      ]
     },
     "metadata": {},
     "output_type": "display_data"
    }
   ],
   "source": [
    "head(data)"
   ]
  },
  {
   "cell_type": "code",
   "execution_count": 6,
   "id": "b8a11efa",
   "metadata": {},
   "outputs": [
    {
     "data": {
      "text/html": [
       "<style>\n",
       ".list-inline {list-style: none; margin:0; padding: 0}\n",
       ".list-inline>li {display: inline-block}\n",
       ".list-inline>li:not(:last-child)::after {content: \"\\00b7\"; padding: 0 .5ex}\n",
       "</style>\n",
       "<ol class=list-inline><li>'Direction'</li><li>'ObsHours'</li><li>'Location'</li><li>'LocationId'</li><li>'Day'</li><li>'Month'</li><li>'MonthDesc'</li><li>'Year'</li><li>'Date'</li><li>'Season'</li><li>'Weekday'</li><li>'IsHoliday'</li><li>'Period'</li><li>'DailyCounts'</li><li>'IsOneway'</li><li>'OnewayDirection'</li><li>'IsSidewalk'</li><li>'UoInSession'</li><li>'IsSpecialEvent'</li><li>'UniqueId'</li><li>'Hour'</li><li>'Hourly_Count'</li></ol>\n"
      ],
      "text/latex": [
       "\\begin{enumerate*}\n",
       "\\item 'Direction'\n",
       "\\item 'ObsHours'\n",
       "\\item 'Location'\n",
       "\\item 'LocationId'\n",
       "\\item 'Day'\n",
       "\\item 'Month'\n",
       "\\item 'MonthDesc'\n",
       "\\item 'Year'\n",
       "\\item 'Date'\n",
       "\\item 'Season'\n",
       "\\item 'Weekday'\n",
       "\\item 'IsHoliday'\n",
       "\\item 'Period'\n",
       "\\item 'DailyCounts'\n",
       "\\item 'IsOneway'\n",
       "\\item 'OnewayDirection'\n",
       "\\item 'IsSidewalk'\n",
       "\\item 'UoInSession'\n",
       "\\item 'IsSpecialEvent'\n",
       "\\item 'UniqueId'\n",
       "\\item 'Hour'\n",
       "\\item 'Hourly\\_Count'\n",
       "\\end{enumerate*}\n"
      ],
      "text/markdown": [
       "1. 'Direction'\n",
       "2. 'ObsHours'\n",
       "3. 'Location'\n",
       "4. 'LocationId'\n",
       "5. 'Day'\n",
       "6. 'Month'\n",
       "7. 'MonthDesc'\n",
       "8. 'Year'\n",
       "9. 'Date'\n",
       "10. 'Season'\n",
       "11. 'Weekday'\n",
       "12. 'IsHoliday'\n",
       "13. 'Period'\n",
       "14. 'DailyCounts'\n",
       "15. 'IsOneway'\n",
       "16. 'OnewayDirection'\n",
       "17. 'IsSidewalk'\n",
       "18. 'UoInSession'\n",
       "19. 'IsSpecialEvent'\n",
       "20. 'UniqueId'\n",
       "21. 'Hour'\n",
       "22. 'Hourly_Count'\n",
       "\n",
       "\n"
      ],
      "text/plain": [
       " [1] \"Direction\"       \"ObsHours\"        \"Location\"        \"LocationId\"     \n",
       " [5] \"Day\"             \"Month\"           \"MonthDesc\"       \"Year\"           \n",
       " [9] \"Date\"            \"Season\"          \"Weekday\"         \"IsHoliday\"      \n",
       "[13] \"Period\"          \"DailyCounts\"     \"IsOneway\"        \"OnewayDirection\"\n",
       "[17] \"IsSidewalk\"      \"UoInSession\"     \"IsSpecialEvent\"  \"UniqueId\"       \n",
       "[21] \"Hour\"            \"Hourly_Count\"   "
      ]
     },
     "metadata": {},
     "output_type": "display_data"
    }
   ],
   "source": [
    "names(data)"
   ]
  },
  {
   "cell_type": "code",
   "execution_count": 6,
   "id": "6cd5f5bf",
   "metadata": {},
   "outputs": [],
   "source": [
    "data$Date <- as.Date(data$Date, \"%Y-%m-%d\")"
   ]
  },
  {
   "cell_type": "code",
   "execution_count": 7,
   "id": "74938bec",
   "metadata": {},
   "outputs": [
    {
     "data": {
      "text/html": [
       "<style>\n",
       ".list-inline {list-style: none; margin:0; padding: 0}\n",
       ".list-inline>li {display: inline-block}\n",
       ".list-inline>li:not(:last-child)::after {content: \"\\00b7\"; padding: 0 .5ex}\n",
       "</style>\n",
       "<ol class=list-inline><li>2012</li><li>2013</li><li>2014</li><li>2015</li><li>2016</li><li>2017</li><li>2018</li><li>2019</li><li>2020</li><li>2021</li></ol>\n"
      ],
      "text/latex": [
       "\\begin{enumerate*}\n",
       "\\item 2012\n",
       "\\item 2013\n",
       "\\item 2014\n",
       "\\item 2015\n",
       "\\item 2016\n",
       "\\item 2017\n",
       "\\item 2018\n",
       "\\item 2019\n",
       "\\item 2020\n",
       "\\item 2021\n",
       "\\end{enumerate*}\n"
      ],
      "text/markdown": [
       "1. 2012\n",
       "2. 2013\n",
       "3. 2014\n",
       "4. 2015\n",
       "5. 2016\n",
       "6. 2017\n",
       "7. 2018\n",
       "8. 2019\n",
       "9. 2020\n",
       "10. 2021\n",
       "\n",
       "\n"
      ],
      "text/plain": [
       " [1] 2012 2013 2014 2015 2016 2017 2018 2019 2020 2021"
      ]
     },
     "metadata": {},
     "output_type": "display_data"
    }
   ],
   "source": [
    "sort(unique(year(data$Date)))"
   ]
  },
  {
   "cell_type": "code",
   "execution_count": 8,
   "id": "6f810ce2",
   "metadata": {},
   "outputs": [
    {
     "data": {
      "text/html": [
       "<style>\n",
       ".list-inline {list-style: none; margin:0; padding: 0}\n",
       ".list-inline>li {display: inline-block}\n",
       ".list-inline>li:not(:last-child)::after {content: \"\\00b7\"; padding: 0 .5ex}\n",
       "</style>\n",
       "<ol class=list-inline><li><time datetime=\"2012-06-21\">2012-06-21</time></li><li><time datetime=\"2021-12-31\">2021-12-31</time></li></ol>\n"
      ],
      "text/latex": [
       "\\begin{enumerate*}\n",
       "\\item 2012-06-21\n",
       "\\item 2021-12-31\n",
       "\\end{enumerate*}\n"
      ],
      "text/markdown": [
       "1. 2012-06-21\n",
       "2. 2021-12-31\n",
       "\n",
       "\n"
      ],
      "text/plain": [
       "[1] \"2012-06-21\" \"2021-12-31\""
      ]
     },
     "metadata": {},
     "output_type": "display_data"
    }
   ],
   "source": [
    "range(data$Date)"
   ]
  },
  {
   "cell_type": "code",
   "execution_count": 9,
   "id": "3cdbfab1",
   "metadata": {},
   "outputs": [],
   "source": [
    "locdata <- read.csv(\"T:/Data/COUNTS/Nonmotorized Counts/Supporting Data/Supporting Bicycle Data/CountLocationInformation.csv\")"
   ]
  },
  {
   "cell_type": "code",
   "execution_count": 10,
   "id": "c8e0e933",
   "metadata": {
    "scrolled": true
   },
   "outputs": [
    {
     "data": {
      "text/html": [
       "<table class=\"dataframe\">\n",
       "<caption>A data.frame: 6 × 21</caption>\n",
       "<thead>\n",
       "\t<tr><th></th><th scope=col>LocationId</th><th scope=col>CountType</th><th scope=col>Direction</th><th scope=col>FacilityType</th><th scope=col>ArrowAngle</th><th scope=col>RoadWidth</th><th scope=col>IsAutomatic</th><th scope=col>Location</th><th scope=col>HasData</th><th scope=col>City</th><th scope=col>⋯</th><th scope=col>IsOneway</th><th scope=col>OnewayDirection</th><th scope=col>IsSidewalk</th><th scope=col>Latitude</th><th scope=col>Longitude</th><th scope=col>ImageFilePath</th><th scope=col>Site_Name</th><th scope=col>Location_Description</th><th scope=col>TAZ</th><th scope=col>Visual</th></tr>\n",
       "\t<tr><th></th><th scope=col>&lt;int&gt;</th><th scope=col>&lt;chr&gt;</th><th scope=col>&lt;chr&gt;</th><th scope=col>&lt;chr&gt;</th><th scope=col>&lt;int&gt;</th><th scope=col>&lt;int&gt;</th><th scope=col>&lt;lgl&gt;</th><th scope=col>&lt;chr&gt;</th><th scope=col>&lt;lgl&gt;</th><th scope=col>&lt;chr&gt;</th><th scope=col>⋯</th><th scope=col>&lt;lgl&gt;</th><th scope=col>&lt;chr&gt;</th><th scope=col>&lt;lgl&gt;</th><th scope=col>&lt;dbl&gt;</th><th scope=col>&lt;dbl&gt;</th><th scope=col>&lt;chr&gt;</th><th scope=col>&lt;chr&gt;</th><th scope=col>&lt;chr&gt;</th><th scope=col>&lt;int&gt;</th><th scope=col>&lt;lgl&gt;</th></tr>\n",
       "</thead>\n",
       "<tbody>\n",
       "\t<tr><th scope=row>1</th><td>171</td><td>Manual</td><td>NS</td><td><span style=white-space:pre-wrap>Lane      </span></td><td>90</td><td>36</td><td>FALSE</td><td><span style=white-space:pre-wrap>EastAmazonSouth39th              </span></td><td>TRUE</td><td>Eugene</td><td>⋯</td><td>FALSE</td><td>&lt;Null&gt;</td><td>FALSE</td><td>44.01259</td><td>-123.0768</td><td><span style=white-space:pre-wrap>\\\\clsrv111\\transpor\\Data\\COUNTS\\Nonmotorized Counts\\Supporting Data\\Supporting Bicycle Data\\CountLocationPictures\\EastAmazonSouth39th\\EastAmazonSouth39th.jpg                  </span></td><td><span style=white-space:pre-wrap>E Amazon Dr south of 39th Ave             </span></td><td><span style=white-space:pre-wrap>E Amazon Dr, 140ft south of 39th Ave, Eugene               </span></td><td>441</td><td>TRUE</td></tr>\n",
       "\t<tr><th scope=row>2</th><td>172</td><td>Manual</td><td>NS</td><td>NoFacility</td><td>90</td><td>34</td><td>FALSE</td><td><span style=white-space:pre-wrap>KincaidSouth37th                 </span></td><td>TRUE</td><td>Eugene</td><td>⋯</td><td>FALSE</td><td>&lt;Null&gt;</td><td>FALSE</td><td>44.01526</td><td>-123.0761</td><td><span style=white-space:pre-wrap>\\\\clsrv111\\transpor\\Data\\COUNTS\\Nonmotorized Counts\\Supporting Data\\Supporting Bicycle Data\\CountLocationPictures\\KincaidSouth37th\\KincaidSouth37th.jpg                        </span></td><td><span style=white-space:pre-wrap>Kincaid St south of 37th Ave              </span></td><td><span style=white-space:pre-wrap>Kincaid St, 250ft south of 37th Ave, Eugene                </span></td><td>441</td><td>TRUE</td></tr>\n",
       "\t<tr><th scope=row>3</th><td>175</td><td>Manual</td><td>NS</td><td><span style=white-space:pre-wrap>Path      </span></td><td>90</td><td>14</td><td>FALSE</td><td><span style=white-space:pre-wrap>HilyardSouth33rdWestSidewalk     </span></td><td>TRUE</td><td>Eugene</td><td>⋯</td><td>FALSE</td><td>&lt;Null&gt;</td><td>FALSE</td><td>44.02028</td><td>-123.0817</td><td>\\\\clsrv111\\transpor\\Data\\COUNTS\\Nonmotorized Counts\\Supporting Data\\Supporting Bicycle Data\\CountLocationPictures\\HilyardSouth33rdWestSidewalk\\HilyardSouth33rdWestSidewalk.jpg</td><td>Hilyard St west Sidewalk south of 33rd Ave</td><td><span style=white-space:pre-wrap>Hilyard St west Sidewalk, 250ft south of 33rd Ave, Eugene  </span></td><td>417</td><td>TRUE</td></tr>\n",
       "\t<tr><th scope=row>4</th><td>174</td><td>Manual</td><td>NS</td><td><span style=white-space:pre-wrap>Path      </span></td><td>90</td><td> 8</td><td>FALSE</td><td><span style=white-space:pre-wrap>HilyardSouth33rdEastSidewalk     </span></td><td>TRUE</td><td>Eugene</td><td>⋯</td><td>FALSE</td><td>&lt;Null&gt;</td><td>FALSE</td><td>44.02038</td><td>-123.0814</td><td>\\\\clsrv111\\transpor\\Data\\COUNTS\\Nonmotorized Counts\\Supporting Data\\Supporting Bicycle Data\\CountLocationPictures\\HilyardSouth33rdEastSidewalk\\HilyardSouth33rdEastSidewalk.jpg</td><td>Hilyard St east Sidewalk south of 33rd Ave</td><td><span style=white-space:pre-wrap>Hilyard St east Sidewalk, 220ft south of 33rd Ave, Eugene  </span></td><td>418</td><td>TRUE</td></tr>\n",
       "\t<tr><th scope=row>5</th><td>198</td><td>Manual</td><td>NS</td><td><span style=white-space:pre-wrap>Path      </span></td><td>90</td><td>12</td><td>FALSE</td><td>EastAmazonEastHilyardWestSidewalk</td><td>TRUE</td><td>Eugene</td><td>⋯</td><td>FALSE</td><td>&lt;Null&gt;</td><td>FALSE</td><td>44.02051</td><td>-123.0810</td><td><span style=white-space:pre-wrap>\\\\clsrv111\\transpor\\Data\\COUNTS\\Nonmotorized Counts\\Supporting Data\\Supporting Bicycle Data\\CountLocationPictures\\EastAmazonEastHilyardWestSW\\EastAmazonEastHilyardWestSW.jpg  </span></td><td><span style=white-space:pre-wrap>E Amazon Dr east of Hilyard St            </span></td><td>E Amazon Dr west Sidewalk, 250ft east of Hilyard St, Eugene</td><td>442</td><td>TRUE</td></tr>\n",
       "\t<tr><th scope=row>6</th><td>173</td><td>Manual</td><td>NS</td><td><span style=white-space:pre-wrap>Lane      </span></td><td>90</td><td>36</td><td>FALSE</td><td><span style=white-space:pre-wrap>EastAmazonEastHilyard            </span></td><td>TRUE</td><td>Eugene</td><td>⋯</td><td>FALSE</td><td>&lt;Null&gt;</td><td>FALSE</td><td>44.02054</td><td>-123.0809</td><td><span style=white-space:pre-wrap>\\\\clsrv111\\transpor\\Data\\COUNTS\\Nonmotorized Counts\\Supporting Data\\Supporting Bicycle Data\\CountLocationPictures\\EastAmazonEastHilyard\\EastAmazonEastHilyard.jpg              </span></td><td><span style=white-space:pre-wrap>E Amazon Dr east of Hilyard St            </span></td><td><span style=white-space:pre-wrap>E Amazon Dr, 240ft east of Hilyard St, Eugene              </span></td><td>442</td><td>TRUE</td></tr>\n",
       "</tbody>\n",
       "</table>\n"
      ],
      "text/latex": [
       "A data.frame: 6 × 21\n",
       "\\begin{tabular}{r|lllllllllllllllllllll}\n",
       "  & LocationId & CountType & Direction & FacilityType & ArrowAngle & RoadWidth & IsAutomatic & Location & HasData & City & ⋯ & IsOneway & OnewayDirection & IsSidewalk & Latitude & Longitude & ImageFilePath & Site\\_Name & Location\\_Description & TAZ & Visual\\\\\n",
       "  & <int> & <chr> & <chr> & <chr> & <int> & <int> & <lgl> & <chr> & <lgl> & <chr> & ⋯ & <lgl> & <chr> & <lgl> & <dbl> & <dbl> & <chr> & <chr> & <chr> & <int> & <lgl>\\\\\n",
       "\\hline\n",
       "\t1 & 171 & Manual & NS & Lane       & 90 & 36 & FALSE & EastAmazonSouth39th               & TRUE & Eugene & ⋯ & FALSE & <Null> & FALSE & 44.01259 & -123.0768 & \\textbackslash{}\\textbackslash{}clsrv111\\textbackslash{}transpor\\textbackslash{}Data\\textbackslash{}COUNTS\\textbackslash{}Nonmotorized Counts\\textbackslash{}Supporting Data\\textbackslash{}Supporting Bicycle Data\\textbackslash{}CountLocationPictures\\textbackslash{}EastAmazonSouth39th\\textbackslash{}EastAmazonSouth39th.jpg                   & E Amazon Dr south of 39th Ave              & E Amazon Dr, 140ft south of 39th Ave, Eugene                & 441 & TRUE\\\\\n",
       "\t2 & 172 & Manual & NS & NoFacility & 90 & 34 & FALSE & KincaidSouth37th                  & TRUE & Eugene & ⋯ & FALSE & <Null> & FALSE & 44.01526 & -123.0761 & \\textbackslash{}\\textbackslash{}clsrv111\\textbackslash{}transpor\\textbackslash{}Data\\textbackslash{}COUNTS\\textbackslash{}Nonmotorized Counts\\textbackslash{}Supporting Data\\textbackslash{}Supporting Bicycle Data\\textbackslash{}CountLocationPictures\\textbackslash{}KincaidSouth37th\\textbackslash{}KincaidSouth37th.jpg                         & Kincaid St south of 37th Ave               & Kincaid St, 250ft south of 37th Ave, Eugene                 & 441 & TRUE\\\\\n",
       "\t3 & 175 & Manual & NS & Path       & 90 & 14 & FALSE & HilyardSouth33rdWestSidewalk      & TRUE & Eugene & ⋯ & FALSE & <Null> & FALSE & 44.02028 & -123.0817 & \\textbackslash{}\\textbackslash{}clsrv111\\textbackslash{}transpor\\textbackslash{}Data\\textbackslash{}COUNTS\\textbackslash{}Nonmotorized Counts\\textbackslash{}Supporting Data\\textbackslash{}Supporting Bicycle Data\\textbackslash{}CountLocationPictures\\textbackslash{}HilyardSouth33rdWestSidewalk\\textbackslash{}HilyardSouth33rdWestSidewalk.jpg & Hilyard St west Sidewalk south of 33rd Ave & Hilyard St west Sidewalk, 250ft south of 33rd Ave, Eugene   & 417 & TRUE\\\\\n",
       "\t4 & 174 & Manual & NS & Path       & 90 &  8 & FALSE & HilyardSouth33rdEastSidewalk      & TRUE & Eugene & ⋯ & FALSE & <Null> & FALSE & 44.02038 & -123.0814 & \\textbackslash{}\\textbackslash{}clsrv111\\textbackslash{}transpor\\textbackslash{}Data\\textbackslash{}COUNTS\\textbackslash{}Nonmotorized Counts\\textbackslash{}Supporting Data\\textbackslash{}Supporting Bicycle Data\\textbackslash{}CountLocationPictures\\textbackslash{}HilyardSouth33rdEastSidewalk\\textbackslash{}HilyardSouth33rdEastSidewalk.jpg & Hilyard St east Sidewalk south of 33rd Ave & Hilyard St east Sidewalk, 220ft south of 33rd Ave, Eugene   & 418 & TRUE\\\\\n",
       "\t5 & 198 & Manual & NS & Path       & 90 & 12 & FALSE & EastAmazonEastHilyardWestSidewalk & TRUE & Eugene & ⋯ & FALSE & <Null> & FALSE & 44.02051 & -123.0810 & \\textbackslash{}\\textbackslash{}clsrv111\\textbackslash{}transpor\\textbackslash{}Data\\textbackslash{}COUNTS\\textbackslash{}Nonmotorized Counts\\textbackslash{}Supporting Data\\textbackslash{}Supporting Bicycle Data\\textbackslash{}CountLocationPictures\\textbackslash{}EastAmazonEastHilyardWestSW\\textbackslash{}EastAmazonEastHilyardWestSW.jpg   & E Amazon Dr east of Hilyard St             & E Amazon Dr west Sidewalk, 250ft east of Hilyard St, Eugene & 442 & TRUE\\\\\n",
       "\t6 & 173 & Manual & NS & Lane       & 90 & 36 & FALSE & EastAmazonEastHilyard             & TRUE & Eugene & ⋯ & FALSE & <Null> & FALSE & 44.02054 & -123.0809 & \\textbackslash{}\\textbackslash{}clsrv111\\textbackslash{}transpor\\textbackslash{}Data\\textbackslash{}COUNTS\\textbackslash{}Nonmotorized Counts\\textbackslash{}Supporting Data\\textbackslash{}Supporting Bicycle Data\\textbackslash{}CountLocationPictures\\textbackslash{}EastAmazonEastHilyard\\textbackslash{}EastAmazonEastHilyard.jpg               & E Amazon Dr east of Hilyard St             & E Amazon Dr, 240ft east of Hilyard St, Eugene               & 442 & TRUE\\\\\n",
       "\\end{tabular}\n"
      ],
      "text/markdown": [
       "\n",
       "A data.frame: 6 × 21\n",
       "\n",
       "| <!--/--> | LocationId &lt;int&gt; | CountType &lt;chr&gt; | Direction &lt;chr&gt; | FacilityType &lt;chr&gt; | ArrowAngle &lt;int&gt; | RoadWidth &lt;int&gt; | IsAutomatic &lt;lgl&gt; | Location &lt;chr&gt; | HasData &lt;lgl&gt; | City &lt;chr&gt; | ⋯ ⋯ | IsOneway &lt;lgl&gt; | OnewayDirection &lt;chr&gt; | IsSidewalk &lt;lgl&gt; | Latitude &lt;dbl&gt; | Longitude &lt;dbl&gt; | ImageFilePath &lt;chr&gt; | Site_Name &lt;chr&gt; | Location_Description &lt;chr&gt; | TAZ &lt;int&gt; | Visual &lt;lgl&gt; |\n",
       "|---|---|---|---|---|---|---|---|---|---|---|---|---|---|---|---|---|---|---|---|---|---|\n",
       "| 1 | 171 | Manual | NS | Lane       | 90 | 36 | FALSE | EastAmazonSouth39th               | TRUE | Eugene | ⋯ | FALSE | &lt;Null&gt; | FALSE | 44.01259 | -123.0768 | \\\\clsrv111\\transpor\\Data\\COUNTS\\Nonmotorized Counts\\Supporting Data\\Supporting Bicycle Data\\CountLocationPictures\\EastAmazonSouth39th\\EastAmazonSouth39th.jpg                   | E Amazon Dr south of 39th Ave              | E Amazon Dr, 140ft south of 39th Ave, Eugene                | 441 | TRUE |\n",
       "| 2 | 172 | Manual | NS | NoFacility | 90 | 34 | FALSE | KincaidSouth37th                  | TRUE | Eugene | ⋯ | FALSE | &lt;Null&gt; | FALSE | 44.01526 | -123.0761 | \\\\clsrv111\\transpor\\Data\\COUNTS\\Nonmotorized Counts\\Supporting Data\\Supporting Bicycle Data\\CountLocationPictures\\KincaidSouth37th\\KincaidSouth37th.jpg                         | Kincaid St south of 37th Ave               | Kincaid St, 250ft south of 37th Ave, Eugene                 | 441 | TRUE |\n",
       "| 3 | 175 | Manual | NS | Path       | 90 | 14 | FALSE | HilyardSouth33rdWestSidewalk      | TRUE | Eugene | ⋯ | FALSE | &lt;Null&gt; | FALSE | 44.02028 | -123.0817 | \\\\clsrv111\\transpor\\Data\\COUNTS\\Nonmotorized Counts\\Supporting Data\\Supporting Bicycle Data\\CountLocationPictures\\HilyardSouth33rdWestSidewalk\\HilyardSouth33rdWestSidewalk.jpg | Hilyard St west Sidewalk south of 33rd Ave | Hilyard St west Sidewalk, 250ft south of 33rd Ave, Eugene   | 417 | TRUE |\n",
       "| 4 | 174 | Manual | NS | Path       | 90 |  8 | FALSE | HilyardSouth33rdEastSidewalk      | TRUE | Eugene | ⋯ | FALSE | &lt;Null&gt; | FALSE | 44.02038 | -123.0814 | \\\\clsrv111\\transpor\\Data\\COUNTS\\Nonmotorized Counts\\Supporting Data\\Supporting Bicycle Data\\CountLocationPictures\\HilyardSouth33rdEastSidewalk\\HilyardSouth33rdEastSidewalk.jpg | Hilyard St east Sidewalk south of 33rd Ave | Hilyard St east Sidewalk, 220ft south of 33rd Ave, Eugene   | 418 | TRUE |\n",
       "| 5 | 198 | Manual | NS | Path       | 90 | 12 | FALSE | EastAmazonEastHilyardWestSidewalk | TRUE | Eugene | ⋯ | FALSE | &lt;Null&gt; | FALSE | 44.02051 | -123.0810 | \\\\clsrv111\\transpor\\Data\\COUNTS\\Nonmotorized Counts\\Supporting Data\\Supporting Bicycle Data\\CountLocationPictures\\EastAmazonEastHilyardWestSW\\EastAmazonEastHilyardWestSW.jpg   | E Amazon Dr east of Hilyard St             | E Amazon Dr west Sidewalk, 250ft east of Hilyard St, Eugene | 442 | TRUE |\n",
       "| 6 | 173 | Manual | NS | Lane       | 90 | 36 | FALSE | EastAmazonEastHilyard             | TRUE | Eugene | ⋯ | FALSE | &lt;Null&gt; | FALSE | 44.02054 | -123.0809 | \\\\clsrv111\\transpor\\Data\\COUNTS\\Nonmotorized Counts\\Supporting Data\\Supporting Bicycle Data\\CountLocationPictures\\EastAmazonEastHilyard\\EastAmazonEastHilyard.jpg               | E Amazon Dr east of Hilyard St             | E Amazon Dr, 240ft east of Hilyard St, Eugene               | 442 | TRUE |\n",
       "\n"
      ],
      "text/plain": [
       "  LocationId CountType Direction FacilityType ArrowAngle RoadWidth IsAutomatic\n",
       "1 171        Manual    NS        Lane         90         36        FALSE      \n",
       "2 172        Manual    NS        NoFacility   90         34        FALSE      \n",
       "3 175        Manual    NS        Path         90         14        FALSE      \n",
       "4 174        Manual    NS        Path         90          8        FALSE      \n",
       "5 198        Manual    NS        Path         90         12        FALSE      \n",
       "6 173        Manual    NS        Lane         90         36        FALSE      \n",
       "  Location                          HasData City   <U+22EF>        IsOneway\n",
       "1 EastAmazonSouth39th               TRUE    Eugene <U+22EF> FALSE   \n",
       "2 KincaidSouth37th                  TRUE    Eugene <U+22EF> FALSE   \n",
       "3 HilyardSouth33rdWestSidewalk      TRUE    Eugene <U+22EF> FALSE   \n",
       "4 HilyardSouth33rdEastSidewalk      TRUE    Eugene <U+22EF> FALSE   \n",
       "5 EastAmazonEastHilyardWestSidewalk TRUE    Eugene <U+22EF> FALSE   \n",
       "6 EastAmazonEastHilyard             TRUE    Eugene <U+22EF> FALSE   \n",
       "  OnewayDirection IsSidewalk Latitude Longitude\n",
       "1 <Null>          FALSE      44.01259 -123.0768\n",
       "2 <Null>          FALSE      44.01526 -123.0761\n",
       "3 <Null>          FALSE      44.02028 -123.0817\n",
       "4 <Null>          FALSE      44.02038 -123.0814\n",
       "5 <Null>          FALSE      44.02051 -123.0810\n",
       "6 <Null>          FALSE      44.02054 -123.0809\n",
       "  ImageFilePath                                                                                                                                                                             \n",
       "1 \\\\\\\\clsrv111\\\\transpor\\\\Data\\\\COUNTS\\\\Nonmotorized Counts\\\\Supporting Data\\\\Supporting Bicycle Data\\\\CountLocationPictures\\\\EastAmazonSouth39th\\\\EastAmazonSouth39th.jpg                  \n",
       "2 \\\\\\\\clsrv111\\\\transpor\\\\Data\\\\COUNTS\\\\Nonmotorized Counts\\\\Supporting Data\\\\Supporting Bicycle Data\\\\CountLocationPictures\\\\KincaidSouth37th\\\\KincaidSouth37th.jpg                        \n",
       "3 \\\\\\\\clsrv111\\\\transpor\\\\Data\\\\COUNTS\\\\Nonmotorized Counts\\\\Supporting Data\\\\Supporting Bicycle Data\\\\CountLocationPictures\\\\HilyardSouth33rdWestSidewalk\\\\HilyardSouth33rdWestSidewalk.jpg\n",
       "4 \\\\\\\\clsrv111\\\\transpor\\\\Data\\\\COUNTS\\\\Nonmotorized Counts\\\\Supporting Data\\\\Supporting Bicycle Data\\\\CountLocationPictures\\\\HilyardSouth33rdEastSidewalk\\\\HilyardSouth33rdEastSidewalk.jpg\n",
       "5 \\\\\\\\clsrv111\\\\transpor\\\\Data\\\\COUNTS\\\\Nonmotorized Counts\\\\Supporting Data\\\\Supporting Bicycle Data\\\\CountLocationPictures\\\\EastAmazonEastHilyardWestSW\\\\EastAmazonEastHilyardWestSW.jpg  \n",
       "6 \\\\\\\\clsrv111\\\\transpor\\\\Data\\\\COUNTS\\\\Nonmotorized Counts\\\\Supporting Data\\\\Supporting Bicycle Data\\\\CountLocationPictures\\\\EastAmazonEastHilyard\\\\EastAmazonEastHilyard.jpg              \n",
       "  Site_Name                                 \n",
       "1 E Amazon Dr south of 39th Ave             \n",
       "2 Kincaid St south of 37th Ave              \n",
       "3 Hilyard St west Sidewalk south of 33rd Ave\n",
       "4 Hilyard St east Sidewalk south of 33rd Ave\n",
       "5 E Amazon Dr east of Hilyard St            \n",
       "6 E Amazon Dr east of Hilyard St            \n",
       "  Location_Description                                        TAZ Visual\n",
       "1 E Amazon Dr, 140ft south of 39th Ave, Eugene                441 TRUE  \n",
       "2 Kincaid St, 250ft south of 37th Ave, Eugene                 441 TRUE  \n",
       "3 Hilyard St west Sidewalk, 250ft south of 33rd Ave, Eugene   417 TRUE  \n",
       "4 Hilyard St east Sidewalk, 220ft south of 33rd Ave, Eugene   418 TRUE  \n",
       "5 E Amazon Dr west Sidewalk, 250ft east of Hilyard St, Eugene 442 TRUE  \n",
       "6 E Amazon Dr, 240ft east of Hilyard St, Eugene               442 TRUE  "
      ]
     },
     "metadata": {},
     "output_type": "display_data"
    }
   ],
   "source": [
    "head(locdata)"
   ]
  },
  {
   "cell_type": "code",
   "execution_count": 11,
   "id": "306be7d3",
   "metadata": {},
   "outputs": [
    {
     "data": {
      "text/html": [
       "<style>\n",
       ".list-inline {list-style: none; margin:0; padding: 0}\n",
       ".list-inline>li {display: inline-block}\n",
       ".list-inline>li:not(:last-child)::after {content: \"\\00b7\"; padding: 0 .5ex}\n",
       "</style>\n",
       "<ol class=list-inline><li>'LocationId'</li><li>'CountType'</li><li>'Direction'</li><li>'FacilityType'</li><li>'ArrowAngle'</li><li>'RoadWidth'</li><li>'IsAutomatic'</li><li>'Location'</li><li>'HasData'</li><li>'City'</li><li>'DoubleCountLocation'</li><li>'IsOneway'</li><li>'OnewayDirection'</li><li>'IsSidewalk'</li><li>'Latitude'</li><li>'Longitude'</li><li>'ImageFilePath'</li><li>'Site_Name'</li><li>'Location_Description'</li><li>'TAZ'</li><li>'Visual'</li></ol>\n"
      ],
      "text/latex": [
       "\\begin{enumerate*}\n",
       "\\item 'LocationId'\n",
       "\\item 'CountType'\n",
       "\\item 'Direction'\n",
       "\\item 'FacilityType'\n",
       "\\item 'ArrowAngle'\n",
       "\\item 'RoadWidth'\n",
       "\\item 'IsAutomatic'\n",
       "\\item 'Location'\n",
       "\\item 'HasData'\n",
       "\\item 'City'\n",
       "\\item 'DoubleCountLocation'\n",
       "\\item 'IsOneway'\n",
       "\\item 'OnewayDirection'\n",
       "\\item 'IsSidewalk'\n",
       "\\item 'Latitude'\n",
       "\\item 'Longitude'\n",
       "\\item 'ImageFilePath'\n",
       "\\item 'Site\\_Name'\n",
       "\\item 'Location\\_Description'\n",
       "\\item 'TAZ'\n",
       "\\item 'Visual'\n",
       "\\end{enumerate*}\n"
      ],
      "text/markdown": [
       "1. 'LocationId'\n",
       "2. 'CountType'\n",
       "3. 'Direction'\n",
       "4. 'FacilityType'\n",
       "5. 'ArrowAngle'\n",
       "6. 'RoadWidth'\n",
       "7. 'IsAutomatic'\n",
       "8. 'Location'\n",
       "9. 'HasData'\n",
       "10. 'City'\n",
       "11. 'DoubleCountLocation'\n",
       "12. 'IsOneway'\n",
       "13. 'OnewayDirection'\n",
       "14. 'IsSidewalk'\n",
       "15. 'Latitude'\n",
       "16. 'Longitude'\n",
       "17. 'ImageFilePath'\n",
       "18. 'Site_Name'\n",
       "19. 'Location_Description'\n",
       "20. 'TAZ'\n",
       "21. 'Visual'\n",
       "\n",
       "\n"
      ],
      "text/plain": [
       " [1] \"LocationId\"           \"CountType\"            \"Direction\"           \n",
       " [4] \"FacilityType\"         \"ArrowAngle\"           \"RoadWidth\"           \n",
       " [7] \"IsAutomatic\"          \"Location\"             \"HasData\"             \n",
       "[10] \"City\"                 \"DoubleCountLocation\"  \"IsOneway\"            \n",
       "[13] \"OnewayDirection\"      \"IsSidewalk\"           \"Latitude\"            \n",
       "[16] \"Longitude\"            \"ImageFilePath\"        \"Site_Name\"           \n",
       "[19] \"Location_Description\" \"TAZ\"                  \"Visual\"              "
      ]
     },
     "metadata": {},
     "output_type": "display_data"
    }
   ],
   "source": [
    "names(locdata)"
   ]
  },
  {
   "cell_type": "code",
   "execution_count": 12,
   "id": "ff33b03b",
   "metadata": {
    "scrolled": false
   },
   "outputs": [
    {
     "data": {
      "text/html": [
       "202"
      ],
      "text/latex": [
       "202"
      ],
      "text/markdown": [
       "202"
      ],
      "text/plain": [
       "[1] 202"
      ]
     },
     "metadata": {},
     "output_type": "display_data"
    }
   ],
   "source": [
    "# the number of site name\n",
    "length(unique(locdata$Site_Name))"
   ]
  },
  {
   "cell_type": "code",
   "execution_count": 13,
   "id": "efdf89b5",
   "metadata": {},
   "outputs": [],
   "source": [
    "# remove the site names with direction info\n",
    "loc1 <- locdata[!grepl('EB|WB|SB|NB', locdata$Site_Name),]"
   ]
  },
  {
   "cell_type": "code",
   "execution_count": 14,
   "id": "35b3b317",
   "metadata": {},
   "outputs": [
    {
     "data": {
      "text/html": [
       "FALSE"
      ],
      "text/latex": [
       "FALSE"
      ],
      "text/markdown": [
       "FALSE"
      ],
      "text/plain": [
       "[1] FALSE"
      ]
     },
     "metadata": {},
     "output_type": "display_data"
    }
   ],
   "source": [
    "length(unique(loc1$Site_Name)) == length(unique(loc1$LocationId))"
   ]
  },
  {
   "cell_type": "code",
   "execution_count": 15,
   "id": "7dbdb0f3",
   "metadata": {},
   "outputs": [],
   "source": [
    "# these location IDs are duplicated\n",
    "ids <- unique(loc1$LocationId[duplicated(loc1$LocationId)])"
   ]
  },
  {
   "cell_type": "code",
   "execution_count": 16,
   "id": "f7c129e2",
   "metadata": {
    "scrolled": true
   },
   "outputs": [
    {
     "name": "stdout",
     "output_type": "stream",
     "text": [
      "[1] 182\n",
      "[1] \"Crescent Ave East of Lord Byron Pl\"\n"
     ]
    }
   ],
   "source": [
    "for(id in ids){\n",
    "    print(id)\n",
    "    print(unique(loc1[loc1$LocationId == id, 'Site_Name']))\n",
    "}"
   ]
  },
  {
   "cell_type": "code",
   "execution_count": 17,
   "id": "911a0112",
   "metadata": {},
   "outputs": [
    {
     "data": {
      "text/html": [
       "<style>\n",
       ".list-inline {list-style: none; margin:0; padding: 0}\n",
       ".list-inline>li {display: inline-block}\n",
       ".list-inline>li:not(:last-child)::after {content: \"\\00b7\"; padding: 0 .5ex}\n",
       "</style>\n",
       "<ol class=list-inline><li>'E Amazon Dr east of Hilyard St'</li><li>'Crescent Ave East of Lord Byron Pl'</li><li>'Crescent Ave East of Lord Byron Pl'</li></ol>\n"
      ],
      "text/latex": [
       "\\begin{enumerate*}\n",
       "\\item 'E Amazon Dr east of Hilyard St'\n",
       "\\item 'Crescent Ave East of Lord Byron Pl'\n",
       "\\item 'Crescent Ave East of Lord Byron Pl'\n",
       "\\end{enumerate*}\n"
      ],
      "text/markdown": [
       "1. 'E Amazon Dr east of Hilyard St'\n",
       "2. 'Crescent Ave East of Lord Byron Pl'\n",
       "3. 'Crescent Ave East of Lord Byron Pl'\n",
       "\n",
       "\n"
      ],
      "text/plain": [
       "[1] \"E Amazon Dr east of Hilyard St\"     \"Crescent Ave East of Lord Byron Pl\"\n",
       "[3] \"Crescent Ave East of Lord Byron Pl\""
      ]
     },
     "metadata": {},
     "output_type": "display_data"
    },
    {
     "data": {
      "text/html": [
       "<style>\n",
       ".list-inline {list-style: none; margin:0; padding: 0}\n",
       ".list-inline>li {display: inline-block}\n",
       ".list-inline>li:not(:last-child)::after {content: \"\\00b7\"; padding: 0 .5ex}\n",
       "</style>\n",
       "<ol class=list-inline><li>173</li><li>182</li><li>182</li></ol>\n"
      ],
      "text/latex": [
       "\\begin{enumerate*}\n",
       "\\item 173\n",
       "\\item 182\n",
       "\\item 182\n",
       "\\end{enumerate*}\n"
      ],
      "text/markdown": [
       "1. 173\n",
       "2. 182\n",
       "3. 182\n",
       "\n",
       "\n"
      ],
      "text/plain": [
       "[1] 173 182 182"
      ]
     },
     "metadata": {},
     "output_type": "display_data"
    }
   ],
   "source": [
    "# duplicated Ids with the same site name\n",
    "loc1$Site_Name[duplicated(loc1$Site_Name)]\n",
    "loc1[duplicated(loc1$Site_Name), 'LocationId']"
   ]
  },
  {
   "cell_type": "code",
   "execution_count": 18,
   "id": "e6fd8584",
   "metadata": {},
   "outputs": [],
   "source": [
    "loc2 <- loc1[!grepl('EB|WB|SB|NB', loc1$Location),]"
   ]
  },
  {
   "cell_type": "code",
   "execution_count": 19,
   "id": "bcfd0c62",
   "metadata": {},
   "outputs": [
    {
     "data": {
      "text/html": [
       "176"
      ],
      "text/latex": [
       "176"
      ],
      "text/markdown": [
       "176"
      ],
      "text/plain": [
       "[1] 176"
      ]
     },
     "metadata": {},
     "output_type": "display_data"
    }
   ],
   "source": [
    "length(unique(loc2$LocationId))"
   ]
  },
  {
   "cell_type": "code",
   "execution_count": 20,
   "id": "f83163ba",
   "metadata": {},
   "outputs": [
    {
     "data": {
      "text/html": [
       "175"
      ],
      "text/latex": [
       "175"
      ],
      "text/markdown": [
       "175"
      ],
      "text/plain": [
       "[1] 175"
      ]
     },
     "metadata": {},
     "output_type": "display_data"
    }
   ],
   "source": [
    "length(unique(loc2$Site_Name))"
   ]
  },
  {
   "cell_type": "code",
   "execution_count": 21,
   "id": "2b7a1c31",
   "metadata": {},
   "outputs": [
    {
     "data": {
      "text/html": [
       "<style>\n",
       ".list-inline {list-style: none; margin:0; padding: 0}\n",
       ".list-inline>li {display: inline-block}\n",
       ".list-inline>li:not(:last-child)::after {content: \"\\00b7\"; padding: 0 .5ex}\n",
       "</style>\n",
       "<ol class=list-inline><li>176</li><li>21</li></ol>\n"
      ],
      "text/latex": [
       "\\begin{enumerate*}\n",
       "\\item 176\n",
       "\\item 21\n",
       "\\end{enumerate*}\n"
      ],
      "text/markdown": [
       "1. 176\n",
       "2. 21\n",
       "\n",
       "\n"
      ],
      "text/plain": [
       "[1] 176  21"
      ]
     },
     "metadata": {},
     "output_type": "display_data"
    }
   ],
   "source": [
    "dim(loc2)"
   ]
  },
  {
   "cell_type": "code",
   "execution_count": 22,
   "id": "7797e01f",
   "metadata": {},
   "outputs": [
    {
     "data": {
      "text/html": [
       "<table class=\"dataframe\">\n",
       "<caption>A data.frame: 2 × 3</caption>\n",
       "<thead>\n",
       "\t<tr><th></th><th scope=col>LocationId</th><th scope=col>Location</th><th scope=col>Site_Name</th></tr>\n",
       "\t<tr><th></th><th scope=col>&lt;int&gt;</th><th scope=col>&lt;chr&gt;</th><th scope=col>&lt;chr&gt;</th></tr>\n",
       "</thead>\n",
       "<tbody>\n",
       "\t<tr><th scope=row>5</th><td>198</td><td>EastAmazonEastHilyardWestSidewalk</td><td>E Amazon Dr east of Hilyard St</td></tr>\n",
       "\t<tr><th scope=row>6</th><td>173</td><td>EastAmazonEastHilyard            </td><td>E Amazon Dr east of Hilyard St</td></tr>\n",
       "</tbody>\n",
       "</table>\n"
      ],
      "text/latex": [
       "A data.frame: 2 × 3\n",
       "\\begin{tabular}{r|lll}\n",
       "  & LocationId & Location & Site\\_Name\\\\\n",
       "  & <int> & <chr> & <chr>\\\\\n",
       "\\hline\n",
       "\t5 & 198 & EastAmazonEastHilyardWestSidewalk & E Amazon Dr east of Hilyard St\\\\\n",
       "\t6 & 173 & EastAmazonEastHilyard             & E Amazon Dr east of Hilyard St\\\\\n",
       "\\end{tabular}\n"
      ],
      "text/markdown": [
       "\n",
       "A data.frame: 2 × 3\n",
       "\n",
       "| <!--/--> | LocationId &lt;int&gt; | Location &lt;chr&gt; | Site_Name &lt;chr&gt; |\n",
       "|---|---|---|---|\n",
       "| 5 | 198 | EastAmazonEastHilyardWestSidewalk | E Amazon Dr east of Hilyard St |\n",
       "| 6 | 173 | EastAmazonEastHilyard             | E Amazon Dr east of Hilyard St |\n",
       "\n"
      ],
      "text/plain": [
       "  LocationId Location                          Site_Name                     \n",
       "5 198        EastAmazonEastHilyardWestSidewalk E Amazon Dr east of Hilyard St\n",
       "6 173        EastAmazonEastHilyard             E Amazon Dr east of Hilyard St"
      ]
     },
     "metadata": {},
     "output_type": "display_data"
    }
   ],
   "source": [
    "loc2[loc2$Site_Name == 'E Amazon Dr east of Hilyard St', c('LocationId', 'Location', 'Site_Name')]"
   ]
  },
  {
   "cell_type": "code",
   "execution_count": 24,
   "id": "1ce3ac26",
   "metadata": {},
   "outputs": [
    {
     "data": {
      "text/html": [
       "177"
      ],
      "text/latex": [
       "177"
      ],
      "text/markdown": [
       "177"
      ],
      "text/plain": [
       "[1] 177"
      ]
     },
     "metadata": {},
     "output_type": "display_data"
    }
   ],
   "source": [
    "length(unique(data$Location))"
   ]
  },
  {
   "cell_type": "code",
   "execution_count": 26,
   "id": "80b4e1db",
   "metadata": {},
   "outputs": [
    {
     "data": {
      "text/html": [],
      "text/latex": [],
      "text/markdown": [],
      "text/plain": [
       "integer(0)"
      ]
     },
     "metadata": {},
     "output_type": "display_data"
    }
   ],
   "source": [
    "unique(data[data$Location %in% (unique(data$Location)[!(unique(data$Location) %in% unique(locdata$Location))]), 'LocationId'])"
   ]
  },
  {
   "cell_type": "code",
   "execution_count": 28,
   "id": "359798fd",
   "metadata": {},
   "outputs": [
    {
     "data": {
      "text/html": [],
      "text/latex": [],
      "text/markdown": [],
      "text/plain": [
       "logical(0)"
      ]
     },
     "metadata": {},
     "output_type": "display_data"
    }
   ],
   "source": [
    "# Ids that are not in the summary table\n",
    "unique(data[data$Location %in% (unique(data$Location)[!(unique(data$Location) %in% unique(locdata$Location))]), 'LocationId']) %in% locdata$LocationId"
   ]
  },
  {
   "cell_type": "code",
   "execution_count": 29,
   "id": "c84e4dd8",
   "metadata": {},
   "outputs": [],
   "source": [
    "# remove missing data\n",
    "data1 <- data[!is.na(data$Hourly_Count),]"
   ]
  },
  {
   "cell_type": "code",
   "execution_count": 30,
   "id": "0e173902",
   "metadata": {},
   "outputs": [],
   "source": [
    "# use only the total direction\n",
    "data1 <- data1[data1$Direction == 'Total',]"
   ]
  },
  {
   "cell_type": "code",
   "execution_count": 31,
   "id": "32fd8edc",
   "metadata": {},
   "outputs": [
    {
     "data": {
      "text/html": [
       "'Total'"
      ],
      "text/latex": [
       "'Total'"
      ],
      "text/markdown": [
       "'Total'"
      ],
      "text/plain": [
       "[1] \"Total\""
      ]
     },
     "metadata": {},
     "output_type": "display_data"
    }
   ],
   "source": [
    "unique(data1$Direction)"
   ]
  },
  {
   "cell_type": "code",
   "execution_count": 32,
   "id": "32c71fce",
   "metadata": {},
   "outputs": [],
   "source": [
    "outdata <- aggregate(x=list(BPH = data1$Hourly_Count), by=list(Year = data1$Year, Location = data1$Location), FUN=mean)"
   ]
  },
  {
   "cell_type": "code",
   "execution_count": 33,
   "id": "4b14e8dd",
   "metadata": {},
   "outputs": [],
   "source": [
    "locvars <- c('Location', 'Latitude', 'Longitude', 'Site_Name', \n",
    "             'DoubleCountLocation', 'IsOneway', 'OnewayDirection', \n",
    "             'IsSidewalk')"
   ]
  },
  {
   "cell_type": "code",
   "execution_count": 34,
   "id": "b7ad065e",
   "metadata": {},
   "outputs": [],
   "source": [
    "outdata <- merge(outdata, locdata[,locvars], by = 'Location')"
   ]
  },
  {
   "cell_type": "code",
   "execution_count": 35,
   "id": "d592faee",
   "metadata": {},
   "outputs": [
    {
     "data": {
      "text/html": [
       "<table class=\"dataframe\">\n",
       "<caption>A data.frame: 6 × 10</caption>\n",
       "<thead>\n",
       "\t<tr><th></th><th scope=col>Location</th><th scope=col>Year</th><th scope=col>BPH</th><th scope=col>Latitude</th><th scope=col>Longitude</th><th scope=col>Site_Name</th><th scope=col>DoubleCountLocation</th><th scope=col>IsOneway</th><th scope=col>OnewayDirection</th><th scope=col>IsSidewalk</th></tr>\n",
       "\t<tr><th></th><th scope=col>&lt;chr&gt;</th><th scope=col>&lt;int&gt;</th><th scope=col>&lt;dbl&gt;</th><th scope=col>&lt;dbl&gt;</th><th scope=col>&lt;dbl&gt;</th><th scope=col>&lt;chr&gt;</th><th scope=col>&lt;lgl&gt;</th><th scope=col>&lt;lgl&gt;</th><th scope=col>&lt;chr&gt;</th><th scope=col>&lt;lgl&gt;</th></tr>\n",
       "</thead>\n",
       "<tbody>\n",
       "\t<tr><th scope=row>1</th><td>10thWestJackson</td><td>2013</td><td>8.436441</td><td>44.04882</td><td>-123.1081</td><td>10th Ave West of Jackson St</td><td>FALSE</td><td>FALSE</td><td>&lt;Null&gt;</td><td>FALSE</td></tr>\n",
       "\t<tr><th scope=row>2</th><td>10thWestJackson</td><td>2014</td><td>6.298913</td><td>44.04882</td><td>-123.1081</td><td>10th Ave West of Jackson St</td><td>FALSE</td><td>FALSE</td><td>&lt;Null&gt;</td><td>FALSE</td></tr>\n",
       "\t<tr><th scope=row>3</th><td>10thWestJackson</td><td>2015</td><td>5.326087</td><td>44.04882</td><td>-123.1081</td><td>10th Ave West of Jackson St</td><td>FALSE</td><td>FALSE</td><td>&lt;Null&gt;</td><td>FALSE</td></tr>\n",
       "\t<tr><th scope=row>4</th><td>10thWestJackson</td><td>2016</td><td>4.207756</td><td>44.04882</td><td>-123.1081</td><td>10th Ave West of Jackson St</td><td>FALSE</td><td>FALSE</td><td>&lt;Null&gt;</td><td>FALSE</td></tr>\n",
       "\t<tr><th scope=row>5</th><td><span style=white-space:pre-wrap>11thWestAlder  </span></td><td>2012</td><td>6.512500</td><td>44.04771</td><td>-123.0809</td><td><span style=white-space:pre-wrap>11th Ave West of Alder St  </span></td><td> TRUE</td><td>FALSE</td><td>&lt;Null&gt;</td><td>FALSE</td></tr>\n",
       "\t<tr><th scope=row>6</th><td><span style=white-space:pre-wrap>11thWestAlder  </span></td><td>2015</td><td>8.404494</td><td>44.04771</td><td>-123.0809</td><td><span style=white-space:pre-wrap>11th Ave West of Alder St  </span></td><td> TRUE</td><td>FALSE</td><td>&lt;Null&gt;</td><td>FALSE</td></tr>\n",
       "</tbody>\n",
       "</table>\n"
      ],
      "text/latex": [
       "A data.frame: 6 × 10\n",
       "\\begin{tabular}{r|llllllllll}\n",
       "  & Location & Year & BPH & Latitude & Longitude & Site\\_Name & DoubleCountLocation & IsOneway & OnewayDirection & IsSidewalk\\\\\n",
       "  & <chr> & <int> & <dbl> & <dbl> & <dbl> & <chr> & <lgl> & <lgl> & <chr> & <lgl>\\\\\n",
       "\\hline\n",
       "\t1 & 10thWestJackson & 2013 & 8.436441 & 44.04882 & -123.1081 & 10th Ave West of Jackson St & FALSE & FALSE & <Null> & FALSE\\\\\n",
       "\t2 & 10thWestJackson & 2014 & 6.298913 & 44.04882 & -123.1081 & 10th Ave West of Jackson St & FALSE & FALSE & <Null> & FALSE\\\\\n",
       "\t3 & 10thWestJackson & 2015 & 5.326087 & 44.04882 & -123.1081 & 10th Ave West of Jackson St & FALSE & FALSE & <Null> & FALSE\\\\\n",
       "\t4 & 10thWestJackson & 2016 & 4.207756 & 44.04882 & -123.1081 & 10th Ave West of Jackson St & FALSE & FALSE & <Null> & FALSE\\\\\n",
       "\t5 & 11thWestAlder   & 2012 & 6.512500 & 44.04771 & -123.0809 & 11th Ave West of Alder St   &  TRUE & FALSE & <Null> & FALSE\\\\\n",
       "\t6 & 11thWestAlder   & 2015 & 8.404494 & 44.04771 & -123.0809 & 11th Ave West of Alder St   &  TRUE & FALSE & <Null> & FALSE\\\\\n",
       "\\end{tabular}\n"
      ],
      "text/markdown": [
       "\n",
       "A data.frame: 6 × 10\n",
       "\n",
       "| <!--/--> | Location &lt;chr&gt; | Year &lt;int&gt; | BPH &lt;dbl&gt; | Latitude &lt;dbl&gt; | Longitude &lt;dbl&gt; | Site_Name &lt;chr&gt; | DoubleCountLocation &lt;lgl&gt; | IsOneway &lt;lgl&gt; | OnewayDirection &lt;chr&gt; | IsSidewalk &lt;lgl&gt; |\n",
       "|---|---|---|---|---|---|---|---|---|---|---|\n",
       "| 1 | 10thWestJackson | 2013 | 8.436441 | 44.04882 | -123.1081 | 10th Ave West of Jackson St | FALSE | FALSE | &lt;Null&gt; | FALSE |\n",
       "| 2 | 10thWestJackson | 2014 | 6.298913 | 44.04882 | -123.1081 | 10th Ave West of Jackson St | FALSE | FALSE | &lt;Null&gt; | FALSE |\n",
       "| 3 | 10thWestJackson | 2015 | 5.326087 | 44.04882 | -123.1081 | 10th Ave West of Jackson St | FALSE | FALSE | &lt;Null&gt; | FALSE |\n",
       "| 4 | 10thWestJackson | 2016 | 4.207756 | 44.04882 | -123.1081 | 10th Ave West of Jackson St | FALSE | FALSE | &lt;Null&gt; | FALSE |\n",
       "| 5 | 11thWestAlder   | 2012 | 6.512500 | 44.04771 | -123.0809 | 11th Ave West of Alder St   |  TRUE | FALSE | &lt;Null&gt; | FALSE |\n",
       "| 6 | 11thWestAlder   | 2015 | 8.404494 | 44.04771 | -123.0809 | 11th Ave West of Alder St   |  TRUE | FALSE | &lt;Null&gt; | FALSE |\n",
       "\n"
      ],
      "text/plain": [
       "  Location        Year BPH      Latitude Longitude Site_Name                  \n",
       "1 10thWestJackson 2013 8.436441 44.04882 -123.1081 10th Ave West of Jackson St\n",
       "2 10thWestJackson 2014 6.298913 44.04882 -123.1081 10th Ave West of Jackson St\n",
       "3 10thWestJackson 2015 5.326087 44.04882 -123.1081 10th Ave West of Jackson St\n",
       "4 10thWestJackson 2016 4.207756 44.04882 -123.1081 10th Ave West of Jackson St\n",
       "5 11thWestAlder   2012 6.512500 44.04771 -123.0809 11th Ave West of Alder St  \n",
       "6 11thWestAlder   2015 8.404494 44.04771 -123.0809 11th Ave West of Alder St  \n",
       "  DoubleCountLocation IsOneway OnewayDirection IsSidewalk\n",
       "1 FALSE               FALSE    <Null>          FALSE     \n",
       "2 FALSE               FALSE    <Null>          FALSE     \n",
       "3 FALSE               FALSE    <Null>          FALSE     \n",
       "4 FALSE               FALSE    <Null>          FALSE     \n",
       "5  TRUE               FALSE    <Null>          FALSE     \n",
       "6  TRUE               FALSE    <Null>          FALSE     "
      ]
     },
     "metadata": {},
     "output_type": "display_data"
    }
   ],
   "source": [
    "head(outdata)"
   ]
  },
  {
   "cell_type": "code",
   "execution_count": 36,
   "id": "b0f11a75",
   "metadata": {},
   "outputs": [
    {
     "name": "stdout",
     "output_type": "stream",
     "text": [
      "OGR data source with driver: ESRI Shapefile \n",
      "Source: \"V:\\Data\\Transportation\", layer: \"MPO_Bound\"\n",
      "with 1 features\n",
      "It has 3 fields\n"
     ]
    }
   ],
   "source": [
    "MPOBound <- readOGR(dsn = \"V:/Data/Transportation\", layer=\"MPO_Bound\")"
   ]
  },
  {
   "cell_type": "code",
   "execution_count": 37,
   "id": "70cd08b7",
   "metadata": {},
   "outputs": [
    {
     "data": {
      "text/html": [
       "'+proj=merc +a=6378137 +b=6378137 +lat_ts=0 +lon_0=0 +x_0=0 +y_0=0 +k=1 +units=m +nadgrids=@null +wktext +no_defs +type=crs'"
      ],
      "text/latex": [
       "'+proj=merc +a=6378137 +b=6378137 +lat\\_ts=0 +lon\\_0=0 +x\\_0=0 +y\\_0=0 +k=1 +units=m +nadgrids=@null +wktext +no\\_defs +type=crs'"
      ],
      "text/markdown": [
       "'+proj=merc +a=6378137 +b=6378137 +lat_ts=0 +lon_0=0 +x_0=0 +y_0=0 +k=1 +units=m +nadgrids=@null +wktext +no_defs +type=crs'"
      ],
      "text/plain": [
       "[1] \"+proj=merc +a=6378137 +b=6378137 +lat_ts=0 +lon_0=0 +x_0=0 +y_0=0 +k=1 +units=m +nadgrids=@null +wktext +no_defs +type=crs\""
      ]
     },
     "metadata": {},
     "output_type": "display_data"
    }
   ],
   "source": [
    "proj4string(MPOBound)"
   ]
  },
  {
   "cell_type": "code",
   "execution_count": 38,
   "id": "d06d3e3e",
   "metadata": {},
   "outputs": [],
   "source": [
    "# require MPOBound\n",
    "df2spdf <- function(df, lon_col_name, lat_col_name, trans = TRUE){\n",
    "  lonlat <- sp::CRS(\"+proj=longlat +datum=WGS84 +ellps=WGS84 +towgs84=0,0,0\")\n",
    "  lon_col_no <- which(names(df)==lon_col_name)\n",
    "  lat_col_no <- which(names(df)==lat_col_name)\n",
    "  xy <- data.frame(df[,c(lon_col_no,lat_col_no)])\n",
    "  coordinates(xy) <- c(lon_col_name, lat_col_name)\n",
    "  proj4string(xy) <- lonlat\n",
    "  spdf <- sp::SpatialPointsDataFrame(coords = xy, data = df)\n",
    "  if(trans){\n",
    "    spdf <- spTransform(spdf, CRS(proj4string(MPOBound)))\n",
    "  }\n",
    "  return(spdf)\n",
    "}"
   ]
  },
  {
   "cell_type": "code",
   "execution_count": 39,
   "id": "415b3d21",
   "metadata": {},
   "outputs": [],
   "source": [
    "outspdf <- df2spdf(outdata, 'Longitude', 'Latitude')"
   ]
  },
  {
   "cell_type": "code",
   "execution_count": 40,
   "id": "070f13f0",
   "metadata": {},
   "outputs": [],
   "source": [
    "mapping <- function(plotvar, spdf, nclr=8, col=\"BrBG\", sty=\"kmeans\", legtlt='BPH', \n",
    "                    title='Bikes Per Hour in CLMPO'){\n",
    "  plotclr <- rev(brewer.pal(nclr,col))\n",
    "  class <- classIntervals(plotvar, nclr, style=sty)\n",
    "  colcode <- findColours(class, plotclr) \n",
    "  par(mfrow=c(1,1),mar=c(0,0,2,0))\n",
    "  plot(MPOBound, col='grey')\n",
    "  plot(spdf, pch=16, col=colcode, cex=3, add=T)\n",
    "  legend(\"topright\", legend=names(attr(colcode, \"table\")),\n",
    "         fill=attr(colcode, \"palette\"), cex=0.9, bty=\"n\", title=legtlt)\n",
    "}"
   ]
  },
  {
   "cell_type": "code",
   "execution_count": 41,
   "id": "b6350053",
   "metadata": {},
   "outputs": [],
   "source": [
    "outspdf <- outspdf[order(outspdf$BPH),]"
   ]
  },
  {
   "cell_type": "code",
   "execution_count": 42,
   "id": "89b3a2d2",
   "metadata": {},
   "outputs": [
    {
     "data": {
      "image/png": "[encoded data removed]",
      "text/plain": [
       "plot without title"
      ]
     },
     "metadata": {
      "image/png": {
       "height": 420,
       "width": 420
      }
     },
     "output_type": "display_data"
    }
   ],
   "source": [
    "mapping(outspdf$BPH, outspdf)"
   ]
  },
  {
   "cell_type": "code",
   "execution_count": 43,
   "id": "066367e2",
   "metadata": {},
   "outputs": [
    {
     "data": {
      "image/png": "[encoded data removed]",
      "text/plain": [
       "plot without title"
      ]
     },
     "metadata": {
      "image/png": {
       "height": 420,
       "width": 420
      }
     },
     "output_type": "display_data"
    }
   ],
   "source": [
    "plot(outspdf$Longitude, outspdf$Latitude, type=\"n\")\n",
    "symbols(outspdf$Longitude, outspdf$Latitude, outspdf$BPH, inches=0.1, add=T)"
   ]
  },
  {
   "cell_type": "code",
   "execution_count": 44,
   "id": "751577e4",
   "metadata": {},
   "outputs": [
    {
     "data": {
      "image/png": "[encoded data removed]",
      "text/plain": [
       "plot without title"
      ]
     },
     "metadata": {
      "image/png": {
       "height": 720,
       "width": 720
      }
     },
     "output_type": "display_data"
    }
   ],
   "source": [
    "options(repr.plot.width=12, repr.plot.height=12)\n",
    "par(mfrow=c(1,1),mar=c(0,0,2,0))\n",
    "plot(MPOBound)\n",
    "plot(outspdf, add=TRUE)\n",
    "points(outspdf$Longitude, outspdf$Latitude, cex=outspdf$BPH/10)"
   ]
  },
  {
   "cell_type": "code",
   "execution_count": 45,
   "id": "f688dd15",
   "metadata": {},
   "outputs": [
    {
     "data": {
      "image/png": "[encoded data removed]",
      "text/plain": [
       "plot without title"
      ]
     },
     "metadata": {
      "image/png": {
       "height": 480,
       "width": 480
      }
     },
     "output_type": "display_data"
    }
   ],
   "source": [
    "options(repr.plot.width=8, repr.plot.height=8)\n",
    "boxplot(BPH~Year,data=outdata)"
   ]
  },
  {
   "cell_type": "code",
   "execution_count": 43,
   "id": "6da83775",
   "metadata": {},
   "outputs": [],
   "source": [
    "#outdata$Growth <- with(outdata[,c('Location', 'Year', 'BPH')], ave(BPH, Location, \n",
    "#                      FUN=function(x) c(NA, diff(x)/x[-length(x)]) ))"
   ]
  },
  {
   "cell_type": "code",
   "execution_count": 46,
   "id": "38295773",
   "metadata": {},
   "outputs": [],
   "source": [
    "for(loc in unique(outdata$Location)){\n",
    "    years <- sort(unique(outdata[outdata$Location == loc,\"Year\"]))\n",
    "    for(yr in years){\n",
    "        if(yr==min(years)){\n",
    "            outdata[outdata$Location==loc & outdata$Year==yr,\"Growth\"] <- NA\n",
    "        }else{\n",
    "            i <- which(years==yr)\n",
    "            x1 <- outdata[outdata$Location==loc & outdata$Year==yr,\"BPH\"]\n",
    "            x2 <- outdata[outdata$Location==loc & outdata$Year==years[i-1],\"BPH\"]\n",
    "            n <- yr - years[i-1]\n",
    "            outdata[outdata$Location==loc & outdata$Year==yr,\"Growth\"] <- (x1-x2)/(n*x2)\n",
    "        }\n",
    "    }\n",
    "}"
   ]
  },
  {
   "cell_type": "code",
   "execution_count": 47,
   "id": "5f88b1d0",
   "metadata": {},
   "outputs": [
    {
     "data": {
      "text/html": [
       "<table class=\"dataframe\">\n",
       "<caption>A data.frame: 6 × 11</caption>\n",
       "<thead>\n",
       "\t<tr><th></th><th scope=col>Location</th><th scope=col>Year</th><th scope=col>BPH</th><th scope=col>Latitude</th><th scope=col>Longitude</th><th scope=col>Site_Name</th><th scope=col>DoubleCountLocation</th><th scope=col>IsOneway</th><th scope=col>OnewayDirection</th><th scope=col>IsSidewalk</th><th scope=col>Growth</th></tr>\n",
       "\t<tr><th></th><th scope=col>&lt;chr&gt;</th><th scope=col>&lt;int&gt;</th><th scope=col>&lt;dbl&gt;</th><th scope=col>&lt;dbl&gt;</th><th scope=col>&lt;dbl&gt;</th><th scope=col>&lt;chr&gt;</th><th scope=col>&lt;lgl&gt;</th><th scope=col>&lt;lgl&gt;</th><th scope=col>&lt;chr&gt;</th><th scope=col>&lt;lgl&gt;</th><th scope=col>&lt;dbl&gt;</th></tr>\n",
       "</thead>\n",
       "<tbody>\n",
       "\t<tr><th scope=row>1</th><td>10thWestJackson</td><td>2013</td><td>8.436441</td><td>44.04882</td><td>-123.1081</td><td>10th Ave West of Jackson St</td><td>FALSE</td><td>FALSE</td><td>&lt;Null&gt;</td><td>FALSE</td><td><span style=white-space:pre-wrap>         NA</span></td></tr>\n",
       "\t<tr><th scope=row>2</th><td>10thWestJackson</td><td>2014</td><td>6.298913</td><td>44.04882</td><td>-123.1081</td><td>10th Ave West of Jackson St</td><td>FALSE</td><td>FALSE</td><td>&lt;Null&gt;</td><td>FALSE</td><td>-0.25336842</td></tr>\n",
       "\t<tr><th scope=row>3</th><td>10thWestJackson</td><td>2015</td><td>5.326087</td><td>44.04882</td><td>-123.1081</td><td>10th Ave West of Jackson St</td><td>FALSE</td><td>FALSE</td><td>&lt;Null&gt;</td><td>FALSE</td><td>-0.15444349</td></tr>\n",
       "\t<tr><th scope=row>4</th><td>10thWestJackson</td><td>2016</td><td>4.207756</td><td>44.04882</td><td>-123.1081</td><td>10th Ave West of Jackson St</td><td>FALSE</td><td>FALSE</td><td>&lt;Null&gt;</td><td>FALSE</td><td>-0.20997230</td></tr>\n",
       "\t<tr><th scope=row>5</th><td><span style=white-space:pre-wrap>11thWestAlder  </span></td><td>2012</td><td>6.512500</td><td>44.04771</td><td>-123.0809</td><td><span style=white-space:pre-wrap>11th Ave West of Alder St  </span></td><td> TRUE</td><td>FALSE</td><td>&lt;Null&gt;</td><td>FALSE</td><td><span style=white-space:pre-wrap>         NA</span></td></tr>\n",
       "\t<tr><th scope=row>6</th><td><span style=white-space:pre-wrap>11thWestAlder  </span></td><td>2015</td><td>8.404494</td><td>44.04771</td><td>-123.0809</td><td><span style=white-space:pre-wrap>11th Ave West of Alder St  </span></td><td> TRUE</td><td>FALSE</td><td>&lt;Null&gt;</td><td>FALSE</td><td> 0.09683912</td></tr>\n",
       "</tbody>\n",
       "</table>\n"
      ],
      "text/latex": [
       "A data.frame: 6 × 11\n",
       "\\begin{tabular}{r|lllllllllll}\n",
       "  & Location & Year & BPH & Latitude & Longitude & Site\\_Name & DoubleCountLocation & IsOneway & OnewayDirection & IsSidewalk & Growth\\\\\n",
       "  & <chr> & <int> & <dbl> & <dbl> & <dbl> & <chr> & <lgl> & <lgl> & <chr> & <lgl> & <dbl>\\\\\n",
       "\\hline\n",
       "\t1 & 10thWestJackson & 2013 & 8.436441 & 44.04882 & -123.1081 & 10th Ave West of Jackson St & FALSE & FALSE & <Null> & FALSE &          NA\\\\\n",
       "\t2 & 10thWestJackson & 2014 & 6.298913 & 44.04882 & -123.1081 & 10th Ave West of Jackson St & FALSE & FALSE & <Null> & FALSE & -0.25336842\\\\\n",
       "\t3 & 10thWestJackson & 2015 & 5.326087 & 44.04882 & -123.1081 & 10th Ave West of Jackson St & FALSE & FALSE & <Null> & FALSE & -0.15444349\\\\\n",
       "\t4 & 10thWestJackson & 2016 & 4.207756 & 44.04882 & -123.1081 & 10th Ave West of Jackson St & FALSE & FALSE & <Null> & FALSE & -0.20997230\\\\\n",
       "\t5 & 11thWestAlder   & 2012 & 6.512500 & 44.04771 & -123.0809 & 11th Ave West of Alder St   &  TRUE & FALSE & <Null> & FALSE &          NA\\\\\n",
       "\t6 & 11thWestAlder   & 2015 & 8.404494 & 44.04771 & -123.0809 & 11th Ave West of Alder St   &  TRUE & FALSE & <Null> & FALSE &  0.09683912\\\\\n",
       "\\end{tabular}\n"
      ],
      "text/markdown": [
       "\n",
       "A data.frame: 6 × 11\n",
       "\n",
       "| <!--/--> | Location &lt;chr&gt; | Year &lt;int&gt; | BPH &lt;dbl&gt; | Latitude &lt;dbl&gt; | Longitude &lt;dbl&gt; | Site_Name &lt;chr&gt; | DoubleCountLocation &lt;lgl&gt; | IsOneway &lt;lgl&gt; | OnewayDirection &lt;chr&gt; | IsSidewalk &lt;lgl&gt; | Growth &lt;dbl&gt; |\n",
       "|---|---|---|---|---|---|---|---|---|---|---|---|\n",
       "| 1 | 10thWestJackson | 2013 | 8.436441 | 44.04882 | -123.1081 | 10th Ave West of Jackson St | FALSE | FALSE | &lt;Null&gt; | FALSE |          NA |\n",
       "| 2 | 10thWestJackson | 2014 | 6.298913 | 44.04882 | -123.1081 | 10th Ave West of Jackson St | FALSE | FALSE | &lt;Null&gt; | FALSE | -0.25336842 |\n",
       "| 3 | 10thWestJackson | 2015 | 5.326087 | 44.04882 | -123.1081 | 10th Ave West of Jackson St | FALSE | FALSE | &lt;Null&gt; | FALSE | -0.15444349 |\n",
       "| 4 | 10thWestJackson | 2016 | 4.207756 | 44.04882 | -123.1081 | 10th Ave West of Jackson St | FALSE | FALSE | &lt;Null&gt; | FALSE | -0.20997230 |\n",
       "| 5 | 11thWestAlder   | 2012 | 6.512500 | 44.04771 | -123.0809 | 11th Ave West of Alder St   |  TRUE | FALSE | &lt;Null&gt; | FALSE |          NA |\n",
       "| 6 | 11thWestAlder   | 2015 | 8.404494 | 44.04771 | -123.0809 | 11th Ave West of Alder St   |  TRUE | FALSE | &lt;Null&gt; | FALSE |  0.09683912 |\n",
       "\n"
      ],
      "text/plain": [
       "  Location        Year BPH      Latitude Longitude Site_Name                  \n",
       "1 10thWestJackson 2013 8.436441 44.04882 -123.1081 10th Ave West of Jackson St\n",
       "2 10thWestJackson 2014 6.298913 44.04882 -123.1081 10th Ave West of Jackson St\n",
       "3 10thWestJackson 2015 5.326087 44.04882 -123.1081 10th Ave West of Jackson St\n",
       "4 10thWestJackson 2016 4.207756 44.04882 -123.1081 10th Ave West of Jackson St\n",
       "5 11thWestAlder   2012 6.512500 44.04771 -123.0809 11th Ave West of Alder St  \n",
       "6 11thWestAlder   2015 8.404494 44.04771 -123.0809 11th Ave West of Alder St  \n",
       "  DoubleCountLocation IsOneway OnewayDirection IsSidewalk Growth     \n",
       "1 FALSE               FALSE    <Null>          FALSE               NA\n",
       "2 FALSE               FALSE    <Null>          FALSE      -0.25336842\n",
       "3 FALSE               FALSE    <Null>          FALSE      -0.15444349\n",
       "4 FALSE               FALSE    <Null>          FALSE      -0.20997230\n",
       "5  TRUE               FALSE    <Null>          FALSE               NA\n",
       "6  TRUE               FALSE    <Null>          FALSE       0.09683912"
      ]
     },
     "metadata": {},
     "output_type": "display_data"
    }
   ],
   "source": [
    "head(outdata)"
   ]
  },
  {
   "cell_type": "code",
   "execution_count": 48,
   "id": "1822e946",
   "metadata": {},
   "outputs": [
    {
     "data": {
      "image/png": "[encoded data removed]",
      "text/plain": [
       "plot without title"
      ]
     },
     "metadata": {
      "image/png": {
       "height": 480,
       "width": 480
      }
     },
     "output_type": "display_data"
    }
   ],
   "source": [
    "boxplot(Growth~Year,data=outdata)\n",
    "abline(h=0, col='red', lwd=2, lty=2)"
   ]
  },
  {
   "cell_type": "code",
   "execution_count": 49,
   "id": "a906a50c",
   "metadata": {},
   "outputs": [
    {
     "data": {
      "text/html": [
       "<table class=\"dataframe\">\n",
       "<caption>A data.frame: 10 × 3</caption>\n",
       "<thead>\n",
       "\t<tr><th scope=col>Year</th><th scope=col>BPH</th><th scope=col>Growth</th></tr>\n",
       "\t<tr><th scope=col>&lt;int&gt;</th><th scope=col>&lt;dbl&gt;</th><th scope=col>&lt;dbl&gt;</th></tr>\n",
       "</thead>\n",
       "<tbody>\n",
       "\t<tr><td>2012</td><td>16.486134</td><td>         NA</td></tr>\n",
       "\t<tr><td>2013</td><td>13.908181</td><td>-0.15637103</td></tr>\n",
       "\t<tr><td>2014</td><td>11.763774</td><td>-0.15418308</td></tr>\n",
       "\t<tr><td>2015</td><td>11.221044</td><td>-0.04613575</td></tr>\n",
       "\t<tr><td>2016</td><td> 8.914303</td><td>-0.20557278</td></tr>\n",
       "\t<tr><td>2017</td><td> 9.951249</td><td> 0.11632389</td></tr>\n",
       "\t<tr><td>2018</td><td>13.373929</td><td> 0.34394475</td></tr>\n",
       "\t<tr><td>2019</td><td>11.770151</td><td>-0.11991820</td></tr>\n",
       "\t<tr><td>2020</td><td>12.289724</td><td> 0.04414324</td></tr>\n",
       "\t<tr><td>2021</td><td>10.878547</td><td>-0.11482577</td></tr>\n",
       "</tbody>\n",
       "</table>\n"
      ],
      "text/latex": [
       "A data.frame: 10 × 3\n",
       "\\begin{tabular}{lll}\n",
       " Year & BPH & Growth\\\\\n",
       " <int> & <dbl> & <dbl>\\\\\n",
       "\\hline\n",
       "\t 2012 & 16.486134 &          NA\\\\\n",
       "\t 2013 & 13.908181 & -0.15637103\\\\\n",
       "\t 2014 & 11.763774 & -0.15418308\\\\\n",
       "\t 2015 & 11.221044 & -0.04613575\\\\\n",
       "\t 2016 &  8.914303 & -0.20557278\\\\\n",
       "\t 2017 &  9.951249 &  0.11632389\\\\\n",
       "\t 2018 & 13.373929 &  0.34394475\\\\\n",
       "\t 2019 & 11.770151 & -0.11991820\\\\\n",
       "\t 2020 & 12.289724 &  0.04414324\\\\\n",
       "\t 2021 & 10.878547 & -0.11482577\\\\\n",
       "\\end{tabular}\n"
      ],
      "text/markdown": [
       "\n",
       "A data.frame: 10 × 3\n",
       "\n",
       "| Year &lt;int&gt; | BPH &lt;dbl&gt; | Growth &lt;dbl&gt; |\n",
       "|---|---|---|\n",
       "| 2012 | 16.486134 |          NA |\n",
       "| 2013 | 13.908181 | -0.15637103 |\n",
       "| 2014 | 11.763774 | -0.15418308 |\n",
       "| 2015 | 11.221044 | -0.04613575 |\n",
       "| 2016 |  8.914303 | -0.20557278 |\n",
       "| 2017 |  9.951249 |  0.11632389 |\n",
       "| 2018 | 13.373929 |  0.34394475 |\n",
       "| 2019 | 11.770151 | -0.11991820 |\n",
       "| 2020 | 12.289724 |  0.04414324 |\n",
       "| 2021 | 10.878547 | -0.11482577 |\n",
       "\n"
      ],
      "text/plain": [
       "   Year BPH       Growth     \n",
       "1  2012 16.486134          NA\n",
       "2  2013 13.908181 -0.15637103\n",
       "3  2014 11.763774 -0.15418308\n",
       "4  2015 11.221044 -0.04613575\n",
       "5  2016  8.914303 -0.20557278\n",
       "6  2017  9.951249  0.11632389\n",
       "7  2018 13.373929  0.34394475\n",
       "8  2019 11.770151 -0.11991820\n",
       "9  2020 12.289724  0.04414324\n",
       "10 2021 10.878547 -0.11482577"
      ]
     },
     "metadata": {},
     "output_type": "display_data"
    }
   ],
   "source": [
    "# MPO-wide growth in BPH\n",
    "df <- transform(aggregate(x=list(BPH = data1$Hourly_Count), by=list(Year = data1$Year), FUN=mean), Growth=ave(BPH, \n",
    "                         FUN=function(x) c(NA, diff(x)/x[-length(x)])))\n",
    "df                                                                                                              "
   ]
  },
  {
   "cell_type": "code",
   "execution_count": 50,
   "id": "bf30a7c8",
   "metadata": {},
   "outputs": [],
   "source": [
    "data2 <- merge(data1[,c('Location', 'Year', 'Hourly_Count')], locdata[,locvars], by='Location')"
   ]
  },
  {
   "cell_type": "code",
   "execution_count": 51,
   "id": "956e848a",
   "metadata": {},
   "outputs": [
    {
     "data": {
      "text/html": [
       "<table class=\"dataframe\">\n",
       "<caption>A data.frame: 6 × 10</caption>\n",
       "<thead>\n",
       "\t<tr><th></th><th scope=col>Location</th><th scope=col>Year</th><th scope=col>Hourly_Count</th><th scope=col>Latitude</th><th scope=col>Longitude</th><th scope=col>Site_Name</th><th scope=col>DoubleCountLocation</th><th scope=col>IsOneway</th><th scope=col>OnewayDirection</th><th scope=col>IsSidewalk</th></tr>\n",
       "\t<tr><th></th><th scope=col>&lt;chr&gt;</th><th scope=col>&lt;int&gt;</th><th scope=col>&lt;int&gt;</th><th scope=col>&lt;dbl&gt;</th><th scope=col>&lt;dbl&gt;</th><th scope=col>&lt;chr&gt;</th><th scope=col>&lt;lgl&gt;</th><th scope=col>&lt;lgl&gt;</th><th scope=col>&lt;chr&gt;</th><th scope=col>&lt;lgl&gt;</th></tr>\n",
       "</thead>\n",
       "<tbody>\n",
       "\t<tr><th scope=row>1</th><td>10thWestJackson</td><td>2013</td><td>5</td><td>44.04882</td><td>-123.1081</td><td>10th Ave West of Jackson St</td><td>FALSE</td><td>FALSE</td><td>&lt;Null&gt;</td><td>FALSE</td></tr>\n",
       "\t<tr><th scope=row>2</th><td>10thWestJackson</td><td>2013</td><td>2</td><td>44.04882</td><td>-123.1081</td><td>10th Ave West of Jackson St</td><td>FALSE</td><td>FALSE</td><td>&lt;Null&gt;</td><td>FALSE</td></tr>\n",
       "\t<tr><th scope=row>3</th><td>10thWestJackson</td><td>2013</td><td>5</td><td>44.04882</td><td>-123.1081</td><td>10th Ave West of Jackson St</td><td>FALSE</td><td>FALSE</td><td>&lt;Null&gt;</td><td>FALSE</td></tr>\n",
       "\t<tr><th scope=row>4</th><td>10thWestJackson</td><td>2013</td><td>3</td><td>44.04882</td><td>-123.1081</td><td>10th Ave West of Jackson St</td><td>FALSE</td><td>FALSE</td><td>&lt;Null&gt;</td><td>FALSE</td></tr>\n",
       "\t<tr><th scope=row>5</th><td>10thWestJackson</td><td>2013</td><td>1</td><td>44.04882</td><td>-123.1081</td><td>10th Ave West of Jackson St</td><td>FALSE</td><td>FALSE</td><td>&lt;Null&gt;</td><td>FALSE</td></tr>\n",
       "\t<tr><th scope=row>6</th><td>10thWestJackson</td><td>2013</td><td>2</td><td>44.04882</td><td>-123.1081</td><td>10th Ave West of Jackson St</td><td>FALSE</td><td>FALSE</td><td>&lt;Null&gt;</td><td>FALSE</td></tr>\n",
       "</tbody>\n",
       "</table>\n"
      ],
      "text/latex": [
       "A data.frame: 6 × 10\n",
       "\\begin{tabular}{r|llllllllll}\n",
       "  & Location & Year & Hourly\\_Count & Latitude & Longitude & Site\\_Name & DoubleCountLocation & IsOneway & OnewayDirection & IsSidewalk\\\\\n",
       "  & <chr> & <int> & <int> & <dbl> & <dbl> & <chr> & <lgl> & <lgl> & <chr> & <lgl>\\\\\n",
       "\\hline\n",
       "\t1 & 10thWestJackson & 2013 & 5 & 44.04882 & -123.1081 & 10th Ave West of Jackson St & FALSE & FALSE & <Null> & FALSE\\\\\n",
       "\t2 & 10thWestJackson & 2013 & 2 & 44.04882 & -123.1081 & 10th Ave West of Jackson St & FALSE & FALSE & <Null> & FALSE\\\\\n",
       "\t3 & 10thWestJackson & 2013 & 5 & 44.04882 & -123.1081 & 10th Ave West of Jackson St & FALSE & FALSE & <Null> & FALSE\\\\\n",
       "\t4 & 10thWestJackson & 2013 & 3 & 44.04882 & -123.1081 & 10th Ave West of Jackson St & FALSE & FALSE & <Null> & FALSE\\\\\n",
       "\t5 & 10thWestJackson & 2013 & 1 & 44.04882 & -123.1081 & 10th Ave West of Jackson St & FALSE & FALSE & <Null> & FALSE\\\\\n",
       "\t6 & 10thWestJackson & 2013 & 2 & 44.04882 & -123.1081 & 10th Ave West of Jackson St & FALSE & FALSE & <Null> & FALSE\\\\\n",
       "\\end{tabular}\n"
      ],
      "text/markdown": [
       "\n",
       "A data.frame: 6 × 10\n",
       "\n",
       "| <!--/--> | Location &lt;chr&gt; | Year &lt;int&gt; | Hourly_Count &lt;int&gt; | Latitude &lt;dbl&gt; | Longitude &lt;dbl&gt; | Site_Name &lt;chr&gt; | DoubleCountLocation &lt;lgl&gt; | IsOneway &lt;lgl&gt; | OnewayDirection &lt;chr&gt; | IsSidewalk &lt;lgl&gt; |\n",
       "|---|---|---|---|---|---|---|---|---|---|---|\n",
       "| 1 | 10thWestJackson | 2013 | 5 | 44.04882 | -123.1081 | 10th Ave West of Jackson St | FALSE | FALSE | &lt;Null&gt; | FALSE |\n",
       "| 2 | 10thWestJackson | 2013 | 2 | 44.04882 | -123.1081 | 10th Ave West of Jackson St | FALSE | FALSE | &lt;Null&gt; | FALSE |\n",
       "| 3 | 10thWestJackson | 2013 | 5 | 44.04882 | -123.1081 | 10th Ave West of Jackson St | FALSE | FALSE | &lt;Null&gt; | FALSE |\n",
       "| 4 | 10thWestJackson | 2013 | 3 | 44.04882 | -123.1081 | 10th Ave West of Jackson St | FALSE | FALSE | &lt;Null&gt; | FALSE |\n",
       "| 5 | 10thWestJackson | 2013 | 1 | 44.04882 | -123.1081 | 10th Ave West of Jackson St | FALSE | FALSE | &lt;Null&gt; | FALSE |\n",
       "| 6 | 10thWestJackson | 2013 | 2 | 44.04882 | -123.1081 | 10th Ave West of Jackson St | FALSE | FALSE | &lt;Null&gt; | FALSE |\n",
       "\n"
      ],
      "text/plain": [
       "  Location        Year Hourly_Count Latitude Longitude\n",
       "1 10thWestJackson 2013 5            44.04882 -123.1081\n",
       "2 10thWestJackson 2013 2            44.04882 -123.1081\n",
       "3 10thWestJackson 2013 5            44.04882 -123.1081\n",
       "4 10thWestJackson 2013 3            44.04882 -123.1081\n",
       "5 10thWestJackson 2013 1            44.04882 -123.1081\n",
       "6 10thWestJackson 2013 2            44.04882 -123.1081\n",
       "  Site_Name                   DoubleCountLocation IsOneway OnewayDirection\n",
       "1 10th Ave West of Jackson St FALSE               FALSE    <Null>         \n",
       "2 10th Ave West of Jackson St FALSE               FALSE    <Null>         \n",
       "3 10th Ave West of Jackson St FALSE               FALSE    <Null>         \n",
       "4 10th Ave West of Jackson St FALSE               FALSE    <Null>         \n",
       "5 10th Ave West of Jackson St FALSE               FALSE    <Null>         \n",
       "6 10th Ave West of Jackson St FALSE               FALSE    <Null>         \n",
       "  IsSidewalk\n",
       "1 FALSE     \n",
       "2 FALSE     \n",
       "3 FALSE     \n",
       "4 FALSE     \n",
       "5 FALSE     \n",
       "6 FALSE     "
      ]
     },
     "metadata": {},
     "output_type": "display_data"
    }
   ],
   "source": [
    "head(data2)"
   ]
  },
  {
   "cell_type": "code",
   "execution_count": 52,
   "id": "c5bce28c",
   "metadata": {},
   "outputs": [],
   "source": [
    "data3 <- data2[data2$IsSidewalk,]"
   ]
  },
  {
   "cell_type": "code",
   "execution_count": 53,
   "id": "8778a4c6",
   "metadata": {},
   "outputs": [],
   "source": [
    "# MPO-wide growth in sidewalk riding BPH\n",
    "df1 <- transform(aggregate(x=list(BPH = data3$Hourly_Count), by=list(Year = data3$Year), FUN=mean), Growth=ave(BPH, \n",
    "                         FUN=function(x) c(NA, diff(x)/x[-length(x)]))) #FUN=function(x) c(NA,exp(diff(log(x)))-1)"
   ]
  },
  {
   "cell_type": "code",
   "execution_count": 54,
   "id": "6f3e1f50",
   "metadata": {},
   "outputs": [
    {
     "data": {
      "text/html": [
       "<table class=\"dataframe\">\n",
       "<caption>A data.frame: 7 × 3</caption>\n",
       "<thead>\n",
       "\t<tr><th scope=col>Year</th><th scope=col>BPH</th><th scope=col>Growth</th></tr>\n",
       "\t<tr><th scope=col>&lt;int&gt;</th><th scope=col>&lt;dbl&gt;</th><th scope=col>&lt;dbl&gt;</th></tr>\n",
       "</thead>\n",
       "<tbody>\n",
       "\t<tr><td>2014</td><td>4.0841984</td><td>         NA</td></tr>\n",
       "\t<tr><td>2015</td><td>2.5757705</td><td>-0.36933266</td></tr>\n",
       "\t<tr><td>2016</td><td>2.4359862</td><td>-0.05426896</td></tr>\n",
       "\t<tr><td>2017</td><td>0.9966799</td><td>-0.59085156</td></tr>\n",
       "\t<tr><td>2018</td><td>2.5343960</td><td> 1.54283833</td></tr>\n",
       "\t<tr><td>2019</td><td>1.4058400</td><td>-0.44529582</td></tr>\n",
       "\t<tr><td>2021</td><td>0.7954545</td><td>-0.43417848</td></tr>\n",
       "</tbody>\n",
       "</table>\n"
      ],
      "text/latex": [
       "A data.frame: 7 × 3\n",
       "\\begin{tabular}{lll}\n",
       " Year & BPH & Growth\\\\\n",
       " <int> & <dbl> & <dbl>\\\\\n",
       "\\hline\n",
       "\t 2014 & 4.0841984 &          NA\\\\\n",
       "\t 2015 & 2.5757705 & -0.36933266\\\\\n",
       "\t 2016 & 2.4359862 & -0.05426896\\\\\n",
       "\t 2017 & 0.9966799 & -0.59085156\\\\\n",
       "\t 2018 & 2.5343960 &  1.54283833\\\\\n",
       "\t 2019 & 1.4058400 & -0.44529582\\\\\n",
       "\t 2021 & 0.7954545 & -0.43417848\\\\\n",
       "\\end{tabular}\n"
      ],
      "text/markdown": [
       "\n",
       "A data.frame: 7 × 3\n",
       "\n",
       "| Year &lt;int&gt; | BPH &lt;dbl&gt; | Growth &lt;dbl&gt; |\n",
       "|---|---|---|\n",
       "| 2014 | 4.0841984 |          NA |\n",
       "| 2015 | 2.5757705 | -0.36933266 |\n",
       "| 2016 | 2.4359862 | -0.05426896 |\n",
       "| 2017 | 0.9966799 | -0.59085156 |\n",
       "| 2018 | 2.5343960 |  1.54283833 |\n",
       "| 2019 | 1.4058400 | -0.44529582 |\n",
       "| 2021 | 0.7954545 | -0.43417848 |\n",
       "\n"
      ],
      "text/plain": [
       "  Year BPH       Growth     \n",
       "1 2014 4.0841984          NA\n",
       "2 2015 2.5757705 -0.36933266\n",
       "3 2016 2.4359862 -0.05426896\n",
       "4 2017 0.9966799 -0.59085156\n",
       "5 2018 2.5343960  1.54283833\n",
       "6 2019 1.4058400 -0.44529582\n",
       "7 2021 0.7954545 -0.43417848"
      ]
     },
     "metadata": {},
     "output_type": "display_data"
    }
   ],
   "source": [
    "df1"
   ]
  },
  {
   "cell_type": "code",
   "execution_count": 55,
   "id": "ff4ebb9a",
   "metadata": {},
   "outputs": [],
   "source": [
    "write.csv(outdata, \"T:/DCProjects/StoryMap/BikeCounting/BikeCounts/Output/BPH.csv\", row.names = FALSE)"
   ]
  },
  {
   "cell_type": "code",
   "execution_count": 56,
   "id": "d7e84742",
   "metadata": {
    "scrolled": true
   },
   "outputs": [],
   "source": [
    "writeOGR(outspdf, dsn=\"T:/DCProjects/StoryMap/BikeCounting/BikeCounts/Output\", layer=\"BPH_by_Year\", \n",
    "         driver=\"ESRI Shapefile\", overwrite_layer=TRUE)"
   ]
  },
  {
   "cell_type": "code",
   "execution_count": 57,
   "id": "f6fea7f7",
   "metadata": {},
   "outputs": [],
   "source": [
    "bph <- read.csv(\"T:/DCProjects/StoryMap/BikeCounting/BikeCounts/Output/BPH.csv\")"
   ]
  },
  {
   "cell_type": "code",
   "execution_count": 58,
   "id": "de023393",
   "metadata": {
    "scrolled": true
   },
   "outputs": [
    {
     "data": {
      "text/html": [
       "<table class=\"dataframe\">\n",
       "<caption>A data.frame: 6 × 11</caption>\n",
       "<thead>\n",
       "\t<tr><th></th><th scope=col>Location</th><th scope=col>Year</th><th scope=col>BPH</th><th scope=col>Latitude</th><th scope=col>Longitude</th><th scope=col>Site_Name</th><th scope=col>DoubleCountLocation</th><th scope=col>IsOneway</th><th scope=col>OnewayDirection</th><th scope=col>IsSidewalk</th><th scope=col>Growth</th></tr>\n",
       "\t<tr><th></th><th scope=col>&lt;chr&gt;</th><th scope=col>&lt;int&gt;</th><th scope=col>&lt;dbl&gt;</th><th scope=col>&lt;dbl&gt;</th><th scope=col>&lt;dbl&gt;</th><th scope=col>&lt;chr&gt;</th><th scope=col>&lt;lgl&gt;</th><th scope=col>&lt;lgl&gt;</th><th scope=col>&lt;chr&gt;</th><th scope=col>&lt;lgl&gt;</th><th scope=col>&lt;dbl&gt;</th></tr>\n",
       "</thead>\n",
       "<tbody>\n",
       "\t<tr><th scope=row>1</th><td>10thWestJackson</td><td>2013</td><td>8.436441</td><td>44.04882</td><td>-123.1081</td><td>10th Ave West of Jackson St</td><td>FALSE</td><td>FALSE</td><td>&lt;Null&gt;</td><td>FALSE</td><td><span style=white-space:pre-wrap>         NA</span></td></tr>\n",
       "\t<tr><th scope=row>2</th><td>10thWestJackson</td><td>2014</td><td>6.298913</td><td>44.04882</td><td>-123.1081</td><td>10th Ave West of Jackson St</td><td>FALSE</td><td>FALSE</td><td>&lt;Null&gt;</td><td>FALSE</td><td>-0.25336842</td></tr>\n",
       "\t<tr><th scope=row>3</th><td>10thWestJackson</td><td>2015</td><td>5.326087</td><td>44.04882</td><td>-123.1081</td><td>10th Ave West of Jackson St</td><td>FALSE</td><td>FALSE</td><td>&lt;Null&gt;</td><td>FALSE</td><td>-0.15444349</td></tr>\n",
       "\t<tr><th scope=row>4</th><td>10thWestJackson</td><td>2016</td><td>4.207756</td><td>44.04882</td><td>-123.1081</td><td>10th Ave West of Jackson St</td><td>FALSE</td><td>FALSE</td><td>&lt;Null&gt;</td><td>FALSE</td><td>-0.20997230</td></tr>\n",
       "\t<tr><th scope=row>5</th><td><span style=white-space:pre-wrap>11thWestAlder  </span></td><td>2012</td><td>6.512500</td><td>44.04771</td><td>-123.0809</td><td><span style=white-space:pre-wrap>11th Ave West of Alder St  </span></td><td> TRUE</td><td>FALSE</td><td>&lt;Null&gt;</td><td>FALSE</td><td><span style=white-space:pre-wrap>         NA</span></td></tr>\n",
       "\t<tr><th scope=row>6</th><td><span style=white-space:pre-wrap>11thWestAlder  </span></td><td>2015</td><td>8.404494</td><td>44.04771</td><td>-123.0809</td><td><span style=white-space:pre-wrap>11th Ave West of Alder St  </span></td><td> TRUE</td><td>FALSE</td><td>&lt;Null&gt;</td><td>FALSE</td><td> 0.09683912</td></tr>\n",
       "</tbody>\n",
       "</table>\n"
      ],
      "text/latex": [
       "A data.frame: 6 × 11\n",
       "\\begin{tabular}{r|lllllllllll}\n",
       "  & Location & Year & BPH & Latitude & Longitude & Site\\_Name & DoubleCountLocation & IsOneway & OnewayDirection & IsSidewalk & Growth\\\\\n",
       "  & <chr> & <int> & <dbl> & <dbl> & <dbl> & <chr> & <lgl> & <lgl> & <chr> & <lgl> & <dbl>\\\\\n",
       "\\hline\n",
       "\t1 & 10thWestJackson & 2013 & 8.436441 & 44.04882 & -123.1081 & 10th Ave West of Jackson St & FALSE & FALSE & <Null> & FALSE &          NA\\\\\n",
       "\t2 & 10thWestJackson & 2014 & 6.298913 & 44.04882 & -123.1081 & 10th Ave West of Jackson St & FALSE & FALSE & <Null> & FALSE & -0.25336842\\\\\n",
       "\t3 & 10thWestJackson & 2015 & 5.326087 & 44.04882 & -123.1081 & 10th Ave West of Jackson St & FALSE & FALSE & <Null> & FALSE & -0.15444349\\\\\n",
       "\t4 & 10thWestJackson & 2016 & 4.207756 & 44.04882 & -123.1081 & 10th Ave West of Jackson St & FALSE & FALSE & <Null> & FALSE & -0.20997230\\\\\n",
       "\t5 & 11thWestAlder   & 2012 & 6.512500 & 44.04771 & -123.0809 & 11th Ave West of Alder St   &  TRUE & FALSE & <Null> & FALSE &          NA\\\\\n",
       "\t6 & 11thWestAlder   & 2015 & 8.404494 & 44.04771 & -123.0809 & 11th Ave West of Alder St   &  TRUE & FALSE & <Null> & FALSE &  0.09683912\\\\\n",
       "\\end{tabular}\n"
      ],
      "text/markdown": [
       "\n",
       "A data.frame: 6 × 11\n",
       "\n",
       "| <!--/--> | Location &lt;chr&gt; | Year &lt;int&gt; | BPH &lt;dbl&gt; | Latitude &lt;dbl&gt; | Longitude &lt;dbl&gt; | Site_Name &lt;chr&gt; | DoubleCountLocation &lt;lgl&gt; | IsOneway &lt;lgl&gt; | OnewayDirection &lt;chr&gt; | IsSidewalk &lt;lgl&gt; | Growth &lt;dbl&gt; |\n",
       "|---|---|---|---|---|---|---|---|---|---|---|---|\n",
       "| 1 | 10thWestJackson | 2013 | 8.436441 | 44.04882 | -123.1081 | 10th Ave West of Jackson St | FALSE | FALSE | &lt;Null&gt; | FALSE |          NA |\n",
       "| 2 | 10thWestJackson | 2014 | 6.298913 | 44.04882 | -123.1081 | 10th Ave West of Jackson St | FALSE | FALSE | &lt;Null&gt; | FALSE | -0.25336842 |\n",
       "| 3 | 10thWestJackson | 2015 | 5.326087 | 44.04882 | -123.1081 | 10th Ave West of Jackson St | FALSE | FALSE | &lt;Null&gt; | FALSE | -0.15444349 |\n",
       "| 4 | 10thWestJackson | 2016 | 4.207756 | 44.04882 | -123.1081 | 10th Ave West of Jackson St | FALSE | FALSE | &lt;Null&gt; | FALSE | -0.20997230 |\n",
       "| 5 | 11thWestAlder   | 2012 | 6.512500 | 44.04771 | -123.0809 | 11th Ave West of Alder St   |  TRUE | FALSE | &lt;Null&gt; | FALSE |          NA |\n",
       "| 6 | 11thWestAlder   | 2015 | 8.404494 | 44.04771 | -123.0809 | 11th Ave West of Alder St   |  TRUE | FALSE | &lt;Null&gt; | FALSE |  0.09683912 |\n",
       "\n"
      ],
      "text/plain": [
       "  Location        Year BPH      Latitude Longitude Site_Name                  \n",
       "1 10thWestJackson 2013 8.436441 44.04882 -123.1081 10th Ave West of Jackson St\n",
       "2 10thWestJackson 2014 6.298913 44.04882 -123.1081 10th Ave West of Jackson St\n",
       "3 10thWestJackson 2015 5.326087 44.04882 -123.1081 10th Ave West of Jackson St\n",
       "4 10thWestJackson 2016 4.207756 44.04882 -123.1081 10th Ave West of Jackson St\n",
       "5 11thWestAlder   2012 6.512500 44.04771 -123.0809 11th Ave West of Alder St  \n",
       "6 11thWestAlder   2015 8.404494 44.04771 -123.0809 11th Ave West of Alder St  \n",
       "  DoubleCountLocation IsOneway OnewayDirection IsSidewalk Growth     \n",
       "1 FALSE               FALSE    <Null>          FALSE               NA\n",
       "2 FALSE               FALSE    <Null>          FALSE      -0.25336842\n",
       "3 FALSE               FALSE    <Null>          FALSE      -0.15444349\n",
       "4 FALSE               FALSE    <Null>          FALSE      -0.20997230\n",
       "5  TRUE               FALSE    <Null>          FALSE               NA\n",
       "6  TRUE               FALSE    <Null>          FALSE       0.09683912"
      ]
     },
     "metadata": {},
     "output_type": "display_data"
    }
   ],
   "source": [
    "head(bph)"
   ]
  },
  {
   "cell_type": "code",
   "execution_count": 59,
   "id": "d5cb8d4d",
   "metadata": {},
   "outputs": [],
   "source": [
    "aggdata <- aggregate(x=list(BPH = bph$BPH), by=list(Location = bph$Location), FUN=mean)"
   ]
  },
  {
   "cell_type": "code",
   "execution_count": 60,
   "id": "179126db",
   "metadata": {},
   "outputs": [],
   "source": [
    "aggdata <- merge(aggdata, unique(bph[locvars]), by = 'Location')"
   ]
  },
  {
   "cell_type": "code",
   "execution_count": 61,
   "id": "e4da144c",
   "metadata": {},
   "outputs": [],
   "source": [
    "aggyear <- aggregate(x=list(Years = bph$Year), by=list(Location = bph$Location), FUN=function(x) length(x))"
   ]
  },
  {
   "cell_type": "code",
   "execution_count": 62,
   "id": "b9e7fa4e",
   "metadata": {},
   "outputs": [],
   "source": [
    "aggdata <- merge(aggdata, aggyear, by = 'Location')"
   ]
  },
  {
   "cell_type": "code",
   "execution_count": 63,
   "id": "30698b0f",
   "metadata": {},
   "outputs": [
    {
     "data": {
      "text/html": [
       "<table class=\"dataframe\">\n",
       "<caption>A data.frame: 6 × 10</caption>\n",
       "<thead>\n",
       "\t<tr><th></th><th scope=col>Location</th><th scope=col>BPH</th><th scope=col>Latitude</th><th scope=col>Longitude</th><th scope=col>Site_Name</th><th scope=col>DoubleCountLocation</th><th scope=col>IsOneway</th><th scope=col>OnewayDirection</th><th scope=col>IsSidewalk</th><th scope=col>Years</th></tr>\n",
       "\t<tr><th></th><th scope=col>&lt;chr&gt;</th><th scope=col>&lt;dbl&gt;</th><th scope=col>&lt;dbl&gt;</th><th scope=col>&lt;dbl&gt;</th><th scope=col>&lt;chr&gt;</th><th scope=col>&lt;lgl&gt;</th><th scope=col>&lt;lgl&gt;</th><th scope=col>&lt;chr&gt;</th><th scope=col>&lt;lgl&gt;</th><th scope=col>&lt;int&gt;</th></tr>\n",
       "</thead>\n",
       "<tbody>\n",
       "\t<tr><th scope=row>1</th><td><span style=white-space:pre-wrap>10thWestJackson           </span></td><td> 6.067299</td><td>44.04882</td><td>-123.1081</td><td><span style=white-space:pre-wrap>10th Ave West of Jackson St             </span></td><td>FALSE</td><td>FALSE</td><td>&lt;Null&gt;</td><td>FALSE</td><td>4</td></tr>\n",
       "\t<tr><th scope=row>2</th><td><span style=white-space:pre-wrap>11thWestAlder             </span></td><td>16.201482</td><td>44.04771</td><td>-123.0809</td><td><span style=white-space:pre-wrap>11th Ave West of Alder St               </span></td><td> TRUE</td><td>FALSE</td><td>&lt;Null&gt;</td><td>FALSE</td><td>4</td></tr>\n",
       "\t<tr><th scope=row>3</th><td>11thWestAlderSouthSidewalk</td><td> 2.208680</td><td>44.04771</td><td>-123.0807</td><td>11th Ave South Sidewalk West of Alder St</td><td>FALSE</td><td>FALSE</td><td>&lt;Null&gt;</td><td> TRUE</td><td>3</td></tr>\n",
       "\t<tr><th scope=row>4</th><td>12thAvePathEastWillamette </td><td>10.154583</td><td>44.04657</td><td>-123.0922</td><td><span style=white-space:pre-wrap>12th Ave Path East of Willamette St     </span></td><td>FALSE</td><td>FALSE</td><td>&lt;Null&gt;</td><td>FALSE</td><td>8</td></tr>\n",
       "\t<tr><th scope=row>5</th><td><span style=white-space:pre-wrap>12thEastChambers          </span></td><td> 5.844584</td><td>44.04663</td><td>-123.1172</td><td><span style=white-space:pre-wrap>12th Ave East of Chambers St            </span></td><td>FALSE</td><td>FALSE</td><td>&lt;Null&gt;</td><td>FALSE</td><td>4</td></tr>\n",
       "\t<tr><th scope=row>6</th><td><span style=white-space:pre-wrap>12thEastLawrence          </span></td><td>16.829167</td><td>44.04661</td><td>-123.0976</td><td><span style=white-space:pre-wrap>12th Ave West of Lincoln St             </span></td><td>FALSE</td><td>FALSE</td><td>&lt;Null&gt;</td><td>FALSE</td><td>1</td></tr>\n",
       "</tbody>\n",
       "</table>\n"
      ],
      "text/latex": [
       "A data.frame: 6 × 10\n",
       "\\begin{tabular}{r|llllllllll}\n",
       "  & Location & BPH & Latitude & Longitude & Site\\_Name & DoubleCountLocation & IsOneway & OnewayDirection & IsSidewalk & Years\\\\\n",
       "  & <chr> & <dbl> & <dbl> & <dbl> & <chr> & <lgl> & <lgl> & <chr> & <lgl> & <int>\\\\\n",
       "\\hline\n",
       "\t1 & 10thWestJackson            &  6.067299 & 44.04882 & -123.1081 & 10th Ave West of Jackson St              & FALSE & FALSE & <Null> & FALSE & 4\\\\\n",
       "\t2 & 11thWestAlder              & 16.201482 & 44.04771 & -123.0809 & 11th Ave West of Alder St                &  TRUE & FALSE & <Null> & FALSE & 4\\\\\n",
       "\t3 & 11thWestAlderSouthSidewalk &  2.208680 & 44.04771 & -123.0807 & 11th Ave South Sidewalk West of Alder St & FALSE & FALSE & <Null> &  TRUE & 3\\\\\n",
       "\t4 & 12thAvePathEastWillamette  & 10.154583 & 44.04657 & -123.0922 & 12th Ave Path East of Willamette St      & FALSE & FALSE & <Null> & FALSE & 8\\\\\n",
       "\t5 & 12thEastChambers           &  5.844584 & 44.04663 & -123.1172 & 12th Ave East of Chambers St             & FALSE & FALSE & <Null> & FALSE & 4\\\\\n",
       "\t6 & 12thEastLawrence           & 16.829167 & 44.04661 & -123.0976 & 12th Ave West of Lincoln St              & FALSE & FALSE & <Null> & FALSE & 1\\\\\n",
       "\\end{tabular}\n"
      ],
      "text/markdown": [
       "\n",
       "A data.frame: 6 × 10\n",
       "\n",
       "| <!--/--> | Location &lt;chr&gt; | BPH &lt;dbl&gt; | Latitude &lt;dbl&gt; | Longitude &lt;dbl&gt; | Site_Name &lt;chr&gt; | DoubleCountLocation &lt;lgl&gt; | IsOneway &lt;lgl&gt; | OnewayDirection &lt;chr&gt; | IsSidewalk &lt;lgl&gt; | Years &lt;int&gt; |\n",
       "|---|---|---|---|---|---|---|---|---|---|---|\n",
       "| 1 | 10thWestJackson            |  6.067299 | 44.04882 | -123.1081 | 10th Ave West of Jackson St              | FALSE | FALSE | &lt;Null&gt; | FALSE | 4 |\n",
       "| 2 | 11thWestAlder              | 16.201482 | 44.04771 | -123.0809 | 11th Ave West of Alder St                |  TRUE | FALSE | &lt;Null&gt; | FALSE | 4 |\n",
       "| 3 | 11thWestAlderSouthSidewalk |  2.208680 | 44.04771 | -123.0807 | 11th Ave South Sidewalk West of Alder St | FALSE | FALSE | &lt;Null&gt; |  TRUE | 3 |\n",
       "| 4 | 12thAvePathEastWillamette  | 10.154583 | 44.04657 | -123.0922 | 12th Ave Path East of Willamette St      | FALSE | FALSE | &lt;Null&gt; | FALSE | 8 |\n",
       "| 5 | 12thEastChambers           |  5.844584 | 44.04663 | -123.1172 | 12th Ave East of Chambers St             | FALSE | FALSE | &lt;Null&gt; | FALSE | 4 |\n",
       "| 6 | 12thEastLawrence           | 16.829167 | 44.04661 | -123.0976 | 12th Ave West of Lincoln St              | FALSE | FALSE | &lt;Null&gt; | FALSE | 1 |\n",
       "\n"
      ],
      "text/plain": [
       "  Location                   BPH       Latitude Longitude\n",
       "1 10thWestJackson             6.067299 44.04882 -123.1081\n",
       "2 11thWestAlder              16.201482 44.04771 -123.0809\n",
       "3 11thWestAlderSouthSidewalk  2.208680 44.04771 -123.0807\n",
       "4 12thAvePathEastWillamette  10.154583 44.04657 -123.0922\n",
       "5 12thEastChambers            5.844584 44.04663 -123.1172\n",
       "6 12thEastLawrence           16.829167 44.04661 -123.0976\n",
       "  Site_Name                                DoubleCountLocation IsOneway\n",
       "1 10th Ave West of Jackson St              FALSE               FALSE   \n",
       "2 11th Ave West of Alder St                 TRUE               FALSE   \n",
       "3 11th Ave South Sidewalk West of Alder St FALSE               FALSE   \n",
       "4 12th Ave Path East of Willamette St      FALSE               FALSE   \n",
       "5 12th Ave East of Chambers St             FALSE               FALSE   \n",
       "6 12th Ave West of Lincoln St              FALSE               FALSE   \n",
       "  OnewayDirection IsSidewalk Years\n",
       "1 <Null>          FALSE      4    \n",
       "2 <Null>          FALSE      4    \n",
       "3 <Null>           TRUE      3    \n",
       "4 <Null>          FALSE      8    \n",
       "5 <Null>          FALSE      4    \n",
       "6 <Null>          FALSE      1    "
      ]
     },
     "metadata": {},
     "output_type": "display_data"
    }
   ],
   "source": [
    "head(aggdata)"
   ]
  },
  {
   "cell_type": "code",
   "execution_count": 64,
   "id": "f4b6fd07",
   "metadata": {},
   "outputs": [],
   "source": [
    "names(aggdata)[which(names(aggdata) %in% c('DoubleCountLocation', 'OnewayDirection'))] <- c('DoubleCNT', 'OnewayDIR')"
   ]
  },
  {
   "cell_type": "code",
   "execution_count": 65,
   "id": "998259bf",
   "metadata": {},
   "outputs": [],
   "source": [
    "aggspdf <- df2spdf(aggdata, 'Longitude', 'Latitude')"
   ]
  },
  {
   "cell_type": "code",
   "execution_count": 66,
   "id": "0653d693",
   "metadata": {},
   "outputs": [],
   "source": [
    "writeOGR(aggspdf, dsn=\"T:/DCProjects/StoryMap/BikeCounting/BikeCounts/Output\", layer=\"BPH\", \n",
    "         driver=\"ESRI Shapefile\", overwrite_layer=TRUE)"
   ]
  }
 ],
 "metadata": {
  "kernelspec": {
   "display_name": "R",
   "language": "R",
   "name": "ir"
  },
  "language_info": {
   "codemirror_mode": "r",
   "file_extension": ".r",
   "mimetype": "text/x-r-source",
   "name": "R",
   "pygments_lexer": "r",
   "version": "4.0.3"
  }
 },
 "nbformat": 4,
 "nbformat_minor": 5
}
