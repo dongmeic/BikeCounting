{
 "cells": [
  {
   "cell_type": "code",
   "execution_count": 1,
   "id": "3f6bf7b9",
   "metadata": {},
   "outputs": [],
   "source": [
    "library(readxl)"
   ]
  },
  {
   "cell_type": "code",
   "execution_count": 2,
   "id": "6e1568cb",
   "metadata": {},
   "outputs": [
    {
     "name": "stderr",
     "output_type": "stream",
     "text": [
      "Warning message:\n",
      "\"package 'lubridate' was built under R version 4.0.5\"\n",
      "\n",
      "Attaching package: 'lubridate'\n",
      "\n",
      "\n",
      "The following objects are masked from 'package:base':\n",
      "\n",
      "    date, intersect, setdiff, union\n",
      "\n",
      "\n"
     ]
    }
   ],
   "source": [
    "library(lubridate)"
   ]
  },
  {
   "cell_type": "code",
   "execution_count": 3,
   "id": "ce444415",
   "metadata": {},
   "outputs": [],
   "source": [
    "inpath <- 'T:/Data/COUNTS/Nonmotorized Counts/Summary Tables/Bicycle/'"
   ]
  },
  {
   "cell_type": "code",
   "execution_count": 4,
   "id": "b4d3a29b",
   "metadata": {},
   "outputs": [],
   "source": [
    "data <- read.csv(paste0(inpath, 'Bicycle_HourlyForTableau.csv'))"
   ]
  },
  {
   "cell_type": "code",
   "execution_count": 5,
   "id": "f513ec29",
   "metadata": {
    "scrolled": true
   },
   "outputs": [
    {
     "data": {
      "text/html": [
       "<table class=\"dataframe\">\n",
       "<caption>A data.frame: 6 × 22</caption>\n",
       "<thead>\n",
       "\t<tr><th></th><th scope=col>Direction</th><th scope=col>ObsHours</th><th scope=col>Location</th><th scope=col>LocationId</th><th scope=col>Day</th><th scope=col>Month</th><th scope=col>MonthDesc</th><th scope=col>Year</th><th scope=col>Date</th><th scope=col>Season</th><th scope=col>⋯</th><th scope=col>Period</th><th scope=col>DailyCounts</th><th scope=col>IsOneway</th><th scope=col>OnewayDirection</th><th scope=col>IsSidewalk</th><th scope=col>UoInSession</th><th scope=col>IsSpecialEvent</th><th scope=col>UniqueId</th><th scope=col>Hour</th><th scope=col>Hourly_Count</th></tr>\n",
       "\t<tr><th></th><th scope=col>&lt;chr&gt;</th><th scope=col>&lt;int&gt;</th><th scope=col>&lt;chr&gt;</th><th scope=col>&lt;int&gt;</th><th scope=col>&lt;int&gt;</th><th scope=col>&lt;int&gt;</th><th scope=col>&lt;chr&gt;</th><th scope=col>&lt;int&gt;</th><th scope=col>&lt;chr&gt;</th><th scope=col>&lt;chr&gt;</th><th scope=col>⋯</th><th scope=col>&lt;chr&gt;</th><th scope=col>&lt;int&gt;</th><th scope=col>&lt;lgl&gt;</th><th scope=col>&lt;chr&gt;</th><th scope=col>&lt;lgl&gt;</th><th scope=col>&lt;int&gt;</th><th scope=col>&lt;int&gt;</th><th scope=col>&lt;chr&gt;</th><th scope=col>&lt;chr&gt;</th><th scope=col>&lt;int&gt;</th></tr>\n",
       "</thead>\n",
       "<tbody>\n",
       "\t<tr><th scope=row>1</th><td>Total</td><td> 7</td><td>NorthbankSouthGreenwayBr</td><td>3</td><td>21</td><td>1</td><td>January</td><td>2020</td><td>2020-01-21</td><td>Winter</td><td>⋯</td><td>01.21.2020-12.31.2020</td><td> NA</td><td>FALSE</td><td>NA</td><td>FALSE</td><td>1</td><td>0</td><td>Total-NorthbankSouthGreenwayBr-01-21-2020</td><td>0:00</td><td>NA</td></tr>\n",
       "\t<tr><th scope=row>2</th><td>North</td><td> 7</td><td>NorthbankSouthGreenwayBr</td><td>3</td><td>21</td><td>1</td><td>January</td><td>2020</td><td>2020-01-21</td><td>Winter</td><td>⋯</td><td>01.21.2020-12.31.2020</td><td> NA</td><td>FALSE</td><td>NA</td><td>FALSE</td><td>1</td><td>0</td><td>North-NorthbankSouthGreenwayBr-01-21-2020</td><td>0:00</td><td>NA</td></tr>\n",
       "\t<tr><th scope=row>3</th><td>South</td><td> 7</td><td>NorthbankSouthGreenwayBr</td><td>3</td><td>21</td><td>1</td><td>January</td><td>2020</td><td>2020-01-21</td><td>Winter</td><td>⋯</td><td>01.21.2020-12.31.2020</td><td> NA</td><td>FALSE</td><td>NA</td><td>FALSE</td><td>1</td><td>0</td><td>South-NorthbankSouthGreenwayBr-01-21-2020</td><td>0:00</td><td>NA</td></tr>\n",
       "\t<tr><th scope=row>4</th><td>Total</td><td>24</td><td>NorthbankSouthGreenwayBr</td><td>3</td><td>22</td><td>1</td><td>January</td><td>2020</td><td>2020-01-22</td><td>Winter</td><td>⋯</td><td>01.21.2020-12.31.2020</td><td>211</td><td>FALSE</td><td>NA</td><td>FALSE</td><td>1</td><td>0</td><td>Total-NorthbankSouthGreenwayBr-01-22-2020</td><td>0:00</td><td> 2</td></tr>\n",
       "\t<tr><th scope=row>5</th><td>North</td><td>24</td><td>NorthbankSouthGreenwayBr</td><td>3</td><td>22</td><td>1</td><td>January</td><td>2020</td><td>2020-01-22</td><td>Winter</td><td>⋯</td><td>01.21.2020-12.31.2020</td><td>111</td><td>FALSE</td><td>NA</td><td>FALSE</td><td>1</td><td>0</td><td>North-NorthbankSouthGreenwayBr-01-22-2020</td><td>0:00</td><td> 0</td></tr>\n",
       "\t<tr><th scope=row>6</th><td>South</td><td>24</td><td>NorthbankSouthGreenwayBr</td><td>3</td><td>22</td><td>1</td><td>January</td><td>2020</td><td>2020-01-22</td><td>Winter</td><td>⋯</td><td>01.21.2020-12.31.2020</td><td>100</td><td>FALSE</td><td>NA</td><td>FALSE</td><td>1</td><td>0</td><td>South-NorthbankSouthGreenwayBr-01-22-2020</td><td>0:00</td><td> 2</td></tr>\n",
       "</tbody>\n",
       "</table>\n"
      ],
      "text/latex": [
       "A data.frame: 6 × 22\n",
       "\\begin{tabular}{r|lllllllllllllllllllll}\n",
       "  & Direction & ObsHours & Location & LocationId & Day & Month & MonthDesc & Year & Date & Season & ⋯ & Period & DailyCounts & IsOneway & OnewayDirection & IsSidewalk & UoInSession & IsSpecialEvent & UniqueId & Hour & Hourly\\_Count\\\\\n",
       "  & <chr> & <int> & <chr> & <int> & <int> & <int> & <chr> & <int> & <chr> & <chr> & ⋯ & <chr> & <int> & <lgl> & <chr> & <lgl> & <int> & <int> & <chr> & <chr> & <int>\\\\\n",
       "\\hline\n",
       "\t1 & Total &  7 & NorthbankSouthGreenwayBr & 3 & 21 & 1 & January & 2020 & 2020-01-21 & Winter & ⋯ & 01.21.2020-12.31.2020 &  NA & FALSE & NA & FALSE & 1 & 0 & Total-NorthbankSouthGreenwayBr-01-21-2020 & 0:00 & NA\\\\\n",
       "\t2 & North &  7 & NorthbankSouthGreenwayBr & 3 & 21 & 1 & January & 2020 & 2020-01-21 & Winter & ⋯ & 01.21.2020-12.31.2020 &  NA & FALSE & NA & FALSE & 1 & 0 & North-NorthbankSouthGreenwayBr-01-21-2020 & 0:00 & NA\\\\\n",
       "\t3 & South &  7 & NorthbankSouthGreenwayBr & 3 & 21 & 1 & January & 2020 & 2020-01-21 & Winter & ⋯ & 01.21.2020-12.31.2020 &  NA & FALSE & NA & FALSE & 1 & 0 & South-NorthbankSouthGreenwayBr-01-21-2020 & 0:00 & NA\\\\\n",
       "\t4 & Total & 24 & NorthbankSouthGreenwayBr & 3 & 22 & 1 & January & 2020 & 2020-01-22 & Winter & ⋯ & 01.21.2020-12.31.2020 & 211 & FALSE & NA & FALSE & 1 & 0 & Total-NorthbankSouthGreenwayBr-01-22-2020 & 0:00 &  2\\\\\n",
       "\t5 & North & 24 & NorthbankSouthGreenwayBr & 3 & 22 & 1 & January & 2020 & 2020-01-22 & Winter & ⋯ & 01.21.2020-12.31.2020 & 111 & FALSE & NA & FALSE & 1 & 0 & North-NorthbankSouthGreenwayBr-01-22-2020 & 0:00 &  0\\\\\n",
       "\t6 & South & 24 & NorthbankSouthGreenwayBr & 3 & 22 & 1 & January & 2020 & 2020-01-22 & Winter & ⋯ & 01.21.2020-12.31.2020 & 100 & FALSE & NA & FALSE & 1 & 0 & South-NorthbankSouthGreenwayBr-01-22-2020 & 0:00 &  2\\\\\n",
       "\\end{tabular}\n"
      ],
      "text/markdown": [
       "\n",
       "A data.frame: 6 × 22\n",
       "\n",
       "| <!--/--> | Direction &lt;chr&gt; | ObsHours &lt;int&gt; | Location &lt;chr&gt; | LocationId &lt;int&gt; | Day &lt;int&gt; | Month &lt;int&gt; | MonthDesc &lt;chr&gt; | Year &lt;int&gt; | Date &lt;chr&gt; | Season &lt;chr&gt; | ⋯ ⋯ | Period &lt;chr&gt; | DailyCounts &lt;int&gt; | IsOneway &lt;lgl&gt; | OnewayDirection &lt;chr&gt; | IsSidewalk &lt;lgl&gt; | UoInSession &lt;int&gt; | IsSpecialEvent &lt;int&gt; | UniqueId &lt;chr&gt; | Hour &lt;chr&gt; | Hourly_Count &lt;int&gt; |\n",
       "|---|---|---|---|---|---|---|---|---|---|---|---|---|---|---|---|---|---|---|---|---|---|\n",
       "| 1 | Total |  7 | NorthbankSouthGreenwayBr | 3 | 21 | 1 | January | 2020 | 2020-01-21 | Winter | ⋯ | 01.21.2020-12.31.2020 |  NA | FALSE | NA | FALSE | 1 | 0 | Total-NorthbankSouthGreenwayBr-01-21-2020 | 0:00 | NA |\n",
       "| 2 | North |  7 | NorthbankSouthGreenwayBr | 3 | 21 | 1 | January | 2020 | 2020-01-21 | Winter | ⋯ | 01.21.2020-12.31.2020 |  NA | FALSE | NA | FALSE | 1 | 0 | North-NorthbankSouthGreenwayBr-01-21-2020 | 0:00 | NA |\n",
       "| 3 | South |  7 | NorthbankSouthGreenwayBr | 3 | 21 | 1 | January | 2020 | 2020-01-21 | Winter | ⋯ | 01.21.2020-12.31.2020 |  NA | FALSE | NA | FALSE | 1 | 0 | South-NorthbankSouthGreenwayBr-01-21-2020 | 0:00 | NA |\n",
       "| 4 | Total | 24 | NorthbankSouthGreenwayBr | 3 | 22 | 1 | January | 2020 | 2020-01-22 | Winter | ⋯ | 01.21.2020-12.31.2020 | 211 | FALSE | NA | FALSE | 1 | 0 | Total-NorthbankSouthGreenwayBr-01-22-2020 | 0:00 |  2 |\n",
       "| 5 | North | 24 | NorthbankSouthGreenwayBr | 3 | 22 | 1 | January | 2020 | 2020-01-22 | Winter | ⋯ | 01.21.2020-12.31.2020 | 111 | FALSE | NA | FALSE | 1 | 0 | North-NorthbankSouthGreenwayBr-01-22-2020 | 0:00 |  0 |\n",
       "| 6 | South | 24 | NorthbankSouthGreenwayBr | 3 | 22 | 1 | January | 2020 | 2020-01-22 | Winter | ⋯ | 01.21.2020-12.31.2020 | 100 | FALSE | NA | FALSE | 1 | 0 | South-NorthbankSouthGreenwayBr-01-22-2020 | 0:00 |  2 |\n",
       "\n"
      ],
      "text/plain": [
       "  Direction ObsHours Location                 LocationId Day Month MonthDesc\n",
       "1 Total      7       NorthbankSouthGreenwayBr 3          21  1     January  \n",
       "2 North      7       NorthbankSouthGreenwayBr 3          21  1     January  \n",
       "3 South      7       NorthbankSouthGreenwayBr 3          21  1     January  \n",
       "4 Total     24       NorthbankSouthGreenwayBr 3          22  1     January  \n",
       "5 North     24       NorthbankSouthGreenwayBr 3          22  1     January  \n",
       "6 South     24       NorthbankSouthGreenwayBr 3          22  1     January  \n",
       "  Year Date       Season <U+22EF>        Period                DailyCounts IsOneway\n",
       "1 2020 2020-01-21 Winter <U+22EF> 01.21.2020-12.31.2020  NA         FALSE   \n",
       "2 2020 2020-01-21 Winter <U+22EF> 01.21.2020-12.31.2020  NA         FALSE   \n",
       "3 2020 2020-01-21 Winter <U+22EF> 01.21.2020-12.31.2020  NA         FALSE   \n",
       "4 2020 2020-01-22 Winter <U+22EF> 01.21.2020-12.31.2020 211         FALSE   \n",
       "5 2020 2020-01-22 Winter <U+22EF> 01.21.2020-12.31.2020 111         FALSE   \n",
       "6 2020 2020-01-22 Winter <U+22EF> 01.21.2020-12.31.2020 100         FALSE   \n",
       "  OnewayDirection IsSidewalk UoInSession IsSpecialEvent\n",
       "1 NA              FALSE      1           0             \n",
       "2 NA              FALSE      1           0             \n",
       "3 NA              FALSE      1           0             \n",
       "4 NA              FALSE      1           0             \n",
       "5 NA              FALSE      1           0             \n",
       "6 NA              FALSE      1           0             \n",
       "  UniqueId                                  Hour Hourly_Count\n",
       "1 Total-NorthbankSouthGreenwayBr-01-21-2020 0:00 NA          \n",
       "2 North-NorthbankSouthGreenwayBr-01-21-2020 0:00 NA          \n",
       "3 South-NorthbankSouthGreenwayBr-01-21-2020 0:00 NA          \n",
       "4 Total-NorthbankSouthGreenwayBr-01-22-2020 0:00  2          \n",
       "5 North-NorthbankSouthGreenwayBr-01-22-2020 0:00  0          \n",
       "6 South-NorthbankSouthGreenwayBr-01-22-2020 0:00  2          "
      ]
     },
     "metadata": {},
     "output_type": "display_data"
    }
   ],
   "source": [
    "head(data)"
   ]
  },
  {
   "cell_type": "code",
   "execution_count": 6,
   "id": "b8a11efa",
   "metadata": {},
   "outputs": [
    {
     "data": {
      "text/html": [
       "<style>\n",
       ".list-inline {list-style: none; margin:0; padding: 0}\n",
       ".list-inline>li {display: inline-block}\n",
       ".list-inline>li:not(:last-child)::after {content: \"\\00b7\"; padding: 0 .5ex}\n",
       "</style>\n",
       "<ol class=list-inline><li>'Direction'</li><li>'ObsHours'</li><li>'Location'</li><li>'LocationId'</li><li>'Day'</li><li>'Month'</li><li>'MonthDesc'</li><li>'Year'</li><li>'Date'</li><li>'Season'</li><li>'Weekday'</li><li>'IsHoliday'</li><li>'Period'</li><li>'DailyCounts'</li><li>'IsOneway'</li><li>'OnewayDirection'</li><li>'IsSidewalk'</li><li>'UoInSession'</li><li>'IsSpecialEvent'</li><li>'UniqueId'</li><li>'Hour'</li><li>'Hourly_Count'</li></ol>\n"
      ],
      "text/latex": [
       "\\begin{enumerate*}\n",
       "\\item 'Direction'\n",
       "\\item 'ObsHours'\n",
       "\\item 'Location'\n",
       "\\item 'LocationId'\n",
       "\\item 'Day'\n",
       "\\item 'Month'\n",
       "\\item 'MonthDesc'\n",
       "\\item 'Year'\n",
       "\\item 'Date'\n",
       "\\item 'Season'\n",
       "\\item 'Weekday'\n",
       "\\item 'IsHoliday'\n",
       "\\item 'Period'\n",
       "\\item 'DailyCounts'\n",
       "\\item 'IsOneway'\n",
       "\\item 'OnewayDirection'\n",
       "\\item 'IsSidewalk'\n",
       "\\item 'UoInSession'\n",
       "\\item 'IsSpecialEvent'\n",
       "\\item 'UniqueId'\n",
       "\\item 'Hour'\n",
       "\\item 'Hourly\\_Count'\n",
       "\\end{enumerate*}\n"
      ],
      "text/markdown": [
       "1. 'Direction'\n",
       "2. 'ObsHours'\n",
       "3. 'Location'\n",
       "4. 'LocationId'\n",
       "5. 'Day'\n",
       "6. 'Month'\n",
       "7. 'MonthDesc'\n",
       "8. 'Year'\n",
       "9. 'Date'\n",
       "10. 'Season'\n",
       "11. 'Weekday'\n",
       "12. 'IsHoliday'\n",
       "13. 'Period'\n",
       "14. 'DailyCounts'\n",
       "15. 'IsOneway'\n",
       "16. 'OnewayDirection'\n",
       "17. 'IsSidewalk'\n",
       "18. 'UoInSession'\n",
       "19. 'IsSpecialEvent'\n",
       "20. 'UniqueId'\n",
       "21. 'Hour'\n",
       "22. 'Hourly_Count'\n",
       "\n",
       "\n"
      ],
      "text/plain": [
       " [1] \"Direction\"       \"ObsHours\"        \"Location\"        \"LocationId\"     \n",
       " [5] \"Day\"             \"Month\"           \"MonthDesc\"       \"Year\"           \n",
       " [9] \"Date\"            \"Season\"          \"Weekday\"         \"IsHoliday\"      \n",
       "[13] \"Period\"          \"DailyCounts\"     \"IsOneway\"        \"OnewayDirection\"\n",
       "[17] \"IsSidewalk\"      \"UoInSession\"     \"IsSpecialEvent\"  \"UniqueId\"       \n",
       "[21] \"Hour\"            \"Hourly_Count\"   "
      ]
     },
     "metadata": {},
     "output_type": "display_data"
    }
   ],
   "source": [
    "names(data)"
   ]
  },
  {
   "cell_type": "code",
   "execution_count": 7,
   "id": "6cd5f5bf",
   "metadata": {},
   "outputs": [],
   "source": [
    "data$Date <- as.Date(data$Date, \"%Y-%m-%d\")"
   ]
  },
  {
   "cell_type": "code",
   "execution_count": 8,
   "id": "74938bec",
   "metadata": {},
   "outputs": [
    {
     "data": {
      "text/html": [
       "<style>\n",
       ".list-inline {list-style: none; margin:0; padding: 0}\n",
       ".list-inline>li {display: inline-block}\n",
       ".list-inline>li:not(:last-child)::after {content: \"\\00b7\"; padding: 0 .5ex}\n",
       "</style>\n",
       "<ol class=list-inline><li>2012</li><li>2013</li><li>2014</li><li>2015</li><li>2016</li><li>2017</li><li>2018</li><li>2019</li><li>2020</li></ol>\n"
      ],
      "text/latex": [
       "\\begin{enumerate*}\n",
       "\\item 2012\n",
       "\\item 2013\n",
       "\\item 2014\n",
       "\\item 2015\n",
       "\\item 2016\n",
       "\\item 2017\n",
       "\\item 2018\n",
       "\\item 2019\n",
       "\\item 2020\n",
       "\\end{enumerate*}\n"
      ],
      "text/markdown": [
       "1. 2012\n",
       "2. 2013\n",
       "3. 2014\n",
       "4. 2015\n",
       "5. 2016\n",
       "6. 2017\n",
       "7. 2018\n",
       "8. 2019\n",
       "9. 2020\n",
       "\n",
       "\n"
      ],
      "text/plain": [
       "[1] 2012 2013 2014 2015 2016 2017 2018 2019 2020"
      ]
     },
     "metadata": {},
     "output_type": "display_data"
    }
   ],
   "source": [
    "sort(unique(year(data$Date)))"
   ]
  },
  {
   "cell_type": "code",
   "execution_count": 9,
   "id": "6f810ce2",
   "metadata": {},
   "outputs": [
    {
     "data": {
      "text/html": [
       "<style>\n",
       ".list-inline {list-style: none; margin:0; padding: 0}\n",
       ".list-inline>li {display: inline-block}\n",
       ".list-inline>li:not(:last-child)::after {content: \"\\00b7\"; padding: 0 .5ex}\n",
       "</style>\n",
       "<ol class=list-inline><li><time datetime=\"2012-06-21\">2012-06-21</time></li><li><time datetime=\"2020-12-31\">2020-12-31</time></li></ol>\n"
      ],
      "text/latex": [
       "\\begin{enumerate*}\n",
       "\\item 2012-06-21\n",
       "\\item 2020-12-31\n",
       "\\end{enumerate*}\n"
      ],
      "text/markdown": [
       "1. 2012-06-21\n",
       "2. 2020-12-31\n",
       "\n",
       "\n"
      ],
      "text/plain": [
       "[1] \"2012-06-21\" \"2020-12-31\""
      ]
     },
     "metadata": {},
     "output_type": "display_data"
    }
   ],
   "source": [
    "range(data$Date)"
   ]
  },
  {
   "cell_type": "code",
   "execution_count": 10,
   "id": "9b579b8c",
   "metadata": {},
   "outputs": [
    {
     "data": {
      "text/html": [
       "177"
      ],
      "text/latex": [
       "177"
      ],
      "text/markdown": [
       "177"
      ],
      "text/plain": [
       "[1] 177"
      ]
     },
     "metadata": {},
     "output_type": "display_data"
    }
   ],
   "source": [
    "length(unique(data$Location))"
   ]
  },
  {
   "cell_type": "code",
   "execution_count": 11,
   "id": "3cdbfab1",
   "metadata": {},
   "outputs": [],
   "source": [
    "loc <- read.csv(\"T:/Tableau/tableauBikeCounts/Datasources/CountLocationInformation.csv\")"
   ]
  },
  {
   "cell_type": "code",
   "execution_count": 12,
   "id": "c8e0e933",
   "metadata": {},
   "outputs": [
    {
     "data": {
      "text/html": [
       "<table class=\"dataframe\">\n",
       "<caption>A data.frame: 6 × 22</caption>\n",
       "<thead>\n",
       "\t<tr><th></th><th scope=col>OBJECTID</th><th scope=col>Direction</th><th scope=col>ArrowAngle</th><th scope=col>RoadWidth</th><th scope=col>IsAutomati</th><th scope=col>DoubleCoun</th><th scope=col>OnewayDire</th><th scope=col>IsSidewalk</th><th scope=col>City</th><th scope=col>ImageFileP</th><th scope=col>⋯</th><th scope=col>FacilityTy</th><th scope=col>Location</th><th scope=col>Latitude</th><th scope=col>Longitude</th><th scope=col>IsOneway</th><th scope=col>Site_Name</th><th scope=col>Location_D</th><th scope=col>HasData</th><th scope=col>TAZ</th><th scope=col>Visual</th></tr>\n",
       "\t<tr><th></th><th scope=col>&lt;int&gt;</th><th scope=col>&lt;chr&gt;</th><th scope=col>&lt;int&gt;</th><th scope=col>&lt;int&gt;</th><th scope=col>&lt;lgl&gt;</th><th scope=col>&lt;lgl&gt;</th><th scope=col>&lt;chr&gt;</th><th scope=col>&lt;lgl&gt;</th><th scope=col>&lt;chr&gt;</th><th scope=col>&lt;chr&gt;</th><th scope=col>⋯</th><th scope=col>&lt;chr&gt;</th><th scope=col>&lt;chr&gt;</th><th scope=col>&lt;dbl&gt;</th><th scope=col>&lt;dbl&gt;</th><th scope=col>&lt;lgl&gt;</th><th scope=col>&lt;chr&gt;</th><th scope=col>&lt;chr&gt;</th><th scope=col>&lt;lgl&gt;</th><th scope=col>&lt;int&gt;</th><th scope=col>&lt;lgl&gt;</th></tr>\n",
       "</thead>\n",
       "<tbody>\n",
       "\t<tr><th scope=row>1</th><td>198</td><td>EW</td><td> 0</td><td>34</td><td>FALSE</td><td>FALSE</td><td>    </td><td>FALSE</td><td>Eugene</td><td>\\\\clsrv111\\transpor\\Data\\COUNTS\\Nonmotorized Counts\\Supporting Data\\Supporting Bicycle Data\\CountLocationPictures\\16thWestAlder\\16thWestAlder.jpg            </td><td>⋯</td><td>NoFacility</td><td>16thWestAlder      </td><td>44.04222</td><td>-123.0804</td><td>FALSE</td><td>16th Ave West of Alder St      </td><td>16th Ave, 60ft west of Alder St, Eugene      </td><td>TRUE</td><td>395</td><td> TRUE</td></tr>\n",
       "\t<tr><th scope=row>2</th><td>199</td><td>NS</td><td>90</td><td>36</td><td>FALSE</td><td>FALSE</td><td>    </td><td>FALSE</td><td>Eugene</td><td>\\\\clsrv111\\transpor\\Data\\COUNTS\\Nonmotorized Counts\\Supporting Data\\Supporting Bicycle Data\\CountLocationPictures\\UniversitySouth18th\\UniversitySouth18th.jpg</td><td>⋯</td><td>NoFacility</td><td>UniversitySouth18th</td><td>44.03907</td><td>-123.0746</td><td>FALSE</td><td>University St South of 18th Ave</td><td>University St, 50ft north of 19th Ave, Eugene</td><td>TRUE</td><td>408</td><td> TRUE</td></tr>\n",
       "\t<tr><th scope=row>3</th><td>200</td><td>EW</td><td> 0</td><td>36</td><td>FALSE</td><td> TRUE</td><td>    </td><td>FALSE</td><td>Eugene</td><td>\\\\clsrv111\\transpor\\Data\\COUNTS\\Nonmotorized Counts\\Supporting Data\\Supporting Bicycle Data\\CountLocationPictures\\11thWestAlderEB\\11thWestAlderEB.jpg        </td><td>⋯</td><td>Lane      </td><td>11thWestAlderEB    </td><td>44.04771</td><td>-123.0807</td><td>FALSE</td><td>11th Ave West of Alder St EB   </td><td>11th Ave EB, 150ft west of Alder St, Eugene  </td><td>TRUE</td><td>390</td><td>FALSE</td></tr>\n",
       "\t<tr><th scope=row>4</th><td>201</td><td>NS</td><td>90</td><td>34</td><td>FALSE</td><td>FALSE</td><td>    </td><td>FALSE</td><td>Eugene</td><td>\\\\clsrv111\\transpor\\Data\\COUNTS\\Nonmotorized Counts\\Supporting Data\\Supporting Bicycle Data\\CountLocationPictures\\HarrisSouth18th\\HarrisSouth18th.jpg        </td><td>⋯</td><td>NoFacility</td><td>HarrisSouth18th    </td><td>44.03916</td><td>-123.0777</td><td>FALSE</td><td>Harris St South of 18th Ave    </td><td>Harris St , 90ft north of 19th Ave, Eugene   </td><td>TRUE</td><td>408</td><td> TRUE</td></tr>\n",
       "\t<tr><th scope=row>5</th><td>202</td><td>EW</td><td> 0</td><td>28</td><td>FALSE</td><td>FALSE</td><td>    </td><td>FALSE</td><td>Eugene</td><td>                                                                                                                                                                        </td><td>⋯</td><td>Blvd      </td><td>12thAveEastOak     </td><td>44.04661</td><td>-123.0909</td><td>FALSE</td><td>12th Ave East of Oak St        </td><td>12th Ave , 80ft east of Oak St, Eugene       </td><td>TRUE</td><td>367</td><td> TRUE</td></tr>\n",
       "\t<tr><th scope=row>6</th><td>203</td><td>EW</td><td> 0</td><td>36</td><td>FALSE</td><td>FALSE</td><td>East</td><td>FALSE</td><td>Eugene</td><td>                                                                                                                                                                        </td><td>⋯</td><td>Lane      </td><td>13thEastLincoln    </td><td>44.04551</td><td>-123.0975</td><td> TRUE</td><td>13th Ave East of Lincoln St    </td><td>13th Ave , 60ft west of Lincoln St, Eugene   </td><td>TRUE</td><td>361</td><td> TRUE</td></tr>\n",
       "</tbody>\n",
       "</table>\n"
      ],
      "text/latex": [
       "A data.frame: 6 × 22\n",
       "\\begin{tabular}{r|lllllllllllllllllllll}\n",
       "  & OBJECTID & Direction & ArrowAngle & RoadWidth & IsAutomati & DoubleCoun & OnewayDire & IsSidewalk & City & ImageFileP & ⋯ & FacilityTy & Location & Latitude & Longitude & IsOneway & Site\\_Name & Location\\_D & HasData & TAZ & Visual\\\\\n",
       "  & <int> & <chr> & <int> & <int> & <lgl> & <lgl> & <chr> & <lgl> & <chr> & <chr> & ⋯ & <chr> & <chr> & <dbl> & <dbl> & <lgl> & <chr> & <chr> & <lgl> & <int> & <lgl>\\\\\n",
       "\\hline\n",
       "\t1 & 198 & EW &  0 & 34 & FALSE & FALSE &      & FALSE & Eugene & \\textbackslash{}\\textbackslash{}clsrv111\\textbackslash{}transpor\\textbackslash{}Data\\textbackslash{}COUNTS\\textbackslash{}Nonmotorized Counts\\textbackslash{}Supporting Data\\textbackslash{}Supporting Bicycle Data\\textbackslash{}CountLocationPictures\\textbackslash{}16thWestAlder\\textbackslash{}16thWestAlder.jpg             & ⋯ & NoFacility & 16thWestAlder       & 44.04222 & -123.0804 & FALSE & 16th Ave West of Alder St       & 16th Ave, 60ft west of Alder St, Eugene       & TRUE & 395 &  TRUE\\\\\n",
       "\t2 & 199 & NS & 90 & 36 & FALSE & FALSE &      & FALSE & Eugene & \\textbackslash{}\\textbackslash{}clsrv111\\textbackslash{}transpor\\textbackslash{}Data\\textbackslash{}COUNTS\\textbackslash{}Nonmotorized Counts\\textbackslash{}Supporting Data\\textbackslash{}Supporting Bicycle Data\\textbackslash{}CountLocationPictures\\textbackslash{}UniversitySouth18th\\textbackslash{}UniversitySouth18th.jpg & ⋯ & NoFacility & UniversitySouth18th & 44.03907 & -123.0746 & FALSE & University St South of 18th Ave & University St, 50ft north of 19th Ave, Eugene & TRUE & 408 &  TRUE\\\\\n",
       "\t3 & 200 & EW &  0 & 36 & FALSE &  TRUE &      & FALSE & Eugene & \\textbackslash{}\\textbackslash{}clsrv111\\textbackslash{}transpor\\textbackslash{}Data\\textbackslash{}COUNTS\\textbackslash{}Nonmotorized Counts\\textbackslash{}Supporting Data\\textbackslash{}Supporting Bicycle Data\\textbackslash{}CountLocationPictures\\textbackslash{}11thWestAlderEB\\textbackslash{}11thWestAlderEB.jpg         & ⋯ & Lane       & 11thWestAlderEB     & 44.04771 & -123.0807 & FALSE & 11th Ave West of Alder St EB    & 11th Ave EB, 150ft west of Alder St, Eugene   & TRUE & 390 & FALSE\\\\\n",
       "\t4 & 201 & NS & 90 & 34 & FALSE & FALSE &      & FALSE & Eugene & \\textbackslash{}\\textbackslash{}clsrv111\\textbackslash{}transpor\\textbackslash{}Data\\textbackslash{}COUNTS\\textbackslash{}Nonmotorized Counts\\textbackslash{}Supporting Data\\textbackslash{}Supporting Bicycle Data\\textbackslash{}CountLocationPictures\\textbackslash{}HarrisSouth18th\\textbackslash{}HarrisSouth18th.jpg         & ⋯ & NoFacility & HarrisSouth18th     & 44.03916 & -123.0777 & FALSE & Harris St South of 18th Ave     & Harris St , 90ft north of 19th Ave, Eugene    & TRUE & 408 &  TRUE\\\\\n",
       "\t5 & 202 & EW &  0 & 28 & FALSE & FALSE &      & FALSE & Eugene &                                                                                                                                                                          & ⋯ & Blvd       & 12thAveEastOak      & 44.04661 & -123.0909 & FALSE & 12th Ave East of Oak St         & 12th Ave , 80ft east of Oak St, Eugene        & TRUE & 367 &  TRUE\\\\\n",
       "\t6 & 203 & EW &  0 & 36 & FALSE & FALSE & East & FALSE & Eugene &                                                                                                                                                                          & ⋯ & Lane       & 13thEastLincoln     & 44.04551 & -123.0975 &  TRUE & 13th Ave East of Lincoln St     & 13th Ave , 60ft west of Lincoln St, Eugene    & TRUE & 361 &  TRUE\\\\\n",
       "\\end{tabular}\n"
      ],
      "text/markdown": [
       "\n",
       "A data.frame: 6 × 22\n",
       "\n",
       "| <!--/--> | OBJECTID &lt;int&gt; | Direction &lt;chr&gt; | ArrowAngle &lt;int&gt; | RoadWidth &lt;int&gt; | IsAutomati &lt;lgl&gt; | DoubleCoun &lt;lgl&gt; | OnewayDire &lt;chr&gt; | IsSidewalk &lt;lgl&gt; | City &lt;chr&gt; | ImageFileP &lt;chr&gt; | ⋯ ⋯ | FacilityTy &lt;chr&gt; | Location &lt;chr&gt; | Latitude &lt;dbl&gt; | Longitude &lt;dbl&gt; | IsOneway &lt;lgl&gt; | Site_Name &lt;chr&gt; | Location_D &lt;chr&gt; | HasData &lt;lgl&gt; | TAZ &lt;int&gt; | Visual &lt;lgl&gt; |\n",
       "|---|---|---|---|---|---|---|---|---|---|---|---|---|---|---|---|---|---|---|---|---|---|\n",
       "| 1 | 198 | EW |  0 | 34 | FALSE | FALSE | <!----> | FALSE | Eugene | \\\\clsrv111\\transpor\\Data\\COUNTS\\Nonmotorized Counts\\Supporting Data\\Supporting Bicycle Data\\CountLocationPictures\\16thWestAlder\\16thWestAlder.jpg             | ⋯ | NoFacility | 16thWestAlder       | 44.04222 | -123.0804 | FALSE | 16th Ave West of Alder St       | 16th Ave, 60ft west of Alder St, Eugene       | TRUE | 395 |  TRUE |\n",
       "| 2 | 199 | NS | 90 | 36 | FALSE | FALSE | <!----> | FALSE | Eugene | \\\\clsrv111\\transpor\\Data\\COUNTS\\Nonmotorized Counts\\Supporting Data\\Supporting Bicycle Data\\CountLocationPictures\\UniversitySouth18th\\UniversitySouth18th.jpg | ⋯ | NoFacility | UniversitySouth18th | 44.03907 | -123.0746 | FALSE | University St South of 18th Ave | University St, 50ft north of 19th Ave, Eugene | TRUE | 408 |  TRUE |\n",
       "| 3 | 200 | EW |  0 | 36 | FALSE |  TRUE | <!----> | FALSE | Eugene | \\\\clsrv111\\transpor\\Data\\COUNTS\\Nonmotorized Counts\\Supporting Data\\Supporting Bicycle Data\\CountLocationPictures\\11thWestAlderEB\\11thWestAlderEB.jpg         | ⋯ | Lane       | 11thWestAlderEB     | 44.04771 | -123.0807 | FALSE | 11th Ave West of Alder St EB    | 11th Ave EB, 150ft west of Alder St, Eugene   | TRUE | 390 | FALSE |\n",
       "| 4 | 201 | NS | 90 | 34 | FALSE | FALSE | <!----> | FALSE | Eugene | \\\\clsrv111\\transpor\\Data\\COUNTS\\Nonmotorized Counts\\Supporting Data\\Supporting Bicycle Data\\CountLocationPictures\\HarrisSouth18th\\HarrisSouth18th.jpg         | ⋯ | NoFacility | HarrisSouth18th     | 44.03916 | -123.0777 | FALSE | Harris St South of 18th Ave     | Harris St , 90ft north of 19th Ave, Eugene    | TRUE | 408 |  TRUE |\n",
       "| 5 | 202 | EW |  0 | 28 | FALSE | FALSE | <!----> | FALSE | Eugene | <!----> | ⋯ | Blvd       | 12thAveEastOak      | 44.04661 | -123.0909 | FALSE | 12th Ave East of Oak St         | 12th Ave , 80ft east of Oak St, Eugene        | TRUE | 367 |  TRUE |\n",
       "| 6 | 203 | EW |  0 | 36 | FALSE | FALSE | East | FALSE | Eugene | <!----> | ⋯ | Lane       | 13thEastLincoln     | 44.04551 | -123.0975 |  TRUE | 13th Ave East of Lincoln St     | 13th Ave , 60ft west of Lincoln St, Eugene    | TRUE | 361 |  TRUE |\n",
       "\n"
      ],
      "text/plain": [
       "  OBJECTID Direction ArrowAngle RoadWidth IsAutomati DoubleCoun OnewayDire\n",
       "1 198      EW         0         34        FALSE      FALSE                \n",
       "2 199      NS        90         36        FALSE      FALSE                \n",
       "3 200      EW         0         36        FALSE       TRUE                \n",
       "4 201      NS        90         34        FALSE      FALSE                \n",
       "5 202      EW         0         28        FALSE      FALSE                \n",
       "6 203      EW         0         36        FALSE      FALSE      East      \n",
       "  IsSidewalk City  \n",
       "1 FALSE      Eugene\n",
       "2 FALSE      Eugene\n",
       "3 FALSE      Eugene\n",
       "4 FALSE      Eugene\n",
       "5 FALSE      Eugene\n",
       "6 FALSE      Eugene\n",
       "  ImageFileP                                                                                                                                                              \n",
       "1 \\\\\\\\clsrv111\\\\transpor\\\\Data\\\\COUNTS\\\\Nonmotorized Counts\\\\Supporting Data\\\\Supporting Bicycle Data\\\\CountLocationPictures\\\\16thWestAlder\\\\16thWestAlder.jpg            \n",
       "2 \\\\\\\\clsrv111\\\\transpor\\\\Data\\\\COUNTS\\\\Nonmotorized Counts\\\\Supporting Data\\\\Supporting Bicycle Data\\\\CountLocationPictures\\\\UniversitySouth18th\\\\UniversitySouth18th.jpg\n",
       "3 \\\\\\\\clsrv111\\\\transpor\\\\Data\\\\COUNTS\\\\Nonmotorized Counts\\\\Supporting Data\\\\Supporting Bicycle Data\\\\CountLocationPictures\\\\11thWestAlderEB\\\\11thWestAlderEB.jpg        \n",
       "4 \\\\\\\\clsrv111\\\\transpor\\\\Data\\\\COUNTS\\\\Nonmotorized Counts\\\\Supporting Data\\\\Supporting Bicycle Data\\\\CountLocationPictures\\\\HarrisSouth18th\\\\HarrisSouth18th.jpg        \n",
       "5                                                                                                                                                                         \n",
       "6                                                                                                                                                                         \n",
       "  <U+22EF>        FacilityTy Location            Latitude Longitude IsOneway\n",
       "1 <U+22EF> NoFacility 16thWestAlder       44.04222 -123.0804 FALSE   \n",
       "2 <U+22EF> NoFacility UniversitySouth18th 44.03907 -123.0746 FALSE   \n",
       "3 <U+22EF> Lane       11thWestAlderEB     44.04771 -123.0807 FALSE   \n",
       "4 <U+22EF> NoFacility HarrisSouth18th     44.03916 -123.0777 FALSE   \n",
       "5 <U+22EF> Blvd       12thAveEastOak      44.04661 -123.0909 FALSE   \n",
       "6 <U+22EF> Lane       13thEastLincoln     44.04551 -123.0975  TRUE   \n",
       "  Site_Name                       Location_D                                   \n",
       "1 16th Ave West of Alder St       16th Ave, 60ft west of Alder St, Eugene      \n",
       "2 University St South of 18th Ave University St, 50ft north of 19th Ave, Eugene\n",
       "3 11th Ave West of Alder St EB    11th Ave EB, 150ft west of Alder St, Eugene  \n",
       "4 Harris St South of 18th Ave     Harris St , 90ft north of 19th Ave, Eugene   \n",
       "5 12th Ave East of Oak St         12th Ave , 80ft east of Oak St, Eugene       \n",
       "6 13th Ave East of Lincoln St     13th Ave , 60ft west of Lincoln St, Eugene   \n",
       "  HasData TAZ Visual\n",
       "1 TRUE    395  TRUE \n",
       "2 TRUE    408  TRUE \n",
       "3 TRUE    390 FALSE \n",
       "4 TRUE    408  TRUE \n",
       "5 TRUE    367  TRUE \n",
       "6 TRUE    361  TRUE "
      ]
     },
     "metadata": {},
     "output_type": "display_data"
    }
   ],
   "source": [
    "head(loc)"
   ]
  },
  {
   "cell_type": "code",
   "execution_count": 13,
   "id": "306be7d3",
   "metadata": {},
   "outputs": [
    {
     "data": {
      "text/html": [
       "<style>\n",
       ".list-inline {list-style: none; margin:0; padding: 0}\n",
       ".list-inline>li {display: inline-block}\n",
       ".list-inline>li:not(:last-child)::after {content: \"\\00b7\"; padding: 0 .5ex}\n",
       "</style>\n",
       "<ol class=list-inline><li>'OBJECTID'</li><li>'Direction'</li><li>'ArrowAngle'</li><li>'RoadWidth'</li><li>'IsAutomati'</li><li>'DoubleCoun'</li><li>'OnewayDire'</li><li>'IsSidewalk'</li><li>'City'</li><li>'ImageFileP'</li><li>'LocationId'</li><li>'CountType'</li><li>'FacilityTy'</li><li>'Location'</li><li>'Latitude'</li><li>'Longitude'</li><li>'IsOneway'</li><li>'Site_Name'</li><li>'Location_D'</li><li>'HasData'</li><li>'TAZ'</li><li>'Visual'</li></ol>\n"
      ],
      "text/latex": [
       "\\begin{enumerate*}\n",
       "\\item 'OBJECTID'\n",
       "\\item 'Direction'\n",
       "\\item 'ArrowAngle'\n",
       "\\item 'RoadWidth'\n",
       "\\item 'IsAutomati'\n",
       "\\item 'DoubleCoun'\n",
       "\\item 'OnewayDire'\n",
       "\\item 'IsSidewalk'\n",
       "\\item 'City'\n",
       "\\item 'ImageFileP'\n",
       "\\item 'LocationId'\n",
       "\\item 'CountType'\n",
       "\\item 'FacilityTy'\n",
       "\\item 'Location'\n",
       "\\item 'Latitude'\n",
       "\\item 'Longitude'\n",
       "\\item 'IsOneway'\n",
       "\\item 'Site\\_Name'\n",
       "\\item 'Location\\_D'\n",
       "\\item 'HasData'\n",
       "\\item 'TAZ'\n",
       "\\item 'Visual'\n",
       "\\end{enumerate*}\n"
      ],
      "text/markdown": [
       "1. 'OBJECTID'\n",
       "2. 'Direction'\n",
       "3. 'ArrowAngle'\n",
       "4. 'RoadWidth'\n",
       "5. 'IsAutomati'\n",
       "6. 'DoubleCoun'\n",
       "7. 'OnewayDire'\n",
       "8. 'IsSidewalk'\n",
       "9. 'City'\n",
       "10. 'ImageFileP'\n",
       "11. 'LocationId'\n",
       "12. 'CountType'\n",
       "13. 'FacilityTy'\n",
       "14. 'Location'\n",
       "15. 'Latitude'\n",
       "16. 'Longitude'\n",
       "17. 'IsOneway'\n",
       "18. 'Site_Name'\n",
       "19. 'Location_D'\n",
       "20. 'HasData'\n",
       "21. 'TAZ'\n",
       "22. 'Visual'\n",
       "\n",
       "\n"
      ],
      "text/plain": [
       " [1] \"OBJECTID\"   \"Direction\"  \"ArrowAngle\" \"RoadWidth\"  \"IsAutomati\"\n",
       " [6] \"DoubleCoun\" \"OnewayDire\" \"IsSidewalk\" \"City\"       \"ImageFileP\"\n",
       "[11] \"LocationId\" \"CountType\"  \"FacilityTy\" \"Location\"   \"Latitude\"  \n",
       "[16] \"Longitude\"  \"IsOneway\"   \"Site_Name\"  \"Location_D\" \"HasData\"   \n",
       "[21] \"TAZ\"        \"Visual\"    "
      ]
     },
     "metadata": {},
     "output_type": "display_data"
    }
   ],
   "source": [
    "names(loc)"
   ]
  },
  {
   "cell_type": "code",
   "execution_count": 14,
   "id": "f84599bf",
   "metadata": {
    "scrolled": true
   },
   "outputs": [
    {
     "data": {
      "text/html": [
       "180"
      ],
      "text/latex": [
       "180"
      ],
      "text/markdown": [
       "180"
      ],
      "text/plain": [
       "[1] 180"
      ]
     },
     "metadata": {},
     "output_type": "display_data"
    }
   ],
   "source": [
    "length(unique(loc$LocationId))"
   ]
  },
  {
   "cell_type": "code",
   "execution_count": 15,
   "id": "ff33b03b",
   "metadata": {
    "scrolled": false
   },
   "outputs": [
    {
     "data": {
      "text/html": [
       "199"
      ],
      "text/latex": [
       "199"
      ],
      "text/markdown": [
       "199"
      ],
      "text/plain": [
       "[1] 199"
      ]
     },
     "metadata": {},
     "output_type": "display_data"
    }
   ],
   "source": [
    "# the number of site name\n",
    "length(unique(loc$Site_Name))"
   ]
  },
  {
   "cell_type": "code",
   "execution_count": 16,
   "id": "94e2aa66",
   "metadata": {},
   "outputs": [
    {
     "data": {
      "text/html": [
       "11"
      ],
      "text/latex": [
       "11"
      ],
      "text/markdown": [
       "11"
      ],
      "text/plain": [
       "[1] 11"
      ]
     },
     "metadata": {},
     "output_type": "display_data"
    }
   ],
   "source": [
    "# these location IDs are duplicated\n",
    "length(unique(loc$LocationId[duplicated(loc$LocationId)]))"
   ]
  },
  {
   "cell_type": "code",
   "execution_count": 17,
   "id": "18fb98f6",
   "metadata": {
    "scrolled": true
   },
   "outputs": [
    {
     "data": {
      "text/html": [
       "177"
      ],
      "text/latex": [
       "177"
      ],
      "text/markdown": [
       "177"
      ],
      "text/plain": [
       "[1] 177"
      ]
     },
     "metadata": {},
     "output_type": "display_data"
    }
   ],
   "source": [
    "length(unique(data$LocationId))"
   ]
  },
  {
   "cell_type": "code",
   "execution_count": 18,
   "id": "7e9277cd",
   "metadata": {
    "scrolled": true
   },
   "outputs": [],
   "source": [
    "# these location IDs are duplicated\n",
    "ids <- unique(loc$LocationId[duplicated(loc$LocationId)])"
   ]
  },
  {
   "cell_type": "code",
   "execution_count": 23,
   "id": "bd92113b",
   "metadata": {},
   "outputs": [
    {
     "name": "stdout",
     "output_type": "stream",
     "text": [
      "[1] 25\n",
      "[1] \"Agate St South of 18th Ave NB\" \"Agate St South of 18th Ave SB\"\n",
      "[3] \"Agate St South of 18th Ave\"   \n",
      "[1] 13\n",
      "[1] \"Willamatte St North of 15th Ave\"    \"Willamette St North of 15th Ave NB\"\n",
      "[3] \"Willamette St North of 15th Ave SB\"\n",
      "[1] 133\n",
      "[1] \"Willamette St North of 24th Ave NB\" \"Willamette St North of 24th Ave SB\"\n",
      "[3] \"Willamette St North of 24th Ave\"   \n",
      "[1] 138\n",
      "[1] \"Willamette St South of 24th Pl SB\" \"Willamette St South of 24th Pl NB\"\n",
      "[3] \"Willamette St South of 24th Pl\"   \n",
      "[1] 141\n",
      "[1] \"24th Ave East Willamette St EB\" \"24th Ave East Willamette St WB\"\n",
      "[3] \"24th Ave East Willamette St\"   \n",
      "[1] 46\n",
      "[1] \"18th Ave West Alder St EB\" \"18th Ave West Alder St\"   \n",
      "[3] \"18th Ave West Alder St WB\"\n",
      "[1] 72\n",
      "[1] \"11th Ave West of Alder St EB\" \"11th Ave West of Alder St\"   \n",
      "[3] \"11th Ave West of Alder St WB\"\n",
      "[1] 146\n",
      "[1] \"City View St North of 18th Ave\"    \"City View St North of 18th Ave NB\"\n",
      "[3] \"City View St North of 18th Ave SB\"\n",
      "[1] 154\n",
      "[1] \"21st St South of H St\"    \"21st St South of H St SB\"\n",
      "[3] \"21st St South of H St NB\"\n",
      "[1] 109\n",
      "[1] \"Oakway Rd North of Oakmont Way\"    \"Oakway Rd North of Oakmont Way SB\"\n",
      "[3] \"Oakway Rd North of Oakmont Way NB\"\n",
      "[1] 182\n",
      "[1] \"Crescent Ave East of Lord Byron Pl\"\n"
     ]
    }
   ],
   "source": [
    "# check the site names for the duplicated IDs\n",
    "for(id in ids){\n",
    "    print(id)\n",
    "    print(unique(loc[loc$LocationId == id, 'Site_Name']))\n",
    "}"
   ]
  },
  {
   "cell_type": "code",
   "execution_count": 28,
   "id": "92e7dbce",
   "metadata": {},
   "outputs": [
    {
     "data": {
      "text/html": [
       "<style>\n",
       ".list-inline {list-style: none; margin:0; padding: 0}\n",
       ".list-inline>li {display: inline-block}\n",
       ".list-inline>li:not(:last-child)::after {content: \"\\00b7\"; padding: 0 .5ex}\n",
       "</style>\n",
       "<ol class=list-inline><li>23</li><li>30</li><li>43</li><li>52</li><li>79</li><li>110</li><li>112</li><li>117</li><li>142</li><li>143</li><li>144</li><li>145</li><li>157</li><li>160</li><li>190</li></ol>\n"
      ],
      "text/latex": [
       "\\begin{enumerate*}\n",
       "\\item 23\n",
       "\\item 30\n",
       "\\item 43\n",
       "\\item 52\n",
       "\\item 79\n",
       "\\item 110\n",
       "\\item 112\n",
       "\\item 117\n",
       "\\item 142\n",
       "\\item 143\n",
       "\\item 144\n",
       "\\item 145\n",
       "\\item 157\n",
       "\\item 160\n",
       "\\item 190\n",
       "\\end{enumerate*}\n"
      ],
      "text/markdown": [
       "1. 23\n",
       "2. 30\n",
       "3. 43\n",
       "4. 52\n",
       "5. 79\n",
       "6. 110\n",
       "7. 112\n",
       "8. 117\n",
       "9. 142\n",
       "10. 143\n",
       "11. 144\n",
       "12. 145\n",
       "13. 157\n",
       "14. 160\n",
       "15. 190\n",
       "\n",
       "\n"
      ],
      "text/plain": [
       " [1]  23  30  43  52  79 110 112 117 142 143 144 145 157 160 190"
      ]
     },
     "metadata": {},
     "output_type": "display_data"
    }
   ],
   "source": [
    "sort(unique(loc[loc$IsOneway,'LocationId']))"
   ]
  },
  {
   "cell_type": "code",
   "execution_count": 37,
   "id": "5ce7f263",
   "metadata": {},
   "outputs": [],
   "source": [
    "# remove the site names with direction info\n",
    "loc1 <- loc[!grepl('EB|WB|SB|NB', loc$Site_Name),]"
   ]
  },
  {
   "cell_type": "code",
   "execution_count": 38,
   "id": "f313743b",
   "metadata": {},
   "outputs": [
    {
     "data": {
      "text/html": [
       "FALSE"
      ],
      "text/latex": [
       "FALSE"
      ],
      "text/markdown": [
       "FALSE"
      ],
      "text/plain": [
       "[1] FALSE"
      ]
     },
     "metadata": {},
     "output_type": "display_data"
    }
   ],
   "source": [
    "length(unique(loc1$Site_Name)) == length(unique(loc1$LocationId))"
   ]
  },
  {
   "cell_type": "code",
   "execution_count": 39,
   "id": "9182ef26",
   "metadata": {},
   "outputs": [],
   "source": [
    "# these location IDs are duplicated\n",
    "ids <- unique(loc1$LocationId[duplicated(loc1$LocationId)])"
   ]
  },
  {
   "cell_type": "code",
   "execution_count": 40,
   "id": "4d431604",
   "metadata": {
    "scrolled": true
   },
   "outputs": [
    {
     "name": "stdout",
     "output_type": "stream",
     "text": [
      "[1] 182\n",
      "[1] \"Crescent Ave East of Lord Byron Pl\"\n"
     ]
    }
   ],
   "source": [
    "for(id in ids){\n",
    "    print(id)\n",
    "    print(unique(loc1[loc1$LocationId == id, 'Site_Name']))\n",
    "}"
   ]
  },
  {
   "cell_type": "code",
   "execution_count": 41,
   "id": "38c2fe0a",
   "metadata": {},
   "outputs": [
    {
     "data": {
      "text/html": [
       "175"
      ],
      "text/latex": [
       "175"
      ],
      "text/markdown": [
       "175"
      ],
      "text/plain": [
       "[1] 175"
      ]
     },
     "metadata": {},
     "output_type": "display_data"
    }
   ],
   "source": [
    "length(unique(loc1$Site_Name))"
   ]
  },
  {
   "cell_type": "code",
   "execution_count": 48,
   "id": "045a9b4f",
   "metadata": {
    "scrolled": true
   },
   "outputs": [
    {
     "data": {
      "text/html": [
       "176"
      ],
      "text/latex": [
       "176"
      ],
      "text/markdown": [
       "176"
      ],
      "text/plain": [
       "[1] 176"
      ]
     },
     "metadata": {},
     "output_type": "display_data"
    }
   ],
   "source": [
    "length(unique(loc1$LocationId))"
   ]
  },
  {
   "cell_type": "code",
   "execution_count": 45,
   "id": "509bb344",
   "metadata": {},
   "outputs": [
    {
     "data": {
      "text/html": [
       "<style>\n",
       ".list-inline {list-style: none; margin:0; padding: 0}\n",
       ".list-inline>li {display: inline-block}\n",
       ".list-inline>li:not(:last-child)::after {content: \"\\00b7\"; padding: 0 .5ex}\n",
       "</style>\n",
       "<ol class=list-inline><li>'Crescent Ave East of Lord Byron Pl'</li><li>'Crescent Ave East of Lord Byron Pl'</li><li>'E Amazon Dr east of Hilyard St'</li></ol>\n"
      ],
      "text/latex": [
       "\\begin{enumerate*}\n",
       "\\item 'Crescent Ave East of Lord Byron Pl'\n",
       "\\item 'Crescent Ave East of Lord Byron Pl'\n",
       "\\item 'E Amazon Dr east of Hilyard St'\n",
       "\\end{enumerate*}\n"
      ],
      "text/markdown": [
       "1. 'Crescent Ave East of Lord Byron Pl'\n",
       "2. 'Crescent Ave East of Lord Byron Pl'\n",
       "3. 'E Amazon Dr east of Hilyard St'\n",
       "\n",
       "\n"
      ],
      "text/plain": [
       "[1] \"Crescent Ave East of Lord Byron Pl\" \"Crescent Ave East of Lord Byron Pl\"\n",
       "[3] \"E Amazon Dr east of Hilyard St\"    "
      ]
     },
     "metadata": {},
     "output_type": "display_data"
    },
    {
     "data": {
      "text/html": [
       "<style>\n",
       ".list-inline {list-style: none; margin:0; padding: 0}\n",
       ".list-inline>li {display: inline-block}\n",
       ".list-inline>li:not(:last-child)::after {content: \"\\00b7\"; padding: 0 .5ex}\n",
       "</style>\n",
       "<ol class=list-inline><li>182</li><li>182</li><li>198</li></ol>\n"
      ],
      "text/latex": [
       "\\begin{enumerate*}\n",
       "\\item 182\n",
       "\\item 182\n",
       "\\item 198\n",
       "\\end{enumerate*}\n"
      ],
      "text/markdown": [
       "1. 182\n",
       "2. 182\n",
       "3. 198\n",
       "\n",
       "\n"
      ],
      "text/plain": [
       "[1] 182 182 198"
      ]
     },
     "metadata": {},
     "output_type": "display_data"
    }
   ],
   "source": [
    "# duplicated Ids with the same site name\n",
    "loc1$Site_Name[duplicated(loc1$Site_Name)]\n",
    "loc1[duplicated(loc1$Site_Name), 'LocationId']"
   ]
  },
  {
   "cell_type": "code",
   "execution_count": 46,
   "id": "ad5d6e0c",
   "metadata": {
    "scrolled": true
   },
   "outputs": [
    {
     "data": {
      "text/html": [
       "TRUE"
      ],
      "text/latex": [
       "TRUE"
      ],
      "text/markdown": [
       "TRUE"
      ],
      "text/plain": [
       "[1] TRUE"
      ]
     },
     "metadata": {},
     "output_type": "display_data"
    }
   ],
   "source": [
    "'Crescent Ave East of Lord Byron Pl' == 'Crescent Ave East of Lord Byron Pl'"
   ]
  },
  {
   "cell_type": "code",
   "execution_count": 54,
   "id": "872ef674",
   "metadata": {},
   "outputs": [
    {
     "data": {
      "text/html": [
       "<table class=\"dataframe\">\n",
       "<caption>A data.frame: 3 × 22</caption>\n",
       "<thead>\n",
       "\t<tr><th></th><th scope=col>OBJECTID</th><th scope=col>Direction</th><th scope=col>ArrowAngle</th><th scope=col>RoadWidth</th><th scope=col>IsAutomati</th><th scope=col>DoubleCoun</th><th scope=col>OnewayDire</th><th scope=col>IsSidewalk</th><th scope=col>City</th><th scope=col>ImageFileP</th><th scope=col>⋯</th><th scope=col>FacilityTy</th><th scope=col>Location</th><th scope=col>Latitude</th><th scope=col>Longitude</th><th scope=col>IsOneway</th><th scope=col>Site_Name</th><th scope=col>Location_D</th><th scope=col>HasData</th><th scope=col>TAZ</th><th scope=col>Visual</th></tr>\n",
       "\t<tr><th></th><th scope=col>&lt;int&gt;</th><th scope=col>&lt;chr&gt;</th><th scope=col>&lt;int&gt;</th><th scope=col>&lt;int&gt;</th><th scope=col>&lt;lgl&gt;</th><th scope=col>&lt;lgl&gt;</th><th scope=col>&lt;chr&gt;</th><th scope=col>&lt;lgl&gt;</th><th scope=col>&lt;chr&gt;</th><th scope=col>&lt;chr&gt;</th><th scope=col>⋯</th><th scope=col>&lt;chr&gt;</th><th scope=col>&lt;chr&gt;</th><th scope=col>&lt;dbl&gt;</th><th scope=col>&lt;dbl&gt;</th><th scope=col>&lt;lgl&gt;</th><th scope=col>&lt;chr&gt;</th><th scope=col>&lt;chr&gt;</th><th scope=col>&lt;lgl&gt;</th><th scope=col>&lt;int&gt;</th><th scope=col>&lt;lgl&gt;</th></tr>\n",
       "</thead>\n",
       "<tbody>\n",
       "\t<tr><th scope=row>169</th><td>384</td><td>EW</td><td>0</td><td>40</td><td>FALSE</td><td>TRUE</td><td></td><td>FALSE</td><td>Eugene</td><td></td><td>⋯</td><td>Lane</td><td>CrescentEastLordByron  </td><td>44.09246</td><td>-123.0582</td><td>FALSE</td><td>Crescent Ave East of Lord Byron Pl</td><td>Crescent Ave, 150ft east of Lord Byron Pl, Eugene</td><td>TRUE</td><td>197</td><td> TRUE</td></tr>\n",
       "\t<tr><th scope=row>170</th><td>385</td><td>EW</td><td>0</td><td>40</td><td>FALSE</td><td>TRUE</td><td></td><td>FALSE</td><td>Eugene</td><td></td><td>⋯</td><td>Lane</td><td>CrescentEastLordByronEB</td><td>44.09247</td><td>-123.0582</td><td>FALSE</td><td>Crescent Ave East of Lord Byron Pl</td><td>Crescent Ave, 150ft east of Lord Byron Pl, Eugene</td><td>TRUE</td><td>197</td><td>FALSE</td></tr>\n",
       "\t<tr><th scope=row>171</th><td>386</td><td>EW</td><td>0</td><td>40</td><td>FALSE</td><td>TRUE</td><td></td><td>FALSE</td><td>Eugene</td><td></td><td>⋯</td><td>Lane</td><td>CrescentEastLordByronWB</td><td>44.09248</td><td>-123.0582</td><td>FALSE</td><td>Crescent Ave East of Lord Byron Pl</td><td>Crescent Ave, 150ft east of Lord Byron Pl, Eugene</td><td>TRUE</td><td>197</td><td>FALSE</td></tr>\n",
       "</tbody>\n",
       "</table>\n"
      ],
      "text/latex": [
       "A data.frame: 3 × 22\n",
       "\\begin{tabular}{r|lllllllllllllllllllll}\n",
       "  & OBJECTID & Direction & ArrowAngle & RoadWidth & IsAutomati & DoubleCoun & OnewayDire & IsSidewalk & City & ImageFileP & ⋯ & FacilityTy & Location & Latitude & Longitude & IsOneway & Site\\_Name & Location\\_D & HasData & TAZ & Visual\\\\\n",
       "  & <int> & <chr> & <int> & <int> & <lgl> & <lgl> & <chr> & <lgl> & <chr> & <chr> & ⋯ & <chr> & <chr> & <dbl> & <dbl> & <lgl> & <chr> & <chr> & <lgl> & <int> & <lgl>\\\\\n",
       "\\hline\n",
       "\t169 & 384 & EW & 0 & 40 & FALSE & TRUE &  & FALSE & Eugene &  & ⋯ & Lane & CrescentEastLordByron   & 44.09246 & -123.0582 & FALSE & Crescent Ave East of Lord Byron Pl & Crescent Ave, 150ft east of Lord Byron Pl, Eugene & TRUE & 197 &  TRUE\\\\\n",
       "\t170 & 385 & EW & 0 & 40 & FALSE & TRUE &  & FALSE & Eugene &  & ⋯ & Lane & CrescentEastLordByronEB & 44.09247 & -123.0582 & FALSE & Crescent Ave East of Lord Byron Pl & Crescent Ave, 150ft east of Lord Byron Pl, Eugene & TRUE & 197 & FALSE\\\\\n",
       "\t171 & 386 & EW & 0 & 40 & FALSE & TRUE &  & FALSE & Eugene &  & ⋯ & Lane & CrescentEastLordByronWB & 44.09248 & -123.0582 & FALSE & Crescent Ave East of Lord Byron Pl & Crescent Ave, 150ft east of Lord Byron Pl, Eugene & TRUE & 197 & FALSE\\\\\n",
       "\\end{tabular}\n"
      ],
      "text/markdown": [
       "\n",
       "A data.frame: 3 × 22\n",
       "\n",
       "| <!--/--> | OBJECTID &lt;int&gt; | Direction &lt;chr&gt; | ArrowAngle &lt;int&gt; | RoadWidth &lt;int&gt; | IsAutomati &lt;lgl&gt; | DoubleCoun &lt;lgl&gt; | OnewayDire &lt;chr&gt; | IsSidewalk &lt;lgl&gt; | City &lt;chr&gt; | ImageFileP &lt;chr&gt; | ⋯ ⋯ | FacilityTy &lt;chr&gt; | Location &lt;chr&gt; | Latitude &lt;dbl&gt; | Longitude &lt;dbl&gt; | IsOneway &lt;lgl&gt; | Site_Name &lt;chr&gt; | Location_D &lt;chr&gt; | HasData &lt;lgl&gt; | TAZ &lt;int&gt; | Visual &lt;lgl&gt; |\n",
       "|---|---|---|---|---|---|---|---|---|---|---|---|---|---|---|---|---|---|---|---|---|---|\n",
       "| 169 | 384 | EW | 0 | 40 | FALSE | TRUE | <!----> | FALSE | Eugene | <!----> | ⋯ | Lane | CrescentEastLordByron   | 44.09246 | -123.0582 | FALSE | Crescent Ave East of Lord Byron Pl | Crescent Ave, 150ft east of Lord Byron Pl, Eugene | TRUE | 197 |  TRUE |\n",
       "| 170 | 385 | EW | 0 | 40 | FALSE | TRUE | <!----> | FALSE | Eugene | <!----> | ⋯ | Lane | CrescentEastLordByronEB | 44.09247 | -123.0582 | FALSE | Crescent Ave East of Lord Byron Pl | Crescent Ave, 150ft east of Lord Byron Pl, Eugene | TRUE | 197 | FALSE |\n",
       "| 171 | 386 | EW | 0 | 40 | FALSE | TRUE | <!----> | FALSE | Eugene | <!----> | ⋯ | Lane | CrescentEastLordByronWB | 44.09248 | -123.0582 | FALSE | Crescent Ave East of Lord Byron Pl | Crescent Ave, 150ft east of Lord Byron Pl, Eugene | TRUE | 197 | FALSE |\n",
       "\n"
      ],
      "text/plain": [
       "    OBJECTID Direction ArrowAngle RoadWidth IsAutomati DoubleCoun OnewayDire\n",
       "169 384      EW        0          40        FALSE      TRUE                 \n",
       "170 385      EW        0          40        FALSE      TRUE                 \n",
       "171 386      EW        0          40        FALSE      TRUE                 \n",
       "    IsSidewalk City   ImageFileP <U+22EF>        FacilityTy Location               \n",
       "169 FALSE      Eugene            <U+22EF> Lane       CrescentEastLordByron  \n",
       "170 FALSE      Eugene            <U+22EF> Lane       CrescentEastLordByronEB\n",
       "171 FALSE      Eugene            <U+22EF> Lane       CrescentEastLordByronWB\n",
       "    Latitude Longitude IsOneway Site_Name                         \n",
       "169 44.09246 -123.0582 FALSE    Crescent Ave East of Lord Byron Pl\n",
       "170 44.09247 -123.0582 FALSE    Crescent Ave East of Lord Byron Pl\n",
       "171 44.09248 -123.0582 FALSE    Crescent Ave East of Lord Byron Pl\n",
       "    Location_D                                        HasData TAZ Visual\n",
       "169 Crescent Ave, 150ft east of Lord Byron Pl, Eugene TRUE    197  TRUE \n",
       "170 Crescent Ave, 150ft east of Lord Byron Pl, Eugene TRUE    197 FALSE \n",
       "171 Crescent Ave, 150ft east of Lord Byron Pl, Eugene TRUE    197 FALSE "
      ]
     },
     "metadata": {},
     "output_type": "display_data"
    }
   ],
   "source": [
    "loc1[loc1$LocationId==182,]"
   ]
  },
  {
   "cell_type": "code",
   "execution_count": 56,
   "id": "7223e8e8",
   "metadata": {},
   "outputs": [],
   "source": [
    "loc2 <- loc1[!grepl('EB|WB|SB|NB', loc1$Location),]"
   ]
  },
  {
   "cell_type": "code",
   "execution_count": 57,
   "id": "134b3d78",
   "metadata": {},
   "outputs": [
    {
     "data": {
      "text/html": [
       "173"
      ],
      "text/latex": [
       "173"
      ],
      "text/markdown": [
       "173"
      ],
      "text/plain": [
       "[1] 173"
      ]
     },
     "metadata": {},
     "output_type": "display_data"
    }
   ],
   "source": [
    "length(unique(loc2$LocationId))"
   ]
  },
  {
   "cell_type": "code",
   "execution_count": 58,
   "id": "a4e18234",
   "metadata": {},
   "outputs": [
    {
     "data": {
      "text/html": [
       "172"
      ],
      "text/latex": [
       "172"
      ],
      "text/markdown": [
       "172"
      ],
      "text/plain": [
       "[1] 172"
      ]
     },
     "metadata": {},
     "output_type": "display_data"
    }
   ],
   "source": [
    "length(unique(loc2$Site_Name))"
   ]
  },
  {
   "cell_type": "code",
   "execution_count": 59,
   "id": "1518cab4",
   "metadata": {},
   "outputs": [
    {
     "data": {
      "text/html": [
       "<style>\n",
       ".list-inline {list-style: none; margin:0; padding: 0}\n",
       ".list-inline>li {display: inline-block}\n",
       ".list-inline>li:not(:last-child)::after {content: \"\\00b7\"; padding: 0 .5ex}\n",
       "</style>\n",
       "<ol class=list-inline><li>173</li><li>22</li></ol>\n"
      ],
      "text/latex": [
       "\\begin{enumerate*}\n",
       "\\item 173\n",
       "\\item 22\n",
       "\\end{enumerate*}\n"
      ],
      "text/markdown": [
       "1. 173\n",
       "2. 22\n",
       "\n",
       "\n"
      ],
      "text/plain": [
       "[1] 173  22"
      ]
     },
     "metadata": {},
     "output_type": "display_data"
    }
   ],
   "source": [
    "dim(loc2)"
   ]
  },
  {
   "cell_type": "code",
   "execution_count": 64,
   "id": "33c018d4",
   "metadata": {},
   "outputs": [
    {
     "data": {
      "text/html": [
       "<table class=\"dataframe\">\n",
       "<caption>A data.frame: 2 × 3</caption>\n",
       "<thead>\n",
       "\t<tr><th></th><th scope=col>LocationId</th><th scope=col>Location</th><th scope=col>Site_Name</th></tr>\n",
       "\t<tr><th></th><th scope=col>&lt;int&gt;</th><th scope=col>&lt;chr&gt;</th><th scope=col>&lt;chr&gt;</th></tr>\n",
       "</thead>\n",
       "<tbody>\n",
       "\t<tr><th scope=row>162</th><td>173</td><td>EastAmazonEastHilyard            </td><td>E Amazon Dr east of Hilyard St</td></tr>\n",
       "\t<tr><th scope=row>190</th><td>198</td><td>EastAmazonEastHilyardWestSidewalk</td><td>E Amazon Dr east of Hilyard St</td></tr>\n",
       "</tbody>\n",
       "</table>\n"
      ],
      "text/latex": [
       "A data.frame: 2 × 3\n",
       "\\begin{tabular}{r|lll}\n",
       "  & LocationId & Location & Site\\_Name\\\\\n",
       "  & <int> & <chr> & <chr>\\\\\n",
       "\\hline\n",
       "\t162 & 173 & EastAmazonEastHilyard             & E Amazon Dr east of Hilyard St\\\\\n",
       "\t190 & 198 & EastAmazonEastHilyardWestSidewalk & E Amazon Dr east of Hilyard St\\\\\n",
       "\\end{tabular}\n"
      ],
      "text/markdown": [
       "\n",
       "A data.frame: 2 × 3\n",
       "\n",
       "| <!--/--> | LocationId &lt;int&gt; | Location &lt;chr&gt; | Site_Name &lt;chr&gt; |\n",
       "|---|---|---|---|\n",
       "| 162 | 173 | EastAmazonEastHilyard             | E Amazon Dr east of Hilyard St |\n",
       "| 190 | 198 | EastAmazonEastHilyardWestSidewalk | E Amazon Dr east of Hilyard St |\n",
       "\n"
      ],
      "text/plain": [
       "    LocationId Location                          Site_Name                     \n",
       "162 173        EastAmazonEastHilyard             E Amazon Dr east of Hilyard St\n",
       "190 198        EastAmazonEastHilyardWestSidewalk E Amazon Dr east of Hilyard St"
      ]
     },
     "metadata": {},
     "output_type": "display_data"
    }
   ],
   "source": [
    "loc2[loc2$Site_Name == 'E Amazon Dr east of Hilyard St', c('LocationId', 'Location', 'Site_Name')]"
   ]
  },
  {
   "cell_type": "code",
   "execution_count": 66,
   "id": "bd18543d",
   "metadata": {},
   "outputs": [
    {
     "data": {
      "text/html": [
       "202"
      ],
      "text/latex": [
       "202"
      ],
      "text/markdown": [
       "202"
      ],
      "text/plain": [
       "[1] 202"
      ]
     },
     "metadata": {},
     "output_type": "display_data"
    }
   ],
   "source": [
    "length(unique(loc$Location))"
   ]
  },
  {
   "cell_type": "code",
   "execution_count": 68,
   "id": "4ee46ac6",
   "metadata": {},
   "outputs": [
    {
     "data": {
      "text/html": [
       "177"
      ],
      "text/latex": [
       "177"
      ],
      "text/markdown": [
       "177"
      ],
      "text/plain": [
       "[1] 177"
      ]
     },
     "metadata": {},
     "output_type": "display_data"
    }
   ],
   "source": [
    "length(unique(data$Location))"
   ]
  },
  {
   "cell_type": "code",
   "execution_count": 70,
   "id": "3cd5a850",
   "metadata": {
    "scrolled": true
   },
   "outputs": [
    {
     "data": {
      "text/html": [
       "TRUE"
      ],
      "text/latex": [
       "TRUE"
      ],
      "text/markdown": [
       "TRUE"
      ],
      "text/plain": [
       "[1] TRUE"
      ]
     },
     "metadata": {},
     "output_type": "display_data"
    }
   ],
   "source": [
    "any(unique(data$Location) %in% unique(loc$Location))"
   ]
  },
  {
   "cell_type": "code",
   "execution_count": 73,
   "id": "309d1d10",
   "metadata": {},
   "outputs": [
    {
     "data": {
      "text/html": [
       "<style>\n",
       ".list-inline {list-style: none; margin:0; padding: 0}\n",
       ".list-inline>li {display: inline-block}\n",
       ".list-inline>li:not(:last-child)::after {content: \"\\00b7\"; padding: 0 .5ex}\n",
       "</style>\n",
       "<ol class=list-inline><li>213</li><li>212</li><li>211</li></ol>\n"
      ],
      "text/latex": [
       "\\begin{enumerate*}\n",
       "\\item 213\n",
       "\\item 212\n",
       "\\item 211\n",
       "\\end{enumerate*}\n"
      ],
      "text/markdown": [
       "1. 213\n",
       "2. 212\n",
       "3. 211\n",
       "\n",
       "\n"
      ],
      "text/plain": [
       "[1] 213 212 211"
      ]
     },
     "metadata": {},
     "output_type": "display_data"
    }
   ],
   "source": [
    "unique(data[data$Location %in% (unique(data$Location)[!(unique(data$Location) %in% unique(loc$Location))]), 'LocationId'])"
   ]
  },
  {
   "cell_type": "code",
   "execution_count": 74,
   "id": "a032dab5",
   "metadata": {},
   "outputs": [
    {
     "data": {
      "text/html": [
       "<style>\n",
       ".list-inline {list-style: none; margin:0; padding: 0}\n",
       ".list-inline>li {display: inline-block}\n",
       ".list-inline>li:not(:last-child)::after {content: \"\\00b7\"; padding: 0 .5ex}\n",
       "</style>\n",
       "<ol class=list-inline><li>FALSE</li><li>FALSE</li><li>FALSE</li></ol>\n"
      ],
      "text/latex": [
       "\\begin{enumerate*}\n",
       "\\item FALSE\n",
       "\\item FALSE\n",
       "\\item FALSE\n",
       "\\end{enumerate*}\n"
      ],
      "text/markdown": [
       "1. FALSE\n",
       "2. FALSE\n",
       "3. FALSE\n",
       "\n",
       "\n"
      ],
      "text/plain": [
       "[1] FALSE FALSE FALSE"
      ]
     },
     "metadata": {},
     "output_type": "display_data"
    }
   ],
   "source": [
    "unique(data[data$Location %in% (unique(data$Location)[!(unique(data$Location) %in% unique(loc$Location))]), 'LocationId']) %in% loc$LocationId"
   ]
  }
 ],
 "metadata": {
  "kernelspec": {
   "display_name": "R",
   "language": "R",
   "name": "ir"
  },
  "language_info": {
   "codemirror_mode": "r",
   "file_extension": ".r",
   "mimetype": "text/x-r-source",
   "name": "R",
   "pygments_lexer": "r",
   "version": "4.0.3"
  }
 },
 "nbformat": 4,
 "nbformat_minor": 5
}
