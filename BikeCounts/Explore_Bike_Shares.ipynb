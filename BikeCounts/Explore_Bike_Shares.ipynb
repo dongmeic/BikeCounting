{
 "cells": [
  {
   "cell_type": "code",
   "execution_count": 1,
   "id": "5fc82ffe",
   "metadata": {},
   "outputs": [],
   "source": [
    "path <- \"T:/DCProjects/StoryMap/BikeCounting/BikeShare/Data/\""
   ]
  },
  {
   "cell_type": "code",
   "execution_count": null,
   "id": "e6076000",
   "metadata": {},
   "outputs": [],
   "source": [
    "trips <- read.csv(paste0(path, \"trips_peace_health_rides_11_15_2021-12_15_2021.csv\"))"
   ]
  }
 ],
 "metadata": {
  "kernelspec": {
   "display_name": "R",
   "language": "R",
   "name": "ir"
  },
  "language_info": {
   "codemirror_mode": "r",
   "file_extension": ".r",
   "mimetype": "text/x-r-source",
   "name": "R",
   "pygments_lexer": "r",
   "version": "4.0.3"
  }
 },
 "nbformat": 4,
 "nbformat_minor": 5
}
