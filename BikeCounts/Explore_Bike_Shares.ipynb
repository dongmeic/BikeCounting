{
 "cells": [
  {
   "cell_type": "code",
   "execution_count": 1,
   "id": "dec06fee",
   "metadata": {},
   "outputs": [],
   "source": [
    "path <- \"T:/DCProjects/StoryMap/BikeCounting/BikeShare/Data/\""
   ]
  },
  {
   "cell_type": "code",
   "execution_count": 2,
   "id": "3d5b3a8e",
   "metadata": {},
   "outputs": [],
   "source": [
    "trips <- read.csv(paste0(path, \"trips_peace_health_rides_11_15_2021-12_15_2021.csv\"))"
   ]
  },
  {
   "cell_type": "code",
   "execution_count": 3,
   "id": "9584ec17",
   "metadata": {},
   "outputs": [
    {
     "data": {
      "text/html": [
       "<table class=\"dataframe\">\n",
       "<caption>A data.frame: 6 × 30</caption>\n",
       "<thead>\n",
       "\t<tr><th></th><th scope=col>User.ID</th><th scope=col>Route.ID</th><th scope=col>Bike.Region.ID</th><th scope=col>Payment.Plan</th><th scope=col>Start.Hub</th><th scope=col>Start.Area</th><th scope=col>Start.Special.Area</th><th scope=col>Start.Latitude</th><th scope=col>Start.Longitude</th><th scope=col>Start.Date</th><th scope=col>⋯</th><th scope=col>Bike.ID</th><th scope=col>Bike.Name</th><th scope=col>Distance..Miles.</th><th scope=col>Duration</th><th scope=col>Rental.Access.Path</th><th scope=col>Multiple.Rental</th><th scope=col>Ride.cost</th><th scope=col>Fees</th><th scope=col>Bonuses</th><th scope=col>Total.cost</th></tr>\n",
       "\t<tr><th></th><th scope=col>&lt;int&gt;</th><th scope=col>&lt;int&gt;</th><th scope=col>&lt;lgl&gt;</th><th scope=col>&lt;chr&gt;</th><th scope=col>&lt;chr&gt;</th><th scope=col>&lt;chr&gt;</th><th scope=col>&lt;lgl&gt;</th><th scope=col>&lt;chr&gt;</th><th scope=col>&lt;chr&gt;</th><th scope=col>&lt;chr&gt;</th><th scope=col>⋯</th><th scope=col>&lt;int&gt;</th><th scope=col>&lt;chr&gt;</th><th scope=col>&lt;dbl&gt;</th><th scope=col>&lt;chr&gt;</th><th scope=col>&lt;chr&gt;</th><th scope=col>&lt;chr&gt;</th><th scope=col>&lt;dbl&gt;</th><th scope=col>&lt;dbl&gt;</th><th scope=col>&lt;dbl&gt;</th><th scope=col>&lt;dbl&gt;</th></tr>\n",
       "</thead>\n",
       "<tbody>\n",
       "\t<tr><th scope=row>1</th><td>2204790</td><td>14176840</td><td>NA</td><td>UO Monthly Plan</td><td>Knight Law Center              </td><td>Phase 1 System Area</td><td>NA</td><td>44.04298333333333 </td><td>-123.06962         </td><td>2021-11-15</td><td>⋯</td><td>19619</td><td>0088</td><td>1.43</td><td>00:17:38</td><td>mobile</td><td>false</td><td>0</td><td>0</td><td>0</td><td>0</td></tr>\n",
       "\t<tr><th scope=row>2</th><td>2203925</td><td>14176845</td><td>NA</td><td>UO Monthly Plan</td><td>PeaceHealth University District</td><td>Phase 1 System Area</td><td>NA</td><td>44.04757          </td><td>-123.08191333333333</td><td>2021-11-15</td><td>⋯</td><td>19811</td><td>0281</td><td>0.81</td><td>00:05:05</td><td>mobile</td><td>false</td><td>0</td><td>0</td><td>0</td><td>0</td></tr>\n",
       "\t<tr><th scope=row>3</th><td>1937401</td><td>14176846</td><td>NA</td><td>UO Single Ride </td><td><span style=white-space:pre-wrap>15th &amp; University              </span></td><td>Phase 1 System Area</td><td>NA</td><td>44.04308666666667 </td><td><span style=white-space:pre-wrap>-123.07474         </span></td><td>2021-11-15</td><td>⋯</td><td>19769</td><td>0239</td><td>0.99</td><td>00:06:41</td><td>keypad</td><td>false</td><td>0</td><td>0</td><td>0</td><td>0</td></tr>\n",
       "\t<tr><th scope=row>4</th><td>2134519</td><td>14176907</td><td>NA</td><td>Single Ride    </td><td>Eugene Family YMCA             </td><td>Phase 1 System Area</td><td>NA</td><td>44.037538577767066</td><td>-123.0834925174713 </td><td>2021-11-15</td><td>⋯</td><td>18460</td><td>0009</td><td>1.90</td><td>00:13:32</td><td>mobile</td><td>false</td><td>0</td><td>0</td><td>0</td><td>0</td></tr>\n",
       "\t<tr><th scope=row>5</th><td>2207423</td><td>14176979</td><td>NA</td><td>Single Ride    </td><td>                               </td><td>Phase 1 System Area</td><td>NA</td><td>44.0454           </td><td>-123.08328333333333</td><td>2021-11-15</td><td>⋯</td><td>19766</td><td>0236</td><td>1.34</td><td>00:11:38</td><td>mobile</td><td>false</td><td>0</td><td>0</td><td>0</td><td>0</td></tr>\n",
       "\t<tr><th scope=row>6</th><td>1349664</td><td>14176986</td><td>NA</td><td><span style=white-space:pre-wrap>Monthly Plan   </span></td><td><span style=white-space:pre-wrap>2nd &amp; Madison                  </span></td><td>Phase 1 System Area</td><td>NA</td><td><span style=white-space:pre-wrap>44.05747          </span></td><td>-123.10321333333333</td><td>2021-11-15</td><td>⋯</td><td>19620</td><td>0318</td><td>6.45</td><td>00:56:43</td><td>keypad</td><td>false</td><td>0</td><td>0</td><td>0</td><td>0</td></tr>\n",
       "</tbody>\n",
       "</table>\n"
      ],
      "text/latex": [
       "A data.frame: 6 × 30\n",
       "\\begin{tabular}{r|lllllllllllllllllllll}\n",
       "  & User.ID & Route.ID & Bike.Region.ID & Payment.Plan & Start.Hub & Start.Area & Start.Special.Area & Start.Latitude & Start.Longitude & Start.Date & ⋯ & Bike.ID & Bike.Name & Distance..Miles. & Duration & Rental.Access.Path & Multiple.Rental & Ride.cost & Fees & Bonuses & Total.cost\\\\\n",
       "  & <int> & <int> & <lgl> & <chr> & <chr> & <chr> & <lgl> & <chr> & <chr> & <chr> & ⋯ & <int> & <chr> & <dbl> & <chr> & <chr> & <chr> & <dbl> & <dbl> & <dbl> & <dbl>\\\\\n",
       "\\hline\n",
       "\t1 & 2204790 & 14176840 & NA & UO Monthly Plan & Knight Law Center               & Phase 1 System Area & NA & 44.04298333333333  & -123.06962          & 2021-11-15 & ⋯ & 19619 & 0088 & 1.43 & 00:17:38 & mobile & false & 0 & 0 & 0 & 0\\\\\n",
       "\t2 & 2203925 & 14176845 & NA & UO Monthly Plan & PeaceHealth University District & Phase 1 System Area & NA & 44.04757           & -123.08191333333333 & 2021-11-15 & ⋯ & 19811 & 0281 & 0.81 & 00:05:05 & mobile & false & 0 & 0 & 0 & 0\\\\\n",
       "\t3 & 1937401 & 14176846 & NA & UO Single Ride  & 15th \\& University               & Phase 1 System Area & NA & 44.04308666666667  & -123.07474          & 2021-11-15 & ⋯ & 19769 & 0239 & 0.99 & 00:06:41 & keypad & false & 0 & 0 & 0 & 0\\\\\n",
       "\t4 & 2134519 & 14176907 & NA & Single Ride     & Eugene Family YMCA              & Phase 1 System Area & NA & 44.037538577767066 & -123.0834925174713  & 2021-11-15 & ⋯ & 18460 & 0009 & 1.90 & 00:13:32 & mobile & false & 0 & 0 & 0 & 0\\\\\n",
       "\t5 & 2207423 & 14176979 & NA & Single Ride     &                                 & Phase 1 System Area & NA & 44.0454            & -123.08328333333333 & 2021-11-15 & ⋯ & 19766 & 0236 & 1.34 & 00:11:38 & mobile & false & 0 & 0 & 0 & 0\\\\\n",
       "\t6 & 1349664 & 14176986 & NA & Monthly Plan    & 2nd \\& Madison                   & Phase 1 System Area & NA & 44.05747           & -123.10321333333333 & 2021-11-15 & ⋯ & 19620 & 0318 & 6.45 & 00:56:43 & keypad & false & 0 & 0 & 0 & 0\\\\\n",
       "\\end{tabular}\n"
      ],
      "text/markdown": [
       "\n",
       "A data.frame: 6 × 30\n",
       "\n",
       "| <!--/--> | User.ID &lt;int&gt; | Route.ID &lt;int&gt; | Bike.Region.ID &lt;lgl&gt; | Payment.Plan &lt;chr&gt; | Start.Hub &lt;chr&gt; | Start.Area &lt;chr&gt; | Start.Special.Area &lt;lgl&gt; | Start.Latitude &lt;chr&gt; | Start.Longitude &lt;chr&gt; | Start.Date &lt;chr&gt; | ⋯ ⋯ | Bike.ID &lt;int&gt; | Bike.Name &lt;chr&gt; | Distance..Miles. &lt;dbl&gt; | Duration &lt;chr&gt; | Rental.Access.Path &lt;chr&gt; | Multiple.Rental &lt;chr&gt; | Ride.cost &lt;dbl&gt; | Fees &lt;dbl&gt; | Bonuses &lt;dbl&gt; | Total.cost &lt;dbl&gt; |\n",
       "|---|---|---|---|---|---|---|---|---|---|---|---|---|---|---|---|---|---|---|---|---|---|\n",
       "| 1 | 2204790 | 14176840 | NA | UO Monthly Plan | Knight Law Center               | Phase 1 System Area | NA | 44.04298333333333  | -123.06962          | 2021-11-15 | ⋯ | 19619 | 0088 | 1.43 | 00:17:38 | mobile | false | 0 | 0 | 0 | 0 |\n",
       "| 2 | 2203925 | 14176845 | NA | UO Monthly Plan | PeaceHealth University District | Phase 1 System Area | NA | 44.04757           | -123.08191333333333 | 2021-11-15 | ⋯ | 19811 | 0281 | 0.81 | 00:05:05 | mobile | false | 0 | 0 | 0 | 0 |\n",
       "| 3 | 1937401 | 14176846 | NA | UO Single Ride  | 15th &amp; University               | Phase 1 System Area | NA | 44.04308666666667  | -123.07474          | 2021-11-15 | ⋯ | 19769 | 0239 | 0.99 | 00:06:41 | keypad | false | 0 | 0 | 0 | 0 |\n",
       "| 4 | 2134519 | 14176907 | NA | Single Ride     | Eugene Family YMCA              | Phase 1 System Area | NA | 44.037538577767066 | -123.0834925174713  | 2021-11-15 | ⋯ | 18460 | 0009 | 1.90 | 00:13:32 | mobile | false | 0 | 0 | 0 | 0 |\n",
       "| 5 | 2207423 | 14176979 | NA | Single Ride     | <!----> | Phase 1 System Area | NA | 44.0454            | -123.08328333333333 | 2021-11-15 | ⋯ | 19766 | 0236 | 1.34 | 00:11:38 | mobile | false | 0 | 0 | 0 | 0 |\n",
       "| 6 | 1349664 | 14176986 | NA | Monthly Plan    | 2nd &amp; Madison                   | Phase 1 System Area | NA | 44.05747           | -123.10321333333333 | 2021-11-15 | ⋯ | 19620 | 0318 | 6.45 | 00:56:43 | keypad | false | 0 | 0 | 0 | 0 |\n",
       "\n"
      ],
      "text/plain": [
       "  User.ID Route.ID Bike.Region.ID Payment.Plan   \n",
       "1 2204790 14176840 NA             UO Monthly Plan\n",
       "2 2203925 14176845 NA             UO Monthly Plan\n",
       "3 1937401 14176846 NA             UO Single Ride \n",
       "4 2134519 14176907 NA             Single Ride    \n",
       "5 2207423 14176979 NA             Single Ride    \n",
       "6 1349664 14176986 NA             Monthly Plan   \n",
       "  Start.Hub                       Start.Area          Start.Special.Area\n",
       "1 Knight Law Center               Phase 1 System Area NA                \n",
       "2 PeaceHealth University District Phase 1 System Area NA                \n",
       "3 15th & University               Phase 1 System Area NA                \n",
       "4 Eugene Family YMCA              Phase 1 System Area NA                \n",
       "5                                 Phase 1 System Area NA                \n",
       "6 2nd & Madison                   Phase 1 System Area NA                \n",
       "  Start.Latitude     Start.Longitude     Start.Date <U+22EF>        Bike.ID Bike.Name\n",
       "1 44.04298333333333  -123.06962          2021-11-15 <U+22EF> 19619   0088     \n",
       "2 44.04757           -123.08191333333333 2021-11-15 <U+22EF> 19811   0281     \n",
       "3 44.04308666666667  -123.07474          2021-11-15 <U+22EF> 19769   0239     \n",
       "4 44.037538577767066 -123.0834925174713  2021-11-15 <U+22EF> 18460   0009     \n",
       "5 44.0454            -123.08328333333333 2021-11-15 <U+22EF> 19766   0236     \n",
       "6 44.05747           -123.10321333333333 2021-11-15 <U+22EF> 19620   0318     \n",
       "  Distance..Miles. Duration Rental.Access.Path Multiple.Rental Ride.cost Fees\n",
       "1 1.43             00:17:38 mobile             false           0         0   \n",
       "2 0.81             00:05:05 mobile             false           0         0   \n",
       "3 0.99             00:06:41 keypad             false           0         0   \n",
       "4 1.90             00:13:32 mobile             false           0         0   \n",
       "5 1.34             00:11:38 mobile             false           0         0   \n",
       "6 6.45             00:56:43 keypad             false           0         0   \n",
       "  Bonuses Total.cost\n",
       "1 0       0         \n",
       "2 0       0         \n",
       "3 0       0         \n",
       "4 0       0         \n",
       "5 0       0         \n",
       "6 0       0         "
      ]
     },
     "metadata": {},
     "output_type": "display_data"
    }
   ],
   "source": [
    "head(trips)"
   ]
  },
  {
   "cell_type": "code",
   "execution_count": 4,
   "id": "2fae8b83",
   "metadata": {},
   "outputs": [
    {
     "data": {
      "text/html": [
       "<style>\n",
       ".list-inline {list-style: none; margin:0; padding: 0}\n",
       ".list-inline>li {display: inline-block}\n",
       ".list-inline>li:not(:last-child)::after {content: \"\\00b7\"; padding: 0 .5ex}\n",
       "</style>\n",
       "<ol class=list-inline><li>'User.ID'</li><li>'Route.ID'</li><li>'Bike.Region.ID'</li><li>'Payment.Plan'</li><li>'Start.Hub'</li><li>'Start.Area'</li><li>'Start.Special.Area'</li><li>'Start.Latitude'</li><li>'Start.Longitude'</li><li>'Start.Date'</li><li>'Start.Time'</li><li>'End.Hub'</li><li>'End.Area'</li><li>'End.Special.Area'</li><li>'End.Latitude'</li><li>'End.Longitude'</li><li>'End.Date'</li><li>'End.Time'</li><li>'Member.Type'</li><li>'Trip.Type'</li><li>'Bike.ID'</li><li>'Bike.Name'</li><li>'Distance..Miles.'</li><li>'Duration'</li><li>'Rental.Access.Path'</li><li>'Multiple.Rental'</li><li>'Ride.cost'</li><li>'Fees'</li><li>'Bonuses'</li><li>'Total.cost'</li></ol>\n"
      ],
      "text/latex": [
       "\\begin{enumerate*}\n",
       "\\item 'User.ID'\n",
       "\\item 'Route.ID'\n",
       "\\item 'Bike.Region.ID'\n",
       "\\item 'Payment.Plan'\n",
       "\\item 'Start.Hub'\n",
       "\\item 'Start.Area'\n",
       "\\item 'Start.Special.Area'\n",
       "\\item 'Start.Latitude'\n",
       "\\item 'Start.Longitude'\n",
       "\\item 'Start.Date'\n",
       "\\item 'Start.Time'\n",
       "\\item 'End.Hub'\n",
       "\\item 'End.Area'\n",
       "\\item 'End.Special.Area'\n",
       "\\item 'End.Latitude'\n",
       "\\item 'End.Longitude'\n",
       "\\item 'End.Date'\n",
       "\\item 'End.Time'\n",
       "\\item 'Member.Type'\n",
       "\\item 'Trip.Type'\n",
       "\\item 'Bike.ID'\n",
       "\\item 'Bike.Name'\n",
       "\\item 'Distance..Miles.'\n",
       "\\item 'Duration'\n",
       "\\item 'Rental.Access.Path'\n",
       "\\item 'Multiple.Rental'\n",
       "\\item 'Ride.cost'\n",
       "\\item 'Fees'\n",
       "\\item 'Bonuses'\n",
       "\\item 'Total.cost'\n",
       "\\end{enumerate*}\n"
      ],
      "text/markdown": [
       "1. 'User.ID'\n",
       "2. 'Route.ID'\n",
       "3. 'Bike.Region.ID'\n",
       "4. 'Payment.Plan'\n",
       "5. 'Start.Hub'\n",
       "6. 'Start.Area'\n",
       "7. 'Start.Special.Area'\n",
       "8. 'Start.Latitude'\n",
       "9. 'Start.Longitude'\n",
       "10. 'Start.Date'\n",
       "11. 'Start.Time'\n",
       "12. 'End.Hub'\n",
       "13. 'End.Area'\n",
       "14. 'End.Special.Area'\n",
       "15. 'End.Latitude'\n",
       "16. 'End.Longitude'\n",
       "17. 'End.Date'\n",
       "18. 'End.Time'\n",
       "19. 'Member.Type'\n",
       "20. 'Trip.Type'\n",
       "21. 'Bike.ID'\n",
       "22. 'Bike.Name'\n",
       "23. 'Distance..Miles.'\n",
       "24. 'Duration'\n",
       "25. 'Rental.Access.Path'\n",
       "26. 'Multiple.Rental'\n",
       "27. 'Ride.cost'\n",
       "28. 'Fees'\n",
       "29. 'Bonuses'\n",
       "30. 'Total.cost'\n",
       "\n",
       "\n"
      ],
      "text/plain": [
       " [1] \"User.ID\"            \"Route.ID\"           \"Bike.Region.ID\"    \n",
       " [4] \"Payment.Plan\"       \"Start.Hub\"          \"Start.Area\"        \n",
       " [7] \"Start.Special.Area\" \"Start.Latitude\"     \"Start.Longitude\"   \n",
       "[10] \"Start.Date\"         \"Start.Time\"         \"End.Hub\"           \n",
       "[13] \"End.Area\"           \"End.Special.Area\"   \"End.Latitude\"      \n",
       "[16] \"End.Longitude\"      \"End.Date\"           \"End.Time\"          \n",
       "[19] \"Member.Type\"        \"Trip.Type\"          \"Bike.ID\"           \n",
       "[22] \"Bike.Name\"          \"Distance..Miles.\"   \"Duration\"          \n",
       "[25] \"Rental.Access.Path\" \"Multiple.Rental\"    \"Ride.cost\"         \n",
       "[28] \"Fees\"               \"Bonuses\"            \"Total.cost\"        "
      ]
     },
     "metadata": {},
     "output_type": "display_data"
    }
   ],
   "source": [
    "names(trips)"
   ]
  }
 ],
 "metadata": {
  "kernelspec": {
   "display_name": "R",
   "language": "R",
   "name": "ir"
  },
  "language_info": {
   "codemirror_mode": "r",
   "file_extension": ".r",
   "mimetype": "text/x-r-source",
   "name": "R",
   "pygments_lexer": "r",
   "version": "4.0.3"
  }
 },
 "nbformat": 4,
 "nbformat_minor": 5
}
