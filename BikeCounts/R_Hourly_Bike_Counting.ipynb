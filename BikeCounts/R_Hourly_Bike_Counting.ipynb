{
 "cells": [
  {
   "cell_type": "code",
   "execution_count": 24,
   "id": "5a777846",
   "metadata": {},
   "outputs": [],
   "source": [
    "options(warn = -1)"
   ]
  },
  {
   "cell_type": "code",
   "execution_count": 22,
   "id": "b85fce86",
   "metadata": {},
   "outputs": [
    {
     "name": "stderr",
     "output_type": "stream",
     "text": [
      "Warning message:\n",
      "\"package 'rgdal' was built under R version 4.0.5\"\n",
      "Loading required package: sp\n",
      "\n",
      "Warning message:\n",
      "\"package 'sp' was built under R version 4.0.5\"\n",
      "rgdal: version: 1.5-23, (SVN revision 1121)\n",
      "Geospatial Data Abstraction Library extensions to R successfully loaded\n",
      "Loaded GDAL runtime: GDAL 3.2.1, released 2020/12/29\n",
      "Path to GDAL shared files: C:/Users/clid1852/Documents/R/win-library/4.0/rgdal/gdal\n",
      "GDAL binary built with GEOS: TRUE \n",
      "Loaded PROJ runtime: Rel. 7.2.1, January 1st, 2021, [PJ_VERSION: 721]\n",
      "Path to PROJ shared files: C:/Users/clid1852/Documents/R/win-library/4.0/rgdal/proj\n",
      "PROJ CDN enabled: TRUE\n",
      "Linking to sp version:1.4-5\n",
      "To mute warnings of possible GDAL/OSR exportToProj4() degradation,\n",
      "use options(\"rgdal_show_exportToProj4_warnings\"=\"none\") before loading rgdal.\n",
      "Overwritten PROJ_LIB was C:/Users/clid1852/Documents/R/win-library/4.0/rgdal/proj\n",
      "\n"
     ]
    }
   ],
   "source": [
    "library(lubridate)\n",
    "library(rgdal)"
   ]
  },
  {
   "cell_type": "code",
   "execution_count": 1,
   "id": "512a35b7",
   "metadata": {},
   "outputs": [],
   "source": [
    "inpath <- 'T:/Data/COUNTS/Nonmotorized Counts/Summary Tables/Bicycle/'"
   ]
  },
  {
   "cell_type": "code",
   "execution_count": 2,
   "id": "38432429",
   "metadata": {},
   "outputs": [],
   "source": [
    "rawdata <- read.csv(paste0(inpath, 'Bicycle_HourlyForTableau.csv'))"
   ]
  },
  {
   "cell_type": "code",
   "execution_count": 3,
   "id": "1a14ba4d",
   "metadata": {},
   "outputs": [
    {
     "data": {
      "text/html": [
       "<style>\n",
       ".list-inline {list-style: none; margin:0; padding: 0}\n",
       ".list-inline>li {display: inline-block}\n",
       ".list-inline>li:not(:last-child)::after {content: \"\\00b7\"; padding: 0 .5ex}\n",
       "</style>\n",
       "<ol class=list-inline><li>'Direction'</li><li>'ObsHours'</li><li>'Location'</li><li>'LocationId'</li><li>'Day'</li><li>'Month'</li><li>'MonthDesc'</li><li>'Year'</li><li>'Date'</li><li>'Season'</li><li>'Weekday'</li><li>'IsHoliday'</li><li>'Period'</li><li>'DailyCounts'</li><li>'IsOneway'</li><li>'OnewayDirection'</li><li>'IsSidewalk'</li><li>'UoInSession'</li><li>'IsSpecialEvent'</li><li>'UniqueId'</li><li>'Hour'</li><li>'Hourly_Count'</li></ol>\n"
      ],
      "text/latex": [
       "\\begin{enumerate*}\n",
       "\\item 'Direction'\n",
       "\\item 'ObsHours'\n",
       "\\item 'Location'\n",
       "\\item 'LocationId'\n",
       "\\item 'Day'\n",
       "\\item 'Month'\n",
       "\\item 'MonthDesc'\n",
       "\\item 'Year'\n",
       "\\item 'Date'\n",
       "\\item 'Season'\n",
       "\\item 'Weekday'\n",
       "\\item 'IsHoliday'\n",
       "\\item 'Period'\n",
       "\\item 'DailyCounts'\n",
       "\\item 'IsOneway'\n",
       "\\item 'OnewayDirection'\n",
       "\\item 'IsSidewalk'\n",
       "\\item 'UoInSession'\n",
       "\\item 'IsSpecialEvent'\n",
       "\\item 'UniqueId'\n",
       "\\item 'Hour'\n",
       "\\item 'Hourly\\_Count'\n",
       "\\end{enumerate*}\n"
      ],
      "text/markdown": [
       "1. 'Direction'\n",
       "2. 'ObsHours'\n",
       "3. 'Location'\n",
       "4. 'LocationId'\n",
       "5. 'Day'\n",
       "6. 'Month'\n",
       "7. 'MonthDesc'\n",
       "8. 'Year'\n",
       "9. 'Date'\n",
       "10. 'Season'\n",
       "11. 'Weekday'\n",
       "12. 'IsHoliday'\n",
       "13. 'Period'\n",
       "14. 'DailyCounts'\n",
       "15. 'IsOneway'\n",
       "16. 'OnewayDirection'\n",
       "17. 'IsSidewalk'\n",
       "18. 'UoInSession'\n",
       "19. 'IsSpecialEvent'\n",
       "20. 'UniqueId'\n",
       "21. 'Hour'\n",
       "22. 'Hourly_Count'\n",
       "\n",
       "\n"
      ],
      "text/plain": [
       " [1] \"Direction\"       \"ObsHours\"        \"Location\"        \"LocationId\"     \n",
       " [5] \"Day\"             \"Month\"           \"MonthDesc\"       \"Year\"           \n",
       " [9] \"Date\"            \"Season\"          \"Weekday\"         \"IsHoliday\"      \n",
       "[13] \"Period\"          \"DailyCounts\"     \"IsOneway\"        \"OnewayDirection\"\n",
       "[17] \"IsSidewalk\"      \"UoInSession\"     \"IsSpecialEvent\"  \"UniqueId\"       \n",
       "[21] \"Hour\"            \"Hourly_Count\"   "
      ]
     },
     "metadata": {},
     "output_type": "display_data"
    }
   ],
   "source": [
    "names(rawdata)"
   ]
  },
  {
   "cell_type": "code",
   "execution_count": 5,
   "id": "be186249",
   "metadata": {},
   "outputs": [],
   "source": [
    "rawdata$Season <- ifelse(rawdata$MonthDesc == \"September\", \"Fall\", rawdata$Season)"
   ]
  },
  {
   "cell_type": "code",
   "execution_count": 30,
   "id": "c117f90d",
   "metadata": {},
   "outputs": [],
   "source": [
    "year <- 2021"
   ]
  },
  {
   "cell_type": "code",
   "execution_count": 6,
   "id": "482c0063",
   "metadata": {},
   "outputs": [],
   "source": [
    "data <- rawdata[rawdata$Year == year,]"
   ]
  },
  {
   "cell_type": "code",
   "execution_count": 7,
   "id": "b5107337",
   "metadata": {},
   "outputs": [],
   "source": [
    "locdata <- read.csv(\"T:/Data/COUNTS/Nonmotorized Counts/Supporting Data/Supporting Bicycle Data/CountLocationInformation.csv\")"
   ]
  },
  {
   "cell_type": "code",
   "execution_count": 10,
   "id": "c907b7dd",
   "metadata": {},
   "outputs": [
    {
     "data": {
      "text/html": [
       "<style>\n",
       ".list-inline {list-style: none; margin:0; padding: 0}\n",
       ".list-inline>li {display: inline-block}\n",
       ".list-inline>li:not(:last-child)::after {content: \"\\00b7\"; padding: 0 .5ex}\n",
       "</style>\n",
       "<ol class=list-inline><li>'LocationId'</li><li>'CountType'</li><li>'Direction'</li><li>'FacilityType'</li><li>'ArrowAngle'</li><li>'RoadWidth'</li><li>'IsAutomatic'</li><li>'Location'</li><li>'HasData'</li><li>'City'</li><li>'DoubleCountLocation'</li><li>'IsOneway'</li><li>'OnewayDirection'</li><li>'IsSidewalk'</li><li>'Latitude'</li><li>'Longitude'</li><li>'ImageFilePath'</li><li>'Site_Name'</li><li>'Location_Description'</li><li>'TAZ'</li><li>'Visual'</li></ol>\n"
      ],
      "text/latex": [
       "\\begin{enumerate*}\n",
       "\\item 'LocationId'\n",
       "\\item 'CountType'\n",
       "\\item 'Direction'\n",
       "\\item 'FacilityType'\n",
       "\\item 'ArrowAngle'\n",
       "\\item 'RoadWidth'\n",
       "\\item 'IsAutomatic'\n",
       "\\item 'Location'\n",
       "\\item 'HasData'\n",
       "\\item 'City'\n",
       "\\item 'DoubleCountLocation'\n",
       "\\item 'IsOneway'\n",
       "\\item 'OnewayDirection'\n",
       "\\item 'IsSidewalk'\n",
       "\\item 'Latitude'\n",
       "\\item 'Longitude'\n",
       "\\item 'ImageFilePath'\n",
       "\\item 'Site\\_Name'\n",
       "\\item 'Location\\_Description'\n",
       "\\item 'TAZ'\n",
       "\\item 'Visual'\n",
       "\\end{enumerate*}\n"
      ],
      "text/markdown": [
       "1. 'LocationId'\n",
       "2. 'CountType'\n",
       "3. 'Direction'\n",
       "4. 'FacilityType'\n",
       "5. 'ArrowAngle'\n",
       "6. 'RoadWidth'\n",
       "7. 'IsAutomatic'\n",
       "8. 'Location'\n",
       "9. 'HasData'\n",
       "10. 'City'\n",
       "11. 'DoubleCountLocation'\n",
       "12. 'IsOneway'\n",
       "13. 'OnewayDirection'\n",
       "14. 'IsSidewalk'\n",
       "15. 'Latitude'\n",
       "16. 'Longitude'\n",
       "17. 'ImageFilePath'\n",
       "18. 'Site_Name'\n",
       "19. 'Location_Description'\n",
       "20. 'TAZ'\n",
       "21. 'Visual'\n",
       "\n",
       "\n"
      ],
      "text/plain": [
       " [1] \"LocationId\"           \"CountType\"            \"Direction\"           \n",
       " [4] \"FacilityType\"         \"ArrowAngle\"           \"RoadWidth\"           \n",
       " [7] \"IsAutomatic\"          \"Location\"             \"HasData\"             \n",
       "[10] \"City\"                 \"DoubleCountLocation\"  \"IsOneway\"            \n",
       "[13] \"OnewayDirection\"      \"IsSidewalk\"           \"Latitude\"            \n",
       "[16] \"Longitude\"            \"ImageFilePath\"        \"Site_Name\"           \n",
       "[19] \"Location_Description\" \"TAZ\"                  \"Visual\"              "
      ]
     },
     "metadata": {},
     "output_type": "display_data"
    }
   ],
   "source": [
    "names(locdata)"
   ]
  },
  {
   "cell_type": "code",
   "execution_count": 44,
   "id": "638035b2",
   "metadata": {},
   "outputs": [],
   "source": [
    "locvars <- c('City', 'Location', 'Latitude', 'Longitude', 'Site_Name', \n",
    "             'DoubleCountLocation', 'IsOneway', 'OnewayDirection', \n",
    "             'IsSidewalk')"
   ]
  },
  {
   "cell_type": "code",
   "execution_count": 9,
   "id": "2a8a06c0",
   "metadata": {
    "scrolled": true
   },
   "outputs": [
    {
     "data": {
      "text/html": [
       "<style>\n",
       ".list-inline {list-style: none; margin:0; padding: 0}\n",
       ".list-inline>li {display: inline-block}\n",
       ".list-inline>li:not(:last-child)::after {content: \"\\00b7\"; padding: 0 .5ex}\n",
       "</style>\n",
       "<ol class=list-inline><li>205</li><li>21</li></ol>\n"
      ],
      "text/latex": [
       "\\begin{enumerate*}\n",
       "\\item 205\n",
       "\\item 21\n",
       "\\end{enumerate*}\n"
      ],
      "text/markdown": [
       "1. 205\n",
       "2. 21\n",
       "\n",
       "\n"
      ],
      "text/plain": [
       "[1] 205  21"
      ]
     },
     "metadata": {},
     "output_type": "display_data"
    }
   ],
   "source": [
    "dim(locdata)"
   ]
  },
  {
   "cell_type": "code",
   "execution_count": 12,
   "id": "d847921a",
   "metadata": {},
   "outputs": [
    {
     "data": {
      "text/html": [
       "205"
      ],
      "text/latex": [
       "205"
      ],
      "text/markdown": [
       "205"
      ],
      "text/plain": [
       "[1] 205"
      ]
     },
     "metadata": {},
     "output_type": "display_data"
    }
   ],
   "source": [
    "length(unique(locdata$Location))"
   ]
  },
  {
   "cell_type": "code",
   "execution_count": 13,
   "id": "1339fcff",
   "metadata": {},
   "outputs": [],
   "source": [
    "data$Date <- as.Date(data$Date, \"%Y-%m-%d\")"
   ]
  },
  {
   "cell_type": "code",
   "execution_count": 15,
   "id": "4f158d78",
   "metadata": {},
   "outputs": [],
   "source": [
    "data$DOY <- yday(data$Date)"
   ]
  },
  {
   "cell_type": "code",
   "execution_count": 36,
   "id": "b58a81e3",
   "metadata": {},
   "outputs": [],
   "source": [
    "datavars <- names(data)[which(!(names(data) %in% c('IsOneway', 'OnewayDirection', 'IsSidewalk')))]"
   ]
  },
  {
   "cell_type": "code",
   "execution_count": 45,
   "id": "56e5d2fe",
   "metadata": {},
   "outputs": [],
   "source": [
    "outdata <- merge(data[,datavars], locdata[,locvars], by = 'Location')"
   ]
  },
  {
   "cell_type": "code",
   "execution_count": 28,
   "id": "c46c2c53",
   "metadata": {},
   "outputs": [],
   "source": [
    "outpath <- \"T:/MPO/Bike&Ped/BikeCounting/StoryMap/BikeCounts/Output\""
   ]
  },
  {
   "cell_type": "code",
   "execution_count": 16,
   "id": "a2babf94",
   "metadata": {},
   "outputs": [],
   "source": [
    "year <- 2021"
   ]
  },
  {
   "cell_type": "code",
   "execution_count": 46,
   "id": "b357c15d",
   "metadata": {},
   "outputs": [],
   "source": [
    "write.csv(outdata, paste0(outpath, \"/Bike_Counts_\", year, \".csv\"), row.names = FALSE)"
   ]
  },
  {
   "cell_type": "code",
   "execution_count": 21,
   "id": "7fa4b02a",
   "metadata": {},
   "outputs": [
    {
     "data": {
      "text/html": [
       "<style>\n",
       ".list-inline {list-style: none; margin:0; padding: 0}\n",
       ".list-inline>li {display: inline-block}\n",
       ".list-inline>li:not(:last-child)::after {content: \"\\00b7\"; padding: 0 .5ex}\n",
       "</style>\n",
       "<ol class=list-inline><li>430200</li><li>30</li></ol>\n"
      ],
      "text/latex": [
       "\\begin{enumerate*}\n",
       "\\item 430200\n",
       "\\item 30\n",
       "\\end{enumerate*}\n"
      ],
      "text/markdown": [
       "1. 430200\n",
       "2. 30\n",
       "\n",
       "\n"
      ],
      "text/plain": [
       "[1] 430200     30"
      ]
     },
     "metadata": {},
     "output_type": "display_data"
    }
   ],
   "source": [
    "dim(outdata)"
   ]
  },
  {
   "cell_type": "code",
   "execution_count": 25,
   "id": "52e77d1e",
   "metadata": {},
   "outputs": [
    {
     "name": "stdout",
     "output_type": "stream",
     "text": [
      "OGR data source with driver: ESRI Shapefile \n",
      "Source: \"V:\\Data\\Transportation\", layer: \"MPO_Bound\"\n",
      "with 1 features\n",
      "It has 3 fields\n"
     ]
    }
   ],
   "source": [
    "MPOBound <- readOGR(dsn = \"V:/Data/Transportation\", layer=\"MPO_Bound\")"
   ]
  },
  {
   "cell_type": "code",
   "execution_count": 26,
   "id": "0ac160f0",
   "metadata": {},
   "outputs": [],
   "source": [
    "# require MPOBound\n",
    "df2spdf <- function(df, lon_col_name, lat_col_name, trans = TRUE){\n",
    "  lonlat <- sp::CRS(\"+proj=longlat +datum=WGS84 +ellps=WGS84 +towgs84=0,0,0\")\n",
    "  lon_col_no <- which(names(df)==lon_col_name)\n",
    "  lat_col_no <- which(names(df)==lat_col_name)\n",
    "  xy <- data.frame(df[,c(lon_col_no,lat_col_no)])\n",
    "  coordinates(xy) <- c(lon_col_name, lat_col_name)\n",
    "  proj4string(xy) <- lonlat\n",
    "  spdf <- sp::SpatialPointsDataFrame(coords = xy, data = df)\n",
    "  if(trans){\n",
    "    spdf <- spTransform(spdf, CRS(proj4string(MPOBound)))\n",
    "  }\n",
    "  return(spdf)\n",
    "}"
   ]
  },
  {
   "cell_type": "code",
   "execution_count": 47,
   "id": "180ed833",
   "metadata": {},
   "outputs": [],
   "source": [
    "outspdf <- df2spdf(outdata, 'Longitude', 'Latitude')"
   ]
  },
  {
   "cell_type": "code",
   "execution_count": 48,
   "id": "e3ed3e87",
   "metadata": {},
   "outputs": [],
   "source": [
    "writeOGR(outspdf, dsn=outpath, layer=paste0(\"Bike_Counts_\", year), \n",
    "         driver=\"ESRI Shapefile\", overwrite_layer=TRUE)"
   ]
  },
  {
   "cell_type": "code",
   "execution_count": 42,
   "id": "a07fc8e8",
   "metadata": {},
   "outputs": [
    {
     "data": {
      "text/html": [
       "<style>\n",
       ".list-inline {list-style: none; margin:0; padding: 0}\n",
       ".list-inline>li {display: inline-block}\n",
       ".list-inline>li:not(:last-child)::after {content: \"\\00b7\"; padding: 0 .5ex}\n",
       "</style>\n",
       "<ol class=list-inline><li>'Location'</li><li>'Direction'</li><li>'ObsHours'</li><li>'LocationId'</li><li>'Day'</li><li>'Month'</li><li>'MonthDesc'</li><li>'Year'</li><li>'Date'</li><li>'Season'</li><li>'Weekday'</li><li>'IsHoliday'</li><li>'Period'</li><li>'DailyCounts'</li><li>'UoInSession'</li><li>'IsSpecialEvent'</li><li>'UniqueId'</li><li>'Hour'</li><li>'Hourly_Count'</li><li>'DOY'</li><li>'Latitude'</li><li>'Longitude'</li><li>'Site_Name'</li><li>'DoubleCountLocation'</li><li>'IsOneway'</li><li>'OnewayDirection'</li><li>'IsSidewalk'</li></ol>\n"
      ],
      "text/latex": [
       "\\begin{enumerate*}\n",
       "\\item 'Location'\n",
       "\\item 'Direction'\n",
       "\\item 'ObsHours'\n",
       "\\item 'LocationId'\n",
       "\\item 'Day'\n",
       "\\item 'Month'\n",
       "\\item 'MonthDesc'\n",
       "\\item 'Year'\n",
       "\\item 'Date'\n",
       "\\item 'Season'\n",
       "\\item 'Weekday'\n",
       "\\item 'IsHoliday'\n",
       "\\item 'Period'\n",
       "\\item 'DailyCounts'\n",
       "\\item 'UoInSession'\n",
       "\\item 'IsSpecialEvent'\n",
       "\\item 'UniqueId'\n",
       "\\item 'Hour'\n",
       "\\item 'Hourly\\_Count'\n",
       "\\item 'DOY'\n",
       "\\item 'Latitude'\n",
       "\\item 'Longitude'\n",
       "\\item 'Site\\_Name'\n",
       "\\item 'DoubleCountLocation'\n",
       "\\item 'IsOneway'\n",
       "\\item 'OnewayDirection'\n",
       "\\item 'IsSidewalk'\n",
       "\\end{enumerate*}\n"
      ],
      "text/markdown": [
       "1. 'Location'\n",
       "2. 'Direction'\n",
       "3. 'ObsHours'\n",
       "4. 'LocationId'\n",
       "5. 'Day'\n",
       "6. 'Month'\n",
       "7. 'MonthDesc'\n",
       "8. 'Year'\n",
       "9. 'Date'\n",
       "10. 'Season'\n",
       "11. 'Weekday'\n",
       "12. 'IsHoliday'\n",
       "13. 'Period'\n",
       "14. 'DailyCounts'\n",
       "15. 'UoInSession'\n",
       "16. 'IsSpecialEvent'\n",
       "17. 'UniqueId'\n",
       "18. 'Hour'\n",
       "19. 'Hourly_Count'\n",
       "20. 'DOY'\n",
       "21. 'Latitude'\n",
       "22. 'Longitude'\n",
       "23. 'Site_Name'\n",
       "24. 'DoubleCountLocation'\n",
       "25. 'IsOneway'\n",
       "26. 'OnewayDirection'\n",
       "27. 'IsSidewalk'\n",
       "\n",
       "\n"
      ],
      "text/plain": [
       " [1] \"Location\"            \"Direction\"           \"ObsHours\"           \n",
       " [4] \"LocationId\"          \"Day\"                 \"Month\"              \n",
       " [7] \"MonthDesc\"           \"Year\"                \"Date\"               \n",
       "[10] \"Season\"              \"Weekday\"             \"IsHoliday\"          \n",
       "[13] \"Period\"              \"DailyCounts\"         \"UoInSession\"        \n",
       "[16] \"IsSpecialEvent\"      \"UniqueId\"            \"Hour\"               \n",
       "[19] \"Hourly_Count\"        \"DOY\"                 \"Latitude\"           \n",
       "[22] \"Longitude\"           \"Site_Name\"           \"DoubleCountLocation\"\n",
       "[25] \"IsOneway\"            \"OnewayDirection\"     \"IsSidewalk\"         "
      ]
     },
     "metadata": {},
     "output_type": "display_data"
    }
   ],
   "source": [
    "names(outspdf)"
   ]
  }
 ],
 "metadata": {
  "kernelspec": {
   "display_name": "R",
   "language": "R",
   "name": "ir"
  },
  "language_info": {
   "codemirror_mode": "r",
   "file_extension": ".r",
   "mimetype": "text/x-r-source",
   "name": "R",
   "pygments_lexer": "r",
   "version": "4.0.3"
  }
 },
 "nbformat": 4,
 "nbformat_minor": 5
}
