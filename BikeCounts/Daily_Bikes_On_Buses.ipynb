{
 "cells": [
  {
   "cell_type": "code",
   "execution_count": 1,
   "id": "08d44a0d",
   "metadata": {},
   "outputs": [],
   "source": [
    "options(warn = -1)"
   ]
  },
  {
   "cell_type": "code",
   "execution_count": 2,
   "id": "7ea6c621",
   "metadata": {},
   "outputs": [
    {
     "name": "stderr",
     "output_type": "stream",
     "text": [
      "\n",
      "Attaching package: 'lubridate'\n",
      "\n",
      "\n",
      "The following objects are masked from 'package:base':\n",
      "\n",
      "    date, intersect, setdiff, union\n",
      "\n",
      "\n",
      "Loading required package: sp\n",
      "\n",
      "rgdal: version: 1.5-23, (SVN revision 1121)\n",
      "Geospatial Data Abstraction Library extensions to R successfully loaded\n",
      "Loaded GDAL runtime: GDAL 3.2.1, released 2020/12/29\n",
      "Path to GDAL shared files: C:/Users/clid1852/Documents/R/win-library/4.0/rgdal/gdal\n",
      "GDAL binary built with GEOS: TRUE \n",
      "Loaded PROJ runtime: Rel. 7.2.1, January 1st, 2021, [PJ_VERSION: 721]\n",
      "Path to PROJ shared files: C:/Users/clid1852/Documents/R/win-library/4.0/rgdal/proj\n",
      "PROJ CDN enabled: TRUE\n",
      "Linking to sp version:1.4-5\n",
      "To mute warnings of possible GDAL/OSR exportToProj4() degradation,\n",
      "use options(\"rgdal_show_exportToProj4_warnings\"=\"none\") before loading rgdal.\n",
      "Overwritten PROJ_LIB was C:/Users/clid1852/Documents/R/win-library/4.0/rgdal/proj\n",
      "\n"
     ]
    }
   ],
   "source": [
    "library(lubridate)\n",
    "library(rgdal)"
   ]
  },
  {
   "cell_type": "code",
   "execution_count": 3,
   "id": "c46eaa11",
   "metadata": {},
   "outputs": [],
   "source": [
    "data <- read.csv('T:/Tableau/tableauBikesOnBuses/Datasources/MonthlyBikesOnBuses.csv')"
   ]
  },
  {
   "cell_type": "code",
   "execution_count": 4,
   "id": "2ee379c1",
   "metadata": {},
   "outputs": [
    {
     "data": {
      "text/html": [
       "<style>\n",
       ".list-inline {list-style: none; margin:0; padding: 0}\n",
       ".list-inline>li {display: inline-block}\n",
       ".list-inline>li:not(:last-child)::after {content: \"\\00b7\"; padding: 0 .5ex}\n",
       "</style>\n",
       "<ol class=list-inline><li>'stop'</li><li>'srv'</li><li>'date'</li><li>'block'</li><li>'trip_end'</li><li>'time'</li><li>'route'</li><li>'dir'</li><li>'stop_name'</li><li>'bus'</li><li>'odometer'</li><li>'desc'</li><li>'qty'</li><li>'MonthYear'</li><li>'longitude'</li><li>'latitude'</li></ol>\n"
      ],
      "text/latex": [
       "\\begin{enumerate*}\n",
       "\\item 'stop'\n",
       "\\item 'srv'\n",
       "\\item 'date'\n",
       "\\item 'block'\n",
       "\\item 'trip\\_end'\n",
       "\\item 'time'\n",
       "\\item 'route'\n",
       "\\item 'dir'\n",
       "\\item 'stop\\_name'\n",
       "\\item 'bus'\n",
       "\\item 'odometer'\n",
       "\\item 'desc'\n",
       "\\item 'qty'\n",
       "\\item 'MonthYear'\n",
       "\\item 'longitude'\n",
       "\\item 'latitude'\n",
       "\\end{enumerate*}\n"
      ],
      "text/markdown": [
       "1. 'stop'\n",
       "2. 'srv'\n",
       "3. 'date'\n",
       "4. 'block'\n",
       "5. 'trip_end'\n",
       "6. 'time'\n",
       "7. 'route'\n",
       "8. 'dir'\n",
       "9. 'stop_name'\n",
       "10. 'bus'\n",
       "11. 'odometer'\n",
       "12. 'desc'\n",
       "13. 'qty'\n",
       "14. 'MonthYear'\n",
       "15. 'longitude'\n",
       "16. 'latitude'\n",
       "\n",
       "\n"
      ],
      "text/plain": [
       " [1] \"stop\"      \"srv\"       \"date\"      \"block\"     \"trip_end\"  \"time\"     \n",
       " [7] \"route\"     \"dir\"       \"stop_name\" \"bus\"       \"odometer\"  \"desc\"     \n",
       "[13] \"qty\"       \"MonthYear\" \"longitude\" \"latitude\" "
      ]
     },
     "metadata": {},
     "output_type": "display_data"
    }
   ],
   "source": [
    "names(data)"
   ]
  },
  {
   "cell_type": "code",
   "execution_count": 5,
   "id": "cb04640e",
   "metadata": {},
   "outputs": [
    {
     "data": {
      "text/html": [
       "<table class=\"dataframe\">\n",
       "<caption>A data.frame: 6 × 16</caption>\n",
       "<thead>\n",
       "\t<tr><th></th><th scope=col>stop</th><th scope=col>srv</th><th scope=col>date</th><th scope=col>block</th><th scope=col>trip_end</th><th scope=col>time</th><th scope=col>route</th><th scope=col>dir</th><th scope=col>stop_name</th><th scope=col>bus</th><th scope=col>odometer</th><th scope=col>desc</th><th scope=col>qty</th><th scope=col>MonthYear</th><th scope=col>longitude</th><th scope=col>latitude</th></tr>\n",
       "\t<tr><th></th><th scope=col>&lt;int&gt;</th><th scope=col>&lt;chr&gt;</th><th scope=col>&lt;chr&gt;</th><th scope=col>&lt;int&gt;</th><th scope=col>&lt;chr&gt;</th><th scope=col>&lt;chr&gt;</th><th scope=col>&lt;chr&gt;</th><th scope=col>&lt;chr&gt;</th><th scope=col>&lt;chr&gt;</th><th scope=col>&lt;int&gt;</th><th scope=col>&lt;dbl&gt;</th><th scope=col>&lt;chr&gt;</th><th scope=col>&lt;int&gt;</th><th scope=col>&lt;chr&gt;</th><th scope=col>&lt;dbl&gt;</th><th scope=col>&lt;dbl&gt;</th></tr>\n",
       "</thead>\n",
       "<tbody>\n",
       "\t<tr><th scope=row>1</th><td>1</td><td>wkd</td><td>2013-01-18 00:00:00</td><td>67</td><td>1899-12-31 18:21:00</td><td>1899-12-31 18:10:00</td><td>11</td><td>O</td><td>E/S of 58th N of Main</td><td>1002</td><td> 98.11</td><td>bike on rack</td><td>1</td><td>January 2013</td><td>-122.9267</td><td>44.04634</td></tr>\n",
       "\t<tr><th scope=row>2</th><td>1</td><td>wkd</td><td>2013-01-10 00:00:00</td><td> 2</td><td>1899-12-31 09:56:00</td><td>1899-12-31 09:44:00</td><td>11</td><td>O</td><td>E/S of 58th N of Main</td><td>1114</td><td> 71.08</td><td>bike on rack</td><td>1</td><td>January 2013</td><td>-122.9267</td><td>44.04634</td></tr>\n",
       "\t<tr><th scope=row>3</th><td>1</td><td>wkd</td><td>2013-01-10 00:00:00</td><td>60</td><td>1899-12-31 16:54:00</td><td>1899-12-31 16:45:00</td><td>11</td><td>O</td><td>E/S of 58th N of Main</td><td>7102</td><td>119.29</td><td>bike on rack</td><td>1</td><td>January 2013</td><td>-122.9267</td><td>44.04634</td></tr>\n",
       "\t<tr><th scope=row>4</th><td>1</td><td>wkd</td><td>2013-01-29 00:00:00</td><td>60</td><td>1899-12-31 17:52:00</td><td>1899-12-31 17:39:00</td><td>11</td><td>O</td><td>E/S of 58th N of Main</td><td>7102</td><td>132.76</td><td>bike on rack</td><td>1</td><td>January 2013</td><td>-122.9267</td><td>44.04634</td></tr>\n",
       "\t<tr><th scope=row>5</th><td>1</td><td>wkd</td><td>2013-01-09 00:00:00</td><td>25</td><td>1899-12-31 15:35:00</td><td>1899-12-31 15:20:00</td><td>11</td><td>O</td><td>E/S of 58th N of Main</td><td>1004</td><td>126.65</td><td>bike on rack</td><td>1</td><td>January 2013</td><td>-122.9267</td><td>44.04634</td></tr>\n",
       "\t<tr><th scope=row>6</th><td>2</td><td>wkd</td><td>2013-01-30 00:00:00</td><td>48</td><td>1899-12-31 08:27:00</td><td>1899-12-31 08:13:00</td><td>11</td><td>O</td><td>E/S of 58th S of D   </td><td>6218</td><td>  5.11</td><td>bike on rack</td><td>1</td><td>January 2013</td><td>-122.9262</td><td>44.04946</td></tr>\n",
       "</tbody>\n",
       "</table>\n"
      ],
      "text/latex": [
       "A data.frame: 6 × 16\n",
       "\\begin{tabular}{r|llllllllllllllll}\n",
       "  & stop & srv & date & block & trip\\_end & time & route & dir & stop\\_name & bus & odometer & desc & qty & MonthYear & longitude & latitude\\\\\n",
       "  & <int> & <chr> & <chr> & <int> & <chr> & <chr> & <chr> & <chr> & <chr> & <int> & <dbl> & <chr> & <int> & <chr> & <dbl> & <dbl>\\\\\n",
       "\\hline\n",
       "\t1 & 1 & wkd & 2013-01-18 00:00:00 & 67 & 1899-12-31 18:21:00 & 1899-12-31 18:10:00 & 11 & O & E/S of 58th N of Main & 1002 &  98.11 & bike on rack & 1 & January 2013 & -122.9267 & 44.04634\\\\\n",
       "\t2 & 1 & wkd & 2013-01-10 00:00:00 &  2 & 1899-12-31 09:56:00 & 1899-12-31 09:44:00 & 11 & O & E/S of 58th N of Main & 1114 &  71.08 & bike on rack & 1 & January 2013 & -122.9267 & 44.04634\\\\\n",
       "\t3 & 1 & wkd & 2013-01-10 00:00:00 & 60 & 1899-12-31 16:54:00 & 1899-12-31 16:45:00 & 11 & O & E/S of 58th N of Main & 7102 & 119.29 & bike on rack & 1 & January 2013 & -122.9267 & 44.04634\\\\\n",
       "\t4 & 1 & wkd & 2013-01-29 00:00:00 & 60 & 1899-12-31 17:52:00 & 1899-12-31 17:39:00 & 11 & O & E/S of 58th N of Main & 7102 & 132.76 & bike on rack & 1 & January 2013 & -122.9267 & 44.04634\\\\\n",
       "\t5 & 1 & wkd & 2013-01-09 00:00:00 & 25 & 1899-12-31 15:35:00 & 1899-12-31 15:20:00 & 11 & O & E/S of 58th N of Main & 1004 & 126.65 & bike on rack & 1 & January 2013 & -122.9267 & 44.04634\\\\\n",
       "\t6 & 2 & wkd & 2013-01-30 00:00:00 & 48 & 1899-12-31 08:27:00 & 1899-12-31 08:13:00 & 11 & O & E/S of 58th S of D    & 6218 &   5.11 & bike on rack & 1 & January 2013 & -122.9262 & 44.04946\\\\\n",
       "\\end{tabular}\n"
      ],
      "text/markdown": [
       "\n",
       "A data.frame: 6 × 16\n",
       "\n",
       "| <!--/--> | stop &lt;int&gt; | srv &lt;chr&gt; | date &lt;chr&gt; | block &lt;int&gt; | trip_end &lt;chr&gt; | time &lt;chr&gt; | route &lt;chr&gt; | dir &lt;chr&gt; | stop_name &lt;chr&gt; | bus &lt;int&gt; | odometer &lt;dbl&gt; | desc &lt;chr&gt; | qty &lt;int&gt; | MonthYear &lt;chr&gt; | longitude &lt;dbl&gt; | latitude &lt;dbl&gt; |\n",
       "|---|---|---|---|---|---|---|---|---|---|---|---|---|---|---|---|---|\n",
       "| 1 | 1 | wkd | 2013-01-18 00:00:00 | 67 | 1899-12-31 18:21:00 | 1899-12-31 18:10:00 | 11 | O | E/S of 58th N of Main | 1002 |  98.11 | bike on rack | 1 | January 2013 | -122.9267 | 44.04634 |\n",
       "| 2 | 1 | wkd | 2013-01-10 00:00:00 |  2 | 1899-12-31 09:56:00 | 1899-12-31 09:44:00 | 11 | O | E/S of 58th N of Main | 1114 |  71.08 | bike on rack | 1 | January 2013 | -122.9267 | 44.04634 |\n",
       "| 3 | 1 | wkd | 2013-01-10 00:00:00 | 60 | 1899-12-31 16:54:00 | 1899-12-31 16:45:00 | 11 | O | E/S of 58th N of Main | 7102 | 119.29 | bike on rack | 1 | January 2013 | -122.9267 | 44.04634 |\n",
       "| 4 | 1 | wkd | 2013-01-29 00:00:00 | 60 | 1899-12-31 17:52:00 | 1899-12-31 17:39:00 | 11 | O | E/S of 58th N of Main | 7102 | 132.76 | bike on rack | 1 | January 2013 | -122.9267 | 44.04634 |\n",
       "| 5 | 1 | wkd | 2013-01-09 00:00:00 | 25 | 1899-12-31 15:35:00 | 1899-12-31 15:20:00 | 11 | O | E/S of 58th N of Main | 1004 | 126.65 | bike on rack | 1 | January 2013 | -122.9267 | 44.04634 |\n",
       "| 6 | 2 | wkd | 2013-01-30 00:00:00 | 48 | 1899-12-31 08:27:00 | 1899-12-31 08:13:00 | 11 | O | E/S of 58th S of D    | 6218 |   5.11 | bike on rack | 1 | January 2013 | -122.9262 | 44.04946 |\n",
       "\n"
      ],
      "text/plain": [
       "  stop srv date                block trip_end            time               \n",
       "1 1    wkd 2013-01-18 00:00:00 67    1899-12-31 18:21:00 1899-12-31 18:10:00\n",
       "2 1    wkd 2013-01-10 00:00:00  2    1899-12-31 09:56:00 1899-12-31 09:44:00\n",
       "3 1    wkd 2013-01-10 00:00:00 60    1899-12-31 16:54:00 1899-12-31 16:45:00\n",
       "4 1    wkd 2013-01-29 00:00:00 60    1899-12-31 17:52:00 1899-12-31 17:39:00\n",
       "5 1    wkd 2013-01-09 00:00:00 25    1899-12-31 15:35:00 1899-12-31 15:20:00\n",
       "6 2    wkd 2013-01-30 00:00:00 48    1899-12-31 08:27:00 1899-12-31 08:13:00\n",
       "  route dir stop_name             bus  odometer desc         qty MonthYear   \n",
       "1 11    O   E/S of 58th N of Main 1002  98.11   bike on rack 1   January 2013\n",
       "2 11    O   E/S of 58th N of Main 1114  71.08   bike on rack 1   January 2013\n",
       "3 11    O   E/S of 58th N of Main 7102 119.29   bike on rack 1   January 2013\n",
       "4 11    O   E/S of 58th N of Main 7102 132.76   bike on rack 1   January 2013\n",
       "5 11    O   E/S of 58th N of Main 1004 126.65   bike on rack 1   January 2013\n",
       "6 11    O   E/S of 58th S of D    6218   5.11   bike on rack 1   January 2013\n",
       "  longitude latitude\n",
       "1 -122.9267 44.04634\n",
       "2 -122.9267 44.04634\n",
       "3 -122.9267 44.04634\n",
       "4 -122.9267 44.04634\n",
       "5 -122.9267 44.04634\n",
       "6 -122.9262 44.04946"
      ]
     },
     "metadata": {},
     "output_type": "display_data"
    }
   ],
   "source": [
    "head(data)"
   ]
  },
  {
   "cell_type": "code",
   "execution_count": 6,
   "id": "bd898d07",
   "metadata": {},
   "outputs": [],
   "source": [
    "data$date <- as.Date(data$date, \"%Y-%m-%d\")"
   ]
  },
  {
   "cell_type": "code",
   "execution_count": 7,
   "id": "13f5d878",
   "metadata": {},
   "outputs": [],
   "source": [
    "data$year <- year(data$date)"
   ]
  },
  {
   "cell_type": "code",
   "execution_count": 8,
   "id": "daa20b53",
   "metadata": {},
   "outputs": [],
   "source": [
    "dat <- data[data$year == 2021,]"
   ]
  },
  {
   "cell_type": "code",
   "execution_count": 9,
   "id": "33a8915a",
   "metadata": {},
   "outputs": [
    {
     "data": {
      "text/html": [
       "<style>\n",
       ".list-inline {list-style: none; margin:0; padding: 0}\n",
       ".list-inline>li {display: inline-block}\n",
       ".list-inline>li:not(:last-child)::after {content: \"\\00b7\"; padding: 0 .5ex}\n",
       "</style>\n",
       "<ol class=list-inline><li>49945</li><li>17</li></ol>\n"
      ],
      "text/latex": [
       "\\begin{enumerate*}\n",
       "\\item 49945\n",
       "\\item 17\n",
       "\\end{enumerate*}\n"
      ],
      "text/markdown": [
       "1. 49945\n",
       "2. 17\n",
       "\n",
       "\n"
      ],
      "text/plain": [
       "[1] 49945    17"
      ]
     },
     "metadata": {},
     "output_type": "display_data"
    }
   ],
   "source": [
    "dim(dat)"
   ]
  },
  {
   "cell_type": "code",
   "execution_count": 10,
   "id": "fdd5c250",
   "metadata": {},
   "outputs": [],
   "source": [
    "dat$weekday <- as.character(wday(dat$date, label=TRUE, abbr=FALSE))"
   ]
  },
  {
   "cell_type": "code",
   "execution_count": 11,
   "id": "1db14236",
   "metadata": {},
   "outputs": [],
   "source": [
    "dat$month <- months(dat$date)"
   ]
  },
  {
   "cell_type": "code",
   "execution_count": 12,
   "id": "1308aaed",
   "metadata": {},
   "outputs": [],
   "source": [
    "dat$season <- ifelse(dat$month %in% c(\"December\", \"January\", \"February\"), \"Winter\",\n",
    "                    ifelse(dat$month %in% c(\"March\", \"April\", \"May\"), \"Spring\",\n",
    "                          ifelse(dat$month %in% c(\"June\", \"July\", \"August\"), \"Summer\", \"Fall\")))"
   ]
  },
  {
   "cell_type": "code",
   "execution_count": 13,
   "id": "66c60517",
   "metadata": {},
   "outputs": [],
   "source": [
    "dat$seasonOrder <- ifelse(dat$season == \"Spring\", 1, \n",
    "                              ifelse(dat$season == \"Summer\", 2, \n",
    "                                     ifelse(dat$season == \"Fall\", 3, 4)))"
   ]
  },
  {
   "cell_type": "code",
   "execution_count": 14,
   "id": "9b7a29ff",
   "metadata": {},
   "outputs": [],
   "source": [
    "dat$monthOrder <- ifelse(dat$month == \"January\", 1, \n",
    "                           ifelse(dat$month == \"February\", 2, \n",
    "                               ifelse(dat$month == \"March\", 3, \n",
    "                                   ifelse(dat$month == \"April\", 4, \n",
    "                                       ifelse(dat$month == \"May\", 5, \n",
    "                                           ifelse(dat$month == \"June\", 6, \n",
    "                                               ifelse(dat$month == \"July\", 7, \n",
    "                                                   ifelse(dat$month == \"August\", 8, \n",
    "                                                       ifelse(dat$month == \"September\", 9, \n",
    "                                                           ifelse(dat$month == \"October\", 10, \n",
    "                                                               ifelse(dat$month == \"November\", 11, 12)))))))))))"
   ]
  },
  {
   "cell_type": "code",
   "execution_count": 15,
   "id": "26fe3ab3",
   "metadata": {},
   "outputs": [],
   "source": [
    "dat$weekdayOrder <- ifelse(dat$weekday == \"Monday\", 1, \n",
    "                              ifelse(dat$weekday == \"Tuesday\", 2, \n",
    "                                     ifelse(dat$weekday == \"Wednesday\", 3, \n",
    "                                     ifelse(dat$weekday == \"Thursday\", 4, \n",
    "                                            ifelse(dat$weekday == \"Friday\", 5, \n",
    "                                                ifelse(dat$weekday == \"Saturday\", 6, 7))))))"
   ]
  },
  {
   "cell_type": "code",
   "execution_count": 16,
   "id": "98d925ac",
   "metadata": {},
   "outputs": [],
   "source": [
    "datedf <- unique(dat[,c('date', 'season', 'month', 'weekday', 'seasonOrder', 'monthOrder', 'weekdayOrder')])"
   ]
  },
  {
   "cell_type": "code",
   "execution_count": 17,
   "id": "08b3a9d1",
   "metadata": {},
   "outputs": [],
   "source": [
    "stop.path <- \"T:/Data/LTD Data/StopsSince2011\""
   ]
  },
  {
   "cell_type": "code",
   "execution_count": 18,
   "id": "8971d28e",
   "metadata": {},
   "outputs": [],
   "source": [
    "stops <- readOGR(dsn = stop.path, layer = \"April 2020\", verbose = FALSE, \n",
    "                   stringsAsFactors = FALSE)"
   ]
  },
  {
   "cell_type": "code",
   "execution_count": 19,
   "id": "2a110d2d",
   "metadata": {},
   "outputs": [
    {
     "data": {
      "text/html": [
       "<style>\n",
       ".list-inline {list-style: none; margin:0; padding: 0}\n",
       ".list-inline>li {display: inline-block}\n",
       ".list-inline>li:not(:last-child)::after {content: \"\\00b7\"; padding: 0 .5ex}\n",
       "</style>\n",
       "<ol class=list-inline><li>'stop_numbe'</li><li>'stop_name'</li><li>'latitude'</li><li>'longitude'</li><li>'AvgBoards'</li></ol>\n"
      ],
      "text/latex": [
       "\\begin{enumerate*}\n",
       "\\item 'stop\\_numbe'\n",
       "\\item 'stop\\_name'\n",
       "\\item 'latitude'\n",
       "\\item 'longitude'\n",
       "\\item 'AvgBoards'\n",
       "\\end{enumerate*}\n"
      ],
      "text/markdown": [
       "1. 'stop_numbe'\n",
       "2. 'stop_name'\n",
       "3. 'latitude'\n",
       "4. 'longitude'\n",
       "5. 'AvgBoards'\n",
       "\n",
       "\n"
      ],
      "text/plain": [
       "[1] \"stop_numbe\" \"stop_name\"  \"latitude\"   \"longitude\"  \"AvgBoards\" "
      ]
     },
     "metadata": {},
     "output_type": "display_data"
    }
   ],
   "source": [
    "names(stops)"
   ]
  },
  {
   "cell_type": "code",
   "execution_count": 20,
   "id": "87759aea",
   "metadata": {},
   "outputs": [
    {
     "data": {
      "text/html": [
       "TRUE"
      ],
      "text/latex": [
       "TRUE"
      ],
      "text/markdown": [
       "TRUE"
      ],
      "text/plain": [
       "[1] TRUE"
      ]
     },
     "metadata": {},
     "output_type": "display_data"
    }
   ],
   "source": [
    "dim(stops@data)[1] == length(unique(stops$stop_numbe))"
   ]
  },
  {
   "cell_type": "code",
   "execution_count": 21,
   "id": "3ab54e2b",
   "metadata": {},
   "outputs": [
    {
     "data": {
      "text/html": [
       "<style>\n",
       ".list-inline {list-style: none; margin:0; padding: 0}\n",
       ".list-inline>li {display: inline-block}\n",
       ".list-inline>li:not(:last-child)::after {content: \"\\00b7\"; padding: 0 .5ex}\n",
       "</style>\n",
       "<ol class=list-inline><li>1</li><li>1</li><li>1</li><li>1</li><li>1</li><li>2</li></ol>\n"
      ],
      "text/latex": [
       "\\begin{enumerate*}\n",
       "\\item 1\n",
       "\\item 1\n",
       "\\item 1\n",
       "\\item 1\n",
       "\\item 1\n",
       "\\item 2\n",
       "\\end{enumerate*}\n"
      ],
      "text/markdown": [
       "1. 1\n",
       "2. 1\n",
       "3. 1\n",
       "4. 1\n",
       "5. 1\n",
       "6. 2\n",
       "\n",
       "\n"
      ],
      "text/plain": [
       "[1] 1 1 1 1 1 2"
      ]
     },
     "metadata": {},
     "output_type": "display_data"
    }
   ],
   "source": [
    "head(data$stop)"
   ]
  },
  {
   "cell_type": "code",
   "execution_count": 22,
   "id": "e8e625ea",
   "metadata": {},
   "outputs": [
    {
     "data": {
      "text/html": [
       "<style>\n",
       ".list-inline {list-style: none; margin:0; padding: 0}\n",
       ".list-inline>li {display: inline-block}\n",
       ".list-inline>li:not(:last-child)::after {content: \"\\00b7\"; padding: 0 .5ex}\n",
       "</style>\n",
       "<ol class=list-inline><li>'00001'</li><li>'00002'</li><li>'00004'</li><li>'00006'</li><li>'00007'</li><li>'00008'</li></ol>\n"
      ],
      "text/latex": [
       "\\begin{enumerate*}\n",
       "\\item '00001'\n",
       "\\item '00002'\n",
       "\\item '00004'\n",
       "\\item '00006'\n",
       "\\item '00007'\n",
       "\\item '00008'\n",
       "\\end{enumerate*}\n"
      ],
      "text/markdown": [
       "1. '00001'\n",
       "2. '00002'\n",
       "3. '00004'\n",
       "4. '00006'\n",
       "5. '00007'\n",
       "6. '00008'\n",
       "\n",
       "\n"
      ],
      "text/plain": [
       "[1] \"00001\" \"00002\" \"00004\" \"00006\" \"00007\" \"00008\""
      ]
     },
     "metadata": {},
     "output_type": "display_data"
    }
   ],
   "source": [
    "head(stops$stop_numbe)"
   ]
  },
  {
   "cell_type": "code",
   "execution_count": 23,
   "id": "afbdeae0",
   "metadata": {},
   "outputs": [],
   "source": [
    "zeros <- c(\"0\", \"00\", \"000\", \"0000\")"
   ]
  },
  {
   "cell_type": "code",
   "execution_count": 24,
   "id": "baaa3355",
   "metadata": {},
   "outputs": [],
   "source": [
    "dat$stop <- ifelse(nchar(dat$stop) == 5, dat$stop,\n",
    "                    paste0(zeros[(5 - nchar(dat$stop))], dat$stop))"
   ]
  },
  {
   "cell_type": "code",
   "execution_count": 25,
   "id": "c092c49d",
   "metadata": {},
   "outputs": [],
   "source": [
    "stopdf <- unique(dat[,c('stop', 'route')])"
   ]
  },
  {
   "cell_type": "code",
   "execution_count": 26,
   "id": "c411745b",
   "metadata": {},
   "outputs": [],
   "source": [
    "names(stops)[1] <- \"stop\""
   ]
  },
  {
   "cell_type": "code",
   "execution_count": 27,
   "id": "b5d6d2db",
   "metadata": {},
   "outputs": [],
   "source": [
    "stopdf <- merge(stopdf, stops@data[, -dim(stops)[2]], by=\"stop\")"
   ]
  },
  {
   "cell_type": "code",
   "execution_count": 28,
   "id": "01c70e06",
   "metadata": {},
   "outputs": [],
   "source": [
    "aggdata <- aggregate(x=list(qty = dat$qty), \n",
    "                     by=list(date = dat$date, stop = dat$stop), \n",
    "                     FUN=sum)"
   ]
  },
  {
   "cell_type": "code",
   "execution_count": 36,
   "id": "589d0512",
   "metadata": {},
   "outputs": [
    {
     "data": {
      "text/html": [
       "<table class=\"dataframe\">\n",
       "<caption>A data.frame: 6 × 15</caption>\n",
       "<thead>\n",
       "\t<tr><th></th><th scope=col>date</th><th scope=col>stop</th><th scope=col>qty</th><th scope=col>out_qty</th><th scope=col>in_qty</th><th scope=col>route</th><th scope=col>stop_name</th><th scope=col>latitude</th><th scope=col>longitude</th><th scope=col>season</th><th scope=col>month</th><th scope=col>weekday</th><th scope=col>seasonOrder</th><th scope=col>monthOrder</th><th scope=col>weekdayOrder</th></tr>\n",
       "\t<tr><th></th><th scope=col>&lt;date&gt;</th><th scope=col>&lt;chr&gt;</th><th scope=col>&lt;int&gt;</th><th scope=col>&lt;int&gt;</th><th scope=col>&lt;int&gt;</th><th scope=col>&lt;chr&gt;</th><th scope=col>&lt;chr&gt;</th><th scope=col>&lt;dbl&gt;</th><th scope=col>&lt;dbl&gt;</th><th scope=col>&lt;chr&gt;</th><th scope=col>&lt;chr&gt;</th><th scope=col>&lt;chr&gt;</th><th scope=col>&lt;dbl&gt;</th><th scope=col>&lt;dbl&gt;</th><th scope=col>&lt;dbl&gt;</th></tr>\n",
       "</thead>\n",
       "<tbody>\n",
       "\t<tr><th scope=row>1</th><td>2021-01-07</td><td>01897</td><td>2</td><td>1</td><td>1</td><td>41</td><td>S/S of 11th W of Commerce (Walmart)</td><td>44.04799</td><td>-123.1701</td><td>Winter</td><td>January</td><td>Thursday</td><td>4</td><td>1</td><td>4</td></tr>\n",
       "\t<tr><th scope=row>2</th><td>2021-01-07</td><td>01897</td><td>2</td><td>1</td><td>1</td><td>36</td><td>S/S of 11th W of Commerce (Walmart)</td><td>44.04799</td><td>-123.1701</td><td>Winter</td><td>January</td><td>Thursday</td><td>4</td><td>1</td><td>4</td></tr>\n",
       "\t<tr><th scope=row>3</th><td>2021-01-07</td><td>01897</td><td>2</td><td>1</td><td>1</td><td>93</td><td>S/S of 11th W of Commerce (Walmart)</td><td>44.04799</td><td>-123.1701</td><td>Winter</td><td>January</td><td>Thursday</td><td>4</td><td>1</td><td>4</td></tr>\n",
       "\t<tr><th scope=row>4</th><td>2021-01-08</td><td>01897</td><td>3</td><td>2</td><td>1</td><td>36</td><td>S/S of 11th W of Commerce (Walmart)</td><td>44.04799</td><td>-123.1701</td><td>Winter</td><td>January</td><td>Friday  </td><td>4</td><td>1</td><td>5</td></tr>\n",
       "\t<tr><th scope=row>5</th><td>2021-01-08</td><td>01897</td><td>3</td><td>2</td><td>1</td><td>93</td><td>S/S of 11th W of Commerce (Walmart)</td><td>44.04799</td><td>-123.1701</td><td>Winter</td><td>January</td><td>Friday  </td><td>4</td><td>1</td><td>5</td></tr>\n",
       "\t<tr><th scope=row>6</th><td>2021-01-08</td><td>01897</td><td>3</td><td>2</td><td>1</td><td>41</td><td>S/S of 11th W of Commerce (Walmart)</td><td>44.04799</td><td>-123.1701</td><td>Winter</td><td>January</td><td>Friday  </td><td>4</td><td>1</td><td>5</td></tr>\n",
       "</tbody>\n",
       "</table>\n"
      ],
      "text/latex": [
       "A data.frame: 6 × 15\n",
       "\\begin{tabular}{r|lllllllllllllll}\n",
       "  & date & stop & qty & out\\_qty & in\\_qty & route & stop\\_name & latitude & longitude & season & month & weekday & seasonOrder & monthOrder & weekdayOrder\\\\\n",
       "  & <date> & <chr> & <int> & <int> & <int> & <chr> & <chr> & <dbl> & <dbl> & <chr> & <chr> & <chr> & <dbl> & <dbl> & <dbl>\\\\\n",
       "\\hline\n",
       "\t1 & 2021-01-07 & 01897 & 2 & 1 & 1 & 41 & S/S of 11th W of Commerce (Walmart) & 44.04799 & -123.1701 & Winter & January & Thursday & 4 & 1 & 4\\\\\n",
       "\t2 & 2021-01-07 & 01897 & 2 & 1 & 1 & 36 & S/S of 11th W of Commerce (Walmart) & 44.04799 & -123.1701 & Winter & January & Thursday & 4 & 1 & 4\\\\\n",
       "\t3 & 2021-01-07 & 01897 & 2 & 1 & 1 & 93 & S/S of 11th W of Commerce (Walmart) & 44.04799 & -123.1701 & Winter & January & Thursday & 4 & 1 & 4\\\\\n",
       "\t4 & 2021-01-08 & 01897 & 3 & 2 & 1 & 36 & S/S of 11th W of Commerce (Walmart) & 44.04799 & -123.1701 & Winter & January & Friday   & 4 & 1 & 5\\\\\n",
       "\t5 & 2021-01-08 & 01897 & 3 & 2 & 1 & 93 & S/S of 11th W of Commerce (Walmart) & 44.04799 & -123.1701 & Winter & January & Friday   & 4 & 1 & 5\\\\\n",
       "\t6 & 2021-01-08 & 01897 & 3 & 2 & 1 & 41 & S/S of 11th W of Commerce (Walmart) & 44.04799 & -123.1701 & Winter & January & Friday   & 4 & 1 & 5\\\\\n",
       "\\end{tabular}\n"
      ],
      "text/markdown": [
       "\n",
       "A data.frame: 6 × 15\n",
       "\n",
       "| <!--/--> | date &lt;date&gt; | stop &lt;chr&gt; | qty &lt;int&gt; | out_qty &lt;int&gt; | in_qty &lt;int&gt; | route &lt;chr&gt; | stop_name &lt;chr&gt; | latitude &lt;dbl&gt; | longitude &lt;dbl&gt; | season &lt;chr&gt; | month &lt;chr&gt; | weekday &lt;chr&gt; | seasonOrder &lt;dbl&gt; | monthOrder &lt;dbl&gt; | weekdayOrder &lt;dbl&gt; |\n",
       "|---|---|---|---|---|---|---|---|---|---|---|---|---|---|---|---|\n",
       "| 1 | 2021-01-07 | 01897 | 2 | 1 | 1 | 41 | S/S of 11th W of Commerce (Walmart) | 44.04799 | -123.1701 | Winter | January | Thursday | 4 | 1 | 4 |\n",
       "| 2 | 2021-01-07 | 01897 | 2 | 1 | 1 | 36 | S/S of 11th W of Commerce (Walmart) | 44.04799 | -123.1701 | Winter | January | Thursday | 4 | 1 | 4 |\n",
       "| 3 | 2021-01-07 | 01897 | 2 | 1 | 1 | 93 | S/S of 11th W of Commerce (Walmart) | 44.04799 | -123.1701 | Winter | January | Thursday | 4 | 1 | 4 |\n",
       "| 4 | 2021-01-08 | 01897 | 3 | 2 | 1 | 36 | S/S of 11th W of Commerce (Walmart) | 44.04799 | -123.1701 | Winter | January | Friday   | 4 | 1 | 5 |\n",
       "| 5 | 2021-01-08 | 01897 | 3 | 2 | 1 | 93 | S/S of 11th W of Commerce (Walmart) | 44.04799 | -123.1701 | Winter | January | Friday   | 4 | 1 | 5 |\n",
       "| 6 | 2021-01-08 | 01897 | 3 | 2 | 1 | 41 | S/S of 11th W of Commerce (Walmart) | 44.04799 | -123.1701 | Winter | January | Friday   | 4 | 1 | 5 |\n",
       "\n"
      ],
      "text/plain": [
       "  date       stop  qty out_qty in_qty route stop_name                          \n",
       "1 2021-01-07 01897 2   1       1      41    S/S of 11th W of Commerce (Walmart)\n",
       "2 2021-01-07 01897 2   1       1      36    S/S of 11th W of Commerce (Walmart)\n",
       "3 2021-01-07 01897 2   1       1      93    S/S of 11th W of Commerce (Walmart)\n",
       "4 2021-01-08 01897 3   2       1      36    S/S of 11th W of Commerce (Walmart)\n",
       "5 2021-01-08 01897 3   2       1      93    S/S of 11th W of Commerce (Walmart)\n",
       "6 2021-01-08 01897 3   2       1      41    S/S of 11th W of Commerce (Walmart)\n",
       "  latitude longitude season month   weekday  seasonOrder monthOrder\n",
       "1 44.04799 -123.1701 Winter January Thursday 4           1         \n",
       "2 44.04799 -123.1701 Winter January Thursday 4           1         \n",
       "3 44.04799 -123.1701 Winter January Thursday 4           1         \n",
       "4 44.04799 -123.1701 Winter January Friday   4           1         \n",
       "5 44.04799 -123.1701 Winter January Friday   4           1         \n",
       "6 44.04799 -123.1701 Winter January Friday   4           1         \n",
       "  weekdayOrder\n",
       "1 4           \n",
       "2 4           \n",
       "3 4           \n",
       "4 5           \n",
       "5 5           \n",
       "6 5           "
      ]
     },
     "metadata": {},
     "output_type": "display_data"
    }
   ],
   "source": [
    "head(aggdata)"
   ]
  },
  {
   "cell_type": "code",
   "execution_count": 30,
   "id": "dc87d841",
   "metadata": {},
   "outputs": [],
   "source": [
    "get_aggdata <- function(df=dat, dir=\"O\"){\n",
    "    df <- df[df$dir == dir,]\n",
    "    aggdata <- aggregate(x=list(qty = df$qty), \n",
    "                     by=list(date = df$date, stop = df$stop), \n",
    "                     FUN=sum)\n",
    "\n",
    "    if(dir==\"O\"){\n",
    "        names(aggdata)[3] <- \"out_qty\"\n",
    "    }else{\n",
    "        names(aggdata)[3] <- \"in_qty\"\n",
    "    }\n",
    "    \n",
    "    return(aggdata)    \n",
    "}"
   ]
  },
  {
   "cell_type": "code",
   "execution_count": 31,
   "id": "1a3701fa",
   "metadata": {},
   "outputs": [],
   "source": [
    "aggdata <- merge(aggdata, get_aggdata(df=dat, dir=\"O\"), by=c(\"stop\", \"date\"))"
   ]
  },
  {
   "cell_type": "code",
   "execution_count": 32,
   "id": "18b977a1",
   "metadata": {},
   "outputs": [],
   "source": [
    "aggdata <- merge(aggdata, get_aggdata(df=dat, dir=\"I\"), by=c(\"stop\", \"date\"))"
   ]
  },
  {
   "cell_type": "code",
   "execution_count": 34,
   "id": "020e4f17",
   "metadata": {},
   "outputs": [],
   "source": [
    "aggdata <- merge(aggdata, stopdf, by=\"stop\")"
   ]
  },
  {
   "cell_type": "code",
   "execution_count": 35,
   "id": "5ade2517",
   "metadata": {},
   "outputs": [],
   "source": [
    "aggdata <- merge(aggdata, datedf, by=\"date\")"
   ]
  },
  {
   "cell_type": "code",
   "execution_count": 37,
   "id": "36e650d0",
   "metadata": {},
   "outputs": [
    {
     "data": {
      "text/html": [
       "<style>\n",
       ".list-inline {list-style: none; margin:0; padding: 0}\n",
       ".list-inline>li {display: inline-block}\n",
       ".list-inline>li:not(:last-child)::after {content: \"\\00b7\"; padding: 0 .5ex}\n",
       "</style>\n",
       "<ol class=list-inline><li>208</li><li>15</li></ol>\n"
      ],
      "text/latex": [
       "\\begin{enumerate*}\n",
       "\\item 208\n",
       "\\item 15\n",
       "\\end{enumerate*}\n"
      ],
      "text/markdown": [
       "1. 208\n",
       "2. 15\n",
       "\n",
       "\n"
      ],
      "text/plain": [
       "[1] 208  15"
      ]
     },
     "metadata": {},
     "output_type": "display_data"
    }
   ],
   "source": [
    "dim(aggdata)"
   ]
  },
  {
   "cell_type": "code",
   "execution_count": 38,
   "id": "9f010e2c",
   "metadata": {},
   "outputs": [],
   "source": [
    "outpath <- \"T:/DCProjects/StoryMap/BikeCounting/BikeOnBuses/Output\""
   ]
  },
  {
   "cell_type": "code",
   "execution_count": 39,
   "id": "e9b47da2",
   "metadata": {},
   "outputs": [],
   "source": [
    "write.csv(aggdata, paste0(outpath, \"/Daily_Bikes_On_Buses.csv\"), row.names = FALSE)"
   ]
  },
  {
   "cell_type": "code",
   "execution_count": 40,
   "id": "f468f980",
   "metadata": {},
   "outputs": [
    {
     "name": "stdout",
     "output_type": "stream",
     "text": [
      "OGR data source with driver: ESRI Shapefile \n",
      "Source: \"V:\\Data\\Transportation\", layer: \"MPO_Bound\"\n",
      "with 1 features\n",
      "It has 3 fields\n"
     ]
    }
   ],
   "source": [
    "MPOBound <- readOGR(dsn = \"V:/Data/Transportation\", layer=\"MPO_Bound\")"
   ]
  },
  {
   "cell_type": "code",
   "execution_count": 41,
   "id": "afe5d275",
   "metadata": {},
   "outputs": [],
   "source": [
    "df2spdf <- function(df, lon_col_name, lat_col_name, trans = TRUE){\n",
    "  lonlat <- sp::CRS(\"+proj=longlat +datum=WGS84 +ellps=WGS84 +towgs84=0,0,0\")\n",
    "  lon_col_no <- which(names(df)==lon_col_name)\n",
    "  lat_col_no <- which(names(df)==lat_col_name)\n",
    "  xy <- data.frame(df[,c(lon_col_no,lat_col_no)])\n",
    "  coordinates(xy) <- c(lon_col_name, lat_col_name)\n",
    "  proj4string(xy) <- lonlat\n",
    "  spdf <- sp::SpatialPointsDataFrame(coords = xy, data = df)\n",
    "  if(trans){\n",
    "    spdf <- spTransform(spdf, CRS(proj4string(MPOBound)))\n",
    "  }\n",
    "  return(spdf)\n",
    "}"
   ]
  },
  {
   "cell_type": "code",
   "execution_count": 42,
   "id": "106562f6",
   "metadata": {},
   "outputs": [],
   "source": [
    "spdf <- df2spdf(aggdata, 'longitude', 'latitude')"
   ]
  },
  {
   "cell_type": "code",
   "execution_count": 43,
   "id": "1081be21",
   "metadata": {},
   "outputs": [],
   "source": [
    "writeOGR(spdf, dsn=outpath, layer=\"Daily_Bikes_On_Buses\", driver=\"ESRI Shapefile\", overwrite_layer=TRUE)"
   ]
  },
  {
   "cell_type": "code",
   "execution_count": 44,
   "id": "c142bb42",
   "metadata": {},
   "outputs": [],
   "source": [
    "sumdf <- aggregate(x=list(qty = aggdata$qty, \n",
    "                          out_qty = aggdata$out_qty, \n",
    "                          in_qty = aggdata$in_qty), \n",
    "                   by=list(stop = aggdata$stop), \n",
    "                   FUN=sum)"
   ]
  },
  {
   "cell_type": "code",
   "execution_count": 47,
   "id": "441073d3",
   "metadata": {},
   "outputs": [],
   "source": [
    "avgdf <- aggregate(x=list(avgqty = aggdata$qty), \n",
    "                   by=list(stop = aggdata$stop), \n",
    "                   FUN=mean)"
   ]
  },
  {
   "cell_type": "code",
   "execution_count": 48,
   "id": "d71a2e3a",
   "metadata": {},
   "outputs": [],
   "source": [
    "sumdf$pct_out <- (sumdf$out_qty / sumdf$qty) * 100"
   ]
  },
  {
   "cell_type": "code",
   "execution_count": 49,
   "id": "c4b97565",
   "metadata": {},
   "outputs": [],
   "source": [
    "sum_avg_df <- merge(sumdf, avgdf, by=\"stop\")"
   ]
  },
  {
   "cell_type": "code",
   "execution_count": 50,
   "id": "db2d614a",
   "metadata": {},
   "outputs": [],
   "source": [
    "sum_avg_df <- merge(sum_avg_df, stopdf, by=\"stop\")"
   ]
  },
  {
   "cell_type": "code",
   "execution_count": 51,
   "id": "559b2c1c",
   "metadata": {},
   "outputs": [],
   "source": [
    "write.csv(sum_avg_df, paste0(outpath, \"/Sum_Bikes_On_Buses.csv\"), row.names = FALSE)"
   ]
  },
  {
   "cell_type": "code",
   "execution_count": 52,
   "id": "7890b064",
   "metadata": {},
   "outputs": [],
   "source": [
    "sum_avg_spdf <- df2spdf(sum_avg_df, 'longitude', 'latitude')"
   ]
  },
  {
   "cell_type": "code",
   "execution_count": 53,
   "id": "796240b1",
   "metadata": {},
   "outputs": [
    {
     "data": {
      "text/html": [
       "<style>\n",
       ".list-inline {list-style: none; margin:0; padding: 0}\n",
       ".list-inline>li {display: inline-block}\n",
       ".list-inline>li:not(:last-child)::after {content: \"\\00b7\"; padding: 0 .5ex}\n",
       "</style>\n",
       "<ol class=list-inline><li>'stop'</li><li>'qty'</li><li>'out_qty'</li><li>'in_qty'</li><li>'pct_out'</li><li>'avgqty'</li><li>'route'</li><li>'stop_name'</li><li>'latitude'</li><li>'longitude'</li></ol>\n"
      ],
      "text/latex": [
       "\\begin{enumerate*}\n",
       "\\item 'stop'\n",
       "\\item 'qty'\n",
       "\\item 'out\\_qty'\n",
       "\\item 'in\\_qty'\n",
       "\\item 'pct\\_out'\n",
       "\\item 'avgqty'\n",
       "\\item 'route'\n",
       "\\item 'stop\\_name'\n",
       "\\item 'latitude'\n",
       "\\item 'longitude'\n",
       "\\end{enumerate*}\n"
      ],
      "text/markdown": [
       "1. 'stop'\n",
       "2. 'qty'\n",
       "3. 'out_qty'\n",
       "4. 'in_qty'\n",
       "5. 'pct_out'\n",
       "6. 'avgqty'\n",
       "7. 'route'\n",
       "8. 'stop_name'\n",
       "9. 'latitude'\n",
       "10. 'longitude'\n",
       "\n",
       "\n"
      ],
      "text/plain": [
       " [1] \"stop\"      \"qty\"       \"out_qty\"   \"in_qty\"    \"pct_out\"   \"avgqty\"   \n",
       " [7] \"route\"     \"stop_name\" \"latitude\"  \"longitude\""
      ]
     },
     "metadata": {},
     "output_type": "display_data"
    }
   ],
   "source": [
    "names(sum_avg_spdf)"
   ]
  },
  {
   "cell_type": "code",
   "execution_count": 54,
   "id": "3b2e556b",
   "metadata": {},
   "outputs": [],
   "source": [
    "writeOGR(sum_avg_spdf, dsn=outpath, layer=\"Sum_Bikes_On_Buses\", driver=\"ESRI Shapefile\", overwrite_layer=TRUE)"
   ]
  }
 ],
 "metadata": {
  "kernelspec": {
   "display_name": "R",
   "language": "R",
   "name": "ir"
  },
  "language_info": {
   "codemirror_mode": "r",
   "file_extension": ".r",
   "mimetype": "text/x-r-source",
   "name": "R",
   "pygments_lexer": "r",
   "version": "4.0.3"
  }
 },
 "nbformat": 4,
 "nbformat_minor": 5
}
