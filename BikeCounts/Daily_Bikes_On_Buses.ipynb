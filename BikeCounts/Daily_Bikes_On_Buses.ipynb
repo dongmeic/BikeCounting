{
 "cells": [
  {
   "cell_type": "code",
   "execution_count": 1,
   "id": "7f352544",
   "metadata": {},
   "outputs": [],
   "source": [
    "options(warn = -1)"
   ]
  },
  {
   "cell_type": "code",
   "execution_count": 2,
   "id": "0d020797",
   "metadata": {},
   "outputs": [
    {
     "name": "stderr",
     "output_type": "stream",
     "text": [
      "\n",
      "Attaching package: 'lubridate'\n",
      "\n",
      "\n",
      "The following objects are masked from 'package:base':\n",
      "\n",
      "    date, intersect, setdiff, union\n",
      "\n",
      "\n",
      "Loading required package: sp\n",
      "\n",
      "rgdal: version: 1.5-23, (SVN revision 1121)\n",
      "Geospatial Data Abstraction Library extensions to R successfully loaded\n",
      "Loaded GDAL runtime: GDAL 3.2.1, released 2020/12/29\n",
      "Path to GDAL shared files: C:/Users/clid1852/Documents/R/win-library/4.0/rgdal/gdal\n",
      "GDAL binary built with GEOS: TRUE \n",
      "Loaded PROJ runtime: Rel. 7.2.1, January 1st, 2021, [PJ_VERSION: 721]\n",
      "Path to PROJ shared files: C:/Users/clid1852/Documents/R/win-library/4.0/rgdal/proj\n",
      "PROJ CDN enabled: TRUE\n",
      "Linking to sp version:1.4-5\n",
      "To mute warnings of possible GDAL/OSR exportToProj4() degradation,\n",
      "use options(\"rgdal_show_exportToProj4_warnings\"=\"none\") before loading rgdal.\n",
      "Overwritten PROJ_LIB was C:/Users/clid1852/Documents/R/win-library/4.0/rgdal/proj\n",
      "\n"
     ]
    }
   ],
   "source": [
    "library(lubridate)\n",
    "library(rgdal)"
   ]
  },
  {
   "cell_type": "code",
   "execution_count": 3,
   "id": "fb0afd16",
   "metadata": {},
   "outputs": [],
   "source": [
    "data <- read.csv('T:/Tableau/tableauBikesOnBuses/Datasources/MonthlyBikesOnBuses.csv')"
   ]
  },
  {
   "cell_type": "code",
   "execution_count": 4,
   "id": "7ad4ad91",
   "metadata": {},
   "outputs": [
    {
     "data": {
      "text/html": [
       "<style>\n",
       ".list-inline {list-style: none; margin:0; padding: 0}\n",
       ".list-inline>li {display: inline-block}\n",
       ".list-inline>li:not(:last-child)::after {content: \"\\00b7\"; padding: 0 .5ex}\n",
       "</style>\n",
       "<ol class=list-inline><li>'stop'</li><li>'srv'</li><li>'date'</li><li>'block'</li><li>'trip_end'</li><li>'time'</li><li>'route'</li><li>'dir'</li><li>'stop_name'</li><li>'bus'</li><li>'odometer'</li><li>'desc'</li><li>'qty'</li><li>'MonthYear'</li><li>'longitude'</li><li>'latitude'</li></ol>\n"
      ],
      "text/latex": [
       "\\begin{enumerate*}\n",
       "\\item 'stop'\n",
       "\\item 'srv'\n",
       "\\item 'date'\n",
       "\\item 'block'\n",
       "\\item 'trip\\_end'\n",
       "\\item 'time'\n",
       "\\item 'route'\n",
       "\\item 'dir'\n",
       "\\item 'stop\\_name'\n",
       "\\item 'bus'\n",
       "\\item 'odometer'\n",
       "\\item 'desc'\n",
       "\\item 'qty'\n",
       "\\item 'MonthYear'\n",
       "\\item 'longitude'\n",
       "\\item 'latitude'\n",
       "\\end{enumerate*}\n"
      ],
      "text/markdown": [
       "1. 'stop'\n",
       "2. 'srv'\n",
       "3. 'date'\n",
       "4. 'block'\n",
       "5. 'trip_end'\n",
       "6. 'time'\n",
       "7. 'route'\n",
       "8. 'dir'\n",
       "9. 'stop_name'\n",
       "10. 'bus'\n",
       "11. 'odometer'\n",
       "12. 'desc'\n",
       "13. 'qty'\n",
       "14. 'MonthYear'\n",
       "15. 'longitude'\n",
       "16. 'latitude'\n",
       "\n",
       "\n"
      ],
      "text/plain": [
       " [1] \"stop\"      \"srv\"       \"date\"      \"block\"     \"trip_end\"  \"time\"     \n",
       " [7] \"route\"     \"dir\"       \"stop_name\" \"bus\"       \"odometer\"  \"desc\"     \n",
       "[13] \"qty\"       \"MonthYear\" \"longitude\" \"latitude\" "
      ]
     },
     "metadata": {},
     "output_type": "display_data"
    }
   ],
   "source": [
    "names(data)"
   ]
  },
  {
   "cell_type": "code",
   "execution_count": 5,
   "id": "73f3d12f",
   "metadata": {},
   "outputs": [
    {
     "data": {
      "text/html": [
       "<table class=\"dataframe\">\n",
       "<caption>A data.frame: 6 × 16</caption>\n",
       "<thead>\n",
       "\t<tr><th></th><th scope=col>stop</th><th scope=col>srv</th><th scope=col>date</th><th scope=col>block</th><th scope=col>trip_end</th><th scope=col>time</th><th scope=col>route</th><th scope=col>dir</th><th scope=col>stop_name</th><th scope=col>bus</th><th scope=col>odometer</th><th scope=col>desc</th><th scope=col>qty</th><th scope=col>MonthYear</th><th scope=col>longitude</th><th scope=col>latitude</th></tr>\n",
       "\t<tr><th></th><th scope=col>&lt;int&gt;</th><th scope=col>&lt;chr&gt;</th><th scope=col>&lt;chr&gt;</th><th scope=col>&lt;int&gt;</th><th scope=col>&lt;chr&gt;</th><th scope=col>&lt;chr&gt;</th><th scope=col>&lt;chr&gt;</th><th scope=col>&lt;chr&gt;</th><th scope=col>&lt;chr&gt;</th><th scope=col>&lt;int&gt;</th><th scope=col>&lt;dbl&gt;</th><th scope=col>&lt;chr&gt;</th><th scope=col>&lt;int&gt;</th><th scope=col>&lt;chr&gt;</th><th scope=col>&lt;dbl&gt;</th><th scope=col>&lt;dbl&gt;</th></tr>\n",
       "</thead>\n",
       "<tbody>\n",
       "\t<tr><th scope=row>1</th><td>1</td><td>wkd</td><td>2013-01-18 00:00:00</td><td>67</td><td>1899-12-31 18:21:00</td><td>1899-12-31 18:10:00</td><td>11</td><td>O</td><td>E/S of 58th N of Main</td><td>1002</td><td> 98.11</td><td>bike on rack</td><td>1</td><td>January 2013</td><td>-122.9267</td><td>44.04634</td></tr>\n",
       "\t<tr><th scope=row>2</th><td>1</td><td>wkd</td><td>2013-01-10 00:00:00</td><td> 2</td><td>1899-12-31 09:56:00</td><td>1899-12-31 09:44:00</td><td>11</td><td>O</td><td>E/S of 58th N of Main</td><td>1114</td><td> 71.08</td><td>bike on rack</td><td>1</td><td>January 2013</td><td>-122.9267</td><td>44.04634</td></tr>\n",
       "\t<tr><th scope=row>3</th><td>1</td><td>wkd</td><td>2013-01-10 00:00:00</td><td>60</td><td>1899-12-31 16:54:00</td><td>1899-12-31 16:45:00</td><td>11</td><td>O</td><td>E/S of 58th N of Main</td><td>7102</td><td>119.29</td><td>bike on rack</td><td>1</td><td>January 2013</td><td>-122.9267</td><td>44.04634</td></tr>\n",
       "\t<tr><th scope=row>4</th><td>1</td><td>wkd</td><td>2013-01-29 00:00:00</td><td>60</td><td>1899-12-31 17:52:00</td><td>1899-12-31 17:39:00</td><td>11</td><td>O</td><td>E/S of 58th N of Main</td><td>7102</td><td>132.76</td><td>bike on rack</td><td>1</td><td>January 2013</td><td>-122.9267</td><td>44.04634</td></tr>\n",
       "\t<tr><th scope=row>5</th><td>1</td><td>wkd</td><td>2013-01-09 00:00:00</td><td>25</td><td>1899-12-31 15:35:00</td><td>1899-12-31 15:20:00</td><td>11</td><td>O</td><td>E/S of 58th N of Main</td><td>1004</td><td>126.65</td><td>bike on rack</td><td>1</td><td>January 2013</td><td>-122.9267</td><td>44.04634</td></tr>\n",
       "\t<tr><th scope=row>6</th><td>2</td><td>wkd</td><td>2013-01-30 00:00:00</td><td>48</td><td>1899-12-31 08:27:00</td><td>1899-12-31 08:13:00</td><td>11</td><td>O</td><td>E/S of 58th S of D   </td><td>6218</td><td>  5.11</td><td>bike on rack</td><td>1</td><td>January 2013</td><td>-122.9262</td><td>44.04946</td></tr>\n",
       "</tbody>\n",
       "</table>\n"
      ],
      "text/latex": [
       "A data.frame: 6 × 16\n",
       "\\begin{tabular}{r|llllllllllllllll}\n",
       "  & stop & srv & date & block & trip\\_end & time & route & dir & stop\\_name & bus & odometer & desc & qty & MonthYear & longitude & latitude\\\\\n",
       "  & <int> & <chr> & <chr> & <int> & <chr> & <chr> & <chr> & <chr> & <chr> & <int> & <dbl> & <chr> & <int> & <chr> & <dbl> & <dbl>\\\\\n",
       "\\hline\n",
       "\t1 & 1 & wkd & 2013-01-18 00:00:00 & 67 & 1899-12-31 18:21:00 & 1899-12-31 18:10:00 & 11 & O & E/S of 58th N of Main & 1002 &  98.11 & bike on rack & 1 & January 2013 & -122.9267 & 44.04634\\\\\n",
       "\t2 & 1 & wkd & 2013-01-10 00:00:00 &  2 & 1899-12-31 09:56:00 & 1899-12-31 09:44:00 & 11 & O & E/S of 58th N of Main & 1114 &  71.08 & bike on rack & 1 & January 2013 & -122.9267 & 44.04634\\\\\n",
       "\t3 & 1 & wkd & 2013-01-10 00:00:00 & 60 & 1899-12-31 16:54:00 & 1899-12-31 16:45:00 & 11 & O & E/S of 58th N of Main & 7102 & 119.29 & bike on rack & 1 & January 2013 & -122.9267 & 44.04634\\\\\n",
       "\t4 & 1 & wkd & 2013-01-29 00:00:00 & 60 & 1899-12-31 17:52:00 & 1899-12-31 17:39:00 & 11 & O & E/S of 58th N of Main & 7102 & 132.76 & bike on rack & 1 & January 2013 & -122.9267 & 44.04634\\\\\n",
       "\t5 & 1 & wkd & 2013-01-09 00:00:00 & 25 & 1899-12-31 15:35:00 & 1899-12-31 15:20:00 & 11 & O & E/S of 58th N of Main & 1004 & 126.65 & bike on rack & 1 & January 2013 & -122.9267 & 44.04634\\\\\n",
       "\t6 & 2 & wkd & 2013-01-30 00:00:00 & 48 & 1899-12-31 08:27:00 & 1899-12-31 08:13:00 & 11 & O & E/S of 58th S of D    & 6218 &   5.11 & bike on rack & 1 & January 2013 & -122.9262 & 44.04946\\\\\n",
       "\\end{tabular}\n"
      ],
      "text/markdown": [
       "\n",
       "A data.frame: 6 × 16\n",
       "\n",
       "| <!--/--> | stop &lt;int&gt; | srv &lt;chr&gt; | date &lt;chr&gt; | block &lt;int&gt; | trip_end &lt;chr&gt; | time &lt;chr&gt; | route &lt;chr&gt; | dir &lt;chr&gt; | stop_name &lt;chr&gt; | bus &lt;int&gt; | odometer &lt;dbl&gt; | desc &lt;chr&gt; | qty &lt;int&gt; | MonthYear &lt;chr&gt; | longitude &lt;dbl&gt; | latitude &lt;dbl&gt; |\n",
       "|---|---|---|---|---|---|---|---|---|---|---|---|---|---|---|---|---|\n",
       "| 1 | 1 | wkd | 2013-01-18 00:00:00 | 67 | 1899-12-31 18:21:00 | 1899-12-31 18:10:00 | 11 | O | E/S of 58th N of Main | 1002 |  98.11 | bike on rack | 1 | January 2013 | -122.9267 | 44.04634 |\n",
       "| 2 | 1 | wkd | 2013-01-10 00:00:00 |  2 | 1899-12-31 09:56:00 | 1899-12-31 09:44:00 | 11 | O | E/S of 58th N of Main | 1114 |  71.08 | bike on rack | 1 | January 2013 | -122.9267 | 44.04634 |\n",
       "| 3 | 1 | wkd | 2013-01-10 00:00:00 | 60 | 1899-12-31 16:54:00 | 1899-12-31 16:45:00 | 11 | O | E/S of 58th N of Main | 7102 | 119.29 | bike on rack | 1 | January 2013 | -122.9267 | 44.04634 |\n",
       "| 4 | 1 | wkd | 2013-01-29 00:00:00 | 60 | 1899-12-31 17:52:00 | 1899-12-31 17:39:00 | 11 | O | E/S of 58th N of Main | 7102 | 132.76 | bike on rack | 1 | January 2013 | -122.9267 | 44.04634 |\n",
       "| 5 | 1 | wkd | 2013-01-09 00:00:00 | 25 | 1899-12-31 15:35:00 | 1899-12-31 15:20:00 | 11 | O | E/S of 58th N of Main | 1004 | 126.65 | bike on rack | 1 | January 2013 | -122.9267 | 44.04634 |\n",
       "| 6 | 2 | wkd | 2013-01-30 00:00:00 | 48 | 1899-12-31 08:27:00 | 1899-12-31 08:13:00 | 11 | O | E/S of 58th S of D    | 6218 |   5.11 | bike on rack | 1 | January 2013 | -122.9262 | 44.04946 |\n",
       "\n"
      ],
      "text/plain": [
       "  stop srv date                block trip_end            time               \n",
       "1 1    wkd 2013-01-18 00:00:00 67    1899-12-31 18:21:00 1899-12-31 18:10:00\n",
       "2 1    wkd 2013-01-10 00:00:00  2    1899-12-31 09:56:00 1899-12-31 09:44:00\n",
       "3 1    wkd 2013-01-10 00:00:00 60    1899-12-31 16:54:00 1899-12-31 16:45:00\n",
       "4 1    wkd 2013-01-29 00:00:00 60    1899-12-31 17:52:00 1899-12-31 17:39:00\n",
       "5 1    wkd 2013-01-09 00:00:00 25    1899-12-31 15:35:00 1899-12-31 15:20:00\n",
       "6 2    wkd 2013-01-30 00:00:00 48    1899-12-31 08:27:00 1899-12-31 08:13:00\n",
       "  route dir stop_name             bus  odometer desc         qty MonthYear   \n",
       "1 11    O   E/S of 58th N of Main 1002  98.11   bike on rack 1   January 2013\n",
       "2 11    O   E/S of 58th N of Main 1114  71.08   bike on rack 1   January 2013\n",
       "3 11    O   E/S of 58th N of Main 7102 119.29   bike on rack 1   January 2013\n",
       "4 11    O   E/S of 58th N of Main 7102 132.76   bike on rack 1   January 2013\n",
       "5 11    O   E/S of 58th N of Main 1004 126.65   bike on rack 1   January 2013\n",
       "6 11    O   E/S of 58th S of D    6218   5.11   bike on rack 1   January 2013\n",
       "  longitude latitude\n",
       "1 -122.9267 44.04634\n",
       "2 -122.9267 44.04634\n",
       "3 -122.9267 44.04634\n",
       "4 -122.9267 44.04634\n",
       "5 -122.9267 44.04634\n",
       "6 -122.9262 44.04946"
      ]
     },
     "metadata": {},
     "output_type": "display_data"
    }
   ],
   "source": [
    "head(data)"
   ]
  },
  {
   "cell_type": "code",
   "execution_count": 6,
   "id": "10ec0368",
   "metadata": {},
   "outputs": [],
   "source": [
    "data$date <- as.Date(data$date, \"%Y-%m-%d\")"
   ]
  },
  {
   "cell_type": "code",
   "execution_count": 7,
   "id": "b10dd2b0",
   "metadata": {},
   "outputs": [],
   "source": [
    "data$year <- year(data$date)"
   ]
  },
  {
   "cell_type": "code",
   "execution_count": 8,
   "id": "5d85d9b0",
   "metadata": {},
   "outputs": [],
   "source": [
    "dat <- data[data$year == 2021,]"
   ]
  },
  {
   "cell_type": "code",
   "execution_count": 9,
   "id": "9f244885",
   "metadata": {},
   "outputs": [
    {
     "data": {
      "text/html": [
       "<style>\n",
       ".list-inline {list-style: none; margin:0; padding: 0}\n",
       ".list-inline>li {display: inline-block}\n",
       ".list-inline>li:not(:last-child)::after {content: \"\\00b7\"; padding: 0 .5ex}\n",
       "</style>\n",
       "<ol class=list-inline><li>49945</li><li>17</li></ol>\n"
      ],
      "text/latex": [
       "\\begin{enumerate*}\n",
       "\\item 49945\n",
       "\\item 17\n",
       "\\end{enumerate*}\n"
      ],
      "text/markdown": [
       "1. 49945\n",
       "2. 17\n",
       "\n",
       "\n"
      ],
      "text/plain": [
       "[1] 49945    17"
      ]
     },
     "metadata": {},
     "output_type": "display_data"
    }
   ],
   "source": [
    "dim(dat)"
   ]
  },
  {
   "cell_type": "code",
   "execution_count": 10,
   "id": "91b653cd",
   "metadata": {},
   "outputs": [],
   "source": [
    "dat$weekday <- as.character(wday(dat$date, label=TRUE, abbr=FALSE))"
   ]
  },
  {
   "cell_type": "code",
   "execution_count": 11,
   "id": "47e7e2de",
   "metadata": {},
   "outputs": [],
   "source": [
    "dat$month <- months(dat$date)"
   ]
  },
  {
   "cell_type": "code",
   "execution_count": 12,
   "id": "069973ba",
   "metadata": {},
   "outputs": [],
   "source": [
    "dat$season <- ifelse(dat$month %in% c(\"December\", \"January\", \"February\"), \"Winter\",\n",
    "                    ifelse(dat$month %in% c(\"March\", \"April\", \"May\"), \"Spring\",\n",
    "                          ifelse(dat$month %in% c(\"June\", \"July\", \"August\"), \"Summer\", \"Fall\")))"
   ]
  },
  {
   "cell_type": "code",
   "execution_count": 13,
   "id": "afcdc381",
   "metadata": {},
   "outputs": [],
   "source": [
    "dat$seasonOrder <- ifelse(dat$season == \"Spring\", 1, \n",
    "                              ifelse(dat$season == \"Summer\", 2, \n",
    "                                     ifelse(dat$season == \"Fall\", 3, 4)))"
   ]
  },
  {
   "cell_type": "code",
   "execution_count": 14,
   "id": "020d85c2",
   "metadata": {},
   "outputs": [],
   "source": [
    "dat$monthOrder <- ifelse(dat$month == \"January\", 1, \n",
    "                           ifelse(dat$month == \"February\", 2, \n",
    "                               ifelse(dat$month == \"March\", 3, \n",
    "                                   ifelse(dat$month == \"April\", 4, \n",
    "                                       ifelse(dat$month == \"May\", 5, \n",
    "                                           ifelse(dat$month == \"June\", 6, \n",
    "                                               ifelse(dat$month == \"July\", 7, \n",
    "                                                   ifelse(dat$month == \"August\", 8, \n",
    "                                                       ifelse(dat$month == \"September\", 9, \n",
    "                                                           ifelse(dat$month == \"October\", 10, \n",
    "                                                               ifelse(dat$month == \"November\", 11, 12)))))))))))"
   ]
  },
  {
   "cell_type": "code",
   "execution_count": 15,
   "id": "88a4383b",
   "metadata": {},
   "outputs": [],
   "source": [
    "dat$weekdayOrder <- ifelse(dat$weekday == \"Monday\", 1, \n",
    "                              ifelse(dat$weekday == \"Tuesday\", 2, \n",
    "                                     ifelse(dat$weekday == \"Wednesday\", 3, \n",
    "                                     ifelse(dat$weekday == \"Thursday\", 4, \n",
    "                                            ifelse(dat$weekday == \"Friday\", 5, \n",
    "                                                ifelse(dat$weekday == \"Saturday\", 6, 7))))))"
   ]
  },
  {
   "cell_type": "code",
   "execution_count": 16,
   "id": "135b9e56",
   "metadata": {},
   "outputs": [],
   "source": [
    "datedf <- unique(dat[,c('date', 'season', 'month', 'weekday', 'seasonOrder', 'monthOrder', 'weekdayOrder')])"
   ]
  },
  {
   "cell_type": "code",
   "execution_count": 17,
   "id": "2e99a0fb",
   "metadata": {},
   "outputs": [],
   "source": [
    "stop.path <- \"T:/Data/LTD Data/StopsSince2011\""
   ]
  },
  {
   "cell_type": "code",
   "execution_count": 18,
   "id": "5c382fa2",
   "metadata": {},
   "outputs": [],
   "source": [
    "stops <- readOGR(dsn = stop.path, layer = \"April 2020\", verbose = FALSE, \n",
    "                   stringsAsFactors = FALSE)"
   ]
  },
  {
   "cell_type": "code",
   "execution_count": 19,
   "id": "96539729",
   "metadata": {},
   "outputs": [
    {
     "data": {
      "text/html": [
       "<style>\n",
       ".list-inline {list-style: none; margin:0; padding: 0}\n",
       ".list-inline>li {display: inline-block}\n",
       ".list-inline>li:not(:last-child)::after {content: \"\\00b7\"; padding: 0 .5ex}\n",
       "</style>\n",
       "<ol class=list-inline><li>'stop_numbe'</li><li>'stop_name'</li><li>'latitude'</li><li>'longitude'</li><li>'AvgBoards'</li><li>'city'</li></ol>\n"
      ],
      "text/latex": [
       "\\begin{enumerate*}\n",
       "\\item 'stop\\_numbe'\n",
       "\\item 'stop\\_name'\n",
       "\\item 'latitude'\n",
       "\\item 'longitude'\n",
       "\\item 'AvgBoards'\n",
       "\\item 'city'\n",
       "\\end{enumerate*}\n"
      ],
      "text/markdown": [
       "1. 'stop_numbe'\n",
       "2. 'stop_name'\n",
       "3. 'latitude'\n",
       "4. 'longitude'\n",
       "5. 'AvgBoards'\n",
       "6. 'city'\n",
       "\n",
       "\n"
      ],
      "text/plain": [
       "[1] \"stop_numbe\" \"stop_name\"  \"latitude\"   \"longitude\"  \"AvgBoards\" \n",
       "[6] \"city\"      "
      ]
     },
     "metadata": {},
     "output_type": "display_data"
    }
   ],
   "source": [
    "names(stops)"
   ]
  },
  {
   "cell_type": "code",
   "execution_count": 20,
   "id": "b93d14ed",
   "metadata": {},
   "outputs": [
    {
     "data": {
      "text/html": [
       "<style>\n",
       ".list-inline {list-style: none; margin:0; padding: 0}\n",
       ".list-inline>li {display: inline-block}\n",
       ".list-inline>li:not(:last-child)::after {content: \"\\00b7\"; padding: 0 .5ex}\n",
       "</style>\n",
       "<ol class=list-inline><li>'Springfield'</li><li>'Eugene'</li><li>NA</li><li>'Coburg'</li></ol>\n"
      ],
      "text/latex": [
       "\\begin{enumerate*}\n",
       "\\item 'Springfield'\n",
       "\\item 'Eugene'\n",
       "\\item NA\n",
       "\\item 'Coburg'\n",
       "\\end{enumerate*}\n"
      ],
      "text/markdown": [
       "1. 'Springfield'\n",
       "2. 'Eugene'\n",
       "3. NA\n",
       "4. 'Coburg'\n",
       "\n",
       "\n"
      ],
      "text/plain": [
       "[1] \"Springfield\" \"Eugene\"      NA            \"Coburg\"     "
      ]
     },
     "metadata": {},
     "output_type": "display_data"
    }
   ],
   "source": [
    "unique(stops$city)"
   ]
  },
  {
   "cell_type": "code",
   "execution_count": 21,
   "id": "1b7bdc23",
   "metadata": {},
   "outputs": [
    {
     "data": {
      "text/html": [
       "TRUE"
      ],
      "text/latex": [
       "TRUE"
      ],
      "text/markdown": [
       "TRUE"
      ],
      "text/plain": [
       "[1] TRUE"
      ]
     },
     "metadata": {},
     "output_type": "display_data"
    }
   ],
   "source": [
    "dim(stops@data)[1] == length(unique(stops$stop_numbe))"
   ]
  },
  {
   "cell_type": "code",
   "execution_count": 22,
   "id": "37373992",
   "metadata": {},
   "outputs": [
    {
     "data": {
      "text/html": [
       "<style>\n",
       ".list-inline {list-style: none; margin:0; padding: 0}\n",
       ".list-inline>li {display: inline-block}\n",
       ".list-inline>li:not(:last-child)::after {content: \"\\00b7\"; padding: 0 .5ex}\n",
       "</style>\n",
       "<ol class=list-inline><li>1</li><li>1</li><li>1</li><li>1</li><li>1</li><li>2</li></ol>\n"
      ],
      "text/latex": [
       "\\begin{enumerate*}\n",
       "\\item 1\n",
       "\\item 1\n",
       "\\item 1\n",
       "\\item 1\n",
       "\\item 1\n",
       "\\item 2\n",
       "\\end{enumerate*}\n"
      ],
      "text/markdown": [
       "1. 1\n",
       "2. 1\n",
       "3. 1\n",
       "4. 1\n",
       "5. 1\n",
       "6. 2\n",
       "\n",
       "\n"
      ],
      "text/plain": [
       "[1] 1 1 1 1 1 2"
      ]
     },
     "metadata": {},
     "output_type": "display_data"
    }
   ],
   "source": [
    "head(data$stop)"
   ]
  },
  {
   "cell_type": "code",
   "execution_count": 23,
   "id": "1541ee46",
   "metadata": {},
   "outputs": [
    {
     "data": {
      "text/html": [
       "<style>\n",
       ".list-inline {list-style: none; margin:0; padding: 0}\n",
       ".list-inline>li {display: inline-block}\n",
       ".list-inline>li:not(:last-child)::after {content: \"\\00b7\"; padding: 0 .5ex}\n",
       "</style>\n",
       "<ol class=list-inline><li>'00001'</li><li>'00002'</li><li>'00004'</li><li>'00006'</li><li>'00007'</li><li>'00008'</li></ol>\n"
      ],
      "text/latex": [
       "\\begin{enumerate*}\n",
       "\\item '00001'\n",
       "\\item '00002'\n",
       "\\item '00004'\n",
       "\\item '00006'\n",
       "\\item '00007'\n",
       "\\item '00008'\n",
       "\\end{enumerate*}\n"
      ],
      "text/markdown": [
       "1. '00001'\n",
       "2. '00002'\n",
       "3. '00004'\n",
       "4. '00006'\n",
       "5. '00007'\n",
       "6. '00008'\n",
       "\n",
       "\n"
      ],
      "text/plain": [
       "[1] \"00001\" \"00002\" \"00004\" \"00006\" \"00007\" \"00008\""
      ]
     },
     "metadata": {},
     "output_type": "display_data"
    }
   ],
   "source": [
    "head(stops$stop_numbe)"
   ]
  },
  {
   "cell_type": "code",
   "execution_count": 24,
   "id": "215dd78f",
   "metadata": {},
   "outputs": [],
   "source": [
    "zeros <- c(\"0\", \"00\", \"000\", \"0000\")"
   ]
  },
  {
   "cell_type": "code",
   "execution_count": 25,
   "id": "9c879dfd",
   "metadata": {},
   "outputs": [],
   "source": [
    "dat$stop <- ifelse(nchar(dat$stop) == 5, dat$stop,\n",
    "                    paste0(zeros[(5 - nchar(dat$stop))], dat$stop))"
   ]
  },
  {
   "cell_type": "code",
   "execution_count": 26,
   "id": "acd8bf94",
   "metadata": {},
   "outputs": [
    {
     "data": {
      "text/html": [
       "<table class=\"dataframe\">\n",
       "<caption>A data.frame: 6 × 23</caption>\n",
       "<thead>\n",
       "\t<tr><th></th><th scope=col>stop</th><th scope=col>srv</th><th scope=col>date</th><th scope=col>block</th><th scope=col>trip_end</th><th scope=col>time</th><th scope=col>route</th><th scope=col>dir</th><th scope=col>stop_name</th><th scope=col>bus</th><th scope=col>⋯</th><th scope=col>MonthYear</th><th scope=col>longitude</th><th scope=col>latitude</th><th scope=col>year</th><th scope=col>weekday</th><th scope=col>month</th><th scope=col>season</th><th scope=col>seasonOrder</th><th scope=col>monthOrder</th><th scope=col>weekdayOrder</th></tr>\n",
       "\t<tr><th></th><th scope=col>&lt;chr&gt;</th><th scope=col>&lt;chr&gt;</th><th scope=col>&lt;date&gt;</th><th scope=col>&lt;int&gt;</th><th scope=col>&lt;chr&gt;</th><th scope=col>&lt;chr&gt;</th><th scope=col>&lt;chr&gt;</th><th scope=col>&lt;chr&gt;</th><th scope=col>&lt;chr&gt;</th><th scope=col>&lt;int&gt;</th><th scope=col>⋯</th><th scope=col>&lt;chr&gt;</th><th scope=col>&lt;dbl&gt;</th><th scope=col>&lt;dbl&gt;</th><th scope=col>&lt;dbl&gt;</th><th scope=col>&lt;chr&gt;</th><th scope=col>&lt;chr&gt;</th><th scope=col>&lt;chr&gt;</th><th scope=col>&lt;dbl&gt;</th><th scope=col>&lt;dbl&gt;</th><th scope=col>&lt;dbl&gt;</th></tr>\n",
       "</thead>\n",
       "<tbody>\n",
       "\t<tr><th scope=row>782796</th><td>00001</td><td>sat</td><td>2021-01-23</td><td>7029</td><td>1899-12-31 14:35:00</td><td>1899-12-31 14:22:00</td><td>11</td><td>O</td><td>E/S of 58th N of Main       </td><td> 1122</td><td>⋯</td><td>January 2021</td><td>-122.9267</td><td>44.04634</td><td>2021</td><td>Saturday </td><td>January</td><td>Winter</td><td>4</td><td>1</td><td>6</td></tr>\n",
       "\t<tr><th scope=row>782797</th><td>00001</td><td>wkd</td><td>2021-01-21</td><td>  52</td><td>1899-12-31 17:07:00</td><td>1899-12-31 16:56:00</td><td>11</td><td>O</td><td>E/S of 58th N of Main       </td><td>19106</td><td>⋯</td><td>January 2021</td><td>-122.9267</td><td>44.04634</td><td>2021</td><td>Thursday </td><td>January</td><td>Winter</td><td>4</td><td>1</td><td>4</td></tr>\n",
       "\t<tr><th scope=row>782798</th><td>00001</td><td>wkd</td><td>2021-01-29</td><td>  70</td><td>1899-12-31 18:34:00</td><td>1899-12-31 18:21:00</td><td>11</td><td>O</td><td>E/S of 58th N of Main       </td><td> 1402</td><td>⋯</td><td>January 2021</td><td>-122.9267</td><td>44.04634</td><td>2021</td><td>Friday   </td><td>January</td><td>Winter</td><td>4</td><td>1</td><td>5</td></tr>\n",
       "\t<tr><th scope=row>782799</th><td>00001</td><td>wkd</td><td>2021-01-05</td><td>  32</td><td>1899-12-31 23:04:00</td><td>1899-12-31 22:56:00</td><td>11</td><td>O</td><td>E/S of 58th N of Main       </td><td>19102</td><td>⋯</td><td>January 2021</td><td>-122.9267</td><td>44.04634</td><td>2021</td><td>Tuesday  </td><td>January</td><td>Winter</td><td>4</td><td>1</td><td>2</td></tr>\n",
       "\t<tr><th scope=row>782800</th><td>00001</td><td>wkd</td><td>2021-01-12</td><td>  32</td><td>1899-12-31 16:53:00</td><td>1899-12-31 16:44:00</td><td>11</td><td>O</td><td>E/S of 58th N of Main       </td><td> 1001</td><td>⋯</td><td>January 2021</td><td>-122.9267</td><td>44.04634</td><td>2021</td><td>Tuesday  </td><td>January</td><td>Winter</td><td>4</td><td>1</td><td>2</td></tr>\n",
       "\t<tr><th scope=row>782801</th><td>00004</td><td>wkd</td><td>2021-01-13</td><td>  29</td><td>1899-12-31 13:38:00</td><td>1899-12-31 13:26:00</td><td>11</td><td>O</td><td>E/S of 58th S of Thurston Rd</td><td> 1102</td><td>⋯</td><td>January 2021</td><td>-122.9262</td><td>44.05225</td><td>2021</td><td>Wednesday</td><td>January</td><td>Winter</td><td>4</td><td>1</td><td>3</td></tr>\n",
       "</tbody>\n",
       "</table>\n"
      ],
      "text/latex": [
       "A data.frame: 6 × 23\n",
       "\\begin{tabular}{r|lllllllllllllllllllll}\n",
       "  & stop & srv & date & block & trip\\_end & time & route & dir & stop\\_name & bus & ⋯ & MonthYear & longitude & latitude & year & weekday & month & season & seasonOrder & monthOrder & weekdayOrder\\\\\n",
       "  & <chr> & <chr> & <date> & <int> & <chr> & <chr> & <chr> & <chr> & <chr> & <int> & ⋯ & <chr> & <dbl> & <dbl> & <dbl> & <chr> & <chr> & <chr> & <dbl> & <dbl> & <dbl>\\\\\n",
       "\\hline\n",
       "\t782796 & 00001 & sat & 2021-01-23 & 7029 & 1899-12-31 14:35:00 & 1899-12-31 14:22:00 & 11 & O & E/S of 58th N of Main        &  1122 & ⋯ & January 2021 & -122.9267 & 44.04634 & 2021 & Saturday  & January & Winter & 4 & 1 & 6\\\\\n",
       "\t782797 & 00001 & wkd & 2021-01-21 &   52 & 1899-12-31 17:07:00 & 1899-12-31 16:56:00 & 11 & O & E/S of 58th N of Main        & 19106 & ⋯ & January 2021 & -122.9267 & 44.04634 & 2021 & Thursday  & January & Winter & 4 & 1 & 4\\\\\n",
       "\t782798 & 00001 & wkd & 2021-01-29 &   70 & 1899-12-31 18:34:00 & 1899-12-31 18:21:00 & 11 & O & E/S of 58th N of Main        &  1402 & ⋯ & January 2021 & -122.9267 & 44.04634 & 2021 & Friday    & January & Winter & 4 & 1 & 5\\\\\n",
       "\t782799 & 00001 & wkd & 2021-01-05 &   32 & 1899-12-31 23:04:00 & 1899-12-31 22:56:00 & 11 & O & E/S of 58th N of Main        & 19102 & ⋯ & January 2021 & -122.9267 & 44.04634 & 2021 & Tuesday   & January & Winter & 4 & 1 & 2\\\\\n",
       "\t782800 & 00001 & wkd & 2021-01-12 &   32 & 1899-12-31 16:53:00 & 1899-12-31 16:44:00 & 11 & O & E/S of 58th N of Main        &  1001 & ⋯ & January 2021 & -122.9267 & 44.04634 & 2021 & Tuesday   & January & Winter & 4 & 1 & 2\\\\\n",
       "\t782801 & 00004 & wkd & 2021-01-13 &   29 & 1899-12-31 13:38:00 & 1899-12-31 13:26:00 & 11 & O & E/S of 58th S of Thurston Rd &  1102 & ⋯ & January 2021 & -122.9262 & 44.05225 & 2021 & Wednesday & January & Winter & 4 & 1 & 3\\\\\n",
       "\\end{tabular}\n"
      ],
      "text/markdown": [
       "\n",
       "A data.frame: 6 × 23\n",
       "\n",
       "| <!--/--> | stop &lt;chr&gt; | srv &lt;chr&gt; | date &lt;date&gt; | block &lt;int&gt; | trip_end &lt;chr&gt; | time &lt;chr&gt; | route &lt;chr&gt; | dir &lt;chr&gt; | stop_name &lt;chr&gt; | bus &lt;int&gt; | ⋯ ⋯ | MonthYear &lt;chr&gt; | longitude &lt;dbl&gt; | latitude &lt;dbl&gt; | year &lt;dbl&gt; | weekday &lt;chr&gt; | month &lt;chr&gt; | season &lt;chr&gt; | seasonOrder &lt;dbl&gt; | monthOrder &lt;dbl&gt; | weekdayOrder &lt;dbl&gt; |\n",
       "|---|---|---|---|---|---|---|---|---|---|---|---|---|---|---|---|---|---|---|---|---|---|\n",
       "| 782796 | 00001 | sat | 2021-01-23 | 7029 | 1899-12-31 14:35:00 | 1899-12-31 14:22:00 | 11 | O | E/S of 58th N of Main        |  1122 | ⋯ | January 2021 | -122.9267 | 44.04634 | 2021 | Saturday  | January | Winter | 4 | 1 | 6 |\n",
       "| 782797 | 00001 | wkd | 2021-01-21 |   52 | 1899-12-31 17:07:00 | 1899-12-31 16:56:00 | 11 | O | E/S of 58th N of Main        | 19106 | ⋯ | January 2021 | -122.9267 | 44.04634 | 2021 | Thursday  | January | Winter | 4 | 1 | 4 |\n",
       "| 782798 | 00001 | wkd | 2021-01-29 |   70 | 1899-12-31 18:34:00 | 1899-12-31 18:21:00 | 11 | O | E/S of 58th N of Main        |  1402 | ⋯ | January 2021 | -122.9267 | 44.04634 | 2021 | Friday    | January | Winter | 4 | 1 | 5 |\n",
       "| 782799 | 00001 | wkd | 2021-01-05 |   32 | 1899-12-31 23:04:00 | 1899-12-31 22:56:00 | 11 | O | E/S of 58th N of Main        | 19102 | ⋯ | January 2021 | -122.9267 | 44.04634 | 2021 | Tuesday   | January | Winter | 4 | 1 | 2 |\n",
       "| 782800 | 00001 | wkd | 2021-01-12 |   32 | 1899-12-31 16:53:00 | 1899-12-31 16:44:00 | 11 | O | E/S of 58th N of Main        |  1001 | ⋯ | January 2021 | -122.9267 | 44.04634 | 2021 | Tuesday   | January | Winter | 4 | 1 | 2 |\n",
       "| 782801 | 00004 | wkd | 2021-01-13 |   29 | 1899-12-31 13:38:00 | 1899-12-31 13:26:00 | 11 | O | E/S of 58th S of Thurston Rd |  1102 | ⋯ | January 2021 | -122.9262 | 44.05225 | 2021 | Wednesday | January | Winter | 4 | 1 | 3 |\n",
       "\n"
      ],
      "text/plain": [
       "       stop  srv date       block trip_end            time                route\n",
       "782796 00001 sat 2021-01-23 7029  1899-12-31 14:35:00 1899-12-31 14:22:00 11   \n",
       "782797 00001 wkd 2021-01-21   52  1899-12-31 17:07:00 1899-12-31 16:56:00 11   \n",
       "782798 00001 wkd 2021-01-29   70  1899-12-31 18:34:00 1899-12-31 18:21:00 11   \n",
       "782799 00001 wkd 2021-01-05   32  1899-12-31 23:04:00 1899-12-31 22:56:00 11   \n",
       "782800 00001 wkd 2021-01-12   32  1899-12-31 16:53:00 1899-12-31 16:44:00 11   \n",
       "782801 00004 wkd 2021-01-13   29  1899-12-31 13:38:00 1899-12-31 13:26:00 11   \n",
       "       dir stop_name                    bus   <U+22EF>        MonthYear    longitude\n",
       "782796 O   E/S of 58th N of Main         1122 <U+22EF> January 2021 -122.9267\n",
       "782797 O   E/S of 58th N of Main        19106 <U+22EF> January 2021 -122.9267\n",
       "782798 O   E/S of 58th N of Main         1402 <U+22EF> January 2021 -122.9267\n",
       "782799 O   E/S of 58th N of Main        19102 <U+22EF> January 2021 -122.9267\n",
       "782800 O   E/S of 58th N of Main         1001 <U+22EF> January 2021 -122.9267\n",
       "782801 O   E/S of 58th S of Thurston Rd  1102 <U+22EF> January 2021 -122.9262\n",
       "       latitude year weekday   month   season seasonOrder monthOrder\n",
       "782796 44.04634 2021 Saturday  January Winter 4           1         \n",
       "782797 44.04634 2021 Thursday  January Winter 4           1         \n",
       "782798 44.04634 2021 Friday    January Winter 4           1         \n",
       "782799 44.04634 2021 Tuesday   January Winter 4           1         \n",
       "782800 44.04634 2021 Tuesday   January Winter 4           1         \n",
       "782801 44.05225 2021 Wednesday January Winter 4           1         \n",
       "       weekdayOrder\n",
       "782796 6           \n",
       "782797 4           \n",
       "782798 5           \n",
       "782799 2           \n",
       "782800 2           \n",
       "782801 3           "
      ]
     },
     "metadata": {},
     "output_type": "display_data"
    }
   ],
   "source": [
    "head(dat)"
   ]
  },
  {
   "cell_type": "code",
   "execution_count": 27,
   "id": "55130f78",
   "metadata": {},
   "outputs": [
    {
     "data": {
      "text/html": [
       "<style>\n",
       ".list-inline {list-style: none; margin:0; padding: 0}\n",
       ".list-inline>li {display: inline-block}\n",
       ".list-inline>li:not(:last-child)::after {content: \"\\00b7\"; padding: 0 .5ex}\n",
       "</style>\n",
       "<ol class=list-inline><li>'stop_numbe'</li><li>'stop_name'</li><li>'latitude'</li><li>'longitude'</li><li>'AvgBoards'</li><li>'city'</li></ol>\n"
      ],
      "text/latex": [
       "\\begin{enumerate*}\n",
       "\\item 'stop\\_numbe'\n",
       "\\item 'stop\\_name'\n",
       "\\item 'latitude'\n",
       "\\item 'longitude'\n",
       "\\item 'AvgBoards'\n",
       "\\item 'city'\n",
       "\\end{enumerate*}\n"
      ],
      "text/markdown": [
       "1. 'stop_numbe'\n",
       "2. 'stop_name'\n",
       "3. 'latitude'\n",
       "4. 'longitude'\n",
       "5. 'AvgBoards'\n",
       "6. 'city'\n",
       "\n",
       "\n"
      ],
      "text/plain": [
       "[1] \"stop_numbe\" \"stop_name\"  \"latitude\"   \"longitude\"  \"AvgBoards\" \n",
       "[6] \"city\"      "
      ]
     },
     "metadata": {},
     "output_type": "display_data"
    }
   ],
   "source": [
    "names(stops@data)"
   ]
  },
  {
   "cell_type": "code",
   "execution_count": 28,
   "id": "7726b75f",
   "metadata": {},
   "outputs": [],
   "source": [
    "stopdf <- unique(dat[,c('stop', 'route')])"
   ]
  },
  {
   "cell_type": "code",
   "execution_count": 29,
   "id": "494e8c71",
   "metadata": {},
   "outputs": [
    {
     "data": {
      "text/html": [
       "842"
      ],
      "text/latex": [
       "842"
      ],
      "text/markdown": [
       "842"
      ],
      "text/plain": [
       "[1] 842"
      ]
     },
     "metadata": {},
     "output_type": "display_data"
    }
   ],
   "source": [
    "length(unique(stopdf$stop))"
   ]
  },
  {
   "cell_type": "code",
   "execution_count": 30,
   "id": "0cdb25e9",
   "metadata": {},
   "outputs": [],
   "source": [
    "names(stops)[1] <- \"stop\""
   ]
  },
  {
   "cell_type": "code",
   "execution_count": 31,
   "id": "a6220445",
   "metadata": {},
   "outputs": [
    {
     "data": {
      "text/html": [
       "<style>\n",
       ".list-inline {list-style: none; margin:0; padding: 0}\n",
       ".list-inline>li {display: inline-block}\n",
       ".list-inline>li:not(:last-child)::after {content: \"\\00b7\"; padding: 0 .5ex}\n",
       "</style>\n",
       "<ol class=list-inline><li>1245</li><li>6</li></ol>\n"
      ],
      "text/latex": [
       "\\begin{enumerate*}\n",
       "\\item 1245\n",
       "\\item 6\n",
       "\\end{enumerate*}\n"
      ],
      "text/markdown": [
       "1. 1245\n",
       "2. 6\n",
       "\n",
       "\n"
      ],
      "text/plain": [
       "[1] 1245    6"
      ]
     },
     "metadata": {},
     "output_type": "display_data"
    }
   ],
   "source": [
    "dim(stops@data)"
   ]
  },
  {
   "cell_type": "code",
   "execution_count": 32,
   "id": "0877b4e2",
   "metadata": {},
   "outputs": [
    {
     "data": {
      "text/html": [
       "1245"
      ],
      "text/latex": [
       "1245"
      ],
      "text/markdown": [
       "1245"
      ],
      "text/plain": [
       "[1] 1245"
      ]
     },
     "metadata": {},
     "output_type": "display_data"
    }
   ],
   "source": [
    "length(unique(stops@data$stop))"
   ]
  },
  {
   "cell_type": "code",
   "execution_count": 33,
   "id": "33a38d1b",
   "metadata": {},
   "outputs": [],
   "source": [
    "stopdf <- merge(stops@data[, -which(names(stops@data)==\"AvgBoards\")], stopdf, by=\"stop\")"
   ]
  },
  {
   "cell_type": "code",
   "execution_count": 34,
   "id": "40e634d5",
   "metadata": {},
   "outputs": [
    {
     "data": {
      "text/html": [
       "<style>\n",
       ".list-inline {list-style: none; margin:0; padding: 0}\n",
       ".list-inline>li {display: inline-block}\n",
       ".list-inline>li:not(:last-child)::after {content: \"\\00b7\"; padding: 0 .5ex}\n",
       "</style>\n",
       "<ol class=list-inline><li>983</li><li>6</li></ol>\n"
      ],
      "text/latex": [
       "\\begin{enumerate*}\n",
       "\\item 983\n",
       "\\item 6\n",
       "\\end{enumerate*}\n"
      ],
      "text/markdown": [
       "1. 983\n",
       "2. 6\n",
       "\n",
       "\n"
      ],
      "text/plain": [
       "[1] 983   6"
      ]
     },
     "metadata": {},
     "output_type": "display_data"
    }
   ],
   "source": [
    "dim(stopdf)"
   ]
  },
  {
   "cell_type": "code",
   "execution_count": 35,
   "id": "505e7c2f",
   "metadata": {},
   "outputs": [
    {
     "data": {
      "text/html": [
       "842"
      ],
      "text/latex": [
       "842"
      ],
      "text/markdown": [
       "842"
      ],
      "text/plain": [
       "[1] 842"
      ]
     },
     "metadata": {},
     "output_type": "display_data"
    }
   ],
   "source": [
    "length(unique(stopdf$stop))"
   ]
  },
  {
   "cell_type": "code",
   "execution_count": 36,
   "id": "ae83497a",
   "metadata": {},
   "outputs": [
    {
     "data": {
      "text/html": [
       "<style>\n",
       ".list-inline {list-style: none; margin:0; padding: 0}\n",
       ".list-inline>li {display: inline-block}\n",
       ".list-inline>li:not(:last-child)::after {content: \"\\00b7\"; padding: 0 .5ex}\n",
       "</style>\n",
       "<ol class=list-inline><li>983</li><li>2</li></ol>\n"
      ],
      "text/latex": [
       "\\begin{enumerate*}\n",
       "\\item 983\n",
       "\\item 2\n",
       "\\end{enumerate*}\n"
      ],
      "text/markdown": [
       "1. 983\n",
       "2. 2\n",
       "\n",
       "\n"
      ],
      "text/plain": [
       "[1] 983   2"
      ]
     },
     "metadata": {},
     "output_type": "display_data"
    }
   ],
   "source": [
    "dim(unique(stopdf[,c(\"stop\", \"route\")]))"
   ]
  },
  {
   "cell_type": "code",
   "execution_count": 37,
   "id": "5d590810",
   "metadata": {},
   "outputs": [
    {
     "data": {
      "text/html": [
       "<table class=\"dataframe\">\n",
       "<caption>A data.frame: 6 × 6</caption>\n",
       "<thead>\n",
       "\t<tr><th></th><th scope=col>stop</th><th scope=col>stop_name</th><th scope=col>latitude</th><th scope=col>longitude</th><th scope=col>city</th><th scope=col>route</th></tr>\n",
       "\t<tr><th></th><th scope=col>&lt;chr&gt;</th><th scope=col>&lt;chr&gt;</th><th scope=col>&lt;dbl&gt;</th><th scope=col>&lt;dbl&gt;</th><th scope=col>&lt;chr&gt;</th><th scope=col>&lt;chr&gt;</th></tr>\n",
       "</thead>\n",
       "<tbody>\n",
       "\t<tr><th scope=row>1</th><td>00001</td><td>E/S of 58th N of Main       </td><td>44.04634</td><td>-122.9267</td><td>Springfield</td><td>11</td></tr>\n",
       "\t<tr><th scope=row>2</th><td>00002</td><td>E/S of 58th S of D          </td><td>44.04946</td><td>-122.9262</td><td>Springfield</td><td>11</td></tr>\n",
       "\t<tr><th scope=row>3</th><td>00004</td><td>E/S of 58th S of Thurston Rd</td><td>44.05225</td><td>-122.9262</td><td>Springfield</td><td>11</td></tr>\n",
       "\t<tr><th scope=row>4</th><td>00006</td><td>S/S of Thurston W of 64th   </td><td>44.05295</td><td>-122.9166</td><td>Springfield</td><td>11</td></tr>\n",
       "\t<tr><th scope=row>5</th><td>00007</td><td>S/S of Thurston E of 65th   </td><td>44.05267</td><td>-122.9132</td><td>Springfield</td><td>11</td></tr>\n",
       "\t<tr><th scope=row>6</th><td>00008</td><td>S/S of Thurston W of 66th   </td><td>44.05324</td><td>-122.9113</td><td>Springfield</td><td>11</td></tr>\n",
       "</tbody>\n",
       "</table>\n"
      ],
      "text/latex": [
       "A data.frame: 6 × 6\n",
       "\\begin{tabular}{r|llllll}\n",
       "  & stop & stop\\_name & latitude & longitude & city & route\\\\\n",
       "  & <chr> & <chr> & <dbl> & <dbl> & <chr> & <chr>\\\\\n",
       "\\hline\n",
       "\t1 & 00001 & E/S of 58th N of Main        & 44.04634 & -122.9267 & Springfield & 11\\\\\n",
       "\t2 & 00002 & E/S of 58th S of D           & 44.04946 & -122.9262 & Springfield & 11\\\\\n",
       "\t3 & 00004 & E/S of 58th S of Thurston Rd & 44.05225 & -122.9262 & Springfield & 11\\\\\n",
       "\t4 & 00006 & S/S of Thurston W of 64th    & 44.05295 & -122.9166 & Springfield & 11\\\\\n",
       "\t5 & 00007 & S/S of Thurston E of 65th    & 44.05267 & -122.9132 & Springfield & 11\\\\\n",
       "\t6 & 00008 & S/S of Thurston W of 66th    & 44.05324 & -122.9113 & Springfield & 11\\\\\n",
       "\\end{tabular}\n"
      ],
      "text/markdown": [
       "\n",
       "A data.frame: 6 × 6\n",
       "\n",
       "| <!--/--> | stop &lt;chr&gt; | stop_name &lt;chr&gt; | latitude &lt;dbl&gt; | longitude &lt;dbl&gt; | city &lt;chr&gt; | route &lt;chr&gt; |\n",
       "|---|---|---|---|---|---|---|\n",
       "| 1 | 00001 | E/S of 58th N of Main        | 44.04634 | -122.9267 | Springfield | 11 |\n",
       "| 2 | 00002 | E/S of 58th S of D           | 44.04946 | -122.9262 | Springfield | 11 |\n",
       "| 3 | 00004 | E/S of 58th S of Thurston Rd | 44.05225 | -122.9262 | Springfield | 11 |\n",
       "| 4 | 00006 | S/S of Thurston W of 64th    | 44.05295 | -122.9166 | Springfield | 11 |\n",
       "| 5 | 00007 | S/S of Thurston E of 65th    | 44.05267 | -122.9132 | Springfield | 11 |\n",
       "| 6 | 00008 | S/S of Thurston W of 66th    | 44.05324 | -122.9113 | Springfield | 11 |\n",
       "\n"
      ],
      "text/plain": [
       "  stop  stop_name                    latitude longitude city        route\n",
       "1 00001 E/S of 58th N of Main        44.04634 -122.9267 Springfield 11   \n",
       "2 00002 E/S of 58th S of D           44.04946 -122.9262 Springfield 11   \n",
       "3 00004 E/S of 58th S of Thurston Rd 44.05225 -122.9262 Springfield 11   \n",
       "4 00006 S/S of Thurston W of 64th    44.05295 -122.9166 Springfield 11   \n",
       "5 00007 S/S of Thurston E of 65th    44.05267 -122.9132 Springfield 11   \n",
       "6 00008 S/S of Thurston W of 66th    44.05324 -122.9113 Springfield 11   "
      ]
     },
     "metadata": {},
     "output_type": "display_data"
    }
   ],
   "source": [
    "head(stopdf)"
   ]
  },
  {
   "cell_type": "code",
   "execution_count": 38,
   "id": "0c12f633",
   "metadata": {},
   "outputs": [
    {
     "data": {
      "text/html": [
       "<style>\n",
       ".list-inline {list-style: none; margin:0; padding: 0}\n",
       ".list-inline>li {display: inline-block}\n",
       ".list-inline>li:not(:last-child)::after {content: \"\\00b7\"; padding: 0 .5ex}\n",
       "</style>\n",
       "<ol class=list-inline><li>'Springfield'</li><li>'Eugene'</li><li>NA</li><li>'Coburg'</li></ol>\n"
      ],
      "text/latex": [
       "\\begin{enumerate*}\n",
       "\\item 'Springfield'\n",
       "\\item 'Eugene'\n",
       "\\item NA\n",
       "\\item 'Coburg'\n",
       "\\end{enumerate*}\n"
      ],
      "text/markdown": [
       "1. 'Springfield'\n",
       "2. 'Eugene'\n",
       "3. NA\n",
       "4. 'Coburg'\n",
       "\n",
       "\n"
      ],
      "text/plain": [
       "[1] \"Springfield\" \"Eugene\"      NA            \"Coburg\"     "
      ]
     },
     "metadata": {},
     "output_type": "display_data"
    }
   ],
   "source": [
    "unique(stopdf$city)"
   ]
  },
  {
   "cell_type": "code",
   "execution_count": 39,
   "id": "ccbf4059",
   "metadata": {},
   "outputs": [],
   "source": [
    "stopdf <- stopdf[!is.na((stopdf$city)),]"
   ]
  },
  {
   "cell_type": "code",
   "execution_count": 40,
   "id": "400b6ed8",
   "metadata": {},
   "outputs": [],
   "source": [
    "aggdata <- aggregate(x=list(qty = dat$qty), \n",
    "                     by=list(date = dat$date, stop = dat$stop, route=dat$route), \n",
    "                     FUN=sum)"
   ]
  },
  {
   "cell_type": "code",
   "execution_count": 41,
   "id": "bbceb379",
   "metadata": {},
   "outputs": [
    {
     "data": {
      "text/html": [
       "<style>\n",
       ".list-inline {list-style: none; margin:0; padding: 0}\n",
       ".list-inline>li {display: inline-block}\n",
       ".list-inline>li:not(:last-child)::after {content: \"\\00b7\"; padding: 0 .5ex}\n",
       "</style>\n",
       "<ol class=list-inline><li>35222</li><li>4</li></ol>\n"
      ],
      "text/latex": [
       "\\begin{enumerate*}\n",
       "\\item 35222\n",
       "\\item 4\n",
       "\\end{enumerate*}\n"
      ],
      "text/markdown": [
       "1. 35222\n",
       "2. 4\n",
       "\n",
       "\n"
      ],
      "text/plain": [
       "[1] 35222     4"
      ]
     },
     "metadata": {},
     "output_type": "display_data"
    }
   ],
   "source": [
    "dim(aggdata)"
   ]
  },
  {
   "cell_type": "code",
   "execution_count": 42,
   "id": "8e3b7eed",
   "metadata": {},
   "outputs": [
    {
     "data": {
      "text/html": [
       "<table class=\"dataframe\">\n",
       "<caption>A data.frame: 6 × 4</caption>\n",
       "<thead>\n",
       "\t<tr><th></th><th scope=col>date</th><th scope=col>stop</th><th scope=col>route</th><th scope=col>qty</th></tr>\n",
       "\t<tr><th></th><th scope=col>&lt;date&gt;</th><th scope=col>&lt;chr&gt;</th><th scope=col>&lt;chr&gt;</th><th scope=col>&lt;int&gt;</th></tr>\n",
       "</thead>\n",
       "<tbody>\n",
       "\t<tr><th scope=row>1</th><td>2021-08-02</td><td>01058</td><td>1</td><td>1</td></tr>\n",
       "\t<tr><th scope=row>2</th><td>2021-08-13</td><td>01058</td><td>1</td><td>1</td></tr>\n",
       "\t<tr><th scope=row>3</th><td>2021-10-06</td><td>01058</td><td>1</td><td>1</td></tr>\n",
       "\t<tr><th scope=row>4</th><td>2021-10-15</td><td>01058</td><td>1</td><td>1</td></tr>\n",
       "\t<tr><th scope=row>5</th><td>2021-01-23</td><td>01060</td><td>1</td><td>1</td></tr>\n",
       "\t<tr><th scope=row>6</th><td>2021-05-24</td><td>01060</td><td>1</td><td>1</td></tr>\n",
       "</tbody>\n",
       "</table>\n"
      ],
      "text/latex": [
       "A data.frame: 6 × 4\n",
       "\\begin{tabular}{r|llll}\n",
       "  & date & stop & route & qty\\\\\n",
       "  & <date> & <chr> & <chr> & <int>\\\\\n",
       "\\hline\n",
       "\t1 & 2021-08-02 & 01058 & 1 & 1\\\\\n",
       "\t2 & 2021-08-13 & 01058 & 1 & 1\\\\\n",
       "\t3 & 2021-10-06 & 01058 & 1 & 1\\\\\n",
       "\t4 & 2021-10-15 & 01058 & 1 & 1\\\\\n",
       "\t5 & 2021-01-23 & 01060 & 1 & 1\\\\\n",
       "\t6 & 2021-05-24 & 01060 & 1 & 1\\\\\n",
       "\\end{tabular}\n"
      ],
      "text/markdown": [
       "\n",
       "A data.frame: 6 × 4\n",
       "\n",
       "| <!--/--> | date &lt;date&gt; | stop &lt;chr&gt; | route &lt;chr&gt; | qty &lt;int&gt; |\n",
       "|---|---|---|---|---|\n",
       "| 1 | 2021-08-02 | 01058 | 1 | 1 |\n",
       "| 2 | 2021-08-13 | 01058 | 1 | 1 |\n",
       "| 3 | 2021-10-06 | 01058 | 1 | 1 |\n",
       "| 4 | 2021-10-15 | 01058 | 1 | 1 |\n",
       "| 5 | 2021-01-23 | 01060 | 1 | 1 |\n",
       "| 6 | 2021-05-24 | 01060 | 1 | 1 |\n",
       "\n"
      ],
      "text/plain": [
       "  date       stop  route qty\n",
       "1 2021-08-02 01058 1     1  \n",
       "2 2021-08-13 01058 1     1  \n",
       "3 2021-10-06 01058 1     1  \n",
       "4 2021-10-15 01058 1     1  \n",
       "5 2021-01-23 01060 1     1  \n",
       "6 2021-05-24 01060 1     1  "
      ]
     },
     "metadata": {},
     "output_type": "display_data"
    }
   ],
   "source": [
    "head(aggdata)"
   ]
  },
  {
   "cell_type": "code",
   "execution_count": 43,
   "id": "e8b95960",
   "metadata": {},
   "outputs": [],
   "source": [
    "get_aggdata <- function(df=dat, dir=\"O\"){\n",
    "    df <- df[df$dir == dir,]\n",
    "    aggdata <- aggregate(x=list(qty = df$qty), \n",
    "                     by=list(date = df$date, stop = df$stop, route=df$route), \n",
    "                     FUN=sum)\n",
    "\n",
    "    if(dir==\"O\"){\n",
    "        names(aggdata)[4] <- \"out_qty\"\n",
    "    }else{\n",
    "        names(aggdata)[4] <- \"in_qty\"\n",
    "    }\n",
    "    \n",
    "    return(aggdata)    \n",
    "}"
   ]
  },
  {
   "cell_type": "code",
   "execution_count": 44,
   "id": "9dfbda85",
   "metadata": {},
   "outputs": [],
   "source": [
    "out_df <- get_aggdata(df=dat, dir=\"O\")"
   ]
  },
  {
   "cell_type": "code",
   "execution_count": 45,
   "id": "074bd560",
   "metadata": {},
   "outputs": [
    {
     "data": {
      "text/html": [
       "<style>\n",
       ".list-inline {list-style: none; margin:0; padding: 0}\n",
       ".list-inline>li {display: inline-block}\n",
       ".list-inline>li:not(:last-child)::after {content: \"\\00b7\"; padding: 0 .5ex}\n",
       "</style>\n",
       "<ol class=list-inline><li>17375</li><li>4</li></ol>\n"
      ],
      "text/latex": [
       "\\begin{enumerate*}\n",
       "\\item 17375\n",
       "\\item 4\n",
       "\\end{enumerate*}\n"
      ],
      "text/markdown": [
       "1. 17375\n",
       "2. 4\n",
       "\n",
       "\n"
      ],
      "text/plain": [
       "[1] 17375     4"
      ]
     },
     "metadata": {},
     "output_type": "display_data"
    }
   ],
   "source": [
    "dim(out_df)"
   ]
  },
  {
   "cell_type": "code",
   "execution_count": 46,
   "id": "0d2a8fde",
   "metadata": {},
   "outputs": [],
   "source": [
    "in_df <- get_aggdata(df=dat, dir=\"I\")"
   ]
  },
  {
   "cell_type": "code",
   "execution_count": 47,
   "id": "8ed29470",
   "metadata": {},
   "outputs": [
    {
     "data": {
      "text/html": [
       "<style>\n",
       ".list-inline {list-style: none; margin:0; padding: 0}\n",
       ".list-inline>li {display: inline-block}\n",
       ".list-inline>li:not(:last-child)::after {content: \"\\00b7\"; padding: 0 .5ex}\n",
       "</style>\n",
       "<ol class=list-inline><li>17865</li><li>4</li></ol>\n"
      ],
      "text/latex": [
       "\\begin{enumerate*}\n",
       "\\item 17865\n",
       "\\item 4\n",
       "\\end{enumerate*}\n"
      ],
      "text/markdown": [
       "1. 17865\n",
       "2. 4\n",
       "\n",
       "\n"
      ],
      "text/plain": [
       "[1] 17865     4"
      ]
     },
     "metadata": {},
     "output_type": "display_data"
    }
   ],
   "source": [
    "dim(in_df)"
   ]
  },
  {
   "cell_type": "code",
   "execution_count": 48,
   "id": "9ae67917",
   "metadata": {},
   "outputs": [],
   "source": [
    "aggdata <- merge(aggdata, get_aggdata(df=dat, dir=\"O\"), by=c(\"date\", \"stop\", \"route\"), all=TRUE)"
   ]
  },
  {
   "cell_type": "code",
   "execution_count": 49,
   "id": "1a27abd1",
   "metadata": {},
   "outputs": [
    {
     "data": {
      "text/html": [
       "<style>\n",
       ".list-inline {list-style: none; margin:0; padding: 0}\n",
       ".list-inline>li {display: inline-block}\n",
       ".list-inline>li:not(:last-child)::after {content: \"\\00b7\"; padding: 0 .5ex}\n",
       "</style>\n",
       "<ol class=list-inline><li>35222</li><li>5</li></ol>\n"
      ],
      "text/latex": [
       "\\begin{enumerate*}\n",
       "\\item 35222\n",
       "\\item 5\n",
       "\\end{enumerate*}\n"
      ],
      "text/markdown": [
       "1. 35222\n",
       "2. 5\n",
       "\n",
       "\n"
      ],
      "text/plain": [
       "[1] 35222     5"
      ]
     },
     "metadata": {},
     "output_type": "display_data"
    }
   ],
   "source": [
    "dim(aggdata )"
   ]
  },
  {
   "cell_type": "code",
   "execution_count": 50,
   "id": "bc97ff45",
   "metadata": {},
   "outputs": [],
   "source": [
    "aggdata <- merge(aggdata, get_aggdata(df=dat, dir=\"I\"), by=c(\"date\",\"stop\", \"route\"), all=TRUE)"
   ]
  },
  {
   "cell_type": "code",
   "execution_count": 51,
   "id": "a000d4fd",
   "metadata": {},
   "outputs": [],
   "source": [
    "aggdata <- merge(aggdata, stopdf, by=c(\"stop\", \"route\"))"
   ]
  },
  {
   "cell_type": "code",
   "execution_count": 52,
   "id": "d2fbb6cc",
   "metadata": {},
   "outputs": [],
   "source": [
    "aggdata <- merge(aggdata, datedf, by=\"date\")"
   ]
  },
  {
   "cell_type": "code",
   "execution_count": 53,
   "id": "142b60e9",
   "metadata": {},
   "outputs": [],
   "source": [
    "outpath <- \"T:/DCProjects/StoryMap/BikeCounting/BikeOnBuses/Output\""
   ]
  },
  {
   "cell_type": "code",
   "execution_count": 54,
   "id": "d315d25e",
   "metadata": {},
   "outputs": [],
   "source": [
    "write.csv(aggdata, paste0(outpath, \"/Daily_Bikes_On_Buses.csv\"), row.names = FALSE)"
   ]
  },
  {
   "cell_type": "code",
   "execution_count": 55,
   "id": "3f98a96e",
   "metadata": {},
   "outputs": [
    {
     "name": "stdout",
     "output_type": "stream",
     "text": [
      "OGR data source with driver: ESRI Shapefile \n",
      "Source: \"V:\\Data\\Transportation\", layer: \"MPO_Bound\"\n",
      "with 1 features\n",
      "It has 3 fields\n"
     ]
    }
   ],
   "source": [
    "MPOBound <- readOGR(dsn = \"V:/Data/Transportation\", layer=\"MPO_Bound\")"
   ]
  },
  {
   "cell_type": "code",
   "execution_count": 56,
   "id": "ec4922fc",
   "metadata": {},
   "outputs": [],
   "source": [
    "df2spdf <- function(df, lon_col_name, lat_col_name, trans = TRUE){\n",
    "  lonlat <- sp::CRS(\"+proj=longlat +datum=WGS84 +ellps=WGS84 +towgs84=0,0,0\")\n",
    "  lon_col_no <- which(names(df)==lon_col_name)\n",
    "  lat_col_no <- which(names(df)==lat_col_name)\n",
    "  xy <- data.frame(df[,c(lon_col_no,lat_col_no)])\n",
    "  coordinates(xy) <- c(lon_col_name, lat_col_name)\n",
    "  proj4string(xy) <- lonlat\n",
    "  spdf <- sp::SpatialPointsDataFrame(coords = xy, data = df)\n",
    "  if(trans){\n",
    "    spdf <- spTransform(spdf, CRS(proj4string(MPOBound)))\n",
    "  }\n",
    "  return(spdf)\n",
    "}"
   ]
  },
  {
   "cell_type": "code",
   "execution_count": 57,
   "id": "16298896",
   "metadata": {},
   "outputs": [],
   "source": [
    "spdf <- df2spdf(aggdata, 'longitude', 'latitude')"
   ]
  },
  {
   "cell_type": "code",
   "execution_count": 58,
   "id": "d305ed14",
   "metadata": {},
   "outputs": [],
   "source": [
    "writeOGR(spdf, dsn=outpath, layer=\"Daily_Bikes_On_Buses\", driver=\"ESRI Shapefile\", overwrite_layer=TRUE)"
   ]
  },
  {
   "cell_type": "code",
   "execution_count": 59,
   "id": "52efdd5a",
   "metadata": {},
   "outputs": [],
   "source": [
    "sumdf <- aggregate(x=list(qty = aggdata$qty, \n",
    "                          out_qty = aggdata$out_qty, \n",
    "                          in_qty = aggdata$in_qty), \n",
    "                   by=list(stop = aggdata$stop, route=aggdata$route), \n",
    "                   FUN=sum)"
   ]
  },
  {
   "cell_type": "code",
   "execution_count": 60,
   "id": "96f66d42",
   "metadata": {},
   "outputs": [],
   "source": [
    "avgdf <- aggregate(x=list(avgqty = aggdata$qty), \n",
    "                   by=list(stop = aggdata$stop, route=aggdata$route), \n",
    "                   FUN=mean)"
   ]
  },
  {
   "cell_type": "code",
   "execution_count": 61,
   "id": "43e58080",
   "metadata": {},
   "outputs": [],
   "source": [
    "sumdf$pct_out <- (sumdf$out_qty / sumdf$qty) * 100"
   ]
  },
  {
   "cell_type": "code",
   "execution_count": 62,
   "id": "f06a7836",
   "metadata": {},
   "outputs": [],
   "source": [
    "sum_avg_df <- merge(sumdf, avgdf, by=c(\"stop\", \"route\"))"
   ]
  },
  {
   "cell_type": "code",
   "execution_count": 63,
   "id": "174716f4",
   "metadata": {},
   "outputs": [],
   "source": [
    "sum_avg_df <- merge(sum_avg_df, stopdf, by=c(\"stop\", \"route\"))"
   ]
  },
  {
   "cell_type": "code",
   "execution_count": 84,
   "id": "50b5b2d3",
   "metadata": {},
   "outputs": [
    {
     "data": {
      "text/html": [
       "<style>\n",
       ".list-inline {list-style: none; margin:0; padding: 0}\n",
       ".list-inline>li {display: inline-block}\n",
       ".list-inline>li:not(:last-child)::after {content: \"\\00b7\"; padding: 0 .5ex}\n",
       "</style>\n",
       "<ol class=list-inline><li>1</li><li>7.38826815642458</li></ol>\n"
      ],
      "text/latex": [
       "\\begin{enumerate*}\n",
       "\\item 1\n",
       "\\item 7.38826815642458\n",
       "\\end{enumerate*}\n"
      ],
      "text/markdown": [
       "1. 1\n",
       "2. 7.38826815642458\n",
       "\n",
       "\n"
      ],
      "text/plain": [
       "[1] 1.000000 7.388268"
      ]
     },
     "metadata": {},
     "output_type": "display_data"
    }
   ],
   "source": [
    "range(sum_avg_df$avgqty)"
   ]
  },
  {
   "cell_type": "code",
   "execution_count": 64,
   "id": "a42f3694",
   "metadata": {},
   "outputs": [
    {
     "data": {
      "text/html": [
       "<style>\n",
       ".list-inline {list-style: none; margin:0; padding: 0}\n",
       ".list-inline>li {display: inline-block}\n",
       ".list-inline>li:not(:last-child)::after {content: \"\\00b7\"; padding: 0 .5ex}\n",
       "</style>\n",
       "<ol class=list-inline><li>898</li><li>11</li></ol>\n"
      ],
      "text/latex": [
       "\\begin{enumerate*}\n",
       "\\item 898\n",
       "\\item 11\n",
       "\\end{enumerate*}\n"
      ],
      "text/markdown": [
       "1. 898\n",
       "2. 11\n",
       "\n",
       "\n"
      ],
      "text/plain": [
       "[1] 898  11"
      ]
     },
     "metadata": {},
     "output_type": "display_data"
    }
   ],
   "source": [
    "dim(sum_avg_df)"
   ]
  },
  {
   "cell_type": "code",
   "execution_count": 69,
   "id": "e1104100",
   "metadata": {},
   "outputs": [
    {
     "data": {
      "text/html": [
       "<style>\n",
       ".list-inline {list-style: none; margin:0; padding: 0}\n",
       ".list-inline>li {display: inline-block}\n",
       ".list-inline>li:not(:last-child)::after {content: \"\\00b7\"; padding: 0 .5ex}\n",
       "</style>\n",
       "<ol class=list-inline><li>'stop'</li><li>'route'</li><li>'qty'</li><li>'out_qty'</li><li>'in_qty'</li><li>'pct_out'</li><li>'avgqty'</li><li>'stop_name'</li><li>'latitude'</li><li>'longitude'</li><li>'city'</li></ol>\n"
      ],
      "text/latex": [
       "\\begin{enumerate*}\n",
       "\\item 'stop'\n",
       "\\item 'route'\n",
       "\\item 'qty'\n",
       "\\item 'out\\_qty'\n",
       "\\item 'in\\_qty'\n",
       "\\item 'pct\\_out'\n",
       "\\item 'avgqty'\n",
       "\\item 'stop\\_name'\n",
       "\\item 'latitude'\n",
       "\\item 'longitude'\n",
       "\\item 'city'\n",
       "\\end{enumerate*}\n"
      ],
      "text/markdown": [
       "1. 'stop'\n",
       "2. 'route'\n",
       "3. 'qty'\n",
       "4. 'out_qty'\n",
       "5. 'in_qty'\n",
       "6. 'pct_out'\n",
       "7. 'avgqty'\n",
       "8. 'stop_name'\n",
       "9. 'latitude'\n",
       "10. 'longitude'\n",
       "11. 'city'\n",
       "\n",
       "\n"
      ],
      "text/plain": [
       " [1] \"stop\"      \"route\"     \"qty\"       \"out_qty\"   \"in_qty\"    \"pct_out\"  \n",
       " [7] \"avgqty\"    \"stop_name\" \"latitude\"  \"longitude\" \"city\"     "
      ]
     },
     "metadata": {},
     "output_type": "display_data"
    }
   ],
   "source": [
    "names(sum_avg_df)"
   ]
  },
  {
   "cell_type": "code",
   "execution_count": 70,
   "id": "8b4af7c7",
   "metadata": {},
   "outputs": [],
   "source": [
    "route_avg <- aggregate(x=list(avgqty=sum_avg_df$avgqty), by=list(route=sum_avg_df$route), FUN=mean)"
   ]
  },
  {
   "cell_type": "code",
   "execution_count": 85,
   "id": "05417e6b",
   "metadata": {},
   "outputs": [
    {
     "data": {
      "text/html": [
       "<style>\n",
       ".list-inline {list-style: none; margin:0; padding: 0}\n",
       ".list-inline>li {display: inline-block}\n",
       ".list-inline>li:not(:last-child)::after {content: \"\\00b7\"; padding: 0 .5ex}\n",
       "</style>\n",
       "<ol class=list-inline><li>1</li><li>1.44334644004033</li></ol>\n"
      ],
      "text/latex": [
       "\\begin{enumerate*}\n",
       "\\item 1\n",
       "\\item 1.44334644004033\n",
       "\\end{enumerate*}\n"
      ],
      "text/markdown": [
       "1. 1\n",
       "2. 1.44334644004033\n",
       "\n",
       "\n"
      ],
      "text/plain": [
       "[1] 1.000000 1.443346"
      ]
     },
     "metadata": {},
     "output_type": "display_data"
    }
   ],
   "source": [
    "range(route_avg$avgqty)"
   ]
  },
  {
   "cell_type": "code",
   "execution_count": 79,
   "id": "af74d050",
   "metadata": {},
   "outputs": [
    {
     "name": "stdout",
     "output_type": "stream",
     "text": [
      "OGR data source with driver: ESRI Shapefile \n",
      "Source: \"T:\\Data\\LTD Data\\2020 Winter LTD Routes and Stops\", layer: \"Winter_2020_Routes\"\n",
      "with 31 features\n",
      "It has 2 fields\n"
     ]
    }
   ],
   "source": [
    "winter20routes <- readOGR(dsn=\"T:/Data/LTD Data/2020 Winter LTD Routes and Stops\", layer=\"Winter_2020_Routes\")"
   ]
  },
  {
   "cell_type": "code",
   "execution_count": 80,
   "id": "36104a56",
   "metadata": {},
   "outputs": [
    {
     "data": {
      "text/html": [
       "<table class=\"dataframe\">\n",
       "<caption>A data.frame: 6 × 2</caption>\n",
       "<thead>\n",
       "\t<tr><th></th><th scope=col>ROUTE</th><th scope=col>Shape_Leng</th></tr>\n",
       "\t<tr><th></th><th scope=col>&lt;chr&gt;</th><th scope=col>&lt;dbl&gt;</th></tr>\n",
       "</thead>\n",
       "<tbody>\n",
       "\t<tr><th scope=row>0</th><td>1 </td><td> 7022.793</td></tr>\n",
       "\t<tr><th scope=row>1</th><td>11</td><td>49572.562</td></tr>\n",
       "\t<tr><th scope=row>2</th><td>12</td><td>43357.313</td></tr>\n",
       "\t<tr><th scope=row>3</th><td>13</td><td>40336.364</td></tr>\n",
       "\t<tr><th scope=row>4</th><td>17</td><td>23944.353</td></tr>\n",
       "\t<tr><th scope=row>5</th><td>18</td><td>21478.748</td></tr>\n",
       "</tbody>\n",
       "</table>\n"
      ],
      "text/latex": [
       "A data.frame: 6 × 2\n",
       "\\begin{tabular}{r|ll}\n",
       "  & ROUTE & Shape\\_Leng\\\\\n",
       "  & <chr> & <dbl>\\\\\n",
       "\\hline\n",
       "\t0 & 1  &  7022.793\\\\\n",
       "\t1 & 11 & 49572.562\\\\\n",
       "\t2 & 12 & 43357.313\\\\\n",
       "\t3 & 13 & 40336.364\\\\\n",
       "\t4 & 17 & 23944.353\\\\\n",
       "\t5 & 18 & 21478.748\\\\\n",
       "\\end{tabular}\n"
      ],
      "text/markdown": [
       "\n",
       "A data.frame: 6 × 2\n",
       "\n",
       "| <!--/--> | ROUTE &lt;chr&gt; | Shape_Leng &lt;dbl&gt; |\n",
       "|---|---|---|\n",
       "| 0 | 1  |  7022.793 |\n",
       "| 1 | 11 | 49572.562 |\n",
       "| 2 | 12 | 43357.313 |\n",
       "| 3 | 13 | 40336.364 |\n",
       "| 4 | 17 | 23944.353 |\n",
       "| 5 | 18 | 21478.748 |\n",
       "\n"
      ],
      "text/plain": [
       "  ROUTE Shape_Leng\n",
       "0 1      7022.793 \n",
       "1 11    49572.562 \n",
       "2 12    43357.313 \n",
       "3 13    40336.364 \n",
       "4 17    23944.353 \n",
       "5 18    21478.748 "
      ]
     },
     "metadata": {},
     "output_type": "display_data"
    }
   ],
   "source": [
    "head(winter20routes@data)"
   ]
  },
  {
   "cell_type": "code",
   "execution_count": 81,
   "id": "6e44c202",
   "metadata": {},
   "outputs": [],
   "source": [
    "names(winter20routes@data)[1] <- \"route\""
   ]
  },
  {
   "cell_type": "code",
   "execution_count": 82,
   "id": "627d5a83",
   "metadata": {},
   "outputs": [],
   "source": [
    "winter20routes <- merge(winter20routes, route_avg, by=\"route\")"
   ]
  },
  {
   "cell_type": "code",
   "execution_count": 65,
   "id": "b75b9277",
   "metadata": {},
   "outputs": [],
   "source": [
    "write.csv(sum_avg_df, paste0(outpath, \"/Sum_Bikes_On_Buses.csv\"), row.names = FALSE)"
   ]
  },
  {
   "cell_type": "code",
   "execution_count": 83,
   "id": "55b08d76",
   "metadata": {},
   "outputs": [],
   "source": [
    "writeOGR(winter20routes, dsn=outpath, layer=\"Winter_2020_Routes\", driver=\"ESRI Shapefile\", overwrite_layer=TRUE)"
   ]
  },
  {
   "cell_type": "code",
   "execution_count": 66,
   "id": "5e998a4c",
   "metadata": {},
   "outputs": [],
   "source": [
    "sum_avg_spdf <- df2spdf(sum_avg_df, 'longitude', 'latitude')"
   ]
  },
  {
   "cell_type": "code",
   "execution_count": 67,
   "id": "0d850786",
   "metadata": {},
   "outputs": [
    {
     "data": {
      "text/html": [
       "<style>\n",
       ".list-inline {list-style: none; margin:0; padding: 0}\n",
       ".list-inline>li {display: inline-block}\n",
       ".list-inline>li:not(:last-child)::after {content: \"\\00b7\"; padding: 0 .5ex}\n",
       "</style>\n",
       "<ol class=list-inline><li>'stop'</li><li>'route'</li><li>'qty'</li><li>'out_qty'</li><li>'in_qty'</li><li>'pct_out'</li><li>'avgqty'</li><li>'stop_name'</li><li>'latitude'</li><li>'longitude'</li><li>'city'</li></ol>\n"
      ],
      "text/latex": [
       "\\begin{enumerate*}\n",
       "\\item 'stop'\n",
       "\\item 'route'\n",
       "\\item 'qty'\n",
       "\\item 'out\\_qty'\n",
       "\\item 'in\\_qty'\n",
       "\\item 'pct\\_out'\n",
       "\\item 'avgqty'\n",
       "\\item 'stop\\_name'\n",
       "\\item 'latitude'\n",
       "\\item 'longitude'\n",
       "\\item 'city'\n",
       "\\end{enumerate*}\n"
      ],
      "text/markdown": [
       "1. 'stop'\n",
       "2. 'route'\n",
       "3. 'qty'\n",
       "4. 'out_qty'\n",
       "5. 'in_qty'\n",
       "6. 'pct_out'\n",
       "7. 'avgqty'\n",
       "8. 'stop_name'\n",
       "9. 'latitude'\n",
       "10. 'longitude'\n",
       "11. 'city'\n",
       "\n",
       "\n"
      ],
      "text/plain": [
       " [1] \"stop\"      \"route\"     \"qty\"       \"out_qty\"   \"in_qty\"    \"pct_out\"  \n",
       " [7] \"avgqty\"    \"stop_name\" \"latitude\"  \"longitude\" \"city\"     "
      ]
     },
     "metadata": {},
     "output_type": "display_data"
    }
   ],
   "source": [
    "names(sum_avg_spdf)"
   ]
  },
  {
   "cell_type": "code",
   "execution_count": 68,
   "id": "4567b262",
   "metadata": {},
   "outputs": [],
   "source": [
    "writeOGR(sum_avg_spdf, dsn=outpath, layer=\"Sum_Bikes_On_Buses\", driver=\"ESRI Shapefile\", overwrite_layer=TRUE)"
   ]
  }
 ],
 "metadata": {
  "kernelspec": {
   "display_name": "R",
   "language": "R",
   "name": "ir"
  },
  "language_info": {
   "codemirror_mode": "r",
   "file_extension": ".r",
   "mimetype": "text/x-r-source",
   "name": "R",
   "pygments_lexer": "r",
   "version": "4.0.3"
  }
 },
 "nbformat": 4,
 "nbformat_minor": 5
}
