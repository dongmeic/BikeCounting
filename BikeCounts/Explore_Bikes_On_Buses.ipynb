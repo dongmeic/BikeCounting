{
 "cells": [
  {
   "cell_type": "code",
   "execution_count": 1,
   "id": "e7e78bbc",
   "metadata": {},
   "outputs": [],
   "source": [
    "options(warn = -1)"
   ]
  },
  {
   "cell_type": "code",
   "execution_count": 2,
   "id": "c69491c4",
   "metadata": {},
   "outputs": [
    {
     "name": "stderr",
     "output_type": "stream",
     "text": [
      "Loading required package: sp\n",
      "\n",
      "rgdal: version: 1.5-23, (SVN revision 1121)\n",
      "Geospatial Data Abstraction Library extensions to R successfully loaded\n",
      "Loaded GDAL runtime: GDAL 3.2.1, released 2020/12/29\n",
      "Path to GDAL shared files: C:/Users/clid1852/Documents/R/win-library/4.0/rgdal/gdal\n",
      "GDAL binary built with GEOS: TRUE \n",
      "Loaded PROJ runtime: Rel. 7.2.1, January 1st, 2021, [PJ_VERSION: 721]\n",
      "Path to PROJ shared files: C:/Users/clid1852/Documents/R/win-library/4.0/rgdal/proj\n",
      "PROJ CDN enabled: FALSE\n",
      "Linking to sp version:1.4-5\n",
      "To mute warnings of possible GDAL/OSR exportToProj4() degradation,\n",
      "use options(\"rgdal_show_exportToProj4_warnings\"=\"none\") before loading rgdal.\n",
      "Overwritten PROJ_LIB was C:/Users/clid1852/Documents/R/win-library/4.0/rgdal/proj\n",
      "\n",
      "\n",
      "Attaching package: 'dplyr'\n",
      "\n",
      "\n",
      "The following objects are masked from 'package:stats':\n",
      "\n",
      "    filter, lag\n",
      "\n",
      "\n",
      "The following objects are masked from 'package:base':\n",
      "\n",
      "    intersect, setdiff, setequal, union\n",
      "\n",
      "\n",
      "\n",
      "Attaching package: 'lubridate'\n",
      "\n",
      "\n",
      "The following objects are masked from 'package:base':\n",
      "\n",
      "    date, intersect, setdiff, union\n",
      "\n",
      "\n"
     ]
    }
   ],
   "source": [
    "library(rgdal)\n",
    "library(readxl)\n",
    "library(dplyr)\n",
    "library(tools)\n",
    "library(lubridate)\n",
    "library(stringr)"
   ]
  },
  {
   "cell_type": "code",
   "execution_count": 3,
   "id": "c552774d",
   "metadata": {},
   "outputs": [],
   "source": [
    "source(\"functions.R\")"
   ]
  },
  {
   "cell_type": "code",
   "execution_count": 4,
   "id": "dad030fb",
   "metadata": {},
   "outputs": [],
   "source": [
    "path <- \"T:/Data/LTD Data/BikeOnBuses/Monthly/\""
   ]
  },
  {
   "cell_type": "code",
   "execution_count": 5,
   "id": "654d1b99",
   "metadata": {
    "scrolled": true
   },
   "outputs": [
    {
     "data": {
      "text/html": [
       "<style>\n",
       ".list-inline {list-style: none; margin:0; padding: 0}\n",
       ".list-inline>li {display: inline-block}\n",
       ".list-inline>li:not(:last-child)::after {content: \"\\00b7\"; padding: 0 .5ex}\n",
       "</style>\n",
       "<ol class=list-inline><li>'bike count_Jan13'</li><li>'bike count_Feb13'</li><li>'bike count_Mar13'</li><li>'bike count_May13'</li><li>'bike count_Jun13'</li><li>'bike count_Jul13'</li><li>'bike count_Aug13'</li><li>'bike count_Sept13'</li><li>'bike count_Nov13'</li><li>'bike count_Dec13'</li></ol>\n"
      ],
      "text/latex": [
       "\\begin{enumerate*}\n",
       "\\item 'bike count\\_Jan13'\n",
       "\\item 'bike count\\_Feb13'\n",
       "\\item 'bike count\\_Mar13'\n",
       "\\item 'bike count\\_May13'\n",
       "\\item 'bike count\\_Jun13'\n",
       "\\item 'bike count\\_Jul13'\n",
       "\\item 'bike count\\_Aug13'\n",
       "\\item 'bike count\\_Sept13'\n",
       "\\item 'bike count\\_Nov13'\n",
       "\\item 'bike count\\_Dec13'\n",
       "\\end{enumerate*}\n"
      ],
      "text/markdown": [
       "1. 'bike count_Jan13'\n",
       "2. 'bike count_Feb13'\n",
       "3. 'bike count_Mar13'\n",
       "4. 'bike count_May13'\n",
       "5. 'bike count_Jun13'\n",
       "6. 'bike count_Jul13'\n",
       "7. 'bike count_Aug13'\n",
       "8. 'bike count_Sept13'\n",
       "9. 'bike count_Nov13'\n",
       "10. 'bike count_Dec13'\n",
       "\n",
       "\n"
      ],
      "text/plain": [
       " [1] \"bike count_Jan13\"  \"bike count_Feb13\"  \"bike count_Mar13\" \n",
       " [4] \"bike count_May13\"  \"bike count_Jun13\"  \"bike count_Jul13\" \n",
       " [7] \"bike count_Aug13\"  \"bike count_Sept13\" \"bike count_Nov13\" \n",
       "[10] \"bike count_Dec13\" "
      ]
     },
     "metadata": {},
     "output_type": "display_data"
    }
   ],
   "source": [
    "excel_sheets(paste0(path,\"LTD Bike Count_2013.xlsx\"))"
   ]
  },
  {
   "cell_type": "code",
   "execution_count": 6,
   "id": "ea28562b",
   "metadata": {},
   "outputs": [],
   "source": [
    "files <- file_path_sans_ext(list.files(path))"
   ]
  },
  {
   "cell_type": "code",
   "execution_count": 7,
   "id": "607a11a0",
   "metadata": {},
   "outputs": [
    {
     "data": {
      "text/html": [
       "<style>\n",
       ".list-inline {list-style: none; margin:0; padding: 0}\n",
       ".list-inline>li {display: inline-block}\n",
       ".list-inline>li:not(:last-child)::after {content: \"\\00b7\"; padding: 0 .5ex}\n",
       "</style>\n",
       "<ol class=list-inline><li>'LTD Bike Count_2013'</li><li>'LTD Bike Count_2014'</li><li>'LTD Bike Count_2015'</li><li>'LTD Bike Count_2016'</li><li>'LTD Bike Count_2017'</li><li>'LTD Bike Count_2018'</li><li>'LTD Bike Count_2019'</li><li>'LTD Bike Count_2020'</li><li>'LTD Bike Count_2021'</li></ol>\n"
      ],
      "text/latex": [
       "\\begin{enumerate*}\n",
       "\\item 'LTD Bike Count\\_2013'\n",
       "\\item 'LTD Bike Count\\_2014'\n",
       "\\item 'LTD Bike Count\\_2015'\n",
       "\\item 'LTD Bike Count\\_2016'\n",
       "\\item 'LTD Bike Count\\_2017'\n",
       "\\item 'LTD Bike Count\\_2018'\n",
       "\\item 'LTD Bike Count\\_2019'\n",
       "\\item 'LTD Bike Count\\_2020'\n",
       "\\item 'LTD Bike Count\\_2021'\n",
       "\\end{enumerate*}\n"
      ],
      "text/markdown": [
       "1. 'LTD Bike Count_2013'\n",
       "2. 'LTD Bike Count_2014'\n",
       "3. 'LTD Bike Count_2015'\n",
       "4. 'LTD Bike Count_2016'\n",
       "5. 'LTD Bike Count_2017'\n",
       "6. 'LTD Bike Count_2018'\n",
       "7. 'LTD Bike Count_2019'\n",
       "8. 'LTD Bike Count_2020'\n",
       "9. 'LTD Bike Count_2021'\n",
       "\n",
       "\n"
      ],
      "text/plain": [
       "[1] \"LTD Bike Count_2013\" \"LTD Bike Count_2014\" \"LTD Bike Count_2015\"\n",
       "[4] \"LTD Bike Count_2016\" \"LTD Bike Count_2017\" \"LTD Bike Count_2018\"\n",
       "[7] \"LTD Bike Count_2019\" \"LTD Bike Count_2020\" \"LTD Bike Count_2021\""
      ]
     },
     "metadata": {},
     "output_type": "display_data"
    }
   ],
   "source": [
    "files"
   ]
  },
  {
   "cell_type": "code",
   "execution_count": 8,
   "id": "97d6563c",
   "metadata": {},
   "outputs": [
    {
     "name": "stdout",
     "output_type": "stream",
     "text": [
      "[1] \"LTD Bike Count_2013\"\n",
      "[1] \"LTD Bike Count_2014\"\n",
      "[1] \"LTD Bike Count_2015\"\n",
      "[1] \"LTD Bike Count_2016\"\n",
      "[1] \"LTD Bike Count_2017\"\n",
      "[1] \"LTD Bike Count_2018\"\n",
      "[1] \"LTD Bike Count_2019\"\n",
      "[1] \"LTD Bike Count_2020\"\n",
      "[1] \"LTD Bike Count_2021\"\n"
     ]
    }
   ],
   "source": [
    "for(file in files){\n",
    "    if(file == \"LTD Bike Count_2013\"){\n",
    "        data <- readExcel(fileName=paste0(file, \".xlsx\"))\n",
    "    }else{\n",
    "        ndata <- readExcel(fileName=paste0(file, \".xlsx\"))\n",
    "        data <- rbind(data, ndata)\n",
    "    }\n",
    "    print(file)\n",
    "}"
   ]
  },
  {
   "cell_type": "code",
   "execution_count": 9,
   "id": "7fb54f92",
   "metadata": {},
   "outputs": [
    {
     "data": {
      "text/html": [
       "<table class=\"dataframe\">\n",
       "<caption>A data.frame: 6 × 16</caption>\n",
       "<thead>\n",
       "\t<tr><th></th><th scope=col>stop</th><th scope=col>srv</th><th scope=col>date</th><th scope=col>block</th><th scope=col>trip_end</th><th scope=col>time</th><th scope=col>route</th><th scope=col>dir</th><th scope=col>stop_name</th><th scope=col>bus</th><th scope=col>odometer</th><th scope=col>desc</th><th scope=col>qty</th><th scope=col>MonthYear</th><th scope=col>longitude</th><th scope=col>latitude</th></tr>\n",
       "\t<tr><th></th><th scope=col>&lt;chr&gt;</th><th scope=col>&lt;chr&gt;</th><th scope=col>&lt;dttm&gt;</th><th scope=col>&lt;dbl&gt;</th><th scope=col>&lt;dttm&gt;</th><th scope=col>&lt;dttm&gt;</th><th scope=col>&lt;chr&gt;</th><th scope=col>&lt;chr&gt;</th><th scope=col>&lt;chr&gt;</th><th scope=col>&lt;chr&gt;</th><th scope=col>&lt;dbl&gt;</th><th scope=col>&lt;chr&gt;</th><th scope=col>&lt;dbl&gt;</th><th scope=col>&lt;chr&gt;</th><th scope=col>&lt;dbl&gt;</th><th scope=col>&lt;dbl&gt;</th></tr>\n",
       "</thead>\n",
       "<tbody>\n",
       "\t<tr><th scope=row>832741</th><td>09972</td><td>wkd</td><td>2021-12-30</td><td>913</td><td>1899-12-31 16:37:00</td><td>1899-12-31 15:33:00</td><td>EmX</td><td>I</td><td>International Way Station West Inbound</td><td>6106 </td><td> 99.42</td><td>bike on rack   </td><td>1</td><td>December 2021</td><td>-123.042</td><td>44.08849</td></tr>\n",
       "\t<tr><th scope=row>832742</th><td>09972</td><td>wkd</td><td>2021-12-23</td><td>901</td><td>1899-12-31 11:56:00</td><td>1899-12-31 10:54:00</td><td>EmX</td><td>I</td><td>International Way Station West Inbound</td><td>9105 </td><td> 67.76</td><td>bike on rack   </td><td>1</td><td>December 2021</td><td>-123.042</td><td>44.08849</td></tr>\n",
       "\t<tr><th scope=row>832743</th><td>09972</td><td>wkd</td><td>2021-12-22</td><td>911</td><td>1899-12-31 12:36:00</td><td>1899-12-31 11:35:00</td><td>EmX</td><td>I</td><td>International Way Station West Inbound</td><td>15103</td><td> 55.21</td><td>bike on rack   </td><td>1</td><td>December 2021</td><td>-123.042</td><td>44.08849</td></tr>\n",
       "\t<tr><th scope=row>832744</th><td>09972</td><td>wkd</td><td>2021-12-22</td><td>905</td><td>1899-12-31 13:58:00</td><td>1899-12-31 12:56:00</td><td>EmX</td><td>I</td><td>International Way Station West Inbound</td><td>9105 </td><td> 78.66</td><td>bike on rack   </td><td>2</td><td>December 2021</td><td>-123.042</td><td>44.08849</td></tr>\n",
       "\t<tr><th scope=row>832745</th><td>09972</td><td>wkd</td><td>2021-12-01</td><td>907</td><td>1899-12-31 21:49:00</td><td>1899-12-31 20:48:00</td><td>EmX</td><td>I</td><td>International Way Station West Inbound</td><td>9101 </td><td>167.86</td><td>bike on rack   </td><td>2</td><td>December 2021</td><td>-123.042</td><td>44.08849</td></tr>\n",
       "\t<tr><th scope=row>832746</th><td>09972</td><td>wkd</td><td>2021-12-03</td><td>911</td><td>1899-12-31 16:57:00</td><td>1899-12-31 16:01:00</td><td>EmX</td><td>I</td><td>International Way Station West Inbound</td><td>6105 </td><td>102.93</td><td>bike inside bus</td><td>1</td><td>December 2021</td><td>-123.042</td><td>44.08849</td></tr>\n",
       "</tbody>\n",
       "</table>\n"
      ],
      "text/latex": [
       "A data.frame: 6 × 16\n",
       "\\begin{tabular}{r|llllllllllllllll}\n",
       "  & stop & srv & date & block & trip\\_end & time & route & dir & stop\\_name & bus & odometer & desc & qty & MonthYear & longitude & latitude\\\\\n",
       "  & <chr> & <chr> & <dttm> & <dbl> & <dttm> & <dttm> & <chr> & <chr> & <chr> & <chr> & <dbl> & <chr> & <dbl> & <chr> & <dbl> & <dbl>\\\\\n",
       "\\hline\n",
       "\t832741 & 09972 & wkd & 2021-12-30 & 913 & 1899-12-31 16:37:00 & 1899-12-31 15:33:00 & EmX & I & International Way Station West Inbound & 6106  &  99.42 & bike on rack    & 1 & December 2021 & -123.042 & 44.08849\\\\\n",
       "\t832742 & 09972 & wkd & 2021-12-23 & 901 & 1899-12-31 11:56:00 & 1899-12-31 10:54:00 & EmX & I & International Way Station West Inbound & 9105  &  67.76 & bike on rack    & 1 & December 2021 & -123.042 & 44.08849\\\\\n",
       "\t832743 & 09972 & wkd & 2021-12-22 & 911 & 1899-12-31 12:36:00 & 1899-12-31 11:35:00 & EmX & I & International Way Station West Inbound & 15103 &  55.21 & bike on rack    & 1 & December 2021 & -123.042 & 44.08849\\\\\n",
       "\t832744 & 09972 & wkd & 2021-12-22 & 905 & 1899-12-31 13:58:00 & 1899-12-31 12:56:00 & EmX & I & International Way Station West Inbound & 9105  &  78.66 & bike on rack    & 2 & December 2021 & -123.042 & 44.08849\\\\\n",
       "\t832745 & 09972 & wkd & 2021-12-01 & 907 & 1899-12-31 21:49:00 & 1899-12-31 20:48:00 & EmX & I & International Way Station West Inbound & 9101  & 167.86 & bike on rack    & 2 & December 2021 & -123.042 & 44.08849\\\\\n",
       "\t832746 & 09972 & wkd & 2021-12-03 & 911 & 1899-12-31 16:57:00 & 1899-12-31 16:01:00 & EmX & I & International Way Station West Inbound & 6105  & 102.93 & bike inside bus & 1 & December 2021 & -123.042 & 44.08849\\\\\n",
       "\\end{tabular}\n"
      ],
      "text/markdown": [
       "\n",
       "A data.frame: 6 × 16\n",
       "\n",
       "| <!--/--> | stop &lt;chr&gt; | srv &lt;chr&gt; | date &lt;dttm&gt; | block &lt;dbl&gt; | trip_end &lt;dttm&gt; | time &lt;dttm&gt; | route &lt;chr&gt; | dir &lt;chr&gt; | stop_name &lt;chr&gt; | bus &lt;chr&gt; | odometer &lt;dbl&gt; | desc &lt;chr&gt; | qty &lt;dbl&gt; | MonthYear &lt;chr&gt; | longitude &lt;dbl&gt; | latitude &lt;dbl&gt; |\n",
       "|---|---|---|---|---|---|---|---|---|---|---|---|---|---|---|---|---|\n",
       "| 832741 | 09972 | wkd | 2021-12-30 | 913 | 1899-12-31 16:37:00 | 1899-12-31 15:33:00 | EmX | I | International Way Station West Inbound | 6106  |  99.42 | bike on rack    | 1 | December 2021 | -123.042 | 44.08849 |\n",
       "| 832742 | 09972 | wkd | 2021-12-23 | 901 | 1899-12-31 11:56:00 | 1899-12-31 10:54:00 | EmX | I | International Way Station West Inbound | 9105  |  67.76 | bike on rack    | 1 | December 2021 | -123.042 | 44.08849 |\n",
       "| 832743 | 09972 | wkd | 2021-12-22 | 911 | 1899-12-31 12:36:00 | 1899-12-31 11:35:00 | EmX | I | International Way Station West Inbound | 15103 |  55.21 | bike on rack    | 1 | December 2021 | -123.042 | 44.08849 |\n",
       "| 832744 | 09972 | wkd | 2021-12-22 | 905 | 1899-12-31 13:58:00 | 1899-12-31 12:56:00 | EmX | I | International Way Station West Inbound | 9105  |  78.66 | bike on rack    | 2 | December 2021 | -123.042 | 44.08849 |\n",
       "| 832745 | 09972 | wkd | 2021-12-01 | 907 | 1899-12-31 21:49:00 | 1899-12-31 20:48:00 | EmX | I | International Way Station West Inbound | 9101  | 167.86 | bike on rack    | 2 | December 2021 | -123.042 | 44.08849 |\n",
       "| 832746 | 09972 | wkd | 2021-12-03 | 911 | 1899-12-31 16:57:00 | 1899-12-31 16:01:00 | EmX | I | International Way Station West Inbound | 6105  | 102.93 | bike inside bus | 1 | December 2021 | -123.042 | 44.08849 |\n",
       "\n"
      ],
      "text/plain": [
       "       stop  srv date       block trip_end            time                route\n",
       "832741 09972 wkd 2021-12-30 913   1899-12-31 16:37:00 1899-12-31 15:33:00 EmX  \n",
       "832742 09972 wkd 2021-12-23 901   1899-12-31 11:56:00 1899-12-31 10:54:00 EmX  \n",
       "832743 09972 wkd 2021-12-22 911   1899-12-31 12:36:00 1899-12-31 11:35:00 EmX  \n",
       "832744 09972 wkd 2021-12-22 905   1899-12-31 13:58:00 1899-12-31 12:56:00 EmX  \n",
       "832745 09972 wkd 2021-12-01 907   1899-12-31 21:49:00 1899-12-31 20:48:00 EmX  \n",
       "832746 09972 wkd 2021-12-03 911   1899-12-31 16:57:00 1899-12-31 16:01:00 EmX  \n",
       "       dir stop_name                              bus   odometer\n",
       "832741 I   International Way Station West Inbound 6106   99.42  \n",
       "832742 I   International Way Station West Inbound 9105   67.76  \n",
       "832743 I   International Way Station West Inbound 15103  55.21  \n",
       "832744 I   International Way Station West Inbound 9105   78.66  \n",
       "832745 I   International Way Station West Inbound 9101  167.86  \n",
       "832746 I   International Way Station West Inbound 6105  102.93  \n",
       "       desc            qty MonthYear     longitude latitude\n",
       "832741 bike on rack    1   December 2021 -123.042  44.08849\n",
       "832742 bike on rack    1   December 2021 -123.042  44.08849\n",
       "832743 bike on rack    1   December 2021 -123.042  44.08849\n",
       "832744 bike on rack    2   December 2021 -123.042  44.08849\n",
       "832745 bike on rack    2   December 2021 -123.042  44.08849\n",
       "832746 bike inside bus 1   December 2021 -123.042  44.08849"
      ]
     },
     "metadata": {},
     "output_type": "display_data"
    }
   ],
   "source": [
    "tail(data)"
   ]
  },
  {
   "cell_type": "code",
   "execution_count": 10,
   "id": "f2f8593b",
   "metadata": {},
   "outputs": [],
   "source": [
    "months <- c(\"April\", \"October\")\n",
    "years <- 2013:2019"
   ]
  },
  {
   "cell_type": "code",
   "execution_count": 11,
   "id": "b1edfad5",
   "metadata": {
    "scrolled": true
   },
   "outputs": [
    {
     "name": "stdout",
     "output_type": "stream",
     "text": [
      "[1] \"2013 April\"\n",
      "[1] \"2013 October\"\n",
      "[1] \"2014 April\"\n",
      "[1] \"2014 October\"\n",
      "[1] \"2015 April\"\n",
      "[1] \"2015 October\"\n",
      "[1] \"2016 April\"\n",
      "[1] \"2016 October\"\n",
      "[1] 2017\n",
      "[1] \"2018 April\"\n",
      "[1] \"2018 October\"\n",
      "[1] \"2019 April\"\n",
      "[1] \"2019 October\"\n"
     ]
    }
   ],
   "source": [
    "for(year in years){\n",
    "    if(year==2017){\n",
    "        ndf <- readSheet(path = \"T:/Data/LTD Data/BoardingSince2011/\", \n",
    "                        fileName = paste0(year, \".xlsx\"),\n",
    "                        sheetName = \"bike counts\")\n",
    "        df <- rbind(df, ndf)\n",
    "        print(year)\n",
    "    }else{\n",
    "        for(month in months){\n",
    "            if(year==2013 & month==\"April\"){\n",
    "                df <- readSheet(path = \"T:/Data/LTD Data/BoardingSince2011/\", \n",
    "                            fileName = paste0(month, \" \", year, \".xlsx\"),\n",
    "                            sheetName = \"bike counts\")\n",
    "            }else{\n",
    "                ndf <- readSheet(path = \"T:/Data/LTD Data/BoardingSince2011/\", \n",
    "                            fileName = paste0(month, \" \", year, \".xlsx\"),\n",
    "                            sheetName = \"bike counts\")\n",
    "                if(year==2013 & month==\"October\"){\n",
    "                    df <- rbind(ndf, df)\n",
    "                }else{\n",
    "                    df <- rbind(df, ndf)\n",
    "                }  \n",
    "            }\n",
    "            print(paste(year, month))\n",
    "        }  \n",
    "    }\n",
    "\n",
    "}"
   ]
  },
  {
   "cell_type": "code",
   "execution_count": 12,
   "id": "e3853f2f",
   "metadata": {},
   "outputs": [],
   "source": [
    "df <- df[month(df$date) %in% c(4, 10),]"
   ]
  },
  {
   "cell_type": "code",
   "execution_count": 13,
   "id": "f3766098",
   "metadata": {},
   "outputs": [],
   "source": [
    "data <- rbind(data, df)"
   ]
  },
  {
   "cell_type": "code",
   "execution_count": 14,
   "id": "d2f3d215",
   "metadata": {},
   "outputs": [
    {
     "data": {
      "text/html": [
       "<style>\n",
       ".list-inline {list-style: none; margin:0; padding: 0}\n",
       ".list-inline>li {display: inline-block}\n",
       ".list-inline>li:not(:last-child)::after {content: \"\\00b7\"; padding: 0 .5ex}\n",
       "</style>\n",
       "<ol class=list-inline><li>1020188</li><li>16</li></ol>\n"
      ],
      "text/latex": [
       "\\begin{enumerate*}\n",
       "\\item 1020188\n",
       "\\item 16\n",
       "\\end{enumerate*}\n"
      ],
      "text/markdown": [
       "1. 1020188\n",
       "2. 16\n",
       "\n",
       "\n"
      ],
      "text/plain": [
       "[1] 1020188      16"
      ]
     },
     "metadata": {},
     "output_type": "display_data"
    }
   ],
   "source": [
    "dim(data)"
   ]
  },
  {
   "cell_type": "code",
   "execution_count": 15,
   "id": "79780573",
   "metadata": {},
   "outputs": [],
   "source": [
    "data <- unique(data)"
   ]
  },
  {
   "cell_type": "code",
   "execution_count": 16,
   "id": "baae23cc",
   "metadata": {},
   "outputs": [
    {
     "data": {
      "text/html": [
       "<style>\n",
       ".list-inline {list-style: none; margin:0; padding: 0}\n",
       ".list-inline>li {display: inline-block}\n",
       ".list-inline>li:not(:last-child)::after {content: \"\\00b7\"; padding: 0 .5ex}\n",
       "</style>\n",
       "<ol class=list-inline><li>993150</li><li>16</li></ol>\n"
      ],
      "text/latex": [
       "\\begin{enumerate*}\n",
       "\\item 993150\n",
       "\\item 16\n",
       "\\end{enumerate*}\n"
      ],
      "text/markdown": [
       "1. 993150\n",
       "2. 16\n",
       "\n",
       "\n"
      ],
      "text/plain": [
       "[1] 993150     16"
      ]
     },
     "metadata": {},
     "output_type": "display_data"
    }
   ],
   "source": [
    "dim(data)"
   ]
  },
  {
   "cell_type": "code",
   "execution_count": 17,
   "id": "4a3788df",
   "metadata": {},
   "outputs": [],
   "source": [
    "write.csv(data, paste0('T:/Tableau/tableauBikesOnBuses/Datasources/MonthlyBikesOnBuses.csv'), row.names = FALSE)"
   ]
  },
  {
   "cell_type": "code",
   "execution_count": 17,
   "id": "21133425",
   "metadata": {},
   "outputs": [
    {
     "data": {
      "text/plain": [
       "[1] \"2013-01-02 UTC\" \"2021-11-15 UTC\""
      ]
     },
     "metadata": {},
     "output_type": "display_data"
    }
   ],
   "source": [
    "range(data$date)"
   ]
  },
  {
   "cell_type": "code",
   "execution_count": 24,
   "id": "ac5a2bbf",
   "metadata": {},
   "outputs": [
    {
     "name": "stdout",
     "output_type": "stream",
     "text": [
      "OGR data source with driver: ESRI Shapefile \n",
      "Source: \"V:\\Data\\Transportation\", layer: \"MPO_Bound\"\n",
      "with 1 features\n",
      "It has 3 fields\n"
     ]
    }
   ],
   "source": [
    "MPOBound <- readOGR(dsn = \"V:/Data/Transportation\", layer=\"MPO_Bound\")"
   ]
  },
  {
   "cell_type": "code",
   "execution_count": 18,
   "id": "0722fd96",
   "metadata": {},
   "outputs": [
    {
     "data": {
      "text/html": [
       "36"
      ],
      "text/latex": [
       "36"
      ],
      "text/markdown": [
       "36"
      ],
      "text/plain": [
       "[1] 36"
      ]
     },
     "metadata": {},
     "output_type": "display_data"
    }
   ],
   "source": [
    "length(unique(data$route))"
   ]
  },
  {
   "cell_type": "code",
   "execution_count": 19,
   "id": "3834b158",
   "metadata": {},
   "outputs": [],
   "source": [
    "aggdata <- aggregate(x=list(qty = data$qty), by=list(stop_name = data$stop_name), FUN=sum)"
   ]
  },
  {
   "cell_type": "code",
   "execution_count": 20,
   "id": "cd76048d",
   "metadata": {},
   "outputs": [],
   "source": [
    "locdata <- aggregate(x=list(latitude = data$latitude, longitude= data$longitude), \n",
    "                     by=list(stop_name = data$stop_name), FUN=first)"
   ]
  },
  {
   "cell_type": "code",
   "execution_count": 21,
   "id": "b4a93e32",
   "metadata": {},
   "outputs": [],
   "source": [
    "aggdata <- merge(aggdata, locdata, by='stop_name')"
   ]
  },
  {
   "cell_type": "code",
   "execution_count": 22,
   "id": "52991a83",
   "metadata": {
    "scrolled": true
   },
   "outputs": [],
   "source": [
    "spdf <- df2spdf(aggdata, 'longitude', 'latitude')"
   ]
  },
  {
   "cell_type": "code",
   "execution_count": 25,
   "id": "0ca33af8",
   "metadata": {},
   "outputs": [
    {
     "data": {
      "image/png": "[encoded data removed]",
      "text/plain": [
       "plot without title"
      ]
     },
     "metadata": {
      "image/png": {
       "height": 720,
       "width": 720
      }
     },
     "output_type": "display_data"
    }
   ],
   "source": [
    "options(repr.plot.width=12, repr.plot.height=12)\n",
    "par(mfrow=c(1,1),mar=c(0,0,2,0))\n",
    "plot(MPOBound)\n",
    "plot(spdf, add=TRUE, col='grey')\n",
    "points(spdf$longitude, spdf$latitude, cex=spdf$qty/2000)"
   ]
  },
  {
   "cell_type": "code",
   "execution_count": 26,
   "id": "494120f8",
   "metadata": {},
   "outputs": [],
   "source": [
    "spdf@data <- spdf@data[!grepl(paste(c(\"Springfield Station, Bay\", \"Eugene Station, Bay\"),collapse = \"|\"), spdf@data$stop_name),]"
   ]
  },
  {
   "cell_type": "code",
   "execution_count": 27,
   "id": "d913aba8",
   "metadata": {},
   "outputs": [
    {
     "data": {
      "image/png": "[encoded data removed]",
      "text/plain": [
       "plot without title"
      ]
     },
     "metadata": {
      "image/png": {
       "height": 720,
       "width": 720
      }
     },
     "output_type": "display_data"
    }
   ],
   "source": [
    "par(mfrow=c(1,1),mar=c(0,0,2,0))\n",
    "plot(MPOBound)\n",
    "plot(spdf, add=TRUE, col='grey')\n",
    "points(spdf$longitude, spdf$latitude, cex=spdf$qty/1000)"
   ]
  },
  {
   "cell_type": "code",
   "execution_count": 28,
   "id": "66d8dfaf",
   "metadata": {},
   "outputs": [],
   "source": [
    "outdata <- aggregate(x=list(Counts = data$qty), by=list(Year = year(data$date), Location = data$stop_name), FUN=sum)"
   ]
  },
  {
   "cell_type": "code",
   "execution_count": 29,
   "id": "87d67cf1",
   "metadata": {},
   "outputs": [
    {
     "data": {
      "text/html": [
       "<table class=\"dataframe\">\n",
       "<caption>A data.frame: 6 × 3</caption>\n",
       "<thead>\n",
       "\t<tr><th></th><th scope=col>stop_name</th><th scope=col>latitude</th><th scope=col>longitude</th></tr>\n",
       "\t<tr><th></th><th scope=col>&lt;chr&gt;</th><th scope=col>&lt;dbl&gt;</th><th scope=col>&lt;dbl&gt;</th></tr>\n",
       "</thead>\n",
       "<tbody>\n",
       "\t<tr><th scope=row>1</th><td>\"E\" Street Station                           </td><td>44.05092</td><td>-123.0221</td></tr>\n",
       "\t<tr><th scope=row>2</th><td>\"F\" Street Station                           </td><td>44.05118</td><td>-123.0232</td></tr>\n",
       "\t<tr><th scope=row>3</th><td>\"Q\" Street Station inbound                   </td><td>44.06277</td><td>-123.0262</td></tr>\n",
       "\t<tr><th scope=row>4</th><td>\"Q\" Street Station outbound                  </td><td>44.06332</td><td>-123.0262</td></tr>\n",
       "\t<tr><th scope=row>5</th><td>(^) N/S of Hwy 126 (MP 23.8) W of Leaburg Dam</td><td>44.13587</td><td>-122.6134</td></tr>\n",
       "\t<tr><th scope=row>6</th><td>(^) N/S of Lost Crk (Dexter)                 </td><td>43.91483</td><td>-122.8129</td></tr>\n",
       "</tbody>\n",
       "</table>\n"
      ],
      "text/latex": [
       "A data.frame: 6 × 3\n",
       "\\begin{tabular}{r|lll}\n",
       "  & stop\\_name & latitude & longitude\\\\\n",
       "  & <chr> & <dbl> & <dbl>\\\\\n",
       "\\hline\n",
       "\t1 & \"E\" Street Station                            & 44.05092 & -123.0221\\\\\n",
       "\t2 & \"F\" Street Station                            & 44.05118 & -123.0232\\\\\n",
       "\t3 & \"Q\" Street Station inbound                    & 44.06277 & -123.0262\\\\\n",
       "\t4 & \"Q\" Street Station outbound                   & 44.06332 & -123.0262\\\\\n",
       "\t5 & (\\textasciicircum{}) N/S of Hwy 126 (MP 23.8) W of Leaburg Dam & 44.13587 & -122.6134\\\\\n",
       "\t6 & (\\textasciicircum{}) N/S of Lost Crk (Dexter)                  & 43.91483 & -122.8129\\\\\n",
       "\\end{tabular}\n"
      ],
      "text/markdown": [
       "\n",
       "A data.frame: 6 × 3\n",
       "\n",
       "| <!--/--> | stop_name &lt;chr&gt; | latitude &lt;dbl&gt; | longitude &lt;dbl&gt; |\n",
       "|---|---|---|---|\n",
       "| 1 | \"E\" Street Station                            | 44.05092 | -123.0221 |\n",
       "| 2 | \"F\" Street Station                            | 44.05118 | -123.0232 |\n",
       "| 3 | \"Q\" Street Station inbound                    | 44.06277 | -123.0262 |\n",
       "| 4 | \"Q\" Street Station outbound                   | 44.06332 | -123.0262 |\n",
       "| 5 | (^) N/S of Hwy 126 (MP 23.8) W of Leaburg Dam | 44.13587 | -122.6134 |\n",
       "| 6 | (^) N/S of Lost Crk (Dexter)                  | 43.91483 | -122.8129 |\n",
       "\n"
      ],
      "text/plain": [
       "  stop_name                                     latitude longitude\n",
       "1 \"E\" Street Station                            44.05092 -123.0221\n",
       "2 \"F\" Street Station                            44.05118 -123.0232\n",
       "3 \"Q\" Street Station inbound                    44.06277 -123.0262\n",
       "4 \"Q\" Street Station outbound                   44.06332 -123.0262\n",
       "5 (^) N/S of Hwy 126 (MP 23.8) W of Leaburg Dam 44.13587 -122.6134\n",
       "6 (^) N/S of Lost Crk (Dexter)                  43.91483 -122.8129"
      ]
     },
     "metadata": {},
     "output_type": "display_data"
    }
   ],
   "source": [
    "head(locdata)"
   ]
  },
  {
   "cell_type": "code",
   "execution_count": 30,
   "id": "1c6882dd",
   "metadata": {},
   "outputs": [],
   "source": [
    "names(locdata) <- c('Location', 'Latitude', 'Longitude')"
   ]
  },
  {
   "cell_type": "code",
   "execution_count": 31,
   "id": "f7838b6c",
   "metadata": {},
   "outputs": [],
   "source": [
    "outdata <- merge(outdata, locdata, by = 'Location')"
   ]
  },
  {
   "cell_type": "code",
   "execution_count": 32,
   "id": "43105f70",
   "metadata": {},
   "outputs": [
    {
     "data": {
      "text/html": [
       "<style>\n",
       ".list-inline {list-style: none; margin:0; padding: 0}\n",
       ".list-inline>li {display: inline-block}\n",
       ".list-inline>li:not(:last-child)::after {content: \"\\00b7\"; padding: 0 .5ex}\n",
       "</style>\n",
       "<ol class=list-inline><li>9548</li><li>5</li></ol>\n"
      ],
      "text/latex": [
       "\\begin{enumerate*}\n",
       "\\item 9548\n",
       "\\item 5\n",
       "\\end{enumerate*}\n"
      ],
      "text/markdown": [
       "1. 9548\n",
       "2. 5\n",
       "\n",
       "\n"
      ],
      "text/plain": [
       "[1] 9548    5"
      ]
     },
     "metadata": {},
     "output_type": "display_data"
    }
   ],
   "source": [
    "dim(outdata)"
   ]
  },
  {
   "cell_type": "code",
   "execution_count": 33,
   "id": "fc525544",
   "metadata": {},
   "outputs": [],
   "source": [
    "outdata <- outdata[rev(order(outdata$Counts)),]"
   ]
  },
  {
   "cell_type": "code",
   "execution_count": 34,
   "id": "ec7de18d",
   "metadata": {},
   "outputs": [],
   "source": [
    "sdata <- outdata[!grepl(paste(c(\"Springfield Station, Bay\", \"Eugene Station, Bay\"),collapse = \"|\"), outdata$Location),]"
   ]
  },
  {
   "cell_type": "code",
   "execution_count": 36,
   "id": "f99e69c8",
   "metadata": {},
   "outputs": [
    {
     "data": {
      "image/png": "[encoded data removed]",
      "text/plain": [
       "plot without title"
      ]
     },
     "metadata": {
      "image/png": {
       "height": 480,
       "width": 480
      }
     },
     "output_type": "display_data"
    }
   ],
   "source": [
    "options(repr.plot.width=8, repr.plot.height=8)\n",
    "boxplot(Counts~Year,data=sdata)"
   ]
  },
  {
   "cell_type": "code",
   "execution_count": 105,
   "id": "bd5edea3",
   "metadata": {},
   "outputs": [],
   "source": [
    "#outdata$Growth <- with(outdata[,c('Location', 'Year', 'Counts')], ave(Counts, Location,\n",
    "#                     FUN=function(x) c(NA, diff(x)/x[-length(x)]) ))"
   ]
  },
  {
   "cell_type": "code",
   "execution_count": 37,
   "id": "9d6d7148",
   "metadata": {
    "scrolled": true
   },
   "outputs": [
    {
     "data": {
      "text/html": [
       "<style>\n",
       ".list-inline {list-style: none; margin:0; padding: 0}\n",
       ".list-inline>li {display: inline-block}\n",
       ".list-inline>li:not(:last-child)::after {content: \"\\00b7\"; padding: 0 .5ex}\n",
       "</style>\n",
       "<ol class=list-inline><li>2013</li><li>2014</li><li>2015</li><li>2018</li><li>2017</li><li>2019</li><li>2016</li><li>2020</li><li>2021</li></ol>\n"
      ],
      "text/latex": [
       "\\begin{enumerate*}\n",
       "\\item 2013\n",
       "\\item 2014\n",
       "\\item 2015\n",
       "\\item 2018\n",
       "\\item 2017\n",
       "\\item 2019\n",
       "\\item 2016\n",
       "\\item 2020\n",
       "\\item 2021\n",
       "\\end{enumerate*}\n"
      ],
      "text/markdown": [
       "1. 2013\n",
       "2. 2014\n",
       "3. 2015\n",
       "4. 2018\n",
       "5. 2017\n",
       "6. 2019\n",
       "7. 2016\n",
       "8. 2020\n",
       "9. 2021\n",
       "\n",
       "\n"
      ],
      "text/plain": [
       "[1] 2013 2014 2015 2018 2017 2019 2016 2020 2021"
      ]
     },
     "metadata": {},
     "output_type": "display_data"
    }
   ],
   "source": [
    "unique(outdata$Year)"
   ]
  },
  {
   "cell_type": "code",
   "execution_count": 38,
   "id": "71292728",
   "metadata": {},
   "outputs": [
    {
     "data": {
      "text/html": [
       "<style>\n",
       ".list-inline {list-style: none; margin:0; padding: 0}\n",
       ".list-inline>li {display: inline-block}\n",
       ".list-inline>li:not(:last-child)::after {content: \"\\00b7\"; padding: 0 .5ex}\n",
       "</style>\n",
       "<ol class=list-inline><li>'Location'</li><li>'Year'</li><li>'Counts'</li><li>'Latitude'</li><li>'Longitude'</li></ol>\n"
      ],
      "text/latex": [
       "\\begin{enumerate*}\n",
       "\\item 'Location'\n",
       "\\item 'Year'\n",
       "\\item 'Counts'\n",
       "\\item 'Latitude'\n",
       "\\item 'Longitude'\n",
       "\\end{enumerate*}\n"
      ],
      "text/markdown": [
       "1. 'Location'\n",
       "2. 'Year'\n",
       "3. 'Counts'\n",
       "4. 'Latitude'\n",
       "5. 'Longitude'\n",
       "\n",
       "\n"
      ],
      "text/plain": [
       "[1] \"Location\"  \"Year\"      \"Counts\"    \"Latitude\"  \"Longitude\""
      ]
     },
     "metadata": {},
     "output_type": "display_data"
    }
   ],
   "source": [
    "names(outdata)"
   ]
  },
  {
   "cell_type": "code",
   "execution_count": 39,
   "id": "814572c0",
   "metadata": {},
   "outputs": [],
   "source": [
    "for(loc in unique(outdata$Location)){\n",
    "    years <- sort(unique(outdata[outdata$Location == loc,\"Year\"]))\n",
    "    for(yr in years){\n",
    "        if(yr==min(years)){\n",
    "            outdata[outdata$Location==loc & outdata$Year==yr,\"Growth\"] <- NA\n",
    "        }else{\n",
    "            i <- which(years==yr)\n",
    "            x1 <- outdata[outdata$Location==loc & outdata$Year==yr,\"Counts\"]\n",
    "            x2 <- outdata[outdata$Location==loc & outdata$Year==years[i-1],\"Counts\"]\n",
    "            n <- yr - years[i-1]\n",
    "            outdata[outdata$Location==loc & outdata$Year==yr,\"Growth\"] <- (x1-x2)/(n*x2)\n",
    "        }\n",
    "    }\n",
    "}"
   ]
  },
  {
   "cell_type": "code",
   "execution_count": 41,
   "id": "a9bdf1f4",
   "metadata": {},
   "outputs": [
    {
     "data": {
      "image/png": "[encoded data removed]",
      "text/plain": [
       "plot without title"
      ]
     },
     "metadata": {
      "image/png": {
       "height": 480,
       "width": 480
      }
     },
     "output_type": "display_data"
    }
   ],
   "source": [
    "boxplot(Growth~Year,data=outdata)\n",
    "abline(h=0, col='red', lwd=2, lty=2)"
   ]
  },
  {
   "cell_type": "code",
   "execution_count": 43,
   "id": "27e45f52",
   "metadata": {},
   "outputs": [],
   "source": [
    "df <- transform(aggregate(x=list(Counts = data$qty), by=list(Year = year(data$date)), FUN=sum), Growth=ave(Counts, \n",
    "                         FUN=function(x) c(NA, diff(x)/x[-length(x)])))"
   ]
  },
  {
   "cell_type": "code",
   "execution_count": 44,
   "id": "aa728d09",
   "metadata": {},
   "outputs": [
    {
     "data": {
      "text/html": [
       "<table class=\"dataframe\">\n",
       "<caption>A data.frame: 9 × 3</caption>\n",
       "<thead>\n",
       "\t<tr><th scope=col>Year</th><th scope=col>Counts</th><th scope=col>Growth</th></tr>\n",
       "\t<tr><th scope=col>&lt;dbl&gt;</th><th scope=col>&lt;dbl&gt;</th><th scope=col>&lt;dbl&gt;</th></tr>\n",
       "</thead>\n",
       "<tbody>\n",
       "\t<tr><td>2013</td><td>173635</td><td>          NA</td></tr>\n",
       "\t<tr><td>2014</td><td>183700</td><td> 0.057966424</td></tr>\n",
       "\t<tr><td>2015</td><td>163960</td><td>-0.107457812</td></tr>\n",
       "\t<tr><td>2016</td><td>114387</td><td>-0.302348134</td></tr>\n",
       "\t<tr><td>2017</td><td>138272</td><td> 0.208808693</td></tr>\n",
       "\t<tr><td>2018</td><td>136964</td><td>-0.009459616</td></tr>\n",
       "\t<tr><td>2019</td><td>120353</td><td>-0.121280044</td></tr>\n",
       "\t<tr><td>2020</td><td> 70859</td><td>-0.411240268</td></tr>\n",
       "\t<tr><td>2021</td><td> 55492</td><td>-0.216867300</td></tr>\n",
       "</tbody>\n",
       "</table>\n"
      ],
      "text/latex": [
       "A data.frame: 9 × 3\n",
       "\\begin{tabular}{lll}\n",
       " Year & Counts & Growth\\\\\n",
       " <dbl> & <dbl> & <dbl>\\\\\n",
       "\\hline\n",
       "\t 2013 & 173635 &           NA\\\\\n",
       "\t 2014 & 183700 &  0.057966424\\\\\n",
       "\t 2015 & 163960 & -0.107457812\\\\\n",
       "\t 2016 & 114387 & -0.302348134\\\\\n",
       "\t 2017 & 138272 &  0.208808693\\\\\n",
       "\t 2018 & 136964 & -0.009459616\\\\\n",
       "\t 2019 & 120353 & -0.121280044\\\\\n",
       "\t 2020 &  70859 & -0.411240268\\\\\n",
       "\t 2021 &  55492 & -0.216867300\\\\\n",
       "\\end{tabular}\n"
      ],
      "text/markdown": [
       "\n",
       "A data.frame: 9 × 3\n",
       "\n",
       "| Year &lt;dbl&gt; | Counts &lt;dbl&gt; | Growth &lt;dbl&gt; |\n",
       "|---|---|---|\n",
       "| 2013 | 173635 |           NA |\n",
       "| 2014 | 183700 |  0.057966424 |\n",
       "| 2015 | 163960 | -0.107457812 |\n",
       "| 2016 | 114387 | -0.302348134 |\n",
       "| 2017 | 138272 |  0.208808693 |\n",
       "| 2018 | 136964 | -0.009459616 |\n",
       "| 2019 | 120353 | -0.121280044 |\n",
       "| 2020 |  70859 | -0.411240268 |\n",
       "| 2021 |  55492 | -0.216867300 |\n",
       "\n"
      ],
      "text/plain": [
       "  Year Counts Growth      \n",
       "1 2013 173635           NA\n",
       "2 2014 183700  0.057966424\n",
       "3 2015 163960 -0.107457812\n",
       "4 2016 114387 -0.302348134\n",
       "5 2017 138272  0.208808693\n",
       "6 2018 136964 -0.009459616\n",
       "7 2019 120353 -0.121280044\n",
       "8 2020  70859 -0.411240268\n",
       "9 2021  55492 -0.216867300"
      ]
     },
     "metadata": {},
     "output_type": "display_data"
    }
   ],
   "source": [
    "df"
   ]
  },
  {
   "cell_type": "code",
   "execution_count": 45,
   "id": "ef6b1ea4",
   "metadata": {},
   "outputs": [],
   "source": [
    "routes_stops <- unique(data[,c('route', 'stop_name')])"
   ]
  },
  {
   "cell_type": "code",
   "execution_count": 46,
   "id": "218462b7",
   "metadata": {},
   "outputs": [],
   "source": [
    "names(routes_stops) <- c(\"Route\", \"Location\")"
   ]
  },
  {
   "cell_type": "code",
   "execution_count": 47,
   "id": "c636b0a9",
   "metadata": {},
   "outputs": [],
   "source": [
    "output <- merge(outdata, routes_stops, by=\"Location\")"
   ]
  },
  {
   "cell_type": "code",
   "execution_count": 48,
   "id": "866347d8",
   "metadata": {},
   "outputs": [],
   "source": [
    "write.csv(output, paste0('T:/Tableau/tableauBikesOnBuses/Datasources/AggregatedBikesOnBuses.csv'), row.names = FALSE)"
   ]
  }
 ],
 "metadata": {
  "kernelspec": {
   "display_name": "R",
   "language": "R",
   "name": "ir"
  },
  "language_info": {
   "codemirror_mode": "r",
   "file_extension": ".r",
   "mimetype": "text/x-r-source",
   "name": "R",
   "pygments_lexer": "r",
   "version": "4.0.3"
  }
 },
 "nbformat": 4,
 "nbformat_minor": 5
}
