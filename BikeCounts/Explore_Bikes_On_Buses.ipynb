{
 "cells": [
  {
   "cell_type": "code",
   "execution_count": 2,
   "id": "c69491c4",
   "metadata": {},
   "outputs": [
    {
     "name": "stderr",
     "output_type": "stream",
     "text": [
      "Warning message:\n",
      "\"package 'rgdal' was built under R version 4.0.5\"\n",
      "Loading required package: sp\n",
      "\n",
      "Warning message:\n",
      "\"package 'sp' was built under R version 4.0.5\"\n",
      "rgdal: version: 1.5-23, (SVN revision 1121)\n",
      "Geospatial Data Abstraction Library extensions to R successfully loaded\n",
      "Loaded GDAL runtime: GDAL 3.2.1, released 2020/12/29\n",
      "Path to GDAL shared files: C:/Users/clid1852/Documents/R/win-library/4.0/rgdal/gdal\n",
      "GDAL binary built with GEOS: TRUE \n",
      "Loaded PROJ runtime: Rel. 7.2.1, January 1st, 2021, [PJ_VERSION: 721]\n",
      "Path to PROJ shared files: C:/Users/clid1852/Documents/R/win-library/4.0/rgdal/proj\n",
      "PROJ CDN enabled: FALSE\n",
      "Linking to sp version:1.4-5\n",
      "To mute warnings of possible GDAL/OSR exportToProj4() degradation,\n",
      "use options(\"rgdal_show_exportToProj4_warnings\"=\"none\") before loading rgdal.\n",
      "Overwritten PROJ_LIB was C:/Users/clid1852/Documents/R/win-library/4.0/rgdal/proj\n",
      "\n",
      "Warning message:\n",
      "\"package 'dplyr' was built under R version 4.0.5\"\n",
      "\n",
      "Attaching package: 'dplyr'\n",
      "\n",
      "\n",
      "The following objects are masked from 'package:stats':\n",
      "\n",
      "    filter, lag\n",
      "\n",
      "\n",
      "The following objects are masked from 'package:base':\n",
      "\n",
      "    intersect, setdiff, setequal, union\n",
      "\n",
      "\n",
      "Warning message:\n",
      "\"package 'lubridate' was built under R version 4.0.5\"\n",
      "\n",
      "Attaching package: 'lubridate'\n",
      "\n",
      "\n",
      "The following objects are masked from 'package:base':\n",
      "\n",
      "    date, intersect, setdiff, union\n",
      "\n",
      "\n"
     ]
    }
   ],
   "source": [
    "library(rgdal)\n",
    "library(readxl)\n",
    "library(dplyr)\n",
    "library(tools)\n",
    "library(lubridate)\n",
    "library(stringr)"
   ]
  },
  {
   "cell_type": "code",
   "execution_count": 13,
   "id": "c552774d",
   "metadata": {},
   "outputs": [],
   "source": [
    "source(\"functions.R\")"
   ]
  },
  {
   "cell_type": "code",
   "execution_count": 1,
   "id": "dad030fb",
   "metadata": {},
   "outputs": [],
   "source": [
    "path <- \"T:/Data/LTD Data/BikeOnBuses/Monthly/\""
   ]
  },
  {
   "cell_type": "code",
   "execution_count": 4,
   "id": "9c75a161",
   "metadata": {},
   "outputs": [],
   "source": [
    "data <- read_excel(paste0(path, \"LTD Bike Count_2013.xlsx\"), \n",
    "             col_types = c(\"text\", \"date\", \"numeric\", \"date\", \"date\", \"text\", \"text\", \"text\", \n",
    "                            \"text\", \"numeric\", \"numeric\", \"text\",\"numeric\", \"text\", \"numeric\"))"
   ]
  },
  {
   "cell_type": "code",
   "execution_count": 5,
   "id": "458ee98f",
   "metadata": {},
   "outputs": [
    {
     "data": {
      "text/html": [
       "<table class=\"dataframe\">\n",
       "<caption>A tibble: 6 × 15</caption>\n",
       "<thead>\n",
       "\t<tr><th scope=col>srv</th><th scope=col>date</th><th scope=col>block</th><th scope=col>trip_end</th><th scope=col>time</th><th scope=col>route</th><th scope=col>dir</th><th scope=col>stop</th><th scope=col>stop_name</th><th scope=col>latitude</th><th scope=col>longitude</th><th scope=col>bus</th><th scope=col>odometer</th><th scope=col>desc</th><th scope=col>qty</th></tr>\n",
       "\t<tr><th scope=col>&lt;chr&gt;</th><th scope=col>&lt;dttm&gt;</th><th scope=col>&lt;dbl&gt;</th><th scope=col>&lt;dttm&gt;</th><th scope=col>&lt;dttm&gt;</th><th scope=col>&lt;chr&gt;</th><th scope=col>&lt;chr&gt;</th><th scope=col>&lt;chr&gt;</th><th scope=col>&lt;chr&gt;</th><th scope=col>&lt;dbl&gt;</th><th scope=col>&lt;dbl&gt;</th><th scope=col>&lt;chr&gt;</th><th scope=col>&lt;dbl&gt;</th><th scope=col>&lt;chr&gt;</th><th scope=col>&lt;dbl&gt;</th></tr>\n",
       "</thead>\n",
       "<tbody>\n",
       "\t<tr><td>wkd</td><td>2013-01-02</td><td>1</td><td>1899-12-31 06:00:00</td><td>1899-12-31 05:23:00</td><td>91</td><td>O</td><td>9249</td><td>S/S of Hwy 126 (MP 23.41) E of Mt View Lane</td><td>44.13080</td><td>-122.6172</td><td>151 </td><td>29.47</td><td>bike on rack</td><td>1</td></tr>\n",
       "\t<tr><td>wkd</td><td>2013-01-02</td><td>1</td><td>1899-12-31 09:25:00</td><td>1899-12-31 09:01:00</td><td>40</td><td>I</td><td>816 </td><td>S/S of Royal W of Ruskin                   </td><td>44.06990</td><td>-123.1671</td><td>151 </td><td> 8.20</td><td>bike on rack</td><td>1</td></tr>\n",
       "\t<tr><td>wkd</td><td>2013-01-02</td><td>1</td><td>1899-12-31 10:25:00</td><td>1899-12-31 10:11:00</td><td>36</td><td>I</td><td>404 </td><td>S/S of 18th W of McKinley                  </td><td>44.04052</td><td>-123.1305</td><td>151 </td><td>23.13</td><td>bike on rack</td><td>1</td></tr>\n",
       "\t<tr><td>wkd</td><td>2013-01-02</td><td>2</td><td>1899-12-31 05:21:00</td><td>1899-12-31 05:21:00</td><td>11</td><td>O</td><td>17  </td><td>N/S of Main E of 62nd Pl                   </td><td>44.04573</td><td>-122.9181</td><td>1114</td><td> 9.15</td><td>bike on rack</td><td>2</td></tr>\n",
       "\t<tr><td>wkd</td><td>2013-01-02</td><td>2</td><td>1899-12-31 05:37:00</td><td>1899-12-31 05:26:00</td><td>11</td><td>I</td><td>26  </td><td>N/S of Main E of 50th                      </td><td>44.04582</td><td>-122.9434</td><td>1114</td><td>10.62</td><td>bike on rack</td><td>1</td></tr>\n",
       "\t<tr><td>wkd</td><td>2013-01-02</td><td>2</td><td>1899-12-31 06:37:00</td><td>1899-12-31 06:20:00</td><td>11</td><td>I</td><td>26  </td><td>N/S of Main E of 50th                      </td><td>44.04581</td><td>-122.9433</td><td>1114</td><td>23.75</td><td>bike on rack</td><td>1</td></tr>\n",
       "</tbody>\n",
       "</table>\n"
      ],
      "text/latex": [
       "A tibble: 6 × 15\n",
       "\\begin{tabular}{lllllllllllllll}\n",
       " srv & date & block & trip\\_end & time & route & dir & stop & stop\\_name & latitude & longitude & bus & odometer & desc & qty\\\\\n",
       " <chr> & <dttm> & <dbl> & <dttm> & <dttm> & <chr> & <chr> & <chr> & <chr> & <dbl> & <dbl> & <chr> & <dbl> & <chr> & <dbl>\\\\\n",
       "\\hline\n",
       "\t wkd & 2013-01-02 & 1 & 1899-12-31 06:00:00 & 1899-12-31 05:23:00 & 91 & O & 9249 & S/S of Hwy 126 (MP 23.41) E of Mt View Lane & 44.13080 & -122.6172 & 151  & 29.47 & bike on rack & 1\\\\\n",
       "\t wkd & 2013-01-02 & 1 & 1899-12-31 09:25:00 & 1899-12-31 09:01:00 & 40 & I & 816  & S/S of Royal W of Ruskin                    & 44.06990 & -123.1671 & 151  &  8.20 & bike on rack & 1\\\\\n",
       "\t wkd & 2013-01-02 & 1 & 1899-12-31 10:25:00 & 1899-12-31 10:11:00 & 36 & I & 404  & S/S of 18th W of McKinley                   & 44.04052 & -123.1305 & 151  & 23.13 & bike on rack & 1\\\\\n",
       "\t wkd & 2013-01-02 & 2 & 1899-12-31 05:21:00 & 1899-12-31 05:21:00 & 11 & O & 17   & N/S of Main E of 62nd Pl                    & 44.04573 & -122.9181 & 1114 &  9.15 & bike on rack & 2\\\\\n",
       "\t wkd & 2013-01-02 & 2 & 1899-12-31 05:37:00 & 1899-12-31 05:26:00 & 11 & I & 26   & N/S of Main E of 50th                       & 44.04582 & -122.9434 & 1114 & 10.62 & bike on rack & 1\\\\\n",
       "\t wkd & 2013-01-02 & 2 & 1899-12-31 06:37:00 & 1899-12-31 06:20:00 & 11 & I & 26   & N/S of Main E of 50th                       & 44.04581 & -122.9433 & 1114 & 23.75 & bike on rack & 1\\\\\n",
       "\\end{tabular}\n"
      ],
      "text/markdown": [
       "\n",
       "A tibble: 6 × 15\n",
       "\n",
       "| srv &lt;chr&gt; | date &lt;dttm&gt; | block &lt;dbl&gt; | trip_end &lt;dttm&gt; | time &lt;dttm&gt; | route &lt;chr&gt; | dir &lt;chr&gt; | stop &lt;chr&gt; | stop_name &lt;chr&gt; | latitude &lt;dbl&gt; | longitude &lt;dbl&gt; | bus &lt;chr&gt; | odometer &lt;dbl&gt; | desc &lt;chr&gt; | qty &lt;dbl&gt; |\n",
       "|---|---|---|---|---|---|---|---|---|---|---|---|---|---|---|\n",
       "| wkd | 2013-01-02 | 1 | 1899-12-31 06:00:00 | 1899-12-31 05:23:00 | 91 | O | 9249 | S/S of Hwy 126 (MP 23.41) E of Mt View Lane | 44.13080 | -122.6172 | 151  | 29.47 | bike on rack | 1 |\n",
       "| wkd | 2013-01-02 | 1 | 1899-12-31 09:25:00 | 1899-12-31 09:01:00 | 40 | I | 816  | S/S of Royal W of Ruskin                    | 44.06990 | -123.1671 | 151  |  8.20 | bike on rack | 1 |\n",
       "| wkd | 2013-01-02 | 1 | 1899-12-31 10:25:00 | 1899-12-31 10:11:00 | 36 | I | 404  | S/S of 18th W of McKinley                   | 44.04052 | -123.1305 | 151  | 23.13 | bike on rack | 1 |\n",
       "| wkd | 2013-01-02 | 2 | 1899-12-31 05:21:00 | 1899-12-31 05:21:00 | 11 | O | 17   | N/S of Main E of 62nd Pl                    | 44.04573 | -122.9181 | 1114 |  9.15 | bike on rack | 2 |\n",
       "| wkd | 2013-01-02 | 2 | 1899-12-31 05:37:00 | 1899-12-31 05:26:00 | 11 | I | 26   | N/S of Main E of 50th                       | 44.04582 | -122.9434 | 1114 | 10.62 | bike on rack | 1 |\n",
       "| wkd | 2013-01-02 | 2 | 1899-12-31 06:37:00 | 1899-12-31 06:20:00 | 11 | I | 26   | N/S of Main E of 50th                       | 44.04581 | -122.9433 | 1114 | 23.75 | bike on rack | 1 |\n",
       "\n"
      ],
      "text/plain": [
       "  srv date       block trip_end            time                route dir stop\n",
       "1 wkd 2013-01-02 1     1899-12-31 06:00:00 1899-12-31 05:23:00 91    O   9249\n",
       "2 wkd 2013-01-02 1     1899-12-31 09:25:00 1899-12-31 09:01:00 40    I   816 \n",
       "3 wkd 2013-01-02 1     1899-12-31 10:25:00 1899-12-31 10:11:00 36    I   404 \n",
       "4 wkd 2013-01-02 2     1899-12-31 05:21:00 1899-12-31 05:21:00 11    O   17  \n",
       "5 wkd 2013-01-02 2     1899-12-31 05:37:00 1899-12-31 05:26:00 11    I   26  \n",
       "6 wkd 2013-01-02 2     1899-12-31 06:37:00 1899-12-31 06:20:00 11    I   26  \n",
       "  stop_name                                   latitude longitude bus  odometer\n",
       "1 S/S of Hwy 126 (MP 23.41) E of Mt View Lane 44.13080 -122.6172 151  29.47   \n",
       "2 S/S of Royal W of Ruskin                    44.06990 -123.1671 151   8.20   \n",
       "3 S/S of 18th W of McKinley                   44.04052 -123.1305 151  23.13   \n",
       "4 N/S of Main E of 62nd Pl                    44.04573 -122.9181 1114  9.15   \n",
       "5 N/S of Main E of 50th                       44.04582 -122.9434 1114 10.62   \n",
       "6 N/S of Main E of 50th                       44.04581 -122.9433 1114 23.75   \n",
       "  desc         qty\n",
       "1 bike on rack 1  \n",
       "2 bike on rack 1  \n",
       "3 bike on rack 1  \n",
       "4 bike on rack 2  \n",
       "5 bike on rack 1  \n",
       "6 bike on rack 1  "
      ]
     },
     "metadata": {},
     "output_type": "display_data"
    }
   ],
   "source": [
    "head(data)"
   ]
  },
  {
   "cell_type": "code",
   "execution_count": 6,
   "id": "2e58397f",
   "metadata": {},
   "outputs": [
    {
     "data": {
      "text/html": [
       "<style>\n",
       ".list-inline {list-style: none; margin:0; padding: 0}\n",
       ".list-inline>li {display: inline-block}\n",
       ".list-inline>li:not(:last-child)::after {content: \"\\00b7\"; padding: 0 .5ex}\n",
       "</style>\n",
       "<ol class=list-inline><li>'srv'</li><li>'date'</li><li>'block'</li><li>'trip_end'</li><li>'time'</li><li>'route'</li><li>'dir'</li><li>'stop'</li><li>'stop_name'</li><li>'latitude'</li><li>'longitude'</li><li>'bus'</li><li>'odometer'</li><li>'desc'</li><li>'qty'</li></ol>\n"
      ],
      "text/latex": [
       "\\begin{enumerate*}\n",
       "\\item 'srv'\n",
       "\\item 'date'\n",
       "\\item 'block'\n",
       "\\item 'trip\\_end'\n",
       "\\item 'time'\n",
       "\\item 'route'\n",
       "\\item 'dir'\n",
       "\\item 'stop'\n",
       "\\item 'stop\\_name'\n",
       "\\item 'latitude'\n",
       "\\item 'longitude'\n",
       "\\item 'bus'\n",
       "\\item 'odometer'\n",
       "\\item 'desc'\n",
       "\\item 'qty'\n",
       "\\end{enumerate*}\n"
      ],
      "text/markdown": [
       "1. 'srv'\n",
       "2. 'date'\n",
       "3. 'block'\n",
       "4. 'trip_end'\n",
       "5. 'time'\n",
       "6. 'route'\n",
       "7. 'dir'\n",
       "8. 'stop'\n",
       "9. 'stop_name'\n",
       "10. 'latitude'\n",
       "11. 'longitude'\n",
       "12. 'bus'\n",
       "13. 'odometer'\n",
       "14. 'desc'\n",
       "15. 'qty'\n",
       "\n",
       "\n"
      ],
      "text/plain": [
       " [1] \"srv\"       \"date\"      \"block\"     \"trip_end\"  \"time\"      \"route\"    \n",
       " [7] \"dir\"       \"stop\"      \"stop_name\" \"latitude\"  \"longitude\" \"bus\"      \n",
       "[13] \"odometer\"  \"desc\"      \"qty\"      "
      ]
     },
     "metadata": {},
     "output_type": "display_data"
    }
   ],
   "source": [
    "names(data)"
   ]
  },
  {
   "cell_type": "code",
   "execution_count": 9,
   "id": "21133425",
   "metadata": {},
   "outputs": [
    {
     "data": {
      "text/plain": [
       "[1] \"2013-01-02 UTC\" \"2013-01-31 UTC\""
      ]
     },
     "metadata": {},
     "output_type": "display_data"
    }
   ],
   "source": [
    "range(data$date)"
   ]
  },
  {
   "cell_type": "code",
   "execution_count": 11,
   "id": "ac5a2bbf",
   "metadata": {},
   "outputs": [
    {
     "name": "stderr",
     "output_type": "stream",
     "text": [
      "Warning message in OGRSpatialRef(dsn, layer, morphFromESRI = morphFromESRI, dumpSRS = dumpSRS, :\n",
      "\"Discarded ellps WGS 84 in Proj4 definition: +proj=merc +a=6378137 +b=6378137 +lat_ts=0 +lon_0=0 +x_0=0 +y_0=0 +k=1 +units=m +nadgrids=@null +wktext +no_defs\"\n",
      "Warning message in OGRSpatialRef(dsn, layer, morphFromESRI = morphFromESRI, dumpSRS = dumpSRS, :\n",
      "\"Discarded datum WGS_1984 in Proj4 definition: +proj=merc +a=6378137 +b=6378137 +lat_ts=0 +lon_0=0 +x_0=0 +y_0=0 +k=1 +units=m +nadgrids=@null +wktext +no_defs\"\n",
      "Warning message in showSRID(wkt2, \"PROJ\"):\n",
      "\"Discarded ellps WGS 84 in Proj4 definition: +proj=merc +a=6378137 +b=6378137 +lat_ts=0 +lon_0=0 +x_0=0 +y_0=0 +k=1 +units=m +nadgrids=@null +wktext +no_defs +type=crs\"\n",
      "Warning message in showSRID(wkt2, \"PROJ\"):\n",
      "\"Discarded datum World Geodetic System 1984 in Proj4 definition\"\n"
     ]
    },
    {
     "name": "stdout",
     "output_type": "stream",
     "text": [
      "OGR data source with driver: ESRI Shapefile \n",
      "Source: \"V:\\Data\\Transportation\", layer: \"MPO_Bound\"\n",
      "with 1 features\n",
      "It has 3 fields\n"
     ]
    }
   ],
   "source": [
    "MPOBound <- readOGR(dsn = \"V:/Data/Transportation\", layer=\"MPO_Bound\")"
   ]
  },
  {
   "cell_type": "code",
   "execution_count": 15,
   "id": "b4db29ca",
   "metadata": {},
   "outputs": [
    {
     "data": {
      "text/html": [
       "814"
      ],
      "text/latex": [
       "814"
      ],
      "text/markdown": [
       "814"
      ],
      "text/plain": [
       "[1] 814"
      ]
     },
     "metadata": {},
     "output_type": "display_data"
    }
   ],
   "source": [
    "length(unique(data$stop_name))"
   ]
  },
  {
   "cell_type": "code",
   "execution_count": 16,
   "id": "2bbe9dd8",
   "metadata": {},
   "outputs": [
    {
     "data": {
      "text/html": [
       "<style>\n",
       ".list-inline {list-style: none; margin:0; padding: 0}\n",
       ".list-inline>li {display: inline-block}\n",
       ".list-inline>li:not(:last-child)::after {content: \"\\00b7\"; padding: 0 .5ex}\n",
       "</style>\n",
       "<ol class=list-inline><li>12627</li><li>15</li></ol>\n"
      ],
      "text/latex": [
       "\\begin{enumerate*}\n",
       "\\item 12627\n",
       "\\item 15\n",
       "\\end{enumerate*}\n"
      ],
      "text/markdown": [
       "1. 12627\n",
       "2. 15\n",
       "\n",
       "\n"
      ],
      "text/plain": [
       "[1] 12627    15"
      ]
     },
     "metadata": {},
     "output_type": "display_data"
    }
   ],
   "source": [
    "dim(data)"
   ]
  },
  {
   "cell_type": "code",
   "execution_count": 17,
   "id": "0722fd96",
   "metadata": {},
   "outputs": [
    {
     "data": {
      "text/html": [
       "36"
      ],
      "text/latex": [
       "36"
      ],
      "text/markdown": [
       "36"
      ],
      "text/plain": [
       "[1] 36"
      ]
     },
     "metadata": {},
     "output_type": "display_data"
    }
   ],
   "source": [
    "length(unique(data$route))"
   ]
  },
  {
   "cell_type": "code",
   "execution_count": 22,
   "id": "3834b158",
   "metadata": {},
   "outputs": [],
   "source": [
    "aggdata <- aggregate(x=list(qty = data$qty), by=list(stop_name = data$stop_name), FUN=sum)"
   ]
  },
  {
   "cell_type": "code",
   "execution_count": 28,
   "id": "cd76048d",
   "metadata": {},
   "outputs": [],
   "source": [
    "locdata <- aggregate(x=list(latitude = data$latitude, longitude= data$longitude), \n",
    "                     by=list(stop_name = data$stop_name), FUN=mean)"
   ]
  },
  {
   "cell_type": "code",
   "execution_count": 30,
   "id": "b4a93e32",
   "metadata": {},
   "outputs": [],
   "source": [
    "aggdata <- merge(aggdata, locdata, by='stop_name')"
   ]
  },
  {
   "cell_type": "code",
   "execution_count": 32,
   "id": "52991a83",
   "metadata": {
    "scrolled": true
   },
   "outputs": [
    {
     "name": "stderr",
     "output_type": "stream",
     "text": [
      "Warning message in showSRID(uprojargs, format = \"PROJ\", multiline = \"NO\", prefer_proj = prefer_proj):\n",
      "\"Discarded ellps WGS 84 in Proj4 definition: +proj=merc +a=6378137 +b=6378137 +lat_ts=0 +lon_0=0 +x_0=0 +y_0=0 +k=1 +units=m +nadgrids=@null +wktext +no_defs +type=crs\"\n",
      "Warning message in showSRID(uprojargs, format = \"PROJ\", multiline = \"NO\", prefer_proj = prefer_proj):\n",
      "\"Discarded datum World Geodetic System 1984 in Proj4 definition\"\n"
     ]
    }
   ],
   "source": [
    "spdf <- df2spdf(aggdata, 'longitude', 'latitude')"
   ]
  },
  {
   "cell_type": "code",
   "execution_count": 34,
   "id": "0ca33af8",
   "metadata": {},
   "outputs": [
    {
     "data": {
      "image/png": "[encoded data removed]",
      "text/plain": [
       "plot without title"
      ]
     },
     "metadata": {
      "image/png": {
       "height": 720,
       "width": 720
      }
     },
     "output_type": "display_data"
    }
   ],
   "source": [
    "options(repr.plot.width=12, repr.plot.height=12)\n",
    "par(mfrow=c(1,1),mar=c(0,0,2,0))\n",
    "plot(MPOBound)\n",
    "plot(spdf, add=TRUE)\n",
    "points(spdf$longitude, spdf$latitude, cex=spdf$qty/50)"
   ]
  }
 ],
 "metadata": {
  "kernelspec": {
   "display_name": "R",
   "language": "R",
   "name": "ir"
  },
  "language_info": {
   "codemirror_mode": "r",
   "file_extension": ".r",
   "mimetype": "text/x-r-source",
   "name": "R",
   "pygments_lexer": "r",
   "version": "4.0.3"
  }
 },
 "nbformat": 4,
 "nbformat_minor": 5
}
