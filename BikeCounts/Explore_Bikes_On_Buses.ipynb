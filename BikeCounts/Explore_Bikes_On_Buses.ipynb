{
 "cells": [
  {
   "cell_type": "code",
   "execution_count": 1,
   "id": "e7e78bbc",
   "metadata": {},
   "outputs": [],
   "source": [
    "options(warn = -1)"
   ]
  },
  {
   "cell_type": "code",
   "execution_count": 2,
   "id": "c69491c4",
   "metadata": {},
   "outputs": [
    {
     "name": "stderr",
     "output_type": "stream",
     "text": [
      "Loading required package: sp\n",
      "\n",
      "rgdal: version: 1.5-23, (SVN revision 1121)\n",
      "Geospatial Data Abstraction Library extensions to R successfully loaded\n",
      "Loaded GDAL runtime: GDAL 3.2.1, released 2020/12/29\n",
      "Path to GDAL shared files: C:/Users/clid1852/Documents/R/win-library/4.0/rgdal/gdal\n",
      "GDAL binary built with GEOS: TRUE \n",
      "Loaded PROJ runtime: Rel. 7.2.1, January 1st, 2021, [PJ_VERSION: 721]\n",
      "Path to PROJ shared files: C:/Users/clid1852/Documents/R/win-library/4.0/rgdal/proj\n",
      "PROJ CDN enabled: FALSE\n",
      "Linking to sp version:1.4-5\n",
      "To mute warnings of possible GDAL/OSR exportToProj4() degradation,\n",
      "use options(\"rgdal_show_exportToProj4_warnings\"=\"none\") before loading rgdal.\n",
      "Overwritten PROJ_LIB was C:/Users/clid1852/Documents/R/win-library/4.0/rgdal/proj\n",
      "\n",
      "\n",
      "Attaching package: 'dplyr'\n",
      "\n",
      "\n",
      "The following objects are masked from 'package:stats':\n",
      "\n",
      "    filter, lag\n",
      "\n",
      "\n",
      "The following objects are masked from 'package:base':\n",
      "\n",
      "    intersect, setdiff, setequal, union\n",
      "\n",
      "\n",
      "\n",
      "Attaching package: 'lubridate'\n",
      "\n",
      "\n",
      "The following objects are masked from 'package:base':\n",
      "\n",
      "    date, intersect, setdiff, union\n",
      "\n",
      "\n"
     ]
    }
   ],
   "source": [
    "library(rgdal)\n",
    "library(readxl)\n",
    "library(dplyr)\n",
    "library(tools)\n",
    "library(lubridate)\n",
    "library(stringr)"
   ]
  },
  {
   "cell_type": "code",
   "execution_count": 3,
   "id": "c552774d",
   "metadata": {},
   "outputs": [],
   "source": [
    "source(\"functions.R\")"
   ]
  },
  {
   "cell_type": "code",
   "execution_count": 4,
   "id": "dad030fb",
   "metadata": {},
   "outputs": [],
   "source": [
    "path <- \"T:/Data/LTD Data/BikeOnBuses/Monthly/\""
   ]
  },
  {
   "cell_type": "code",
   "execution_count": 5,
   "id": "654d1b99",
   "metadata": {
    "scrolled": true
   },
   "outputs": [
    {
     "data": {
      "text/html": [
       "<style>\n",
       ".list-inline {list-style: none; margin:0; padding: 0}\n",
       ".list-inline>li {display: inline-block}\n",
       ".list-inline>li:not(:last-child)::after {content: \"\\00b7\"; padding: 0 .5ex}\n",
       "</style>\n",
       "<ol class=list-inline><li>'bike count_Jan13'</li><li>'bike count_Feb13'</li><li>'bike count_Mar13'</li><li>'bike count_May13'</li><li>'bike count_Jun13'</li><li>'bike count_Jul13'</li><li>'bike count_Aug13'</li><li>'bike count_Sept13'</li><li>'bike count_Nov13'</li><li>'bike count_Dec13'</li></ol>\n"
      ],
      "text/latex": [
       "\\begin{enumerate*}\n",
       "\\item 'bike count\\_Jan13'\n",
       "\\item 'bike count\\_Feb13'\n",
       "\\item 'bike count\\_Mar13'\n",
       "\\item 'bike count\\_May13'\n",
       "\\item 'bike count\\_Jun13'\n",
       "\\item 'bike count\\_Jul13'\n",
       "\\item 'bike count\\_Aug13'\n",
       "\\item 'bike count\\_Sept13'\n",
       "\\item 'bike count\\_Nov13'\n",
       "\\item 'bike count\\_Dec13'\n",
       "\\end{enumerate*}\n"
      ],
      "text/markdown": [
       "1. 'bike count_Jan13'\n",
       "2. 'bike count_Feb13'\n",
       "3. 'bike count_Mar13'\n",
       "4. 'bike count_May13'\n",
       "5. 'bike count_Jun13'\n",
       "6. 'bike count_Jul13'\n",
       "7. 'bike count_Aug13'\n",
       "8. 'bike count_Sept13'\n",
       "9. 'bike count_Nov13'\n",
       "10. 'bike count_Dec13'\n",
       "\n",
       "\n"
      ],
      "text/plain": [
       " [1] \"bike count_Jan13\"  \"bike count_Feb13\"  \"bike count_Mar13\" \n",
       " [4] \"bike count_May13\"  \"bike count_Jun13\"  \"bike count_Jul13\" \n",
       " [7] \"bike count_Aug13\"  \"bike count_Sept13\" \"bike count_Nov13\" \n",
       "[10] \"bike count_Dec13\" "
      ]
     },
     "metadata": {},
     "output_type": "display_data"
    }
   ],
   "source": [
    "excel_sheets(paste0(path,\"LTD Bike Count_2013.xlsx\"))"
   ]
  },
  {
   "cell_type": "code",
   "execution_count": 6,
   "id": "ea28562b",
   "metadata": {},
   "outputs": [],
   "source": [
    "files <- file_path_sans_ext(list.files(path))"
   ]
  },
  {
   "cell_type": "code",
   "execution_count": 7,
   "id": "97d6563c",
   "metadata": {},
   "outputs": [
    {
     "name": "stdout",
     "output_type": "stream",
     "text": [
      "[1] \"LTD Bike Count_2013\"\n",
      "[1] \"LTD Bike Count_2014\"\n",
      "[1] \"LTD Bike Count_2015\"\n",
      "[1] \"LTD Bike Count_2016\"\n",
      "[1] \"LTD Bike Count_2017\"\n",
      "[1] \"LTD Bike Count_2018\"\n",
      "[1] \"LTD Bike Count_2019\"\n",
      "[1] \"LTD Bike Count_2020\"\n",
      "[1] \"LTD Bike Count_2021\"\n"
     ]
    }
   ],
   "source": [
    "for(file in files){\n",
    "    if(file == \"LTD Bike Count_2013\"){\n",
    "        data <- readExcel(fileName=paste0(file, \".xlsx\"))\n",
    "    }else{\n",
    "        ndata <- readExcel(fileName=paste0(file, \".xlsx\"))\n",
    "        data <- rbind(data, ndata)\n",
    "    }\n",
    "    print(file)\n",
    "}"
   ]
  },
  {
   "cell_type": "code",
   "execution_count": 8,
   "id": "5de0bfd8",
   "metadata": {},
   "outputs": [
    {
     "data": {
      "text/html": [
       "<table class=\"dataframe\">\n",
       "<caption>A data.frame: 6 × 16</caption>\n",
       "<thead>\n",
       "\t<tr><th></th><th scope=col>stop</th><th scope=col>srv</th><th scope=col>date</th><th scope=col>block</th><th scope=col>trip_end</th><th scope=col>time</th><th scope=col>route</th><th scope=col>dir</th><th scope=col>stop_name</th><th scope=col>bus</th><th scope=col>odometer</th><th scope=col>desc</th><th scope=col>qty</th><th scope=col>MonthYear</th><th scope=col>longitude</th><th scope=col>latitude</th></tr>\n",
       "\t<tr><th></th><th scope=col>&lt;chr&gt;</th><th scope=col>&lt;chr&gt;</th><th scope=col>&lt;dttm&gt;</th><th scope=col>&lt;dbl&gt;</th><th scope=col>&lt;dttm&gt;</th><th scope=col>&lt;dttm&gt;</th><th scope=col>&lt;chr&gt;</th><th scope=col>&lt;chr&gt;</th><th scope=col>&lt;chr&gt;</th><th scope=col>&lt;chr&gt;</th><th scope=col>&lt;dbl&gt;</th><th scope=col>&lt;chr&gt;</th><th scope=col>&lt;dbl&gt;</th><th scope=col>&lt;chr&gt;</th><th scope=col>&lt;dbl&gt;</th><th scope=col>&lt;dbl&gt;</th></tr>\n",
       "</thead>\n",
       "<tbody>\n",
       "\t<tr><th scope=row>827717</th><td>09971</td><td>wkd</td><td>2021-11-09</td><td> 901</td><td>1899-12-31 22:48:00</td><td>1899-12-31 21:52:00</td><td>EmX</td><td>I</td><td>International Center Station Inbound  </td><td>20105</td><td>190.36</td><td>bike inside bus</td><td>1</td><td>November 2021</td><td>-123.0363</td><td>44.08847</td></tr>\n",
       "\t<tr><th scope=row>827718</th><td>09972</td><td>wkd</td><td>2021-11-05</td><td> 911</td><td>1899-12-31 16:57:00</td><td>1899-12-31 15:53:00</td><td>EmX</td><td>I</td><td>International Way Station West Inbound</td><td>15104</td><td>102.96</td><td>bike inside bus</td><td>1</td><td>November 2021</td><td>-123.0420</td><td>44.08849</td></tr>\n",
       "\t<tr><th scope=row>827719</th><td>09972</td><td>wkd</td><td>2021-11-11</td><td> 912</td><td>1899-12-31 15:58:00</td><td>1899-12-31 14:55:00</td><td>EmX</td><td>I</td><td>International Way Station West Inbound</td><td>9102 </td><td> 99.32</td><td>bike inside bus</td><td>1</td><td>November 2021</td><td>-123.0420</td><td>44.08849</td></tr>\n",
       "\t<tr><th scope=row>827720</th><td>09972</td><td>sun</td><td>2021-11-14</td><td>1901</td><td>1899-12-31 08:47:00</td><td>1899-12-31 07:50:00</td><td>EmX</td><td>I</td><td>International Way Station West Inbound</td><td>9104 </td><td>  5.08</td><td>bike on rack   </td><td>1</td><td>November 2021</td><td>-123.0420</td><td>44.08849</td></tr>\n",
       "\t<tr><th scope=row>827721</th><td>09973</td><td>wkd</td><td>2021-11-02</td><td> 901</td><td>1899-12-31 22:48:00</td><td>1899-12-31 21:52:00</td><td>EmX</td><td>I</td><td>Pavilion Station Inbound              </td><td>6102 </td><td>191.36</td><td>bike inside bus</td><td>1</td><td>November 2021</td><td>-123.0281</td><td>44.08289</td></tr>\n",
       "\t<tr><th scope=row>827722</th><td>09973</td><td>wkd</td><td>2021-11-05</td><td> 901</td><td>1899-12-31 22:48:00</td><td>1899-12-31 21:52:00</td><td>EmX</td><td>I</td><td>Pavilion Station Inbound              </td><td>9104 </td><td>191.34</td><td>bike on rack   </td><td>1</td><td>November 2021</td><td>-123.0281</td><td>44.08289</td></tr>\n",
       "</tbody>\n",
       "</table>\n"
      ],
      "text/latex": [
       "A data.frame: 6 × 16\n",
       "\\begin{tabular}{r|llllllllllllllll}\n",
       "  & stop & srv & date & block & trip\\_end & time & route & dir & stop\\_name & bus & odometer & desc & qty & MonthYear & longitude & latitude\\\\\n",
       "  & <chr> & <chr> & <dttm> & <dbl> & <dttm> & <dttm> & <chr> & <chr> & <chr> & <chr> & <dbl> & <chr> & <dbl> & <chr> & <dbl> & <dbl>\\\\\n",
       "\\hline\n",
       "\t827717 & 09971 & wkd & 2021-11-09 &  901 & 1899-12-31 22:48:00 & 1899-12-31 21:52:00 & EmX & I & International Center Station Inbound   & 20105 & 190.36 & bike inside bus & 1 & November 2021 & -123.0363 & 44.08847\\\\\n",
       "\t827718 & 09972 & wkd & 2021-11-05 &  911 & 1899-12-31 16:57:00 & 1899-12-31 15:53:00 & EmX & I & International Way Station West Inbound & 15104 & 102.96 & bike inside bus & 1 & November 2021 & -123.0420 & 44.08849\\\\\n",
       "\t827719 & 09972 & wkd & 2021-11-11 &  912 & 1899-12-31 15:58:00 & 1899-12-31 14:55:00 & EmX & I & International Way Station West Inbound & 9102  &  99.32 & bike inside bus & 1 & November 2021 & -123.0420 & 44.08849\\\\\n",
       "\t827720 & 09972 & sun & 2021-11-14 & 1901 & 1899-12-31 08:47:00 & 1899-12-31 07:50:00 & EmX & I & International Way Station West Inbound & 9104  &   5.08 & bike on rack    & 1 & November 2021 & -123.0420 & 44.08849\\\\\n",
       "\t827721 & 09973 & wkd & 2021-11-02 &  901 & 1899-12-31 22:48:00 & 1899-12-31 21:52:00 & EmX & I & Pavilion Station Inbound               & 6102  & 191.36 & bike inside bus & 1 & November 2021 & -123.0281 & 44.08289\\\\\n",
       "\t827722 & 09973 & wkd & 2021-11-05 &  901 & 1899-12-31 22:48:00 & 1899-12-31 21:52:00 & EmX & I & Pavilion Station Inbound               & 9104  & 191.34 & bike on rack    & 1 & November 2021 & -123.0281 & 44.08289\\\\\n",
       "\\end{tabular}\n"
      ],
      "text/markdown": [
       "\n",
       "A data.frame: 6 × 16\n",
       "\n",
       "| <!--/--> | stop &lt;chr&gt; | srv &lt;chr&gt; | date &lt;dttm&gt; | block &lt;dbl&gt; | trip_end &lt;dttm&gt; | time &lt;dttm&gt; | route &lt;chr&gt; | dir &lt;chr&gt; | stop_name &lt;chr&gt; | bus &lt;chr&gt; | odometer &lt;dbl&gt; | desc &lt;chr&gt; | qty &lt;dbl&gt; | MonthYear &lt;chr&gt; | longitude &lt;dbl&gt; | latitude &lt;dbl&gt; |\n",
       "|---|---|---|---|---|---|---|---|---|---|---|---|---|---|---|---|---|\n",
       "| 827717 | 09971 | wkd | 2021-11-09 |  901 | 1899-12-31 22:48:00 | 1899-12-31 21:52:00 | EmX | I | International Center Station Inbound   | 20105 | 190.36 | bike inside bus | 1 | November 2021 | -123.0363 | 44.08847 |\n",
       "| 827718 | 09972 | wkd | 2021-11-05 |  911 | 1899-12-31 16:57:00 | 1899-12-31 15:53:00 | EmX | I | International Way Station West Inbound | 15104 | 102.96 | bike inside bus | 1 | November 2021 | -123.0420 | 44.08849 |\n",
       "| 827719 | 09972 | wkd | 2021-11-11 |  912 | 1899-12-31 15:58:00 | 1899-12-31 14:55:00 | EmX | I | International Way Station West Inbound | 9102  |  99.32 | bike inside bus | 1 | November 2021 | -123.0420 | 44.08849 |\n",
       "| 827720 | 09972 | sun | 2021-11-14 | 1901 | 1899-12-31 08:47:00 | 1899-12-31 07:50:00 | EmX | I | International Way Station West Inbound | 9104  |   5.08 | bike on rack    | 1 | November 2021 | -123.0420 | 44.08849 |\n",
       "| 827721 | 09973 | wkd | 2021-11-02 |  901 | 1899-12-31 22:48:00 | 1899-12-31 21:52:00 | EmX | I | Pavilion Station Inbound               | 6102  | 191.36 | bike inside bus | 1 | November 2021 | -123.0281 | 44.08289 |\n",
       "| 827722 | 09973 | wkd | 2021-11-05 |  901 | 1899-12-31 22:48:00 | 1899-12-31 21:52:00 | EmX | I | Pavilion Station Inbound               | 9104  | 191.34 | bike on rack    | 1 | November 2021 | -123.0281 | 44.08289 |\n",
       "\n"
      ],
      "text/plain": [
       "       stop  srv date       block trip_end            time                route\n",
       "827717 09971 wkd 2021-11-09  901  1899-12-31 22:48:00 1899-12-31 21:52:00 EmX  \n",
       "827718 09972 wkd 2021-11-05  911  1899-12-31 16:57:00 1899-12-31 15:53:00 EmX  \n",
       "827719 09972 wkd 2021-11-11  912  1899-12-31 15:58:00 1899-12-31 14:55:00 EmX  \n",
       "827720 09972 sun 2021-11-14 1901  1899-12-31 08:47:00 1899-12-31 07:50:00 EmX  \n",
       "827721 09973 wkd 2021-11-02  901  1899-12-31 22:48:00 1899-12-31 21:52:00 EmX  \n",
       "827722 09973 wkd 2021-11-05  901  1899-12-31 22:48:00 1899-12-31 21:52:00 EmX  \n",
       "       dir stop_name                              bus   odometer\n",
       "827717 I   International Center Station Inbound   20105 190.36  \n",
       "827718 I   International Way Station West Inbound 15104 102.96  \n",
       "827719 I   International Way Station West Inbound 9102   99.32  \n",
       "827720 I   International Way Station West Inbound 9104    5.08  \n",
       "827721 I   Pavilion Station Inbound               6102  191.36  \n",
       "827722 I   Pavilion Station Inbound               9104  191.34  \n",
       "       desc            qty MonthYear     longitude latitude\n",
       "827717 bike inside bus 1   November 2021 -123.0363 44.08847\n",
       "827718 bike inside bus 1   November 2021 -123.0420 44.08849\n",
       "827719 bike inside bus 1   November 2021 -123.0420 44.08849\n",
       "827720 bike on rack    1   November 2021 -123.0420 44.08849\n",
       "827721 bike inside bus 1   November 2021 -123.0281 44.08289\n",
       "827722 bike on rack    1   November 2021 -123.0281 44.08289"
      ]
     },
     "metadata": {},
     "output_type": "display_data"
    }
   ],
   "source": [
    "tail(data)"
   ]
  },
  {
   "cell_type": "code",
   "execution_count": 12,
   "id": "5e173a15",
   "metadata": {},
   "outputs": [],
   "source": []
  },
  {
   "cell_type": "code",
   "execution_count": 1,
   "id": "894ac843",
   "metadata": {},
   "outputs": [],
   "source": [
    "# reorganize bikes on buses data due to missed April and October data\n",
    "#data <- read.csv('T:/Tableau/tableauBikesOnBuses/Datasources/MonthlyBikesOnBuses.csv')"
   ]
  },
  {
   "cell_type": "code",
   "execution_count": 9,
   "id": "fd9d5da1",
   "metadata": {},
   "outputs": [],
   "source": [
    "months <- c(\"April\", \"October\")\n",
    "years <- 2013:2019"
   ]
  },
  {
   "cell_type": "code",
   "execution_count": 11,
   "id": "f7863388",
   "metadata": {
    "scrolled": true
   },
   "outputs": [
    {
     "name": "stdout",
     "output_type": "stream",
     "text": [
      "[1] \"2013 April\"\n",
      "[1] \"2013 October\"\n",
      "[1] \"2014 April\"\n",
      "[1] \"2014 October\"\n",
      "[1] \"2015 April\"\n",
      "[1] \"2015 October\"\n",
      "[1] \"2016 April\"\n",
      "[1] \"2016 October\"\n",
      "[1] 2017\n",
      "[1] \"2018 April\"\n",
      "[1] \"2018 October\"\n",
      "[1] \"2019 April\"\n",
      "[1] \"2019 October\"\n"
     ]
    }
   ],
   "source": [
    "for(year in years){\n",
    "    if(year==2017){\n",
    "        ndf <- readSheet(path = \"T:/Data/LTD Data/BoardingSince2011/\", \n",
    "                        fileName = paste0(year, \".xlsx\"),\n",
    "                        sheetName = \"bike counts\")\n",
    "        df <- rbind(df, ndf)\n",
    "        print(year)\n",
    "    }else{\n",
    "        for(month in months){\n",
    "            if(year==2013 & month==\"April\"){\n",
    "                df <- readSheet(path = \"T:/Data/LTD Data/BoardingSince2011/\", \n",
    "                            fileName = paste0(month, \" \", year, \".xlsx\"),\n",
    "                            sheetName = \"bike counts\")\n",
    "            }else{\n",
    "                ndf <- readSheet(path = \"T:/Data/LTD Data/BoardingSince2011/\", \n",
    "                            fileName = paste0(month, \" \", year, \".xlsx\"),\n",
    "                            sheetName = \"bike counts\")\n",
    "                if(year==2013 & month==\"October\"){\n",
    "                    df <- rbind(ndf, df)\n",
    "                }else{\n",
    "                    df <- rbind(df, ndf)\n",
    "                }  \n",
    "            }\n",
    "            print(paste(year, month))\n",
    "        }  \n",
    "    }\n",
    "\n",
    "}"
   ]
  },
  {
   "cell_type": "code",
   "execution_count": 14,
   "id": "e8ec52be",
   "metadata": {},
   "outputs": [],
   "source": [
    "test <- readExcel(path = \"T:/Data/LTD Data/BoardingSince2011/\", \n",
    "          fileName = \"April 2013.xlsx\",\n",
    "          sheets = \"bike counts\")"
   ]
  },
  {
   "cell_type": "code",
   "execution_count": 18,
   "id": "18132623",
   "metadata": {},
   "outputs": [],
   "source": [
    "test <- readSheet(path = \"T:/Data/LTD Data/BoardingSince2011/\", \n",
    "        fileName = \"October 2013.xlsx\",\n",
    "        sheetName = \"bike counts\")"
   ]
  },
  {
   "cell_type": "code",
   "execution_count": 12,
   "id": "874e8481",
   "metadata": {},
   "outputs": [],
   "source": [
    "df <- df[month(df$date) %in% c(4, 10),]"
   ]
  },
  {
   "cell_type": "code",
   "execution_count": 15,
   "id": "159b2d4f",
   "metadata": {},
   "outputs": [],
   "source": [
    "data <- rbind(data, df)"
   ]
  },
  {
   "cell_type": "code",
   "execution_count": null,
   "id": "159ba693",
   "metadata": {},
   "outputs": [],
   "source": [
    "data <- rbind(data, df)"
   ]
  },
  {
   "cell_type": "code",
   "execution_count": 40,
   "id": "bd193bb2",
   "metadata": {},
   "outputs": [
    {
     "data": {
      "text/html": [
       "<style>\n",
       ".list-inline {list-style: none; margin:0; padding: 0}\n",
       ".list-inline>li {display: inline-block}\n",
       ".list-inline>li:not(:last-child)::after {content: \"\\00b7\"; padding: 0 .5ex}\n",
       "</style>\n",
       "<ol class=list-inline><li>1015164</li><li>16</li></ol>\n"
      ],
      "text/latex": [
       "\\begin{enumerate*}\n",
       "\\item 1015164\n",
       "\\item 16\n",
       "\\end{enumerate*}\n"
      ],
      "text/markdown": [
       "1. 1015164\n",
       "2. 16\n",
       "\n",
       "\n"
      ],
      "text/plain": [
       "[1] 1015164      16"
      ]
     },
     "metadata": {},
     "output_type": "display_data"
    }
   ],
   "source": [
    "dim(data)"
   ]
  },
  {
   "cell_type": "code",
   "execution_count": 41,
   "id": "4ca0c144",
   "metadata": {},
   "outputs": [],
   "source": [
    "data <- unique(data)"
   ]
  },
  {
   "cell_type": "code",
   "execution_count": 42,
   "id": "0aea0a75",
   "metadata": {},
   "outputs": [
    {
     "data": {
      "text/html": [
       "<style>\n",
       ".list-inline {list-style: none; margin:0; padding: 0}\n",
       ".list-inline>li {display: inline-block}\n",
       ".list-inline>li:not(:last-child)::after {content: \"\\00b7\"; padding: 0 .5ex}\n",
       "</style>\n",
       "<ol class=list-inline><li>988126</li><li>16</li></ol>\n"
      ],
      "text/latex": [
       "\\begin{enumerate*}\n",
       "\\item 988126\n",
       "\\item 16\n",
       "\\end{enumerate*}\n"
      ],
      "text/markdown": [
       "1. 988126\n",
       "2. 16\n",
       "\n",
       "\n"
      ],
      "text/plain": [
       "[1] 988126     16"
      ]
     },
     "metadata": {},
     "output_type": "display_data"
    }
   ],
   "source": [
    "dim(data)"
   ]
  },
  {
   "cell_type": "code",
   "execution_count": 43,
   "id": "1edb6578",
   "metadata": {},
   "outputs": [],
   "source": [
    "write.csv(data, paste0('T:/Tableau/tableauBikesOnBuses/Datasources/MonthlyBikesOnBuses.csv'), row.names = FALSE)"
   ]
  },
  {
   "cell_type": "code",
   "execution_count": 15,
   "id": "bb188a32",
   "metadata": {},
   "outputs": [
    {
     "ename": "ERROR",
     "evalue": "Error in `[.data.frame`(data, , names(missed)): undefined columns selected\n",
     "output_type": "error",
     "traceback": [
      "Error in `[.data.frame`(data, , names(missed)): undefined columns selected\nTraceback:\n",
      "1. rbind(data, data[, names(missed)])",
      "2. rbind(deparse.level, ...)",
      "3. data[, names(missed)]",
      "4. `[.data.frame`(data, , names(missed))",
      "5. stop(\"undefined columns selected\")"
     ]
    }
   ],
   "source": [
    "data <- rbind(data, data[,names(missed)])"
   ]
  },
  {
   "cell_type": "code",
   "execution_count": 125,
   "id": "c9ba03ec",
   "metadata": {},
   "outputs": [],
   "source": [
    "#data <- data[year(data$date) != 2021 & data$dir == 'O',]"
   ]
  },
  {
   "cell_type": "code",
   "execution_count": 32,
   "id": "03268ed8",
   "metadata": {},
   "outputs": [],
   "source": [
    "df <- readSheet(path = \"T:/Data/LTD Data/BoardingSince2011/\", \n",
    "                            fileName = paste0(\"April 2013.xlsx\"),\n",
    "                            sheetName = \"bike counts\")"
   ]
  },
  {
   "cell_type": "code",
   "execution_count": 21,
   "id": "7a4ef0df",
   "metadata": {},
   "outputs": [],
   "source": [
    "ndf <- readSheet(path = \"T:/Data/LTD Data/BoardingSince2011/\", \n",
    "                            fileName = paste0(\"October 2013.xlsx\"),\n",
    "                            sheetName = \"bike counts\")"
   ]
  },
  {
   "cell_type": "code",
   "execution_count": 28,
   "id": "a8a4e61b",
   "metadata": {},
   "outputs": [
    {
     "data": {
      "text/html": [
       "<style>\n",
       ".list-inline {list-style: none; margin:0; padding: 0}\n",
       ".list-inline>li {display: inline-block}\n",
       ".list-inline>li:not(:last-child)::after {content: \"\\00b7\"; padding: 0 .5ex}\n",
       "</style>\n",
       "<ol class=list-inline><li>TRUE</li><li>TRUE</li><li>TRUE</li><li>TRUE</li><li>TRUE</li><li>TRUE</li><li>TRUE</li><li>TRUE</li><li>TRUE</li><li>TRUE</li><li>TRUE</li><li>TRUE</li><li>TRUE</li><li>TRUE</li><li>TRUE</li><li>TRUE</li></ol>\n"
      ],
      "text/latex": [
       "\\begin{enumerate*}\n",
       "\\item TRUE\n",
       "\\item TRUE\n",
       "\\item TRUE\n",
       "\\item TRUE\n",
       "\\item TRUE\n",
       "\\item TRUE\n",
       "\\item TRUE\n",
       "\\item TRUE\n",
       "\\item TRUE\n",
       "\\item TRUE\n",
       "\\item TRUE\n",
       "\\item TRUE\n",
       "\\item TRUE\n",
       "\\item TRUE\n",
       "\\item TRUE\n",
       "\\item TRUE\n",
       "\\end{enumerate*}\n"
      ],
      "text/markdown": [
       "1. TRUE\n",
       "2. TRUE\n",
       "3. TRUE\n",
       "4. TRUE\n",
       "5. TRUE\n",
       "6. TRUE\n",
       "7. TRUE\n",
       "8. TRUE\n",
       "9. TRUE\n",
       "10. TRUE\n",
       "11. TRUE\n",
       "12. TRUE\n",
       "13. TRUE\n",
       "14. TRUE\n",
       "15. TRUE\n",
       "16. TRUE\n",
       "\n",
       "\n"
      ],
      "text/plain": [
       " [1] TRUE TRUE TRUE TRUE TRUE TRUE TRUE TRUE TRUE TRUE TRUE TRUE TRUE TRUE TRUE\n",
       "[16] TRUE"
      ]
     },
     "metadata": {},
     "output_type": "display_data"
    }
   ],
   "source": [
    "names(df) == names(ndf)"
   ]
  },
  {
   "cell_type": "code",
   "execution_count": 23,
   "id": "ccd01169",
   "metadata": {},
   "outputs": [
    {
     "data": {
      "text/html": [
       "<style>\n",
       ".list-inline {list-style: none; margin:0; padding: 0}\n",
       ".list-inline>li {display: inline-block}\n",
       ".list-inline>li:not(:last-child)::after {content: \"\\00b7\"; padding: 0 .5ex}\n",
       "</style>\n",
       "<ol class=list-inline><li>'stop'</li><li>'srv'</li><li>'date'</li><li>'block'</li><li>'trip_end'</li><li>'time'</li><li>'route'</li><li>'dir'</li><li>'stop_name'</li><li>'bus'</li><li>'odometer'</li><li>'desc'</li><li>'qty'</li><li>'MonthYear'</li><li>'longitude'</li><li>'latitude'</li></ol>\n"
      ],
      "text/latex": [
       "\\begin{enumerate*}\n",
       "\\item 'stop'\n",
       "\\item 'srv'\n",
       "\\item 'date'\n",
       "\\item 'block'\n",
       "\\item 'trip\\_end'\n",
       "\\item 'time'\n",
       "\\item 'route'\n",
       "\\item 'dir'\n",
       "\\item 'stop\\_name'\n",
       "\\item 'bus'\n",
       "\\item 'odometer'\n",
       "\\item 'desc'\n",
       "\\item 'qty'\n",
       "\\item 'MonthYear'\n",
       "\\item 'longitude'\n",
       "\\item 'latitude'\n",
       "\\end{enumerate*}\n"
      ],
      "text/markdown": [
       "1. 'stop'\n",
       "2. 'srv'\n",
       "3. 'date'\n",
       "4. 'block'\n",
       "5. 'trip_end'\n",
       "6. 'time'\n",
       "7. 'route'\n",
       "8. 'dir'\n",
       "9. 'stop_name'\n",
       "10. 'bus'\n",
       "11. 'odometer'\n",
       "12. 'desc'\n",
       "13. 'qty'\n",
       "14. 'MonthYear'\n",
       "15. 'longitude'\n",
       "16. 'latitude'\n",
       "\n",
       "\n"
      ],
      "text/plain": [
       " [1] \"stop\"      \"srv\"       \"date\"      \"block\"     \"trip_end\"  \"time\"     \n",
       " [7] \"route\"     \"dir\"       \"stop_name\" \"bus\"       \"odometer\"  \"desc\"     \n",
       "[13] \"qty\"       \"MonthYear\" \"longitude\" \"latitude\" "
      ]
     },
     "metadata": {},
     "output_type": "display_data"
    }
   ],
   "source": [
    "names(ndf)"
   ]
  },
  {
   "cell_type": "code",
   "execution_count": 25,
   "id": "05ee7fb3",
   "metadata": {},
   "outputs": [
    {
     "data": {
      "text/html": [
       "<table class=\"dataframe\">\n",
       "<caption>A data.frame: 6 × 16</caption>\n",
       "<thead>\n",
       "\t<tr><th></th><th scope=col>stop</th><th scope=col>srv</th><th scope=col>date</th><th scope=col>block</th><th scope=col>trip_end</th><th scope=col>time</th><th scope=col>route</th><th scope=col>dir</th><th scope=col>stop_name</th><th scope=col>bus</th><th scope=col>odometer</th><th scope=col>desc</th><th scope=col>qty</th><th scope=col>MonthYear</th><th scope=col>longitude</th><th scope=col>latitude</th></tr>\n",
       "\t<tr><th></th><th scope=col>&lt;chr&gt;</th><th scope=col>&lt;chr&gt;</th><th scope=col>&lt;dttm&gt;</th><th scope=col>&lt;dbl&gt;</th><th scope=col>&lt;dttm&gt;</th><th scope=col>&lt;dttm&gt;</th><th scope=col>&lt;chr&gt;</th><th scope=col>&lt;chr&gt;</th><th scope=col>&lt;chr&gt;</th><th scope=col>&lt;dbl&gt;</th><th scope=col>&lt;dbl&gt;</th><th scope=col>&lt;chr&gt;</th><th scope=col>&lt;dbl&gt;</th><th scope=col>&lt;chr&gt;</th><th scope=col>&lt;dbl&gt;</th><th scope=col>&lt;dbl&gt;</th></tr>\n",
       "</thead>\n",
       "<tbody>\n",
       "\t<tr><th scope=row>1</th><td>00001</td><td>wkd</td><td>2013-04-24</td><td>  65</td><td>2022-01-06 17:52:00</td><td>2022-01-06 17:41:00</td><td>11</td><td>O</td><td>E/S of 58th N of Main       </td><td>7104</td><td>136.63</td><td>bike on rack</td><td>1</td><td>April 2013</td><td>-122.9267</td><td>44.04634</td></tr>\n",
       "\t<tr><th scope=row>2</th><td>00001</td><td>wkd</td><td>2013-04-25</td><td>  67</td><td>2022-01-06 12:18:00</td><td>2022-01-06 12:05:00</td><td>11</td><td>O</td><td>E/S of 58th N of Main       </td><td>1003</td><td> 19.46</td><td>bike on rack</td><td>1</td><td>April 2013</td><td>-122.9267</td><td>44.04634</td></tr>\n",
       "\t<tr><th scope=row>3</th><td>00001</td><td>sat</td><td>2013-04-20</td><td>7001</td><td>2022-01-06 17:34:00</td><td>2022-01-06 17:26:00</td><td>11</td><td>O</td><td>E/S of 58th N of Main       </td><td>7105</td><td>150.85</td><td>bike on rack</td><td>1</td><td>April 2013</td><td>-122.9267</td><td>44.04634</td></tr>\n",
       "\t<tr><th scope=row>4</th><td>00001</td><td>wkd</td><td>2013-04-26</td><td>   2</td><td>2022-01-06 10:56:00</td><td>2022-01-06 10:47:00</td><td>11</td><td>O</td><td>E/S of 58th N of Main       </td><td> 325</td><td> 84.26</td><td>bike on rack</td><td>1</td><td>April 2013</td><td>-122.9267</td><td>44.04634</td></tr>\n",
       "\t<tr><th scope=row>5</th><td>00002</td><td>wkd</td><td>2013-04-24</td><td>  52</td><td>2022-01-06 15:42:00</td><td>2022-01-06 15:27:00</td><td>11</td><td>O</td><td>E/S of 58th S of D          </td><td>6218</td><td> 97.73</td><td>bike on rack</td><td>1</td><td>April 2013</td><td>-122.9262</td><td>44.04946</td></tr>\n",
       "\t<tr><th scope=row>6</th><td>00004</td><td>wkd</td><td>2013-04-19</td><td>  16</td><td>2022-01-06 15:35:00</td><td>2022-01-06 15:20:00</td><td>11</td><td>O</td><td>E/S of 58th S of Thurston Rd</td><td>7105</td><td>153.68</td><td>bike on rack</td><td>2</td><td>April 2013</td><td>-122.9262</td><td>44.05225</td></tr>\n",
       "</tbody>\n",
       "</table>\n"
      ],
      "text/latex": [
       "A data.frame: 6 × 16\n",
       "\\begin{tabular}{r|llllllllllllllll}\n",
       "  & stop & srv & date & block & trip\\_end & time & route & dir & stop\\_name & bus & odometer & desc & qty & MonthYear & longitude & latitude\\\\\n",
       "  & <chr> & <chr> & <dttm> & <dbl> & <dttm> & <dttm> & <chr> & <chr> & <chr> & <dbl> & <dbl> & <chr> & <dbl> & <chr> & <dbl> & <dbl>\\\\\n",
       "\\hline\n",
       "\t1 & 00001 & wkd & 2013-04-24 &   65 & 2022-01-06 17:52:00 & 2022-01-06 17:41:00 & 11 & O & E/S of 58th N of Main        & 7104 & 136.63 & bike on rack & 1 & April 2013 & -122.9267 & 44.04634\\\\\n",
       "\t2 & 00001 & wkd & 2013-04-25 &   67 & 2022-01-06 12:18:00 & 2022-01-06 12:05:00 & 11 & O & E/S of 58th N of Main        & 1003 &  19.46 & bike on rack & 1 & April 2013 & -122.9267 & 44.04634\\\\\n",
       "\t3 & 00001 & sat & 2013-04-20 & 7001 & 2022-01-06 17:34:00 & 2022-01-06 17:26:00 & 11 & O & E/S of 58th N of Main        & 7105 & 150.85 & bike on rack & 1 & April 2013 & -122.9267 & 44.04634\\\\\n",
       "\t4 & 00001 & wkd & 2013-04-26 &    2 & 2022-01-06 10:56:00 & 2022-01-06 10:47:00 & 11 & O & E/S of 58th N of Main        &  325 &  84.26 & bike on rack & 1 & April 2013 & -122.9267 & 44.04634\\\\\n",
       "\t5 & 00002 & wkd & 2013-04-24 &   52 & 2022-01-06 15:42:00 & 2022-01-06 15:27:00 & 11 & O & E/S of 58th S of D           & 6218 &  97.73 & bike on rack & 1 & April 2013 & -122.9262 & 44.04946\\\\\n",
       "\t6 & 00004 & wkd & 2013-04-19 &   16 & 2022-01-06 15:35:00 & 2022-01-06 15:20:00 & 11 & O & E/S of 58th S of Thurston Rd & 7105 & 153.68 & bike on rack & 2 & April 2013 & -122.9262 & 44.05225\\\\\n",
       "\\end{tabular}\n"
      ],
      "text/markdown": [
       "\n",
       "A data.frame: 6 × 16\n",
       "\n",
       "| <!--/--> | stop &lt;chr&gt; | srv &lt;chr&gt; | date &lt;dttm&gt; | block &lt;dbl&gt; | trip_end &lt;dttm&gt; | time &lt;dttm&gt; | route &lt;chr&gt; | dir &lt;chr&gt; | stop_name &lt;chr&gt; | bus &lt;dbl&gt; | odometer &lt;dbl&gt; | desc &lt;chr&gt; | qty &lt;dbl&gt; | MonthYear &lt;chr&gt; | longitude &lt;dbl&gt; | latitude &lt;dbl&gt; |\n",
       "|---|---|---|---|---|---|---|---|---|---|---|---|---|---|---|---|---|\n",
       "| 1 | 00001 | wkd | 2013-04-24 |   65 | 2022-01-06 17:52:00 | 2022-01-06 17:41:00 | 11 | O | E/S of 58th N of Main        | 7104 | 136.63 | bike on rack | 1 | April 2013 | -122.9267 | 44.04634 |\n",
       "| 2 | 00001 | wkd | 2013-04-25 |   67 | 2022-01-06 12:18:00 | 2022-01-06 12:05:00 | 11 | O | E/S of 58th N of Main        | 1003 |  19.46 | bike on rack | 1 | April 2013 | -122.9267 | 44.04634 |\n",
       "| 3 | 00001 | sat | 2013-04-20 | 7001 | 2022-01-06 17:34:00 | 2022-01-06 17:26:00 | 11 | O | E/S of 58th N of Main        | 7105 | 150.85 | bike on rack | 1 | April 2013 | -122.9267 | 44.04634 |\n",
       "| 4 | 00001 | wkd | 2013-04-26 |    2 | 2022-01-06 10:56:00 | 2022-01-06 10:47:00 | 11 | O | E/S of 58th N of Main        |  325 |  84.26 | bike on rack | 1 | April 2013 | -122.9267 | 44.04634 |\n",
       "| 5 | 00002 | wkd | 2013-04-24 |   52 | 2022-01-06 15:42:00 | 2022-01-06 15:27:00 | 11 | O | E/S of 58th S of D           | 6218 |  97.73 | bike on rack | 1 | April 2013 | -122.9262 | 44.04946 |\n",
       "| 6 | 00004 | wkd | 2013-04-19 |   16 | 2022-01-06 15:35:00 | 2022-01-06 15:20:00 | 11 | O | E/S of 58th S of Thurston Rd | 7105 | 153.68 | bike on rack | 2 | April 2013 | -122.9262 | 44.05225 |\n",
       "\n"
      ],
      "text/plain": [
       "  stop  srv date       block trip_end            time                route dir\n",
       "1 00001 wkd 2013-04-24   65  2022-01-06 17:52:00 2022-01-06 17:41:00 11    O  \n",
       "2 00001 wkd 2013-04-25   67  2022-01-06 12:18:00 2022-01-06 12:05:00 11    O  \n",
       "3 00001 sat 2013-04-20 7001  2022-01-06 17:34:00 2022-01-06 17:26:00 11    O  \n",
       "4 00001 wkd 2013-04-26    2  2022-01-06 10:56:00 2022-01-06 10:47:00 11    O  \n",
       "5 00002 wkd 2013-04-24   52  2022-01-06 15:42:00 2022-01-06 15:27:00 11    O  \n",
       "6 00004 wkd 2013-04-19   16  2022-01-06 15:35:00 2022-01-06 15:20:00 11    O  \n",
       "  stop_name                    bus  odometer desc         qty MonthYear \n",
       "1 E/S of 58th N of Main        7104 136.63   bike on rack 1   April 2013\n",
       "2 E/S of 58th N of Main        1003  19.46   bike on rack 1   April 2013\n",
       "3 E/S of 58th N of Main        7105 150.85   bike on rack 1   April 2013\n",
       "4 E/S of 58th N of Main         325  84.26   bike on rack 1   April 2013\n",
       "5 E/S of 58th S of D           6218  97.73   bike on rack 1   April 2013\n",
       "6 E/S of 58th S of Thurston Rd 7105 153.68   bike on rack 2   April 2013\n",
       "  longitude latitude\n",
       "1 -122.9267 44.04634\n",
       "2 -122.9267 44.04634\n",
       "3 -122.9267 44.04634\n",
       "4 -122.9267 44.04634\n",
       "5 -122.9262 44.04946\n",
       "6 -122.9262 44.05225"
      ]
     },
     "metadata": {},
     "output_type": "display_data"
    }
   ],
   "source": [
    "head(df)"
   ]
  },
  {
   "cell_type": "code",
   "execution_count": 26,
   "id": "1dceb788",
   "metadata": {},
   "outputs": [
    {
     "data": {
      "text/html": [
       "<table class=\"dataframe\">\n",
       "<caption>A data.frame: 6 × 16</caption>\n",
       "<thead>\n",
       "\t<tr><th></th><th scope=col>stop</th><th scope=col>srv</th><th scope=col>date</th><th scope=col>block</th><th scope=col>trip_end</th><th scope=col>time</th><th scope=col>route</th><th scope=col>dir</th><th scope=col>stop_name</th><th scope=col>bus</th><th scope=col>odometer</th><th scope=col>desc</th><th scope=col>qty</th><th scope=col>MonthYear</th><th scope=col>longitude</th><th scope=col>latitude</th></tr>\n",
       "\t<tr><th></th><th scope=col>&lt;chr&gt;</th><th scope=col>&lt;chr&gt;</th><th scope=col>&lt;dttm&gt;</th><th scope=col>&lt;dbl&gt;</th><th scope=col>&lt;dttm&gt;</th><th scope=col>&lt;dttm&gt;</th><th scope=col>&lt;chr&gt;</th><th scope=col>&lt;chr&gt;</th><th scope=col>&lt;chr&gt;</th><th scope=col>&lt;chr&gt;</th><th scope=col>&lt;dbl&gt;</th><th scope=col>&lt;chr&gt;</th><th scope=col>&lt;dbl&gt;</th><th scope=col>&lt;chr&gt;</th><th scope=col>&lt;dbl&gt;</th><th scope=col>&lt;dbl&gt;</th></tr>\n",
       "</thead>\n",
       "<tbody>\n",
       "\t<tr><th scope=row>1</th><td>00001</td><td>wkd</td><td>2013-10-01</td><td>  93</td><td>1899-12-31 15:35:00</td><td>1899-12-31 15:22:00</td><td>11</td><td>O</td><td>E/S of 58th N of Main       </td><td>1002</td><td>  6.34</td><td>bike on rack</td><td>1</td><td>October 2013</td><td>-122.9267</td><td>44.04634</td></tr>\n",
       "\t<tr><th scope=row>2</th><td>00001</td><td>wkd</td><td>2013-10-30</td><td>  67</td><td>1899-12-31 16:25:00</td><td>1899-12-31 16:09:00</td><td>11</td><td>O</td><td>E/S of 58th N of Main       </td><td>1001</td><td>112.83</td><td>bike on rack</td><td>1</td><td>October 2013</td><td>-122.9267</td><td>44.04634</td></tr>\n",
       "\t<tr><th scope=row>3</th><td>00001</td><td>sat</td><td>2013-10-05</td><td>7014</td><td>1899-12-31 17:49:00</td><td>1899-12-31 17:41:00</td><td>11</td><td>O</td><td>E/S of 58th N of Main       </td><td>7101</td><td>137.64</td><td>bike on rack</td><td>1</td><td>October 2013</td><td>-122.9267</td><td>44.04634</td></tr>\n",
       "\t<tr><th scope=row>4</th><td>00002</td><td>sat</td><td>2013-10-12</td><td>7003</td><td>1899-12-31 12:05:00</td><td>1899-12-31 11:52:00</td><td>11</td><td>O</td><td>E/S of 58th S of D          </td><td>7103</td><td> 72.26</td><td>bike on rack</td><td>1</td><td>October 2013</td><td>-122.9262</td><td>44.04946</td></tr>\n",
       "\t<tr><th scope=row>5</th><td>00004</td><td>wkd</td><td>2013-10-23</td><td>  42</td><td>1899-12-31 07:14:00</td><td>1899-12-31 07:05:00</td><td>11</td><td>O</td><td>E/S of 58th S of Thurston Rd</td><td>772 </td><td>  6.68</td><td>bike on rack</td><td>1</td><td>October 2013</td><td>-122.9262</td><td>44.05225</td></tr>\n",
       "\t<tr><th scope=row>6</th><td>00004</td><td>wkd</td><td>2013-10-16</td><td>  90</td><td>1899-12-31 16:35:00</td><td>1899-12-31 16:22:00</td><td>11</td><td>O</td><td>E/S of 58th S of Thurston Rd</td><td>6219</td><td> 19.81</td><td>bike on rack</td><td>1</td><td>October 2013</td><td>-122.9262</td><td>44.05225</td></tr>\n",
       "</tbody>\n",
       "</table>\n"
      ],
      "text/latex": [
       "A data.frame: 6 × 16\n",
       "\\begin{tabular}{r|llllllllllllllll}\n",
       "  & stop & srv & date & block & trip\\_end & time & route & dir & stop\\_name & bus & odometer & desc & qty & MonthYear & longitude & latitude\\\\\n",
       "  & <chr> & <chr> & <dttm> & <dbl> & <dttm> & <dttm> & <chr> & <chr> & <chr> & <chr> & <dbl> & <chr> & <dbl> & <chr> & <dbl> & <dbl>\\\\\n",
       "\\hline\n",
       "\t1 & 00001 & wkd & 2013-10-01 &   93 & 1899-12-31 15:35:00 & 1899-12-31 15:22:00 & 11 & O & E/S of 58th N of Main        & 1002 &   6.34 & bike on rack & 1 & October 2013 & -122.9267 & 44.04634\\\\\n",
       "\t2 & 00001 & wkd & 2013-10-30 &   67 & 1899-12-31 16:25:00 & 1899-12-31 16:09:00 & 11 & O & E/S of 58th N of Main        & 1001 & 112.83 & bike on rack & 1 & October 2013 & -122.9267 & 44.04634\\\\\n",
       "\t3 & 00001 & sat & 2013-10-05 & 7014 & 1899-12-31 17:49:00 & 1899-12-31 17:41:00 & 11 & O & E/S of 58th N of Main        & 7101 & 137.64 & bike on rack & 1 & October 2013 & -122.9267 & 44.04634\\\\\n",
       "\t4 & 00002 & sat & 2013-10-12 & 7003 & 1899-12-31 12:05:00 & 1899-12-31 11:52:00 & 11 & O & E/S of 58th S of D           & 7103 &  72.26 & bike on rack & 1 & October 2013 & -122.9262 & 44.04946\\\\\n",
       "\t5 & 00004 & wkd & 2013-10-23 &   42 & 1899-12-31 07:14:00 & 1899-12-31 07:05:00 & 11 & O & E/S of 58th S of Thurston Rd & 772  &   6.68 & bike on rack & 1 & October 2013 & -122.9262 & 44.05225\\\\\n",
       "\t6 & 00004 & wkd & 2013-10-16 &   90 & 1899-12-31 16:35:00 & 1899-12-31 16:22:00 & 11 & O & E/S of 58th S of Thurston Rd & 6219 &  19.81 & bike on rack & 1 & October 2013 & -122.9262 & 44.05225\\\\\n",
       "\\end{tabular}\n"
      ],
      "text/markdown": [
       "\n",
       "A data.frame: 6 × 16\n",
       "\n",
       "| <!--/--> | stop &lt;chr&gt; | srv &lt;chr&gt; | date &lt;dttm&gt; | block &lt;dbl&gt; | trip_end &lt;dttm&gt; | time &lt;dttm&gt; | route &lt;chr&gt; | dir &lt;chr&gt; | stop_name &lt;chr&gt; | bus &lt;chr&gt; | odometer &lt;dbl&gt; | desc &lt;chr&gt; | qty &lt;dbl&gt; | MonthYear &lt;chr&gt; | longitude &lt;dbl&gt; | latitude &lt;dbl&gt; |\n",
       "|---|---|---|---|---|---|---|---|---|---|---|---|---|---|---|---|---|\n",
       "| 1 | 00001 | wkd | 2013-10-01 |   93 | 1899-12-31 15:35:00 | 1899-12-31 15:22:00 | 11 | O | E/S of 58th N of Main        | 1002 |   6.34 | bike on rack | 1 | October 2013 | -122.9267 | 44.04634 |\n",
       "| 2 | 00001 | wkd | 2013-10-30 |   67 | 1899-12-31 16:25:00 | 1899-12-31 16:09:00 | 11 | O | E/S of 58th N of Main        | 1001 | 112.83 | bike on rack | 1 | October 2013 | -122.9267 | 44.04634 |\n",
       "| 3 | 00001 | sat | 2013-10-05 | 7014 | 1899-12-31 17:49:00 | 1899-12-31 17:41:00 | 11 | O | E/S of 58th N of Main        | 7101 | 137.64 | bike on rack | 1 | October 2013 | -122.9267 | 44.04634 |\n",
       "| 4 | 00002 | sat | 2013-10-12 | 7003 | 1899-12-31 12:05:00 | 1899-12-31 11:52:00 | 11 | O | E/S of 58th S of D           | 7103 |  72.26 | bike on rack | 1 | October 2013 | -122.9262 | 44.04946 |\n",
       "| 5 | 00004 | wkd | 2013-10-23 |   42 | 1899-12-31 07:14:00 | 1899-12-31 07:05:00 | 11 | O | E/S of 58th S of Thurston Rd | 772  |   6.68 | bike on rack | 1 | October 2013 | -122.9262 | 44.05225 |\n",
       "| 6 | 00004 | wkd | 2013-10-16 |   90 | 1899-12-31 16:35:00 | 1899-12-31 16:22:00 | 11 | O | E/S of 58th S of Thurston Rd | 6219 |  19.81 | bike on rack | 1 | October 2013 | -122.9262 | 44.05225 |\n",
       "\n"
      ],
      "text/plain": [
       "  stop  srv date       block trip_end            time                route dir\n",
       "1 00001 wkd 2013-10-01   93  1899-12-31 15:35:00 1899-12-31 15:22:00 11    O  \n",
       "2 00001 wkd 2013-10-30   67  1899-12-31 16:25:00 1899-12-31 16:09:00 11    O  \n",
       "3 00001 sat 2013-10-05 7014  1899-12-31 17:49:00 1899-12-31 17:41:00 11    O  \n",
       "4 00002 sat 2013-10-12 7003  1899-12-31 12:05:00 1899-12-31 11:52:00 11    O  \n",
       "5 00004 wkd 2013-10-23   42  1899-12-31 07:14:00 1899-12-31 07:05:00 11    O  \n",
       "6 00004 wkd 2013-10-16   90  1899-12-31 16:35:00 1899-12-31 16:22:00 11    O  \n",
       "  stop_name                    bus  odometer desc         qty MonthYear   \n",
       "1 E/S of 58th N of Main        1002   6.34   bike on rack 1   October 2013\n",
       "2 E/S of 58th N of Main        1001 112.83   bike on rack 1   October 2013\n",
       "3 E/S of 58th N of Main        7101 137.64   bike on rack 1   October 2013\n",
       "4 E/S of 58th S of D           7103  72.26   bike on rack 1   October 2013\n",
       "5 E/S of 58th S of Thurston Rd 772    6.68   bike on rack 1   October 2013\n",
       "6 E/S of 58th S of Thurston Rd 6219  19.81   bike on rack 1   October 2013\n",
       "  longitude latitude\n",
       "1 -122.9267 44.04634\n",
       "2 -122.9267 44.04634\n",
       "3 -122.9267 44.04634\n",
       "4 -122.9262 44.04946\n",
       "5 -122.9262 44.05225\n",
       "6 -122.9262 44.05225"
      ]
     },
     "metadata": {},
     "output_type": "display_data"
    }
   ],
   "source": [
    "head(ndf)"
   ]
  },
  {
   "cell_type": "code",
   "execution_count": 78,
   "id": "458ee98f",
   "metadata": {},
   "outputs": [
    {
     "data": {
      "text/html": [
       "<table class=\"dataframe\">\n",
       "<caption>A tibble: 6 × 18</caption>\n",
       "<thead>\n",
       "\t<tr><th scope=col>srv</th><th scope=col>date</th><th scope=col>block</th><th scope=col>trip_end</th><th scope=col>time</th><th scope=col>route</th><th scope=col>dir</th><th scope=col>stop</th><th scope=col>stop_name</th><th scope=col>latitude</th><th scope=col>longitude</th><th scope=col>bus</th><th scope=col>odometer</th><th scope=col>desc</th><th scope=col>qty</th><th scope=col>MonthYear</th><th scope=col>DailyRtQty</th><th scope=col>DailyQty</th></tr>\n",
       "\t<tr><th scope=col>&lt;chr&gt;</th><th scope=col>&lt;dttm&gt;</th><th scope=col>&lt;dbl&gt;</th><th scope=col>&lt;dttm&gt;</th><th scope=col>&lt;dttm&gt;</th><th scope=col>&lt;chr&gt;</th><th scope=col>&lt;chr&gt;</th><th scope=col>&lt;chr&gt;</th><th scope=col>&lt;chr&gt;</th><th scope=col>&lt;dbl&gt;</th><th scope=col>&lt;dbl&gt;</th><th scope=col>&lt;chr&gt;</th><th scope=col>&lt;dbl&gt;</th><th scope=col>&lt;chr&gt;</th><th scope=col>&lt;dbl&gt;</th><th scope=col>&lt;chr&gt;</th><th scope=col>&lt;dbl&gt;</th><th scope=col>&lt;dbl&gt;</th></tr>\n",
       "</thead>\n",
       "<tbody>\n",
       "\t<tr><td>wkd</td><td>2013-01-02</td><td>1</td><td>1899-12-31 06:00:00</td><td>1899-12-31 05:23:00</td><td>91</td><td>O</td><td>9249</td><td>S/S of Hwy 126 (MP 23.41) E of Mt View Lane</td><td>44.13080</td><td>-122.6172</td><td>151 </td><td>29.47</td><td>bike on rack</td><td>1</td><td>January 2013</td><td> 3</td><td>549</td></tr>\n",
       "\t<tr><td>wkd</td><td>2013-01-02</td><td>1</td><td>1899-12-31 09:25:00</td><td>1899-12-31 09:01:00</td><td>40</td><td>I</td><td>816 </td><td>S/S of Royal W of Ruskin                   </td><td>44.06990</td><td>-123.1671</td><td>151 </td><td> 8.20</td><td>bike on rack</td><td>1</td><td>January 2013</td><td>31</td><td>549</td></tr>\n",
       "\t<tr><td>wkd</td><td>2013-01-02</td><td>1</td><td>1899-12-31 10:25:00</td><td>1899-12-31 10:11:00</td><td>36</td><td>I</td><td>404 </td><td>S/S of 18th W of McKinley                  </td><td>44.04052</td><td>-123.1305</td><td>151 </td><td>23.13</td><td>bike on rack</td><td>1</td><td>January 2013</td><td>20</td><td>549</td></tr>\n",
       "\t<tr><td>wkd</td><td>2013-01-02</td><td>2</td><td>1899-12-31 05:21:00</td><td>1899-12-31 05:21:00</td><td>11</td><td>O</td><td>17  </td><td>N/S of Main E of 62nd Pl                   </td><td>44.04573</td><td>-122.9181</td><td>1114</td><td> 9.15</td><td>bike on rack</td><td>2</td><td>January 2013</td><td>93</td><td>549</td></tr>\n",
       "\t<tr><td>wkd</td><td>2013-01-02</td><td>2</td><td>1899-12-31 05:37:00</td><td>1899-12-31 05:26:00</td><td>11</td><td>I</td><td>26  </td><td>N/S of Main E of 50th                      </td><td>44.04582</td><td>-122.9434</td><td>1114</td><td>10.62</td><td>bike on rack</td><td>1</td><td>January 2013</td><td>93</td><td>549</td></tr>\n",
       "\t<tr><td>wkd</td><td>2013-01-02</td><td>2</td><td>1899-12-31 06:37:00</td><td>1899-12-31 06:20:00</td><td>11</td><td>I</td><td>26  </td><td>N/S of Main E of 50th                      </td><td>44.04581</td><td>-122.9433</td><td>1114</td><td>23.75</td><td>bike on rack</td><td>1</td><td>January 2013</td><td>93</td><td>549</td></tr>\n",
       "</tbody>\n",
       "</table>\n"
      ],
      "text/latex": [
       "A tibble: 6 × 18\n",
       "\\begin{tabular}{llllllllllllllllll}\n",
       " srv & date & block & trip\\_end & time & route & dir & stop & stop\\_name & latitude & longitude & bus & odometer & desc & qty & MonthYear & DailyRtQty & DailyQty\\\\\n",
       " <chr> & <dttm> & <dbl> & <dttm> & <dttm> & <chr> & <chr> & <chr> & <chr> & <dbl> & <dbl> & <chr> & <dbl> & <chr> & <dbl> & <chr> & <dbl> & <dbl>\\\\\n",
       "\\hline\n",
       "\t wkd & 2013-01-02 & 1 & 1899-12-31 06:00:00 & 1899-12-31 05:23:00 & 91 & O & 9249 & S/S of Hwy 126 (MP 23.41) E of Mt View Lane & 44.13080 & -122.6172 & 151  & 29.47 & bike on rack & 1 & January 2013 &  3 & 549\\\\\n",
       "\t wkd & 2013-01-02 & 1 & 1899-12-31 09:25:00 & 1899-12-31 09:01:00 & 40 & I & 816  & S/S of Royal W of Ruskin                    & 44.06990 & -123.1671 & 151  &  8.20 & bike on rack & 1 & January 2013 & 31 & 549\\\\\n",
       "\t wkd & 2013-01-02 & 1 & 1899-12-31 10:25:00 & 1899-12-31 10:11:00 & 36 & I & 404  & S/S of 18th W of McKinley                   & 44.04052 & -123.1305 & 151  & 23.13 & bike on rack & 1 & January 2013 & 20 & 549\\\\\n",
       "\t wkd & 2013-01-02 & 2 & 1899-12-31 05:21:00 & 1899-12-31 05:21:00 & 11 & O & 17   & N/S of Main E of 62nd Pl                    & 44.04573 & -122.9181 & 1114 &  9.15 & bike on rack & 2 & January 2013 & 93 & 549\\\\\n",
       "\t wkd & 2013-01-02 & 2 & 1899-12-31 05:37:00 & 1899-12-31 05:26:00 & 11 & I & 26   & N/S of Main E of 50th                       & 44.04582 & -122.9434 & 1114 & 10.62 & bike on rack & 1 & January 2013 & 93 & 549\\\\\n",
       "\t wkd & 2013-01-02 & 2 & 1899-12-31 06:37:00 & 1899-12-31 06:20:00 & 11 & I & 26   & N/S of Main E of 50th                       & 44.04581 & -122.9433 & 1114 & 23.75 & bike on rack & 1 & January 2013 & 93 & 549\\\\\n",
       "\\end{tabular}\n"
      ],
      "text/markdown": [
       "\n",
       "A tibble: 6 × 18\n",
       "\n",
       "| srv &lt;chr&gt; | date &lt;dttm&gt; | block &lt;dbl&gt; | trip_end &lt;dttm&gt; | time &lt;dttm&gt; | route &lt;chr&gt; | dir &lt;chr&gt; | stop &lt;chr&gt; | stop_name &lt;chr&gt; | latitude &lt;dbl&gt; | longitude &lt;dbl&gt; | bus &lt;chr&gt; | odometer &lt;dbl&gt; | desc &lt;chr&gt; | qty &lt;dbl&gt; | MonthYear &lt;chr&gt; | DailyRtQty &lt;dbl&gt; | DailyQty &lt;dbl&gt; |\n",
       "|---|---|---|---|---|---|---|---|---|---|---|---|---|---|---|---|---|---|\n",
       "| wkd | 2013-01-02 | 1 | 1899-12-31 06:00:00 | 1899-12-31 05:23:00 | 91 | O | 9249 | S/S of Hwy 126 (MP 23.41) E of Mt View Lane | 44.13080 | -122.6172 | 151  | 29.47 | bike on rack | 1 | January 2013 |  3 | 549 |\n",
       "| wkd | 2013-01-02 | 1 | 1899-12-31 09:25:00 | 1899-12-31 09:01:00 | 40 | I | 816  | S/S of Royal W of Ruskin                    | 44.06990 | -123.1671 | 151  |  8.20 | bike on rack | 1 | January 2013 | 31 | 549 |\n",
       "| wkd | 2013-01-02 | 1 | 1899-12-31 10:25:00 | 1899-12-31 10:11:00 | 36 | I | 404  | S/S of 18th W of McKinley                   | 44.04052 | -123.1305 | 151  | 23.13 | bike on rack | 1 | January 2013 | 20 | 549 |\n",
       "| wkd | 2013-01-02 | 2 | 1899-12-31 05:21:00 | 1899-12-31 05:21:00 | 11 | O | 17   | N/S of Main E of 62nd Pl                    | 44.04573 | -122.9181 | 1114 |  9.15 | bike on rack | 2 | January 2013 | 93 | 549 |\n",
       "| wkd | 2013-01-02 | 2 | 1899-12-31 05:37:00 | 1899-12-31 05:26:00 | 11 | I | 26   | N/S of Main E of 50th                       | 44.04582 | -122.9434 | 1114 | 10.62 | bike on rack | 1 | January 2013 | 93 | 549 |\n",
       "| wkd | 2013-01-02 | 2 | 1899-12-31 06:37:00 | 1899-12-31 06:20:00 | 11 | I | 26   | N/S of Main E of 50th                       | 44.04581 | -122.9433 | 1114 | 23.75 | bike on rack | 1 | January 2013 | 93 | 549 |\n",
       "\n"
      ],
      "text/plain": [
       "  srv date       block trip_end            time                route dir stop\n",
       "1 wkd 2013-01-02 1     1899-12-31 06:00:00 1899-12-31 05:23:00 91    O   9249\n",
       "2 wkd 2013-01-02 1     1899-12-31 09:25:00 1899-12-31 09:01:00 40    I   816 \n",
       "3 wkd 2013-01-02 1     1899-12-31 10:25:00 1899-12-31 10:11:00 36    I   404 \n",
       "4 wkd 2013-01-02 2     1899-12-31 05:21:00 1899-12-31 05:21:00 11    O   17  \n",
       "5 wkd 2013-01-02 2     1899-12-31 05:37:00 1899-12-31 05:26:00 11    I   26  \n",
       "6 wkd 2013-01-02 2     1899-12-31 06:37:00 1899-12-31 06:20:00 11    I   26  \n",
       "  stop_name                                   latitude longitude bus  odometer\n",
       "1 S/S of Hwy 126 (MP 23.41) E of Mt View Lane 44.13080 -122.6172 151  29.47   \n",
       "2 S/S of Royal W of Ruskin                    44.06990 -123.1671 151   8.20   \n",
       "3 S/S of 18th W of McKinley                   44.04052 -123.1305 151  23.13   \n",
       "4 N/S of Main E of 62nd Pl                    44.04573 -122.9181 1114  9.15   \n",
       "5 N/S of Main E of 50th                       44.04582 -122.9434 1114 10.62   \n",
       "6 N/S of Main E of 50th                       44.04581 -122.9433 1114 23.75   \n",
       "  desc         qty MonthYear    DailyRtQty DailyQty\n",
       "1 bike on rack 1   January 2013  3         549     \n",
       "2 bike on rack 1   January 2013 31         549     \n",
       "3 bike on rack 1   January 2013 20         549     \n",
       "4 bike on rack 2   January 2013 93         549     \n",
       "5 bike on rack 1   January 2013 93         549     \n",
       "6 bike on rack 1   January 2013 93         549     "
      ]
     },
     "metadata": {},
     "output_type": "display_data"
    }
   ],
   "source": [
    "head(data)"
   ]
  },
  {
   "cell_type": "code",
   "execution_count": 79,
   "id": "2e58397f",
   "metadata": {},
   "outputs": [
    {
     "data": {
      "text/html": [
       "<style>\n",
       ".list-inline {list-style: none; margin:0; padding: 0}\n",
       ".list-inline>li {display: inline-block}\n",
       ".list-inline>li:not(:last-child)::after {content: \"\\00b7\"; padding: 0 .5ex}\n",
       "</style>\n",
       "<ol class=list-inline><li>'srv'</li><li>'date'</li><li>'block'</li><li>'trip_end'</li><li>'time'</li><li>'route'</li><li>'dir'</li><li>'stop'</li><li>'stop_name'</li><li>'latitude'</li><li>'longitude'</li><li>'bus'</li><li>'odometer'</li><li>'desc'</li><li>'qty'</li><li>'MonthYear'</li><li>'DailyRtQty'</li><li>'DailyQty'</li></ol>\n"
      ],
      "text/latex": [
       "\\begin{enumerate*}\n",
       "\\item 'srv'\n",
       "\\item 'date'\n",
       "\\item 'block'\n",
       "\\item 'trip\\_end'\n",
       "\\item 'time'\n",
       "\\item 'route'\n",
       "\\item 'dir'\n",
       "\\item 'stop'\n",
       "\\item 'stop\\_name'\n",
       "\\item 'latitude'\n",
       "\\item 'longitude'\n",
       "\\item 'bus'\n",
       "\\item 'odometer'\n",
       "\\item 'desc'\n",
       "\\item 'qty'\n",
       "\\item 'MonthYear'\n",
       "\\item 'DailyRtQty'\n",
       "\\item 'DailyQty'\n",
       "\\end{enumerate*}\n"
      ],
      "text/markdown": [
       "1. 'srv'\n",
       "2. 'date'\n",
       "3. 'block'\n",
       "4. 'trip_end'\n",
       "5. 'time'\n",
       "6. 'route'\n",
       "7. 'dir'\n",
       "8. 'stop'\n",
       "9. 'stop_name'\n",
       "10. 'latitude'\n",
       "11. 'longitude'\n",
       "12. 'bus'\n",
       "13. 'odometer'\n",
       "14. 'desc'\n",
       "15. 'qty'\n",
       "16. 'MonthYear'\n",
       "17. 'DailyRtQty'\n",
       "18. 'DailyQty'\n",
       "\n",
       "\n"
      ],
      "text/plain": [
       " [1] \"srv\"        \"date\"       \"block\"      \"trip_end\"   \"time\"      \n",
       " [6] \"route\"      \"dir\"        \"stop\"       \"stop_name\"  \"latitude\"  \n",
       "[11] \"longitude\"  \"bus\"        \"odometer\"   \"desc\"       \"qty\"       \n",
       "[16] \"MonthYear\"  \"DailyRtQty\" \"DailyQty\"  "
      ]
     },
     "metadata": {},
     "output_type": "display_data"
    }
   ],
   "source": [
    "names(data)"
   ]
  },
  {
   "cell_type": "code",
   "execution_count": 17,
   "id": "21133425",
   "metadata": {},
   "outputs": [
    {
     "data": {
      "text/plain": [
       "[1] \"2013-01-02 UTC\" \"2021-11-15 UTC\""
      ]
     },
     "metadata": {},
     "output_type": "display_data"
    }
   ],
   "source": [
    "range(data$date)"
   ]
  },
  {
   "cell_type": "code",
   "execution_count": 18,
   "id": "ac5a2bbf",
   "metadata": {},
   "outputs": [
    {
     "name": "stdout",
     "output_type": "stream",
     "text": [
      "OGR data source with driver: ESRI Shapefile \n",
      "Source: \"V:\\Data\\Transportation\", layer: \"MPO_Bound\"\n",
      "with 1 features\n",
      "It has 3 fields\n"
     ]
    }
   ],
   "source": [
    "MPOBound <- readOGR(dsn = \"V:/Data/Transportation\", layer=\"MPO_Bound\")"
   ]
  },
  {
   "cell_type": "code",
   "execution_count": 19,
   "id": "2bbe9dd8",
   "metadata": {},
   "outputs": [
    {
     "data": {
      "text/html": [
       "<style>\n",
       ".list-inline {list-style: none; margin:0; padding: 0}\n",
       ".list-inline>li {display: inline-block}\n",
       ".list-inline>li:not(:last-child)::after {content: \"\\00b7\"; padding: 0 .5ex}\n",
       "</style>\n",
       "<ol class=list-inline><li>1015164</li><li>16</li></ol>\n"
      ],
      "text/latex": [
       "\\begin{enumerate*}\n",
       "\\item 1015164\n",
       "\\item 16\n",
       "\\end{enumerate*}\n"
      ],
      "text/markdown": [
       "1. 1015164\n",
       "2. 16\n",
       "\n",
       "\n"
      ],
      "text/plain": [
       "[1] 1015164      16"
      ]
     },
     "metadata": {},
     "output_type": "display_data"
    }
   ],
   "source": [
    "dim(data)"
   ]
  },
  {
   "cell_type": "code",
   "execution_count": 44,
   "id": "0722fd96",
   "metadata": {},
   "outputs": [
    {
     "data": {
      "text/html": [
       "36"
      ],
      "text/latex": [
       "36"
      ],
      "text/markdown": [
       "36"
      ],
      "text/plain": [
       "[1] 36"
      ]
     },
     "metadata": {},
     "output_type": "display_data"
    }
   ],
   "source": [
    "length(unique(data$route))"
   ]
  },
  {
   "cell_type": "code",
   "execution_count": 86,
   "id": "3834b158",
   "metadata": {},
   "outputs": [],
   "source": [
    "aggdata <- aggregate(x=list(qty = data$qty), by=list(stop_name = data$stop_name), FUN=sum)"
   ]
  },
  {
   "cell_type": "code",
   "execution_count": 87,
   "id": "cd76048d",
   "metadata": {},
   "outputs": [],
   "source": [
    "locdata <- aggregate(x=list(latitude = data$latitude, longitude= data$longitude), \n",
    "                     by=list(stop_name = data$stop_name), FUN=first)"
   ]
  },
  {
   "cell_type": "code",
   "execution_count": 88,
   "id": "b4a93e32",
   "metadata": {},
   "outputs": [],
   "source": [
    "aggdata <- merge(aggdata, locdata, by='stop_name')"
   ]
  },
  {
   "cell_type": "code",
   "execution_count": 89,
   "id": "52991a83",
   "metadata": {
    "scrolled": true
   },
   "outputs": [],
   "source": [
    "spdf <- df2spdf(aggdata, 'longitude', 'latitude')"
   ]
  },
  {
   "cell_type": "code",
   "execution_count": 90,
   "id": "0ca33af8",
   "metadata": {},
   "outputs": [
    {
     "data": {
      "image/png": "[encoded data removed]",
      "text/plain": [
       "plot without title"
      ]
     },
     "metadata": {
      "image/png": {
       "height": 720,
       "width": 720
      }
     },
     "output_type": "display_data"
    }
   ],
   "source": [
    "options(repr.plot.width=12, repr.plot.height=12)\n",
    "par(mfrow=c(1,1),mar=c(0,0,2,0))\n",
    "plot(MPOBound)\n",
    "plot(spdf, add=TRUE, col='grey')\n",
    "points(spdf$longitude, spdf$latitude, cex=spdf$qty/2000)"
   ]
  },
  {
   "cell_type": "code",
   "execution_count": 50,
   "id": "494120f8",
   "metadata": {},
   "outputs": [],
   "source": [
    "spdf@data <- spdf@data[!grepl(paste(c(\"Springfield Station, Bay\", \"Eugene Station, Bay\"),collapse = \"|\"), spdf@data$stop_name),]"
   ]
  },
  {
   "cell_type": "code",
   "execution_count": 51,
   "id": "d913aba8",
   "metadata": {},
   "outputs": [
    {
     "data": {
      "image/png": "[encoded data removed]",
      "text/plain": [
       "plot without title"
      ]
     },
     "metadata": {
      "image/png": {
       "height": 720,
       "width": 720
      }
     },
     "output_type": "display_data"
    }
   ],
   "source": [
    "par(mfrow=c(1,1),mar=c(0,0,2,0))\n",
    "plot(MPOBound)\n",
    "plot(spdf, add=TRUE, col='grey')\n",
    "points(spdf$longitude, spdf$latitude, cex=spdf$qty/1000)"
   ]
  },
  {
   "cell_type": "code",
   "execution_count": 94,
   "id": "66d8dfaf",
   "metadata": {},
   "outputs": [],
   "source": [
    "outdata <- aggregate(x=list(Counts = data$qty), by=list(Year = year(data$date), Location = data$stop_name), FUN=sum)"
   ]
  },
  {
   "cell_type": "code",
   "execution_count": 95,
   "id": "883a89fb",
   "metadata": {},
   "outputs": [
    {
     "data": {
      "text/html": [
       "<table class=\"dataframe\">\n",
       "<caption>A data.frame: 6 × 3</caption>\n",
       "<thead>\n",
       "\t<tr><th></th><th scope=col>stop_name</th><th scope=col>latitude</th><th scope=col>longitude</th></tr>\n",
       "\t<tr><th></th><th scope=col>&lt;chr&gt;</th><th scope=col>&lt;dbl&gt;</th><th scope=col>&lt;dbl&gt;</th></tr>\n",
       "</thead>\n",
       "<tbody>\n",
       "\t<tr><th scope=row>1</th><td>\"E\" Street Station                           </td><td>44.05092</td><td>-123.0221</td></tr>\n",
       "\t<tr><th scope=row>2</th><td>\"F\" Street Station                           </td><td>44.05118</td><td>-123.0232</td></tr>\n",
       "\t<tr><th scope=row>3</th><td>\"Q\" Street Station inbound                   </td><td>44.06277</td><td>-123.0262</td></tr>\n",
       "\t<tr><th scope=row>4</th><td>\"Q\" Street Station outbound                  </td><td>44.06332</td><td>-123.0262</td></tr>\n",
       "\t<tr><th scope=row>5</th><td>(^) N/S of Hwy 126 (MP 23.8) W of Leaburg Dam</td><td>44.13587</td><td>-122.6134</td></tr>\n",
       "\t<tr><th scope=row>6</th><td>(^) N/S of Lost Crk (Dexter)                 </td><td>43.91483</td><td>-122.8129</td></tr>\n",
       "</tbody>\n",
       "</table>\n"
      ],
      "text/latex": [
       "A data.frame: 6 × 3\n",
       "\\begin{tabular}{r|lll}\n",
       "  & stop\\_name & latitude & longitude\\\\\n",
       "  & <chr> & <dbl> & <dbl>\\\\\n",
       "\\hline\n",
       "\t1 & \"E\" Street Station                            & 44.05092 & -123.0221\\\\\n",
       "\t2 & \"F\" Street Station                            & 44.05118 & -123.0232\\\\\n",
       "\t3 & \"Q\" Street Station inbound                    & 44.06277 & -123.0262\\\\\n",
       "\t4 & \"Q\" Street Station outbound                   & 44.06332 & -123.0262\\\\\n",
       "\t5 & (\\textasciicircum{}) N/S of Hwy 126 (MP 23.8) W of Leaburg Dam & 44.13587 & -122.6134\\\\\n",
       "\t6 & (\\textasciicircum{}) N/S of Lost Crk (Dexter)                  & 43.91483 & -122.8129\\\\\n",
       "\\end{tabular}\n"
      ],
      "text/markdown": [
       "\n",
       "A data.frame: 6 × 3\n",
       "\n",
       "| <!--/--> | stop_name &lt;chr&gt; | latitude &lt;dbl&gt; | longitude &lt;dbl&gt; |\n",
       "|---|---|---|---|\n",
       "| 1 | \"E\" Street Station                            | 44.05092 | -123.0221 |\n",
       "| 2 | \"F\" Street Station                            | 44.05118 | -123.0232 |\n",
       "| 3 | \"Q\" Street Station inbound                    | 44.06277 | -123.0262 |\n",
       "| 4 | \"Q\" Street Station outbound                   | 44.06332 | -123.0262 |\n",
       "| 5 | (^) N/S of Hwy 126 (MP 23.8) W of Leaburg Dam | 44.13587 | -122.6134 |\n",
       "| 6 | (^) N/S of Lost Crk (Dexter)                  | 43.91483 | -122.8129 |\n",
       "\n"
      ],
      "text/plain": [
       "  stop_name                                     latitude longitude\n",
       "1 \"E\" Street Station                            44.05092 -123.0221\n",
       "2 \"F\" Street Station                            44.05118 -123.0232\n",
       "3 \"Q\" Street Station inbound                    44.06277 -123.0262\n",
       "4 \"Q\" Street Station outbound                   44.06332 -123.0262\n",
       "5 (^) N/S of Hwy 126 (MP 23.8) W of Leaburg Dam 44.13587 -122.6134\n",
       "6 (^) N/S of Lost Crk (Dexter)                  43.91483 -122.8129"
      ]
     },
     "metadata": {},
     "output_type": "display_data"
    }
   ],
   "source": [
    "head(locdata)"
   ]
  },
  {
   "cell_type": "code",
   "execution_count": 97,
   "id": "0f8c0632",
   "metadata": {},
   "outputs": [
    {
     "data": {
      "text/html": [
       "<table class=\"dataframe\">\n",
       "<caption>A data.frame: 6 × 3</caption>\n",
       "<thead>\n",
       "\t<tr><th></th><th scope=col>stop_name</th><th scope=col>latitude</th><th scope=col>longitude</th></tr>\n",
       "\t<tr><th></th><th scope=col>&lt;chr&gt;</th><th scope=col>&lt;dbl&gt;</th><th scope=col>&lt;dbl&gt;</th></tr>\n",
       "</thead>\n",
       "<tbody>\n",
       "\t<tr><th scope=row>1</th><td>\"E\" Street Station                           </td><td>44.05092</td><td>-123.0221</td></tr>\n",
       "\t<tr><th scope=row>2</th><td>\"F\" Street Station                           </td><td>44.05118</td><td>-123.0232</td></tr>\n",
       "\t<tr><th scope=row>3</th><td>\"Q\" Street Station inbound                   </td><td>44.06277</td><td>-123.0262</td></tr>\n",
       "\t<tr><th scope=row>4</th><td>\"Q\" Street Station outbound                  </td><td>44.06332</td><td>-123.0262</td></tr>\n",
       "\t<tr><th scope=row>5</th><td>(^) N/S of Hwy 126 (MP 23.8) W of Leaburg Dam</td><td>44.13587</td><td>-122.6134</td></tr>\n",
       "\t<tr><th scope=row>6</th><td>(^) N/S of Lost Crk (Dexter)                 </td><td>43.91483</td><td>-122.8129</td></tr>\n",
       "</tbody>\n",
       "</table>\n"
      ],
      "text/latex": [
       "A data.frame: 6 × 3\n",
       "\\begin{tabular}{r|lll}\n",
       "  & stop\\_name & latitude & longitude\\\\\n",
       "  & <chr> & <dbl> & <dbl>\\\\\n",
       "\\hline\n",
       "\t1 & \"E\" Street Station                            & 44.05092 & -123.0221\\\\\n",
       "\t2 & \"F\" Street Station                            & 44.05118 & -123.0232\\\\\n",
       "\t3 & \"Q\" Street Station inbound                    & 44.06277 & -123.0262\\\\\n",
       "\t4 & \"Q\" Street Station outbound                   & 44.06332 & -123.0262\\\\\n",
       "\t5 & (\\textasciicircum{}) N/S of Hwy 126 (MP 23.8) W of Leaburg Dam & 44.13587 & -122.6134\\\\\n",
       "\t6 & (\\textasciicircum{}) N/S of Lost Crk (Dexter)                  & 43.91483 & -122.8129\\\\\n",
       "\\end{tabular}\n"
      ],
      "text/markdown": [
       "\n",
       "A data.frame: 6 × 3\n",
       "\n",
       "| <!--/--> | stop_name &lt;chr&gt; | latitude &lt;dbl&gt; | longitude &lt;dbl&gt; |\n",
       "|---|---|---|---|\n",
       "| 1 | \"E\" Street Station                            | 44.05092 | -123.0221 |\n",
       "| 2 | \"F\" Street Station                            | 44.05118 | -123.0232 |\n",
       "| 3 | \"Q\" Street Station inbound                    | 44.06277 | -123.0262 |\n",
       "| 4 | \"Q\" Street Station outbound                   | 44.06332 | -123.0262 |\n",
       "| 5 | (^) N/S of Hwy 126 (MP 23.8) W of Leaburg Dam | 44.13587 | -122.6134 |\n",
       "| 6 | (^) N/S of Lost Crk (Dexter)                  | 43.91483 | -122.8129 |\n",
       "\n"
      ],
      "text/plain": [
       "  stop_name                                     latitude longitude\n",
       "1 \"E\" Street Station                            44.05092 -123.0221\n",
       "2 \"F\" Street Station                            44.05118 -123.0232\n",
       "3 \"Q\" Street Station inbound                    44.06277 -123.0262\n",
       "4 \"Q\" Street Station outbound                   44.06332 -123.0262\n",
       "5 (^) N/S of Hwy 126 (MP 23.8) W of Leaburg Dam 44.13587 -122.6134\n",
       "6 (^) N/S of Lost Crk (Dexter)                  43.91483 -122.8129"
      ]
     },
     "metadata": {},
     "output_type": "display_data"
    }
   ],
   "source": [
    "head(locdata)"
   ]
  },
  {
   "cell_type": "code",
   "execution_count": 98,
   "id": "1c6882dd",
   "metadata": {},
   "outputs": [],
   "source": [
    "names(locdata) <- c('Location', 'Latitude', 'Longitude')"
   ]
  },
  {
   "cell_type": "code",
   "execution_count": 99,
   "id": "f7838b6c",
   "metadata": {},
   "outputs": [],
   "source": [
    "outdata <- merge(outdata, locdata, by = 'Location')"
   ]
  },
  {
   "cell_type": "code",
   "execution_count": 100,
   "id": "43105f70",
   "metadata": {},
   "outputs": [
    {
     "data": {
      "text/html": [
       "<style>\n",
       ".list-inline {list-style: none; margin:0; padding: 0}\n",
       ".list-inline>li {display: inline-block}\n",
       ".list-inline>li:not(:last-child)::after {content: \"\\00b7\"; padding: 0 .5ex}\n",
       "</style>\n",
       "<ol class=list-inline><li>9536</li><li>5</li></ol>\n"
      ],
      "text/latex": [
       "\\begin{enumerate*}\n",
       "\\item 9536\n",
       "\\item 5\n",
       "\\end{enumerate*}\n"
      ],
      "text/markdown": [
       "1. 9536\n",
       "2. 5\n",
       "\n",
       "\n"
      ],
      "text/plain": [
       "[1] 9536    5"
      ]
     },
     "metadata": {},
     "output_type": "display_data"
    }
   ],
   "source": [
    "dim(outdata)"
   ]
  },
  {
   "cell_type": "code",
   "execution_count": 101,
   "id": "fc525544",
   "metadata": {},
   "outputs": [],
   "source": [
    "outdata <- outdata[rev(order(outdata$Counts)),]"
   ]
  },
  {
   "cell_type": "code",
   "execution_count": 102,
   "id": "ec7de18d",
   "metadata": {},
   "outputs": [],
   "source": [
    "sdata <- outdata[!grepl(paste(c(\"Springfield Station, Bay\", \"Eugene Station, Bay\"),collapse = \"|\"), outdata$Location),]"
   ]
  },
  {
   "cell_type": "code",
   "execution_count": 124,
   "id": "d6fb2034",
   "metadata": {},
   "outputs": [
    {
     "data": {
      "text/html": [
       "<table class=\"dataframe\">\n",
       "<caption>A data.frame: 6 × 6</caption>\n",
       "<thead>\n",
       "\t<tr><th></th><th scope=col>Location</th><th scope=col>Year</th><th scope=col>Counts</th><th scope=col>Latitude</th><th scope=col>Longitude</th><th scope=col>Growth</th></tr>\n",
       "\t<tr><th></th><th scope=col>&lt;chr&gt;</th><th scope=col>&lt;dbl&gt;</th><th scope=col>&lt;dbl&gt;</th><th scope=col>&lt;dbl&gt;</th><th scope=col>&lt;dbl&gt;</th><th scope=col>&lt;dbl&gt;</th></tr>\n",
       "</thead>\n",
       "<tbody>\n",
       "\t<tr><th scope=row>7453</th><td>Springfield Station, Bay E</td><td>2013</td><td>9079</td><td>44.04501</td><td>-123.0215</td><td>         NA</td></tr>\n",
       "\t<tr><th scope=row>7454</th><td>Springfield Station, Bay E</td><td>2014</td><td>8823</td><td>44.04501</td><td>-123.0215</td><td>-0.02819694</td></tr>\n",
       "\t<tr><th scope=row>7455</th><td>Springfield Station, Bay E</td><td>2015</td><td>7840</td><td>44.04501</td><td>-123.0215</td><td>-0.11141335</td></tr>\n",
       "\t<tr><th scope=row>2317</th><td>Eugene Station, Bay E     </td><td>2013</td><td>7032</td><td>44.04807</td><td>-123.0938</td><td>         NA</td></tr>\n",
       "\t<tr><th scope=row>2318</th><td>Eugene Station, Bay E     </td><td>2014</td><td>6860</td><td>44.04807</td><td>-123.0938</td><td>-0.02445961</td></tr>\n",
       "\t<tr><th scope=row>7458</th><td>Springfield Station, Bay E</td><td>2018</td><td>6380</td><td>44.04501</td><td>-123.0215</td><td> 0.03186156</td></tr>\n",
       "</tbody>\n",
       "</table>\n"
      ],
      "text/latex": [
       "A data.frame: 6 × 6\n",
       "\\begin{tabular}{r|llllll}\n",
       "  & Location & Year & Counts & Latitude & Longitude & Growth\\\\\n",
       "  & <chr> & <dbl> & <dbl> & <dbl> & <dbl> & <dbl>\\\\\n",
       "\\hline\n",
       "\t7453 & Springfield Station, Bay E & 2013 & 9079 & 44.04501 & -123.0215 &          NA\\\\\n",
       "\t7454 & Springfield Station, Bay E & 2014 & 8823 & 44.04501 & -123.0215 & -0.02819694\\\\\n",
       "\t7455 & Springfield Station, Bay E & 2015 & 7840 & 44.04501 & -123.0215 & -0.11141335\\\\\n",
       "\t2317 & Eugene Station, Bay E      & 2013 & 7032 & 44.04807 & -123.0938 &          NA\\\\\n",
       "\t2318 & Eugene Station, Bay E      & 2014 & 6860 & 44.04807 & -123.0938 & -0.02445961\\\\\n",
       "\t7458 & Springfield Station, Bay E & 2018 & 6380 & 44.04501 & -123.0215 &  0.03186156\\\\\n",
       "\\end{tabular}\n"
      ],
      "text/markdown": [
       "\n",
       "A data.frame: 6 × 6\n",
       "\n",
       "| <!--/--> | Location &lt;chr&gt; | Year &lt;dbl&gt; | Counts &lt;dbl&gt; | Latitude &lt;dbl&gt; | Longitude &lt;dbl&gt; | Growth &lt;dbl&gt; |\n",
       "|---|---|---|---|---|---|---|\n",
       "| 7453 | Springfield Station, Bay E | 2013 | 9079 | 44.04501 | -123.0215 |          NA |\n",
       "| 7454 | Springfield Station, Bay E | 2014 | 8823 | 44.04501 | -123.0215 | -0.02819694 |\n",
       "| 7455 | Springfield Station, Bay E | 2015 | 7840 | 44.04501 | -123.0215 | -0.11141335 |\n",
       "| 2317 | Eugene Station, Bay E      | 2013 | 7032 | 44.04807 | -123.0938 |          NA |\n",
       "| 2318 | Eugene Station, Bay E      | 2014 | 6860 | 44.04807 | -123.0938 | -0.02445961 |\n",
       "| 7458 | Springfield Station, Bay E | 2018 | 6380 | 44.04501 | -123.0215 |  0.03186156 |\n",
       "\n"
      ],
      "text/plain": [
       "     Location                   Year Counts Latitude Longitude Growth     \n",
       "7453 Springfield Station, Bay E 2013 9079   44.04501 -123.0215          NA\n",
       "7454 Springfield Station, Bay E 2014 8823   44.04501 -123.0215 -0.02819694\n",
       "7455 Springfield Station, Bay E 2015 7840   44.04501 -123.0215 -0.11141335\n",
       "2317 Eugene Station, Bay E      2013 7032   44.04807 -123.0938          NA\n",
       "2318 Eugene Station, Bay E      2014 6860   44.04807 -123.0938 -0.02445961\n",
       "7458 Springfield Station, Bay E 2018 6380   44.04501 -123.0215  0.03186156"
      ]
     },
     "metadata": {},
     "output_type": "display_data"
    }
   ],
   "source": [
    "head(outdata)"
   ]
  },
  {
   "cell_type": "code",
   "execution_count": 104,
   "id": "f99e69c8",
   "metadata": {},
   "outputs": [
    {
     "data": {
      "image/png": "[encoded data removed]",
      "text/plain": [
       "plot without title"
      ]
     },
     "metadata": {
      "image/png": {
       "height": 480,
       "width": 480
      }
     },
     "output_type": "display_data"
    }
   ],
   "source": [
    "options(repr.plot.width=8, repr.plot.height=8)\n",
    "boxplot(Counts~Year,data=sdata)"
   ]
  },
  {
   "cell_type": "code",
   "execution_count": 105,
   "id": "bd5edea3",
   "metadata": {},
   "outputs": [],
   "source": [
    "#outdata$Growth <- with(outdata[,c('Location', 'Year', 'Counts')], ave(Counts, Location,\n",
    "#                     FUN=function(x) c(NA, diff(x)/x[-length(x)]) ))"
   ]
  },
  {
   "cell_type": "code",
   "execution_count": 107,
   "id": "dfca1371",
   "metadata": {
    "scrolled": true
   },
   "outputs": [
    {
     "data": {
      "text/html": [
       "<style>\n",
       ".list-inline {list-style: none; margin:0; padding: 0}\n",
       ".list-inline>li {display: inline-block}\n",
       ".list-inline>li:not(:last-child)::after {content: \"\\00b7\"; padding: 0 .5ex}\n",
       "</style>\n",
       "<ol class=list-inline><li>2013</li><li>2014</li><li>2015</li><li>2018</li><li>2017</li><li>2019</li><li>2016</li><li>2020</li><li>2021</li></ol>\n"
      ],
      "text/latex": [
       "\\begin{enumerate*}\n",
       "\\item 2013\n",
       "\\item 2014\n",
       "\\item 2015\n",
       "\\item 2018\n",
       "\\item 2017\n",
       "\\item 2019\n",
       "\\item 2016\n",
       "\\item 2020\n",
       "\\item 2021\n",
       "\\end{enumerate*}\n"
      ],
      "text/markdown": [
       "1. 2013\n",
       "2. 2014\n",
       "3. 2015\n",
       "4. 2018\n",
       "5. 2017\n",
       "6. 2019\n",
       "7. 2016\n",
       "8. 2020\n",
       "9. 2021\n",
       "\n",
       "\n"
      ],
      "text/plain": [
       "[1] 2013 2014 2015 2018 2017 2019 2016 2020 2021"
      ]
     },
     "metadata": {},
     "output_type": "display_data"
    }
   ],
   "source": [
    "unique(outdata$Year)"
   ]
  },
  {
   "cell_type": "code",
   "execution_count": 111,
   "id": "226a90af",
   "metadata": {},
   "outputs": [
    {
     "data": {
      "text/html": [
       "2013"
      ],
      "text/latex": [
       "2013"
      ],
      "text/markdown": [
       "2013"
      ],
      "text/plain": [
       "[1] 2013"
      ]
     },
     "metadata": {},
     "output_type": "display_data"
    }
   ],
   "source": [
    "min(sort(unique(outdata$Year)))"
   ]
  },
  {
   "cell_type": "code",
   "execution_count": 112,
   "id": "acb72ff1",
   "metadata": {},
   "outputs": [
    {
     "data": {
      "text/html": [
       "<style>\n",
       ".list-inline {list-style: none; margin:0; padding: 0}\n",
       ".list-inline>li {display: inline-block}\n",
       ".list-inline>li:not(:last-child)::after {content: \"\\00b7\"; padding: 0 .5ex}\n",
       "</style>\n",
       "<ol class=list-inline><li>'Location'</li><li>'Year'</li><li>'Counts'</li><li>'Latitude'</li><li>'Longitude'</li><li>'Growth'</li></ol>\n"
      ],
      "text/latex": [
       "\\begin{enumerate*}\n",
       "\\item 'Location'\n",
       "\\item 'Year'\n",
       "\\item 'Counts'\n",
       "\\item 'Latitude'\n",
       "\\item 'Longitude'\n",
       "\\item 'Growth'\n",
       "\\end{enumerate*}\n"
      ],
      "text/markdown": [
       "1. 'Location'\n",
       "2. 'Year'\n",
       "3. 'Counts'\n",
       "4. 'Latitude'\n",
       "5. 'Longitude'\n",
       "6. 'Growth'\n",
       "\n",
       "\n"
      ],
      "text/plain": [
       "[1] \"Location\"  \"Year\"      \"Counts\"    \"Latitude\"  \"Longitude\" \"Growth\"   "
      ]
     },
     "metadata": {},
     "output_type": "display_data"
    }
   ],
   "source": [
    "names(outdata)"
   ]
  },
  {
   "cell_type": "code",
   "execution_count": 121,
   "id": "b6fc2746",
   "metadata": {},
   "outputs": [],
   "source": [
    "for(loc in unique(outdata$Location)){\n",
    "    years <- sort(unique(outdata[outdata$Location == loc,\"Year\"]))\n",
    "    for(yr in years){\n",
    "        if(yr==min(years)){\n",
    "            outdata[outdata$Location==loc & outdata$Year==yr,\"Growth\"] <- NA\n",
    "        }else{\n",
    "            i <- which(years==yr)\n",
    "            x1 <- outdata[outdata$Location==loc & outdata$Year==yr,\"Counts\"]\n",
    "            x2 <- outdata[outdata$Location==loc & outdata$Year==years[i-1],\"Counts\"]\n",
    "            n <- yr - years[i-1]\n",
    "            outdata[outdata$Location==loc & outdata$Year==yr,\"Growth\"] <- (x1-x2)/(n*x2)\n",
    "        }\n",
    "    }\n",
    "}"
   ]
  },
  {
   "cell_type": "code",
   "execution_count": 125,
   "id": "b12f3591",
   "metadata": {},
   "outputs": [],
   "source": [
    "write.csv(outdata, paste0('T:/Tableau/tableauBikesOnBuses/Datasources/AggregatedBikesOnBuses.csv'), row.names = FALSE)"
   ]
  },
  {
   "cell_type": "code",
   "execution_count": 123,
   "id": "a9bdf1f4",
   "metadata": {},
   "outputs": [
    {
     "data": {
      "image/png": "[encoded data removed]",
      "text/plain": [
       "plot without title"
      ]
     },
     "metadata": {
      "image/png": {
       "height": 480,
       "width": 480
      }
     },
     "output_type": "display_data"
    }
   ],
   "source": [
    "boxplot(Growth~Year,data=outdata)\n",
    "abline(h=0, col='red', lwd=2, lty=2)"
   ]
  },
  {
   "cell_type": "code",
   "execution_count": 63,
   "id": "40fbc468",
   "metadata": {},
   "outputs": [
    {
     "data": {
      "text/html": [
       "<table class=\"dataframe\">\n",
       "<caption>A data.frame: 6 × 16</caption>\n",
       "<thead>\n",
       "\t<tr><th></th><th scope=col>stop</th><th scope=col>srv</th><th scope=col>date</th><th scope=col>block</th><th scope=col>trip_end</th><th scope=col>time</th><th scope=col>route</th><th scope=col>dir</th><th scope=col>stop_name</th><th scope=col>bus</th><th scope=col>odometer</th><th scope=col>desc</th><th scope=col>qty</th><th scope=col>MonthYear</th><th scope=col>longitude</th><th scope=col>latitude</th></tr>\n",
       "\t<tr><th></th><th scope=col>&lt;chr&gt;</th><th scope=col>&lt;chr&gt;</th><th scope=col>&lt;dttm&gt;</th><th scope=col>&lt;dbl&gt;</th><th scope=col>&lt;dttm&gt;</th><th scope=col>&lt;dttm&gt;</th><th scope=col>&lt;chr&gt;</th><th scope=col>&lt;chr&gt;</th><th scope=col>&lt;chr&gt;</th><th scope=col>&lt;chr&gt;</th><th scope=col>&lt;dbl&gt;</th><th scope=col>&lt;chr&gt;</th><th scope=col>&lt;dbl&gt;</th><th scope=col>&lt;chr&gt;</th><th scope=col>&lt;dbl&gt;</th><th scope=col>&lt;dbl&gt;</th></tr>\n",
       "</thead>\n",
       "<tbody>\n",
       "\t<tr><th scope=row>1</th><td>00001</td><td>wkd</td><td>2013-01-18</td><td>67</td><td>1899-12-31 18:21:00</td><td>1899-12-31 18:10:00</td><td>11</td><td>O</td><td>E/S of 58th N of Main</td><td>1002</td><td> 98.11</td><td>bike on rack</td><td>1</td><td>January 2013</td><td>-122.9267</td><td>44.04634</td></tr>\n",
       "\t<tr><th scope=row>2</th><td>00001</td><td>wkd</td><td>2013-01-10</td><td> 2</td><td>1899-12-31 09:56:00</td><td>1899-12-31 09:44:00</td><td>11</td><td>O</td><td>E/S of 58th N of Main</td><td>1114</td><td> 71.08</td><td>bike on rack</td><td>1</td><td>January 2013</td><td>-122.9267</td><td>44.04634</td></tr>\n",
       "\t<tr><th scope=row>3</th><td>00001</td><td>wkd</td><td>2013-01-10</td><td>60</td><td>1899-12-31 16:54:00</td><td>1899-12-31 16:45:00</td><td>11</td><td>O</td><td>E/S of 58th N of Main</td><td>7102</td><td>119.29</td><td>bike on rack</td><td>1</td><td>January 2013</td><td>-122.9267</td><td>44.04634</td></tr>\n",
       "\t<tr><th scope=row>4</th><td>00001</td><td>wkd</td><td>2013-01-29</td><td>60</td><td>1899-12-31 17:52:00</td><td>1899-12-31 17:39:00</td><td>11</td><td>O</td><td>E/S of 58th N of Main</td><td>7102</td><td>132.76</td><td>bike on rack</td><td>1</td><td>January 2013</td><td>-122.9267</td><td>44.04634</td></tr>\n",
       "\t<tr><th scope=row>5</th><td>00001</td><td>wkd</td><td>2013-01-09</td><td>25</td><td>1899-12-31 15:35:00</td><td>1899-12-31 15:20:00</td><td>11</td><td>O</td><td>E/S of 58th N of Main</td><td>1004</td><td>126.65</td><td>bike on rack</td><td>1</td><td>January 2013</td><td>-122.9267</td><td>44.04634</td></tr>\n",
       "\t<tr><th scope=row>6</th><td>00002</td><td>wkd</td><td>2013-01-30</td><td>48</td><td>1899-12-31 08:27:00</td><td>1899-12-31 08:13:00</td><td>11</td><td>O</td><td>E/S of 58th S of D   </td><td>6218</td><td>  5.11</td><td>bike on rack</td><td>1</td><td>January 2013</td><td>-122.9262</td><td>44.04946</td></tr>\n",
       "</tbody>\n",
       "</table>\n"
      ],
      "text/latex": [
       "A data.frame: 6 × 16\n",
       "\\begin{tabular}{r|llllllllllllllll}\n",
       "  & stop & srv & date & block & trip\\_end & time & route & dir & stop\\_name & bus & odometer & desc & qty & MonthYear & longitude & latitude\\\\\n",
       "  & <chr> & <chr> & <dttm> & <dbl> & <dttm> & <dttm> & <chr> & <chr> & <chr> & <chr> & <dbl> & <chr> & <dbl> & <chr> & <dbl> & <dbl>\\\\\n",
       "\\hline\n",
       "\t1 & 00001 & wkd & 2013-01-18 & 67 & 1899-12-31 18:21:00 & 1899-12-31 18:10:00 & 11 & O & E/S of 58th N of Main & 1002 &  98.11 & bike on rack & 1 & January 2013 & -122.9267 & 44.04634\\\\\n",
       "\t2 & 00001 & wkd & 2013-01-10 &  2 & 1899-12-31 09:56:00 & 1899-12-31 09:44:00 & 11 & O & E/S of 58th N of Main & 1114 &  71.08 & bike on rack & 1 & January 2013 & -122.9267 & 44.04634\\\\\n",
       "\t3 & 00001 & wkd & 2013-01-10 & 60 & 1899-12-31 16:54:00 & 1899-12-31 16:45:00 & 11 & O & E/S of 58th N of Main & 7102 & 119.29 & bike on rack & 1 & January 2013 & -122.9267 & 44.04634\\\\\n",
       "\t4 & 00001 & wkd & 2013-01-29 & 60 & 1899-12-31 17:52:00 & 1899-12-31 17:39:00 & 11 & O & E/S of 58th N of Main & 7102 & 132.76 & bike on rack & 1 & January 2013 & -122.9267 & 44.04634\\\\\n",
       "\t5 & 00001 & wkd & 2013-01-09 & 25 & 1899-12-31 15:35:00 & 1899-12-31 15:20:00 & 11 & O & E/S of 58th N of Main & 1004 & 126.65 & bike on rack & 1 & January 2013 & -122.9267 & 44.04634\\\\\n",
       "\t6 & 00002 & wkd & 2013-01-30 & 48 & 1899-12-31 08:27:00 & 1899-12-31 08:13:00 & 11 & O & E/S of 58th S of D    & 6218 &   5.11 & bike on rack & 1 & January 2013 & -122.9262 & 44.04946\\\\\n",
       "\\end{tabular}\n"
      ],
      "text/markdown": [
       "\n",
       "A data.frame: 6 × 16\n",
       "\n",
       "| <!--/--> | stop &lt;chr&gt; | srv &lt;chr&gt; | date &lt;dttm&gt; | block &lt;dbl&gt; | trip_end &lt;dttm&gt; | time &lt;dttm&gt; | route &lt;chr&gt; | dir &lt;chr&gt; | stop_name &lt;chr&gt; | bus &lt;chr&gt; | odometer &lt;dbl&gt; | desc &lt;chr&gt; | qty &lt;dbl&gt; | MonthYear &lt;chr&gt; | longitude &lt;dbl&gt; | latitude &lt;dbl&gt; |\n",
       "|---|---|---|---|---|---|---|---|---|---|---|---|---|---|---|---|---|\n",
       "| 1 | 00001 | wkd | 2013-01-18 | 67 | 1899-12-31 18:21:00 | 1899-12-31 18:10:00 | 11 | O | E/S of 58th N of Main | 1002 |  98.11 | bike on rack | 1 | January 2013 | -122.9267 | 44.04634 |\n",
       "| 2 | 00001 | wkd | 2013-01-10 |  2 | 1899-12-31 09:56:00 | 1899-12-31 09:44:00 | 11 | O | E/S of 58th N of Main | 1114 |  71.08 | bike on rack | 1 | January 2013 | -122.9267 | 44.04634 |\n",
       "| 3 | 00001 | wkd | 2013-01-10 | 60 | 1899-12-31 16:54:00 | 1899-12-31 16:45:00 | 11 | O | E/S of 58th N of Main | 7102 | 119.29 | bike on rack | 1 | January 2013 | -122.9267 | 44.04634 |\n",
       "| 4 | 00001 | wkd | 2013-01-29 | 60 | 1899-12-31 17:52:00 | 1899-12-31 17:39:00 | 11 | O | E/S of 58th N of Main | 7102 | 132.76 | bike on rack | 1 | January 2013 | -122.9267 | 44.04634 |\n",
       "| 5 | 00001 | wkd | 2013-01-09 | 25 | 1899-12-31 15:35:00 | 1899-12-31 15:20:00 | 11 | O | E/S of 58th N of Main | 1004 | 126.65 | bike on rack | 1 | January 2013 | -122.9267 | 44.04634 |\n",
       "| 6 | 00002 | wkd | 2013-01-30 | 48 | 1899-12-31 08:27:00 | 1899-12-31 08:13:00 | 11 | O | E/S of 58th S of D    | 6218 |   5.11 | bike on rack | 1 | January 2013 | -122.9262 | 44.04946 |\n",
       "\n"
      ],
      "text/plain": [
       "  stop  srv date       block trip_end            time                route dir\n",
       "1 00001 wkd 2013-01-18 67    1899-12-31 18:21:00 1899-12-31 18:10:00 11    O  \n",
       "2 00001 wkd 2013-01-10  2    1899-12-31 09:56:00 1899-12-31 09:44:00 11    O  \n",
       "3 00001 wkd 2013-01-10 60    1899-12-31 16:54:00 1899-12-31 16:45:00 11    O  \n",
       "4 00001 wkd 2013-01-29 60    1899-12-31 17:52:00 1899-12-31 17:39:00 11    O  \n",
       "5 00001 wkd 2013-01-09 25    1899-12-31 15:35:00 1899-12-31 15:20:00 11    O  \n",
       "6 00002 wkd 2013-01-30 48    1899-12-31 08:27:00 1899-12-31 08:13:00 11    O  \n",
       "  stop_name             bus  odometer desc         qty MonthYear    longitude\n",
       "1 E/S of 58th N of Main 1002  98.11   bike on rack 1   January 2013 -122.9267\n",
       "2 E/S of 58th N of Main 1114  71.08   bike on rack 1   January 2013 -122.9267\n",
       "3 E/S of 58th N of Main 7102 119.29   bike on rack 1   January 2013 -122.9267\n",
       "4 E/S of 58th N of Main 7102 132.76   bike on rack 1   January 2013 -122.9267\n",
       "5 E/S of 58th N of Main 1004 126.65   bike on rack 1   January 2013 -122.9267\n",
       "6 E/S of 58th S of D    6218   5.11   bike on rack 1   January 2013 -122.9262\n",
       "  latitude\n",
       "1 44.04634\n",
       "2 44.04634\n",
       "3 44.04634\n",
       "4 44.04634\n",
       "5 44.04634\n",
       "6 44.04946"
      ]
     },
     "metadata": {},
     "output_type": "display_data"
    }
   ],
   "source": [
    "head(data)"
   ]
  },
  {
   "cell_type": "code",
   "execution_count": 64,
   "id": "28853d71",
   "metadata": {},
   "outputs": [],
   "source": [
    "df <- transform(aggregate(x=list(Counts = data$qty), by=list(Year = year(data$date)), FUN=sum), Growth=ave(Counts, \n",
    "                         FUN=function(x) c(NA, diff(x)/x[-length(x)])))"
   ]
  },
  {
   "cell_type": "code",
   "execution_count": 65,
   "id": "a168c82d",
   "metadata": {},
   "outputs": [
    {
     "data": {
      "text/html": [
       "<table class=\"dataframe\">\n",
       "<caption>A data.frame: 9 × 3</caption>\n",
       "<thead>\n",
       "\t<tr><th scope=col>Year</th><th scope=col>Counts</th><th scope=col>Growth</th></tr>\n",
       "\t<tr><th scope=col>&lt;dbl&gt;</th><th scope=col>&lt;dbl&gt;</th><th scope=col>&lt;dbl&gt;</th></tr>\n",
       "</thead>\n",
       "<tbody>\n",
       "\t<tr><td>2013</td><td>173635</td><td>          NA</td></tr>\n",
       "\t<tr><td>2014</td><td>183700</td><td> 0.057966424</td></tr>\n",
       "\t<tr><td>2015</td><td>163960</td><td>-0.107457812</td></tr>\n",
       "\t<tr><td>2016</td><td>114387</td><td>-0.302348134</td></tr>\n",
       "\t<tr><td>2017</td><td>138272</td><td> 0.208808693</td></tr>\n",
       "\t<tr><td>2018</td><td>136964</td><td>-0.009459616</td></tr>\n",
       "\t<tr><td>2019</td><td>120353</td><td>-0.121280044</td></tr>\n",
       "\t<tr><td>2020</td><td> 70859</td><td>-0.411240268</td></tr>\n",
       "\t<tr><td>2021</td><td> 49999</td><td>-0.294387445</td></tr>\n",
       "</tbody>\n",
       "</table>\n"
      ],
      "text/latex": [
       "A data.frame: 9 × 3\n",
       "\\begin{tabular}{lll}\n",
       " Year & Counts & Growth\\\\\n",
       " <dbl> & <dbl> & <dbl>\\\\\n",
       "\\hline\n",
       "\t 2013 & 173635 &           NA\\\\\n",
       "\t 2014 & 183700 &  0.057966424\\\\\n",
       "\t 2015 & 163960 & -0.107457812\\\\\n",
       "\t 2016 & 114387 & -0.302348134\\\\\n",
       "\t 2017 & 138272 &  0.208808693\\\\\n",
       "\t 2018 & 136964 & -0.009459616\\\\\n",
       "\t 2019 & 120353 & -0.121280044\\\\\n",
       "\t 2020 &  70859 & -0.411240268\\\\\n",
       "\t 2021 &  49999 & -0.294387445\\\\\n",
       "\\end{tabular}\n"
      ],
      "text/markdown": [
       "\n",
       "A data.frame: 9 × 3\n",
       "\n",
       "| Year &lt;dbl&gt; | Counts &lt;dbl&gt; | Growth &lt;dbl&gt; |\n",
       "|---|---|---|\n",
       "| 2013 | 173635 |           NA |\n",
       "| 2014 | 183700 |  0.057966424 |\n",
       "| 2015 | 163960 | -0.107457812 |\n",
       "| 2016 | 114387 | -0.302348134 |\n",
       "| 2017 | 138272 |  0.208808693 |\n",
       "| 2018 | 136964 | -0.009459616 |\n",
       "| 2019 | 120353 | -0.121280044 |\n",
       "| 2020 |  70859 | -0.411240268 |\n",
       "| 2021 |  49999 | -0.294387445 |\n",
       "\n"
      ],
      "text/plain": [
       "  Year Counts Growth      \n",
       "1 2013 173635           NA\n",
       "2 2014 183700  0.057966424\n",
       "3 2015 163960 -0.107457812\n",
       "4 2016 114387 -0.302348134\n",
       "5 2017 138272  0.208808693\n",
       "6 2018 136964 -0.009459616\n",
       "7 2019 120353 -0.121280044\n",
       "8 2020  70859 -0.411240268\n",
       "9 2021  49999 -0.294387445"
      ]
     },
     "metadata": {},
     "output_type": "display_data"
    }
   ],
   "source": [
    "df"
   ]
  },
  {
   "cell_type": "code",
   "execution_count": null,
   "id": "3781b61a",
   "metadata": {},
   "outputs": [],
   "source": []
  }
 ],
 "metadata": {
  "kernelspec": {
   "display_name": "R",
   "language": "R",
   "name": "ir"
  },
  "language_info": {
   "codemirror_mode": "r",
   "file_extension": ".r",
   "mimetype": "text/x-r-source",
   "name": "R",
   "pygments_lexer": "r",
   "version": "4.0.3"
  }
 },
 "nbformat": 4,
 "nbformat_minor": 5
}
