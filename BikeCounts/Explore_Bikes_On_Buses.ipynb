{
 "cells": [
  {
   "cell_type": "code",
   "execution_count": 1,
   "id": "e7e78bbc",
   "metadata": {},
   "outputs": [],
   "source": [
    "options(warn = -1)"
   ]
  },
  {
   "cell_type": "code",
   "execution_count": 2,
   "id": "c69491c4",
   "metadata": {},
   "outputs": [
    {
     "name": "stderr",
     "output_type": "stream",
     "text": [
      "Loading required package: sp\n",
      "\n",
      "rgdal: version: 1.5-23, (SVN revision 1121)\n",
      "Geospatial Data Abstraction Library extensions to R successfully loaded\n",
      "Loaded GDAL runtime: GDAL 3.2.1, released 2020/12/29\n",
      "Path to GDAL shared files: C:/Users/clid1852/Documents/R/win-library/4.0/rgdal/gdal\n",
      "GDAL binary built with GEOS: TRUE \n",
      "Loaded PROJ runtime: Rel. 7.2.1, January 1st, 2021, [PJ_VERSION: 721]\n",
      "Path to PROJ shared files: C:/Users/clid1852/Documents/R/win-library/4.0/rgdal/proj\n",
      "PROJ CDN enabled: FALSE\n",
      "Linking to sp version:1.4-5\n",
      "To mute warnings of possible GDAL/OSR exportToProj4() degradation,\n",
      "use options(\"rgdal_show_exportToProj4_warnings\"=\"none\") before loading rgdal.\n",
      "Overwritten PROJ_LIB was C:/Users/clid1852/Documents/R/win-library/4.0/rgdal/proj\n",
      "\n",
      "\n",
      "Attaching package: 'dplyr'\n",
      "\n",
      "\n",
      "The following objects are masked from 'package:stats':\n",
      "\n",
      "    filter, lag\n",
      "\n",
      "\n",
      "The following objects are masked from 'package:base':\n",
      "\n",
      "    intersect, setdiff, setequal, union\n",
      "\n",
      "\n",
      "\n",
      "Attaching package: 'lubridate'\n",
      "\n",
      "\n",
      "The following objects are masked from 'package:base':\n",
      "\n",
      "    date, intersect, setdiff, union\n",
      "\n",
      "\n"
     ]
    }
   ],
   "source": [
    "library(rgdal)\n",
    "library(readxl)\n",
    "library(dplyr)\n",
    "library(tools)\n",
    "library(lubridate)\n",
    "library(stringr)"
   ]
  },
  {
   "cell_type": "code",
   "execution_count": 3,
   "id": "c552774d",
   "metadata": {},
   "outputs": [],
   "source": [
    "source(\"functions.R\")"
   ]
  },
  {
   "cell_type": "code",
   "execution_count": 4,
   "id": "dad030fb",
   "metadata": {},
   "outputs": [],
   "source": [
    "path <- \"T:/Data/LTD Data/BikeOnBuses/Monthly/\""
   ]
  },
  {
   "cell_type": "code",
   "execution_count": 5,
   "id": "654d1b99",
   "metadata": {
    "scrolled": true
   },
   "outputs": [
    {
     "data": {
      "text/html": [
       "<style>\n",
       ".list-inline {list-style: none; margin:0; padding: 0}\n",
       ".list-inline>li {display: inline-block}\n",
       ".list-inline>li:not(:last-child)::after {content: \"\\00b7\"; padding: 0 .5ex}\n",
       "</style>\n",
       "<ol class=list-inline><li>'bike count_Jan13'</li><li>'bike count_Feb13'</li><li>'bike count_Mar13'</li><li>'bike count_May13'</li><li>'bike count_Jun13'</li><li>'bike count_Jul13'</li><li>'bike count_Aug13'</li><li>'bike count_Sept13'</li><li>'bike count_Nov13'</li><li>'bike count_Dec13'</li></ol>\n"
      ],
      "text/latex": [
       "\\begin{enumerate*}\n",
       "\\item 'bike count\\_Jan13'\n",
       "\\item 'bike count\\_Feb13'\n",
       "\\item 'bike count\\_Mar13'\n",
       "\\item 'bike count\\_May13'\n",
       "\\item 'bike count\\_Jun13'\n",
       "\\item 'bike count\\_Jul13'\n",
       "\\item 'bike count\\_Aug13'\n",
       "\\item 'bike count\\_Sept13'\n",
       "\\item 'bike count\\_Nov13'\n",
       "\\item 'bike count\\_Dec13'\n",
       "\\end{enumerate*}\n"
      ],
      "text/markdown": [
       "1. 'bike count_Jan13'\n",
       "2. 'bike count_Feb13'\n",
       "3. 'bike count_Mar13'\n",
       "4. 'bike count_May13'\n",
       "5. 'bike count_Jun13'\n",
       "6. 'bike count_Jul13'\n",
       "7. 'bike count_Aug13'\n",
       "8. 'bike count_Sept13'\n",
       "9. 'bike count_Nov13'\n",
       "10. 'bike count_Dec13'\n",
       "\n",
       "\n"
      ],
      "text/plain": [
       " [1] \"bike count_Jan13\"  \"bike count_Feb13\"  \"bike count_Mar13\" \n",
       " [4] \"bike count_May13\"  \"bike count_Jun13\"  \"bike count_Jul13\" \n",
       " [7] \"bike count_Aug13\"  \"bike count_Sept13\" \"bike count_Nov13\" \n",
       "[10] \"bike count_Dec13\" "
      ]
     },
     "metadata": {},
     "output_type": "display_data"
    }
   ],
   "source": [
    "excel_sheets(paste0(path,\"LTD Bike Count_2013.xlsx\"))"
   ]
  },
  {
   "cell_type": "code",
   "execution_count": 6,
   "id": "ea28562b",
   "metadata": {},
   "outputs": [],
   "source": [
    "files <- file_path_sans_ext(list.files(path))"
   ]
  },
  {
   "cell_type": "code",
   "execution_count": 7,
   "id": "97d6563c",
   "metadata": {},
   "outputs": [
    {
     "name": "stdout",
     "output_type": "stream",
     "text": [
      "[1] \"LTD Bike Count_2013\"\n",
      "[1] \"LTD Bike Count_2014\"\n",
      "[1] \"LTD Bike Count_2015\"\n",
      "[1] \"LTD Bike Count_2016\"\n",
      "[1] \"LTD Bike Count_2017\"\n",
      "[1] \"LTD Bike Count_2018\"\n",
      "[1] \"LTD Bike Count_2019\"\n",
      "[1] \"LTD Bike Count_2020\"\n",
      "[1] \"LTD Bike Count_2021\"\n"
     ]
    }
   ],
   "source": [
    "for(file in files){\n",
    "    if(file == \"LTD Bike Count_2013\"){\n",
    "        data <- readExcel(fileName=paste0(file, \".xlsx\"))\n",
    "    }else{\n",
    "        ndata <- readExcel(fileName=paste0(file, \".xlsx\"))\n",
    "        data <- rbind(data, ndata)\n",
    "    }\n",
    "    print(file)\n",
    "}"
   ]
  },
  {
   "cell_type": "code",
   "execution_count": 8,
   "id": "86e556a9",
   "metadata": {},
   "outputs": [
    {
     "data": {
      "text/html": [
       "<table class=\"dataframe\">\n",
       "<caption>A data.frame: 6 × 16</caption>\n",
       "<thead>\n",
       "\t<tr><th></th><th scope=col>stop</th><th scope=col>srv</th><th scope=col>date</th><th scope=col>block</th><th scope=col>trip_end</th><th scope=col>time</th><th scope=col>route</th><th scope=col>dir</th><th scope=col>stop_name</th><th scope=col>bus</th><th scope=col>odometer</th><th scope=col>desc</th><th scope=col>qty</th><th scope=col>MonthYear</th><th scope=col>longitude</th><th scope=col>latitude</th></tr>\n",
       "\t<tr><th></th><th scope=col>&lt;chr&gt;</th><th scope=col>&lt;chr&gt;</th><th scope=col>&lt;dttm&gt;</th><th scope=col>&lt;dbl&gt;</th><th scope=col>&lt;dttm&gt;</th><th scope=col>&lt;dttm&gt;</th><th scope=col>&lt;chr&gt;</th><th scope=col>&lt;chr&gt;</th><th scope=col>&lt;chr&gt;</th><th scope=col>&lt;chr&gt;</th><th scope=col>&lt;dbl&gt;</th><th scope=col>&lt;chr&gt;</th><th scope=col>&lt;dbl&gt;</th><th scope=col>&lt;chr&gt;</th><th scope=col>&lt;dbl&gt;</th><th scope=col>&lt;dbl&gt;</th></tr>\n",
       "</thead>\n",
       "<tbody>\n",
       "\t<tr><th scope=row>827717</th><td>09971</td><td>wkd</td><td>2021-11-09</td><td> 901</td><td>1899-12-31 22:48:00</td><td>1899-12-31 21:52:00</td><td>EmX</td><td>I</td><td>International Center Station Inbound  </td><td>20105</td><td>190.36</td><td>bike inside bus</td><td>1</td><td>November 2021</td><td>-123.0363</td><td>44.08847</td></tr>\n",
       "\t<tr><th scope=row>827718</th><td>09972</td><td>wkd</td><td>2021-11-05</td><td> 911</td><td>1899-12-31 16:57:00</td><td>1899-12-31 15:53:00</td><td>EmX</td><td>I</td><td>International Way Station West Inbound</td><td>15104</td><td>102.96</td><td>bike inside bus</td><td>1</td><td>November 2021</td><td>-123.0420</td><td>44.08849</td></tr>\n",
       "\t<tr><th scope=row>827719</th><td>09972</td><td>wkd</td><td>2021-11-11</td><td> 912</td><td>1899-12-31 15:58:00</td><td>1899-12-31 14:55:00</td><td>EmX</td><td>I</td><td>International Way Station West Inbound</td><td>9102 </td><td> 99.32</td><td>bike inside bus</td><td>1</td><td>November 2021</td><td>-123.0420</td><td>44.08849</td></tr>\n",
       "\t<tr><th scope=row>827720</th><td>09972</td><td>sun</td><td>2021-11-14</td><td>1901</td><td>1899-12-31 08:47:00</td><td>1899-12-31 07:50:00</td><td>EmX</td><td>I</td><td>International Way Station West Inbound</td><td>9104 </td><td>  5.08</td><td>bike on rack   </td><td>1</td><td>November 2021</td><td>-123.0420</td><td>44.08849</td></tr>\n",
       "\t<tr><th scope=row>827721</th><td>09973</td><td>wkd</td><td>2021-11-02</td><td> 901</td><td>1899-12-31 22:48:00</td><td>1899-12-31 21:52:00</td><td>EmX</td><td>I</td><td>Pavilion Station Inbound              </td><td>6102 </td><td>191.36</td><td>bike inside bus</td><td>1</td><td>November 2021</td><td>-123.0281</td><td>44.08289</td></tr>\n",
       "\t<tr><th scope=row>827722</th><td>09973</td><td>wkd</td><td>2021-11-05</td><td> 901</td><td>1899-12-31 22:48:00</td><td>1899-12-31 21:52:00</td><td>EmX</td><td>I</td><td>Pavilion Station Inbound              </td><td>9104 </td><td>191.34</td><td>bike on rack   </td><td>1</td><td>November 2021</td><td>-123.0281</td><td>44.08289</td></tr>\n",
       "</tbody>\n",
       "</table>\n"
      ],
      "text/latex": [
       "A data.frame: 6 × 16\n",
       "\\begin{tabular}{r|llllllllllllllll}\n",
       "  & stop & srv & date & block & trip\\_end & time & route & dir & stop\\_name & bus & odometer & desc & qty & MonthYear & longitude & latitude\\\\\n",
       "  & <chr> & <chr> & <dttm> & <dbl> & <dttm> & <dttm> & <chr> & <chr> & <chr> & <chr> & <dbl> & <chr> & <dbl> & <chr> & <dbl> & <dbl>\\\\\n",
       "\\hline\n",
       "\t827717 & 09971 & wkd & 2021-11-09 &  901 & 1899-12-31 22:48:00 & 1899-12-31 21:52:00 & EmX & I & International Center Station Inbound   & 20105 & 190.36 & bike inside bus & 1 & November 2021 & -123.0363 & 44.08847\\\\\n",
       "\t827718 & 09972 & wkd & 2021-11-05 &  911 & 1899-12-31 16:57:00 & 1899-12-31 15:53:00 & EmX & I & International Way Station West Inbound & 15104 & 102.96 & bike inside bus & 1 & November 2021 & -123.0420 & 44.08849\\\\\n",
       "\t827719 & 09972 & wkd & 2021-11-11 &  912 & 1899-12-31 15:58:00 & 1899-12-31 14:55:00 & EmX & I & International Way Station West Inbound & 9102  &  99.32 & bike inside bus & 1 & November 2021 & -123.0420 & 44.08849\\\\\n",
       "\t827720 & 09972 & sun & 2021-11-14 & 1901 & 1899-12-31 08:47:00 & 1899-12-31 07:50:00 & EmX & I & International Way Station West Inbound & 9104  &   5.08 & bike on rack    & 1 & November 2021 & -123.0420 & 44.08849\\\\\n",
       "\t827721 & 09973 & wkd & 2021-11-02 &  901 & 1899-12-31 22:48:00 & 1899-12-31 21:52:00 & EmX & I & Pavilion Station Inbound               & 6102  & 191.36 & bike inside bus & 1 & November 2021 & -123.0281 & 44.08289\\\\\n",
       "\t827722 & 09973 & wkd & 2021-11-05 &  901 & 1899-12-31 22:48:00 & 1899-12-31 21:52:00 & EmX & I & Pavilion Station Inbound               & 9104  & 191.34 & bike on rack    & 1 & November 2021 & -123.0281 & 44.08289\\\\\n",
       "\\end{tabular}\n"
      ],
      "text/markdown": [
       "\n",
       "A data.frame: 6 × 16\n",
       "\n",
       "| <!--/--> | stop &lt;chr&gt; | srv &lt;chr&gt; | date &lt;dttm&gt; | block &lt;dbl&gt; | trip_end &lt;dttm&gt; | time &lt;dttm&gt; | route &lt;chr&gt; | dir &lt;chr&gt; | stop_name &lt;chr&gt; | bus &lt;chr&gt; | odometer &lt;dbl&gt; | desc &lt;chr&gt; | qty &lt;dbl&gt; | MonthYear &lt;chr&gt; | longitude &lt;dbl&gt; | latitude &lt;dbl&gt; |\n",
       "|---|---|---|---|---|---|---|---|---|---|---|---|---|---|---|---|---|\n",
       "| 827717 | 09971 | wkd | 2021-11-09 |  901 | 1899-12-31 22:48:00 | 1899-12-31 21:52:00 | EmX | I | International Center Station Inbound   | 20105 | 190.36 | bike inside bus | 1 | November 2021 | -123.0363 | 44.08847 |\n",
       "| 827718 | 09972 | wkd | 2021-11-05 |  911 | 1899-12-31 16:57:00 | 1899-12-31 15:53:00 | EmX | I | International Way Station West Inbound | 15104 | 102.96 | bike inside bus | 1 | November 2021 | -123.0420 | 44.08849 |\n",
       "| 827719 | 09972 | wkd | 2021-11-11 |  912 | 1899-12-31 15:58:00 | 1899-12-31 14:55:00 | EmX | I | International Way Station West Inbound | 9102  |  99.32 | bike inside bus | 1 | November 2021 | -123.0420 | 44.08849 |\n",
       "| 827720 | 09972 | sun | 2021-11-14 | 1901 | 1899-12-31 08:47:00 | 1899-12-31 07:50:00 | EmX | I | International Way Station West Inbound | 9104  |   5.08 | bike on rack    | 1 | November 2021 | -123.0420 | 44.08849 |\n",
       "| 827721 | 09973 | wkd | 2021-11-02 |  901 | 1899-12-31 22:48:00 | 1899-12-31 21:52:00 | EmX | I | Pavilion Station Inbound               | 6102  | 191.36 | bike inside bus | 1 | November 2021 | -123.0281 | 44.08289 |\n",
       "| 827722 | 09973 | wkd | 2021-11-05 |  901 | 1899-12-31 22:48:00 | 1899-12-31 21:52:00 | EmX | I | Pavilion Station Inbound               | 9104  | 191.34 | bike on rack    | 1 | November 2021 | -123.0281 | 44.08289 |\n",
       "\n"
      ],
      "text/plain": [
       "       stop  srv date       block trip_end            time                route\n",
       "827717 09971 wkd 2021-11-09  901  1899-12-31 22:48:00 1899-12-31 21:52:00 EmX  \n",
       "827718 09972 wkd 2021-11-05  911  1899-12-31 16:57:00 1899-12-31 15:53:00 EmX  \n",
       "827719 09972 wkd 2021-11-11  912  1899-12-31 15:58:00 1899-12-31 14:55:00 EmX  \n",
       "827720 09972 sun 2021-11-14 1901  1899-12-31 08:47:00 1899-12-31 07:50:00 EmX  \n",
       "827721 09973 wkd 2021-11-02  901  1899-12-31 22:48:00 1899-12-31 21:52:00 EmX  \n",
       "827722 09973 wkd 2021-11-05  901  1899-12-31 22:48:00 1899-12-31 21:52:00 EmX  \n",
       "       dir stop_name                              bus   odometer\n",
       "827717 I   International Center Station Inbound   20105 190.36  \n",
       "827718 I   International Way Station West Inbound 15104 102.96  \n",
       "827719 I   International Way Station West Inbound 9102   99.32  \n",
       "827720 I   International Way Station West Inbound 9104    5.08  \n",
       "827721 I   Pavilion Station Inbound               6102  191.36  \n",
       "827722 I   Pavilion Station Inbound               9104  191.34  \n",
       "       desc            qty MonthYear     longitude latitude\n",
       "827717 bike inside bus 1   November 2021 -123.0363 44.08847\n",
       "827718 bike inside bus 1   November 2021 -123.0420 44.08849\n",
       "827719 bike inside bus 1   November 2021 -123.0420 44.08849\n",
       "827720 bike on rack    1   November 2021 -123.0420 44.08849\n",
       "827721 bike inside bus 1   November 2021 -123.0281 44.08289\n",
       "827722 bike on rack    1   November 2021 -123.0281 44.08289"
      ]
     },
     "metadata": {},
     "output_type": "display_data"
    }
   ],
   "source": [
    "tail(data)"
   ]
  },
  {
   "cell_type": "code",
   "execution_count": 1,
   "id": "458fea02",
   "metadata": {},
   "outputs": [],
   "source": [
    "# reorganize bikes on buses data due to missed April and October data\n",
    "#data <- read.csv('T:/Tableau/tableauBikesOnBuses/Datasources/MonthlyBikesOnBuses.csv')"
   ]
  },
  {
   "cell_type": "code",
   "execution_count": 9,
   "id": "6813bed5",
   "metadata": {},
   "outputs": [],
   "source": [
    "months <- c(\"April\", \"October\")\n",
    "years <- 2013:2019"
   ]
  },
  {
   "cell_type": "code",
   "execution_count": 11,
   "id": "5563b30f",
   "metadata": {
    "scrolled": true
   },
   "outputs": [
    {
     "name": "stdout",
     "output_type": "stream",
     "text": [
      "[1] \"2013 April\"\n",
      "[1] \"2013 October\"\n",
      "[1] \"2014 April\"\n",
      "[1] \"2014 October\"\n",
      "[1] \"2015 April\"\n",
      "[1] \"2015 October\"\n",
      "[1] \"2016 April\"\n",
      "[1] \"2016 October\"\n",
      "[1] 2017\n",
      "[1] \"2018 April\"\n",
      "[1] \"2018 October\"\n",
      "[1] \"2019 April\"\n",
      "[1] \"2019 October\"\n"
     ]
    }
   ],
   "source": [
    "for(year in years){\n",
    "    if(year==2017){\n",
    "        ndf <- readSheet(path = \"T:/Data/LTD Data/BoardingSince2011/\", \n",
    "                        fileName = paste0(year, \".xlsx\"),\n",
    "                        sheetName = \"bike counts\")\n",
    "        df <- rbind(df, ndf)\n",
    "        print(year)\n",
    "    }else{\n",
    "        for(month in months){\n",
    "            if(year==2013 & month==\"April\"){\n",
    "                df <- readSheet(path = \"T:/Data/LTD Data/BoardingSince2011/\", \n",
    "                            fileName = paste0(month, \" \", year, \".xlsx\"),\n",
    "                            sheetName = \"bike counts\")\n",
    "            }else{\n",
    "                ndf <- readSheet(path = \"T:/Data/LTD Data/BoardingSince2011/\", \n",
    "                            fileName = paste0(month, \" \", year, \".xlsx\"),\n",
    "                            sheetName = \"bike counts\")\n",
    "                if(year==2013 & month==\"October\"){\n",
    "                    df <- rbind(ndf, df)\n",
    "                }else{\n",
    "                    df <- rbind(df, ndf)\n",
    "                }  \n",
    "            }\n",
    "            print(paste(year, month))\n",
    "        }  \n",
    "    }\n",
    "\n",
    "}"
   ]
  },
  {
   "cell_type": "code",
   "execution_count": 12,
   "id": "7cc19df6",
   "metadata": {},
   "outputs": [],
   "source": [
    "df <- df[month(df$date) %in% c(4, 10),]"
   ]
  },
  {
   "cell_type": "code",
   "execution_count": 15,
   "id": "f7a18f76",
   "metadata": {},
   "outputs": [],
   "source": [
    "data <- rbind(data, df)"
   ]
  },
  {
   "cell_type": "code",
   "execution_count": 16,
   "id": "260b2ad3",
   "metadata": {},
   "outputs": [],
   "source": [
    "write.csv(data, paste0('T:/Tableau/tableauBikesOnBuses/Datasources/MonthlyBikesOnBuses.csv'), row.names = FALSE)"
   ]
  },
  {
   "cell_type": "code",
   "execution_count": 125,
   "id": "c9ba03ec",
   "metadata": {},
   "outputs": [],
   "source": [
    "#data <- data[year(data$date) != 2021 & data$dir == 'O',]"
   ]
  },
  {
   "cell_type": "code",
   "execution_count": 79,
   "id": "2e58397f",
   "metadata": {},
   "outputs": [
    {
     "data": {
      "text/html": [
       "<style>\n",
       ".list-inline {list-style: none; margin:0; padding: 0}\n",
       ".list-inline>li {display: inline-block}\n",
       ".list-inline>li:not(:last-child)::after {content: \"\\00b7\"; padding: 0 .5ex}\n",
       "</style>\n",
       "<ol class=list-inline><li>'srv'</li><li>'date'</li><li>'block'</li><li>'trip_end'</li><li>'time'</li><li>'route'</li><li>'dir'</li><li>'stop'</li><li>'stop_name'</li><li>'latitude'</li><li>'longitude'</li><li>'bus'</li><li>'odometer'</li><li>'desc'</li><li>'qty'</li><li>'MonthYear'</li><li>'DailyRtQty'</li><li>'DailyQty'</li></ol>\n"
      ],
      "text/latex": [
       "\\begin{enumerate*}\n",
       "\\item 'srv'\n",
       "\\item 'date'\n",
       "\\item 'block'\n",
       "\\item 'trip\\_end'\n",
       "\\item 'time'\n",
       "\\item 'route'\n",
       "\\item 'dir'\n",
       "\\item 'stop'\n",
       "\\item 'stop\\_name'\n",
       "\\item 'latitude'\n",
       "\\item 'longitude'\n",
       "\\item 'bus'\n",
       "\\item 'odometer'\n",
       "\\item 'desc'\n",
       "\\item 'qty'\n",
       "\\item 'MonthYear'\n",
       "\\item 'DailyRtQty'\n",
       "\\item 'DailyQty'\n",
       "\\end{enumerate*}\n"
      ],
      "text/markdown": [
       "1. 'srv'\n",
       "2. 'date'\n",
       "3. 'block'\n",
       "4. 'trip_end'\n",
       "5. 'time'\n",
       "6. 'route'\n",
       "7. 'dir'\n",
       "8. 'stop'\n",
       "9. 'stop_name'\n",
       "10. 'latitude'\n",
       "11. 'longitude'\n",
       "12. 'bus'\n",
       "13. 'odometer'\n",
       "14. 'desc'\n",
       "15. 'qty'\n",
       "16. 'MonthYear'\n",
       "17. 'DailyRtQty'\n",
       "18. 'DailyQty'\n",
       "\n",
       "\n"
      ],
      "text/plain": [
       " [1] \"srv\"        \"date\"       \"block\"      \"trip_end\"   \"time\"      \n",
       " [6] \"route\"      \"dir\"        \"stop\"       \"stop_name\"  \"latitude\"  \n",
       "[11] \"longitude\"  \"bus\"        \"odometer\"   \"desc\"       \"qty\"       \n",
       "[16] \"MonthYear\"  \"DailyRtQty\" \"DailyQty\"  "
      ]
     },
     "metadata": {},
     "output_type": "display_data"
    }
   ],
   "source": [
    "names(data)"
   ]
  },
  {
   "cell_type": "code",
   "execution_count": 17,
   "id": "21133425",
   "metadata": {},
   "outputs": [
    {
     "data": {
      "text/plain": [
       "[1] \"2013-01-02 UTC\" \"2021-11-15 UTC\""
      ]
     },
     "metadata": {},
     "output_type": "display_data"
    }
   ],
   "source": [
    "range(data$date)"
   ]
  },
  {
   "cell_type": "code",
   "execution_count": 18,
   "id": "ac5a2bbf",
   "metadata": {},
   "outputs": [
    {
     "name": "stdout",
     "output_type": "stream",
     "text": [
      "OGR data source with driver: ESRI Shapefile \n",
      "Source: \"V:\\Data\\Transportation\", layer: \"MPO_Bound\"\n",
      "with 1 features\n",
      "It has 3 fields\n"
     ]
    }
   ],
   "source": [
    "MPOBound <- readOGR(dsn = \"V:/Data/Transportation\", layer=\"MPO_Bound\")"
   ]
  },
  {
   "cell_type": "code",
   "execution_count": 19,
   "id": "2bbe9dd8",
   "metadata": {},
   "outputs": [
    {
     "data": {
      "text/html": [
       "<style>\n",
       ".list-inline {list-style: none; margin:0; padding: 0}\n",
       ".list-inline>li {display: inline-block}\n",
       ".list-inline>li:not(:last-child)::after {content: \"\\00b7\"; padding: 0 .5ex}\n",
       "</style>\n",
       "<ol class=list-inline><li>1015164</li><li>16</li></ol>\n"
      ],
      "text/latex": [
       "\\begin{enumerate*}\n",
       "\\item 1015164\n",
       "\\item 16\n",
       "\\end{enumerate*}\n"
      ],
      "text/markdown": [
       "1. 1015164\n",
       "2. 16\n",
       "\n",
       "\n"
      ],
      "text/plain": [
       "[1] 1015164      16"
      ]
     },
     "metadata": {},
     "output_type": "display_data"
    }
   ],
   "source": [
    "dim(data)"
   ]
  },
  {
   "cell_type": "code",
   "execution_count": 20,
   "id": "0722fd96",
   "metadata": {},
   "outputs": [
    {
     "data": {
      "text/html": [
       "36"
      ],
      "text/latex": [
       "36"
      ],
      "text/markdown": [
       "36"
      ],
      "text/plain": [
       "[1] 36"
      ]
     },
     "metadata": {},
     "output_type": "display_data"
    }
   ],
   "source": [
    "length(unique(data$route))"
   ]
  },
  {
   "cell_type": "code",
   "execution_count": 21,
   "id": "3834b158",
   "metadata": {},
   "outputs": [],
   "source": [
    "aggdata <- aggregate(x=list(qty = data$qty), by=list(stop_name = data$stop_name), FUN=sum)"
   ]
  },
  {
   "cell_type": "code",
   "execution_count": 22,
   "id": "cd76048d",
   "metadata": {},
   "outputs": [],
   "source": [
    "locdata <- aggregate(x=list(latitude = data$latitude, longitude= data$longitude), \n",
    "                     by=list(stop_name = data$stop_name), FUN=first)"
   ]
  },
  {
   "cell_type": "code",
   "execution_count": 23,
   "id": "b4a93e32",
   "metadata": {},
   "outputs": [],
   "source": [
    "aggdata <- merge(aggdata, locdata, by='stop_name')"
   ]
  },
  {
   "cell_type": "code",
   "execution_count": 24,
   "id": "52991a83",
   "metadata": {
    "scrolled": true
   },
   "outputs": [],
   "source": [
    "spdf <- df2spdf(aggdata, 'longitude', 'latitude')"
   ]
  },
  {
   "cell_type": "code",
   "execution_count": 25,
   "id": "0ca33af8",
   "metadata": {},
   "outputs": [
    {
     "data": {
      "image/png": "[encoded data removed]",
      "text/plain": [
       "plot without title"
      ]
     },
     "metadata": {
      "image/png": {
       "height": 720,
       "width": 720
      }
     },
     "output_type": "display_data"
    }
   ],
   "source": [
    "options(repr.plot.width=12, repr.plot.height=12)\n",
    "par(mfrow=c(1,1),mar=c(0,0,2,0))\n",
    "plot(MPOBound)\n",
    "plot(spdf, add=TRUE, col='grey')\n",
    "points(spdf$longitude, spdf$latitude, cex=spdf$qty/2000)"
   ]
  },
  {
   "cell_type": "code",
   "execution_count": 26,
   "id": "494120f8",
   "metadata": {},
   "outputs": [],
   "source": [
    "spdf@data <- spdf@data[!grepl(paste(c(\"Springfield Station, Bay\", \"Eugene Station, Bay\"),collapse = \"|\"), spdf@data$stop_name),]"
   ]
  },
  {
   "cell_type": "code",
   "execution_count": 28,
   "id": "d913aba8",
   "metadata": {},
   "outputs": [
    {
     "data": {
      "image/png": "[encoded data removed]",
      "text/plain": [
       "plot without title"
      ]
     },
     "metadata": {
      "image/png": {
       "height": 720,
       "width": 720
      }
     },
     "output_type": "display_data"
    }
   ],
   "source": [
    "par(mfrow=c(1,1),mar=c(0,0,2,0))\n",
    "plot(MPOBound)\n",
    "plot(spdf, add=TRUE, col='grey')\n",
    "points(spdf$longitude, spdf$latitude, cex=spdf$qty/1000)"
   ]
  },
  {
   "cell_type": "code",
   "execution_count": 29,
   "id": "66d8dfaf",
   "metadata": {},
   "outputs": [],
   "source": [
    "outdata <- aggregate(x=list(Counts = data$qty), by=list(Year = year(data$date), Location = data$stop_name), FUN=sum)"
   ]
  },
  {
   "cell_type": "code",
   "execution_count": 30,
   "id": "1c6882dd",
   "metadata": {},
   "outputs": [],
   "source": [
    "names(locdata) <- c('Location', 'Latitude', 'Longitude')"
   ]
  },
  {
   "cell_type": "code",
   "execution_count": 31,
   "id": "f7838b6c",
   "metadata": {},
   "outputs": [],
   "source": [
    "outdata <- merge(outdata, locdata, by = 'Location')"
   ]
  },
  {
   "cell_type": "code",
   "execution_count": 32,
   "id": "43105f70",
   "metadata": {},
   "outputs": [
    {
     "data": {
      "text/html": [
       "<style>\n",
       ".list-inline {list-style: none; margin:0; padding: 0}\n",
       ".list-inline>li {display: inline-block}\n",
       ".list-inline>li:not(:last-child)::after {content: \"\\00b7\"; padding: 0 .5ex}\n",
       "</style>\n",
       "<ol class=list-inline><li>9536</li><li>5</li></ol>\n"
      ],
      "text/latex": [
       "\\begin{enumerate*}\n",
       "\\item 9536\n",
       "\\item 5\n",
       "\\end{enumerate*}\n"
      ],
      "text/markdown": [
       "1. 9536\n",
       "2. 5\n",
       "\n",
       "\n"
      ],
      "text/plain": [
       "[1] 9536    5"
      ]
     },
     "metadata": {},
     "output_type": "display_data"
    }
   ],
   "source": [
    "dim(outdata)"
   ]
  },
  {
   "cell_type": "code",
   "execution_count": 33,
   "id": "fc525544",
   "metadata": {},
   "outputs": [],
   "source": [
    "outdata <- outdata[rev(order(outdata$Counts)),]"
   ]
  },
  {
   "cell_type": "code",
   "execution_count": 34,
   "id": "ec7de18d",
   "metadata": {},
   "outputs": [],
   "source": [
    "sdata <- outdata[!grepl(paste(c(\"Springfield Station, Bay\", \"Eugene Station, Bay\"),collapse = \"|\"), outdata$Location),]"
   ]
  },
  {
   "cell_type": "code",
   "execution_count": 35,
   "id": "d6fb2034",
   "metadata": {},
   "outputs": [
    {
     "data": {
      "text/html": [
       "<table class=\"dataframe\">\n",
       "<caption>A data.frame: 6 × 5</caption>\n",
       "<thead>\n",
       "\t<tr><th></th><th scope=col>Location</th><th scope=col>Year</th><th scope=col>Counts</th><th scope=col>Latitude</th><th scope=col>Longitude</th></tr>\n",
       "\t<tr><th></th><th scope=col>&lt;chr&gt;</th><th scope=col>&lt;dbl&gt;</th><th scope=col>&lt;dbl&gt;</th><th scope=col>&lt;dbl&gt;</th><th scope=col>&lt;dbl&gt;</th></tr>\n",
       "</thead>\n",
       "<tbody>\n",
       "\t<tr><th scope=row>2639</th><td>LCC Station Bay C         </td><td>2013</td><td>3007</td><td>44.00981</td><td>-123.0351</td></tr>\n",
       "\t<tr><th scope=row>2640</th><td>LCC Station Bay C         </td><td>2014</td><td>2343</td><td>44.00981</td><td>-123.0351</td></tr>\n",
       "\t<tr><th scope=row>2641</th><td>LCC Station Bay C         </td><td>2015</td><td>2343</td><td>44.00981</td><td>-123.0351</td></tr>\n",
       "\t<tr><th scope=row>161</th><td>Commerce Station Outbound </td><td>2019</td><td>2119</td><td>44.04799</td><td>-123.1704</td></tr>\n",
       "\t<tr><th scope=row>2487</th><td>Gateway Sta.-Bay B (to ES)</td><td>2014</td><td>1909</td><td>44.07314</td><td>-123.0427</td></tr>\n",
       "\t<tr><th scope=row>2486</th><td>Gateway Sta.-Bay B (to ES)</td><td>2013</td><td>1822</td><td>44.07314</td><td>-123.0427</td></tr>\n",
       "</tbody>\n",
       "</table>\n"
      ],
      "text/latex": [
       "A data.frame: 6 × 5\n",
       "\\begin{tabular}{r|lllll}\n",
       "  & Location & Year & Counts & Latitude & Longitude\\\\\n",
       "  & <chr> & <dbl> & <dbl> & <dbl> & <dbl>\\\\\n",
       "\\hline\n",
       "\t2639 & LCC Station Bay C          & 2013 & 3007 & 44.00981 & -123.0351\\\\\n",
       "\t2640 & LCC Station Bay C          & 2014 & 2343 & 44.00981 & -123.0351\\\\\n",
       "\t2641 & LCC Station Bay C          & 2015 & 2343 & 44.00981 & -123.0351\\\\\n",
       "\t161 & Commerce Station Outbound  & 2019 & 2119 & 44.04799 & -123.1704\\\\\n",
       "\t2487 & Gateway Sta.-Bay B (to ES) & 2014 & 1909 & 44.07314 & -123.0427\\\\\n",
       "\t2486 & Gateway Sta.-Bay B (to ES) & 2013 & 1822 & 44.07314 & -123.0427\\\\\n",
       "\\end{tabular}\n"
      ],
      "text/markdown": [
       "\n",
       "A data.frame: 6 × 5\n",
       "\n",
       "| <!--/--> | Location &lt;chr&gt; | Year &lt;dbl&gt; | Counts &lt;dbl&gt; | Latitude &lt;dbl&gt; | Longitude &lt;dbl&gt; |\n",
       "|---|---|---|---|---|---|\n",
       "| 2639 | LCC Station Bay C          | 2013 | 3007 | 44.00981 | -123.0351 |\n",
       "| 2640 | LCC Station Bay C          | 2014 | 2343 | 44.00981 | -123.0351 |\n",
       "| 2641 | LCC Station Bay C          | 2015 | 2343 | 44.00981 | -123.0351 |\n",
       "| 161 | Commerce Station Outbound  | 2019 | 2119 | 44.04799 | -123.1704 |\n",
       "| 2487 | Gateway Sta.-Bay B (to ES) | 2014 | 1909 | 44.07314 | -123.0427 |\n",
       "| 2486 | Gateway Sta.-Bay B (to ES) | 2013 | 1822 | 44.07314 | -123.0427 |\n",
       "\n"
      ],
      "text/plain": [
       "     Location                   Year Counts Latitude Longitude\n",
       "2639 LCC Station Bay C          2013 3007   44.00981 -123.0351\n",
       "2640 LCC Station Bay C          2014 2343   44.00981 -123.0351\n",
       "2641 LCC Station Bay C          2015 2343   44.00981 -123.0351\n",
       "161  Commerce Station Outbound  2019 2119   44.04799 -123.1704\n",
       "2487 Gateway Sta.-Bay B (to ES) 2014 1909   44.07314 -123.0427\n",
       "2486 Gateway Sta.-Bay B (to ES) 2013 1822   44.07314 -123.0427"
      ]
     },
     "metadata": {},
     "output_type": "display_data"
    }
   ],
   "source": [
    "head(sdata[rev(order(sdata$Counts)),])"
   ]
  },
  {
   "cell_type": "code",
   "execution_count": 36,
   "id": "f99e69c8",
   "metadata": {},
   "outputs": [
    {
     "data": {
      "image/png": "[encoded data removed]",
      "text/plain": [
       "plot without title"
      ]
     },
     "metadata": {
      "image/png": {
       "height": 480,
       "width": 480
      }
     },
     "output_type": "display_data"
    }
   ],
   "source": [
    "options(repr.plot.width=8, repr.plot.height=8)\n",
    "boxplot(Counts~Year,data=sdata)"
   ]
  },
  {
   "cell_type": "code",
   "execution_count": 37,
   "id": "bd5edea3",
   "metadata": {},
   "outputs": [],
   "source": [
    "outdata$Growth <- with(outdata[,c('Location', 'Year', 'Counts')], ave(Counts, Location, \n",
    "                      FUN=function(x) c(NA, diff(x)/x[-length(x)]) ))"
   ]
  },
  {
   "cell_type": "code",
   "execution_count": 38,
   "id": "a9bdf1f4",
   "metadata": {},
   "outputs": [
    {
     "ename": "ERROR",
     "evalue": "Error in eval(predvars, data, env): object 'Growth' not found\n",
     "output_type": "error",
     "traceback": [
      "Error in eval(predvars, data, env): object 'Growth' not found\nTraceback:\n",
      "1. boxplot(Growth ~ Year, data = sdata)",
      "2. boxplot.formula(Growth ~ Year, data = sdata)",
      "3. eval(m, parent.frame())",
      "4. eval(m, parent.frame())",
      "5. stats::model.frame.default(formula = Growth ~ Year, data = sdata)",
      "6. eval(predvars, data, env)",
      "7. eval(predvars, data, env)"
     ]
    }
   ],
   "source": [
    "boxplot(Growth~Year,data=sdata)\n",
    "abline(h=0, col='red', lwd=2, lty=2)"
   ]
  }
 ],
 "metadata": {
  "kernelspec": {
   "display_name": "R",
   "language": "R",
   "name": "ir"
  },
  "language_info": {
   "codemirror_mode": "r",
   "file_extension": ".r",
   "mimetype": "text/x-r-source",
   "name": "R",
   "pygments_lexer": "r",
   "version": "4.0.3"
  }
 },
 "nbformat": 4,
 "nbformat_minor": 5
}
