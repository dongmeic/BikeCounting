{
 "cells": [
  {
   "cell_type": "code",
   "execution_count": 35,
   "id": "33226c56",
   "metadata": {},
   "outputs": [],
   "source": [
    "options(warn = -1)"
   ]
  },
  {
   "cell_type": "code",
   "execution_count": 1,
   "id": "c69491c4",
   "metadata": {},
   "outputs": [
    {
     "name": "stderr",
     "output_type": "stream",
     "text": [
      "Warning message:\n",
      "\"package 'rgdal' was built under R version 4.0.5\"\n",
      "Loading required package: sp\n",
      "\n",
      "Warning message:\n",
      "\"package 'sp' was built under R version 4.0.5\"\n",
      "rgdal: version: 1.5-23, (SVN revision 1121)\n",
      "Geospatial Data Abstraction Library extensions to R successfully loaded\n",
      "Loaded GDAL runtime: GDAL 3.2.1, released 2020/12/29\n",
      "Path to GDAL shared files: C:/Users/clid1852/Documents/R/win-library/4.0/rgdal/gdal\n",
      "GDAL binary built with GEOS: TRUE \n",
      "Loaded PROJ runtime: Rel. 7.2.1, January 1st, 2021, [PJ_VERSION: 721]\n",
      "Path to PROJ shared files: C:/Users/clid1852/Documents/R/win-library/4.0/rgdal/proj\n",
      "PROJ CDN enabled: FALSE\n",
      "Linking to sp version:1.4-5\n",
      "To mute warnings of possible GDAL/OSR exportToProj4() degradation,\n",
      "use options(\"rgdal_show_exportToProj4_warnings\"=\"none\") before loading rgdal.\n",
      "Overwritten PROJ_LIB was C:/Users/clid1852/Documents/R/win-library/4.0/rgdal/proj\n",
      "\n",
      "Warning message:\n",
      "\"package 'dplyr' was built under R version 4.0.5\"\n",
      "\n",
      "Attaching package: 'dplyr'\n",
      "\n",
      "\n",
      "The following objects are masked from 'package:stats':\n",
      "\n",
      "    filter, lag\n",
      "\n",
      "\n",
      "The following objects are masked from 'package:base':\n",
      "\n",
      "    intersect, setdiff, setequal, union\n",
      "\n",
      "\n",
      "Warning message:\n",
      "\"package 'lubridate' was built under R version 4.0.5\"\n",
      "\n",
      "Attaching package: 'lubridate'\n",
      "\n",
      "\n",
      "The following objects are masked from 'package:base':\n",
      "\n",
      "    date, intersect, setdiff, union\n",
      "\n",
      "\n"
     ]
    }
   ],
   "source": [
    "library(rgdal)\n",
    "library(readxl)\n",
    "library(dplyr)\n",
    "library(tools)\n",
    "library(lubridate)\n",
    "library(stringr)"
   ]
  },
  {
   "cell_type": "code",
   "execution_count": 72,
   "id": "c552774d",
   "metadata": {},
   "outputs": [],
   "source": [
    "source(\"functions.R\")"
   ]
  },
  {
   "cell_type": "code",
   "execution_count": 3,
   "id": "dad030fb",
   "metadata": {},
   "outputs": [],
   "source": [
    "path <- \"T:/Data/LTD Data/BikeOnBuses/Monthly/\""
   ]
  },
  {
   "cell_type": "code",
   "execution_count": 28,
   "id": "85847978",
   "metadata": {},
   "outputs": [
    {
     "data": {
      "text/html": [
       "<style>\n",
       ".list-inline {list-style: none; margin:0; padding: 0}\n",
       ".list-inline>li {display: inline-block}\n",
       ".list-inline>li:not(:last-child)::after {content: \"\\00b7\"; padding: 0 .5ex}\n",
       "</style>\n",
       "<ol class=list-inline><li>'bike count_Jan13'</li><li>'bike count_Feb13'</li><li>'bike count_Mar13'</li><li>'bike count_May13'</li><li>'bike count_Jun13'</li><li>'bike count_Jul13'</li><li>'bike count_Aug13'</li><li>'bike count_Sept13'</li><li>'bike count_Nov13'</li><li>'bike count_Dec13'</li></ol>\n"
      ],
      "text/latex": [
       "\\begin{enumerate*}\n",
       "\\item 'bike count\\_Jan13'\n",
       "\\item 'bike count\\_Feb13'\n",
       "\\item 'bike count\\_Mar13'\n",
       "\\item 'bike count\\_May13'\n",
       "\\item 'bike count\\_Jun13'\n",
       "\\item 'bike count\\_Jul13'\n",
       "\\item 'bike count\\_Aug13'\n",
       "\\item 'bike count\\_Sept13'\n",
       "\\item 'bike count\\_Nov13'\n",
       "\\item 'bike count\\_Dec13'\n",
       "\\end{enumerate*}\n"
      ],
      "text/markdown": [
       "1. 'bike count_Jan13'\n",
       "2. 'bike count_Feb13'\n",
       "3. 'bike count_Mar13'\n",
       "4. 'bike count_May13'\n",
       "5. 'bike count_Jun13'\n",
       "6. 'bike count_Jul13'\n",
       "7. 'bike count_Aug13'\n",
       "8. 'bike count_Sept13'\n",
       "9. 'bike count_Nov13'\n",
       "10. 'bike count_Dec13'\n",
       "\n",
       "\n"
      ],
      "text/plain": [
       " [1] \"bike count_Jan13\"  \"bike count_Feb13\"  \"bike count_Mar13\" \n",
       " [4] \"bike count_May13\"  \"bike count_Jun13\"  \"bike count_Jul13\" \n",
       " [7] \"bike count_Aug13\"  \"bike count_Sept13\" \"bike count_Nov13\" \n",
       "[10] \"bike count_Dec13\" "
      ]
     },
     "metadata": {},
     "output_type": "display_data"
    }
   ],
   "source": [
    "excel_sheets(paste0(path,\"LTD Bike Count_2013.xlsx\"))"
   ]
  },
  {
   "cell_type": "code",
   "execution_count": 33,
   "id": "087bddf3",
   "metadata": {},
   "outputs": [],
   "source": [
    "files <- file_path_sans_ext(list.files(path))"
   ]
  },
  {
   "cell_type": "code",
   "execution_count": 123,
   "id": "6db4c870",
   "metadata": {},
   "outputs": [
    {
     "name": "stdout",
     "output_type": "stream",
     "text": [
      "[1] \"LTD Bike Count_2013\"\n",
      "[1] \"LTD Bike Count_2014\"\n",
      "[1] \"LTD Bike Count_2015\"\n",
      "[1] \"LTD Bike Count_2016\"\n",
      "[1] \"LTD Bike Count_2017\"\n",
      "[1] \"LTD Bike Count_2018\"\n",
      "[1] \"LTD Bike Count_2019\"\n",
      "[1] \"LTD Bike Count_2020\"\n",
      "[1] \"LTD Bike Count_2021\"\n"
     ]
    }
   ],
   "source": [
    "for(file in files){\n",
    "    if(file == \"LTD Bike Count_2013\"){\n",
    "        data <- readExcel(paste0(file, \".xlsx\"))\n",
    "    }else{\n",
    "        ndata <- readExcel(paste0(file, \".xlsx\"))\n",
    "        data <- rbind(data, ndata)\n",
    "    }\n",
    "    print(file)\n",
    "}"
   ]
  },
  {
   "cell_type": "code",
   "execution_count": 76,
   "id": "e0013cf3",
   "metadata": {},
   "outputs": [
    {
     "data": {
      "text/html": [
       "<table class=\"dataframe\">\n",
       "<caption>A tibble: 6 × 18</caption>\n",
       "<thead>\n",
       "\t<tr><th scope=col>srv</th><th scope=col>date</th><th scope=col>block</th><th scope=col>trip_end</th><th scope=col>time</th><th scope=col>route</th><th scope=col>dir</th><th scope=col>stop</th><th scope=col>stop_name</th><th scope=col>latitude</th><th scope=col>longitude</th><th scope=col>bus</th><th scope=col>odometer</th><th scope=col>desc</th><th scope=col>qty</th><th scope=col>MonthYear</th><th scope=col>DailyRtQty</th><th scope=col>DailyQty</th></tr>\n",
       "\t<tr><th scope=col>&lt;chr&gt;</th><th scope=col>&lt;dttm&gt;</th><th scope=col>&lt;dbl&gt;</th><th scope=col>&lt;dttm&gt;</th><th scope=col>&lt;dttm&gt;</th><th scope=col>&lt;chr&gt;</th><th scope=col>&lt;chr&gt;</th><th scope=col>&lt;chr&gt;</th><th scope=col>&lt;chr&gt;</th><th scope=col>&lt;dbl&gt;</th><th scope=col>&lt;dbl&gt;</th><th scope=col>&lt;chr&gt;</th><th scope=col>&lt;dbl&gt;</th><th scope=col>&lt;chr&gt;</th><th scope=col>&lt;dbl&gt;</th><th scope=col>&lt;chr&gt;</th><th scope=col>&lt;dbl&gt;</th><th scope=col>&lt;dbl&gt;</th></tr>\n",
       "</thead>\n",
       "<tbody>\n",
       "\t<tr><td>sat</td><td>2021-11-13</td><td>7908</td><td>1899-12-31 08:47:00</td><td>1899-12-31 08:28:00</td><td>103</td><td>I</td><td>9938</td><td>Charnelton Station Inbound   </td><td>44.05253</td><td>-123.0958</td><td>9105</td><td> 13.44</td><td>bike on rack</td><td>1</td><td>November 2021</td><td>32</td><td>87</td></tr>\n",
       "\t<tr><td>sat</td><td>2021-11-13</td><td>7908</td><td>1899-12-31 11:04:00</td><td>1899-12-31 10:37:00</td><td>103</td><td>I</td><td>2121</td><td>Eugene Station, Bay U        </td><td>44.04777</td><td>-123.0933</td><td>9105</td><td> 37.45</td><td>bike on rack</td><td>1</td><td>November 2021</td><td>32</td><td>87</td></tr>\n",
       "\t<tr><td>sat</td><td>2021-11-13</td><td>7908</td><td>1899-12-31 11:04:00</td><td>1899-12-31 10:46:00</td><td>103</td><td>I</td><td>9939</td><td>Monroe/6th Station Inbound   </td><td>44.05320</td><td>-123.1054</td><td>9105</td><td> 38.42</td><td>bike on rack</td><td>2</td><td>November 2021</td><td>32</td><td>87</td></tr>\n",
       "\t<tr><td>sat</td><td>2021-11-13</td><td>7908</td><td>1899-12-31 12:14:00</td><td>1899-12-31 11:29:00</td><td>103</td><td>O</td><td>9951</td><td>Oak Patch Station Outbound   </td><td>44.04782</td><td>-123.1356</td><td>9105</td><td> 43.97</td><td>bike on rack</td><td>1</td><td>November 2021</td><td>32</td><td>87</td></tr>\n",
       "\t<tr><td>sat</td><td>2021-11-13</td><td>7908</td><td>1899-12-31 12:14:00</td><td>1899-12-31 11:35:00</td><td>103</td><td>O</td><td>9944</td><td>Chambers/7th Station Outbound</td><td>44.05212</td><td>-123.1187</td><td>9105</td><td> 45.09</td><td>bike on rack</td><td>1</td><td>November 2021</td><td>32</td><td>87</td></tr>\n",
       "\t<tr><td>sat</td><td>2021-11-13</td><td>7908</td><td>1899-12-31 23:27:00</td><td>1899-12-31 22:39:00</td><td>103</td><td>O</td><td>9957</td><td>Sam Reynolds Station Outbound</td><td>44.04794</td><td>-123.1561</td><td>9105</td><td>165.46</td><td>bike on rack</td><td>1</td><td>November 2021</td><td>32</td><td>87</td></tr>\n",
       "</tbody>\n",
       "</table>\n"
      ],
      "text/latex": [
       "A tibble: 6 × 18\n",
       "\\begin{tabular}{llllllllllllllllll}\n",
       " srv & date & block & trip\\_end & time & route & dir & stop & stop\\_name & latitude & longitude & bus & odometer & desc & qty & MonthYear & DailyRtQty & DailyQty\\\\\n",
       " <chr> & <dttm> & <dbl> & <dttm> & <dttm> & <chr> & <chr> & <chr> & <chr> & <dbl> & <dbl> & <chr> & <dbl> & <chr> & <dbl> & <chr> & <dbl> & <dbl>\\\\\n",
       "\\hline\n",
       "\t sat & 2021-11-13 & 7908 & 1899-12-31 08:47:00 & 1899-12-31 08:28:00 & 103 & I & 9938 & Charnelton Station Inbound    & 44.05253 & -123.0958 & 9105 &  13.44 & bike on rack & 1 & November 2021 & 32 & 87\\\\\n",
       "\t sat & 2021-11-13 & 7908 & 1899-12-31 11:04:00 & 1899-12-31 10:37:00 & 103 & I & 2121 & Eugene Station, Bay U         & 44.04777 & -123.0933 & 9105 &  37.45 & bike on rack & 1 & November 2021 & 32 & 87\\\\\n",
       "\t sat & 2021-11-13 & 7908 & 1899-12-31 11:04:00 & 1899-12-31 10:46:00 & 103 & I & 9939 & Monroe/6th Station Inbound    & 44.05320 & -123.1054 & 9105 &  38.42 & bike on rack & 2 & November 2021 & 32 & 87\\\\\n",
       "\t sat & 2021-11-13 & 7908 & 1899-12-31 12:14:00 & 1899-12-31 11:29:00 & 103 & O & 9951 & Oak Patch Station Outbound    & 44.04782 & -123.1356 & 9105 &  43.97 & bike on rack & 1 & November 2021 & 32 & 87\\\\\n",
       "\t sat & 2021-11-13 & 7908 & 1899-12-31 12:14:00 & 1899-12-31 11:35:00 & 103 & O & 9944 & Chambers/7th Station Outbound & 44.05212 & -123.1187 & 9105 &  45.09 & bike on rack & 1 & November 2021 & 32 & 87\\\\\n",
       "\t sat & 2021-11-13 & 7908 & 1899-12-31 23:27:00 & 1899-12-31 22:39:00 & 103 & O & 9957 & Sam Reynolds Station Outbound & 44.04794 & -123.1561 & 9105 & 165.46 & bike on rack & 1 & November 2021 & 32 & 87\\\\\n",
       "\\end{tabular}\n"
      ],
      "text/markdown": [
       "\n",
       "A tibble: 6 × 18\n",
       "\n",
       "| srv &lt;chr&gt; | date &lt;dttm&gt; | block &lt;dbl&gt; | trip_end &lt;dttm&gt; | time &lt;dttm&gt; | route &lt;chr&gt; | dir &lt;chr&gt; | stop &lt;chr&gt; | stop_name &lt;chr&gt; | latitude &lt;dbl&gt; | longitude &lt;dbl&gt; | bus &lt;chr&gt; | odometer &lt;dbl&gt; | desc &lt;chr&gt; | qty &lt;dbl&gt; | MonthYear &lt;chr&gt; | DailyRtQty &lt;dbl&gt; | DailyQty &lt;dbl&gt; |\n",
       "|---|---|---|---|---|---|---|---|---|---|---|---|---|---|---|---|---|---|\n",
       "| sat | 2021-11-13 | 7908 | 1899-12-31 08:47:00 | 1899-12-31 08:28:00 | 103 | I | 9938 | Charnelton Station Inbound    | 44.05253 | -123.0958 | 9105 |  13.44 | bike on rack | 1 | November 2021 | 32 | 87 |\n",
       "| sat | 2021-11-13 | 7908 | 1899-12-31 11:04:00 | 1899-12-31 10:37:00 | 103 | I | 2121 | Eugene Station, Bay U         | 44.04777 | -123.0933 | 9105 |  37.45 | bike on rack | 1 | November 2021 | 32 | 87 |\n",
       "| sat | 2021-11-13 | 7908 | 1899-12-31 11:04:00 | 1899-12-31 10:46:00 | 103 | I | 9939 | Monroe/6th Station Inbound    | 44.05320 | -123.1054 | 9105 |  38.42 | bike on rack | 2 | November 2021 | 32 | 87 |\n",
       "| sat | 2021-11-13 | 7908 | 1899-12-31 12:14:00 | 1899-12-31 11:29:00 | 103 | O | 9951 | Oak Patch Station Outbound    | 44.04782 | -123.1356 | 9105 |  43.97 | bike on rack | 1 | November 2021 | 32 | 87 |\n",
       "| sat | 2021-11-13 | 7908 | 1899-12-31 12:14:00 | 1899-12-31 11:35:00 | 103 | O | 9944 | Chambers/7th Station Outbound | 44.05212 | -123.1187 | 9105 |  45.09 | bike on rack | 1 | November 2021 | 32 | 87 |\n",
       "| sat | 2021-11-13 | 7908 | 1899-12-31 23:27:00 | 1899-12-31 22:39:00 | 103 | O | 9957 | Sam Reynolds Station Outbound | 44.04794 | -123.1561 | 9105 | 165.46 | bike on rack | 1 | November 2021 | 32 | 87 |\n",
       "\n"
      ],
      "text/plain": [
       "  srv date       block trip_end            time                route dir stop\n",
       "1 sat 2021-11-13 7908  1899-12-31 08:47:00 1899-12-31 08:28:00 103   I   9938\n",
       "2 sat 2021-11-13 7908  1899-12-31 11:04:00 1899-12-31 10:37:00 103   I   2121\n",
       "3 sat 2021-11-13 7908  1899-12-31 11:04:00 1899-12-31 10:46:00 103   I   9939\n",
       "4 sat 2021-11-13 7908  1899-12-31 12:14:00 1899-12-31 11:29:00 103   O   9951\n",
       "5 sat 2021-11-13 7908  1899-12-31 12:14:00 1899-12-31 11:35:00 103   O   9944\n",
       "6 sat 2021-11-13 7908  1899-12-31 23:27:00 1899-12-31 22:39:00 103   O   9957\n",
       "  stop_name                     latitude longitude bus  odometer desc        \n",
       "1 Charnelton Station Inbound    44.05253 -123.0958 9105  13.44   bike on rack\n",
       "2 Eugene Station, Bay U         44.04777 -123.0933 9105  37.45   bike on rack\n",
       "3 Monroe/6th Station Inbound    44.05320 -123.1054 9105  38.42   bike on rack\n",
       "4 Oak Patch Station Outbound    44.04782 -123.1356 9105  43.97   bike on rack\n",
       "5 Chambers/7th Station Outbound 44.05212 -123.1187 9105  45.09   bike on rack\n",
       "6 Sam Reynolds Station Outbound 44.04794 -123.1561 9105 165.46   bike on rack\n",
       "  qty MonthYear     DailyRtQty DailyQty\n",
       "1 1   November 2021 32         87      \n",
       "2 1   November 2021 32         87      \n",
       "3 2   November 2021 32         87      \n",
       "4 1   November 2021 32         87      \n",
       "5 1   November 2021 32         87      \n",
       "6 1   November 2021 32         87      "
      ]
     },
     "metadata": {},
     "output_type": "display_data"
    }
   ],
   "source": [
    "tail(data)"
   ]
  },
  {
   "cell_type": "code",
   "execution_count": 125,
   "id": "9df2c304",
   "metadata": {},
   "outputs": [],
   "source": [
    "data <- data[year(data$date) != 2021 & data$dir == 'O',]"
   ]
  },
  {
   "cell_type": "code",
   "execution_count": 78,
   "id": "458ee98f",
   "metadata": {},
   "outputs": [
    {
     "data": {
      "text/html": [
       "<table class=\"dataframe\">\n",
       "<caption>A tibble: 6 × 18</caption>\n",
       "<thead>\n",
       "\t<tr><th scope=col>srv</th><th scope=col>date</th><th scope=col>block</th><th scope=col>trip_end</th><th scope=col>time</th><th scope=col>route</th><th scope=col>dir</th><th scope=col>stop</th><th scope=col>stop_name</th><th scope=col>latitude</th><th scope=col>longitude</th><th scope=col>bus</th><th scope=col>odometer</th><th scope=col>desc</th><th scope=col>qty</th><th scope=col>MonthYear</th><th scope=col>DailyRtQty</th><th scope=col>DailyQty</th></tr>\n",
       "\t<tr><th scope=col>&lt;chr&gt;</th><th scope=col>&lt;dttm&gt;</th><th scope=col>&lt;dbl&gt;</th><th scope=col>&lt;dttm&gt;</th><th scope=col>&lt;dttm&gt;</th><th scope=col>&lt;chr&gt;</th><th scope=col>&lt;chr&gt;</th><th scope=col>&lt;chr&gt;</th><th scope=col>&lt;chr&gt;</th><th scope=col>&lt;dbl&gt;</th><th scope=col>&lt;dbl&gt;</th><th scope=col>&lt;chr&gt;</th><th scope=col>&lt;dbl&gt;</th><th scope=col>&lt;chr&gt;</th><th scope=col>&lt;dbl&gt;</th><th scope=col>&lt;chr&gt;</th><th scope=col>&lt;dbl&gt;</th><th scope=col>&lt;dbl&gt;</th></tr>\n",
       "</thead>\n",
       "<tbody>\n",
       "\t<tr><td>wkd</td><td>2013-01-02</td><td>1</td><td>1899-12-31 06:00:00</td><td>1899-12-31 05:23:00</td><td>91</td><td>O</td><td>9249</td><td>S/S of Hwy 126 (MP 23.41) E of Mt View Lane</td><td>44.13080</td><td>-122.6172</td><td>151 </td><td>29.47</td><td>bike on rack</td><td>1</td><td>January 2013</td><td> 3</td><td>549</td></tr>\n",
       "\t<tr><td>wkd</td><td>2013-01-02</td><td>1</td><td>1899-12-31 09:25:00</td><td>1899-12-31 09:01:00</td><td>40</td><td>I</td><td>816 </td><td>S/S of Royal W of Ruskin                   </td><td>44.06990</td><td>-123.1671</td><td>151 </td><td> 8.20</td><td>bike on rack</td><td>1</td><td>January 2013</td><td>31</td><td>549</td></tr>\n",
       "\t<tr><td>wkd</td><td>2013-01-02</td><td>1</td><td>1899-12-31 10:25:00</td><td>1899-12-31 10:11:00</td><td>36</td><td>I</td><td>404 </td><td>S/S of 18th W of McKinley                  </td><td>44.04052</td><td>-123.1305</td><td>151 </td><td>23.13</td><td>bike on rack</td><td>1</td><td>January 2013</td><td>20</td><td>549</td></tr>\n",
       "\t<tr><td>wkd</td><td>2013-01-02</td><td>2</td><td>1899-12-31 05:21:00</td><td>1899-12-31 05:21:00</td><td>11</td><td>O</td><td>17  </td><td>N/S of Main E of 62nd Pl                   </td><td>44.04573</td><td>-122.9181</td><td>1114</td><td> 9.15</td><td>bike on rack</td><td>2</td><td>January 2013</td><td>93</td><td>549</td></tr>\n",
       "\t<tr><td>wkd</td><td>2013-01-02</td><td>2</td><td>1899-12-31 05:37:00</td><td>1899-12-31 05:26:00</td><td>11</td><td>I</td><td>26  </td><td>N/S of Main E of 50th                      </td><td>44.04582</td><td>-122.9434</td><td>1114</td><td>10.62</td><td>bike on rack</td><td>1</td><td>January 2013</td><td>93</td><td>549</td></tr>\n",
       "\t<tr><td>wkd</td><td>2013-01-02</td><td>2</td><td>1899-12-31 06:37:00</td><td>1899-12-31 06:20:00</td><td>11</td><td>I</td><td>26  </td><td>N/S of Main E of 50th                      </td><td>44.04581</td><td>-122.9433</td><td>1114</td><td>23.75</td><td>bike on rack</td><td>1</td><td>January 2013</td><td>93</td><td>549</td></tr>\n",
       "</tbody>\n",
       "</table>\n"
      ],
      "text/latex": [
       "A tibble: 6 × 18\n",
       "\\begin{tabular}{llllllllllllllllll}\n",
       " srv & date & block & trip\\_end & time & route & dir & stop & stop\\_name & latitude & longitude & bus & odometer & desc & qty & MonthYear & DailyRtQty & DailyQty\\\\\n",
       " <chr> & <dttm> & <dbl> & <dttm> & <dttm> & <chr> & <chr> & <chr> & <chr> & <dbl> & <dbl> & <chr> & <dbl> & <chr> & <dbl> & <chr> & <dbl> & <dbl>\\\\\n",
       "\\hline\n",
       "\t wkd & 2013-01-02 & 1 & 1899-12-31 06:00:00 & 1899-12-31 05:23:00 & 91 & O & 9249 & S/S of Hwy 126 (MP 23.41) E of Mt View Lane & 44.13080 & -122.6172 & 151  & 29.47 & bike on rack & 1 & January 2013 &  3 & 549\\\\\n",
       "\t wkd & 2013-01-02 & 1 & 1899-12-31 09:25:00 & 1899-12-31 09:01:00 & 40 & I & 816  & S/S of Royal W of Ruskin                    & 44.06990 & -123.1671 & 151  &  8.20 & bike on rack & 1 & January 2013 & 31 & 549\\\\\n",
       "\t wkd & 2013-01-02 & 1 & 1899-12-31 10:25:00 & 1899-12-31 10:11:00 & 36 & I & 404  & S/S of 18th W of McKinley                   & 44.04052 & -123.1305 & 151  & 23.13 & bike on rack & 1 & January 2013 & 20 & 549\\\\\n",
       "\t wkd & 2013-01-02 & 2 & 1899-12-31 05:21:00 & 1899-12-31 05:21:00 & 11 & O & 17   & N/S of Main E of 62nd Pl                    & 44.04573 & -122.9181 & 1114 &  9.15 & bike on rack & 2 & January 2013 & 93 & 549\\\\\n",
       "\t wkd & 2013-01-02 & 2 & 1899-12-31 05:37:00 & 1899-12-31 05:26:00 & 11 & I & 26   & N/S of Main E of 50th                       & 44.04582 & -122.9434 & 1114 & 10.62 & bike on rack & 1 & January 2013 & 93 & 549\\\\\n",
       "\t wkd & 2013-01-02 & 2 & 1899-12-31 06:37:00 & 1899-12-31 06:20:00 & 11 & I & 26   & N/S of Main E of 50th                       & 44.04581 & -122.9433 & 1114 & 23.75 & bike on rack & 1 & January 2013 & 93 & 549\\\\\n",
       "\\end{tabular}\n"
      ],
      "text/markdown": [
       "\n",
       "A tibble: 6 × 18\n",
       "\n",
       "| srv &lt;chr&gt; | date &lt;dttm&gt; | block &lt;dbl&gt; | trip_end &lt;dttm&gt; | time &lt;dttm&gt; | route &lt;chr&gt; | dir &lt;chr&gt; | stop &lt;chr&gt; | stop_name &lt;chr&gt; | latitude &lt;dbl&gt; | longitude &lt;dbl&gt; | bus &lt;chr&gt; | odometer &lt;dbl&gt; | desc &lt;chr&gt; | qty &lt;dbl&gt; | MonthYear &lt;chr&gt; | DailyRtQty &lt;dbl&gt; | DailyQty &lt;dbl&gt; |\n",
       "|---|---|---|---|---|---|---|---|---|---|---|---|---|---|---|---|---|---|\n",
       "| wkd | 2013-01-02 | 1 | 1899-12-31 06:00:00 | 1899-12-31 05:23:00 | 91 | O | 9249 | S/S of Hwy 126 (MP 23.41) E of Mt View Lane | 44.13080 | -122.6172 | 151  | 29.47 | bike on rack | 1 | January 2013 |  3 | 549 |\n",
       "| wkd | 2013-01-02 | 1 | 1899-12-31 09:25:00 | 1899-12-31 09:01:00 | 40 | I | 816  | S/S of Royal W of Ruskin                    | 44.06990 | -123.1671 | 151  |  8.20 | bike on rack | 1 | January 2013 | 31 | 549 |\n",
       "| wkd | 2013-01-02 | 1 | 1899-12-31 10:25:00 | 1899-12-31 10:11:00 | 36 | I | 404  | S/S of 18th W of McKinley                   | 44.04052 | -123.1305 | 151  | 23.13 | bike on rack | 1 | January 2013 | 20 | 549 |\n",
       "| wkd | 2013-01-02 | 2 | 1899-12-31 05:21:00 | 1899-12-31 05:21:00 | 11 | O | 17   | N/S of Main E of 62nd Pl                    | 44.04573 | -122.9181 | 1114 |  9.15 | bike on rack | 2 | January 2013 | 93 | 549 |\n",
       "| wkd | 2013-01-02 | 2 | 1899-12-31 05:37:00 | 1899-12-31 05:26:00 | 11 | I | 26   | N/S of Main E of 50th                       | 44.04582 | -122.9434 | 1114 | 10.62 | bike on rack | 1 | January 2013 | 93 | 549 |\n",
       "| wkd | 2013-01-02 | 2 | 1899-12-31 06:37:00 | 1899-12-31 06:20:00 | 11 | I | 26   | N/S of Main E of 50th                       | 44.04581 | -122.9433 | 1114 | 23.75 | bike on rack | 1 | January 2013 | 93 | 549 |\n",
       "\n"
      ],
      "text/plain": [
       "  srv date       block trip_end            time                route dir stop\n",
       "1 wkd 2013-01-02 1     1899-12-31 06:00:00 1899-12-31 05:23:00 91    O   9249\n",
       "2 wkd 2013-01-02 1     1899-12-31 09:25:00 1899-12-31 09:01:00 40    I   816 \n",
       "3 wkd 2013-01-02 1     1899-12-31 10:25:00 1899-12-31 10:11:00 36    I   404 \n",
       "4 wkd 2013-01-02 2     1899-12-31 05:21:00 1899-12-31 05:21:00 11    O   17  \n",
       "5 wkd 2013-01-02 2     1899-12-31 05:37:00 1899-12-31 05:26:00 11    I   26  \n",
       "6 wkd 2013-01-02 2     1899-12-31 06:37:00 1899-12-31 06:20:00 11    I   26  \n",
       "  stop_name                                   latitude longitude bus  odometer\n",
       "1 S/S of Hwy 126 (MP 23.41) E of Mt View Lane 44.13080 -122.6172 151  29.47   \n",
       "2 S/S of Royal W of Ruskin                    44.06990 -123.1671 151   8.20   \n",
       "3 S/S of 18th W of McKinley                   44.04052 -123.1305 151  23.13   \n",
       "4 N/S of Main E of 62nd Pl                    44.04573 -122.9181 1114  9.15   \n",
       "5 N/S of Main E of 50th                       44.04582 -122.9434 1114 10.62   \n",
       "6 N/S of Main E of 50th                       44.04581 -122.9433 1114 23.75   \n",
       "  desc         qty MonthYear    DailyRtQty DailyQty\n",
       "1 bike on rack 1   January 2013  3         549     \n",
       "2 bike on rack 1   January 2013 31         549     \n",
       "3 bike on rack 1   January 2013 20         549     \n",
       "4 bike on rack 2   January 2013 93         549     \n",
       "5 bike on rack 1   January 2013 93         549     \n",
       "6 bike on rack 1   January 2013 93         549     "
      ]
     },
     "metadata": {},
     "output_type": "display_data"
    }
   ],
   "source": [
    "head(data)"
   ]
  },
  {
   "cell_type": "code",
   "execution_count": 79,
   "id": "2e58397f",
   "metadata": {},
   "outputs": [
    {
     "data": {
      "text/html": [
       "<style>\n",
       ".list-inline {list-style: none; margin:0; padding: 0}\n",
       ".list-inline>li {display: inline-block}\n",
       ".list-inline>li:not(:last-child)::after {content: \"\\00b7\"; padding: 0 .5ex}\n",
       "</style>\n",
       "<ol class=list-inline><li>'srv'</li><li>'date'</li><li>'block'</li><li>'trip_end'</li><li>'time'</li><li>'route'</li><li>'dir'</li><li>'stop'</li><li>'stop_name'</li><li>'latitude'</li><li>'longitude'</li><li>'bus'</li><li>'odometer'</li><li>'desc'</li><li>'qty'</li><li>'MonthYear'</li><li>'DailyRtQty'</li><li>'DailyQty'</li></ol>\n"
      ],
      "text/latex": [
       "\\begin{enumerate*}\n",
       "\\item 'srv'\n",
       "\\item 'date'\n",
       "\\item 'block'\n",
       "\\item 'trip\\_end'\n",
       "\\item 'time'\n",
       "\\item 'route'\n",
       "\\item 'dir'\n",
       "\\item 'stop'\n",
       "\\item 'stop\\_name'\n",
       "\\item 'latitude'\n",
       "\\item 'longitude'\n",
       "\\item 'bus'\n",
       "\\item 'odometer'\n",
       "\\item 'desc'\n",
       "\\item 'qty'\n",
       "\\item 'MonthYear'\n",
       "\\item 'DailyRtQty'\n",
       "\\item 'DailyQty'\n",
       "\\end{enumerate*}\n"
      ],
      "text/markdown": [
       "1. 'srv'\n",
       "2. 'date'\n",
       "3. 'block'\n",
       "4. 'trip_end'\n",
       "5. 'time'\n",
       "6. 'route'\n",
       "7. 'dir'\n",
       "8. 'stop'\n",
       "9. 'stop_name'\n",
       "10. 'latitude'\n",
       "11. 'longitude'\n",
       "12. 'bus'\n",
       "13. 'odometer'\n",
       "14. 'desc'\n",
       "15. 'qty'\n",
       "16. 'MonthYear'\n",
       "17. 'DailyRtQty'\n",
       "18. 'DailyQty'\n",
       "\n",
       "\n"
      ],
      "text/plain": [
       " [1] \"srv\"        \"date\"       \"block\"      \"trip_end\"   \"time\"      \n",
       " [6] \"route\"      \"dir\"        \"stop\"       \"stop_name\"  \"latitude\"  \n",
       "[11] \"longitude\"  \"bus\"        \"odometer\"   \"desc\"       \"qty\"       \n",
       "[16] \"MonthYear\"  \"DailyRtQty\" \"DailyQty\"  "
      ]
     },
     "metadata": {},
     "output_type": "display_data"
    }
   ],
   "source": [
    "names(data)"
   ]
  },
  {
   "cell_type": "code",
   "execution_count": 44,
   "id": "21133425",
   "metadata": {},
   "outputs": [
    {
     "data": {
      "text/plain": [
       "[1] \"2013-01-02 UTC\" \"2020-12-31 UTC\""
      ]
     },
     "metadata": {},
     "output_type": "display_data"
    }
   ],
   "source": [
    "range(data$date)"
   ]
  },
  {
   "cell_type": "code",
   "execution_count": 8,
   "id": "ac5a2bbf",
   "metadata": {},
   "outputs": [
    {
     "name": "stderr",
     "output_type": "stream",
     "text": [
      "Warning message in OGRSpatialRef(dsn, layer, morphFromESRI = morphFromESRI, dumpSRS = dumpSRS, :\n",
      "\"Discarded ellps WGS 84 in Proj4 definition: +proj=merc +a=6378137 +b=6378137 +lat_ts=0 +lon_0=0 +x_0=0 +y_0=0 +k=1 +units=m +nadgrids=@null +wktext +no_defs\"\n",
      "Warning message in OGRSpatialRef(dsn, layer, morphFromESRI = morphFromESRI, dumpSRS = dumpSRS, :\n",
      "\"Discarded datum WGS_1984 in Proj4 definition: +proj=merc +a=6378137 +b=6378137 +lat_ts=0 +lon_0=0 +x_0=0 +y_0=0 +k=1 +units=m +nadgrids=@null +wktext +no_defs\"\n",
      "Warning message in showSRID(wkt2, \"PROJ\"):\n",
      "\"Discarded ellps WGS 84 in Proj4 definition: +proj=merc +a=6378137 +b=6378137 +lat_ts=0 +lon_0=0 +x_0=0 +y_0=0 +k=1 +units=m +nadgrids=@null +wktext +no_defs +type=crs\"\n",
      "Warning message in showSRID(wkt2, \"PROJ\"):\n",
      "\"Discarded datum World Geodetic System 1984 in Proj4 definition\"\n"
     ]
    },
    {
     "name": "stdout",
     "output_type": "stream",
     "text": [
      "OGR data source with driver: ESRI Shapefile \n",
      "Source: \"V:\\Data\\Transportation\", layer: \"MPO_Bound\"\n",
      "with 1 features\n",
      "It has 3 fields\n"
     ]
    }
   ],
   "source": [
    "MPOBound <- readOGR(dsn = \"V:/Data/Transportation\", layer=\"MPO_Bound\")"
   ]
  },
  {
   "cell_type": "code",
   "execution_count": 46,
   "id": "2bbe9dd8",
   "metadata": {},
   "outputs": [
    {
     "data": {
      "text/html": [
       "<style>\n",
       ".list-inline {list-style: none; margin:0; padding: 0}\n",
       ".list-inline>li {display: inline-block}\n",
       ".list-inline>li:not(:last-child)::after {content: \"\\00b7\"; padding: 0 .5ex}\n",
       "</style>\n",
       "<ol class=list-inline><li>849020</li><li>15</li></ol>\n"
      ],
      "text/latex": [
       "\\begin{enumerate*}\n",
       "\\item 849020\n",
       "\\item 15\n",
       "\\end{enumerate*}\n"
      ],
      "text/markdown": [
       "1. 849020\n",
       "2. 15\n",
       "\n",
       "\n"
      ],
      "text/plain": [
       "[1] 849020     15"
      ]
     },
     "metadata": {},
     "output_type": "display_data"
    }
   ],
   "source": [
    "dim(data)"
   ]
  },
  {
   "cell_type": "code",
   "execution_count": 47,
   "id": "0722fd96",
   "metadata": {},
   "outputs": [
    {
     "data": {
      "text/html": [
       "40"
      ],
      "text/latex": [
       "40"
      ],
      "text/markdown": [
       "40"
      ],
      "text/plain": [
       "[1] 40"
      ]
     },
     "metadata": {},
     "output_type": "display_data"
    }
   ],
   "source": [
    "length(unique(data$route))"
   ]
  },
  {
   "cell_type": "code",
   "execution_count": 126,
   "id": "3834b158",
   "metadata": {},
   "outputs": [],
   "source": [
    "aggdata <- aggregate(x=list(qty = data$qty), by=list(stop_name = data$stop_name), FUN=sum)"
   ]
  },
  {
   "cell_type": "code",
   "execution_count": 127,
   "id": "cd76048d",
   "metadata": {},
   "outputs": [],
   "source": [
    "locdata <- aggregate(x=list(latitude = data$latitude, longitude= data$longitude), \n",
    "                     by=list(stop_name = data$stop_name), FUN=first)"
   ]
  },
  {
   "cell_type": "code",
   "execution_count": 128,
   "id": "b4a93e32",
   "metadata": {},
   "outputs": [],
   "source": [
    "aggdata <- merge(aggdata, locdata, by='stop_name')"
   ]
  },
  {
   "cell_type": "code",
   "execution_count": 129,
   "id": "52991a83",
   "metadata": {
    "scrolled": true
   },
   "outputs": [],
   "source": [
    "spdf <- df2spdf(aggdata, 'longitude', 'latitude')"
   ]
  },
  {
   "cell_type": "code",
   "execution_count": 130,
   "id": "0ca33af8",
   "metadata": {},
   "outputs": [
    {
     "data": {
      "image/png": "[encoded data removed]",
      "text/plain": [
       "plot without title"
      ]
     },
     "metadata": {
      "image/png": {
       "height": 720,
       "width": 720
      }
     },
     "output_type": "display_data"
    }
   ],
   "source": [
    "options(repr.plot.width=12, repr.plot.height=12)\n",
    "par(mfrow=c(1,1),mar=c(0,0,2,0))\n",
    "plot(MPOBound)\n",
    "plot(spdf, add=TRUE, col='grey')\n",
    "points(spdf$longitude, spdf$latitude, cex=spdf$qty/2000)"
   ]
  },
  {
   "cell_type": "code",
   "execution_count": 137,
   "id": "41b81f05",
   "metadata": {},
   "outputs": [],
   "source": [
    "spdf@data <- spdf@data[!grepl(paste(c(\"Springfield Station, Bay\", \"Eugene Station, Bay\"),collapse = \"|\"), spdf@data$stop_name),]"
   ]
  },
  {
   "cell_type": "code",
   "execution_count": 140,
   "id": "4af8f086",
   "metadata": {},
   "outputs": [
    {
     "data": {
      "image/png": "[encoded data removed]",
      "text/plain": [
       "plot without title"
      ]
     },
     "metadata": {
      "image/png": {
       "height": 720,
       "width": 720
      }
     },
     "output_type": "display_data"
    }
   ],
   "source": [
    "par(mfrow=c(1,1),mar=c(0,0,2,0))\n",
    "plot(MPOBound)\n",
    "plot(spdf, add=TRUE, col='grey')\n",
    "points(spdf$longitude, spdf$latitude, cex=spdf$qty/500)"
   ]
  },
  {
   "cell_type": "code",
   "execution_count": 80,
   "id": "18dd623b",
   "metadata": {},
   "outputs": [],
   "source": [
    "outdata <- aggregate(x=list(Counts = data$qty), by=list(Year = year(data$date), Location = data$stop_name), FUN=sum)"
   ]
  },
  {
   "cell_type": "code",
   "execution_count": 88,
   "id": "8bf934f3",
   "metadata": {},
   "outputs": [],
   "source": [
    "names(locdata) <- c('Location', 'Latitude', 'Longitude')"
   ]
  },
  {
   "cell_type": "code",
   "execution_count": 89,
   "id": "c9ed1647",
   "metadata": {},
   "outputs": [],
   "source": [
    "outdata <- merge(outdata, locdata, by = 'Location')"
   ]
  },
  {
   "cell_type": "code",
   "execution_count": 90,
   "id": "b7e711d4",
   "metadata": {},
   "outputs": [
    {
     "data": {
      "text/html": [
       "<style>\n",
       ".list-inline {list-style: none; margin:0; padding: 0}\n",
       ".list-inline>li {display: inline-block}\n",
       ".list-inline>li:not(:last-child)::after {content: \"\\00b7\"; padding: 0 .5ex}\n",
       "</style>\n",
       "<ol class=list-inline><li>8982</li><li>5</li></ol>\n"
      ],
      "text/latex": [
       "\\begin{enumerate*}\n",
       "\\item 8982\n",
       "\\item 5\n",
       "\\end{enumerate*}\n"
      ],
      "text/markdown": [
       "1. 8982\n",
       "2. 5\n",
       "\n",
       "\n"
      ],
      "text/plain": [
       "[1] 8982    5"
      ]
     },
     "metadata": {},
     "output_type": "display_data"
    }
   ],
   "source": [
    "dim(outdata)"
   ]
  },
  {
   "cell_type": "code",
   "execution_count": 107,
   "id": "d727698b",
   "metadata": {},
   "outputs": [],
   "source": [
    "outdata <- outdata[rev(order(outdata$Counts)),]"
   ]
  },
  {
   "cell_type": "code",
   "execution_count": 119,
   "id": "77b22c2f",
   "metadata": {},
   "outputs": [],
   "source": [
    "sdata <- outdata[!grepl(paste(c(\"Springfield Station, Bay\", \"Eugene Station, Bay\"),collapse = \"|\"), outdata$Location),]"
   ]
  },
  {
   "cell_type": "code",
   "execution_count": 120,
   "id": "bcb28b16",
   "metadata": {},
   "outputs": [
    {
     "data": {
      "text/html": [
       "<table class=\"dataframe\">\n",
       "<caption>A data.frame: 6 × 6</caption>\n",
       "<thead>\n",
       "\t<tr><th></th><th scope=col>Location</th><th scope=col>Year</th><th scope=col>Counts</th><th scope=col>Latitude</th><th scope=col>Longitude</th><th scope=col>Growth</th></tr>\n",
       "\t<tr><th></th><th scope=col>&lt;chr&gt;</th><th scope=col>&lt;dbl&gt;</th><th scope=col>&lt;dbl&gt;</th><th scope=col>&lt;dbl&gt;</th><th scope=col>&lt;dbl&gt;</th><th scope=col>&lt;dbl&gt;</th></tr>\n",
       "</thead>\n",
       "<tbody>\n",
       "\t<tr><th scope=row>2387</th><td>LCC Station Bay C        </td><td>2013</td><td>2019</td><td>44.00978</td><td>-123.0351</td><td>         NA</td></tr>\n",
       "\t<tr><th scope=row>6925</th><td><span style=white-space:pre-wrap>Seneca Park &amp; Ride       </span></td><td>2016</td><td>1811</td><td>44.04908</td><td>-123.1410</td><td>0.074139976</td></tr>\n",
       "\t<tr><th scope=row>2389</th><td>LCC Station Bay C        </td><td>2015</td><td>1732</td><td>44.00978</td><td>-123.0351</td><td>0.114543115</td></tr>\n",
       "\t<tr><th scope=row>6922</th><td><span style=white-space:pre-wrap>Seneca Park &amp; Ride       </span></td><td>2013</td><td>1704</td><td>44.04908</td><td>-123.1410</td><td><span style=white-space:pre-wrap>         NA</span></td></tr>\n",
       "\t<tr><th scope=row>137</th><td>Commerce Station Outbound</td><td>2019</td><td>1694</td><td>44.04800</td><td>-123.1705</td><td>0.461604832</td></tr>\n",
       "\t<tr><th scope=row>6924</th><td><span style=white-space:pre-wrap>Seneca Park &amp; Ride       </span></td><td>2015</td><td>1686</td><td>44.04908</td><td>-123.1410</td><td>0.001187648</td></tr>\n",
       "</tbody>\n",
       "</table>\n"
      ],
      "text/latex": [
       "A data.frame: 6 × 6\n",
       "\\begin{tabular}{r|llllll}\n",
       "  & Location & Year & Counts & Latitude & Longitude & Growth\\\\\n",
       "  & <chr> & <dbl> & <dbl> & <dbl> & <dbl> & <dbl>\\\\\n",
       "\\hline\n",
       "\t2387 & LCC Station Bay C         & 2013 & 2019 & 44.00978 & -123.0351 &          NA\\\\\n",
       "\t6925 & Seneca Park \\& Ride        & 2016 & 1811 & 44.04908 & -123.1410 & 0.074139976\\\\\n",
       "\t2389 & LCC Station Bay C         & 2015 & 1732 & 44.00978 & -123.0351 & 0.114543115\\\\\n",
       "\t6922 & Seneca Park \\& Ride        & 2013 & 1704 & 44.04908 & -123.1410 &          NA\\\\\n",
       "\t137 & Commerce Station Outbound & 2019 & 1694 & 44.04800 & -123.1705 & 0.461604832\\\\\n",
       "\t6924 & Seneca Park \\& Ride        & 2015 & 1686 & 44.04908 & -123.1410 & 0.001187648\\\\\n",
       "\\end{tabular}\n"
      ],
      "text/markdown": [
       "\n",
       "A data.frame: 6 × 6\n",
       "\n",
       "| <!--/--> | Location &lt;chr&gt; | Year &lt;dbl&gt; | Counts &lt;dbl&gt; | Latitude &lt;dbl&gt; | Longitude &lt;dbl&gt; | Growth &lt;dbl&gt; |\n",
       "|---|---|---|---|---|---|---|\n",
       "| 2387 | LCC Station Bay C         | 2013 | 2019 | 44.00978 | -123.0351 |          NA |\n",
       "| 6925 | Seneca Park &amp; Ride        | 2016 | 1811 | 44.04908 | -123.1410 | 0.074139976 |\n",
       "| 2389 | LCC Station Bay C         | 2015 | 1732 | 44.00978 | -123.0351 | 0.114543115 |\n",
       "| 6922 | Seneca Park &amp; Ride        | 2013 | 1704 | 44.04908 | -123.1410 |          NA |\n",
       "| 137 | Commerce Station Outbound | 2019 | 1694 | 44.04800 | -123.1705 | 0.461604832 |\n",
       "| 6924 | Seneca Park &amp; Ride        | 2015 | 1686 | 44.04908 | -123.1410 | 0.001187648 |\n",
       "\n"
      ],
      "text/plain": [
       "     Location                  Year Counts Latitude Longitude Growth     \n",
       "2387 LCC Station Bay C         2013 2019   44.00978 -123.0351          NA\n",
       "6925 Seneca Park & Ride        2016 1811   44.04908 -123.1410 0.074139976\n",
       "2389 LCC Station Bay C         2015 1732   44.00978 -123.0351 0.114543115\n",
       "6922 Seneca Park & Ride        2013 1704   44.04908 -123.1410          NA\n",
       "137  Commerce Station Outbound 2019 1694   44.04800 -123.1705 0.461604832\n",
       "6924 Seneca Park & Ride        2015 1686   44.04908 -123.1410 0.001187648"
      ]
     },
     "metadata": {},
     "output_type": "display_data"
    }
   ],
   "source": [
    "head(sdata[rev(order(sdata$Counts)),])"
   ]
  },
  {
   "cell_type": "code",
   "execution_count": 121,
   "id": "1093b359",
   "metadata": {},
   "outputs": [
    {
     "data": {
      "image/png": "[encoded data removed]",
      "text/plain": [
       "plot without title"
      ]
     },
     "metadata": {
      "image/png": {
       "height": 480,
       "width": 480
      }
     },
     "output_type": "display_data"
    }
   ],
   "source": [
    "options(repr.plot.width=8, repr.plot.height=8)\n",
    "boxplot(Counts~Year,data=sdata)"
   ]
  },
  {
   "cell_type": "code",
   "execution_count": 92,
   "id": "71b8c65d",
   "metadata": {},
   "outputs": [],
   "source": [
    "outdata$Growth <- with(outdata[,c('Location', 'Year', 'Counts')], ave(Counts, Location, \n",
    "                      FUN=function(x) c(NA, diff(x)/x[-length(x)]) ))"
   ]
  },
  {
   "cell_type": "code",
   "execution_count": 122,
   "id": "1b7dd400",
   "metadata": {},
   "outputs": [
    {
     "data": {
      "image/png": "[encoded data removed]",
      "text/plain": [
       "plot without title"
      ]
     },
     "metadata": {
      "image/png": {
       "height": 480,
       "width": 480
      }
     },
     "output_type": "display_data"
    }
   ],
   "source": [
    "boxplot(Growth~Year,data=sdata)\n",
    "abline(h=0, col='red', lwd=2, lty=2)"
   ]
  }
 ],
 "metadata": {
  "kernelspec": {
   "display_name": "R",
   "language": "R",
   "name": "ir"
  },
  "language_info": {
   "codemirror_mode": "r",
   "file_extension": ".r",
   "mimetype": "text/x-r-source",
   "name": "R",
   "pygments_lexer": "r",
   "version": "4.0.3"
  }
 },
 "nbformat": 4,
 "nbformat_minor": 5
}
