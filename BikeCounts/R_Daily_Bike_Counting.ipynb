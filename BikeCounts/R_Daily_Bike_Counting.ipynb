{
 "cells": [
  {
   "cell_type": "code",
   "execution_count": 1,
   "id": "5a777846",
   "metadata": {},
   "outputs": [],
   "source": [
    "options(warn = -1)"
   ]
  },
  {
   "cell_type": "code",
   "execution_count": 2,
   "id": "b85fce86",
   "metadata": {},
   "outputs": [
    {
     "name": "stderr",
     "output_type": "stream",
     "text": [
      "\n",
      "Attaching package: 'lubridate'\n",
      "\n",
      "\n",
      "The following objects are masked from 'package:base':\n",
      "\n",
      "    date, intersect, setdiff, union\n",
      "\n",
      "\n",
      "Loading required package: sp\n",
      "\n",
      "rgdal: version: 1.5-23, (SVN revision 1121)\n",
      "Geospatial Data Abstraction Library extensions to R successfully loaded\n",
      "Loaded GDAL runtime: GDAL 3.2.1, released 2020/12/29\n",
      "Path to GDAL shared files: C:/Users/clid1852/Documents/R/win-library/4.0/rgdal/gdal\n",
      "GDAL binary built with GEOS: TRUE \n",
      "Loaded PROJ runtime: Rel. 7.2.1, January 1st, 2021, [PJ_VERSION: 721]\n",
      "Path to PROJ shared files: C:/Users/clid1852/Documents/R/win-library/4.0/rgdal/proj\n",
      "PROJ CDN enabled: TRUE\n",
      "Linking to sp version:1.4-5\n",
      "To mute warnings of possible GDAL/OSR exportToProj4() degradation,\n",
      "use options(\"rgdal_show_exportToProj4_warnings\"=\"none\") before loading rgdal.\n",
      "Overwritten PROJ_LIB was C:/Users/clid1852/Documents/R/win-library/4.0/rgdal/proj\n",
      "\n"
     ]
    }
   ],
   "source": [
    "library(lubridate)\n",
    "library(rgdal)"
   ]
  },
  {
   "cell_type": "code",
   "execution_count": 3,
   "id": "512a35b7",
   "metadata": {},
   "outputs": [],
   "source": [
    "inpath <- 'T:/Data/COUNTS/Nonmotorized Counts/Summary Tables/Bicycle/'"
   ]
  },
  {
   "cell_type": "code",
   "execution_count": 4,
   "id": "38432429",
   "metadata": {},
   "outputs": [],
   "source": [
    "rawdata <- read.csv(paste0(inpath, 'Bicycle_HourlyForTableau.csv'))"
   ]
  },
  {
   "cell_type": "code",
   "execution_count": 5,
   "id": "1a14ba4d",
   "metadata": {},
   "outputs": [
    {
     "data": {
      "text/html": [
       "<style>\n",
       ".list-inline {list-style: none; margin:0; padding: 0}\n",
       ".list-inline>li {display: inline-block}\n",
       ".list-inline>li:not(:last-child)::after {content: \"\\00b7\"; padding: 0 .5ex}\n",
       "</style>\n",
       "<ol class=list-inline><li>'Direction'</li><li>'ObsHours'</li><li>'Location'</li><li>'LocationId'</li><li>'Day'</li><li>'Month'</li><li>'MonthDesc'</li><li>'Year'</li><li>'Date'</li><li>'Season'</li><li>'Weekday'</li><li>'IsHoliday'</li><li>'Period'</li><li>'DailyCounts'</li><li>'IsOneway'</li><li>'OnewayDirection'</li><li>'IsSidewalk'</li><li>'UoInSession'</li><li>'IsSpecialEvent'</li><li>'UniqueId'</li><li>'Hour'</li><li>'Hourly_Count'</li></ol>\n"
      ],
      "text/latex": [
       "\\begin{enumerate*}\n",
       "\\item 'Direction'\n",
       "\\item 'ObsHours'\n",
       "\\item 'Location'\n",
       "\\item 'LocationId'\n",
       "\\item 'Day'\n",
       "\\item 'Month'\n",
       "\\item 'MonthDesc'\n",
       "\\item 'Year'\n",
       "\\item 'Date'\n",
       "\\item 'Season'\n",
       "\\item 'Weekday'\n",
       "\\item 'IsHoliday'\n",
       "\\item 'Period'\n",
       "\\item 'DailyCounts'\n",
       "\\item 'IsOneway'\n",
       "\\item 'OnewayDirection'\n",
       "\\item 'IsSidewalk'\n",
       "\\item 'UoInSession'\n",
       "\\item 'IsSpecialEvent'\n",
       "\\item 'UniqueId'\n",
       "\\item 'Hour'\n",
       "\\item 'Hourly\\_Count'\n",
       "\\end{enumerate*}\n"
      ],
      "text/markdown": [
       "1. 'Direction'\n",
       "2. 'ObsHours'\n",
       "3. 'Location'\n",
       "4. 'LocationId'\n",
       "5. 'Day'\n",
       "6. 'Month'\n",
       "7. 'MonthDesc'\n",
       "8. 'Year'\n",
       "9. 'Date'\n",
       "10. 'Season'\n",
       "11. 'Weekday'\n",
       "12. 'IsHoliday'\n",
       "13. 'Period'\n",
       "14. 'DailyCounts'\n",
       "15. 'IsOneway'\n",
       "16. 'OnewayDirection'\n",
       "17. 'IsSidewalk'\n",
       "18. 'UoInSession'\n",
       "19. 'IsSpecialEvent'\n",
       "20. 'UniqueId'\n",
       "21. 'Hour'\n",
       "22. 'Hourly_Count'\n",
       "\n",
       "\n"
      ],
      "text/plain": [
       " [1] \"Direction\"       \"ObsHours\"        \"Location\"        \"LocationId\"     \n",
       " [5] \"Day\"             \"Month\"           \"MonthDesc\"       \"Year\"           \n",
       " [9] \"Date\"            \"Season\"          \"Weekday\"         \"IsHoliday\"      \n",
       "[13] \"Period\"          \"DailyCounts\"     \"IsOneway\"        \"OnewayDirection\"\n",
       "[17] \"IsSidewalk\"      \"UoInSession\"     \"IsSpecialEvent\"  \"UniqueId\"       \n",
       "[21] \"Hour\"            \"Hourly_Count\"   "
      ]
     },
     "metadata": {},
     "output_type": "display_data"
    }
   ],
   "source": [
    "names(rawdata)"
   ]
  },
  {
   "cell_type": "code",
   "execution_count": 6,
   "id": "be186249",
   "metadata": {},
   "outputs": [],
   "source": [
    "#rawdata$Season <- ifelse(rawdata$MonthDesc == \"September\", \"Fall\", rawdata$Season)"
   ]
  },
  {
   "cell_type": "code",
   "execution_count": 7,
   "id": "c117f90d",
   "metadata": {},
   "outputs": [],
   "source": [
    "year <- 2021"
   ]
  },
  {
   "cell_type": "code",
   "execution_count": 8,
   "id": "482c0063",
   "metadata": {},
   "outputs": [],
   "source": [
    "data <- rawdata[rawdata$Year == year & rawdata$Direction == \"Total\" & rawdata$ObsHours == 24,]"
   ]
  },
  {
   "cell_type": "code",
   "execution_count": 9,
   "id": "b5107337",
   "metadata": {},
   "outputs": [],
   "source": [
    "locdata <- read.csv(\"T:/Data/COUNTS/Nonmotorized Counts/Supporting Data/Supporting Bicycle Data/CountLocationInformation.csv\")"
   ]
  },
  {
   "cell_type": "code",
   "execution_count": 10,
   "id": "c907b7dd",
   "metadata": {},
   "outputs": [
    {
     "data": {
      "text/html": [
       "<style>\n",
       ".list-inline {list-style: none; margin:0; padding: 0}\n",
       ".list-inline>li {display: inline-block}\n",
       ".list-inline>li:not(:last-child)::after {content: \"\\00b7\"; padding: 0 .5ex}\n",
       "</style>\n",
       "<ol class=list-inline><li>'LocationId'</li><li>'CountType'</li><li>'Direction'</li><li>'FacilityType'</li><li>'ArrowAngle'</li><li>'RoadWidth'</li><li>'IsAutomatic'</li><li>'Location'</li><li>'HasData'</li><li>'City'</li><li>'DoubleCountLocation'</li><li>'IsOneway'</li><li>'OnewayDirection'</li><li>'IsSidewalk'</li><li>'Latitude'</li><li>'Longitude'</li><li>'ImageFilePath'</li><li>'Site_Name'</li><li>'Location_Description'</li><li>'TAZ'</li><li>'Visual'</li></ol>\n"
      ],
      "text/latex": [
       "\\begin{enumerate*}\n",
       "\\item 'LocationId'\n",
       "\\item 'CountType'\n",
       "\\item 'Direction'\n",
       "\\item 'FacilityType'\n",
       "\\item 'ArrowAngle'\n",
       "\\item 'RoadWidth'\n",
       "\\item 'IsAutomatic'\n",
       "\\item 'Location'\n",
       "\\item 'HasData'\n",
       "\\item 'City'\n",
       "\\item 'DoubleCountLocation'\n",
       "\\item 'IsOneway'\n",
       "\\item 'OnewayDirection'\n",
       "\\item 'IsSidewalk'\n",
       "\\item 'Latitude'\n",
       "\\item 'Longitude'\n",
       "\\item 'ImageFilePath'\n",
       "\\item 'Site\\_Name'\n",
       "\\item 'Location\\_Description'\n",
       "\\item 'TAZ'\n",
       "\\item 'Visual'\n",
       "\\end{enumerate*}\n"
      ],
      "text/markdown": [
       "1. 'LocationId'\n",
       "2. 'CountType'\n",
       "3. 'Direction'\n",
       "4. 'FacilityType'\n",
       "5. 'ArrowAngle'\n",
       "6. 'RoadWidth'\n",
       "7. 'IsAutomatic'\n",
       "8. 'Location'\n",
       "9. 'HasData'\n",
       "10. 'City'\n",
       "11. 'DoubleCountLocation'\n",
       "12. 'IsOneway'\n",
       "13. 'OnewayDirection'\n",
       "14. 'IsSidewalk'\n",
       "15. 'Latitude'\n",
       "16. 'Longitude'\n",
       "17. 'ImageFilePath'\n",
       "18. 'Site_Name'\n",
       "19. 'Location_Description'\n",
       "20. 'TAZ'\n",
       "21. 'Visual'\n",
       "\n",
       "\n"
      ],
      "text/plain": [
       " [1] \"LocationId\"           \"CountType\"            \"Direction\"           \n",
       " [4] \"FacilityType\"         \"ArrowAngle\"           \"RoadWidth\"           \n",
       " [7] \"IsAutomatic\"          \"Location\"             \"HasData\"             \n",
       "[10] \"City\"                 \"DoubleCountLocation\"  \"IsOneway\"            \n",
       "[13] \"OnewayDirection\"      \"IsSidewalk\"           \"Latitude\"            \n",
       "[16] \"Longitude\"            \"ImageFilePath\"        \"Site_Name\"           \n",
       "[19] \"Location_Description\" \"TAZ\"                  \"Visual\"              "
      ]
     },
     "metadata": {},
     "output_type": "display_data"
    }
   ],
   "source": [
    "names(locdata)"
   ]
  },
  {
   "cell_type": "code",
   "execution_count": 11,
   "id": "638035b2",
   "metadata": {},
   "outputs": [],
   "source": [
    "locvars <- c('CountType', 'Direction', 'FacilityType', 'RoadWidth', 'City', \n",
    "             'Location', 'Latitude', 'Longitude', 'Site_Name', \n",
    "             'DoubleCountLocation', 'IsOneway', 'OnewayDirection', \n",
    "             'IsSidewalk', 'Location_Description')"
   ]
  },
  {
   "cell_type": "code",
   "execution_count": 12,
   "id": "1339fcff",
   "metadata": {},
   "outputs": [],
   "source": [
    "data$Date <- as.Date(data$Date, \"%Y-%m-%d\")"
   ]
  },
  {
   "cell_type": "code",
   "execution_count": 13,
   "id": "21278d73",
   "metadata": {},
   "outputs": [
    {
     "data": {
      "text/html": [
       "<style>\n",
       ".list-inline {list-style: none; margin:0; padding: 0}\n",
       ".list-inline>li {display: inline-block}\n",
       ".list-inline>li:not(:last-child)::after {content: \"\\00b7\"; padding: 0 .5ex}\n",
       "</style>\n",
       "<ol class=list-inline><li><time datetime=\"2021-01-01\">2021-01-01</time></li><li><time datetime=\"2021-12-30\">2021-12-30</time></li></ol>\n"
      ],
      "text/latex": [
       "\\begin{enumerate*}\n",
       "\\item 2021-01-01\n",
       "\\item 2021-12-30\n",
       "\\end{enumerate*}\n"
      ],
      "text/markdown": [
       "1. 2021-01-01\n",
       "2. 2021-12-30\n",
       "\n",
       "\n"
      ],
      "text/plain": [
       "[1] \"2021-01-01\" \"2021-12-30\""
      ]
     },
     "metadata": {},
     "output_type": "display_data"
    }
   ],
   "source": [
    "range(data$Date)"
   ]
  },
  {
   "cell_type": "code",
   "execution_count": 14,
   "id": "f11fd252",
   "metadata": {},
   "outputs": [],
   "source": [
    "aggdata <- aggregate(x=list(DailyCounts = data$Hourly_Count), \n",
    "                     by=list(Date = data$Date, Location = data$Location), \n",
    "                     FUN=sum, na.rm=TRUE)"
   ]
  },
  {
   "cell_type": "code",
   "execution_count": 15,
   "id": "4f158d78",
   "metadata": {},
   "outputs": [],
   "source": [
    "no_days <- aggregate(x=list(ObsDays = data$Date), \n",
    "                     by=list(Location = data$Location), \n",
    "                     FUN=function(x) length(unique(x)))"
   ]
  },
  {
   "cell_type": "code",
   "execution_count": 16,
   "id": "f9fcc25e",
   "metadata": {},
   "outputs": [],
   "source": [
    "datedata <- unique(data[,c(\"Date\", \"Month\", \"MonthDesc\", \"Season\", \"Weekday\", \"IsHoliday\", \"UoInSession\", \"IsSpecialEvent\")])"
   ]
  },
  {
   "cell_type": "code",
   "execution_count": 17,
   "id": "089747e5",
   "metadata": {},
   "outputs": [],
   "source": [
    "ave_daily_cnt <- aggregate(x=list(AveDailyCnt = aggdata$DailyCounts), \n",
    "                     by=list(Location = aggdata$Location), \n",
    "                     FUN=mean)"
   ]
  },
  {
   "cell_type": "code",
   "execution_count": 18,
   "id": "90aca92b",
   "metadata": {},
   "outputs": [],
   "source": [
    "AveDailyCnt <- merge(ave_daily_cnt, no_days, by=\"Location\")"
   ]
  },
  {
   "cell_type": "code",
   "execution_count": 19,
   "id": "d89ef859",
   "metadata": {},
   "outputs": [],
   "source": [
    "AveDailyCnt <- merge(AveDailyCnt, locdata[,locvars], by = 'Location')"
   ]
  },
  {
   "cell_type": "code",
   "execution_count": 20,
   "id": "fbeaa387",
   "metadata": {},
   "outputs": [
    {
     "data": {
      "text/html": [
       "<style>\n",
       ".list-inline {list-style: none; margin:0; padding: 0}\n",
       ".list-inline>li {display: inline-block}\n",
       ".list-inline>li:not(:last-child)::after {content: \"\\00b7\"; padding: 0 .5ex}\n",
       "</style>\n",
       "<ol class=list-inline><li>14.7857142857143</li><li>735.5</li></ol>\n"
      ],
      "text/latex": [
       "\\begin{enumerate*}\n",
       "\\item 14.7857142857143\n",
       "\\item 735.5\n",
       "\\end{enumerate*}\n"
      ],
      "text/markdown": [
       "1. 14.7857142857143\n",
       "2. 735.5\n",
       "\n",
       "\n"
      ],
      "text/plain": [
       "[1]  14.78571 735.50000"
      ]
     },
     "metadata": {},
     "output_type": "display_data"
    }
   ],
   "source": [
    "range(AveDailyCnt$AveDailyCnt)"
   ]
  },
  {
   "cell_type": "code",
   "execution_count": 21,
   "id": "bb49c8d9",
   "metadata": {},
   "outputs": [],
   "source": [
    "AveDailyCnt$Pct <- AveDailyCnt$ObsDays / 3.65"
   ]
  },
  {
   "cell_type": "code",
   "execution_count": 22,
   "id": "153aee66",
   "metadata": {},
   "outputs": [
    {
     "data": {
      "text/html": [
       "<style>\n",
       ".list-inline {list-style: none; margin:0; padding: 0}\n",
       ".list-inline>li {display: inline-block}\n",
       ".list-inline>li:not(:last-child)::after {content: \"\\00b7\"; padding: 0 .5ex}\n",
       "</style>\n",
       "<ol class=list-inline><li>2</li><li>364</li></ol>\n"
      ],
      "text/latex": [
       "\\begin{enumerate*}\n",
       "\\item 2\n",
       "\\item 364\n",
       "\\end{enumerate*}\n"
      ],
      "text/markdown": [
       "1. 2\n",
       "2. 364\n",
       "\n",
       "\n"
      ],
      "text/plain": [
       "[1]   2 364"
      ]
     },
     "metadata": {},
     "output_type": "display_data"
    }
   ],
   "source": [
    "range(AveDailyCnt$ObsDays)"
   ]
  },
  {
   "cell_type": "code",
   "execution_count": 23,
   "id": "36fbf565",
   "metadata": {},
   "outputs": [
    {
     "data": {
      "text/html": [
       "0.104477611940299"
      ],
      "text/latex": [
       "0.104477611940299"
      ],
      "text/markdown": [
       "0.104477611940299"
      ],
      "text/plain": [
       "[1] 0.1044776"
      ]
     },
     "metadata": {},
     "output_type": "display_data"
    }
   ],
   "source": [
    "dim(AveDailyCnt[AveDailyCnt$ObsDays == max(AveDailyCnt$ObsDays),])[1]/dim(AveDailyCnt)[1]"
   ]
  },
  {
   "cell_type": "code",
   "execution_count": 24,
   "id": "3b0f886a",
   "metadata": {},
   "outputs": [
    {
     "data": {
      "text/html": [
       "67"
      ],
      "text/latex": [
       "67"
      ],
      "text/markdown": [
       "67"
      ],
      "text/plain": [
       "[1] 67"
      ]
     },
     "metadata": {},
     "output_type": "display_data"
    }
   ],
   "source": [
    "length(AveDailyCnt$Site_Name)"
   ]
  },
  {
   "cell_type": "code",
   "execution_count": 25,
   "id": "75d72038",
   "metadata": {},
   "outputs": [
    {
     "data": {
      "text/html": [
       "16"
      ],
      "text/latex": [
       "16"
      ],
      "text/markdown": [
       "16"
      ],
      "text/plain": [
       "[1] 16"
      ]
     },
     "metadata": {},
     "output_type": "display_data"
    }
   ],
   "source": [
    "length(AveDailyCnt[AveDailyCnt$ObsDays >= 200,\"Site_Name\"])"
   ]
  },
  {
   "cell_type": "code",
   "execution_count": 26,
   "id": "e55fcfe8",
   "metadata": {},
   "outputs": [
    {
     "data": {
      "text/html": [
       "<style>\n",
       ".list-inline {list-style: none; margin:0; padding: 0}\n",
       ".list-inline>li {display: inline-block}\n",
       ".list-inline>li:not(:last-child)::after {content: \"\\00b7\"; padding: 0 .5ex}\n",
       "</style>\n",
       "<ol class=list-inline><li>'Alder St North of 18th Ave'</li><li>'Alder St South of Franklin Blvd'</li><li>'EWEB Path East of 5th St'</li><li>'Fern Ridge Path East of Commerace Connector Bridge'</li><li>'Frohnmayer Bridge south Terminus'</li><li>'Rosa Parks Path South of Q St'</li><li>'Southbank Path West of Knickerbocker Bridge'</li></ol>\n"
      ],
      "text/latex": [
       "\\begin{enumerate*}\n",
       "\\item 'Alder St North of 18th Ave'\n",
       "\\item 'Alder St South of Franklin Blvd'\n",
       "\\item 'EWEB Path East of 5th St'\n",
       "\\item 'Fern Ridge Path East of Commerace Connector Bridge'\n",
       "\\item 'Frohnmayer Bridge south Terminus'\n",
       "\\item 'Rosa Parks Path South of Q St'\n",
       "\\item 'Southbank Path West of Knickerbocker Bridge'\n",
       "\\end{enumerate*}\n"
      ],
      "text/markdown": [
       "1. 'Alder St North of 18th Ave'\n",
       "2. 'Alder St South of Franklin Blvd'\n",
       "3. 'EWEB Path East of 5th St'\n",
       "4. 'Fern Ridge Path East of Commerace Connector Bridge'\n",
       "5. 'Frohnmayer Bridge south Terminus'\n",
       "6. 'Rosa Parks Path South of Q St'\n",
       "7. 'Southbank Path West of Knickerbocker Bridge'\n",
       "\n",
       "\n"
      ],
      "text/plain": [
       "[1] \"Alder St North of 18th Ave\"                        \n",
       "[2] \"Alder St South of Franklin Blvd\"                   \n",
       "[3] \"EWEB Path East of 5th St\"                          \n",
       "[4] \"Fern Ridge Path East of Commerace Connector Bridge\"\n",
       "[5] \"Frohnmayer Bridge south Terminus\"                  \n",
       "[6] \"Rosa Parks Path South of Q St\"                     \n",
       "[7] \"Southbank Path West of Knickerbocker Bridge\"       "
      ]
     },
     "metadata": {},
     "output_type": "display_data"
    }
   ],
   "source": [
    "AveDailyCnt[AveDailyCnt$ObsDays == max(AveDailyCnt$ObsDays),\"Site_Name\"]"
   ]
  },
  {
   "cell_type": "code",
   "execution_count": 27,
   "id": "b58a81e3",
   "metadata": {},
   "outputs": [],
   "source": [
    "aggdata <- merge(aggdata, datedata, by=\"Date\")"
   ]
  },
  {
   "cell_type": "code",
   "execution_count": 28,
   "id": "5b8744fa",
   "metadata": {},
   "outputs": [],
   "source": [
    "aggdata <- merge(aggdata, locdata[,locvars], by = 'Location')"
   ]
  },
  {
   "cell_type": "code",
   "execution_count": 29,
   "id": "8a333453",
   "metadata": {},
   "outputs": [],
   "source": [
    "aggdata$SeasonOrder <- ifelse(aggdata$Season == \"Spring\", 1, \n",
    "                              ifelse(aggdata$Season == \"Summer\", 2, \n",
    "                                     ifelse(aggdata$Season == \"Fall\", 3, 4)))"
   ]
  },
  {
   "cell_type": "code",
   "execution_count": 30,
   "id": "0875d445",
   "metadata": {},
   "outputs": [],
   "source": [
    "aggdata$WeekdayOrder <- ifelse(aggdata$Weekday == \"Monday\", 1, \n",
    "                              ifelse(aggdata$Weekday == \"Tuesday\", 2, \n",
    "                                     ifelse(aggdata$Weekday == \"Wednesday\", 3, \n",
    "                                     ifelse(aggdata$Weekday == \"Thursday\", 4, \n",
    "                                            ifelse(aggdata$Weekday == \"Friday\", 5, \n",
    "                                                ifelse(aggdata$Weekday == \"Saturday\", 6, 7))))))"
   ]
  },
  {
   "cell_type": "code",
   "execution_count": 31,
   "id": "c46c2c53",
   "metadata": {},
   "outputs": [],
   "source": [
    "outpath <- \"T:/DCProjects/StoryMap/BikeCounting/BikeCounts/Output\""
   ]
  },
  {
   "cell_type": "code",
   "execution_count": 32,
   "id": "b357c15d",
   "metadata": {},
   "outputs": [],
   "source": [
    "write.csv(aggdata, paste0(outpath, \"/Daily_Bike_Counts_\", year, \".csv\"), row.names = FALSE)"
   ]
  },
  {
   "cell_type": "code",
   "execution_count": 33,
   "id": "52e77d1e",
   "metadata": {},
   "outputs": [
    {
     "name": "stdout",
     "output_type": "stream",
     "text": [
      "OGR data source with driver: ESRI Shapefile \n",
      "Source: \"V:\\Data\\Transportation\", layer: \"MPO_Bound\"\n",
      "with 1 features\n",
      "It has 3 fields\n"
     ]
    }
   ],
   "source": [
    "MPOBound <- readOGR(dsn = \"V:/Data/Transportation\", layer=\"MPO_Bound\")"
   ]
  },
  {
   "cell_type": "code",
   "execution_count": 34,
   "id": "0ac160f0",
   "metadata": {},
   "outputs": [],
   "source": [
    "# require MPOBound\n",
    "df2spdf <- function(df, lon_col_name, lat_col_name, trans = TRUE){\n",
    "  lonlat <- sp::CRS(\"+proj=longlat +datum=WGS84 +ellps=WGS84 +towgs84=0,0,0\")\n",
    "  lon_col_no <- which(names(df)==lon_col_name)\n",
    "  lat_col_no <- which(names(df)==lat_col_name)\n",
    "  xy <- data.frame(df[,c(lon_col_no,lat_col_no)])\n",
    "  coordinates(xy) <- c(lon_col_name, lat_col_name)\n",
    "  proj4string(xy) <- lonlat\n",
    "  spdf <- sp::SpatialPointsDataFrame(coords = xy, data = df)\n",
    "  if(trans){\n",
    "    spdf <- spTransform(spdf, CRS(proj4string(MPOBound)))\n",
    "  }\n",
    "  return(spdf)\n",
    "}"
   ]
  },
  {
   "cell_type": "code",
   "execution_count": 35,
   "id": "010133b2",
   "metadata": {},
   "outputs": [
    {
     "data": {
      "text/html": [
       "<style>\n",
       ".list-inline {list-style: none; margin:0; padding: 0}\n",
       ".list-inline>li {display: inline-block}\n",
       ".list-inline>li:not(:last-child)::after {content: \"\\00b7\"; padding: 0 .5ex}\n",
       "</style>\n",
       "<ol class=list-inline><li>'Location'</li><li>'Date'</li><li>'DailyCounts'</li><li>'Month'</li><li>'MonthDesc'</li><li>'Season'</li><li>'Weekday'</li><li>'IsHoliday'</li><li>'UoInSession'</li><li>'IsSpecialEvent'</li><li>'CountType'</li><li>'Direction'</li><li>'FacilityType'</li><li>'RoadWidth'</li><li>'City'</li><li>'Latitude'</li><li>'Longitude'</li><li>'Site_Name'</li><li>'DoubleCountLocation'</li><li>'IsOneway'</li><li>'OnewayDirection'</li><li>'IsSidewalk'</li><li>'Location_Description'</li><li>'SeasonOrder'</li><li>'WeekdayOrder'</li></ol>\n"
      ],
      "text/latex": [
       "\\begin{enumerate*}\n",
       "\\item 'Location'\n",
       "\\item 'Date'\n",
       "\\item 'DailyCounts'\n",
       "\\item 'Month'\n",
       "\\item 'MonthDesc'\n",
       "\\item 'Season'\n",
       "\\item 'Weekday'\n",
       "\\item 'IsHoliday'\n",
       "\\item 'UoInSession'\n",
       "\\item 'IsSpecialEvent'\n",
       "\\item 'CountType'\n",
       "\\item 'Direction'\n",
       "\\item 'FacilityType'\n",
       "\\item 'RoadWidth'\n",
       "\\item 'City'\n",
       "\\item 'Latitude'\n",
       "\\item 'Longitude'\n",
       "\\item 'Site\\_Name'\n",
       "\\item 'DoubleCountLocation'\n",
       "\\item 'IsOneway'\n",
       "\\item 'OnewayDirection'\n",
       "\\item 'IsSidewalk'\n",
       "\\item 'Location\\_Description'\n",
       "\\item 'SeasonOrder'\n",
       "\\item 'WeekdayOrder'\n",
       "\\end{enumerate*}\n"
      ],
      "text/markdown": [
       "1. 'Location'\n",
       "2. 'Date'\n",
       "3. 'DailyCounts'\n",
       "4. 'Month'\n",
       "5. 'MonthDesc'\n",
       "6. 'Season'\n",
       "7. 'Weekday'\n",
       "8. 'IsHoliday'\n",
       "9. 'UoInSession'\n",
       "10. 'IsSpecialEvent'\n",
       "11. 'CountType'\n",
       "12. 'Direction'\n",
       "13. 'FacilityType'\n",
       "14. 'RoadWidth'\n",
       "15. 'City'\n",
       "16. 'Latitude'\n",
       "17. 'Longitude'\n",
       "18. 'Site_Name'\n",
       "19. 'DoubleCountLocation'\n",
       "20. 'IsOneway'\n",
       "21. 'OnewayDirection'\n",
       "22. 'IsSidewalk'\n",
       "23. 'Location_Description'\n",
       "24. 'SeasonOrder'\n",
       "25. 'WeekdayOrder'\n",
       "\n",
       "\n"
      ],
      "text/plain": [
       " [1] \"Location\"             \"Date\"                 \"DailyCounts\"         \n",
       " [4] \"Month\"                \"MonthDesc\"            \"Season\"              \n",
       " [7] \"Weekday\"              \"IsHoliday\"            \"UoInSession\"         \n",
       "[10] \"IsSpecialEvent\"       \"CountType\"            \"Direction\"           \n",
       "[13] \"FacilityType\"         \"RoadWidth\"            \"City\"                \n",
       "[16] \"Latitude\"             \"Longitude\"            \"Site_Name\"           \n",
       "[19] \"DoubleCountLocation\"  \"IsOneway\"             \"OnewayDirection\"     \n",
       "[22] \"IsSidewalk\"           \"Location_Description\" \"SeasonOrder\"         \n",
       "[25] \"WeekdayOrder\"        "
      ]
     },
     "metadata": {},
     "output_type": "display_data"
    }
   ],
   "source": [
    "names(aggdata)"
   ]
  },
  {
   "cell_type": "code",
   "execution_count": 36,
   "id": "180ed833",
   "metadata": {},
   "outputs": [],
   "source": [
    "aggspdf <- df2spdf(aggdata, 'Longitude', 'Latitude')"
   ]
  },
  {
   "cell_type": "code",
   "execution_count": 37,
   "id": "e3ed3e87",
   "metadata": {},
   "outputs": [],
   "source": [
    "writeOGR(aggspdf, dsn=outpath, layer=paste0(\"Daily_Bike_Counts_\", year), \n",
    "         driver=\"ESRI Shapefile\", overwrite_layer=TRUE)"
   ]
  },
  {
   "cell_type": "code",
   "execution_count": 45,
   "id": "acebfb1d",
   "metadata": {},
   "outputs": [
    {
     "data": {
      "text/html": [
       "<style>\n",
       ".list-inline {list-style: none; margin:0; padding: 0}\n",
       ".list-inline>li {display: inline-block}\n",
       ".list-inline>li:not(:last-child)::after {content: \"\\00b7\"; padding: 0 .5ex}\n",
       "</style>\n",
       "<ol class=list-inline><li>'12th Ave Path East of Willamette St'</li><li>'13th Ave East of University St'</li><li>'13th Ave West of Alder St'</li><li>'13th Ave West of Mill St'</li><li>'15th Ave West of Jefferson St'</li><li>'16th Ave West of Alder St'</li><li>'24th Ave West of Adams St'</li><li>'27th Ave West of High St'</li><li>'4th St South of B St'</li><li>'5th Ave East of Charnelton St'</li><li>'5th St North of C St'</li><li>'5th St North of M St'</li><li>'Agate St South of 18th Ave'</li><li>'Agate St South of Franklin Blvd NB'</li><li>'Agate St South of Franklin Blvd SB'</li><li>'Alder St North of 18th Ave'</li><li>'Alder St North of 27th Ave'</li><li>'Alder St South of 18th Ave'</li><li>'Alder St South of Franklin Blvd'</li><li>'Alton Baker Park East of Boat Ramp'</li><li>'Amazon Path North of 24th Ave'</li><li>'By Gully Path west of Pioneer Pkwy'</li><li>'Centennial Blvd west of 28th St'</li><li>'Coburg Rd East Sidewalk South of Oakway Rd'</li><li>'Coburg Rd West Sidewalk South of Oakway Rd'</li><li>'Daisy St East of 42nd St'</li><li>'D St East of Pioneer Pkwy E'</li><li>'Defazio Bridge at MLK Connector'</li><li>'Delta Ponds Path west of Goodpasture Island Rd'</li><li>'West terminus of Middle Fork Path at Dorris Ranch'</li><li>'E Amazon Dr east of Hilyard St'</li><li>'E Amazon Dr south of 39th Ave'</li><li>'E St West of 4th St'</li><li>'EWEB Path East of 5th St'</li><li>'Fern Ridge Path East of Commerace Connector Bridge'</li><li>'Fern Ridge Path West of Chambers St'</li><li>'Fir St East of River Rd'</li><li>'Friendly St South of 18th Ave'</li><li>'Frohnmayer Bridge south Terminus'</li><li>'Game Farm Rd Path East of Mallard Ave'</li><li>'Gateway Bike Ped Bridge East Terminus'</li><li>'Greenway Bridge'</li><li>'G St West of Mohawk Blvd'</li><li>'Harris St South of 18th Ave'</li><li>'High St South of 17th Ave'</li><li>'Hilyard St west Sidewalk north of 32nd Ave'</li><li>'Hilyard St east Sidewalk south of 33rd Ave'</li><li>'Jessen Path West of Golden Gardens St'</li><li>'Kincaid St south of 37th Ave'</li><li>'Mill Race Path at Booth Kelly Trailhead '</li><li>'Monroe St South of 8th Ave'</li><li>'North Bank Trail East of River Hills Dr'</li><li>'North Bank Trail at Greenway Bridge'</li><li>'Oakway Rd North of Oakmont Way'</li><li>'Rosa Parks Path South of Q St'</li><li>'Southbank Path West of Knickerbocker Bridge'</li><li>'Southwood Ln West of Oakway Rd'</li><li>'Southwood Ln Sidewalk West of Oakway Rd'</li><li>'University St North of 24th Ave'</li><li>'University St South of Johnson Ln'</li><li>'Fire Lane on UP Campus West of University'</li><li>'Autzen Connector South of South Bank Trail'</li><li>'Viaduct East of Knickerbocker Bridge'</li><li>'Virginia Ave West of 35th St'</li><li>'West Bank Trail at Greenway Bridge'</li><li>'Willamatte St North of 15th Ave'</li><li>'N Willamette East of E Mckenzie St'</li></ol>\n"
      ],
      "text/latex": [
       "\\begin{enumerate*}\n",
       "\\item '12th Ave Path East of Willamette St'\n",
       "\\item '13th Ave East of University St'\n",
       "\\item '13th Ave West of Alder St'\n",
       "\\item '13th Ave West of Mill St'\n",
       "\\item '15th Ave West of Jefferson St'\n",
       "\\item '16th Ave West of Alder St'\n",
       "\\item '24th Ave West of Adams St'\n",
       "\\item '27th Ave West of High St'\n",
       "\\item '4th St South of B St'\n",
       "\\item '5th Ave East of Charnelton St'\n",
       "\\item '5th St North of C St'\n",
       "\\item '5th St North of M St'\n",
       "\\item 'Agate St South of 18th Ave'\n",
       "\\item 'Agate St South of Franklin Blvd NB'\n",
       "\\item 'Agate St South of Franklin Blvd SB'\n",
       "\\item 'Alder St North of 18th Ave'\n",
       "\\item 'Alder St North of 27th Ave'\n",
       "\\item 'Alder St South of 18th Ave'\n",
       "\\item 'Alder St South of Franklin Blvd'\n",
       "\\item 'Alton Baker Park East of Boat Ramp'\n",
       "\\item 'Amazon Path North of 24th Ave'\n",
       "\\item 'By Gully Path west of Pioneer Pkwy'\n",
       "\\item 'Centennial Blvd west of 28th St'\n",
       "\\item 'Coburg Rd East Sidewalk South of Oakway Rd'\n",
       "\\item 'Coburg Rd West Sidewalk South of Oakway Rd'\n",
       "\\item 'Daisy St East of 42nd St'\n",
       "\\item 'D St East of Pioneer Pkwy E'\n",
       "\\item 'Defazio Bridge at MLK Connector'\n",
       "\\item 'Delta Ponds Path west of Goodpasture Island Rd'\n",
       "\\item 'West terminus of Middle Fork Path at Dorris Ranch'\n",
       "\\item 'E Amazon Dr east of Hilyard St'\n",
       "\\item 'E Amazon Dr south of 39th Ave'\n",
       "\\item 'E St West of 4th St'\n",
       "\\item 'EWEB Path East of 5th St'\n",
       "\\item 'Fern Ridge Path East of Commerace Connector Bridge'\n",
       "\\item 'Fern Ridge Path West of Chambers St'\n",
       "\\item 'Fir St East of River Rd'\n",
       "\\item 'Friendly St South of 18th Ave'\n",
       "\\item 'Frohnmayer Bridge south Terminus'\n",
       "\\item 'Game Farm Rd Path East of Mallard Ave'\n",
       "\\item 'Gateway Bike Ped Bridge East Terminus'\n",
       "\\item 'Greenway Bridge'\n",
       "\\item 'G St West of Mohawk Blvd'\n",
       "\\item 'Harris St South of 18th Ave'\n",
       "\\item 'High St South of 17th Ave'\n",
       "\\item 'Hilyard St west Sidewalk north of 32nd Ave'\n",
       "\\item 'Hilyard St east Sidewalk south of 33rd Ave'\n",
       "\\item 'Jessen Path West of Golden Gardens St'\n",
       "\\item 'Kincaid St south of 37th Ave'\n",
       "\\item 'Mill Race Path at Booth Kelly Trailhead '\n",
       "\\item 'Monroe St South of 8th Ave'\n",
       "\\item 'North Bank Trail East of River Hills Dr'\n",
       "\\item 'North Bank Trail at Greenway Bridge'\n",
       "\\item 'Oakway Rd North of Oakmont Way'\n",
       "\\item 'Rosa Parks Path South of Q St'\n",
       "\\item 'Southbank Path West of Knickerbocker Bridge'\n",
       "\\item 'Southwood Ln West of Oakway Rd'\n",
       "\\item 'Southwood Ln Sidewalk West of Oakway Rd'\n",
       "\\item 'University St North of 24th Ave'\n",
       "\\item 'University St South of Johnson Ln'\n",
       "\\item 'Fire Lane on UP Campus West of University'\n",
       "\\item 'Autzen Connector South of South Bank Trail'\n",
       "\\item 'Viaduct East of Knickerbocker Bridge'\n",
       "\\item 'Virginia Ave West of 35th St'\n",
       "\\item 'West Bank Trail at Greenway Bridge'\n",
       "\\item 'Willamatte St North of 15th Ave'\n",
       "\\item 'N Willamette East of E Mckenzie St'\n",
       "\\end{enumerate*}\n"
      ],
      "text/markdown": [
       "1. '12th Ave Path East of Willamette St'\n",
       "2. '13th Ave East of University St'\n",
       "3. '13th Ave West of Alder St'\n",
       "4. '13th Ave West of Mill St'\n",
       "5. '15th Ave West of Jefferson St'\n",
       "6. '16th Ave West of Alder St'\n",
       "7. '24th Ave West of Adams St'\n",
       "8. '27th Ave West of High St'\n",
       "9. '4th St South of B St'\n",
       "10. '5th Ave East of Charnelton St'\n",
       "11. '5th St North of C St'\n",
       "12. '5th St North of M St'\n",
       "13. 'Agate St South of 18th Ave'\n",
       "14. 'Agate St South of Franklin Blvd NB'\n",
       "15. 'Agate St South of Franklin Blvd SB'\n",
       "16. 'Alder St North of 18th Ave'\n",
       "17. 'Alder St North of 27th Ave'\n",
       "18. 'Alder St South of 18th Ave'\n",
       "19. 'Alder St South of Franklin Blvd'\n",
       "20. 'Alton Baker Park East of Boat Ramp'\n",
       "21. 'Amazon Path North of 24th Ave'\n",
       "22. 'By Gully Path west of Pioneer Pkwy'\n",
       "23. 'Centennial Blvd west of 28th St'\n",
       "24. 'Coburg Rd East Sidewalk South of Oakway Rd'\n",
       "25. 'Coburg Rd West Sidewalk South of Oakway Rd'\n",
       "26. 'Daisy St East of 42nd St'\n",
       "27. 'D St East of Pioneer Pkwy E'\n",
       "28. 'Defazio Bridge at MLK Connector'\n",
       "29. 'Delta Ponds Path west of Goodpasture Island Rd'\n",
       "30. 'West terminus of Middle Fork Path at Dorris Ranch'\n",
       "31. 'E Amazon Dr east of Hilyard St'\n",
       "32. 'E Amazon Dr south of 39th Ave'\n",
       "33. 'E St West of 4th St'\n",
       "34. 'EWEB Path East of 5th St'\n",
       "35. 'Fern Ridge Path East of Commerace Connector Bridge'\n",
       "36. 'Fern Ridge Path West of Chambers St'\n",
       "37. 'Fir St East of River Rd'\n",
       "38. 'Friendly St South of 18th Ave'\n",
       "39. 'Frohnmayer Bridge south Terminus'\n",
       "40. 'Game Farm Rd Path East of Mallard Ave'\n",
       "41. 'Gateway Bike Ped Bridge East Terminus'\n",
       "42. 'Greenway Bridge'\n",
       "43. 'G St West of Mohawk Blvd'\n",
       "44. 'Harris St South of 18th Ave'\n",
       "45. 'High St South of 17th Ave'\n",
       "46. 'Hilyard St west Sidewalk north of 32nd Ave'\n",
       "47. 'Hilyard St east Sidewalk south of 33rd Ave'\n",
       "48. 'Jessen Path West of Golden Gardens St'\n",
       "49. 'Kincaid St south of 37th Ave'\n",
       "50. 'Mill Race Path at Booth Kelly Trailhead '\n",
       "51. 'Monroe St South of 8th Ave'\n",
       "52. 'North Bank Trail East of River Hills Dr'\n",
       "53. 'North Bank Trail at Greenway Bridge'\n",
       "54. 'Oakway Rd North of Oakmont Way'\n",
       "55. 'Rosa Parks Path South of Q St'\n",
       "56. 'Southbank Path West of Knickerbocker Bridge'\n",
       "57. 'Southwood Ln West of Oakway Rd'\n",
       "58. 'Southwood Ln Sidewalk West of Oakway Rd'\n",
       "59. 'University St North of 24th Ave'\n",
       "60. 'University St South of Johnson Ln'\n",
       "61. 'Fire Lane on UP Campus West of University'\n",
       "62. 'Autzen Connector South of South Bank Trail'\n",
       "63. 'Viaduct East of Knickerbocker Bridge'\n",
       "64. 'Virginia Ave West of 35th St'\n",
       "65. 'West Bank Trail at Greenway Bridge'\n",
       "66. 'Willamatte St North of 15th Ave'\n",
       "67. 'N Willamette East of E Mckenzie St'\n",
       "\n",
       "\n"
      ],
      "text/plain": [
       " [1] \"12th Ave Path East of Willamette St\"               \n",
       " [2] \"13th Ave East of University St\"                    \n",
       " [3] \"13th Ave West of Alder St\"                         \n",
       " [4] \"13th Ave West of Mill St\"                          \n",
       " [5] \"15th Ave West of Jefferson St\"                     \n",
       " [6] \"16th Ave West of Alder St\"                         \n",
       " [7] \"24th Ave West of Adams St\"                         \n",
       " [8] \"27th Ave West of High St\"                          \n",
       " [9] \"4th St South of B St\"                              \n",
       "[10] \"5th Ave East of Charnelton St\"                     \n",
       "[11] \"5th St North of C St\"                              \n",
       "[12] \"5th St North of M St\"                              \n",
       "[13] \"Agate St South of 18th Ave\"                        \n",
       "[14] \"Agate St South of Franklin Blvd NB\"                \n",
       "[15] \"Agate St South of Franklin Blvd SB\"                \n",
       "[16] \"Alder St North of 18th Ave\"                        \n",
       "[17] \"Alder St North of 27th Ave\"                        \n",
       "[18] \"Alder St South of 18th Ave\"                        \n",
       "[19] \"Alder St South of Franklin Blvd\"                   \n",
       "[20] \"Alton Baker Park East of Boat Ramp\"                \n",
       "[21] \"Amazon Path North of 24th Ave\"                     \n",
       "[22] \"By Gully Path west of Pioneer Pkwy\"                \n",
       "[23] \"Centennial Blvd west of 28th St\"                   \n",
       "[24] \"Coburg Rd East Sidewalk South of Oakway Rd\"        \n",
       "[25] \"Coburg Rd West Sidewalk South of Oakway Rd\"        \n",
       "[26] \"Daisy St East of 42nd St\"                          \n",
       "[27] \"D St East of Pioneer Pkwy E\"                       \n",
       "[28] \"Defazio Bridge at MLK Connector\"                   \n",
       "[29] \"Delta Ponds Path west of Goodpasture Island Rd\"    \n",
       "[30] \"West terminus of Middle Fork Path at Dorris Ranch\" \n",
       "[31] \"E Amazon Dr east of Hilyard St\"                    \n",
       "[32] \"E Amazon Dr south of 39th Ave\"                     \n",
       "[33] \"E St West of 4th St\"                               \n",
       "[34] \"EWEB Path East of 5th St\"                          \n",
       "[35] \"Fern Ridge Path East of Commerace Connector Bridge\"\n",
       "[36] \"Fern Ridge Path West of Chambers St\"               \n",
       "[37] \"Fir St East of River Rd\"                           \n",
       "[38] \"Friendly St South of 18th Ave\"                     \n",
       "[39] \"Frohnmayer Bridge south Terminus\"                  \n",
       "[40] \"Game Farm Rd Path East of Mallard Ave\"             \n",
       "[41] \"Gateway Bike Ped Bridge East Terminus\"             \n",
       "[42] \"Greenway Bridge\"                                   \n",
       "[43] \"G St West of Mohawk Blvd\"                          \n",
       "[44] \"Harris St South of 18th Ave\"                       \n",
       "[45] \"High St South of 17th Ave\"                         \n",
       "[46] \"Hilyard St west Sidewalk north of 32nd Ave\"        \n",
       "[47] \"Hilyard St east Sidewalk south of 33rd Ave\"        \n",
       "[48] \"Jessen Path West of Golden Gardens St\"             \n",
       "[49] \"Kincaid St south of 37th Ave\"                      \n",
       "[50] \"Mill Race Path at Booth Kelly Trailhead \"          \n",
       "[51] \"Monroe St South of 8th Ave\"                        \n",
       "[52] \"North Bank Trail East of River Hills Dr\"           \n",
       "[53] \"North Bank Trail at Greenway Bridge\"               \n",
       "[54] \"Oakway Rd North of Oakmont Way\"                    \n",
       "[55] \"Rosa Parks Path South of Q St\"                     \n",
       "[56] \"Southbank Path West of Knickerbocker Bridge\"       \n",
       "[57] \"Southwood Ln West of Oakway Rd\"                    \n",
       "[58] \"Southwood Ln Sidewalk West of Oakway Rd\"           \n",
       "[59] \"University St North of 24th Ave\"                   \n",
       "[60] \"University St South of Johnson Ln\"                 \n",
       "[61] \"Fire Lane on UP Campus West of University\"         \n",
       "[62] \"Autzen Connector South of South Bank Trail\"        \n",
       "[63] \"Viaduct East of Knickerbocker Bridge\"              \n",
       "[64] \"Virginia Ave West of 35th St\"                      \n",
       "[65] \"West Bank Trail at Greenway Bridge\"                \n",
       "[66] \"Willamatte St North of 15th Ave\"                   \n",
       "[67] \"N Willamette East of E Mckenzie St\"                "
      ]
     },
     "metadata": {},
     "output_type": "display_data"
    }
   ],
   "source": [
    "AveDailyCnt$Site_Name"
   ]
  },
  {
   "cell_type": "code",
   "execution_count": 38,
   "id": "39d7747a",
   "metadata": {},
   "outputs": [],
   "source": [
    "AveDailyCnt_spdf <- df2spdf(AveDailyCnt, 'Longitude', 'Latitude')"
   ]
  },
  {
   "cell_type": "code",
   "execution_count": 39,
   "id": "601ac8bd",
   "metadata": {},
   "outputs": [],
   "source": [
    "writeOGR(AveDailyCnt_spdf, dsn=outpath, layer=paste0(\"Mean_Daily_Bike_Counts_\", year), \n",
    "         driver=\"ESRI Shapefile\", overwrite_layer=TRUE)"
   ]
  },
  {
   "cell_type": "code",
   "execution_count": 40,
   "id": "a07fc8e8",
   "metadata": {},
   "outputs": [
    {
     "data": {
      "text/html": [
       "<style>\n",
       ".list-inline {list-style: none; margin:0; padding: 0}\n",
       ".list-inline>li {display: inline-block}\n",
       ".list-inline>li:not(:last-child)::after {content: \"\\00b7\"; padding: 0 .5ex}\n",
       "</style>\n",
       "<ol class=list-inline><li>'Location'</li><li>'Date'</li><li>'DailyCounts'</li><li>'Month'</li><li>'MonthDesc'</li><li>'Season'</li><li>'Weekday'</li><li>'IsHoliday'</li><li>'UoInSession'</li><li>'IsSpecialEvent'</li><li>'CountType'</li><li>'Direction'</li><li>'FacilityType'</li><li>'RoadWidth'</li><li>'City'</li><li>'Latitude'</li><li>'Longitude'</li><li>'Site_Name'</li><li>'DoubleCountLocation'</li><li>'IsOneway'</li><li>'OnewayDirection'</li><li>'IsSidewalk'</li><li>'Location_Description'</li><li>'SeasonOrder'</li><li>'WeekdayOrder'</li></ol>\n"
      ],
      "text/latex": [
       "\\begin{enumerate*}\n",
       "\\item 'Location'\n",
       "\\item 'Date'\n",
       "\\item 'DailyCounts'\n",
       "\\item 'Month'\n",
       "\\item 'MonthDesc'\n",
       "\\item 'Season'\n",
       "\\item 'Weekday'\n",
       "\\item 'IsHoliday'\n",
       "\\item 'UoInSession'\n",
       "\\item 'IsSpecialEvent'\n",
       "\\item 'CountType'\n",
       "\\item 'Direction'\n",
       "\\item 'FacilityType'\n",
       "\\item 'RoadWidth'\n",
       "\\item 'City'\n",
       "\\item 'Latitude'\n",
       "\\item 'Longitude'\n",
       "\\item 'Site\\_Name'\n",
       "\\item 'DoubleCountLocation'\n",
       "\\item 'IsOneway'\n",
       "\\item 'OnewayDirection'\n",
       "\\item 'IsSidewalk'\n",
       "\\item 'Location\\_Description'\n",
       "\\item 'SeasonOrder'\n",
       "\\item 'WeekdayOrder'\n",
       "\\end{enumerate*}\n"
      ],
      "text/markdown": [
       "1. 'Location'\n",
       "2. 'Date'\n",
       "3. 'DailyCounts'\n",
       "4. 'Month'\n",
       "5. 'MonthDesc'\n",
       "6. 'Season'\n",
       "7. 'Weekday'\n",
       "8. 'IsHoliday'\n",
       "9. 'UoInSession'\n",
       "10. 'IsSpecialEvent'\n",
       "11. 'CountType'\n",
       "12. 'Direction'\n",
       "13. 'FacilityType'\n",
       "14. 'RoadWidth'\n",
       "15. 'City'\n",
       "16. 'Latitude'\n",
       "17. 'Longitude'\n",
       "18. 'Site_Name'\n",
       "19. 'DoubleCountLocation'\n",
       "20. 'IsOneway'\n",
       "21. 'OnewayDirection'\n",
       "22. 'IsSidewalk'\n",
       "23. 'Location_Description'\n",
       "24. 'SeasonOrder'\n",
       "25. 'WeekdayOrder'\n",
       "\n",
       "\n"
      ],
      "text/plain": [
       " [1] \"Location\"             \"Date\"                 \"DailyCounts\"         \n",
       " [4] \"Month\"                \"MonthDesc\"            \"Season\"              \n",
       " [7] \"Weekday\"              \"IsHoliday\"            \"UoInSession\"         \n",
       "[10] \"IsSpecialEvent\"       \"CountType\"            \"Direction\"           \n",
       "[13] \"FacilityType\"         \"RoadWidth\"            \"City\"                \n",
       "[16] \"Latitude\"             \"Longitude\"            \"Site_Name\"           \n",
       "[19] \"DoubleCountLocation\"  \"IsOneway\"             \"OnewayDirection\"     \n",
       "[22] \"IsSidewalk\"           \"Location_Description\" \"SeasonOrder\"         \n",
       "[25] \"WeekdayOrder\"        "
      ]
     },
     "metadata": {},
     "output_type": "display_data"
    }
   ],
   "source": [
    "names(aggdata)"
   ]
  },
  {
   "cell_type": "code",
   "execution_count": 41,
   "id": "b168206f",
   "metadata": {},
   "outputs": [
    {
     "data": {
      "text/html": [
       "<style>\n",
       ".list-inline {list-style: none; margin:0; padding: 0}\n",
       ".list-inline>li {display: inline-block}\n",
       ".list-inline>li:not(:last-child)::after {content: \"\\00b7\"; padding: 0 .5ex}\n",
       "</style>\n",
       "<ol class=list-inline><li>5848</li><li>25</li></ol>\n"
      ],
      "text/latex": [
       "\\begin{enumerate*}\n",
       "\\item 5848\n",
       "\\item 25\n",
       "\\end{enumerate*}\n"
      ],
      "text/markdown": [
       "1. 5848\n",
       "2. 25\n",
       "\n",
       "\n"
      ],
      "text/plain": [
       "[1] 5848   25"
      ]
     },
     "metadata": {},
     "output_type": "display_data"
    }
   ],
   "source": [
    "dim(aggdata)"
   ]
  },
  {
   "cell_type": "code",
   "execution_count": 42,
   "id": "180be557",
   "metadata": {},
   "outputs": [
    {
     "data": {
      "image/png": "[encoded data removed]",
      "text/plain": [
       "plot without title"
      ]
     },
     "metadata": {
      "image/png": {
       "height": 420,
       "width": 420
      }
     },
     "output_type": "display_data"
    }
   ],
   "source": [
    "plot(AveDailyCnt_spdf[AveDailyCnt_spdf$ObsDays == max(AveDailyCnt$ObsDays),])"
   ]
  },
  {
   "cell_type": "code",
   "execution_count": 43,
   "id": "98e193ba",
   "metadata": {},
   "outputs": [
    {
     "data": {
      "text/html": [
       "<style>\n",
       ".list-inline {list-style: none; margin:0; padding: 0}\n",
       ".list-inline>li {display: inline-block}\n",
       ".list-inline>li:not(:last-child)::after {content: \"\\00b7\"; padding: 0 .5ex}\n",
       "</style>\n",
       "<ol class=list-inline><li>'Manual'</li><li>'Permanent'</li></ol>\n"
      ],
      "text/latex": [
       "\\begin{enumerate*}\n",
       "\\item 'Manual'\n",
       "\\item 'Permanent'\n",
       "\\end{enumerate*}\n"
      ],
      "text/markdown": [
       "1. 'Manual'\n",
       "2. 'Permanent'\n",
       "\n",
       "\n"
      ],
      "text/plain": [
       "[1] \"Manual\"    \"Permanent\""
      ]
     },
     "metadata": {},
     "output_type": "display_data"
    }
   ],
   "source": [
    "unique(AveDailyCnt_spdf$CountType)"
   ]
  },
  {
   "cell_type": "code",
   "execution_count": 44,
   "id": "0f85ac5f",
   "metadata": {},
   "outputs": [
    {
     "data": {
      "text/html": [
       "<style>\n",
       ".list-inline {list-style: none; margin:0; padding: 0}\n",
       ".list-inline>li {display: inline-block}\n",
       ".list-inline>li:not(:last-child)::after {content: \"\\00b7\"; padding: 0 .5ex}\n",
       "</style>\n",
       "<ol class=list-inline><li>'Alder St North of 18th Ave'</li><li>'Delta Ponds Path west of Goodpasture Island Rd'</li><li>'EWEB Path East of 5th St'</li><li>'Fern Ridge Path East of Commerace Connector Bridge'</li><li>'Fern Ridge Path West of Chambers St'</li><li>'Greenway Bridge'</li><li>'Jessen Path West of Golden Gardens St'</li><li>'North Bank Trail East of River Hills Dr'</li><li>'Southbank Path West of Knickerbocker Bridge'</li></ol>\n"
      ],
      "text/latex": [
       "\\begin{enumerate*}\n",
       "\\item 'Alder St North of 18th Ave'\n",
       "\\item 'Delta Ponds Path west of Goodpasture Island Rd'\n",
       "\\item 'EWEB Path East of 5th St'\n",
       "\\item 'Fern Ridge Path East of Commerace Connector Bridge'\n",
       "\\item 'Fern Ridge Path West of Chambers St'\n",
       "\\item 'Greenway Bridge'\n",
       "\\item 'Jessen Path West of Golden Gardens St'\n",
       "\\item 'North Bank Trail East of River Hills Dr'\n",
       "\\item 'Southbank Path West of Knickerbocker Bridge'\n",
       "\\end{enumerate*}\n"
      ],
      "text/markdown": [
       "1. 'Alder St North of 18th Ave'\n",
       "2. 'Delta Ponds Path west of Goodpasture Island Rd'\n",
       "3. 'EWEB Path East of 5th St'\n",
       "4. 'Fern Ridge Path East of Commerace Connector Bridge'\n",
       "5. 'Fern Ridge Path West of Chambers St'\n",
       "6. 'Greenway Bridge'\n",
       "7. 'Jessen Path West of Golden Gardens St'\n",
       "8. 'North Bank Trail East of River Hills Dr'\n",
       "9. 'Southbank Path West of Knickerbocker Bridge'\n",
       "\n",
       "\n"
      ],
      "text/plain": [
       "[1] \"Alder St North of 18th Ave\"                        \n",
       "[2] \"Delta Ponds Path west of Goodpasture Island Rd\"    \n",
       "[3] \"EWEB Path East of 5th St\"                          \n",
       "[4] \"Fern Ridge Path East of Commerace Connector Bridge\"\n",
       "[5] \"Fern Ridge Path West of Chambers St\"               \n",
       "[6] \"Greenway Bridge\"                                   \n",
       "[7] \"Jessen Path West of Golden Gardens St\"             \n",
       "[8] \"North Bank Trail East of River Hills Dr\"           \n",
       "[9] \"Southbank Path West of Knickerbocker Bridge\"       "
      ]
     },
     "metadata": {},
     "output_type": "display_data"
    }
   ],
   "source": [
    "AveDailyCnt[AveDailyCnt$CountType == 'Permanent', 'Site_Name']"
   ]
  }
 ],
 "metadata": {
  "kernelspec": {
   "display_name": "R",
   "language": "R",
   "name": "ir"
  },
  "language_info": {
   "codemirror_mode": "r",
   "file_extension": ".r",
   "mimetype": "text/x-r-source",
   "name": "R",
   "pygments_lexer": "r",
   "version": "4.0.3"
  }
 },
 "nbformat": 4,
 "nbformat_minor": 5
}
