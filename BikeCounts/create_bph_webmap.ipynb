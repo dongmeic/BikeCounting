{
 "cells": [
  {
   "cell_type": "code",
   "execution_count": 1,
   "id": "9bba3f07",
   "metadata": {},
   "outputs": [],
   "source": [
    "from IPython.display import display\n",
    "import arcgis\n",
    "from arcgis.gis import GIS\n",
    "from arcgis.mapping import WebMap\n",
    "import datetime\n",
    "import json\n",
    "\n",
    "gis = GIS('home')"
   ]
  },
  {
   "cell_type": "code",
   "execution_count": 2,
   "id": "c57d2659",
   "metadata": {},
   "outputs": [],
   "source": [
    "path = \"T:/DCProjects/StoryMap/BikeCounting/BikeCounts/Output/\""
   ]
  },
  {
   "cell_type": "code",
   "execution_count": 3,
   "id": "d6500dc3",
   "metadata": {},
   "outputs": [
    {
     "name": "stdout",
     "output_type": "stream",
     "text": [
      "0:00:12.255330\n",
      "Hour\n",
      "0:00:11.762398\n",
      "Weekday\n",
      "0:00:10.928397\n",
      "Month\n",
      "0:00:11.245403\n",
      "Season\n"
     ]
    }
   ],
   "source": [
    "# upload items online\n",
    "for var in [\"Hour\", \"Weekday\", \"Month\", \"Season\"]:\n",
    "    file_properties={'title':\"Average Bikes Per Hour by \" + var,\n",
    "                 'type': 'Shapefile',\n",
    "                 'tags': 'bike counts, bike'}\n",
    "    \n",
    "    now = datetime.datetime.now()\n",
    "    file_item = gis.content.add(data=path+\"/BPH_\"+var+ \".zip\",\n",
    "                            item_properties=file_properties)\n",
    "    file_item_layer = file_item.publish()\n",
    "    file_item_layer.share(everyone=True)\n",
    "    later = datetime.datetime.now()\n",
    "    elapsed = later - now\n",
    "    print(elapsed)\n",
    "    print(var)"
   ]
  },
  {
   "cell_type": "code",
   "execution_count": 3,
   "id": "838ccbae",
   "metadata": {},
   "outputs": [],
   "source": [
    "avg_bph_agg_map = WebMap()"
   ]
  },
  {
   "cell_type": "code",
   "execution_count": 4,
   "id": "eb8a75f6",
   "metadata": {},
   "outputs": [],
   "source": [
    "for var in [\"Hour\", \"Weekday\", \"Month\", \"Season\"]:\n",
    "    my_content = gis.content.search(query=\"owner:\" + gis.users.me.username + \" AND title:\" + \"Average Bikes Per Hour by \" + var,\n",
    "                               item_type=\"Feature Layer\")\n",
    "    file_item=my_content[0]\n",
    "    avg_bph_agg_map.add_layer(file_item, options={'title':\"Average Bikes Per Hour by \" + var})"
   ]
  },
  {
   "cell_type": "code",
   "execution_count": 5,
   "id": "b319b836",
   "metadata": {},
   "outputs": [],
   "source": [
    "webmap_item_properties = {'title':'Spatial Patterns of Average Bikes Per Hour', \n",
    "                         'snippet':'Map created using Python API showing average bikes per hour by hour, weekday, month, and season in central Lane County',\n",
    "                         'tags':['bike counts', 'bike', 'python']}"
   ]
  },
  {
   "cell_type": "code",
   "execution_count": 6,
   "id": "f32cc74b",
   "metadata": {},
   "outputs": [
    {
     "data": {
      "text/html": [
       "<div class=\"item_container\" style=\"height: auto; overflow: hidden; border: 1px solid #cfcfcf; border-radius: 2px; background: #f6fafa; line-height: 1.21429em; padding: 10px;\">\n",
       "                    <div class=\"item_left\" style=\"width: 210px; float: left;\">\n",
       "                       <a href='https://www.arcgis.com//home/item.html?id=651a5ee1e56a4ed88f50f3681e592869' target='_blank'>\n",
       "                        <img src='http://static.arcgis.com/images/desktopapp.png' class=\"itemThumbnail\">\n",
       "                       </a>\n",
       "                    </div>\n",
       "\n",
       "                    <div class=\"item_right\"     style=\"float: none; width: auto; overflow: hidden;\">\n",
       "                        <a href='https://www.arcgis.com//home/item.html?id=651a5ee1e56a4ed88f50f3681e592869' target='_blank'><b>Spatial Patterns of Average Bikes Per Hour</b>\n",
       "                        </a>\n",
       "                        <br/>Map created using Python API showing average bikes per hour by hour, weekday, month, and season in central Lane County<img src='https://www.arcgis.com//home/js/jsapi/esri/css/images/item_type_icons/maps16.png' style=\"vertical-align:middle;\">Web Map by DCHEN_LCOG\n",
       "                        <br/>Last Modified: May 04, 2022\n",
       "                        <br/>0 comments, 0 views\n",
       "                    </div>\n",
       "                </div>\n",
       "                "
      ],
      "text/plain": [
       "<Item title:\"Spatial Patterns of Average Bikes Per Hour\" type:Web Map owner:DCHEN_LCOG>"
      ]
     },
     "execution_count": 6,
     "metadata": {},
     "output_type": "execute_result"
    }
   ],
   "source": [
    "avg_bph_agg_map.save(webmap_item_properties)"
   ]
  },
  {
   "cell_type": "code",
   "execution_count": 7,
   "id": "8d883adc",
   "metadata": {},
   "outputs": [],
   "source": [
    "webmap_search = gis.content.search(query=\"owner:\" + gis.users.me.username + \" AND title:\" + \"Spatial Patterns of Average Bikes Per Hour\",\n",
    "                                  item_type=\"Web Map\")"
   ]
  },
  {
   "cell_type": "code",
   "execution_count": 8,
   "id": "a6435d38",
   "metadata": {},
   "outputs": [],
   "source": [
    "webmap_item = webmap_search[0]"
   ]
  },
  {
   "cell_type": "code",
   "execution_count": 9,
   "id": "ee0bb7db",
   "metadata": {},
   "outputs": [
    {
     "data": {
      "text/plain": [
       "{'results': [{'itemId': '651a5ee1e56a4ed88f50f3681e592869',\n",
       "   'success': True,\n",
       "   'notSharedWith': []}]}"
      ]
     },
     "execution_count": 9,
     "metadata": {},
     "output_type": "execute_result"
    }
   ],
   "source": [
    "webmap_item.share(everyone=True)"
   ]
  },
  {
   "cell_type": "code",
   "execution_count": 22,
   "id": "515c3b36",
   "metadata": {},
   "outputs": [],
   "source": [
    "item_data = webmap_item.get_data()"
   ]
  },
  {
   "cell_type": "code",
   "execution_count": 11,
   "id": "4e1daa9f",
   "metadata": {},
   "outputs": [],
   "source": [
    "n = len(item_data['operationalLayers'])"
   ]
  },
  {
   "cell_type": "code",
   "execution_count": 16,
   "id": "80c7c1bd",
   "metadata": {},
   "outputs": [],
   "source": [
    "def edit_popupInfo(layer):\n",
    "    field_infos = layer['popupInfo']['fieldInfos']\n",
    "    # change visibility, lables, and reorder \n",
    "    for field in field_infos:\n",
    "        if field['fieldName'] in ['FID', 'Locatin', 'DblCntL']:\n",
    "            field[\"visible\"] = False\n",
    "        if field['fieldName'] == 'BPH':\n",
    "            field['label'] = 'Bikes Per Hour'\n",
    "        if field['fieldName'] == 'Latitud':\n",
    "            field['label'] = 'Latitude'\n",
    "        if field['fieldName'] == 'Longitd':\n",
    "            field['label'] = 'Longitude'\n",
    "        if field['fieldName'] == 'Site_Nm':\n",
    "            field['label'] = 'Site Name'\n",
    "        if field['fieldName'] == 'IsOnewy':\n",
    "            field['label'] = 'Is One Way?'\n",
    "        if field['fieldName'] == 'OnwyDrc':\n",
    "            field['label'] = 'One Way Direction'\n",
    "        if field['fieldName'] == 'IsSdwlk':\n",
    "            field['label'] = 'Is Sidewalk?'\n",
    "        if field['fieldName'] == 'N':\n",
    "            field['label'] = 'Sample Size'\n",
    "    \n",
    "    first_item = field_infos.pop(6)\n",
    "    field_infos.insert(0, first_item)\n",
    "    \n",
    "    return layer"
   ]
  },
  {
   "cell_type": "code",
   "execution_count": 17,
   "id": "2e5fa59e",
   "metadata": {},
   "outputs": [],
   "source": [
    "for i in range(0, n):\n",
    "    item_data['operationalLayers'][i] = edit_popupInfo(item_data['operationalLayers'][i])"
   ]
  },
  {
   "cell_type": "code",
   "execution_count": 18,
   "id": "e6e2ae72",
   "metadata": {},
   "outputs": [],
   "source": [
    "item_properties = {\"text\": json.dumps(item_data)}"
   ]
  },
  {
   "cell_type": "code",
   "execution_count": 19,
   "id": "f8fb37db",
   "metadata": {},
   "outputs": [
    {
     "data": {
      "text/plain": [
       "True"
      ]
     },
     "execution_count": 19,
     "metadata": {},
     "output_type": "execute_result"
    }
   ],
   "source": [
    "webmap_item.update(item_properties=item_properties)"
   ]
  },
  {
   "cell_type": "markdown",
   "id": "8d6d7819",
   "metadata": {},
   "source": [
    "item_data['operationalLayers']"
   ]
  },
  {
   "cell_type": "code",
   "execution_count": null,
   "id": "6dfdd53b",
   "metadata": {},
   "outputs": [],
   "source": []
  }
 ],
 "metadata": {
  "kernelspec": {
   "display_name": "Python 3",
   "language": "python",
   "name": "python3"
  },
  "language_info": {
   "codemirror_mode": {
    "name": "ipython",
    "version": 3
   },
   "file_extension": ".py",
   "mimetype": "text/x-python",
   "name": "python",
   "nbconvert_exporter": "python",
   "pygments_lexer": "ipython3",
   "version": "3.7.11"
  }
 },
 "nbformat": 4,
 "nbformat_minor": 5
}
