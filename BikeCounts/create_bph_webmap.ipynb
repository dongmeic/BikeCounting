{
 "cells": [
  {
   "cell_type": "code",
   "execution_count": 1,
   "id": "91afcb65",
   "metadata": {},
   "outputs": [],
   "source": [
    "from IPython.display import display\n",
    "import arcgis\n",
    "from arcgis.gis import GIS\n",
    "from arcgis.mapping import WebMap\n",
    "import datetime\n",
    "\n",
    "gis = GIS('home')"
   ]
  },
  {
   "cell_type": "code",
   "execution_count": 2,
   "id": "4b969458",
   "metadata": {},
   "outputs": [],
   "source": [
    "path = \"T:/DCProjects/StoryMap/BikeCounting/BikeCounts/Output/\""
   ]
  },
  {
   "cell_type": "code",
   "execution_count": 3,
   "id": "8d82bd9e",
   "metadata": {},
   "outputs": [
    {
     "name": "stdout",
     "output_type": "stream",
     "text": [
      "0:00:12.255330\n",
      "Hour\n",
      "0:00:11.762398\n",
      "Weekday\n",
      "0:00:10.928397\n",
      "Month\n",
      "0:00:11.245403\n",
      "Season\n"
     ]
    }
   ],
   "source": [
    "# upload items online\n",
    "for var in [\"Hour\", \"Weekday\", \"Month\", \"Season\"]:\n",
    "    file_properties={'title':\"Average Bikes Per Hour by \" + var,\n",
    "                 'type': 'Shapefile',\n",
    "                 'tags': 'bike counts, bike'}\n",
    "    \n",
    "    now = datetime.datetime.now()\n",
    "    file_item = gis.content.add(data=path+\"/BPH_\"+var+ \".zip\",\n",
    "                            item_properties=file_properties)\n",
    "    file_item_layer = file_item.publish()\n",
    "    file_item_layer.share(everyone=True)\n",
    "    later = datetime.datetime.now()\n",
    "    elapsed = later - now\n",
    "    print(elapsed)\n",
    "    print(var)"
   ]
  },
  {
   "cell_type": "code",
   "execution_count": 4,
   "id": "7e1a00cb",
   "metadata": {},
   "outputs": [],
   "source": [
    "avg_bph_agg_map = WebMap()"
   ]
  },
  {
   "cell_type": "code",
   "execution_count": 5,
   "id": "8f474b90",
   "metadata": {},
   "outputs": [],
   "source": [
    "for var in [\"Hour\", \"Weekday\", \"Month\", \"Season\"]:\n",
    "    my_content = gis.content.search(query=\"owner:\" + gis.users.me.username + \" AND title:\" + \"Average Bikes Per Hour by \" + var,\n",
    "                               item_type=\"Feature Layer\")\n",
    "    file_item=my_content[0]\n",
    "    avg_bph_agg_map.add_layer(file_item, options={'title':\"Average Bikes Per Hour by \" + var})"
   ]
  },
  {
   "cell_type": "code",
   "execution_count": 6,
   "id": "382b359b",
   "metadata": {},
   "outputs": [],
   "source": [
    "webmap_item_properties = {'title':'Spatial Patterns of Average Bikes Per Hour', \n",
    "                         'snippet':'Map created using Python API showing average bikes per hour by hour, weekday, month, and season in central Lane County',\n",
    "                         'tags':['bike counts', 'bike', 'python']}"
   ]
  },
  {
   "cell_type": "code",
   "execution_count": 7,
   "id": "0951efc8",
   "metadata": {},
   "outputs": [
    {
     "data": {
      "text/html": [
       "<div class=\"item_container\" style=\"height: auto; overflow: hidden; border: 1px solid #cfcfcf; border-radius: 2px; background: #f6fafa; line-height: 1.21429em; padding: 10px;\">\n",
       "                    <div class=\"item_left\" style=\"width: 210px; float: left;\">\n",
       "                       <a href='https://www.arcgis.com//home/item.html?id=0359649d42894c5f9b94197a183609ab' target='_blank'>\n",
       "                        <img src='http://static.arcgis.com/images/desktopapp.png' class=\"itemThumbnail\">\n",
       "                       </a>\n",
       "                    </div>\n",
       "\n",
       "                    <div class=\"item_right\"     style=\"float: none; width: auto; overflow: hidden;\">\n",
       "                        <a href='https://www.arcgis.com//home/item.html?id=0359649d42894c5f9b94197a183609ab' target='_blank'><b>Spatial Patterns of Average Bikes Per Hour</b>\n",
       "                        </a>\n",
       "                        <br/>Map created using Python API showing average bikes per hour by hour, weekday, month, and season in central Lane County<img src='https://www.arcgis.com//home/js/jsapi/esri/css/images/item_type_icons/maps16.png' style=\"vertical-align:middle;\">Web Map by DCHEN_LCOG\n",
       "                        <br/>Last Modified: May 04, 2022\n",
       "                        <br/>0 comments, 0 views\n",
       "                    </div>\n",
       "                </div>\n",
       "                "
      ],
      "text/plain": [
       "<Item title:\"Spatial Patterns of Average Bikes Per Hour\" type:Web Map owner:DCHEN_LCOG>"
      ]
     },
     "execution_count": 7,
     "metadata": {},
     "output_type": "execute_result"
    }
   ],
   "source": [
    "avg_bph_agg_map.save(webmap_item_properties)"
   ]
  },
  {
   "cell_type": "code",
   "execution_count": 9,
   "id": "1b08ffe7",
   "metadata": {},
   "outputs": [],
   "source": [
    "webmap_search = gis.content.search(query=\"owner:\" + gis.users.me.username + \" AND title:\" + \"Spatial Patterns of Average Bikes Per Hour\",\n",
    "                                  item_type=\"Web Map\")"
   ]
  },
  {
   "cell_type": "code",
   "execution_count": null,
   "id": "ddd75e87",
   "metadata": {},
   "outputs": [],
   "source": []
  },
  {
   "cell_type": "code",
   "execution_count": 8,
   "id": "49e06980",
   "metadata": {},
   "outputs": [
    {
     "ename": "AttributeError",
     "evalue": "'WebMap' object has no attribute 'share'",
     "output_type": "error",
     "traceback": [
      "\u001b[1;31m---------------------------------------------------------------------------\u001b[0m",
      "\u001b[1;31mAttributeError\u001b[0m                            Traceback (most recent call last)",
      "\u001b[1;32m<ipython-input-8-204b96a806a9>\u001b[0m in \u001b[0;36m<module>\u001b[1;34m\u001b[0m\n\u001b[1;32m----> 1\u001b[1;33m \u001b[0mavg_bph_agg_map\u001b[0m\u001b[1;33m.\u001b[0m\u001b[0mshare\u001b[0m\u001b[1;33m(\u001b[0m\u001b[0meveryone\u001b[0m\u001b[1;33m=\u001b[0m\u001b[1;32mTrue\u001b[0m\u001b[1;33m)\u001b[0m\u001b[1;33m\u001b[0m\u001b[1;33m\u001b[0m\u001b[0m\n\u001b[0m",
      "\u001b[1;31mAttributeError\u001b[0m: 'WebMap' object has no attribute 'share'"
     ]
    }
   ],
   "source": [
    "avg_bph_agg_map.share(everyone=True)"
   ]
  }
 ],
 "metadata": {
  "kernelspec": {
   "display_name": "Python 3",
   "language": "python",
   "name": "python3"
  },
  "language_info": {
   "codemirror_mode": {
    "name": "ipython",
    "version": 3
   },
   "file_extension": ".py",
   "mimetype": "text/x-python",
   "name": "python",
   "nbconvert_exporter": "python",
   "pygments_lexer": "ipython3",
   "version": "3.7.11"
  }
 },
 "nbformat": 4,
 "nbformat_minor": 5
}
