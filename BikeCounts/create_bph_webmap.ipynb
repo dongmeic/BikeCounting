{
 "cells": [
  {
   "cell_type": "code",
   "execution_count": 1,
   "id": "be4f2418",
   "metadata": {},
   "outputs": [],
   "source": [
    "import arcpy\n",
    "from IPython.display import display\n",
    "import arcgis\n",
    "from arcgis.gis import GIS\n",
    "from arcgis.mapping import WebMap\n",
    "import datetime\n",
    "import json\n",
    "import shutil \n",
    "import os.path"
   ]
  },
  {
   "cell_type": "code",
   "execution_count": 2,
   "id": "e009fea0",
   "metadata": {
    "scrolled": true
   },
   "outputs": [],
   "source": [
    "gis = GIS('home')"
   ]
  },
  {
   "cell_type": "code",
   "execution_count": 3,
   "id": "8b5f5feb",
   "metadata": {},
   "outputs": [],
   "source": [
    "path = \"T:/MPO/Bike&Ped/BikeCounting/StoryMap/BikeCounts/Output/\""
   ]
  },
  {
   "cell_type": "code",
   "execution_count": 6,
   "id": "7aa9361b",
   "metadata": {},
   "outputs": [],
   "source": [
    "bph_vars = [\"Hour\", \"Weekday\", \"Month\", \"Season\"]"
   ]
  },
  {
   "cell_type": "code",
   "execution_count": 9,
   "id": "e043b068",
   "metadata": {},
   "outputs": [],
   "source": [
    "# Creating the ZIP file \n",
    "for var in bph_vars:\n",
    "    archived = shutil.make_archive(path+'BPH_'+var, 'zip', path+'BPH_'+var)"
   ]
  },
  {
   "cell_type": "code",
   "execution_count": 38,
   "id": "95c76024",
   "metadata": {},
   "outputs": [
    {
     "name": "stdout",
     "output_type": "stream",
     "text": [
      "0:00:02.431318\n",
      "Hour\n",
      "0:00:02.136595\n",
      "Weekday\n",
      "0:00:02.253060\n",
      "Month\n",
      "0:00:02.191531\n",
      "Season\n"
     ]
    }
   ],
   "source": [
    "# upload items online\n",
    "for var in bph_vars:\n",
    "#for var in [\"Season\"]:\n",
    "    file_properties={'title':\"Average Bikes Per Hour by \" + var,\n",
    "                 'type': 'Shapefile',\n",
    "                 'tags': 'bike counts, bike'}\n",
    "    \n",
    "    now = datetime.datetime.now()\n",
    "    file_item = gis.content.add(data=path+\"BPH_\"+var+ \".zip\",\n",
    "                            item_properties=file_properties)\n",
    "    file_item_layer = file_item.publish()\n",
    "    file_item_layer.share(everyone=True)\n",
    "    later = datetime.datetime.now()\n",
    "    elapsed = later - now\n",
    "    print(elapsed)\n",
    "    print(var)"
   ]
  },
  {
   "cell_type": "code",
   "execution_count": 3,
   "id": "ae1032d1",
   "metadata": {},
   "outputs": [],
   "source": [
    "avg_bph_agg_map = WebMap()"
   ]
  },
  {
   "cell_type": "code",
   "execution_count": 4,
   "id": "701033c5",
   "metadata": {},
   "outputs": [],
   "source": [
    "for var in [\"Hour\", \"Weekday\", \"Month\", \"Season\"]:\n",
    "    my_content = gis.content.search(query=\"owner:\" + gis.users.me.username + \" AND title:\" + \"Average Bikes Per Hour by \" + var,\n",
    "                               item_type=\"Feature Layer\")\n",
    "    file_item=my_content[0]\n",
    "    avg_bph_agg_map.add_layer(file_item, options={'title':\"Average Bikes Per Hour by \" + var})"
   ]
  },
  {
   "cell_type": "code",
   "execution_count": 5,
   "id": "fd489163",
   "metadata": {},
   "outputs": [],
   "source": [
    "webmap_item_properties = {'title':'Spatial Patterns of Average Bikes Per Hour', \n",
    "                         'snippet':'Map created using Python API showing average bikes per hour by hour, weekday, month, and season in central Lane County',\n",
    "                         'tags':['bike counts', 'bike', 'python']}"
   ]
  },
  {
   "cell_type": "code",
   "execution_count": 6,
   "id": "70f19ac3",
   "metadata": {},
   "outputs": [
    {
     "data": {
      "text/html": [
       "<div class=\"item_container\" style=\"height: auto; overflow: hidden; border: 1px solid #cfcfcf; border-radius: 2px; background: #f6fafa; line-height: 1.21429em; padding: 10px;\">\n",
       "                    <div class=\"item_left\" style=\"width: 210px; float: left;\">\n",
       "                       <a href='https://www.arcgis.com//home/item.html?id=651a5ee1e56a4ed88f50f3681e592869' target='_blank'>\n",
       "                        <img src='http://static.arcgis.com/images/desktopapp.png' class=\"itemThumbnail\">\n",
       "                       </a>\n",
       "                    </div>\n",
       "\n",
       "                    <div class=\"item_right\"     style=\"float: none; width: auto; overflow: hidden;\">\n",
       "                        <a href='https://www.arcgis.com//home/item.html?id=651a5ee1e56a4ed88f50f3681e592869' target='_blank'><b>Spatial Patterns of Average Bikes Per Hour</b>\n",
       "                        </a>\n",
       "                        <br/>Map created using Python API showing average bikes per hour by hour, weekday, month, and season in central Lane County<img src='https://www.arcgis.com//home/js/jsapi/esri/css/images/item_type_icons/maps16.png' style=\"vertical-align:middle;\">Web Map by DCHEN_LCOG\n",
       "                        <br/>Last Modified: May 04, 2022\n",
       "                        <br/>0 comments, 0 views\n",
       "                    </div>\n",
       "                </div>\n",
       "                "
      ],
      "text/plain": [
       "<Item title:\"Spatial Patterns of Average Bikes Per Hour\" type:Web Map owner:DCHEN_LCOG>"
      ]
     },
     "execution_count": 6,
     "metadata": {},
     "output_type": "execute_result"
    }
   ],
   "source": [
    "avg_bph_agg_map.save(webmap_item_properties)"
   ]
  },
  {
   "cell_type": "code",
   "execution_count": 7,
   "id": "9b5ec4c2",
   "metadata": {},
   "outputs": [],
   "source": [
    "webmap_search = gis.content.search(query=\"owner:\" + gis.users.me.username + \" AND title:\" + \"Spatial Patterns of Average Bikes Per Hour\",\n",
    "                                  item_type=\"Web Map\")"
   ]
  },
  {
   "cell_type": "code",
   "execution_count": 8,
   "id": "2ca3de22",
   "metadata": {},
   "outputs": [],
   "source": [
    "webmap_item = webmap_search[0]"
   ]
  },
  {
   "cell_type": "code",
   "execution_count": 9,
   "id": "1d0c5099",
   "metadata": {},
   "outputs": [
    {
     "data": {
      "text/plain": [
       "{'results': [{'itemId': '651a5ee1e56a4ed88f50f3681e592869',\n",
       "   'success': True,\n",
       "   'notSharedWith': []}]}"
      ]
     },
     "execution_count": 9,
     "metadata": {},
     "output_type": "execute_result"
    }
   ],
   "source": [
    "webmap_item.share(everyone=True)"
   ]
  },
  {
   "cell_type": "code",
   "execution_count": 22,
   "id": "93034d1d",
   "metadata": {},
   "outputs": [],
   "source": [
    "item_data = webmap_item.get_data()"
   ]
  },
  {
   "cell_type": "code",
   "execution_count": 11,
   "id": "450bcb8a",
   "metadata": {},
   "outputs": [],
   "source": [
    "n = len(item_data['operationalLayers'])"
   ]
  },
  {
   "cell_type": "code",
   "execution_count": 16,
   "id": "a9255275",
   "metadata": {},
   "outputs": [],
   "source": [
    "def edit_popupInfo(layer):\n",
    "    field_infos = layer['popupInfo']['fieldInfos']\n",
    "    # change visibility, lables, and reorder \n",
    "    for field in field_infos:\n",
    "        if field['fieldName'] in ['FID', 'Locatin', 'DblCntL']:\n",
    "            field[\"visible\"] = False\n",
    "        if field['fieldName'] == 'BPH':\n",
    "            field['label'] = 'Bikes Per Hour'\n",
    "        if field['fieldName'] == 'Latitud':\n",
    "            field['label'] = 'Latitude'\n",
    "        if field['fieldName'] == 'Longitd':\n",
    "            field['label'] = 'Longitude'\n",
    "        if field['fieldName'] == 'Site_Nm':\n",
    "            field['label'] = 'Site Name'\n",
    "        if field['fieldName'] == 'IsOnewy':\n",
    "            field['label'] = 'Is One Way?'\n",
    "        if field['fieldName'] == 'OnwyDrc':\n",
    "            field['label'] = 'One Way Direction'\n",
    "        if field['fieldName'] == 'IsSdwlk':\n",
    "            field['label'] = 'Is Sidewalk?'\n",
    "        if field['fieldName'] == 'N':\n",
    "            field['label'] = 'Sample Size'\n",
    "    \n",
    "    first_item = field_infos.pop(6)\n",
    "    field_infos.insert(0, first_item)\n",
    "    \n",
    "    return layer"
   ]
  },
  {
   "cell_type": "code",
   "execution_count": 17,
   "id": "d41b4210",
   "metadata": {},
   "outputs": [],
   "source": [
    "for i in range(0, n):\n",
    "    item_data['operationalLayers'][i] = edit_popupInfo(item_data['operationalLayers'][i])"
   ]
  },
  {
   "cell_type": "code",
   "execution_count": 18,
   "id": "d25ac0e3",
   "metadata": {},
   "outputs": [],
   "source": [
    "item_properties = {\"text\": json.dumps(item_data)}"
   ]
  },
  {
   "cell_type": "code",
   "execution_count": 19,
   "id": "c434b40e",
   "metadata": {},
   "outputs": [
    {
     "data": {
      "text/plain": [
       "True"
      ]
     },
     "execution_count": 19,
     "metadata": {},
     "output_type": "execute_result"
    }
   ],
   "source": [
    "webmap_item.update(item_properties=item_properties)"
   ]
  },
  {
   "cell_type": "markdown",
   "id": "fc3319d1",
   "metadata": {},
   "source": [
    "item_data['operationalLayers']"
   ]
  }
 ],
 "metadata": {
  "kernelspec": {
   "display_name": "Python 3",
   "language": "python",
   "name": "python3"
  },
  "language_info": {
   "codemirror_mode": {
    "name": "ipython",
    "version": 3
   },
   "file_extension": ".py",
   "mimetype": "text/x-python",
   "name": "python",
   "nbconvert_exporter": "python",
   "pygments_lexer": "ipython3",
   "version": "3.8.8"
  }
 },
 "nbformat": 4,
 "nbformat_minor": 5
}
