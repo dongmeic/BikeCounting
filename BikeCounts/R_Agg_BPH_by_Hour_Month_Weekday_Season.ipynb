{
 "cells": [
  {
   "cell_type": "code",
   "execution_count": 1,
   "id": "068f0ce3",
   "metadata": {},
   "outputs": [],
   "source": [
    "options(warn = -1)"
   ]
  },
  {
   "cell_type": "code",
   "execution_count": 2,
   "id": "0ec53d2c",
   "metadata": {},
   "outputs": [
    {
     "name": "stderr",
     "output_type": "stream",
     "text": [
      "\n",
      "Attaching package: 'lubridate'\n",
      "\n",
      "\n",
      "The following objects are masked from 'package:base':\n",
      "\n",
      "    date, intersect, setdiff, union\n",
      "\n",
      "\n",
      "Loading required package: sp\n",
      "\n",
      "rgdal: version: 1.5-23, (SVN revision 1121)\n",
      "Geospatial Data Abstraction Library extensions to R successfully loaded\n",
      "Loaded GDAL runtime: GDAL 3.2.1, released 2020/12/29\n",
      "Path to GDAL shared files: C:/Users/clid1852/Documents/R/win-library/4.0/rgdal/gdal\n",
      "GDAL binary built with GEOS: TRUE \n",
      "Loaded PROJ runtime: Rel. 7.2.1, January 1st, 2021, [PJ_VERSION: 721]\n",
      "Path to PROJ shared files: C:/Users/clid1852/Documents/R/win-library/4.0/rgdal/proj\n",
      "PROJ CDN enabled: TRUE\n",
      "Linking to sp version:1.4-5\n",
      "To mute warnings of possible GDAL/OSR exportToProj4() degradation,\n",
      "use options(\"rgdal_show_exportToProj4_warnings\"=\"none\") before loading rgdal.\n",
      "Overwritten PROJ_LIB was C:/Users/clid1852/Documents/R/win-library/4.0/rgdal/proj\n",
      "\n"
     ]
    }
   ],
   "source": [
    "library(readxl)\n",
    "library(lubridate)\n",
    "library(rgdal)\n",
    "library(stringr)"
   ]
  },
  {
   "cell_type": "code",
   "execution_count": 3,
   "id": "9fa152e0",
   "metadata": {},
   "outputs": [],
   "source": [
    "inpath <- 'T:/Data/COUNTS/Nonmotorized Counts/Summary Tables/Bicycle/'"
   ]
  },
  {
   "cell_type": "code",
   "execution_count": 4,
   "id": "50436787",
   "metadata": {},
   "outputs": [],
   "source": [
    "data <- read.csv(paste0(inpath, 'Bicycle_HourlyForTableau.csv'))"
   ]
  },
  {
   "cell_type": "code",
   "execution_count": 36,
   "id": "8a82cf2a",
   "metadata": {},
   "outputs": [
    {
     "data": {
      "text/html": [
       "<style>\n",
       ".list-inline {list-style: none; margin:0; padding: 0}\n",
       ".list-inline>li {display: inline-block}\n",
       ".list-inline>li:not(:last-child)::after {content: \"\\00b7\"; padding: 0 .5ex}\n",
       "</style>\n",
       "<ol class=list-inline><li>2012</li><li>2022</li></ol>\n"
      ],
      "text/latex": [
       "\\begin{enumerate*}\n",
       "\\item 2012\n",
       "\\item 2022\n",
       "\\end{enumerate*}\n"
      ],
      "text/markdown": [
       "1. 2012\n",
       "2. 2022\n",
       "\n",
       "\n"
      ],
      "text/plain": [
       "[1] 2012 2022"
      ]
     },
     "metadata": {},
     "output_type": "display_data"
    }
   ],
   "source": [
    "range(data$Year)"
   ]
  },
  {
   "cell_type": "code",
   "execution_count": 5,
   "id": "820a4a16",
   "metadata": {},
   "outputs": [
    {
     "data": {
      "text/html": [
       "<style>\n",
       ".list-inline {list-style: none; margin:0; padding: 0}\n",
       ".list-inline>li {display: inline-block}\n",
       ".list-inline>li:not(:last-child)::after {content: \"\\00b7\"; padding: 0 .5ex}\n",
       "</style>\n",
       "<ol class=list-inline><li>'Direction'</li><li>'ObsHours'</li><li>'Location'</li><li>'LocationId'</li><li>'Day'</li><li>'Month'</li><li>'MonthDesc'</li><li>'Year'</li><li>'Date'</li><li>'Season'</li><li>'Weekday'</li><li>'IsHoliday'</li><li>'Period'</li><li>'DailyCounts'</li><li>'IsOneway'</li><li>'OnewayDirection'</li><li>'IsSidewalk'</li><li>'UoInSession'</li><li>'IsSpecialEvent'</li><li>'UniqueId'</li><li>'Hour'</li><li>'Hourly_Count'</li></ol>\n"
      ],
      "text/latex": [
       "\\begin{enumerate*}\n",
       "\\item 'Direction'\n",
       "\\item 'ObsHours'\n",
       "\\item 'Location'\n",
       "\\item 'LocationId'\n",
       "\\item 'Day'\n",
       "\\item 'Month'\n",
       "\\item 'MonthDesc'\n",
       "\\item 'Year'\n",
       "\\item 'Date'\n",
       "\\item 'Season'\n",
       "\\item 'Weekday'\n",
       "\\item 'IsHoliday'\n",
       "\\item 'Period'\n",
       "\\item 'DailyCounts'\n",
       "\\item 'IsOneway'\n",
       "\\item 'OnewayDirection'\n",
       "\\item 'IsSidewalk'\n",
       "\\item 'UoInSession'\n",
       "\\item 'IsSpecialEvent'\n",
       "\\item 'UniqueId'\n",
       "\\item 'Hour'\n",
       "\\item 'Hourly\\_Count'\n",
       "\\end{enumerate*}\n"
      ],
      "text/markdown": [
       "1. 'Direction'\n",
       "2. 'ObsHours'\n",
       "3. 'Location'\n",
       "4. 'LocationId'\n",
       "5. 'Day'\n",
       "6. 'Month'\n",
       "7. 'MonthDesc'\n",
       "8. 'Year'\n",
       "9. 'Date'\n",
       "10. 'Season'\n",
       "11. 'Weekday'\n",
       "12. 'IsHoliday'\n",
       "13. 'Period'\n",
       "14. 'DailyCounts'\n",
       "15. 'IsOneway'\n",
       "16. 'OnewayDirection'\n",
       "17. 'IsSidewalk'\n",
       "18. 'UoInSession'\n",
       "19. 'IsSpecialEvent'\n",
       "20. 'UniqueId'\n",
       "21. 'Hour'\n",
       "22. 'Hourly_Count'\n",
       "\n",
       "\n"
      ],
      "text/plain": [
       " [1] \"Direction\"       \"ObsHours\"        \"Location\"        \"LocationId\"     \n",
       " [5] \"Day\"             \"Month\"           \"MonthDesc\"       \"Year\"           \n",
       " [9] \"Date\"            \"Season\"          \"Weekday\"         \"IsHoliday\"      \n",
       "[13] \"Period\"          \"DailyCounts\"     \"IsOneway\"        \"OnewayDirection\"\n",
       "[17] \"IsSidewalk\"      \"UoInSession\"     \"IsSpecialEvent\"  \"UniqueId\"       \n",
       "[21] \"Hour\"            \"Hourly_Count\"   "
      ]
     },
     "metadata": {},
     "output_type": "display_data"
    }
   ],
   "source": [
    "names(data)"
   ]
  },
  {
   "cell_type": "code",
   "execution_count": 20,
   "id": "b575bf57",
   "metadata": {},
   "outputs": [
    {
     "data": {
      "text/html": [
       "<style>\n",
       ".list-inline {list-style: none; margin:0; padding: 0}\n",
       ".list-inline>li {display: inline-block}\n",
       ".list-inline>li:not(:last-child)::after {content: \"\\00b7\"; padding: 0 .5ex}\n",
       "</style>\n",
       "<ol class=list-inline><li>0</li><li>2724</li></ol>\n"
      ],
      "text/latex": [
       "\\begin{enumerate*}\n",
       "\\item 0\n",
       "\\item 2724\n",
       "\\end{enumerate*}\n"
      ],
      "text/markdown": [
       "1. 0\n",
       "2. 2724\n",
       "\n",
       "\n"
      ],
      "text/plain": [
       "[1]    0 2724"
      ]
     },
     "metadata": {},
     "output_type": "display_data"
    }
   ],
   "source": [
    "range(na.omit(data$DailyCounts))"
   ]
  },
  {
   "cell_type": "code",
   "execution_count": 21,
   "id": "ef6e2a79",
   "metadata": {},
   "outputs": [],
   "source": [
    "a = \"W Broadway East of Monroe St\""
   ]
  },
  {
   "cell_type": "code",
   "execution_count": 6,
   "id": "d24e7a86",
   "metadata": {},
   "outputs": [],
   "source": [
    "data$Date <- as.Date(data$Date, \"%Y-%m-%d\")"
   ]
  },
  {
   "cell_type": "code",
   "execution_count": 7,
   "id": "5f34b2d1",
   "metadata": {},
   "outputs": [],
   "source": [
    "locdata <- read.csv(\"T:/Data/COUNTS/Nonmotorized Counts/Supporting Data/Supporting Bicycle Data/CountLocationInformation.csv\")"
   ]
  },
  {
   "cell_type": "code",
   "execution_count": 31,
   "id": "86cbdac1",
   "metadata": {},
   "outputs": [
    {
     "data": {
      "text/html": [
       "TRUE"
      ],
      "text/latex": [
       "TRUE"
      ],
      "text/markdown": [
       "TRUE"
      ],
      "text/plain": [
       "[1] TRUE"
      ]
     },
     "metadata": {},
     "output_type": "display_data"
    }
   ],
   "source": [
    "a %in% unique(locdata$Site_Name)"
   ]
  },
  {
   "cell_type": "code",
   "execution_count": 32,
   "id": "30cb8054",
   "metadata": {},
   "outputs": [
    {
     "data": {
      "text/html": [
       "'BroadwayEastMonroe'"
      ],
      "text/latex": [
       "'BroadwayEastMonroe'"
      ],
      "text/markdown": [
       "'BroadwayEastMonroe'"
      ],
      "text/plain": [
       "[1] \"BroadwayEastMonroe\""
      ]
     },
     "metadata": {},
     "output_type": "display_data"
    }
   ],
   "source": [
    "locdata[locdata$Site_Name == a, \"Location\"]"
   ]
  },
  {
   "cell_type": "code",
   "execution_count": 35,
   "id": "b4edfa93",
   "metadata": {},
   "outputs": [
    {
     "data": {
      "text/html": [
       "<table class=\"dataframe\">\n",
       "<caption>A data.frame: 1 × 2</caption>\n",
       "<thead>\n",
       "\t<tr><th></th><th scope=col>Date</th><th scope=col>DailyCounts</th></tr>\n",
       "\t<tr><th></th><th scope=col>&lt;date&gt;</th><th scope=col>&lt;int&gt;</th></tr>\n",
       "</thead>\n",
       "<tbody>\n",
       "\t<tr><th scope=row>23647</th><td>2017-07-30</td><td>1386</td></tr>\n",
       "</tbody>\n",
       "</table>\n"
      ],
      "text/latex": [
       "A data.frame: 1 × 2\n",
       "\\begin{tabular}{r|ll}\n",
       "  & Date & DailyCounts\\\\\n",
       "  & <date> & <int>\\\\\n",
       "\\hline\n",
       "\t23647 & 2017-07-30 & 1386\\\\\n",
       "\\end{tabular}\n"
      ],
      "text/markdown": [
       "\n",
       "A data.frame: 1 × 2\n",
       "\n",
       "| <!--/--> | Date &lt;date&gt; | DailyCounts &lt;int&gt; |\n",
       "|---|---|---|\n",
       "| 23647 | 2017-07-30 | 1386 |\n",
       "\n"
      ],
      "text/plain": [
       "      Date       DailyCounts\n",
       "23647 2017-07-30 1386       "
      ]
     },
     "metadata": {},
     "output_type": "display_data"
    }
   ],
   "source": [
    "unique(data[data$Location == 'BroadwayEastMonroe' & \n",
    "            data$Direction == 'Total' & \n",
    "            data$ObsHours == 24 & \n",
    "            data$Season == 'Summer', \n",
    "            c('Date', 'DailyCounts')])"
   ]
  },
  {
   "cell_type": "code",
   "execution_count": 8,
   "id": "f3afec14",
   "metadata": {},
   "outputs": [],
   "source": [
    "# remove missing data\n",
    "data1 <- data[!is.na(data$Hourly_Count),]"
   ]
  },
  {
   "cell_type": "code",
   "execution_count": 9,
   "id": "fe30e1cc",
   "metadata": {},
   "outputs": [],
   "source": [
    "# use only the total direction\n",
    "data1 <- data1[data1$Direction == 'Total',]"
   ]
  },
  {
   "cell_type": "code",
   "execution_count": 10,
   "id": "74e4363f",
   "metadata": {},
   "outputs": [],
   "source": [
    "# if the most recent year is not complete, remove it first\n",
    "data1 <- data1[data1$Year != 2022,]"
   ]
  },
  {
   "cell_type": "code",
   "execution_count": 11,
   "id": "6d1a5ed0",
   "metadata": {},
   "outputs": [],
   "source": [
    "data1$Season <- ifelse(data1$MonthDesc == \"September\", \"Fall\", data1$Season)"
   ]
  },
  {
   "cell_type": "code",
   "execution_count": 12,
   "id": "79ebd37d",
   "metadata": {},
   "outputs": [],
   "source": [
    "locvars <- c('Location', 'Latitude', 'Longitude', 'Site_Name', \n",
    "             'DoubleCountLocation', 'IsOneway', 'OnewayDirection', \n",
    "             'IsSidewalk')"
   ]
  },
  {
   "cell_type": "code",
   "execution_count": 13,
   "id": "73b361de",
   "metadata": {},
   "outputs": [
    {
     "name": "stdout",
     "output_type": "stream",
     "text": [
      "OGR data source with driver: ESRI Shapefile \n",
      "Source: \"V:\\Data\\Transportation\", layer: \"MPO_Bound\"\n",
      "with 1 features\n",
      "It has 3 fields\n"
     ]
    }
   ],
   "source": [
    "MPOBound <- readOGR(dsn = \"V:/Data/Transportation\", layer=\"MPO_Bound\")"
   ]
  },
  {
   "cell_type": "code",
   "execution_count": 14,
   "id": "60fb619e",
   "metadata": {},
   "outputs": [],
   "source": [
    "# require MPOBound\n",
    "df2spdf <- function(df, lon_col_name, lat_col_name, trans = TRUE){\n",
    "  lonlat <- sp::CRS(\"+proj=longlat +datum=WGS84 +ellps=WGS84 +towgs84=0,0,0\")\n",
    "  lon_col_no <- which(names(df)==lon_col_name)\n",
    "  lat_col_no <- which(names(df)==lat_col_name)\n",
    "  xy <- data.frame(df[,c(lon_col_no,lat_col_no)])\n",
    "  coordinates(xy) <- c(lon_col_name, lat_col_name)\n",
    "  proj4string(xy) <- lonlat\n",
    "  spdf <- sp::SpatialPointsDataFrame(coords = xy, data = df)\n",
    "  if(trans){\n",
    "    spdf <- spTransform(spdf, CRS(proj4string(MPOBound)))\n",
    "  }\n",
    "  return(spdf)\n",
    "}"
   ]
  },
  {
   "cell_type": "code",
   "execution_count": 15,
   "id": "2622bc10",
   "metadata": {},
   "outputs": [],
   "source": [
    "path <- \"T:/DCProjects/StoryMap/BikeCounting/BikeCounts/Output\""
   ]
  },
  {
   "cell_type": "code",
   "execution_count": 16,
   "id": "55ff63c2",
   "metadata": {},
   "outputs": [],
   "source": [
    "agg_data <- function(var=\"Hour\"){\n",
    "    outdata <- aggregate(x=list(BPH = data1$Hourly_Count), by=list(Category = data1[,var], Location = data1$Location), FUN=mean)\n",
    "    outdata <- merge(outdata, locdata[,locvars], by = 'Location')\n",
    "    for(loc in unique(outdata$Location)){\n",
    "        for(cat in unique(outdata$Category)){\n",
    "            c <- data1[data1$Location == loc & data1[,var] == cat, var]\n",
    "            outdata[outdata$Location==loc & outdata$Category == cat,\"N\"] <- length(c)\n",
    "        }\n",
    "        \n",
    "    }\n",
    "    names(outdata)[which(names(outdata)=='Category')] <- var\n",
    "    write.csv(outdata, paste0(path, \"/BPH_\", var,\".csv\"), row.names = FALSE)\n",
    "    print(paste(\"Got the aggregated data by\", var))\n",
    "    outspdf <- df2spdf(outdata, 'Longitude', 'Latitude')\n",
    "    writeOGR(outspdf, dsn=path, layer=paste0(\"BPH_\", var), \n",
    "         driver=\"ESRI Shapefile\", overwrite_layer=TRUE)\n",
    "    print(paste(\"Got the spatial aggregated data by\", var))\n",
    "}"
   ]
  },
  {
   "cell_type": "code",
   "execution_count": 17,
   "id": "5f1ded1c",
   "metadata": {},
   "outputs": [
    {
     "name": "stdout",
     "output_type": "stream",
     "text": [
      "[1] \"Got the aggregated data by Hour\"\n",
      "[1] \"Got the spatial aggregated data by Hour\"\n"
     ]
    }
   ],
   "source": [
    "agg_data()"
   ]
  },
  {
   "cell_type": "code",
   "execution_count": 18,
   "id": "f92a823e",
   "metadata": {},
   "outputs": [
    {
     "name": "stdout",
     "output_type": "stream",
     "text": [
      "[1] \"Got the aggregated data by Weekday\"\n",
      "[1] \"Got the spatial aggregated data by Weekday\"\n",
      "[1] \"Got the aggregated data by Month\"\n",
      "[1] \"Got the spatial aggregated data by Month\"\n",
      "[1] \"Got the aggregated data by Season\"\n",
      "[1] \"Got the spatial aggregated data by Season\"\n"
     ]
    }
   ],
   "source": [
    "for(var in c(\"Weekday\", \"Month\", \"Season\")){\n",
    "    agg_data(var=var)\n",
    "}"
   ]
  },
  {
   "cell_type": "code",
   "execution_count": null,
   "id": "452f0380",
   "metadata": {},
   "outputs": [],
   "source": []
  }
 ],
 "metadata": {
  "kernelspec": {
   "display_name": "R",
   "language": "R",
   "name": "ir"
  },
  "language_info": {
   "codemirror_mode": "r",
   "file_extension": ".r",
   "mimetype": "text/x-r-source",
   "name": "R",
   "pygments_lexer": "r",
   "version": "4.0.3"
  }
 },
 "nbformat": 4,
 "nbformat_minor": 5
}
