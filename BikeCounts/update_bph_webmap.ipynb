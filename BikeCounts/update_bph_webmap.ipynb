{
 "cells": [
  {
   "cell_type": "code",
   "execution_count": 1,
   "id": "e90999da",
   "metadata": {},
   "outputs": [],
   "source": [
    "import arcpy\n",
    "from IPython.display import display\n",
    "import arcgis\n",
    "from arcgis.gis import GIS\n",
    "from arcgis.mapping import WebMap\n",
    "import datetime\n",
    "import json\n",
    "import shutil \n",
    "import os.path"
   ]
  },
  {
   "cell_type": "code",
   "execution_count": 2,
   "id": "63472ed5",
   "metadata": {
    "scrolled": true
   },
   "outputs": [],
   "source": [
    "gis = GIS('home')"
   ]
  },
  {
   "cell_type": "code",
   "execution_count": 3,
   "id": "d23fedf4",
   "metadata": {},
   "outputs": [],
   "source": [
    "path = \"T:/MPO/Bike&Ped/BikeCounting/StoryMap/BikeCounts/Output/\""
   ]
  },
  {
   "cell_type": "code",
   "execution_count": 6,
   "id": "70e5192f",
   "metadata": {},
   "outputs": [],
   "source": [
    "bph_vars = [\"Hour\", \"Weekday\", \"Month\", \"Season\"]"
   ]
  },
  {
   "cell_type": "code",
   "execution_count": 9,
   "id": "f7bb8335",
   "metadata": {},
   "outputs": [],
   "source": [
    "# Creating the ZIP file \n",
    "for var in bph_vars:\n",
    "    archived = shutil.make_archive(path+'BPH_'+var, 'zip', path+'BPH_'+var)"
   ]
  },
  {
   "cell_type": "code",
   "execution_count": 38,
   "id": "e0c09510",
   "metadata": {},
   "outputs": [
    {
     "name": "stdout",
     "output_type": "stream",
     "text": [
      "0:00:02.431318\n",
      "Hour\n",
      "0:00:02.136595\n",
      "Weekday\n",
      "0:00:02.253060\n",
      "Month\n",
      "0:00:02.191531\n",
      "Season\n"
     ]
    }
   ],
   "source": [
    "# update items online\n",
    "for var in bph_vars:\n",
    "    file_properties={'title':\"Average Bikes Per Hour by \" + var,\n",
    "                 'type': 'Shapefile',\n",
    "                 'tags': 'bike counts, bike'}\n",
    "    \n",
    "    now = datetime.datetime.now()\n",
    "    q=f'title:\"Average Bikes Per Hour by {var}\"'\n",
    "    my_content = gis.content.search(query=q+ \" AND owner:DCHEN_LCOG\",\n",
    "                               item_type=\"Feature Layer\")\n",
    "    file_item=my_content[0]\n",
    "    file_item.update(item_properties = file_properties)\n",
    "    later = datetime.datetime.now()\n",
    "    elapsed = later - now\n",
    "    print(elapsed)\n",
    "    print(var)"
   ]
  }
 ],
 "metadata": {
  "kernelspec": {
   "display_name": "Python 3",
   "language": "python",
   "name": "python3"
  },
  "language_info": {
   "codemirror_mode": {
    "name": "ipython",
    "version": 3
   },
   "file_extension": ".py",
   "mimetype": "text/x-python",
   "name": "python",
   "nbconvert_exporter": "python",
   "pygments_lexer": "ipython3",
   "version": "3.9.11"
  }
 },
 "nbformat": 4,
 "nbformat_minor": 5
}
