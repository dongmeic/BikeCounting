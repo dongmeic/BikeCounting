{
 "cells": [
  {
   "cell_type": "code",
   "execution_count": 2,
   "id": "8ec47e4e",
   "metadata": {},
   "outputs": [],
   "source": [
    "import geopandas as gpd\n",
    "import pandas as pd\n",
    "from shapely.geometry import Point\n",
    "import zipfile\n",
    "import io\n",
    "import glob"
   ]
  },
  {
   "cell_type": "code",
   "execution_count": 3,
   "id": "54e0c5fc",
   "metadata": {},
   "outputs": [],
   "source": [
    "path = \"T:/DCProjects/StoryMap/BikeCounting/BikeCounts/Data/\""
   ]
  },
  {
   "cell_type": "code",
   "execution_count": 3,
   "id": "5074ff57",
   "metadata": {},
   "outputs": [
    {
     "name": "stderr",
     "output_type": "stream",
     "text": [
      "C:\\Users\\clid1852\\.conda\\envs\\geoenv\\lib\\site-packages\\IPython\\core\\interactiveshell.py:3165: DtypeWarning: Columns (15) have mixed types.Specify dtype option on import or set low_memory=False.\n",
      "  has_raised = await self.run_ast_nodes(code_ast.body, cell_name,\n"
     ]
    }
   ],
   "source": [
    "dat = pd.read_csv(path + \"bike_counts.csv\")"
   ]
  },
  {
   "cell_type": "code",
   "execution_count": 4,
   "id": "96b15899",
   "metadata": {},
   "outputs": [
    {
     "data": {
      "text/plain": [
       "Index(['LocationId', 'Direction', 'ObsHours', 'Location', 'Day', 'Month',\n",
       "       'MonthDesc', 'Year', 'Date', 'Season', 'Weekday', 'IsHoliday', 'Period',\n",
       "       'DailyCounts', 'IsOneway', 'OnewayDirection', 'IsSidewalk',\n",
       "       'UoInSession', 'IsSpecialEvent', 'UniqueId', 'Hour', 'Hourly_Count',\n",
       "       'Latitude', 'Longitude', 'Site_Name', 'DoubleCountLocation'],\n",
       "      dtype='object')"
      ]
     },
     "execution_count": 4,
     "metadata": {},
     "output_type": "execute_result"
    }
   ],
   "source": [
    "dat.columns"
   ]
  },
  {
   "cell_type": "code",
   "execution_count": 6,
   "id": "10d47314",
   "metadata": {},
   "outputs": [],
   "source": [
    "geometry = [Point(xy) for xy in zip(dat.Longitude, dat.Latitude)]\n",
    "gdf = gpd.GeoDataFrame(dat, crs=\"EPSG:4326\", geometry=geometry)"
   ]
  },
  {
   "cell_type": "code",
   "execution_count": 7,
   "id": "f2d94b2c",
   "metadata": {},
   "outputs": [],
   "source": [
    "gdf.rename(columns={\"DailyCounts\": \"DailyCount\", \"OnewayDirection\": \"OnewayDirt\", \"UoInSession\": \"UoISession\",\n",
    "                    \"IsSpecialEvent\": \"IsSpecEvet\", \"IsSpecialEvent\": \"IsSpecEvet\", \n",
    "                    \"Hourly_Count\": \"HourlyCnt\", \"DoubleCountLocation\": \"DublCntLoc\"}, inplace=True)"
   ]
  },
  {
   "cell_type": "code",
   "execution_count": 10,
   "id": "c3ae9d34",
   "metadata": {},
   "outputs": [],
   "source": [
    "gdf.to_file(path+\"shp/bike_counts.shp\", index=False)"
   ]
  },
  {
   "cell_type": "code",
   "execution_count": 6,
   "id": "58b38bb0",
   "metadata": {},
   "outputs": [],
   "source": [
    "gdf = gpd.read_file(path+\"shp/bike_counts.shp\")"
   ]
  },
  {
   "cell_type": "code",
   "execution_count": 7,
   "id": "c1132c4a",
   "metadata": {},
   "outputs": [
    {
     "data": {
      "text/plain": [
       "Index(['LocationId', 'Direction', 'ObsHours', 'Location', 'Day', 'Month',\n",
       "       'MonthDesc', 'Year', 'Date', 'Season', 'Weekday', 'IsHoliday', 'Period',\n",
       "       'DailyCount', 'IsOneway', 'OnewayDirt', 'IsSidewalk', 'UoISession',\n",
       "       'IsSpecEvet', 'UniqueId', 'Hour', 'HourlyCnt', 'Latitude', 'Longitude',\n",
       "       'Site_Name', 'DublCntLoc', 'geometry'],\n",
       "      dtype='object')"
      ]
     },
     "execution_count": 7,
     "metadata": {},
     "output_type": "execute_result"
    }
   ],
   "source": [
    "gdf.columns"
   ]
  },
  {
   "cell_type": "code",
   "execution_count": 19,
   "id": "024e3aaa",
   "metadata": {},
   "outputs": [],
   "source": [
    "years = sorted(gdf.Year.unique())"
   ]
  },
  {
   "cell_type": "code",
   "execution_count": 21,
   "id": "2cabdc39",
   "metadata": {},
   "outputs": [],
   "source": [
    "for year in years:\n",
    "    gdfs = gdf[gdf.Year == year]\n",
    "    gdfs.to_file(path+\"shp/bike_counts_\"+str(year)+\".shp\", index=False)"
   ]
  },
  {
   "cell_type": "code",
   "execution_count": 1,
   "id": "6af84672",
   "metadata": {},
   "outputs": [],
   "source": [
    "# Function : file_compress\n",
    "def file_compress(inp_file_names, out_zip_file):\n",
    "    \"\"\"\n",
    "    function : file_compress\n",
    "    args : inp_file_names : list of filenames to be zipped\n",
    "    out_zip_file : output zip file\n",
    "    return : none\n",
    "    assumption : Input file paths and this code is in same directory.\n",
    "    \"\"\"\n",
    "    # Select the compression mode ZIP_DEFLATED for compression\n",
    "    # or zipfile.ZIP_STORED to just store the file\n",
    "    compression = zipfile.ZIP_DEFLATED\n",
    "    print(f\" *** Input File name passed for zipping - {inp_file_names}\")\n",
    "\n",
    "    # create the zip file first parameter path/name, second mode\n",
    "    print(f' *** out_zip_file is - {out_zip_file}')\n",
    "    zf = zipfile.ZipFile(out_zip_file, mode=\"w\")\n",
    "    \n",
    "    try:\n",
    "        for file_to_write in inp_file_names:\n",
    "            # Add file to the zip file\n",
    "            # first parameter file to zip, second filename in zip\n",
    "            print(f' *** Processing file {file_to_write}')\n",
    "            zf.write(file_to_write, file_to_write, compress_type=compression)\n",
    "\n",
    "    except FileNotFoundError as e:\n",
    "        print(f' *** Exception occurred during zip process - {e}')\n",
    "    finally:\n",
    "        # Don't forget to close the file!\n",
    "        zf.close()"
   ]
  },
  {
   "cell_type": "code",
   "execution_count": 40,
   "id": "420e9b8b",
   "metadata": {
    "scrolled": true
   },
   "outputs": [
    {
     "name": "stdout",
     "output_type": "stream",
     "text": [
      " *** Input File name passed for zipping - ['T:/DCProjects/StoryMap/BikeCounting/BikeCounts/Data/shp\\\\bike_counts_2012.cpg', 'T:/DCProjects/StoryMap/BikeCounting/BikeCounts/Data/shp\\\\bike_counts_2012.dbf', 'T:/DCProjects/StoryMap/BikeCounting/BikeCounts/Data/shp\\\\bike_counts_2012.prj', 'T:/DCProjects/StoryMap/BikeCounting/BikeCounts/Data/shp\\\\bike_counts_2012.shp', 'T:/DCProjects/StoryMap/BikeCounting/BikeCounts/Data/shp\\\\bike_counts_2012.shx']\n",
      " *** out_zip_file is - T:/DCProjects/StoryMap/BikeCounting/BikeCounts/Data/shp/bike_counts_2012.zip\n",
      " *** Processing file T:/DCProjects/StoryMap/BikeCounting/BikeCounts/Data/shp\\bike_counts_2012.cpg\n",
      " *** Processing file T:/DCProjects/StoryMap/BikeCounting/BikeCounts/Data/shp\\bike_counts_2012.dbf\n",
      " *** Processing file T:/DCProjects/StoryMap/BikeCounting/BikeCounts/Data/shp\\bike_counts_2012.prj\n",
      " *** Processing file T:/DCProjects/StoryMap/BikeCounting/BikeCounts/Data/shp\\bike_counts_2012.shp\n",
      " *** Processing file T:/DCProjects/StoryMap/BikeCounting/BikeCounts/Data/shp\\bike_counts_2012.shx\n",
      " *** Input File name passed for zipping - ['T:/DCProjects/StoryMap/BikeCounting/BikeCounts/Data/shp\\\\bike_counts_2013.cpg', 'T:/DCProjects/StoryMap/BikeCounting/BikeCounts/Data/shp\\\\bike_counts_2013.dbf', 'T:/DCProjects/StoryMap/BikeCounting/BikeCounts/Data/shp\\\\bike_counts_2013.prj', 'T:/DCProjects/StoryMap/BikeCounting/BikeCounts/Data/shp\\\\bike_counts_2013.shp', 'T:/DCProjects/StoryMap/BikeCounting/BikeCounts/Data/shp\\\\bike_counts_2013.shx']\n",
      " *** out_zip_file is - T:/DCProjects/StoryMap/BikeCounting/BikeCounts/Data/shp/bike_counts_2013.zip\n",
      " *** Processing file T:/DCProjects/StoryMap/BikeCounting/BikeCounts/Data/shp\\bike_counts_2013.cpg\n",
      " *** Processing file T:/DCProjects/StoryMap/BikeCounting/BikeCounts/Data/shp\\bike_counts_2013.dbf\n",
      " *** Processing file T:/DCProjects/StoryMap/BikeCounting/BikeCounts/Data/shp\\bike_counts_2013.prj\n",
      " *** Processing file T:/DCProjects/StoryMap/BikeCounting/BikeCounts/Data/shp\\bike_counts_2013.shp\n",
      " *** Processing file T:/DCProjects/StoryMap/BikeCounting/BikeCounts/Data/shp\\bike_counts_2013.shx\n",
      " *** Input File name passed for zipping - ['T:/DCProjects/StoryMap/BikeCounting/BikeCounts/Data/shp\\\\bike_counts_2014.cpg', 'T:/DCProjects/StoryMap/BikeCounting/BikeCounts/Data/shp\\\\bike_counts_2014.dbf', 'T:/DCProjects/StoryMap/BikeCounting/BikeCounts/Data/shp\\\\bike_counts_2014.prj', 'T:/DCProjects/StoryMap/BikeCounting/BikeCounts/Data/shp\\\\bike_counts_2014.shp', 'T:/DCProjects/StoryMap/BikeCounting/BikeCounts/Data/shp\\\\bike_counts_2014.shx']\n",
      " *** out_zip_file is - T:/DCProjects/StoryMap/BikeCounting/BikeCounts/Data/shp/bike_counts_2014.zip\n",
      " *** Processing file T:/DCProjects/StoryMap/BikeCounting/BikeCounts/Data/shp\\bike_counts_2014.cpg\n",
      " *** Processing file T:/DCProjects/StoryMap/BikeCounting/BikeCounts/Data/shp\\bike_counts_2014.dbf\n",
      " *** Processing file T:/DCProjects/StoryMap/BikeCounting/BikeCounts/Data/shp\\bike_counts_2014.prj\n",
      " *** Processing file T:/DCProjects/StoryMap/BikeCounting/BikeCounts/Data/shp\\bike_counts_2014.shp\n",
      " *** Processing file T:/DCProjects/StoryMap/BikeCounting/BikeCounts/Data/shp\\bike_counts_2014.shx\n",
      " *** Input File name passed for zipping - ['T:/DCProjects/StoryMap/BikeCounting/BikeCounts/Data/shp\\\\bike_counts_2015.cpg', 'T:/DCProjects/StoryMap/BikeCounting/BikeCounts/Data/shp\\\\bike_counts_2015.dbf', 'T:/DCProjects/StoryMap/BikeCounting/BikeCounts/Data/shp\\\\bike_counts_2015.prj', 'T:/DCProjects/StoryMap/BikeCounting/BikeCounts/Data/shp\\\\bike_counts_2015.shp', 'T:/DCProjects/StoryMap/BikeCounting/BikeCounts/Data/shp\\\\bike_counts_2015.shx']\n",
      " *** out_zip_file is - T:/DCProjects/StoryMap/BikeCounting/BikeCounts/Data/shp/bike_counts_2015.zip\n",
      " *** Processing file T:/DCProjects/StoryMap/BikeCounting/BikeCounts/Data/shp\\bike_counts_2015.cpg\n",
      " *** Processing file T:/DCProjects/StoryMap/BikeCounting/BikeCounts/Data/shp\\bike_counts_2015.dbf\n",
      " *** Processing file T:/DCProjects/StoryMap/BikeCounting/BikeCounts/Data/shp\\bike_counts_2015.prj\n",
      " *** Processing file T:/DCProjects/StoryMap/BikeCounting/BikeCounts/Data/shp\\bike_counts_2015.shp\n",
      " *** Processing file T:/DCProjects/StoryMap/BikeCounting/BikeCounts/Data/shp\\bike_counts_2015.shx\n",
      " *** Input File name passed for zipping - ['T:/DCProjects/StoryMap/BikeCounting/BikeCounts/Data/shp\\\\bike_counts_2016.cpg', 'T:/DCProjects/StoryMap/BikeCounting/BikeCounts/Data/shp\\\\bike_counts_2016.dbf', 'T:/DCProjects/StoryMap/BikeCounting/BikeCounts/Data/shp\\\\bike_counts_2016.prj', 'T:/DCProjects/StoryMap/BikeCounting/BikeCounts/Data/shp\\\\bike_counts_2016.shp', 'T:/DCProjects/StoryMap/BikeCounting/BikeCounts/Data/shp\\\\bike_counts_2016.shx']\n",
      " *** out_zip_file is - T:/DCProjects/StoryMap/BikeCounting/BikeCounts/Data/shp/bike_counts_2016.zip\n",
      " *** Processing file T:/DCProjects/StoryMap/BikeCounting/BikeCounts/Data/shp\\bike_counts_2016.cpg\n",
      " *** Processing file T:/DCProjects/StoryMap/BikeCounting/BikeCounts/Data/shp\\bike_counts_2016.dbf\n",
      " *** Processing file T:/DCProjects/StoryMap/BikeCounting/BikeCounts/Data/shp\\bike_counts_2016.prj\n",
      " *** Processing file T:/DCProjects/StoryMap/BikeCounting/BikeCounts/Data/shp\\bike_counts_2016.shp\n",
      " *** Processing file T:/DCProjects/StoryMap/BikeCounting/BikeCounts/Data/shp\\bike_counts_2016.shx\n",
      " *** Input File name passed for zipping - ['T:/DCProjects/StoryMap/BikeCounting/BikeCounts/Data/shp\\\\bike_counts_2017.cpg', 'T:/DCProjects/StoryMap/BikeCounting/BikeCounts/Data/shp\\\\bike_counts_2017.dbf', 'T:/DCProjects/StoryMap/BikeCounting/BikeCounts/Data/shp\\\\bike_counts_2017.prj', 'T:/DCProjects/StoryMap/BikeCounting/BikeCounts/Data/shp\\\\bike_counts_2017.shp', 'T:/DCProjects/StoryMap/BikeCounting/BikeCounts/Data/shp\\\\bike_counts_2017.shx']\n",
      " *** out_zip_file is - T:/DCProjects/StoryMap/BikeCounting/BikeCounts/Data/shp/bike_counts_2017.zip\n",
      " *** Processing file T:/DCProjects/StoryMap/BikeCounting/BikeCounts/Data/shp\\bike_counts_2017.cpg\n",
      " *** Processing file T:/DCProjects/StoryMap/BikeCounting/BikeCounts/Data/shp\\bike_counts_2017.dbf\n",
      " *** Processing file T:/DCProjects/StoryMap/BikeCounting/BikeCounts/Data/shp\\bike_counts_2017.prj\n",
      " *** Processing file T:/DCProjects/StoryMap/BikeCounting/BikeCounts/Data/shp\\bike_counts_2017.shp\n",
      " *** Processing file T:/DCProjects/StoryMap/BikeCounting/BikeCounts/Data/shp\\bike_counts_2017.shx\n",
      " *** Input File name passed for zipping - ['T:/DCProjects/StoryMap/BikeCounting/BikeCounts/Data/shp\\\\bike_counts_2018.cpg', 'T:/DCProjects/StoryMap/BikeCounting/BikeCounts/Data/shp\\\\bike_counts_2018.dbf', 'T:/DCProjects/StoryMap/BikeCounting/BikeCounts/Data/shp\\\\bike_counts_2018.prj', 'T:/DCProjects/StoryMap/BikeCounting/BikeCounts/Data/shp\\\\bike_counts_2018.shp', 'T:/DCProjects/StoryMap/BikeCounting/BikeCounts/Data/shp\\\\bike_counts_2018.shx']\n",
      " *** out_zip_file is - T:/DCProjects/StoryMap/BikeCounting/BikeCounts/Data/shp/bike_counts_2018.zip\n",
      " *** Processing file T:/DCProjects/StoryMap/BikeCounting/BikeCounts/Data/shp\\bike_counts_2018.cpg\n",
      " *** Processing file T:/DCProjects/StoryMap/BikeCounting/BikeCounts/Data/shp\\bike_counts_2018.dbf\n",
      " *** Processing file T:/DCProjects/StoryMap/BikeCounting/BikeCounts/Data/shp\\bike_counts_2018.prj\n",
      " *** Processing file T:/DCProjects/StoryMap/BikeCounting/BikeCounts/Data/shp\\bike_counts_2018.shp\n",
      " *** Processing file T:/DCProjects/StoryMap/BikeCounting/BikeCounts/Data/shp\\bike_counts_2018.shx\n",
      " *** Input File name passed for zipping - ['T:/DCProjects/StoryMap/BikeCounting/BikeCounts/Data/shp\\\\bike_counts_2019.cpg', 'T:/DCProjects/StoryMap/BikeCounting/BikeCounts/Data/shp\\\\bike_counts_2019.dbf', 'T:/DCProjects/StoryMap/BikeCounting/BikeCounts/Data/shp\\\\bike_counts_2019.prj', 'T:/DCProjects/StoryMap/BikeCounting/BikeCounts/Data/shp\\\\bike_counts_2019.shp', 'T:/DCProjects/StoryMap/BikeCounting/BikeCounts/Data/shp\\\\bike_counts_2019.shx']\n",
      " *** out_zip_file is - T:/DCProjects/StoryMap/BikeCounting/BikeCounts/Data/shp/bike_counts_2019.zip\n",
      " *** Processing file T:/DCProjects/StoryMap/BikeCounting/BikeCounts/Data/shp\\bike_counts_2019.cpg\n",
      " *** Processing file T:/DCProjects/StoryMap/BikeCounting/BikeCounts/Data/shp\\bike_counts_2019.dbf\n",
      " *** Processing file T:/DCProjects/StoryMap/BikeCounting/BikeCounts/Data/shp\\bike_counts_2019.prj\n",
      " *** Processing file T:/DCProjects/StoryMap/BikeCounting/BikeCounts/Data/shp\\bike_counts_2019.shp\n"
     ]
    },
    {
     "name": "stdout",
     "output_type": "stream",
     "text": [
      " *** Processing file T:/DCProjects/StoryMap/BikeCounting/BikeCounts/Data/shp\\bike_counts_2019.shx\n",
      " *** Input File name passed for zipping - ['T:/DCProjects/StoryMap/BikeCounting/BikeCounts/Data/shp\\\\bike_counts_2020.cpg', 'T:/DCProjects/StoryMap/BikeCounting/BikeCounts/Data/shp\\\\bike_counts_2020.dbf', 'T:/DCProjects/StoryMap/BikeCounting/BikeCounts/Data/shp\\\\bike_counts_2020.prj', 'T:/DCProjects/StoryMap/BikeCounting/BikeCounts/Data/shp\\\\bike_counts_2020.shp', 'T:/DCProjects/StoryMap/BikeCounting/BikeCounts/Data/shp\\\\bike_counts_2020.shx']\n",
      " *** out_zip_file is - T:/DCProjects/StoryMap/BikeCounting/BikeCounts/Data/shp/bike_counts_2020.zip\n",
      " *** Processing file T:/DCProjects/StoryMap/BikeCounting/BikeCounts/Data/shp\\bike_counts_2020.cpg\n",
      " *** Processing file T:/DCProjects/StoryMap/BikeCounting/BikeCounts/Data/shp\\bike_counts_2020.dbf\n",
      " *** Processing file T:/DCProjects/StoryMap/BikeCounting/BikeCounts/Data/shp\\bike_counts_2020.prj\n",
      " *** Processing file T:/DCProjects/StoryMap/BikeCounting/BikeCounts/Data/shp\\bike_counts_2020.shp\n",
      " *** Processing file T:/DCProjects/StoryMap/BikeCounting/BikeCounts/Data/shp\\bike_counts_2020.shx\n",
      " *** Input File name passed for zipping - ['T:/DCProjects/StoryMap/BikeCounting/BikeCounts/Data/shp\\\\bike_counts_2021.cpg', 'T:/DCProjects/StoryMap/BikeCounting/BikeCounts/Data/shp\\\\bike_counts_2021.dbf', 'T:/DCProjects/StoryMap/BikeCounting/BikeCounts/Data/shp\\\\bike_counts_2021.prj', 'T:/DCProjects/StoryMap/BikeCounting/BikeCounts/Data/shp\\\\bike_counts_2021.shp', 'T:/DCProjects/StoryMap/BikeCounting/BikeCounts/Data/shp\\\\bike_counts_2021.shx']\n",
      " *** out_zip_file is - T:/DCProjects/StoryMap/BikeCounting/BikeCounts/Data/shp/bike_counts_2021.zip\n",
      " *** Processing file T:/DCProjects/StoryMap/BikeCounting/BikeCounts/Data/shp\\bike_counts_2021.cpg\n",
      " *** Processing file T:/DCProjects/StoryMap/BikeCounting/BikeCounts/Data/shp\\bike_counts_2021.dbf\n",
      " *** Processing file T:/DCProjects/StoryMap/BikeCounting/BikeCounts/Data/shp\\bike_counts_2021.prj\n",
      " *** Processing file T:/DCProjects/StoryMap/BikeCounting/BikeCounts/Data/shp\\bike_counts_2021.shp\n",
      " *** Processing file T:/DCProjects/StoryMap/BikeCounting/BikeCounts/Data/shp\\bike_counts_2021.shx\n"
     ]
    }
   ],
   "source": [
    "for year in years:\n",
    "    file_name_list = glob.glob(path+\"shp/bike_counts_\"+str(year)+\".*\")\n",
    "    zip_file_name = path+\"shp/bike_counts_\"+str(year)+ \".zip\"\n",
    "    file_compress(file_name_list, zip_file_name)"
   ]
  },
  {
   "cell_type": "code",
   "execution_count": 7,
   "id": "39a94c23",
   "metadata": {},
   "outputs": [],
   "source": [
    "path = \"T:/DCProjects/StoryMap/BikeCounting/BikeCounts/Output\""
   ]
  },
  {
   "cell_type": "code",
   "execution_count": 11,
   "id": "4a18699f",
   "metadata": {},
   "outputs": [
    {
     "name": "stdout",
     "output_type": "stream",
     "text": [
      " *** Input File name passed for zipping - ['T:/DCProjects/StoryMap/BikeCounting/BikeCounts/Output\\\\BPH_Hour.csv', 'T:/DCProjects/StoryMap/BikeCounting/BikeCounts/Output\\\\BPH_Hour.dbf', 'T:/DCProjects/StoryMap/BikeCounting/BikeCounts/Output\\\\BPH_Hour.prj', 'T:/DCProjects/StoryMap/BikeCounting/BikeCounts/Output\\\\BPH_Hour.shp', 'T:/DCProjects/StoryMap/BikeCounting/BikeCounts/Output\\\\BPH_Hour.shx']\n",
      " *** out_zip_file is - T:/DCProjects/StoryMap/BikeCounting/BikeCounts/Output/BPH_Hour.zip\n",
      " *** Processing file T:/DCProjects/StoryMap/BikeCounting/BikeCounts/Output\\BPH_Hour.csv\n",
      " *** Processing file T:/DCProjects/StoryMap/BikeCounting/BikeCounts/Output\\BPH_Hour.dbf\n",
      " *** Processing file T:/DCProjects/StoryMap/BikeCounting/BikeCounts/Output\\BPH_Hour.prj\n",
      " *** Processing file T:/DCProjects/StoryMap/BikeCounting/BikeCounts/Output\\BPH_Hour.shp\n",
      " *** Processing file T:/DCProjects/StoryMap/BikeCounting/BikeCounts/Output\\BPH_Hour.shx\n",
      " *** Input File name passed for zipping - ['T:/DCProjects/StoryMap/BikeCounting/BikeCounts/Output\\\\BPH_Weekday.csv', 'T:/DCProjects/StoryMap/BikeCounting/BikeCounts/Output\\\\BPH_Weekday.dbf', 'T:/DCProjects/StoryMap/BikeCounting/BikeCounts/Output\\\\BPH_Weekday.prj', 'T:/DCProjects/StoryMap/BikeCounting/BikeCounts/Output\\\\BPH_Weekday.shp', 'T:/DCProjects/StoryMap/BikeCounting/BikeCounts/Output\\\\BPH_Weekday.shx']\n",
      " *** out_zip_file is - T:/DCProjects/StoryMap/BikeCounting/BikeCounts/Output/BPH_Weekday.zip\n",
      " *** Processing file T:/DCProjects/StoryMap/BikeCounting/BikeCounts/Output\\BPH_Weekday.csv\n",
      " *** Processing file T:/DCProjects/StoryMap/BikeCounting/BikeCounts/Output\\BPH_Weekday.dbf\n",
      " *** Processing file T:/DCProjects/StoryMap/BikeCounting/BikeCounts/Output\\BPH_Weekday.prj\n",
      " *** Processing file T:/DCProjects/StoryMap/BikeCounting/BikeCounts/Output\\BPH_Weekday.shp\n",
      " *** Processing file T:/DCProjects/StoryMap/BikeCounting/BikeCounts/Output\\BPH_Weekday.shx\n",
      " *** Input File name passed for zipping - ['T:/DCProjects/StoryMap/BikeCounting/BikeCounts/Output\\\\BPH_Month.csv', 'T:/DCProjects/StoryMap/BikeCounting/BikeCounts/Output\\\\BPH_Month.dbf', 'T:/DCProjects/StoryMap/BikeCounting/BikeCounts/Output\\\\BPH_Month.prj', 'T:/DCProjects/StoryMap/BikeCounting/BikeCounts/Output\\\\BPH_Month.shp', 'T:/DCProjects/StoryMap/BikeCounting/BikeCounts/Output\\\\BPH_Month.shx']\n",
      " *** out_zip_file is - T:/DCProjects/StoryMap/BikeCounting/BikeCounts/Output/BPH_Month.zip\n",
      " *** Processing file T:/DCProjects/StoryMap/BikeCounting/BikeCounts/Output\\BPH_Month.csv\n",
      " *** Processing file T:/DCProjects/StoryMap/BikeCounting/BikeCounts/Output\\BPH_Month.dbf\n",
      " *** Processing file T:/DCProjects/StoryMap/BikeCounting/BikeCounts/Output\\BPH_Month.prj\n",
      " *** Processing file T:/DCProjects/StoryMap/BikeCounting/BikeCounts/Output\\BPH_Month.shp\n",
      " *** Processing file T:/DCProjects/StoryMap/BikeCounting/BikeCounts/Output\\BPH_Month.shx\n",
      " *** Input File name passed for zipping - ['T:/DCProjects/StoryMap/BikeCounting/BikeCounts/Output\\\\BPH_Season.csv', 'T:/DCProjects/StoryMap/BikeCounting/BikeCounts/Output\\\\BPH_Season.dbf', 'T:/DCProjects/StoryMap/BikeCounting/BikeCounts/Output\\\\BPH_Season.prj', 'T:/DCProjects/StoryMap/BikeCounting/BikeCounts/Output\\\\BPH_Season.shp', 'T:/DCProjects/StoryMap/BikeCounting/BikeCounts/Output\\\\BPH_Season.shx']\n",
      " *** out_zip_file is - T:/DCProjects/StoryMap/BikeCounting/BikeCounts/Output/BPH_Season.zip\n",
      " *** Processing file T:/DCProjects/StoryMap/BikeCounting/BikeCounts/Output\\BPH_Season.csv\n",
      " *** Processing file T:/DCProjects/StoryMap/BikeCounting/BikeCounts/Output\\BPH_Season.dbf\n",
      " *** Processing file T:/DCProjects/StoryMap/BikeCounting/BikeCounts/Output\\BPH_Season.prj\n",
      " *** Processing file T:/DCProjects/StoryMap/BikeCounting/BikeCounts/Output\\BPH_Season.shp\n",
      " *** Processing file T:/DCProjects/StoryMap/BikeCounting/BikeCounts/Output\\BPH_Season.shx\n"
     ]
    }
   ],
   "source": [
    "for var in [\"Hour\", \"Weekday\", \"Month\", \"Season\"]:\n",
    "    file_name_list = glob.glob(path+\"/BPH_\"+var+\".*\")\n",
    "    zip_file_name = path+\"/BPH_\"+var+ \".zip\"\n",
    "    file_compress(file_name_list, zip_file_name)"
   ]
  }
 ],
 "metadata": {
  "kernelspec": {
   "display_name": "Python 3",
   "language": "python",
   "name": "python3"
  },
  "language_info": {
   "codemirror_mode": {
    "name": "ipython",
    "version": 3
   },
   "file_extension": ".py",
   "mimetype": "text/x-python",
   "name": "python",
   "nbconvert_exporter": "python",
   "pygments_lexer": "ipython3",
   "version": "3.8.8"
  }
 },
 "nbformat": 4,
 "nbformat_minor": 5
}
