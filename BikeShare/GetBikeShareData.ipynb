{
 "cells": [
  {
   "cell_type": "code",
   "execution_count": 1,
   "metadata": {},
   "outputs": [],
   "source": [
    "import requests\n",
    "import time"
   ]
  },
  {
   "cell_type": "code",
   "execution_count": 2,
   "metadata": {},
   "outputs": [],
   "source": [
    "# Scrape all at once to reduce temporal inconsistencies due to lag\n",
    "stationInfoRequest = requests.get('https://peacehealthrides.com/opendata/station_information.json')\n",
    "stationStatusRequest = requests.get('https://peacehealthrides.com/opendata/station_status.json')\n",
    "freeBikeStatusRequest = requests.get('https://peacehealthrides.com/opendata/free_bike_status.json')"
   ]
  },
  {
   "cell_type": "code",
   "execution_count": 3,
   "metadata": {},
   "outputs": [],
   "source": [
    "# Convert json responses to python-friendly dictionaries\n",
    "stationInfo = stationInfoRequest.json()\n",
    "stationStatus = stationStatusRequest.json()\n",
    "freeBikeStatus = freeBikeStatusRequest.json()"
   ]
  },
  {
   "cell_type": "code",
   "execution_count": 4,
   "metadata": {},
   "outputs": [],
   "source": [
    "# Extract info we really want from the dictionaries. Output is a list of Dictionaries\n",
    "stationList = stationInfo.get('data').get('stations')\n",
    "stationStatusList = stationStatus.get('data').get('stations')\n",
    "freeBikeList = freeBikeStatus.get('data').get('bikes') \n",
    "# except for this one\n",
    "freeBikeUpdated = freeBikeStatus.get('last_updated')"
   ]
  },
  {
   "cell_type": "code",
   "execution_count": 5,
   "metadata": {},
   "outputs": [],
   "source": [
    "# turn stationList into a dictionary keyed by station_id\n",
    "stationDict = {}\n",
    "for station in stationList:\n",
    "    stationDict[station.get('station_id')] = station"
   ]
  },
  {
   "cell_type": "code",
   "execution_count": 6,
   "metadata": {},
   "outputs": [],
   "source": [
    "# Assemble output in csv format\n",
    "outList = []\n",
    "outList.append('station/bike id,name,lon,lat,available_bikes,available_docks,last_updated\\n') \n",
    "for station in stationStatusList:\n",
    "    stationID = station.get('station_id')\n",
    "    stationName = stationDict.get(stationID).get('name').replace(\",\", \" @\")\n",
    "    line = stationID + ',' + stationName + ',' + str(stationDict.get(stationID).get('lon')) + ',' + str(stationDict.get(stationID).get('lat')) + ',' + str(station.get('num_bikes_available')) + ',' + str(station.get('num_docks_available')) + ',' + time.strftime(\"%Y%m%d%H%M%S\",time.localtime(station.get('last_reported'))) +'\\n'\n",
    "    outList.append(line)\n",
    "\n",
    "for bike in freeBikeList:\n",
    "    line = bike.get('bike_id') + ',' + bike.get('name') + ',' + str(bike.get('lon')) + ',' + str(bike.get('lat')) + ',1,0,' + time.strftime(\"%Y%m%d%H%M%S\",time.localtime(freeBikeUpdated)) + '\\n'\n",
    "    outList.append(line)"
   ]
  },
  {
   "cell_type": "code",
   "execution_count": 7,
   "metadata": {},
   "outputs": [],
   "source": [
    "# write the list to a csv file\n",
    "outFileName = 'BikeShare - ' + time.strftime(\"%Y%m%d%H%M%S\",time.localtime(freeBikeUpdated)) + '.csv'\n",
    "\n",
    "with open(outFileName, 'w') as f:\n",
    "    for line in outList:\n",
    "        f.write(line)\n",
    "f.close()"
   ]
  }
 ],
 "metadata": {
  "kernelspec": {
   "display_name": "Python 3",
   "language": "python",
   "name": "python3"
  },
  "language_info": {
   "codemirror_mode": {
    "name": "ipython",
    "version": 3
   },
   "file_extension": ".py",
   "mimetype": "text/x-python",
   "name": "python",
   "nbconvert_exporter": "python",
   "pygments_lexer": "ipython3",
   "version": "3.7.10"
  }
 },
 "nbformat": 4,
 "nbformat_minor": 5
}
