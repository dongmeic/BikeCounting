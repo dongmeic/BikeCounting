{
 "cells": [
  {
   "cell_type": "code",
   "execution_count": 115,
   "id": "3d69e21d",
   "metadata": {},
   "outputs": [
    {
     "name": "stderr",
     "output_type": "stream",
     "text": [
      "-- \u001b[1mAttaching packages\u001b[22m ------------------------------------------------------------------------------- tidyverse 1.3.1 --\n",
      "\n",
      "\u001b[32mv\u001b[39m \u001b[34mggplot2\u001b[39m 3.3.3     \u001b[32mv\u001b[39m \u001b[34mreadr  \u001b[39m 1.4.0\n",
      "\u001b[32mv\u001b[39m \u001b[34mtibble \u001b[39m 3.0.4     \u001b[32mv\u001b[39m \u001b[34mpurrr  \u001b[39m 0.3.4\n",
      "\u001b[32mv\u001b[39m \u001b[34mtidyr  \u001b[39m 1.1.3     \u001b[32mv\u001b[39m \u001b[34mforcats\u001b[39m 0.5.1\n",
      "\n",
      "-- \u001b[1mConflicts\u001b[22m ---------------------------------------------------------------------------------- tidyverse_conflicts() --\n",
      "\u001b[31mx\u001b[39m \u001b[34mlubridate\u001b[39m::\u001b[32mas.difftime()\u001b[39m masks \u001b[34mbase\u001b[39m::as.difftime()\n",
      "\u001b[31mx\u001b[39m \u001b[34mlubridate\u001b[39m::\u001b[32mdate()\u001b[39m        masks \u001b[34mbase\u001b[39m::date()\n",
      "\u001b[31mx\u001b[39m \u001b[34mdplyr\u001b[39m::\u001b[32mfilter()\u001b[39m          masks \u001b[34mstats\u001b[39m::filter()\n",
      "\u001b[31mx\u001b[39m \u001b[34mlubridate\u001b[39m::\u001b[32mintersect()\u001b[39m   masks \u001b[34mbase\u001b[39m::intersect()\n",
      "\u001b[31mx\u001b[39m \u001b[34mdplyr\u001b[39m::\u001b[32mlag()\u001b[39m             masks \u001b[34mstats\u001b[39m::lag()\n",
      "\u001b[31mx\u001b[39m \u001b[34mlubridate\u001b[39m::\u001b[32msetdiff()\u001b[39m     masks \u001b[34mbase\u001b[39m::setdiff()\n",
      "\u001b[31mx\u001b[39m \u001b[34mlubridate\u001b[39m::\u001b[32munion()\u001b[39m       masks \u001b[34mbase\u001b[39m::union()\n",
      "\n"
     ]
    }
   ],
   "source": [
    "options(warn = -1)\n",
    "library(stringr)\n",
    "library(rgdal)\n",
    "library(lubridate)\n",
    "library(dplyr)\n",
    "library(tidyverse)"
   ]
  },
  {
   "cell_type": "code",
   "execution_count": 19,
   "id": "969b354b",
   "metadata": {},
   "outputs": [],
   "source": [
    "path <- \"T:/MPO/Bike&Ped/BikeCounting/StoryMap/BikeShare/Data/Output/review\""
   ]
  },
  {
   "cell_type": "code",
   "execution_count": 20,
   "id": "1113dc4c",
   "metadata": {},
   "outputs": [],
   "source": [
    "files <- list.files(path)"
   ]
  },
  {
   "cell_type": "code",
   "execution_count": 14,
   "id": "f49c1d11",
   "metadata": {},
   "outputs": [],
   "source": [
    "selected_vars <- c('User.ID', 'Route.ID', 'Start.Hub', \n",
    "                   'Start.Latitude', 'Start.Longitude',\n",
    "                   'Start.Date', 'Start.Time', \n",
    "                   'End.Hub', 'End.Latitude', 'End.Longitude',\n",
    "                   'End.Date', 'End.Time', 'Bike.ID', 'Bike.Name',\n",
    "                   'Distance..Miles.', 'Duration')"
   ]
  },
  {
   "cell_type": "code",
   "execution_count": 22,
   "id": "3e4d419d",
   "metadata": {},
   "outputs": [],
   "source": [
    "for(file in files){\n",
    "    #print(file)\n",
    "    if(file == files[1]){\n",
    "        df <- read.csv(paste0(path, \"/\", file))\n",
    "        df <- df[, selected_vars]\n",
    "    }else{\n",
    "        ndf <- read.csv(paste0(path, \"/\", file))\n",
    "        ndf <- ndf[, selected_vars]\n",
    "        df <- rbind(df, ndf)\n",
    "    }\n",
    "}"
   ]
  },
  {
   "cell_type": "code",
   "execution_count": 24,
   "id": "dadc80b5",
   "metadata": {},
   "outputs": [],
   "source": [
    "df$Path.ID = paste(df$Start.Hub, \"-\", df$End.Hub)"
   ]
  },
  {
   "cell_type": "code",
   "execution_count": 25,
   "id": "aad539e4",
   "metadata": {},
   "outputs": [],
   "source": [
    "toMinutes <- function(x){\n",
    "  h <- as.numeric(strsplit(x, \":\")[[1]][1])\n",
    "  m <- as.numeric(strsplit(x, \":\")[[1]][2])\n",
    "  s <- as.numeric(strsplit(x, \":\")[[1]][3])\n",
    "  \n",
    "  res <- h*60 + m + s/60\n",
    "  \n",
    "  return(res)\n",
    "}"
   ]
  },
  {
   "cell_type": "code",
   "execution_count": 26,
   "id": "083bda88",
   "metadata": {},
   "outputs": [],
   "source": [
    "df$Minutes <- unlist(lapply(df$Duration, function(x) toMinutes(x)))"
   ]
  },
  {
   "cell_type": "code",
   "execution_count": 27,
   "id": "b251e0f8",
   "metadata": {},
   "outputs": [],
   "source": [
    "organize_data <- function(df){\n",
    "  #trips <- read.csv(paste0(inpath, \"/\", file))\n",
    "  org <- df[,c('Route.ID', 'Bike.ID', 'User.ID', \n",
    "                  'Start.Hub', 'Start.Latitude', 'Start.Longitude',\n",
    "                  'Start.Date', 'Start.Time', 'Path.ID',\n",
    "                  'Distance..Miles.', 'Minutes')]\n",
    "  names(org) <- c(\"RouteID\", \"BikeID\", 'UserID',\n",
    "                  \"Location\", \"Latitude\", \"Longitude\",\n",
    "                  \"Date\", \"Time\", 'PathID',\n",
    "                  'Distance', 'Minutes')\n",
    "  org$OrgDst <- rep(\"Origin\", dim(org)[1])\n",
    "  dst <- df[,c('Route.ID', 'Bike.ID', 'User.ID', 'End.Hub',\n",
    "                  'End.Latitude', 'End.Longitude',\n",
    "                  'End.Date','End.Time', 'Path.ID',\n",
    "                  'Distance..Miles.', 'Minutes')]\n",
    "  names(dst) <- c(\"RouteID\", \"BikeID\", 'UserID',\n",
    "                  \"Location\", \"Latitude\", \"Longitude\", \n",
    "                  \"Date\", \"Time\", 'PathID',\n",
    "                  'Distance', 'Minutes')\n",
    "  dst$OrgDst <- rep(\"Destination\", dim(dst)[1])\n",
    "  ndf <- rbind(org, dst)\n",
    "  return(ndf)\n",
    "}"
   ]
  },
  {
   "cell_type": "code",
   "execution_count": 28,
   "id": "d507cb5d",
   "metadata": {},
   "outputs": [],
   "source": [
    "# focus on CLMPO\n",
    "mdf <- df[(df$Start.Latitude >= 43.97865 & df$Start.Latitude <= 44.16123) & \n",
    "           (df$Start.Longitude >= -123.2321 & df$Start.Longitude <= -122.8281) & \n",
    "           (df$End.Latitude >= 43.97865 & df$End.Latitude <= 44.16123) &\n",
    "           (df$End.Longitude >= -123.2321 & df$End.Longitude <= -122.8281), ]\n",
    "\n",
    "mdf <- mdf[!(mdf$Start.Longitude == mdf$End.Longitude & mdf$Start.Latitude == mdf$End.Latitude),]"
   ]
  },
  {
   "cell_type": "code",
   "execution_count": 29,
   "id": "f9f1be46",
   "metadata": {},
   "outputs": [],
   "source": [
    "ndf <- organize_data(mdf)"
   ]
  },
  {
   "cell_type": "code",
   "execution_count": 30,
   "id": "75db3d4b",
   "metadata": {},
   "outputs": [],
   "source": [
    "ndf$Date <- as.Date(ndf$Date, \"%Y-%m-%d\")"
   ]
  },
  {
   "cell_type": "code",
   "execution_count": 31,
   "id": "9b22ffbd",
   "metadata": {},
   "outputs": [],
   "source": [
    "ndf$Month <- months(ndf$Date)"
   ]
  },
  {
   "cell_type": "code",
   "execution_count": 32,
   "id": "5f515701",
   "metadata": {},
   "outputs": [],
   "source": [
    "ndf$Season <- ifelse(ndf$Month %in% c(\"December\", \"January\", \"February\"), \"Winter\",\n",
    "                    ifelse(ndf$Month %in% c(\"March\", \"April\", \"May\"), \"Spring\",\n",
    "                          ifelse(ndf$Month %in% c(\"June\", \"July\", \"August\"), \"Summer\", \"Fall\")))"
   ]
  },
  {
   "cell_type": "code",
   "execution_count": 4,
   "id": "76081975",
   "metadata": {},
   "outputs": [],
   "source": [
    "convert_time_to_hour <- function(x){\n",
    "    s <- unlist(str_split(x, \":\"))\n",
    "    return(as.numeric(s[1])+as.numeric(s[2])/60)\n",
    "}"
   ]
  },
  {
   "cell_type": "code",
   "execution_count": 43,
   "id": "e4e0d922",
   "metadata": {},
   "outputs": [],
   "source": [
    "excludedIDs <- c(717565, 742339, 764038, 819845, 1228447, 1354709, 1897910, 2184703, 2207685)"
   ]
  },
  {
   "cell_type": "code",
   "execution_count": 49,
   "id": "8ee4c5bd",
   "metadata": {},
   "outputs": [],
   "source": [
    "ndf <- ndf[!(ndf$UserID %in% excludedIDs),]"
   ]
  },
  {
   "cell_type": "code",
   "execution_count": 50,
   "id": "50e1ea59",
   "metadata": {},
   "outputs": [],
   "source": [
    "data <- ndf"
   ]
  },
  {
   "cell_type": "code",
   "execution_count": 51,
   "id": "5064820f",
   "metadata": {},
   "outputs": [],
   "source": [
    "data$Hour <- sapply(data$Time, function(x) convert_time_to_hour(x))"
   ]
  },
  {
   "cell_type": "code",
   "execution_count": 52,
   "id": "6af911ca",
   "metadata": {},
   "outputs": [],
   "source": [
    "# nt - night time\n",
    "ntdata <- data[(data$Hour >= 19 & data$Hour <= 24) | (data$Hour >= 0 & data$Hour <= 2),]"
   ]
  },
  {
   "cell_type": "code",
   "execution_count": 53,
   "id": "3d33753e",
   "metadata": {},
   "outputs": [],
   "source": [
    "ntdata$Year <- year(ntdata$Date)"
   ]
  },
  {
   "cell_type": "code",
   "execution_count": 54,
   "id": "a28b063c",
   "metadata": {},
   "outputs": [
    {
     "data": {
      "text/html": [
       "<style>\n",
       ".list-inline {list-style: none; margin:0; padding: 0}\n",
       ".list-inline>li {display: inline-block}\n",
       ".list-inline>li:not(:last-child)::after {content: \"\\00b7\"; padding: 0 .5ex}\n",
       "</style>\n",
       "<ol class=list-inline><li><time datetime=\"2018-05-01\">2018-05-01</time></li><li><time datetime=\"2022-06-01\">2022-06-01</time></li></ol>\n"
      ],
      "text/latex": [
       "\\begin{enumerate*}\n",
       "\\item 2018-05-01\n",
       "\\item 2022-06-01\n",
       "\\end{enumerate*}\n"
      ],
      "text/markdown": [
       "1. 2018-05-01\n",
       "2. 2022-06-01\n",
       "\n",
       "\n"
      ],
      "text/plain": [
       "[1] \"2018-05-01\" \"2022-06-01\""
      ]
     },
     "metadata": {},
     "output_type": "display_data"
    }
   ],
   "source": [
    "range(na.omit(ntdata$Date))"
   ]
  },
  {
   "cell_type": "code",
   "execution_count": 55,
   "id": "07f1afc6",
   "metadata": {},
   "outputs": [
    {
     "data": {
      "text/html": [
       "<style>\n",
       ".list-inline {list-style: none; margin:0; padding: 0}\n",
       ".list-inline>li {display: inline-block}\n",
       ".list-inline>li:not(:last-child)::after {content: \"\\00b7\"; padding: 0 .5ex}\n",
       "</style>\n",
       "<ol class=list-inline><li>219804</li><li>16</li></ol>\n"
      ],
      "text/latex": [
       "\\begin{enumerate*}\n",
       "\\item 219804\n",
       "\\item 16\n",
       "\\end{enumerate*}\n"
      ],
      "text/markdown": [
       "1. 219804\n",
       "2. 16\n",
       "\n",
       "\n"
      ],
      "text/plain": [
       "[1] 219804     16"
      ]
     },
     "metadata": {},
     "output_type": "display_data"
    }
   ],
   "source": [
    "dim(ntdata)"
   ]
  },
  {
   "cell_type": "code",
   "execution_count": 56,
   "id": "7c6a1bb9",
   "metadata": {},
   "outputs": [],
   "source": [
    "ntdata <- ntdata[ntdata$Date >= \"2018-06-01\" & ntdata$Date <= \"2022-05-31\",]"
   ]
  },
  {
   "cell_type": "code",
   "execution_count": 57,
   "id": "867f6b1b",
   "metadata": {},
   "outputs": [
    {
     "data": {
      "text/html": [
       "<style>\n",
       ".list-inline {list-style: none; margin:0; padding: 0}\n",
       ".list-inline>li {display: inline-block}\n",
       ".list-inline>li:not(:last-child)::after {content: \"\\00b7\"; padding: 0 .5ex}\n",
       "</style>\n",
       "<ol class=list-inline><li>207481</li><li>16</li></ol>\n"
      ],
      "text/latex": [
       "\\begin{enumerate*}\n",
       "\\item 207481\n",
       "\\item 16\n",
       "\\end{enumerate*}\n"
      ],
      "text/markdown": [
       "1. 207481\n",
       "2. 16\n",
       "\n",
       "\n"
      ],
      "text/plain": [
       "[1] 207481     16"
      ]
     },
     "metadata": {},
     "output_type": "display_data"
    }
   ],
   "source": [
    "dim(ntdata)"
   ]
  },
  {
   "cell_type": "code",
   "execution_count": 67,
   "id": "e4498222",
   "metadata": {},
   "outputs": [],
   "source": [
    "ntdata$YearMonth <- paste0(ntdata$Year, \"-\", ntdata$Month, \"-\", ntdata$Season)"
   ]
  },
  {
   "cell_type": "code",
   "execution_count": 68,
   "id": "cbf4ba06",
   "metadata": {},
   "outputs": [],
   "source": [
    "x = ntdata$YearMonth [1]"
   ]
  },
  {
   "cell_type": "code",
   "execution_count": 69,
   "id": "64c2c548",
   "metadata": {},
   "outputs": [],
   "source": [
    "s <- unlist(str_split(x, \"-\"))"
   ]
  },
  {
   "cell_type": "code",
   "execution_count": 70,
   "id": "212cce14",
   "metadata": {},
   "outputs": [
    {
     "data": {
      "text/html": [
       "<style>\n",
       ".list-inline {list-style: none; margin:0; padding: 0}\n",
       ".list-inline>li {display: inline-block}\n",
       ".list-inline>li:not(:last-child)::after {content: \"\\00b7\"; padding: 0 .5ex}\n",
       "</style>\n",
       "<ol class=list-inline><li>'2019'</li><li>'January'</li><li>'Winter'</li></ol>\n"
      ],
      "text/latex": [
       "\\begin{enumerate*}\n",
       "\\item '2019'\n",
       "\\item 'January'\n",
       "\\item 'Winter'\n",
       "\\end{enumerate*}\n"
      ],
      "text/markdown": [
       "1. '2019'\n",
       "2. 'January'\n",
       "3. 'Winter'\n",
       "\n",
       "\n"
      ],
      "text/plain": [
       "[1] \"2019\"    \"January\" \"Winter\" "
      ]
     },
     "metadata": {},
     "output_type": "display_data"
    }
   ],
   "source": [
    "s"
   ]
  },
  {
   "cell_type": "code",
   "execution_count": 71,
   "id": "6ce46b76",
   "metadata": {},
   "outputs": [],
   "source": [
    "create_year_season <- function(x){\n",
    "    s <- unlist(str_split(x, \"-\"))\n",
    "    if(s[2] == 'December'){\n",
    "        yrseason <- paste0(as.numeric(s[1]) + 1, s[3])\n",
    "    }else{\n",
    "        yrseason <- paste0(s[1], s[3])\n",
    "    }\n",
    "    return(yrseason)\n",
    "}"
   ]
  },
  {
   "cell_type": "code",
   "execution_count": 73,
   "id": "c5a68f9f",
   "metadata": {},
   "outputs": [],
   "source": [
    "ntdata$YearSeason <- sapply(ntdata$YearMonth, function(x) create_year_season(x))"
   ]
  },
  {
   "cell_type": "code",
   "execution_count": 89,
   "id": "7de069b9",
   "metadata": {},
   "outputs": [],
   "source": [
    "nt_by_year_season <- aggregate(x=list(NoTrips=ntdata$RouteID),\n",
    "                          by=list(YearSeason=ntdata$YearSeason, Season=ntdata$Season),\n",
    "                          FUN=function(x) length(unique(x)))"
   ]
  },
  {
   "cell_type": "code",
   "execution_count": 90,
   "id": "a3eeb94d",
   "metadata": {},
   "outputs": [],
   "source": [
    "nt_by_year_season$Year <- sapply(nt_by_year_season$YearSeason, function(x) substr(x, 1, 4))"
   ]
  },
  {
   "cell_type": "code",
   "execution_count": 91,
   "id": "cc8a6614",
   "metadata": {},
   "outputs": [
    {
     "data": {
      "text/html": [
       "<table class=\"dataframe\">\n",
       "<caption>A data.frame: 16 × 4</caption>\n",
       "<thead>\n",
       "\t<tr><th scope=col>YearSeason</th><th scope=col>Season</th><th scope=col>NoTrips</th><th scope=col>Year</th></tr>\n",
       "\t<tr><th scope=col>&lt;chr&gt;</th><th scope=col>&lt;chr&gt;</th><th scope=col>&lt;int&gt;</th><th scope=col>&lt;chr&gt;</th></tr>\n",
       "</thead>\n",
       "<tbody>\n",
       "\t<tr><td>2018Fall  </td><td>Fall  </td><td> 8973</td><td>2018</td></tr>\n",
       "\t<tr><td>2019Fall  </td><td>Fall  </td><td> 7857</td><td>2019</td></tr>\n",
       "\t<tr><td>2020Fall  </td><td>Fall  </td><td> 2557</td><td>2020</td></tr>\n",
       "\t<tr><td>2021Fall  </td><td>Fall  </td><td> 6520</td><td>2021</td></tr>\n",
       "\t<tr><td>2019Spring</td><td>Spring</td><td> 4675</td><td>2019</td></tr>\n",
       "\t<tr><td>2020Spring</td><td>Spring</td><td> 3722</td><td>2020</td></tr>\n",
       "\t<tr><td>2021Spring</td><td>Spring</td><td> 6670</td><td>2021</td></tr>\n",
       "\t<tr><td>2022Spring</td><td>Spring</td><td>10862</td><td>2022</td></tr>\n",
       "\t<tr><td>2018Summer</td><td>Summer</td><td>14010</td><td>2018</td></tr>\n",
       "\t<tr><td>2019Summer</td><td>Summer</td><td>11215</td><td>2019</td></tr>\n",
       "\t<tr><td>2020Summer</td><td>Summer</td><td> 3811</td><td>2020</td></tr>\n",
       "\t<tr><td>2021Summer</td><td>Summer</td><td> 6699</td><td>2021</td></tr>\n",
       "\t<tr><td>2019Winter</td><td>Winter</td><td> 3634</td><td>2019</td></tr>\n",
       "\t<tr><td>2020Winter</td><td>Winter</td><td> 5770</td><td>2020</td></tr>\n",
       "\t<tr><td>2021Winter</td><td>Winter</td><td> 1526</td><td>2021</td></tr>\n",
       "\t<tr><td>2022Winter</td><td>Winter</td><td> 4270</td><td>2022</td></tr>\n",
       "</tbody>\n",
       "</table>\n"
      ],
      "text/latex": [
       "A data.frame: 16 × 4\n",
       "\\begin{tabular}{llll}\n",
       " YearSeason & Season & NoTrips & Year\\\\\n",
       " <chr> & <chr> & <int> & <chr>\\\\\n",
       "\\hline\n",
       "\t 2018Fall   & Fall   &  8973 & 2018\\\\\n",
       "\t 2019Fall   & Fall   &  7857 & 2019\\\\\n",
       "\t 2020Fall   & Fall   &  2557 & 2020\\\\\n",
       "\t 2021Fall   & Fall   &  6520 & 2021\\\\\n",
       "\t 2019Spring & Spring &  4675 & 2019\\\\\n",
       "\t 2020Spring & Spring &  3722 & 2020\\\\\n",
       "\t 2021Spring & Spring &  6670 & 2021\\\\\n",
       "\t 2022Spring & Spring & 10862 & 2022\\\\\n",
       "\t 2018Summer & Summer & 14010 & 2018\\\\\n",
       "\t 2019Summer & Summer & 11215 & 2019\\\\\n",
       "\t 2020Summer & Summer &  3811 & 2020\\\\\n",
       "\t 2021Summer & Summer &  6699 & 2021\\\\\n",
       "\t 2019Winter & Winter &  3634 & 2019\\\\\n",
       "\t 2020Winter & Winter &  5770 & 2020\\\\\n",
       "\t 2021Winter & Winter &  1526 & 2021\\\\\n",
       "\t 2022Winter & Winter &  4270 & 2022\\\\\n",
       "\\end{tabular}\n"
      ],
      "text/markdown": [
       "\n",
       "A data.frame: 16 × 4\n",
       "\n",
       "| YearSeason &lt;chr&gt; | Season &lt;chr&gt; | NoTrips &lt;int&gt; | Year &lt;chr&gt; |\n",
       "|---|---|---|---|\n",
       "| 2018Fall   | Fall   |  8973 | 2018 |\n",
       "| 2019Fall   | Fall   |  7857 | 2019 |\n",
       "| 2020Fall   | Fall   |  2557 | 2020 |\n",
       "| 2021Fall   | Fall   |  6520 | 2021 |\n",
       "| 2019Spring | Spring |  4675 | 2019 |\n",
       "| 2020Spring | Spring |  3722 | 2020 |\n",
       "| 2021Spring | Spring |  6670 | 2021 |\n",
       "| 2022Spring | Spring | 10862 | 2022 |\n",
       "| 2018Summer | Summer | 14010 | 2018 |\n",
       "| 2019Summer | Summer | 11215 | 2019 |\n",
       "| 2020Summer | Summer |  3811 | 2020 |\n",
       "| 2021Summer | Summer |  6699 | 2021 |\n",
       "| 2019Winter | Winter |  3634 | 2019 |\n",
       "| 2020Winter | Winter |  5770 | 2020 |\n",
       "| 2021Winter | Winter |  1526 | 2021 |\n",
       "| 2022Winter | Winter |  4270 | 2022 |\n",
       "\n"
      ],
      "text/plain": [
       "   YearSeason Season NoTrips Year\n",
       "1  2018Fall   Fall    8973   2018\n",
       "2  2019Fall   Fall    7857   2019\n",
       "3  2020Fall   Fall    2557   2020\n",
       "4  2021Fall   Fall    6520   2021\n",
       "5  2019Spring Spring  4675   2019\n",
       "6  2020Spring Spring  3722   2020\n",
       "7  2021Spring Spring  6670   2021\n",
       "8  2022Spring Spring 10862   2022\n",
       "9  2018Summer Summer 14010   2018\n",
       "10 2019Summer Summer 11215   2019\n",
       "11 2020Summer Summer  3811   2020\n",
       "12 2021Summer Summer  6699   2021\n",
       "13 2019Winter Winter  3634   2019\n",
       "14 2020Winter Winter  5770   2020\n",
       "15 2021Winter Winter  1526   2021\n",
       "16 2022Winter Winter  4270   2022"
      ]
     },
     "metadata": {},
     "output_type": "display_data"
    }
   ],
   "source": [
    "nt_by_year_season"
   ]
  },
  {
   "cell_type": "code",
   "execution_count": 80,
   "id": "75f895f4",
   "metadata": {},
   "outputs": [],
   "source": [
    "nt_by_season <- aggregate(x=list(AvgNoTrips=nt_by_year_season$NoTrips),\n",
    "                          by=list(Season=nt_by_year_season$Season),\n",
    "                          FUN=mean)"
   ]
  },
  {
   "cell_type": "code",
   "execution_count": 81,
   "id": "3fb2975b",
   "metadata": {},
   "outputs": [
    {
     "data": {
      "text/html": [
       "<table class=\"dataframe\">\n",
       "<caption>A data.frame: 4 × 2</caption>\n",
       "<thead>\n",
       "\t<tr><th scope=col>Season</th><th scope=col>AvgNoTrips</th></tr>\n",
       "\t<tr><th scope=col>&lt;chr&gt;</th><th scope=col>&lt;dbl&gt;</th></tr>\n",
       "</thead>\n",
       "<tbody>\n",
       "\t<tr><td>Fall  </td><td>6476.75</td></tr>\n",
       "\t<tr><td>Spring</td><td>6482.25</td></tr>\n",
       "\t<tr><td>Summer</td><td>8933.75</td></tr>\n",
       "\t<tr><td>Winter</td><td>3800.00</td></tr>\n",
       "</tbody>\n",
       "</table>\n"
      ],
      "text/latex": [
       "A data.frame: 4 × 2\n",
       "\\begin{tabular}{ll}\n",
       " Season & AvgNoTrips\\\\\n",
       " <chr> & <dbl>\\\\\n",
       "\\hline\n",
       "\t Fall   & 6476.75\\\\\n",
       "\t Spring & 6482.25\\\\\n",
       "\t Summer & 8933.75\\\\\n",
       "\t Winter & 3800.00\\\\\n",
       "\\end{tabular}\n"
      ],
      "text/markdown": [
       "\n",
       "A data.frame: 4 × 2\n",
       "\n",
       "| Season &lt;chr&gt; | AvgNoTrips &lt;dbl&gt; |\n",
       "|---|---|\n",
       "| Fall   | 6476.75 |\n",
       "| Spring | 6482.25 |\n",
       "| Summer | 8933.75 |\n",
       "| Winter | 3800.00 |\n",
       "\n"
      ],
      "text/plain": [
       "  Season AvgNoTrips\n",
       "1 Fall   6476.75   \n",
       "2 Spring 6482.25   \n",
       "3 Summer 8933.75   \n",
       "4 Winter 3800.00   "
      ]
     },
     "metadata": {},
     "output_type": "display_data"
    }
   ],
   "source": [
    "nt_by_season"
   ]
  },
  {
   "cell_type": "code",
   "execution_count": 92,
   "id": "818b825e",
   "metadata": {},
   "outputs": [],
   "source": [
    "Covid_dt <- nt_by_year_season %>% filter(YearSeason %in% c('2020Spring', '2020Summer', '2020Fall', '2021Winter'))"
   ]
  },
  {
   "cell_type": "code",
   "execution_count": 96,
   "id": "557e2538",
   "metadata": {},
   "outputs": [],
   "source": [
    "ExCovid_dt <- nt_by_year_season %>% filter(!(YearSeason %in% c('2020Spring', '2020Summer', '2020Fall', '2021Winter')))"
   ]
  },
  {
   "cell_type": "code",
   "execution_count": 94,
   "id": "8ff21d66",
   "metadata": {},
   "outputs": [
    {
     "data": {
      "text/html": [
       "<table class=\"dataframe\">\n",
       "<caption>A data.frame: 4 × 2</caption>\n",
       "<thead>\n",
       "\t<tr><th scope=col>Season</th><th scope=col>AvgNoTrips</th></tr>\n",
       "\t<tr><th scope=col>&lt;chr&gt;</th><th scope=col>&lt;dbl&gt;</th></tr>\n",
       "</thead>\n",
       "<tbody>\n",
       "\t<tr><td>Fall  </td><td>2557</td></tr>\n",
       "\t<tr><td>Spring</td><td>3722</td></tr>\n",
       "\t<tr><td>Summer</td><td>3811</td></tr>\n",
       "\t<tr><td>Winter</td><td>1526</td></tr>\n",
       "</tbody>\n",
       "</table>\n"
      ],
      "text/latex": [
       "A data.frame: 4 × 2\n",
       "\\begin{tabular}{ll}\n",
       " Season & AvgNoTrips\\\\\n",
       " <chr> & <dbl>\\\\\n",
       "\\hline\n",
       "\t Fall   & 2557\\\\\n",
       "\t Spring & 3722\\\\\n",
       "\t Summer & 3811\\\\\n",
       "\t Winter & 1526\\\\\n",
       "\\end{tabular}\n"
      ],
      "text/markdown": [
       "\n",
       "A data.frame: 4 × 2\n",
       "\n",
       "| Season &lt;chr&gt; | AvgNoTrips &lt;dbl&gt; |\n",
       "|---|---|\n",
       "| Fall   | 2557 |\n",
       "| Spring | 3722 |\n",
       "| Summer | 3811 |\n",
       "| Winter | 1526 |\n",
       "\n"
      ],
      "text/plain": [
       "  Season AvgNoTrips\n",
       "1 Fall   2557      \n",
       "2 Spring 3722      \n",
       "3 Summer 3811      \n",
       "4 Winter 1526      "
      ]
     },
     "metadata": {},
     "output_type": "display_data"
    }
   ],
   "source": [
    "nt_by_season_covid <- aggregate(x=list(AvgNoTrips=Covid_dt$NoTrips),\n",
    "                          by=list(Season=Covid_dt$Season),\n",
    "                          FUN=mean)\n",
    "nt_by_season_covid"
   ]
  },
  {
   "cell_type": "code",
   "execution_count": 97,
   "id": "2bc27f22",
   "metadata": {},
   "outputs": [
    {
     "data": {
      "text/html": [
       "<table class=\"dataframe\">\n",
       "<caption>A data.frame: 4 × 2</caption>\n",
       "<thead>\n",
       "\t<tr><th scope=col>Season</th><th scope=col>AvgNoTrips</th></tr>\n",
       "\t<tr><th scope=col>&lt;chr&gt;</th><th scope=col>&lt;dbl&gt;</th></tr>\n",
       "</thead>\n",
       "<tbody>\n",
       "\t<tr><td>Fall  </td><td> 7783.333</td></tr>\n",
       "\t<tr><td>Spring</td><td> 7402.333</td></tr>\n",
       "\t<tr><td>Summer</td><td>10641.333</td></tr>\n",
       "\t<tr><td>Winter</td><td> 4558.000</td></tr>\n",
       "</tbody>\n",
       "</table>\n"
      ],
      "text/latex": [
       "A data.frame: 4 × 2\n",
       "\\begin{tabular}{ll}\n",
       " Season & AvgNoTrips\\\\\n",
       " <chr> & <dbl>\\\\\n",
       "\\hline\n",
       "\t Fall   &  7783.333\\\\\n",
       "\t Spring &  7402.333\\\\\n",
       "\t Summer & 10641.333\\\\\n",
       "\t Winter &  4558.000\\\\\n",
       "\\end{tabular}\n"
      ],
      "text/markdown": [
       "\n",
       "A data.frame: 4 × 2\n",
       "\n",
       "| Season &lt;chr&gt; | AvgNoTrips &lt;dbl&gt; |\n",
       "|---|---|\n",
       "| Fall   |  7783.333 |\n",
       "| Spring |  7402.333 |\n",
       "| Summer | 10641.333 |\n",
       "| Winter |  4558.000 |\n",
       "\n"
      ],
      "text/plain": [
       "  Season AvgNoTrips\n",
       "1 Fall    7783.333 \n",
       "2 Spring  7402.333 \n",
       "3 Summer 10641.333 \n",
       "4 Winter  4558.000 "
      ]
     },
     "metadata": {},
     "output_type": "display_data"
    }
   ],
   "source": [
    "nt_by_season_Excovid <- aggregate(x=list(AvgNoTrips=ExCovid_dt$NoTrips),\n",
    "                          by=list(Season=ExCovid_dt$Season),\n",
    "                          FUN=mean)\n",
    "nt_by_season_Excovid"
   ]
  },
  {
   "cell_type": "code",
   "execution_count": 98,
   "id": "77d41564",
   "metadata": {},
   "outputs": [],
   "source": [
    "nt_by_year_season_loc <- aggregate(x=list(NoTrips=ntdata$RouteID),\n",
    "                          by=list(YearSeason=ntdata$YearSeason, Season=ntdata$Season, \n",
    "                                  Longitude=ntdata$Longitude, Latitude=ntdata$Latitude),\n",
    "                          FUN=function(x) length(unique(x)))"
   ]
  },
  {
   "cell_type": "code",
   "execution_count": 99,
   "id": "07ca22fd",
   "metadata": {},
   "outputs": [],
   "source": [
    "nt_by_season_loc <- aggregate(x=list(AvgNoTrips=nt_by_year_season_loc$NoTrips),\n",
    "                          by=list(Season=nt_by_year_season_loc$Season,\n",
    "                                 Longitude=nt_by_year_season_loc$Longitude, \n",
    "                                  Latitude=nt_by_year_season_loc$Latitude),\n",
    "                          FUN=mean)"
   ]
  },
  {
   "cell_type": "code",
   "execution_count": 100,
   "id": "8ed68df4",
   "metadata": {},
   "outputs": [],
   "source": [
    "df2spdf <- function(df, lon_col_name, lat_col_name, trans = TRUE){\n",
    "  lonlat <- sp::CRS(\"+proj=longlat +datum=WGS84 +ellps=WGS84 +towgs84=0,0,0\")\n",
    "  lon_col_no <- which(names(df)==lon_col_name)\n",
    "  lat_col_no <- which(names(df)==lat_col_name)\n",
    "  xy <- data.frame(df[,c(lon_col_no,lat_col_no)])\n",
    "  coordinates(xy) <- c(lon_col_name, lat_col_name)\n",
    "  proj4string(xy) <- lonlat\n",
    "  spdf <- sp::SpatialPointsDataFrame(coords = xy, data = df)\n",
    "  if(trans){\n",
    "    spdf <- spTransform(spdf,  CRS(\"+proj=merc +a=6378137 +b=6378137 +lat_ts=0 +lon_0=0 +x_0=0 +y_0=0 +k=1 +units=m +nadgrids=@null +wktext +no_defs +type=crs\"))\n",
    "  }\n",
    "  return(spdf)\n",
    "}"
   ]
  },
  {
   "cell_type": "code",
   "execution_count": 102,
   "id": "3bcdceef",
   "metadata": {},
   "outputs": [
    {
     "data": {
      "text/html": [
       "<style>\n",
       ".list-inline {list-style: none; margin:0; padding: 0}\n",
       ".list-inline>li {display: inline-block}\n",
       ".list-inline>li:not(:last-child)::after {content: \"\\00b7\"; padding: 0 .5ex}\n",
       "</style>\n",
       "<ol class=list-inline><li>'RouteID'</li><li>'BikeID'</li><li>'UserID'</li><li>'Location'</li><li>'Latitude'</li><li>'Longitude'</li><li>'Date'</li><li>'Time'</li><li>'PathID'</li><li>'Distance'</li><li>'Minutes'</li><li>'OrgDst'</li><li>'Month'</li><li>'Season'</li><li>'Hour'</li><li>'Year'</li><li>'YearMonth'</li><li>'YearSeason'</li></ol>\n"
      ],
      "text/latex": [
       "\\begin{enumerate*}\n",
       "\\item 'RouteID'\n",
       "\\item 'BikeID'\n",
       "\\item 'UserID'\n",
       "\\item 'Location'\n",
       "\\item 'Latitude'\n",
       "\\item 'Longitude'\n",
       "\\item 'Date'\n",
       "\\item 'Time'\n",
       "\\item 'PathID'\n",
       "\\item 'Distance'\n",
       "\\item 'Minutes'\n",
       "\\item 'OrgDst'\n",
       "\\item 'Month'\n",
       "\\item 'Season'\n",
       "\\item 'Hour'\n",
       "\\item 'Year'\n",
       "\\item 'YearMonth'\n",
       "\\item 'YearSeason'\n",
       "\\end{enumerate*}\n"
      ],
      "text/markdown": [
       "1. 'RouteID'\n",
       "2. 'BikeID'\n",
       "3. 'UserID'\n",
       "4. 'Location'\n",
       "5. 'Latitude'\n",
       "6. 'Longitude'\n",
       "7. 'Date'\n",
       "8. 'Time'\n",
       "9. 'PathID'\n",
       "10. 'Distance'\n",
       "11. 'Minutes'\n",
       "12. 'OrgDst'\n",
       "13. 'Month'\n",
       "14. 'Season'\n",
       "15. 'Hour'\n",
       "16. 'Year'\n",
       "17. 'YearMonth'\n",
       "18. 'YearSeason'\n",
       "\n",
       "\n"
      ],
      "text/plain": [
       " [1] \"RouteID\"    \"BikeID\"     \"UserID\"     \"Location\"   \"Latitude\"  \n",
       " [6] \"Longitude\"  \"Date\"       \"Time\"       \"PathID\"     \"Distance\"  \n",
       "[11] \"Minutes\"    \"OrgDst\"     \"Month\"      \"Season\"     \"Hour\"      \n",
       "[16] \"Year\"       \"YearMonth\"  \"YearSeason\""
      ]
     },
     "metadata": {},
     "output_type": "display_data"
    }
   ],
   "source": [
    "names(ntdata)"
   ]
  },
  {
   "cell_type": "code",
   "execution_count": 116,
   "id": "49a1c2e3",
   "metadata": {},
   "outputs": [],
   "source": [
    "ntdata <- ntdata %>% drop_na(Longitude)"
   ]
  },
  {
   "cell_type": "code",
   "execution_count": 121,
   "id": "016e5121",
   "metadata": {
    "scrolled": true
   },
   "outputs": [],
   "source": [
    "ntdata.spdf <- df2spdf(ntdata, \"Longitude\", \"Latitude\")"
   ]
  },
  {
   "cell_type": "code",
   "execution_count": 123,
   "id": "84c1c915",
   "metadata": {},
   "outputs": [],
   "source": [
    "nt_by_season_loc <- nt_by_season_loc %>% drop_na(Longitude)"
   ]
  },
  {
   "cell_type": "code",
   "execution_count": 125,
   "id": "4ac3340d",
   "metadata": {},
   "outputs": [],
   "source": [
    "nt_by_season.spdf <- df2spdf(nt_by_season_loc, \"Longitude\", \"Latitude\")"
   ]
  },
  {
   "cell_type": "code",
   "execution_count": 126,
   "id": "b42a5931",
   "metadata": {},
   "outputs": [],
   "source": [
    "outpath <- \"T:/MPO/Bike&Ped/BikeCounting/StoryMap/BikeShare/Output\""
   ]
  },
  {
   "cell_type": "code",
   "execution_count": 128,
   "id": "65dbd66c",
   "metadata": {},
   "outputs": [],
   "source": [
    "writeOGR(ntdata.spdf, dsn=outpath, layer=\"Nighttime_Bike_Share_Detailed\", \n",
    "         driver=\"ESRI Shapefile\", overwrite_layer=TRUE)"
   ]
  },
  {
   "cell_type": "code",
   "execution_count": 129,
   "id": "ebe5249b",
   "metadata": {},
   "outputs": [],
   "source": [
    "writeOGR(nt_by_season.spdf, dsn=outpath, layer=\"Nighttime_Bike_Share_by_Season\", \n",
    "         driver=\"ESRI Shapefile\", overwrite_layer=TRUE)"
   ]
  }
 ],
 "metadata": {
  "kernelspec": {
   "display_name": "R",
   "language": "R",
   "name": "ir"
  },
  "language_info": {
   "codemirror_mode": "r",
   "file_extension": ".r",
   "mimetype": "text/x-r-source",
   "name": "R",
   "pygments_lexer": "r",
   "version": "4.0.3"
  }
 },
 "nbformat": 4,
 "nbformat_minor": 5
}
