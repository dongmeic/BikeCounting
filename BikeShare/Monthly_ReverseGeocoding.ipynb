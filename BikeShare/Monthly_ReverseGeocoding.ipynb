{
 "cells": [
  {
   "cell_type": "code",
   "execution_count": 1,
   "id": "4c8c9608",
   "metadata": {},
   "outputs": [],
   "source": [
    "import pandas as pd\n",
    "import geopandas as gpd\n",
    "import geopy\n",
    "from geopy.geocoders import Nominatim\n",
    "from geopy.extra.rate_limiter import RateLimiter\n",
    "import matplotlib.pyplot as plt\n",
    "import plotly_express as px\n",
    "import tqdm\n",
    "from tqdm.notebook import tqdm_notebook\n",
    "import os\n",
    "import numpy as np\n",
    "import glob"
   ]
  },
  {
   "cell_type": "code",
   "execution_count": 2,
   "id": "73b3a5f0",
   "metadata": {},
   "outputs": [],
   "source": [
    "locator = Nominatim(user_agent=\"measurements\")"
   ]
  },
  {
   "cell_type": "code",
   "execution_count": 3,
   "id": "02249c64",
   "metadata": {},
   "outputs": [],
   "source": [
    "inpath = r\"T:\\MPO\\Bike&Ped\\BikeCounting\\StoryMap\\BikeShare\\Data\\Trips\""
   ]
  },
  {
   "cell_type": "code",
   "execution_count": 6,
   "id": "31c9dfa6",
   "metadata": {},
   "outputs": [],
   "source": [
    "year = 2023"
   ]
  },
  {
   "cell_type": "code",
   "execution_count": 25,
   "id": "7faeba03",
   "metadata": {},
   "outputs": [],
   "source": [
    "month = 7"
   ]
  },
  {
   "cell_type": "code",
   "execution_count": 10,
   "id": "921320cb",
   "metadata": {},
   "outputs": [],
   "source": [
    "def monthend(m=month, y=year):\n",
    "    if m in [1, 3, 5, 7, 8, 10, 12]:\n",
    "        enddate = 31\n",
    "    elif m in [4, 6, 9, 11]:\n",
    "        enddate = 30\n",
    "    elif (m == 2) and ((y%4 == 0 and y%100 != 0) or (y%400 == 0)):\n",
    "        enddate = 29\n",
    "    else:\n",
    "        enddate = 28\n",
    "    return enddate        "
   ]
  },
  {
   "cell_type": "code",
   "execution_count": 26,
   "id": "033d5c0e",
   "metadata": {},
   "outputs": [],
   "source": [
    "enddate = monthend(month)"
   ]
  },
  {
   "cell_type": "code",
   "execution_count": 27,
   "id": "f7b309e7",
   "metadata": {},
   "outputs": [],
   "source": [
    "file = \"trips_peace_health_rides_0\"+str(month) +\"_01_\"+str(year)+\"-0\"+str(month)+\"_\"+str(enddate)+\"_\"+str(year)+\".csv\""
   ]
  },
  {
   "cell_type": "code",
   "execution_count": 28,
   "id": "6f875f55",
   "metadata": {},
   "outputs": [
    {
     "data": {
      "text/plain": [
       "'trips_peace_health_rides_05_01_2022-05_31_2022.csv'"
      ]
     },
     "execution_count": 28,
     "metadata": {},
     "output_type": "execute_result"
    }
   ],
   "source": [
    "file"
   ]
  },
  {
   "cell_type": "code",
   "execution_count": 29,
   "id": "0cc20e9b",
   "metadata": {},
   "outputs": [
    {
     "data": {
      "text/html": [
       "<div>\n",
       "<style scoped>\n",
       "    .dataframe tbody tr th:only-of-type {\n",
       "        vertical-align: middle;\n",
       "    }\n",
       "\n",
       "    .dataframe tbody tr th {\n",
       "        vertical-align: top;\n",
       "    }\n",
       "\n",
       "    .dataframe thead th {\n",
       "        text-align: right;\n",
       "    }\n",
       "</style>\n",
       "<table border=\"1\" class=\"dataframe\">\n",
       "  <thead>\n",
       "    <tr style=\"text-align: right;\">\n",
       "      <th></th>\n",
       "      <th>User ID</th>\n",
       "      <th>Route ID</th>\n",
       "      <th>Bike Region ID</th>\n",
       "      <th>Payment Plan</th>\n",
       "      <th>Start Hub</th>\n",
       "      <th>Start Area</th>\n",
       "      <th>Start Special Area</th>\n",
       "      <th>Start Latitude</th>\n",
       "      <th>Start Longitude</th>\n",
       "      <th>Start Date</th>\n",
       "      <th>...</th>\n",
       "      <th>Bike ID</th>\n",
       "      <th>Bike Name</th>\n",
       "      <th>Distance [Miles]</th>\n",
       "      <th>Duration</th>\n",
       "      <th>Rental Access Path</th>\n",
       "      <th>Multiple Rental</th>\n",
       "      <th>Ride cost</th>\n",
       "      <th>Fees</th>\n",
       "      <th>Bonuses</th>\n",
       "      <th>Total cost</th>\n",
       "    </tr>\n",
       "  </thead>\n",
       "  <tbody>\n",
       "    <tr>\n",
       "      <th>0</th>\n",
       "      <td>2231320</td>\n",
       "      <td>14308713</td>\n",
       "      <td>NaN</td>\n",
       "      <td>UO Monthly Plan</td>\n",
       "      <td>NaN</td>\n",
       "      <td>NaN</td>\n",
       "      <td>NaN</td>\n",
       "      <td>44.048988333333334</td>\n",
       "      <td>-123.08251166666666</td>\n",
       "      <td>2022-05-01</td>\n",
       "      <td>...</td>\n",
       "      <td>19850</td>\n",
       "      <td>0096</td>\n",
       "      <td>1.01</td>\n",
       "      <td>00:07:45</td>\n",
       "      <td>NaN</td>\n",
       "      <td>False</td>\n",
       "      <td>0.0</td>\n",
       "      <td>0.0</td>\n",
       "      <td>0.0</td>\n",
       "      <td>0.0</td>\n",
       "    </tr>\n",
       "    <tr>\n",
       "      <th>1</th>\n",
       "      <td>2222901</td>\n",
       "      <td>14308715</td>\n",
       "      <td>NaN</td>\n",
       "      <td>UO Monthly Plan</td>\n",
       "      <td>PeaceHealth University District</td>\n",
       "      <td>Phase 1 System Area</td>\n",
       "      <td>NaN</td>\n",
       "      <td>44.047641666666664</td>\n",
       "      <td>-123.08187833333334</td>\n",
       "      <td>2022-05-01</td>\n",
       "      <td>...</td>\n",
       "      <td>19747</td>\n",
       "      <td>0217</td>\n",
       "      <td>1.45</td>\n",
       "      <td>00:09:56</td>\n",
       "      <td>NaN</td>\n",
       "      <td>False</td>\n",
       "      <td>0.0</td>\n",
       "      <td>0.0</td>\n",
       "      <td>0.0</td>\n",
       "      <td>0.0</td>\n",
       "    </tr>\n",
       "    <tr>\n",
       "      <th>2</th>\n",
       "      <td>2038600</td>\n",
       "      <td>14308717</td>\n",
       "      <td>NaN</td>\n",
       "      <td>UO Monthly Plan</td>\n",
       "      <td>19th and Agate</td>\n",
       "      <td>Phase 1 System Area</td>\n",
       "      <td>NaN</td>\n",
       "      <td>44.03908</td>\n",
       "      <td>-123.06958666666667</td>\n",
       "      <td>2022-05-01</td>\n",
       "      <td>...</td>\n",
       "      <td>19722</td>\n",
       "      <td>0192</td>\n",
       "      <td>0.86</td>\n",
       "      <td>00:06:34</td>\n",
       "      <td>NaN</td>\n",
       "      <td>False</td>\n",
       "      <td>0.0</td>\n",
       "      <td>0.0</td>\n",
       "      <td>0.0</td>\n",
       "      <td>0.0</td>\n",
       "    </tr>\n",
       "    <tr>\n",
       "      <th>3</th>\n",
       "      <td>2223054</td>\n",
       "      <td>14308720</td>\n",
       "      <td>NaN</td>\n",
       "      <td>UO Single Ride</td>\n",
       "      <td>8th &amp; Ferry</td>\n",
       "      <td>Phase 1 System Area</td>\n",
       "      <td>NaN</td>\n",
       "      <td>44.05105833333333</td>\n",
       "      <td>-123.08499833333333</td>\n",
       "      <td>2022-05-01</td>\n",
       "      <td>...</td>\n",
       "      <td>19799</td>\n",
       "      <td>0269</td>\n",
       "      <td>1.34</td>\n",
       "      <td>00:08:50</td>\n",
       "      <td>NaN</td>\n",
       "      <td>False</td>\n",
       "      <td>0.0</td>\n",
       "      <td>0.0</td>\n",
       "      <td>0.0</td>\n",
       "      <td>0.0</td>\n",
       "    </tr>\n",
       "    <tr>\n",
       "      <th>4</th>\n",
       "      <td>2207367</td>\n",
       "      <td>14308722</td>\n",
       "      <td>NaN</td>\n",
       "      <td>UO Monthly Plan</td>\n",
       "      <td>PeaceHealth University District</td>\n",
       "      <td>Phase 1 System Area</td>\n",
       "      <td>NaN</td>\n",
       "      <td>44.04763</td>\n",
       "      <td>-123.08197</td>\n",
       "      <td>2022-05-01</td>\n",
       "      <td>...</td>\n",
       "      <td>19654</td>\n",
       "      <td>0124</td>\n",
       "      <td>0.78</td>\n",
       "      <td>00:05:39</td>\n",
       "      <td>NaN</td>\n",
       "      <td>False</td>\n",
       "      <td>0.0</td>\n",
       "      <td>0.0</td>\n",
       "      <td>0.0</td>\n",
       "      <td>0.0</td>\n",
       "    </tr>\n",
       "  </tbody>\n",
       "</table>\n",
       "<p>5 rows × 30 columns</p>\n",
       "</div>"
      ],
      "text/plain": [
       "   User ID  Route ID  Bike Region ID     Payment Plan  \\\n",
       "0  2231320  14308713             NaN  UO Monthly Plan   \n",
       "1  2222901  14308715             NaN  UO Monthly Plan   \n",
       "2  2038600  14308717             NaN  UO Monthly Plan   \n",
       "3  2223054  14308720             NaN   UO Single Ride   \n",
       "4  2207367  14308722             NaN  UO Monthly Plan   \n",
       "\n",
       "                         Start Hub           Start Area Start Special Area  \\\n",
       "0                              NaN                  NaN                NaN   \n",
       "1  PeaceHealth University District  Phase 1 System Area                NaN   \n",
       "2                   19th and Agate  Phase 1 System Area                NaN   \n",
       "3                      8th & Ferry  Phase 1 System Area                NaN   \n",
       "4  PeaceHealth University District  Phase 1 System Area                NaN   \n",
       "\n",
       "       Start Latitude      Start Longitude  Start Date  ... Bike ID Bike Name  \\\n",
       "0  44.048988333333334  -123.08251166666666  2022-05-01  ...   19850      0096   \n",
       "1  44.047641666666664  -123.08187833333334  2022-05-01  ...   19747      0217   \n",
       "2            44.03908  -123.06958666666667  2022-05-01  ...   19722      0192   \n",
       "3   44.05105833333333  -123.08499833333333  2022-05-01  ...   19799      0269   \n",
       "4            44.04763           -123.08197  2022-05-01  ...   19654      0124   \n",
       "\n",
       "  Distance [Miles]  Duration Rental Access Path Multiple Rental Ride cost  \\\n",
       "0             1.01  00:07:45                NaN           False       0.0   \n",
       "1             1.45  00:09:56                NaN           False       0.0   \n",
       "2             0.86  00:06:34                NaN           False       0.0   \n",
       "3             1.34  00:08:50                NaN           False       0.0   \n",
       "4             0.78  00:05:39                NaN           False       0.0   \n",
       "\n",
       "  Fees Bonuses Total cost  \n",
       "0  0.0     0.0        0.0  \n",
       "1  0.0     0.0        0.0  \n",
       "2  0.0     0.0        0.0  \n",
       "3  0.0     0.0        0.0  \n",
       "4  0.0     0.0        0.0  \n",
       "\n",
       "[5 rows x 30 columns]"
      ]
     },
     "execution_count": 29,
     "metadata": {},
     "output_type": "execute_result"
    }
   ],
   "source": [
    "odf = pd.read_csv(os.path.join(inpath, file))\n",
    "odf.head()"
   ]
  },
  {
   "cell_type": "code",
   "execution_count": 30,
   "id": "58a37a2a",
   "metadata": {},
   "outputs": [],
   "source": [
    "df = odf "
   ]
  },
  {
   "cell_type": "code",
   "execution_count": 31,
   "id": "b8030192",
   "metadata": {},
   "outputs": [],
   "source": [
    "df = df[(df['Start Latitude'] != \" - \") | (df['End Latitude'] != \" - \" ) | (df['Start Longitude'] != \" - \") | (df['End Longitude'] != \" - \")]"
   ]
  },
  {
   "cell_type": "code",
   "execution_count": 21,
   "id": "83f6f668",
   "metadata": {},
   "outputs": [],
   "source": [
    "def getLoc(x):\n",
    "    if x is not None:\n",
    "        loc = x.raw['address']\n",
    "        a = [key for key, value in loc.items()][0]\n",
    "        b = [key for key, value in loc.items()][1]\n",
    "        if  a == 'house_number':\n",
    "            res = loc['road'] + ' ' + loc['house_number']\n",
    "        else:\n",
    "            res = loc[a]\n",
    "            if res == \"University of Oregon\":\n",
    "                res = \"UO \" + loc[b]\n",
    "    else:\n",
    "        res = \"\"\n",
    "    return res"
   ]
  },
  {
   "cell_type": "code",
   "execution_count": 19,
   "id": "2036ab8a",
   "metadata": {},
   "outputs": [],
   "source": [
    "def review_hubs(re_df):\n",
    "    for hub in [\"Start\", \"End\"]:\n",
    "        if hub+' Hub' in re_df.columns:\n",
    "            if re_df[re_df[hub+' Hub'].isnull()].shape[0] > 0:\n",
    "                re = re_df[re_df[hub+' Hub'].isnull()][[hub+' Latitude', hub+' Longitude']]\n",
    "            else:\n",
    "                re = re_df[re_df[hub+' Hub'].str.isnumeric()][[hub+' Latitude', hub+' Longitude']]\n",
    "        else:\n",
    "            re = re_df[re_df[hub+'.Hub'].str.isnumeric()][[hub+'.Latitude', hub+'.Longitude']]\n",
    "        \n",
    "        if re.shape[0] > 0:\n",
    "            re.columns = ['Lat', 'Lon']\n",
    "            re[\"geom\"] = re[\"Lat\"].map(str) + ',' + re['Lon'].map(str)\n",
    "            locator = Nominatim(user_agent=\"measurements\", timeout=10)\n",
    "            rgeocode = RateLimiter(locator.reverse, min_delay_seconds=0.00001)\n",
    "            tqdm_notebook.pandas()\n",
    "            re['address'] = re['geom'].progress_apply(rgeocode)\n",
    "            re['name'] =re.address.apply(getLoc)\n",
    "            if hub+' Hub' in re_df.columns:\n",
    "                if re_df[re_df[hub+' Hub'].isnull()].shape[0] > 0:\n",
    "                    re_df.loc[re_df[hub+' Hub'].isnull(), hub+' Hub'] = re.name.values\n",
    "                else:\n",
    "                    re_df.loc[re_df[hub+' Hub'].str.isnumeric(), hub+' Hub'] = re.name.values  \n",
    "            else:\n",
    "                re_df.loc[re_df[hub+'.Hub'].str.isnumeric(), hub+'.Hub'] = re.name.values\n",
    "    return re_df"
   ]
  },
  {
   "cell_type": "code",
   "execution_count": 32,
   "id": "f1079525",
   "metadata": {},
   "outputs": [
    {
     "data": {
      "application/vnd.jupyter.widget-view+json": {
       "model_id": "6f722c5b07184d10b42db28ffc96990a",
       "version_major": 2,
       "version_minor": 0
      },
      "text/plain": [
       "  0%|          | 0/4063 [00:00<?, ?it/s]"
      ]
     },
     "metadata": {},
     "output_type": "display_data"
    },
    {
     "name": "stderr",
     "output_type": "stream",
     "text": [
      "C:\\Users\\clid1852\\.conda\\envs\\geoenv\\lib\\site-packages\\pandas\\core\\indexing.py:1676: SettingWithCopyWarning: \n",
      "A value is trying to be set on a copy of a slice from a DataFrame.\n",
      "Try using .loc[row_indexer,col_indexer] = value instead\n",
      "\n",
      "See the caveats in the documentation: https://pandas.pydata.org/pandas-docs/stable/user_guide/indexing.html#returning-a-view-versus-a-copy\n",
      "  self._setitem_single_column(ilocs[0], value, pi)\n"
     ]
    },
    {
     "data": {
      "application/vnd.jupyter.widget-view+json": {
       "model_id": "ae0827aec7e64746a91e5be59abaecb5",
       "version_major": 2,
       "version_minor": 0
      },
      "text/plain": [
       "  0%|          | 0/4616 [00:00<?, ?it/s]"
      ]
     },
     "metadata": {},
     "output_type": "display_data"
    },
    {
     "name": "stderr",
     "output_type": "stream",
     "text": [
      "C:\\Users\\clid1852\\.conda\\envs\\geoenv\\lib\\site-packages\\pandas\\core\\indexing.py:1676: SettingWithCopyWarning: \n",
      "A value is trying to be set on a copy of a slice from a DataFrame.\n",
      "Try using .loc[row_indexer,col_indexer] = value instead\n",
      "\n",
      "See the caveats in the documentation: https://pandas.pydata.org/pandas-docs/stable/user_guide/indexing.html#returning-a-view-versus-a-copy\n",
      "  self._setitem_single_column(ilocs[0], value, pi)\n"
     ]
    }
   ],
   "source": [
    "re_df = review_hubs(df)"
   ]
  },
  {
   "cell_type": "code",
   "execution_count": 33,
   "id": "050bed3b",
   "metadata": {},
   "outputs": [],
   "source": [
    "outpath = r\"T:\\MPO\\Bike&Ped\\BikeCounting\\StoryMap\\BikeShare\\Data\\Output\\review\""
   ]
  },
  {
   "cell_type": "code",
   "execution_count": 34,
   "id": "4e7a7269",
   "metadata": {},
   "outputs": [],
   "source": [
    "re_df.to_csv(os.path.join(outpath, file), index=False)"
   ]
  }
 ],
 "metadata": {
  "kernelspec": {
   "display_name": "Python 3",
   "language": "python",
   "name": "python3"
  },
  "language_info": {
   "codemirror_mode": {
    "name": "ipython",
    "version": 3
   },
   "file_extension": ".py",
   "mimetype": "text/x-python",
   "name": "python",
   "nbconvert_exporter": "python",
   "pygments_lexer": "ipython3",
   "version": "3.8.8"
  }
 },
 "nbformat": 4,
 "nbformat_minor": 5
}
