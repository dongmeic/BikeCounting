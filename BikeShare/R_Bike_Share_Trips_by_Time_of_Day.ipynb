{
 "cells": [
  {
   "cell_type": "code",
   "execution_count": 1,
   "id": "9ad8c5b2",
   "metadata": {},
   "outputs": [],
   "source": [
    "options(warn = -1)"
   ]
  },
  {
   "cell_type": "code",
   "execution_count": 2,
   "id": "48dd5fc9",
   "metadata": {},
   "outputs": [
    {
     "name": "stderr",
     "output_type": "stream",
     "text": [
      "Loading required package: sp\n",
      "\n",
      "rgdal: version: 1.5-23, (SVN revision 1121)\n",
      "Geospatial Data Abstraction Library extensions to R successfully loaded\n",
      "Loaded GDAL runtime: GDAL 3.2.1, released 2020/12/29\n",
      "Path to GDAL shared files: C:/Users/clid1852/Documents/R/win-library/4.0/rgdal/gdal\n",
      "GDAL binary built with GEOS: TRUE \n",
      "Loaded PROJ runtime: Rel. 7.2.1, January 1st, 2021, [PJ_VERSION: 721]\n",
      "Path to PROJ shared files: C:/Users/clid1852/Documents/R/win-library/4.0/rgdal/proj\n",
      "PROJ CDN enabled: TRUE\n",
      "Linking to sp version:1.4-5\n",
      "To mute warnings of possible GDAL/OSR exportToProj4() degradation,\n",
      "use options(\"rgdal_show_exportToProj4_warnings\"=\"none\") before loading rgdal.\n",
      "Overwritten PROJ_LIB was C:/Users/clid1852/Documents/R/win-library/4.0/rgdal/proj\n",
      "\n",
      "\n",
      "Attaching package: 'lubridate'\n",
      "\n",
      "\n",
      "The following objects are masked from 'package:base':\n",
      "\n",
      "    date, intersect, setdiff, union\n",
      "\n",
      "\n"
     ]
    }
   ],
   "source": [
    "library(stringr)\n",
    "library(rgdal)\n",
    "library(lubridate)"
   ]
  },
  {
   "cell_type": "code",
   "execution_count": 3,
   "id": "6c233625",
   "metadata": {},
   "outputs": [],
   "source": [
    "path <- \"T:/MPO/Bike&Ped/BikeCounting/StoryMap/BikeShare/Output\""
   ]
  },
  {
   "cell_type": "code",
   "execution_count": 4,
   "id": "91068a05",
   "metadata": {},
   "outputs": [],
   "source": [
    "data <- read.csv(paste0(path, \"/Bike_Share_Trips.csv\"))"
   ]
  },
  {
   "cell_type": "code",
   "execution_count": 5,
   "id": "40d224db",
   "metadata": {},
   "outputs": [],
   "source": [
    "data$Date <- as.Date(data$Date, \"%Y-%m-%d\")"
   ]
  },
  {
   "cell_type": "code",
   "execution_count": 6,
   "id": "229e9f84",
   "metadata": {},
   "outputs": [
    {
     "data": {
      "text/html": [
       "<style>\n",
       ".list-inline {list-style: none; margin:0; padding: 0}\n",
       ".list-inline>li {display: inline-block}\n",
       ".list-inline>li:not(:last-child)::after {content: \"\\00b7\"; padding: 0 .5ex}\n",
       "</style>\n",
       "<ol class=list-inline><li>2021</li><li>2022</li></ol>\n"
      ],
      "text/latex": [
       "\\begin{enumerate*}\n",
       "\\item 2021\n",
       "\\item 2022\n",
       "\\end{enumerate*}\n"
      ],
      "text/markdown": [
       "1. 2021\n",
       "2. 2022\n",
       "\n",
       "\n"
      ],
      "text/plain": [
       "[1] 2021 2022"
      ]
     },
     "metadata": {},
     "output_type": "display_data"
    }
   ],
   "source": [
    "unique(year(data$Date))"
   ]
  },
  {
   "cell_type": "code",
   "execution_count": 7,
   "id": "5c5210c4",
   "metadata": {},
   "outputs": [
    {
     "data": {
      "text/html": [
       "<table class=\"dataframe\">\n",
       "<caption>A data.frame: 6 × 17</caption>\n",
       "<thead>\n",
       "\t<tr><th></th><th scope=col>RouteID</th><th scope=col>BikeID</th><th scope=col>UserID</th><th scope=col>Location</th><th scope=col>Latitude</th><th scope=col>Longitude</th><th scope=col>Date</th><th scope=col>Time</th><th scope=col>PathID</th><th scope=col>Distance</th><th scope=col>Minutes</th><th scope=col>OrgDst</th><th scope=col>Weekday</th><th scope=col>Month</th><th scope=col>Season</th><th scope=col>SeasonOrder</th><th scope=col>WeekdayOrder</th></tr>\n",
       "\t<tr><th></th><th scope=col>&lt;int&gt;</th><th scope=col>&lt;int&gt;</th><th scope=col>&lt;int&gt;</th><th scope=col>&lt;chr&gt;</th><th scope=col>&lt;dbl&gt;</th><th scope=col>&lt;dbl&gt;</th><th scope=col>&lt;date&gt;</th><th scope=col>&lt;chr&gt;</th><th scope=col>&lt;chr&gt;</th><th scope=col>&lt;dbl&gt;</th><th scope=col>&lt;dbl&gt;</th><th scope=col>&lt;chr&gt;</th><th scope=col>&lt;chr&gt;</th><th scope=col>&lt;chr&gt;</th><th scope=col>&lt;chr&gt;</th><th scope=col>&lt;int&gt;</th><th scope=col>&lt;int&gt;</th></tr>\n",
       "</thead>\n",
       "<tbody>\n",
       "\t<tr><th scope=row>1</th><td>13713102</td><td>19521</td><td> 783398</td><td><span style=white-space:pre-wrap>Monroe St &amp; Blair Blvd         </span></td><td>44.05141</td><td>-123.1049</td><td>2021-01-01</td><td>01:11</td><td><span style=white-space:pre-wrap>Monroe St &amp; Blair Blvd  - 15th &amp; Ferry                           </span></td><td>1.55</td><td>11.000000</td><td>Origin</td><td>Friday</td><td>January</td><td>Winter</td><td>4</td><td>5</td></tr>\n",
       "\t<tr><th scope=row>2</th><td>13713106</td><td>19584</td><td>1510848</td><td>PeaceHealth University District</td><td>44.04736</td><td>-123.0822</td><td>2021-01-01</td><td>01:52</td><td>PeaceHealth University District - PeaceHealth University District</td><td>1.17</td><td>20.550000</td><td>Origin</td><td>Friday</td><td>January</td><td>Winter</td><td>4</td><td>5</td></tr>\n",
       "\t<tr><th scope=row>3</th><td>13713112</td><td>19737</td><td> 911293</td><td><span style=white-space:pre-wrap>12th &amp; Willamette              </span></td><td>44.04608</td><td>-123.0929</td><td>2021-01-01</td><td>03:16</td><td><span style=white-space:pre-wrap>12th &amp; Willamette - 17th &amp; Pearl, East side                      </span></td><td>0.49</td><td> 4.916667</td><td>Origin</td><td>Friday</td><td>January</td><td>Winter</td><td>4</td><td>5</td></tr>\n",
       "\t<tr><th scope=row>4</th><td>13713256</td><td>19737</td><td> 766725</td><td><span style=white-space:pre-wrap>17th &amp; Pearl, East side        </span></td><td>44.04109</td><td>-123.0900</td><td>2021-01-01</td><td>09:36</td><td><span style=white-space:pre-wrap>17th &amp; Pearl, East side - 17th &amp; Pearl, East side                </span></td><td>2.29</td><td>23.100000</td><td>Origin</td><td>Friday</td><td>January</td><td>Winter</td><td>4</td><td>5</td></tr>\n",
       "\t<tr><th scope=row>5</th><td>13713355</td><td>19761</td><td>1726219</td><td><span style=white-space:pre-wrap>15th &amp; Ferry                   </span></td><td>44.04355</td><td>-123.0852</td><td>2021-01-01</td><td>11:09</td><td><span style=white-space:pre-wrap>15th &amp; Ferry - 15th &amp; Ferry                                      </span></td><td>0.01</td><td> 1.100000</td><td>Origin</td><td>Friday</td><td>January</td><td>Winter</td><td>4</td><td>5</td></tr>\n",
       "\t<tr><th scope=row>6</th><td>13713360</td><td>19711</td><td>1174607</td><td>Valley River                   </td><td>44.06523</td><td>-123.1037</td><td>2021-01-01</td><td>11:13</td><td>Valley River - Valley River                                      </td><td>7.60</td><td>36.500000</td><td>Origin</td><td>Friday</td><td>January</td><td>Winter</td><td>4</td><td>5</td></tr>\n",
       "</tbody>\n",
       "</table>\n"
      ],
      "text/latex": [
       "A data.frame: 6 × 17\n",
       "\\begin{tabular}{r|lllllllllllllllll}\n",
       "  & RouteID & BikeID & UserID & Location & Latitude & Longitude & Date & Time & PathID & Distance & Minutes & OrgDst & Weekday & Month & Season & SeasonOrder & WeekdayOrder\\\\\n",
       "  & <int> & <int> & <int> & <chr> & <dbl> & <dbl> & <date> & <chr> & <chr> & <dbl> & <dbl> & <chr> & <chr> & <chr> & <chr> & <int> & <int>\\\\\n",
       "\\hline\n",
       "\t1 & 13713102 & 19521 &  783398 & Monroe St \\& Blair Blvd          & 44.05141 & -123.1049 & 2021-01-01 & 01:11 & Monroe St \\& Blair Blvd  - 15th \\& Ferry                            & 1.55 & 11.000000 & Origin & Friday & January & Winter & 4 & 5\\\\\n",
       "\t2 & 13713106 & 19584 & 1510848 & PeaceHealth University District & 44.04736 & -123.0822 & 2021-01-01 & 01:52 & PeaceHealth University District - PeaceHealth University District & 1.17 & 20.550000 & Origin & Friday & January & Winter & 4 & 5\\\\\n",
       "\t3 & 13713112 & 19737 &  911293 & 12th \\& Willamette               & 44.04608 & -123.0929 & 2021-01-01 & 03:16 & 12th \\& Willamette - 17th \\& Pearl, East side                       & 0.49 &  4.916667 & Origin & Friday & January & Winter & 4 & 5\\\\\n",
       "\t4 & 13713256 & 19737 &  766725 & 17th \\& Pearl, East side         & 44.04109 & -123.0900 & 2021-01-01 & 09:36 & 17th \\& Pearl, East side - 17th \\& Pearl, East side                 & 2.29 & 23.100000 & Origin & Friday & January & Winter & 4 & 5\\\\\n",
       "\t5 & 13713355 & 19761 & 1726219 & 15th \\& Ferry                    & 44.04355 & -123.0852 & 2021-01-01 & 11:09 & 15th \\& Ferry - 15th \\& Ferry                                       & 0.01 &  1.100000 & Origin & Friday & January & Winter & 4 & 5\\\\\n",
       "\t6 & 13713360 & 19711 & 1174607 & Valley River                    & 44.06523 & -123.1037 & 2021-01-01 & 11:13 & Valley River - Valley River                                       & 7.60 & 36.500000 & Origin & Friday & January & Winter & 4 & 5\\\\\n",
       "\\end{tabular}\n"
      ],
      "text/markdown": [
       "\n",
       "A data.frame: 6 × 17\n",
       "\n",
       "| <!--/--> | RouteID &lt;int&gt; | BikeID &lt;int&gt; | UserID &lt;int&gt; | Location &lt;chr&gt; | Latitude &lt;dbl&gt; | Longitude &lt;dbl&gt; | Date &lt;date&gt; | Time &lt;chr&gt; | PathID &lt;chr&gt; | Distance &lt;dbl&gt; | Minutes &lt;dbl&gt; | OrgDst &lt;chr&gt; | Weekday &lt;chr&gt; | Month &lt;chr&gt; | Season &lt;chr&gt; | SeasonOrder &lt;int&gt; | WeekdayOrder &lt;int&gt; |\n",
       "|---|---|---|---|---|---|---|---|---|---|---|---|---|---|---|---|---|---|\n",
       "| 1 | 13713102 | 19521 |  783398 | Monroe St &amp; Blair Blvd          | 44.05141 | -123.1049 | 2021-01-01 | 01:11 | Monroe St &amp; Blair Blvd  - 15th &amp; Ferry                            | 1.55 | 11.000000 | Origin | Friday | January | Winter | 4 | 5 |\n",
       "| 2 | 13713106 | 19584 | 1510848 | PeaceHealth University District | 44.04736 | -123.0822 | 2021-01-01 | 01:52 | PeaceHealth University District - PeaceHealth University District | 1.17 | 20.550000 | Origin | Friday | January | Winter | 4 | 5 |\n",
       "| 3 | 13713112 | 19737 |  911293 | 12th &amp; Willamette               | 44.04608 | -123.0929 | 2021-01-01 | 03:16 | 12th &amp; Willamette - 17th &amp; Pearl, East side                       | 0.49 |  4.916667 | Origin | Friday | January | Winter | 4 | 5 |\n",
       "| 4 | 13713256 | 19737 |  766725 | 17th &amp; Pearl, East side         | 44.04109 | -123.0900 | 2021-01-01 | 09:36 | 17th &amp; Pearl, East side - 17th &amp; Pearl, East side                 | 2.29 | 23.100000 | Origin | Friday | January | Winter | 4 | 5 |\n",
       "| 5 | 13713355 | 19761 | 1726219 | 15th &amp; Ferry                    | 44.04355 | -123.0852 | 2021-01-01 | 11:09 | 15th &amp; Ferry - 15th &amp; Ferry                                       | 0.01 |  1.100000 | Origin | Friday | January | Winter | 4 | 5 |\n",
       "| 6 | 13713360 | 19711 | 1174607 | Valley River                    | 44.06523 | -123.1037 | 2021-01-01 | 11:13 | Valley River - Valley River                                       | 7.60 | 36.500000 | Origin | Friday | January | Winter | 4 | 5 |\n",
       "\n"
      ],
      "text/plain": [
       "  RouteID  BikeID UserID  Location                        Latitude Longitude\n",
       "1 13713102 19521   783398 Monroe St & Blair Blvd          44.05141 -123.1049\n",
       "2 13713106 19584  1510848 PeaceHealth University District 44.04736 -123.0822\n",
       "3 13713112 19737   911293 12th & Willamette               44.04608 -123.0929\n",
       "4 13713256 19737   766725 17th & Pearl, East side         44.04109 -123.0900\n",
       "5 13713355 19761  1726219 15th & Ferry                    44.04355 -123.0852\n",
       "6 13713360 19711  1174607 Valley River                    44.06523 -123.1037\n",
       "  Date       Time \n",
       "1 2021-01-01 01:11\n",
       "2 2021-01-01 01:52\n",
       "3 2021-01-01 03:16\n",
       "4 2021-01-01 09:36\n",
       "5 2021-01-01 11:09\n",
       "6 2021-01-01 11:13\n",
       "  PathID                                                            Distance\n",
       "1 Monroe St & Blair Blvd  - 15th & Ferry                            1.55    \n",
       "2 PeaceHealth University District - PeaceHealth University District 1.17    \n",
       "3 12th & Willamette - 17th & Pearl, East side                       0.49    \n",
       "4 17th & Pearl, East side - 17th & Pearl, East side                 2.29    \n",
       "5 15th & Ferry - 15th & Ferry                                       0.01    \n",
       "6 Valley River - Valley River                                       7.60    \n",
       "  Minutes   OrgDst Weekday Month   Season SeasonOrder WeekdayOrder\n",
       "1 11.000000 Origin Friday  January Winter 4           5           \n",
       "2 20.550000 Origin Friday  January Winter 4           5           \n",
       "3  4.916667 Origin Friday  January Winter 4           5           \n",
       "4 23.100000 Origin Friday  January Winter 4           5           \n",
       "5  1.100000 Origin Friday  January Winter 4           5           \n",
       "6 36.500000 Origin Friday  January Winter 4           5           "
      ]
     },
     "metadata": {},
     "output_type": "display_data"
    }
   ],
   "source": [
    "head(data)"
   ]
  },
  {
   "cell_type": "code",
   "execution_count": 8,
   "id": "8746b577",
   "metadata": {},
   "outputs": [
    {
     "data": {
      "text/html": [
       "<style>\n",
       ".list-inline {list-style: none; margin:0; padding: 0}\n",
       ".list-inline>li {display: inline-block}\n",
       ".list-inline>li:not(:last-child)::after {content: \"\\00b7\"; padding: 0 .5ex}\n",
       "</style>\n",
       "<ol class=list-inline><li>173120</li><li>17</li></ol>\n"
      ],
      "text/latex": [
       "\\begin{enumerate*}\n",
       "\\item 173120\n",
       "\\item 17\n",
       "\\end{enumerate*}\n"
      ],
      "text/markdown": [
       "1. 173120\n",
       "2. 17\n",
       "\n",
       "\n"
      ],
      "text/plain": [
       "[1] 173120     17"
      ]
     },
     "metadata": {},
     "output_type": "display_data"
    }
   ],
   "source": [
    "dim(data)"
   ]
  },
  {
   "cell_type": "code",
   "execution_count": 9,
   "id": "86b7ad32",
   "metadata": {},
   "outputs": [],
   "source": [
    "x <- unique(data$Time)[1]"
   ]
  },
  {
   "cell_type": "code",
   "execution_count": 10,
   "id": "5b184e8d",
   "metadata": {},
   "outputs": [
    {
     "data": {
      "text/html": [
       "'01:11'"
      ],
      "text/latex": [
       "'01:11'"
      ],
      "text/markdown": [
       "'01:11'"
      ],
      "text/plain": [
       "[1] \"01:11\""
      ]
     },
     "metadata": {},
     "output_type": "display_data"
    }
   ],
   "source": [
    "x"
   ]
  },
  {
   "cell_type": "code",
   "execution_count": 11,
   "id": "3a49064b",
   "metadata": {},
   "outputs": [],
   "source": [
    "convert_time_to_hour <- function(x){\n",
    "    s <- unlist(str_split(x, \":\"))\n",
    "    return(as.numeric(s[1])+as.numeric(s[2])/60)\n",
    "}"
   ]
  },
  {
   "cell_type": "code",
   "execution_count": 12,
   "id": "bac10531",
   "metadata": {},
   "outputs": [],
   "source": [
    "data$Hour <- sapply(data$Time, function(x) convert_time_to_hour(x))"
   ]
  },
  {
   "cell_type": "code",
   "execution_count": 13,
   "id": "fd02b32b",
   "metadata": {},
   "outputs": [],
   "source": [
    "get_parts_of_day <- function(x){\n",
    "    if(x >= 21 | x <= 4){\n",
    "        d <- \"Night\"\n",
    "    }else if(x > 17 & x < 21){\n",
    "        d <- \"Evening\"\n",
    "    }else if(x > 12 & x <= 17){\n",
    "#        if(x > 12 & x < 14){\n",
    "#            d <- \"Early Afternoon\"\n",
    "#        }else if(x > 16 & x <= 17){\n",
    "#            d <- \"Late Afternoon\"\n",
    "#        }else{\n",
    "#            d <- \"Afternoon\"\n",
    "#        }\n",
    "        d <- \"Afternoon\"\n",
    "    }else{\n",
    "#        if(x > 4 & x < 8){\n",
    "#            d <- \"Early Morning\"\n",
    "#        }else if(x >= 11 & x <= 12){\n",
    "#            d <- \"Late Morning\"\n",
    "#        }else{\n",
    "#            d <- \"Morning\"\n",
    "#        }\n",
    "        d <- \"Morning\"\n",
    "    }\n",
    "    return(d)\n",
    "}"
   ]
  },
  {
   "cell_type": "code",
   "execution_count": 14,
   "id": "1f355a8e",
   "metadata": {},
   "outputs": [
    {
     "data": {
      "text/html": [
       "'Night'"
      ],
      "text/latex": [
       "'Night'"
      ],
      "text/markdown": [
       "'Night'"
      ],
      "text/plain": [
       "[1] \"Night\""
      ]
     },
     "metadata": {},
     "output_type": "display_data"
    }
   ],
   "source": [
    "get_parts_of_day(convert_time_to_hour(x))"
   ]
  },
  {
   "cell_type": "code",
   "execution_count": 15,
   "id": "56bcc108",
   "metadata": {},
   "outputs": [],
   "source": [
    "data$DayPart <- sapply(data$Hour, function(x) get_parts_of_day(x))"
   ]
  },
  {
   "cell_type": "code",
   "execution_count": 16,
   "id": "a464f0f5",
   "metadata": {},
   "outputs": [
    {
     "data": {
      "text/html": [
       "<style>\n",
       ".list-inline {list-style: none; margin:0; padding: 0}\n",
       ".list-inline>li {display: inline-block}\n",
       ".list-inline>li:not(:last-child)::after {content: \"\\00b7\"; padding: 0 .5ex}\n",
       "</style>\n",
       "<ol class=list-inline><li>'RouteID'</li><li>'BikeID'</li><li>'UserID'</li><li>'Location'</li><li>'Latitude'</li><li>'Longitude'</li><li>'Date'</li><li>'Time'</li><li>'PathID'</li><li>'Distance'</li><li>'Minutes'</li><li>'OrgDst'</li><li>'Weekday'</li><li>'Month'</li><li>'Season'</li><li>'SeasonOrder'</li><li>'WeekdayOrder'</li><li>'Hour'</li><li>'DayPart'</li></ol>\n"
      ],
      "text/latex": [
       "\\begin{enumerate*}\n",
       "\\item 'RouteID'\n",
       "\\item 'BikeID'\n",
       "\\item 'UserID'\n",
       "\\item 'Location'\n",
       "\\item 'Latitude'\n",
       "\\item 'Longitude'\n",
       "\\item 'Date'\n",
       "\\item 'Time'\n",
       "\\item 'PathID'\n",
       "\\item 'Distance'\n",
       "\\item 'Minutes'\n",
       "\\item 'OrgDst'\n",
       "\\item 'Weekday'\n",
       "\\item 'Month'\n",
       "\\item 'Season'\n",
       "\\item 'SeasonOrder'\n",
       "\\item 'WeekdayOrder'\n",
       "\\item 'Hour'\n",
       "\\item 'DayPart'\n",
       "\\end{enumerate*}\n"
      ],
      "text/markdown": [
       "1. 'RouteID'\n",
       "2. 'BikeID'\n",
       "3. 'UserID'\n",
       "4. 'Location'\n",
       "5. 'Latitude'\n",
       "6. 'Longitude'\n",
       "7. 'Date'\n",
       "8. 'Time'\n",
       "9. 'PathID'\n",
       "10. 'Distance'\n",
       "11. 'Minutes'\n",
       "12. 'OrgDst'\n",
       "13. 'Weekday'\n",
       "14. 'Month'\n",
       "15. 'Season'\n",
       "16. 'SeasonOrder'\n",
       "17. 'WeekdayOrder'\n",
       "18. 'Hour'\n",
       "19. 'DayPart'\n",
       "\n",
       "\n"
      ],
      "text/plain": [
       " [1] \"RouteID\"      \"BikeID\"       \"UserID\"       \"Location\"     \"Latitude\"    \n",
       " [6] \"Longitude\"    \"Date\"         \"Time\"         \"PathID\"       \"Distance\"    \n",
       "[11] \"Minutes\"      \"OrgDst\"       \"Weekday\"      \"Month\"        \"Season\"      \n",
       "[16] \"SeasonOrder\"  \"WeekdayOrder\" \"Hour\"         \"DayPart\"     "
      ]
     },
     "metadata": {},
     "output_type": "display_data"
    }
   ],
   "source": [
    "names(data)"
   ]
  },
  {
   "cell_type": "code",
   "execution_count": 17,
   "id": "5a637a54",
   "metadata": {},
   "outputs": [],
   "source": [
    "agg_data <- function(df=data, by=\"Origin\"){\n",
    "    dt <- df[df$OrgDst == by,]\n",
    "    aggdt <- aggregate(x=list(NoTrips=dt$RouteID, NoUsers = dt$UserID),\n",
    "              by=list(Location = dt$Location, Longitude = dt$Longitude, Latitude=dt$Latitude, DayPart=dt$DayPart),\n",
    "              FUN=function(x) length(unique(x)))\n",
    "    return(aggdt)\n",
    "}"
   ]
  },
  {
   "cell_type": "code",
   "execution_count": 18,
   "id": "ac8c29b5",
   "metadata": {},
   "outputs": [],
   "source": [
    "Origin_dt <- agg_data()"
   ]
  },
  {
   "cell_type": "code",
   "execution_count": 19,
   "id": "0bbb62ab",
   "metadata": {},
   "outputs": [],
   "source": [
    "Destination_dt <- agg_data(df=data, by=\"Destination\")"
   ]
  },
  {
   "cell_type": "code",
   "execution_count": 20,
   "id": "a05e8e6f",
   "metadata": {},
   "outputs": [],
   "source": [
    "df2spdf <- function(df, lon_col_name, lat_col_name, trans = TRUE){\n",
    "  lonlat <- sp::CRS(\"+proj=longlat +datum=WGS84 +ellps=WGS84 +towgs84=0,0,0\")\n",
    "  lon_col_no <- which(names(df)==lon_col_name)\n",
    "  lat_col_no <- which(names(df)==lat_col_name)\n",
    "  xy <- data.frame(df[,c(lon_col_no,lat_col_no)])\n",
    "  coordinates(xy) <- c(lon_col_name, lat_col_name)\n",
    "  proj4string(xy) <- lonlat\n",
    "  spdf <- sp::SpatialPointsDataFrame(coords = xy, data = df)\n",
    "  if(trans){\n",
    "    spdf <- spTransform(spdf,  CRS(\"+proj=merc +a=6378137 +b=6378137 +lat_ts=0 +lon_0=0 +x_0=0 +y_0=0 +k=1 +units=m +nadgrids=@null +wktext +no_defs +type=crs\"))\n",
    "  }\n",
    "  return(spdf)\n",
    "}"
   ]
  },
  {
   "cell_type": "code",
   "execution_count": 21,
   "id": "cd5d58dd",
   "metadata": {},
   "outputs": [],
   "source": [
    "Origin_spdf <- df2spdf(Origin_dt, 'Longitude', 'Latitude')"
   ]
  },
  {
   "cell_type": "code",
   "execution_count": 22,
   "id": "d378c1ee",
   "metadata": {},
   "outputs": [],
   "source": [
    "Destination_spdf <- df2spdf(Destination_dt, 'Longitude', 'Latitude')"
   ]
  },
  {
   "cell_type": "code",
   "execution_count": 23,
   "id": "0ac0fc5c",
   "metadata": {},
   "outputs": [],
   "source": [
    "writeOGR(Origin_spdf, dsn=path, layer=\"Origin_Bike_Share_DayPart\", driver=\"ESRI Shapefile\", overwrite_layer=TRUE)"
   ]
  },
  {
   "cell_type": "code",
   "execution_count": 24,
   "id": "c0133855",
   "metadata": {},
   "outputs": [],
   "source": [
    "writeOGR(Destination_spdf, dsn=path, layer=\"Destination_Bike_Share_DayPart\", driver=\"ESRI Shapefile\", overwrite_layer=TRUE)"
   ]
  }
 ],
 "metadata": {
  "kernelspec": {
   "display_name": "R",
   "language": "R",
   "name": "ir"
  },
  "language_info": {
   "codemirror_mode": "r",
   "file_extension": ".r",
   "mimetype": "text/x-r-source",
   "name": "R",
   "pygments_lexer": "r",
   "version": "4.0.3"
  }
 },
 "nbformat": 4,
 "nbformat_minor": 5
}
