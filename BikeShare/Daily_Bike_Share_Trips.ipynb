{
 "cells": [
  {
   "cell_type": "code",
   "execution_count": 34,
   "id": "0c370c69",
   "metadata": {},
   "outputs": [],
   "source": [
    "options(warn = -1)"
   ]
  },
  {
   "cell_type": "code",
   "execution_count": 35,
   "id": "23f82b01",
   "metadata": {},
   "outputs": [
    {
     "name": "stderr",
     "output_type": "stream",
     "text": [
      "\n",
      "Attaching package: 'lubridate'\n",
      "\n",
      "\n",
      "The following objects are masked from 'package:base':\n",
      "\n",
      "    date, intersect, setdiff, union\n",
      "\n",
      "\n",
      "Loading required package: sp\n",
      "\n",
      "rgdal: version: 1.5-23, (SVN revision 1121)\n",
      "Geospatial Data Abstraction Library extensions to R successfully loaded\n",
      "Loaded GDAL runtime: GDAL 3.2.1, released 2020/12/29\n",
      "Path to GDAL shared files: C:/Users/clid1852/Documents/R/win-library/4.0/rgdal/gdal\n",
      "GDAL binary built with GEOS: TRUE \n",
      "Loaded PROJ runtime: Rel. 7.2.1, January 1st, 2021, [PJ_VERSION: 721]\n",
      "Path to PROJ shared files: C:/Users/clid1852/Documents/R/win-library/4.0/rgdal/proj\n",
      "PROJ CDN enabled: TRUE\n",
      "Linking to sp version:1.4-5\n",
      "To mute warnings of possible GDAL/OSR exportToProj4() degradation,\n",
      "use options(\"rgdal_show_exportToProj4_warnings\"=\"none\") before loading rgdal.\n",
      "Overwritten PROJ_LIB was C:/Users/clid1852/Documents/R/win-library/4.0/rgdal/proj\n",
      "\n"
     ]
    }
   ],
   "source": [
    "library(lubridate)\n",
    "library(rgdal)\n",
    "library(stringr)"
   ]
  },
  {
   "cell_type": "code",
   "execution_count": 1,
   "id": "763e79ce",
   "metadata": {},
   "outputs": [],
   "source": [
    "path <- \"T:/DCProjects/StoryMap/BikeCounting/BikeShare/Data/Output/review\""
   ]
  },
  {
   "cell_type": "code",
   "execution_count": 10,
   "id": "a5e515b3",
   "metadata": {},
   "outputs": [],
   "source": [
    "files <- list.files(path)[grep(\"2021\", list.files(path))]"
   ]
  },
  {
   "cell_type": "code",
   "execution_count": 16,
   "id": "9466c056",
   "metadata": {},
   "outputs": [],
   "source": [
    "selected_vars <- c('User.ID', 'Route.ID', 'Start.Hub', \n",
    "                   'Start.Latitude', 'Start.Longitude',\n",
    "                   'Start.Date', 'Start.Time', \n",
    "                   'End.Hub', 'End.Latitude', 'End.Longitude',\n",
    "                   'End.Date', 'End.Time', 'Bike.ID', 'Bike.Name',\n",
    "                   'Distance..Miles.', 'Duration')"
   ]
  },
  {
   "cell_type": "code",
   "execution_count": 17,
   "id": "eac86c74",
   "metadata": {},
   "outputs": [],
   "source": [
    "for(file in files){\n",
    "    #print(file)\n",
    "    if(file == files[1]){\n",
    "        df <- read.csv(paste0(path, \"/\", file))\n",
    "        df <- df[, selected_vars]\n",
    "    }else{\n",
    "        ndf <- read.csv(paste0(path, \"/\", file))\n",
    "        ndf <- ndf[, selected_vars]\n",
    "        df <- rbind(df, ndf)\n",
    "    }\n",
    "}"
   ]
  },
  {
   "cell_type": "code",
   "execution_count": 9,
   "id": "88c1f323",
   "metadata": {},
   "outputs": [],
   "source": [
    "toMinutes <- function(x){\n",
    "  h <- as.numeric(strsplit(x, \":\")[[1]][1])\n",
    "  m <- as.numeric(strsplit(x, \":\")[[1]][2])\n",
    "  s <- as.numeric(strsplit(x, \":\")[[1]][3])\n",
    "  \n",
    "  res <- h*60 + m + s/60\n",
    "  \n",
    "  return(res)\n",
    "}"
   ]
  },
  {
   "cell_type": "code",
   "execution_count": 18,
   "id": "682e556d",
   "metadata": {},
   "outputs": [],
   "source": [
    "df$Minutes <- unlist(lapply(df$Duration, function(x) toMinutes(x)))"
   ]
  },
  {
   "cell_type": "code",
   "execution_count": 23,
   "id": "7b51ce71",
   "metadata": {},
   "outputs": [],
   "source": [
    "df$Path.ID = paste(df$Start.Hub, \"-\", df$End.Hub)"
   ]
  },
  {
   "cell_type": "code",
   "execution_count": 29,
   "id": "9a6b4e84",
   "metadata": {},
   "outputs": [],
   "source": [
    "organize_data <- function(df){\n",
    "  #trips <- read.csv(paste0(inpath, \"/\", file))\n",
    "  org <- df[,c('Route.ID', 'Bike.ID', 'User.ID', \n",
    "                  'Start.Hub', 'Start.Latitude', 'Start.Longitude',\n",
    "                  'Start.Date', 'Start.Time', 'Path.ID',\n",
    "                  'Distance..Miles.', 'Minutes')]\n",
    "  names(org) <- c(\"RouteID\", \"BikeID\", 'UserID',\n",
    "                  \"Location\", \"Latitude\", \"Longitude\",\n",
    "                  \"Date\", \"Time\", 'PathID',\n",
    "                  'Distance', 'Minutes')\n",
    "  org$OrgDst <- rep(\"Origin\", dim(org)[1])\n",
    "  dst <- df[,c('Route.ID', 'Bike.ID', 'User.ID', 'End.Hub',\n",
    "                  'End.Latitude', 'End.Longitude',\n",
    "                  'End.Date','End.Time', 'Path.ID',\n",
    "                  'Distance..Miles.', 'Minutes')]\n",
    "  names(dst) <- c(\"RouteID\", \"BikeID\", 'UserID',\n",
    "                  \"Location\", \"Latitude\", \"Longitude\", \n",
    "                  \"Date\", \"Time\", 'PathID',\n",
    "                  'Distance', 'Minutes')\n",
    "  dst$OrgDst <- rep(\"Destination\", dim(dst)[1])\n",
    "  ndf <- rbind(org, dst)\n",
    "  return(ndf)\n",
    "}"
   ]
  },
  {
   "cell_type": "code",
   "execution_count": 26,
   "id": "118d3c8d",
   "metadata": {},
   "outputs": [],
   "source": [
    "# focus on CLMPO\n",
    "mdf <- df[(df$Start.Latitude >= 43.97865 & df$Start.Latitude <= 44.16123) & \n",
    "           (df$Start.Longitude >= -123.2321 & df$Start.Longitude <= -122.8281) & \n",
    "           (df$End.Latitude >= 43.97865 & df$End.Latitude <= 44.16123) &\n",
    "           (df$End.Longitude >= -123.2321 & df$End.Longitude <= -122.8281), ]\n",
    "\n",
    "mdf <- mdf[!(mdf$Start.Longitude == mdf$End.Longitude & mdf$Start.Latitude == mdf$End.Latitude),]"
   ]
  },
  {
   "cell_type": "code",
   "execution_count": 25,
   "id": "fcb9d4f4",
   "metadata": {},
   "outputs": [
    {
     "data": {
      "text/html": [
       "<style>\n",
       ".list-inline {list-style: none; margin:0; padding: 0}\n",
       ".list-inline>li {display: inline-block}\n",
       ".list-inline>li:not(:last-child)::after {content: \"\\00b7\"; padding: 0 .5ex}\n",
       "</style>\n",
       "<ol class=list-inline><li>'User.ID'</li><li>'Route.ID'</li><li>'Start.Hub'</li><li>'Start.Latitude'</li><li>'Start.Longitude'</li><li>'Start.Date'</li><li>'Start.Time'</li><li>'End.Hub'</li><li>'End.Latitude'</li><li>'End.Longitude'</li><li>'End.Date'</li><li>'End.Time'</li><li>'Bike.ID'</li><li>'Bike.Name'</li><li>'Distance..Miles.'</li><li>'Duration'</li><li>'Minutes'</li><li>'Path.ID'</li></ol>\n"
      ],
      "text/latex": [
       "\\begin{enumerate*}\n",
       "\\item 'User.ID'\n",
       "\\item 'Route.ID'\n",
       "\\item 'Start.Hub'\n",
       "\\item 'Start.Latitude'\n",
       "\\item 'Start.Longitude'\n",
       "\\item 'Start.Date'\n",
       "\\item 'Start.Time'\n",
       "\\item 'End.Hub'\n",
       "\\item 'End.Latitude'\n",
       "\\item 'End.Longitude'\n",
       "\\item 'End.Date'\n",
       "\\item 'End.Time'\n",
       "\\item 'Bike.ID'\n",
       "\\item 'Bike.Name'\n",
       "\\item 'Distance..Miles.'\n",
       "\\item 'Duration'\n",
       "\\item 'Minutes'\n",
       "\\item 'Path.ID'\n",
       "\\end{enumerate*}\n"
      ],
      "text/markdown": [
       "1. 'User.ID'\n",
       "2. 'Route.ID'\n",
       "3. 'Start.Hub'\n",
       "4. 'Start.Latitude'\n",
       "5. 'Start.Longitude'\n",
       "6. 'Start.Date'\n",
       "7. 'Start.Time'\n",
       "8. 'End.Hub'\n",
       "9. 'End.Latitude'\n",
       "10. 'End.Longitude'\n",
       "11. 'End.Date'\n",
       "12. 'End.Time'\n",
       "13. 'Bike.ID'\n",
       "14. 'Bike.Name'\n",
       "15. 'Distance..Miles.'\n",
       "16. 'Duration'\n",
       "17. 'Minutes'\n",
       "18. 'Path.ID'\n",
       "\n",
       "\n"
      ],
      "text/plain": [
       " [1] \"User.ID\"          \"Route.ID\"         \"Start.Hub\"        \"Start.Latitude\"  \n",
       " [5] \"Start.Longitude\"  \"Start.Date\"       \"Start.Time\"       \"End.Hub\"         \n",
       " [9] \"End.Latitude\"     \"End.Longitude\"    \"End.Date\"         \"End.Time\"        \n",
       "[13] \"Bike.ID\"          \"Bike.Name\"        \"Distance..Miles.\" \"Duration\"        \n",
       "[17] \"Minutes\"          \"Path.ID\"         "
      ]
     },
     "metadata": {},
     "output_type": "display_data"
    }
   ],
   "source": [
    "names(df)"
   ]
  },
  {
   "cell_type": "code",
   "execution_count": 30,
   "id": "ae3a9947",
   "metadata": {},
   "outputs": [],
   "source": [
    "ndf <- organize_data(mdf)"
   ]
  },
  {
   "cell_type": "code",
   "execution_count": 39,
   "id": "ea212dfa",
   "metadata": {},
   "outputs": [
    {
     "data": {
      "text/html": [
       "<style>\n",
       ".list-inline {list-style: none; margin:0; padding: 0}\n",
       ".list-inline>li {display: inline-block}\n",
       ".list-inline>li:not(:last-child)::after {content: \"\\00b7\"; padding: 0 .5ex}\n",
       "</style>\n",
       "<ol class=list-inline><li>'2021-01-01'</li><li>'2021-01-01'</li><li>'2021-01-01'</li><li>'2021-01-01'</li><li>'2021-01-01'</li><li>'2021-01-01'</li></ol>\n"
      ],
      "text/latex": [
       "\\begin{enumerate*}\n",
       "\\item '2021-01-01'\n",
       "\\item '2021-01-01'\n",
       "\\item '2021-01-01'\n",
       "\\item '2021-01-01'\n",
       "\\item '2021-01-01'\n",
       "\\item '2021-01-01'\n",
       "\\end{enumerate*}\n"
      ],
      "text/markdown": [
       "1. '2021-01-01'\n",
       "2. '2021-01-01'\n",
       "3. '2021-01-01'\n",
       "4. '2021-01-01'\n",
       "5. '2021-01-01'\n",
       "6. '2021-01-01'\n",
       "\n",
       "\n"
      ],
      "text/plain": [
       "[1] \"2021-01-01\" \"2021-01-01\" \"2021-01-01\" \"2021-01-01\" \"2021-01-01\"\n",
       "[6] \"2021-01-01\""
      ]
     },
     "metadata": {},
     "output_type": "display_data"
    }
   ],
   "source": [
    "head(ndf$Date)"
   ]
  },
  {
   "cell_type": "code",
   "execution_count": 40,
   "id": "f9c3c069",
   "metadata": {},
   "outputs": [],
   "source": [
    "ndf$Date <- as.Date(ndf$Date, \"%Y-%m-%d\")"
   ]
  },
  {
   "cell_type": "code",
   "execution_count": 54,
   "id": "0fe999b8",
   "metadata": {},
   "outputs": [],
   "source": [
    "ndf$Weekday <- as.character(wday(ndf$Date, label=TRUE, abbr=FALSE))"
   ]
  },
  {
   "cell_type": "code",
   "execution_count": 44,
   "id": "b4d12a07",
   "metadata": {},
   "outputs": [],
   "source": [
    "ndf$Month <- months(ndf$Date)"
   ]
  },
  {
   "cell_type": "code",
   "execution_count": 45,
   "id": "20561c99",
   "metadata": {},
   "outputs": [],
   "source": [
    "ndf$Season <- ifelse(ndf$Month %in% c(\"December\", \"January\", \"February\"), \"Winter\",\n",
    "                    ifelse(ndf$Month %in% c(\"March\", \"April\", \"May\"), \"Spring\",\n",
    "                          ifelse(ndf$Month %in% c(\"June\", \"July\", \"August\"), \"Summer\", \"Fall\")))"
   ]
  },
  {
   "cell_type": "code",
   "execution_count": 46,
   "id": "239c2f97",
   "metadata": {},
   "outputs": [],
   "source": [
    "ndf$SeasonOrder <- ifelse(ndf$Season == \"Spring\", 1, \n",
    "                              ifelse(ndf$Season == \"Summer\", 2, \n",
    "                                     ifelse(ndf$Season == \"Fall\", 3, 4)))"
   ]
  },
  {
   "cell_type": "code",
   "execution_count": 47,
   "id": "8d20c2af",
   "metadata": {},
   "outputs": [],
   "source": [
    "ndf$WeekdayOrder <- ifelse(ndf$Weekday == \"Monday\", 1, \n",
    "                              ifelse(ndf$Weekday == \"Tuesday\", 2, \n",
    "                                     ifelse(ndf$Weekday == \"Wednesday\", 3, \n",
    "                                     ifelse(ndf$Weekday == \"Thursday\", 4, \n",
    "                                            ifelse(ndf$Weekday == \"Friday\", 5, \n",
    "                                                ifelse(ndf$Weekday == \"Saturday\", 6, 7))))))"
   ]
  },
  {
   "cell_type": "code",
   "execution_count": 48,
   "id": "751bc74b",
   "metadata": {},
   "outputs": [],
   "source": [
    "outpath <- \"T:/DCProjects/StoryMap/BikeCounting/BikeShare/Output\""
   ]
  },
  {
   "cell_type": "code",
   "execution_count": 51,
   "id": "c3b88fa5",
   "metadata": {},
   "outputs": [
    {
     "data": {
      "text/html": [
       "<style>\n",
       ".list-inline {list-style: none; margin:0; padding: 0}\n",
       ".list-inline>li {display: inline-block}\n",
       ".list-inline>li:not(:last-child)::after {content: \"\\00b7\"; padding: 0 .5ex}\n",
       "</style>\n",
       "<ol class=list-inline><li>179122</li><li>17</li></ol>\n"
      ],
      "text/latex": [
       "\\begin{enumerate*}\n",
       "\\item 179122\n",
       "\\item 17\n",
       "\\end{enumerate*}\n"
      ],
      "text/markdown": [
       "1. 179122\n",
       "2. 17\n",
       "\n",
       "\n"
      ],
      "text/plain": [
       "[1] 179122     17"
      ]
     },
     "metadata": {},
     "output_type": "display_data"
    }
   ],
   "source": [
    "dim(ndf)"
   ]
  },
  {
   "cell_type": "code",
   "execution_count": 50,
   "id": "47d5bcb7",
   "metadata": {},
   "outputs": [],
   "source": [
    "write.csv(ndf, paste0(outpath, \"/Bike_Share_Trips.csv\"), row.names = FALSE)"
   ]
  },
  {
   "cell_type": "code",
   "execution_count": 58,
   "id": "fa0efccf",
   "metadata": {},
   "outputs": [
    {
     "data": {
      "text/html": [
       "<table class=\"dataframe\">\n",
       "<caption>A data.frame: 6 × 17</caption>\n",
       "<thead>\n",
       "\t<tr><th></th><th scope=col>RouteID</th><th scope=col>BikeID</th><th scope=col>UserID</th><th scope=col>Location</th><th scope=col>Latitude</th><th scope=col>Longitude</th><th scope=col>Date</th><th scope=col>Time</th><th scope=col>PathID</th><th scope=col>Distance</th><th scope=col>Minutes</th><th scope=col>OrgDst</th><th scope=col>Weekday</th><th scope=col>Month</th><th scope=col>Season</th><th scope=col>SeasonOrder</th><th scope=col>WeekdayOrder</th></tr>\n",
       "\t<tr><th></th><th scope=col>&lt;int&gt;</th><th scope=col>&lt;int&gt;</th><th scope=col>&lt;int&gt;</th><th scope=col>&lt;chr&gt;</th><th scope=col>&lt;dbl&gt;</th><th scope=col>&lt;dbl&gt;</th><th scope=col>&lt;date&gt;</th><th scope=col>&lt;chr&gt;</th><th scope=col>&lt;chr&gt;</th><th scope=col>&lt;dbl&gt;</th><th scope=col>&lt;dbl&gt;</th><th scope=col>&lt;chr&gt;</th><th scope=col>&lt;chr&gt;</th><th scope=col>&lt;chr&gt;</th><th scope=col>&lt;chr&gt;</th><th scope=col>&lt;dbl&gt;</th><th scope=col>&lt;dbl&gt;</th></tr>\n",
       "</thead>\n",
       "<tbody>\n",
       "\t<tr><th scope=row>1</th><td>13713102</td><td>19521</td><td> 783398</td><td><span style=white-space:pre-wrap>Monroe St &amp; Blair Blvd         </span></td><td>44.05141</td><td>-123.1049</td><td>2021-01-01</td><td>01:11</td><td><span style=white-space:pre-wrap>Monroe St &amp; Blair Blvd  - 15th &amp; Ferry                           </span></td><td>1.55</td><td>11.000000</td><td>Origin</td><td>Friday</td><td>January</td><td>Winter</td><td>4</td><td>5</td></tr>\n",
       "\t<tr><th scope=row>2</th><td>13713106</td><td>19584</td><td>1510848</td><td>PeaceHealth University District</td><td>44.04736</td><td>-123.0822</td><td>2021-01-01</td><td>01:52</td><td>PeaceHealth University District - PeaceHealth University District</td><td>1.17</td><td>20.550000</td><td>Origin</td><td>Friday</td><td>January</td><td>Winter</td><td>4</td><td>5</td></tr>\n",
       "\t<tr><th scope=row>3</th><td>13713112</td><td>19737</td><td> 911293</td><td><span style=white-space:pre-wrap>12th &amp; Willamette              </span></td><td>44.04608</td><td>-123.0929</td><td>2021-01-01</td><td>03:16</td><td><span style=white-space:pre-wrap>12th &amp; Willamette - 17th &amp; Pearl, East side                      </span></td><td>0.49</td><td> 4.916667</td><td>Origin</td><td>Friday</td><td>January</td><td>Winter</td><td>4</td><td>5</td></tr>\n",
       "\t<tr><th scope=row>4</th><td>13713256</td><td>19737</td><td> 766725</td><td><span style=white-space:pre-wrap>17th &amp; Pearl, East side        </span></td><td>44.04109</td><td>-123.0900</td><td>2021-01-01</td><td>09:36</td><td><span style=white-space:pre-wrap>17th &amp; Pearl, East side - 17th &amp; Pearl, East side                </span></td><td>2.29</td><td>23.100000</td><td>Origin</td><td>Friday</td><td>January</td><td>Winter</td><td>4</td><td>5</td></tr>\n",
       "\t<tr><th scope=row>5</th><td>13713355</td><td>19761</td><td>1726219</td><td><span style=white-space:pre-wrap>15th &amp; Ferry                   </span></td><td>44.04355</td><td>-123.0852</td><td>2021-01-01</td><td>11:09</td><td><span style=white-space:pre-wrap>15th &amp; Ferry - 15th &amp; Ferry                                      </span></td><td>0.01</td><td> 1.100000</td><td>Origin</td><td>Friday</td><td>January</td><td>Winter</td><td>4</td><td>5</td></tr>\n",
       "\t<tr><th scope=row>6</th><td>13713360</td><td>19711</td><td>1174607</td><td>Valley River                   </td><td>44.06523</td><td>-123.1037</td><td>2021-01-01</td><td>11:13</td><td>Valley River - Valley River                                      </td><td>7.60</td><td>36.500000</td><td>Origin</td><td>Friday</td><td>January</td><td>Winter</td><td>4</td><td>5</td></tr>\n",
       "</tbody>\n",
       "</table>\n"
      ],
      "text/latex": [
       "A data.frame: 6 × 17\n",
       "\\begin{tabular}{r|lllllllllllllllll}\n",
       "  & RouteID & BikeID & UserID & Location & Latitude & Longitude & Date & Time & PathID & Distance & Minutes & OrgDst & Weekday & Month & Season & SeasonOrder & WeekdayOrder\\\\\n",
       "  & <int> & <int> & <int> & <chr> & <dbl> & <dbl> & <date> & <chr> & <chr> & <dbl> & <dbl> & <chr> & <chr> & <chr> & <chr> & <dbl> & <dbl>\\\\\n",
       "\\hline\n",
       "\t1 & 13713102 & 19521 &  783398 & Monroe St \\& Blair Blvd          & 44.05141 & -123.1049 & 2021-01-01 & 01:11 & Monroe St \\& Blair Blvd  - 15th \\& Ferry                            & 1.55 & 11.000000 & Origin & Friday & January & Winter & 4 & 5\\\\\n",
       "\t2 & 13713106 & 19584 & 1510848 & PeaceHealth University District & 44.04736 & -123.0822 & 2021-01-01 & 01:52 & PeaceHealth University District - PeaceHealth University District & 1.17 & 20.550000 & Origin & Friday & January & Winter & 4 & 5\\\\\n",
       "\t3 & 13713112 & 19737 &  911293 & 12th \\& Willamette               & 44.04608 & -123.0929 & 2021-01-01 & 03:16 & 12th \\& Willamette - 17th \\& Pearl, East side                       & 0.49 &  4.916667 & Origin & Friday & January & Winter & 4 & 5\\\\\n",
       "\t4 & 13713256 & 19737 &  766725 & 17th \\& Pearl, East side         & 44.04109 & -123.0900 & 2021-01-01 & 09:36 & 17th \\& Pearl, East side - 17th \\& Pearl, East side                 & 2.29 & 23.100000 & Origin & Friday & January & Winter & 4 & 5\\\\\n",
       "\t5 & 13713355 & 19761 & 1726219 & 15th \\& Ferry                    & 44.04355 & -123.0852 & 2021-01-01 & 11:09 & 15th \\& Ferry - 15th \\& Ferry                                       & 0.01 &  1.100000 & Origin & Friday & January & Winter & 4 & 5\\\\\n",
       "\t6 & 13713360 & 19711 & 1174607 & Valley River                    & 44.06523 & -123.1037 & 2021-01-01 & 11:13 & Valley River - Valley River                                       & 7.60 & 36.500000 & Origin & Friday & January & Winter & 4 & 5\\\\\n",
       "\\end{tabular}\n"
      ],
      "text/markdown": [
       "\n",
       "A data.frame: 6 × 17\n",
       "\n",
       "| <!--/--> | RouteID &lt;int&gt; | BikeID &lt;int&gt; | UserID &lt;int&gt; | Location &lt;chr&gt; | Latitude &lt;dbl&gt; | Longitude &lt;dbl&gt; | Date &lt;date&gt; | Time &lt;chr&gt; | PathID &lt;chr&gt; | Distance &lt;dbl&gt; | Minutes &lt;dbl&gt; | OrgDst &lt;chr&gt; | Weekday &lt;chr&gt; | Month &lt;chr&gt; | Season &lt;chr&gt; | SeasonOrder &lt;dbl&gt; | WeekdayOrder &lt;dbl&gt; |\n",
       "|---|---|---|---|---|---|---|---|---|---|---|---|---|---|---|---|---|---|\n",
       "| 1 | 13713102 | 19521 |  783398 | Monroe St &amp; Blair Blvd          | 44.05141 | -123.1049 | 2021-01-01 | 01:11 | Monroe St &amp; Blair Blvd  - 15th &amp; Ferry                            | 1.55 | 11.000000 | Origin | Friday | January | Winter | 4 | 5 |\n",
       "| 2 | 13713106 | 19584 | 1510848 | PeaceHealth University District | 44.04736 | -123.0822 | 2021-01-01 | 01:52 | PeaceHealth University District - PeaceHealth University District | 1.17 | 20.550000 | Origin | Friday | January | Winter | 4 | 5 |\n",
       "| 3 | 13713112 | 19737 |  911293 | 12th &amp; Willamette               | 44.04608 | -123.0929 | 2021-01-01 | 03:16 | 12th &amp; Willamette - 17th &amp; Pearl, East side                       | 0.49 |  4.916667 | Origin | Friday | January | Winter | 4 | 5 |\n",
       "| 4 | 13713256 | 19737 |  766725 | 17th &amp; Pearl, East side         | 44.04109 | -123.0900 | 2021-01-01 | 09:36 | 17th &amp; Pearl, East side - 17th &amp; Pearl, East side                 | 2.29 | 23.100000 | Origin | Friday | January | Winter | 4 | 5 |\n",
       "| 5 | 13713355 | 19761 | 1726219 | 15th &amp; Ferry                    | 44.04355 | -123.0852 | 2021-01-01 | 11:09 | 15th &amp; Ferry - 15th &amp; Ferry                                       | 0.01 |  1.100000 | Origin | Friday | January | Winter | 4 | 5 |\n",
       "| 6 | 13713360 | 19711 | 1174607 | Valley River                    | 44.06523 | -123.1037 | 2021-01-01 | 11:13 | Valley River - Valley River                                       | 7.60 | 36.500000 | Origin | Friday | January | Winter | 4 | 5 |\n",
       "\n"
      ],
      "text/plain": [
       "  RouteID  BikeID UserID  Location                        Latitude Longitude\n",
       "1 13713102 19521   783398 Monroe St & Blair Blvd          44.05141 -123.1049\n",
       "2 13713106 19584  1510848 PeaceHealth University District 44.04736 -123.0822\n",
       "3 13713112 19737   911293 12th & Willamette               44.04608 -123.0929\n",
       "4 13713256 19737   766725 17th & Pearl, East side         44.04109 -123.0900\n",
       "5 13713355 19761  1726219 15th & Ferry                    44.04355 -123.0852\n",
       "6 13713360 19711  1174607 Valley River                    44.06523 -123.1037\n",
       "  Date       Time \n",
       "1 2021-01-01 01:11\n",
       "2 2021-01-01 01:52\n",
       "3 2021-01-01 03:16\n",
       "4 2021-01-01 09:36\n",
       "5 2021-01-01 11:09\n",
       "6 2021-01-01 11:13\n",
       "  PathID                                                            Distance\n",
       "1 Monroe St & Blair Blvd  - 15th & Ferry                            1.55    \n",
       "2 PeaceHealth University District - PeaceHealth University District 1.17    \n",
       "3 12th & Willamette - 17th & Pearl, East side                       0.49    \n",
       "4 17th & Pearl, East side - 17th & Pearl, East side                 2.29    \n",
       "5 15th & Ferry - 15th & Ferry                                       0.01    \n",
       "6 Valley River - Valley River                                       7.60    \n",
       "  Minutes   OrgDst Weekday Month   Season SeasonOrder WeekdayOrder\n",
       "1 11.000000 Origin Friday  January Winter 4           5           \n",
       "2 20.550000 Origin Friday  January Winter 4           5           \n",
       "3  4.916667 Origin Friday  January Winter 4           5           \n",
       "4 23.100000 Origin Friday  January Winter 4           5           \n",
       "5  1.100000 Origin Friday  January Winter 4           5           \n",
       "6 36.500000 Origin Friday  January Winter 4           5           "
      ]
     },
     "metadata": {},
     "output_type": "display_data"
    }
   ],
   "source": [
    "head(ndf)"
   ]
  },
  {
   "cell_type": "code",
   "execution_count": 36,
   "id": "e4704763",
   "metadata": {},
   "outputs": [
    {
     "name": "stdout",
     "output_type": "stream",
     "text": [
      "OGR data source with driver: ESRI Shapefile \n",
      "Source: \"V:\\Data\\Transportation\", layer: \"MPO_Bound\"\n",
      "with 1 features\n",
      "It has 3 fields\n"
     ]
    }
   ],
   "source": [
    "MPOBound <- readOGR(dsn = \"V:/Data/Transportation\", layer=\"MPO_Bound\")"
   ]
  },
  {
   "cell_type": "code",
   "execution_count": 32,
   "id": "2f06182a",
   "metadata": {},
   "outputs": [],
   "source": [
    "df2spdf <- function(df, lon_col_name, lat_col_name, trans = TRUE){\n",
    "  lonlat <- sp::CRS(\"+proj=longlat +datum=WGS84 +ellps=WGS84 +towgs84=0,0,0\")\n",
    "  lon_col_no <- which(names(df)==lon_col_name)\n",
    "  lat_col_no <- which(names(df)==lat_col_name)\n",
    "  xy <- data.frame(df[,c(lon_col_no,lat_col_no)])\n",
    "  coordinates(xy) <- c(lon_col_name, lat_col_name)\n",
    "  proj4string(xy) <- lonlat\n",
    "  spdf <- sp::SpatialPointsDataFrame(coords = xy, data = df)\n",
    "  if(trans){\n",
    "    spdf <- spTransform(spdf, CRS(proj4string(MPOBound)))\n",
    "  }\n",
    "  return(spdf)\n",
    "}"
   ]
  },
  {
   "cell_type": "code",
   "execution_count": 55,
   "id": "73f76b61",
   "metadata": {},
   "outputs": [],
   "source": [
    "spdf <- df2spdf(ndf, 'Longitude', 'Latitude')"
   ]
  },
  {
   "cell_type": "code",
   "execution_count": 57,
   "id": "155c9e8e",
   "metadata": {},
   "outputs": [],
   "source": [
    "writeOGR(spdf, dsn=outpath, layer=\"Bike_Share_Trips\", driver=\"ESRI Shapefile\", overwrite_layer=TRUE)"
   ]
  },
  {
   "cell_type": "code",
   "execution_count": 59,
   "id": "9b4fff8f",
   "metadata": {},
   "outputs": [
    {
     "data": {
      "text/html": [
       "<style>\n",
       ".list-inline {list-style: none; margin:0; padding: 0}\n",
       ".list-inline>li {display: inline-block}\n",
       ".list-inline>li:not(:last-child)::after {content: \"\\00b7\"; padding: 0 .5ex}\n",
       "</style>\n",
       "<ol class=list-inline><li>'RouteID'</li><li>'BikeID'</li><li>'UserID'</li><li>'Location'</li><li>'Latitude'</li><li>'Longitude'</li><li>'Date'</li><li>'Time'</li><li>'PathID'</li><li>'Distance'</li><li>'Minutes'</li><li>'OrgDst'</li><li>'Weekday'</li><li>'Month'</li><li>'Season'</li><li>'SeasonOrder'</li><li>'WeekdayOrder'</li></ol>\n"
      ],
      "text/latex": [
       "\\begin{enumerate*}\n",
       "\\item 'RouteID'\n",
       "\\item 'BikeID'\n",
       "\\item 'UserID'\n",
       "\\item 'Location'\n",
       "\\item 'Latitude'\n",
       "\\item 'Longitude'\n",
       "\\item 'Date'\n",
       "\\item 'Time'\n",
       "\\item 'PathID'\n",
       "\\item 'Distance'\n",
       "\\item 'Minutes'\n",
       "\\item 'OrgDst'\n",
       "\\item 'Weekday'\n",
       "\\item 'Month'\n",
       "\\item 'Season'\n",
       "\\item 'SeasonOrder'\n",
       "\\item 'WeekdayOrder'\n",
       "\\end{enumerate*}\n"
      ],
      "text/markdown": [
       "1. 'RouteID'\n",
       "2. 'BikeID'\n",
       "3. 'UserID'\n",
       "4. 'Location'\n",
       "5. 'Latitude'\n",
       "6. 'Longitude'\n",
       "7. 'Date'\n",
       "8. 'Time'\n",
       "9. 'PathID'\n",
       "10. 'Distance'\n",
       "11. 'Minutes'\n",
       "12. 'OrgDst'\n",
       "13. 'Weekday'\n",
       "14. 'Month'\n",
       "15. 'Season'\n",
       "16. 'SeasonOrder'\n",
       "17. 'WeekdayOrder'\n",
       "\n",
       "\n"
      ],
      "text/plain": [
       " [1] \"RouteID\"      \"BikeID\"       \"UserID\"       \"Location\"     \"Latitude\"    \n",
       " [6] \"Longitude\"    \"Date\"         \"Time\"         \"PathID\"       \"Distance\"    \n",
       "[11] \"Minutes\"      \"OrgDst\"       \"Weekday\"      \"Month\"        \"Season\"      \n",
       "[16] \"SeasonOrder\"  \"WeekdayOrder\""
      ]
     },
     "metadata": {},
     "output_type": "display_data"
    }
   ],
   "source": [
    "names(ndf)"
   ]
  },
  {
   "cell_type": "code",
   "execution_count": 60,
   "id": "3c994c8e",
   "metadata": {},
   "outputs": [],
   "source": [
    "datedf <- unique(ndf[,c(\"Date\", \"Month\", \"Season\", \"Weekday\", \"SeasonOrder\", \"WeekdayOrder\")])"
   ]
  },
  {
   "cell_type": "code",
   "execution_count": 160,
   "id": "c38e0507",
   "metadata": {},
   "outputs": [],
   "source": [
    "datedf$MonthOrder <- ifelse(datedf$Month == \"January\", 1, \n",
    "                           ifelse(datedf$Month == \"February\", 2, \n",
    "                               ifelse(datedf$Month == \"March\", 3, \n",
    "                                   ifelse(datedf$Month == \"April\", 4, \n",
    "                                       ifelse(datedf$Month == \"May\", 5, \n",
    "                                           ifelse(datedf$Month == \"June\", 6, \n",
    "                                               ifelse(datedf$Month == \"July\", 7, \n",
    "                                                   ifelse(datedf$Month == \"August\", 8, \n",
    "                                                       ifelse(datedf$Month == \"September\", 9, \n",
    "                                                           ifelse(datedf$Month == \"October\", 10, \n",
    "                                                               ifelse(datedf$Month == \"November\", 11, 12)))))))))))"
   ]
  },
  {
   "cell_type": "code",
   "execution_count": 62,
   "id": "3743cdda",
   "metadata": {},
   "outputs": [
    {
     "data": {
      "text/html": [
       "<style>\n",
       ".list-inline {list-style: none; margin:0; padding: 0}\n",
       ".list-inline>li {display: inline-block}\n",
       ".list-inline>li:not(:last-child)::after {content: \"\\00b7\"; padding: 0 .5ex}\n",
       "</style>\n",
       "<ol class=list-inline><li>179122</li><li>17</li></ol>\n"
      ],
      "text/latex": [
       "\\begin{enumerate*}\n",
       "\\item 179122\n",
       "\\item 17\n",
       "\\end{enumerate*}\n"
      ],
      "text/markdown": [
       "1. 179122\n",
       "2. 17\n",
       "\n",
       "\n"
      ],
      "text/plain": [
       "[1] 179122     17"
      ]
     },
     "metadata": {},
     "output_type": "display_data"
    }
   ],
   "source": [
    "dim(ndf)"
   ]
  },
  {
   "cell_type": "code",
   "execution_count": 61,
   "id": "2f31ad5e",
   "metadata": {},
   "outputs": [],
   "source": [
    "locdf <- unique(ndf[,c(\"Location\", \"Latitude\", \"Longitude\", \"OrgDst\")])"
   ]
  },
  {
   "cell_type": "code",
   "execution_count": 63,
   "id": "0027219d",
   "metadata": {
    "scrolled": true
   },
   "outputs": [
    {
     "data": {
      "text/html": [
       "<style>\n",
       ".list-inline {list-style: none; margin:0; padding: 0}\n",
       ".list-inline>li {display: inline-block}\n",
       ".list-inline>li:not(:last-child)::after {content: \"\\00b7\"; padding: 0 .5ex}\n",
       "</style>\n",
       "<ol class=list-inline><li>148659</li><li>4</li></ol>\n"
      ],
      "text/latex": [
       "\\begin{enumerate*}\n",
       "\\item 148659\n",
       "\\item 4\n",
       "\\end{enumerate*}\n"
      ],
      "text/markdown": [
       "1. 148659\n",
       "2. 4\n",
       "\n",
       "\n"
      ],
      "text/plain": [
       "[1] 148659      4"
      ]
     },
     "metadata": {},
     "output_type": "display_data"
    }
   ],
   "source": [
    "dim(locdf)"
   ]
  },
  {
   "cell_type": "code",
   "execution_count": 92,
   "id": "0724e86b",
   "metadata": {},
   "outputs": [],
   "source": [
    "stations <- read.csv(\"T:/DCProjects/GitHub/BikeCounting/BikeMap/BikeShareStations.csv\")"
   ]
  },
  {
   "cell_type": "code",
   "execution_count": 70,
   "id": "242ab2eb",
   "metadata": {},
   "outputs": [
    {
     "data": {
      "text/html": [
       "<table class=\"dataframe\">\n",
       "<caption>A data.frame: 6 × 4</caption>\n",
       "<thead>\n",
       "\t<tr><th></th><th scope=col>station.id</th><th scope=col>name</th><th scope=col>lon</th><th scope=col>lat</th></tr>\n",
       "\t<tr><th></th><th scope=col>&lt;chr&gt;</th><th scope=col>&lt;chr&gt;</th><th scope=col>&lt;dbl&gt;</th><th scope=col>&lt;dbl&gt;</th></tr>\n",
       "</thead>\n",
       "<tbody>\n",
       "\t<tr><th scope=row>1</th><td>hub_3828</td><td>Eugene Family YMCA             </td><td>-123.0835</td><td>44.03754</td></tr>\n",
       "\t<tr><th scope=row>2</th><td>hub_3829</td><td><span style=white-space:pre-wrap>Monroe St &amp; Blair Blvd         </span></td><td>-123.1051</td><td>44.05147</td></tr>\n",
       "\t<tr><th scope=row>3</th><td>hub_3830</td><td><span style=white-space:pre-wrap>10th &amp; Olive SE                </span></td><td>-123.0941</td><td>44.04866</td></tr>\n",
       "\t<tr><th scope=row>4</th><td>hub_3831</td><td><span style=white-space:pre-wrap>16th &amp; Willamette              </span></td><td>-123.0929</td><td>44.04219</td></tr>\n",
       "\t<tr><th scope=row>5</th><td>hub_3832</td><td><span style=white-space:pre-wrap>13th &amp; Pearl @ Pearl side      </span></td><td>-123.0897</td><td>44.04526</td></tr>\n",
       "\t<tr><th scope=row>6</th><td>hub_3840</td><td>PeaceHealth University District</td><td>-123.0816</td><td>44.04757</td></tr>\n",
       "</tbody>\n",
       "</table>\n"
      ],
      "text/latex": [
       "A data.frame: 6 × 4\n",
       "\\begin{tabular}{r|llll}\n",
       "  & station.id & name & lon & lat\\\\\n",
       "  & <chr> & <chr> & <dbl> & <dbl>\\\\\n",
       "\\hline\n",
       "\t1 & hub\\_3828 & Eugene Family YMCA              & -123.0835 & 44.03754\\\\\n",
       "\t2 & hub\\_3829 & Monroe St \\& Blair Blvd          & -123.1051 & 44.05147\\\\\n",
       "\t3 & hub\\_3830 & 10th \\& Olive SE                 & -123.0941 & 44.04866\\\\\n",
       "\t4 & hub\\_3831 & 16th \\& Willamette               & -123.0929 & 44.04219\\\\\n",
       "\t5 & hub\\_3832 & 13th \\& Pearl @ Pearl side       & -123.0897 & 44.04526\\\\\n",
       "\t6 & hub\\_3840 & PeaceHealth University District & -123.0816 & 44.04757\\\\\n",
       "\\end{tabular}\n"
      ],
      "text/markdown": [
       "\n",
       "A data.frame: 6 × 4\n",
       "\n",
       "| <!--/--> | station.id &lt;chr&gt; | name &lt;chr&gt; | lon &lt;dbl&gt; | lat &lt;dbl&gt; |\n",
       "|---|---|---|---|---|\n",
       "| 1 | hub_3828 | Eugene Family YMCA              | -123.0835 | 44.03754 |\n",
       "| 2 | hub_3829 | Monroe St &amp; Blair Blvd          | -123.1051 | 44.05147 |\n",
       "| 3 | hub_3830 | 10th &amp; Olive SE                 | -123.0941 | 44.04866 |\n",
       "| 4 | hub_3831 | 16th &amp; Willamette               | -123.0929 | 44.04219 |\n",
       "| 5 | hub_3832 | 13th &amp; Pearl @ Pearl side       | -123.0897 | 44.04526 |\n",
       "| 6 | hub_3840 | PeaceHealth University District | -123.0816 | 44.04757 |\n",
       "\n"
      ],
      "text/plain": [
       "  station.id name                            lon       lat     \n",
       "1 hub_3828   Eugene Family YMCA              -123.0835 44.03754\n",
       "2 hub_3829   Monroe St & Blair Blvd          -123.1051 44.05147\n",
       "3 hub_3830   10th & Olive SE                 -123.0941 44.04866\n",
       "4 hub_3831   16th & Willamette               -123.0929 44.04219\n",
       "5 hub_3832   13th & Pearl @ Pearl side       -123.0897 44.04526\n",
       "6 hub_3840   PeaceHealth University District -123.0816 44.04757"
      ]
     },
     "metadata": {},
     "output_type": "display_data"
    }
   ],
   "source": [
    "head(stations)"
   ]
  },
  {
   "cell_type": "code",
   "execution_count": 93,
   "id": "b42b553b",
   "metadata": {},
   "outputs": [
    {
     "data": {
      "text/html": [
       "60"
      ],
      "text/latex": [
       "60"
      ],
      "text/markdown": [
       "60"
      ],
      "text/plain": [
       "[1] 60"
      ]
     },
     "metadata": {},
     "output_type": "display_data"
    }
   ],
   "source": [
    "length(unique(stations$name))"
   ]
  },
  {
   "cell_type": "code",
   "execution_count": 94,
   "id": "b484940e",
   "metadata": {},
   "outputs": [],
   "source": [
    "stations$name <- str_replace(stations$name, \" @\", \",\")"
   ]
  },
  {
   "cell_type": "code",
   "execution_count": 100,
   "id": "b8ed82ab",
   "metadata": {},
   "outputs": [
    {
     "data": {
      "text/html": [
       "<table class=\"dataframe\">\n",
       "<caption>A data.frame: 2 × 4</caption>\n",
       "<thead>\n",
       "\t<tr><th></th><th scope=col>station.id</th><th scope=col>name</th><th scope=col>lon</th><th scope=col>lat</th></tr>\n",
       "\t<tr><th></th><th scope=col>&lt;chr&gt;</th><th scope=col>&lt;chr&gt;</th><th scope=col>&lt;dbl&gt;</th><th scope=col>&lt;dbl&gt;</th></tr>\n",
       "</thead>\n",
       "<tbody>\n",
       "\t<tr><th scope=row>36</th><td>hub_3875</td><td>PeaceHealth RiverBend</td><td>-123.0272</td><td>44.08182</td></tr>\n",
       "\t<tr><th scope=row>42</th><td>hub_5512</td><td>RiverBend Annex      </td><td>-123.0301</td><td>44.08776</td></tr>\n",
       "</tbody>\n",
       "</table>\n"
      ],
      "text/latex": [
       "A data.frame: 2 × 4\n",
       "\\begin{tabular}{r|llll}\n",
       "  & station.id & name & lon & lat\\\\\n",
       "  & <chr> & <chr> & <dbl> & <dbl>\\\\\n",
       "\\hline\n",
       "\t36 & hub\\_3875 & PeaceHealth RiverBend & -123.0272 & 44.08182\\\\\n",
       "\t42 & hub\\_5512 & RiverBend Annex       & -123.0301 & 44.08776\\\\\n",
       "\\end{tabular}\n"
      ],
      "text/markdown": [
       "\n",
       "A data.frame: 2 × 4\n",
       "\n",
       "| <!--/--> | station.id &lt;chr&gt; | name &lt;chr&gt; | lon &lt;dbl&gt; | lat &lt;dbl&gt; |\n",
       "|---|---|---|---|---|\n",
       "| 36 | hub_3875 | PeaceHealth RiverBend | -123.0272 | 44.08182 |\n",
       "| 42 | hub_5512 | RiverBend Annex       | -123.0301 | 44.08776 |\n",
       "\n"
      ],
      "text/plain": [
       "   station.id name                  lon       lat     \n",
       "36 hub_3875   PeaceHealth RiverBend -123.0272 44.08182\n",
       "42 hub_5512   RiverBend Annex       -123.0301 44.08776"
      ]
     },
     "metadata": {},
     "output_type": "display_data"
    }
   ],
   "source": [
    "stations[grep(\"RiverBend\", stations$name),]"
   ]
  },
  {
   "cell_type": "code",
   "execution_count": 101,
   "id": "4732d591",
   "metadata": {},
   "outputs": [],
   "source": [
    "hub_df <- ndf[ndf$Location %in% stations$name,]"
   ]
  },
  {
   "cell_type": "code",
   "execution_count": 102,
   "id": "92c763f3",
   "metadata": {},
   "outputs": [
    {
     "data": {
      "text/html": [
       "<style>\n",
       ".list-inline {list-style: none; margin:0; padding: 0}\n",
       ".list-inline>li {display: inline-block}\n",
       ".list-inline>li:not(:last-child)::after {content: \"\\00b7\"; padding: 0 .5ex}\n",
       "</style>\n",
       "<ol class=list-inline><li>147082</li><li>17</li></ol>\n"
      ],
      "text/latex": [
       "\\begin{enumerate*}\n",
       "\\item 147082\n",
       "\\item 17\n",
       "\\end{enumerate*}\n"
      ],
      "text/markdown": [
       "1. 147082\n",
       "2. 17\n",
       "\n",
       "\n"
      ],
      "text/plain": [
       "[1] 147082     17"
      ]
     },
     "metadata": {},
     "output_type": "display_data"
    }
   ],
   "source": [
    "dim(hub_df)"
   ]
  },
  {
   "cell_type": "code",
   "execution_count": 118,
   "id": "091d030c",
   "metadata": {
    "scrolled": true
   },
   "outputs": [
    {
     "data": {
      "text/html": [
       "<style>\n",
       ".list-inline {list-style: none; margin:0; padding: 0}\n",
       ".list-inline>li {display: inline-block}\n",
       ".list-inline>li:not(:last-child)::after {content: \"\\00b7\"; padding: 0 .5ex}\n",
       "</style>\n",
       "<ol class=list-inline><li>'Origin'</li><li>'Destination'</li></ol>\n"
      ],
      "text/latex": [
       "\\begin{enumerate*}\n",
       "\\item 'Origin'\n",
       "\\item 'Destination'\n",
       "\\end{enumerate*}\n"
      ],
      "text/markdown": [
       "1. 'Origin'\n",
       "2. 'Destination'\n",
       "\n",
       "\n"
      ],
      "text/plain": [
       "[1] \"Origin\"      \"Destination\""
      ]
     },
     "metadata": {},
     "output_type": "display_data"
    }
   ],
   "source": [
    "unique(hub_df$OrgDst)"
   ]
  },
  {
   "cell_type": "code",
   "execution_count": 161,
   "id": "6ad3c2db",
   "metadata": {},
   "outputs": [],
   "source": [
    "aggdata <- aggregate(x=list(NoTrips = hub_df$RouteID, NoUsers = hub_df$UserID), \n",
    "                     by=list(Date = hub_df$Date, Location = hub_df$Location), \n",
    "                     FUN=function(x) length(x))"
   ]
  },
  {
   "cell_type": "code",
   "execution_count": 134,
   "id": "223c6b2a",
   "metadata": {},
   "outputs": [],
   "source": [
    "get_aggdata <- function(df=hub_df, OrgDst=\"Origin\"){\n",
    "    df <- df[df$OrgDst == OrgDst,]\n",
    "    aggdata <- aggregate(x=list(NoTrips = df$RouteID, NoUsers = df$UserID), \n",
    "                     by=list(Date = df$Date, Location = df$Location), \n",
    "                     FUN=function(x) length(x))\n",
    "\n",
    "    if(OrgDst==\"Origin\"){\n",
    "        names(aggdata)[3:4] <- c(\"OrgTrips\", \"OrgUsers\")\n",
    "    }else{\n",
    "        names(aggdata)[3:4] <- c(\"DstTrips\", \"DstUsers\")\n",
    "    }\n",
    "    \n",
    "    return(aggdata)    \n",
    "}"
   ]
  },
  {
   "cell_type": "code",
   "execution_count": 162,
   "id": "fe15fde6",
   "metadata": {},
   "outputs": [],
   "source": [
    "aggdata <- merge(aggdata, get_aggdata(df=hub_df, OrgDst=\"Origin\"), by=c(\"Location\", \"Date\"))"
   ]
  },
  {
   "cell_type": "code",
   "execution_count": 163,
   "id": "81e847d1",
   "metadata": {},
   "outputs": [],
   "source": [
    "aggdata <- merge(aggdata, get_aggdata(df=hub_df, OrgDst=\"Destination\"), by=c(\"Location\", \"Date\"))"
   ]
  },
  {
   "cell_type": "code",
   "execution_count": 164,
   "id": "9756f713",
   "metadata": {},
   "outputs": [],
   "source": [
    "names(stations) <- c(\"StationID\", \"Location\", \"Longitude\", \"Latitude\")"
   ]
  },
  {
   "cell_type": "code",
   "execution_count": 165,
   "id": "c829c671",
   "metadata": {},
   "outputs": [],
   "source": [
    "aggdata <- merge(aggdata, stations, by=\"Location\")"
   ]
  },
  {
   "cell_type": "code",
   "execution_count": 166,
   "id": "1c6ef924",
   "metadata": {},
   "outputs": [],
   "source": [
    "aggdata <- merge(aggdata, datedf, by=\"Date\")"
   ]
  },
  {
   "cell_type": "code",
   "execution_count": 167,
   "id": "8acee263",
   "metadata": {
    "scrolled": true
   },
   "outputs": [
    {
     "data": {
      "text/html": [
       "<style>\n",
       ".list-inline {list-style: none; margin:0; padding: 0}\n",
       ".list-inline>li {display: inline-block}\n",
       ".list-inline>li:not(:last-child)::after {content: \"\\00b7\"; padding: 0 .5ex}\n",
       "</style>\n",
       "<ol class=list-inline><li>11823</li><li>17</li></ol>\n"
      ],
      "text/latex": [
       "\\begin{enumerate*}\n",
       "\\item 11823\n",
       "\\item 17\n",
       "\\end{enumerate*}\n"
      ],
      "text/markdown": [
       "1. 11823\n",
       "2. 17\n",
       "\n",
       "\n"
      ],
      "text/plain": [
       "[1] 11823    17"
      ]
     },
     "metadata": {},
     "output_type": "display_data"
    }
   ],
   "source": [
    "dim(aggdata)"
   ]
  },
  {
   "cell_type": "code",
   "execution_count": 168,
   "id": "d8a4866a",
   "metadata": {},
   "outputs": [
    {
     "data": {
      "text/html": [
       "<table class=\"dataframe\">\n",
       "<caption>A data.frame: 6 × 17</caption>\n",
       "<thead>\n",
       "\t<tr><th></th><th scope=col>Date</th><th scope=col>Location</th><th scope=col>NoTrips</th><th scope=col>NoUsers</th><th scope=col>OrgTrips</th><th scope=col>OrgUsers</th><th scope=col>DstTrips</th><th scope=col>DstUsers</th><th scope=col>StationID</th><th scope=col>Longitude</th><th scope=col>Latitude</th><th scope=col>Month</th><th scope=col>Season</th><th scope=col>Weekday</th><th scope=col>SeasonOrder</th><th scope=col>WeekdayOrder</th><th scope=col>MonthOrder</th></tr>\n",
       "\t<tr><th></th><th scope=col>&lt;date&gt;</th><th scope=col>&lt;chr&gt;</th><th scope=col>&lt;int&gt;</th><th scope=col>&lt;int&gt;</th><th scope=col>&lt;int&gt;</th><th scope=col>&lt;int&gt;</th><th scope=col>&lt;int&gt;</th><th scope=col>&lt;int&gt;</th><th scope=col>&lt;chr&gt;</th><th scope=col>&lt;dbl&gt;</th><th scope=col>&lt;dbl&gt;</th><th scope=col>&lt;chr&gt;</th><th scope=col>&lt;chr&gt;</th><th scope=col>&lt;chr&gt;</th><th scope=col>&lt;dbl&gt;</th><th scope=col>&lt;dbl&gt;</th><th scope=col>&lt;dbl&gt;</th></tr>\n",
       "</thead>\n",
       "<tbody>\n",
       "\t<tr><th scope=row>1</th><td>2021-01-01</td><td>5th &amp; Pearl, NW corner</td><td>12</td><td>12</td><td>6</td><td>6</td><td>6</td><td>6</td><td>hub_3842</td><td>-123.0898</td><td>44.05455</td><td>January</td><td>Winter</td><td>Friday</td><td>4</td><td>5</td><td>1</td></tr>\n",
       "\t<tr><th scope=row>2</th><td>2021-01-01</td><td>Amazon Pool           </td><td> 2</td><td> 2</td><td>1</td><td>1</td><td>1</td><td>1</td><td>hub_5407</td><td>-123.0818</td><td>44.03022</td><td>January</td><td>Winter</td><td>Friday</td><td>4</td><td>5</td><td>1</td></tr>\n",
       "\t<tr><th scope=row>3</th><td>2021-01-01</td><td>1600 Millrace Drive   </td><td> 2</td><td> 2</td><td>1</td><td>1</td><td>1</td><td>1</td><td>hub_3862</td><td>-123.0687</td><td>44.04828</td><td>January</td><td>Winter</td><td>Friday</td><td>4</td><td>5</td><td>1</td></tr>\n",
       "\t<tr><th scope=row>4</th><td>2021-01-01</td><td><span style=white-space:pre-wrap>13th &amp; Kincaid        </span></td><td> 2</td><td> 2</td><td>1</td><td>1</td><td>1</td><td>1</td><td>hub_3860</td><td>-123.0785</td><td>44.04584</td><td>January</td><td>Winter</td><td>Friday</td><td>4</td><td>5</td><td>1</td></tr>\n",
       "\t<tr><th scope=row>5</th><td>2021-01-01</td><td>Valley River          </td><td> 8</td><td> 8</td><td>4</td><td>4</td><td>4</td><td>4</td><td>hub_5415</td><td>-123.1037</td><td>44.06526</td><td>January</td><td>Winter</td><td>Friday</td><td>4</td><td>5</td><td>1</td></tr>\n",
       "\t<tr><th scope=row>6</th><td>2021-01-01</td><td><span style=white-space:pre-wrap>12th &amp; Willamette     </span></td><td> 5</td><td> 5</td><td>3</td><td>3</td><td>2</td><td>2</td><td>hub_3844</td><td>-123.0928</td><td>44.04653</td><td>January</td><td>Winter</td><td>Friday</td><td>4</td><td>5</td><td>1</td></tr>\n",
       "</tbody>\n",
       "</table>\n"
      ],
      "text/latex": [
       "A data.frame: 6 × 17\n",
       "\\begin{tabular}{r|lllllllllllllllll}\n",
       "  & Date & Location & NoTrips & NoUsers & OrgTrips & OrgUsers & DstTrips & DstUsers & StationID & Longitude & Latitude & Month & Season & Weekday & SeasonOrder & WeekdayOrder & MonthOrder\\\\\n",
       "  & <date> & <chr> & <int> & <int> & <int> & <int> & <int> & <int> & <chr> & <dbl> & <dbl> & <chr> & <chr> & <chr> & <dbl> & <dbl> & <dbl>\\\\\n",
       "\\hline\n",
       "\t1 & 2021-01-01 & 5th \\& Pearl, NW corner & 12 & 12 & 6 & 6 & 6 & 6 & hub\\_3842 & -123.0898 & 44.05455 & January & Winter & Friday & 4 & 5 & 1\\\\\n",
       "\t2 & 2021-01-01 & Amazon Pool            &  2 &  2 & 1 & 1 & 1 & 1 & hub\\_5407 & -123.0818 & 44.03022 & January & Winter & Friday & 4 & 5 & 1\\\\\n",
       "\t3 & 2021-01-01 & 1600 Millrace Drive    &  2 &  2 & 1 & 1 & 1 & 1 & hub\\_3862 & -123.0687 & 44.04828 & January & Winter & Friday & 4 & 5 & 1\\\\\n",
       "\t4 & 2021-01-01 & 13th \\& Kincaid         &  2 &  2 & 1 & 1 & 1 & 1 & hub\\_3860 & -123.0785 & 44.04584 & January & Winter & Friday & 4 & 5 & 1\\\\\n",
       "\t5 & 2021-01-01 & Valley River           &  8 &  8 & 4 & 4 & 4 & 4 & hub\\_5415 & -123.1037 & 44.06526 & January & Winter & Friday & 4 & 5 & 1\\\\\n",
       "\t6 & 2021-01-01 & 12th \\& Willamette      &  5 &  5 & 3 & 3 & 2 & 2 & hub\\_3844 & -123.0928 & 44.04653 & January & Winter & Friday & 4 & 5 & 1\\\\\n",
       "\\end{tabular}\n"
      ],
      "text/markdown": [
       "\n",
       "A data.frame: 6 × 17\n",
       "\n",
       "| <!--/--> | Date &lt;date&gt; | Location &lt;chr&gt; | NoTrips &lt;int&gt; | NoUsers &lt;int&gt; | OrgTrips &lt;int&gt; | OrgUsers &lt;int&gt; | DstTrips &lt;int&gt; | DstUsers &lt;int&gt; | StationID &lt;chr&gt; | Longitude &lt;dbl&gt; | Latitude &lt;dbl&gt; | Month &lt;chr&gt; | Season &lt;chr&gt; | Weekday &lt;chr&gt; | SeasonOrder &lt;dbl&gt; | WeekdayOrder &lt;dbl&gt; | MonthOrder &lt;dbl&gt; |\n",
       "|---|---|---|---|---|---|---|---|---|---|---|---|---|---|---|---|---|---|\n",
       "| 1 | 2021-01-01 | 5th &amp; Pearl, NW corner | 12 | 12 | 6 | 6 | 6 | 6 | hub_3842 | -123.0898 | 44.05455 | January | Winter | Friday | 4 | 5 | 1 |\n",
       "| 2 | 2021-01-01 | Amazon Pool            |  2 |  2 | 1 | 1 | 1 | 1 | hub_5407 | -123.0818 | 44.03022 | January | Winter | Friday | 4 | 5 | 1 |\n",
       "| 3 | 2021-01-01 | 1600 Millrace Drive    |  2 |  2 | 1 | 1 | 1 | 1 | hub_3862 | -123.0687 | 44.04828 | January | Winter | Friday | 4 | 5 | 1 |\n",
       "| 4 | 2021-01-01 | 13th &amp; Kincaid         |  2 |  2 | 1 | 1 | 1 | 1 | hub_3860 | -123.0785 | 44.04584 | January | Winter | Friday | 4 | 5 | 1 |\n",
       "| 5 | 2021-01-01 | Valley River           |  8 |  8 | 4 | 4 | 4 | 4 | hub_5415 | -123.1037 | 44.06526 | January | Winter | Friday | 4 | 5 | 1 |\n",
       "| 6 | 2021-01-01 | 12th &amp; Willamette      |  5 |  5 | 3 | 3 | 2 | 2 | hub_3844 | -123.0928 | 44.04653 | January | Winter | Friday | 4 | 5 | 1 |\n",
       "\n"
      ],
      "text/plain": [
       "  Date       Location               NoTrips NoUsers OrgTrips OrgUsers DstTrips\n",
       "1 2021-01-01 5th & Pearl, NW corner 12      12      6        6        6       \n",
       "2 2021-01-01 Amazon Pool             2       2      1        1        1       \n",
       "3 2021-01-01 1600 Millrace Drive     2       2      1        1        1       \n",
       "4 2021-01-01 13th & Kincaid          2       2      1        1        1       \n",
       "5 2021-01-01 Valley River            8       8      4        4        4       \n",
       "6 2021-01-01 12th & Willamette       5       5      3        3        2       \n",
       "  DstUsers StationID Longitude Latitude Month   Season Weekday SeasonOrder\n",
       "1 6        hub_3842  -123.0898 44.05455 January Winter Friday  4          \n",
       "2 1        hub_5407  -123.0818 44.03022 January Winter Friday  4          \n",
       "3 1        hub_3862  -123.0687 44.04828 January Winter Friday  4          \n",
       "4 1        hub_3860  -123.0785 44.04584 January Winter Friday  4          \n",
       "5 4        hub_5415  -123.1037 44.06526 January Winter Friday  4          \n",
       "6 2        hub_3844  -123.0928 44.04653 January Winter Friday  4          \n",
       "  WeekdayOrder MonthOrder\n",
       "1 5            1         \n",
       "2 5            1         \n",
       "3 5            1         \n",
       "4 5            1         \n",
       "5 5            1         \n",
       "6 5            1         "
      ]
     },
     "metadata": {},
     "output_type": "display_data"
    }
   ],
   "source": [
    "head(aggdata)"
   ]
  },
  {
   "cell_type": "code",
   "execution_count": 169,
   "id": "2d86d7f4",
   "metadata": {},
   "outputs": [
    {
     "data": {
      "text/html": [
       "<style>\n",
       ".list-inline {list-style: none; margin:0; padding: 0}\n",
       ".list-inline>li {display: inline-block}\n",
       ".list-inline>li:not(:last-child)::after {content: \"\\00b7\"; padding: 0 .5ex}\n",
       "</style>\n",
       "<ol class=list-inline><li>'Date'</li><li>'Location'</li><li>'NoTrips'</li><li>'NoUsers'</li><li>'OrgTrips'</li><li>'OrgUsers'</li><li>'DstTrips'</li><li>'DstUsers'</li><li>'StationID'</li><li>'Longitude'</li><li>'Latitude'</li><li>'Month'</li><li>'Season'</li><li>'Weekday'</li><li>'SeasonOrder'</li><li>'WeekdayOrder'</li><li>'MonthOrder'</li></ol>\n"
      ],
      "text/latex": [
       "\\begin{enumerate*}\n",
       "\\item 'Date'\n",
       "\\item 'Location'\n",
       "\\item 'NoTrips'\n",
       "\\item 'NoUsers'\n",
       "\\item 'OrgTrips'\n",
       "\\item 'OrgUsers'\n",
       "\\item 'DstTrips'\n",
       "\\item 'DstUsers'\n",
       "\\item 'StationID'\n",
       "\\item 'Longitude'\n",
       "\\item 'Latitude'\n",
       "\\item 'Month'\n",
       "\\item 'Season'\n",
       "\\item 'Weekday'\n",
       "\\item 'SeasonOrder'\n",
       "\\item 'WeekdayOrder'\n",
       "\\item 'MonthOrder'\n",
       "\\end{enumerate*}\n"
      ],
      "text/markdown": [
       "1. 'Date'\n",
       "2. 'Location'\n",
       "3. 'NoTrips'\n",
       "4. 'NoUsers'\n",
       "5. 'OrgTrips'\n",
       "6. 'OrgUsers'\n",
       "7. 'DstTrips'\n",
       "8. 'DstUsers'\n",
       "9. 'StationID'\n",
       "10. 'Longitude'\n",
       "11. 'Latitude'\n",
       "12. 'Month'\n",
       "13. 'Season'\n",
       "14. 'Weekday'\n",
       "15. 'SeasonOrder'\n",
       "16. 'WeekdayOrder'\n",
       "17. 'MonthOrder'\n",
       "\n",
       "\n"
      ],
      "text/plain": [
       " [1] \"Date\"         \"Location\"     \"NoTrips\"      \"NoUsers\"      \"OrgTrips\"    \n",
       " [6] \"OrgUsers\"     \"DstTrips\"     \"DstUsers\"     \"StationID\"    \"Longitude\"   \n",
       "[11] \"Latitude\"     \"Month\"        \"Season\"       \"Weekday\"      \"SeasonOrder\" \n",
       "[16] \"WeekdayOrder\" \"MonthOrder\"  "
      ]
     },
     "metadata": {},
     "output_type": "display_data"
    }
   ],
   "source": [
    "names(aggdata)"
   ]
  },
  {
   "cell_type": "code",
   "execution_count": 170,
   "id": "2126f7c1",
   "metadata": {},
   "outputs": [],
   "source": [
    "write.csv(aggdata, paste0(outpath, \"/Daily_Bike_Share_Trips.csv\"), row.names = FALSE)"
   ]
  },
  {
   "cell_type": "code",
   "execution_count": 178,
   "id": "a1a14bcd",
   "metadata": {},
   "outputs": [],
   "source": [
    "sumdf <- aggregate(x=list(NoTrips = aggdata$NoTrips, \n",
    "                          NoUsers = aggdata$NoUsers, \n",
    "                          OrgTrips = aggdata$OrgTrips, \n",
    "                          OrgUsers = aggdata$OrgUsers, \n",
    "                          DstTrips = aggdata$DstTrips, \n",
    "                          DstUsers = aggdata$DstUsers), \n",
    "                   by=list(Location = aggdata$Location), \n",
    "                   FUN=sum)"
   ]
  },
  {
   "cell_type": "code",
   "execution_count": 179,
   "id": "3fbb0acc",
   "metadata": {},
   "outputs": [],
   "source": [
    "avgdf <- aggregate(x=list(AvgNoTrips = aggdata$NoTrips, \n",
    "                          AvgNoUsers = aggdata$NoUsers), \n",
    "                   by=list(Location = aggdata$Location), \n",
    "                   FUN=mean)"
   ]
  },
  {
   "cell_type": "code",
   "execution_count": 191,
   "id": "3f86cf0f",
   "metadata": {},
   "outputs": [
    {
     "data": {
      "text/html": [
       "<style>\n",
       ".list-inline {list-style: none; margin:0; padding: 0}\n",
       ".list-inline>li {display: inline-block}\n",
       ".list-inline>li:not(:last-child)::after {content: \"\\00b7\"; padding: 0 .5ex}\n",
       "</style>\n",
       "<ol class=list-inline><li>2.25</li><li>34.1766381766382</li></ol>\n"
      ],
      "text/latex": [
       "\\begin{enumerate*}\n",
       "\\item 2.25\n",
       "\\item 34.1766381766382\n",
       "\\end{enumerate*}\n"
      ],
      "text/markdown": [
       "1. 2.25\n",
       "2. 34.1766381766382\n",
       "\n",
       "\n"
      ],
      "text/plain": [
       "[1]  2.25000 34.17664"
      ]
     },
     "metadata": {},
     "output_type": "display_data"
    }
   ],
   "source": [
    "range(avgdf$AvgNoTrips)"
   ]
  },
  {
   "cell_type": "code",
   "execution_count": 180,
   "id": "fd9045b3",
   "metadata": {},
   "outputs": [],
   "source": [
    "sumdf$PctTrips <- (sumdf$OrgTrips / sumdf$NoTrips) * 100"
   ]
  },
  {
   "cell_type": "code",
   "execution_count": 181,
   "id": "8dc55dca",
   "metadata": {},
   "outputs": [],
   "source": [
    "sumdf$PctUsers <- (sumdf$OrgUsers / sumdf$NoUsers) * 100"
   ]
  },
  {
   "cell_type": "code",
   "execution_count": 182,
   "id": "c85d9ae5",
   "metadata": {},
   "outputs": [],
   "source": [
    "sumdf <- merge(sumdf, stations, by=\"Location\")"
   ]
  },
  {
   "cell_type": "code",
   "execution_count": 183,
   "id": "c76accf8",
   "metadata": {},
   "outputs": [],
   "source": [
    "sum_avg_df <- merge(sumdf, avgdf, by=\"Location\")"
   ]
  },
  {
   "cell_type": "code",
   "execution_count": 184,
   "id": "15008a32",
   "metadata": {},
   "outputs": [],
   "source": [
    "write.csv(sum_avg_df, paste0(outpath, \"/Sum_Bike_Share_Trips.csv\"), row.names = FALSE)"
   ]
  },
  {
   "cell_type": "code",
   "execution_count": 171,
   "id": "1e59017b",
   "metadata": {},
   "outputs": [],
   "source": [
    "agg_spdf <- df2spdf(aggdata, 'Longitude', 'Latitude')"
   ]
  },
  {
   "cell_type": "code",
   "execution_count": 172,
   "id": "de8723d2",
   "metadata": {},
   "outputs": [],
   "source": [
    "writeOGR(agg_spdf, dsn=outpath, layer=\"Daily_Bike_Share_Trips\", driver=\"ESRI Shapefile\", overwrite_layer=TRUE)"
   ]
  },
  {
   "cell_type": "code",
   "execution_count": 185,
   "id": "10661ac0",
   "metadata": {},
   "outputs": [],
   "source": [
    "sum_avg_spdf <- df2spdf(sum_avg_df, 'Longitude', 'Latitude')"
   ]
  },
  {
   "cell_type": "code",
   "execution_count": 188,
   "id": "46ec4366",
   "metadata": {},
   "outputs": [
    {
     "data": {
      "text/html": [
       "<style>\n",
       ".list-inline {list-style: none; margin:0; padding: 0}\n",
       ".list-inline>li {display: inline-block}\n",
       ".list-inline>li:not(:last-child)::after {content: \"\\00b7\"; padding: 0 .5ex}\n",
       "</style>\n",
       "<ol class=list-inline><li>'Location'</li><li>'NoTrips'</li><li>'NoUsers'</li><li>'OrgTrips'</li><li>'OrgUsers'</li><li>'DstTrips'</li><li>'DstUsers'</li><li>'PctTrips'</li><li>'PctUsers'</li><li>'StationID'</li><li>'Longitude'</li><li>'Latitude'</li><li>'AvgNoTrips'</li><li>'AvgNoUsers'</li></ol>\n"
      ],
      "text/latex": [
       "\\begin{enumerate*}\n",
       "\\item 'Location'\n",
       "\\item 'NoTrips'\n",
       "\\item 'NoUsers'\n",
       "\\item 'OrgTrips'\n",
       "\\item 'OrgUsers'\n",
       "\\item 'DstTrips'\n",
       "\\item 'DstUsers'\n",
       "\\item 'PctTrips'\n",
       "\\item 'PctUsers'\n",
       "\\item 'StationID'\n",
       "\\item 'Longitude'\n",
       "\\item 'Latitude'\n",
       "\\item 'AvgNoTrips'\n",
       "\\item 'AvgNoUsers'\n",
       "\\end{enumerate*}\n"
      ],
      "text/markdown": [
       "1. 'Location'\n",
       "2. 'NoTrips'\n",
       "3. 'NoUsers'\n",
       "4. 'OrgTrips'\n",
       "5. 'OrgUsers'\n",
       "6. 'DstTrips'\n",
       "7. 'DstUsers'\n",
       "8. 'PctTrips'\n",
       "9. 'PctUsers'\n",
       "10. 'StationID'\n",
       "11. 'Longitude'\n",
       "12. 'Latitude'\n",
       "13. 'AvgNoTrips'\n",
       "14. 'AvgNoUsers'\n",
       "\n",
       "\n"
      ],
      "text/plain": [
       " [1] \"Location\"   \"NoTrips\"    \"NoUsers\"    \"OrgTrips\"   \"OrgUsers\"  \n",
       " [6] \"DstTrips\"   \"DstUsers\"   \"PctTrips\"   \"PctUsers\"   \"StationID\" \n",
       "[11] \"Longitude\"  \"Latitude\"   \"AvgNoTrips\" \"AvgNoUsers\""
      ]
     },
     "metadata": {},
     "output_type": "display_data"
    }
   ],
   "source": [
    "names(sum_avg_spdf)"
   ]
  },
  {
   "cell_type": "code",
   "execution_count": 190,
   "id": "f1dc4c27",
   "metadata": {},
   "outputs": [],
   "source": [
    "writeOGR(sum_avg_spdf, dsn=outpath, layer=\"Sum_Bike_Share_Trips\", driver=\"ESRI Shapefile\", overwrite_layer=TRUE)"
   ]
  }
 ],
 "metadata": {
  "kernelspec": {
   "display_name": "R",
   "language": "R",
   "name": "ir"
  },
  "language_info": {
   "codemirror_mode": "r",
   "file_extension": ".r",
   "mimetype": "text/x-r-source",
   "name": "R",
   "pygments_lexer": "r",
   "version": "4.0.3"
  }
 },
 "nbformat": 4,
 "nbformat_minor": 5
}
