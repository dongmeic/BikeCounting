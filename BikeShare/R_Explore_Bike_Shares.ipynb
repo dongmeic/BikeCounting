{
 "cells": [
  {
   "cell_type": "code",
   "execution_count": 1,
   "id": "dec06fee",
   "metadata": {},
   "outputs": [],
   "source": [
    "path <- \"T:/MPO/Bike&Ped/BikeCounting/StoryMap/BikeShare/Data/\""
   ]
  },
  {
   "cell_type": "code",
   "execution_count": 2,
   "id": "3d5b3a8e",
   "metadata": {},
   "outputs": [],
   "source": [
    "trips <- read.csv(paste0(path, \"trips.csv\"))"
   ]
  },
  {
   "cell_type": "code",
   "execution_count": 3,
   "id": "9584ec17",
   "metadata": {},
   "outputs": [
    {
     "data": {
      "text/html": [
       "<table class=\"dataframe\">\n",
       "<caption>A data.frame: 6 × 30</caption>\n",
       "<thead>\n",
       "\t<tr><th></th><th scope=col>User.ID</th><th scope=col>Route.ID</th><th scope=col>Bike.Region.ID</th><th scope=col>Payment.Plan</th><th scope=col>Start.Hub</th><th scope=col>Start.Area</th><th scope=col>Start.Special.Area</th><th scope=col>Start.Latitude</th><th scope=col>Start.Longitude</th><th scope=col>Start.Date</th><th scope=col>⋯</th><th scope=col>Bike.ID</th><th scope=col>Bike.Name</th><th scope=col>Distance..Miles.</th><th scope=col>Duration</th><th scope=col>Rental.Access.Path</th><th scope=col>Multiple.Rental</th><th scope=col>Ride.cost</th><th scope=col>Fees</th><th scope=col>Bonuses</th><th scope=col>Total.cost</th></tr>\n",
       "\t<tr><th></th><th scope=col>&lt;int&gt;</th><th scope=col>&lt;int&gt;</th><th scope=col>&lt;lgl&gt;</th><th scope=col>&lt;chr&gt;</th><th scope=col>&lt;chr&gt;</th><th scope=col>&lt;chr&gt;</th><th scope=col>&lt;chr&gt;</th><th scope=col>&lt;chr&gt;</th><th scope=col>&lt;chr&gt;</th><th scope=col>&lt;chr&gt;</th><th scope=col>⋯</th><th scope=col>&lt;int&gt;</th><th scope=col>&lt;chr&gt;</th><th scope=col>&lt;dbl&gt;</th><th scope=col>&lt;chr&gt;</th><th scope=col>&lt;chr&gt;</th><th scope=col>&lt;chr&gt;</th><th scope=col>&lt;dbl&gt;</th><th scope=col>&lt;dbl&gt;</th><th scope=col>&lt;dbl&gt;</th><th scope=col>&lt;dbl&gt;</th></tr>\n",
       "</thead>\n",
       "<tbody>\n",
       "\t<tr><th scope=row>1</th><td>2210370</td><td>14243380</td><td>NA</td><td>UO Monthly Plan</td><td>                               </td><td>Phase 1 System Area</td><td></td><td>44.04497666666666 </td><td>-123.08334333333333</td><td>2022-03-01</td><td>⋯</td><td>19570</td><td>0039</td><td>0.54</td><td>00:04:18</td><td>mobile</td><td>false</td><td>0</td><td>0</td><td>0</td><td>0</td></tr>\n",
       "\t<tr><th scope=row>2</th><td>2208820</td><td>14243383</td><td>NA</td><td>UO Single Ride </td><td><span style=white-space:pre-wrap>17th &amp; Moss                    </span></td><td>Phase 1 System Area</td><td></td><td>44.04110166666667 </td><td><span style=white-space:pre-wrap>-123.06669         </span></td><td>2022-03-01</td><td>⋯</td><td>19612</td><td>0081</td><td>0.81</td><td>00:07:13</td><td>keypad</td><td>false</td><td>0</td><td>0</td><td>0</td><td>0</td></tr>\n",
       "\t<tr><th scope=row>3</th><td>2199102</td><td>14243387</td><td>NA</td><td>Single Ride    </td><td>                               </td><td>                   </td><td></td><td>44.03341833333333 </td><td>-123.0724          </td><td>2022-03-01</td><td>⋯</td><td>19606</td><td>0075</td><td>0.81</td><td>00:06:33</td><td>mobile</td><td>false</td><td>0</td><td>0</td><td>0</td><td>0</td></tr>\n",
       "\t<tr><th scope=row>4</th><td>1366158</td><td>14243431</td><td>NA</td><td>Monthly Plan   </td><td>Matthew Knight Arena           </td><td>Phase 1 System Area</td><td></td><td>44.045363333333334</td><td>-123.065185        </td><td>2022-03-01</td><td>⋯</td><td>19753</td><td>0223</td><td>0.89</td><td>00:07:29</td><td>keypad</td><td>false</td><td>0</td><td>0</td><td>0</td><td>0</td></tr>\n",
       "\t<tr><th scope=row>5</th><td>2221341</td><td>14243442</td><td>NA</td><td>UO Single Ride </td><td>PeaceHealth University District</td><td>Phase 1 System Area</td><td></td><td>44.047685         </td><td>-123.081865        </td><td>2022-03-01</td><td>⋯</td><td>19797</td><td>0267</td><td>0.61</td><td>00:04:14</td><td>keypad</td><td>false</td><td>0</td><td>0</td><td>0</td><td>0</td></tr>\n",
       "\t<tr><th scope=row>6</th><td>2211448</td><td>14243444</td><td>NA</td><td>Single Ride    </td><td>                               </td><td>Phase 1 System Area</td><td></td><td>44.04114          </td><td>-123.08208         </td><td>2022-03-01</td><td>⋯</td><td>19773</td><td>0243</td><td>0.41</td><td>00:04:18</td><td>mobile</td><td>false</td><td>0</td><td>0</td><td>0</td><td>0</td></tr>\n",
       "</tbody>\n",
       "</table>\n"
      ],
      "text/latex": [
       "A data.frame: 6 × 30\n",
       "\\begin{tabular}{r|lllllllllllllllllllll}\n",
       "  & User.ID & Route.ID & Bike.Region.ID & Payment.Plan & Start.Hub & Start.Area & Start.Special.Area & Start.Latitude & Start.Longitude & Start.Date & ⋯ & Bike.ID & Bike.Name & Distance..Miles. & Duration & Rental.Access.Path & Multiple.Rental & Ride.cost & Fees & Bonuses & Total.cost\\\\\n",
       "  & <int> & <int> & <lgl> & <chr> & <chr> & <chr> & <chr> & <chr> & <chr> & <chr> & ⋯ & <int> & <chr> & <dbl> & <chr> & <chr> & <chr> & <dbl> & <dbl> & <dbl> & <dbl>\\\\\n",
       "\\hline\n",
       "\t1 & 2210370 & 14243380 & NA & UO Monthly Plan &                                 & Phase 1 System Area &  & 44.04497666666666  & -123.08334333333333 & 2022-03-01 & ⋯ & 19570 & 0039 & 0.54 & 00:04:18 & mobile & false & 0 & 0 & 0 & 0\\\\\n",
       "\t2 & 2208820 & 14243383 & NA & UO Single Ride  & 17th \\& Moss                     & Phase 1 System Area &  & 44.04110166666667  & -123.06669          & 2022-03-01 & ⋯ & 19612 & 0081 & 0.81 & 00:07:13 & keypad & false & 0 & 0 & 0 & 0\\\\\n",
       "\t3 & 2199102 & 14243387 & NA & Single Ride     &                                 &                     &  & 44.03341833333333  & -123.0724           & 2022-03-01 & ⋯ & 19606 & 0075 & 0.81 & 00:06:33 & mobile & false & 0 & 0 & 0 & 0\\\\\n",
       "\t4 & 1366158 & 14243431 & NA & Monthly Plan    & Matthew Knight Arena            & Phase 1 System Area &  & 44.045363333333334 & -123.065185         & 2022-03-01 & ⋯ & 19753 & 0223 & 0.89 & 00:07:29 & keypad & false & 0 & 0 & 0 & 0\\\\\n",
       "\t5 & 2221341 & 14243442 & NA & UO Single Ride  & PeaceHealth University District & Phase 1 System Area &  & 44.047685          & -123.081865         & 2022-03-01 & ⋯ & 19797 & 0267 & 0.61 & 00:04:14 & keypad & false & 0 & 0 & 0 & 0\\\\\n",
       "\t6 & 2211448 & 14243444 & NA & Single Ride     &                                 & Phase 1 System Area &  & 44.04114           & -123.08208          & 2022-03-01 & ⋯ & 19773 & 0243 & 0.41 & 00:04:18 & mobile & false & 0 & 0 & 0 & 0\\\\\n",
       "\\end{tabular}\n"
      ],
      "text/markdown": [
       "\n",
       "A data.frame: 6 × 30\n",
       "\n",
       "| <!--/--> | User.ID &lt;int&gt; | Route.ID &lt;int&gt; | Bike.Region.ID &lt;lgl&gt; | Payment.Plan &lt;chr&gt; | Start.Hub &lt;chr&gt; | Start.Area &lt;chr&gt; | Start.Special.Area &lt;chr&gt; | Start.Latitude &lt;chr&gt; | Start.Longitude &lt;chr&gt; | Start.Date &lt;chr&gt; | ⋯ ⋯ | Bike.ID &lt;int&gt; | Bike.Name &lt;chr&gt; | Distance..Miles. &lt;dbl&gt; | Duration &lt;chr&gt; | Rental.Access.Path &lt;chr&gt; | Multiple.Rental &lt;chr&gt; | Ride.cost &lt;dbl&gt; | Fees &lt;dbl&gt; | Bonuses &lt;dbl&gt; | Total.cost &lt;dbl&gt; |\n",
       "|---|---|---|---|---|---|---|---|---|---|---|---|---|---|---|---|---|---|---|---|---|---|\n",
       "| 1 | 2210370 | 14243380 | NA | UO Monthly Plan | <!----> | Phase 1 System Area | <!----> | 44.04497666666666  | -123.08334333333333 | 2022-03-01 | ⋯ | 19570 | 0039 | 0.54 | 00:04:18 | mobile | false | 0 | 0 | 0 | 0 |\n",
       "| 2 | 2208820 | 14243383 | NA | UO Single Ride  | 17th &amp; Moss                     | Phase 1 System Area | <!----> | 44.04110166666667  | -123.06669          | 2022-03-01 | ⋯ | 19612 | 0081 | 0.81 | 00:07:13 | keypad | false | 0 | 0 | 0 | 0 |\n",
       "| 3 | 2199102 | 14243387 | NA | Single Ride     | <!----> | <!----> | <!----> | 44.03341833333333  | -123.0724           | 2022-03-01 | ⋯ | 19606 | 0075 | 0.81 | 00:06:33 | mobile | false | 0 | 0 | 0 | 0 |\n",
       "| 4 | 1366158 | 14243431 | NA | Monthly Plan    | Matthew Knight Arena            | Phase 1 System Area | <!----> | 44.045363333333334 | -123.065185         | 2022-03-01 | ⋯ | 19753 | 0223 | 0.89 | 00:07:29 | keypad | false | 0 | 0 | 0 | 0 |\n",
       "| 5 | 2221341 | 14243442 | NA | UO Single Ride  | PeaceHealth University District | Phase 1 System Area | <!----> | 44.047685          | -123.081865         | 2022-03-01 | ⋯ | 19797 | 0267 | 0.61 | 00:04:14 | keypad | false | 0 | 0 | 0 | 0 |\n",
       "| 6 | 2211448 | 14243444 | NA | Single Ride     | <!----> | Phase 1 System Area | <!----> | 44.04114           | -123.08208          | 2022-03-01 | ⋯ | 19773 | 0243 | 0.41 | 00:04:18 | mobile | false | 0 | 0 | 0 | 0 |\n",
       "\n"
      ],
      "text/plain": [
       "  User.ID Route.ID Bike.Region.ID Payment.Plan   \n",
       "1 2210370 14243380 NA             UO Monthly Plan\n",
       "2 2208820 14243383 NA             UO Single Ride \n",
       "3 2199102 14243387 NA             Single Ride    \n",
       "4 1366158 14243431 NA             Monthly Plan   \n",
       "5 2221341 14243442 NA             UO Single Ride \n",
       "6 2211448 14243444 NA             Single Ride    \n",
       "  Start.Hub                       Start.Area          Start.Special.Area\n",
       "1                                 Phase 1 System Area                   \n",
       "2 17th & Moss                     Phase 1 System Area                   \n",
       "3                                                                       \n",
       "4 Matthew Knight Arena            Phase 1 System Area                   \n",
       "5 PeaceHealth University District Phase 1 System Area                   \n",
       "6                                 Phase 1 System Area                   \n",
       "  Start.Latitude     Start.Longitude     Start.Date <U+22EF>        Bike.ID Bike.Name\n",
       "1 44.04497666666666  -123.08334333333333 2022-03-01 <U+22EF> 19570   0039     \n",
       "2 44.04110166666667  -123.06669          2022-03-01 <U+22EF> 19612   0081     \n",
       "3 44.03341833333333  -123.0724           2022-03-01 <U+22EF> 19606   0075     \n",
       "4 44.045363333333334 -123.065185         2022-03-01 <U+22EF> 19753   0223     \n",
       "5 44.047685          -123.081865         2022-03-01 <U+22EF> 19797   0267     \n",
       "6 44.04114           -123.08208          2022-03-01 <U+22EF> 19773   0243     \n",
       "  Distance..Miles. Duration Rental.Access.Path Multiple.Rental Ride.cost Fees\n",
       "1 0.54             00:04:18 mobile             false           0         0   \n",
       "2 0.81             00:07:13 keypad             false           0         0   \n",
       "3 0.81             00:06:33 mobile             false           0         0   \n",
       "4 0.89             00:07:29 keypad             false           0         0   \n",
       "5 0.61             00:04:14 keypad             false           0         0   \n",
       "6 0.41             00:04:18 mobile             false           0         0   \n",
       "  Bonuses Total.cost\n",
       "1 0       0         \n",
       "2 0       0         \n",
       "3 0       0         \n",
       "4 0       0         \n",
       "5 0       0         \n",
       "6 0       0         "
      ]
     },
     "metadata": {},
     "output_type": "display_data"
    }
   ],
   "source": [
    "head(trips)"
   ]
  },
  {
   "cell_type": "code",
   "execution_count": 4,
   "id": "2fae8b83",
   "metadata": {
    "scrolled": true
   },
   "outputs": [
    {
     "data": {
      "text/html": [
       "<style>\n",
       ".list-inline {list-style: none; margin:0; padding: 0}\n",
       ".list-inline>li {display: inline-block}\n",
       ".list-inline>li:not(:last-child)::after {content: \"\\00b7\"; padding: 0 .5ex}\n",
       "</style>\n",
       "<ol class=list-inline><li>'User.ID'</li><li>'Route.ID'</li><li>'Bike.Region.ID'</li><li>'Payment.Plan'</li><li>'Start.Hub'</li><li>'Start.Area'</li><li>'Start.Special.Area'</li><li>'Start.Latitude'</li><li>'Start.Longitude'</li><li>'Start.Date'</li><li>'Start.Time'</li><li>'End.Hub'</li><li>'End.Area'</li><li>'End.Special.Area'</li><li>'End.Latitude'</li><li>'End.Longitude'</li><li>'End.Date'</li><li>'End.Time'</li><li>'Member.Type'</li><li>'Trip.Type'</li><li>'Bike.ID'</li><li>'Bike.Name'</li><li>'Distance..Miles.'</li><li>'Duration'</li><li>'Rental.Access.Path'</li><li>'Multiple.Rental'</li><li>'Ride.cost'</li><li>'Fees'</li><li>'Bonuses'</li><li>'Total.cost'</li></ol>\n"
      ],
      "text/latex": [
       "\\begin{enumerate*}\n",
       "\\item 'User.ID'\n",
       "\\item 'Route.ID'\n",
       "\\item 'Bike.Region.ID'\n",
       "\\item 'Payment.Plan'\n",
       "\\item 'Start.Hub'\n",
       "\\item 'Start.Area'\n",
       "\\item 'Start.Special.Area'\n",
       "\\item 'Start.Latitude'\n",
       "\\item 'Start.Longitude'\n",
       "\\item 'Start.Date'\n",
       "\\item 'Start.Time'\n",
       "\\item 'End.Hub'\n",
       "\\item 'End.Area'\n",
       "\\item 'End.Special.Area'\n",
       "\\item 'End.Latitude'\n",
       "\\item 'End.Longitude'\n",
       "\\item 'End.Date'\n",
       "\\item 'End.Time'\n",
       "\\item 'Member.Type'\n",
       "\\item 'Trip.Type'\n",
       "\\item 'Bike.ID'\n",
       "\\item 'Bike.Name'\n",
       "\\item 'Distance..Miles.'\n",
       "\\item 'Duration'\n",
       "\\item 'Rental.Access.Path'\n",
       "\\item 'Multiple.Rental'\n",
       "\\item 'Ride.cost'\n",
       "\\item 'Fees'\n",
       "\\item 'Bonuses'\n",
       "\\item 'Total.cost'\n",
       "\\end{enumerate*}\n"
      ],
      "text/markdown": [
       "1. 'User.ID'\n",
       "2. 'Route.ID'\n",
       "3. 'Bike.Region.ID'\n",
       "4. 'Payment.Plan'\n",
       "5. 'Start.Hub'\n",
       "6. 'Start.Area'\n",
       "7. 'Start.Special.Area'\n",
       "8. 'Start.Latitude'\n",
       "9. 'Start.Longitude'\n",
       "10. 'Start.Date'\n",
       "11. 'Start.Time'\n",
       "12. 'End.Hub'\n",
       "13. 'End.Area'\n",
       "14. 'End.Special.Area'\n",
       "15. 'End.Latitude'\n",
       "16. 'End.Longitude'\n",
       "17. 'End.Date'\n",
       "18. 'End.Time'\n",
       "19. 'Member.Type'\n",
       "20. 'Trip.Type'\n",
       "21. 'Bike.ID'\n",
       "22. 'Bike.Name'\n",
       "23. 'Distance..Miles.'\n",
       "24. 'Duration'\n",
       "25. 'Rental.Access.Path'\n",
       "26. 'Multiple.Rental'\n",
       "27. 'Ride.cost'\n",
       "28. 'Fees'\n",
       "29. 'Bonuses'\n",
       "30. 'Total.cost'\n",
       "\n",
       "\n"
      ],
      "text/plain": [
       " [1] \"User.ID\"            \"Route.ID\"           \"Bike.Region.ID\"    \n",
       " [4] \"Payment.Plan\"       \"Start.Hub\"          \"Start.Area\"        \n",
       " [7] \"Start.Special.Area\" \"Start.Latitude\"     \"Start.Longitude\"   \n",
       "[10] \"Start.Date\"         \"Start.Time\"         \"End.Hub\"           \n",
       "[13] \"End.Area\"           \"End.Special.Area\"   \"End.Latitude\"      \n",
       "[16] \"End.Longitude\"      \"End.Date\"           \"End.Time\"          \n",
       "[19] \"Member.Type\"        \"Trip.Type\"          \"Bike.ID\"           \n",
       "[22] \"Bike.Name\"          \"Distance..Miles.\"   \"Duration\"          \n",
       "[25] \"Rental.Access.Path\" \"Multiple.Rental\"    \"Ride.cost\"         \n",
       "[28] \"Fees\"               \"Bonuses\"            \"Total.cost\"        "
      ]
     },
     "metadata": {},
     "output_type": "display_data"
    }
   ],
   "source": [
    "names(trips)"
   ]
  },
  {
   "cell_type": "code",
   "execution_count": 5,
   "id": "37d12765",
   "metadata": {},
   "outputs": [
    {
     "data": {
      "text/html": [
       "<style>\n",
       ".list-inline {list-style: none; margin:0; padding: 0}\n",
       ".list-inline>li {display: inline-block}\n",
       ".list-inline>li:not(:last-child)::after {content: \"\\00b7\"; padding: 0 .5ex}\n",
       "</style>\n",
       "<ol class=list-inline><li>9682</li><li>30</li></ol>\n"
      ],
      "text/latex": [
       "\\begin{enumerate*}\n",
       "\\item 9682\n",
       "\\item 30\n",
       "\\end{enumerate*}\n"
      ],
      "text/markdown": [
       "1. 9682\n",
       "2. 30\n",
       "\n",
       "\n"
      ],
      "text/plain": [
       "[1] 9682   30"
      ]
     },
     "metadata": {},
     "output_type": "display_data"
    }
   ],
   "source": [
    "dim(trips)"
   ]
  },
  {
   "cell_type": "code",
   "execution_count": 6,
   "id": "0b1b7118",
   "metadata": {},
   "outputs": [
    {
     "data": {
      "text/html": [
       "<style>\n",
       ".list-inline {list-style: none; margin:0; padding: 0}\n",
       ".list-inline>li {display: inline-block}\n",
       ".list-inline>li:not(:last-child)::after {content: \"\\00b7\"; padding: 0 .5ex}\n",
       "</style>\n",
       "<ol class=list-inline><li>''</li><li>'17th &amp; Moss'</li><li>'Matthew Knight Arena'</li><li>'PeaceHealth University District'</li><li>'17th &amp; Pearl'</li><li>'15th &amp; University'</li><li>'Amazon LTD Station (Virtual Hub)'</li><li>'12th &amp; Willamette'</li><li>'13th &amp; Lawrence'</li><li>'13th &amp; Agate (Virtual Hub)'</li><li>'Eden\\'s Bike Garage (Virtual Hub)'</li><li>'Franklin Blvd &amp; Walnut South'</li><li>'10th &amp; Pearl'</li><li>'Autzen Footbridge'</li><li>'Franklin Blvd and Walnut North'</li><li>'Eugene Family YMCA'</li><li>'16th &amp; Willamette'</li><li>'15th &amp; Ferry'</li><li>'Amazon Pool'</li><li>'19th and Agate'</li><li>'13th &amp; Kincaid'</li><li>'Lane Events Center'</li><li>'Knight Law Center'</li><li>'Oregon Plaza (Virtual Hub)'</li><li>'16th &amp; Hilyard, East side'</li><li>'8th &amp; Lincoln'</li><li>'Knight Library (Virtual Hub)'</li><li>'Erb Memorial Union'</li><li>'Millrace Garage'</li><li>'Erb Memorial Union overflow'</li><li>'HEDCO Education Building'</li><li>'Straub Hall (Virtual Hub)'</li><li>'10th &amp; Olive SE'</li><li>'Joey\\'s Bike Garage (Virtual Hub)'</li><li>'8th &amp; Ferry'</li><li>'Monroe St &amp; Blair Blvd '</li><li>'Broadway &amp; Willamette'</li><li>'Outdoor Program Barn (Virtual Hub)'</li><li>'Columbia Hall (Virtual Hub)'</li><li>'5th &amp; Lincoln'</li><li>'2nd &amp; High'</li><li>'Civic Park (Virtual Hub)'</li><li>'13th &amp; Pearl, 13th side'</li><li>'Valley River'</li><li>'Broadway &amp; High'</li><li>'4th &amp; Blair'</li><li>'3rd &amp; Lawrence'</li><li>'10th &amp; Olive NE'</li><li>'16th &amp; Hilyard, West side'</li><li>'5th &amp; Pearl, SE corner'</li><li>'13th &amp; Pearl, Pearl side'</li><li>'5th &amp; Pearl, NW corner'</li><li>'6th &amp; Willamette'</li><li>'Woodfield Station West (Virtual Hub)'</li><li>'Eugene Train Station'</li><li>'2nd &amp; Madison'</li><li>'6th &amp; Monroe'</li><li>'Woodfield Station East (Virtual Hub)'</li><li>'Skinner Butte Park'</li><li>'PeaceHealth RiverBend'</li><li>'Heartfelt House'</li></ol>\n"
      ],
      "text/latex": [
       "\\begin{enumerate*}\n",
       "\\item ''\n",
       "\\item '17th \\& Moss'\n",
       "\\item 'Matthew Knight Arena'\n",
       "\\item 'PeaceHealth University District'\n",
       "\\item '17th \\& Pearl'\n",
       "\\item '15th \\& University'\n",
       "\\item 'Amazon LTD Station (Virtual Hub)'\n",
       "\\item '12th \\& Willamette'\n",
       "\\item '13th \\& Lawrence'\n",
       "\\item '13th \\& Agate (Virtual Hub)'\n",
       "\\item 'Eden\\textbackslash{}'s Bike Garage (Virtual Hub)'\n",
       "\\item 'Franklin Blvd \\& Walnut South'\n",
       "\\item '10th \\& Pearl'\n",
       "\\item 'Autzen Footbridge'\n",
       "\\item 'Franklin Blvd and Walnut North'\n",
       "\\item 'Eugene Family YMCA'\n",
       "\\item '16th \\& Willamette'\n",
       "\\item '15th \\& Ferry'\n",
       "\\item 'Amazon Pool'\n",
       "\\item '19th and Agate'\n",
       "\\item '13th \\& Kincaid'\n",
       "\\item 'Lane Events Center'\n",
       "\\item 'Knight Law Center'\n",
       "\\item 'Oregon Plaza (Virtual Hub)'\n",
       "\\item '16th \\& Hilyard, East side'\n",
       "\\item '8th \\& Lincoln'\n",
       "\\item 'Knight Library (Virtual Hub)'\n",
       "\\item 'Erb Memorial Union'\n",
       "\\item 'Millrace Garage'\n",
       "\\item 'Erb Memorial Union overflow'\n",
       "\\item 'HEDCO Education Building'\n",
       "\\item 'Straub Hall (Virtual Hub)'\n",
       "\\item '10th \\& Olive SE'\n",
       "\\item 'Joey\\textbackslash{}'s Bike Garage (Virtual Hub)'\n",
       "\\item '8th \\& Ferry'\n",
       "\\item 'Monroe St \\& Blair Blvd '\n",
       "\\item 'Broadway \\& Willamette'\n",
       "\\item 'Outdoor Program Barn (Virtual Hub)'\n",
       "\\item 'Columbia Hall (Virtual Hub)'\n",
       "\\item '5th \\& Lincoln'\n",
       "\\item '2nd \\& High'\n",
       "\\item 'Civic Park (Virtual Hub)'\n",
       "\\item '13th \\& Pearl, 13th side'\n",
       "\\item 'Valley River'\n",
       "\\item 'Broadway \\& High'\n",
       "\\item '4th \\& Blair'\n",
       "\\item '3rd \\& Lawrence'\n",
       "\\item '10th \\& Olive NE'\n",
       "\\item '16th \\& Hilyard, West side'\n",
       "\\item '5th \\& Pearl, SE corner'\n",
       "\\item '13th \\& Pearl, Pearl side'\n",
       "\\item '5th \\& Pearl, NW corner'\n",
       "\\item '6th \\& Willamette'\n",
       "\\item 'Woodfield Station West (Virtual Hub)'\n",
       "\\item 'Eugene Train Station'\n",
       "\\item '2nd \\& Madison'\n",
       "\\item '6th \\& Monroe'\n",
       "\\item 'Woodfield Station East (Virtual Hub)'\n",
       "\\item 'Skinner Butte Park'\n",
       "\\item 'PeaceHealth RiverBend'\n",
       "\\item 'Heartfelt House'\n",
       "\\end{enumerate*}\n"
      ],
      "text/markdown": [
       "1. ''\n",
       "2. '17th &amp; Moss'\n",
       "3. 'Matthew Knight Arena'\n",
       "4. 'PeaceHealth University District'\n",
       "5. '17th &amp; Pearl'\n",
       "6. '15th &amp; University'\n",
       "7. 'Amazon LTD Station (Virtual Hub)'\n",
       "8. '12th &amp; Willamette'\n",
       "9. '13th &amp; Lawrence'\n",
       "10. '13th &amp; Agate (Virtual Hub)'\n",
       "11. 'Eden\\'s Bike Garage (Virtual Hub)'\n",
       "12. 'Franklin Blvd &amp; Walnut South'\n",
       "13. '10th &amp; Pearl'\n",
       "14. 'Autzen Footbridge'\n",
       "15. 'Franklin Blvd and Walnut North'\n",
       "16. 'Eugene Family YMCA'\n",
       "17. '16th &amp; Willamette'\n",
       "18. '15th &amp; Ferry'\n",
       "19. 'Amazon Pool'\n",
       "20. '19th and Agate'\n",
       "21. '13th &amp; Kincaid'\n",
       "22. 'Lane Events Center'\n",
       "23. 'Knight Law Center'\n",
       "24. 'Oregon Plaza (Virtual Hub)'\n",
       "25. '16th &amp; Hilyard, East side'\n",
       "26. '8th &amp; Lincoln'\n",
       "27. 'Knight Library (Virtual Hub)'\n",
       "28. 'Erb Memorial Union'\n",
       "29. 'Millrace Garage'\n",
       "30. 'Erb Memorial Union overflow'\n",
       "31. 'HEDCO Education Building'\n",
       "32. 'Straub Hall (Virtual Hub)'\n",
       "33. '10th &amp; Olive SE'\n",
       "34. 'Joey\\'s Bike Garage (Virtual Hub)'\n",
       "35. '8th &amp; Ferry'\n",
       "36. 'Monroe St &amp; Blair Blvd '\n",
       "37. 'Broadway &amp; Willamette'\n",
       "38. 'Outdoor Program Barn (Virtual Hub)'\n",
       "39. 'Columbia Hall (Virtual Hub)'\n",
       "40. '5th &amp; Lincoln'\n",
       "41. '2nd &amp; High'\n",
       "42. 'Civic Park (Virtual Hub)'\n",
       "43. '13th &amp; Pearl, 13th side'\n",
       "44. 'Valley River'\n",
       "45. 'Broadway &amp; High'\n",
       "46. '4th &amp; Blair'\n",
       "47. '3rd &amp; Lawrence'\n",
       "48. '10th &amp; Olive NE'\n",
       "49. '16th &amp; Hilyard, West side'\n",
       "50. '5th &amp; Pearl, SE corner'\n",
       "51. '13th &amp; Pearl, Pearl side'\n",
       "52. '5th &amp; Pearl, NW corner'\n",
       "53. '6th &amp; Willamette'\n",
       "54. 'Woodfield Station West (Virtual Hub)'\n",
       "55. 'Eugene Train Station'\n",
       "56. '2nd &amp; Madison'\n",
       "57. '6th &amp; Monroe'\n",
       "58. 'Woodfield Station East (Virtual Hub)'\n",
       "59. 'Skinner Butte Park'\n",
       "60. 'PeaceHealth RiverBend'\n",
       "61. 'Heartfelt House'\n",
       "\n",
       "\n"
      ],
      "text/plain": [
       " [1] \"\"                                    \n",
       " [2] \"17th & Moss\"                         \n",
       " [3] \"Matthew Knight Arena\"                \n",
       " [4] \"PeaceHealth University District\"     \n",
       " [5] \"17th & Pearl\"                        \n",
       " [6] \"15th & University\"                   \n",
       " [7] \"Amazon LTD Station (Virtual Hub)\"    \n",
       " [8] \"12th & Willamette\"                   \n",
       " [9] \"13th & Lawrence\"                     \n",
       "[10] \"13th & Agate (Virtual Hub)\"          \n",
       "[11] \"Eden's Bike Garage (Virtual Hub)\"    \n",
       "[12] \"Franklin Blvd & Walnut South\"        \n",
       "[13] \"10th & Pearl\"                        \n",
       "[14] \"Autzen Footbridge\"                   \n",
       "[15] \"Franklin Blvd and Walnut North\"      \n",
       "[16] \"Eugene Family YMCA\"                  \n",
       "[17] \"16th & Willamette\"                   \n",
       "[18] \"15th & Ferry\"                        \n",
       "[19] \"Amazon Pool\"                         \n",
       "[20] \"19th and Agate\"                      \n",
       "[21] \"13th & Kincaid\"                      \n",
       "[22] \"Lane Events Center\"                  \n",
       "[23] \"Knight Law Center\"                   \n",
       "[24] \"Oregon Plaza (Virtual Hub)\"          \n",
       "[25] \"16th & Hilyard, East side\"           \n",
       "[26] \"8th & Lincoln\"                       \n",
       "[27] \"Knight Library (Virtual Hub)\"        \n",
       "[28] \"Erb Memorial Union\"                  \n",
       "[29] \"Millrace Garage\"                     \n",
       "[30] \"Erb Memorial Union overflow\"         \n",
       "[31] \"HEDCO Education Building\"            \n",
       "[32] \"Straub Hall (Virtual Hub)\"           \n",
       "[33] \"10th & Olive SE\"                     \n",
       "[34] \"Joey's Bike Garage (Virtual Hub)\"    \n",
       "[35] \"8th & Ferry\"                         \n",
       "[36] \"Monroe St & Blair Blvd \"             \n",
       "[37] \"Broadway & Willamette\"               \n",
       "[38] \"Outdoor Program Barn (Virtual Hub)\"  \n",
       "[39] \"Columbia Hall (Virtual Hub)\"         \n",
       "[40] \"5th & Lincoln\"                       \n",
       "[41] \"2nd & High\"                          \n",
       "[42] \"Civic Park (Virtual Hub)\"            \n",
       "[43] \"13th & Pearl, 13th side\"             \n",
       "[44] \"Valley River\"                        \n",
       "[45] \"Broadway & High\"                     \n",
       "[46] \"4th & Blair\"                         \n",
       "[47] \"3rd & Lawrence\"                      \n",
       "[48] \"10th & Olive NE\"                     \n",
       "[49] \"16th & Hilyard, West side\"           \n",
       "[50] \"5th & Pearl, SE corner\"              \n",
       "[51] \"13th & Pearl, Pearl side\"            \n",
       "[52] \"5th & Pearl, NW corner\"              \n",
       "[53] \"6th & Willamette\"                    \n",
       "[54] \"Woodfield Station West (Virtual Hub)\"\n",
       "[55] \"Eugene Train Station\"                \n",
       "[56] \"2nd & Madison\"                       \n",
       "[57] \"6th & Monroe\"                        \n",
       "[58] \"Woodfield Station East (Virtual Hub)\"\n",
       "[59] \"Skinner Butte Park\"                  \n",
       "[60] \"PeaceHealth RiverBend\"               \n",
       "[61] \"Heartfelt House\"                     "
      ]
     },
     "metadata": {},
     "output_type": "display_data"
    }
   ],
   "source": [
    "unique(trips$Start.Hub)"
   ]
  },
  {
   "cell_type": "code",
   "execution_count": 7,
   "id": "ffd71bc2",
   "metadata": {},
   "outputs": [
    {
     "data": {
      "text/html": [
       "&lt;NA&gt;"
      ],
      "text/latex": [
       "<NA>"
      ],
      "text/markdown": [
       "&lt;NA&gt;"
      ],
      "text/plain": [
       "[1] NA"
      ]
     },
     "metadata": {},
     "output_type": "display_data"
    }
   ],
   "source": [
    "unique(trips$Trip.Type)"
   ]
  },
  {
   "cell_type": "code",
   "execution_count": 8,
   "id": "0b3f9361",
   "metadata": {},
   "outputs": [],
   "source": [
    "org <- trips[,c('Route.ID', 'Bike.ID', 'User.ID', 'Start.Hub', 'Start.Latitude', 'Start.Longitude', 'Start.Date', 'Start.Time')]"
   ]
  },
  {
   "cell_type": "code",
   "execution_count": 9,
   "id": "e46e8dd2",
   "metadata": {},
   "outputs": [],
   "source": [
    "names(org) <- c(\"RouteID\", \"BikeID\", 'UserID', \"Location\", \"Latitude\", \"Longitude\",\"Date\", \"Time\")"
   ]
  },
  {
   "cell_type": "code",
   "execution_count": 10,
   "id": "ac83ab10",
   "metadata": {},
   "outputs": [],
   "source": [
    "org$OriginDestination <- rep(\"Origin\", dim(org)[1])"
   ]
  },
  {
   "cell_type": "code",
   "execution_count": 11,
   "id": "b7e4270e",
   "metadata": {},
   "outputs": [],
   "source": [
    "dst <- trips[,c('Route.ID', 'Bike.ID', 'User.ID', 'End.Hub', 'End.Latitude', 'End.Longitude', 'End.Date','End.Time')]"
   ]
  },
  {
   "cell_type": "code",
   "execution_count": 12,
   "id": "bc2ae1b9",
   "metadata": {},
   "outputs": [],
   "source": [
    "names(dst) <- c(\"RouteID\", \"BikeID\", 'UserID', \"Location\", \"Latitude\", \"Longitude\", \"Date\", \"Time\")"
   ]
  },
  {
   "cell_type": "code",
   "execution_count": 13,
   "id": "673d5b2c",
   "metadata": {},
   "outputs": [],
   "source": [
    "dst$OriginDestination <- rep(\"Destination\", dim(dst)[1])"
   ]
  },
  {
   "cell_type": "code",
   "execution_count": 14,
   "id": "c13594e8",
   "metadata": {},
   "outputs": [],
   "source": [
    "df <- rbind(org, dst)"
   ]
  },
  {
   "cell_type": "code",
   "execution_count": 15,
   "id": "57fbf460",
   "metadata": {},
   "outputs": [],
   "source": [
    "write.csv(df, \"T:/MPO/Bike&Ped/BikeCounting/StoryMap/BikeShare/Data/bike_share_locations.csv\", row.names=FALSE)"
   ]
  }
 ],
 "metadata": {
  "kernelspec": {
   "display_name": "R",
   "language": "R",
   "name": "ir"
  },
  "language_info": {
   "codemirror_mode": "r",
   "file_extension": ".r",
   "mimetype": "text/x-r-source",
   "name": "R",
   "pygments_lexer": "r",
   "version": "4.0.3"
  }
 },
 "nbformat": 4,
 "nbformat_minor": 5
}
