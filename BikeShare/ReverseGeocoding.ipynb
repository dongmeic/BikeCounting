{
 "cells": [
  {
   "cell_type": "code",
   "execution_count": 3,
   "id": "0298e36a",
   "metadata": {},
   "outputs": [],
   "source": [
    "#load_ext autotime\n",
    "import pandas as pd\n",
    "import geopandas as gpd\n",
    "import geopy\n",
    "from geopy.geocoders import Nominatim\n",
    "from geopy.extra.rate_limiter import RateLimiter\n",
    "import matplotlib.pyplot as plt\n",
    "import plotly_express as px\n",
    "import tqdm\n",
    "from tqdm.notebook import tqdm_notebook\n",
    "import os\n",
    "import numpy as np\n",
    "import glob"
   ]
  },
  {
   "cell_type": "code",
   "execution_count": 2,
   "id": "6631b188",
   "metadata": {},
   "outputs": [],
   "source": [
    "locator = Nominatim(user_agent=\"measurements\")"
   ]
  },
  {
   "cell_type": "code",
   "execution_count": 3,
   "id": "0dbb10a6",
   "metadata": {},
   "outputs": [],
   "source": [
    "inpath = r\"T:\\DCProjects\\StoryMap\\BikeCounting\\BikeShare\\Data\\lastTrips\""
   ]
  },
  {
   "cell_type": "code",
   "execution_count": 4,
   "id": "72e7bcbf",
   "metadata": {},
   "outputs": [
    {
     "data": {
      "text/html": [
       "<div>\n",
       "<style scoped>\n",
       "    .dataframe tbody tr th:only-of-type {\n",
       "        vertical-align: middle;\n",
       "    }\n",
       "\n",
       "    .dataframe tbody tr th {\n",
       "        vertical-align: top;\n",
       "    }\n",
       "\n",
       "    .dataframe thead th {\n",
       "        text-align: right;\n",
       "    }\n",
       "</style>\n",
       "<table border=\"1\" class=\"dataframe\">\n",
       "  <thead>\n",
       "    <tr style=\"text-align: right;\">\n",
       "      <th></th>\n",
       "      <th>User ID</th>\n",
       "      <th>Route ID</th>\n",
       "      <th>Start Hub</th>\n",
       "      <th>Start Area</th>\n",
       "      <th>Start Latitude</th>\n",
       "      <th>Start Longitude</th>\n",
       "      <th>Start Date</th>\n",
       "      <th>Start Week Day</th>\n",
       "      <th>Start Time</th>\n",
       "      <th>End Hub</th>\n",
       "      <th>...</th>\n",
       "      <th>Bike ID</th>\n",
       "      <th>Bike Name</th>\n",
       "      <th>Distance [Miles]</th>\n",
       "      <th>Duration</th>\n",
       "      <th>Multiple Rental</th>\n",
       "      <th>Ride Cost</th>\n",
       "      <th>Fees</th>\n",
       "      <th>Bonuses</th>\n",
       "      <th>Total Cost</th>\n",
       "      <th>Payment plan</th>\n",
       "    </tr>\n",
       "  </thead>\n",
       "  <tbody>\n",
       "    <tr>\n",
       "      <th>0</th>\n",
       "      <td>762507</td>\n",
       "      <td>11291076</td>\n",
       "      <td>NaN</td>\n",
       "      <td>Phase 1 System Area</td>\n",
       "      <td>44.045575</td>\n",
       "      <td>-123.0945317</td>\n",
       "      <td>5/1/2019</td>\n",
       "      <td>Wednesday</td>\n",
       "      <td>0:04</td>\n",
       "      <td>13th &amp; Lawrence</td>\n",
       "      <td>...</td>\n",
       "      <td>19793</td>\n",
       "      <td>263</td>\n",
       "      <td>0.21</td>\n",
       "      <td>0:03:07</td>\n",
       "      <td>False</td>\n",
       "      <td>1.0</td>\n",
       "      <td>0</td>\n",
       "      <td>-1</td>\n",
       "      <td>0.0</td>\n",
       "      <td>Single Ride</td>\n",
       "    </tr>\n",
       "    <tr>\n",
       "      <th>1</th>\n",
       "      <td>775345</td>\n",
       "      <td>11291083</td>\n",
       "      <td>17th &amp; Hilyard</td>\n",
       "      <td>Phase 1 System Area</td>\n",
       "      <td>44.04107</td>\n",
       "      <td>-123.0819067</td>\n",
       "      <td>5/1/2019</td>\n",
       "      <td>Wednesday</td>\n",
       "      <td>0:10</td>\n",
       "      <td>17th &amp; Pearl, East side</td>\n",
       "      <td>...</td>\n",
       "      <td>19717</td>\n",
       "      <td>187</td>\n",
       "      <td>0.38</td>\n",
       "      <td>0:03:37</td>\n",
       "      <td>False</td>\n",
       "      <td>0.0</td>\n",
       "      <td>0</td>\n",
       "      <td>0</td>\n",
       "      <td>0.0</td>\n",
       "      <td>UO Single Ride</td>\n",
       "    </tr>\n",
       "    <tr>\n",
       "      <th>2</th>\n",
       "      <td>784725</td>\n",
       "      <td>11291122</td>\n",
       "      <td>19th and Agate</td>\n",
       "      <td>Phase 1 System Area</td>\n",
       "      <td>44.03919</td>\n",
       "      <td>-123.0695917</td>\n",
       "      <td>5/1/2019</td>\n",
       "      <td>Wednesday</td>\n",
       "      <td>1:03</td>\n",
       "      <td>12th &amp; Willamette</td>\n",
       "      <td>...</td>\n",
       "      <td>19823</td>\n",
       "      <td>293</td>\n",
       "      <td>1.76</td>\n",
       "      <td>0:09:34</td>\n",
       "      <td>False</td>\n",
       "      <td>0.0</td>\n",
       "      <td>0</td>\n",
       "      <td>0</td>\n",
       "      <td>0.0</td>\n",
       "      <td>UO Monthly Plan</td>\n",
       "    </tr>\n",
       "    <tr>\n",
       "      <th>3</th>\n",
       "      <td>762507</td>\n",
       "      <td>11291148</td>\n",
       "      <td>13th &amp; Lawrence</td>\n",
       "      <td>Phase 1 System Area</td>\n",
       "      <td>44.045325</td>\n",
       "      <td>-123.0984033</td>\n",
       "      <td>5/1/2019</td>\n",
       "      <td>Wednesday</td>\n",
       "      <td>1:37</td>\n",
       "      <td>Broadway &amp; Willamette</td>\n",
       "      <td>...</td>\n",
       "      <td>19793</td>\n",
       "      <td>263</td>\n",
       "      <td>0.59</td>\n",
       "      <td>0:07:48</td>\n",
       "      <td>False</td>\n",
       "      <td>0.0</td>\n",
       "      <td>0</td>\n",
       "      <td>0</td>\n",
       "      <td>0.0</td>\n",
       "      <td>Monthly Plan</td>\n",
       "    </tr>\n",
       "    <tr>\n",
       "      <th>4</th>\n",
       "      <td>762507</td>\n",
       "      <td>11291173</td>\n",
       "      <td>10th &amp; Olive SE</td>\n",
       "      <td>Phase 1 System Area</td>\n",
       "      <td>44.04917667</td>\n",
       "      <td>-123.0943933</td>\n",
       "      <td>5/1/2019</td>\n",
       "      <td>Wednesday</td>\n",
       "      <td>2:27</td>\n",
       "      <td>13th &amp; Lawrence</td>\n",
       "      <td>...</td>\n",
       "      <td>19700</td>\n",
       "      <td>170</td>\n",
       "      <td>0.48</td>\n",
       "      <td>0:05:52</td>\n",
       "      <td>False</td>\n",
       "      <td>0.0</td>\n",
       "      <td>0</td>\n",
       "      <td>0</td>\n",
       "      <td>0.0</td>\n",
       "      <td>Monthly Plan</td>\n",
       "    </tr>\n",
       "  </tbody>\n",
       "</table>\n",
       "<p>5 rows × 25 columns</p>\n",
       "</div>"
      ],
      "text/plain": [
       "   User ID  Route ID        Start Hub           Start Area Start Latitude  \\\n",
       "0   762507  11291076              NaN  Phase 1 System Area      44.045575   \n",
       "1   775345  11291083   17th & Hilyard  Phase 1 System Area       44.04107   \n",
       "2   784725  11291122   19th and Agate  Phase 1 System Area       44.03919   \n",
       "3   762507  11291148  13th & Lawrence  Phase 1 System Area      44.045325   \n",
       "4   762507  11291173  10th & Olive SE  Phase 1 System Area    44.04917667   \n",
       "\n",
       "  Start Longitude Start Date Start Week Day Start Time  \\\n",
       "0    -123.0945317   5/1/2019      Wednesday       0:04   \n",
       "1    -123.0819067   5/1/2019      Wednesday       0:10   \n",
       "2    -123.0695917   5/1/2019      Wednesday       1:03   \n",
       "3    -123.0984033   5/1/2019      Wednesday       1:37   \n",
       "4    -123.0943933   5/1/2019      Wednesday       2:27   \n",
       "\n",
       "                   End Hub  ... Bike ID Bike Name Distance [Miles] Duration  \\\n",
       "0          13th & Lawrence  ...   19793       263             0.21  0:03:07   \n",
       "1  17th & Pearl, East side  ...   19717       187             0.38  0:03:37   \n",
       "2        12th & Willamette  ...   19823       293             1.76  0:09:34   \n",
       "3    Broadway & Willamette  ...   19793       263             0.59  0:07:48   \n",
       "4          13th & Lawrence  ...   19700       170             0.48  0:05:52   \n",
       "\n",
       "  Multiple Rental  Ride Cost Fees  Bonuses Total Cost     Payment plan  \n",
       "0           False        1.0    0       -1        0.0      Single Ride  \n",
       "1           False        0.0    0        0        0.0   UO Single Ride  \n",
       "2           False        0.0    0        0        0.0  UO Monthly Plan  \n",
       "3           False        0.0    0        0        0.0     Monthly Plan  \n",
       "4           False        0.0    0        0        0.0     Monthly Plan  \n",
       "\n",
       "[5 rows x 25 columns]"
      ]
     },
     "execution_count": 4,
     "metadata": {},
     "output_type": "execute_result"
    }
   ],
   "source": [
    "odf = pd.read_csv(os.path.join(inpath, \"trips_peace_health_rides_05_01_2019-05_31_2019.csv\"))\n",
    "odf.head()"
   ]
  },
  {
   "cell_type": "code",
   "execution_count": 7,
   "id": "150c5eb7",
   "metadata": {},
   "outputs": [
    {
     "data": {
      "text/plain": [
       "Index(['User ID', 'Route ID', 'Start Hub', 'Start Area', 'Start Latitude',\n",
       "       'Start Longitude', 'Start Date', 'Start Week Day', 'Start Time',\n",
       "       'End Hub', 'End Area', 'End Latitude', 'End Longitude', 'End Date',\n",
       "       'End Time', 'Bike ID', 'Bike Name', 'Distance [Miles]', 'Duration',\n",
       "       'Multiple Rental', 'Ride Cost', 'Fees', 'Bonuses', 'Total Cost',\n",
       "       'Payment plan'],\n",
       "      dtype='object')"
      ]
     },
     "execution_count": 7,
     "metadata": {},
     "output_type": "execute_result"
    }
   ],
   "source": [
    "odf.columns"
   ]
  },
  {
   "cell_type": "code",
   "execution_count": 5,
   "id": "475b9926",
   "metadata": {},
   "outputs": [],
   "source": [
    "df = odf "
   ]
  },
  {
   "cell_type": "code",
   "execution_count": 12,
   "id": "1bdcf62a",
   "metadata": {},
   "outputs": [],
   "source": [
    "df = df[(df['Start Latitude'] != \" - \") | (df['End Latitude'] != \" - \" ) | (df['Start Longitude'] != \" - \") | (df['End Longitude'] != \" - \")]"
   ]
  },
  {
   "cell_type": "code",
   "execution_count": 13,
   "id": "c7681d32",
   "metadata": {},
   "outputs": [
    {
     "data": {
      "text/plain": [
       "'44.045575,-123.0945317'"
      ]
     },
     "execution_count": 13,
     "metadata": {},
     "output_type": "execute_result"
    }
   ],
   "source": [
    "df[\"startgeom\"] = df[\"Start Latitude\"].map(str) + ',' + df['Start Longitude'].map(str)\n",
    "df[\"startgeom\"][0]"
   ]
  },
  {
   "cell_type": "code",
   "execution_count": 14,
   "id": "36e7d6c9",
   "metadata": {},
   "outputs": [
    {
     "data": {
      "text/plain": [
       "'44.04532667,-123.098445'"
      ]
     },
     "execution_count": 14,
     "metadata": {},
     "output_type": "execute_result"
    }
   ],
   "source": [
    "df[\"endgeom\"] = df[\"End Latitude\"].map(str) + ',' + df['End Longitude'].map(str)\n",
    "df[\"endgeom\"][0]"
   ]
  },
  {
   "cell_type": "code",
   "execution_count": 15,
   "id": "0a30f182",
   "metadata": {},
   "outputs": [],
   "source": [
    "locator = Nominatim(user_agent=\"measurements\", timeout=10)\n",
    "rgeocode = RateLimiter(locator.reverse, min_delay_seconds=0.00001)"
   ]
  },
  {
   "cell_type": "code",
   "execution_count": 16,
   "id": "19ca3704",
   "metadata": {},
   "outputs": [],
   "source": [
    "tqdm_notebook.pandas()"
   ]
  },
  {
   "cell_type": "code",
   "execution_count": 17,
   "id": "50a6e0d4",
   "metadata": {},
   "outputs": [
    {
     "data": {
      "application/vnd.jupyter.widget-view+json": {
       "model_id": "008eed2660dd4949a5e1f0f2fd962e0d",
       "version_major": 2,
       "version_minor": 0
      },
      "text/plain": [
       "  0%|          | 0/27667 [00:00<?, ?it/s]"
      ]
     },
     "metadata": {},
     "output_type": "display_data"
    },
    {
     "data": {
      "text/html": [
       "<div>\n",
       "<style scoped>\n",
       "    .dataframe tbody tr th:only-of-type {\n",
       "        vertical-align: middle;\n",
       "    }\n",
       "\n",
       "    .dataframe tbody tr th {\n",
       "        vertical-align: top;\n",
       "    }\n",
       "\n",
       "    .dataframe thead th {\n",
       "        text-align: right;\n",
       "    }\n",
       "</style>\n",
       "<table border=\"1\" class=\"dataframe\">\n",
       "  <thead>\n",
       "    <tr style=\"text-align: right;\">\n",
       "      <th></th>\n",
       "      <th>User ID</th>\n",
       "      <th>Route ID</th>\n",
       "      <th>Start Hub</th>\n",
       "      <th>Start Area</th>\n",
       "      <th>Start Latitude</th>\n",
       "      <th>Start Longitude</th>\n",
       "      <th>Start Date</th>\n",
       "      <th>Start Week Day</th>\n",
       "      <th>Start Time</th>\n",
       "      <th>End Hub</th>\n",
       "      <th>...</th>\n",
       "      <th>Duration</th>\n",
       "      <th>Multiple Rental</th>\n",
       "      <th>Ride Cost</th>\n",
       "      <th>Fees</th>\n",
       "      <th>Bonuses</th>\n",
       "      <th>Total Cost</th>\n",
       "      <th>Payment plan</th>\n",
       "      <th>startgeom</th>\n",
       "      <th>endgeom</th>\n",
       "      <th>startaddress</th>\n",
       "    </tr>\n",
       "  </thead>\n",
       "  <tbody>\n",
       "    <tr>\n",
       "      <th>0</th>\n",
       "      <td>762507</td>\n",
       "      <td>11291076</td>\n",
       "      <td>NaN</td>\n",
       "      <td>Phase 1 System Area</td>\n",
       "      <td>44.045575</td>\n",
       "      <td>-123.0945317</td>\n",
       "      <td>5/1/2019</td>\n",
       "      <td>Wednesday</td>\n",
       "      <td>0:04</td>\n",
       "      <td>13th &amp; Lawrence</td>\n",
       "      <td>...</td>\n",
       "      <td>0:03:07</td>\n",
       "      <td>False</td>\n",
       "      <td>1.0</td>\n",
       "      <td>0</td>\n",
       "      <td>-1</td>\n",
       "      <td>0.0</td>\n",
       "      <td>Single Ride</td>\n",
       "      <td>44.045575,-123.0945317</td>\n",
       "      <td>44.04532667,-123.098445</td>\n",
       "      <td>(13th &amp; Olive, Olive Alley, Eugene, Lane Count...</td>\n",
       "    </tr>\n",
       "    <tr>\n",
       "      <th>1</th>\n",
       "      <td>775345</td>\n",
       "      <td>11291083</td>\n",
       "      <td>17th &amp; Hilyard</td>\n",
       "      <td>Phase 1 System Area</td>\n",
       "      <td>44.04107</td>\n",
       "      <td>-123.0819067</td>\n",
       "      <td>5/1/2019</td>\n",
       "      <td>Wednesday</td>\n",
       "      <td>0:10</td>\n",
       "      <td>17th &amp; Pearl, East side</td>\n",
       "      <td>...</td>\n",
       "      <td>0:03:37</td>\n",
       "      <td>False</td>\n",
       "      <td>0.0</td>\n",
       "      <td>0</td>\n",
       "      <td>0</td>\n",
       "      <td>0.0</td>\n",
       "      <td>UO Single Ride</td>\n",
       "      <td>44.04107,-123.0819067</td>\n",
       "      <td>44.04118333,-123.0894917</td>\n",
       "      <td>(Peace Lutheran, East 17th Avenue, College Hil...</td>\n",
       "    </tr>\n",
       "    <tr>\n",
       "      <th>2</th>\n",
       "      <td>784725</td>\n",
       "      <td>11291122</td>\n",
       "      <td>19th and Agate</td>\n",
       "      <td>Phase 1 System Area</td>\n",
       "      <td>44.03919</td>\n",
       "      <td>-123.0695917</td>\n",
       "      <td>5/1/2019</td>\n",
       "      <td>Wednesday</td>\n",
       "      <td>1:03</td>\n",
       "      <td>12th &amp; Willamette</td>\n",
       "      <td>...</td>\n",
       "      <td>0:09:34</td>\n",
       "      <td>False</td>\n",
       "      <td>0.0</td>\n",
       "      <td>0</td>\n",
       "      <td>0</td>\n",
       "      <td>0.0</td>\n",
       "      <td>UO Monthly Plan</td>\n",
       "      <td>44.03919,-123.0695917</td>\n",
       "      <td>44.04650333,-123.0929017</td>\n",
       "      <td>(University of Oregon, Sunset Alley, Eugene, L...</td>\n",
       "    </tr>\n",
       "    <tr>\n",
       "      <th>3</th>\n",
       "      <td>762507</td>\n",
       "      <td>11291148</td>\n",
       "      <td>13th &amp; Lawrence</td>\n",
       "      <td>Phase 1 System Area</td>\n",
       "      <td>44.045325</td>\n",
       "      <td>-123.0984033</td>\n",
       "      <td>5/1/2019</td>\n",
       "      <td>Wednesday</td>\n",
       "      <td>1:37</td>\n",
       "      <td>Broadway &amp; Willamette</td>\n",
       "      <td>...</td>\n",
       "      <td>0:07:48</td>\n",
       "      <td>False</td>\n",
       "      <td>0.0</td>\n",
       "      <td>0</td>\n",
       "      <td>0</td>\n",
       "      <td>0.0</td>\n",
       "      <td>Monthly Plan</td>\n",
       "      <td>44.045325,-123.0984033</td>\n",
       "      <td>44.04964836,-123.0926925</td>\n",
       "      <td>(1307, Lawrence Street, Eugene, Lane County, O...</td>\n",
       "    </tr>\n",
       "    <tr>\n",
       "      <th>4</th>\n",
       "      <td>762507</td>\n",
       "      <td>11291173</td>\n",
       "      <td>10th &amp; Olive SE</td>\n",
       "      <td>Phase 1 System Area</td>\n",
       "      <td>44.04917667</td>\n",
       "      <td>-123.0943933</td>\n",
       "      <td>5/1/2019</td>\n",
       "      <td>Wednesday</td>\n",
       "      <td>2:27</td>\n",
       "      <td>13th &amp; Lawrence</td>\n",
       "      <td>...</td>\n",
       "      <td>0:05:52</td>\n",
       "      <td>False</td>\n",
       "      <td>0.0</td>\n",
       "      <td>0</td>\n",
       "      <td>0</td>\n",
       "      <td>0.0</td>\n",
       "      <td>Monthly Plan</td>\n",
       "      <td>44.04917667,-123.0943933</td>\n",
       "      <td>44.04529333,-123.0984417</td>\n",
       "      <td>(Lane Community College Downtown Campus, West ...</td>\n",
       "    </tr>\n",
       "  </tbody>\n",
       "</table>\n",
       "<p>5 rows × 28 columns</p>\n",
       "</div>"
      ],
      "text/plain": [
       "   User ID  Route ID        Start Hub           Start Area Start Latitude  \\\n",
       "0   762507  11291076              NaN  Phase 1 System Area      44.045575   \n",
       "1   775345  11291083   17th & Hilyard  Phase 1 System Area       44.04107   \n",
       "2   784725  11291122   19th and Agate  Phase 1 System Area       44.03919   \n",
       "3   762507  11291148  13th & Lawrence  Phase 1 System Area      44.045325   \n",
       "4   762507  11291173  10th & Olive SE  Phase 1 System Area    44.04917667   \n",
       "\n",
       "  Start Longitude Start Date Start Week Day Start Time  \\\n",
       "0    -123.0945317   5/1/2019      Wednesday       0:04   \n",
       "1    -123.0819067   5/1/2019      Wednesday       0:10   \n",
       "2    -123.0695917   5/1/2019      Wednesday       1:03   \n",
       "3    -123.0984033   5/1/2019      Wednesday       1:37   \n",
       "4    -123.0943933   5/1/2019      Wednesday       2:27   \n",
       "\n",
       "                   End Hub  ... Duration Multiple Rental Ride Cost Fees  \\\n",
       "0          13th & Lawrence  ...  0:03:07           False       1.0    0   \n",
       "1  17th & Pearl, East side  ...  0:03:37           False       0.0    0   \n",
       "2        12th & Willamette  ...  0:09:34           False       0.0    0   \n",
       "3    Broadway & Willamette  ...  0:07:48           False       0.0    0   \n",
       "4          13th & Lawrence  ...  0:05:52           False       0.0    0   \n",
       "\n",
       "  Bonuses  Total Cost     Payment plan                 startgeom  \\\n",
       "0      -1         0.0      Single Ride    44.045575,-123.0945317   \n",
       "1       0         0.0   UO Single Ride     44.04107,-123.0819067   \n",
       "2       0         0.0  UO Monthly Plan     44.03919,-123.0695917   \n",
       "3       0         0.0     Monthly Plan    44.045325,-123.0984033   \n",
       "4       0         0.0     Monthly Plan  44.04917667,-123.0943933   \n",
       "\n",
       "                    endgeom                                       startaddress  \n",
       "0   44.04532667,-123.098445  (13th & Olive, Olive Alley, Eugene, Lane Count...  \n",
       "1  44.04118333,-123.0894917  (Peace Lutheran, East 17th Avenue, College Hil...  \n",
       "2  44.04650333,-123.0929017  (University of Oregon, Sunset Alley, Eugene, L...  \n",
       "3  44.04964836,-123.0926925  (1307, Lawrence Street, Eugene, Lane County, O...  \n",
       "4  44.04529333,-123.0984417  (Lane Community College Downtown Campus, West ...  \n",
       "\n",
       "[5 rows x 28 columns]"
      ]
     },
     "execution_count": 17,
     "metadata": {},
     "output_type": "execute_result"
    }
   ],
   "source": [
    "df['startaddress'] = df['startgeom'].progress_apply(rgeocode)\n",
    "df.head()"
   ]
  },
  {
   "cell_type": "code",
   "execution_count": 18,
   "id": "eb1f6d9a",
   "metadata": {},
   "outputs": [
    {
     "data": {
      "application/vnd.jupyter.widget-view+json": {
       "model_id": "27258ecb45fa41149e7786bd127efeb1",
       "version_major": 2,
       "version_minor": 0
      },
      "text/plain": [
       "  0%|          | 0/27667 [00:00<?, ?it/s]"
      ]
     },
     "metadata": {},
     "output_type": "display_data"
    },
    {
     "data": {
      "text/html": [
       "<div>\n",
       "<style scoped>\n",
       "    .dataframe tbody tr th:only-of-type {\n",
       "        vertical-align: middle;\n",
       "    }\n",
       "\n",
       "    .dataframe tbody tr th {\n",
       "        vertical-align: top;\n",
       "    }\n",
       "\n",
       "    .dataframe thead th {\n",
       "        text-align: right;\n",
       "    }\n",
       "</style>\n",
       "<table border=\"1\" class=\"dataframe\">\n",
       "  <thead>\n",
       "    <tr style=\"text-align: right;\">\n",
       "      <th></th>\n",
       "      <th>User ID</th>\n",
       "      <th>Route ID</th>\n",
       "      <th>Start Hub</th>\n",
       "      <th>Start Area</th>\n",
       "      <th>Start Latitude</th>\n",
       "      <th>Start Longitude</th>\n",
       "      <th>Start Date</th>\n",
       "      <th>Start Week Day</th>\n",
       "      <th>Start Time</th>\n",
       "      <th>End Hub</th>\n",
       "      <th>...</th>\n",
       "      <th>Multiple Rental</th>\n",
       "      <th>Ride Cost</th>\n",
       "      <th>Fees</th>\n",
       "      <th>Bonuses</th>\n",
       "      <th>Total Cost</th>\n",
       "      <th>Payment plan</th>\n",
       "      <th>startgeom</th>\n",
       "      <th>endgeom</th>\n",
       "      <th>startaddress</th>\n",
       "      <th>endaddress</th>\n",
       "    </tr>\n",
       "  </thead>\n",
       "  <tbody>\n",
       "    <tr>\n",
       "      <th>0</th>\n",
       "      <td>762507</td>\n",
       "      <td>11291076</td>\n",
       "      <td>NaN</td>\n",
       "      <td>Phase 1 System Area</td>\n",
       "      <td>44.045575</td>\n",
       "      <td>-123.0945317</td>\n",
       "      <td>5/1/2019</td>\n",
       "      <td>Wednesday</td>\n",
       "      <td>0:04</td>\n",
       "      <td>13th &amp; Lawrence</td>\n",
       "      <td>...</td>\n",
       "      <td>False</td>\n",
       "      <td>1.0</td>\n",
       "      <td>0</td>\n",
       "      <td>-1</td>\n",
       "      <td>0.0</td>\n",
       "      <td>Single Ride</td>\n",
       "      <td>44.045575,-123.0945317</td>\n",
       "      <td>44.04532667,-123.098445</td>\n",
       "      <td>(13th &amp; Olive, Olive Alley, Eugene, Lane Count...</td>\n",
       "      <td>(1306, Lawrence Street, Eugene, Lane County, O...</td>\n",
       "    </tr>\n",
       "    <tr>\n",
       "      <th>1</th>\n",
       "      <td>775345</td>\n",
       "      <td>11291083</td>\n",
       "      <td>17th &amp; Hilyard</td>\n",
       "      <td>Phase 1 System Area</td>\n",
       "      <td>44.04107</td>\n",
       "      <td>-123.0819067</td>\n",
       "      <td>5/1/2019</td>\n",
       "      <td>Wednesday</td>\n",
       "      <td>0:10</td>\n",
       "      <td>17th &amp; Pearl, East side</td>\n",
       "      <td>...</td>\n",
       "      <td>False</td>\n",
       "      <td>0.0</td>\n",
       "      <td>0</td>\n",
       "      <td>0</td>\n",
       "      <td>0.0</td>\n",
       "      <td>UO Single Ride</td>\n",
       "      <td>44.04107,-123.0819067</td>\n",
       "      <td>44.04118333,-123.0894917</td>\n",
       "      <td>(Peace Lutheran, East 17th Avenue, College Hil...</td>\n",
       "      <td>(The Pearl, 1661, Pearl Street, College Hill, ...</td>\n",
       "    </tr>\n",
       "    <tr>\n",
       "      <th>2</th>\n",
       "      <td>784725</td>\n",
       "      <td>11291122</td>\n",
       "      <td>19th and Agate</td>\n",
       "      <td>Phase 1 System Area</td>\n",
       "      <td>44.03919</td>\n",
       "      <td>-123.0695917</td>\n",
       "      <td>5/1/2019</td>\n",
       "      <td>Wednesday</td>\n",
       "      <td>1:03</td>\n",
       "      <td>12th &amp; Willamette</td>\n",
       "      <td>...</td>\n",
       "      <td>False</td>\n",
       "      <td>0.0</td>\n",
       "      <td>0</td>\n",
       "      <td>0</td>\n",
       "      <td>0.0</td>\n",
       "      <td>UO Monthly Plan</td>\n",
       "      <td>44.03919,-123.0695917</td>\n",
       "      <td>44.04650333,-123.0929017</td>\n",
       "      <td>(University of Oregon, Sunset Alley, Eugene, L...</td>\n",
       "      <td>(13th and Olive (Willamette), West 13th Avenue...</td>\n",
       "    </tr>\n",
       "    <tr>\n",
       "      <th>3</th>\n",
       "      <td>762507</td>\n",
       "      <td>11291148</td>\n",
       "      <td>13th &amp; Lawrence</td>\n",
       "      <td>Phase 1 System Area</td>\n",
       "      <td>44.045325</td>\n",
       "      <td>-123.0984033</td>\n",
       "      <td>5/1/2019</td>\n",
       "      <td>Wednesday</td>\n",
       "      <td>1:37</td>\n",
       "      <td>Broadway &amp; Willamette</td>\n",
       "      <td>...</td>\n",
       "      <td>False</td>\n",
       "      <td>0.0</td>\n",
       "      <td>0</td>\n",
       "      <td>0</td>\n",
       "      <td>0.0</td>\n",
       "      <td>Monthly Plan</td>\n",
       "      <td>44.045325,-123.0984033</td>\n",
       "      <td>44.04964836,-123.0926925</td>\n",
       "      <td>(1307, Lawrence Street, Eugene, Lane County, O...</td>\n",
       "      <td>(Kesey Square, Eugene, Lane County, Oregon, Un...</td>\n",
       "    </tr>\n",
       "    <tr>\n",
       "      <th>4</th>\n",
       "      <td>762507</td>\n",
       "      <td>11291173</td>\n",
       "      <td>10th &amp; Olive SE</td>\n",
       "      <td>Phase 1 System Area</td>\n",
       "      <td>44.04917667</td>\n",
       "      <td>-123.0943933</td>\n",
       "      <td>5/1/2019</td>\n",
       "      <td>Wednesday</td>\n",
       "      <td>2:27</td>\n",
       "      <td>13th &amp; Lawrence</td>\n",
       "      <td>...</td>\n",
       "      <td>False</td>\n",
       "      <td>0.0</td>\n",
       "      <td>0</td>\n",
       "      <td>0</td>\n",
       "      <td>0.0</td>\n",
       "      <td>Monthly Plan</td>\n",
       "      <td>44.04917667,-123.0943933</td>\n",
       "      <td>44.04529333,-123.0984417</td>\n",
       "      <td>(Lane Community College Downtown Campus, West ...</td>\n",
       "      <td>(1308, Lawrence Street, Eugene, Lane County, O...</td>\n",
       "    </tr>\n",
       "  </tbody>\n",
       "</table>\n",
       "<p>5 rows × 29 columns</p>\n",
       "</div>"
      ],
      "text/plain": [
       "   User ID  Route ID        Start Hub           Start Area Start Latitude  \\\n",
       "0   762507  11291076              NaN  Phase 1 System Area      44.045575   \n",
       "1   775345  11291083   17th & Hilyard  Phase 1 System Area       44.04107   \n",
       "2   784725  11291122   19th and Agate  Phase 1 System Area       44.03919   \n",
       "3   762507  11291148  13th & Lawrence  Phase 1 System Area      44.045325   \n",
       "4   762507  11291173  10th & Olive SE  Phase 1 System Area    44.04917667   \n",
       "\n",
       "  Start Longitude Start Date Start Week Day Start Time  \\\n",
       "0    -123.0945317   5/1/2019      Wednesday       0:04   \n",
       "1    -123.0819067   5/1/2019      Wednesday       0:10   \n",
       "2    -123.0695917   5/1/2019      Wednesday       1:03   \n",
       "3    -123.0984033   5/1/2019      Wednesday       1:37   \n",
       "4    -123.0943933   5/1/2019      Wednesday       2:27   \n",
       "\n",
       "                   End Hub  ... Multiple Rental Ride Cost Fees Bonuses  \\\n",
       "0          13th & Lawrence  ...           False       1.0    0      -1   \n",
       "1  17th & Pearl, East side  ...           False       0.0    0       0   \n",
       "2        12th & Willamette  ...           False       0.0    0       0   \n",
       "3    Broadway & Willamette  ...           False       0.0    0       0   \n",
       "4          13th & Lawrence  ...           False       0.0    0       0   \n",
       "\n",
       "  Total Cost     Payment plan                 startgeom  \\\n",
       "0        0.0      Single Ride    44.045575,-123.0945317   \n",
       "1        0.0   UO Single Ride     44.04107,-123.0819067   \n",
       "2        0.0  UO Monthly Plan     44.03919,-123.0695917   \n",
       "3        0.0     Monthly Plan    44.045325,-123.0984033   \n",
       "4        0.0     Monthly Plan  44.04917667,-123.0943933   \n",
       "\n",
       "                    endgeom  \\\n",
       "0   44.04532667,-123.098445   \n",
       "1  44.04118333,-123.0894917   \n",
       "2  44.04650333,-123.0929017   \n",
       "3  44.04964836,-123.0926925   \n",
       "4  44.04529333,-123.0984417   \n",
       "\n",
       "                                        startaddress  \\\n",
       "0  (13th & Olive, Olive Alley, Eugene, Lane Count...   \n",
       "1  (Peace Lutheran, East 17th Avenue, College Hil...   \n",
       "2  (University of Oregon, Sunset Alley, Eugene, L...   \n",
       "3  (1307, Lawrence Street, Eugene, Lane County, O...   \n",
       "4  (Lane Community College Downtown Campus, West ...   \n",
       "\n",
       "                                          endaddress  \n",
       "0  (1306, Lawrence Street, Eugene, Lane County, O...  \n",
       "1  (The Pearl, 1661, Pearl Street, College Hill, ...  \n",
       "2  (13th and Olive (Willamette), West 13th Avenue...  \n",
       "3  (Kesey Square, Eugene, Lane County, Oregon, Un...  \n",
       "4  (1308, Lawrence Street, Eugene, Lane County, O...  \n",
       "\n",
       "[5 rows x 29 columns]"
      ]
     },
     "execution_count": 18,
     "metadata": {},
     "output_type": "execute_result"
    }
   ],
   "source": [
    "df['endaddress'] = df['endgeom'].progress_apply(rgeocode)\n",
    "df.head()"
   ]
  },
  {
   "cell_type": "code",
   "execution_count": 22,
   "id": "329f2731",
   "metadata": {},
   "outputs": [],
   "source": [
    "def getLoc(x):\n",
    "    if x is not None:\n",
    "        loc = x.raw['address']\n",
    "        a = [key for key, value in loc.items()][0]\n",
    "        b = [key for key, value in loc.items()][1]\n",
    "        if  a == 'house_number':\n",
    "            res = loc['road'] + ' ' + loc['house_number']\n",
    "        else:\n",
    "            res = loc[a]\n",
    "            if res == \"University of Oregon\":\n",
    "                res = \"UO \" + loc[b]\n",
    "    else:\n",
    "        res = \"\"\n",
    "    return res"
   ]
  },
  {
   "cell_type": "code",
   "execution_count": 29,
   "id": "90870d87",
   "metadata": {},
   "outputs": [],
   "source": [
    "df['startname'] = df.startaddress.apply(lambda x: getLoc(x))"
   ]
  },
  {
   "cell_type": "code",
   "execution_count": 30,
   "id": "1d1557df",
   "metadata": {},
   "outputs": [],
   "source": [
    "df['endname'] = df.endaddress.apply(lambda x: getLoc(x))"
   ]
  },
  {
   "cell_type": "code",
   "execution_count": 32,
   "id": "7f39cb97",
   "metadata": {},
   "outputs": [
    {
     "data": {
      "text/plain": [
       "Index(['User ID', 'Route ID', 'Start Hub', 'Start Area', 'Start Latitude',\n",
       "       'Start Longitude', 'Start Date', 'Start Week Day', 'Start Time',\n",
       "       'End Hub', 'End Area', 'End Latitude', 'End Longitude', 'End Date',\n",
       "       'End Time', 'Bike ID', 'Bike Name', 'Distance [Miles]', 'Duration',\n",
       "       'Multiple Rental', 'Ride Cost', 'Fees', 'Bonuses', 'Total Cost',\n",
       "       'Payment plan', 'startgeom', 'endgeom', 'startaddress', 'endaddress',\n",
       "       'startname', 'endname'],\n",
       "      dtype='object')"
      ]
     },
     "execution_count": 32,
     "metadata": {},
     "output_type": "execute_result"
    }
   ],
   "source": [
    "df.columns"
   ]
  },
  {
   "cell_type": "code",
   "execution_count": 44,
   "id": "d64db711",
   "metadata": {},
   "outputs": [],
   "source": [
    "df.loc[df['Start Hub'].isnull(), 'Start Hub'] = df.loc[df['Start Hub'].isnull(), 'startname']"
   ]
  },
  {
   "cell_type": "code",
   "execution_count": 45,
   "id": "19122dfc",
   "metadata": {},
   "outputs": [],
   "source": [
    "df.loc[df['End Hub'].isnull(), 'End Hub'] = df.loc[df['End Hub'].isnull(), 'endname']"
   ]
  },
  {
   "cell_type": "code",
   "execution_count": 50,
   "id": "73fdad2b",
   "metadata": {},
   "outputs": [],
   "source": [
    "df.to_csv(os.path.join(inpath, \"trips_peace_health_rides_05_01_2019-05_31_2019_updated.csv\"), index=False)"
   ]
  },
  {
   "cell_type": "code",
   "execution_count": 51,
   "id": "875cb774",
   "metadata": {},
   "outputs": [],
   "source": [
    "ndf = df.drop(['startgeom', 'endgeom', 'startaddress', 'endaddress',\n",
    "       'startname', 'endname'], axis=1)"
   ]
  },
  {
   "cell_type": "code",
   "execution_count": 54,
   "id": "7c0fbc78",
   "metadata": {},
   "outputs": [],
   "source": [
    "outpath = r\"T:\\DCProjects\\StoryMap\\BikeCounting\\BikeShare\\Data\\Output\""
   ]
  },
  {
   "cell_type": "code",
   "execution_count": 55,
   "id": "e38746bd",
   "metadata": {},
   "outputs": [],
   "source": [
    "ndf.to_csv(os.path.join(outpath, \"trips_peace_health_rides_05_01_2019-05_31_2019.csv\"), index=False)"
   ]
  },
  {
   "cell_type": "code",
   "execution_count": 1,
   "id": "0c51fac9",
   "metadata": {},
   "outputs": [],
   "source": [
    "path = r\"T:\\DCProjects\\StoryMap\\BikeCounting\\BikeShare\\Data\\Output\\review\""
   ]
  },
  {
   "cell_type": "code",
   "execution_count": 5,
   "id": "b3e3e164",
   "metadata": {},
   "outputs": [],
   "source": [
    "files = glob.glob(os.path.join(path, \"*.csv\"))"
   ]
  },
  {
   "cell_type": "code",
   "execution_count": 73,
   "id": "273cc80b",
   "metadata": {},
   "outputs": [],
   "source": [
    "def review_hubs(re_df, strp='Eugene'):\n",
    "    for hub in [\"Start\", \"End\"]:\n",
    "        if hub+' Hub' in re_df.columns:\n",
    "            re = re_df[re_df[hub+' Hub'].str.contains(strp, na=False)][[hub+' Latitude', hub+' Longitude']]\n",
    "        else:\n",
    "            re = re_df[re_df[hub+'.Hub'].str.contains(strp, na=False)][[hub+'.Latitude', hub+'.Longitude']]\n",
    "        \n",
    "        if re.shape[0] > 0:\n",
    "            re.columns = ['Lat', 'Lon']\n",
    "            re[\"geom\"] = re[\"Lat\"].map(str) + ',' + re['Lon'].map(str)\n",
    "            locator = Nominatim(user_agent=\"measurements\", timeout=10)\n",
    "            rgeocode = RateLimiter(locator.reverse, min_delay_seconds=0.00001)\n",
    "            tqdm_notebook.pandas()\n",
    "            re['address'] = re['geom'].progress_apply(rgeocode)\n",
    "            re['name'] =re.address.apply(getLoc)\n",
    "            if hub+' Hub' in re_df.columns:\n",
    "                re_df.loc[re_df[hub+' Hub'].str.contains(strp, na=False), hub+' Hub'] = re.name.values  \n",
    "            else:\n",
    "                re_df.loc[re_df[hub+'.Hub'].str.contains(strp, na=False), hub+'.Hub'] = re.name.values\n",
    "    return re_df"
   ]
  },
  {
   "cell_type": "code",
   "execution_count": 20,
   "id": "6f161d96",
   "metadata": {},
   "outputs": [],
   "source": [
    "def review_hubs(re_df):\n",
    "    for hub in [\"Start\", \"End\"]:\n",
    "        if hub+' Hub' in re_df.columns:\n",
    "            if re_df[re_df[hub+' Hub'].isnull()].shape[0] > 0:\n",
    "                re = re_df[re_df[hub+' Hub'].isnull()][[hub+' Latitude', hub+' Longitude']]\n",
    "            else:\n",
    "                re = re_df[re_df[hub+' Hub'].str.isnumeric()][[hub+' Latitude', hub+' Longitude']]\n",
    "        else:\n",
    "            re = re_df[re_df[hub+'.Hub'].str.isnumeric()][[hub+'.Latitude', hub+'.Longitude']]\n",
    "        \n",
    "        if re.shape[0] > 0:\n",
    "            re.columns = ['Lat', 'Lon']\n",
    "            re[\"geom\"] = re[\"Lat\"].map(str) + ',' + re['Lon'].map(str)\n",
    "            locator = Nominatim(user_agent=\"measurements\", timeout=10)\n",
    "            rgeocode = RateLimiter(locator.reverse, min_delay_seconds=0.00001)\n",
    "            tqdm_notebook.pandas()\n",
    "            re['address'] = re['geom'].progress_apply(rgeocode)\n",
    "            re['name'] =re.address.apply(getLoc)\n",
    "            if hub+' Hub' in re_df.columns:\n",
    "                if re_df[re_df[hub+' Hub'].isnull()].shape[0] > 0:\n",
    "                    re_df.loc[re_df[hub+' Hub'].isnull(), hub+' Hub'] = re.name.values\n",
    "                else:\n",
    "                    re_df.loc[re_df[hub+' Hub'].str.isnumeric(), hub+' Hub'] = re.name.values  \n",
    "            else:\n",
    "                re_df.loc[re_df[hub+'.Hub'].str.isnumeric(), hub+'.Hub'] = re.name.values\n",
    "    return re_df"
   ]
  },
  {
   "cell_type": "code",
   "execution_count": 82,
   "id": "b244f1b8",
   "metadata": {},
   "outputs": [
    {
     "name": "stdout",
     "output_type": "stream",
     "text": [
      "T:\\DCProjects\\StoryMap\\BikeCounting\\BikeShare\\Data\\Output\\review\\trips_peace_health_rides_01_01_2019-01_31_2019.csv\n"
     ]
    },
    {
     "data": {
      "application/vnd.jupyter.widget-view+json": {
       "model_id": "afc789880995488680fcbcf8b03759fa",
       "version_major": 2,
       "version_minor": 0
      },
      "text/plain": [
       "  0%|          | 0/10 [00:00<?, ?it/s]"
      ]
     },
     "metadata": {},
     "output_type": "display_data"
    },
    {
     "data": {
      "application/vnd.jupyter.widget-view+json": {
       "model_id": "a5e8b69031d34314ab7bc0154ebb9a5b",
       "version_major": 2,
       "version_minor": 0
      },
      "text/plain": [
       "  0%|          | 0/2 [00:00<?, ?it/s]"
      ]
     },
     "metadata": {},
     "output_type": "display_data"
    },
    {
     "name": "stdout",
     "output_type": "stream",
     "text": [
      "T:\\DCProjects\\StoryMap\\BikeCounting\\BikeShare\\Data\\Output\\review\\trips_peace_health_rides_01_01_2020-01_31_2020.csv\n"
     ]
    },
    {
     "data": {
      "application/vnd.jupyter.widget-view+json": {
       "model_id": "67cfb7f43b4a42b48f4a558576832579",
       "version_major": 2,
       "version_minor": 0
      },
      "text/plain": [
       "  0%|          | 0/1 [00:00<?, ?it/s]"
      ]
     },
     "metadata": {},
     "output_type": "display_data"
    },
    {
     "data": {
      "application/vnd.jupyter.widget-view+json": {
       "model_id": "8bde20339ed24bd192c6604decd01a9c",
       "version_major": 2,
       "version_minor": 0
      },
      "text/plain": [
       "  0%|          | 0/3 [00:00<?, ?it/s]"
      ]
     },
     "metadata": {},
     "output_type": "display_data"
    },
    {
     "name": "stdout",
     "output_type": "stream",
     "text": [
      "T:\\DCProjects\\StoryMap\\BikeCounting\\BikeShare\\Data\\Output\\review\\trips_peace_health_rides_01_01_2021-01_31_2021.csv\n"
     ]
    },
    {
     "data": {
      "application/vnd.jupyter.widget-view+json": {
       "model_id": "ee85f44c12874b8a83d67cb149b89d0d",
       "version_major": 2,
       "version_minor": 0
      },
      "text/plain": [
       "  0%|          | 0/1 [00:00<?, ?it/s]"
      ]
     },
     "metadata": {},
     "output_type": "display_data"
    },
    {
     "name": "stdout",
     "output_type": "stream",
     "text": [
      "T:\\DCProjects\\StoryMap\\BikeCounting\\BikeShare\\Data\\Output\\review\\trips_peace_health_rides_01_01_2022-01_31_2022.csv\n"
     ]
    },
    {
     "data": {
      "application/vnd.jupyter.widget-view+json": {
       "model_id": "5f803f11328c45a082c49d80df8f53b3",
       "version_major": 2,
       "version_minor": 0
      },
      "text/plain": [
       "  0%|          | 0/1 [00:00<?, ?it/s]"
      ]
     },
     "metadata": {},
     "output_type": "display_data"
    },
    {
     "data": {
      "application/vnd.jupyter.widget-view+json": {
       "model_id": "89caaedfe48d46869e16d3e8a81ba113",
       "version_major": 2,
       "version_minor": 0
      },
      "text/plain": [
       "  0%|          | 0/1 [00:00<?, ?it/s]"
      ]
     },
     "metadata": {},
     "output_type": "display_data"
    },
    {
     "name": "stdout",
     "output_type": "stream",
     "text": [
      "T:\\DCProjects\\StoryMap\\BikeCounting\\BikeShare\\Data\\Output\\review\\trips_peace_health_rides_02_01_2019-02_28_2019.csv\n"
     ]
    },
    {
     "data": {
      "application/vnd.jupyter.widget-view+json": {
       "model_id": "c470210464924a09a2c7cadcbce82b1a",
       "version_major": 2,
       "version_minor": 0
      },
      "text/plain": [
       "  0%|          | 0/3 [00:00<?, ?it/s]"
      ]
     },
     "metadata": {},
     "output_type": "display_data"
    },
    {
     "name": "stdout",
     "output_type": "stream",
     "text": [
      "T:\\DCProjects\\StoryMap\\BikeCounting\\BikeShare\\Data\\Output\\review\\trips_peace_health_rides_02_01_2020-02_29_2020.csv\n"
     ]
    },
    {
     "data": {
      "application/vnd.jupyter.widget-view+json": {
       "model_id": "2879af77aa564ababb1986a6a652f073",
       "version_major": 2,
       "version_minor": 0
      },
      "text/plain": [
       "  0%|          | 0/2 [00:00<?, ?it/s]"
      ]
     },
     "metadata": {},
     "output_type": "display_data"
    },
    {
     "data": {
      "application/vnd.jupyter.widget-view+json": {
       "model_id": "97ceb628c662498099d9be0c96602335",
       "version_major": 2,
       "version_minor": 0
      },
      "text/plain": [
       "  0%|          | 0/2 [00:00<?, ?it/s]"
      ]
     },
     "metadata": {},
     "output_type": "display_data"
    },
    {
     "name": "stdout",
     "output_type": "stream",
     "text": [
      "T:\\DCProjects\\StoryMap\\BikeCounting\\BikeShare\\Data\\Output\\review\\trips_peace_health_rides_02_01_2021-02_28_2021.csv\n",
      "T:\\DCProjects\\StoryMap\\BikeCounting\\BikeShare\\Data\\Output\\review\\trips_peace_health_rides_02_01_2022-02_28_2022.csv\n"
     ]
    },
    {
     "data": {
      "application/vnd.jupyter.widget-view+json": {
       "model_id": "943565ee1d864806924176f54971082e",
       "version_major": 2,
       "version_minor": 0
      },
      "text/plain": [
       "  0%|          | 0/3 [00:00<?, ?it/s]"
      ]
     },
     "metadata": {},
     "output_type": "display_data"
    },
    {
     "data": {
      "application/vnd.jupyter.widget-view+json": {
       "model_id": "71b9c5a602304fec9a0704fbccaba9aa",
       "version_major": 2,
       "version_minor": 0
      },
      "text/plain": [
       "  0%|          | 0/3 [00:00<?, ?it/s]"
      ]
     },
     "metadata": {},
     "output_type": "display_data"
    },
    {
     "name": "stdout",
     "output_type": "stream",
     "text": [
      "T:\\DCProjects\\StoryMap\\BikeCounting\\BikeShare\\Data\\Output\\review\\trips_peace_health_rides_03_01_2019-03_31_2019.csv\n"
     ]
    },
    {
     "data": {
      "application/vnd.jupyter.widget-view+json": {
       "model_id": "38c4e22335f44e7ba0971b06d664831f",
       "version_major": 2,
       "version_minor": 0
      },
      "text/plain": [
       "  0%|          | 0/5 [00:00<?, ?it/s]"
      ]
     },
     "metadata": {},
     "output_type": "display_data"
    },
    {
     "data": {
      "application/vnd.jupyter.widget-view+json": {
       "model_id": "b97fc87e3dbd423e9b59db0add2c984c",
       "version_major": 2,
       "version_minor": 0
      },
      "text/plain": [
       "  0%|          | 0/1 [00:00<?, ?it/s]"
      ]
     },
     "metadata": {},
     "output_type": "display_data"
    },
    {
     "name": "stdout",
     "output_type": "stream",
     "text": [
      "T:\\DCProjects\\StoryMap\\BikeCounting\\BikeShare\\Data\\Output\\review\\trips_peace_health_rides_03_01_2020-03_31_2020.csv\n"
     ]
    },
    {
     "data": {
      "application/vnd.jupyter.widget-view+json": {
       "model_id": "0f30fa7b2dda4ba8929797c89113587d",
       "version_major": 2,
       "version_minor": 0
      },
      "text/plain": [
       "  0%|          | 0/2 [00:00<?, ?it/s]"
      ]
     },
     "metadata": {},
     "output_type": "display_data"
    },
    {
     "data": {
      "application/vnd.jupyter.widget-view+json": {
       "model_id": "5cb3fd00ce774de988da0d316fd9f0d4",
       "version_major": 2,
       "version_minor": 0
      },
      "text/plain": [
       "  0%|          | 0/2 [00:00<?, ?it/s]"
      ]
     },
     "metadata": {},
     "output_type": "display_data"
    },
    {
     "name": "stdout",
     "output_type": "stream",
     "text": [
      "T:\\DCProjects\\StoryMap\\BikeCounting\\BikeShare\\Data\\Output\\review\\trips_peace_health_rides_03_01_2021-03_31_2021.csv\n"
     ]
    },
    {
     "data": {
      "application/vnd.jupyter.widget-view+json": {
       "model_id": "cc233e0ad32447258f4c9bbddd85a5ec",
       "version_major": 2,
       "version_minor": 0
      },
      "text/plain": [
       "  0%|          | 0/1 [00:00<?, ?it/s]"
      ]
     },
     "metadata": {},
     "output_type": "display_data"
    },
    {
     "name": "stdout",
     "output_type": "stream",
     "text": [
      "T:\\DCProjects\\StoryMap\\BikeCounting\\BikeShare\\Data\\Output\\review\\trips_peace_health_rides_03_01_2022-03_31_2022.csv\n"
     ]
    },
    {
     "data": {
      "application/vnd.jupyter.widget-view+json": {
       "model_id": "f670bccbe7e84a77b2b8868cb047ec70",
       "version_major": 2,
       "version_minor": 0
      },
      "text/plain": [
       "  0%|          | 0/2 [00:00<?, ?it/s]"
      ]
     },
     "metadata": {},
     "output_type": "display_data"
    },
    {
     "data": {
      "application/vnd.jupyter.widget-view+json": {
       "model_id": "e38007a2f2944d69a6059dd9a70303d4",
       "version_major": 2,
       "version_minor": 0
      },
      "text/plain": [
       "  0%|          | 0/5 [00:00<?, ?it/s]"
      ]
     },
     "metadata": {},
     "output_type": "display_data"
    },
    {
     "name": "stdout",
     "output_type": "stream",
     "text": [
      "T:\\DCProjects\\StoryMap\\BikeCounting\\BikeShare\\Data\\Output\\review\\trips_peace_health_rides_04_01_2019-04_30_2019.csv\n"
     ]
    },
    {
     "data": {
      "application/vnd.jupyter.widget-view+json": {
       "model_id": "81c55915002b4b64b5163ff3ebb0412c",
       "version_major": 2,
       "version_minor": 0
      },
      "text/plain": [
       "  0%|          | 0/12 [00:00<?, ?it/s]"
      ]
     },
     "metadata": {},
     "output_type": "display_data"
    },
    {
     "data": {
      "application/vnd.jupyter.widget-view+json": {
       "model_id": "325ac268f15a46a0834bcb62f734ba06",
       "version_major": 2,
       "version_minor": 0
      },
      "text/plain": [
       "  0%|          | 0/4 [00:00<?, ?it/s]"
      ]
     },
     "metadata": {},
     "output_type": "display_data"
    },
    {
     "name": "stdout",
     "output_type": "stream",
     "text": [
      "T:\\DCProjects\\StoryMap\\BikeCounting\\BikeShare\\Data\\Output\\review\\trips_peace_health_rides_04_01_2020-04_30_2020.csv\n"
     ]
    },
    {
     "data": {
      "application/vnd.jupyter.widget-view+json": {
       "model_id": "9f87e6360a664219ae9e26ee66cf7287",
       "version_major": 2,
       "version_minor": 0
      },
      "text/plain": [
       "  0%|          | 0/1 [00:00<?, ?it/s]"
      ]
     },
     "metadata": {},
     "output_type": "display_data"
    },
    {
     "data": {
      "application/vnd.jupyter.widget-view+json": {
       "model_id": "f715bb4a59f94b55b2313eb4892f7e91",
       "version_major": 2,
       "version_minor": 0
      },
      "text/plain": [
       "  0%|          | 0/1 [00:00<?, ?it/s]"
      ]
     },
     "metadata": {},
     "output_type": "display_data"
    },
    {
     "name": "stdout",
     "output_type": "stream",
     "text": [
      "T:\\DCProjects\\StoryMap\\BikeCounting\\BikeShare\\Data\\Output\\review\\trips_peace_health_rides_04_01_2021-04_30_2021.csv\n",
      "T:\\DCProjects\\StoryMap\\BikeCounting\\BikeShare\\Data\\Output\\review\\trips_peace_health_rides_05_01_2018-05_31_2018.csv\n"
     ]
    },
    {
     "data": {
      "application/vnd.jupyter.widget-view+json": {
       "model_id": "6fa4103fc4104d0eb016d4b44435f229",
       "version_major": 2,
       "version_minor": 0
      },
      "text/plain": [
       "  0%|          | 0/11 [00:00<?, ?it/s]"
      ]
     },
     "metadata": {},
     "output_type": "display_data"
    },
    {
     "data": {
      "application/vnd.jupyter.widget-view+json": {
       "model_id": "58bb42f9a4104f529cb56d504220134e",
       "version_major": 2,
       "version_minor": 0
      },
      "text/plain": [
       "  0%|          | 0/4 [00:00<?, ?it/s]"
      ]
     },
     "metadata": {},
     "output_type": "display_data"
    },
    {
     "name": "stdout",
     "output_type": "stream",
     "text": [
      "T:\\DCProjects\\StoryMap\\BikeCounting\\BikeShare\\Data\\Output\\review\\trips_peace_health_rides_05_01_2019-05_31_2019.csv\n"
     ]
    },
    {
     "data": {
      "application/vnd.jupyter.widget-view+json": {
       "model_id": "c39b720581484408a8f02013e63dcd10",
       "version_major": 2,
       "version_minor": 0
      },
      "text/plain": [
       "  0%|          | 0/5 [00:00<?, ?it/s]"
      ]
     },
     "metadata": {},
     "output_type": "display_data"
    },
    {
     "data": {
      "application/vnd.jupyter.widget-view+json": {
       "model_id": "8569a3417f4a47cc9184d6c11b47e387",
       "version_major": 2,
       "version_minor": 0
      },
      "text/plain": [
       "  0%|          | 0/2 [00:00<?, ?it/s]"
      ]
     },
     "metadata": {},
     "output_type": "display_data"
    },
    {
     "name": "stdout",
     "output_type": "stream",
     "text": [
      "T:\\DCProjects\\StoryMap\\BikeCounting\\BikeShare\\Data\\Output\\review\\trips_peace_health_rides_05_01_2020-05_31_2020.csv\n"
     ]
    },
    {
     "data": {
      "application/vnd.jupyter.widget-view+json": {
       "model_id": "e26b53c621e84b94a71c5c002422cc82",
       "version_major": 2,
       "version_minor": 0
      },
      "text/plain": [
       "  0%|          | 0/1 [00:00<?, ?it/s]"
      ]
     },
     "metadata": {},
     "output_type": "display_data"
    },
    {
     "data": {
      "application/vnd.jupyter.widget-view+json": {
       "model_id": "60d5b40e00864bd8ba534b25beb9c393",
       "version_major": 2,
       "version_minor": 0
      },
      "text/plain": [
       "  0%|          | 0/2 [00:00<?, ?it/s]"
      ]
     },
     "metadata": {},
     "output_type": "display_data"
    },
    {
     "name": "stdout",
     "output_type": "stream",
     "text": [
      "T:\\DCProjects\\StoryMap\\BikeCounting\\BikeShare\\Data\\Output\\review\\trips_peace_health_rides_05_01_2021-05_31_2021.csv\n"
     ]
    },
    {
     "data": {
      "application/vnd.jupyter.widget-view+json": {
       "model_id": "c4156b316a014612b4d2948dff587709",
       "version_major": 2,
       "version_minor": 0
      },
      "text/plain": [
       "  0%|          | 0/4 [00:00<?, ?it/s]"
      ]
     },
     "metadata": {},
     "output_type": "display_data"
    },
    {
     "data": {
      "application/vnd.jupyter.widget-view+json": {
       "model_id": "2af9ee1e05914da79c52c6d239649e4d",
       "version_major": 2,
       "version_minor": 0
      },
      "text/plain": [
       "  0%|          | 0/3 [00:00<?, ?it/s]"
      ]
     },
     "metadata": {},
     "output_type": "display_data"
    },
    {
     "name": "stdout",
     "output_type": "stream",
     "text": [
      "T:\\DCProjects\\StoryMap\\BikeCounting\\BikeShare\\Data\\Output\\review\\trips_peace_health_rides_06_01_2018-06_30_2018.csv\n"
     ]
    },
    {
     "data": {
      "application/vnd.jupyter.widget-view+json": {
       "model_id": "8c85304e9be64439933a5cb40fd95bbb",
       "version_major": 2,
       "version_minor": 0
      },
      "text/plain": [
       "  0%|          | 0/4 [00:00<?, ?it/s]"
      ]
     },
     "metadata": {},
     "output_type": "display_data"
    },
    {
     "data": {
      "application/vnd.jupyter.widget-view+json": {
       "model_id": "39385ab562c14cbba09a2e80727262db",
       "version_major": 2,
       "version_minor": 0
      },
      "text/plain": [
       "  0%|          | 0/4 [00:00<?, ?it/s]"
      ]
     },
     "metadata": {},
     "output_type": "display_data"
    },
    {
     "name": "stdout",
     "output_type": "stream",
     "text": [
      "T:\\DCProjects\\StoryMap\\BikeCounting\\BikeShare\\Data\\Output\\review\\trips_peace_health_rides_06_01_2019-06_30_2019.csv\n"
     ]
    },
    {
     "data": {
      "application/vnd.jupyter.widget-view+json": {
       "model_id": "c3c4daec53f441458fe8df4d6288cf56",
       "version_major": 2,
       "version_minor": 0
      },
      "text/plain": [
       "  0%|          | 0/10 [00:00<?, ?it/s]"
      ]
     },
     "metadata": {},
     "output_type": "display_data"
    },
    {
     "data": {
      "application/vnd.jupyter.widget-view+json": {
       "model_id": "912c3905d00840d99d21a4e11d0edcbb",
       "version_major": 2,
       "version_minor": 0
      },
      "text/plain": [
       "  0%|          | 0/6 [00:00<?, ?it/s]"
      ]
     },
     "metadata": {},
     "output_type": "display_data"
    },
    {
     "name": "stdout",
     "output_type": "stream",
     "text": [
      "T:\\DCProjects\\StoryMap\\BikeCounting\\BikeShare\\Data\\Output\\review\\trips_peace_health_rides_06_01_2020-06_30_2020.csv\n"
     ]
    },
    {
     "data": {
      "application/vnd.jupyter.widget-view+json": {
       "model_id": "20cf8ef9cdf840a7ab92658eb4125a6e",
       "version_major": 2,
       "version_minor": 0
      },
      "text/plain": [
       "  0%|          | 0/7 [00:00<?, ?it/s]"
      ]
     },
     "metadata": {},
     "output_type": "display_data"
    },
    {
     "data": {
      "application/vnd.jupyter.widget-view+json": {
       "model_id": "f46caedf215a48c596598293fc0b58ab",
       "version_major": 2,
       "version_minor": 0
      },
      "text/plain": [
       "  0%|          | 0/7 [00:00<?, ?it/s]"
      ]
     },
     "metadata": {},
     "output_type": "display_data"
    },
    {
     "name": "stdout",
     "output_type": "stream",
     "text": [
      "T:\\DCProjects\\StoryMap\\BikeCounting\\BikeShare\\Data\\Output\\review\\trips_peace_health_rides_06_01_2021-06_30_2021.csv\n"
     ]
    },
    {
     "data": {
      "application/vnd.jupyter.widget-view+json": {
       "model_id": "720ff9533ebc4a088807c04a2b3d7da0",
       "version_major": 2,
       "version_minor": 0
      },
      "text/plain": [
       "  0%|          | 0/4 [00:00<?, ?it/s]"
      ]
     },
     "metadata": {},
     "output_type": "display_data"
    },
    {
     "data": {
      "application/vnd.jupyter.widget-view+json": {
       "model_id": "639ada58973a44d296e0a0a087f91d6a",
       "version_major": 2,
       "version_minor": 0
      },
      "text/plain": [
       "  0%|          | 0/4 [00:00<?, ?it/s]"
      ]
     },
     "metadata": {},
     "output_type": "display_data"
    },
    {
     "name": "stdout",
     "output_type": "stream",
     "text": [
      "T:\\DCProjects\\StoryMap\\BikeCounting\\BikeShare\\Data\\Output\\review\\trips_peace_health_rides_07_01_2018-07_31_2018.csv\n"
     ]
    },
    {
     "data": {
      "application/vnd.jupyter.widget-view+json": {
       "model_id": "dddacbc0a6cf40aaa6a6c00e7190e3a7",
       "version_major": 2,
       "version_minor": 0
      },
      "text/plain": [
       "  0%|          | 0/15 [00:00<?, ?it/s]"
      ]
     },
     "metadata": {},
     "output_type": "display_data"
    },
    {
     "data": {
      "application/vnd.jupyter.widget-view+json": {
       "model_id": "07f3df4b612c47b4af96b64ed0fe24a0",
       "version_major": 2,
       "version_minor": 0
      },
      "text/plain": [
       "  0%|          | 0/9 [00:00<?, ?it/s]"
      ]
     },
     "metadata": {},
     "output_type": "display_data"
    },
    {
     "name": "stdout",
     "output_type": "stream",
     "text": [
      "T:\\DCProjects\\StoryMap\\BikeCounting\\BikeShare\\Data\\Output\\review\\trips_peace_health_rides_07_01_2019-07_31_2019.csv\n"
     ]
    },
    {
     "data": {
      "application/vnd.jupyter.widget-view+json": {
       "model_id": "b68a14b29dc54506bb5cdb509bcd0450",
       "version_major": 2,
       "version_minor": 0
      },
      "text/plain": [
       "  0%|          | 0/11 [00:00<?, ?it/s]"
      ]
     },
     "metadata": {},
     "output_type": "display_data"
    },
    {
     "data": {
      "application/vnd.jupyter.widget-view+json": {
       "model_id": "a18b45ec664e44c2aa549ba5be4bf024",
       "version_major": 2,
       "version_minor": 0
      },
      "text/plain": [
       "  0%|          | 0/5 [00:00<?, ?it/s]"
      ]
     },
     "metadata": {},
     "output_type": "display_data"
    },
    {
     "name": "stdout",
     "output_type": "stream",
     "text": [
      "T:\\DCProjects\\StoryMap\\BikeCounting\\BikeShare\\Data\\Output\\review\\trips_peace_health_rides_07_01_2020-07_31_2020.csv\n"
     ]
    },
    {
     "data": {
      "application/vnd.jupyter.widget-view+json": {
       "model_id": "3e0febcb60b64059afb627bcc8491486",
       "version_major": 2,
       "version_minor": 0
      },
      "text/plain": [
       "  0%|          | 0/3 [00:00<?, ?it/s]"
      ]
     },
     "metadata": {},
     "output_type": "display_data"
    },
    {
     "data": {
      "application/vnd.jupyter.widget-view+json": {
       "model_id": "b722442763d34b2fa13d751cf3cda100",
       "version_major": 2,
       "version_minor": 0
      },
      "text/plain": [
       "  0%|          | 0/2 [00:00<?, ?it/s]"
      ]
     },
     "metadata": {},
     "output_type": "display_data"
    },
    {
     "name": "stdout",
     "output_type": "stream",
     "text": [
      "T:\\DCProjects\\StoryMap\\BikeCounting\\BikeShare\\Data\\Output\\review\\trips_peace_health_rides_07_01_2021-07_31_2021.csv\n"
     ]
    },
    {
     "data": {
      "application/vnd.jupyter.widget-view+json": {
       "model_id": "117cc89ed93744d4a6ce8edb47c35cda",
       "version_major": 2,
       "version_minor": 0
      },
      "text/plain": [
       "  0%|          | 0/3 [00:00<?, ?it/s]"
      ]
     },
     "metadata": {},
     "output_type": "display_data"
    },
    {
     "data": {
      "application/vnd.jupyter.widget-view+json": {
       "model_id": "bf64198df10b4ea48b53590e8264c375",
       "version_major": 2,
       "version_minor": 0
      },
      "text/plain": [
       "  0%|          | 0/5 [00:00<?, ?it/s]"
      ]
     },
     "metadata": {},
     "output_type": "display_data"
    },
    {
     "name": "stdout",
     "output_type": "stream",
     "text": [
      "T:\\DCProjects\\StoryMap\\BikeCounting\\BikeShare\\Data\\Output\\review\\trips_peace_health_rides_08_01_2018-08_31_2018.csv\n"
     ]
    },
    {
     "data": {
      "application/vnd.jupyter.widget-view+json": {
       "model_id": "1ed25c60e9ed4400ac4ae56141bd803a",
       "version_major": 2,
       "version_minor": 0
      },
      "text/plain": [
       "  0%|          | 0/18 [00:00<?, ?it/s]"
      ]
     },
     "metadata": {},
     "output_type": "display_data"
    },
    {
     "data": {
      "application/vnd.jupyter.widget-view+json": {
       "model_id": "ab1e32b150b54b428022be57fc88bba2",
       "version_major": 2,
       "version_minor": 0
      },
      "text/plain": [
       "  0%|          | 0/4 [00:00<?, ?it/s]"
      ]
     },
     "metadata": {},
     "output_type": "display_data"
    },
    {
     "name": "stdout",
     "output_type": "stream",
     "text": [
      "T:\\DCProjects\\StoryMap\\BikeCounting\\BikeShare\\Data\\Output\\review\\trips_peace_health_rides_08_01_2019-08_31_2019.csv\n"
     ]
    },
    {
     "data": {
      "application/vnd.jupyter.widget-view+json": {
       "model_id": "2875522e10da44368e05275892326813",
       "version_major": 2,
       "version_minor": 0
      },
      "text/plain": [
       "  0%|          | 0/8 [00:00<?, ?it/s]"
      ]
     },
     "metadata": {},
     "output_type": "display_data"
    },
    {
     "data": {
      "application/vnd.jupyter.widget-view+json": {
       "model_id": "391d796ec7a444da8fbbc504eccc6f8c",
       "version_major": 2,
       "version_minor": 0
      },
      "text/plain": [
       "  0%|          | 0/4 [00:00<?, ?it/s]"
      ]
     },
     "metadata": {},
     "output_type": "display_data"
    },
    {
     "name": "stdout",
     "output_type": "stream",
     "text": [
      "T:\\DCProjects\\StoryMap\\BikeCounting\\BikeShare\\Data\\Output\\review\\trips_peace_health_rides_08_01_2020-08_31_2020.csv\n"
     ]
    },
    {
     "data": {
      "application/vnd.jupyter.widget-view+json": {
       "model_id": "90e891fc74504a75bd7006c6f26969aa",
       "version_major": 2,
       "version_minor": 0
      },
      "text/plain": [
       "  0%|          | 0/10 [00:00<?, ?it/s]"
      ]
     },
     "metadata": {},
     "output_type": "display_data"
    },
    {
     "data": {
      "application/vnd.jupyter.widget-view+json": {
       "model_id": "4b7420d5d4724a5ea8e527fa0dc42602",
       "version_major": 2,
       "version_minor": 0
      },
      "text/plain": [
       "  0%|          | 0/9 [00:00<?, ?it/s]"
      ]
     },
     "metadata": {},
     "output_type": "display_data"
    },
    {
     "name": "stdout",
     "output_type": "stream",
     "text": [
      "T:\\DCProjects\\StoryMap\\BikeCounting\\BikeShare\\Data\\Output\\review\\trips_peace_health_rides_08_01_2021-08_31_2021.csv\n"
     ]
    },
    {
     "data": {
      "application/vnd.jupyter.widget-view+json": {
       "model_id": "3f4a25b6fd26425fb102526137f8becb",
       "version_major": 2,
       "version_minor": 0
      },
      "text/plain": [
       "  0%|          | 0/10 [00:00<?, ?it/s]"
      ]
     },
     "metadata": {},
     "output_type": "display_data"
    },
    {
     "data": {
      "application/vnd.jupyter.widget-view+json": {
       "model_id": "69b6b837847b40f098432bd8d141a36f",
       "version_major": 2,
       "version_minor": 0
      },
      "text/plain": [
       "  0%|          | 0/8 [00:00<?, ?it/s]"
      ]
     },
     "metadata": {},
     "output_type": "display_data"
    },
    {
     "name": "stdout",
     "output_type": "stream",
     "text": [
      "T:\\DCProjects\\StoryMap\\BikeCounting\\BikeShare\\Data\\Output\\review\\trips_peace_health_rides_09_01_2018-09_30_2018.csv\n"
     ]
    },
    {
     "data": {
      "application/vnd.jupyter.widget-view+json": {
       "model_id": "a4aa4a2988a547b3bbe834e6005b7dba",
       "version_major": 2,
       "version_minor": 0
      },
      "text/plain": [
       "  0%|          | 0/14 [00:00<?, ?it/s]"
      ]
     },
     "metadata": {},
     "output_type": "display_data"
    },
    {
     "data": {
      "application/vnd.jupyter.widget-view+json": {
       "model_id": "a9e16a6b1dc844cdbf5301cbe30e4a9b",
       "version_major": 2,
       "version_minor": 0
      },
      "text/plain": [
       "  0%|          | 0/4 [00:00<?, ?it/s]"
      ]
     },
     "metadata": {},
     "output_type": "display_data"
    },
    {
     "name": "stdout",
     "output_type": "stream",
     "text": [
      "T:\\DCProjects\\StoryMap\\BikeCounting\\BikeShare\\Data\\Output\\review\\trips_peace_health_rides_09_01_2019-09_30_2019.csv\n"
     ]
    },
    {
     "data": {
      "application/vnd.jupyter.widget-view+json": {
       "model_id": "e3d828a3a1ff4c43ae04786af46d46e6",
       "version_major": 2,
       "version_minor": 0
      },
      "text/plain": [
       "  0%|          | 0/8 [00:00<?, ?it/s]"
      ]
     },
     "metadata": {},
     "output_type": "display_data"
    },
    {
     "data": {
      "application/vnd.jupyter.widget-view+json": {
       "model_id": "0d158427d6ed44d29d193eb27daf642f",
       "version_major": 2,
       "version_minor": 0
      },
      "text/plain": [
       "  0%|          | 0/2 [00:00<?, ?it/s]"
      ]
     },
     "metadata": {},
     "output_type": "display_data"
    },
    {
     "name": "stdout",
     "output_type": "stream",
     "text": [
      "T:\\DCProjects\\StoryMap\\BikeCounting\\BikeShare\\Data\\Output\\review\\trips_peace_health_rides_09_01_2020-09_30_2020.csv\n"
     ]
    },
    {
     "data": {
      "application/vnd.jupyter.widget-view+json": {
       "model_id": "6dc8d2c7cdef4a4c971ff7d1bbc25714",
       "version_major": 2,
       "version_minor": 0
      },
      "text/plain": [
       "  0%|          | 0/4 [00:00<?, ?it/s]"
      ]
     },
     "metadata": {},
     "output_type": "display_data"
    },
    {
     "data": {
      "application/vnd.jupyter.widget-view+json": {
       "model_id": "1fd4fec780b64ed9916d5828dacd7b31",
       "version_major": 2,
       "version_minor": 0
      },
      "text/plain": [
       "  0%|          | 0/3 [00:00<?, ?it/s]"
      ]
     },
     "metadata": {},
     "output_type": "display_data"
    },
    {
     "name": "stdout",
     "output_type": "stream",
     "text": [
      "T:\\DCProjects\\StoryMap\\BikeCounting\\BikeShare\\Data\\Output\\review\\trips_peace_health_rides_09_01_2021-09_30_2021.csv\n"
     ]
    },
    {
     "data": {
      "application/vnd.jupyter.widget-view+json": {
       "model_id": "c5f5145b85fa49ca8568260f86039673",
       "version_major": 2,
       "version_minor": 0
      },
      "text/plain": [
       "  0%|          | 0/4 [00:00<?, ?it/s]"
      ]
     },
     "metadata": {},
     "output_type": "display_data"
    },
    {
     "data": {
      "application/vnd.jupyter.widget-view+json": {
       "model_id": "1923a78c36bc4174bf5532f6b2e977a3",
       "version_major": 2,
       "version_minor": 0
      },
      "text/plain": [
       "  0%|          | 0/4 [00:00<?, ?it/s]"
      ]
     },
     "metadata": {},
     "output_type": "display_data"
    },
    {
     "name": "stdout",
     "output_type": "stream",
     "text": [
      "T:\\DCProjects\\StoryMap\\BikeCounting\\BikeShare\\Data\\Output\\review\\trips_peace_health_rides_10_01_2018-10_31_2018.csv\n"
     ]
    },
    {
     "data": {
      "application/vnd.jupyter.widget-view+json": {
       "model_id": "d8a3029464bd45b3aeab2f935eed886a",
       "version_major": 2,
       "version_minor": 0
      },
      "text/plain": [
       "  0%|          | 0/12 [00:00<?, ?it/s]"
      ]
     },
     "metadata": {},
     "output_type": "display_data"
    },
    {
     "data": {
      "application/vnd.jupyter.widget-view+json": {
       "model_id": "c82bf94612b04bbc89a31fb3e98061ad",
       "version_major": 2,
       "version_minor": 0
      },
      "text/plain": [
       "  0%|          | 0/4 [00:00<?, ?it/s]"
      ]
     },
     "metadata": {},
     "output_type": "display_data"
    },
    {
     "name": "stdout",
     "output_type": "stream",
     "text": [
      "T:\\DCProjects\\StoryMap\\BikeCounting\\BikeShare\\Data\\Output\\review\\trips_peace_health_rides_10_01_2019-10_31_2019.csv\n"
     ]
    },
    {
     "data": {
      "application/vnd.jupyter.widget-view+json": {
       "model_id": "3aa754b273854ea1bd6c8ae00e0c7275",
       "version_major": 2,
       "version_minor": 0
      },
      "text/plain": [
       "  0%|          | 0/6 [00:00<?, ?it/s]"
      ]
     },
     "metadata": {},
     "output_type": "display_data"
    },
    {
     "data": {
      "application/vnd.jupyter.widget-view+json": {
       "model_id": "98af2bc0c6814f65aa9fc1071b73587e",
       "version_major": 2,
       "version_minor": 0
      },
      "text/plain": [
       "  0%|          | 0/3 [00:00<?, ?it/s]"
      ]
     },
     "metadata": {},
     "output_type": "display_data"
    },
    {
     "name": "stdout",
     "output_type": "stream",
     "text": [
      "T:\\DCProjects\\StoryMap\\BikeCounting\\BikeShare\\Data\\Output\\review\\trips_peace_health_rides_10_01_2020-10_31_2020.csv\n"
     ]
    },
    {
     "data": {
      "application/vnd.jupyter.widget-view+json": {
       "model_id": "8cb20cd37a06485d9699b26098853280",
       "version_major": 2,
       "version_minor": 0
      },
      "text/plain": [
       "  0%|          | 0/2 [00:00<?, ?it/s]"
      ]
     },
     "metadata": {},
     "output_type": "display_data"
    },
    {
     "data": {
      "application/vnd.jupyter.widget-view+json": {
       "model_id": "d40d210c79fc4cff8e64e48afdeab399",
       "version_major": 2,
       "version_minor": 0
      },
      "text/plain": [
       "  0%|          | 0/1 [00:00<?, ?it/s]"
      ]
     },
     "metadata": {},
     "output_type": "display_data"
    },
    {
     "name": "stdout",
     "output_type": "stream",
     "text": [
      "T:\\DCProjects\\StoryMap\\BikeCounting\\BikeShare\\Data\\Output\\review\\trips_peace_health_rides_10_01_2021-10_31_2021.csv\n"
     ]
    },
    {
     "data": {
      "application/vnd.jupyter.widget-view+json": {
       "model_id": "09f796c73b8244ec829b5c2fe1e615d2",
       "version_major": 2,
       "version_minor": 0
      },
      "text/plain": [
       "  0%|          | 0/4 [00:00<?, ?it/s]"
      ]
     },
     "metadata": {},
     "output_type": "display_data"
    },
    {
     "data": {
      "application/vnd.jupyter.widget-view+json": {
       "model_id": "cf3d860b45a94379b945f114dd01ba25",
       "version_major": 2,
       "version_minor": 0
      },
      "text/plain": [
       "  0%|          | 0/4 [00:00<?, ?it/s]"
      ]
     },
     "metadata": {},
     "output_type": "display_data"
    },
    {
     "name": "stdout",
     "output_type": "stream",
     "text": [
      "T:\\DCProjects\\StoryMap\\BikeCounting\\BikeShare\\Data\\Output\\review\\trips_peace_health_rides_11_01_2018-11_30_2018.csv\n"
     ]
    },
    {
     "data": {
      "application/vnd.jupyter.widget-view+json": {
       "model_id": "c248322572734c7d8a4054ca1e126cbd",
       "version_major": 2,
       "version_minor": 0
      },
      "text/plain": [
       "  0%|          | 0/6 [00:00<?, ?it/s]"
      ]
     },
     "metadata": {},
     "output_type": "display_data"
    },
    {
     "data": {
      "application/vnd.jupyter.widget-view+json": {
       "model_id": "163b90e4add040a4aa66c94aabcefef3",
       "version_major": 2,
       "version_minor": 0
      },
      "text/plain": [
       "  0%|          | 0/4 [00:00<?, ?it/s]"
      ]
     },
     "metadata": {},
     "output_type": "display_data"
    },
    {
     "name": "stdout",
     "output_type": "stream",
     "text": [
      "T:\\DCProjects\\StoryMap\\BikeCounting\\BikeShare\\Data\\Output\\review\\trips_peace_health_rides_11_01_2019-11_30_2019.csv\n"
     ]
    },
    {
     "data": {
      "application/vnd.jupyter.widget-view+json": {
       "model_id": "7c50c0b83af3458da35196211729a251",
       "version_major": 2,
       "version_minor": 0
      },
      "text/plain": [
       "  0%|          | 0/7 [00:00<?, ?it/s]"
      ]
     },
     "metadata": {},
     "output_type": "display_data"
    },
    {
     "data": {
      "application/vnd.jupyter.widget-view+json": {
       "model_id": "32aa7a9b9155487ba32f18390dcac8c9",
       "version_major": 2,
       "version_minor": 0
      },
      "text/plain": [
       "  0%|          | 0/5 [00:00<?, ?it/s]"
      ]
     },
     "metadata": {},
     "output_type": "display_data"
    },
    {
     "name": "stdout",
     "output_type": "stream",
     "text": [
      "T:\\DCProjects\\StoryMap\\BikeCounting\\BikeShare\\Data\\Output\\review\\trips_peace_health_rides_11_01_2020-11_30_2020.csv\n"
     ]
    },
    {
     "data": {
      "application/vnd.jupyter.widget-view+json": {
       "model_id": "10bca377e310481d82097c29186d61a6",
       "version_major": 2,
       "version_minor": 0
      },
      "text/plain": [
       "  0%|          | 0/1 [00:00<?, ?it/s]"
      ]
     },
     "metadata": {},
     "output_type": "display_data"
    },
    {
     "name": "stdout",
     "output_type": "stream",
     "text": [
      "T:\\DCProjects\\StoryMap\\BikeCounting\\BikeShare\\Data\\Output\\review\\trips_peace_health_rides_11_01_2021-11_30_2021.csv\n"
     ]
    },
    {
     "data": {
      "application/vnd.jupyter.widget-view+json": {
       "model_id": "9345e99c4a21444f9a73fce02e64c639",
       "version_major": 2,
       "version_minor": 0
      },
      "text/plain": [
       "  0%|          | 0/5 [00:00<?, ?it/s]"
      ]
     },
     "metadata": {},
     "output_type": "display_data"
    },
    {
     "data": {
      "application/vnd.jupyter.widget-view+json": {
       "model_id": "e6c286bc9b324e88a8b2445258a6b8b9",
       "version_major": 2,
       "version_minor": 0
      },
      "text/plain": [
       "  0%|          | 0/4 [00:00<?, ?it/s]"
      ]
     },
     "metadata": {},
     "output_type": "display_data"
    },
    {
     "name": "stdout",
     "output_type": "stream",
     "text": [
      "T:\\DCProjects\\StoryMap\\BikeCounting\\BikeShare\\Data\\Output\\review\\trips_peace_health_rides_12_01_2018-12_31_2018.csv\n"
     ]
    },
    {
     "data": {
      "application/vnd.jupyter.widget-view+json": {
       "model_id": "df21215d97c34ea6b914340064b06ce3",
       "version_major": 2,
       "version_minor": 0
      },
      "text/plain": [
       "  0%|          | 0/6 [00:00<?, ?it/s]"
      ]
     },
     "metadata": {},
     "output_type": "display_data"
    },
    {
     "data": {
      "application/vnd.jupyter.widget-view+json": {
       "model_id": "92a5b474acb24babbfdc6ff347acd848",
       "version_major": 2,
       "version_minor": 0
      },
      "text/plain": [
       "  0%|          | 0/1 [00:00<?, ?it/s]"
      ]
     },
     "metadata": {},
     "output_type": "display_data"
    },
    {
     "name": "stdout",
     "output_type": "stream",
     "text": [
      "T:\\DCProjects\\StoryMap\\BikeCounting\\BikeShare\\Data\\Output\\review\\trips_peace_health_rides_12_01_2019-12_31_2019.csv\n"
     ]
    },
    {
     "data": {
      "application/vnd.jupyter.widget-view+json": {
       "model_id": "999c34dc022441428118d2b6facab7e9",
       "version_major": 2,
       "version_minor": 0
      },
      "text/plain": [
       "  0%|          | 0/1 [00:00<?, ?it/s]"
      ]
     },
     "metadata": {},
     "output_type": "display_data"
    },
    {
     "name": "stdout",
     "output_type": "stream",
     "text": [
      "T:\\DCProjects\\StoryMap\\BikeCounting\\BikeShare\\Data\\Output\\review\\trips_peace_health_rides_12_01_2020-12_31_2020.csv\n",
      "T:\\DCProjects\\StoryMap\\BikeCounting\\BikeShare\\Data\\Output\\review\\trips_peace_health_rides_12_01_2021-12_31_2021.csv\n"
     ]
    },
    {
     "data": {
      "application/vnd.jupyter.widget-view+json": {
       "model_id": "3827660f68414d809c4de91b09fa05e7",
       "version_major": 2,
       "version_minor": 0
      },
      "text/plain": [
       "  0%|          | 0/2 [00:00<?, ?it/s]"
      ]
     },
     "metadata": {},
     "output_type": "display_data"
    }
   ],
   "source": [
    "for file in files:\n",
    "    print(file)\n",
    "    re_df = pd.read_csv(file)\n",
    "    #re_df = review_hubs(re_df)\n",
    "    re_df = review_hubs(re_df, strp='Eugene-Springfield')\n",
    "    re_df.to_csv(file, index=False)"
   ]
  },
  {
   "cell_type": "code",
   "execution_count": 60,
   "id": "227c6c9e",
   "metadata": {},
   "outputs": [
    {
     "data": {
      "text/plain": [
       "'T:\\\\DCProjects\\\\StoryMap\\\\BikeCounting\\\\BikeShare\\\\Data\\\\Output\\\\review\\\\trips_peace_health_rides_01_01_2019-01_31_2019.csv'"
      ]
     },
     "execution_count": 60,
     "metadata": {},
     "output_type": "execute_result"
    }
   ],
   "source": [
    "file = r\"T:\\DCProjects\\StoryMap\\BikeCounting\\BikeShare\\Data\\Output\\review\\trips_peace_health_rides_01_01_2019-01_31_2019.csv\"\n",
    "file"
   ]
  },
  {
   "cell_type": "code",
   "execution_count": 61,
   "id": "3daa48d5",
   "metadata": {},
   "outputs": [],
   "source": [
    "re_df = pd.read_csv(file)"
   ]
  },
  {
   "cell_type": "code",
   "execution_count": 62,
   "id": "915b3cff",
   "metadata": {},
   "outputs": [
    {
     "data": {
      "text/plain": [
       "Index(['User.ID', 'Route.ID', 'Start.Hub', 'Start.Latitude', 'Start.Longitude',\n",
       "       'Start.Date', 'Start.Time', 'End.Hub', 'End.Latitude', 'End.Longitude',\n",
       "       'End.Date', 'End.Time', 'Bike.ID', 'Bike.Name', 'Distance..Miles.',\n",
       "       'Duration'],\n",
       "      dtype='object')"
      ]
     },
     "execution_count": 62,
     "metadata": {},
     "output_type": "execute_result"
    }
   ],
   "source": [
    "re_df.columns"
   ]
  },
  {
   "cell_type": "code",
   "execution_count": 55,
   "id": "d8fa186c",
   "metadata": {
    "scrolled": true
   },
   "outputs": [
    {
     "data": {
      "text/html": [
       "<div>\n",
       "<style scoped>\n",
       "    .dataframe tbody tr th:only-of-type {\n",
       "        vertical-align: middle;\n",
       "    }\n",
       "\n",
       "    .dataframe tbody tr th {\n",
       "        vertical-align: top;\n",
       "    }\n",
       "\n",
       "    .dataframe thead th {\n",
       "        text-align: right;\n",
       "    }\n",
       "</style>\n",
       "<table border=\"1\" class=\"dataframe\">\n",
       "  <thead>\n",
       "    <tr style=\"text-align: right;\">\n",
       "      <th></th>\n",
       "      <th>User ID</th>\n",
       "      <th>Route ID</th>\n",
       "      <th>Bike Region ID</th>\n",
       "      <th>Payment Plan</th>\n",
       "      <th>Start Hub</th>\n",
       "      <th>Start Area</th>\n",
       "      <th>Start Special Area</th>\n",
       "      <th>Start Latitude</th>\n",
       "      <th>Start Longitude</th>\n",
       "      <th>Start Date</th>\n",
       "      <th>...</th>\n",
       "      <th>Bike ID</th>\n",
       "      <th>Bike Name</th>\n",
       "      <th>Distance [Miles]</th>\n",
       "      <th>Duration</th>\n",
       "      <th>Rental Access Path</th>\n",
       "      <th>Multiple Rental</th>\n",
       "      <th>Ride cost</th>\n",
       "      <th>Fees</th>\n",
       "      <th>Bonuses</th>\n",
       "      <th>Total cost</th>\n",
       "    </tr>\n",
       "  </thead>\n",
       "  <tbody>\n",
       "    <tr>\n",
       "      <th>0</th>\n",
       "      <td>766963</td>\n",
       "      <td>12817400</td>\n",
       "      <td>NaN</td>\n",
       "      <td>UO Monthly Plan</td>\n",
       "      <td>Uniquely Chengdu</td>\n",
       "      <td>Phase 1 System Area</td>\n",
       "      <td>NaN</td>\n",
       "      <td>44.045435</td>\n",
       "      <td>-123.080060</td>\n",
       "      <td>2019-12-01</td>\n",
       "      <td>...</td>\n",
       "      <td>19591</td>\n",
       "      <td>0057</td>\n",
       "      <td>0.76</td>\n",
       "      <td>00:07:59</td>\n",
       "      <td>keypad</td>\n",
       "      <td>False</td>\n",
       "      <td>0.0</td>\n",
       "      <td>0.0</td>\n",
       "      <td>0.0</td>\n",
       "      <td>0.0</td>\n",
       "    </tr>\n",
       "    <tr>\n",
       "      <th>1</th>\n",
       "      <td>1702290</td>\n",
       "      <td>12817409</td>\n",
       "      <td>NaN</td>\n",
       "      <td>UO Monthly Plan</td>\n",
       "      <td>Thompson-Roach Building</td>\n",
       "      <td>Phase 1 System Area</td>\n",
       "      <td>NaN</td>\n",
       "      <td>44.045438</td>\n",
       "      <td>-123.084452</td>\n",
       "      <td>2019-12-01</td>\n",
       "      <td>...</td>\n",
       "      <td>19703</td>\n",
       "      <td>0173</td>\n",
       "      <td>0.35</td>\n",
       "      <td>00:13:51</td>\n",
       "      <td>keypad</td>\n",
       "      <td>True</td>\n",
       "      <td>0.0</td>\n",
       "      <td>0.0</td>\n",
       "      <td>0.0</td>\n",
       "      <td>0.0</td>\n",
       "    </tr>\n",
       "    <tr>\n",
       "      <th>2</th>\n",
       "      <td>1665396</td>\n",
       "      <td>12817412</td>\n",
       "      <td>NaN</td>\n",
       "      <td>Monthly Plan</td>\n",
       "      <td>Monroe St &amp; Blair Blvd</td>\n",
       "      <td>Phase 1 System Area</td>\n",
       "      <td>NaN</td>\n",
       "      <td>44.051473</td>\n",
       "      <td>-123.105138</td>\n",
       "      <td>2019-12-01</td>\n",
       "      <td>...</td>\n",
       "      <td>19603</td>\n",
       "      <td>0072</td>\n",
       "      <td>1.19</td>\n",
       "      <td>00:07:58</td>\n",
       "      <td>keypad</td>\n",
       "      <td>False</td>\n",
       "      <td>0.0</td>\n",
       "      <td>0.0</td>\n",
       "      <td>0.0</td>\n",
       "      <td>0.0</td>\n",
       "    </tr>\n",
       "    <tr>\n",
       "      <th>3</th>\n",
       "      <td>1734280</td>\n",
       "      <td>12817414</td>\n",
       "      <td>NaN</td>\n",
       "      <td>UO Monthly Plan</td>\n",
       "      <td>Thompson-Roach Building</td>\n",
       "      <td>Phase 1 System Area</td>\n",
       "      <td>NaN</td>\n",
       "      <td>44.045413</td>\n",
       "      <td>-123.084448</td>\n",
       "      <td>2019-12-01</td>\n",
       "      <td>...</td>\n",
       "      <td>19788</td>\n",
       "      <td>0258</td>\n",
       "      <td>0.43</td>\n",
       "      <td>00:03:13</td>\n",
       "      <td>keypad</td>\n",
       "      <td>False</td>\n",
       "      <td>0.0</td>\n",
       "      <td>0.0</td>\n",
       "      <td>0.0</td>\n",
       "      <td>0.0</td>\n",
       "    </tr>\n",
       "    <tr>\n",
       "      <th>4</th>\n",
       "      <td>1702290</td>\n",
       "      <td>12817415</td>\n",
       "      <td>NaN</td>\n",
       "      <td>UO Monthly Plan</td>\n",
       "      <td>Thompson-Roach Building</td>\n",
       "      <td>Phase 1 System Area</td>\n",
       "      <td>NaN</td>\n",
       "      <td>44.045507</td>\n",
       "      <td>-123.084462</td>\n",
       "      <td>2019-12-01</td>\n",
       "      <td>...</td>\n",
       "      <td>19661</td>\n",
       "      <td>0131</td>\n",
       "      <td>0.05</td>\n",
       "      <td>00:06:08</td>\n",
       "      <td>keypad</td>\n",
       "      <td>True</td>\n",
       "      <td>0.0</td>\n",
       "      <td>0.0</td>\n",
       "      <td>0.0</td>\n",
       "      <td>0.0</td>\n",
       "    </tr>\n",
       "  </tbody>\n",
       "</table>\n",
       "<p>5 rows × 30 columns</p>\n",
       "</div>"
      ],
      "text/plain": [
       "   User ID  Route ID  Bike Region ID     Payment Plan  \\\n",
       "0   766963  12817400             NaN  UO Monthly Plan   \n",
       "1  1702290  12817409             NaN  UO Monthly Plan   \n",
       "2  1665396  12817412             NaN     Monthly Plan   \n",
       "3  1734280  12817414             NaN  UO Monthly Plan   \n",
       "4  1702290  12817415             NaN  UO Monthly Plan   \n",
       "\n",
       "                 Start Hub           Start Area  Start Special Area  \\\n",
       "0         Uniquely Chengdu  Phase 1 System Area                 NaN   \n",
       "1  Thompson-Roach Building  Phase 1 System Area                 NaN   \n",
       "2  Monroe St & Blair Blvd   Phase 1 System Area                 NaN   \n",
       "3  Thompson-Roach Building  Phase 1 System Area                 NaN   \n",
       "4  Thompson-Roach Building  Phase 1 System Area                 NaN   \n",
       "\n",
       "   Start Latitude  Start Longitude  Start Date  ... Bike ID Bike Name  \\\n",
       "0       44.045435      -123.080060  2019-12-01  ...   19591      0057   \n",
       "1       44.045438      -123.084452  2019-12-01  ...   19703      0173   \n",
       "2       44.051473      -123.105138  2019-12-01  ...   19603      0072   \n",
       "3       44.045413      -123.084448  2019-12-01  ...   19788      0258   \n",
       "4       44.045507      -123.084462  2019-12-01  ...   19661      0131   \n",
       "\n",
       "  Distance [Miles]  Duration  Rental Access Path  Multiple Rental Ride cost  \\\n",
       "0             0.76  00:07:59              keypad            False       0.0   \n",
       "1             0.35  00:13:51              keypad             True       0.0   \n",
       "2             1.19  00:07:58              keypad            False       0.0   \n",
       "3             0.43  00:03:13              keypad            False       0.0   \n",
       "4             0.05  00:06:08              keypad             True       0.0   \n",
       "\n",
       "  Fees Bonuses Total cost  \n",
       "0  0.0     0.0        0.0  \n",
       "1  0.0     0.0        0.0  \n",
       "2  0.0     0.0        0.0  \n",
       "3  0.0     0.0        0.0  \n",
       "4  0.0     0.0        0.0  \n",
       "\n",
       "[5 rows x 30 columns]"
      ]
     },
     "execution_count": 55,
     "metadata": {},
     "output_type": "execute_result"
    }
   ],
   "source": [
    "re_df.head()"
   ]
  },
  {
   "cell_type": "code",
   "execution_count": 81,
   "id": "4072c379",
   "metadata": {},
   "outputs": [
    {
     "data": {
      "text/plain": [
       "'T:\\\\DCProjects\\\\StoryMap\\\\BikeCounting\\\\BikeShare\\\\Data\\\\Output\\\\review\\\\trips_peace_health_rides_12_01_2021-12_31_2021.csv'"
      ]
     },
     "execution_count": 81,
     "metadata": {},
     "output_type": "execute_result"
    }
   ],
   "source": [
    "file"
   ]
  },
  {
   "cell_type": "code",
   "execution_count": 64,
   "id": "64350785",
   "metadata": {},
   "outputs": [],
   "source": [
    "hub = \"Start\""
   ]
  },
  {
   "cell_type": "code",
   "execution_count": 75,
   "id": "653780fb",
   "metadata": {},
   "outputs": [],
   "source": [
    "strp = \"Eugene-Springfield\""
   ]
  },
  {
   "cell_type": "code",
   "execution_count": 76,
   "id": "940f073d",
   "metadata": {},
   "outputs": [],
   "source": [
    "re = re_df[re_df[hub+' Hub'].str.contains(strp, na=False)]"
   ]
  },
  {
   "cell_type": "code",
   "execution_count": 78,
   "id": "0a2d4252",
   "metadata": {},
   "outputs": [
    {
     "data": {
      "text/html": [
       "<div>\n",
       "<style scoped>\n",
       "    .dataframe tbody tr th:only-of-type {\n",
       "        vertical-align: middle;\n",
       "    }\n",
       "\n",
       "    .dataframe tbody tr th {\n",
       "        vertical-align: top;\n",
       "    }\n",
       "\n",
       "    .dataframe thead th {\n",
       "        text-align: right;\n",
       "    }\n",
       "</style>\n",
       "<table border=\"1\" class=\"dataframe\">\n",
       "  <thead>\n",
       "    <tr style=\"text-align: right;\">\n",
       "      <th></th>\n",
       "      <th>User ID</th>\n",
       "      <th>Route ID</th>\n",
       "      <th>Bike Region ID</th>\n",
       "      <th>Payment Plan</th>\n",
       "      <th>Start Hub</th>\n",
       "      <th>Start Area</th>\n",
       "      <th>Start Special Area</th>\n",
       "      <th>Start Latitude</th>\n",
       "      <th>Start Longitude</th>\n",
       "      <th>Start Date</th>\n",
       "      <th>...</th>\n",
       "      <th>Bike ID</th>\n",
       "      <th>Bike Name</th>\n",
       "      <th>Distance [Miles]</th>\n",
       "      <th>Duration</th>\n",
       "      <th>Rental Access Path</th>\n",
       "      <th>Multiple Rental</th>\n",
       "      <th>Ride cost</th>\n",
       "      <th>Fees</th>\n",
       "      <th>Bonuses</th>\n",
       "      <th>Total cost</th>\n",
       "    </tr>\n",
       "  </thead>\n",
       "  <tbody>\n",
       "    <tr>\n",
       "      <th>3345</th>\n",
       "      <td>2207423</td>\n",
       "      <td>14202390</td>\n",
       "      <td>NaN</td>\n",
       "      <td>Monthly Plan</td>\n",
       "      <td>Eugene-Springfield Highway #227</td>\n",
       "      <td>Phase 1 System Area</td>\n",
       "      <td>NaN</td>\n",
       "      <td>44.051752</td>\n",
       "      <td>-123.101705</td>\n",
       "      <td>2021-12-11</td>\n",
       "      <td>...</td>\n",
       "      <td>19581</td>\n",
       "      <td>0050</td>\n",
       "      <td>1.42</td>\n",
       "      <td>00:10:14</td>\n",
       "      <td>mobile</td>\n",
       "      <td>False</td>\n",
       "      <td>0.0</td>\n",
       "      <td>0.0</td>\n",
       "      <td>0.0</td>\n",
       "      <td>0.0</td>\n",
       "    </tr>\n",
       "    <tr>\n",
       "      <th>3814</th>\n",
       "      <td>2207423</td>\n",
       "      <td>14205445</td>\n",
       "      <td>NaN</td>\n",
       "      <td>Monthly Plan</td>\n",
       "      <td>Eugene-Springfield Highway #227</td>\n",
       "      <td>Phase 1 System Area</td>\n",
       "      <td>NaN</td>\n",
       "      <td>44.051790</td>\n",
       "      <td>-123.101713</td>\n",
       "      <td>2021-12-17</td>\n",
       "      <td>...</td>\n",
       "      <td>19767</td>\n",
       "      <td>0237</td>\n",
       "      <td>1.41</td>\n",
       "      <td>00:11:39</td>\n",
       "      <td>mobile</td>\n",
       "      <td>False</td>\n",
       "      <td>0.0</td>\n",
       "      <td>0.0</td>\n",
       "      <td>0.0</td>\n",
       "      <td>0.0</td>\n",
       "    </tr>\n",
       "  </tbody>\n",
       "</table>\n",
       "<p>2 rows × 30 columns</p>\n",
       "</div>"
      ],
      "text/plain": [
       "      User ID  Route ID  Bike Region ID  Payment Plan  \\\n",
       "3345  2207423  14202390             NaN  Monthly Plan   \n",
       "3814  2207423  14205445             NaN  Monthly Plan   \n",
       "\n",
       "                            Start Hub           Start Area  \\\n",
       "3345  Eugene-Springfield Highway #227  Phase 1 System Area   \n",
       "3814  Eugene-Springfield Highway #227  Phase 1 System Area   \n",
       "\n",
       "      Start Special Area  Start Latitude  Start Longitude  Start Date  ...  \\\n",
       "3345                 NaN       44.051752      -123.101705  2021-12-11  ...   \n",
       "3814                 NaN       44.051790      -123.101713  2021-12-17  ...   \n",
       "\n",
       "     Bike ID Bike Name Distance [Miles]  Duration  Rental Access Path  \\\n",
       "3345   19581      0050             1.42  00:10:14              mobile   \n",
       "3814   19767      0237             1.41  00:11:39              mobile   \n",
       "\n",
       "      Multiple Rental Ride cost Fees Bonuses Total cost  \n",
       "3345            False       0.0  0.0     0.0        0.0  \n",
       "3814            False       0.0  0.0     0.0        0.0  \n",
       "\n",
       "[2 rows x 30 columns]"
      ]
     },
     "execution_count": 78,
     "metadata": {},
     "output_type": "execute_result"
    }
   ],
   "source": [
    "re.head()"
   ]
  },
  {
   "cell_type": "code",
   "execution_count": 79,
   "id": "5a81ccb3",
   "metadata": {},
   "outputs": [
    {
     "data": {
      "application/vnd.jupyter.widget-view+json": {
       "model_id": "d5ab567783ed45b69299476a64cc6337",
       "version_major": 2,
       "version_minor": 0
      },
      "text/plain": [
       "  0%|          | 0/2 [00:00<?, ?it/s]"
      ]
     },
     "metadata": {},
     "output_type": "display_data"
    }
   ],
   "source": [
    "testdf = review_hubs(re_df, strp = strp)"
   ]
  },
  {
   "cell_type": "code",
   "execution_count": 80,
   "id": "ead80ffb",
   "metadata": {},
   "outputs": [
    {
     "data": {
      "text/html": [
       "<div>\n",
       "<style scoped>\n",
       "    .dataframe tbody tr th:only-of-type {\n",
       "        vertical-align: middle;\n",
       "    }\n",
       "\n",
       "    .dataframe tbody tr th {\n",
       "        vertical-align: top;\n",
       "    }\n",
       "\n",
       "    .dataframe thead th {\n",
       "        text-align: right;\n",
       "    }\n",
       "</style>\n",
       "<table border=\"1\" class=\"dataframe\">\n",
       "  <thead>\n",
       "    <tr style=\"text-align: right;\">\n",
       "      <th></th>\n",
       "      <th>User ID</th>\n",
       "      <th>Route ID</th>\n",
       "      <th>Bike Region ID</th>\n",
       "      <th>Payment Plan</th>\n",
       "      <th>Start Hub</th>\n",
       "      <th>Start Area</th>\n",
       "      <th>Start Special Area</th>\n",
       "      <th>Start Latitude</th>\n",
       "      <th>Start Longitude</th>\n",
       "      <th>Start Date</th>\n",
       "      <th>...</th>\n",
       "      <th>Bike ID</th>\n",
       "      <th>Bike Name</th>\n",
       "      <th>Distance [Miles]</th>\n",
       "      <th>Duration</th>\n",
       "      <th>Rental Access Path</th>\n",
       "      <th>Multiple Rental</th>\n",
       "      <th>Ride cost</th>\n",
       "      <th>Fees</th>\n",
       "      <th>Bonuses</th>\n",
       "      <th>Total cost</th>\n",
       "    </tr>\n",
       "  </thead>\n",
       "  <tbody>\n",
       "    <tr>\n",
       "      <th>3345</th>\n",
       "      <td>2207423</td>\n",
       "      <td>14202390</td>\n",
       "      <td>NaN</td>\n",
       "      <td>Monthly Plan</td>\n",
       "      <td>Eugene-Springfield Highway #227</td>\n",
       "      <td>Phase 1 System Area</td>\n",
       "      <td>NaN</td>\n",
       "      <td>44.051752</td>\n",
       "      <td>-123.101705</td>\n",
       "      <td>2021-12-11</td>\n",
       "      <td>...</td>\n",
       "      <td>19581</td>\n",
       "      <td>0050</td>\n",
       "      <td>1.42</td>\n",
       "      <td>00:10:14</td>\n",
       "      <td>mobile</td>\n",
       "      <td>False</td>\n",
       "      <td>0.0</td>\n",
       "      <td>0.0</td>\n",
       "      <td>0.0</td>\n",
       "      <td>0.0</td>\n",
       "    </tr>\n",
       "    <tr>\n",
       "      <th>3814</th>\n",
       "      <td>2207423</td>\n",
       "      <td>14205445</td>\n",
       "      <td>NaN</td>\n",
       "      <td>Monthly Plan</td>\n",
       "      <td>Eugene-Springfield Highway #227</td>\n",
       "      <td>Phase 1 System Area</td>\n",
       "      <td>NaN</td>\n",
       "      <td>44.051790</td>\n",
       "      <td>-123.101713</td>\n",
       "      <td>2021-12-17</td>\n",
       "      <td>...</td>\n",
       "      <td>19767</td>\n",
       "      <td>0237</td>\n",
       "      <td>1.41</td>\n",
       "      <td>00:11:39</td>\n",
       "      <td>mobile</td>\n",
       "      <td>False</td>\n",
       "      <td>0.0</td>\n",
       "      <td>0.0</td>\n",
       "      <td>0.0</td>\n",
       "      <td>0.0</td>\n",
       "    </tr>\n",
       "  </tbody>\n",
       "</table>\n",
       "<p>2 rows × 30 columns</p>\n",
       "</div>"
      ],
      "text/plain": [
       "      User ID  Route ID  Bike Region ID  Payment Plan  \\\n",
       "3345  2207423  14202390             NaN  Monthly Plan   \n",
       "3814  2207423  14205445             NaN  Monthly Plan   \n",
       "\n",
       "                            Start Hub           Start Area  \\\n",
       "3345  Eugene-Springfield Highway #227  Phase 1 System Area   \n",
       "3814  Eugene-Springfield Highway #227  Phase 1 System Area   \n",
       "\n",
       "      Start Special Area  Start Latitude  Start Longitude  Start Date  ...  \\\n",
       "3345                 NaN       44.051752      -123.101705  2021-12-11  ...   \n",
       "3814                 NaN       44.051790      -123.101713  2021-12-17  ...   \n",
       "\n",
       "     Bike ID Bike Name Distance [Miles]  Duration  Rental Access Path  \\\n",
       "3345   19581      0050             1.42  00:10:14              mobile   \n",
       "3814   19767      0237             1.41  00:11:39              mobile   \n",
       "\n",
       "      Multiple Rental Ride cost Fees Bonuses Total cost  \n",
       "3345            False       0.0  0.0     0.0        0.0  \n",
       "3814            False       0.0  0.0     0.0        0.0  \n",
       "\n",
       "[2 rows x 30 columns]"
      ]
     },
     "execution_count": 80,
     "metadata": {},
     "output_type": "execute_result"
    }
   ],
   "source": [
    "testdf[testdf[hub+' Hub'].str.contains(strp, na=False)] "
   ]
  },
  {
   "cell_type": "code",
   "execution_count": 71,
   "id": "57cc3279",
   "metadata": {},
   "outputs": [
    {
     "data": {
      "text/plain": [
       "User.ID                              1170002\n",
       "Route.ID                            10670952\n",
       "Start.Hub           South Eugene High School\n",
       "Start.Latitude                        44.036\n",
       "Start.Longitude                  -123.085573\n",
       "Start.Date                        2019-01-23\n",
       "Start.Time                             14:20\n",
       "End.Hub                    15th & University\n",
       "End.Latitude                       44.043122\n",
       "End.Longitude                    -123.074752\n",
       "End.Date                          2019-01-23\n",
       "End.Time                               14:28\n",
       "Bike.ID                                27634\n",
       "Bike.Name                               0313\n",
       "Distance..Miles.                        0.99\n",
       "Duration                            00:07:25\n",
       "Name: 8631, dtype: object"
      ]
     },
     "execution_count": 71,
     "metadata": {},
     "output_type": "execute_result"
    }
   ],
   "source": [
    "testdf.loc[8631, :]"
   ]
  },
  {
   "cell_type": "code",
   "execution_count": 67,
   "id": "4a1dca7a",
   "metadata": {},
   "outputs": [
    {
     "data": {
      "text/plain": [
       "<bound method NDFrame.head of       User.ID  Route.ID     Start.Hub  Start.Latitude  Start.Longitude  \\\n",
       "7625  1170002  10583547  Unit 149-156       44.035897      -123.085982   \n",
       "8631  1170002  10670952  Unit 165-172       44.036000      -123.085573   \n",
       "8862  1416265  10684312  Unit 225-232       44.035232      -123.084248   \n",
       "9089  1170002  10702778  Unit 149-156       44.035895      -123.085792   \n",
       "\n",
       "      Start.Date Start.Time             End.Hub  End.Latitude  End.Longitude  \\\n",
       "7625  2019-01-07      13:21   15th & University     44.043068    -123.074728   \n",
       "8631  2019-01-23      14:20   15th & University     44.043122    -123.074752   \n",
       "8862  2019-01-25      16:53  Erb Memorial Union     44.045380    -123.073143   \n",
       "9089  2019-01-29      09:36      13th & Kincaid     44.045898    -123.078493   \n",
       "\n",
       "        End.Date End.Time  Bike.ID Bike.Name  Distance..Miles.  Duration  \n",
       "7625  2019-01-07    13:32    19849     0165               1.34  00:10:47  \n",
       "8631  2019-01-23    14:28    27634      0313              0.99  00:07:25  \n",
       "8862  2019-01-25    17:06    19750      0220              1.26  00:13:17  \n",
       "9089  2019-01-29    09:44    19753      0223              1.01  00:07:36  >"
      ]
     },
     "execution_count": 67,
     "metadata": {},
     "output_type": "execute_result"
    }
   ],
   "source": [
    "re_df[re_df[hub+'.Hub'].str.contains(strp, na=False)].head"
   ]
  },
  {
   "cell_type": "code",
   "execution_count": 47,
   "id": "d26868d3",
   "metadata": {},
   "outputs": [],
   "source": [
    "re = re_df[re_df[hub+' Hub'].str.contains(strp, na=False)][[hub+' Latitude', hub+' Longitude']]"
   ]
  },
  {
   "cell_type": "code",
   "execution_count": 48,
   "id": "8d78e48a",
   "metadata": {},
   "outputs": [
    {
     "data": {
      "text/html": [
       "<div>\n",
       "<style scoped>\n",
       "    .dataframe tbody tr th:only-of-type {\n",
       "        vertical-align: middle;\n",
       "    }\n",
       "\n",
       "    .dataframe tbody tr th {\n",
       "        vertical-align: top;\n",
       "    }\n",
       "\n",
       "    .dataframe thead th {\n",
       "        text-align: right;\n",
       "    }\n",
       "</style>\n",
       "<table border=\"1\" class=\"dataframe\">\n",
       "  <thead>\n",
       "    <tr style=\"text-align: right;\">\n",
       "      <th></th>\n",
       "      <th>Start Latitude</th>\n",
       "      <th>Start Longitude</th>\n",
       "    </tr>\n",
       "  </thead>\n",
       "  <tbody>\n",
       "    <tr>\n",
       "      <th>21</th>\n",
       "      <td>44.037539</td>\n",
       "      <td>-123.083493</td>\n",
       "    </tr>\n",
       "    <tr>\n",
       "      <th>32</th>\n",
       "      <td>44.037580</td>\n",
       "      <td>-123.083525</td>\n",
       "    </tr>\n",
       "    <tr>\n",
       "      <th>37</th>\n",
       "      <td>44.037539</td>\n",
       "      <td>-123.083493</td>\n",
       "    </tr>\n",
       "    <tr>\n",
       "      <th>40</th>\n",
       "      <td>44.037539</td>\n",
       "      <td>-123.083493</td>\n",
       "    </tr>\n",
       "    <tr>\n",
       "      <th>61</th>\n",
       "      <td>44.048838</td>\n",
       "      <td>-123.094778</td>\n",
       "    </tr>\n",
       "    <tr>\n",
       "      <th>...</th>\n",
       "      <td>...</td>\n",
       "      <td>...</td>\n",
       "    </tr>\n",
       "    <tr>\n",
       "      <th>9441</th>\n",
       "      <td>44.037539</td>\n",
       "      <td>-123.083493</td>\n",
       "    </tr>\n",
       "    <tr>\n",
       "      <th>9454</th>\n",
       "      <td>44.047807</td>\n",
       "      <td>-123.085165</td>\n",
       "    </tr>\n",
       "    <tr>\n",
       "      <th>9467</th>\n",
       "      <td>44.037637</td>\n",
       "      <td>-123.083550</td>\n",
       "    </tr>\n",
       "    <tr>\n",
       "      <th>9496</th>\n",
       "      <td>44.047788</td>\n",
       "      <td>-123.085175</td>\n",
       "    </tr>\n",
       "    <tr>\n",
       "      <th>9501</th>\n",
       "      <td>44.037568</td>\n",
       "      <td>-123.083558</td>\n",
       "    </tr>\n",
       "  </tbody>\n",
       "</table>\n",
       "<p>392 rows × 2 columns</p>\n",
       "</div>"
      ],
      "text/plain": [
       "      Start Latitude  Start Longitude\n",
       "21         44.037539      -123.083493\n",
       "32         44.037580      -123.083525\n",
       "37         44.037539      -123.083493\n",
       "40         44.037539      -123.083493\n",
       "61         44.048838      -123.094778\n",
       "...              ...              ...\n",
       "9441       44.037539      -123.083493\n",
       "9454       44.047807      -123.085165\n",
       "9467       44.037637      -123.083550\n",
       "9496       44.047788      -123.085175\n",
       "9501       44.037568      -123.083558\n",
       "\n",
       "[392 rows x 2 columns]"
      ]
     },
     "execution_count": 48,
     "metadata": {},
     "output_type": "execute_result"
    }
   ],
   "source": [
    "re"
   ]
  },
  {
   "cell_type": "code",
   "execution_count": 84,
   "id": "c30155b8",
   "metadata": {},
   "outputs": [
    {
     "data": {
      "text/plain": [
       "'Eugene-Springfield, Willamette Street, Eugene, Lane County, Oregon, 97401, United States'"
      ]
     },
     "execution_count": 84,
     "metadata": {},
     "output_type": "execute_result"
    }
   ],
   "source": [
    "geolocator = Nominatim(user_agent=\"measurements\")\n",
    "location = geolocator.geocode(\"Eugene-Springfield\")\n",
    "address, (latitude, longitude) = location\n",
    "address"
   ]
  },
  {
   "cell_type": "code",
   "execution_count": 30,
   "id": "71c6152f",
   "metadata": {},
   "outputs": [
    {
     "data": {
      "application/vnd.jupyter.widget-view+json": {
       "model_id": "2a9663826ee14838a2722b940541c20a",
       "version_major": 2,
       "version_minor": 0
      },
      "text/plain": [
       "  0%|          | 0/1 [00:00<?, ?it/s]"
      ]
     },
     "metadata": {},
     "output_type": "display_data"
    }
   ],
   "source": [
    "re.columns = ['Lat', 'Lon']\n",
    "re[\"geom\"] = re[\"Lat\"].map(str) + ',' + re['Lon'].map(str)\n",
    "locator = Nominatim(user_agent=\"measurements\", timeout=10)\n",
    "rgeocode = RateLimiter(locator.reverse, min_delay_seconds=0.00001)\n",
    "tqdm_notebook.pandas()\n",
    "re['address'] = re['geom'].progress_apply(rgeocode)\n",
    "re['name'] =re.address.apply(getLoc)"
   ]
  },
  {
   "cell_type": "code",
   "execution_count": 31,
   "id": "d28d6c0e",
   "metadata": {},
   "outputs": [
    {
     "data": {
      "text/plain": [
       "array(['76'], dtype=object)"
      ]
     },
     "execution_count": 31,
     "metadata": {},
     "output_type": "execute_result"
    }
   ],
   "source": [
    "re.name.values"
   ]
  },
  {
   "cell_type": "code",
   "execution_count": 32,
   "id": "4f3aacfa",
   "metadata": {},
   "outputs": [
    {
     "data": {
      "text/plain": [
       "array([Location(76, West 18th Avenue, Westmoreland Commercial, Eugene, Lane County, Oregon, 97405, United States, (44.0406689, -123.11734339775421, 0.0))],\n",
       "      dtype=object)"
      ]
     },
     "execution_count": 32,
     "metadata": {},
     "output_type": "execute_result"
    }
   ],
   "source": [
    "re.address.values"
   ]
  },
  {
   "cell_type": "code",
   "execution_count": 35,
   "id": "04ce668f",
   "metadata": {},
   "outputs": [
    {
     "data": {
      "text/plain": [
       "{'place_id': 162223077,\n",
       " 'licence': 'Data © OpenStreetMap contributors, ODbL 1.0. https://osm.org/copyright',\n",
       " 'osm_type': 'way',\n",
       " 'osm_id': 244974435,\n",
       " 'lat': '44.0406689',\n",
       " 'lon': '-123.11734339775421',\n",
       " 'display_name': '76, West 18th Avenue, Westmoreland Commercial, Eugene, Lane County, Oregon, 97405, United States',\n",
       " 'address': {'amenity': '76',\n",
       "  'road': 'West 18th Avenue',\n",
       "  'commercial': 'Westmoreland Commercial',\n",
       "  'city': 'Eugene',\n",
       "  'county': 'Lane County',\n",
       "  'state': 'Oregon',\n",
       "  'ISO3166-2-lvl4': 'US-OR',\n",
       "  'postcode': '97405',\n",
       "  'country': 'United States',\n",
       "  'country_code': 'us'},\n",
       " 'boundingbox': ['44.0406071', '44.040741', '-123.1175184', '-123.1171684']}"
      ]
     },
     "execution_count": 35,
     "metadata": {},
     "output_type": "execute_result"
    }
   ],
   "source": [
    "re.address.values[0].raw"
   ]
  }
 ],
 "metadata": {
  "kernelspec": {
   "display_name": "Python 3",
   "language": "python",
   "name": "python3"
  },
  "language_info": {
   "codemirror_mode": {
    "name": "ipython",
    "version": 3
   },
   "file_extension": ".py",
   "mimetype": "text/x-python",
   "name": "python",
   "nbconvert_exporter": "python",
   "pygments_lexer": "ipython3",
   "version": "3.8.8"
  }
 },
 "nbformat": 4,
 "nbformat_minor": 5
}
