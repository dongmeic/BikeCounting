{
 "cells": [
  {
   "cell_type": "code",
   "execution_count": 3,
   "id": "0298e36a",
   "metadata": {},
   "outputs": [],
   "source": [
    "#load_ext autotime\n",
    "import pandas as pd\n",
    "import geopandas as gpd\n",
    "import geopy\n",
    "from geopy.geocoders import Nominatim\n",
    "from geopy.extra.rate_limiter import RateLimiter\n",
    "import matplotlib.pyplot as plt\n",
    "import plotly_express as px\n",
    "import tqdm\n",
    "from tqdm.notebook import tqdm_notebook\n",
    "import os\n",
    "import numpy as np\n",
    "import glob"
   ]
  },
  {
   "cell_type": "code",
   "execution_count": 2,
   "id": "6631b188",
   "metadata": {},
   "outputs": [],
   "source": [
    "locator = Nominatim(user_agent=\"measurements\")"
   ]
  },
  {
   "cell_type": "code",
   "execution_count": 3,
   "id": "0dbb10a6",
   "metadata": {},
   "outputs": [],
   "source": [
    "inpath = r\"T:\\DCProjects\\StoryMap\\BikeCounting\\BikeShare\\Data\\lastTrips\""
   ]
  },
  {
   "cell_type": "code",
   "execution_count": 4,
   "id": "72e7bcbf",
   "metadata": {},
   "outputs": [
    {
     "data": {
      "text/html": [
       "<div>\n",
       "<style scoped>\n",
       "    .dataframe tbody tr th:only-of-type {\n",
       "        vertical-align: middle;\n",
       "    }\n",
       "\n",
       "    .dataframe tbody tr th {\n",
       "        vertical-align: top;\n",
       "    }\n",
       "\n",
       "    .dataframe thead th {\n",
       "        text-align: right;\n",
       "    }\n",
       "</style>\n",
       "<table border=\"1\" class=\"dataframe\">\n",
       "  <thead>\n",
       "    <tr style=\"text-align: right;\">\n",
       "      <th></th>\n",
       "      <th>User ID</th>\n",
       "      <th>Route ID</th>\n",
       "      <th>Start Hub</th>\n",
       "      <th>Start Area</th>\n",
       "      <th>Start Latitude</th>\n",
       "      <th>Start Longitude</th>\n",
       "      <th>Start Date</th>\n",
       "      <th>Start Week Day</th>\n",
       "      <th>Start Time</th>\n",
       "      <th>End Hub</th>\n",
       "      <th>...</th>\n",
       "      <th>Bike ID</th>\n",
       "      <th>Bike Name</th>\n",
       "      <th>Distance [Miles]</th>\n",
       "      <th>Duration</th>\n",
       "      <th>Multiple Rental</th>\n",
       "      <th>Ride Cost</th>\n",
       "      <th>Fees</th>\n",
       "      <th>Bonuses</th>\n",
       "      <th>Total Cost</th>\n",
       "      <th>Payment plan</th>\n",
       "    </tr>\n",
       "  </thead>\n",
       "  <tbody>\n",
       "    <tr>\n",
       "      <th>0</th>\n",
       "      <td>762507</td>\n",
       "      <td>11291076</td>\n",
       "      <td>NaN</td>\n",
       "      <td>Phase 1 System Area</td>\n",
       "      <td>44.045575</td>\n",
       "      <td>-123.0945317</td>\n",
       "      <td>5/1/2019</td>\n",
       "      <td>Wednesday</td>\n",
       "      <td>0:04</td>\n",
       "      <td>13th &amp; Lawrence</td>\n",
       "      <td>...</td>\n",
       "      <td>19793</td>\n",
       "      <td>263</td>\n",
       "      <td>0.21</td>\n",
       "      <td>0:03:07</td>\n",
       "      <td>False</td>\n",
       "      <td>1.0</td>\n",
       "      <td>0</td>\n",
       "      <td>-1</td>\n",
       "      <td>0.0</td>\n",
       "      <td>Single Ride</td>\n",
       "    </tr>\n",
       "    <tr>\n",
       "      <th>1</th>\n",
       "      <td>775345</td>\n",
       "      <td>11291083</td>\n",
       "      <td>17th &amp; Hilyard</td>\n",
       "      <td>Phase 1 System Area</td>\n",
       "      <td>44.04107</td>\n",
       "      <td>-123.0819067</td>\n",
       "      <td>5/1/2019</td>\n",
       "      <td>Wednesday</td>\n",
       "      <td>0:10</td>\n",
       "      <td>17th &amp; Pearl, East side</td>\n",
       "      <td>...</td>\n",
       "      <td>19717</td>\n",
       "      <td>187</td>\n",
       "      <td>0.38</td>\n",
       "      <td>0:03:37</td>\n",
       "      <td>False</td>\n",
       "      <td>0.0</td>\n",
       "      <td>0</td>\n",
       "      <td>0</td>\n",
       "      <td>0.0</td>\n",
       "      <td>UO Single Ride</td>\n",
       "    </tr>\n",
       "    <tr>\n",
       "      <th>2</th>\n",
       "      <td>784725</td>\n",
       "      <td>11291122</td>\n",
       "      <td>19th and Agate</td>\n",
       "      <td>Phase 1 System Area</td>\n",
       "      <td>44.03919</td>\n",
       "      <td>-123.0695917</td>\n",
       "      <td>5/1/2019</td>\n",
       "      <td>Wednesday</td>\n",
       "      <td>1:03</td>\n",
       "      <td>12th &amp; Willamette</td>\n",
       "      <td>...</td>\n",
       "      <td>19823</td>\n",
       "      <td>293</td>\n",
       "      <td>1.76</td>\n",
       "      <td>0:09:34</td>\n",
       "      <td>False</td>\n",
       "      <td>0.0</td>\n",
       "      <td>0</td>\n",
       "      <td>0</td>\n",
       "      <td>0.0</td>\n",
       "      <td>UO Monthly Plan</td>\n",
       "    </tr>\n",
       "    <tr>\n",
       "      <th>3</th>\n",
       "      <td>762507</td>\n",
       "      <td>11291148</td>\n",
       "      <td>13th &amp; Lawrence</td>\n",
       "      <td>Phase 1 System Area</td>\n",
       "      <td>44.045325</td>\n",
       "      <td>-123.0984033</td>\n",
       "      <td>5/1/2019</td>\n",
       "      <td>Wednesday</td>\n",
       "      <td>1:37</td>\n",
       "      <td>Broadway &amp; Willamette</td>\n",
       "      <td>...</td>\n",
       "      <td>19793</td>\n",
       "      <td>263</td>\n",
       "      <td>0.59</td>\n",
       "      <td>0:07:48</td>\n",
       "      <td>False</td>\n",
       "      <td>0.0</td>\n",
       "      <td>0</td>\n",
       "      <td>0</td>\n",
       "      <td>0.0</td>\n",
       "      <td>Monthly Plan</td>\n",
       "    </tr>\n",
       "    <tr>\n",
       "      <th>4</th>\n",
       "      <td>762507</td>\n",
       "      <td>11291173</td>\n",
       "      <td>10th &amp; Olive SE</td>\n",
       "      <td>Phase 1 System Area</td>\n",
       "      <td>44.04917667</td>\n",
       "      <td>-123.0943933</td>\n",
       "      <td>5/1/2019</td>\n",
       "      <td>Wednesday</td>\n",
       "      <td>2:27</td>\n",
       "      <td>13th &amp; Lawrence</td>\n",
       "      <td>...</td>\n",
       "      <td>19700</td>\n",
       "      <td>170</td>\n",
       "      <td>0.48</td>\n",
       "      <td>0:05:52</td>\n",
       "      <td>False</td>\n",
       "      <td>0.0</td>\n",
       "      <td>0</td>\n",
       "      <td>0</td>\n",
       "      <td>0.0</td>\n",
       "      <td>Monthly Plan</td>\n",
       "    </tr>\n",
       "  </tbody>\n",
       "</table>\n",
       "<p>5 rows × 25 columns</p>\n",
       "</div>"
      ],
      "text/plain": [
       "   User ID  Route ID        Start Hub           Start Area Start Latitude  \\\n",
       "0   762507  11291076              NaN  Phase 1 System Area      44.045575   \n",
       "1   775345  11291083   17th & Hilyard  Phase 1 System Area       44.04107   \n",
       "2   784725  11291122   19th and Agate  Phase 1 System Area       44.03919   \n",
       "3   762507  11291148  13th & Lawrence  Phase 1 System Area      44.045325   \n",
       "4   762507  11291173  10th & Olive SE  Phase 1 System Area    44.04917667   \n",
       "\n",
       "  Start Longitude Start Date Start Week Day Start Time  \\\n",
       "0    -123.0945317   5/1/2019      Wednesday       0:04   \n",
       "1    -123.0819067   5/1/2019      Wednesday       0:10   \n",
       "2    -123.0695917   5/1/2019      Wednesday       1:03   \n",
       "3    -123.0984033   5/1/2019      Wednesday       1:37   \n",
       "4    -123.0943933   5/1/2019      Wednesday       2:27   \n",
       "\n",
       "                   End Hub  ... Bike ID Bike Name Distance [Miles] Duration  \\\n",
       "0          13th & Lawrence  ...   19793       263             0.21  0:03:07   \n",
       "1  17th & Pearl, East side  ...   19717       187             0.38  0:03:37   \n",
       "2        12th & Willamette  ...   19823       293             1.76  0:09:34   \n",
       "3    Broadway & Willamette  ...   19793       263             0.59  0:07:48   \n",
       "4          13th & Lawrence  ...   19700       170             0.48  0:05:52   \n",
       "\n",
       "  Multiple Rental  Ride Cost Fees  Bonuses Total Cost     Payment plan  \n",
       "0           False        1.0    0       -1        0.0      Single Ride  \n",
       "1           False        0.0    0        0        0.0   UO Single Ride  \n",
       "2           False        0.0    0        0        0.0  UO Monthly Plan  \n",
       "3           False        0.0    0        0        0.0     Monthly Plan  \n",
       "4           False        0.0    0        0        0.0     Monthly Plan  \n",
       "\n",
       "[5 rows x 25 columns]"
      ]
     },
     "execution_count": 4,
     "metadata": {},
     "output_type": "execute_result"
    }
   ],
   "source": [
    "odf = pd.read_csv(os.path.join(inpath, \"trips_peace_health_rides_05_01_2019-05_31_2019.csv\"))\n",
    "odf.head()"
   ]
  },
  {
   "cell_type": "code",
   "execution_count": 7,
   "id": "d0af0e31",
   "metadata": {},
   "outputs": [
    {
     "data": {
      "text/plain": [
       "Index(['User ID', 'Route ID', 'Start Hub', 'Start Area', 'Start Latitude',\n",
       "       'Start Longitude', 'Start Date', 'Start Week Day', 'Start Time',\n",
       "       'End Hub', 'End Area', 'End Latitude', 'End Longitude', 'End Date',\n",
       "       'End Time', 'Bike ID', 'Bike Name', 'Distance [Miles]', 'Duration',\n",
       "       'Multiple Rental', 'Ride Cost', 'Fees', 'Bonuses', 'Total Cost',\n",
       "       'Payment plan'],\n",
       "      dtype='object')"
      ]
     },
     "execution_count": 7,
     "metadata": {},
     "output_type": "execute_result"
    }
   ],
   "source": [
    "odf.columns"
   ]
  },
  {
   "cell_type": "code",
   "execution_count": 5,
   "id": "3098b831",
   "metadata": {},
   "outputs": [],
   "source": [
    "df = odf "
   ]
  },
  {
   "cell_type": "code",
   "execution_count": 12,
   "id": "1bdcf62a",
   "metadata": {},
   "outputs": [],
   "source": [
    "df = df[(df['Start Latitude'] != \" - \") | (df['End Latitude'] != \" - \" ) | (df['Start Longitude'] != \" - \") | (df['End Longitude'] != \" - \")]"
   ]
  },
  {
   "cell_type": "code",
   "execution_count": 13,
   "id": "ade06ee8",
   "metadata": {},
   "outputs": [
    {
     "data": {
      "text/plain": [
       "'44.045575,-123.0945317'"
      ]
     },
     "execution_count": 13,
     "metadata": {},
     "output_type": "execute_result"
    }
   ],
   "source": [
    "df[\"startgeom\"] = df[\"Start Latitude\"].map(str) + ',' + df['Start Longitude'].map(str)\n",
    "df[\"startgeom\"][0]"
   ]
  },
  {
   "cell_type": "code",
   "execution_count": 14,
   "id": "1b4af286",
   "metadata": {},
   "outputs": [
    {
     "data": {
      "text/plain": [
       "'44.04532667,-123.098445'"
      ]
     },
     "execution_count": 14,
     "metadata": {},
     "output_type": "execute_result"
    }
   ],
   "source": [
    "df[\"endgeom\"] = df[\"End Latitude\"].map(str) + ',' + df['End Longitude'].map(str)\n",
    "df[\"endgeom\"][0]"
   ]
  },
  {
   "cell_type": "code",
   "execution_count": 15,
   "id": "2790487b",
   "metadata": {},
   "outputs": [],
   "source": [
    "locator = Nominatim(user_agent=\"measurements\", timeout=10)\n",
    "rgeocode = RateLimiter(locator.reverse, min_delay_seconds=0.00001)"
   ]
  },
  {
   "cell_type": "code",
   "execution_count": 16,
   "id": "c204df30",
   "metadata": {},
   "outputs": [],
   "source": [
    "tqdm_notebook.pandas()"
   ]
  },
  {
   "cell_type": "code",
   "execution_count": 17,
   "id": "702d3846",
   "metadata": {},
   "outputs": [
    {
     "data": {
      "application/vnd.jupyter.widget-view+json": {
       "model_id": "008eed2660dd4949a5e1f0f2fd962e0d",
       "version_major": 2,
       "version_minor": 0
      },
      "text/plain": [
       "  0%|          | 0/27667 [00:00<?, ?it/s]"
      ]
     },
     "metadata": {},
     "output_type": "display_data"
    },
    {
     "data": {
      "text/html": [
       "<div>\n",
       "<style scoped>\n",
       "    .dataframe tbody tr th:only-of-type {\n",
       "        vertical-align: middle;\n",
       "    }\n",
       "\n",
       "    .dataframe tbody tr th {\n",
       "        vertical-align: top;\n",
       "    }\n",
       "\n",
       "    .dataframe thead th {\n",
       "        text-align: right;\n",
       "    }\n",
       "</style>\n",
       "<table border=\"1\" class=\"dataframe\">\n",
       "  <thead>\n",
       "    <tr style=\"text-align: right;\">\n",
       "      <th></th>\n",
       "      <th>User ID</th>\n",
       "      <th>Route ID</th>\n",
       "      <th>Start Hub</th>\n",
       "      <th>Start Area</th>\n",
       "      <th>Start Latitude</th>\n",
       "      <th>Start Longitude</th>\n",
       "      <th>Start Date</th>\n",
       "      <th>Start Week Day</th>\n",
       "      <th>Start Time</th>\n",
       "      <th>End Hub</th>\n",
       "      <th>...</th>\n",
       "      <th>Duration</th>\n",
       "      <th>Multiple Rental</th>\n",
       "      <th>Ride Cost</th>\n",
       "      <th>Fees</th>\n",
       "      <th>Bonuses</th>\n",
       "      <th>Total Cost</th>\n",
       "      <th>Payment plan</th>\n",
       "      <th>startgeom</th>\n",
       "      <th>endgeom</th>\n",
       "      <th>startaddress</th>\n",
       "    </tr>\n",
       "  </thead>\n",
       "  <tbody>\n",
       "    <tr>\n",
       "      <th>0</th>\n",
       "      <td>762507</td>\n",
       "      <td>11291076</td>\n",
       "      <td>NaN</td>\n",
       "      <td>Phase 1 System Area</td>\n",
       "      <td>44.045575</td>\n",
       "      <td>-123.0945317</td>\n",
       "      <td>5/1/2019</td>\n",
       "      <td>Wednesday</td>\n",
       "      <td>0:04</td>\n",
       "      <td>13th &amp; Lawrence</td>\n",
       "      <td>...</td>\n",
       "      <td>0:03:07</td>\n",
       "      <td>False</td>\n",
       "      <td>1.0</td>\n",
       "      <td>0</td>\n",
       "      <td>-1</td>\n",
       "      <td>0.0</td>\n",
       "      <td>Single Ride</td>\n",
       "      <td>44.045575,-123.0945317</td>\n",
       "      <td>44.04532667,-123.098445</td>\n",
       "      <td>(13th &amp; Olive, Olive Alley, Eugene, Lane Count...</td>\n",
       "    </tr>\n",
       "    <tr>\n",
       "      <th>1</th>\n",
       "      <td>775345</td>\n",
       "      <td>11291083</td>\n",
       "      <td>17th &amp; Hilyard</td>\n",
       "      <td>Phase 1 System Area</td>\n",
       "      <td>44.04107</td>\n",
       "      <td>-123.0819067</td>\n",
       "      <td>5/1/2019</td>\n",
       "      <td>Wednesday</td>\n",
       "      <td>0:10</td>\n",
       "      <td>17th &amp; Pearl, East side</td>\n",
       "      <td>...</td>\n",
       "      <td>0:03:37</td>\n",
       "      <td>False</td>\n",
       "      <td>0.0</td>\n",
       "      <td>0</td>\n",
       "      <td>0</td>\n",
       "      <td>0.0</td>\n",
       "      <td>UO Single Ride</td>\n",
       "      <td>44.04107,-123.0819067</td>\n",
       "      <td>44.04118333,-123.0894917</td>\n",
       "      <td>(Peace Lutheran, East 17th Avenue, College Hil...</td>\n",
       "    </tr>\n",
       "    <tr>\n",
       "      <th>2</th>\n",
       "      <td>784725</td>\n",
       "      <td>11291122</td>\n",
       "      <td>19th and Agate</td>\n",
       "      <td>Phase 1 System Area</td>\n",
       "      <td>44.03919</td>\n",
       "      <td>-123.0695917</td>\n",
       "      <td>5/1/2019</td>\n",
       "      <td>Wednesday</td>\n",
       "      <td>1:03</td>\n",
       "      <td>12th &amp; Willamette</td>\n",
       "      <td>...</td>\n",
       "      <td>0:09:34</td>\n",
       "      <td>False</td>\n",
       "      <td>0.0</td>\n",
       "      <td>0</td>\n",
       "      <td>0</td>\n",
       "      <td>0.0</td>\n",
       "      <td>UO Monthly Plan</td>\n",
       "      <td>44.03919,-123.0695917</td>\n",
       "      <td>44.04650333,-123.0929017</td>\n",
       "      <td>(University of Oregon, Sunset Alley, Eugene, L...</td>\n",
       "    </tr>\n",
       "    <tr>\n",
       "      <th>3</th>\n",
       "      <td>762507</td>\n",
       "      <td>11291148</td>\n",
       "      <td>13th &amp; Lawrence</td>\n",
       "      <td>Phase 1 System Area</td>\n",
       "      <td>44.045325</td>\n",
       "      <td>-123.0984033</td>\n",
       "      <td>5/1/2019</td>\n",
       "      <td>Wednesday</td>\n",
       "      <td>1:37</td>\n",
       "      <td>Broadway &amp; Willamette</td>\n",
       "      <td>...</td>\n",
       "      <td>0:07:48</td>\n",
       "      <td>False</td>\n",
       "      <td>0.0</td>\n",
       "      <td>0</td>\n",
       "      <td>0</td>\n",
       "      <td>0.0</td>\n",
       "      <td>Monthly Plan</td>\n",
       "      <td>44.045325,-123.0984033</td>\n",
       "      <td>44.04964836,-123.0926925</td>\n",
       "      <td>(1307, Lawrence Street, Eugene, Lane County, O...</td>\n",
       "    </tr>\n",
       "    <tr>\n",
       "      <th>4</th>\n",
       "      <td>762507</td>\n",
       "      <td>11291173</td>\n",
       "      <td>10th &amp; Olive SE</td>\n",
       "      <td>Phase 1 System Area</td>\n",
       "      <td>44.04917667</td>\n",
       "      <td>-123.0943933</td>\n",
       "      <td>5/1/2019</td>\n",
       "      <td>Wednesday</td>\n",
       "      <td>2:27</td>\n",
       "      <td>13th &amp; Lawrence</td>\n",
       "      <td>...</td>\n",
       "      <td>0:05:52</td>\n",
       "      <td>False</td>\n",
       "      <td>0.0</td>\n",
       "      <td>0</td>\n",
       "      <td>0</td>\n",
       "      <td>0.0</td>\n",
       "      <td>Monthly Plan</td>\n",
       "      <td>44.04917667,-123.0943933</td>\n",
       "      <td>44.04529333,-123.0984417</td>\n",
       "      <td>(Lane Community College Downtown Campus, West ...</td>\n",
       "    </tr>\n",
       "  </tbody>\n",
       "</table>\n",
       "<p>5 rows × 28 columns</p>\n",
       "</div>"
      ],
      "text/plain": [
       "   User ID  Route ID        Start Hub           Start Area Start Latitude  \\\n",
       "0   762507  11291076              NaN  Phase 1 System Area      44.045575   \n",
       "1   775345  11291083   17th & Hilyard  Phase 1 System Area       44.04107   \n",
       "2   784725  11291122   19th and Agate  Phase 1 System Area       44.03919   \n",
       "3   762507  11291148  13th & Lawrence  Phase 1 System Area      44.045325   \n",
       "4   762507  11291173  10th & Olive SE  Phase 1 System Area    44.04917667   \n",
       "\n",
       "  Start Longitude Start Date Start Week Day Start Time  \\\n",
       "0    -123.0945317   5/1/2019      Wednesday       0:04   \n",
       "1    -123.0819067   5/1/2019      Wednesday       0:10   \n",
       "2    -123.0695917   5/1/2019      Wednesday       1:03   \n",
       "3    -123.0984033   5/1/2019      Wednesday       1:37   \n",
       "4    -123.0943933   5/1/2019      Wednesday       2:27   \n",
       "\n",
       "                   End Hub  ... Duration Multiple Rental Ride Cost Fees  \\\n",
       "0          13th & Lawrence  ...  0:03:07           False       1.0    0   \n",
       "1  17th & Pearl, East side  ...  0:03:37           False       0.0    0   \n",
       "2        12th & Willamette  ...  0:09:34           False       0.0    0   \n",
       "3    Broadway & Willamette  ...  0:07:48           False       0.0    0   \n",
       "4          13th & Lawrence  ...  0:05:52           False       0.0    0   \n",
       "\n",
       "  Bonuses  Total Cost     Payment plan                 startgeom  \\\n",
       "0      -1         0.0      Single Ride    44.045575,-123.0945317   \n",
       "1       0         0.0   UO Single Ride     44.04107,-123.0819067   \n",
       "2       0         0.0  UO Monthly Plan     44.03919,-123.0695917   \n",
       "3       0         0.0     Monthly Plan    44.045325,-123.0984033   \n",
       "4       0         0.0     Monthly Plan  44.04917667,-123.0943933   \n",
       "\n",
       "                    endgeom                                       startaddress  \n",
       "0   44.04532667,-123.098445  (13th & Olive, Olive Alley, Eugene, Lane Count...  \n",
       "1  44.04118333,-123.0894917  (Peace Lutheran, East 17th Avenue, College Hil...  \n",
       "2  44.04650333,-123.0929017  (University of Oregon, Sunset Alley, Eugene, L...  \n",
       "3  44.04964836,-123.0926925  (1307, Lawrence Street, Eugene, Lane County, O...  \n",
       "4  44.04529333,-123.0984417  (Lane Community College Downtown Campus, West ...  \n",
       "\n",
       "[5 rows x 28 columns]"
      ]
     },
     "execution_count": 17,
     "metadata": {},
     "output_type": "execute_result"
    }
   ],
   "source": [
    "df['startaddress'] = df['startgeom'].progress_apply(rgeocode)\n",
    "df.head()"
   ]
  },
  {
   "cell_type": "code",
   "execution_count": 18,
   "id": "7f79ce39",
   "metadata": {},
   "outputs": [
    {
     "data": {
      "application/vnd.jupyter.widget-view+json": {
       "model_id": "27258ecb45fa41149e7786bd127efeb1",
       "version_major": 2,
       "version_minor": 0
      },
      "text/plain": [
       "  0%|          | 0/27667 [00:00<?, ?it/s]"
      ]
     },
     "metadata": {},
     "output_type": "display_data"
    },
    {
     "data": {
      "text/html": [
       "<div>\n",
       "<style scoped>\n",
       "    .dataframe tbody tr th:only-of-type {\n",
       "        vertical-align: middle;\n",
       "    }\n",
       "\n",
       "    .dataframe tbody tr th {\n",
       "        vertical-align: top;\n",
       "    }\n",
       "\n",
       "    .dataframe thead th {\n",
       "        text-align: right;\n",
       "    }\n",
       "</style>\n",
       "<table border=\"1\" class=\"dataframe\">\n",
       "  <thead>\n",
       "    <tr style=\"text-align: right;\">\n",
       "      <th></th>\n",
       "      <th>User ID</th>\n",
       "      <th>Route ID</th>\n",
       "      <th>Start Hub</th>\n",
       "      <th>Start Area</th>\n",
       "      <th>Start Latitude</th>\n",
       "      <th>Start Longitude</th>\n",
       "      <th>Start Date</th>\n",
       "      <th>Start Week Day</th>\n",
       "      <th>Start Time</th>\n",
       "      <th>End Hub</th>\n",
       "      <th>...</th>\n",
       "      <th>Multiple Rental</th>\n",
       "      <th>Ride Cost</th>\n",
       "      <th>Fees</th>\n",
       "      <th>Bonuses</th>\n",
       "      <th>Total Cost</th>\n",
       "      <th>Payment plan</th>\n",
       "      <th>startgeom</th>\n",
       "      <th>endgeom</th>\n",
       "      <th>startaddress</th>\n",
       "      <th>endaddress</th>\n",
       "    </tr>\n",
       "  </thead>\n",
       "  <tbody>\n",
       "    <tr>\n",
       "      <th>0</th>\n",
       "      <td>762507</td>\n",
       "      <td>11291076</td>\n",
       "      <td>NaN</td>\n",
       "      <td>Phase 1 System Area</td>\n",
       "      <td>44.045575</td>\n",
       "      <td>-123.0945317</td>\n",
       "      <td>5/1/2019</td>\n",
       "      <td>Wednesday</td>\n",
       "      <td>0:04</td>\n",
       "      <td>13th &amp; Lawrence</td>\n",
       "      <td>...</td>\n",
       "      <td>False</td>\n",
       "      <td>1.0</td>\n",
       "      <td>0</td>\n",
       "      <td>-1</td>\n",
       "      <td>0.0</td>\n",
       "      <td>Single Ride</td>\n",
       "      <td>44.045575,-123.0945317</td>\n",
       "      <td>44.04532667,-123.098445</td>\n",
       "      <td>(13th &amp; Olive, Olive Alley, Eugene, Lane Count...</td>\n",
       "      <td>(1306, Lawrence Street, Eugene, Lane County, O...</td>\n",
       "    </tr>\n",
       "    <tr>\n",
       "      <th>1</th>\n",
       "      <td>775345</td>\n",
       "      <td>11291083</td>\n",
       "      <td>17th &amp; Hilyard</td>\n",
       "      <td>Phase 1 System Area</td>\n",
       "      <td>44.04107</td>\n",
       "      <td>-123.0819067</td>\n",
       "      <td>5/1/2019</td>\n",
       "      <td>Wednesday</td>\n",
       "      <td>0:10</td>\n",
       "      <td>17th &amp; Pearl, East side</td>\n",
       "      <td>...</td>\n",
       "      <td>False</td>\n",
       "      <td>0.0</td>\n",
       "      <td>0</td>\n",
       "      <td>0</td>\n",
       "      <td>0.0</td>\n",
       "      <td>UO Single Ride</td>\n",
       "      <td>44.04107,-123.0819067</td>\n",
       "      <td>44.04118333,-123.0894917</td>\n",
       "      <td>(Peace Lutheran, East 17th Avenue, College Hil...</td>\n",
       "      <td>(The Pearl, 1661, Pearl Street, College Hill, ...</td>\n",
       "    </tr>\n",
       "    <tr>\n",
       "      <th>2</th>\n",
       "      <td>784725</td>\n",
       "      <td>11291122</td>\n",
       "      <td>19th and Agate</td>\n",
       "      <td>Phase 1 System Area</td>\n",
       "      <td>44.03919</td>\n",
       "      <td>-123.0695917</td>\n",
       "      <td>5/1/2019</td>\n",
       "      <td>Wednesday</td>\n",
       "      <td>1:03</td>\n",
       "      <td>12th &amp; Willamette</td>\n",
       "      <td>...</td>\n",
       "      <td>False</td>\n",
       "      <td>0.0</td>\n",
       "      <td>0</td>\n",
       "      <td>0</td>\n",
       "      <td>0.0</td>\n",
       "      <td>UO Monthly Plan</td>\n",
       "      <td>44.03919,-123.0695917</td>\n",
       "      <td>44.04650333,-123.0929017</td>\n",
       "      <td>(University of Oregon, Sunset Alley, Eugene, L...</td>\n",
       "      <td>(13th and Olive (Willamette), West 13th Avenue...</td>\n",
       "    </tr>\n",
       "    <tr>\n",
       "      <th>3</th>\n",
       "      <td>762507</td>\n",
       "      <td>11291148</td>\n",
       "      <td>13th &amp; Lawrence</td>\n",
       "      <td>Phase 1 System Area</td>\n",
       "      <td>44.045325</td>\n",
       "      <td>-123.0984033</td>\n",
       "      <td>5/1/2019</td>\n",
       "      <td>Wednesday</td>\n",
       "      <td>1:37</td>\n",
       "      <td>Broadway &amp; Willamette</td>\n",
       "      <td>...</td>\n",
       "      <td>False</td>\n",
       "      <td>0.0</td>\n",
       "      <td>0</td>\n",
       "      <td>0</td>\n",
       "      <td>0.0</td>\n",
       "      <td>Monthly Plan</td>\n",
       "      <td>44.045325,-123.0984033</td>\n",
       "      <td>44.04964836,-123.0926925</td>\n",
       "      <td>(1307, Lawrence Street, Eugene, Lane County, O...</td>\n",
       "      <td>(Kesey Square, Eugene, Lane County, Oregon, Un...</td>\n",
       "    </tr>\n",
       "    <tr>\n",
       "      <th>4</th>\n",
       "      <td>762507</td>\n",
       "      <td>11291173</td>\n",
       "      <td>10th &amp; Olive SE</td>\n",
       "      <td>Phase 1 System Area</td>\n",
       "      <td>44.04917667</td>\n",
       "      <td>-123.0943933</td>\n",
       "      <td>5/1/2019</td>\n",
       "      <td>Wednesday</td>\n",
       "      <td>2:27</td>\n",
       "      <td>13th &amp; Lawrence</td>\n",
       "      <td>...</td>\n",
       "      <td>False</td>\n",
       "      <td>0.0</td>\n",
       "      <td>0</td>\n",
       "      <td>0</td>\n",
       "      <td>0.0</td>\n",
       "      <td>Monthly Plan</td>\n",
       "      <td>44.04917667,-123.0943933</td>\n",
       "      <td>44.04529333,-123.0984417</td>\n",
       "      <td>(Lane Community College Downtown Campus, West ...</td>\n",
       "      <td>(1308, Lawrence Street, Eugene, Lane County, O...</td>\n",
       "    </tr>\n",
       "  </tbody>\n",
       "</table>\n",
       "<p>5 rows × 29 columns</p>\n",
       "</div>"
      ],
      "text/plain": [
       "   User ID  Route ID        Start Hub           Start Area Start Latitude  \\\n",
       "0   762507  11291076              NaN  Phase 1 System Area      44.045575   \n",
       "1   775345  11291083   17th & Hilyard  Phase 1 System Area       44.04107   \n",
       "2   784725  11291122   19th and Agate  Phase 1 System Area       44.03919   \n",
       "3   762507  11291148  13th & Lawrence  Phase 1 System Area      44.045325   \n",
       "4   762507  11291173  10th & Olive SE  Phase 1 System Area    44.04917667   \n",
       "\n",
       "  Start Longitude Start Date Start Week Day Start Time  \\\n",
       "0    -123.0945317   5/1/2019      Wednesday       0:04   \n",
       "1    -123.0819067   5/1/2019      Wednesday       0:10   \n",
       "2    -123.0695917   5/1/2019      Wednesday       1:03   \n",
       "3    -123.0984033   5/1/2019      Wednesday       1:37   \n",
       "4    -123.0943933   5/1/2019      Wednesday       2:27   \n",
       "\n",
       "                   End Hub  ... Multiple Rental Ride Cost Fees Bonuses  \\\n",
       "0          13th & Lawrence  ...           False       1.0    0      -1   \n",
       "1  17th & Pearl, East side  ...           False       0.0    0       0   \n",
       "2        12th & Willamette  ...           False       0.0    0       0   \n",
       "3    Broadway & Willamette  ...           False       0.0    0       0   \n",
       "4          13th & Lawrence  ...           False       0.0    0       0   \n",
       "\n",
       "  Total Cost     Payment plan                 startgeom  \\\n",
       "0        0.0      Single Ride    44.045575,-123.0945317   \n",
       "1        0.0   UO Single Ride     44.04107,-123.0819067   \n",
       "2        0.0  UO Monthly Plan     44.03919,-123.0695917   \n",
       "3        0.0     Monthly Plan    44.045325,-123.0984033   \n",
       "4        0.0     Monthly Plan  44.04917667,-123.0943933   \n",
       "\n",
       "                    endgeom  \\\n",
       "0   44.04532667,-123.098445   \n",
       "1  44.04118333,-123.0894917   \n",
       "2  44.04650333,-123.0929017   \n",
       "3  44.04964836,-123.0926925   \n",
       "4  44.04529333,-123.0984417   \n",
       "\n",
       "                                        startaddress  \\\n",
       "0  (13th & Olive, Olive Alley, Eugene, Lane Count...   \n",
       "1  (Peace Lutheran, East 17th Avenue, College Hil...   \n",
       "2  (University of Oregon, Sunset Alley, Eugene, L...   \n",
       "3  (1307, Lawrence Street, Eugene, Lane County, O...   \n",
       "4  (Lane Community College Downtown Campus, West ...   \n",
       "\n",
       "                                          endaddress  \n",
       "0  (1306, Lawrence Street, Eugene, Lane County, O...  \n",
       "1  (The Pearl, 1661, Pearl Street, College Hill, ...  \n",
       "2  (13th and Olive (Willamette), West 13th Avenue...  \n",
       "3  (Kesey Square, Eugene, Lane County, Oregon, Un...  \n",
       "4  (1308, Lawrence Street, Eugene, Lane County, O...  \n",
       "\n",
       "[5 rows x 29 columns]"
      ]
     },
     "execution_count": 18,
     "metadata": {},
     "output_type": "execute_result"
    }
   ],
   "source": [
    "df['endaddress'] = df['endgeom'].progress_apply(rgeocode)\n",
    "df.head()"
   ]
  },
  {
   "cell_type": "code",
   "execution_count": 22,
   "id": "048a9b19",
   "metadata": {},
   "outputs": [],
   "source": [
    "def getLoc(x):\n",
    "    if x is not None:\n",
    "        loc = x.raw['address']\n",
    "        a = [key for key, value in loc.items()][0]\n",
    "        b = [key for key, value in loc.items()][1]\n",
    "        if  a == 'house_number':\n",
    "            res = loc['road'] + ' ' + loc['house_number']\n",
    "        else:\n",
    "            res = loc[a]\n",
    "            if res == \"University of Oregon\":\n",
    "                res = \"UO \" + loc[b]\n",
    "    else:\n",
    "        res = \"\"\n",
    "    return res"
   ]
  },
  {
   "cell_type": "code",
   "execution_count": 29,
   "id": "239b9ce7",
   "metadata": {},
   "outputs": [],
   "source": [
    "df['startname'] = df.startaddress.apply(lambda x: getLoc(x))"
   ]
  },
  {
   "cell_type": "code",
   "execution_count": 30,
   "id": "33731a83",
   "metadata": {},
   "outputs": [],
   "source": [
    "df['endname'] = df.endaddress.apply(lambda x: getLoc(x))"
   ]
  },
  {
   "cell_type": "code",
   "execution_count": 32,
   "id": "a36be9c6",
   "metadata": {},
   "outputs": [
    {
     "data": {
      "text/plain": [
       "Index(['User ID', 'Route ID', 'Start Hub', 'Start Area', 'Start Latitude',\n",
       "       'Start Longitude', 'Start Date', 'Start Week Day', 'Start Time',\n",
       "       'End Hub', 'End Area', 'End Latitude', 'End Longitude', 'End Date',\n",
       "       'End Time', 'Bike ID', 'Bike Name', 'Distance [Miles]', 'Duration',\n",
       "       'Multiple Rental', 'Ride Cost', 'Fees', 'Bonuses', 'Total Cost',\n",
       "       'Payment plan', 'startgeom', 'endgeom', 'startaddress', 'endaddress',\n",
       "       'startname', 'endname'],\n",
       "      dtype='object')"
      ]
     },
     "execution_count": 32,
     "metadata": {},
     "output_type": "execute_result"
    }
   ],
   "source": [
    "df.columns"
   ]
  },
  {
   "cell_type": "code",
   "execution_count": 44,
   "id": "b8029094",
   "metadata": {},
   "outputs": [],
   "source": [
    "df.loc[df['Start Hub'].isnull(), 'Start Hub'] = df.loc[df['Start Hub'].isnull(), 'startname']"
   ]
  },
  {
   "cell_type": "code",
   "execution_count": 45,
   "id": "dca87fac",
   "metadata": {},
   "outputs": [],
   "source": [
    "df.loc[df['End Hub'].isnull(), 'End Hub'] = df.loc[df['End Hub'].isnull(), 'endname']"
   ]
  },
  {
   "cell_type": "code",
   "execution_count": 50,
   "id": "d14c2a7f",
   "metadata": {},
   "outputs": [],
   "source": [
    "df.to_csv(os.path.join(inpath, \"trips_peace_health_rides_05_01_2019-05_31_2019_updated.csv\"), index=False)"
   ]
  },
  {
   "cell_type": "code",
   "execution_count": 51,
   "id": "1d5efa4e",
   "metadata": {},
   "outputs": [],
   "source": [
    "ndf = df.drop(['startgeom', 'endgeom', 'startaddress', 'endaddress',\n",
    "       'startname', 'endname'], axis=1)"
   ]
  },
  {
   "cell_type": "code",
   "execution_count": 54,
   "id": "29190ac7",
   "metadata": {},
   "outputs": [],
   "source": [
    "outpath = r\"T:\\DCProjects\\StoryMap\\BikeCounting\\BikeShare\\Data\\Output\""
   ]
  },
  {
   "cell_type": "code",
   "execution_count": 55,
   "id": "5dd6631c",
   "metadata": {},
   "outputs": [],
   "source": [
    "ndf.to_csv(os.path.join(outpath, \"trips_peace_health_rides_05_01_2019-05_31_2019.csv\"), index=False)"
   ]
  },
  {
   "cell_type": "code",
   "execution_count": 1,
   "id": "e388d507",
   "metadata": {},
   "outputs": [],
   "source": [
    "path = r\"T:\\DCProjects\\StoryMap\\BikeCounting\\BikeShare\\Data\\Output\\review\""
   ]
  },
  {
   "cell_type": "code",
   "execution_count": 5,
   "id": "3616fd68",
   "metadata": {},
   "outputs": [],
   "source": [
    "files = glob.glob(os.path.join(path, \"*.csv\"))"
   ]
  },
  {
   "cell_type": "code",
   "execution_count": 50,
   "id": "85ccaf0e",
   "metadata": {},
   "outputs": [],
   "source": [
    "def review_hubs(re_df, strp='Eugene'):\n",
    "    for hub in [\"Start\", \"End\"]:\n",
    "        if hub+' Hub' in re_df.columns:\n",
    "            re = re_df[re_df[hub+' Hub'].str.contains(strp)][[hub+' Latitude', hub+' Longitude']]\n",
    "        else:\n",
    "            re = re_df[re_df[hub+'.Hub'].str.contains(strp)][[hub+'.Latitude', hub+'.Longitude']]\n",
    "        \n",
    "        if re.shape[0] > 0:\n",
    "            re.columns = ['Lat', 'Lon']\n",
    "            re[\"geom\"] = re[\"Lat\"].map(str) + ',' + re['Lon'].map(str)\n",
    "            locator = Nominatim(user_agent=\"measurements\", timeout=10)\n",
    "            rgeocode = RateLimiter(locator.reverse, min_delay_seconds=0.00001)\n",
    "            tqdm_notebook.pandas()\n",
    "            re['address'] = re['geom'].progress_apply(rgeocode)\n",
    "            re['name'] =re.address.apply(getLoc)\n",
    "            if hub+' Hub' in re_df.columns:\n",
    "                re_df.loc[re_df[hub+' Hub'].str.contains(strp), hub+' Hub'] = re.name.values  \n",
    "            else:\n",
    "                re_df.loc[re_df[hub+'.Hub'].str.contains(strp), hub+'.Hub'] = re.name.values\n",
    "    return re_df"
   ]
  },
  {
   "cell_type": "code",
   "execution_count": 20,
   "id": "aa38c568",
   "metadata": {},
   "outputs": [],
   "source": [
    "def review_hubs(re_df):\n",
    "    for hub in [\"Start\", \"End\"]:\n",
    "        if hub+' Hub' in re_df.columns:\n",
    "            if re_df[re_df[hub+' Hub'].isnull()].shape[0] > 0:\n",
    "                re = re_df[re_df[hub+' Hub'].isnull()][[hub+' Latitude', hub+' Longitude']]\n",
    "            else:\n",
    "                re = re_df[re_df[hub+' Hub'].str.isnumeric()][[hub+' Latitude', hub+' Longitude']]\n",
    "        else:\n",
    "            re = re_df[re_df[hub+'.Hub'].str.isnumeric()][[hub+'.Latitude', hub+'.Longitude']]\n",
    "        \n",
    "        if re.shape[0] > 0:\n",
    "            re.columns = ['Lat', 'Lon']\n",
    "            re[\"geom\"] = re[\"Lat\"].map(str) + ',' + re['Lon'].map(str)\n",
    "            locator = Nominatim(user_agent=\"measurements\", timeout=10)\n",
    "            rgeocode = RateLimiter(locator.reverse, min_delay_seconds=0.00001)\n",
    "            tqdm_notebook.pandas()\n",
    "            re['address'] = re['geom'].progress_apply(rgeocode)\n",
    "            re['name'] =re.address.apply(getLoc)\n",
    "            if hub+' Hub' in re_df.columns:\n",
    "                if re_df[re_df[hub+' Hub'].isnull()].shape[0] > 0:\n",
    "                    re_df.loc[re_df[hub+' Hub'].isnull(), hub+' Hub'] = re.name.values\n",
    "                else:\n",
    "                    re_df.loc[re_df[hub+' Hub'].str.isnumeric(), hub+' Hub'] = re.name.values  \n",
    "            else:\n",
    "                re_df.loc[re_df[hub+'.Hub'].str.isnumeric(), hub+'.Hub'] = re.name.values\n",
    "    return re_df"
   ]
  },
  {
   "cell_type": "code",
   "execution_count": 52,
   "id": "da583a60",
   "metadata": {},
   "outputs": [
    {
     "name": "stdout",
     "output_type": "stream",
     "text": [
      "T:\\DCProjects\\StoryMap\\BikeCounting\\BikeShare\\Data\\Output\\review\\trips_peace_health_rides_01_01_2019-01_31_2019.csv\n"
     ]
    },
    {
     "data": {
      "application/vnd.jupyter.widget-view+json": {
       "model_id": "0b0a291e75b149238e0b2638a03f67dc",
       "version_major": 2,
       "version_minor": 0
      },
      "text/plain": [
       "  0%|          | 0/30 [00:00<?, ?it/s]"
      ]
     },
     "metadata": {},
     "output_type": "display_data"
    },
    {
     "data": {
      "application/vnd.jupyter.widget-view+json": {
       "model_id": "2e66d4635e554da6920f43f65266e777",
       "version_major": 2,
       "version_minor": 0
      },
      "text/plain": [
       "  0%|          | 0/29 [00:00<?, ?it/s]"
      ]
     },
     "metadata": {},
     "output_type": "display_data"
    },
    {
     "name": "stdout",
     "output_type": "stream",
     "text": [
      "T:\\DCProjects\\StoryMap\\BikeCounting\\BikeShare\\Data\\Output\\review\\trips_peace_health_rides_01_01_2020-01_31_2020.csv\n"
     ]
    },
    {
     "data": {
      "application/vnd.jupyter.widget-view+json": {
       "model_id": "a19bd3cebaaf403189aca01a8c45006b",
       "version_major": 2,
       "version_minor": 0
      },
      "text/plain": [
       "  0%|          | 0/46 [00:00<?, ?it/s]"
      ]
     },
     "metadata": {},
     "output_type": "display_data"
    },
    {
     "data": {
      "application/vnd.jupyter.widget-view+json": {
       "model_id": "2c1e3cf83c004857a151f732d195456d",
       "version_major": 2,
       "version_minor": 0
      },
      "text/plain": [
       "  0%|          | 0/58 [00:00<?, ?it/s]"
      ]
     },
     "metadata": {},
     "output_type": "display_data"
    },
    {
     "name": "stdout",
     "output_type": "stream",
     "text": [
      "T:\\DCProjects\\StoryMap\\BikeCounting\\BikeShare\\Data\\Output\\review\\trips_peace_health_rides_01_01_2021-01_31_2021.csv\n"
     ]
    },
    {
     "data": {
      "application/vnd.jupyter.widget-view+json": {
       "model_id": "287d332f558943789a439deb922c0124",
       "version_major": 2,
       "version_minor": 0
      },
      "text/plain": [
       "  0%|          | 0/6 [00:00<?, ?it/s]"
      ]
     },
     "metadata": {},
     "output_type": "display_data"
    },
    {
     "data": {
      "application/vnd.jupyter.widget-view+json": {
       "model_id": "47a5d4c36a0c4ce2a17f75897d811093",
       "version_major": 2,
       "version_minor": 0
      },
      "text/plain": [
       "  0%|          | 0/8 [00:00<?, ?it/s]"
      ]
     },
     "metadata": {},
     "output_type": "display_data"
    },
    {
     "name": "stdout",
     "output_type": "stream",
     "text": [
      "T:\\DCProjects\\StoryMap\\BikeCounting\\BikeShare\\Data\\Output\\review\\trips_peace_health_rides_01_01_2022-01_31_2022.csv\n"
     ]
    },
    {
     "data": {
      "application/vnd.jupyter.widget-view+json": {
       "model_id": "b493ce54707d4942b843f38944c781b2",
       "version_major": 2,
       "version_minor": 0
      },
      "text/plain": [
       "  0%|          | 0/20 [00:00<?, ?it/s]"
      ]
     },
     "metadata": {},
     "output_type": "display_data"
    },
    {
     "data": {
      "application/vnd.jupyter.widget-view+json": {
       "model_id": "f6b9a09e53d14dc6826d9637bcb5dc3f",
       "version_major": 2,
       "version_minor": 0
      },
      "text/plain": [
       "  0%|          | 0/23 [00:00<?, ?it/s]"
      ]
     },
     "metadata": {},
     "output_type": "display_data"
    },
    {
     "name": "stdout",
     "output_type": "stream",
     "text": [
      "T:\\DCProjects\\StoryMap\\BikeCounting\\BikeShare\\Data\\Output\\review\\trips_peace_health_rides_02_01_2019-02_28_2019.csv\n"
     ]
    },
    {
     "data": {
      "application/vnd.jupyter.widget-view+json": {
       "model_id": "4680539b0475420d894563038aa90917",
       "version_major": 2,
       "version_minor": 0
      },
      "text/plain": [
       "  0%|          | 0/20 [00:00<?, ?it/s]"
      ]
     },
     "metadata": {},
     "output_type": "display_data"
    },
    {
     "data": {
      "application/vnd.jupyter.widget-view+json": {
       "model_id": "6d9789ad5dcf40b19ba0e11ea1a39d31",
       "version_major": 2,
       "version_minor": 0
      },
      "text/plain": [
       "  0%|          | 0/27 [00:00<?, ?it/s]"
      ]
     },
     "metadata": {},
     "output_type": "display_data"
    },
    {
     "name": "stdout",
     "output_type": "stream",
     "text": [
      "T:\\DCProjects\\StoryMap\\BikeCounting\\BikeShare\\Data\\Output\\review\\trips_peace_health_rides_02_01_2020-02_29_2020.csv\n"
     ]
    },
    {
     "data": {
      "application/vnd.jupyter.widget-view+json": {
       "model_id": "621260b8098e494fab2f3244896e19f3",
       "version_major": 2,
       "version_minor": 0
      },
      "text/plain": [
       "  0%|          | 0/40 [00:00<?, ?it/s]"
      ]
     },
     "metadata": {},
     "output_type": "display_data"
    },
    {
     "data": {
      "application/vnd.jupyter.widget-view+json": {
       "model_id": "041019c7ec7d4ed9bda07c8efe1ab5b6",
       "version_major": 2,
       "version_minor": 0
      },
      "text/plain": [
       "  0%|          | 0/48 [00:00<?, ?it/s]"
      ]
     },
     "metadata": {},
     "output_type": "display_data"
    },
    {
     "name": "stdout",
     "output_type": "stream",
     "text": [
      "T:\\DCProjects\\StoryMap\\BikeCounting\\BikeShare\\Data\\Output\\review\\trips_peace_health_rides_02_01_2021-02_28_2021.csv\n"
     ]
    },
    {
     "data": {
      "application/vnd.jupyter.widget-view+json": {
       "model_id": "04add7dc51bb48bfb4647bfcd6e5c1dd",
       "version_major": 2,
       "version_minor": 0
      },
      "text/plain": [
       "  0%|          | 0/5 [00:00<?, ?it/s]"
      ]
     },
     "metadata": {},
     "output_type": "display_data"
    },
    {
     "data": {
      "application/vnd.jupyter.widget-view+json": {
       "model_id": "ceeffee2b084402f8cf5cb6052311bf8",
       "version_major": 2,
       "version_minor": 0
      },
      "text/plain": [
       "  0%|          | 0/6 [00:00<?, ?it/s]"
      ]
     },
     "metadata": {},
     "output_type": "display_data"
    },
    {
     "name": "stdout",
     "output_type": "stream",
     "text": [
      "T:\\DCProjects\\StoryMap\\BikeCounting\\BikeShare\\Data\\Output\\review\\trips_peace_health_rides_02_01_2022-02_28_2022.csv\n"
     ]
    },
    {
     "data": {
      "application/vnd.jupyter.widget-view+json": {
       "model_id": "f6e39315f5884997bd2facb93505aa59",
       "version_major": 2,
       "version_minor": 0
      },
      "text/plain": [
       "  0%|          | 0/19 [00:00<?, ?it/s]"
      ]
     },
     "metadata": {},
     "output_type": "display_data"
    },
    {
     "data": {
      "application/vnd.jupyter.widget-view+json": {
       "model_id": "d08ab0739ec4475b92f5f373cc332079",
       "version_major": 2,
       "version_minor": 0
      },
      "text/plain": [
       "  0%|          | 0/25 [00:00<?, ?it/s]"
      ]
     },
     "metadata": {},
     "output_type": "display_data"
    },
    {
     "name": "stdout",
     "output_type": "stream",
     "text": [
      "T:\\DCProjects\\StoryMap\\BikeCounting\\BikeShare\\Data\\Output\\review\\trips_peace_health_rides_03_01_2019-03_31_2019.csv\n"
     ]
    },
    {
     "data": {
      "application/vnd.jupyter.widget-view+json": {
       "model_id": "b832b85493f44469b3a772526a979169",
       "version_major": 2,
       "version_minor": 0
      },
      "text/plain": [
       "  0%|          | 0/16 [00:00<?, ?it/s]"
      ]
     },
     "metadata": {},
     "output_type": "display_data"
    },
    {
     "data": {
      "application/vnd.jupyter.widget-view+json": {
       "model_id": "ba8762d71ace4290bc0eb5be0f583c06",
       "version_major": 2,
       "version_minor": 0
      },
      "text/plain": [
       "  0%|          | 0/10 [00:00<?, ?it/s]"
      ]
     },
     "metadata": {},
     "output_type": "display_data"
    },
    {
     "name": "stdout",
     "output_type": "stream",
     "text": [
      "T:\\DCProjects\\StoryMap\\BikeCounting\\BikeShare\\Data\\Output\\review\\trips_peace_health_rides_03_01_2020-03_31_2020.csv\n"
     ]
    },
    {
     "data": {
      "application/vnd.jupyter.widget-view+json": {
       "model_id": "0b99f498656642cd9a32fc9ec961b6b7",
       "version_major": 2,
       "version_minor": 0
      },
      "text/plain": [
       "  0%|          | 0/21 [00:00<?, ?it/s]"
      ]
     },
     "metadata": {},
     "output_type": "display_data"
    },
    {
     "data": {
      "application/vnd.jupyter.widget-view+json": {
       "model_id": "235563a3062b4c98a656ddbc63ae0a01",
       "version_major": 2,
       "version_minor": 0
      },
      "text/plain": [
       "  0%|          | 0/22 [00:00<?, ?it/s]"
      ]
     },
     "metadata": {},
     "output_type": "display_data"
    },
    {
     "name": "stdout",
     "output_type": "stream",
     "text": [
      "T:\\DCProjects\\StoryMap\\BikeCounting\\BikeShare\\Data\\Output\\review\\trips_peace_health_rides_03_01_2021-03_31_2021.csv\n"
     ]
    },
    {
     "data": {
      "application/vnd.jupyter.widget-view+json": {
       "model_id": "609f947c259e482abffd32641d667723",
       "version_major": 2,
       "version_minor": 0
      },
      "text/plain": [
       "  0%|          | 0/3 [00:00<?, ?it/s]"
      ]
     },
     "metadata": {},
     "output_type": "display_data"
    },
    {
     "data": {
      "application/vnd.jupyter.widget-view+json": {
       "model_id": "4028cef5db6b40eb9846aae469e3bb16",
       "version_major": 2,
       "version_minor": 0
      },
      "text/plain": [
       "  0%|          | 0/2 [00:00<?, ?it/s]"
      ]
     },
     "metadata": {},
     "output_type": "display_data"
    },
    {
     "name": "stdout",
     "output_type": "stream",
     "text": [
      "T:\\DCProjects\\StoryMap\\BikeCounting\\BikeShare\\Data\\Output\\review\\trips_peace_health_rides_03_01_2022-03_31_2022.csv\n"
     ]
    },
    {
     "data": {
      "application/vnd.jupyter.widget-view+json": {
       "model_id": "807de0aa486e409da9188a92c32bf6f3",
       "version_major": 2,
       "version_minor": 0
      },
      "text/plain": [
       "  0%|          | 0/24 [00:00<?, ?it/s]"
      ]
     },
     "metadata": {},
     "output_type": "display_data"
    },
    {
     "data": {
      "application/vnd.jupyter.widget-view+json": {
       "model_id": "e5900c949bf4409ea921f5b356e9cabb",
       "version_major": 2,
       "version_minor": 0
      },
      "text/plain": [
       "  0%|          | 0/24 [00:00<?, ?it/s]"
      ]
     },
     "metadata": {},
     "output_type": "display_data"
    },
    {
     "name": "stdout",
     "output_type": "stream",
     "text": [
      "T:\\DCProjects\\StoryMap\\BikeCounting\\BikeShare\\Data\\Output\\review\\trips_peace_health_rides_04_01_2019-04_30_2019.csv\n"
     ]
    },
    {
     "data": {
      "application/vnd.jupyter.widget-view+json": {
       "model_id": "6d74d4c3420d48059c18b9a02d0fedf6",
       "version_major": 2,
       "version_minor": 0
      },
      "text/plain": [
       "  0%|          | 0/36 [00:00<?, ?it/s]"
      ]
     },
     "metadata": {},
     "output_type": "display_data"
    },
    {
     "data": {
      "application/vnd.jupyter.widget-view+json": {
       "model_id": "d4290573ecc64f7abf9e58c23381d505",
       "version_major": 2,
       "version_minor": 0
      },
      "text/plain": [
       "  0%|          | 0/46 [00:00<?, ?it/s]"
      ]
     },
     "metadata": {},
     "output_type": "display_data"
    },
    {
     "name": "stdout",
     "output_type": "stream",
     "text": [
      "T:\\DCProjects\\StoryMap\\BikeCounting\\BikeShare\\Data\\Output\\review\\trips_peace_health_rides_04_01_2020-04_30_2020.csv\n",
      "T:\\DCProjects\\StoryMap\\BikeCounting\\BikeShare\\Data\\Output\\review\\trips_peace_health_rides_04_01_2021-04_30_2021.csv\n"
     ]
    },
    {
     "data": {
      "application/vnd.jupyter.widget-view+json": {
       "model_id": "78cd9e75ab164d70ac37b65c6f8786b8",
       "version_major": 2,
       "version_minor": 0
      },
      "text/plain": [
       "  0%|          | 0/9 [00:00<?, ?it/s]"
      ]
     },
     "metadata": {},
     "output_type": "display_data"
    },
    {
     "data": {
      "application/vnd.jupyter.widget-view+json": {
       "model_id": "076fd2207fbb4d6490188d9ce5aad054",
       "version_major": 2,
       "version_minor": 0
      },
      "text/plain": [
       "  0%|          | 0/16 [00:00<?, ?it/s]"
      ]
     },
     "metadata": {},
     "output_type": "display_data"
    },
    {
     "name": "stdout",
     "output_type": "stream",
     "text": [
      "T:\\DCProjects\\StoryMap\\BikeCounting\\BikeShare\\Data\\Output\\review\\trips_peace_health_rides_05_01_2018-05_31_2018.csv\n"
     ]
    },
    {
     "data": {
      "application/vnd.jupyter.widget-view+json": {
       "model_id": "7915b0b6895c4f4e9a5f252d72964cad",
       "version_major": 2,
       "version_minor": 0
      },
      "text/plain": [
       "  0%|          | 0/32 [00:00<?, ?it/s]"
      ]
     },
     "metadata": {},
     "output_type": "display_data"
    },
    {
     "data": {
      "application/vnd.jupyter.widget-view+json": {
       "model_id": "72fa9bd7b2294151a8a439087b05e93d",
       "version_major": 2,
       "version_minor": 0
      },
      "text/plain": [
       "  0%|          | 0/25 [00:00<?, ?it/s]"
      ]
     },
     "metadata": {},
     "output_type": "display_data"
    },
    {
     "name": "stdout",
     "output_type": "stream",
     "text": [
      "T:\\DCProjects\\StoryMap\\BikeCounting\\BikeShare\\Data\\Output\\review\\trips_peace_health_rides_05_01_2019-05_31_2019.csv\n"
     ]
    },
    {
     "data": {
      "application/vnd.jupyter.widget-view+json": {
       "model_id": "c17a235b75f548209cc5df7487c036c8",
       "version_major": 2,
       "version_minor": 0
      },
      "text/plain": [
       "  0%|          | 0/149 [00:00<?, ?it/s]"
      ]
     },
     "metadata": {},
     "output_type": "display_data"
    },
    {
     "data": {
      "application/vnd.jupyter.widget-view+json": {
       "model_id": "6c8e27b22dc34cc58f2d262b4ca4eebe",
       "version_major": 2,
       "version_minor": 0
      },
      "text/plain": [
       "  0%|          | 0/158 [00:00<?, ?it/s]"
      ]
     },
     "metadata": {},
     "output_type": "display_data"
    },
    {
     "name": "stdout",
     "output_type": "stream",
     "text": [
      "T:\\DCProjects\\StoryMap\\BikeCounting\\BikeShare\\Data\\Output\\review\\trips_peace_health_rides_05_01_2020-05_31_2020.csv\n"
     ]
    },
    {
     "data": {
      "application/vnd.jupyter.widget-view+json": {
       "model_id": "d1fea5e3de274330ad78bc74feec8264",
       "version_major": 2,
       "version_minor": 0
      },
      "text/plain": [
       "  0%|          | 0/3 [00:00<?, ?it/s]"
      ]
     },
     "metadata": {},
     "output_type": "display_data"
    },
    {
     "data": {
      "application/vnd.jupyter.widget-view+json": {
       "model_id": "41c07ddf3296425fab0cb4a33c827029",
       "version_major": 2,
       "version_minor": 0
      },
      "text/plain": [
       "  0%|          | 0/4 [00:00<?, ?it/s]"
      ]
     },
     "metadata": {},
     "output_type": "display_data"
    },
    {
     "name": "stdout",
     "output_type": "stream",
     "text": [
      "T:\\DCProjects\\StoryMap\\BikeCounting\\BikeShare\\Data\\Output\\review\\trips_peace_health_rides_05_01_2021-05_31_2021.csv\n"
     ]
    },
    {
     "data": {
      "application/vnd.jupyter.widget-view+json": {
       "model_id": "37880be84ac54dc09fe192c88d5dd812",
       "version_major": 2,
       "version_minor": 0
      },
      "text/plain": [
       "  0%|          | 0/21 [00:00<?, ?it/s]"
      ]
     },
     "metadata": {},
     "output_type": "display_data"
    },
    {
     "data": {
      "application/vnd.jupyter.widget-view+json": {
       "model_id": "feedf8a6ad35446388f71f69930d8c37",
       "version_major": 2,
       "version_minor": 0
      },
      "text/plain": [
       "  0%|          | 0/29 [00:00<?, ?it/s]"
      ]
     },
     "metadata": {},
     "output_type": "display_data"
    },
    {
     "name": "stdout",
     "output_type": "stream",
     "text": [
      "T:\\DCProjects\\StoryMap\\BikeCounting\\BikeShare\\Data\\Output\\review\\trips_peace_health_rides_06_01_2018-06_30_2018.csv\n"
     ]
    },
    {
     "data": {
      "application/vnd.jupyter.widget-view+json": {
       "model_id": "8dff11384fef4f3e8c42bb5bb0e5125d",
       "version_major": 2,
       "version_minor": 0
      },
      "text/plain": [
       "  0%|          | 0/20 [00:00<?, ?it/s]"
      ]
     },
     "metadata": {},
     "output_type": "display_data"
    },
    {
     "data": {
      "application/vnd.jupyter.widget-view+json": {
       "model_id": "fbd4d5e1a26a4d22a2a0cc8b4f695c07",
       "version_major": 2,
       "version_minor": 0
      },
      "text/plain": [
       "  0%|          | 0/35 [00:00<?, ?it/s]"
      ]
     },
     "metadata": {},
     "output_type": "display_data"
    },
    {
     "name": "stdout",
     "output_type": "stream",
     "text": [
      "T:\\DCProjects\\StoryMap\\BikeCounting\\BikeShare\\Data\\Output\\review\\trips_peace_health_rides_06_01_2019-06_30_2019.csv\n"
     ]
    },
    {
     "data": {
      "application/vnd.jupyter.widget-view+json": {
       "model_id": "4700263186b44f58be83b6b8f9c75c61",
       "version_major": 2,
       "version_minor": 0
      },
      "text/plain": [
       "  0%|          | 0/27 [00:00<?, ?it/s]"
      ]
     },
     "metadata": {},
     "output_type": "display_data"
    },
    {
     "data": {
      "application/vnd.jupyter.widget-view+json": {
       "model_id": "98c9cbac0c1c47aaabb467cc583cc6b2",
       "version_major": 2,
       "version_minor": 0
      },
      "text/plain": [
       "  0%|          | 0/28 [00:00<?, ?it/s]"
      ]
     },
     "metadata": {},
     "output_type": "display_data"
    },
    {
     "name": "stdout",
     "output_type": "stream",
     "text": [
      "T:\\DCProjects\\StoryMap\\BikeCounting\\BikeShare\\Data\\Output\\review\\trips_peace_health_rides_06_01_2020-06_30_2020.csv\n"
     ]
    },
    {
     "data": {
      "application/vnd.jupyter.widget-view+json": {
       "model_id": "625f6e1c99c1450f9da97698b654c3e3",
       "version_major": 2,
       "version_minor": 0
      },
      "text/plain": [
       "  0%|          | 0/1 [00:00<?, ?it/s]"
      ]
     },
     "metadata": {},
     "output_type": "display_data"
    },
    {
     "data": {
      "application/vnd.jupyter.widget-view+json": {
       "model_id": "c3d4548756254ebf85dd6c30dba5fb8d",
       "version_major": 2,
       "version_minor": 0
      },
      "text/plain": [
       "  0%|          | 0/1 [00:00<?, ?it/s]"
      ]
     },
     "metadata": {},
     "output_type": "display_data"
    },
    {
     "name": "stdout",
     "output_type": "stream",
     "text": [
      "T:\\DCProjects\\StoryMap\\BikeCounting\\BikeShare\\Data\\Output\\review\\trips_peace_health_rides_06_01_2021-06_30_2021.csv\n"
     ]
    },
    {
     "data": {
      "application/vnd.jupyter.widget-view+json": {
       "model_id": "9ed97ef27138409badae65a0d6ab3126",
       "version_major": 2,
       "version_minor": 0
      },
      "text/plain": [
       "  0%|          | 0/10 [00:00<?, ?it/s]"
      ]
     },
     "metadata": {},
     "output_type": "display_data"
    },
    {
     "data": {
      "application/vnd.jupyter.widget-view+json": {
       "model_id": "f6641dd138fc4cf28db90aeece0534f4",
       "version_major": 2,
       "version_minor": 0
      },
      "text/plain": [
       "  0%|          | 0/13 [00:00<?, ?it/s]"
      ]
     },
     "metadata": {},
     "output_type": "display_data"
    },
    {
     "name": "stdout",
     "output_type": "stream",
     "text": [
      "T:\\DCProjects\\StoryMap\\BikeCounting\\BikeShare\\Data\\Output\\review\\trips_peace_health_rides_07_01_2018-07_31_2018.csv\n"
     ]
    },
    {
     "data": {
      "application/vnd.jupyter.widget-view+json": {
       "model_id": "066391b68af54c24a06ebf3bcb78bed1",
       "version_major": 2,
       "version_minor": 0
      },
      "text/plain": [
       "  0%|          | 0/7 [00:00<?, ?it/s]"
      ]
     },
     "metadata": {},
     "output_type": "display_data"
    },
    {
     "data": {
      "application/vnd.jupyter.widget-view+json": {
       "model_id": "38ff2fd6a22b4fdc9e1066cbf700ec1a",
       "version_major": 2,
       "version_minor": 0
      },
      "text/plain": [
       "  0%|          | 0/8 [00:00<?, ?it/s]"
      ]
     },
     "metadata": {},
     "output_type": "display_data"
    },
    {
     "name": "stdout",
     "output_type": "stream",
     "text": [
      "T:\\DCProjects\\StoryMap\\BikeCounting\\BikeShare\\Data\\Output\\review\\trips_peace_health_rides_07_01_2019-07_31_2019.csv\n"
     ]
    },
    {
     "data": {
      "application/vnd.jupyter.widget-view+json": {
       "model_id": "d3ae92cf7adf4141bc574edfc31dd31c",
       "version_major": 2,
       "version_minor": 0
      },
      "text/plain": [
       "  0%|          | 0/16 [00:00<?, ?it/s]"
      ]
     },
     "metadata": {},
     "output_type": "display_data"
    },
    {
     "data": {
      "application/vnd.jupyter.widget-view+json": {
       "model_id": "dcbff5aab3a245069de91f5f71b32fca",
       "version_major": 2,
       "version_minor": 0
      },
      "text/plain": [
       "  0%|          | 0/12 [00:00<?, ?it/s]"
      ]
     },
     "metadata": {},
     "output_type": "display_data"
    },
    {
     "name": "stdout",
     "output_type": "stream",
     "text": [
      "T:\\DCProjects\\StoryMap\\BikeCounting\\BikeShare\\Data\\Output\\review\\trips_peace_health_rides_07_01_2020-07_31_2020.csv\n"
     ]
    },
    {
     "data": {
      "application/vnd.jupyter.widget-view+json": {
       "model_id": "34ed3ce3041943418bb735706a2f65c1",
       "version_major": 2,
       "version_minor": 0
      },
      "text/plain": [
       "  0%|          | 0/1 [00:00<?, ?it/s]"
      ]
     },
     "metadata": {},
     "output_type": "display_data"
    },
    {
     "data": {
      "application/vnd.jupyter.widget-view+json": {
       "model_id": "0f0eddb84ee14122b50c59d3aadfb90e",
       "version_major": 2,
       "version_minor": 0
      },
      "text/plain": [
       "  0%|          | 0/1 [00:00<?, ?it/s]"
      ]
     },
     "metadata": {},
     "output_type": "display_data"
    },
    {
     "name": "stdout",
     "output_type": "stream",
     "text": [
      "T:\\DCProjects\\StoryMap\\BikeCounting\\BikeShare\\Data\\Output\\review\\trips_peace_health_rides_07_01_2021-07_31_2021.csv\n"
     ]
    },
    {
     "data": {
      "application/vnd.jupyter.widget-view+json": {
       "model_id": "e0ea6e62595349fc9f70e4f73eb8d82b",
       "version_major": 2,
       "version_minor": 0
      },
      "text/plain": [
       "  0%|          | 0/9 [00:00<?, ?it/s]"
      ]
     },
     "metadata": {},
     "output_type": "display_data"
    },
    {
     "data": {
      "application/vnd.jupyter.widget-view+json": {
       "model_id": "346aed884c084d32babbbd72ece58c45",
       "version_major": 2,
       "version_minor": 0
      },
      "text/plain": [
       "  0%|          | 0/11 [00:00<?, ?it/s]"
      ]
     },
     "metadata": {},
     "output_type": "display_data"
    },
    {
     "name": "stdout",
     "output_type": "stream",
     "text": [
      "T:\\DCProjects\\StoryMap\\BikeCounting\\BikeShare\\Data\\Output\\review\\trips_peace_health_rides_08_01_2018-08_31_2018.csv\n"
     ]
    },
    {
     "data": {
      "application/vnd.jupyter.widget-view+json": {
       "model_id": "9e67c2cd768c40d3af5cb38b50ffe98a",
       "version_major": 2,
       "version_minor": 0
      },
      "text/plain": [
       "  0%|          | 0/12 [00:00<?, ?it/s]"
      ]
     },
     "metadata": {},
     "output_type": "display_data"
    },
    {
     "data": {
      "application/vnd.jupyter.widget-view+json": {
       "model_id": "734164de893749cfa156ea914a56fa4a",
       "version_major": 2,
       "version_minor": 0
      },
      "text/plain": [
       "  0%|          | 0/20 [00:00<?, ?it/s]"
      ]
     },
     "metadata": {},
     "output_type": "display_data"
    },
    {
     "name": "stdout",
     "output_type": "stream",
     "text": [
      "T:\\DCProjects\\StoryMap\\BikeCounting\\BikeShare\\Data\\Output\\review\\trips_peace_health_rides_08_01_2019-08_31_2019.csv\n"
     ]
    },
    {
     "data": {
      "application/vnd.jupyter.widget-view+json": {
       "model_id": "2e3ae57e448e4e08b0cac57244cedb0a",
       "version_major": 2,
       "version_minor": 0
      },
      "text/plain": [
       "  0%|          | 0/9 [00:00<?, ?it/s]"
      ]
     },
     "metadata": {},
     "output_type": "display_data"
    },
    {
     "data": {
      "application/vnd.jupyter.widget-view+json": {
       "model_id": "29c94057c3144f52bd35981f4136e97e",
       "version_major": 2,
       "version_minor": 0
      },
      "text/plain": [
       "  0%|          | 0/8 [00:00<?, ?it/s]"
      ]
     },
     "metadata": {},
     "output_type": "display_data"
    },
    {
     "name": "stdout",
     "output_type": "stream",
     "text": [
      "T:\\DCProjects\\StoryMap\\BikeCounting\\BikeShare\\Data\\Output\\review\\trips_peace_health_rides_08_01_2020-08_31_2020.csv\n"
     ]
    },
    {
     "data": {
      "application/vnd.jupyter.widget-view+json": {
       "model_id": "36cf1da400e34f5cb6f6b77926801d7a",
       "version_major": 2,
       "version_minor": 0
      },
      "text/plain": [
       "  0%|          | 0/3 [00:00<?, ?it/s]"
      ]
     },
     "metadata": {},
     "output_type": "display_data"
    },
    {
     "name": "stdout",
     "output_type": "stream",
     "text": [
      "T:\\DCProjects\\StoryMap\\BikeCounting\\BikeShare\\Data\\Output\\review\\trips_peace_health_rides_08_01_2021-08_31_2021.csv\n"
     ]
    },
    {
     "data": {
      "application/vnd.jupyter.widget-view+json": {
       "model_id": "b877e49c0bcf4194b3dc754082aa2f2f",
       "version_major": 2,
       "version_minor": 0
      },
      "text/plain": [
       "  0%|          | 0/7 [00:00<?, ?it/s]"
      ]
     },
     "metadata": {},
     "output_type": "display_data"
    },
    {
     "data": {
      "application/vnd.jupyter.widget-view+json": {
       "model_id": "efe36e58732d4432bd16f694597541f8",
       "version_major": 2,
       "version_minor": 0
      },
      "text/plain": [
       "  0%|          | 0/13 [00:00<?, ?it/s]"
      ]
     },
     "metadata": {},
     "output_type": "display_data"
    },
    {
     "name": "stdout",
     "output_type": "stream",
     "text": [
      "T:\\DCProjects\\StoryMap\\BikeCounting\\BikeShare\\Data\\Output\\review\\trips_peace_health_rides_09_01_2018-09_30_2018.csv\n"
     ]
    },
    {
     "data": {
      "application/vnd.jupyter.widget-view+json": {
       "model_id": "59ef4808f4ee49fcbeca85dee792fa27",
       "version_major": 2,
       "version_minor": 0
      },
      "text/plain": [
       "  0%|          | 0/18 [00:00<?, ?it/s]"
      ]
     },
     "metadata": {},
     "output_type": "display_data"
    },
    {
     "data": {
      "application/vnd.jupyter.widget-view+json": {
       "model_id": "8df7d7c882d946a0aeff86c8f2d791b2",
       "version_major": 2,
       "version_minor": 0
      },
      "text/plain": [
       "  0%|          | 0/15 [00:00<?, ?it/s]"
      ]
     },
     "metadata": {},
     "output_type": "display_data"
    },
    {
     "name": "stdout",
     "output_type": "stream",
     "text": [
      "T:\\DCProjects\\StoryMap\\BikeCounting\\BikeShare\\Data\\Output\\review\\trips_peace_health_rides_09_01_2019-09_30_2019.csv\n"
     ]
    },
    {
     "data": {
      "application/vnd.jupyter.widget-view+json": {
       "model_id": "aa4a600871d2485db3089c8265246cd2",
       "version_major": 2,
       "version_minor": 0
      },
      "text/plain": [
       "  0%|          | 0/12 [00:00<?, ?it/s]"
      ]
     },
     "metadata": {},
     "output_type": "display_data"
    },
    {
     "data": {
      "application/vnd.jupyter.widget-view+json": {
       "model_id": "adf9c02827dc414ebb1b8c661d746b50",
       "version_major": 2,
       "version_minor": 0
      },
      "text/plain": [
       "  0%|          | 0/4 [00:00<?, ?it/s]"
      ]
     },
     "metadata": {},
     "output_type": "display_data"
    },
    {
     "name": "stdout",
     "output_type": "stream",
     "text": [
      "T:\\DCProjects\\StoryMap\\BikeCounting\\BikeShare\\Data\\Output\\review\\trips_peace_health_rides_09_01_2020-09_30_2020.csv\n"
     ]
    },
    {
     "data": {
      "application/vnd.jupyter.widget-view+json": {
       "model_id": "008b1521098249398286f9e3e0411a73",
       "version_major": 2,
       "version_minor": 0
      },
      "text/plain": [
       "  0%|          | 0/1 [00:00<?, ?it/s]"
      ]
     },
     "metadata": {},
     "output_type": "display_data"
    },
    {
     "data": {
      "application/vnd.jupyter.widget-view+json": {
       "model_id": "651697149f7c476782699e5d7bbcad9e",
       "version_major": 2,
       "version_minor": 0
      },
      "text/plain": [
       "  0%|          | 0/1 [00:00<?, ?it/s]"
      ]
     },
     "metadata": {},
     "output_type": "display_data"
    },
    {
     "name": "stdout",
     "output_type": "stream",
     "text": [
      "T:\\DCProjects\\StoryMap\\BikeCounting\\BikeShare\\Data\\Output\\review\\trips_peace_health_rides_09_01_2021-09_30_2021.csv\n"
     ]
    },
    {
     "data": {
      "application/vnd.jupyter.widget-view+json": {
       "model_id": "810a054d7e034c31890ce76af200de0a",
       "version_major": 2,
       "version_minor": 0
      },
      "text/plain": [
       "  0%|          | 0/7 [00:00<?, ?it/s]"
      ]
     },
     "metadata": {},
     "output_type": "display_data"
    },
    {
     "data": {
      "application/vnd.jupyter.widget-view+json": {
       "model_id": "0a39f161c3b54f03b94fe3d0bb173151",
       "version_major": 2,
       "version_minor": 0
      },
      "text/plain": [
       "  0%|          | 0/11 [00:00<?, ?it/s]"
      ]
     },
     "metadata": {},
     "output_type": "display_data"
    },
    {
     "name": "stdout",
     "output_type": "stream",
     "text": [
      "T:\\DCProjects\\StoryMap\\BikeCounting\\BikeShare\\Data\\Output\\review\\trips_peace_health_rides_10_01_2018-10_31_2018.csv\n"
     ]
    },
    {
     "data": {
      "application/vnd.jupyter.widget-view+json": {
       "model_id": "2b8f96ea98ca4ecd8b919a87834136d7",
       "version_major": 2,
       "version_minor": 0
      },
      "text/plain": [
       "  0%|          | 0/65 [00:00<?, ?it/s]"
      ]
     },
     "metadata": {},
     "output_type": "display_data"
    },
    {
     "data": {
      "application/vnd.jupyter.widget-view+json": {
       "model_id": "1f8cc1f5b93942a9ad8b4238c214b94a",
       "version_major": 2,
       "version_minor": 0
      },
      "text/plain": [
       "  0%|          | 0/64 [00:00<?, ?it/s]"
      ]
     },
     "metadata": {},
     "output_type": "display_data"
    },
    {
     "name": "stdout",
     "output_type": "stream",
     "text": [
      "T:\\DCProjects\\StoryMap\\BikeCounting\\BikeShare\\Data\\Output\\review\\trips_peace_health_rides_10_01_2019-10_31_2019.csv\n"
     ]
    },
    {
     "data": {
      "application/vnd.jupyter.widget-view+json": {
       "model_id": "8b0c17a8303e475da4bc5a280e96d94f",
       "version_major": 2,
       "version_minor": 0
      },
      "text/plain": [
       "  0%|          | 0/53 [00:00<?, ?it/s]"
      ]
     },
     "metadata": {},
     "output_type": "display_data"
    },
    {
     "data": {
      "application/vnd.jupyter.widget-view+json": {
       "model_id": "0e40671b036f4dda9621f5d13355981d",
       "version_major": 2,
       "version_minor": 0
      },
      "text/plain": [
       "  0%|          | 0/57 [00:00<?, ?it/s]"
      ]
     },
     "metadata": {},
     "output_type": "display_data"
    },
    {
     "name": "stdout",
     "output_type": "stream",
     "text": [
      "T:\\DCProjects\\StoryMap\\BikeCounting\\BikeShare\\Data\\Output\\review\\trips_peace_health_rides_10_01_2020-10_31_2020.csv\n"
     ]
    },
    {
     "data": {
      "application/vnd.jupyter.widget-view+json": {
       "model_id": "db813dd4ce394b41914dd42c06758b3d",
       "version_major": 2,
       "version_minor": 0
      },
      "text/plain": [
       "  0%|          | 0/16 [00:00<?, ?it/s]"
      ]
     },
     "metadata": {},
     "output_type": "display_data"
    },
    {
     "data": {
      "application/vnd.jupyter.widget-view+json": {
       "model_id": "c85123ccacfb4afbbe24a9a32009d9ea",
       "version_major": 2,
       "version_minor": 0
      },
      "text/plain": [
       "  0%|          | 0/22 [00:00<?, ?it/s]"
      ]
     },
     "metadata": {},
     "output_type": "display_data"
    },
    {
     "name": "stdout",
     "output_type": "stream",
     "text": [
      "T:\\DCProjects\\StoryMap\\BikeCounting\\BikeShare\\Data\\Output\\review\\trips_peace_health_rides_10_01_2021-10_31_2021.csv\n"
     ]
    },
    {
     "data": {
      "application/vnd.jupyter.widget-view+json": {
       "model_id": "92f0582c3c514ecab08fbf31278353d8",
       "version_major": 2,
       "version_minor": 0
      },
      "text/plain": [
       "  0%|          | 0/20 [00:00<?, ?it/s]"
      ]
     },
     "metadata": {},
     "output_type": "display_data"
    },
    {
     "data": {
      "application/vnd.jupyter.widget-view+json": {
       "model_id": "90124707af344bc79eba3204caaa5464",
       "version_major": 2,
       "version_minor": 0
      },
      "text/plain": [
       "  0%|          | 0/35 [00:00<?, ?it/s]"
      ]
     },
     "metadata": {},
     "output_type": "display_data"
    },
    {
     "name": "stdout",
     "output_type": "stream",
     "text": [
      "T:\\DCProjects\\StoryMap\\BikeCounting\\BikeShare\\Data\\Output\\review\\trips_peace_health_rides_11_01_2018-11_30_2018.csv\n"
     ]
    },
    {
     "data": {
      "application/vnd.jupyter.widget-view+json": {
       "model_id": "d46204820db2431da163eb7d1c35868a",
       "version_major": 2,
       "version_minor": 0
      },
      "text/plain": [
       "  0%|          | 0/48 [00:00<?, ?it/s]"
      ]
     },
     "metadata": {},
     "output_type": "display_data"
    },
    {
     "data": {
      "application/vnd.jupyter.widget-view+json": {
       "model_id": "2a6ff354fc104e688ebbf4674e11e414",
       "version_major": 2,
       "version_minor": 0
      },
      "text/plain": [
       "  0%|          | 0/76 [00:00<?, ?it/s]"
      ]
     },
     "metadata": {},
     "output_type": "display_data"
    },
    {
     "name": "stdout",
     "output_type": "stream",
     "text": [
      "T:\\DCProjects\\StoryMap\\BikeCounting\\BikeShare\\Data\\Output\\review\\trips_peace_health_rides_11_01_2019-11_30_2019.csv\n"
     ]
    },
    {
     "data": {
      "application/vnd.jupyter.widget-view+json": {
       "model_id": "e8e5309a15c64062b9a7f2204c9e2571",
       "version_major": 2,
       "version_minor": 0
      },
      "text/plain": [
       "  0%|          | 0/86 [00:00<?, ?it/s]"
      ]
     },
     "metadata": {},
     "output_type": "display_data"
    },
    {
     "data": {
      "application/vnd.jupyter.widget-view+json": {
       "model_id": "5354dc561d714c39bf5032c313673354",
       "version_major": 2,
       "version_minor": 0
      },
      "text/plain": [
       "  0%|          | 0/69 [00:00<?, ?it/s]"
      ]
     },
     "metadata": {},
     "output_type": "display_data"
    },
    {
     "name": "stdout",
     "output_type": "stream",
     "text": [
      "T:\\DCProjects\\StoryMap\\BikeCounting\\BikeShare\\Data\\Output\\review\\trips_peace_health_rides_11_01_2020-11_30_2020.csv\n"
     ]
    },
    {
     "data": {
      "application/vnd.jupyter.widget-view+json": {
       "model_id": "d6d5ec46ff52483da77cd34505e17050",
       "version_major": 2,
       "version_minor": 0
      },
      "text/plain": [
       "  0%|          | 0/13 [00:00<?, ?it/s]"
      ]
     },
     "metadata": {},
     "output_type": "display_data"
    },
    {
     "data": {
      "application/vnd.jupyter.widget-view+json": {
       "model_id": "de48b284281e4a68ae3a4d46e074ccda",
       "version_major": 2,
       "version_minor": 0
      },
      "text/plain": [
       "  0%|          | 0/3 [00:00<?, ?it/s]"
      ]
     },
     "metadata": {},
     "output_type": "display_data"
    },
    {
     "name": "stdout",
     "output_type": "stream",
     "text": [
      "T:\\DCProjects\\StoryMap\\BikeCounting\\BikeShare\\Data\\Output\\review\\trips_peace_health_rides_11_01_2021-11_30_2021.csv\n"
     ]
    },
    {
     "data": {
      "application/vnd.jupyter.widget-view+json": {
       "model_id": "517407b17c8b41f183e523fca5bde3df",
       "version_major": 2,
       "version_minor": 0
      },
      "text/plain": [
       "  0%|          | 0/12 [00:00<?, ?it/s]"
      ]
     },
     "metadata": {},
     "output_type": "display_data"
    },
    {
     "data": {
      "application/vnd.jupyter.widget-view+json": {
       "model_id": "cda30f64149e453a98b55d5d05a63682",
       "version_major": 2,
       "version_minor": 0
      },
      "text/plain": [
       "  0%|          | 0/20 [00:00<?, ?it/s]"
      ]
     },
     "metadata": {},
     "output_type": "display_data"
    },
    {
     "name": "stdout",
     "output_type": "stream",
     "text": [
      "T:\\DCProjects\\StoryMap\\BikeCounting\\BikeShare\\Data\\Output\\review\\trips_peace_health_rides_12_01_2018-12_31_2018.csv\n"
     ]
    },
    {
     "data": {
      "application/vnd.jupyter.widget-view+json": {
       "model_id": "39c9633f5cd6487f9140522caaeb62ae",
       "version_major": 2,
       "version_minor": 0
      },
      "text/plain": [
       "  0%|          | 0/16 [00:00<?, ?it/s]"
      ]
     },
     "metadata": {},
     "output_type": "display_data"
    },
    {
     "data": {
      "application/vnd.jupyter.widget-view+json": {
       "model_id": "8cb33a9c28b544f48cef04ddd8224677",
       "version_major": 2,
       "version_minor": 0
      },
      "text/plain": [
       "  0%|          | 0/26 [00:00<?, ?it/s]"
      ]
     },
     "metadata": {},
     "output_type": "display_data"
    },
    {
     "name": "stdout",
     "output_type": "stream",
     "text": [
      "T:\\DCProjects\\StoryMap\\BikeCounting\\BikeShare\\Data\\Output\\review\\trips_peace_health_rides_12_01_2019-12_31_2019.csv\n"
     ]
    },
    {
     "data": {
      "application/vnd.jupyter.widget-view+json": {
       "model_id": "0c65d79857034e8cb810e5fec5c3f46b",
       "version_major": 2,
       "version_minor": 0
      },
      "text/plain": [
       "  0%|          | 0/63 [00:00<?, ?it/s]"
      ]
     },
     "metadata": {},
     "output_type": "display_data"
    },
    {
     "ename": "ValueError",
     "evalue": "Cannot mask with non-boolean array containing NA / NaN values",
     "output_type": "error",
     "traceback": [
      "\u001b[1;31m---------------------------------------------------------------------------\u001b[0m",
      "\u001b[1;31mValueError\u001b[0m                                Traceback (most recent call last)",
      "\u001b[1;32m<ipython-input-52-627611650500>\u001b[0m in \u001b[0;36m<module>\u001b[1;34m\u001b[0m\n\u001b[0;32m      3\u001b[0m     \u001b[0mre_df\u001b[0m \u001b[1;33m=\u001b[0m \u001b[0mpd\u001b[0m\u001b[1;33m.\u001b[0m\u001b[0mread_csv\u001b[0m\u001b[1;33m(\u001b[0m\u001b[0mfile\u001b[0m\u001b[1;33m)\u001b[0m\u001b[1;33m\u001b[0m\u001b[1;33m\u001b[0m\u001b[0m\n\u001b[0;32m      4\u001b[0m     \u001b[1;31m#re_df = review_hubs(re_df)\u001b[0m\u001b[1;33m\u001b[0m\u001b[1;33m\u001b[0m\u001b[1;33m\u001b[0m\u001b[0m\n\u001b[1;32m----> 5\u001b[1;33m     \u001b[0mre_df\u001b[0m \u001b[1;33m=\u001b[0m \u001b[0mreview_hubs\u001b[0m\u001b[1;33m(\u001b[0m\u001b[0mre_df\u001b[0m\u001b[1;33m,\u001b[0m \u001b[0mstrp\u001b[0m\u001b[1;33m=\u001b[0m\u001b[1;34m'University of'\u001b[0m\u001b[1;33m)\u001b[0m\u001b[1;33m\u001b[0m\u001b[1;33m\u001b[0m\u001b[0m\n\u001b[0m\u001b[0;32m      6\u001b[0m     \u001b[0mre_df\u001b[0m\u001b[1;33m.\u001b[0m\u001b[0mto_csv\u001b[0m\u001b[1;33m(\u001b[0m\u001b[0mfile\u001b[0m\u001b[1;33m,\u001b[0m \u001b[0mindex\u001b[0m\u001b[1;33m=\u001b[0m\u001b[1;32mFalse\u001b[0m\u001b[1;33m)\u001b[0m\u001b[1;33m\u001b[0m\u001b[1;33m\u001b[0m\u001b[0m\n",
      "\u001b[1;32m<ipython-input-50-83aa69f78eef>\u001b[0m in \u001b[0;36mreview_hubs\u001b[1;34m(re_df, strp)\u001b[0m\n\u001b[0;32m      2\u001b[0m     \u001b[1;32mfor\u001b[0m \u001b[0mhub\u001b[0m \u001b[1;32min\u001b[0m \u001b[1;33m[\u001b[0m\u001b[1;34m\"Start\"\u001b[0m\u001b[1;33m,\u001b[0m \u001b[1;34m\"End\"\u001b[0m\u001b[1;33m]\u001b[0m\u001b[1;33m:\u001b[0m\u001b[1;33m\u001b[0m\u001b[1;33m\u001b[0m\u001b[0m\n\u001b[0;32m      3\u001b[0m         \u001b[1;32mif\u001b[0m \u001b[0mhub\u001b[0m\u001b[1;33m+\u001b[0m\u001b[1;34m' Hub'\u001b[0m \u001b[1;32min\u001b[0m \u001b[0mre_df\u001b[0m\u001b[1;33m.\u001b[0m\u001b[0mcolumns\u001b[0m\u001b[1;33m:\u001b[0m\u001b[1;33m\u001b[0m\u001b[1;33m\u001b[0m\u001b[0m\n\u001b[1;32m----> 4\u001b[1;33m             \u001b[0mre\u001b[0m \u001b[1;33m=\u001b[0m \u001b[0mre_df\u001b[0m\u001b[1;33m[\u001b[0m\u001b[0mre_df\u001b[0m\u001b[1;33m[\u001b[0m\u001b[0mhub\u001b[0m\u001b[1;33m+\u001b[0m\u001b[1;34m' Hub'\u001b[0m\u001b[1;33m]\u001b[0m\u001b[1;33m.\u001b[0m\u001b[0mstr\u001b[0m\u001b[1;33m.\u001b[0m\u001b[0mcontains\u001b[0m\u001b[1;33m(\u001b[0m\u001b[0mstrp\u001b[0m\u001b[1;33m)\u001b[0m\u001b[1;33m]\u001b[0m\u001b[1;33m[\u001b[0m\u001b[1;33m[\u001b[0m\u001b[0mhub\u001b[0m\u001b[1;33m+\u001b[0m\u001b[1;34m' Latitude'\u001b[0m\u001b[1;33m,\u001b[0m \u001b[0mhub\u001b[0m\u001b[1;33m+\u001b[0m\u001b[1;34m' Longitude'\u001b[0m\u001b[1;33m]\u001b[0m\u001b[1;33m]\u001b[0m\u001b[1;33m\u001b[0m\u001b[1;33m\u001b[0m\u001b[0m\n\u001b[0m\u001b[0;32m      5\u001b[0m         \u001b[1;32melse\u001b[0m\u001b[1;33m:\u001b[0m\u001b[1;33m\u001b[0m\u001b[1;33m\u001b[0m\u001b[0m\n\u001b[0;32m      6\u001b[0m             \u001b[0mre\u001b[0m \u001b[1;33m=\u001b[0m \u001b[0mre_df\u001b[0m\u001b[1;33m[\u001b[0m\u001b[0mre_df\u001b[0m\u001b[1;33m[\u001b[0m\u001b[0mhub\u001b[0m\u001b[1;33m+\u001b[0m\u001b[1;34m'.Hub'\u001b[0m\u001b[1;33m]\u001b[0m\u001b[1;33m.\u001b[0m\u001b[0mstr\u001b[0m\u001b[1;33m.\u001b[0m\u001b[0mcontains\u001b[0m\u001b[1;33m(\u001b[0m\u001b[0mstrp\u001b[0m\u001b[1;33m)\u001b[0m\u001b[1;33m]\u001b[0m\u001b[1;33m[\u001b[0m\u001b[1;33m[\u001b[0m\u001b[0mhub\u001b[0m\u001b[1;33m+\u001b[0m\u001b[1;34m'.Latitude'\u001b[0m\u001b[1;33m,\u001b[0m \u001b[0mhub\u001b[0m\u001b[1;33m+\u001b[0m\u001b[1;34m'.Longitude'\u001b[0m\u001b[1;33m]\u001b[0m\u001b[1;33m]\u001b[0m\u001b[1;33m\u001b[0m\u001b[1;33m\u001b[0m\u001b[0m\n",
      "\u001b[1;32m~\\.conda\\envs\\geoenv\\lib\\site-packages\\pandas\\core\\frame.py\u001b[0m in \u001b[0;36m__getitem__\u001b[1;34m(self, key)\u001b[0m\n\u001b[0;32m   3012\u001b[0m \u001b[1;33m\u001b[0m\u001b[0m\n\u001b[0;32m   3013\u001b[0m         \u001b[1;31m# Do we have a (boolean) 1d indexer?\u001b[0m\u001b[1;33m\u001b[0m\u001b[1;33m\u001b[0m\u001b[1;33m\u001b[0m\u001b[0m\n\u001b[1;32m-> 3014\u001b[1;33m         \u001b[1;32mif\u001b[0m \u001b[0mcom\u001b[0m\u001b[1;33m.\u001b[0m\u001b[0mis_bool_indexer\u001b[0m\u001b[1;33m(\u001b[0m\u001b[0mkey\u001b[0m\u001b[1;33m)\u001b[0m\u001b[1;33m:\u001b[0m\u001b[1;33m\u001b[0m\u001b[1;33m\u001b[0m\u001b[0m\n\u001b[0m\u001b[0;32m   3015\u001b[0m             \u001b[1;32mreturn\u001b[0m \u001b[0mself\u001b[0m\u001b[1;33m.\u001b[0m\u001b[0m_getitem_bool_array\u001b[0m\u001b[1;33m(\u001b[0m\u001b[0mkey\u001b[0m\u001b[1;33m)\u001b[0m\u001b[1;33m\u001b[0m\u001b[1;33m\u001b[0m\u001b[0m\n\u001b[0;32m   3016\u001b[0m \u001b[1;33m\u001b[0m\u001b[0m\n",
      "\u001b[1;32m~\\.conda\\envs\\geoenv\\lib\\site-packages\\pandas\\core\\common.py\u001b[0m in \u001b[0;36mis_bool_indexer\u001b[1;34m(key)\u001b[0m\n\u001b[0;32m    112\u001b[0m                     \u001b[1;31m# Don't raise on e.g. [\"A\", \"B\", np.nan], see\u001b[0m\u001b[1;33m\u001b[0m\u001b[1;33m\u001b[0m\u001b[1;33m\u001b[0m\u001b[0m\n\u001b[0;32m    113\u001b[0m                     \u001b[1;31m#  test_loc_getitem_list_of_labels_categoricalindex_with_na\u001b[0m\u001b[1;33m\u001b[0m\u001b[1;33m\u001b[0m\u001b[1;33m\u001b[0m\u001b[0m\n\u001b[1;32m--> 114\u001b[1;33m                     \u001b[1;32mraise\u001b[0m \u001b[0mValueError\u001b[0m\u001b[1;33m(\u001b[0m\u001b[0mna_msg\u001b[0m\u001b[1;33m)\u001b[0m\u001b[1;33m\u001b[0m\u001b[1;33m\u001b[0m\u001b[0m\n\u001b[0m\u001b[0;32m    115\u001b[0m                 \u001b[1;32mreturn\u001b[0m \u001b[1;32mFalse\u001b[0m\u001b[1;33m\u001b[0m\u001b[1;33m\u001b[0m\u001b[0m\n\u001b[0;32m    116\u001b[0m             \u001b[1;32mreturn\u001b[0m \u001b[1;32mTrue\u001b[0m\u001b[1;33m\u001b[0m\u001b[1;33m\u001b[0m\u001b[0m\n",
      "\u001b[1;31mValueError\u001b[0m: Cannot mask with non-boolean array containing NA / NaN values"
     ]
    }
   ],
   "source": [
    "for file in files:\n",
    "    print(file)\n",
    "    re_df = pd.read_csv(file)\n",
    "    #re_df = review_hubs(re_df)\n",
    "    re_df = review_hubs(re_df, strp='University of')\n",
    "    re_df.to_csv(file, index=False)"
   ]
  },
  {
   "cell_type": "code",
   "execution_count": 39,
   "id": "10fd9084",
   "metadata": {},
   "outputs": [
    {
     "data": {
      "text/plain": [
       "'T:\\\\DCProjects\\\\StoryMap\\\\BikeCounting\\\\BikeShare\\\\Data\\\\Output\\\\review\\\\trips_peace_health_rides_12_01_2019-12_31_2019.csv'"
      ]
     },
     "execution_count": 39,
     "metadata": {},
     "output_type": "execute_result"
    }
   ],
   "source": [
    "file = r\"T:\\DCProjects\\StoryMap\\BikeCounting\\BikeShare\\Data\\Output\\review\\trips_peace_health_rides_12_01_2019-12_31_2019.csv\"\n",
    "file"
   ]
  },
  {
   "cell_type": "code",
   "execution_count": 40,
   "id": "5c27253d",
   "metadata": {},
   "outputs": [],
   "source": [
    "re_df = pd.read_csv(file)"
   ]
  },
  {
   "cell_type": "code",
   "execution_count": 41,
   "id": "fa1b5b22",
   "metadata": {},
   "outputs": [
    {
     "data": {
      "text/plain": [
       "Index(['User ID', 'Route ID', 'Bike Region ID', 'Payment Plan', 'Start Hub',\n",
       "       'Start Area', 'Start Special Area', 'Start Latitude', 'Start Longitude',\n",
       "       'Start Date', 'Start Time', 'End Hub', 'End Area', 'End Special Area',\n",
       "       'End Latitude', 'End Longitude', 'End Date', 'End Time', 'Member Type',\n",
       "       'Trip Type', 'Bike ID', 'Bike Name', 'Distance [Miles]', 'Duration',\n",
       "       'Rental Access Path', 'Multiple Rental', 'Ride cost', 'Fees', 'Bonuses',\n",
       "       'Total cost'],\n",
       "      dtype='object')"
      ]
     },
     "execution_count": 41,
     "metadata": {},
     "output_type": "execute_result"
    }
   ],
   "source": [
    "re_df.columns"
   ]
  },
  {
   "cell_type": "code",
   "execution_count": 42,
   "id": "765359b2",
   "metadata": {
    "scrolled": true
   },
   "outputs": [
    {
     "data": {
      "text/html": [
       "<div>\n",
       "<style scoped>\n",
       "    .dataframe tbody tr th:only-of-type {\n",
       "        vertical-align: middle;\n",
       "    }\n",
       "\n",
       "    .dataframe tbody tr th {\n",
       "        vertical-align: top;\n",
       "    }\n",
       "\n",
       "    .dataframe thead th {\n",
       "        text-align: right;\n",
       "    }\n",
       "</style>\n",
       "<table border=\"1\" class=\"dataframe\">\n",
       "  <thead>\n",
       "    <tr style=\"text-align: right;\">\n",
       "      <th></th>\n",
       "      <th>User ID</th>\n",
       "      <th>Route ID</th>\n",
       "      <th>Bike Region ID</th>\n",
       "      <th>Payment Plan</th>\n",
       "      <th>Start Hub</th>\n",
       "      <th>Start Area</th>\n",
       "      <th>Start Special Area</th>\n",
       "      <th>Start Latitude</th>\n",
       "      <th>Start Longitude</th>\n",
       "      <th>Start Date</th>\n",
       "      <th>...</th>\n",
       "      <th>Bike ID</th>\n",
       "      <th>Bike Name</th>\n",
       "      <th>Distance [Miles]</th>\n",
       "      <th>Duration</th>\n",
       "      <th>Rental Access Path</th>\n",
       "      <th>Multiple Rental</th>\n",
       "      <th>Ride cost</th>\n",
       "      <th>Fees</th>\n",
       "      <th>Bonuses</th>\n",
       "      <th>Total cost</th>\n",
       "    </tr>\n",
       "  </thead>\n",
       "  <tbody>\n",
       "    <tr>\n",
       "      <th>0</th>\n",
       "      <td>766963</td>\n",
       "      <td>12817400</td>\n",
       "      <td>NaN</td>\n",
       "      <td>UO Monthly Plan</td>\n",
       "      <td>Uniquely Chengdu</td>\n",
       "      <td>Phase 1 System Area</td>\n",
       "      <td>NaN</td>\n",
       "      <td>44.045435</td>\n",
       "      <td>-123.080060</td>\n",
       "      <td>2019-12-01</td>\n",
       "      <td>...</td>\n",
       "      <td>19591</td>\n",
       "      <td>0057</td>\n",
       "      <td>0.76</td>\n",
       "      <td>00:07:59</td>\n",
       "      <td>keypad</td>\n",
       "      <td>False</td>\n",
       "      <td>0.0</td>\n",
       "      <td>0.0</td>\n",
       "      <td>0.0</td>\n",
       "      <td>0.0</td>\n",
       "    </tr>\n",
       "    <tr>\n",
       "      <th>1</th>\n",
       "      <td>1702290</td>\n",
       "      <td>12817409</td>\n",
       "      <td>NaN</td>\n",
       "      <td>UO Monthly Plan</td>\n",
       "      <td>Thompson-Roach Building</td>\n",
       "      <td>Phase 1 System Area</td>\n",
       "      <td>NaN</td>\n",
       "      <td>44.045438</td>\n",
       "      <td>-123.084452</td>\n",
       "      <td>2019-12-01</td>\n",
       "      <td>...</td>\n",
       "      <td>19703</td>\n",
       "      <td>0173</td>\n",
       "      <td>0.35</td>\n",
       "      <td>00:13:51</td>\n",
       "      <td>keypad</td>\n",
       "      <td>True</td>\n",
       "      <td>0.0</td>\n",
       "      <td>0.0</td>\n",
       "      <td>0.0</td>\n",
       "      <td>0.0</td>\n",
       "    </tr>\n",
       "    <tr>\n",
       "      <th>2</th>\n",
       "      <td>1665396</td>\n",
       "      <td>12817412</td>\n",
       "      <td>NaN</td>\n",
       "      <td>Monthly Plan</td>\n",
       "      <td>Monroe St &amp; Blair Blvd</td>\n",
       "      <td>Phase 1 System Area</td>\n",
       "      <td>NaN</td>\n",
       "      <td>44.051473</td>\n",
       "      <td>-123.105138</td>\n",
       "      <td>2019-12-01</td>\n",
       "      <td>...</td>\n",
       "      <td>19603</td>\n",
       "      <td>0072</td>\n",
       "      <td>1.19</td>\n",
       "      <td>00:07:58</td>\n",
       "      <td>keypad</td>\n",
       "      <td>False</td>\n",
       "      <td>0.0</td>\n",
       "      <td>0.0</td>\n",
       "      <td>0.0</td>\n",
       "      <td>0.0</td>\n",
       "    </tr>\n",
       "    <tr>\n",
       "      <th>3</th>\n",
       "      <td>1734280</td>\n",
       "      <td>12817414</td>\n",
       "      <td>NaN</td>\n",
       "      <td>UO Monthly Plan</td>\n",
       "      <td>Thompson-Roach Building</td>\n",
       "      <td>Phase 1 System Area</td>\n",
       "      <td>NaN</td>\n",
       "      <td>44.045413</td>\n",
       "      <td>-123.084448</td>\n",
       "      <td>2019-12-01</td>\n",
       "      <td>...</td>\n",
       "      <td>19788</td>\n",
       "      <td>0258</td>\n",
       "      <td>0.43</td>\n",
       "      <td>00:03:13</td>\n",
       "      <td>keypad</td>\n",
       "      <td>False</td>\n",
       "      <td>0.0</td>\n",
       "      <td>0.0</td>\n",
       "      <td>0.0</td>\n",
       "      <td>0.0</td>\n",
       "    </tr>\n",
       "    <tr>\n",
       "      <th>4</th>\n",
       "      <td>1702290</td>\n",
       "      <td>12817415</td>\n",
       "      <td>NaN</td>\n",
       "      <td>UO Monthly Plan</td>\n",
       "      <td>Thompson-Roach Building</td>\n",
       "      <td>Phase 1 System Area</td>\n",
       "      <td>NaN</td>\n",
       "      <td>44.045507</td>\n",
       "      <td>-123.084462</td>\n",
       "      <td>2019-12-01</td>\n",
       "      <td>...</td>\n",
       "      <td>19661</td>\n",
       "      <td>0131</td>\n",
       "      <td>0.05</td>\n",
       "      <td>00:06:08</td>\n",
       "      <td>keypad</td>\n",
       "      <td>True</td>\n",
       "      <td>0.0</td>\n",
       "      <td>0.0</td>\n",
       "      <td>0.0</td>\n",
       "      <td>0.0</td>\n",
       "    </tr>\n",
       "  </tbody>\n",
       "</table>\n",
       "<p>5 rows × 30 columns</p>\n",
       "</div>"
      ],
      "text/plain": [
       "   User ID  Route ID  Bike Region ID     Payment Plan  \\\n",
       "0   766963  12817400             NaN  UO Monthly Plan   \n",
       "1  1702290  12817409             NaN  UO Monthly Plan   \n",
       "2  1665396  12817412             NaN     Monthly Plan   \n",
       "3  1734280  12817414             NaN  UO Monthly Plan   \n",
       "4  1702290  12817415             NaN  UO Monthly Plan   \n",
       "\n",
       "                 Start Hub           Start Area  Start Special Area  \\\n",
       "0         Uniquely Chengdu  Phase 1 System Area                 NaN   \n",
       "1  Thompson-Roach Building  Phase 1 System Area                 NaN   \n",
       "2  Monroe St & Blair Blvd   Phase 1 System Area                 NaN   \n",
       "3  Thompson-Roach Building  Phase 1 System Area                 NaN   \n",
       "4  Thompson-Roach Building  Phase 1 System Area                 NaN   \n",
       "\n",
       "   Start Latitude  Start Longitude  Start Date  ... Bike ID Bike Name  \\\n",
       "0       44.045435      -123.080060  2019-12-01  ...   19591      0057   \n",
       "1       44.045438      -123.084452  2019-12-01  ...   19703      0173   \n",
       "2       44.051473      -123.105138  2019-12-01  ...   19603      0072   \n",
       "3       44.045413      -123.084448  2019-12-01  ...   19788      0258   \n",
       "4       44.045507      -123.084462  2019-12-01  ...   19661      0131   \n",
       "\n",
       "  Distance [Miles]  Duration  Rental Access Path  Multiple Rental Ride cost  \\\n",
       "0             0.76  00:07:59              keypad            False       0.0   \n",
       "1             0.35  00:13:51              keypad             True       0.0   \n",
       "2             1.19  00:07:58              keypad            False       0.0   \n",
       "3             0.43  00:03:13              keypad            False       0.0   \n",
       "4             0.05  00:06:08              keypad             True       0.0   \n",
       "\n",
       "  Fees Bonuses Total cost  \n",
       "0  0.0     0.0        0.0  \n",
       "1  0.0     0.0        0.0  \n",
       "2  0.0     0.0        0.0  \n",
       "3  0.0     0.0        0.0  \n",
       "4  0.0     0.0        0.0  \n",
       "\n",
       "[5 rows x 30 columns]"
      ]
     },
     "execution_count": 42,
     "metadata": {},
     "output_type": "execute_result"
    }
   ],
   "source": [
    "re_df.head()"
   ]
  },
  {
   "cell_type": "code",
   "execution_count": 43,
   "id": "ba97f5e1",
   "metadata": {},
   "outputs": [],
   "source": [
    "hub = \"Start\""
   ]
  },
  {
   "cell_type": "code",
   "execution_count": 46,
   "id": "d4910b64",
   "metadata": {},
   "outputs": [],
   "source": [
    "strp = \"Eugene\""
   ]
  },
  {
   "cell_type": "code",
   "execution_count": 47,
   "id": "ae2f4b09",
   "metadata": {},
   "outputs": [],
   "source": [
    "re = re_df[re_df[hub+' Hub'].str.contains(strp)][[hub+' Latitude', hub+' Longitude']]"
   ]
  },
  {
   "cell_type": "code",
   "execution_count": 48,
   "id": "08abdbfd",
   "metadata": {},
   "outputs": [
    {
     "data": {
      "text/html": [
       "<div>\n",
       "<style scoped>\n",
       "    .dataframe tbody tr th:only-of-type {\n",
       "        vertical-align: middle;\n",
       "    }\n",
       "\n",
       "    .dataframe tbody tr th {\n",
       "        vertical-align: top;\n",
       "    }\n",
       "\n",
       "    .dataframe thead th {\n",
       "        text-align: right;\n",
       "    }\n",
       "</style>\n",
       "<table border=\"1\" class=\"dataframe\">\n",
       "  <thead>\n",
       "    <tr style=\"text-align: right;\">\n",
       "      <th></th>\n",
       "      <th>Start Latitude</th>\n",
       "      <th>Start Longitude</th>\n",
       "    </tr>\n",
       "  </thead>\n",
       "  <tbody>\n",
       "    <tr>\n",
       "      <th>21</th>\n",
       "      <td>44.037539</td>\n",
       "      <td>-123.083493</td>\n",
       "    </tr>\n",
       "    <tr>\n",
       "      <th>32</th>\n",
       "      <td>44.037580</td>\n",
       "      <td>-123.083525</td>\n",
       "    </tr>\n",
       "    <tr>\n",
       "      <th>37</th>\n",
       "      <td>44.037539</td>\n",
       "      <td>-123.083493</td>\n",
       "    </tr>\n",
       "    <tr>\n",
       "      <th>40</th>\n",
       "      <td>44.037539</td>\n",
       "      <td>-123.083493</td>\n",
       "    </tr>\n",
       "    <tr>\n",
       "      <th>61</th>\n",
       "      <td>44.048838</td>\n",
       "      <td>-123.094778</td>\n",
       "    </tr>\n",
       "    <tr>\n",
       "      <th>...</th>\n",
       "      <td>...</td>\n",
       "      <td>...</td>\n",
       "    </tr>\n",
       "    <tr>\n",
       "      <th>9441</th>\n",
       "      <td>44.037539</td>\n",
       "      <td>-123.083493</td>\n",
       "    </tr>\n",
       "    <tr>\n",
       "      <th>9454</th>\n",
       "      <td>44.047807</td>\n",
       "      <td>-123.085165</td>\n",
       "    </tr>\n",
       "    <tr>\n",
       "      <th>9467</th>\n",
       "      <td>44.037637</td>\n",
       "      <td>-123.083550</td>\n",
       "    </tr>\n",
       "    <tr>\n",
       "      <th>9496</th>\n",
       "      <td>44.047788</td>\n",
       "      <td>-123.085175</td>\n",
       "    </tr>\n",
       "    <tr>\n",
       "      <th>9501</th>\n",
       "      <td>44.037568</td>\n",
       "      <td>-123.083558</td>\n",
       "    </tr>\n",
       "  </tbody>\n",
       "</table>\n",
       "<p>392 rows × 2 columns</p>\n",
       "</div>"
      ],
      "text/plain": [
       "      Start Latitude  Start Longitude\n",
       "21         44.037539      -123.083493\n",
       "32         44.037580      -123.083525\n",
       "37         44.037539      -123.083493\n",
       "40         44.037539      -123.083493\n",
       "61         44.048838      -123.094778\n",
       "...              ...              ...\n",
       "9441       44.037539      -123.083493\n",
       "9454       44.047807      -123.085165\n",
       "9467       44.037637      -123.083550\n",
       "9496       44.047788      -123.085175\n",
       "9501       44.037568      -123.083558\n",
       "\n",
       "[392 rows x 2 columns]"
      ]
     },
     "execution_count": 48,
     "metadata": {},
     "output_type": "execute_result"
    }
   ],
   "source": [
    "re"
   ]
  },
  {
   "cell_type": "code",
   "execution_count": 27,
   "id": "9a0e2550",
   "metadata": {},
   "outputs": [],
   "source": [
    "hub = \"End\""
   ]
  },
  {
   "cell_type": "code",
   "execution_count": 29,
   "id": "c553594a",
   "metadata": {},
   "outputs": [
    {
     "data": {
      "text/html": [
       "<div>\n",
       "<style scoped>\n",
       "    .dataframe tbody tr th:only-of-type {\n",
       "        vertical-align: middle;\n",
       "    }\n",
       "\n",
       "    .dataframe tbody tr th {\n",
       "        vertical-align: top;\n",
       "    }\n",
       "\n",
       "    .dataframe thead th {\n",
       "        text-align: right;\n",
       "    }\n",
       "</style>\n",
       "<table border=\"1\" class=\"dataframe\">\n",
       "  <thead>\n",
       "    <tr style=\"text-align: right;\">\n",
       "      <th></th>\n",
       "      <th>End Latitude</th>\n",
       "      <th>End Longitude</th>\n",
       "    </tr>\n",
       "  </thead>\n",
       "  <tbody>\n",
       "    <tr>\n",
       "      <th>4541</th>\n",
       "      <td>44.040557</td>\n",
       "      <td>-123.117198</td>\n",
       "    </tr>\n",
       "  </tbody>\n",
       "</table>\n",
       "</div>"
      ],
      "text/plain": [
       "      End Latitude  End Longitude\n",
       "4541     44.040557    -123.117198"
      ]
     },
     "execution_count": 29,
     "metadata": {},
     "output_type": "execute_result"
    }
   ],
   "source": [
    "#re = re_df[re_df[hub+'.Hub'].str.isnumeric()][[hub+'.Latitude', hub+'.Longitude']]\n",
    "re = re_df[re_df[hub+' Hub'].str.isnumeric()][[hub+' Latitude', hub+' Longitude']]\n",
    "re"
   ]
  },
  {
   "cell_type": "code",
   "execution_count": 30,
   "id": "a2afadd1",
   "metadata": {},
   "outputs": [
    {
     "data": {
      "application/vnd.jupyter.widget-view+json": {
       "model_id": "2a9663826ee14838a2722b940541c20a",
       "version_major": 2,
       "version_minor": 0
      },
      "text/plain": [
       "  0%|          | 0/1 [00:00<?, ?it/s]"
      ]
     },
     "metadata": {},
     "output_type": "display_data"
    }
   ],
   "source": [
    "re.columns = ['Lat', 'Lon']\n",
    "re[\"geom\"] = re[\"Lat\"].map(str) + ',' + re['Lon'].map(str)\n",
    "locator = Nominatim(user_agent=\"measurements\", timeout=10)\n",
    "rgeocode = RateLimiter(locator.reverse, min_delay_seconds=0.00001)\n",
    "tqdm_notebook.pandas()\n",
    "re['address'] = re['geom'].progress_apply(rgeocode)\n",
    "re['name'] =re.address.apply(getLoc)"
   ]
  },
  {
   "cell_type": "code",
   "execution_count": 31,
   "id": "4f0d4985",
   "metadata": {},
   "outputs": [
    {
     "data": {
      "text/plain": [
       "array(['76'], dtype=object)"
      ]
     },
     "execution_count": 31,
     "metadata": {},
     "output_type": "execute_result"
    }
   ],
   "source": [
    "re.name.values"
   ]
  },
  {
   "cell_type": "code",
   "execution_count": 32,
   "id": "cc45a2a2",
   "metadata": {},
   "outputs": [
    {
     "data": {
      "text/plain": [
       "array([Location(76, West 18th Avenue, Westmoreland Commercial, Eugene, Lane County, Oregon, 97405, United States, (44.0406689, -123.11734339775421, 0.0))],\n",
       "      dtype=object)"
      ]
     },
     "execution_count": 32,
     "metadata": {},
     "output_type": "execute_result"
    }
   ],
   "source": [
    "re.address.values"
   ]
  },
  {
   "cell_type": "code",
   "execution_count": 35,
   "id": "dbc4265e",
   "metadata": {},
   "outputs": [
    {
     "data": {
      "text/plain": [
       "{'place_id': 162223077,\n",
       " 'licence': 'Data © OpenStreetMap contributors, ODbL 1.0. https://osm.org/copyright',\n",
       " 'osm_type': 'way',\n",
       " 'osm_id': 244974435,\n",
       " 'lat': '44.0406689',\n",
       " 'lon': '-123.11734339775421',\n",
       " 'display_name': '76, West 18th Avenue, Westmoreland Commercial, Eugene, Lane County, Oregon, 97405, United States',\n",
       " 'address': {'amenity': '76',\n",
       "  'road': 'West 18th Avenue',\n",
       "  'commercial': 'Westmoreland Commercial',\n",
       "  'city': 'Eugene',\n",
       "  'county': 'Lane County',\n",
       "  'state': 'Oregon',\n",
       "  'ISO3166-2-lvl4': 'US-OR',\n",
       "  'postcode': '97405',\n",
       "  'country': 'United States',\n",
       "  'country_code': 'us'},\n",
       " 'boundingbox': ['44.0406071', '44.040741', '-123.1175184', '-123.1171684']}"
      ]
     },
     "execution_count": 35,
     "metadata": {},
     "output_type": "execute_result"
    }
   ],
   "source": [
    "re.address.values[0].raw"
   ]
  },
  {
   "cell_type": "code",
   "execution_count": 15,
   "id": "b464f98f",
   "metadata": {},
   "outputs": [],
   "source": [
    "re_df.loc[re_df[hub+'.Hub'].str.isnumeric(), hub+' Hub'] = re.name.values"
   ]
  },
  {
   "cell_type": "code",
   "execution_count": 16,
   "id": "02075623",
   "metadata": {},
   "outputs": [
    {
     "data": {
      "text/plain": [
       "7782                       Dero\n",
       "7858              Peterson Hall\n",
       "8165                       Dero\n",
       "8198                       Dero\n",
       "8281              Peterson Hall\n",
       "8329              Peterson Hall\n",
       "8540                       Dero\n",
       "8699                       Dero\n",
       "8748                       Dero\n",
       "8970    Lillis Business Complex\n",
       "9126                       Dero\n",
       "9214              Peterson Hall\n",
       "Name: Start Hub, dtype: object"
      ]
     },
     "execution_count": 16,
     "metadata": {},
     "output_type": "execute_result"
    }
   ],
   "source": [
    "re_df.loc[re_df[hub+'.Hub'].str.isnumeric(), hub+' Hub']"
   ]
  }
 ],
 "metadata": {
  "kernelspec": {
   "display_name": "Python 3",
   "language": "python",
   "name": "python3"
  },
  "language_info": {
   "codemirror_mode": {
    "name": "ipython",
    "version": 3
   },
   "file_extension": ".py",
   "mimetype": "text/x-python",
   "name": "python",
   "nbconvert_exporter": "python",
   "pygments_lexer": "ipython3",
   "version": "3.8.8"
  }
 },
 "nbformat": 4,
 "nbformat_minor": 5
}
