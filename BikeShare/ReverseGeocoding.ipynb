{
 "cells": [
  {
   "cell_type": "code",
   "execution_count": 3,
   "id": "0298e36a",
   "metadata": {},
   "outputs": [],
   "source": [
    "#load_ext autotime\n",
    "import pandas as pd\n",
    "import geopandas as gpd\n",
    "import geopy\n",
    "from geopy.geocoders import Nominatim\n",
    "from geopy.extra.rate_limiter import RateLimiter\n",
    "import matplotlib.pyplot as plt\n",
    "import plotly_express as px\n",
    "import tqdm\n",
    "from tqdm.notebook import tqdm_notebook\n",
    "import os\n",
    "import numpy as np\n",
    "import glob"
   ]
  },
  {
   "cell_type": "code",
   "execution_count": 86,
   "id": "6631b188",
   "metadata": {},
   "outputs": [],
   "source": [
    "locator = Nominatim(user_agent=\"measurements\")"
   ]
  },
  {
   "cell_type": "code",
   "execution_count": 85,
   "id": "0dbb10a6",
   "metadata": {},
   "outputs": [],
   "source": [
    "inpath = r\"T:\\DCProjects\\StoryMap\\BikeCounting\\BikeShare\\Data\\Trips\""
   ]
  },
  {
   "cell_type": "code",
   "execution_count": 115,
   "id": "f407794c",
   "metadata": {},
   "outputs": [],
   "source": [
    "file = \"trips_peace_health_rides_06_01_2018-06_30_2018.csv\""
   ]
  },
  {
   "cell_type": "code",
   "execution_count": 87,
   "id": "72e7bcbf",
   "metadata": {},
   "outputs": [
    {
     "data": {
      "text/html": [
       "<div>\n",
       "<style scoped>\n",
       "    .dataframe tbody tr th:only-of-type {\n",
       "        vertical-align: middle;\n",
       "    }\n",
       "\n",
       "    .dataframe tbody tr th {\n",
       "        vertical-align: top;\n",
       "    }\n",
       "\n",
       "    .dataframe thead th {\n",
       "        text-align: right;\n",
       "    }\n",
       "</style>\n",
       "<table border=\"1\" class=\"dataframe\">\n",
       "  <thead>\n",
       "    <tr style=\"text-align: right;\">\n",
       "      <th></th>\n",
       "      <th>User ID</th>\n",
       "      <th>Route ID</th>\n",
       "      <th>Bike Region ID</th>\n",
       "      <th>Payment Plan</th>\n",
       "      <th>Start Hub</th>\n",
       "      <th>Start Area</th>\n",
       "      <th>Start Special Area</th>\n",
       "      <th>Start Latitude</th>\n",
       "      <th>Start Longitude</th>\n",
       "      <th>Start Date</th>\n",
       "      <th>...</th>\n",
       "      <th>Bike ID</th>\n",
       "      <th>Bike Name</th>\n",
       "      <th>Distance [Miles]</th>\n",
       "      <th>Duration</th>\n",
       "      <th>Rental Access Path</th>\n",
       "      <th>Multiple Rental</th>\n",
       "      <th>Ride cost</th>\n",
       "      <th>Fees</th>\n",
       "      <th>Bonuses</th>\n",
       "      <th>Total cost</th>\n",
       "    </tr>\n",
       "  </thead>\n",
       "  <tbody>\n",
       "    <tr>\n",
       "      <th>0</th>\n",
       "      <td>787416</td>\n",
       "      <td>7269180</td>\n",
       "      <td>NaN</td>\n",
       "      <td>Single Ride</td>\n",
       "      <td>16th &amp; Hilyard, West side</td>\n",
       "      <td>Phase 1 System Area</td>\n",
       "      <td>NaN</td>\n",
       "      <td>44.04109</td>\n",
       "      <td>-123.081935</td>\n",
       "      <td>2018-06-01</td>\n",
       "      <td>...</td>\n",
       "      <td>19650</td>\n",
       "      <td>0120</td>\n",
       "      <td>0.30</td>\n",
       "      <td>00:03:49</td>\n",
       "      <td>keypad_phone_number</td>\n",
       "      <td>False</td>\n",
       "      <td>0.0</td>\n",
       "      <td>0.0</td>\n",
       "      <td>0.0</td>\n",
       "      <td>0.0</td>\n",
       "    </tr>\n",
       "    <tr>\n",
       "      <th>1</th>\n",
       "      <td>856344</td>\n",
       "      <td>7269203</td>\n",
       "      <td>NaN</td>\n",
       "      <td>UO Monthly Plan</td>\n",
       "      <td>Matthew Knight Arena</td>\n",
       "      <td>Phase 1 System Area</td>\n",
       "      <td>NaN</td>\n",
       "      <td>44.045478333333335</td>\n",
       "      <td>-123.06537166666666</td>\n",
       "      <td>2018-06-01</td>\n",
       "      <td>...</td>\n",
       "      <td>19624</td>\n",
       "      <td>0094</td>\n",
       "      <td>0.71</td>\n",
       "      <td>00:08:44</td>\n",
       "      <td>keypad</td>\n",
       "      <td>False</td>\n",
       "      <td>0.0</td>\n",
       "      <td>0.0</td>\n",
       "      <td>0.0</td>\n",
       "      <td>0.0</td>\n",
       "    </tr>\n",
       "    <tr>\n",
       "      <th>2</th>\n",
       "      <td>856729</td>\n",
       "      <td>7269205</td>\n",
       "      <td>NaN</td>\n",
       "      <td>UO Monthly Plan</td>\n",
       "      <td>Matthew Knight Arena</td>\n",
       "      <td>Phase 1 System Area</td>\n",
       "      <td>NaN</td>\n",
       "      <td>44.045471666666664</td>\n",
       "      <td>-123.06526666666667</td>\n",
       "      <td>2018-06-01</td>\n",
       "      <td>...</td>\n",
       "      <td>19606</td>\n",
       "      <td>0075</td>\n",
       "      <td>0.69</td>\n",
       "      <td>00:08:23</td>\n",
       "      <td>keypad</td>\n",
       "      <td>False</td>\n",
       "      <td>0.0</td>\n",
       "      <td>0.0</td>\n",
       "      <td>0.0</td>\n",
       "      <td>0.0</td>\n",
       "    </tr>\n",
       "    <tr>\n",
       "      <th>3</th>\n",
       "      <td>781643</td>\n",
       "      <td>7269215</td>\n",
       "      <td>NaN</td>\n",
       "      <td>UO Monthly Plan</td>\n",
       "      <td>Matthew Knight Arena</td>\n",
       "      <td>Phase 1 System Area</td>\n",
       "      <td>NaN</td>\n",
       "      <td>44.045375</td>\n",
       "      <td>-123.06513666666666</td>\n",
       "      <td>2018-06-01</td>\n",
       "      <td>...</td>\n",
       "      <td>19798</td>\n",
       "      <td>0268</td>\n",
       "      <td>1.84</td>\n",
       "      <td>01:41:17</td>\n",
       "      <td>keypad_phone_number</td>\n",
       "      <td>False</td>\n",
       "      <td>0.0</td>\n",
       "      <td>0.0</td>\n",
       "      <td>0.0</td>\n",
       "      <td>0.0</td>\n",
       "    </tr>\n",
       "    <tr>\n",
       "      <th>4</th>\n",
       "      <td>777445</td>\n",
       "      <td>7269218</td>\n",
       "      <td>NaN</td>\n",
       "      <td>UO Monthly Plan</td>\n",
       "      <td>10th &amp; Olive SE</td>\n",
       "      <td>Phase 1 System Area</td>\n",
       "      <td>NaN</td>\n",
       "      <td>44.049508333333335</td>\n",
       "      <td>-123.094235</td>\n",
       "      <td>2018-06-01</td>\n",
       "      <td>...</td>\n",
       "      <td>19418</td>\n",
       "      <td>0017</td>\n",
       "      <td>1.38</td>\n",
       "      <td>00:09:33</td>\n",
       "      <td>keypad</td>\n",
       "      <td>False</td>\n",
       "      <td>0.0</td>\n",
       "      <td>0.0</td>\n",
       "      <td>0.0</td>\n",
       "      <td>0.0</td>\n",
       "    </tr>\n",
       "  </tbody>\n",
       "</table>\n",
       "<p>5 rows × 30 columns</p>\n",
       "</div>"
      ],
      "text/plain": [
       "   User ID  Route ID  Bike Region ID     Payment Plan  \\\n",
       "0   787416   7269180             NaN      Single Ride   \n",
       "1   856344   7269203             NaN  UO Monthly Plan   \n",
       "2   856729   7269205             NaN  UO Monthly Plan   \n",
       "3   781643   7269215             NaN  UO Monthly Plan   \n",
       "4   777445   7269218             NaN  UO Monthly Plan   \n",
       "\n",
       "                   Start Hub           Start Area  Start Special Area  \\\n",
       "0  16th & Hilyard, West side  Phase 1 System Area                 NaN   \n",
       "1       Matthew Knight Arena  Phase 1 System Area                 NaN   \n",
       "2       Matthew Knight Arena  Phase 1 System Area                 NaN   \n",
       "3       Matthew Knight Arena  Phase 1 System Area                 NaN   \n",
       "4            10th & Olive SE  Phase 1 System Area                 NaN   \n",
       "\n",
       "       Start Latitude      Start Longitude  Start Date  ... Bike ID Bike Name  \\\n",
       "0            44.04109          -123.081935  2018-06-01  ...   19650      0120   \n",
       "1  44.045478333333335  -123.06537166666666  2018-06-01  ...   19624      0094   \n",
       "2  44.045471666666664  -123.06526666666667  2018-06-01  ...   19606      0075   \n",
       "3           44.045375  -123.06513666666666  2018-06-01  ...   19798      0268   \n",
       "4  44.049508333333335          -123.094235  2018-06-01  ...   19418     0017    \n",
       "\n",
       "  Distance [Miles]  Duration   Rental Access Path Multiple Rental Ride cost  \\\n",
       "0             0.30  00:03:49  keypad_phone_number           False       0.0   \n",
       "1             0.71  00:08:44               keypad           False       0.0   \n",
       "2             0.69  00:08:23               keypad           False       0.0   \n",
       "3             1.84  01:41:17  keypad_phone_number           False       0.0   \n",
       "4             1.38  00:09:33               keypad           False       0.0   \n",
       "\n",
       "  Fees Bonuses Total cost  \n",
       "0  0.0     0.0        0.0  \n",
       "1  0.0     0.0        0.0  \n",
       "2  0.0     0.0        0.0  \n",
       "3  0.0     0.0        0.0  \n",
       "4  0.0     0.0        0.0  \n",
       "\n",
       "[5 rows x 30 columns]"
      ]
     },
     "execution_count": 87,
     "metadata": {},
     "output_type": "execute_result"
    }
   ],
   "source": [
    "odf = pd.read_csv(os.path.join(inpath, file))\n",
    "odf.head()"
   ]
  },
  {
   "cell_type": "code",
   "execution_count": 88,
   "id": "28819d60",
   "metadata": {},
   "outputs": [
    {
     "data": {
      "text/plain": [
       "Index(['User ID', 'Route ID', 'Bike Region ID', 'Payment Plan', 'Start Hub',\n",
       "       'Start Area', 'Start Special Area', 'Start Latitude', 'Start Longitude',\n",
       "       'Start Date', 'Start Time', 'End Hub', 'End Area', 'End Special Area',\n",
       "       'End Latitude', 'End Longitude', 'End Date', 'End Time', 'Member Type',\n",
       "       'Trip Type', 'Bike ID', 'Bike Name', 'Distance [Miles]', 'Duration',\n",
       "       'Rental Access Path', 'Multiple Rental', 'Ride cost', 'Fees', 'Bonuses',\n",
       "       'Total cost'],\n",
       "      dtype='object')"
      ]
     },
     "execution_count": 88,
     "metadata": {},
     "output_type": "execute_result"
    }
   ],
   "source": [
    "odf.columns"
   ]
  },
  {
   "cell_type": "code",
   "execution_count": 89,
   "id": "ebc94570",
   "metadata": {},
   "outputs": [],
   "source": [
    "df = odf "
   ]
  },
  {
   "cell_type": "code",
   "execution_count": 90,
   "id": "1bdcf62a",
   "metadata": {},
   "outputs": [],
   "source": [
    "df = df[(df['Start Latitude'] != \" - \") | (df['End Latitude'] != \" - \" ) | (df['Start Longitude'] != \" - \") | (df['End Longitude'] != \" - \")]"
   ]
  },
  {
   "cell_type": "code",
   "execution_count": 91,
   "id": "cb866243",
   "metadata": {},
   "outputs": [
    {
     "name": "stderr",
     "output_type": "stream",
     "text": [
      "<ipython-input-91-3ae606a348da>:1: SettingWithCopyWarning: \n",
      "A value is trying to be set on a copy of a slice from a DataFrame.\n",
      "Try using .loc[row_indexer,col_indexer] = value instead\n",
      "\n",
      "See the caveats in the documentation: https://pandas.pydata.org/pandas-docs/stable/user_guide/indexing.html#returning-a-view-versus-a-copy\n",
      "  df[\"startgeom\"] = df[\"Start Latitude\"].map(str) + ',' + df['Start Longitude'].map(str)\n"
     ]
    },
    {
     "data": {
      "text/plain": [
       "'44.04109,-123.081935'"
      ]
     },
     "execution_count": 91,
     "metadata": {},
     "output_type": "execute_result"
    }
   ],
   "source": [
    "df[\"startgeom\"] = df[\"Start Latitude\"].map(str) + ',' + df['Start Longitude'].map(str)\n",
    "df[\"startgeom\"][0]"
   ]
  },
  {
   "cell_type": "code",
   "execution_count": 92,
   "id": "eaa88da5",
   "metadata": {},
   "outputs": [
    {
     "name": "stderr",
     "output_type": "stream",
     "text": [
      "<ipython-input-92-d7f1bfc5249d>:1: SettingWithCopyWarning: \n",
      "A value is trying to be set on a copy of a slice from a DataFrame.\n",
      "Try using .loc[row_indexer,col_indexer] = value instead\n",
      "\n",
      "See the caveats in the documentation: https://pandas.pydata.org/pandas-docs/stable/user_guide/indexing.html#returning-a-view-versus-a-copy\n",
      "  df[\"endgeom\"] = df[\"End Latitude\"].map(str) + ',' + df['End Longitude'].map(str)\n"
     ]
    },
    {
     "data": {
      "text/plain": [
       "'44.03763333333333,-123.08355333333333'"
      ]
     },
     "execution_count": 92,
     "metadata": {},
     "output_type": "execute_result"
    }
   ],
   "source": [
    "df[\"endgeom\"] = df[\"End Latitude\"].map(str) + ',' + df['End Longitude'].map(str)\n",
    "df[\"endgeom\"][0]"
   ]
  },
  {
   "cell_type": "code",
   "execution_count": 93,
   "id": "a8874d19",
   "metadata": {},
   "outputs": [],
   "source": [
    "locator = Nominatim(user_agent=\"measurements\", timeout=10)\n",
    "rgeocode = RateLimiter(locator.reverse, min_delay_seconds=0.00001)"
   ]
  },
  {
   "cell_type": "code",
   "execution_count": 94,
   "id": "82266e94",
   "metadata": {},
   "outputs": [],
   "source": [
    "tqdm_notebook.pandas()"
   ]
  },
  {
   "cell_type": "code",
   "execution_count": 96,
   "id": "1ed01b46",
   "metadata": {},
   "outputs": [],
   "source": [
    "df = df[df[\"Route ID\"] != 7763775]"
   ]
  },
  {
   "cell_type": "code",
   "execution_count": 97,
   "id": "7976ce85",
   "metadata": {},
   "outputs": [
    {
     "data": {
      "application/vnd.jupyter.widget-view+json": {
       "model_id": "bd4fdc7e938b4371a29e8a33ffbbd677",
       "version_major": 2,
       "version_minor": 0
      },
      "text/plain": [
       "  0%|          | 0/23858 [00:00<?, ?it/s]"
      ]
     },
     "metadata": {},
     "output_type": "display_data"
    },
    {
     "data": {
      "text/html": [
       "<div>\n",
       "<style scoped>\n",
       "    .dataframe tbody tr th:only-of-type {\n",
       "        vertical-align: middle;\n",
       "    }\n",
       "\n",
       "    .dataframe tbody tr th {\n",
       "        vertical-align: top;\n",
       "    }\n",
       "\n",
       "    .dataframe thead th {\n",
       "        text-align: right;\n",
       "    }\n",
       "</style>\n",
       "<table border=\"1\" class=\"dataframe\">\n",
       "  <thead>\n",
       "    <tr style=\"text-align: right;\">\n",
       "      <th></th>\n",
       "      <th>User ID</th>\n",
       "      <th>Route ID</th>\n",
       "      <th>Bike Region ID</th>\n",
       "      <th>Payment Plan</th>\n",
       "      <th>Start Hub</th>\n",
       "      <th>Start Area</th>\n",
       "      <th>Start Special Area</th>\n",
       "      <th>Start Latitude</th>\n",
       "      <th>Start Longitude</th>\n",
       "      <th>Start Date</th>\n",
       "      <th>...</th>\n",
       "      <th>Duration</th>\n",
       "      <th>Rental Access Path</th>\n",
       "      <th>Multiple Rental</th>\n",
       "      <th>Ride cost</th>\n",
       "      <th>Fees</th>\n",
       "      <th>Bonuses</th>\n",
       "      <th>Total cost</th>\n",
       "      <th>startgeom</th>\n",
       "      <th>endgeom</th>\n",
       "      <th>startaddress</th>\n",
       "    </tr>\n",
       "  </thead>\n",
       "  <tbody>\n",
       "    <tr>\n",
       "      <th>0</th>\n",
       "      <td>787416</td>\n",
       "      <td>7269180</td>\n",
       "      <td>NaN</td>\n",
       "      <td>Single Ride</td>\n",
       "      <td>16th &amp; Hilyard, West side</td>\n",
       "      <td>Phase 1 System Area</td>\n",
       "      <td>NaN</td>\n",
       "      <td>44.04109</td>\n",
       "      <td>-123.081935</td>\n",
       "      <td>2018-06-01</td>\n",
       "      <td>...</td>\n",
       "      <td>00:03:49</td>\n",
       "      <td>keypad_phone_number</td>\n",
       "      <td>False</td>\n",
       "      <td>0.0</td>\n",
       "      <td>0.0</td>\n",
       "      <td>0.0</td>\n",
       "      <td>0.0</td>\n",
       "      <td>44.04109,-123.081935</td>\n",
       "      <td>44.03763333333333,-123.08355333333333</td>\n",
       "      <td>(Peace Lutheran, East 17th Avenue, College Hil...</td>\n",
       "    </tr>\n",
       "    <tr>\n",
       "      <th>1</th>\n",
       "      <td>856344</td>\n",
       "      <td>7269203</td>\n",
       "      <td>NaN</td>\n",
       "      <td>UO Monthly Plan</td>\n",
       "      <td>Matthew Knight Arena</td>\n",
       "      <td>Phase 1 System Area</td>\n",
       "      <td>NaN</td>\n",
       "      <td>44.045478333333335</td>\n",
       "      <td>-123.06537166666666</td>\n",
       "      <td>2018-06-01</td>\n",
       "      <td>...</td>\n",
       "      <td>00:08:44</td>\n",
       "      <td>keypad</td>\n",
       "      <td>False</td>\n",
       "      <td>0.0</td>\n",
       "      <td>0.0</td>\n",
       "      <td>0.0</td>\n",
       "      <td>0.0</td>\n",
       "      <td>44.045478333333335,-123.06537166666666</td>\n",
       "      <td>44.04586833333333,-123.07854666666667</td>\n",
       "      <td>(Matthew Knight Arena, Franklin Boulevard, Eug...</td>\n",
       "    </tr>\n",
       "    <tr>\n",
       "      <th>2</th>\n",
       "      <td>856729</td>\n",
       "      <td>7269205</td>\n",
       "      <td>NaN</td>\n",
       "      <td>UO Monthly Plan</td>\n",
       "      <td>Matthew Knight Arena</td>\n",
       "      <td>Phase 1 System Area</td>\n",
       "      <td>NaN</td>\n",
       "      <td>44.045471666666664</td>\n",
       "      <td>-123.06526666666667</td>\n",
       "      <td>2018-06-01</td>\n",
       "      <td>...</td>\n",
       "      <td>00:08:23</td>\n",
       "      <td>keypad</td>\n",
       "      <td>False</td>\n",
       "      <td>0.0</td>\n",
       "      <td>0.0</td>\n",
       "      <td>0.0</td>\n",
       "      <td>0.0</td>\n",
       "      <td>44.045471666666664,-123.06526666666667</td>\n",
       "      <td>44.045883333333336,-123.07848833333334</td>\n",
       "      <td>(Matthew Knight Arena, Franklin Boulevard, Eug...</td>\n",
       "    </tr>\n",
       "    <tr>\n",
       "      <th>3</th>\n",
       "      <td>781643</td>\n",
       "      <td>7269215</td>\n",
       "      <td>NaN</td>\n",
       "      <td>UO Monthly Plan</td>\n",
       "      <td>Matthew Knight Arena</td>\n",
       "      <td>Phase 1 System Area</td>\n",
       "      <td>NaN</td>\n",
       "      <td>44.045375</td>\n",
       "      <td>-123.06513666666666</td>\n",
       "      <td>2018-06-01</td>\n",
       "      <td>...</td>\n",
       "      <td>01:41:17</td>\n",
       "      <td>keypad_phone_number</td>\n",
       "      <td>False</td>\n",
       "      <td>0.0</td>\n",
       "      <td>0.0</td>\n",
       "      <td>0.0</td>\n",
       "      <td>0.0</td>\n",
       "      <td>44.045375,-123.06513666666666</td>\n",
       "      <td>44.041065,-123.08195833333333</td>\n",
       "      <td>(Matthew Knight Arena, Franklin Boulevard, Eug...</td>\n",
       "    </tr>\n",
       "    <tr>\n",
       "      <th>4</th>\n",
       "      <td>777445</td>\n",
       "      <td>7269218</td>\n",
       "      <td>NaN</td>\n",
       "      <td>UO Monthly Plan</td>\n",
       "      <td>10th &amp; Olive SE</td>\n",
       "      <td>Phase 1 System Area</td>\n",
       "      <td>NaN</td>\n",
       "      <td>44.049508333333335</td>\n",
       "      <td>-123.094235</td>\n",
       "      <td>2018-06-01</td>\n",
       "      <td>...</td>\n",
       "      <td>00:09:33</td>\n",
       "      <td>keypad</td>\n",
       "      <td>False</td>\n",
       "      <td>0.0</td>\n",
       "      <td>0.0</td>\n",
       "      <td>0.0</td>\n",
       "      <td>0.0</td>\n",
       "      <td>44.049508333333335,-123.094235</td>\n",
       "      <td>44.04582333333333,-123.07851</td>\n",
       "      <td>(Luckey's, Olive Street, Eugene, Lane County, ...</td>\n",
       "    </tr>\n",
       "  </tbody>\n",
       "</table>\n",
       "<p>5 rows × 33 columns</p>\n",
       "</div>"
      ],
      "text/plain": [
       "   User ID  Route ID  Bike Region ID     Payment Plan  \\\n",
       "0   787416   7269180             NaN      Single Ride   \n",
       "1   856344   7269203             NaN  UO Monthly Plan   \n",
       "2   856729   7269205             NaN  UO Monthly Plan   \n",
       "3   781643   7269215             NaN  UO Monthly Plan   \n",
       "4   777445   7269218             NaN  UO Monthly Plan   \n",
       "\n",
       "                   Start Hub           Start Area  Start Special Area  \\\n",
       "0  16th & Hilyard, West side  Phase 1 System Area                 NaN   \n",
       "1       Matthew Knight Arena  Phase 1 System Area                 NaN   \n",
       "2       Matthew Knight Arena  Phase 1 System Area                 NaN   \n",
       "3       Matthew Knight Arena  Phase 1 System Area                 NaN   \n",
       "4            10th & Olive SE  Phase 1 System Area                 NaN   \n",
       "\n",
       "       Start Latitude      Start Longitude  Start Date  ...  Duration  \\\n",
       "0            44.04109          -123.081935  2018-06-01  ...  00:03:49   \n",
       "1  44.045478333333335  -123.06537166666666  2018-06-01  ...  00:08:44   \n",
       "2  44.045471666666664  -123.06526666666667  2018-06-01  ...  00:08:23   \n",
       "3           44.045375  -123.06513666666666  2018-06-01  ...  01:41:17   \n",
       "4  44.049508333333335          -123.094235  2018-06-01  ...  00:09:33   \n",
       "\n",
       "    Rental Access Path Multiple Rental  Ride cost Fees Bonuses Total cost  \\\n",
       "0  keypad_phone_number           False        0.0  0.0     0.0        0.0   \n",
       "1               keypad           False        0.0  0.0     0.0        0.0   \n",
       "2               keypad           False        0.0  0.0     0.0        0.0   \n",
       "3  keypad_phone_number           False        0.0  0.0     0.0        0.0   \n",
       "4               keypad           False        0.0  0.0     0.0        0.0   \n",
       "\n",
       "                                startgeom  \\\n",
       "0                    44.04109,-123.081935   \n",
       "1  44.045478333333335,-123.06537166666666   \n",
       "2  44.045471666666664,-123.06526666666667   \n",
       "3           44.045375,-123.06513666666666   \n",
       "4          44.049508333333335,-123.094235   \n",
       "\n",
       "                                  endgeom  \\\n",
       "0   44.03763333333333,-123.08355333333333   \n",
       "1   44.04586833333333,-123.07854666666667   \n",
       "2  44.045883333333336,-123.07848833333334   \n",
       "3           44.041065,-123.08195833333333   \n",
       "4            44.04582333333333,-123.07851   \n",
       "\n",
       "                                        startaddress  \n",
       "0  (Peace Lutheran, East 17th Avenue, College Hil...  \n",
       "1  (Matthew Knight Arena, Franklin Boulevard, Eug...  \n",
       "2  (Matthew Knight Arena, Franklin Boulevard, Eug...  \n",
       "3  (Matthew Knight Arena, Franklin Boulevard, Eug...  \n",
       "4  (Luckey's, Olive Street, Eugene, Lane County, ...  \n",
       "\n",
       "[5 rows x 33 columns]"
      ]
     },
     "execution_count": 97,
     "metadata": {},
     "output_type": "execute_result"
    }
   ],
   "source": [
    "df['startaddress'] = df['startgeom'].progress_apply(rgeocode)\n",
    "df.head()"
   ]
  },
  {
   "cell_type": "code",
   "execution_count": 98,
   "id": "6938f5ff",
   "metadata": {},
   "outputs": [
    {
     "data": {
      "application/vnd.jupyter.widget-view+json": {
       "model_id": "16bf4073bab64139a2fe44b422174e44",
       "version_major": 2,
       "version_minor": 0
      },
      "text/plain": [
       "  0%|          | 0/23858 [00:00<?, ?it/s]"
      ]
     },
     "metadata": {},
     "output_type": "display_data"
    },
    {
     "data": {
      "text/html": [
       "<div>\n",
       "<style scoped>\n",
       "    .dataframe tbody tr th:only-of-type {\n",
       "        vertical-align: middle;\n",
       "    }\n",
       "\n",
       "    .dataframe tbody tr th {\n",
       "        vertical-align: top;\n",
       "    }\n",
       "\n",
       "    .dataframe thead th {\n",
       "        text-align: right;\n",
       "    }\n",
       "</style>\n",
       "<table border=\"1\" class=\"dataframe\">\n",
       "  <thead>\n",
       "    <tr style=\"text-align: right;\">\n",
       "      <th></th>\n",
       "      <th>User ID</th>\n",
       "      <th>Route ID</th>\n",
       "      <th>Bike Region ID</th>\n",
       "      <th>Payment Plan</th>\n",
       "      <th>Start Hub</th>\n",
       "      <th>Start Area</th>\n",
       "      <th>Start Special Area</th>\n",
       "      <th>Start Latitude</th>\n",
       "      <th>Start Longitude</th>\n",
       "      <th>Start Date</th>\n",
       "      <th>...</th>\n",
       "      <th>Rental Access Path</th>\n",
       "      <th>Multiple Rental</th>\n",
       "      <th>Ride cost</th>\n",
       "      <th>Fees</th>\n",
       "      <th>Bonuses</th>\n",
       "      <th>Total cost</th>\n",
       "      <th>startgeom</th>\n",
       "      <th>endgeom</th>\n",
       "      <th>startaddress</th>\n",
       "      <th>endaddress</th>\n",
       "    </tr>\n",
       "  </thead>\n",
       "  <tbody>\n",
       "    <tr>\n",
       "      <th>0</th>\n",
       "      <td>787416</td>\n",
       "      <td>7269180</td>\n",
       "      <td>NaN</td>\n",
       "      <td>Single Ride</td>\n",
       "      <td>16th &amp; Hilyard, West side</td>\n",
       "      <td>Phase 1 System Area</td>\n",
       "      <td>NaN</td>\n",
       "      <td>44.04109</td>\n",
       "      <td>-123.081935</td>\n",
       "      <td>2018-06-01</td>\n",
       "      <td>...</td>\n",
       "      <td>keypad_phone_number</td>\n",
       "      <td>False</td>\n",
       "      <td>0.0</td>\n",
       "      <td>0.0</td>\n",
       "      <td>0.0</td>\n",
       "      <td>0.0</td>\n",
       "      <td>44.04109,-123.081935</td>\n",
       "      <td>44.03763333333333,-123.08355333333333</td>\n",
       "      <td>(Peace Lutheran, East 17th Avenue, College Hil...</td>\n",
       "      <td>(Eugene Family YMCA, 2055, Patterson Street, C...</td>\n",
       "    </tr>\n",
       "    <tr>\n",
       "      <th>1</th>\n",
       "      <td>856344</td>\n",
       "      <td>7269203</td>\n",
       "      <td>NaN</td>\n",
       "      <td>UO Monthly Plan</td>\n",
       "      <td>Matthew Knight Arena</td>\n",
       "      <td>Phase 1 System Area</td>\n",
       "      <td>NaN</td>\n",
       "      <td>44.045478333333335</td>\n",
       "      <td>-123.06537166666666</td>\n",
       "      <td>2018-06-01</td>\n",
       "      <td>...</td>\n",
       "      <td>keypad</td>\n",
       "      <td>False</td>\n",
       "      <td>0.0</td>\n",
       "      <td>0.0</td>\n",
       "      <td>0.0</td>\n",
       "      <td>0.0</td>\n",
       "      <td>44.045478333333335,-123.06537166666666</td>\n",
       "      <td>44.04586833333333,-123.07854666666667</td>\n",
       "      <td>(Matthew Knight Arena, Franklin Boulevard, Eug...</td>\n",
       "      <td>(University of Oregon Station - Bay B, Univers...</td>\n",
       "    </tr>\n",
       "    <tr>\n",
       "      <th>2</th>\n",
       "      <td>856729</td>\n",
       "      <td>7269205</td>\n",
       "      <td>NaN</td>\n",
       "      <td>UO Monthly Plan</td>\n",
       "      <td>Matthew Knight Arena</td>\n",
       "      <td>Phase 1 System Area</td>\n",
       "      <td>NaN</td>\n",
       "      <td>44.045471666666664</td>\n",
       "      <td>-123.06526666666667</td>\n",
       "      <td>2018-06-01</td>\n",
       "      <td>...</td>\n",
       "      <td>keypad</td>\n",
       "      <td>False</td>\n",
       "      <td>0.0</td>\n",
       "      <td>0.0</td>\n",
       "      <td>0.0</td>\n",
       "      <td>0.0</td>\n",
       "      <td>44.045471666666664,-123.06526666666667</td>\n",
       "      <td>44.045883333333336,-123.07848833333334</td>\n",
       "      <td>(Matthew Knight Arena, Franklin Boulevard, Eug...</td>\n",
       "      <td>(Chiles Hall, University Station North - Bay C...</td>\n",
       "    </tr>\n",
       "    <tr>\n",
       "      <th>3</th>\n",
       "      <td>781643</td>\n",
       "      <td>7269215</td>\n",
       "      <td>NaN</td>\n",
       "      <td>UO Monthly Plan</td>\n",
       "      <td>Matthew Knight Arena</td>\n",
       "      <td>Phase 1 System Area</td>\n",
       "      <td>NaN</td>\n",
       "      <td>44.045375</td>\n",
       "      <td>-123.06513666666666</td>\n",
       "      <td>2018-06-01</td>\n",
       "      <td>...</td>\n",
       "      <td>keypad_phone_number</td>\n",
       "      <td>False</td>\n",
       "      <td>0.0</td>\n",
       "      <td>0.0</td>\n",
       "      <td>0.0</td>\n",
       "      <td>0.0</td>\n",
       "      <td>44.045375,-123.06513666666666</td>\n",
       "      <td>44.041065,-123.08195833333333</td>\n",
       "      <td>(Matthew Knight Arena, Franklin Boulevard, Eug...</td>\n",
       "      <td>(Peace Lutheran, East 17th Avenue, College Hil...</td>\n",
       "    </tr>\n",
       "    <tr>\n",
       "      <th>4</th>\n",
       "      <td>777445</td>\n",
       "      <td>7269218</td>\n",
       "      <td>NaN</td>\n",
       "      <td>UO Monthly Plan</td>\n",
       "      <td>10th &amp; Olive SE</td>\n",
       "      <td>Phase 1 System Area</td>\n",
       "      <td>NaN</td>\n",
       "      <td>44.049508333333335</td>\n",
       "      <td>-123.094235</td>\n",
       "      <td>2018-06-01</td>\n",
       "      <td>...</td>\n",
       "      <td>keypad</td>\n",
       "      <td>False</td>\n",
       "      <td>0.0</td>\n",
       "      <td>0.0</td>\n",
       "      <td>0.0</td>\n",
       "      <td>0.0</td>\n",
       "      <td>44.049508333333335,-123.094235</td>\n",
       "      <td>44.04582333333333,-123.07851</td>\n",
       "      <td>(Luckey's, Olive Street, Eugene, Lane County, ...</td>\n",
       "      <td>(Chiles Hall, University Station North - Bay C...</td>\n",
       "    </tr>\n",
       "  </tbody>\n",
       "</table>\n",
       "<p>5 rows × 34 columns</p>\n",
       "</div>"
      ],
      "text/plain": [
       "   User ID  Route ID  Bike Region ID     Payment Plan  \\\n",
       "0   787416   7269180             NaN      Single Ride   \n",
       "1   856344   7269203             NaN  UO Monthly Plan   \n",
       "2   856729   7269205             NaN  UO Monthly Plan   \n",
       "3   781643   7269215             NaN  UO Monthly Plan   \n",
       "4   777445   7269218             NaN  UO Monthly Plan   \n",
       "\n",
       "                   Start Hub           Start Area  Start Special Area  \\\n",
       "0  16th & Hilyard, West side  Phase 1 System Area                 NaN   \n",
       "1       Matthew Knight Arena  Phase 1 System Area                 NaN   \n",
       "2       Matthew Knight Arena  Phase 1 System Area                 NaN   \n",
       "3       Matthew Knight Arena  Phase 1 System Area                 NaN   \n",
       "4            10th & Olive SE  Phase 1 System Area                 NaN   \n",
       "\n",
       "       Start Latitude      Start Longitude  Start Date  ...  \\\n",
       "0            44.04109          -123.081935  2018-06-01  ...   \n",
       "1  44.045478333333335  -123.06537166666666  2018-06-01  ...   \n",
       "2  44.045471666666664  -123.06526666666667  2018-06-01  ...   \n",
       "3           44.045375  -123.06513666666666  2018-06-01  ...   \n",
       "4  44.049508333333335          -123.094235  2018-06-01  ...   \n",
       "\n",
       "    Rental Access Path Multiple Rental Ride cost  Fees Bonuses Total cost  \\\n",
       "0  keypad_phone_number           False       0.0   0.0     0.0        0.0   \n",
       "1               keypad           False       0.0   0.0     0.0        0.0   \n",
       "2               keypad           False       0.0   0.0     0.0        0.0   \n",
       "3  keypad_phone_number           False       0.0   0.0     0.0        0.0   \n",
       "4               keypad           False       0.0   0.0     0.0        0.0   \n",
       "\n",
       "                                startgeom  \\\n",
       "0                    44.04109,-123.081935   \n",
       "1  44.045478333333335,-123.06537166666666   \n",
       "2  44.045471666666664,-123.06526666666667   \n",
       "3           44.045375,-123.06513666666666   \n",
       "4          44.049508333333335,-123.094235   \n",
       "\n",
       "                                  endgeom  \\\n",
       "0   44.03763333333333,-123.08355333333333   \n",
       "1   44.04586833333333,-123.07854666666667   \n",
       "2  44.045883333333336,-123.07848833333334   \n",
       "3           44.041065,-123.08195833333333   \n",
       "4            44.04582333333333,-123.07851   \n",
       "\n",
       "                                        startaddress  \\\n",
       "0  (Peace Lutheran, East 17th Avenue, College Hil...   \n",
       "1  (Matthew Knight Arena, Franklin Boulevard, Eug...   \n",
       "2  (Matthew Knight Arena, Franklin Boulevard, Eug...   \n",
       "3  (Matthew Knight Arena, Franklin Boulevard, Eug...   \n",
       "4  (Luckey's, Olive Street, Eugene, Lane County, ...   \n",
       "\n",
       "                                          endaddress  \n",
       "0  (Eugene Family YMCA, 2055, Patterson Street, C...  \n",
       "1  (University of Oregon Station - Bay B, Univers...  \n",
       "2  (Chiles Hall, University Station North - Bay C...  \n",
       "3  (Peace Lutheran, East 17th Avenue, College Hil...  \n",
       "4  (Chiles Hall, University Station North - Bay C...  \n",
       "\n",
       "[5 rows x 34 columns]"
      ]
     },
     "execution_count": 98,
     "metadata": {},
     "output_type": "execute_result"
    }
   ],
   "source": [
    "df['endaddress'] = df['endgeom'].progress_apply(rgeocode)\n",
    "df.head()"
   ]
  },
  {
   "cell_type": "code",
   "execution_count": 99,
   "id": "00be8c96",
   "metadata": {},
   "outputs": [],
   "source": [
    "def getLoc(x):\n",
    "    if x is not None:\n",
    "        loc = x.raw['address']\n",
    "        a = [key for key, value in loc.items()][0]\n",
    "        b = [key for key, value in loc.items()][1]\n",
    "        if  a == 'house_number':\n",
    "            res = loc['road'] + ' ' + loc['house_number']\n",
    "        else:\n",
    "            res = loc[a]\n",
    "            if res == \"University of Oregon\":\n",
    "                res = \"UO \" + loc[b]\n",
    "    else:\n",
    "        res = \"\"\n",
    "    return res"
   ]
  },
  {
   "cell_type": "code",
   "execution_count": 100,
   "id": "c314c9b1",
   "metadata": {},
   "outputs": [],
   "source": [
    "df['startname'] = df.startaddress.apply(lambda x: getLoc(x))"
   ]
  },
  {
   "cell_type": "code",
   "execution_count": 101,
   "id": "c1a86be2",
   "metadata": {},
   "outputs": [],
   "source": [
    "df['endname'] = df.endaddress.apply(lambda x: getLoc(x))"
   ]
  },
  {
   "cell_type": "code",
   "execution_count": 102,
   "id": "0c4a4615",
   "metadata": {},
   "outputs": [
    {
     "data": {
      "text/plain": [
       "Index(['User ID', 'Route ID', 'Bike Region ID', 'Payment Plan', 'Start Hub',\n",
       "       'Start Area', 'Start Special Area', 'Start Latitude', 'Start Longitude',\n",
       "       'Start Date', 'Start Time', 'End Hub', 'End Area', 'End Special Area',\n",
       "       'End Latitude', 'End Longitude', 'End Date', 'End Time', 'Member Type',\n",
       "       'Trip Type', 'Bike ID', 'Bike Name', 'Distance [Miles]', 'Duration',\n",
       "       'Rental Access Path', 'Multiple Rental', 'Ride cost', 'Fees', 'Bonuses',\n",
       "       'Total cost', 'startgeom', 'endgeom', 'startaddress', 'endaddress',\n",
       "       'startname', 'endname'],\n",
       "      dtype='object')"
      ]
     },
     "execution_count": 102,
     "metadata": {},
     "output_type": "execute_result"
    }
   ],
   "source": [
    "df.columns"
   ]
  },
  {
   "cell_type": "code",
   "execution_count": 103,
   "id": "143b5395",
   "metadata": {},
   "outputs": [],
   "source": [
    "df.loc[df['Start Hub'].isnull(), 'Start Hub'] = df.loc[df['Start Hub'].isnull(), 'startname']"
   ]
  },
  {
   "cell_type": "code",
   "execution_count": 104,
   "id": "c2b834c2",
   "metadata": {},
   "outputs": [],
   "source": [
    "df.loc[df['End Hub'].isnull(), 'End Hub'] = df.loc[df['End Hub'].isnull(), 'endname']"
   ]
  },
  {
   "cell_type": "code",
   "execution_count": 105,
   "id": "07fc7592",
   "metadata": {},
   "outputs": [],
   "source": [
    "path = r\"T:\\DCProjects\\StoryMap\\BikeCounting\\BikeShare\\Data\\Output\\review\""
   ]
  },
  {
   "cell_type": "code",
   "execution_count": 108,
   "id": "342f6619",
   "metadata": {},
   "outputs": [],
   "source": [
    "df.to_csv(os.path.join(path, file), index=False)"
   ]
  },
  {
   "cell_type": "code",
   "execution_count": 116,
   "id": "5758ba89",
   "metadata": {},
   "outputs": [
    {
     "data": {
      "text/html": [
       "<div>\n",
       "<style scoped>\n",
       "    .dataframe tbody tr th:only-of-type {\n",
       "        vertical-align: middle;\n",
       "    }\n",
       "\n",
       "    .dataframe tbody tr th {\n",
       "        vertical-align: top;\n",
       "    }\n",
       "\n",
       "    .dataframe thead th {\n",
       "        text-align: right;\n",
       "    }\n",
       "</style>\n",
       "<table border=\"1\" class=\"dataframe\">\n",
       "  <thead>\n",
       "    <tr style=\"text-align: right;\">\n",
       "      <th></th>\n",
       "      <th>User ID</th>\n",
       "      <th>Route ID</th>\n",
       "      <th>Bike Region ID</th>\n",
       "      <th>Payment Plan</th>\n",
       "      <th>Start Hub</th>\n",
       "      <th>Start Area</th>\n",
       "      <th>Start Special Area</th>\n",
       "      <th>Start Latitude</th>\n",
       "      <th>Start Longitude</th>\n",
       "      <th>Start Date</th>\n",
       "      <th>...</th>\n",
       "      <th>Ride cost</th>\n",
       "      <th>Fees</th>\n",
       "      <th>Bonuses</th>\n",
       "      <th>Total cost</th>\n",
       "      <th>startgeom</th>\n",
       "      <th>endgeom</th>\n",
       "      <th>startaddress</th>\n",
       "      <th>endaddress</th>\n",
       "      <th>startname</th>\n",
       "      <th>endname</th>\n",
       "    </tr>\n",
       "  </thead>\n",
       "  <tbody>\n",
       "    <tr>\n",
       "      <th>0</th>\n",
       "      <td>787416</td>\n",
       "      <td>7269180</td>\n",
       "      <td>NaN</td>\n",
       "      <td>Single Ride</td>\n",
       "      <td>16th &amp; Hilyard, West side</td>\n",
       "      <td>Phase 1 System Area</td>\n",
       "      <td>NaN</td>\n",
       "      <td>44.04109</td>\n",
       "      <td>-123.081935</td>\n",
       "      <td>2018-06-01</td>\n",
       "      <td>...</td>\n",
       "      <td>0.0</td>\n",
       "      <td>0.0</td>\n",
       "      <td>0.0</td>\n",
       "      <td>0.0</td>\n",
       "      <td>44.04109,-123.081935</td>\n",
       "      <td>44.03763333333333,-123.08355333333333</td>\n",
       "      <td>(Peace Lutheran, East 17th Avenue, College Hil...</td>\n",
       "      <td>(Eugene Family YMCA, 2055, Patterson Street, C...</td>\n",
       "      <td>Peace Lutheran</td>\n",
       "      <td>Eugene Family YMCA</td>\n",
       "    </tr>\n",
       "    <tr>\n",
       "      <th>1</th>\n",
       "      <td>856344</td>\n",
       "      <td>7269203</td>\n",
       "      <td>NaN</td>\n",
       "      <td>UO Monthly Plan</td>\n",
       "      <td>Matthew Knight Arena</td>\n",
       "      <td>Phase 1 System Area</td>\n",
       "      <td>NaN</td>\n",
       "      <td>44.045478333333335</td>\n",
       "      <td>-123.06537166666666</td>\n",
       "      <td>2018-06-01</td>\n",
       "      <td>...</td>\n",
       "      <td>0.0</td>\n",
       "      <td>0.0</td>\n",
       "      <td>0.0</td>\n",
       "      <td>0.0</td>\n",
       "      <td>44.045478333333335,-123.06537166666666</td>\n",
       "      <td>44.04586833333333,-123.07854666666667</td>\n",
       "      <td>(Matthew Knight Arena, Franklin Boulevard, Eug...</td>\n",
       "      <td>(University of Oregon Station - Bay B, Univers...</td>\n",
       "      <td>Matthew Knight Arena</td>\n",
       "      <td>University of Oregon Station - Bay B</td>\n",
       "    </tr>\n",
       "    <tr>\n",
       "      <th>2</th>\n",
       "      <td>856729</td>\n",
       "      <td>7269205</td>\n",
       "      <td>NaN</td>\n",
       "      <td>UO Monthly Plan</td>\n",
       "      <td>Matthew Knight Arena</td>\n",
       "      <td>Phase 1 System Area</td>\n",
       "      <td>NaN</td>\n",
       "      <td>44.045471666666664</td>\n",
       "      <td>-123.06526666666667</td>\n",
       "      <td>2018-06-01</td>\n",
       "      <td>...</td>\n",
       "      <td>0.0</td>\n",
       "      <td>0.0</td>\n",
       "      <td>0.0</td>\n",
       "      <td>0.0</td>\n",
       "      <td>44.045471666666664,-123.06526666666667</td>\n",
       "      <td>44.045883333333336,-123.07848833333334</td>\n",
       "      <td>(Matthew Knight Arena, Franklin Boulevard, Eug...</td>\n",
       "      <td>(Chiles Hall, University Station North - Bay C...</td>\n",
       "      <td>Matthew Knight Arena</td>\n",
       "      <td>Chiles Hall</td>\n",
       "    </tr>\n",
       "    <tr>\n",
       "      <th>3</th>\n",
       "      <td>781643</td>\n",
       "      <td>7269215</td>\n",
       "      <td>NaN</td>\n",
       "      <td>UO Monthly Plan</td>\n",
       "      <td>Matthew Knight Arena</td>\n",
       "      <td>Phase 1 System Area</td>\n",
       "      <td>NaN</td>\n",
       "      <td>44.045375</td>\n",
       "      <td>-123.06513666666666</td>\n",
       "      <td>2018-06-01</td>\n",
       "      <td>...</td>\n",
       "      <td>0.0</td>\n",
       "      <td>0.0</td>\n",
       "      <td>0.0</td>\n",
       "      <td>0.0</td>\n",
       "      <td>44.045375,-123.06513666666666</td>\n",
       "      <td>44.041065,-123.08195833333333</td>\n",
       "      <td>(Matthew Knight Arena, Franklin Boulevard, Eug...</td>\n",
       "      <td>(Peace Lutheran, East 17th Avenue, College Hil...</td>\n",
       "      <td>Matthew Knight Arena</td>\n",
       "      <td>Peace Lutheran</td>\n",
       "    </tr>\n",
       "    <tr>\n",
       "      <th>4</th>\n",
       "      <td>777445</td>\n",
       "      <td>7269218</td>\n",
       "      <td>NaN</td>\n",
       "      <td>UO Monthly Plan</td>\n",
       "      <td>10th &amp; Olive SE</td>\n",
       "      <td>Phase 1 System Area</td>\n",
       "      <td>NaN</td>\n",
       "      <td>44.049508333333335</td>\n",
       "      <td>-123.094235</td>\n",
       "      <td>2018-06-01</td>\n",
       "      <td>...</td>\n",
       "      <td>0.0</td>\n",
       "      <td>0.0</td>\n",
       "      <td>0.0</td>\n",
       "      <td>0.0</td>\n",
       "      <td>44.049508333333335,-123.094235</td>\n",
       "      <td>44.04582333333333,-123.07851</td>\n",
       "      <td>(Luckey's, Olive Street, Eugene, Lane County, ...</td>\n",
       "      <td>(Chiles Hall, University Station North - Bay C...</td>\n",
       "      <td>Luckey's</td>\n",
       "      <td>Chiles Hall</td>\n",
       "    </tr>\n",
       "  </tbody>\n",
       "</table>\n",
       "<p>5 rows × 36 columns</p>\n",
       "</div>"
      ],
      "text/plain": [
       "   User ID  Route ID  Bike Region ID     Payment Plan  \\\n",
       "0   787416   7269180             NaN      Single Ride   \n",
       "1   856344   7269203             NaN  UO Monthly Plan   \n",
       "2   856729   7269205             NaN  UO Monthly Plan   \n",
       "3   781643   7269215             NaN  UO Monthly Plan   \n",
       "4   777445   7269218             NaN  UO Monthly Plan   \n",
       "\n",
       "                   Start Hub           Start Area  Start Special Area  \\\n",
       "0  16th & Hilyard, West side  Phase 1 System Area                 NaN   \n",
       "1       Matthew Knight Arena  Phase 1 System Area                 NaN   \n",
       "2       Matthew Knight Arena  Phase 1 System Area                 NaN   \n",
       "3       Matthew Knight Arena  Phase 1 System Area                 NaN   \n",
       "4            10th & Olive SE  Phase 1 System Area                 NaN   \n",
       "\n",
       "       Start Latitude      Start Longitude  Start Date  ... Ride cost Fees  \\\n",
       "0            44.04109          -123.081935  2018-06-01  ...       0.0  0.0   \n",
       "1  44.045478333333335  -123.06537166666666  2018-06-01  ...       0.0  0.0   \n",
       "2  44.045471666666664  -123.06526666666667  2018-06-01  ...       0.0  0.0   \n",
       "3           44.045375  -123.06513666666666  2018-06-01  ...       0.0  0.0   \n",
       "4  44.049508333333335          -123.094235  2018-06-01  ...       0.0  0.0   \n",
       "\n",
       "  Bonuses  Total cost                               startgeom  \\\n",
       "0     0.0         0.0                    44.04109,-123.081935   \n",
       "1     0.0         0.0  44.045478333333335,-123.06537166666666   \n",
       "2     0.0         0.0  44.045471666666664,-123.06526666666667   \n",
       "3     0.0         0.0           44.045375,-123.06513666666666   \n",
       "4     0.0         0.0          44.049508333333335,-123.094235   \n",
       "\n",
       "                                  endgeom  \\\n",
       "0   44.03763333333333,-123.08355333333333   \n",
       "1   44.04586833333333,-123.07854666666667   \n",
       "2  44.045883333333336,-123.07848833333334   \n",
       "3           44.041065,-123.08195833333333   \n",
       "4            44.04582333333333,-123.07851   \n",
       "\n",
       "                                        startaddress  \\\n",
       "0  (Peace Lutheran, East 17th Avenue, College Hil...   \n",
       "1  (Matthew Knight Arena, Franklin Boulevard, Eug...   \n",
       "2  (Matthew Knight Arena, Franklin Boulevard, Eug...   \n",
       "3  (Matthew Knight Arena, Franklin Boulevard, Eug...   \n",
       "4  (Luckey's, Olive Street, Eugene, Lane County, ...   \n",
       "\n",
       "                                          endaddress             startname  \\\n",
       "0  (Eugene Family YMCA, 2055, Patterson Street, C...        Peace Lutheran   \n",
       "1  (University of Oregon Station - Bay B, Univers...  Matthew Knight Arena   \n",
       "2  (Chiles Hall, University Station North - Bay C...  Matthew Knight Arena   \n",
       "3  (Peace Lutheran, East 17th Avenue, College Hil...  Matthew Knight Arena   \n",
       "4  (Chiles Hall, University Station North - Bay C...              Luckey's   \n",
       "\n",
       "                                endname  \n",
       "0                    Eugene Family YMCA  \n",
       "1  University of Oregon Station - Bay B  \n",
       "2                           Chiles Hall  \n",
       "3                        Peace Lutheran  \n",
       "4                           Chiles Hall  \n",
       "\n",
       "[5 rows x 36 columns]"
      ]
     },
     "execution_count": 116,
     "metadata": {},
     "output_type": "execute_result"
    }
   ],
   "source": [
    "df.head()"
   ]
  },
  {
   "cell_type": "code",
   "execution_count": 117,
   "id": "25ca4db8",
   "metadata": {},
   "outputs": [],
   "source": [
    "ndf = df.drop(['startgeom', 'endgeom', 'startaddress', 'endaddress',\n",
    "       'startname', 'endname'], axis=1)"
   ]
  },
  {
   "cell_type": "code",
   "execution_count": 118,
   "id": "76a69f4a",
   "metadata": {},
   "outputs": [],
   "source": [
    "outpath = r\"T:\\DCProjects\\StoryMap\\BikeCounting\\BikeShare\\Data\\Output\""
   ]
  },
  {
   "cell_type": "code",
   "execution_count": 119,
   "id": "1689b4e6",
   "metadata": {},
   "outputs": [],
   "source": [
    "ndf.to_csv(os.path.join(outpath, file), index=False)"
   ]
  },
  {
   "cell_type": "code",
   "execution_count": 5,
   "id": "448f4945",
   "metadata": {},
   "outputs": [],
   "source": [
    "files = glob.glob(os.path.join(path, \"*.csv\"))"
   ]
  },
  {
   "cell_type": "code",
   "execution_count": 73,
   "id": "c184e3f9",
   "metadata": {},
   "outputs": [],
   "source": [
    "def review_hubs(re_df, strp='Eugene'):\n",
    "    for hub in [\"Start\", \"End\"]:\n",
    "        if hub+' Hub' in re_df.columns:\n",
    "            re = re_df[re_df[hub+' Hub'].str.contains(strp, na=False)][[hub+' Latitude', hub+' Longitude']]\n",
    "        else:\n",
    "            re = re_df[re_df[hub+'.Hub'].str.contains(strp, na=False)][[hub+'.Latitude', hub+'.Longitude']]\n",
    "        \n",
    "        if re.shape[0] > 0:\n",
    "            re.columns = ['Lat', 'Lon']\n",
    "            re[\"geom\"] = re[\"Lat\"].map(str) + ',' + re['Lon'].map(str)\n",
    "            locator = Nominatim(user_agent=\"measurements\", timeout=10)\n",
    "            rgeocode = RateLimiter(locator.reverse, min_delay_seconds=0.00001)\n",
    "            tqdm_notebook.pandas()\n",
    "            re['address'] = re['geom'].progress_apply(rgeocode)\n",
    "            re['name'] =re.address.apply(getLoc)\n",
    "            if hub+' Hub' in re_df.columns:\n",
    "                re_df.loc[re_df[hub+' Hub'].str.contains(strp, na=False), hub+' Hub'] = re.name.values  \n",
    "            else:\n",
    "                re_df.loc[re_df[hub+'.Hub'].str.contains(strp, na=False), hub+'.Hub'] = re.name.values\n",
    "    return re_df"
   ]
  },
  {
   "cell_type": "code",
   "execution_count": 111,
   "id": "276ba6eb",
   "metadata": {},
   "outputs": [],
   "source": [
    "def review_hubs(re_df):\n",
    "    for hub in [\"Start\", \"End\"]:\n",
    "        if hub+' Hub' in re_df.columns:\n",
    "            if re_df[re_df[hub+' Hub'].isnull()].shape[0] > 0:\n",
    "                re = re_df[re_df[hub+' Hub'].isnull()][[hub+' Latitude', hub+' Longitude']]\n",
    "            else:\n",
    "                re = re_df[re_df[hub+' Hub'].str.isnumeric()][[hub+' Latitude', hub+' Longitude']]\n",
    "        else:\n",
    "            re = re_df[re_df[hub+'.Hub'].str.isnumeric()][[hub+'.Latitude', hub+'.Longitude']]\n",
    "        \n",
    "        if re.shape[0] > 0:\n",
    "            re.columns = ['Lat', 'Lon']\n",
    "            re[\"geom\"] = re[\"Lat\"].map(str) + ',' + re['Lon'].map(str)\n",
    "            locator = Nominatim(user_agent=\"measurements\", timeout=10)\n",
    "            rgeocode = RateLimiter(locator.reverse, min_delay_seconds=0.00001)\n",
    "            tqdm_notebook.pandas()\n",
    "            re['address'] = re['geom'].progress_apply(rgeocode)\n",
    "            re['name'] =re.address.apply(getLoc)\n",
    "            if hub+' Hub' in re_df.columns:\n",
    "                if re_df[re_df[hub+' Hub'].isnull()].shape[0] > 0:\n",
    "                    re_df.loc[re_df[hub+' Hub'].isnull(), hub+' Hub'] = re.name.values\n",
    "                else:\n",
    "                    re_df.loc[re_df[hub+' Hub'].str.isnumeric(), hub+' Hub'] = re.name.values  \n",
    "            else:\n",
    "                re_df.loc[re_df[hub+'.Hub'].str.isnumeric(), hub+'.Hub'] = re.name.values\n",
    "    return re_df"
   ]
  },
  {
   "cell_type": "code",
   "execution_count": 82,
   "id": "7233b5c2",
   "metadata": {},
   "outputs": [
    {
     "name": "stdout",
     "output_type": "stream",
     "text": [
      "T:\\DCProjects\\StoryMap\\BikeCounting\\BikeShare\\Data\\Output\\review\\trips_peace_health_rides_01_01_2019-01_31_2019.csv\n"
     ]
    },
    {
     "data": {
      "application/vnd.jupyter.widget-view+json": {
       "model_id": "afc789880995488680fcbcf8b03759fa",
       "version_major": 2,
       "version_minor": 0
      },
      "text/plain": [
       "  0%|          | 0/10 [00:00<?, ?it/s]"
      ]
     },
     "metadata": {},
     "output_type": "display_data"
    },
    {
     "data": {
      "application/vnd.jupyter.widget-view+json": {
       "model_id": "a5e8b69031d34314ab7bc0154ebb9a5b",
       "version_major": 2,
       "version_minor": 0
      },
      "text/plain": [
       "  0%|          | 0/2 [00:00<?, ?it/s]"
      ]
     },
     "metadata": {},
     "output_type": "display_data"
    },
    {
     "name": "stdout",
     "output_type": "stream",
     "text": [
      "T:\\DCProjects\\StoryMap\\BikeCounting\\BikeShare\\Data\\Output\\review\\trips_peace_health_rides_01_01_2020-01_31_2020.csv\n"
     ]
    },
    {
     "data": {
      "application/vnd.jupyter.widget-view+json": {
       "model_id": "67cfb7f43b4a42b48f4a558576832579",
       "version_major": 2,
       "version_minor": 0
      },
      "text/plain": [
       "  0%|          | 0/1 [00:00<?, ?it/s]"
      ]
     },
     "metadata": {},
     "output_type": "display_data"
    },
    {
     "data": {
      "application/vnd.jupyter.widget-view+json": {
       "model_id": "8bde20339ed24bd192c6604decd01a9c",
       "version_major": 2,
       "version_minor": 0
      },
      "text/plain": [
       "  0%|          | 0/3 [00:00<?, ?it/s]"
      ]
     },
     "metadata": {},
     "output_type": "display_data"
    },
    {
     "name": "stdout",
     "output_type": "stream",
     "text": [
      "T:\\DCProjects\\StoryMap\\BikeCounting\\BikeShare\\Data\\Output\\review\\trips_peace_health_rides_01_01_2021-01_31_2021.csv\n"
     ]
    },
    {
     "data": {
      "application/vnd.jupyter.widget-view+json": {
       "model_id": "ee85f44c12874b8a83d67cb149b89d0d",
       "version_major": 2,
       "version_minor": 0
      },
      "text/plain": [
       "  0%|          | 0/1 [00:00<?, ?it/s]"
      ]
     },
     "metadata": {},
     "output_type": "display_data"
    },
    {
     "name": "stdout",
     "output_type": "stream",
     "text": [
      "T:\\DCProjects\\StoryMap\\BikeCounting\\BikeShare\\Data\\Output\\review\\trips_peace_health_rides_01_01_2022-01_31_2022.csv\n"
     ]
    },
    {
     "data": {
      "application/vnd.jupyter.widget-view+json": {
       "model_id": "5f803f11328c45a082c49d80df8f53b3",
       "version_major": 2,
       "version_minor": 0
      },
      "text/plain": [
       "  0%|          | 0/1 [00:00<?, ?it/s]"
      ]
     },
     "metadata": {},
     "output_type": "display_data"
    },
    {
     "data": {
      "application/vnd.jupyter.widget-view+json": {
       "model_id": "89caaedfe48d46869e16d3e8a81ba113",
       "version_major": 2,
       "version_minor": 0
      },
      "text/plain": [
       "  0%|          | 0/1 [00:00<?, ?it/s]"
      ]
     },
     "metadata": {},
     "output_type": "display_data"
    },
    {
     "name": "stdout",
     "output_type": "stream",
     "text": [
      "T:\\DCProjects\\StoryMap\\BikeCounting\\BikeShare\\Data\\Output\\review\\trips_peace_health_rides_02_01_2019-02_28_2019.csv\n"
     ]
    },
    {
     "data": {
      "application/vnd.jupyter.widget-view+json": {
       "model_id": "c470210464924a09a2c7cadcbce82b1a",
       "version_major": 2,
       "version_minor": 0
      },
      "text/plain": [
       "  0%|          | 0/3 [00:00<?, ?it/s]"
      ]
     },
     "metadata": {},
     "output_type": "display_data"
    },
    {
     "name": "stdout",
     "output_type": "stream",
     "text": [
      "T:\\DCProjects\\StoryMap\\BikeCounting\\BikeShare\\Data\\Output\\review\\trips_peace_health_rides_02_01_2020-02_29_2020.csv\n"
     ]
    },
    {
     "data": {
      "application/vnd.jupyter.widget-view+json": {
       "model_id": "2879af77aa564ababb1986a6a652f073",
       "version_major": 2,
       "version_minor": 0
      },
      "text/plain": [
       "  0%|          | 0/2 [00:00<?, ?it/s]"
      ]
     },
     "metadata": {},
     "output_type": "display_data"
    },
    {
     "data": {
      "application/vnd.jupyter.widget-view+json": {
       "model_id": "97ceb628c662498099d9be0c96602335",
       "version_major": 2,
       "version_minor": 0
      },
      "text/plain": [
       "  0%|          | 0/2 [00:00<?, ?it/s]"
      ]
     },
     "metadata": {},
     "output_type": "display_data"
    },
    {
     "name": "stdout",
     "output_type": "stream",
     "text": [
      "T:\\DCProjects\\StoryMap\\BikeCounting\\BikeShare\\Data\\Output\\review\\trips_peace_health_rides_02_01_2021-02_28_2021.csv\n",
      "T:\\DCProjects\\StoryMap\\BikeCounting\\BikeShare\\Data\\Output\\review\\trips_peace_health_rides_02_01_2022-02_28_2022.csv\n"
     ]
    },
    {
     "data": {
      "application/vnd.jupyter.widget-view+json": {
       "model_id": "943565ee1d864806924176f54971082e",
       "version_major": 2,
       "version_minor": 0
      },
      "text/plain": [
       "  0%|          | 0/3 [00:00<?, ?it/s]"
      ]
     },
     "metadata": {},
     "output_type": "display_data"
    },
    {
     "data": {
      "application/vnd.jupyter.widget-view+json": {
       "model_id": "71b9c5a602304fec9a0704fbccaba9aa",
       "version_major": 2,
       "version_minor": 0
      },
      "text/plain": [
       "  0%|          | 0/3 [00:00<?, ?it/s]"
      ]
     },
     "metadata": {},
     "output_type": "display_data"
    },
    {
     "name": "stdout",
     "output_type": "stream",
     "text": [
      "T:\\DCProjects\\StoryMap\\BikeCounting\\BikeShare\\Data\\Output\\review\\trips_peace_health_rides_03_01_2019-03_31_2019.csv\n"
     ]
    },
    {
     "data": {
      "application/vnd.jupyter.widget-view+json": {
       "model_id": "38c4e22335f44e7ba0971b06d664831f",
       "version_major": 2,
       "version_minor": 0
      },
      "text/plain": [
       "  0%|          | 0/5 [00:00<?, ?it/s]"
      ]
     },
     "metadata": {},
     "output_type": "display_data"
    },
    {
     "data": {
      "application/vnd.jupyter.widget-view+json": {
       "model_id": "b97fc87e3dbd423e9b59db0add2c984c",
       "version_major": 2,
       "version_minor": 0
      },
      "text/plain": [
       "  0%|          | 0/1 [00:00<?, ?it/s]"
      ]
     },
     "metadata": {},
     "output_type": "display_data"
    },
    {
     "name": "stdout",
     "output_type": "stream",
     "text": [
      "T:\\DCProjects\\StoryMap\\BikeCounting\\BikeShare\\Data\\Output\\review\\trips_peace_health_rides_03_01_2020-03_31_2020.csv\n"
     ]
    },
    {
     "data": {
      "application/vnd.jupyter.widget-view+json": {
       "model_id": "0f30fa7b2dda4ba8929797c89113587d",
       "version_major": 2,
       "version_minor": 0
      },
      "text/plain": [
       "  0%|          | 0/2 [00:00<?, ?it/s]"
      ]
     },
     "metadata": {},
     "output_type": "display_data"
    },
    {
     "data": {
      "application/vnd.jupyter.widget-view+json": {
       "model_id": "5cb3fd00ce774de988da0d316fd9f0d4",
       "version_major": 2,
       "version_minor": 0
      },
      "text/plain": [
       "  0%|          | 0/2 [00:00<?, ?it/s]"
      ]
     },
     "metadata": {},
     "output_type": "display_data"
    },
    {
     "name": "stdout",
     "output_type": "stream",
     "text": [
      "T:\\DCProjects\\StoryMap\\BikeCounting\\BikeShare\\Data\\Output\\review\\trips_peace_health_rides_03_01_2021-03_31_2021.csv\n"
     ]
    },
    {
     "data": {
      "application/vnd.jupyter.widget-view+json": {
       "model_id": "cc233e0ad32447258f4c9bbddd85a5ec",
       "version_major": 2,
       "version_minor": 0
      },
      "text/plain": [
       "  0%|          | 0/1 [00:00<?, ?it/s]"
      ]
     },
     "metadata": {},
     "output_type": "display_data"
    },
    {
     "name": "stdout",
     "output_type": "stream",
     "text": [
      "T:\\DCProjects\\StoryMap\\BikeCounting\\BikeShare\\Data\\Output\\review\\trips_peace_health_rides_03_01_2022-03_31_2022.csv\n"
     ]
    },
    {
     "data": {
      "application/vnd.jupyter.widget-view+json": {
       "model_id": "f670bccbe7e84a77b2b8868cb047ec70",
       "version_major": 2,
       "version_minor": 0
      },
      "text/plain": [
       "  0%|          | 0/2 [00:00<?, ?it/s]"
      ]
     },
     "metadata": {},
     "output_type": "display_data"
    },
    {
     "data": {
      "application/vnd.jupyter.widget-view+json": {
       "model_id": "e38007a2f2944d69a6059dd9a70303d4",
       "version_major": 2,
       "version_minor": 0
      },
      "text/plain": [
       "  0%|          | 0/5 [00:00<?, ?it/s]"
      ]
     },
     "metadata": {},
     "output_type": "display_data"
    },
    {
     "name": "stdout",
     "output_type": "stream",
     "text": [
      "T:\\DCProjects\\StoryMap\\BikeCounting\\BikeShare\\Data\\Output\\review\\trips_peace_health_rides_04_01_2019-04_30_2019.csv\n"
     ]
    },
    {
     "data": {
      "application/vnd.jupyter.widget-view+json": {
       "model_id": "81c55915002b4b64b5163ff3ebb0412c",
       "version_major": 2,
       "version_minor": 0
      },
      "text/plain": [
       "  0%|          | 0/12 [00:00<?, ?it/s]"
      ]
     },
     "metadata": {},
     "output_type": "display_data"
    },
    {
     "data": {
      "application/vnd.jupyter.widget-view+json": {
       "model_id": "325ac268f15a46a0834bcb62f734ba06",
       "version_major": 2,
       "version_minor": 0
      },
      "text/plain": [
       "  0%|          | 0/4 [00:00<?, ?it/s]"
      ]
     },
     "metadata": {},
     "output_type": "display_data"
    },
    {
     "name": "stdout",
     "output_type": "stream",
     "text": [
      "T:\\DCProjects\\StoryMap\\BikeCounting\\BikeShare\\Data\\Output\\review\\trips_peace_health_rides_04_01_2020-04_30_2020.csv\n"
     ]
    },
    {
     "data": {
      "application/vnd.jupyter.widget-view+json": {
       "model_id": "9f87e6360a664219ae9e26ee66cf7287",
       "version_major": 2,
       "version_minor": 0
      },
      "text/plain": [
       "  0%|          | 0/1 [00:00<?, ?it/s]"
      ]
     },
     "metadata": {},
     "output_type": "display_data"
    },
    {
     "data": {
      "application/vnd.jupyter.widget-view+json": {
       "model_id": "f715bb4a59f94b55b2313eb4892f7e91",
       "version_major": 2,
       "version_minor": 0
      },
      "text/plain": [
       "  0%|          | 0/1 [00:00<?, ?it/s]"
      ]
     },
     "metadata": {},
     "output_type": "display_data"
    },
    {
     "name": "stdout",
     "output_type": "stream",
     "text": [
      "T:\\DCProjects\\StoryMap\\BikeCounting\\BikeShare\\Data\\Output\\review\\trips_peace_health_rides_04_01_2021-04_30_2021.csv\n",
      "T:\\DCProjects\\StoryMap\\BikeCounting\\BikeShare\\Data\\Output\\review\\trips_peace_health_rides_05_01_2018-05_31_2018.csv\n"
     ]
    },
    {
     "data": {
      "application/vnd.jupyter.widget-view+json": {
       "model_id": "6fa4103fc4104d0eb016d4b44435f229",
       "version_major": 2,
       "version_minor": 0
      },
      "text/plain": [
       "  0%|          | 0/11 [00:00<?, ?it/s]"
      ]
     },
     "metadata": {},
     "output_type": "display_data"
    },
    {
     "data": {
      "application/vnd.jupyter.widget-view+json": {
       "model_id": "58bb42f9a4104f529cb56d504220134e",
       "version_major": 2,
       "version_minor": 0
      },
      "text/plain": [
       "  0%|          | 0/4 [00:00<?, ?it/s]"
      ]
     },
     "metadata": {},
     "output_type": "display_data"
    },
    {
     "name": "stdout",
     "output_type": "stream",
     "text": [
      "T:\\DCProjects\\StoryMap\\BikeCounting\\BikeShare\\Data\\Output\\review\\trips_peace_health_rides_05_01_2019-05_31_2019.csv\n"
     ]
    },
    {
     "data": {
      "application/vnd.jupyter.widget-view+json": {
       "model_id": "c39b720581484408a8f02013e63dcd10",
       "version_major": 2,
       "version_minor": 0
      },
      "text/plain": [
       "  0%|          | 0/5 [00:00<?, ?it/s]"
      ]
     },
     "metadata": {},
     "output_type": "display_data"
    },
    {
     "data": {
      "application/vnd.jupyter.widget-view+json": {
       "model_id": "8569a3417f4a47cc9184d6c11b47e387",
       "version_major": 2,
       "version_minor": 0
      },
      "text/plain": [
       "  0%|          | 0/2 [00:00<?, ?it/s]"
      ]
     },
     "metadata": {},
     "output_type": "display_data"
    },
    {
     "name": "stdout",
     "output_type": "stream",
     "text": [
      "T:\\DCProjects\\StoryMap\\BikeCounting\\BikeShare\\Data\\Output\\review\\trips_peace_health_rides_05_01_2020-05_31_2020.csv\n"
     ]
    },
    {
     "data": {
      "application/vnd.jupyter.widget-view+json": {
       "model_id": "e26b53c621e84b94a71c5c002422cc82",
       "version_major": 2,
       "version_minor": 0
      },
      "text/plain": [
       "  0%|          | 0/1 [00:00<?, ?it/s]"
      ]
     },
     "metadata": {},
     "output_type": "display_data"
    },
    {
     "data": {
      "application/vnd.jupyter.widget-view+json": {
       "model_id": "60d5b40e00864bd8ba534b25beb9c393",
       "version_major": 2,
       "version_minor": 0
      },
      "text/plain": [
       "  0%|          | 0/2 [00:00<?, ?it/s]"
      ]
     },
     "metadata": {},
     "output_type": "display_data"
    },
    {
     "name": "stdout",
     "output_type": "stream",
     "text": [
      "T:\\DCProjects\\StoryMap\\BikeCounting\\BikeShare\\Data\\Output\\review\\trips_peace_health_rides_05_01_2021-05_31_2021.csv\n"
     ]
    },
    {
     "data": {
      "application/vnd.jupyter.widget-view+json": {
       "model_id": "c4156b316a014612b4d2948dff587709",
       "version_major": 2,
       "version_minor": 0
      },
      "text/plain": [
       "  0%|          | 0/4 [00:00<?, ?it/s]"
      ]
     },
     "metadata": {},
     "output_type": "display_data"
    },
    {
     "data": {
      "application/vnd.jupyter.widget-view+json": {
       "model_id": "2af9ee1e05914da79c52c6d239649e4d",
       "version_major": 2,
       "version_minor": 0
      },
      "text/plain": [
       "  0%|          | 0/3 [00:00<?, ?it/s]"
      ]
     },
     "metadata": {},
     "output_type": "display_data"
    },
    {
     "name": "stdout",
     "output_type": "stream",
     "text": [
      "T:\\DCProjects\\StoryMap\\BikeCounting\\BikeShare\\Data\\Output\\review\\trips_peace_health_rides_06_01_2018-06_30_2018.csv\n"
     ]
    },
    {
     "data": {
      "application/vnd.jupyter.widget-view+json": {
       "model_id": "8c85304e9be64439933a5cb40fd95bbb",
       "version_major": 2,
       "version_minor": 0
      },
      "text/plain": [
       "  0%|          | 0/4 [00:00<?, ?it/s]"
      ]
     },
     "metadata": {},
     "output_type": "display_data"
    },
    {
     "data": {
      "application/vnd.jupyter.widget-view+json": {
       "model_id": "39385ab562c14cbba09a2e80727262db",
       "version_major": 2,
       "version_minor": 0
      },
      "text/plain": [
       "  0%|          | 0/4 [00:00<?, ?it/s]"
      ]
     },
     "metadata": {},
     "output_type": "display_data"
    },
    {
     "name": "stdout",
     "output_type": "stream",
     "text": [
      "T:\\DCProjects\\StoryMap\\BikeCounting\\BikeShare\\Data\\Output\\review\\trips_peace_health_rides_06_01_2019-06_30_2019.csv\n"
     ]
    },
    {
     "data": {
      "application/vnd.jupyter.widget-view+json": {
       "model_id": "c3c4daec53f441458fe8df4d6288cf56",
       "version_major": 2,
       "version_minor": 0
      },
      "text/plain": [
       "  0%|          | 0/10 [00:00<?, ?it/s]"
      ]
     },
     "metadata": {},
     "output_type": "display_data"
    },
    {
     "data": {
      "application/vnd.jupyter.widget-view+json": {
       "model_id": "912c3905d00840d99d21a4e11d0edcbb",
       "version_major": 2,
       "version_minor": 0
      },
      "text/plain": [
       "  0%|          | 0/6 [00:00<?, ?it/s]"
      ]
     },
     "metadata": {},
     "output_type": "display_data"
    },
    {
     "name": "stdout",
     "output_type": "stream",
     "text": [
      "T:\\DCProjects\\StoryMap\\BikeCounting\\BikeShare\\Data\\Output\\review\\trips_peace_health_rides_06_01_2020-06_30_2020.csv\n"
     ]
    },
    {
     "data": {
      "application/vnd.jupyter.widget-view+json": {
       "model_id": "20cf8ef9cdf840a7ab92658eb4125a6e",
       "version_major": 2,
       "version_minor": 0
      },
      "text/plain": [
       "  0%|          | 0/7 [00:00<?, ?it/s]"
      ]
     },
     "metadata": {},
     "output_type": "display_data"
    },
    {
     "data": {
      "application/vnd.jupyter.widget-view+json": {
       "model_id": "f46caedf215a48c596598293fc0b58ab",
       "version_major": 2,
       "version_minor": 0
      },
      "text/plain": [
       "  0%|          | 0/7 [00:00<?, ?it/s]"
      ]
     },
     "metadata": {},
     "output_type": "display_data"
    },
    {
     "name": "stdout",
     "output_type": "stream",
     "text": [
      "T:\\DCProjects\\StoryMap\\BikeCounting\\BikeShare\\Data\\Output\\review\\trips_peace_health_rides_06_01_2021-06_30_2021.csv\n"
     ]
    },
    {
     "data": {
      "application/vnd.jupyter.widget-view+json": {
       "model_id": "720ff9533ebc4a088807c04a2b3d7da0",
       "version_major": 2,
       "version_minor": 0
      },
      "text/plain": [
       "  0%|          | 0/4 [00:00<?, ?it/s]"
      ]
     },
     "metadata": {},
     "output_type": "display_data"
    },
    {
     "data": {
      "application/vnd.jupyter.widget-view+json": {
       "model_id": "639ada58973a44d296e0a0a087f91d6a",
       "version_major": 2,
       "version_minor": 0
      },
      "text/plain": [
       "  0%|          | 0/4 [00:00<?, ?it/s]"
      ]
     },
     "metadata": {},
     "output_type": "display_data"
    },
    {
     "name": "stdout",
     "output_type": "stream",
     "text": [
      "T:\\DCProjects\\StoryMap\\BikeCounting\\BikeShare\\Data\\Output\\review\\trips_peace_health_rides_07_01_2018-07_31_2018.csv\n"
     ]
    },
    {
     "data": {
      "application/vnd.jupyter.widget-view+json": {
       "model_id": "dddacbc0a6cf40aaa6a6c00e7190e3a7",
       "version_major": 2,
       "version_minor": 0
      },
      "text/plain": [
       "  0%|          | 0/15 [00:00<?, ?it/s]"
      ]
     },
     "metadata": {},
     "output_type": "display_data"
    },
    {
     "data": {
      "application/vnd.jupyter.widget-view+json": {
       "model_id": "07f3df4b612c47b4af96b64ed0fe24a0",
       "version_major": 2,
       "version_minor": 0
      },
      "text/plain": [
       "  0%|          | 0/9 [00:00<?, ?it/s]"
      ]
     },
     "metadata": {},
     "output_type": "display_data"
    },
    {
     "name": "stdout",
     "output_type": "stream",
     "text": [
      "T:\\DCProjects\\StoryMap\\BikeCounting\\BikeShare\\Data\\Output\\review\\trips_peace_health_rides_07_01_2019-07_31_2019.csv\n"
     ]
    },
    {
     "data": {
      "application/vnd.jupyter.widget-view+json": {
       "model_id": "b68a14b29dc54506bb5cdb509bcd0450",
       "version_major": 2,
       "version_minor": 0
      },
      "text/plain": [
       "  0%|          | 0/11 [00:00<?, ?it/s]"
      ]
     },
     "metadata": {},
     "output_type": "display_data"
    },
    {
     "data": {
      "application/vnd.jupyter.widget-view+json": {
       "model_id": "a18b45ec664e44c2aa549ba5be4bf024",
       "version_major": 2,
       "version_minor": 0
      },
      "text/plain": [
       "  0%|          | 0/5 [00:00<?, ?it/s]"
      ]
     },
     "metadata": {},
     "output_type": "display_data"
    },
    {
     "name": "stdout",
     "output_type": "stream",
     "text": [
      "T:\\DCProjects\\StoryMap\\BikeCounting\\BikeShare\\Data\\Output\\review\\trips_peace_health_rides_07_01_2020-07_31_2020.csv\n"
     ]
    },
    {
     "data": {
      "application/vnd.jupyter.widget-view+json": {
       "model_id": "3e0febcb60b64059afb627bcc8491486",
       "version_major": 2,
       "version_minor": 0
      },
      "text/plain": [
       "  0%|          | 0/3 [00:00<?, ?it/s]"
      ]
     },
     "metadata": {},
     "output_type": "display_data"
    },
    {
     "data": {
      "application/vnd.jupyter.widget-view+json": {
       "model_id": "b722442763d34b2fa13d751cf3cda100",
       "version_major": 2,
       "version_minor": 0
      },
      "text/plain": [
       "  0%|          | 0/2 [00:00<?, ?it/s]"
      ]
     },
     "metadata": {},
     "output_type": "display_data"
    },
    {
     "name": "stdout",
     "output_type": "stream",
     "text": [
      "T:\\DCProjects\\StoryMap\\BikeCounting\\BikeShare\\Data\\Output\\review\\trips_peace_health_rides_07_01_2021-07_31_2021.csv\n"
     ]
    },
    {
     "data": {
      "application/vnd.jupyter.widget-view+json": {
       "model_id": "117cc89ed93744d4a6ce8edb47c35cda",
       "version_major": 2,
       "version_minor": 0
      },
      "text/plain": [
       "  0%|          | 0/3 [00:00<?, ?it/s]"
      ]
     },
     "metadata": {},
     "output_type": "display_data"
    },
    {
     "data": {
      "application/vnd.jupyter.widget-view+json": {
       "model_id": "bf64198df10b4ea48b53590e8264c375",
       "version_major": 2,
       "version_minor": 0
      },
      "text/plain": [
       "  0%|          | 0/5 [00:00<?, ?it/s]"
      ]
     },
     "metadata": {},
     "output_type": "display_data"
    },
    {
     "name": "stdout",
     "output_type": "stream",
     "text": [
      "T:\\DCProjects\\StoryMap\\BikeCounting\\BikeShare\\Data\\Output\\review\\trips_peace_health_rides_08_01_2018-08_31_2018.csv\n"
     ]
    },
    {
     "data": {
      "application/vnd.jupyter.widget-view+json": {
       "model_id": "1ed25c60e9ed4400ac4ae56141bd803a",
       "version_major": 2,
       "version_minor": 0
      },
      "text/plain": [
       "  0%|          | 0/18 [00:00<?, ?it/s]"
      ]
     },
     "metadata": {},
     "output_type": "display_data"
    },
    {
     "data": {
      "application/vnd.jupyter.widget-view+json": {
       "model_id": "ab1e32b150b54b428022be57fc88bba2",
       "version_major": 2,
       "version_minor": 0
      },
      "text/plain": [
       "  0%|          | 0/4 [00:00<?, ?it/s]"
      ]
     },
     "metadata": {},
     "output_type": "display_data"
    },
    {
     "name": "stdout",
     "output_type": "stream",
     "text": [
      "T:\\DCProjects\\StoryMap\\BikeCounting\\BikeShare\\Data\\Output\\review\\trips_peace_health_rides_08_01_2019-08_31_2019.csv\n"
     ]
    },
    {
     "data": {
      "application/vnd.jupyter.widget-view+json": {
       "model_id": "2875522e10da44368e05275892326813",
       "version_major": 2,
       "version_minor": 0
      },
      "text/plain": [
       "  0%|          | 0/8 [00:00<?, ?it/s]"
      ]
     },
     "metadata": {},
     "output_type": "display_data"
    },
    {
     "data": {
      "application/vnd.jupyter.widget-view+json": {
       "model_id": "391d796ec7a444da8fbbc504eccc6f8c",
       "version_major": 2,
       "version_minor": 0
      },
      "text/plain": [
       "  0%|          | 0/4 [00:00<?, ?it/s]"
      ]
     },
     "metadata": {},
     "output_type": "display_data"
    },
    {
     "name": "stdout",
     "output_type": "stream",
     "text": [
      "T:\\DCProjects\\StoryMap\\BikeCounting\\BikeShare\\Data\\Output\\review\\trips_peace_health_rides_08_01_2020-08_31_2020.csv\n"
     ]
    },
    {
     "data": {
      "application/vnd.jupyter.widget-view+json": {
       "model_id": "90e891fc74504a75bd7006c6f26969aa",
       "version_major": 2,
       "version_minor": 0
      },
      "text/plain": [
       "  0%|          | 0/10 [00:00<?, ?it/s]"
      ]
     },
     "metadata": {},
     "output_type": "display_data"
    },
    {
     "data": {
      "application/vnd.jupyter.widget-view+json": {
       "model_id": "4b7420d5d4724a5ea8e527fa0dc42602",
       "version_major": 2,
       "version_minor": 0
      },
      "text/plain": [
       "  0%|          | 0/9 [00:00<?, ?it/s]"
      ]
     },
     "metadata": {},
     "output_type": "display_data"
    },
    {
     "name": "stdout",
     "output_type": "stream",
     "text": [
      "T:\\DCProjects\\StoryMap\\BikeCounting\\BikeShare\\Data\\Output\\review\\trips_peace_health_rides_08_01_2021-08_31_2021.csv\n"
     ]
    },
    {
     "data": {
      "application/vnd.jupyter.widget-view+json": {
       "model_id": "3f4a25b6fd26425fb102526137f8becb",
       "version_major": 2,
       "version_minor": 0
      },
      "text/plain": [
       "  0%|          | 0/10 [00:00<?, ?it/s]"
      ]
     },
     "metadata": {},
     "output_type": "display_data"
    },
    {
     "data": {
      "application/vnd.jupyter.widget-view+json": {
       "model_id": "69b6b837847b40f098432bd8d141a36f",
       "version_major": 2,
       "version_minor": 0
      },
      "text/plain": [
       "  0%|          | 0/8 [00:00<?, ?it/s]"
      ]
     },
     "metadata": {},
     "output_type": "display_data"
    },
    {
     "name": "stdout",
     "output_type": "stream",
     "text": [
      "T:\\DCProjects\\StoryMap\\BikeCounting\\BikeShare\\Data\\Output\\review\\trips_peace_health_rides_09_01_2018-09_30_2018.csv\n"
     ]
    },
    {
     "data": {
      "application/vnd.jupyter.widget-view+json": {
       "model_id": "a4aa4a2988a547b3bbe834e6005b7dba",
       "version_major": 2,
       "version_minor": 0
      },
      "text/plain": [
       "  0%|          | 0/14 [00:00<?, ?it/s]"
      ]
     },
     "metadata": {},
     "output_type": "display_data"
    },
    {
     "data": {
      "application/vnd.jupyter.widget-view+json": {
       "model_id": "a9e16a6b1dc844cdbf5301cbe30e4a9b",
       "version_major": 2,
       "version_minor": 0
      },
      "text/plain": [
       "  0%|          | 0/4 [00:00<?, ?it/s]"
      ]
     },
     "metadata": {},
     "output_type": "display_data"
    },
    {
     "name": "stdout",
     "output_type": "stream",
     "text": [
      "T:\\DCProjects\\StoryMap\\BikeCounting\\BikeShare\\Data\\Output\\review\\trips_peace_health_rides_09_01_2019-09_30_2019.csv\n"
     ]
    },
    {
     "data": {
      "application/vnd.jupyter.widget-view+json": {
       "model_id": "e3d828a3a1ff4c43ae04786af46d46e6",
       "version_major": 2,
       "version_minor": 0
      },
      "text/plain": [
       "  0%|          | 0/8 [00:00<?, ?it/s]"
      ]
     },
     "metadata": {},
     "output_type": "display_data"
    },
    {
     "data": {
      "application/vnd.jupyter.widget-view+json": {
       "model_id": "0d158427d6ed44d29d193eb27daf642f",
       "version_major": 2,
       "version_minor": 0
      },
      "text/plain": [
       "  0%|          | 0/2 [00:00<?, ?it/s]"
      ]
     },
     "metadata": {},
     "output_type": "display_data"
    },
    {
     "name": "stdout",
     "output_type": "stream",
     "text": [
      "T:\\DCProjects\\StoryMap\\BikeCounting\\BikeShare\\Data\\Output\\review\\trips_peace_health_rides_09_01_2020-09_30_2020.csv\n"
     ]
    },
    {
     "data": {
      "application/vnd.jupyter.widget-view+json": {
       "model_id": "6dc8d2c7cdef4a4c971ff7d1bbc25714",
       "version_major": 2,
       "version_minor": 0
      },
      "text/plain": [
       "  0%|          | 0/4 [00:00<?, ?it/s]"
      ]
     },
     "metadata": {},
     "output_type": "display_data"
    },
    {
     "data": {
      "application/vnd.jupyter.widget-view+json": {
       "model_id": "1fd4fec780b64ed9916d5828dacd7b31",
       "version_major": 2,
       "version_minor": 0
      },
      "text/plain": [
       "  0%|          | 0/3 [00:00<?, ?it/s]"
      ]
     },
     "metadata": {},
     "output_type": "display_data"
    },
    {
     "name": "stdout",
     "output_type": "stream",
     "text": [
      "T:\\DCProjects\\StoryMap\\BikeCounting\\BikeShare\\Data\\Output\\review\\trips_peace_health_rides_09_01_2021-09_30_2021.csv\n"
     ]
    },
    {
     "data": {
      "application/vnd.jupyter.widget-view+json": {
       "model_id": "c5f5145b85fa49ca8568260f86039673",
       "version_major": 2,
       "version_minor": 0
      },
      "text/plain": [
       "  0%|          | 0/4 [00:00<?, ?it/s]"
      ]
     },
     "metadata": {},
     "output_type": "display_data"
    },
    {
     "data": {
      "application/vnd.jupyter.widget-view+json": {
       "model_id": "1923a78c36bc4174bf5532f6b2e977a3",
       "version_major": 2,
       "version_minor": 0
      },
      "text/plain": [
       "  0%|          | 0/4 [00:00<?, ?it/s]"
      ]
     },
     "metadata": {},
     "output_type": "display_data"
    },
    {
     "name": "stdout",
     "output_type": "stream",
     "text": [
      "T:\\DCProjects\\StoryMap\\BikeCounting\\BikeShare\\Data\\Output\\review\\trips_peace_health_rides_10_01_2018-10_31_2018.csv\n"
     ]
    },
    {
     "data": {
      "application/vnd.jupyter.widget-view+json": {
       "model_id": "d8a3029464bd45b3aeab2f935eed886a",
       "version_major": 2,
       "version_minor": 0
      },
      "text/plain": [
       "  0%|          | 0/12 [00:00<?, ?it/s]"
      ]
     },
     "metadata": {},
     "output_type": "display_data"
    },
    {
     "data": {
      "application/vnd.jupyter.widget-view+json": {
       "model_id": "c82bf94612b04bbc89a31fb3e98061ad",
       "version_major": 2,
       "version_minor": 0
      },
      "text/plain": [
       "  0%|          | 0/4 [00:00<?, ?it/s]"
      ]
     },
     "metadata": {},
     "output_type": "display_data"
    },
    {
     "name": "stdout",
     "output_type": "stream",
     "text": [
      "T:\\DCProjects\\StoryMap\\BikeCounting\\BikeShare\\Data\\Output\\review\\trips_peace_health_rides_10_01_2019-10_31_2019.csv\n"
     ]
    },
    {
     "data": {
      "application/vnd.jupyter.widget-view+json": {
       "model_id": "3aa754b273854ea1bd6c8ae00e0c7275",
       "version_major": 2,
       "version_minor": 0
      },
      "text/plain": [
       "  0%|          | 0/6 [00:00<?, ?it/s]"
      ]
     },
     "metadata": {},
     "output_type": "display_data"
    },
    {
     "data": {
      "application/vnd.jupyter.widget-view+json": {
       "model_id": "98af2bc0c6814f65aa9fc1071b73587e",
       "version_major": 2,
       "version_minor": 0
      },
      "text/plain": [
       "  0%|          | 0/3 [00:00<?, ?it/s]"
      ]
     },
     "metadata": {},
     "output_type": "display_data"
    },
    {
     "name": "stdout",
     "output_type": "stream",
     "text": [
      "T:\\DCProjects\\StoryMap\\BikeCounting\\BikeShare\\Data\\Output\\review\\trips_peace_health_rides_10_01_2020-10_31_2020.csv\n"
     ]
    },
    {
     "data": {
      "application/vnd.jupyter.widget-view+json": {
       "model_id": "8cb20cd37a06485d9699b26098853280",
       "version_major": 2,
       "version_minor": 0
      },
      "text/plain": [
       "  0%|          | 0/2 [00:00<?, ?it/s]"
      ]
     },
     "metadata": {},
     "output_type": "display_data"
    },
    {
     "data": {
      "application/vnd.jupyter.widget-view+json": {
       "model_id": "d40d210c79fc4cff8e64e48afdeab399",
       "version_major": 2,
       "version_minor": 0
      },
      "text/plain": [
       "  0%|          | 0/1 [00:00<?, ?it/s]"
      ]
     },
     "metadata": {},
     "output_type": "display_data"
    },
    {
     "name": "stdout",
     "output_type": "stream",
     "text": [
      "T:\\DCProjects\\StoryMap\\BikeCounting\\BikeShare\\Data\\Output\\review\\trips_peace_health_rides_10_01_2021-10_31_2021.csv\n"
     ]
    },
    {
     "data": {
      "application/vnd.jupyter.widget-view+json": {
       "model_id": "09f796c73b8244ec829b5c2fe1e615d2",
       "version_major": 2,
       "version_minor": 0
      },
      "text/plain": [
       "  0%|          | 0/4 [00:00<?, ?it/s]"
      ]
     },
     "metadata": {},
     "output_type": "display_data"
    },
    {
     "data": {
      "application/vnd.jupyter.widget-view+json": {
       "model_id": "cf3d860b45a94379b945f114dd01ba25",
       "version_major": 2,
       "version_minor": 0
      },
      "text/plain": [
       "  0%|          | 0/4 [00:00<?, ?it/s]"
      ]
     },
     "metadata": {},
     "output_type": "display_data"
    },
    {
     "name": "stdout",
     "output_type": "stream",
     "text": [
      "T:\\DCProjects\\StoryMap\\BikeCounting\\BikeShare\\Data\\Output\\review\\trips_peace_health_rides_11_01_2018-11_30_2018.csv\n"
     ]
    },
    {
     "data": {
      "application/vnd.jupyter.widget-view+json": {
       "model_id": "c248322572734c7d8a4054ca1e126cbd",
       "version_major": 2,
       "version_minor": 0
      },
      "text/plain": [
       "  0%|          | 0/6 [00:00<?, ?it/s]"
      ]
     },
     "metadata": {},
     "output_type": "display_data"
    },
    {
     "data": {
      "application/vnd.jupyter.widget-view+json": {
       "model_id": "163b90e4add040a4aa66c94aabcefef3",
       "version_major": 2,
       "version_minor": 0
      },
      "text/plain": [
       "  0%|          | 0/4 [00:00<?, ?it/s]"
      ]
     },
     "metadata": {},
     "output_type": "display_data"
    },
    {
     "name": "stdout",
     "output_type": "stream",
     "text": [
      "T:\\DCProjects\\StoryMap\\BikeCounting\\BikeShare\\Data\\Output\\review\\trips_peace_health_rides_11_01_2019-11_30_2019.csv\n"
     ]
    },
    {
     "data": {
      "application/vnd.jupyter.widget-view+json": {
       "model_id": "7c50c0b83af3458da35196211729a251",
       "version_major": 2,
       "version_minor": 0
      },
      "text/plain": [
       "  0%|          | 0/7 [00:00<?, ?it/s]"
      ]
     },
     "metadata": {},
     "output_type": "display_data"
    },
    {
     "data": {
      "application/vnd.jupyter.widget-view+json": {
       "model_id": "32aa7a9b9155487ba32f18390dcac8c9",
       "version_major": 2,
       "version_minor": 0
      },
      "text/plain": [
       "  0%|          | 0/5 [00:00<?, ?it/s]"
      ]
     },
     "metadata": {},
     "output_type": "display_data"
    },
    {
     "name": "stdout",
     "output_type": "stream",
     "text": [
      "T:\\DCProjects\\StoryMap\\BikeCounting\\BikeShare\\Data\\Output\\review\\trips_peace_health_rides_11_01_2020-11_30_2020.csv\n"
     ]
    },
    {
     "data": {
      "application/vnd.jupyter.widget-view+json": {
       "model_id": "10bca377e310481d82097c29186d61a6",
       "version_major": 2,
       "version_minor": 0
      },
      "text/plain": [
       "  0%|          | 0/1 [00:00<?, ?it/s]"
      ]
     },
     "metadata": {},
     "output_type": "display_data"
    },
    {
     "name": "stdout",
     "output_type": "stream",
     "text": [
      "T:\\DCProjects\\StoryMap\\BikeCounting\\BikeShare\\Data\\Output\\review\\trips_peace_health_rides_11_01_2021-11_30_2021.csv\n"
     ]
    },
    {
     "data": {
      "application/vnd.jupyter.widget-view+json": {
       "model_id": "9345e99c4a21444f9a73fce02e64c639",
       "version_major": 2,
       "version_minor": 0
      },
      "text/plain": [
       "  0%|          | 0/5 [00:00<?, ?it/s]"
      ]
     },
     "metadata": {},
     "output_type": "display_data"
    },
    {
     "data": {
      "application/vnd.jupyter.widget-view+json": {
       "model_id": "e6c286bc9b324e88a8b2445258a6b8b9",
       "version_major": 2,
       "version_minor": 0
      },
      "text/plain": [
       "  0%|          | 0/4 [00:00<?, ?it/s]"
      ]
     },
     "metadata": {},
     "output_type": "display_data"
    },
    {
     "name": "stdout",
     "output_type": "stream",
     "text": [
      "T:\\DCProjects\\StoryMap\\BikeCounting\\BikeShare\\Data\\Output\\review\\trips_peace_health_rides_12_01_2018-12_31_2018.csv\n"
     ]
    },
    {
     "data": {
      "application/vnd.jupyter.widget-view+json": {
       "model_id": "df21215d97c34ea6b914340064b06ce3",
       "version_major": 2,
       "version_minor": 0
      },
      "text/plain": [
       "  0%|          | 0/6 [00:00<?, ?it/s]"
      ]
     },
     "metadata": {},
     "output_type": "display_data"
    },
    {
     "data": {
      "application/vnd.jupyter.widget-view+json": {
       "model_id": "92a5b474acb24babbfdc6ff347acd848",
       "version_major": 2,
       "version_minor": 0
      },
      "text/plain": [
       "  0%|          | 0/1 [00:00<?, ?it/s]"
      ]
     },
     "metadata": {},
     "output_type": "display_data"
    },
    {
     "name": "stdout",
     "output_type": "stream",
     "text": [
      "T:\\DCProjects\\StoryMap\\BikeCounting\\BikeShare\\Data\\Output\\review\\trips_peace_health_rides_12_01_2019-12_31_2019.csv\n"
     ]
    },
    {
     "data": {
      "application/vnd.jupyter.widget-view+json": {
       "model_id": "999c34dc022441428118d2b6facab7e9",
       "version_major": 2,
       "version_minor": 0
      },
      "text/plain": [
       "  0%|          | 0/1 [00:00<?, ?it/s]"
      ]
     },
     "metadata": {},
     "output_type": "display_data"
    },
    {
     "name": "stdout",
     "output_type": "stream",
     "text": [
      "T:\\DCProjects\\StoryMap\\BikeCounting\\BikeShare\\Data\\Output\\review\\trips_peace_health_rides_12_01_2020-12_31_2020.csv\n",
      "T:\\DCProjects\\StoryMap\\BikeCounting\\BikeShare\\Data\\Output\\review\\trips_peace_health_rides_12_01_2021-12_31_2021.csv\n"
     ]
    },
    {
     "data": {
      "application/vnd.jupyter.widget-view+json": {
       "model_id": "3827660f68414d809c4de91b09fa05e7",
       "version_major": 2,
       "version_minor": 0
      },
      "text/plain": [
       "  0%|          | 0/2 [00:00<?, ?it/s]"
      ]
     },
     "metadata": {},
     "output_type": "display_data"
    }
   ],
   "source": [
    "for file in files:\n",
    "    print(file)\n",
    "    re_df = pd.read_csv(file)\n",
    "    #re_df = review_hubs(re_df)\n",
    "    re_df = review_hubs(re_df, strp='Eugene-Springfield')\n",
    "    re_df.to_csv(file, index=False)"
   ]
  },
  {
   "cell_type": "code",
   "execution_count": 109,
   "id": "f1ae15d3",
   "metadata": {},
   "outputs": [
    {
     "data": {
      "text/plain": [
       "'T:\\\\DCProjects\\\\StoryMap\\\\BikeCounting\\\\BikeShare\\\\Data\\\\Output\\\\review\\\\trips_peace_health_rides_12_01_2021-12_31_2021.csv'"
      ]
     },
     "execution_count": 109,
     "metadata": {},
     "output_type": "execute_result"
    }
   ],
   "source": [
    "file = r\"T:\\DCProjects\\StoryMap\\BikeCounting\\BikeShare\\Data\\Output\\review\\trips_peace_health_rides_12_01_2021-12_31_2021.csv\"\n",
    "file"
   ]
  },
  {
   "cell_type": "code",
   "execution_count": 110,
   "id": "9233adaf",
   "metadata": {},
   "outputs": [],
   "source": [
    "re_df = pd.read_csv(file)"
   ]
  },
  {
   "cell_type": "code",
   "execution_count": 62,
   "id": "b664bbb9",
   "metadata": {},
   "outputs": [
    {
     "data": {
      "text/plain": [
       "Index(['User.ID', 'Route.ID', 'Start.Hub', 'Start.Latitude', 'Start.Longitude',\n",
       "       'Start.Date', 'Start.Time', 'End.Hub', 'End.Latitude', 'End.Longitude',\n",
       "       'End.Date', 'End.Time', 'Bike.ID', 'Bike.Name', 'Distance..Miles.',\n",
       "       'Duration'],\n",
       "      dtype='object')"
      ]
     },
     "execution_count": 62,
     "metadata": {},
     "output_type": "execute_result"
    }
   ],
   "source": [
    "re_df.columns"
   ]
  },
  {
   "cell_type": "code",
   "execution_count": 55,
   "id": "ffab3e8d",
   "metadata": {
    "scrolled": true
   },
   "outputs": [
    {
     "data": {
      "text/html": [
       "<div>\n",
       "<style scoped>\n",
       "    .dataframe tbody tr th:only-of-type {\n",
       "        vertical-align: middle;\n",
       "    }\n",
       "\n",
       "    .dataframe tbody tr th {\n",
       "        vertical-align: top;\n",
       "    }\n",
       "\n",
       "    .dataframe thead th {\n",
       "        text-align: right;\n",
       "    }\n",
       "</style>\n",
       "<table border=\"1\" class=\"dataframe\">\n",
       "  <thead>\n",
       "    <tr style=\"text-align: right;\">\n",
       "      <th></th>\n",
       "      <th>User ID</th>\n",
       "      <th>Route ID</th>\n",
       "      <th>Bike Region ID</th>\n",
       "      <th>Payment Plan</th>\n",
       "      <th>Start Hub</th>\n",
       "      <th>Start Area</th>\n",
       "      <th>Start Special Area</th>\n",
       "      <th>Start Latitude</th>\n",
       "      <th>Start Longitude</th>\n",
       "      <th>Start Date</th>\n",
       "      <th>...</th>\n",
       "      <th>Bike ID</th>\n",
       "      <th>Bike Name</th>\n",
       "      <th>Distance [Miles]</th>\n",
       "      <th>Duration</th>\n",
       "      <th>Rental Access Path</th>\n",
       "      <th>Multiple Rental</th>\n",
       "      <th>Ride cost</th>\n",
       "      <th>Fees</th>\n",
       "      <th>Bonuses</th>\n",
       "      <th>Total cost</th>\n",
       "    </tr>\n",
       "  </thead>\n",
       "  <tbody>\n",
       "    <tr>\n",
       "      <th>0</th>\n",
       "      <td>766963</td>\n",
       "      <td>12817400</td>\n",
       "      <td>NaN</td>\n",
       "      <td>UO Monthly Plan</td>\n",
       "      <td>Uniquely Chengdu</td>\n",
       "      <td>Phase 1 System Area</td>\n",
       "      <td>NaN</td>\n",
       "      <td>44.045435</td>\n",
       "      <td>-123.080060</td>\n",
       "      <td>2019-12-01</td>\n",
       "      <td>...</td>\n",
       "      <td>19591</td>\n",
       "      <td>0057</td>\n",
       "      <td>0.76</td>\n",
       "      <td>00:07:59</td>\n",
       "      <td>keypad</td>\n",
       "      <td>False</td>\n",
       "      <td>0.0</td>\n",
       "      <td>0.0</td>\n",
       "      <td>0.0</td>\n",
       "      <td>0.0</td>\n",
       "    </tr>\n",
       "    <tr>\n",
       "      <th>1</th>\n",
       "      <td>1702290</td>\n",
       "      <td>12817409</td>\n",
       "      <td>NaN</td>\n",
       "      <td>UO Monthly Plan</td>\n",
       "      <td>Thompson-Roach Building</td>\n",
       "      <td>Phase 1 System Area</td>\n",
       "      <td>NaN</td>\n",
       "      <td>44.045438</td>\n",
       "      <td>-123.084452</td>\n",
       "      <td>2019-12-01</td>\n",
       "      <td>...</td>\n",
       "      <td>19703</td>\n",
       "      <td>0173</td>\n",
       "      <td>0.35</td>\n",
       "      <td>00:13:51</td>\n",
       "      <td>keypad</td>\n",
       "      <td>True</td>\n",
       "      <td>0.0</td>\n",
       "      <td>0.0</td>\n",
       "      <td>0.0</td>\n",
       "      <td>0.0</td>\n",
       "    </tr>\n",
       "    <tr>\n",
       "      <th>2</th>\n",
       "      <td>1665396</td>\n",
       "      <td>12817412</td>\n",
       "      <td>NaN</td>\n",
       "      <td>Monthly Plan</td>\n",
       "      <td>Monroe St &amp; Blair Blvd</td>\n",
       "      <td>Phase 1 System Area</td>\n",
       "      <td>NaN</td>\n",
       "      <td>44.051473</td>\n",
       "      <td>-123.105138</td>\n",
       "      <td>2019-12-01</td>\n",
       "      <td>...</td>\n",
       "      <td>19603</td>\n",
       "      <td>0072</td>\n",
       "      <td>1.19</td>\n",
       "      <td>00:07:58</td>\n",
       "      <td>keypad</td>\n",
       "      <td>False</td>\n",
       "      <td>0.0</td>\n",
       "      <td>0.0</td>\n",
       "      <td>0.0</td>\n",
       "      <td>0.0</td>\n",
       "    </tr>\n",
       "    <tr>\n",
       "      <th>3</th>\n",
       "      <td>1734280</td>\n",
       "      <td>12817414</td>\n",
       "      <td>NaN</td>\n",
       "      <td>UO Monthly Plan</td>\n",
       "      <td>Thompson-Roach Building</td>\n",
       "      <td>Phase 1 System Area</td>\n",
       "      <td>NaN</td>\n",
       "      <td>44.045413</td>\n",
       "      <td>-123.084448</td>\n",
       "      <td>2019-12-01</td>\n",
       "      <td>...</td>\n",
       "      <td>19788</td>\n",
       "      <td>0258</td>\n",
       "      <td>0.43</td>\n",
       "      <td>00:03:13</td>\n",
       "      <td>keypad</td>\n",
       "      <td>False</td>\n",
       "      <td>0.0</td>\n",
       "      <td>0.0</td>\n",
       "      <td>0.0</td>\n",
       "      <td>0.0</td>\n",
       "    </tr>\n",
       "    <tr>\n",
       "      <th>4</th>\n",
       "      <td>1702290</td>\n",
       "      <td>12817415</td>\n",
       "      <td>NaN</td>\n",
       "      <td>UO Monthly Plan</td>\n",
       "      <td>Thompson-Roach Building</td>\n",
       "      <td>Phase 1 System Area</td>\n",
       "      <td>NaN</td>\n",
       "      <td>44.045507</td>\n",
       "      <td>-123.084462</td>\n",
       "      <td>2019-12-01</td>\n",
       "      <td>...</td>\n",
       "      <td>19661</td>\n",
       "      <td>0131</td>\n",
       "      <td>0.05</td>\n",
       "      <td>00:06:08</td>\n",
       "      <td>keypad</td>\n",
       "      <td>True</td>\n",
       "      <td>0.0</td>\n",
       "      <td>0.0</td>\n",
       "      <td>0.0</td>\n",
       "      <td>0.0</td>\n",
       "    </tr>\n",
       "  </tbody>\n",
       "</table>\n",
       "<p>5 rows × 30 columns</p>\n",
       "</div>"
      ],
      "text/plain": [
       "   User ID  Route ID  Bike Region ID     Payment Plan  \\\n",
       "0   766963  12817400             NaN  UO Monthly Plan   \n",
       "1  1702290  12817409             NaN  UO Monthly Plan   \n",
       "2  1665396  12817412             NaN     Monthly Plan   \n",
       "3  1734280  12817414             NaN  UO Monthly Plan   \n",
       "4  1702290  12817415             NaN  UO Monthly Plan   \n",
       "\n",
       "                 Start Hub           Start Area  Start Special Area  \\\n",
       "0         Uniquely Chengdu  Phase 1 System Area                 NaN   \n",
       "1  Thompson-Roach Building  Phase 1 System Area                 NaN   \n",
       "2  Monroe St & Blair Blvd   Phase 1 System Area                 NaN   \n",
       "3  Thompson-Roach Building  Phase 1 System Area                 NaN   \n",
       "4  Thompson-Roach Building  Phase 1 System Area                 NaN   \n",
       "\n",
       "   Start Latitude  Start Longitude  Start Date  ... Bike ID Bike Name  \\\n",
       "0       44.045435      -123.080060  2019-12-01  ...   19591      0057   \n",
       "1       44.045438      -123.084452  2019-12-01  ...   19703      0173   \n",
       "2       44.051473      -123.105138  2019-12-01  ...   19603      0072   \n",
       "3       44.045413      -123.084448  2019-12-01  ...   19788      0258   \n",
       "4       44.045507      -123.084462  2019-12-01  ...   19661      0131   \n",
       "\n",
       "  Distance [Miles]  Duration  Rental Access Path  Multiple Rental Ride cost  \\\n",
       "0             0.76  00:07:59              keypad            False       0.0   \n",
       "1             0.35  00:13:51              keypad             True       0.0   \n",
       "2             1.19  00:07:58              keypad            False       0.0   \n",
       "3             0.43  00:03:13              keypad            False       0.0   \n",
       "4             0.05  00:06:08              keypad             True       0.0   \n",
       "\n",
       "  Fees Bonuses Total cost  \n",
       "0  0.0     0.0        0.0  \n",
       "1  0.0     0.0        0.0  \n",
       "2  0.0     0.0        0.0  \n",
       "3  0.0     0.0        0.0  \n",
       "4  0.0     0.0        0.0  \n",
       "\n",
       "[5 rows x 30 columns]"
      ]
     },
     "execution_count": 55,
     "metadata": {},
     "output_type": "execute_result"
    }
   ],
   "source": [
    "re_df.head()"
   ]
  },
  {
   "cell_type": "code",
   "execution_count": 113,
   "id": "c1882571",
   "metadata": {},
   "outputs": [
    {
     "data": {
      "text/plain": [
       "'T:\\\\DCProjects\\\\StoryMap\\\\BikeCounting\\\\BikeShare\\\\Data\\\\Output\\\\review\\\\trips_peace_health_rides_12_01_2021-12_31_2021.csv'"
      ]
     },
     "execution_count": 113,
     "metadata": {},
     "output_type": "execute_result"
    }
   ],
   "source": [
    "file"
   ]
  },
  {
   "cell_type": "code",
   "execution_count": 112,
   "id": "bcf62e2c",
   "metadata": {},
   "outputs": [],
   "source": [
    "re_df = review_hubs(re_df)"
   ]
  },
  {
   "cell_type": "code",
   "execution_count": 114,
   "id": "6ec048f9",
   "metadata": {},
   "outputs": [],
   "source": [
    "re_df.to_csv(os.path.join(path, file), index=False)"
   ]
  },
  {
   "cell_type": "code",
   "execution_count": 64,
   "id": "e83ce8a7",
   "metadata": {},
   "outputs": [],
   "source": [
    "hub = \"Start\""
   ]
  },
  {
   "cell_type": "code",
   "execution_count": 75,
   "id": "678c03e4",
   "metadata": {},
   "outputs": [],
   "source": [
    "strp = \"Eugene-Springfield\""
   ]
  },
  {
   "cell_type": "code",
   "execution_count": 76,
   "id": "3f63cc6a",
   "metadata": {},
   "outputs": [],
   "source": [
    "re = re_df[re_df[hub+' Hub'].str.contains(strp, na=False)]"
   ]
  },
  {
   "cell_type": "code",
   "execution_count": 78,
   "id": "272ca8d9",
   "metadata": {},
   "outputs": [
    {
     "data": {
      "text/html": [
       "<div>\n",
       "<style scoped>\n",
       "    .dataframe tbody tr th:only-of-type {\n",
       "        vertical-align: middle;\n",
       "    }\n",
       "\n",
       "    .dataframe tbody tr th {\n",
       "        vertical-align: top;\n",
       "    }\n",
       "\n",
       "    .dataframe thead th {\n",
       "        text-align: right;\n",
       "    }\n",
       "</style>\n",
       "<table border=\"1\" class=\"dataframe\">\n",
       "  <thead>\n",
       "    <tr style=\"text-align: right;\">\n",
       "      <th></th>\n",
       "      <th>User ID</th>\n",
       "      <th>Route ID</th>\n",
       "      <th>Bike Region ID</th>\n",
       "      <th>Payment Plan</th>\n",
       "      <th>Start Hub</th>\n",
       "      <th>Start Area</th>\n",
       "      <th>Start Special Area</th>\n",
       "      <th>Start Latitude</th>\n",
       "      <th>Start Longitude</th>\n",
       "      <th>Start Date</th>\n",
       "      <th>...</th>\n",
       "      <th>Bike ID</th>\n",
       "      <th>Bike Name</th>\n",
       "      <th>Distance [Miles]</th>\n",
       "      <th>Duration</th>\n",
       "      <th>Rental Access Path</th>\n",
       "      <th>Multiple Rental</th>\n",
       "      <th>Ride cost</th>\n",
       "      <th>Fees</th>\n",
       "      <th>Bonuses</th>\n",
       "      <th>Total cost</th>\n",
       "    </tr>\n",
       "  </thead>\n",
       "  <tbody>\n",
       "    <tr>\n",
       "      <th>3345</th>\n",
       "      <td>2207423</td>\n",
       "      <td>14202390</td>\n",
       "      <td>NaN</td>\n",
       "      <td>Monthly Plan</td>\n",
       "      <td>Eugene-Springfield Highway #227</td>\n",
       "      <td>Phase 1 System Area</td>\n",
       "      <td>NaN</td>\n",
       "      <td>44.051752</td>\n",
       "      <td>-123.101705</td>\n",
       "      <td>2021-12-11</td>\n",
       "      <td>...</td>\n",
       "      <td>19581</td>\n",
       "      <td>0050</td>\n",
       "      <td>1.42</td>\n",
       "      <td>00:10:14</td>\n",
       "      <td>mobile</td>\n",
       "      <td>False</td>\n",
       "      <td>0.0</td>\n",
       "      <td>0.0</td>\n",
       "      <td>0.0</td>\n",
       "      <td>0.0</td>\n",
       "    </tr>\n",
       "    <tr>\n",
       "      <th>3814</th>\n",
       "      <td>2207423</td>\n",
       "      <td>14205445</td>\n",
       "      <td>NaN</td>\n",
       "      <td>Monthly Plan</td>\n",
       "      <td>Eugene-Springfield Highway #227</td>\n",
       "      <td>Phase 1 System Area</td>\n",
       "      <td>NaN</td>\n",
       "      <td>44.051790</td>\n",
       "      <td>-123.101713</td>\n",
       "      <td>2021-12-17</td>\n",
       "      <td>...</td>\n",
       "      <td>19767</td>\n",
       "      <td>0237</td>\n",
       "      <td>1.41</td>\n",
       "      <td>00:11:39</td>\n",
       "      <td>mobile</td>\n",
       "      <td>False</td>\n",
       "      <td>0.0</td>\n",
       "      <td>0.0</td>\n",
       "      <td>0.0</td>\n",
       "      <td>0.0</td>\n",
       "    </tr>\n",
       "  </tbody>\n",
       "</table>\n",
       "<p>2 rows × 30 columns</p>\n",
       "</div>"
      ],
      "text/plain": [
       "      User ID  Route ID  Bike Region ID  Payment Plan  \\\n",
       "3345  2207423  14202390             NaN  Monthly Plan   \n",
       "3814  2207423  14205445             NaN  Monthly Plan   \n",
       "\n",
       "                            Start Hub           Start Area  \\\n",
       "3345  Eugene-Springfield Highway #227  Phase 1 System Area   \n",
       "3814  Eugene-Springfield Highway #227  Phase 1 System Area   \n",
       "\n",
       "      Start Special Area  Start Latitude  Start Longitude  Start Date  ...  \\\n",
       "3345                 NaN       44.051752      -123.101705  2021-12-11  ...   \n",
       "3814                 NaN       44.051790      -123.101713  2021-12-17  ...   \n",
       "\n",
       "     Bike ID Bike Name Distance [Miles]  Duration  Rental Access Path  \\\n",
       "3345   19581      0050             1.42  00:10:14              mobile   \n",
       "3814   19767      0237             1.41  00:11:39              mobile   \n",
       "\n",
       "      Multiple Rental Ride cost Fees Bonuses Total cost  \n",
       "3345            False       0.0  0.0     0.0        0.0  \n",
       "3814            False       0.0  0.0     0.0        0.0  \n",
       "\n",
       "[2 rows x 30 columns]"
      ]
     },
     "execution_count": 78,
     "metadata": {},
     "output_type": "execute_result"
    }
   ],
   "source": [
    "re.head()"
   ]
  },
  {
   "cell_type": "code",
   "execution_count": 79,
   "id": "8903859d",
   "metadata": {},
   "outputs": [
    {
     "data": {
      "application/vnd.jupyter.widget-view+json": {
       "model_id": "d5ab567783ed45b69299476a64cc6337",
       "version_major": 2,
       "version_minor": 0
      },
      "text/plain": [
       "  0%|          | 0/2 [00:00<?, ?it/s]"
      ]
     },
     "metadata": {},
     "output_type": "display_data"
    }
   ],
   "source": [
    "testdf = review_hubs(re_df, strp = strp)"
   ]
  },
  {
   "cell_type": "code",
   "execution_count": 80,
   "id": "1e00f982",
   "metadata": {},
   "outputs": [
    {
     "data": {
      "text/html": [
       "<div>\n",
       "<style scoped>\n",
       "    .dataframe tbody tr th:only-of-type {\n",
       "        vertical-align: middle;\n",
       "    }\n",
       "\n",
       "    .dataframe tbody tr th {\n",
       "        vertical-align: top;\n",
       "    }\n",
       "\n",
       "    .dataframe thead th {\n",
       "        text-align: right;\n",
       "    }\n",
       "</style>\n",
       "<table border=\"1\" class=\"dataframe\">\n",
       "  <thead>\n",
       "    <tr style=\"text-align: right;\">\n",
       "      <th></th>\n",
       "      <th>User ID</th>\n",
       "      <th>Route ID</th>\n",
       "      <th>Bike Region ID</th>\n",
       "      <th>Payment Plan</th>\n",
       "      <th>Start Hub</th>\n",
       "      <th>Start Area</th>\n",
       "      <th>Start Special Area</th>\n",
       "      <th>Start Latitude</th>\n",
       "      <th>Start Longitude</th>\n",
       "      <th>Start Date</th>\n",
       "      <th>...</th>\n",
       "      <th>Bike ID</th>\n",
       "      <th>Bike Name</th>\n",
       "      <th>Distance [Miles]</th>\n",
       "      <th>Duration</th>\n",
       "      <th>Rental Access Path</th>\n",
       "      <th>Multiple Rental</th>\n",
       "      <th>Ride cost</th>\n",
       "      <th>Fees</th>\n",
       "      <th>Bonuses</th>\n",
       "      <th>Total cost</th>\n",
       "    </tr>\n",
       "  </thead>\n",
       "  <tbody>\n",
       "    <tr>\n",
       "      <th>3345</th>\n",
       "      <td>2207423</td>\n",
       "      <td>14202390</td>\n",
       "      <td>NaN</td>\n",
       "      <td>Monthly Plan</td>\n",
       "      <td>Eugene-Springfield Highway #227</td>\n",
       "      <td>Phase 1 System Area</td>\n",
       "      <td>NaN</td>\n",
       "      <td>44.051752</td>\n",
       "      <td>-123.101705</td>\n",
       "      <td>2021-12-11</td>\n",
       "      <td>...</td>\n",
       "      <td>19581</td>\n",
       "      <td>0050</td>\n",
       "      <td>1.42</td>\n",
       "      <td>00:10:14</td>\n",
       "      <td>mobile</td>\n",
       "      <td>False</td>\n",
       "      <td>0.0</td>\n",
       "      <td>0.0</td>\n",
       "      <td>0.0</td>\n",
       "      <td>0.0</td>\n",
       "    </tr>\n",
       "    <tr>\n",
       "      <th>3814</th>\n",
       "      <td>2207423</td>\n",
       "      <td>14205445</td>\n",
       "      <td>NaN</td>\n",
       "      <td>Monthly Plan</td>\n",
       "      <td>Eugene-Springfield Highway #227</td>\n",
       "      <td>Phase 1 System Area</td>\n",
       "      <td>NaN</td>\n",
       "      <td>44.051790</td>\n",
       "      <td>-123.101713</td>\n",
       "      <td>2021-12-17</td>\n",
       "      <td>...</td>\n",
       "      <td>19767</td>\n",
       "      <td>0237</td>\n",
       "      <td>1.41</td>\n",
       "      <td>00:11:39</td>\n",
       "      <td>mobile</td>\n",
       "      <td>False</td>\n",
       "      <td>0.0</td>\n",
       "      <td>0.0</td>\n",
       "      <td>0.0</td>\n",
       "      <td>0.0</td>\n",
       "    </tr>\n",
       "  </tbody>\n",
       "</table>\n",
       "<p>2 rows × 30 columns</p>\n",
       "</div>"
      ],
      "text/plain": [
       "      User ID  Route ID  Bike Region ID  Payment Plan  \\\n",
       "3345  2207423  14202390             NaN  Monthly Plan   \n",
       "3814  2207423  14205445             NaN  Monthly Plan   \n",
       "\n",
       "                            Start Hub           Start Area  \\\n",
       "3345  Eugene-Springfield Highway #227  Phase 1 System Area   \n",
       "3814  Eugene-Springfield Highway #227  Phase 1 System Area   \n",
       "\n",
       "      Start Special Area  Start Latitude  Start Longitude  Start Date  ...  \\\n",
       "3345                 NaN       44.051752      -123.101705  2021-12-11  ...   \n",
       "3814                 NaN       44.051790      -123.101713  2021-12-17  ...   \n",
       "\n",
       "     Bike ID Bike Name Distance [Miles]  Duration  Rental Access Path  \\\n",
       "3345   19581      0050             1.42  00:10:14              mobile   \n",
       "3814   19767      0237             1.41  00:11:39              mobile   \n",
       "\n",
       "      Multiple Rental Ride cost Fees Bonuses Total cost  \n",
       "3345            False       0.0  0.0     0.0        0.0  \n",
       "3814            False       0.0  0.0     0.0        0.0  \n",
       "\n",
       "[2 rows x 30 columns]"
      ]
     },
     "execution_count": 80,
     "metadata": {},
     "output_type": "execute_result"
    }
   ],
   "source": [
    "testdf[testdf[hub+' Hub'].str.contains(strp, na=False)] "
   ]
  },
  {
   "cell_type": "code",
   "execution_count": 71,
   "id": "58cb3eaa",
   "metadata": {},
   "outputs": [
    {
     "data": {
      "text/plain": [
       "User.ID                              1170002\n",
       "Route.ID                            10670952\n",
       "Start.Hub           South Eugene High School\n",
       "Start.Latitude                        44.036\n",
       "Start.Longitude                  -123.085573\n",
       "Start.Date                        2019-01-23\n",
       "Start.Time                             14:20\n",
       "End.Hub                    15th & University\n",
       "End.Latitude                       44.043122\n",
       "End.Longitude                    -123.074752\n",
       "End.Date                          2019-01-23\n",
       "End.Time                               14:28\n",
       "Bike.ID                                27634\n",
       "Bike.Name                               0313\n",
       "Distance..Miles.                        0.99\n",
       "Duration                            00:07:25\n",
       "Name: 8631, dtype: object"
      ]
     },
     "execution_count": 71,
     "metadata": {},
     "output_type": "execute_result"
    }
   ],
   "source": [
    "testdf.loc[8631, :]"
   ]
  },
  {
   "cell_type": "code",
   "execution_count": 67,
   "id": "3cf3dfcb",
   "metadata": {},
   "outputs": [
    {
     "data": {
      "text/plain": [
       "<bound method NDFrame.head of       User.ID  Route.ID     Start.Hub  Start.Latitude  Start.Longitude  \\\n",
       "7625  1170002  10583547  Unit 149-156       44.035897      -123.085982   \n",
       "8631  1170002  10670952  Unit 165-172       44.036000      -123.085573   \n",
       "8862  1416265  10684312  Unit 225-232       44.035232      -123.084248   \n",
       "9089  1170002  10702778  Unit 149-156       44.035895      -123.085792   \n",
       "\n",
       "      Start.Date Start.Time             End.Hub  End.Latitude  End.Longitude  \\\n",
       "7625  2019-01-07      13:21   15th & University     44.043068    -123.074728   \n",
       "8631  2019-01-23      14:20   15th & University     44.043122    -123.074752   \n",
       "8862  2019-01-25      16:53  Erb Memorial Union     44.045380    -123.073143   \n",
       "9089  2019-01-29      09:36      13th & Kincaid     44.045898    -123.078493   \n",
       "\n",
       "        End.Date End.Time  Bike.ID Bike.Name  Distance..Miles.  Duration  \n",
       "7625  2019-01-07    13:32    19849     0165               1.34  00:10:47  \n",
       "8631  2019-01-23    14:28    27634      0313              0.99  00:07:25  \n",
       "8862  2019-01-25    17:06    19750      0220              1.26  00:13:17  \n",
       "9089  2019-01-29    09:44    19753      0223              1.01  00:07:36  >"
      ]
     },
     "execution_count": 67,
     "metadata": {},
     "output_type": "execute_result"
    }
   ],
   "source": [
    "re_df[re_df[hub+'.Hub'].str.contains(strp, na=False)].head"
   ]
  },
  {
   "cell_type": "code",
   "execution_count": 47,
   "id": "506f2f5b",
   "metadata": {},
   "outputs": [],
   "source": [
    "re = re_df[re_df[hub+' Hub'].str.contains(strp, na=False)][[hub+' Latitude', hub+' Longitude']]"
   ]
  },
  {
   "cell_type": "code",
   "execution_count": 84,
   "id": "10769d9a",
   "metadata": {},
   "outputs": [
    {
     "data": {
      "text/plain": [
       "'Eugene-Springfield, Willamette Street, Eugene, Lane County, Oregon, 97401, United States'"
      ]
     },
     "execution_count": 84,
     "metadata": {},
     "output_type": "execute_result"
    }
   ],
   "source": [
    "geolocator = Nominatim(user_agent=\"measurements\")\n",
    "location = geolocator.geocode(\"Eugene-Springfield\")\n",
    "address, (latitude, longitude) = location\n",
    "address"
   ]
  },
  {
   "cell_type": "code",
   "execution_count": 30,
   "id": "174f9636",
   "metadata": {},
   "outputs": [
    {
     "data": {
      "application/vnd.jupyter.widget-view+json": {
       "model_id": "2a9663826ee14838a2722b940541c20a",
       "version_major": 2,
       "version_minor": 0
      },
      "text/plain": [
       "  0%|          | 0/1 [00:00<?, ?it/s]"
      ]
     },
     "metadata": {},
     "output_type": "display_data"
    }
   ],
   "source": [
    "re.columns = ['Lat', 'Lon']\n",
    "re[\"geom\"] = re[\"Lat\"].map(str) + ',' + re['Lon'].map(str)\n",
    "locator = Nominatim(user_agent=\"measurements\", timeout=10)\n",
    "rgeocode = RateLimiter(locator.reverse, min_delay_seconds=0.00001)\n",
    "tqdm_notebook.pandas()\n",
    "re['address'] = re['geom'].progress_apply(rgeocode)\n",
    "re['name'] =re.address.apply(getLoc)"
   ]
  },
  {
   "cell_type": "code",
   "execution_count": 31,
   "id": "a17e60c2",
   "metadata": {},
   "outputs": [
    {
     "data": {
      "text/plain": [
       "array(['76'], dtype=object)"
      ]
     },
     "execution_count": 31,
     "metadata": {},
     "output_type": "execute_result"
    }
   ],
   "source": [
    "re.name.values"
   ]
  },
  {
   "cell_type": "code",
   "execution_count": 32,
   "id": "f91b1d24",
   "metadata": {},
   "outputs": [
    {
     "data": {
      "text/plain": [
       "array([Location(76, West 18th Avenue, Westmoreland Commercial, Eugene, Lane County, Oregon, 97405, United States, (44.0406689, -123.11734339775421, 0.0))],\n",
       "      dtype=object)"
      ]
     },
     "execution_count": 32,
     "metadata": {},
     "output_type": "execute_result"
    }
   ],
   "source": [
    "re.address.values"
   ]
  },
  {
   "cell_type": "code",
   "execution_count": 35,
   "id": "eb0a9554",
   "metadata": {},
   "outputs": [
    {
     "data": {
      "text/plain": [
       "{'place_id': 162223077,\n",
       " 'licence': 'Data © OpenStreetMap contributors, ODbL 1.0. https://osm.org/copyright',\n",
       " 'osm_type': 'way',\n",
       " 'osm_id': 244974435,\n",
       " 'lat': '44.0406689',\n",
       " 'lon': '-123.11734339775421',\n",
       " 'display_name': '76, West 18th Avenue, Westmoreland Commercial, Eugene, Lane County, Oregon, 97405, United States',\n",
       " 'address': {'amenity': '76',\n",
       "  'road': 'West 18th Avenue',\n",
       "  'commercial': 'Westmoreland Commercial',\n",
       "  'city': 'Eugene',\n",
       "  'county': 'Lane County',\n",
       "  'state': 'Oregon',\n",
       "  'ISO3166-2-lvl4': 'US-OR',\n",
       "  'postcode': '97405',\n",
       "  'country': 'United States',\n",
       "  'country_code': 'us'},\n",
       " 'boundingbox': ['44.0406071', '44.040741', '-123.1175184', '-123.1171684']}"
      ]
     },
     "execution_count": 35,
     "metadata": {},
     "output_type": "execute_result"
    }
   ],
   "source": [
    "re.address.values[0].raw"
   ]
  }
 ],
 "metadata": {
  "kernelspec": {
   "display_name": "Python 3",
   "language": "python",
   "name": "python3"
  },
  "language_info": {
   "codemirror_mode": {
    "name": "ipython",
    "version": 3
   },
   "file_extension": ".py",
   "mimetype": "text/x-python",
   "name": "python",
   "nbconvert_exporter": "python",
   "pygments_lexer": "ipython3",
   "version": "3.8.8"
  }
 },
 "nbformat": 4,
 "nbformat_minor": 5
}
