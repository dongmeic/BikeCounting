{
 "cells": [
  {
   "cell_type": "code",
   "execution_count": 1,
   "id": "dec06fee",
   "metadata": {},
   "outputs": [],
   "source": [
    "path <- \"T:/DCProjects/StoryMap/BikeCounting/BikeShare/Data/\""
   ]
  },
  {
   "cell_type": "code",
   "execution_count": 2,
   "id": "3d5b3a8e",
   "metadata": {},
   "outputs": [],
   "source": [
    "trips <- read.csv(paste0(path, \"trips.csv\"))"
   ]
  },
  {
   "cell_type": "code",
   "execution_count": 3,
   "id": "9584ec17",
   "metadata": {},
   "outputs": [
    {
     "data": {
      "text/html": [
       "<table class=\"dataframe\">\n",
       "<caption>A data.frame: 6 × 30</caption>\n",
       "<thead>\n",
       "\t<tr><th></th><th scope=col>User.ID</th><th scope=col>Route.ID</th><th scope=col>Bike.Region.ID</th><th scope=col>Payment.Plan</th><th scope=col>Start.Hub</th><th scope=col>Start.Area</th><th scope=col>Start.Special.Area</th><th scope=col>Start.Latitude</th><th scope=col>Start.Longitude</th><th scope=col>Start.Date</th><th scope=col>⋯</th><th scope=col>Bike.ID</th><th scope=col>Bike.Name</th><th scope=col>Distance..Miles.</th><th scope=col>Duration</th><th scope=col>Rental.Access.Path</th><th scope=col>Multiple.Rental</th><th scope=col>Ride.cost</th><th scope=col>Fees</th><th scope=col>Bonuses</th><th scope=col>Total.cost</th></tr>\n",
       "\t<tr><th></th><th scope=col>&lt;int&gt;</th><th scope=col>&lt;int&gt;</th><th scope=col>&lt;lgl&gt;</th><th scope=col>&lt;chr&gt;</th><th scope=col>&lt;chr&gt;</th><th scope=col>&lt;chr&gt;</th><th scope=col>&lt;chr&gt;</th><th scope=col>&lt;chr&gt;</th><th scope=col>&lt;chr&gt;</th><th scope=col>&lt;chr&gt;</th><th scope=col>⋯</th><th scope=col>&lt;int&gt;</th><th scope=col>&lt;chr&gt;</th><th scope=col>&lt;dbl&gt;</th><th scope=col>&lt;chr&gt;</th><th scope=col>&lt;chr&gt;</th><th scope=col>&lt;chr&gt;</th><th scope=col>&lt;dbl&gt;</th><th scope=col>&lt;dbl&gt;</th><th scope=col>&lt;dbl&gt;</th><th scope=col>&lt;dbl&gt;</th></tr>\n",
       "</thead>\n",
       "<tbody>\n",
       "\t<tr><th scope=row>1</th><td>1949911</td><td>14209422</td><td>NA</td><td>UO Single Ride</td><td><span style=white-space:pre-wrap>16th &amp; Willamette          </span></td><td>Phase 1 System Area</td><td></td><td>44.04216666666667</td><td><span style=white-space:pre-wrap>-123.092915        </span></td><td>2022-01-01</td><td>⋯</td><td>19692</td><td>0162 </td><td>1.00</td><td>00:07:31</td><td>keypad</td><td>false</td><td>0</td><td>0</td><td>0</td><td>0</td></tr>\n",
       "\t<tr><th scope=row>2</th><td>2045646</td><td>14209423</td><td>NA</td><td>Single Ride   </td><td>Matthew Knight Arena       </td><td>Phase 1 System Area</td><td></td><td>44.04535833333333</td><td>-123.06533166666667</td><td>2022-01-01</td><td>⋯</td><td>20260</td><td>0146 </td><td>1.04</td><td>00:10:13</td><td>keypad</td><td>false</td><td>0</td><td>0</td><td>0</td><td>0</td></tr>\n",
       "\t<tr><th scope=row>3</th><td>2214468</td><td>14209424</td><td>NA</td><td>UO Single Ride</td><td>Erb Memorial Union overflow</td><td>Phase 1 System Area</td><td></td><td>44.04526333333333</td><td>-123.07273333333333</td><td>2022-01-01</td><td>⋯</td><td>19770</td><td>0240 </td><td>1.12</td><td>00:10:12</td><td>keypad</td><td>false</td><td>0</td><td>0</td><td>0</td><td>0</td></tr>\n",
       "\t<tr><th scope=row>4</th><td>2214144</td><td>14209425</td><td>NA</td><td><span style=white-space:pre-wrap>Single Ride   </span></td><td><span style=white-space:pre-wrap>15th &amp; University          </span></td><td>Phase 1 System Area</td><td></td><td><span style=white-space:pre-wrap>44.04308         </span></td><td><span style=white-space:pre-wrap>-123.074745        </span></td><td>2022-01-01</td><td>⋯</td><td>19714</td><td>0184 </td><td>1.30</td><td>00:22:18</td><td>keypad</td><td>false</td><td>0</td><td>0</td><td>0</td><td>0</td></tr>\n",
       "\t<tr><th scope=row>5</th><td>2028249</td><td>14209426</td><td>NA</td><td>UO Single Ride</td><td><span style=white-space:pre-wrap>15th &amp; University          </span></td><td>Phase 1 System Area</td><td></td><td>44.04304333333334</td><td>-123.07477166666666</td><td>2022-01-01</td><td>⋯</td><td>19729</td><td>0199 </td><td>1.58</td><td>00:20:54</td><td>keypad</td><td>false</td><td>0</td><td>0</td><td>0</td><td>0</td></tr>\n",
       "\t<tr><th scope=row>6</th><td>1965638</td><td>14209431</td><td>NA</td><td>UO Single Ride</td><td>19th and Agate             </td><td>Phase 1 System Area</td><td></td><td>44.039075        </td><td>-123.069535        </td><td>2022-01-01</td><td>⋯</td><td>19808</td><td>0278 </td><td>1.31</td><td>00:11:17</td><td>keypad</td><td>true </td><td>0</td><td>0</td><td>0</td><td>0</td></tr>\n",
       "</tbody>\n",
       "</table>\n"
      ],
      "text/latex": [
       "A data.frame: 6 × 30\n",
       "\\begin{tabular}{r|lllllllllllllllllllll}\n",
       "  & User.ID & Route.ID & Bike.Region.ID & Payment.Plan & Start.Hub & Start.Area & Start.Special.Area & Start.Latitude & Start.Longitude & Start.Date & ⋯ & Bike.ID & Bike.Name & Distance..Miles. & Duration & Rental.Access.Path & Multiple.Rental & Ride.cost & Fees & Bonuses & Total.cost\\\\\n",
       "  & <int> & <int> & <lgl> & <chr> & <chr> & <chr> & <chr> & <chr> & <chr> & <chr> & ⋯ & <int> & <chr> & <dbl> & <chr> & <chr> & <chr> & <dbl> & <dbl> & <dbl> & <dbl>\\\\\n",
       "\\hline\n",
       "\t1 & 1949911 & 14209422 & NA & UO Single Ride & 16th \\& Willamette           & Phase 1 System Area &  & 44.04216666666667 & -123.092915         & 2022-01-01 & ⋯ & 19692 & 0162  & 1.00 & 00:07:31 & keypad & false & 0 & 0 & 0 & 0\\\\\n",
       "\t2 & 2045646 & 14209423 & NA & Single Ride    & Matthew Knight Arena        & Phase 1 System Area &  & 44.04535833333333 & -123.06533166666667 & 2022-01-01 & ⋯ & 20260 & 0146  & 1.04 & 00:10:13 & keypad & false & 0 & 0 & 0 & 0\\\\\n",
       "\t3 & 2214468 & 14209424 & NA & UO Single Ride & Erb Memorial Union overflow & Phase 1 System Area &  & 44.04526333333333 & -123.07273333333333 & 2022-01-01 & ⋯ & 19770 & 0240  & 1.12 & 00:10:12 & keypad & false & 0 & 0 & 0 & 0\\\\\n",
       "\t4 & 2214144 & 14209425 & NA & Single Ride    & 15th \\& University           & Phase 1 System Area &  & 44.04308          & -123.074745         & 2022-01-01 & ⋯ & 19714 & 0184  & 1.30 & 00:22:18 & keypad & false & 0 & 0 & 0 & 0\\\\\n",
       "\t5 & 2028249 & 14209426 & NA & UO Single Ride & 15th \\& University           & Phase 1 System Area &  & 44.04304333333334 & -123.07477166666666 & 2022-01-01 & ⋯ & 19729 & 0199  & 1.58 & 00:20:54 & keypad & false & 0 & 0 & 0 & 0\\\\\n",
       "\t6 & 1965638 & 14209431 & NA & UO Single Ride & 19th and Agate              & Phase 1 System Area &  & 44.039075         & -123.069535         & 2022-01-01 & ⋯ & 19808 & 0278  & 1.31 & 00:11:17 & keypad & true  & 0 & 0 & 0 & 0\\\\\n",
       "\\end{tabular}\n"
      ],
      "text/markdown": [
       "\n",
       "A data.frame: 6 × 30\n",
       "\n",
       "| <!--/--> | User.ID &lt;int&gt; | Route.ID &lt;int&gt; | Bike.Region.ID &lt;lgl&gt; | Payment.Plan &lt;chr&gt; | Start.Hub &lt;chr&gt; | Start.Area &lt;chr&gt; | Start.Special.Area &lt;chr&gt; | Start.Latitude &lt;chr&gt; | Start.Longitude &lt;chr&gt; | Start.Date &lt;chr&gt; | ⋯ ⋯ | Bike.ID &lt;int&gt; | Bike.Name &lt;chr&gt; | Distance..Miles. &lt;dbl&gt; | Duration &lt;chr&gt; | Rental.Access.Path &lt;chr&gt; | Multiple.Rental &lt;chr&gt; | Ride.cost &lt;dbl&gt; | Fees &lt;dbl&gt; | Bonuses &lt;dbl&gt; | Total.cost &lt;dbl&gt; |\n",
       "|---|---|---|---|---|---|---|---|---|---|---|---|---|---|---|---|---|---|---|---|---|---|\n",
       "| 1 | 1949911 | 14209422 | NA | UO Single Ride | 16th &amp; Willamette           | Phase 1 System Area | <!----> | 44.04216666666667 | -123.092915         | 2022-01-01 | ⋯ | 19692 | 0162  | 1.00 | 00:07:31 | keypad | false | 0 | 0 | 0 | 0 |\n",
       "| 2 | 2045646 | 14209423 | NA | Single Ride    | Matthew Knight Arena        | Phase 1 System Area | <!----> | 44.04535833333333 | -123.06533166666667 | 2022-01-01 | ⋯ | 20260 | 0146  | 1.04 | 00:10:13 | keypad | false | 0 | 0 | 0 | 0 |\n",
       "| 3 | 2214468 | 14209424 | NA | UO Single Ride | Erb Memorial Union overflow | Phase 1 System Area | <!----> | 44.04526333333333 | -123.07273333333333 | 2022-01-01 | ⋯ | 19770 | 0240  | 1.12 | 00:10:12 | keypad | false | 0 | 0 | 0 | 0 |\n",
       "| 4 | 2214144 | 14209425 | NA | Single Ride    | 15th &amp; University           | Phase 1 System Area | <!----> | 44.04308          | -123.074745         | 2022-01-01 | ⋯ | 19714 | 0184  | 1.30 | 00:22:18 | keypad | false | 0 | 0 | 0 | 0 |\n",
       "| 5 | 2028249 | 14209426 | NA | UO Single Ride | 15th &amp; University           | Phase 1 System Area | <!----> | 44.04304333333334 | -123.07477166666666 | 2022-01-01 | ⋯ | 19729 | 0199  | 1.58 | 00:20:54 | keypad | false | 0 | 0 | 0 | 0 |\n",
       "| 6 | 1965638 | 14209431 | NA | UO Single Ride | 19th and Agate              | Phase 1 System Area | <!----> | 44.039075         | -123.069535         | 2022-01-01 | ⋯ | 19808 | 0278  | 1.31 | 00:11:17 | keypad | true  | 0 | 0 | 0 | 0 |\n",
       "\n"
      ],
      "text/plain": [
       "  User.ID Route.ID Bike.Region.ID Payment.Plan   Start.Hub                  \n",
       "1 1949911 14209422 NA             UO Single Ride 16th & Willamette          \n",
       "2 2045646 14209423 NA             Single Ride    Matthew Knight Arena       \n",
       "3 2214468 14209424 NA             UO Single Ride Erb Memorial Union overflow\n",
       "4 2214144 14209425 NA             Single Ride    15th & University          \n",
       "5 2028249 14209426 NA             UO Single Ride 15th & University          \n",
       "6 1965638 14209431 NA             UO Single Ride 19th and Agate             \n",
       "  Start.Area          Start.Special.Area Start.Latitude    Start.Longitude    \n",
       "1 Phase 1 System Area                    44.04216666666667 -123.092915        \n",
       "2 Phase 1 System Area                    44.04535833333333 -123.06533166666667\n",
       "3 Phase 1 System Area                    44.04526333333333 -123.07273333333333\n",
       "4 Phase 1 System Area                    44.04308          -123.074745        \n",
       "5 Phase 1 System Area                    44.04304333333334 -123.07477166666666\n",
       "6 Phase 1 System Area                    44.039075         -123.069535        \n",
       "  Start.Date <U+22EF>        Bike.ID Bike.Name Distance..Miles. Duration\n",
       "1 2022-01-01 <U+22EF> 19692   0162      1.00             00:07:31\n",
       "2 2022-01-01 <U+22EF> 20260   0146      1.04             00:10:13\n",
       "3 2022-01-01 <U+22EF> 19770   0240      1.12             00:10:12\n",
       "4 2022-01-01 <U+22EF> 19714   0184      1.30             00:22:18\n",
       "5 2022-01-01 <U+22EF> 19729   0199      1.58             00:20:54\n",
       "6 2022-01-01 <U+22EF> 19808   0278      1.31             00:11:17\n",
       "  Rental.Access.Path Multiple.Rental Ride.cost Fees Bonuses Total.cost\n",
       "1 keypad             false           0         0    0       0         \n",
       "2 keypad             false           0         0    0       0         \n",
       "3 keypad             false           0         0    0       0         \n",
       "4 keypad             false           0         0    0       0         \n",
       "5 keypad             false           0         0    0       0         \n",
       "6 keypad             true            0         0    0       0         "
      ]
     },
     "metadata": {},
     "output_type": "display_data"
    }
   ],
   "source": [
    "head(trips)"
   ]
  },
  {
   "cell_type": "code",
   "execution_count": 4,
   "id": "2fae8b83",
   "metadata": {
    "scrolled": true
   },
   "outputs": [
    {
     "data": {
      "text/html": [
       "<style>\n",
       ".list-inline {list-style: none; margin:0; padding: 0}\n",
       ".list-inline>li {display: inline-block}\n",
       ".list-inline>li:not(:last-child)::after {content: \"\\00b7\"; padding: 0 .5ex}\n",
       "</style>\n",
       "<ol class=list-inline><li>'User.ID'</li><li>'Route.ID'</li><li>'Bike.Region.ID'</li><li>'Payment.Plan'</li><li>'Start.Hub'</li><li>'Start.Area'</li><li>'Start.Special.Area'</li><li>'Start.Latitude'</li><li>'Start.Longitude'</li><li>'Start.Date'</li><li>'Start.Time'</li><li>'End.Hub'</li><li>'End.Area'</li><li>'End.Special.Area'</li><li>'End.Latitude'</li><li>'End.Longitude'</li><li>'End.Date'</li><li>'End.Time'</li><li>'Member.Type'</li><li>'Trip.Type'</li><li>'Bike.ID'</li><li>'Bike.Name'</li><li>'Distance..Miles.'</li><li>'Duration'</li><li>'Rental.Access.Path'</li><li>'Multiple.Rental'</li><li>'Ride.cost'</li><li>'Fees'</li><li>'Bonuses'</li><li>'Total.cost'</li></ol>\n"
      ],
      "text/latex": [
       "\\begin{enumerate*}\n",
       "\\item 'User.ID'\n",
       "\\item 'Route.ID'\n",
       "\\item 'Bike.Region.ID'\n",
       "\\item 'Payment.Plan'\n",
       "\\item 'Start.Hub'\n",
       "\\item 'Start.Area'\n",
       "\\item 'Start.Special.Area'\n",
       "\\item 'Start.Latitude'\n",
       "\\item 'Start.Longitude'\n",
       "\\item 'Start.Date'\n",
       "\\item 'Start.Time'\n",
       "\\item 'End.Hub'\n",
       "\\item 'End.Area'\n",
       "\\item 'End.Special.Area'\n",
       "\\item 'End.Latitude'\n",
       "\\item 'End.Longitude'\n",
       "\\item 'End.Date'\n",
       "\\item 'End.Time'\n",
       "\\item 'Member.Type'\n",
       "\\item 'Trip.Type'\n",
       "\\item 'Bike.ID'\n",
       "\\item 'Bike.Name'\n",
       "\\item 'Distance..Miles.'\n",
       "\\item 'Duration'\n",
       "\\item 'Rental.Access.Path'\n",
       "\\item 'Multiple.Rental'\n",
       "\\item 'Ride.cost'\n",
       "\\item 'Fees'\n",
       "\\item 'Bonuses'\n",
       "\\item 'Total.cost'\n",
       "\\end{enumerate*}\n"
      ],
      "text/markdown": [
       "1. 'User.ID'\n",
       "2. 'Route.ID'\n",
       "3. 'Bike.Region.ID'\n",
       "4. 'Payment.Plan'\n",
       "5. 'Start.Hub'\n",
       "6. 'Start.Area'\n",
       "7. 'Start.Special.Area'\n",
       "8. 'Start.Latitude'\n",
       "9. 'Start.Longitude'\n",
       "10. 'Start.Date'\n",
       "11. 'Start.Time'\n",
       "12. 'End.Hub'\n",
       "13. 'End.Area'\n",
       "14. 'End.Special.Area'\n",
       "15. 'End.Latitude'\n",
       "16. 'End.Longitude'\n",
       "17. 'End.Date'\n",
       "18. 'End.Time'\n",
       "19. 'Member.Type'\n",
       "20. 'Trip.Type'\n",
       "21. 'Bike.ID'\n",
       "22. 'Bike.Name'\n",
       "23. 'Distance..Miles.'\n",
       "24. 'Duration'\n",
       "25. 'Rental.Access.Path'\n",
       "26. 'Multiple.Rental'\n",
       "27. 'Ride.cost'\n",
       "28. 'Fees'\n",
       "29. 'Bonuses'\n",
       "30. 'Total.cost'\n",
       "\n",
       "\n"
      ],
      "text/plain": [
       " [1] \"User.ID\"            \"Route.ID\"           \"Bike.Region.ID\"    \n",
       " [4] \"Payment.Plan\"       \"Start.Hub\"          \"Start.Area\"        \n",
       " [7] \"Start.Special.Area\" \"Start.Latitude\"     \"Start.Longitude\"   \n",
       "[10] \"Start.Date\"         \"Start.Time\"         \"End.Hub\"           \n",
       "[13] \"End.Area\"           \"End.Special.Area\"   \"End.Latitude\"      \n",
       "[16] \"End.Longitude\"      \"End.Date\"           \"End.Time\"          \n",
       "[19] \"Member.Type\"        \"Trip.Type\"          \"Bike.ID\"           \n",
       "[22] \"Bike.Name\"          \"Distance..Miles.\"   \"Duration\"          \n",
       "[25] \"Rental.Access.Path\" \"Multiple.Rental\"    \"Ride.cost\"         \n",
       "[28] \"Fees\"               \"Bonuses\"            \"Total.cost\"        "
      ]
     },
     "metadata": {},
     "output_type": "display_data"
    }
   ],
   "source": [
    "names(trips)"
   ]
  },
  {
   "cell_type": "code",
   "execution_count": 5,
   "id": "37d12765",
   "metadata": {},
   "outputs": [
    {
     "data": {
      "text/html": [
       "<style>\n",
       ".list-inline {list-style: none; margin:0; padding: 0}\n",
       ".list-inline>li {display: inline-block}\n",
       ".list-inline>li:not(:last-child)::after {content: \"\\00b7\"; padding: 0 .5ex}\n",
       "</style>\n",
       "<ol class=list-inline><li>8398</li><li>30</li></ol>\n"
      ],
      "text/latex": [
       "\\begin{enumerate*}\n",
       "\\item 8398\n",
       "\\item 30\n",
       "\\end{enumerate*}\n"
      ],
      "text/markdown": [
       "1. 8398\n",
       "2. 30\n",
       "\n",
       "\n"
      ],
      "text/plain": [
       "[1] 8398   30"
      ]
     },
     "metadata": {},
     "output_type": "display_data"
    }
   ],
   "source": [
    "dim(trips)"
   ]
  },
  {
   "cell_type": "code",
   "execution_count": 6,
   "id": "0b1b7118",
   "metadata": {},
   "outputs": [
    {
     "data": {
      "text/html": [
       "<style>\n",
       ".list-inline {list-style: none; margin:0; padding: 0}\n",
       ".list-inline>li {display: inline-block}\n",
       ".list-inline>li:not(:last-child)::after {content: \"\\00b7\"; padding: 0 .5ex}\n",
       "</style>\n",
       "<ol class=list-inline><li>'16th &amp; Willamette'</li><li>'Matthew Knight Arena'</li><li>'Erb Memorial Union overflow'</li><li>'15th &amp; University'</li><li>'19th and Agate'</li><li>''</li><li>'Knight Law Center'</li><li>'13th &amp; Kincaid'</li><li>'12th &amp; Willamette'</li><li>'13th &amp; Pearl, 13th side'</li><li>'Amazon Pool'</li><li>'PeaceHealth University District'</li><li>'15th &amp; Ferry'</li><li>'17th &amp; Pearl, East side'</li><li>'17th &amp; Hilyard'</li><li>'Eden\\'s Bike Garage (Virtual Hub)'</li><li>'2nd &amp; High'</li><li>'8th &amp; Lincoln'</li><li>'6th &amp; Willamette'</li><li>'Franklin Blvd and Walnut North'</li><li>'Lane Events Center'</li><li>'HEDCO Education Building'</li><li>'2nd &amp; Madison'</li><li>'13th &amp; Agate (Virtual Hub)'</li><li>'4th &amp; Blair'</li><li>'Eugene Train Station'</li><li>'Valley River'</li><li>'Woodfield Station East (Virtual Hub)'</li><li>'Broadway &amp; High'</li><li>'Broadway &amp; Willamette'</li><li>'Millrace Garage'</li><li>'Eugene Family YMCA'</li><li>'13th &amp; Lawrence'</li><li>'Erb Memorial Union'</li><li>'Oregon Plaza (Virtual Hub)'</li><li>'Monroe St &amp; Blair Blvd '</li><li>'17th &amp; Pearl, West side'</li><li>'17th &amp; Moss'</li><li>'Franklin Blvd &amp; Walnut South'</li><li>'Columbia Hall (Virtual Hub)'</li><li>'10th &amp; Olive SE'</li><li>'5th &amp; Pearl, NW corner'</li><li>'Event Rack 1 (Virtual Hub)'</li><li>'Civic Park (Virtual Hub)'</li><li>'Autzen Footbridge'</li><li>'10th &amp; Pearl'</li><li>'10th &amp; Olive NE'</li><li>'Knight Library (Virtual Hub)'</li><li>'8th &amp; Ferry'</li><li>'13th &amp; Pearl, Pearl side'</li><li>'3rd &amp; Lawrence'</li><li>'5th &amp; Lincoln'</li><li>'Straub Hall (Virtual Hub)'</li><li>'Joey\\'s Bike Garage (Virtual Hub)'</li><li>'PeaceHealth RiverBend'</li><li>'Skinner Butte Park'</li><li>'Amazon LTD Station (Virtual Hub)'</li><li>'5th &amp; Pearl, SE corner'</li><li>'6th &amp; Monroe'</li><li>'Woodfield Station West (Virtual Hub)'</li><li>'Outdoor Program Barn (Virtual Hub)'</li></ol>\n"
      ],
      "text/latex": [
       "\\begin{enumerate*}\n",
       "\\item '16th \\& Willamette'\n",
       "\\item 'Matthew Knight Arena'\n",
       "\\item 'Erb Memorial Union overflow'\n",
       "\\item '15th \\& University'\n",
       "\\item '19th and Agate'\n",
       "\\item ''\n",
       "\\item 'Knight Law Center'\n",
       "\\item '13th \\& Kincaid'\n",
       "\\item '12th \\& Willamette'\n",
       "\\item '13th \\& Pearl, 13th side'\n",
       "\\item 'Amazon Pool'\n",
       "\\item 'PeaceHealth University District'\n",
       "\\item '15th \\& Ferry'\n",
       "\\item '17th \\& Pearl, East side'\n",
       "\\item '17th \\& Hilyard'\n",
       "\\item 'Eden\\textbackslash{}'s Bike Garage (Virtual Hub)'\n",
       "\\item '2nd \\& High'\n",
       "\\item '8th \\& Lincoln'\n",
       "\\item '6th \\& Willamette'\n",
       "\\item 'Franklin Blvd and Walnut North'\n",
       "\\item 'Lane Events Center'\n",
       "\\item 'HEDCO Education Building'\n",
       "\\item '2nd \\& Madison'\n",
       "\\item '13th \\& Agate (Virtual Hub)'\n",
       "\\item '4th \\& Blair'\n",
       "\\item 'Eugene Train Station'\n",
       "\\item 'Valley River'\n",
       "\\item 'Woodfield Station East (Virtual Hub)'\n",
       "\\item 'Broadway \\& High'\n",
       "\\item 'Broadway \\& Willamette'\n",
       "\\item 'Millrace Garage'\n",
       "\\item 'Eugene Family YMCA'\n",
       "\\item '13th \\& Lawrence'\n",
       "\\item 'Erb Memorial Union'\n",
       "\\item 'Oregon Plaza (Virtual Hub)'\n",
       "\\item 'Monroe St \\& Blair Blvd '\n",
       "\\item '17th \\& Pearl, West side'\n",
       "\\item '17th \\& Moss'\n",
       "\\item 'Franklin Blvd \\& Walnut South'\n",
       "\\item 'Columbia Hall (Virtual Hub)'\n",
       "\\item '10th \\& Olive SE'\n",
       "\\item '5th \\& Pearl, NW corner'\n",
       "\\item 'Event Rack 1 (Virtual Hub)'\n",
       "\\item 'Civic Park (Virtual Hub)'\n",
       "\\item 'Autzen Footbridge'\n",
       "\\item '10th \\& Pearl'\n",
       "\\item '10th \\& Olive NE'\n",
       "\\item 'Knight Library (Virtual Hub)'\n",
       "\\item '8th \\& Ferry'\n",
       "\\item '13th \\& Pearl, Pearl side'\n",
       "\\item '3rd \\& Lawrence'\n",
       "\\item '5th \\& Lincoln'\n",
       "\\item 'Straub Hall (Virtual Hub)'\n",
       "\\item 'Joey\\textbackslash{}'s Bike Garage (Virtual Hub)'\n",
       "\\item 'PeaceHealth RiverBend'\n",
       "\\item 'Skinner Butte Park'\n",
       "\\item 'Amazon LTD Station (Virtual Hub)'\n",
       "\\item '5th \\& Pearl, SE corner'\n",
       "\\item '6th \\& Monroe'\n",
       "\\item 'Woodfield Station West (Virtual Hub)'\n",
       "\\item 'Outdoor Program Barn (Virtual Hub)'\n",
       "\\end{enumerate*}\n"
      ],
      "text/markdown": [
       "1. '16th &amp; Willamette'\n",
       "2. 'Matthew Knight Arena'\n",
       "3. 'Erb Memorial Union overflow'\n",
       "4. '15th &amp; University'\n",
       "5. '19th and Agate'\n",
       "6. ''\n",
       "7. 'Knight Law Center'\n",
       "8. '13th &amp; Kincaid'\n",
       "9. '12th &amp; Willamette'\n",
       "10. '13th &amp; Pearl, 13th side'\n",
       "11. 'Amazon Pool'\n",
       "12. 'PeaceHealth University District'\n",
       "13. '15th &amp; Ferry'\n",
       "14. '17th &amp; Pearl, East side'\n",
       "15. '17th &amp; Hilyard'\n",
       "16. 'Eden\\'s Bike Garage (Virtual Hub)'\n",
       "17. '2nd &amp; High'\n",
       "18. '8th &amp; Lincoln'\n",
       "19. '6th &amp; Willamette'\n",
       "20. 'Franklin Blvd and Walnut North'\n",
       "21. 'Lane Events Center'\n",
       "22. 'HEDCO Education Building'\n",
       "23. '2nd &amp; Madison'\n",
       "24. '13th &amp; Agate (Virtual Hub)'\n",
       "25. '4th &amp; Blair'\n",
       "26. 'Eugene Train Station'\n",
       "27. 'Valley River'\n",
       "28. 'Woodfield Station East (Virtual Hub)'\n",
       "29. 'Broadway &amp; High'\n",
       "30. 'Broadway &amp; Willamette'\n",
       "31. 'Millrace Garage'\n",
       "32. 'Eugene Family YMCA'\n",
       "33. '13th &amp; Lawrence'\n",
       "34. 'Erb Memorial Union'\n",
       "35. 'Oregon Plaza (Virtual Hub)'\n",
       "36. 'Monroe St &amp; Blair Blvd '\n",
       "37. '17th &amp; Pearl, West side'\n",
       "38. '17th &amp; Moss'\n",
       "39. 'Franklin Blvd &amp; Walnut South'\n",
       "40. 'Columbia Hall (Virtual Hub)'\n",
       "41. '10th &amp; Olive SE'\n",
       "42. '5th &amp; Pearl, NW corner'\n",
       "43. 'Event Rack 1 (Virtual Hub)'\n",
       "44. 'Civic Park (Virtual Hub)'\n",
       "45. 'Autzen Footbridge'\n",
       "46. '10th &amp; Pearl'\n",
       "47. '10th &amp; Olive NE'\n",
       "48. 'Knight Library (Virtual Hub)'\n",
       "49. '8th &amp; Ferry'\n",
       "50. '13th &amp; Pearl, Pearl side'\n",
       "51. '3rd &amp; Lawrence'\n",
       "52. '5th &amp; Lincoln'\n",
       "53. 'Straub Hall (Virtual Hub)'\n",
       "54. 'Joey\\'s Bike Garage (Virtual Hub)'\n",
       "55. 'PeaceHealth RiverBend'\n",
       "56. 'Skinner Butte Park'\n",
       "57. 'Amazon LTD Station (Virtual Hub)'\n",
       "58. '5th &amp; Pearl, SE corner'\n",
       "59. '6th &amp; Monroe'\n",
       "60. 'Woodfield Station West (Virtual Hub)'\n",
       "61. 'Outdoor Program Barn (Virtual Hub)'\n",
       "\n",
       "\n"
      ],
      "text/plain": [
       " [1] \"16th & Willamette\"                   \n",
       " [2] \"Matthew Knight Arena\"                \n",
       " [3] \"Erb Memorial Union overflow\"         \n",
       " [4] \"15th & University\"                   \n",
       " [5] \"19th and Agate\"                      \n",
       " [6] \"\"                                    \n",
       " [7] \"Knight Law Center\"                   \n",
       " [8] \"13th & Kincaid\"                      \n",
       " [9] \"12th & Willamette\"                   \n",
       "[10] \"13th & Pearl, 13th side\"             \n",
       "[11] \"Amazon Pool\"                         \n",
       "[12] \"PeaceHealth University District\"     \n",
       "[13] \"15th & Ferry\"                        \n",
       "[14] \"17th & Pearl, East side\"             \n",
       "[15] \"17th & Hilyard\"                      \n",
       "[16] \"Eden's Bike Garage (Virtual Hub)\"    \n",
       "[17] \"2nd & High\"                          \n",
       "[18] \"8th & Lincoln\"                       \n",
       "[19] \"6th & Willamette\"                    \n",
       "[20] \"Franklin Blvd and Walnut North\"      \n",
       "[21] \"Lane Events Center\"                  \n",
       "[22] \"HEDCO Education Building\"            \n",
       "[23] \"2nd & Madison\"                       \n",
       "[24] \"13th & Agate (Virtual Hub)\"          \n",
       "[25] \"4th & Blair\"                         \n",
       "[26] \"Eugene Train Station\"                \n",
       "[27] \"Valley River\"                        \n",
       "[28] \"Woodfield Station East (Virtual Hub)\"\n",
       "[29] \"Broadway & High\"                     \n",
       "[30] \"Broadway & Willamette\"               \n",
       "[31] \"Millrace Garage\"                     \n",
       "[32] \"Eugene Family YMCA\"                  \n",
       "[33] \"13th & Lawrence\"                     \n",
       "[34] \"Erb Memorial Union\"                  \n",
       "[35] \"Oregon Plaza (Virtual Hub)\"          \n",
       "[36] \"Monroe St & Blair Blvd \"             \n",
       "[37] \"17th & Pearl, West side\"             \n",
       "[38] \"17th & Moss\"                         \n",
       "[39] \"Franklin Blvd & Walnut South\"        \n",
       "[40] \"Columbia Hall (Virtual Hub)\"         \n",
       "[41] \"10th & Olive SE\"                     \n",
       "[42] \"5th & Pearl, NW corner\"              \n",
       "[43] \"Event Rack 1 (Virtual Hub)\"          \n",
       "[44] \"Civic Park (Virtual Hub)\"            \n",
       "[45] \"Autzen Footbridge\"                   \n",
       "[46] \"10th & Pearl\"                        \n",
       "[47] \"10th & Olive NE\"                     \n",
       "[48] \"Knight Library (Virtual Hub)\"        \n",
       "[49] \"8th & Ferry\"                         \n",
       "[50] \"13th & Pearl, Pearl side\"            \n",
       "[51] \"3rd & Lawrence\"                      \n",
       "[52] \"5th & Lincoln\"                       \n",
       "[53] \"Straub Hall (Virtual Hub)\"           \n",
       "[54] \"Joey's Bike Garage (Virtual Hub)\"    \n",
       "[55] \"PeaceHealth RiverBend\"               \n",
       "[56] \"Skinner Butte Park\"                  \n",
       "[57] \"Amazon LTD Station (Virtual Hub)\"    \n",
       "[58] \"5th & Pearl, SE corner\"              \n",
       "[59] \"6th & Monroe\"                        \n",
       "[60] \"Woodfield Station West (Virtual Hub)\"\n",
       "[61] \"Outdoor Program Barn (Virtual Hub)\"  "
      ]
     },
     "metadata": {},
     "output_type": "display_data"
    }
   ],
   "source": [
    "unique(trips$Start.Hub)"
   ]
  },
  {
   "cell_type": "code",
   "execution_count": 7,
   "id": "ffd71bc2",
   "metadata": {},
   "outputs": [
    {
     "data": {
      "text/html": [
       "<style>\n",
       ".list-inline {list-style: none; margin:0; padding: 0}\n",
       ".list-inline>li {display: inline-block}\n",
       ".list-inline>li:not(:last-child)::after {content: \"\\00b7\"; padding: 0 .5ex}\n",
       "</style>\n",
       "<ol class=list-inline><li>''</li><li>'errand'</li></ol>\n"
      ],
      "text/latex": [
       "\\begin{enumerate*}\n",
       "\\item ''\n",
       "\\item 'errand'\n",
       "\\end{enumerate*}\n"
      ],
      "text/markdown": [
       "1. ''\n",
       "2. 'errand'\n",
       "\n",
       "\n"
      ],
      "text/plain": [
       "[1] \"\"       \"errand\""
      ]
     },
     "metadata": {},
     "output_type": "display_data"
    }
   ],
   "source": [
    "unique(trips$Trip.Type)"
   ]
  },
  {
   "cell_type": "code",
   "execution_count": 8,
   "id": "0b3f9361",
   "metadata": {},
   "outputs": [],
   "source": [
    "org <- trips[,c('Route.ID', 'Bike.ID', 'User.ID', 'Start.Hub', 'Start.Latitude', 'Start.Longitude', 'Start.Date', 'Start.Time')]"
   ]
  },
  {
   "cell_type": "code",
   "execution_count": 9,
   "id": "e46e8dd2",
   "metadata": {},
   "outputs": [],
   "source": [
    "names(org) <- c(\"RouteID\", \"BikeID\", 'UserID', \"Location\", \"Latitude\", \"Longitude\",\"Date\", \"Time\")"
   ]
  },
  {
   "cell_type": "code",
   "execution_count": 10,
   "id": "ac83ab10",
   "metadata": {},
   "outputs": [],
   "source": [
    "org$OriginDestination <- rep(\"Origin\", dim(org)[1])"
   ]
  },
  {
   "cell_type": "code",
   "execution_count": 11,
   "id": "b7e4270e",
   "metadata": {},
   "outputs": [],
   "source": [
    "dst <- trips[,c('Route.ID', 'Bike.ID', 'User.ID', 'End.Hub', 'End.Latitude', 'End.Longitude', 'End.Date','End.Time')]"
   ]
  },
  {
   "cell_type": "code",
   "execution_count": 12,
   "id": "bc2ae1b9",
   "metadata": {},
   "outputs": [],
   "source": [
    "names(dst) <- c(\"RouteID\", \"BikeID\", 'UserID', \"Location\", \"Latitude\", \"Longitude\", \"Date\", \"Time\")"
   ]
  },
  {
   "cell_type": "code",
   "execution_count": 13,
   "id": "673d5b2c",
   "metadata": {},
   "outputs": [],
   "source": [
    "dst$OriginDestination <- rep(\"Destination\", dim(dst)[1])"
   ]
  },
  {
   "cell_type": "code",
   "execution_count": 14,
   "id": "c13594e8",
   "metadata": {},
   "outputs": [],
   "source": [
    "df <- rbind(org, dst)"
   ]
  },
  {
   "cell_type": "code",
   "execution_count": 15,
   "id": "57fbf460",
   "metadata": {},
   "outputs": [],
   "source": [
    "write.csv(df, \"T:/DCProjects/StoryMap/BikeCounting/BikeShare/Data/bike_share_locations.csv\", row.names=FALSE)"
   ]
  }
 ],
 "metadata": {
  "kernelspec": {
   "display_name": "R",
   "language": "R",
   "name": "ir"
  },
  "language_info": {
   "codemirror_mode": "r",
   "file_extension": ".r",
   "mimetype": "text/x-r-source",
   "name": "R",
   "pygments_lexer": "r",
   "version": "4.0.3"
  }
 },
 "nbformat": 4,
 "nbformat_minor": 5
}
