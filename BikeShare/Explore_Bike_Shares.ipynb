{
 "cells": [
  {
   "cell_type": "code",
   "execution_count": 1,
   "id": "dec06fee",
   "metadata": {},
   "outputs": [],
   "source": [
    "path <- \"T:/DCProjects/StoryMap/BikeCounting/BikeShare/Data/\""
   ]
  },
  {
   "cell_type": "code",
   "execution_count": 2,
   "id": "3d5b3a8e",
   "metadata": {},
   "outputs": [],
   "source": [
    "trips <- read.csv(paste0(path, \"trips_peace_health_rides_12_01_2021-12_31_2021.csv\"))"
   ]
  },
  {
   "cell_type": "code",
   "execution_count": 3,
   "id": "9584ec17",
   "metadata": {},
   "outputs": [
    {
     "data": {
      "text/html": [
       "<table class=\"dataframe\">\n",
       "<caption>A data.frame: 6 × 30</caption>\n",
       "<thead>\n",
       "\t<tr><th></th><th scope=col>User.ID</th><th scope=col>Route.ID</th><th scope=col>Bike.Region.ID</th><th scope=col>Payment.Plan</th><th scope=col>Start.Hub</th><th scope=col>Start.Area</th><th scope=col>Start.Special.Area</th><th scope=col>Start.Latitude</th><th scope=col>Start.Longitude</th><th scope=col>Start.Date</th><th scope=col>⋯</th><th scope=col>Bike.ID</th><th scope=col>Bike.Name</th><th scope=col>Distance..Miles.</th><th scope=col>Duration</th><th scope=col>Rental.Access.Path</th><th scope=col>Multiple.Rental</th><th scope=col>Ride.cost</th><th scope=col>Fees</th><th scope=col>Bonuses</th><th scope=col>Total.cost</th></tr>\n",
       "\t<tr><th></th><th scope=col>&lt;int&gt;</th><th scope=col>&lt;int&gt;</th><th scope=col>&lt;lgl&gt;</th><th scope=col>&lt;chr&gt;</th><th scope=col>&lt;chr&gt;</th><th scope=col>&lt;chr&gt;</th><th scope=col>&lt;lgl&gt;</th><th scope=col>&lt;dbl&gt;</th><th scope=col>&lt;dbl&gt;</th><th scope=col>&lt;chr&gt;</th><th scope=col>⋯</th><th scope=col>&lt;int&gt;</th><th scope=col>&lt;chr&gt;</th><th scope=col>&lt;dbl&gt;</th><th scope=col>&lt;chr&gt;</th><th scope=col>&lt;chr&gt;</th><th scope=col>&lt;chr&gt;</th><th scope=col>&lt;dbl&gt;</th><th scope=col>&lt;dbl&gt;</th><th scope=col>&lt;dbl&gt;</th><th scope=col>&lt;dbl&gt;</th></tr>\n",
       "</thead>\n",
       "<tbody>\n",
       "\t<tr><th scope=row>1</th><td>2156242</td><td>14193596</td><td>NA</td><td>UO Monthly Plan</td><td>Knight Law Center          </td><td>Phase 1 System Area</td><td>NA</td><td>44.04305</td><td>-123.0696</td><td>2021-12-01</td><td>⋯</td><td>19593</td><td>0062 </td><td>2.50</td><td>00:25:10</td><td>keypad             </td><td>true </td><td>0</td><td>0</td><td>0</td><td>0</td></tr>\n",
       "\t<tr><th scope=row>2</th><td>2156242</td><td>14193597</td><td>NA</td><td>UO Monthly Plan</td><td>Knight Law Center          </td><td>Phase 1 System Area</td><td>NA</td><td>44.04310</td><td>-123.0696</td><td>2021-12-01</td><td>⋯</td><td>19710</td><td>0312 </td><td>2.54</td><td>00:23:49</td><td>keypad             </td><td>true </td><td>0</td><td>0</td><td>0</td><td>0</td></tr>\n",
       "\t<tr><th scope=row>3</th><td>2024943</td><td>14193598</td><td>NA</td><td>Monthly Plan   </td><td>Eugene Train Station       </td><td>Phase 1 System Area</td><td>NA</td><td>44.05524</td><td>-123.0927</td><td>2021-12-01</td><td>⋯</td><td>19734</td><td>0204 </td><td>1.11</td><td>00:13:02</td><td>keypad_phone_number</td><td>false</td><td>0</td><td>0</td><td>0</td><td>0</td></tr>\n",
       "\t<tr><th scope=row>4</th><td>2203210</td><td>14193600</td><td>NA</td><td>Single Ride    </td><td>                           </td><td>Phase 1 System Area</td><td>NA</td><td>44.04492</td><td>-123.0851</td><td>2021-12-01</td><td>⋯</td><td>19617</td><td>0086 </td><td>1.24</td><td>00:09:20</td><td>keypad             </td><td>false</td><td>0</td><td>0</td><td>0</td><td>0</td></tr>\n",
       "\t<tr><th scope=row>5</th><td>2166326</td><td>14193601</td><td>NA</td><td>UO Monthly Plan</td><td>Erb Memorial Union overflow</td><td>Phase 1 System Area</td><td>NA</td><td>44.04525</td><td>-123.0727</td><td>2021-12-01</td><td>⋯</td><td>19779</td><td>0249 </td><td>0.89</td><td>00:07:26</td><td>keypad             </td><td>false</td><td>0</td><td>0</td><td>0</td><td>0</td></tr>\n",
       "\t<tr><th scope=row>6</th><td>1469794</td><td>14193602</td><td>NA</td><td>Single Ride    </td><td>                           </td><td>Phase 1 System Area</td><td>NA</td><td>44.04817</td><td>-123.0716</td><td>2021-12-01</td><td>⋯</td><td>19806</td><td>0276 </td><td>1.36</td><td>00:10:52</td><td>keypad             </td><td>false</td><td>0</td><td>0</td><td>0</td><td>0</td></tr>\n",
       "</tbody>\n",
       "</table>\n"
      ],
      "text/latex": [
       "A data.frame: 6 × 30\n",
       "\\begin{tabular}{r|lllllllllllllllllllll}\n",
       "  & User.ID & Route.ID & Bike.Region.ID & Payment.Plan & Start.Hub & Start.Area & Start.Special.Area & Start.Latitude & Start.Longitude & Start.Date & ⋯ & Bike.ID & Bike.Name & Distance..Miles. & Duration & Rental.Access.Path & Multiple.Rental & Ride.cost & Fees & Bonuses & Total.cost\\\\\n",
       "  & <int> & <int> & <lgl> & <chr> & <chr> & <chr> & <lgl> & <dbl> & <dbl> & <chr> & ⋯ & <int> & <chr> & <dbl> & <chr> & <chr> & <chr> & <dbl> & <dbl> & <dbl> & <dbl>\\\\\n",
       "\\hline\n",
       "\t1 & 2156242 & 14193596 & NA & UO Monthly Plan & Knight Law Center           & Phase 1 System Area & NA & 44.04305 & -123.0696 & 2021-12-01 & ⋯ & 19593 & 0062  & 2.50 & 00:25:10 & keypad              & true  & 0 & 0 & 0 & 0\\\\\n",
       "\t2 & 2156242 & 14193597 & NA & UO Monthly Plan & Knight Law Center           & Phase 1 System Area & NA & 44.04310 & -123.0696 & 2021-12-01 & ⋯ & 19710 & 0312  & 2.54 & 00:23:49 & keypad              & true  & 0 & 0 & 0 & 0\\\\\n",
       "\t3 & 2024943 & 14193598 & NA & Monthly Plan    & Eugene Train Station        & Phase 1 System Area & NA & 44.05524 & -123.0927 & 2021-12-01 & ⋯ & 19734 & 0204  & 1.11 & 00:13:02 & keypad\\_phone\\_number & false & 0 & 0 & 0 & 0\\\\\n",
       "\t4 & 2203210 & 14193600 & NA & Single Ride     &                             & Phase 1 System Area & NA & 44.04492 & -123.0851 & 2021-12-01 & ⋯ & 19617 & 0086  & 1.24 & 00:09:20 & keypad              & false & 0 & 0 & 0 & 0\\\\\n",
       "\t5 & 2166326 & 14193601 & NA & UO Monthly Plan & Erb Memorial Union overflow & Phase 1 System Area & NA & 44.04525 & -123.0727 & 2021-12-01 & ⋯ & 19779 & 0249  & 0.89 & 00:07:26 & keypad              & false & 0 & 0 & 0 & 0\\\\\n",
       "\t6 & 1469794 & 14193602 & NA & Single Ride     &                             & Phase 1 System Area & NA & 44.04817 & -123.0716 & 2021-12-01 & ⋯ & 19806 & 0276  & 1.36 & 00:10:52 & keypad              & false & 0 & 0 & 0 & 0\\\\\n",
       "\\end{tabular}\n"
      ],
      "text/markdown": [
       "\n",
       "A data.frame: 6 × 30\n",
       "\n",
       "| <!--/--> | User.ID &lt;int&gt; | Route.ID &lt;int&gt; | Bike.Region.ID &lt;lgl&gt; | Payment.Plan &lt;chr&gt; | Start.Hub &lt;chr&gt; | Start.Area &lt;chr&gt; | Start.Special.Area &lt;lgl&gt; | Start.Latitude &lt;dbl&gt; | Start.Longitude &lt;dbl&gt; | Start.Date &lt;chr&gt; | ⋯ ⋯ | Bike.ID &lt;int&gt; | Bike.Name &lt;chr&gt; | Distance..Miles. &lt;dbl&gt; | Duration &lt;chr&gt; | Rental.Access.Path &lt;chr&gt; | Multiple.Rental &lt;chr&gt; | Ride.cost &lt;dbl&gt; | Fees &lt;dbl&gt; | Bonuses &lt;dbl&gt; | Total.cost &lt;dbl&gt; |\n",
       "|---|---|---|---|---|---|---|---|---|---|---|---|---|---|---|---|---|---|---|---|---|---|\n",
       "| 1 | 2156242 | 14193596 | NA | UO Monthly Plan | Knight Law Center           | Phase 1 System Area | NA | 44.04305 | -123.0696 | 2021-12-01 | ⋯ | 19593 | 0062  | 2.50 | 00:25:10 | keypad              | true  | 0 | 0 | 0 | 0 |\n",
       "| 2 | 2156242 | 14193597 | NA | UO Monthly Plan | Knight Law Center           | Phase 1 System Area | NA | 44.04310 | -123.0696 | 2021-12-01 | ⋯ | 19710 | 0312  | 2.54 | 00:23:49 | keypad              | true  | 0 | 0 | 0 | 0 |\n",
       "| 3 | 2024943 | 14193598 | NA | Monthly Plan    | Eugene Train Station        | Phase 1 System Area | NA | 44.05524 | -123.0927 | 2021-12-01 | ⋯ | 19734 | 0204  | 1.11 | 00:13:02 | keypad_phone_number | false | 0 | 0 | 0 | 0 |\n",
       "| 4 | 2203210 | 14193600 | NA | Single Ride     | <!----> | Phase 1 System Area | NA | 44.04492 | -123.0851 | 2021-12-01 | ⋯ | 19617 | 0086  | 1.24 | 00:09:20 | keypad              | false | 0 | 0 | 0 | 0 |\n",
       "| 5 | 2166326 | 14193601 | NA | UO Monthly Plan | Erb Memorial Union overflow | Phase 1 System Area | NA | 44.04525 | -123.0727 | 2021-12-01 | ⋯ | 19779 | 0249  | 0.89 | 00:07:26 | keypad              | false | 0 | 0 | 0 | 0 |\n",
       "| 6 | 1469794 | 14193602 | NA | Single Ride     | <!----> | Phase 1 System Area | NA | 44.04817 | -123.0716 | 2021-12-01 | ⋯ | 19806 | 0276  | 1.36 | 00:10:52 | keypad              | false | 0 | 0 | 0 | 0 |\n",
       "\n"
      ],
      "text/plain": [
       "  User.ID Route.ID Bike.Region.ID Payment.Plan    Start.Hub                  \n",
       "1 2156242 14193596 NA             UO Monthly Plan Knight Law Center          \n",
       "2 2156242 14193597 NA             UO Monthly Plan Knight Law Center          \n",
       "3 2024943 14193598 NA             Monthly Plan    Eugene Train Station       \n",
       "4 2203210 14193600 NA             Single Ride                                \n",
       "5 2166326 14193601 NA             UO Monthly Plan Erb Memorial Union overflow\n",
       "6 1469794 14193602 NA             Single Ride                                \n",
       "  Start.Area          Start.Special.Area Start.Latitude Start.Longitude\n",
       "1 Phase 1 System Area NA                 44.04305       -123.0696      \n",
       "2 Phase 1 System Area NA                 44.04310       -123.0696      \n",
       "3 Phase 1 System Area NA                 44.05524       -123.0927      \n",
       "4 Phase 1 System Area NA                 44.04492       -123.0851      \n",
       "5 Phase 1 System Area NA                 44.04525       -123.0727      \n",
       "6 Phase 1 System Area NA                 44.04817       -123.0716      \n",
       "  Start.Date <U+22EF>        Bike.ID Bike.Name Distance..Miles. Duration\n",
       "1 2021-12-01 <U+22EF> 19593   0062      2.50             00:25:10\n",
       "2 2021-12-01 <U+22EF> 19710   0312      2.54             00:23:49\n",
       "3 2021-12-01 <U+22EF> 19734   0204      1.11             00:13:02\n",
       "4 2021-12-01 <U+22EF> 19617   0086      1.24             00:09:20\n",
       "5 2021-12-01 <U+22EF> 19779   0249      0.89             00:07:26\n",
       "6 2021-12-01 <U+22EF> 19806   0276      1.36             00:10:52\n",
       "  Rental.Access.Path  Multiple.Rental Ride.cost Fees Bonuses Total.cost\n",
       "1 keypad              true            0         0    0       0         \n",
       "2 keypad              true            0         0    0       0         \n",
       "3 keypad_phone_number false           0         0    0       0         \n",
       "4 keypad              false           0         0    0       0         \n",
       "5 keypad              false           0         0    0       0         \n",
       "6 keypad              false           0         0    0       0         "
      ]
     },
     "metadata": {},
     "output_type": "display_data"
    }
   ],
   "source": [
    "head(trips)"
   ]
  },
  {
   "cell_type": "code",
   "execution_count": 4,
   "id": "2fae8b83",
   "metadata": {
    "scrolled": true
   },
   "outputs": [
    {
     "data": {
      "text/html": [
       "<style>\n",
       ".list-inline {list-style: none; margin:0; padding: 0}\n",
       ".list-inline>li {display: inline-block}\n",
       ".list-inline>li:not(:last-child)::after {content: \"\\00b7\"; padding: 0 .5ex}\n",
       "</style>\n",
       "<ol class=list-inline><li>'User.ID'</li><li>'Route.ID'</li><li>'Bike.Region.ID'</li><li>'Payment.Plan'</li><li>'Start.Hub'</li><li>'Start.Area'</li><li>'Start.Special.Area'</li><li>'Start.Latitude'</li><li>'Start.Longitude'</li><li>'Start.Date'</li><li>'Start.Time'</li><li>'End.Hub'</li><li>'End.Area'</li><li>'End.Special.Area'</li><li>'End.Latitude'</li><li>'End.Longitude'</li><li>'End.Date'</li><li>'End.Time'</li><li>'Member.Type'</li><li>'Trip.Type'</li><li>'Bike.ID'</li><li>'Bike.Name'</li><li>'Distance..Miles.'</li><li>'Duration'</li><li>'Rental.Access.Path'</li><li>'Multiple.Rental'</li><li>'Ride.cost'</li><li>'Fees'</li><li>'Bonuses'</li><li>'Total.cost'</li></ol>\n"
      ],
      "text/latex": [
       "\\begin{enumerate*}\n",
       "\\item 'User.ID'\n",
       "\\item 'Route.ID'\n",
       "\\item 'Bike.Region.ID'\n",
       "\\item 'Payment.Plan'\n",
       "\\item 'Start.Hub'\n",
       "\\item 'Start.Area'\n",
       "\\item 'Start.Special.Area'\n",
       "\\item 'Start.Latitude'\n",
       "\\item 'Start.Longitude'\n",
       "\\item 'Start.Date'\n",
       "\\item 'Start.Time'\n",
       "\\item 'End.Hub'\n",
       "\\item 'End.Area'\n",
       "\\item 'End.Special.Area'\n",
       "\\item 'End.Latitude'\n",
       "\\item 'End.Longitude'\n",
       "\\item 'End.Date'\n",
       "\\item 'End.Time'\n",
       "\\item 'Member.Type'\n",
       "\\item 'Trip.Type'\n",
       "\\item 'Bike.ID'\n",
       "\\item 'Bike.Name'\n",
       "\\item 'Distance..Miles.'\n",
       "\\item 'Duration'\n",
       "\\item 'Rental.Access.Path'\n",
       "\\item 'Multiple.Rental'\n",
       "\\item 'Ride.cost'\n",
       "\\item 'Fees'\n",
       "\\item 'Bonuses'\n",
       "\\item 'Total.cost'\n",
       "\\end{enumerate*}\n"
      ],
      "text/markdown": [
       "1. 'User.ID'\n",
       "2. 'Route.ID'\n",
       "3. 'Bike.Region.ID'\n",
       "4. 'Payment.Plan'\n",
       "5. 'Start.Hub'\n",
       "6. 'Start.Area'\n",
       "7. 'Start.Special.Area'\n",
       "8. 'Start.Latitude'\n",
       "9. 'Start.Longitude'\n",
       "10. 'Start.Date'\n",
       "11. 'Start.Time'\n",
       "12. 'End.Hub'\n",
       "13. 'End.Area'\n",
       "14. 'End.Special.Area'\n",
       "15. 'End.Latitude'\n",
       "16. 'End.Longitude'\n",
       "17. 'End.Date'\n",
       "18. 'End.Time'\n",
       "19. 'Member.Type'\n",
       "20. 'Trip.Type'\n",
       "21. 'Bike.ID'\n",
       "22. 'Bike.Name'\n",
       "23. 'Distance..Miles.'\n",
       "24. 'Duration'\n",
       "25. 'Rental.Access.Path'\n",
       "26. 'Multiple.Rental'\n",
       "27. 'Ride.cost'\n",
       "28. 'Fees'\n",
       "29. 'Bonuses'\n",
       "30. 'Total.cost'\n",
       "\n",
       "\n"
      ],
      "text/plain": [
       " [1] \"User.ID\"            \"Route.ID\"           \"Bike.Region.ID\"    \n",
       " [4] \"Payment.Plan\"       \"Start.Hub\"          \"Start.Area\"        \n",
       " [7] \"Start.Special.Area\" \"Start.Latitude\"     \"Start.Longitude\"   \n",
       "[10] \"Start.Date\"         \"Start.Time\"         \"End.Hub\"           \n",
       "[13] \"End.Area\"           \"End.Special.Area\"   \"End.Latitude\"      \n",
       "[16] \"End.Longitude\"      \"End.Date\"           \"End.Time\"          \n",
       "[19] \"Member.Type\"        \"Trip.Type\"          \"Bike.ID\"           \n",
       "[22] \"Bike.Name\"          \"Distance..Miles.\"   \"Duration\"          \n",
       "[25] \"Rental.Access.Path\" \"Multiple.Rental\"    \"Ride.cost\"         \n",
       "[28] \"Fees\"               \"Bonuses\"            \"Total.cost\"        "
      ]
     },
     "metadata": {},
     "output_type": "display_data"
    }
   ],
   "source": [
    "names(trips)"
   ]
  },
  {
   "cell_type": "code",
   "execution_count": 5,
   "id": "37d12765",
   "metadata": {},
   "outputs": [
    {
     "data": {
      "text/html": [
       "<style>\n",
       ".list-inline {list-style: none; margin:0; padding: 0}\n",
       ".list-inline>li {display: inline-block}\n",
       ".list-inline>li:not(:last-child)::after {content: \"\\00b7\"; padding: 0 .5ex}\n",
       "</style>\n",
       "<ol class=list-inline><li>4443</li><li>30</li></ol>\n"
      ],
      "text/latex": [
       "\\begin{enumerate*}\n",
       "\\item 4443\n",
       "\\item 30\n",
       "\\end{enumerate*}\n"
      ],
      "text/markdown": [
       "1. 4443\n",
       "2. 30\n",
       "\n",
       "\n"
      ],
      "text/plain": [
       "[1] 4443   30"
      ]
     },
     "metadata": {},
     "output_type": "display_data"
    }
   ],
   "source": [
    "dim(trips)"
   ]
  },
  {
   "cell_type": "code",
   "execution_count": 6,
   "id": "0b1b7118",
   "metadata": {},
   "outputs": [
    {
     "data": {
      "text/html": [
       "<style>\n",
       ".list-inline {list-style: none; margin:0; padding: 0}\n",
       ".list-inline>li {display: inline-block}\n",
       ".list-inline>li:not(:last-child)::after {content: \"\\00b7\"; padding: 0 .5ex}\n",
       "</style>\n",
       "<ol class=list-inline><li>'Knight Law Center'</li><li>'Eugene Train Station'</li><li>''</li><li>'Erb Memorial Union overflow'</li><li>'17th &amp; Hilyard'</li><li>'16th &amp; Willamette'</li><li>'12th &amp; Willamette'</li><li>'Matthew Knight Arena'</li><li>'5th &amp; Lincoln'</li><li>'1600 Millrace Drive'</li><li>'HEDCO Education Building'</li><li>'Franklin Blvd and Walnut North'</li><li>'5th &amp; Pearl, SE corner'</li><li>'PeaceHealth University District'</li><li>'13th &amp; Agate (Virtual Hub)'</li><li>'17th &amp; Pearl, East side'</li><li>'PeaceHealth RiverBend'</li><li>'15th &amp; Ferry'</li><li>'13th &amp; Kincaid'</li><li>'19th and Agate'</li><li>'Event Rack 1 (Virtual Hub)'</li><li>'Eugene Family YMCA'</li><li>'Erb Memorial Union'</li><li>'17th &amp; Moss'</li><li>'Valley River'</li><li>'Eden\\'s Bike Garage (Virtual Hub)'</li><li>'Straub Hall (Virtual Hub)'</li><li>'Lane Events Center'</li><li>'Franklin Blvd &amp; Walnut South'</li><li>'3rd &amp; Lawrence'</li><li>'13th &amp; Lawrence'</li><li>'13th &amp; Pearl, 13th side'</li><li>'Columbia Hall (Virtual Hub)'</li><li>'Oregon Plaza (Virtual Hub)'</li><li>'Amazon Pool'</li><li>'8th &amp; Lincoln'</li><li>'Civic Park (Virtual Hub)'</li><li>'15th &amp; University'</li><li>'Knight Library (Virtual Hub)'</li><li>'Woodfield Station East (Virtual Hub)'</li><li>'2nd &amp; High'</li><li>'10th &amp; Olive NE'</li><li>'Skinner Butte Park'</li><li>'Joey\\'s Bike Garage (Virtual Hub)'</li><li>'13th &amp; Pearl, Pearl side'</li><li>'8th &amp; Ferry'</li><li>'Autzen Footbridge'</li><li>'10th &amp; Olive SE'</li><li>'4th &amp; Blair'</li><li>'2nd &amp; Madison'</li><li>'10th &amp; Pearl'</li><li>'6th &amp; Monroe'</li><li>'6th &amp; Willamette'</li><li>'Broadway &amp; Willamette'</li><li>'Amazon LTD Station (Virtual Hub)'</li><li>'5th &amp; Pearl, NW corner'</li><li>'Monroe St &amp; Blair Blvd '</li><li>'17th &amp; Pearl, West side'</li><li>'Broadway &amp; High'</li><li>'Woodfield Station West (Virtual Hub)'</li><li>'Millrace Garage'</li></ol>\n"
      ],
      "text/latex": [
       "\\begin{enumerate*}\n",
       "\\item 'Knight Law Center'\n",
       "\\item 'Eugene Train Station'\n",
       "\\item ''\n",
       "\\item 'Erb Memorial Union overflow'\n",
       "\\item '17th \\& Hilyard'\n",
       "\\item '16th \\& Willamette'\n",
       "\\item '12th \\& Willamette'\n",
       "\\item 'Matthew Knight Arena'\n",
       "\\item '5th \\& Lincoln'\n",
       "\\item '1600 Millrace Drive'\n",
       "\\item 'HEDCO Education Building'\n",
       "\\item 'Franklin Blvd and Walnut North'\n",
       "\\item '5th \\& Pearl, SE corner'\n",
       "\\item 'PeaceHealth University District'\n",
       "\\item '13th \\& Agate (Virtual Hub)'\n",
       "\\item '17th \\& Pearl, East side'\n",
       "\\item 'PeaceHealth RiverBend'\n",
       "\\item '15th \\& Ferry'\n",
       "\\item '13th \\& Kincaid'\n",
       "\\item '19th and Agate'\n",
       "\\item 'Event Rack 1 (Virtual Hub)'\n",
       "\\item 'Eugene Family YMCA'\n",
       "\\item 'Erb Memorial Union'\n",
       "\\item '17th \\& Moss'\n",
       "\\item 'Valley River'\n",
       "\\item 'Eden\\textbackslash{}'s Bike Garage (Virtual Hub)'\n",
       "\\item 'Straub Hall (Virtual Hub)'\n",
       "\\item 'Lane Events Center'\n",
       "\\item 'Franklin Blvd \\& Walnut South'\n",
       "\\item '3rd \\& Lawrence'\n",
       "\\item '13th \\& Lawrence'\n",
       "\\item '13th \\& Pearl, 13th side'\n",
       "\\item 'Columbia Hall (Virtual Hub)'\n",
       "\\item 'Oregon Plaza (Virtual Hub)'\n",
       "\\item 'Amazon Pool'\n",
       "\\item '8th \\& Lincoln'\n",
       "\\item 'Civic Park (Virtual Hub)'\n",
       "\\item '15th \\& University'\n",
       "\\item 'Knight Library (Virtual Hub)'\n",
       "\\item 'Woodfield Station East (Virtual Hub)'\n",
       "\\item '2nd \\& High'\n",
       "\\item '10th \\& Olive NE'\n",
       "\\item 'Skinner Butte Park'\n",
       "\\item 'Joey\\textbackslash{}'s Bike Garage (Virtual Hub)'\n",
       "\\item '13th \\& Pearl, Pearl side'\n",
       "\\item '8th \\& Ferry'\n",
       "\\item 'Autzen Footbridge'\n",
       "\\item '10th \\& Olive SE'\n",
       "\\item '4th \\& Blair'\n",
       "\\item '2nd \\& Madison'\n",
       "\\item '10th \\& Pearl'\n",
       "\\item '6th \\& Monroe'\n",
       "\\item '6th \\& Willamette'\n",
       "\\item 'Broadway \\& Willamette'\n",
       "\\item 'Amazon LTD Station (Virtual Hub)'\n",
       "\\item '5th \\& Pearl, NW corner'\n",
       "\\item 'Monroe St \\& Blair Blvd '\n",
       "\\item '17th \\& Pearl, West side'\n",
       "\\item 'Broadway \\& High'\n",
       "\\item 'Woodfield Station West (Virtual Hub)'\n",
       "\\item 'Millrace Garage'\n",
       "\\end{enumerate*}\n"
      ],
      "text/markdown": [
       "1. 'Knight Law Center'\n",
       "2. 'Eugene Train Station'\n",
       "3. ''\n",
       "4. 'Erb Memorial Union overflow'\n",
       "5. '17th &amp; Hilyard'\n",
       "6. '16th &amp; Willamette'\n",
       "7. '12th &amp; Willamette'\n",
       "8. 'Matthew Knight Arena'\n",
       "9. '5th &amp; Lincoln'\n",
       "10. '1600 Millrace Drive'\n",
       "11. 'HEDCO Education Building'\n",
       "12. 'Franklin Blvd and Walnut North'\n",
       "13. '5th &amp; Pearl, SE corner'\n",
       "14. 'PeaceHealth University District'\n",
       "15. '13th &amp; Agate (Virtual Hub)'\n",
       "16. '17th &amp; Pearl, East side'\n",
       "17. 'PeaceHealth RiverBend'\n",
       "18. '15th &amp; Ferry'\n",
       "19. '13th &amp; Kincaid'\n",
       "20. '19th and Agate'\n",
       "21. 'Event Rack 1 (Virtual Hub)'\n",
       "22. 'Eugene Family YMCA'\n",
       "23. 'Erb Memorial Union'\n",
       "24. '17th &amp; Moss'\n",
       "25. 'Valley River'\n",
       "26. 'Eden\\'s Bike Garage (Virtual Hub)'\n",
       "27. 'Straub Hall (Virtual Hub)'\n",
       "28. 'Lane Events Center'\n",
       "29. 'Franklin Blvd &amp; Walnut South'\n",
       "30. '3rd &amp; Lawrence'\n",
       "31. '13th &amp; Lawrence'\n",
       "32. '13th &amp; Pearl, 13th side'\n",
       "33. 'Columbia Hall (Virtual Hub)'\n",
       "34. 'Oregon Plaza (Virtual Hub)'\n",
       "35. 'Amazon Pool'\n",
       "36. '8th &amp; Lincoln'\n",
       "37. 'Civic Park (Virtual Hub)'\n",
       "38. '15th &amp; University'\n",
       "39. 'Knight Library (Virtual Hub)'\n",
       "40. 'Woodfield Station East (Virtual Hub)'\n",
       "41. '2nd &amp; High'\n",
       "42. '10th &amp; Olive NE'\n",
       "43. 'Skinner Butte Park'\n",
       "44. 'Joey\\'s Bike Garage (Virtual Hub)'\n",
       "45. '13th &amp; Pearl, Pearl side'\n",
       "46. '8th &amp; Ferry'\n",
       "47. 'Autzen Footbridge'\n",
       "48. '10th &amp; Olive SE'\n",
       "49. '4th &amp; Blair'\n",
       "50. '2nd &amp; Madison'\n",
       "51. '10th &amp; Pearl'\n",
       "52. '6th &amp; Monroe'\n",
       "53. '6th &amp; Willamette'\n",
       "54. 'Broadway &amp; Willamette'\n",
       "55. 'Amazon LTD Station (Virtual Hub)'\n",
       "56. '5th &amp; Pearl, NW corner'\n",
       "57. 'Monroe St &amp; Blair Blvd '\n",
       "58. '17th &amp; Pearl, West side'\n",
       "59. 'Broadway &amp; High'\n",
       "60. 'Woodfield Station West (Virtual Hub)'\n",
       "61. 'Millrace Garage'\n",
       "\n",
       "\n"
      ],
      "text/plain": [
       " [1] \"Knight Law Center\"                   \n",
       " [2] \"Eugene Train Station\"                \n",
       " [3] \"\"                                    \n",
       " [4] \"Erb Memorial Union overflow\"         \n",
       " [5] \"17th & Hilyard\"                      \n",
       " [6] \"16th & Willamette\"                   \n",
       " [7] \"12th & Willamette\"                   \n",
       " [8] \"Matthew Knight Arena\"                \n",
       " [9] \"5th & Lincoln\"                       \n",
       "[10] \"1600 Millrace Drive\"                 \n",
       "[11] \"HEDCO Education Building\"            \n",
       "[12] \"Franklin Blvd and Walnut North\"      \n",
       "[13] \"5th & Pearl, SE corner\"              \n",
       "[14] \"PeaceHealth University District\"     \n",
       "[15] \"13th & Agate (Virtual Hub)\"          \n",
       "[16] \"17th & Pearl, East side\"             \n",
       "[17] \"PeaceHealth RiverBend\"               \n",
       "[18] \"15th & Ferry\"                        \n",
       "[19] \"13th & Kincaid\"                      \n",
       "[20] \"19th and Agate\"                      \n",
       "[21] \"Event Rack 1 (Virtual Hub)\"          \n",
       "[22] \"Eugene Family YMCA\"                  \n",
       "[23] \"Erb Memorial Union\"                  \n",
       "[24] \"17th & Moss\"                         \n",
       "[25] \"Valley River\"                        \n",
       "[26] \"Eden's Bike Garage (Virtual Hub)\"    \n",
       "[27] \"Straub Hall (Virtual Hub)\"           \n",
       "[28] \"Lane Events Center\"                  \n",
       "[29] \"Franklin Blvd & Walnut South\"        \n",
       "[30] \"3rd & Lawrence\"                      \n",
       "[31] \"13th & Lawrence\"                     \n",
       "[32] \"13th & Pearl, 13th side\"             \n",
       "[33] \"Columbia Hall (Virtual Hub)\"         \n",
       "[34] \"Oregon Plaza (Virtual Hub)\"          \n",
       "[35] \"Amazon Pool\"                         \n",
       "[36] \"8th & Lincoln\"                       \n",
       "[37] \"Civic Park (Virtual Hub)\"            \n",
       "[38] \"15th & University\"                   \n",
       "[39] \"Knight Library (Virtual Hub)\"        \n",
       "[40] \"Woodfield Station East (Virtual Hub)\"\n",
       "[41] \"2nd & High\"                          \n",
       "[42] \"10th & Olive NE\"                     \n",
       "[43] \"Skinner Butte Park\"                  \n",
       "[44] \"Joey's Bike Garage (Virtual Hub)\"    \n",
       "[45] \"13th & Pearl, Pearl side\"            \n",
       "[46] \"8th & Ferry\"                         \n",
       "[47] \"Autzen Footbridge\"                   \n",
       "[48] \"10th & Olive SE\"                     \n",
       "[49] \"4th & Blair\"                         \n",
       "[50] \"2nd & Madison\"                       \n",
       "[51] \"10th & Pearl\"                        \n",
       "[52] \"6th & Monroe\"                        \n",
       "[53] \"6th & Willamette\"                    \n",
       "[54] \"Broadway & Willamette\"               \n",
       "[55] \"Amazon LTD Station (Virtual Hub)\"    \n",
       "[56] \"5th & Pearl, NW corner\"              \n",
       "[57] \"Monroe St & Blair Blvd \"             \n",
       "[58] \"17th & Pearl, West side\"             \n",
       "[59] \"Broadway & High\"                     \n",
       "[60] \"Woodfield Station West (Virtual Hub)\"\n",
       "[61] \"Millrace Garage\"                     "
      ]
     },
     "metadata": {},
     "output_type": "display_data"
    }
   ],
   "source": [
    "unique(trips$Start.Hub)"
   ]
  },
  {
   "cell_type": "code",
   "execution_count": 7,
   "id": "0b3f9361",
   "metadata": {},
   "outputs": [],
   "source": [
    "org <- trips[,c('Route.ID', 'Bike.ID', 'User.ID', 'Start.Hub', 'Start.Latitude', 'Start.Longitude')]"
   ]
  },
  {
   "cell_type": "code",
   "execution_count": 8,
   "id": "e46e8dd2",
   "metadata": {},
   "outputs": [],
   "source": [
    "names(org) <- c(\"RouteID\", \"BikeID\", 'UserID', \"Location\", \"Latitude\", \"Longitude\")"
   ]
  },
  {
   "cell_type": "code",
   "execution_count": 9,
   "id": "ac83ab10",
   "metadata": {},
   "outputs": [],
   "source": [
    "org$OriginDestination <- rep(\"Origin\", dim(org)[1])"
   ]
  },
  {
   "cell_type": "code",
   "execution_count": 10,
   "id": "b7e4270e",
   "metadata": {},
   "outputs": [],
   "source": [
    "dst <- trips[,c('Route.ID', 'Bike.ID', 'User.ID', 'End.Hub', 'End.Latitude', 'End.Longitude')]"
   ]
  },
  {
   "cell_type": "code",
   "execution_count": 11,
   "id": "bc2ae1b9",
   "metadata": {},
   "outputs": [],
   "source": [
    "names(dst) <- c(\"RouteID\", \"BikeID\", 'UserID', \"Location\", \"Latitude\", \"Longitude\")"
   ]
  },
  {
   "cell_type": "code",
   "execution_count": 12,
   "id": "673d5b2c",
   "metadata": {},
   "outputs": [],
   "source": [
    "dst$OriginDestination <- rep(\"Destination\", dim(dst)[1])"
   ]
  },
  {
   "cell_type": "code",
   "execution_count": 13,
   "id": "c13594e8",
   "metadata": {},
   "outputs": [],
   "source": [
    "df <- rbind(org, dst)"
   ]
  },
  {
   "cell_type": "code",
   "execution_count": 14,
   "id": "57fbf460",
   "metadata": {},
   "outputs": [],
   "source": [
    "write.csv(df, \"T:/DCProjects/StoryMap/BikeCounting/BikeShare/Data/bike_share_locations.csv\", row.names=FALSE)"
   ]
  }
 ],
 "metadata": {
  "kernelspec": {
   "display_name": "R",
   "language": "R",
   "name": "ir"
  },
  "language_info": {
   "codemirror_mode": "r",
   "file_extension": ".r",
   "mimetype": "text/x-r-source",
   "name": "R",
   "pygments_lexer": "r",
   "version": "4.0.3"
  }
 },
 "nbformat": 4,
 "nbformat_minor": 5
}
