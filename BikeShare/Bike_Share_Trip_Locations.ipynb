{
 "cells": [
  {
   "cell_type": "code",
   "execution_count": 1,
   "id": "26499311",
   "metadata": {},
   "outputs": [
    {
     "name": "stderr",
     "output_type": "stream",
     "text": [
      "<ipython-input-1-863b54eaad45>:10: TqdmDeprecationWarning: This function will be removed in tqdm==5.0.0\n",
      "Please use `tqdm.notebook.*` instead of `tqdm._tqdm_notebook.*`\n",
      "  from tqdm._tqdm_notebook import tqdm_notebook\n"
     ]
    }
   ],
   "source": [
    "#load_ext autotime\n",
    "import pandas as pd\n",
    "import geopandas as gpd\n",
    "import geopy\n",
    "from geopy.geocoders import Nominatim\n",
    "from geopy.extra.rate_limiter import RateLimiter\n",
    "import matplotlib.pyplot as plt\n",
    "import plotly_express as px\n",
    "import tqdm\n",
    "from tqdm._tqdm_notebook import tqdm_notebook"
   ]
  },
  {
   "cell_type": "code",
   "execution_count": 2,
   "id": "dda0054b",
   "metadata": {},
   "outputs": [],
   "source": [
    "locator = Nominatim(user_agent=\"measurements\")"
   ]
  },
  {
   "cell_type": "code",
   "execution_count": 3,
   "id": "1a133af9",
   "metadata": {},
   "outputs": [
    {
     "data": {
      "text/html": [
       "<div>\n",
       "<style scoped>\n",
       "    .dataframe tbody tr th:only-of-type {\n",
       "        vertical-align: middle;\n",
       "    }\n",
       "\n",
       "    .dataframe tbody tr th {\n",
       "        vertical-align: top;\n",
       "    }\n",
       "\n",
       "    .dataframe thead th {\n",
       "        text-align: right;\n",
       "    }\n",
       "</style>\n",
       "<table border=\"1\" class=\"dataframe\">\n",
       "  <thead>\n",
       "    <tr style=\"text-align: right;\">\n",
       "      <th></th>\n",
       "      <th>RouteID</th>\n",
       "      <th>BikeID</th>\n",
       "      <th>Location</th>\n",
       "      <th>Latitude</th>\n",
       "      <th>Longitude</th>\n",
       "      <th>OriginDestination</th>\n",
       "    </tr>\n",
       "  </thead>\n",
       "  <tbody>\n",
       "    <tr>\n",
       "      <th>0</th>\n",
       "      <td>14193596</td>\n",
       "      <td>19593</td>\n",
       "      <td>Knight Law Center</td>\n",
       "      <td>44.043053</td>\n",
       "      <td>-123.069570</td>\n",
       "      <td>Origin</td>\n",
       "    </tr>\n",
       "    <tr>\n",
       "      <th>1</th>\n",
       "      <td>14193597</td>\n",
       "      <td>19710</td>\n",
       "      <td>Knight Law Center</td>\n",
       "      <td>44.043103</td>\n",
       "      <td>-123.069593</td>\n",
       "      <td>Origin</td>\n",
       "    </tr>\n",
       "    <tr>\n",
       "      <th>2</th>\n",
       "      <td>14193598</td>\n",
       "      <td>19734</td>\n",
       "      <td>Eugene Train Station</td>\n",
       "      <td>44.055235</td>\n",
       "      <td>-123.092733</td>\n",
       "      <td>Origin</td>\n",
       "    </tr>\n",
       "    <tr>\n",
       "      <th>3</th>\n",
       "      <td>14193600</td>\n",
       "      <td>19617</td>\n",
       "      <td>NaN</td>\n",
       "      <td>44.044918</td>\n",
       "      <td>-123.085150</td>\n",
       "      <td>Origin</td>\n",
       "    </tr>\n",
       "    <tr>\n",
       "      <th>4</th>\n",
       "      <td>14193601</td>\n",
       "      <td>19779</td>\n",
       "      <td>Erb Memorial Union overflow</td>\n",
       "      <td>44.045250</td>\n",
       "      <td>-123.072697</td>\n",
       "      <td>Origin</td>\n",
       "    </tr>\n",
       "  </tbody>\n",
       "</table>\n",
       "</div>"
      ],
      "text/plain": [
       "    RouteID  BikeID                     Location   Latitude   Longitude  \\\n",
       "0  14193596   19593            Knight Law Center  44.043053 -123.069570   \n",
       "1  14193597   19710            Knight Law Center  44.043103 -123.069593   \n",
       "2  14193598   19734         Eugene Train Station  44.055235 -123.092733   \n",
       "3  14193600   19617                          NaN  44.044918 -123.085150   \n",
       "4  14193601   19779  Erb Memorial Union overflow  44.045250 -123.072697   \n",
       "\n",
       "  OriginDestination  \n",
       "0            Origin  \n",
       "1            Origin  \n",
       "2            Origin  \n",
       "3            Origin  \n",
       "4            Origin  "
      ]
     },
     "execution_count": 3,
     "metadata": {},
     "output_type": "execute_result"
    }
   ],
   "source": [
    "df = pd.read_csv(r\"T:\\DCProjects\\StoryMap\\BikeCounting\\BikeShare\\Data\\bike_share_locations.csv\")\n",
    "df.head()"
   ]
  },
  {
   "cell_type": "code",
   "execution_count": 4,
   "id": "134bb273",
   "metadata": {},
   "outputs": [
    {
     "data": {
      "text/plain": [
       "'44.0430533333333,-123.06957'"
      ]
     },
     "execution_count": 4,
     "metadata": {},
     "output_type": "execute_result"
    }
   ],
   "source": [
    "df[\"geom\"] = df[\"Latitude\"].map(str) + ',' + df['Longitude'].map(str)\n",
    "df[\"geom\"][0]"
   ]
  },
  {
   "cell_type": "code",
   "execution_count": 5,
   "id": "c53a36d6",
   "metadata": {},
   "outputs": [],
   "source": [
    "locator = Nominatim(user_agent=\"measurements\", timeout=10)\n",
    "rgeocode = RateLimiter(locator.reverse, min_delay_seconds=0.00001)"
   ]
  },
  {
   "cell_type": "code",
   "execution_count": 6,
   "id": "eb901fa9",
   "metadata": {},
   "outputs": [],
   "source": [
    "tqdm_notebook.pandas()"
   ]
  },
  {
   "cell_type": "code",
   "execution_count": null,
   "id": "bbb6cdd0",
   "metadata": {},
   "outputs": [
    {
     "data": {
      "application/vnd.jupyter.widget-view+json": {
       "model_id": "38e20fd8128e4227a8f15358c31715a7",
       "version_major": 2,
       "version_minor": 0
      },
      "text/plain": [
       "  0%|          | 0/8886 [00:00<?, ?it/s]"
      ]
     },
     "metadata": {},
     "output_type": "display_data"
    }
   ],
   "source": [
    "df['address'] = df['geom'].progress_apply(rgeocode)\n",
    "df.head()"
   ]
  },
  {
   "cell_type": "code",
   "execution_count": null,
   "id": "5aed02ed",
   "metadata": {},
   "outputs": [],
   "source": [
    "df.address[1]"
   ]
  }
 ],
 "metadata": {
  "kernelspec": {
   "display_name": "Python 3",
   "language": "python",
   "name": "python3"
  },
  "language_info": {
   "codemirror_mode": {
    "name": "ipython",
    "version": 3
   },
   "file_extension": ".py",
   "mimetype": "text/x-python",
   "name": "python",
   "nbconvert_exporter": "python",
   "pygments_lexer": "ipython3",
   "version": "3.8.8"
  }
 },
 "nbformat": 4,
 "nbformat_minor": 5
}
