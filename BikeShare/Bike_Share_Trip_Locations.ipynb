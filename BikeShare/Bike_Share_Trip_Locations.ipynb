{
 "cells": [
  {
   "cell_type": "code",
   "execution_count": 1,
   "id": "26499311",
   "metadata": {},
   "outputs": [
    {
     "name": "stderr",
     "output_type": "stream",
     "text": [
      "<ipython-input-1-863b54eaad45>:10: TqdmDeprecationWarning: This function will be removed in tqdm==5.0.0\n",
      "Please use `tqdm.notebook.*` instead of `tqdm._tqdm_notebook.*`\n",
      "  from tqdm._tqdm_notebook import tqdm_notebook\n"
     ]
    }
   ],
   "source": [
    "#load_ext autotime\n",
    "import pandas as pd\n",
    "import geopandas as gpd\n",
    "import geopy\n",
    "from geopy.geocoders import Nominatim\n",
    "from geopy.extra.rate_limiter import RateLimiter\n",
    "import matplotlib.pyplot as plt\n",
    "import plotly_express as px\n",
    "import tqdm\n",
    "from tqdm._tqdm_notebook import tqdm_notebook"
   ]
  },
  {
   "cell_type": "code",
   "execution_count": 2,
   "id": "91454ac7",
   "metadata": {},
   "outputs": [],
   "source": [
    "locator = Nominatim(user_agent=\"measurements\")"
   ]
  },
  {
   "cell_type": "code",
   "execution_count": 3,
   "id": "a06aefd7",
   "metadata": {},
   "outputs": [
    {
     "data": {
      "text/html": [
       "<div>\n",
       "<style scoped>\n",
       "    .dataframe tbody tr th:only-of-type {\n",
       "        vertical-align: middle;\n",
       "    }\n",
       "\n",
       "    .dataframe tbody tr th {\n",
       "        vertical-align: top;\n",
       "    }\n",
       "\n",
       "    .dataframe thead th {\n",
       "        text-align: right;\n",
       "    }\n",
       "</style>\n",
       "<table border=\"1\" class=\"dataframe\">\n",
       "  <thead>\n",
       "    <tr style=\"text-align: right;\">\n",
       "      <th></th>\n",
       "      <th>RouteID</th>\n",
       "      <th>BikeID</th>\n",
       "      <th>UserID</th>\n",
       "      <th>Location</th>\n",
       "      <th>Latitude</th>\n",
       "      <th>Longitude</th>\n",
       "      <th>OriginDestination</th>\n",
       "    </tr>\n",
       "  </thead>\n",
       "  <tbody>\n",
       "    <tr>\n",
       "      <th>0</th>\n",
       "      <td>14193596</td>\n",
       "      <td>19593</td>\n",
       "      <td>2156242</td>\n",
       "      <td>Knight Law Center</td>\n",
       "      <td>44.043053</td>\n",
       "      <td>-123.069570</td>\n",
       "      <td>Origin</td>\n",
       "    </tr>\n",
       "    <tr>\n",
       "      <th>1</th>\n",
       "      <td>14193597</td>\n",
       "      <td>19710</td>\n",
       "      <td>2156242</td>\n",
       "      <td>Knight Law Center</td>\n",
       "      <td>44.043103</td>\n",
       "      <td>-123.069593</td>\n",
       "      <td>Origin</td>\n",
       "    </tr>\n",
       "    <tr>\n",
       "      <th>2</th>\n",
       "      <td>14193598</td>\n",
       "      <td>19734</td>\n",
       "      <td>2024943</td>\n",
       "      <td>Eugene Train Station</td>\n",
       "      <td>44.055235</td>\n",
       "      <td>-123.092733</td>\n",
       "      <td>Origin</td>\n",
       "    </tr>\n",
       "    <tr>\n",
       "      <th>3</th>\n",
       "      <td>14193600</td>\n",
       "      <td>19617</td>\n",
       "      <td>2203210</td>\n",
       "      <td>NaN</td>\n",
       "      <td>44.044918</td>\n",
       "      <td>-123.085150</td>\n",
       "      <td>Origin</td>\n",
       "    </tr>\n",
       "    <tr>\n",
       "      <th>4</th>\n",
       "      <td>14193601</td>\n",
       "      <td>19779</td>\n",
       "      <td>2166326</td>\n",
       "      <td>Erb Memorial Union overflow</td>\n",
       "      <td>44.045250</td>\n",
       "      <td>-123.072697</td>\n",
       "      <td>Origin</td>\n",
       "    </tr>\n",
       "  </tbody>\n",
       "</table>\n",
       "</div>"
      ],
      "text/plain": [
       "    RouteID  BikeID   UserID                     Location   Latitude  \\\n",
       "0  14193596   19593  2156242            Knight Law Center  44.043053   \n",
       "1  14193597   19710  2156242            Knight Law Center  44.043103   \n",
       "2  14193598   19734  2024943         Eugene Train Station  44.055235   \n",
       "3  14193600   19617  2203210                          NaN  44.044918   \n",
       "4  14193601   19779  2166326  Erb Memorial Union overflow  44.045250   \n",
       "\n",
       "    Longitude OriginDestination  \n",
       "0 -123.069570            Origin  \n",
       "1 -123.069593            Origin  \n",
       "2 -123.092733            Origin  \n",
       "3 -123.085150            Origin  \n",
       "4 -123.072697            Origin  "
      ]
     },
     "execution_count": 3,
     "metadata": {},
     "output_type": "execute_result"
    }
   ],
   "source": [
    "df = pd.read_csv(r\"T:\\DCProjects\\StoryMap\\BikeCounting\\BikeShare\\Data\\bike_share_locations.csv\")\n",
    "df.head()"
   ]
  },
  {
   "cell_type": "code",
   "execution_count": 4,
   "id": "6715cb81",
   "metadata": {},
   "outputs": [
    {
     "data": {
      "text/plain": [
       "'44.0430533333333,-123.06957'"
      ]
     },
     "execution_count": 4,
     "metadata": {},
     "output_type": "execute_result"
    }
   ],
   "source": [
    "df[\"geom\"] = df[\"Latitude\"].map(str) + ',' + df['Longitude'].map(str)\n",
    "df[\"geom\"][0]"
   ]
  },
  {
   "cell_type": "code",
   "execution_count": 5,
   "id": "09d14a91",
   "metadata": {},
   "outputs": [],
   "source": [
    "locator = Nominatim(user_agent=\"measurements\", timeout=10)\n",
    "rgeocode = RateLimiter(locator.reverse, min_delay_seconds=0.00001)"
   ]
  },
  {
   "cell_type": "code",
   "execution_count": 6,
   "id": "089d9cec",
   "metadata": {},
   "outputs": [],
   "source": [
    "tqdm_notebook.pandas()"
   ]
  },
  {
   "cell_type": "code",
   "execution_count": 7,
   "id": "d440e446",
   "metadata": {},
   "outputs": [
    {
     "data": {
      "application/vnd.jupyter.widget-view+json": {
       "model_id": "140a628f085f4022b2f77ec03c7e722d",
       "version_major": 2,
       "version_minor": 0
      },
      "text/plain": [
       "  0%|          | 0/8886 [00:00<?, ?it/s]"
      ]
     },
     "metadata": {},
     "output_type": "display_data"
    },
    {
     "data": {
      "text/html": [
       "<div>\n",
       "<style scoped>\n",
       "    .dataframe tbody tr th:only-of-type {\n",
       "        vertical-align: middle;\n",
       "    }\n",
       "\n",
       "    .dataframe tbody tr th {\n",
       "        vertical-align: top;\n",
       "    }\n",
       "\n",
       "    .dataframe thead th {\n",
       "        text-align: right;\n",
       "    }\n",
       "</style>\n",
       "<table border=\"1\" class=\"dataframe\">\n",
       "  <thead>\n",
       "    <tr style=\"text-align: right;\">\n",
       "      <th></th>\n",
       "      <th>RouteID</th>\n",
       "      <th>BikeID</th>\n",
       "      <th>UserID</th>\n",
       "      <th>Location</th>\n",
       "      <th>Latitude</th>\n",
       "      <th>Longitude</th>\n",
       "      <th>OriginDestination</th>\n",
       "      <th>geom</th>\n",
       "      <th>address</th>\n",
       "    </tr>\n",
       "  </thead>\n",
       "  <tbody>\n",
       "    <tr>\n",
       "      <th>0</th>\n",
       "      <td>14193596</td>\n",
       "      <td>19593</td>\n",
       "      <td>2156242</td>\n",
       "      <td>Knight Law Center</td>\n",
       "      <td>44.043053</td>\n",
       "      <td>-123.069570</td>\n",
       "      <td>Origin</td>\n",
       "      <td>44.0430533333333,-123.06957</td>\n",
       "      <td>(University of Oregon, Sunset Alley, Eugene, L...</td>\n",
       "    </tr>\n",
       "    <tr>\n",
       "      <th>1</th>\n",
       "      <td>14193597</td>\n",
       "      <td>19710</td>\n",
       "      <td>2156242</td>\n",
       "      <td>Knight Law Center</td>\n",
       "      <td>44.043103</td>\n",
       "      <td>-123.069593</td>\n",
       "      <td>Origin</td>\n",
       "      <td>44.0431033333333,-123.069593333333</td>\n",
       "      <td>(University of Oregon, Sunset Alley, Eugene, L...</td>\n",
       "    </tr>\n",
       "    <tr>\n",
       "      <th>2</th>\n",
       "      <td>14193598</td>\n",
       "      <td>19734</td>\n",
       "      <td>2024943</td>\n",
       "      <td>Eugene Train Station</td>\n",
       "      <td>44.055235</td>\n",
       "      <td>-123.092733</td>\n",
       "      <td>Origin</td>\n",
       "      <td>44.055235,-123.092733333333</td>\n",
       "      <td>(Peace Health Rides, Willamette Street, Eugene...</td>\n",
       "    </tr>\n",
       "    <tr>\n",
       "      <th>3</th>\n",
       "      <td>14193600</td>\n",
       "      <td>19617</td>\n",
       "      <td>2203210</td>\n",
       "      <td>NaN</td>\n",
       "      <td>44.044918</td>\n",
       "      <td>-123.085150</td>\n",
       "      <td>Origin</td>\n",
       "      <td>44.0449183333333,-123.08515</td>\n",
       "      <td>(1351, Ferry Street, College Hill, Eugene, Lan...</td>\n",
       "    </tr>\n",
       "    <tr>\n",
       "      <th>4</th>\n",
       "      <td>14193601</td>\n",
       "      <td>19779</td>\n",
       "      <td>2166326</td>\n",
       "      <td>Erb Memorial Union overflow</td>\n",
       "      <td>44.045250</td>\n",
       "      <td>-123.072697</td>\n",
       "      <td>Origin</td>\n",
       "      <td>44.04525,-123.072696666667</td>\n",
       "      <td>(University of Oregon, Sunset Alley, Eugene, L...</td>\n",
       "    </tr>\n",
       "  </tbody>\n",
       "</table>\n",
       "</div>"
      ],
      "text/plain": [
       "    RouteID  BikeID   UserID                     Location   Latitude  \\\n",
       "0  14193596   19593  2156242            Knight Law Center  44.043053   \n",
       "1  14193597   19710  2156242            Knight Law Center  44.043103   \n",
       "2  14193598   19734  2024943         Eugene Train Station  44.055235   \n",
       "3  14193600   19617  2203210                          NaN  44.044918   \n",
       "4  14193601   19779  2166326  Erb Memorial Union overflow  44.045250   \n",
       "\n",
       "    Longitude OriginDestination                                geom  \\\n",
       "0 -123.069570            Origin         44.0430533333333,-123.06957   \n",
       "1 -123.069593            Origin  44.0431033333333,-123.069593333333   \n",
       "2 -123.092733            Origin         44.055235,-123.092733333333   \n",
       "3 -123.085150            Origin         44.0449183333333,-123.08515   \n",
       "4 -123.072697            Origin          44.04525,-123.072696666667   \n",
       "\n",
       "                                             address  \n",
       "0  (University of Oregon, Sunset Alley, Eugene, L...  \n",
       "1  (University of Oregon, Sunset Alley, Eugene, L...  \n",
       "2  (Peace Health Rides, Willamette Street, Eugene...  \n",
       "3  (1351, Ferry Street, College Hill, Eugene, Lan...  \n",
       "4  (University of Oregon, Sunset Alley, Eugene, L...  "
      ]
     },
     "execution_count": 7,
     "metadata": {},
     "output_type": "execute_result"
    }
   ],
   "source": [
    "df['address'] = df['geom'].progress_apply(rgeocode)\n",
    "df.head()"
   ]
  },
  {
   "cell_type": "code",
   "execution_count": 8,
   "id": "422356ec",
   "metadata": {},
   "outputs": [
    {
     "data": {
      "text/plain": [
       "Location(University of Oregon, Sunset Alley, Eugene, Lane County, Oregon, 97403, United States, (44.044551549999994, -123.07173597767621, 0.0))"
      ]
     },
     "execution_count": 8,
     "metadata": {},
     "output_type": "execute_result"
    }
   ],
   "source": [
    "df.address[1]"
   ]
  },
  {
   "cell_type": "code",
   "execution_count": 9,
   "id": "1ebb8f03",
   "metadata": {},
   "outputs": [
    {
     "data": {
      "text/plain": [
       "True"
      ]
     },
     "execution_count": 9,
     "metadata": {},
     "output_type": "execute_result"
    }
   ],
   "source": [
    "df.Location.isnull().values[3]"
   ]
  },
  {
   "cell_type": "code",
   "execution_count": 10,
   "id": "9b477a7b",
   "metadata": {},
   "outputs": [],
   "source": [
    "def getLoc(x):\n",
    "    loc = x.raw['address']\n",
    "    a = [key for key, value in loc.items()][0]\n",
    "    if  a == 'house_number':\n",
    "        res = loc['road'] + ' ' + loc['house_number']\n",
    "    else:\n",
    "        res = loc[a]\n",
    "    return res"
   ]
  },
  {
   "cell_type": "code",
   "execution_count": 11,
   "id": "3098c4f6",
   "metadata": {},
   "outputs": [
    {
     "data": {
      "text/plain": [
       "'Millrace Studios'"
      ]
     },
     "execution_count": 11,
     "metadata": {},
     "output_type": "execute_result"
    }
   ],
   "source": [
    "getLoc(df[df.Location.isnull().values].address.values[1])"
   ]
  },
  {
   "cell_type": "code",
   "execution_count": 12,
   "id": "8f717285",
   "metadata": {},
   "outputs": [],
   "source": [
    "df['Name'] = df.address.apply(lambda x: getLoc(x))"
   ]
  },
  {
   "cell_type": "code",
   "execution_count": 13,
   "id": "5d28081a",
   "metadata": {},
   "outputs": [],
   "source": [
    "df.loc[df.Location.isnull(), 'Location'] = df.loc[df.Location.isnull(), 'Name']"
   ]
  },
  {
   "cell_type": "code",
   "execution_count": 18,
   "id": "1c2ac4fb",
   "metadata": {},
   "outputs": [],
   "source": [
    "for i in df.RouteID.unique():\n",
    "    idx1 = ((df['RouteID'] == i) & (df['OriginDestination'] =='Origin'))\n",
    "    idx2 = ((df['RouteID'] == i) & (df['OriginDestination'] =='Destination'))\n",
    "    pathID = df.loc[idx1, 'Location'].values[0] + ' - ' + df.loc[idx2, 'Location'].values[0]\n",
    "    df.loc[idx1, 'PathID'] = pathID\n",
    "    df.loc[idx2, 'PathID'] = pathID"
   ]
  },
  {
   "cell_type": "code",
   "execution_count": 19,
   "id": "8d5285ac",
   "metadata": {},
   "outputs": [
    {
     "data": {
      "text/html": [
       "<div>\n",
       "<style scoped>\n",
       "    .dataframe tbody tr th:only-of-type {\n",
       "        vertical-align: middle;\n",
       "    }\n",
       "\n",
       "    .dataframe tbody tr th {\n",
       "        vertical-align: top;\n",
       "    }\n",
       "\n",
       "    .dataframe thead th {\n",
       "        text-align: right;\n",
       "    }\n",
       "</style>\n",
       "<table border=\"1\" class=\"dataframe\">\n",
       "  <thead>\n",
       "    <tr style=\"text-align: right;\">\n",
       "      <th></th>\n",
       "      <th>RouteID</th>\n",
       "      <th>BikeID</th>\n",
       "      <th>UserID</th>\n",
       "      <th>Location</th>\n",
       "      <th>Latitude</th>\n",
       "      <th>Longitude</th>\n",
       "      <th>OriginDestination</th>\n",
       "      <th>PathID</th>\n",
       "    </tr>\n",
       "  </thead>\n",
       "  <tbody>\n",
       "    <tr>\n",
       "      <th>8881</th>\n",
       "      <td>14209403</td>\n",
       "      <td>19712</td>\n",
       "      <td>2211448</td>\n",
       "      <td>17th &amp; Hilyard</td>\n",
       "      <td>44.041062</td>\n",
       "      <td>-123.081933</td>\n",
       "      <td>Destination</td>\n",
       "      <td>17th &amp; Pearl, West side - 17th &amp; Hilyard</td>\n",
       "    </tr>\n",
       "    <tr>\n",
       "      <th>8882</th>\n",
       "      <td>14209412</td>\n",
       "      <td>19763</td>\n",
       "      <td>1733742</td>\n",
       "      <td>Glenwood</td>\n",
       "      <td>44.045285</td>\n",
       "      <td>-123.080093</td>\n",
       "      <td>Destination</td>\n",
       "      <td>Monroe St &amp; Blair Blvd  - Glenwood</td>\n",
       "    </tr>\n",
       "    <tr>\n",
       "      <th>8883</th>\n",
       "      <td>14209416</td>\n",
       "      <td>19631</td>\n",
       "      <td>1354450</td>\n",
       "      <td>Maude Kerns Art Center</td>\n",
       "      <td>44.042795</td>\n",
       "      <td>-123.064628</td>\n",
       "      <td>Destination</td>\n",
       "      <td>13th &amp; Kincaid - Maude Kerns Art Center</td>\n",
       "    </tr>\n",
       "    <tr>\n",
       "      <th>8884</th>\n",
       "      <td>14209417</td>\n",
       "      <td>19755</td>\n",
       "      <td>1354450</td>\n",
       "      <td>Villard Street 1544</td>\n",
       "      <td>44.042743</td>\n",
       "      <td>-123.064662</td>\n",
       "      <td>Destination</td>\n",
       "      <td>13th &amp; Kincaid - Villard Street 1544</td>\n",
       "    </tr>\n",
       "    <tr>\n",
       "      <th>8885</th>\n",
       "      <td>14209418</td>\n",
       "      <td>19628</td>\n",
       "      <td>1354450</td>\n",
       "      <td>Villard Street 1532</td>\n",
       "      <td>44.042865</td>\n",
       "      <td>-123.064647</td>\n",
       "      <td>Destination</td>\n",
       "      <td>13th &amp; Kincaid - Villard Street 1532</td>\n",
       "    </tr>\n",
       "  </tbody>\n",
       "</table>\n",
       "</div>"
      ],
      "text/plain": [
       "       RouteID  BikeID   UserID                Location   Latitude  \\\n",
       "8881  14209403   19712  2211448          17th & Hilyard  44.041062   \n",
       "8882  14209412   19763  1733742                Glenwood  44.045285   \n",
       "8883  14209416   19631  1354450  Maude Kerns Art Center  44.042795   \n",
       "8884  14209417   19755  1354450     Villard Street 1544  44.042743   \n",
       "8885  14209418   19628  1354450     Villard Street 1532  44.042865   \n",
       "\n",
       "       Longitude OriginDestination                                    PathID  \n",
       "8881 -123.081933       Destination  17th & Pearl, West side - 17th & Hilyard  \n",
       "8882 -123.080093       Destination        Monroe St & Blair Blvd  - Glenwood  \n",
       "8883 -123.064628       Destination   13th & Kincaid - Maude Kerns Art Center  \n",
       "8884 -123.064662       Destination      13th & Kincaid - Villard Street 1544  \n",
       "8885 -123.064647       Destination      13th & Kincaid - Villard Street 1532  "
      ]
     },
     "execution_count": 19,
     "metadata": {},
     "output_type": "execute_result"
    }
   ],
   "source": [
    "df.tail()"
   ]
  },
  {
   "cell_type": "code",
   "execution_count": 16,
   "id": "f5049c6d",
   "metadata": {},
   "outputs": [],
   "source": [
    "ndf = df.drop(['geom', 'address', 'Name'], axis=1)"
   ]
  },
  {
   "cell_type": "code",
   "execution_count": 20,
   "id": "a48e7245",
   "metadata": {},
   "outputs": [],
   "source": [
    "ndf.to_csv(r'T:\\DCProjects\\StoryMap\\BikeCounting\\BikeShare\\Data\\pathID.csv', index=False)"
   ]
  }
 ],
 "metadata": {
  "kernelspec": {
   "display_name": "Python 3",
   "language": "python",
   "name": "python3"
  },
  "language_info": {
   "codemirror_mode": {
    "name": "ipython",
    "version": 3
   },
   "file_extension": ".py",
   "mimetype": "text/x-python",
   "name": "python",
   "nbconvert_exporter": "python",
   "pygments_lexer": "ipython3",
   "version": "3.8.8"
  }
 },
 "nbformat": 4,
 "nbformat_minor": 5
}
