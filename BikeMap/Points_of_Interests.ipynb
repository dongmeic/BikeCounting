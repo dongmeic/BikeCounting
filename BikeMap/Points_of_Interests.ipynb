{
 "cells": [
  {
   "cell_type": "code",
   "execution_count": 1,
   "id": "2c83a139",
   "metadata": {},
   "outputs": [],
   "source": [
    "import geopandas as gpd\n",
    "import fiona, os"
   ]
  },
  {
   "cell_type": "code",
   "execution_count": 2,
   "id": "5ab858ed",
   "metadata": {},
   "outputs": [],
   "source": [
    "inpath = r'T:\\DCProjects\\StoryMap\\BikeCounting\\BikeMap\\BikeMap.gdb'"
   ]
  },
  {
   "cell_type": "code",
   "execution_count": 4,
   "id": "ec72b91f",
   "metadata": {},
   "outputs": [
    {
     "data": {
      "text/plain": [
       "['PointsofInterest',\n",
       " 'Points',\n",
       " 'Spring_ComCenters',\n",
       " 'steephills',\n",
       " 'Pisgah_poly',\n",
       " 'Pisgah_Trails',\n",
       " 'MtPisgah',\n",
       " 'SidewalkRidingNotAllowed',\n",
       " 'Trails_Export',\n",
       " 'FedBuilding',\n",
       " 'skateparks',\n",
       " 'LensBikeShop',\n",
       " 'SpringfieldBoatRamps',\n",
       " 'EugeneBikeShops',\n",
       " 'GreyhoundStation',\n",
       " 'CommunityCentersAdhoc',\n",
       " 'Bridges_to_Label',\n",
       " 'BikeLaneGaps',\n",
       " 'EMX_subset',\n",
       " 'LTD_Subset',\n",
       " 'WaterBodies',\n",
       " 'Future_Bikeways',\n",
       " 'USPostOffice',\n",
       " 'CommunityCenters',\n",
       " 'EMU',\n",
       " 'Schools',\n",
       " 'SpringfieldJusticeCenter',\n",
       " 'CityHall',\n",
       " 'Police_Stations',\n",
       " 'Trail_Access_Points_export',\n",
       " 'FtrSpr_Path']"
      ]
     },
     "execution_count": 4,
     "metadata": {},
     "output_type": "execute_result"
    }
   ],
   "source": [
    "# list files in a geodatabase\n",
    "fiona.listlayers(inpath)"
   ]
  },
  {
   "cell_type": "code",
   "execution_count": 5,
   "id": "1c28ea3a",
   "metadata": {},
   "outputs": [],
   "source": [
    "Spr_ComCenters = gpd.read_file(inpath, layer = 'Spring_ComCenters')"
   ]
  },
  {
   "cell_type": "code",
   "execution_count": 7,
   "id": "1ddaf009",
   "metadata": {},
   "outputs": [],
   "source": [
    "Spr_ComCenters.rename(columns = {'label_full': 'Name'}, inplace=True)"
   ]
  },
  {
   "cell_type": "code",
   "execution_count": 8,
   "id": "2aca016c",
   "metadata": {},
   "outputs": [],
   "source": [
    "CommunityCenters = gpd.read_file(inpath, layer = 'CommunityCenters')"
   ]
  },
  {
   "cell_type": "code",
   "execution_count": 9,
   "id": "5e7eb8a9",
   "metadata": {},
   "outputs": [],
   "source": [
    "CommunityCenters.rename(columns = {'label_full': 'Name'}, inplace=True)"
   ]
  },
  {
   "cell_type": "code",
   "execution_count": 10,
   "id": "c8d17161",
   "metadata": {},
   "outputs": [
    {
     "data": {
      "text/html": [
       "<div>\n",
       "<style scoped>\n",
       "    .dataframe tbody tr th:only-of-type {\n",
       "        vertical-align: middle;\n",
       "    }\n",
       "\n",
       "    .dataframe tbody tr th {\n",
       "        vertical-align: top;\n",
       "    }\n",
       "\n",
       "    .dataframe thead th {\n",
       "        text-align: right;\n",
       "    }\n",
       "</style>\n",
       "<table border=\"1\" class=\"dataframe\">\n",
       "  <thead>\n",
       "    <tr style=\"text-align: right;\">\n",
       "      <th></th>\n",
       "      <th>label</th>\n",
       "      <th>Name</th>\n",
       "      <th>label_add</th>\n",
       "      <th>type</th>\n",
       "      <th>type_full</th>\n",
       "      <th>eug_amenity</th>\n",
       "      <th>school_district</th>\n",
       "      <th>address_geofeat_id</th>\n",
       "      <th>address_uuid</th>\n",
       "      <th>x_coordinate</th>\n",
       "      <th>y_coordinate</th>\n",
       "      <th>longitude</th>\n",
       "      <th>latitude</th>\n",
       "      <th>facility_geo_id</th>\n",
       "      <th>geometry</th>\n",
       "    </tr>\n",
       "  </thead>\n",
       "  <tbody>\n",
       "    <tr>\n",
       "      <th>0</th>\n",
       "      <td>ECHO HOLLOW POOL</td>\n",
       "      <td>Echo Hollow Pool</td>\n",
       "      <td>None</td>\n",
       "      <td>rec</td>\n",
       "      <td>Recreation</td>\n",
       "      <td>Y</td>\n",
       "      <td>None</td>\n",
       "      <td>34988</td>\n",
       "      <td>{422E2CAD-F1FE-4EAB-849F-F2606D5C370C}</td>\n",
       "      <td>4.220472e+06</td>\n",
       "      <td>890597.694882</td>\n",
       "      <td>-123.167101</td>\n",
       "      <td>44.079638</td>\n",
       "      <td>{7364FC6B-09E1-4A2A-B2CA-7577866E1D2F}</td>\n",
       "      <td>POINT (4220494.580 890671.886)</td>\n",
       "    </tr>\n",
       "    <tr>\n",
       "      <th>1</th>\n",
       "      <td>AMAZON</td>\n",
       "      <td>Amazon Community Center</td>\n",
       "      <td>None</td>\n",
       "      <td>ccntr</td>\n",
       "      <td>Community Cntr</td>\n",
       "      <td>N</td>\n",
       "      <td>None</td>\n",
       "      <td>46845</td>\n",
       "      <td>{1D458F70-A0FE-4DE6-9519-46A078CD3127}</td>\n",
       "      <td>4.242092e+06</td>\n",
       "      <td>871038.742454</td>\n",
       "      <td>-123.082579</td>\n",
       "      <td>44.027871</td>\n",
       "      <td>{6CE180B3-29BD-41BB-A438-A4572AE6156D}</td>\n",
       "      <td>POINT (4242091.576 871038.742)</td>\n",
       "    </tr>\n",
       "    <tr>\n",
       "      <th>2</th>\n",
       "      <td>HILYARD</td>\n",
       "      <td>Hilyard Community Center</td>\n",
       "      <td>None</td>\n",
       "      <td>ccntr</td>\n",
       "      <td>Community Cntr</td>\n",
       "      <td>N</td>\n",
       "      <td>None</td>\n",
       "      <td>151568</td>\n",
       "      <td>{68E3E1FE-FC3C-453F-93CD-E4917597D290}</td>\n",
       "      <td>4.242180e+06</td>\n",
       "      <td>872121.295604</td>\n",
       "      <td>-123.082369</td>\n",
       "      <td>44.030847</td>\n",
       "      <td>{A2E0EE79-4329-4260-B32B-0537CD398797}</td>\n",
       "      <td>POINT (4242180.154 872121.296)</td>\n",
       "    </tr>\n",
       "    <tr>\n",
       "      <th>3</th>\n",
       "      <td>CAMPBELL SENIOR</td>\n",
       "      <td>Campbell Senior Center</td>\n",
       "      <td>None</td>\n",
       "      <td>ccntr</td>\n",
       "      <td>Community Cntr</td>\n",
       "      <td>N</td>\n",
       "      <td>None</td>\n",
       "      <td>45632</td>\n",
       "      <td>{6592AB38-64A0-49AE-A70E-35C37C0B6861}</td>\n",
       "      <td>4.241136e+06</td>\n",
       "      <td>882105.420932</td>\n",
       "      <td>-123.087509</td>\n",
       "      <td>44.058133</td>\n",
       "      <td>{AF392437-B58A-4431-BBC7-548061A7AB76}</td>\n",
       "      <td>POINT (4241136.234 882105.421)</td>\n",
       "    </tr>\n",
       "    <tr>\n",
       "      <th>4</th>\n",
       "      <td>SHELDON</td>\n",
       "      <td>Sheldon Community Center</td>\n",
       "      <td>None</td>\n",
       "      <td>ccntr</td>\n",
       "      <td>Community Cntr</td>\n",
       "      <td>N</td>\n",
       "      <td>None</td>\n",
       "      <td>82425</td>\n",
       "      <td>{1C34EA03-4223-4CF2-B0B3-F785C28E84E5}</td>\n",
       "      <td>4.244919e+06</td>\n",
       "      <td>890338.547572</td>\n",
       "      <td>-123.074090</td>\n",
       "      <td>44.081026</td>\n",
       "      <td>{1A79F7B9-AC3E-4642-9020-2118F908D61F}</td>\n",
       "      <td>POINT (4244916.931 890275.322)</td>\n",
       "    </tr>\n",
       "  </tbody>\n",
       "</table>\n",
       "</div>"
      ],
      "text/plain": [
       "              label                      Name label_add   type  \\\n",
       "0  ECHO HOLLOW POOL          Echo Hollow Pool      None    rec   \n",
       "1            AMAZON   Amazon Community Center      None  ccntr   \n",
       "2           HILYARD  Hilyard Community Center      None  ccntr   \n",
       "3   CAMPBELL SENIOR    Campbell Senior Center      None  ccntr   \n",
       "4           SHELDON  Sheldon Community Center      None  ccntr   \n",
       "\n",
       "        type_full eug_amenity school_district  address_geofeat_id  \\\n",
       "0      Recreation           Y            None               34988   \n",
       "1  Community Cntr           N            None               46845   \n",
       "2  Community Cntr           N            None              151568   \n",
       "3  Community Cntr           N            None               45632   \n",
       "4  Community Cntr           N            None               82425   \n",
       "\n",
       "                             address_uuid  x_coordinate   y_coordinate  \\\n",
       "0  {422E2CAD-F1FE-4EAB-849F-F2606D5C370C}  4.220472e+06  890597.694882   \n",
       "1  {1D458F70-A0FE-4DE6-9519-46A078CD3127}  4.242092e+06  871038.742454   \n",
       "2  {68E3E1FE-FC3C-453F-93CD-E4917597D290}  4.242180e+06  872121.295604   \n",
       "3  {6592AB38-64A0-49AE-A70E-35C37C0B6861}  4.241136e+06  882105.420932   \n",
       "4  {1C34EA03-4223-4CF2-B0B3-F785C28E84E5}  4.244919e+06  890338.547572   \n",
       "\n",
       "    longitude   latitude                         facility_geo_id  \\\n",
       "0 -123.167101  44.079638  {7364FC6B-09E1-4A2A-B2CA-7577866E1D2F}   \n",
       "1 -123.082579  44.027871  {6CE180B3-29BD-41BB-A438-A4572AE6156D}   \n",
       "2 -123.082369  44.030847  {A2E0EE79-4329-4260-B32B-0537CD398797}   \n",
       "3 -123.087509  44.058133  {AF392437-B58A-4431-BBC7-548061A7AB76}   \n",
       "4 -123.074090  44.081026  {1A79F7B9-AC3E-4642-9020-2118F908D61F}   \n",
       "\n",
       "                         geometry  \n",
       "0  POINT (4220494.580 890671.886)  \n",
       "1  POINT (4242091.576 871038.742)  \n",
       "2  POINT (4242180.154 872121.296)  \n",
       "3  POINT (4241136.234 882105.421)  \n",
       "4  POINT (4244916.931 890275.322)  "
      ]
     },
     "execution_count": 10,
     "metadata": {},
     "output_type": "execute_result"
    }
   ],
   "source": [
    "CommunityCenters.head()"
   ]
  },
  {
   "cell_type": "code",
   "execution_count": 12,
   "id": "cf574769",
   "metadata": {},
   "outputs": [],
   "source": [
    "CommunityCenters = CommunityCenters[['Name', 'geometry']].append(Spr_ComCenters[['Name', 'geometry']], ignore_index=True)"
   ]
  },
  {
   "cell_type": "code",
   "execution_count": 13,
   "id": "90a246ce",
   "metadata": {},
   "outputs": [],
   "source": [
    "CommunityCentersAdhoc = gpd.read_file(inpath, layer = 'CommunityCentersAdhoc')"
   ]
  },
  {
   "cell_type": "code",
   "execution_count": 14,
   "id": "9b776573",
   "metadata": {},
   "outputs": [
    {
     "data": {
      "text/html": [
       "<div>\n",
       "<style scoped>\n",
       "    .dataframe tbody tr th:only-of-type {\n",
       "        vertical-align: middle;\n",
       "    }\n",
       "\n",
       "    .dataframe tbody tr th {\n",
       "        vertical-align: top;\n",
       "    }\n",
       "\n",
       "    .dataframe thead th {\n",
       "        text-align: right;\n",
       "    }\n",
       "</style>\n",
       "<table border=\"1\" class=\"dataframe\">\n",
       "  <thead>\n",
       "    <tr style=\"text-align: right;\">\n",
       "      <th></th>\n",
       "      <th>Name</th>\n",
       "      <th>geometry</th>\n",
       "    </tr>\n",
       "  </thead>\n",
       "  <tbody>\n",
       "    <tr>\n",
       "      <th>0</th>\n",
       "      <td>River House Outdoor Center</td>\n",
       "      <td>POINT (4236333.381 884535.410)</td>\n",
       "    </tr>\n",
       "  </tbody>\n",
       "</table>\n",
       "</div>"
      ],
      "text/plain": [
       "                         Name                        geometry\n",
       "0  River House Outdoor Center  POINT (4236333.381 884535.410)"
      ]
     },
     "execution_count": 14,
     "metadata": {},
     "output_type": "execute_result"
    }
   ],
   "source": [
    "CommunityCentersAdhoc"
   ]
  },
  {
   "cell_type": "code",
   "execution_count": 16,
   "id": "aceb6e4a",
   "metadata": {},
   "outputs": [],
   "source": [
    "CommunityCenters = CommunityCenters.append(CommunityCentersAdhoc, ignore_index=True)"
   ]
  },
  {
   "cell_type": "code",
   "execution_count": 17,
   "id": "32cddc29",
   "metadata": {},
   "outputs": [],
   "source": [
    "outpath = r\"T:\\DCProjects\\StoryMap\\BikeCounting\\BikeMap\\data\\mapdata\""
   ]
  },
  {
   "cell_type": "code",
   "execution_count": 19,
   "id": "a17266dc",
   "metadata": {},
   "outputs": [],
   "source": [
    "CommunityCenters.to_file(os.path.join(outpath, 'community_centers.shp'))"
   ]
  },
  {
   "cell_type": "code",
   "execution_count": 18,
   "id": "776412c3",
   "metadata": {},
   "outputs": [],
   "source": []
  }
 ],
 "metadata": {
  "kernelspec": {
   "display_name": "Python 3",
   "language": "python",
   "name": "python3"
  },
  "language_info": {
   "codemirror_mode": {
    "name": "ipython",
    "version": 3
   },
   "file_extension": ".py",
   "mimetype": "text/x-python",
   "name": "python",
   "nbconvert_exporter": "python",
   "pygments_lexer": "ipython3",
   "version": "3.8.8"
  }
 },
 "nbformat": 4,
 "nbformat_minor": 5
}
