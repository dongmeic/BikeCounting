{
 "cells": [
  {
   "cell_type": "code",
   "execution_count": 1,
   "id": "984e8447",
   "metadata": {},
   "outputs": [],
   "source": [
    "import imageio, glob, os\n",
    "from PIL import Image"
   ]
  },
  {
   "cell_type": "code",
   "execution_count": 6,
   "id": "4c9f145c",
   "metadata": {},
   "outputs": [],
   "source": [
    "#path = r'T:\\MPO\\Public Involvement\\Photos2020\\Day1-20200826T175406Z-001\\Day1'\n",
    "path = r\"T:\\MPO\\Public Involvement\\Photos2020\\Day2-20200826T175124Z-001\\Day2\""
   ]
  },
  {
   "cell_type": "code",
   "execution_count": 3,
   "id": "73b6ea4c",
   "metadata": {},
   "outputs": [],
   "source": [
    "outpath = r'T:\\DCProjects\\StoryMap\\BikeCounting\\photos'"
   ]
  },
  {
   "cell_type": "code",
   "execution_count": 4,
   "id": "c2ccf0f8",
   "metadata": {},
   "outputs": [],
   "source": [
    "def createAnimation(filen = '20-08-15_LCOG_Day1', start_no = 186, end_no = 206, \n",
    "                    streaming = False, duration = True, time = 600, \n",
    "                    outname = 'Hilyard_E_Amazon'):\n",
    "    # filepaths\n",
    "    filenames = [os.path.join(path, f\"%s_{n}.jpg\" % filen) for n in range(start_no, end_no+1)]\n",
    "    fp_out = os.path.join(outpath, outname+\".gif\")\n",
    "    \n",
    "    if streaming:\n",
    "        with imageio.get_writer(fp_out, mode='I') as writer:\n",
    "            for filename in filenames:\n",
    "                image = imageio.imread(filename)\n",
    "                writer.append_data(image)\n",
    "    else:\n",
    "        if duration:\n",
    "            # https://pillow.readthedocs.io/en/stable/handbook/image-file-formats.html#gif\n",
    "            img, *imgs = [Image.open(f) for f in sorted(filenames)]\n",
    "            img.save(fp=fp_out, format='GIF', append_images=imgs,\n",
    "                     save_all=True, duration=time, loop=0)\n",
    "        else:\n",
    "            images = []\n",
    "            for filename in filenames:\n",
    "                images.append(imageio.imread(filename))\n",
    "            imageio.mimsave(fp_out, images)"
   ]
  },
  {
   "cell_type": "code",
   "execution_count": 22,
   "id": "e986af1e",
   "metadata": {},
   "outputs": [],
   "source": [
    "createAnimation(time = 300)"
   ]
  },
  {
   "cell_type": "code",
   "execution_count": 5,
   "id": "8a456a67",
   "metadata": {},
   "outputs": [],
   "source": [
    "createAnimation(start_no = 367, end_no = 384, time = 300, outname = 'Amazon_Path')"
   ]
  },
  {
   "cell_type": "code",
   "execution_count": 8,
   "id": "66a16e53",
   "metadata": {},
   "outputs": [],
   "source": [
    "createAnimation(filen = '20-08-16_LCOG_Day2', start_no = 208, end_no = 211, time = 300, outname = 'bridge1')"
   ]
  }
 ],
 "metadata": {
  "kernelspec": {
   "display_name": "Python 3",
   "language": "python",
   "name": "python3"
  },
  "language_info": {
   "codemirror_mode": {
    "name": "ipython",
    "version": 3
   },
   "file_extension": ".py",
   "mimetype": "text/x-python",
   "name": "python",
   "nbconvert_exporter": "python",
   "pygments_lexer": "ipython3",
   "version": "3.8.8"
  }
 },
 "nbformat": 4,
 "nbformat_minor": 5
}
