{
 "cells": [
  {
   "cell_type": "code",
   "execution_count": 1,
   "id": "59f71f03",
   "metadata": {},
   "outputs": [],
   "source": [
    "import ReviewData as RD"
   ]
  },
  {
   "cell_type": "code",
   "execution_count": 2,
   "id": "1a544054",
   "metadata": {},
   "outputs": [],
   "source": [
    "bikeFacilities = RD.readBikeFacility(add=False)"
   ]
  }
 ],
 "metadata": {
  "kernelspec": {
   "display_name": "Python 3",
   "language": "python",
   "name": "python3"
  },
  "language_info": {
   "codemirror_mode": {
    "name": "ipython",
    "version": 3
   },
   "file_extension": ".py",
   "mimetype": "text/x-python",
   "name": "python",
   "nbconvert_exporter": "python",
   "pygments_lexer": "ipython3",
   "version": "3.8.8"
  }
 },
 "nbformat": 4,
 "nbformat_minor": 5
}
