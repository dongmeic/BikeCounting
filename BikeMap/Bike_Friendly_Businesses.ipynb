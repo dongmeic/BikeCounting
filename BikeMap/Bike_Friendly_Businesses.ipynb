{
 "cells": [
  {
   "cell_type": "code",
   "execution_count": 1,
   "id": "92dae07d",
   "metadata": {},
   "outputs": [],
   "source": [
    "import os\n",
    "import geopandas as gpd\n",
    "import matplotlib.pyplot as plt\n",
    "import contextily as ctx"
   ]
  },
  {
   "cell_type": "code",
   "execution_count": 2,
   "id": "00aab7b8",
   "metadata": {},
   "outputs": [],
   "source": [
    "from fuzzywuzzy import fuzz\n",
    "from fuzzywuzzy import process"
   ]
  },
  {
   "cell_type": "code",
   "execution_count": 3,
   "id": "f9afa6b1",
   "metadata": {},
   "outputs": [],
   "source": [
    "path = r'T:\\DCProjects\\StoryMap\\BikeCounting\\BikeMap\\data\\InteractiveBikeMap.gdb'\n",
    "bike_friendly_businesses = gpd.read_file(path, layer=\"Bike_Friendly_Businesses\")"
   ]
  },
  {
   "cell_type": "code",
   "execution_count": 4,
   "id": "79e2f674",
   "metadata": {
    "scrolled": true
   },
   "outputs": [
    {
     "data": {
      "text/html": [
       "<div>\n",
       "<style scoped>\n",
       "    .dataframe tbody tr th:only-of-type {\n",
       "        vertical-align: middle;\n",
       "    }\n",
       "\n",
       "    .dataframe tbody tr th {\n",
       "        vertical-align: top;\n",
       "    }\n",
       "\n",
       "    .dataframe thead th {\n",
       "        text-align: right;\n",
       "    }\n",
       "</style>\n",
       "<table border=\"1\" class=\"dataframe\">\n",
       "  <thead>\n",
       "    <tr style=\"text-align: right;\">\n",
       "      <th></th>\n",
       "      <th>Status</th>\n",
       "      <th>Score</th>\n",
       "      <th>Match_type</th>\n",
       "      <th>Match_addr</th>\n",
       "      <th>Side</th>\n",
       "      <th>Ref_ID</th>\n",
       "      <th>User_fld</th>\n",
       "      <th>Addr_type</th>\n",
       "      <th>ARC_Street</th>\n",
       "      <th>ARC_City</th>\n",
       "      <th>ARC_State</th>\n",
       "      <th>ARC_ZIP</th>\n",
       "      <th>Account_Na</th>\n",
       "      <th>Street</th>\n",
       "      <th>City</th>\n",
       "      <th>Zip_Postal</th>\n",
       "      <th>Date_Appro</th>\n",
       "      <th>Applicant</th>\n",
       "      <th>Region</th>\n",
       "      <th>geometry</th>\n",
       "    </tr>\n",
       "  </thead>\n",
       "  <tbody>\n",
       "    <tr>\n",
       "      <th>0</th>\n",
       "      <td>M</td>\n",
       "      <td>89.04</td>\n",
       "      <td>M</td>\n",
       "      <td>91049 S WILLAMETTE ST, Coburg, OR, 97408</td>\n",
       "      <td></td>\n",
       "      <td>98634</td>\n",
       "      <td></td>\n",
       "      <td>PointAddress</td>\n",
       "      <td>91049 SOUTH WILLAMETTE; BOX 8542</td>\n",
       "      <td>COBURG</td>\n",
       "      <td></td>\n",
       "      <td></td>\n",
       "      <td>Reflections Salon</td>\n",
       "      <td>91049 South Willamette; Box 8542</td>\n",
       "      <td>Coburg</td>\n",
       "      <td>97408</td>\n",
       "      <td>2015-11-25T00:00:00</td>\n",
       "      <td>Vicki Bell</td>\n",
       "      <td>Willamette Valley</td>\n",
       "      <td>POINT (4247692.024 910514.051)</td>\n",
       "    </tr>\n",
       "    <tr>\n",
       "      <th>1</th>\n",
       "      <td>M</td>\n",
       "      <td>100.00</td>\n",
       "      <td>A</td>\n",
       "      <td>91003 S WILLAMETTE ST, Coburg, OR, 97408</td>\n",
       "      <td></td>\n",
       "      <td>101760</td>\n",
       "      <td></td>\n",
       "      <td>PointAddress</td>\n",
       "      <td>91003 S Willamette St</td>\n",
       "      <td>Coburg</td>\n",
       "      <td></td>\n",
       "      <td></td>\n",
       "      <td>The Oregon Handwork Studio</td>\n",
       "      <td>91003 S Willamette St</td>\n",
       "      <td>Coburg</td>\n",
       "      <td>97408</td>\n",
       "      <td>2016-04-28T00:00:00</td>\n",
       "      <td>Kathy Paterson</td>\n",
       "      <td>Willamette Valley</td>\n",
       "      <td>POINT (4247890.889 910107.994)</td>\n",
       "    </tr>\n",
       "    <tr>\n",
       "      <th>2</th>\n",
       "      <td>M</td>\n",
       "      <td>100.00</td>\n",
       "      <td>A</td>\n",
       "      <td>90999 S WILLAMETTE ST, Coburg, OR, 97408</td>\n",
       "      <td></td>\n",
       "      <td>134476</td>\n",
       "      <td></td>\n",
       "      <td>PointAddress</td>\n",
       "      <td>PO Box 8008 90999 S Willamette St</td>\n",
       "      <td>Coburg</td>\n",
       "      <td></td>\n",
       "      <td></td>\n",
       "      <td>Coburg Pizza Company</td>\n",
       "      <td>PO Box 8008 90999 S Willamette St</td>\n",
       "      <td>Coburg</td>\n",
       "      <td>97408</td>\n",
       "      <td>2014-11-20T00:00:00</td>\n",
       "      <td>Terry Dawson</td>\n",
       "      <td>Willamette Valley</td>\n",
       "      <td>POINT (4247953.708 909940.685)</td>\n",
       "    </tr>\n",
       "    <tr>\n",
       "      <th>3</th>\n",
       "      <td>M</td>\n",
       "      <td>100.00</td>\n",
       "      <td>M</td>\n",
       "      <td>91136 N WILLAMETTE ST, Coburg, OR, 97408</td>\n",
       "      <td></td>\n",
       "      <td>134510</td>\n",
       "      <td></td>\n",
       "      <td>PointAddress</td>\n",
       "      <td>91136 N. WILLAMETTE STREET</td>\n",
       "      <td>COBURG</td>\n",
       "      <td></td>\n",
       "      <td></td>\n",
       "      <td>City of Coburg</td>\n",
       "      <td>PO Box 8316</td>\n",
       "      <td>Coburg</td>\n",
       "      <td>97408</td>\n",
       "      <td>2014-10-24T00:00:00</td>\n",
       "      <td>Petra Schuetz</td>\n",
       "      <td>Willamette Valley</td>\n",
       "      <td>POINT (4247265.300 911467.629)</td>\n",
       "    </tr>\n",
       "    <tr>\n",
       "      <th>4</th>\n",
       "      <td>U</td>\n",
       "      <td>0.00</td>\n",
       "      <td>A</td>\n",
       "      <td></td>\n",
       "      <td></td>\n",
       "      <td>-1</td>\n",
       "      <td></td>\n",
       "      <td></td>\n",
       "      <td>500 West 15th</td>\n",
       "      <td>Eugene</td>\n",
       "      <td></td>\n",
       "      <td></td>\n",
       "      <td>Fort Dalles Museum</td>\n",
       "      <td>500 West 15th</td>\n",
       "      <td>Eugene</td>\n",
       "      <td>97058</td>\n",
       "      <td>2014-05-12T00:00:00</td>\n",
       "      <td>Trish Neal</td>\n",
       "      <td>Mt. Hood/Gorge</td>\n",
       "      <td>POINT (6052081273769120.000 6052081291735920.000)</td>\n",
       "    </tr>\n",
       "  </tbody>\n",
       "</table>\n",
       "</div>"
      ],
      "text/plain": [
       "  Status   Score Match_type                                Match_addr Side  \\\n",
       "0      M   89.04          M  91049 S WILLAMETTE ST, Coburg, OR, 97408        \n",
       "1      M  100.00          A  91003 S WILLAMETTE ST, Coburg, OR, 97408        \n",
       "2      M  100.00          A  90999 S WILLAMETTE ST, Coburg, OR, 97408        \n",
       "3      M  100.00          M  91136 N WILLAMETTE ST, Coburg, OR, 97408        \n",
       "4      U    0.00          A                                                  \n",
       "\n",
       "   Ref_ID User_fld     Addr_type                         ARC_Street ARC_City  \\\n",
       "0   98634           PointAddress   91049 SOUTH WILLAMETTE; BOX 8542   COBURG   \n",
       "1  101760           PointAddress              91003 S Willamette St   Coburg   \n",
       "2  134476           PointAddress  PO Box 8008 90999 S Willamette St   Coburg   \n",
       "3  134510           PointAddress         91136 N. WILLAMETTE STREET   COBURG   \n",
       "4      -1                                             500 West 15th   Eugene   \n",
       "\n",
       "  ARC_State ARC_ZIP                  Account_Na  \\\n",
       "0                             Reflections Salon   \n",
       "1                    The Oregon Handwork Studio   \n",
       "2                          Coburg Pizza Company   \n",
       "3                                City of Coburg   \n",
       "4                            Fort Dalles Museum   \n",
       "\n",
       "                              Street    City Zip_Postal           Date_Appro  \\\n",
       "0   91049 South Willamette; Box 8542  Coburg      97408  2015-11-25T00:00:00   \n",
       "1              91003 S Willamette St  Coburg      97408  2016-04-28T00:00:00   \n",
       "2  PO Box 8008 90999 S Willamette St  Coburg      97408  2014-11-20T00:00:00   \n",
       "3                        PO Box 8316  Coburg      97408  2014-10-24T00:00:00   \n",
       "4                      500 West 15th  Eugene      97058  2014-05-12T00:00:00   \n",
       "\n",
       "        Applicant             Region  \\\n",
       "0      Vicki Bell  Willamette Valley   \n",
       "1  Kathy Paterson  Willamette Valley   \n",
       "2    Terry Dawson  Willamette Valley   \n",
       "3   Petra Schuetz  Willamette Valley   \n",
       "4      Trish Neal     Mt. Hood/Gorge   \n",
       "\n",
       "                                            geometry  \n",
       "0                     POINT (4247692.024 910514.051)  \n",
       "1                     POINT (4247890.889 910107.994)  \n",
       "2                     POINT (4247953.708 909940.685)  \n",
       "3                     POINT (4247265.300 911467.629)  \n",
       "4  POINT (6052081273769120.000 6052081291735920.000)  "
      ]
     },
     "execution_count": 4,
     "metadata": {},
     "output_type": "execute_result"
    }
   ],
   "source": [
    "bike_friendly_businesses.head()"
   ]
  },
  {
   "cell_type": "code",
   "execution_count": 5,
   "id": "e1b03535",
   "metadata": {},
   "outputs": [
    {
     "data": {
      "text/plain": [
       "Index(['Status', 'Score', 'Match_type', 'Match_addr', 'Side', 'Ref_ID',\n",
       "       'User_fld', 'Addr_type', 'ARC_Street', 'ARC_City', 'ARC_State',\n",
       "       'ARC_ZIP', 'Account_Na', 'Street', 'City', 'Zip_Postal', 'Date_Appro',\n",
       "       'Applicant', 'Region', 'geometry'],\n",
       "      dtype='object')"
      ]
     },
     "execution_count": 5,
     "metadata": {},
     "output_type": "execute_result"
    }
   ],
   "source": [
    "bike_friendly_businesses.columns"
   ]
  },
  {
   "cell_type": "code",
   "execution_count": 6,
   "id": "49548466",
   "metadata": {},
   "outputs": [],
   "source": [
    "import ReviewData as RD"
   ]
  },
  {
   "cell_type": "code",
   "execution_count": 7,
   "id": "752bc516",
   "metadata": {},
   "outputs": [],
   "source": [
    "site_address = RD.readSiteAddress()"
   ]
  },
  {
   "cell_type": "code",
   "execution_count": 8,
   "id": "cc984699",
   "metadata": {},
   "outputs": [
    {
     "data": {
      "text/html": [
       "<div>\n",
       "<style scoped>\n",
       "    .dataframe tbody tr th:only-of-type {\n",
       "        vertical-align: middle;\n",
       "    }\n",
       "\n",
       "    .dataframe tbody tr th {\n",
       "        vertical-align: top;\n",
       "    }\n",
       "\n",
       "    .dataframe thead th {\n",
       "        text-align: right;\n",
       "    }\n",
       "</style>\n",
       "<table border=\"1\" class=\"dataframe\">\n",
       "  <thead>\n",
       "    <tr style=\"text-align: right;\">\n",
       "      <th></th>\n",
       "      <th>address</th>\n",
       "      <th>longitude</th>\n",
       "      <th>latitude</th>\n",
       "      <th>geom</th>\n",
       "    </tr>\n",
       "  </thead>\n",
       "  <tbody>\n",
       "    <tr>\n",
       "      <th>0</th>\n",
       "      <td>18008 SIUSLAW RD</td>\n",
       "      <td>-123.615974</td>\n",
       "      <td>43.919974</td>\n",
       "      <td>POINT (-13760867.236 5453066.379)</td>\n",
       "    </tr>\n",
       "    <tr>\n",
       "      <th>1</th>\n",
       "      <td>83908 HWY 101</td>\n",
       "      <td>-124.111965</td>\n",
       "      <td>43.912707</td>\n",
       "      <td>POINT (-13816080.721 5451943.265)</td>\n",
       "    </tr>\n",
       "    <tr>\n",
       "      <th>2</th>\n",
       "      <td>83520 HWY 101</td>\n",
       "      <td>-124.116499</td>\n",
       "      <td>43.901309</td>\n",
       "      <td>POINT (-13816585.429 5450182.228)</td>\n",
       "    </tr>\n",
       "    <tr>\n",
       "      <th>3</th>\n",
       "      <td>83394 HWY 101</td>\n",
       "      <td>-124.117368</td>\n",
       "      <td>43.898493</td>\n",
       "      <td>POINT (-13816682.165 5449747.154)</td>\n",
       "    </tr>\n",
       "    <tr>\n",
       "      <th>4</th>\n",
       "      <td>83380 HWY 101</td>\n",
       "      <td>-124.117573</td>\n",
       "      <td>43.898105</td>\n",
       "      <td>POINT (-13816705.064 5449687.166)</td>\n",
       "    </tr>\n",
       "  </tbody>\n",
       "</table>\n",
       "</div>"
      ],
      "text/plain": [
       "            address   longitude   latitude                               geom\n",
       "0  18008 SIUSLAW RD -123.615974  43.919974  POINT (-13760867.236 5453066.379)\n",
       "1     83908 HWY 101 -124.111965  43.912707  POINT (-13816080.721 5451943.265)\n",
       "2     83520 HWY 101 -124.116499  43.901309  POINT (-13816585.429 5450182.228)\n",
       "3     83394 HWY 101 -124.117368  43.898493  POINT (-13816682.165 5449747.154)\n",
       "4     83380 HWY 101 -124.117573  43.898105  POINT (-13816705.064 5449687.166)"
      ]
     },
     "execution_count": 8,
     "metadata": {},
     "output_type": "execute_result"
    }
   ],
   "source": [
    "site_address.head()"
   ]
  },
  {
   "cell_type": "code",
   "execution_count": 9,
   "id": "33c0f015",
   "metadata": {},
   "outputs": [
    {
     "data": {
      "text/plain": [
       "Index(['address', 'longitude', 'latitude', 'geom'], dtype='object')"
      ]
     },
     "execution_count": 9,
     "metadata": {},
     "output_type": "execute_result"
    }
   ],
   "source": [
    "site_address.columns"
   ]
  },
  {
   "cell_type": "code",
   "execution_count": 10,
   "id": "f37ec32c",
   "metadata": {},
   "outputs": [],
   "source": [
    "business = gpd.read_file(r\"X:\\Projects\\RLID\\BusinessData\\InfoUSA\\2021\\October\\Geocoded.gdb\", layer='Oct2021_Geo')"
   ]
  },
  {
   "cell_type": "code",
   "execution_count": 11,
   "id": "3a943404",
   "metadata": {},
   "outputs": [
    {
     "data": {
      "text/plain": [
       "Index(['biz_business_name', 'biz_business_desc', 'biz_address', 'biz_city',\n",
       "       'biz_state', 'biz_zip', 'biz_zip_plus4', 'biz_zip_full', 'biz_county',\n",
       "       'biz_carrier_route', 'biz_delivery_point_bar_code', 'biz_neighborhood',\n",
       "       'biz_phone', 'biz_phone_toll_free', 'biz_fax', 'biz_website',\n",
       "       'biz_primary_sic_code', 'biz_primary_sic_desc', 'biz_sic_code_1',\n",
       "       'biz_sic_code_1_desc', 'biz_sic_code_2', 'biz_sic_code_2_desc',\n",
       "       'biz_sic_code_3', 'biz_sic_code_3_desc', 'biz_sic_code_4',\n",
       "       'biz_sic_code_4_desc', 'biz_naics_industry_code_group',\n",
       "       'biz_naics_industry_desc', 'biz_primary_naics',\n",
       "       'biz_primary_naics_desc', 'biz_naics_1', 'biz_naics_1_desc',\n",
       "       'biz_naics_2', 'biz_naics_2_desc', 'biz_naics_3', 'biz_naics_3_desc',\n",
       "       'biz_naics_4', 'biz_naics_4_desc', 'biz_cuisine_code',\n",
       "       'biz_cuisine_code_desc', 'biz_location_employee_size_code',\n",
       "       'biz_location_employee_size_range', 'biz_location_employee_size_actual',\n",
       "       'biz_business_type', 'biz_credit_score', 'biz_twitter', 'biz_facebook',\n",
       "       'biz_linkedin', 'biz_googleplus', 'biz_location_type',\n",
       "       'biz_infousa_number', 'biz_date_updated', 'biz_years_in_database',\n",
       "       'biz_year_established', 'biz_sqft', 'biz_home_business', 'biz_latitude',\n",
       "       'biz_longitude', 'biz_gov_office', 'biz_location_centerpoint',\n",
       "       'biz_firm_or_individual', 'biz_franchise_desc', 'biz_executive_fname',\n",
       "       'biz_executive_lname', 'biz_executive_title', 'biz_executive_combined',\n",
       "       'biz_executive_gender', 'biz_mailing_address', 'biz_mailing_city',\n",
       "       'biz_mailing_state', 'biz_mailing_zip', 'biz_mailing_zip_plus4',\n",
       "       'biz_mailing_zip_full', 'biz_mailing_carrier_route',\n",
       "       'biz_mailing_delivery_point_bar_code', 'biz_census_block_group',\n",
       "       'biz_census_tract', 'biz_record_type', 'biz_location_sales_volume_code',\n",
       "       'biz_location_sales_volume_range', 'biz_location_sales_volume_actual',\n",
       "       'biz_lcog_corrected_address', 'biz_lcog_corrected_city',\n",
       "       'biz_address_match_score', 'biz_address_geofeature_id',\n",
       "       'biz_address_match_type', 'biz_address_match_desc',\n",
       "       'biz_date_row_inserted', 'geometry'],\n",
       "      dtype='object')"
      ]
     },
     "execution_count": 11,
     "metadata": {},
     "output_type": "execute_result"
    }
   ],
   "source": [
    "business.columns"
   ]
  },
  {
   "cell_type": "code",
   "execution_count": 12,
   "id": "864e69ef",
   "metadata": {},
   "outputs": [
    {
     "data": {
      "text/plain": [
       "0          3879 Cross St\n",
       "1    900 Mckinley St # D\n",
       "2     220 E 11th Ave # 5\n",
       "3       3340 Highway 101\n",
       "4          50 E 11th Ave\n",
       "Name: biz_address, dtype: object"
      ]
     },
     "execution_count": 12,
     "metadata": {},
     "output_type": "execute_result"
    }
   ],
   "source": [
    "business.biz_address.head()"
   ]
  },
  {
   "cell_type": "code",
   "execution_count": 13,
   "id": "ce7de3bb",
   "metadata": {},
   "outputs": [
    {
     "data": {
      "text/plain": [
       "0          #1 Northwest Inc\n",
       "1      1-800-Radiator & A/C\n",
       "2    1000 Friends Of Oregon\n",
       "3          101 Mini-Storage\n",
       "4          1050 Lincoln LLC\n",
       "Name: biz_business_name, dtype: object"
      ]
     },
     "execution_count": 13,
     "metadata": {},
     "output_type": "execute_result"
    }
   ],
   "source": [
    "business.biz_business_name.head()"
   ]
  },
  {
   "cell_type": "code",
   "execution_count": 20,
   "id": "e2e159e6",
   "metadata": {},
   "outputs": [],
   "source": [
    "import pandas as pd"
   ]
  },
  {
   "cell_type": "code",
   "execution_count": 15,
   "id": "20df2e1b",
   "metadata": {},
   "outputs": [],
   "source": [
    "bfb = pd.read_excel(r\"T:\\DCProjects\\StoryMap\\BikeCounting\\BikeMap\\21.11.22 BFB_Lane County.xlsx\")"
   ]
  },
  {
   "cell_type": "code",
   "execution_count": 16,
   "id": "16adc3f2",
   "metadata": {},
   "outputs": [
    {
     "data": {
      "text/html": [
       "<div>\n",
       "<style scoped>\n",
       "    .dataframe tbody tr th:only-of-type {\n",
       "        vertical-align: middle;\n",
       "    }\n",
       "\n",
       "    .dataframe tbody tr th {\n",
       "        vertical-align: top;\n",
       "    }\n",
       "\n",
       "    .dataframe thead th {\n",
       "        text-align: right;\n",
       "    }\n",
       "</style>\n",
       "<table border=\"1\" class=\"dataframe\">\n",
       "  <thead>\n",
       "    <tr style=\"text-align: right;\">\n",
       "      <th></th>\n",
       "      <th>Business Name</th>\n",
       "      <th>Address</th>\n",
       "      <th>City</th>\n",
       "      <th>State</th>\n",
       "      <th>Zip Code</th>\n",
       "    </tr>\n",
       "  </thead>\n",
       "  <tbody>\n",
       "    <tr>\n",
       "      <th>0</th>\n",
       "      <td>Eugene Vineyard Church</td>\n",
       "      <td>3455 Royal Ave.</td>\n",
       "      <td>Eugene</td>\n",
       "      <td>OR</td>\n",
       "      <td>97402</td>\n",
       "    </tr>\n",
       "    <tr>\n",
       "      <th>1</th>\n",
       "      <td>Blair Family &amp; Sports Chiropractic</td>\n",
       "      <td>1185 Arther St.</td>\n",
       "      <td>Eugene</td>\n",
       "      <td>OR</td>\n",
       "      <td>97402</td>\n",
       "    </tr>\n",
       "    <tr>\n",
       "      <th>2</th>\n",
       "      <td>Everyday People Yoga</td>\n",
       "      <td>352 W. 12th Avenue</td>\n",
       "      <td>Eugene</td>\n",
       "      <td>OR</td>\n",
       "      <td>97401</td>\n",
       "    </tr>\n",
       "    <tr>\n",
       "      <th>3</th>\n",
       "      <td>Jenny's Hair and Company</td>\n",
       "      <td>2833 Willamette #D</td>\n",
       "      <td>Eugene</td>\n",
       "      <td>OR</td>\n",
       "      <td>97405</td>\n",
       "    </tr>\n",
       "    <tr>\n",
       "      <th>4</th>\n",
       "      <td>Reflections Salon</td>\n",
       "      <td>91049 South Willamette</td>\n",
       "      <td>Coburg</td>\n",
       "      <td>OR</td>\n",
       "      <td>97408</td>\n",
       "    </tr>\n",
       "  </tbody>\n",
       "</table>\n",
       "</div>"
      ],
      "text/plain": [
       "                        Business Name                 Address    City State  \\\n",
       "0              Eugene Vineyard Church         3455 Royal Ave.  Eugene    OR   \n",
       "1  Blair Family & Sports Chiropractic         1185 Arther St.  Eugene    OR   \n",
       "2                Everyday People Yoga      352 W. 12th Avenue  Eugene    OR   \n",
       "3            Jenny's Hair and Company      2833 Willamette #D  Eugene    OR   \n",
       "4                   Reflections Salon  91049 South Willamette  Coburg    OR   \n",
       "\n",
       "   Zip Code  \n",
       "0     97402  \n",
       "1     97402  \n",
       "2     97401  \n",
       "3     97405  \n",
       "4     97408  "
      ]
     },
     "execution_count": 16,
     "metadata": {},
     "output_type": "execute_result"
    }
   ],
   "source": [
    "bfb.head()"
   ]
  },
  {
   "cell_type": "code",
   "execution_count": 17,
   "id": "7c2467da",
   "metadata": {},
   "outputs": [
    {
     "data": {
      "text/plain": [
       "(96, 5)"
      ]
     },
     "execution_count": 17,
     "metadata": {},
     "output_type": "execute_result"
    }
   ],
   "source": [
    "bfb.shape"
   ]
  },
  {
   "cell_type": "code",
   "execution_count": 18,
   "id": "b2a8c7a4",
   "metadata": {},
   "outputs": [],
   "source": [
    "df=bfb[bfb['Business Name'].isin(business.biz_business_name)]"
   ]
  },
  {
   "cell_type": "code",
   "execution_count": 34,
   "id": "f119e30d",
   "metadata": {},
   "outputs": [
    {
     "data": {
      "text/plain": [
       "array(['Everyday People Yoga', 'Reflections Salon', 'Sand Master Park',\n",
       "       'Cascade Motel', 'Valley River Inn', 'Wayfarer Resort',\n",
       "       'Sea Lion Caves', 'Arriving By Bike', 'Bike Friday',\n",
       "       'Co-Motion Cycles', 'Klink Cycles', 'Life Cycle Bike Shop',\n",
       "       'Simply Cycle', 'Capella Market', 'Main Street Market',\n",
       "       'Mohawk General Store', 'Sundance Natural Foods', 'Crumb Together',\n",
       "       '16 Tons Cafe', 'Washburne Cafe', 'Creswell Bakery',\n",
       "       'Morning Glory Cafe', 'Noisette Pastry Kitchen', 'Pig & Turnip',\n",
       "       'Viva! Vegetarian Grill', 'Middlefield Golf Course'], dtype=object)"
      ]
     },
     "execution_count": 34,
     "metadata": {},
     "output_type": "execute_result"
    }
   ],
   "source": [
    "df['Business Name'].values"
   ]
  },
  {
   "cell_type": "code",
   "execution_count": 62,
   "id": "3b2b4326",
   "metadata": {},
   "outputs": [
    {
     "name": "stderr",
     "output_type": "stream",
     "text": [
      "C:\\Users\\clid1852\\.conda\\envs\\geoenv\\lib\\site-packages\\pandas\\core\\indexing.py:1720: SettingWithCopyWarning: \n",
      "A value is trying to be set on a copy of a slice from a DataFrame.\n",
      "Try using .loc[row_indexer,col_indexer] = value instead\n",
      "\n",
      "See the caveats in the documentation: https://pandas.pydata.org/pandas-docs/stable/user_guide/indexing.html#returning-a-view-versus-a-copy\n",
      "  self._setitem_single_column(loc, value, pi)\n"
     ]
    }
   ],
   "source": [
    "for bizname in df['Business Name'].values:\n",
    "    df.loc[df['Business Name']==bizname, 'Longitude'] = business.loc[business['biz_business_name']==bizname, 'biz_longitude'].values[0]\n",
    "    df.loc[df['Business Name']==bizname, 'Latitude'] = business.loc[business['biz_business_name']==bizname, 'biz_latitude'].values[0]"
   ]
  },
  {
   "cell_type": "code",
   "execution_count": 63,
   "id": "9aa14b6a",
   "metadata": {},
   "outputs": [
    {
     "data": {
      "text/html": [
       "<div>\n",
       "<style scoped>\n",
       "    .dataframe tbody tr th:only-of-type {\n",
       "        vertical-align: middle;\n",
       "    }\n",
       "\n",
       "    .dataframe tbody tr th {\n",
       "        vertical-align: top;\n",
       "    }\n",
       "\n",
       "    .dataframe thead th {\n",
       "        text-align: right;\n",
       "    }\n",
       "</style>\n",
       "<table border=\"1\" class=\"dataframe\">\n",
       "  <thead>\n",
       "    <tr style=\"text-align: right;\">\n",
       "      <th></th>\n",
       "      <th>Business Name</th>\n",
       "      <th>Address</th>\n",
       "      <th>City</th>\n",
       "      <th>State</th>\n",
       "      <th>Zip Code</th>\n",
       "      <th>Longitude</th>\n",
       "      <th>Latitude</th>\n",
       "    </tr>\n",
       "  </thead>\n",
       "  <tbody>\n",
       "    <tr>\n",
       "      <th>2</th>\n",
       "      <td>Everyday People Yoga</td>\n",
       "      <td>352 W. 12th Avenue</td>\n",
       "      <td>Eugene</td>\n",
       "      <td>OR</td>\n",
       "      <td>97401</td>\n",
       "      <td>-123.098084</td>\n",
       "      <td>44.046307</td>\n",
       "    </tr>\n",
       "    <tr>\n",
       "      <th>4</th>\n",
       "      <td>Reflections Salon</td>\n",
       "      <td>91049 South Willamette</td>\n",
       "      <td>Coburg</td>\n",
       "      <td>OR</td>\n",
       "      <td>97408</td>\n",
       "      <td>-123.065833</td>\n",
       "      <td>44.136608</td>\n",
       "    </tr>\n",
       "    <tr>\n",
       "      <th>14</th>\n",
       "      <td>Sand Master Park</td>\n",
       "      <td>4981 Oregon Coast Hwy</td>\n",
       "      <td>Florence</td>\n",
       "      <td>OR</td>\n",
       "      <td>97439</td>\n",
       "      <td>-124.102390</td>\n",
       "      <td>44.009984</td>\n",
       "    </tr>\n",
       "    <tr>\n",
       "      <th>27</th>\n",
       "      <td>Cascade Motel</td>\n",
       "      <td>47487 Hwy. 58</td>\n",
       "      <td>Oakridge</td>\n",
       "      <td>OR</td>\n",
       "      <td>97463</td>\n",
       "      <td>-122.489153</td>\n",
       "      <td>43.747399</td>\n",
       "    </tr>\n",
       "    <tr>\n",
       "      <th>34</th>\n",
       "      <td>Valley River Inn</td>\n",
       "      <td>1000 Valley River Way</td>\n",
       "      <td>Eugene</td>\n",
       "      <td>OR</td>\n",
       "      <td>97401</td>\n",
       "      <td>-123.102253</td>\n",
       "      <td>44.065724</td>\n",
       "    </tr>\n",
       "    <tr>\n",
       "      <th>35</th>\n",
       "      <td>Wayfarer Resort</td>\n",
       "      <td>46725 Goodpasture Road</td>\n",
       "      <td>Vida</td>\n",
       "      <td>OR</td>\n",
       "      <td>97488</td>\n",
       "      <td>-122.528835</td>\n",
       "      <td>44.126453</td>\n",
       "    </tr>\n",
       "    <tr>\n",
       "      <th>36</th>\n",
       "      <td>Sea Lion Caves</td>\n",
       "      <td>91560 Hwy 101</td>\n",
       "      <td>Florence</td>\n",
       "      <td>OR</td>\n",
       "      <td>97439</td>\n",
       "      <td>-124.125155</td>\n",
       "      <td>44.118995</td>\n",
       "    </tr>\n",
       "    <tr>\n",
       "      <th>40</th>\n",
       "      <td>Arriving By Bike</td>\n",
       "      <td>2705 Willamette St</td>\n",
       "      <td>Eugene</td>\n",
       "      <td>OR</td>\n",
       "      <td>97405</td>\n",
       "      <td>-123.090342</td>\n",
       "      <td>44.028776</td>\n",
       "    </tr>\n",
       "    <tr>\n",
       "      <th>42</th>\n",
       "      <td>Bike Friday</td>\n",
       "      <td>3364 W 11th Ave.</td>\n",
       "      <td>Eugene</td>\n",
       "      <td>OR</td>\n",
       "      <td>97402</td>\n",
       "      <td>-123.142143</td>\n",
       "      <td>44.047248</td>\n",
       "    </tr>\n",
       "    <tr>\n",
       "      <th>43</th>\n",
       "      <td>Co-Motion Cycles</td>\n",
       "      <td>4765 Pacific Ave</td>\n",
       "      <td>Eugene</td>\n",
       "      <td>OR</td>\n",
       "      <td>97402</td>\n",
       "      <td>-123.181784</td>\n",
       "      <td>44.057681</td>\n",
       "    </tr>\n",
       "    <tr>\n",
       "      <th>46</th>\n",
       "      <td>Klink Cycles</td>\n",
       "      <td>909 River Rd.</td>\n",
       "      <td>Eugene</td>\n",
       "      <td>OR</td>\n",
       "      <td>97404</td>\n",
       "      <td>-123.119931</td>\n",
       "      <td>44.076688</td>\n",
       "    </tr>\n",
       "    <tr>\n",
       "      <th>48</th>\n",
       "      <td>Life Cycle Bike Shop</td>\n",
       "      <td>1733 Pearl St. Suite B</td>\n",
       "      <td>Eugene</td>\n",
       "      <td>OR</td>\n",
       "      <td>97401</td>\n",
       "      <td>-123.089402</td>\n",
       "      <td>44.040686</td>\n",
       "    </tr>\n",
       "    <tr>\n",
       "      <th>53</th>\n",
       "      <td>Simply Cycle</td>\n",
       "      <td>303 Main Street</td>\n",
       "      <td>Springfield</td>\n",
       "      <td>OR</td>\n",
       "      <td>97477</td>\n",
       "      <td>-123.148718</td>\n",
       "      <td>44.049073</td>\n",
       "    </tr>\n",
       "    <tr>\n",
       "      <th>54</th>\n",
       "      <td>Capella Market</td>\n",
       "      <td>2489 Willamette St</td>\n",
       "      <td>Eugene</td>\n",
       "      <td>OR</td>\n",
       "      <td>97405</td>\n",
       "      <td>-123.090364</td>\n",
       "      <td>44.031752</td>\n",
       "    </tr>\n",
       "    <tr>\n",
       "      <th>56</th>\n",
       "      <td>Main Street Market</td>\n",
       "      <td>330 Main Street</td>\n",
       "      <td>Springfield</td>\n",
       "      <td>OR</td>\n",
       "      <td>97477</td>\n",
       "      <td>-123.004951</td>\n",
       "      <td>44.046253</td>\n",
       "    </tr>\n",
       "    <tr>\n",
       "      <th>57</th>\n",
       "      <td>Mohawk General Store</td>\n",
       "      <td>91130 Donna Rd.</td>\n",
       "      <td>Springfield</td>\n",
       "      <td>OR</td>\n",
       "      <td>97478</td>\n",
       "      <td>-122.916906</td>\n",
       "      <td>44.141897</td>\n",
       "    </tr>\n",
       "    <tr>\n",
       "      <th>59</th>\n",
       "      <td>Sundance Natural Foods</td>\n",
       "      <td>748 E. 24th Ave.</td>\n",
       "      <td>Eugene</td>\n",
       "      <td>OR</td>\n",
       "      <td>97405</td>\n",
       "      <td>-123.081343</td>\n",
       "      <td>44.033241</td>\n",
       "    </tr>\n",
       "    <tr>\n",
       "      <th>62</th>\n",
       "      <td>Crumb Together</td>\n",
       "      <td>980 Oak St.</td>\n",
       "      <td>Eugene</td>\n",
       "      <td>OR</td>\n",
       "      <td>97401</td>\n",
       "      <td>-123.091312</td>\n",
       "      <td>44.049062</td>\n",
       "    </tr>\n",
       "    <tr>\n",
       "      <th>63</th>\n",
       "      <td>16 Tons Cafe</td>\n",
       "      <td>2864 Willamette St. #500</td>\n",
       "      <td>Eugene</td>\n",
       "      <td>OR</td>\n",
       "      <td>97405</td>\n",
       "      <td>-123.090902</td>\n",
       "      <td>44.026910</td>\n",
       "    </tr>\n",
       "    <tr>\n",
       "      <th>65</th>\n",
       "      <td>Washburne Cafe</td>\n",
       "      <td>326 Main St.</td>\n",
       "      <td>Springfield</td>\n",
       "      <td>OR</td>\n",
       "      <td>97477</td>\n",
       "      <td>-123.021790</td>\n",
       "      <td>44.046441</td>\n",
       "    </tr>\n",
       "    <tr>\n",
       "      <th>68</th>\n",
       "      <td>Creswell Bakery</td>\n",
       "      <td>182 S 2nd Street</td>\n",
       "      <td>Creswell</td>\n",
       "      <td>OR</td>\n",
       "      <td>97426</td>\n",
       "      <td>-123.020746</td>\n",
       "      <td>43.916317</td>\n",
       "    </tr>\n",
       "    <tr>\n",
       "      <th>73</th>\n",
       "      <td>Morning Glory Cafe</td>\n",
       "      <td>450 Willamette St.</td>\n",
       "      <td>Eugene</td>\n",
       "      <td>OR</td>\n",
       "      <td>97401</td>\n",
       "      <td>-123.092915</td>\n",
       "      <td>44.054885</td>\n",
       "    </tr>\n",
       "    <tr>\n",
       "      <th>74</th>\n",
       "      <td>Noisette Pastry Kitchen</td>\n",
       "      <td>200 W Broadway</td>\n",
       "      <td>Eugene</td>\n",
       "      <td>OR</td>\n",
       "      <td>97401</td>\n",
       "      <td>-123.095972</td>\n",
       "      <td>44.049796</td>\n",
       "    </tr>\n",
       "    <tr>\n",
       "      <th>77</th>\n",
       "      <td>Pig &amp; Turnip</td>\n",
       "      <td>418 A St.</td>\n",
       "      <td>Springfield</td>\n",
       "      <td>OR</td>\n",
       "      <td>97477</td>\n",
       "      <td>-123.020407</td>\n",
       "      <td>44.047312</td>\n",
       "    </tr>\n",
       "    <tr>\n",
       "      <th>81</th>\n",
       "      <td>Viva! Vegetarian Grill</td>\n",
       "      <td>1171 Willamette St.</td>\n",
       "      <td>Eugene</td>\n",
       "      <td>OR</td>\n",
       "      <td>97401</td>\n",
       "      <td>-123.084000</td>\n",
       "      <td>44.061500</td>\n",
       "    </tr>\n",
       "    <tr>\n",
       "      <th>91</th>\n",
       "      <td>Middlefield Golf Course</td>\n",
       "      <td>91 Village Drive</td>\n",
       "      <td>Cottage Grove</td>\n",
       "      <td>OR</td>\n",
       "      <td>97424</td>\n",
       "      <td>-123.038512</td>\n",
       "      <td>43.806127</td>\n",
       "    </tr>\n",
       "  </tbody>\n",
       "</table>\n",
       "</div>"
      ],
      "text/plain": [
       "              Business Name                   Address           City State  \\\n",
       "2      Everyday People Yoga        352 W. 12th Avenue         Eugene    OR   \n",
       "4         Reflections Salon    91049 South Willamette         Coburg    OR   \n",
       "14         Sand Master Park     4981 Oregon Coast Hwy       Florence    OR   \n",
       "27            Cascade Motel             47487 Hwy. 58       Oakridge    OR   \n",
       "34         Valley River Inn     1000 Valley River Way         Eugene    OR   \n",
       "35          Wayfarer Resort    46725 Goodpasture Road           Vida    OR   \n",
       "36           Sea Lion Caves             91560 Hwy 101       Florence    OR   \n",
       "40         Arriving By Bike        2705 Willamette St         Eugene    OR   \n",
       "42              Bike Friday          3364 W 11th Ave.         Eugene    OR   \n",
       "43         Co-Motion Cycles          4765 Pacific Ave         Eugene    OR   \n",
       "46             Klink Cycles             909 River Rd.         Eugene    OR   \n",
       "48     Life Cycle Bike Shop    1733 Pearl St. Suite B         Eugene    OR   \n",
       "53             Simply Cycle           303 Main Street    Springfield    OR   \n",
       "54           Capella Market        2489 Willamette St         Eugene    OR   \n",
       "56       Main Street Market           330 Main Street    Springfield    OR   \n",
       "57     Mohawk General Store           91130 Donna Rd.    Springfield    OR   \n",
       "59   Sundance Natural Foods          748 E. 24th Ave.         Eugene    OR   \n",
       "62           Crumb Together               980 Oak St.         Eugene    OR   \n",
       "63             16 Tons Cafe  2864 Willamette St. #500         Eugene    OR   \n",
       "65           Washburne Cafe              326 Main St.    Springfield    OR   \n",
       "68          Creswell Bakery          182 S 2nd Street       Creswell    OR   \n",
       "73       Morning Glory Cafe        450 Willamette St.         Eugene    OR   \n",
       "74  Noisette Pastry Kitchen            200 W Broadway         Eugene    OR   \n",
       "77             Pig & Turnip                 418 A St.    Springfield    OR   \n",
       "81   Viva! Vegetarian Grill       1171 Willamette St.         Eugene    OR   \n",
       "91  Middlefield Golf Course          91 Village Drive  Cottage Grove    OR   \n",
       "\n",
       "    Zip Code   Longitude   Latitude  \n",
       "2      97401 -123.098084  44.046307  \n",
       "4      97408 -123.065833  44.136608  \n",
       "14     97439 -124.102390  44.009984  \n",
       "27     97463 -122.489153  43.747399  \n",
       "34     97401 -123.102253  44.065724  \n",
       "35     97488 -122.528835  44.126453  \n",
       "36     97439 -124.125155  44.118995  \n",
       "40     97405 -123.090342  44.028776  \n",
       "42     97402 -123.142143  44.047248  \n",
       "43     97402 -123.181784  44.057681  \n",
       "46     97404 -123.119931  44.076688  \n",
       "48     97401 -123.089402  44.040686  \n",
       "53     97477 -123.148718  44.049073  \n",
       "54     97405 -123.090364  44.031752  \n",
       "56     97477 -123.004951  44.046253  \n",
       "57     97478 -122.916906  44.141897  \n",
       "59     97405 -123.081343  44.033241  \n",
       "62     97401 -123.091312  44.049062  \n",
       "63     97405 -123.090902  44.026910  \n",
       "65     97477 -123.021790  44.046441  \n",
       "68     97426 -123.020746  43.916317  \n",
       "73     97401 -123.092915  44.054885  \n",
       "74     97401 -123.095972  44.049796  \n",
       "77     97477 -123.020407  44.047312  \n",
       "81     97401 -123.084000  44.061500  \n",
       "91     97424 -123.038512  43.806127  "
      ]
     },
     "execution_count": 63,
     "metadata": {},
     "output_type": "execute_result"
    }
   ],
   "source": [
    "df"
   ]
  },
  {
   "cell_type": "code",
   "execution_count": 19,
   "id": "9558dbe6",
   "metadata": {},
   "outputs": [
    {
     "data": {
      "text/plain": [
       "(26, 5)"
      ]
     },
     "execution_count": 19,
     "metadata": {},
     "output_type": "execute_result"
    }
   ],
   "source": [
    "df.shape"
   ]
  },
  {
   "cell_type": "code",
   "execution_count": 20,
   "id": "c4c3ce07",
   "metadata": {},
   "outputs": [],
   "source": [
    "df1=bfb[~bfb['Business Name'].isin(business.biz_business_name)] "
   ]
  },
  {
   "cell_type": "code",
   "execution_count": 21,
   "id": "1fe74e01",
   "metadata": {},
   "outputs": [
    {
     "data": {
      "text/html": [
       "<div>\n",
       "<style scoped>\n",
       "    .dataframe tbody tr th:only-of-type {\n",
       "        vertical-align: middle;\n",
       "    }\n",
       "\n",
       "    .dataframe tbody tr th {\n",
       "        vertical-align: top;\n",
       "    }\n",
       "\n",
       "    .dataframe thead th {\n",
       "        text-align: right;\n",
       "    }\n",
       "</style>\n",
       "<table border=\"1\" class=\"dataframe\">\n",
       "  <thead>\n",
       "    <tr style=\"text-align: right;\">\n",
       "      <th></th>\n",
       "      <th>Business Name</th>\n",
       "      <th>Address</th>\n",
       "      <th>City</th>\n",
       "      <th>State</th>\n",
       "      <th>Zip Code</th>\n",
       "    </tr>\n",
       "  </thead>\n",
       "  <tbody>\n",
       "    <tr>\n",
       "      <th>0</th>\n",
       "      <td>Eugene Vineyard Church</td>\n",
       "      <td>3455 Royal Ave.</td>\n",
       "      <td>Eugene</td>\n",
       "      <td>OR</td>\n",
       "      <td>97402</td>\n",
       "    </tr>\n",
       "    <tr>\n",
       "      <th>1</th>\n",
       "      <td>Blair Family &amp; Sports Chiropractic</td>\n",
       "      <td>1185 Arther St.</td>\n",
       "      <td>Eugene</td>\n",
       "      <td>OR</td>\n",
       "      <td>97402</td>\n",
       "    </tr>\n",
       "    <tr>\n",
       "      <th>3</th>\n",
       "      <td>Jenny's Hair and Company</td>\n",
       "      <td>2833 Willamette #D</td>\n",
       "      <td>Eugene</td>\n",
       "      <td>OR</td>\n",
       "      <td>97405</td>\n",
       "    </tr>\n",
       "    <tr>\n",
       "      <th>5</th>\n",
       "      <td>Lauren's Place</td>\n",
       "      <td>10987 E. Mapleton Road</td>\n",
       "      <td>Mapleton</td>\n",
       "      <td>OR</td>\n",
       "      <td>97453</td>\n",
       "    </tr>\n",
       "    <tr>\n",
       "      <th>6</th>\n",
       "      <td>Lily of the Field B&amp;B</td>\n",
       "      <td>35722 Ross Lane</td>\n",
       "      <td>Cottage Grove</td>\n",
       "      <td>OR</td>\n",
       "      <td>97424</td>\n",
       "    </tr>\n",
       "  </tbody>\n",
       "</table>\n",
       "</div>"
      ],
      "text/plain": [
       "                        Business Name                 Address           City  \\\n",
       "0              Eugene Vineyard Church         3455 Royal Ave.         Eugene   \n",
       "1  Blair Family & Sports Chiropractic         1185 Arther St.         Eugene   \n",
       "3            Jenny's Hair and Company      2833 Willamette #D         Eugene   \n",
       "5                      Lauren's Place  10987 E. Mapleton Road       Mapleton   \n",
       "6               Lily of the Field B&B         35722 Ross Lane  Cottage Grove   \n",
       "\n",
       "  State  Zip Code  \n",
       "0    OR     97402  \n",
       "1    OR     97402  \n",
       "3    OR     97405  \n",
       "5    OR     97453  \n",
       "6    OR     97424  "
      ]
     },
     "execution_count": 21,
     "metadata": {},
     "output_type": "execute_result"
    }
   ],
   "source": [
    "df1.head()"
   ]
  },
  {
   "cell_type": "code",
   "execution_count": 22,
   "id": "da456f08",
   "metadata": {},
   "outputs": [],
   "source": [
    "df2=df1[df1['Address'].isin(business.biz_address)] "
   ]
  },
  {
   "cell_type": "code",
   "execution_count": 23,
   "id": "ee001ef9",
   "metadata": {},
   "outputs": [],
   "source": [
    "list1 = df1['Business Name'].tolist()\n",
    "list2 = business['biz_business_name'].tolist()"
   ]
  },
  {
   "cell_type": "code",
   "execution_count": 24,
   "id": "7a031b7a",
   "metadata": {},
   "outputs": [],
   "source": [
    "mat1 = []\n",
    "mat2 = []\n",
    "p = []"
   ]
  },
  {
   "cell_type": "code",
   "execution_count": 25,
   "id": "3510f044",
   "metadata": {},
   "outputs": [],
   "source": [
    "threshold = 87"
   ]
  },
  {
   "cell_type": "code",
   "execution_count": 26,
   "id": "59968a37",
   "metadata": {},
   "outputs": [
    {
     "name": "stderr",
     "output_type": "stream",
     "text": [
      "<ipython-input-26-37444a1650d2>:3: SettingWithCopyWarning: \n",
      "A value is trying to be set on a copy of a slice from a DataFrame.\n",
      "Try using .loc[row_indexer,col_indexer] = value instead\n",
      "\n",
      "See the caveats in the documentation: https://pandas.pydata.org/pandas-docs/stable/user_guide/indexing.html#returning-a-view-versus-a-copy\n",
      "  df1['matches'] = mat1\n"
     ]
    }
   ],
   "source": [
    "for i in list1:\n",
    "    mat1.append(process.extract(i, list2, limit=2))\n",
    "df1['matches'] = mat1"
   ]
  },
  {
   "cell_type": "code",
   "execution_count": 27,
   "id": "06e03007",
   "metadata": {},
   "outputs": [],
   "source": [
    "for j in df1['matches']:\n",
    "    for k in j:\n",
    "        if k[1] >= threshold:\n",
    "            p.append(k[0])\n",
    "    mat2.append(\",\".join(p))\n",
    "    p = []"
   ]
  },
  {
   "cell_type": "code",
   "execution_count": 28,
   "id": "9aa0df7c",
   "metadata": {},
   "outputs": [
    {
     "data": {
      "text/html": [
       "<div>\n",
       "<style scoped>\n",
       "    .dataframe tbody tr th:only-of-type {\n",
       "        vertical-align: middle;\n",
       "    }\n",
       "\n",
       "    .dataframe tbody tr th {\n",
       "        vertical-align: top;\n",
       "    }\n",
       "\n",
       "    .dataframe thead th {\n",
       "        text-align: right;\n",
       "    }\n",
       "</style>\n",
       "<table border=\"1\" class=\"dataframe\">\n",
       "  <thead>\n",
       "    <tr style=\"text-align: right;\">\n",
       "      <th></th>\n",
       "      <th>Business Name</th>\n",
       "      <th>Address</th>\n",
       "      <th>City</th>\n",
       "      <th>State</th>\n",
       "      <th>Zip Code</th>\n",
       "      <th>matches</th>\n",
       "    </tr>\n",
       "  </thead>\n",
       "  <tbody>\n",
       "    <tr>\n",
       "      <th>0</th>\n",
       "      <td>Eugene Vineyard Church</td>\n",
       "      <td>3455 Royal Ave.</td>\n",
       "      <td>Eugene</td>\n",
       "      <td>OR</td>\n",
       "      <td>97402</td>\n",
       "      <td>[(AC Eugene, 86), (BMW Of Eugene, 86)]</td>\n",
       "    </tr>\n",
       "    <tr>\n",
       "      <th>1</th>\n",
       "      <td>Blair Family &amp; Sports Chiropractic</td>\n",
       "      <td>1185 Arther St.</td>\n",
       "      <td>Eugene</td>\n",
       "      <td>OR</td>\n",
       "      <td>97402</td>\n",
       "      <td>[(Blair Family &amp; Sports Chiro, 89), (A &amp; J Spo...</td>\n",
       "    </tr>\n",
       "    <tr>\n",
       "      <th>3</th>\n",
       "      <td>Jenny's Hair and Company</td>\n",
       "      <td>2833 Willamette #D</td>\n",
       "      <td>Eugene</td>\n",
       "      <td>OR</td>\n",
       "      <td>97405</td>\n",
       "      <td>[(A Hair Alchemist, 86), (A R S Fresno, 86)]</td>\n",
       "    </tr>\n",
       "    <tr>\n",
       "      <th>5</th>\n",
       "      <td>Lauren's Place</td>\n",
       "      <td>10987 E. Mapleton Road</td>\n",
       "      <td>Mapleton</td>\n",
       "      <td>OR</td>\n",
       "      <td>97453</td>\n",
       "      <td>[(A1 Ron s Stump &amp; Tree Removal, 86), (A1 Ron ...</td>\n",
       "    </tr>\n",
       "    <tr>\n",
       "      <th>6</th>\n",
       "      <td>Lily of the Field B&amp;B</td>\n",
       "      <td>35722 Ross Lane</td>\n",
       "      <td>Cottage Grove</td>\n",
       "      <td>OR</td>\n",
       "      <td>97424</td>\n",
       "      <td>[(Above The Rest, 86), (Access The Law, 86)]</td>\n",
       "    </tr>\n",
       "  </tbody>\n",
       "</table>\n",
       "</div>"
      ],
      "text/plain": [
       "                        Business Name                 Address           City  \\\n",
       "0              Eugene Vineyard Church         3455 Royal Ave.         Eugene   \n",
       "1  Blair Family & Sports Chiropractic         1185 Arther St.         Eugene   \n",
       "3            Jenny's Hair and Company      2833 Willamette #D         Eugene   \n",
       "5                      Lauren's Place  10987 E. Mapleton Road       Mapleton   \n",
       "6               Lily of the Field B&B         35722 Ross Lane  Cottage Grove   \n",
       "\n",
       "  State  Zip Code                                            matches  \n",
       "0    OR     97402             [(AC Eugene, 86), (BMW Of Eugene, 86)]  \n",
       "1    OR     97402  [(Blair Family & Sports Chiro, 89), (A & J Spo...  \n",
       "3    OR     97405       [(A Hair Alchemist, 86), (A R S Fresno, 86)]  \n",
       "5    OR     97453  [(A1 Ron s Stump & Tree Removal, 86), (A1 Ron ...  \n",
       "6    OR     97424       [(Above The Rest, 86), (Access The Law, 86)]  "
      ]
     },
     "execution_count": 28,
     "metadata": {},
     "output_type": "execute_result"
    }
   ],
   "source": [
    "df1.head()"
   ]
  },
  {
   "cell_type": "code",
   "execution_count": 45,
   "id": "16c81aa4",
   "metadata": {},
   "outputs": [
    {
     "name": "stderr",
     "output_type": "stream",
     "text": [
      "<ipython-input-45-8594f76d48c2>:1: SettingWithCopyWarning: \n",
      "A value is trying to be set on a copy of a slice from a DataFrame.\n",
      "Try using .loc[row_indexer,col_indexer] = value instead\n",
      "\n",
      "See the caveats in the documentation: https://pandas.pydata.org/pandas-docs/stable/user_guide/indexing.html#returning-a-view-versus-a-copy\n",
      "  df1['matches'] = mat2\n"
     ]
    }
   ],
   "source": [
    "df1['matches'] = mat2"
   ]
  },
  {
   "cell_type": "code",
   "execution_count": 47,
   "id": "cfe23eda",
   "metadata": {},
   "outputs": [],
   "source": [
    "df1.to_csv(\"matches.csv\", index=False)"
   ]
  },
  {
   "cell_type": "code",
   "execution_count": 48,
   "id": "d05c0273",
   "metadata": {},
   "outputs": [],
   "source": [
    "# examine the table matches.csv and review the matches; the table is updated with the edits on the business names\n",
    "df3 = pd.read_csv(\"matches1.csv\")"
   ]
  },
  {
   "cell_type": "code",
   "execution_count": 49,
   "id": "4306237e",
   "metadata": {},
   "outputs": [
    {
     "data": {
      "text/plain": [
       "(38, 6)"
      ]
     },
     "execution_count": 49,
     "metadata": {},
     "output_type": "execute_result"
    }
   ],
   "source": [
    "df3.shape"
   ]
  },
  {
   "cell_type": "code",
   "execution_count": 68,
   "id": "a6b2fc62",
   "metadata": {},
   "outputs": [],
   "source": [
    "d = []\n",
    "for bizname in df3['Business Name'].values:\n",
    "    match = df3.loc[df3['Business Name']==bizname, 'matches'].values[0]\n",
    "    df3.loc[df3['Business Name']==bizname, 'Longitude'] = business.loc[business['biz_business_name']==match, 'biz_longitude'].values[0]\n",
    "    df3.loc[df3['Business Name']==bizname, 'Latitude'] = business.loc[business['biz_business_name']==match, 'biz_latitude'].values[0]\n",
    "    test_df = business[business['biz_business_name']==match]\n",
    "    if test_df.shape[0] > 1:\n",
    "        d.append(match)"
   ]
  },
  {
   "cell_type": "code",
   "execution_count": 69,
   "id": "ce2cd87b",
   "metadata": {},
   "outputs": [
    {
     "data": {
      "text/plain": [
       "['Paul s Bicycle Way Of Life',\n",
       " 'Paul s Bicycle Way Of Life',\n",
       " 'Rolf Prima Inc',\n",
       " 'Full City Coffee Roasters',\n",
       " 'Mezza Luna Pizzeria',\n",
       " 'Mezza Luna Pizzeria',\n",
       " 'Oakshire Brewing']"
      ]
     },
     "execution_count": 69,
     "metadata": {},
     "output_type": "execute_result"
    }
   ],
   "source": [
    "d"
   ]
  },
  {
   "cell_type": "code",
   "execution_count": 72,
   "id": "febaa09d",
   "metadata": {},
   "outputs": [],
   "source": [
    "ndf = df.append(df3.drop(columns=['matches']))"
   ]
  },
  {
   "cell_type": "code",
   "execution_count": 73,
   "id": "6b879e0e",
   "metadata": {},
   "outputs": [],
   "source": [
    "ndf.to_csv(\"matched.csv\", index=False)"
   ]
  },
  {
   "cell_type": "code",
   "execution_count": 74,
   "id": "f29d43f0",
   "metadata": {},
   "outputs": [
    {
     "data": {
      "text/html": [
       "<div>\n",
       "<style scoped>\n",
       "    .dataframe tbody tr th:only-of-type {\n",
       "        vertical-align: middle;\n",
       "    }\n",
       "\n",
       "    .dataframe tbody tr th {\n",
       "        vertical-align: top;\n",
       "    }\n",
       "\n",
       "    .dataframe thead th {\n",
       "        text-align: right;\n",
       "    }\n",
       "</style>\n",
       "<table border=\"1\" class=\"dataframe\">\n",
       "  <thead>\n",
       "    <tr style=\"text-align: right;\">\n",
       "      <th></th>\n",
       "      <th>Business Name</th>\n",
       "      <th>Address</th>\n",
       "      <th>City</th>\n",
       "      <th>State</th>\n",
       "      <th>Zip Code</th>\n",
       "      <th>matches</th>\n",
       "      <th>Longitude</th>\n",
       "      <th>Latitude</th>\n",
       "    </tr>\n",
       "  </thead>\n",
       "  <tbody>\n",
       "    <tr>\n",
       "      <th>16</th>\n",
       "      <td>Paul's Bicycle Way of Life – Downtown</td>\n",
       "      <td>556 Charnelton Street</td>\n",
       "      <td>Eugene</td>\n",
       "      <td>OR</td>\n",
       "      <td>97401</td>\n",
       "      <td>Paul s Bicycle Way Of Life</td>\n",
       "      <td>-123.152168</td>\n",
       "      <td>44.047777</td>\n",
       "    </tr>\n",
       "    <tr>\n",
       "      <th>17</th>\n",
       "      <td>Paul's Bicycle Way of Life – South Eugene</td>\n",
       "      <td>2480 Alder St</td>\n",
       "      <td>Eugene</td>\n",
       "      <td>OR</td>\n",
       "      <td>97405</td>\n",
       "      <td>Paul s Bicycle Way Of Life</td>\n",
       "      <td>-123.152168</td>\n",
       "      <td>44.047777</td>\n",
       "    </tr>\n",
       "    <tr>\n",
       "      <th>19</th>\n",
       "      <td>Rolf Prima</td>\n",
       "      <td>150 Shelton McMurphey Blvd. Ste 101</td>\n",
       "      <td>Eugene</td>\n",
       "      <td>OR</td>\n",
       "      <td>97401</td>\n",
       "      <td>Rolf Prima Inc</td>\n",
       "      <td>-123.148654</td>\n",
       "      <td>44.050623</td>\n",
       "    </tr>\n",
       "    <tr>\n",
       "      <th>23</th>\n",
       "      <td>Full City Coffee Roasters - High St. Cafe</td>\n",
       "      <td>295 E 13th Ave.</td>\n",
       "      <td>Eugene</td>\n",
       "      <td>OR</td>\n",
       "      <td>97401</td>\n",
       "      <td>Full City Coffee Roasters</td>\n",
       "      <td>-123.154571</td>\n",
       "      <td>44.045338</td>\n",
       "    </tr>\n",
       "    <tr>\n",
       "      <th>26</th>\n",
       "      <td>Mezza Luna Pizzeria - Crescent Village</td>\n",
       "      <td>2776 Shadow View Drive</td>\n",
       "      <td>Eugene</td>\n",
       "      <td>OR</td>\n",
       "      <td>97408</td>\n",
       "      <td>Mezza Luna Pizzeria</td>\n",
       "      <td>-123.060329</td>\n",
       "      <td>44.092954</td>\n",
       "    </tr>\n",
       "    <tr>\n",
       "      <th>27</th>\n",
       "      <td>Mezza Luna Pizzeria - Downtown</td>\n",
       "      <td>933 Pearl Street</td>\n",
       "      <td>Eugene</td>\n",
       "      <td>OR</td>\n",
       "      <td>97401</td>\n",
       "      <td>Mezza Luna Pizzeria</td>\n",
       "      <td>-123.060329</td>\n",
       "      <td>44.092954</td>\n",
       "    </tr>\n",
       "    <tr>\n",
       "      <th>33</th>\n",
       "      <td>Oakshire Brewing Public House</td>\n",
       "      <td>207 Madison Street</td>\n",
       "      <td>Eugene</td>\n",
       "      <td>OR</td>\n",
       "      <td>97402</td>\n",
       "      <td>Oakshire Brewing</td>\n",
       "      <td>-123.140746</td>\n",
       "      <td>44.073006</td>\n",
       "    </tr>\n",
       "  </tbody>\n",
       "</table>\n",
       "</div>"
      ],
      "text/plain": [
       "                                Business Name  \\\n",
       "16      Paul's Bicycle Way of Life – Downtown   \n",
       "17  Paul's Bicycle Way of Life – South Eugene   \n",
       "19                                 Rolf Prima   \n",
       "23  Full City Coffee Roasters - High St. Cafe   \n",
       "26     Mezza Luna Pizzeria - Crescent Village   \n",
       "27             Mezza Luna Pizzeria - Downtown   \n",
       "33              Oakshire Brewing Public House   \n",
       "\n",
       "                                Address    City State  Zip Code  \\\n",
       "16                556 Charnelton Street  Eugene    OR     97401   \n",
       "17                        2480 Alder St  Eugene    OR     97405   \n",
       "19  150 Shelton McMurphey Blvd. Ste 101  Eugene    OR     97401   \n",
       "23                      295 E 13th Ave.  Eugene    OR     97401   \n",
       "26               2776 Shadow View Drive  Eugene    OR     97408   \n",
       "27                     933 Pearl Street  Eugene    OR     97401   \n",
       "33                   207 Madison Street  Eugene    OR     97402   \n",
       "\n",
       "                       matches   Longitude   Latitude  \n",
       "16  Paul s Bicycle Way Of Life -123.152168  44.047777  \n",
       "17  Paul s Bicycle Way Of Life -123.152168  44.047777  \n",
       "19              Rolf Prima Inc -123.148654  44.050623  \n",
       "23   Full City Coffee Roasters -123.154571  44.045338  \n",
       "26         Mezza Luna Pizzeria -123.060329  44.092954  \n",
       "27         Mezza Luna Pizzeria -123.060329  44.092954  \n",
       "33            Oakshire Brewing -123.140746  44.073006  "
      ]
     },
     "execution_count": 74,
     "metadata": {},
     "output_type": "execute_result"
    }
   ],
   "source": [
    "# review the table on the duplicated names\n",
    "df3[df3.matches.isin(d)]"
   ]
  },
  {
   "cell_type": "code",
   "execution_count": 1,
   "id": "03a773fb",
   "metadata": {},
   "outputs": [],
   "source": [
    "from geopy.geocoders import Nominatim, GoogleV3"
   ]
  },
  {
   "cell_type": "code",
   "execution_count": 2,
   "id": "d0c6bd0f",
   "metadata": {},
   "outputs": [],
   "source": [
    "geolocator = Nominatim(user_agent=\"dongmeijane1107@gmail.com\")"
   ]
  },
  {
   "cell_type": "code",
   "execution_count": 7,
   "id": "9748de76",
   "metadata": {},
   "outputs": [
    {
     "data": {
      "text/plain": [
       "{'place_id': 292170964,\n",
       " 'licence': 'Data © OpenStreetMap contributors, ODbL 1.0. https://osm.org/copyright',\n",
       " 'osm_type': 'way',\n",
       " 'osm_id': 721761539,\n",
       " 'boundingbox': ['44.029372571429',\n",
       "  '44.029472571429',\n",
       "  '-123.09087',\n",
       "  '-123.09077'],\n",
       " 'lat': '44.02942257142857',\n",
       " 'lon': '-123.09082',\n",
       " 'display_name': '2650, Willamette Street, Woodfield Microhood, College Hill, Eugene, Lane County, Oregon, 97405, United States',\n",
       " 'class': 'place',\n",
       " 'type': 'house',\n",
       " 'importance': 0.5209999999999999}"
      ]
     },
     "execution_count": 7,
     "metadata": {},
     "output_type": "execute_result"
    }
   ],
   "source": [
    "data = geolocator.geocode(\"2650 Willamette St., Eugene, OR\")\n",
    "data.raw"
   ]
  },
  {
   "cell_type": "code",
   "execution_count": 8,
   "id": "48caf8b2",
   "metadata": {},
   "outputs": [
    {
     "data": {
      "text/plain": [
       "('44.02942257142857', '-123.09082')"
      ]
     },
     "execution_count": 8,
     "metadata": {},
     "output_type": "execute_result"
    }
   ],
   "source": [
    "data.raw.get(\"lat\"), data.raw.get(\"lon\")"
   ]
  },
  {
   "cell_type": "code",
   "execution_count": 9,
   "id": "6cbba7c7",
   "metadata": {},
   "outputs": [],
   "source": [
    "coords = data.raw.get(\"lat\"), data.raw.get(\"lon\")"
   ]
  },
  {
   "cell_type": "code",
   "execution_count": 17,
   "id": "3e11e910",
   "metadata": {},
   "outputs": [
    {
     "data": {
      "text/plain": [
       "44.02942257142857"
      ]
     },
     "execution_count": 17,
     "metadata": {},
     "output_type": "execute_result"
    }
   ],
   "source": [
    "float(coords[0])"
   ]
  },
  {
   "cell_type": "code",
   "execution_count": 18,
   "id": "ea5cdeea",
   "metadata": {},
   "outputs": [],
   "source": [
    "def getCoordinates(address):\n",
    "    data = geolocator.geocode(address)\n",
    "    coords = data.raw.get(\"lat\"), data.raw.get(\"lon\")\n",
    "    return coords"
   ]
  },
  {
   "cell_type": "code",
   "execution_count": 74,
   "id": "99595c77",
   "metadata": {},
   "outputs": [],
   "source": [
    "matches0 = pd.read_csv('matches0.csv')"
   ]
  },
  {
   "cell_type": "code",
   "execution_count": 75,
   "id": "2076b877",
   "metadata": {},
   "outputs": [],
   "source": [
    "matches0 = matches0[matches0.City.isin(['Eugene', 'Springfield'])]"
   ]
  },
  {
   "cell_type": "code",
   "execution_count": 64,
   "id": "79ad6c70",
   "metadata": {},
   "outputs": [
    {
     "data": {
      "text/html": [
       "<div>\n",
       "<style scoped>\n",
       "    .dataframe tbody tr th:only-of-type {\n",
       "        vertical-align: middle;\n",
       "    }\n",
       "\n",
       "    .dataframe tbody tr th {\n",
       "        vertical-align: top;\n",
       "    }\n",
       "\n",
       "    .dataframe thead th {\n",
       "        text-align: right;\n",
       "    }\n",
       "</style>\n",
       "<table border=\"1\" class=\"dataframe\">\n",
       "  <thead>\n",
       "    <tr style=\"text-align: right;\">\n",
       "      <th></th>\n",
       "      <th>Business Name</th>\n",
       "      <th>Address</th>\n",
       "      <th>City</th>\n",
       "      <th>State</th>\n",
       "      <th>Zip Code</th>\n",
       "    </tr>\n",
       "  </thead>\n",
       "  <tbody>\n",
       "    <tr>\n",
       "      <th>0</th>\n",
       "      <td>Eugene Vineyard Church</td>\n",
       "      <td>3455 Royal Ave.</td>\n",
       "      <td>Eugene</td>\n",
       "      <td>OR</td>\n",
       "      <td>97402</td>\n",
       "    </tr>\n",
       "    <tr>\n",
       "      <th>1</th>\n",
       "      <td>Jenny's Hair and Company</td>\n",
       "      <td>2833 Willamette St.</td>\n",
       "      <td>Eugene</td>\n",
       "      <td>OR</td>\n",
       "      <td>97405</td>\n",
       "    </tr>\n",
       "    <tr>\n",
       "      <th>5</th>\n",
       "      <td>Pony House Inn Suites &amp; Cottages</td>\n",
       "      <td>660 C St.</td>\n",
       "      <td>Springfield</td>\n",
       "      <td>OR</td>\n",
       "      <td>97477</td>\n",
       "    </tr>\n",
       "    <tr>\n",
       "      <th>7</th>\n",
       "      <td>Velo Bed and Breakfast</td>\n",
       "      <td>86211 Bailey Hill Road</td>\n",
       "      <td>Eugene</td>\n",
       "      <td>OR</td>\n",
       "      <td>97405</td>\n",
       "    </tr>\n",
       "    <tr>\n",
       "      <th>9</th>\n",
       "      <td>Bob Keefer Center for Sports and Recreation</td>\n",
       "      <td>250 S 32nd St.</td>\n",
       "      <td>Springfield</td>\n",
       "      <td>OR</td>\n",
       "      <td>97478</td>\n",
       "    </tr>\n",
       "  </tbody>\n",
       "</table>\n",
       "</div>"
      ],
      "text/plain": [
       "                                 Business Name                 Address  \\\n",
       "0                       Eugene Vineyard Church         3455 Royal Ave.   \n",
       "1                     Jenny's Hair and Company     2833 Willamette St.   \n",
       "5             Pony House Inn Suites & Cottages               660 C St.   \n",
       "7                       Velo Bed and Breakfast  86211 Bailey Hill Road   \n",
       "9  Bob Keefer Center for Sports and Recreation          250 S 32nd St.   \n",
       "\n",
       "          City State  Zip Code  \n",
       "0       Eugene    OR     97402  \n",
       "1       Eugene    OR     97405  \n",
       "5  Springfield    OR     97477  \n",
       "7       Eugene    OR     97405  \n",
       "9  Springfield    OR     97478  "
      ]
     },
     "execution_count": 64,
     "metadata": {},
     "output_type": "execute_result"
    }
   ],
   "source": [
    "matches0.head() "
   ]
  },
  {
   "cell_type": "code",
   "execution_count": 76,
   "id": "bac2cc32",
   "metadata": {},
   "outputs": [],
   "source": [
    "matches0['FullAddress'] = matches0['Address'] + ', ' + matches0['City'] + ', ' + matches0['State']"
   ]
  },
  {
   "cell_type": "code",
   "execution_count": 79,
   "id": "a011f3b0",
   "metadata": {},
   "outputs": [],
   "source": [
    "matches0['Longitude'] = matches0.FullAddress.apply(lambda x: float(getCoordinates(x)[1]))\n",
    "matches0['Latitude'] = matches0.FullAddress.apply(lambda x: float(getCoordinates(x)[0]))"
   ]
  }
 ],
 "metadata": {
  "kernelspec": {
   "display_name": "Python 3",
   "language": "python",
   "name": "python3"
  },
  "language_info": {
   "codemirror_mode": {
    "name": "ipython",
    "version": 3
   },
   "file_extension": ".py",
   "mimetype": "text/x-python",
   "name": "python",
   "nbconvert_exporter": "python",
   "pygments_lexer": "ipython3",
   "version": "3.8.8"
  }
 },
 "nbformat": 4,
 "nbformat_minor": 5
}
