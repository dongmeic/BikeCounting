{
 "cells": [
  {
   "cell_type": "code",
   "execution_count": 1,
   "id": "ab29c2c6",
   "metadata": {},
   "outputs": [],
   "source": [
    "import ReviewData as RD"
   ]
  },
  {
   "cell_type": "code",
   "execution_count": 2,
   "id": "ea82f5d6",
   "metadata": {},
   "outputs": [],
   "source": [
    "ltdstops = RD.readLTDstops()"
   ]
  },
  {
   "cell_type": "code",
   "execution_count": 3,
   "id": "06bb3522",
   "metadata": {},
   "outputs": [
    {
     "data": {
      "text/html": [
       "<div>\n",
       "<style scoped>\n",
       "    .dataframe tbody tr th:only-of-type {\n",
       "        vertical-align: middle;\n",
       "    }\n",
       "\n",
       "    .dataframe tbody tr th {\n",
       "        vertical-align: top;\n",
       "    }\n",
       "\n",
       "    .dataframe thead th {\n",
       "        text-align: right;\n",
       "    }\n",
       "</style>\n",
       "<table border=\"1\" class=\"dataframe\">\n",
       "  <thead>\n",
       "    <tr style=\"text-align: right;\">\n",
       "      <th></th>\n",
       "      <th>stopNumber</th>\n",
       "      <th>stopName</th>\n",
       "      <th>longitude</th>\n",
       "      <th>latitude</th>\n",
       "      <th>geom</th>\n",
       "    </tr>\n",
       "  </thead>\n",
       "  <tbody>\n",
       "    <tr>\n",
       "      <th>0</th>\n",
       "      <td>00001</td>\n",
       "      <td>E/S of 58th N of Main</td>\n",
       "      <td>-122.926726</td>\n",
       "      <td>44.046335</td>\n",
       "      <td>POINT (-13684140.499 5472615.449)</td>\n",
       "    </tr>\n",
       "    <tr>\n",
       "      <th>1</th>\n",
       "      <td>00002</td>\n",
       "      <td>E/S of 58th S of D</td>\n",
       "      <td>-122.926220</td>\n",
       "      <td>44.049456</td>\n",
       "      <td>POINT (-13684084.216 5473098.744)</td>\n",
       "    </tr>\n",
       "    <tr>\n",
       "      <th>2</th>\n",
       "      <td>00004</td>\n",
       "      <td>E/S of 58th S of Thurston Rd</td>\n",
       "      <td>-122.926243</td>\n",
       "      <td>44.052247</td>\n",
       "      <td>POINT (-13684086.821 5473531.152)</td>\n",
       "    </tr>\n",
       "    <tr>\n",
       "      <th>3</th>\n",
       "      <td>00006</td>\n",
       "      <td>S/S of Thurston W of 64th</td>\n",
       "      <td>-122.916628</td>\n",
       "      <td>44.052949</td>\n",
       "      <td>POINT (-13683016.473 5473639.838)</td>\n",
       "    </tr>\n",
       "    <tr>\n",
       "      <th>4</th>\n",
       "      <td>00007</td>\n",
       "      <td>S/S of Thurston E of 65th</td>\n",
       "      <td>-122.913227</td>\n",
       "      <td>44.052675</td>\n",
       "      <td>POINT (-13682637.864 5473597.336)</td>\n",
       "    </tr>\n",
       "  </tbody>\n",
       "</table>\n",
       "</div>"
      ],
      "text/plain": [
       "  stopNumber                      stopName   longitude   latitude  \\\n",
       "0      00001         E/S of 58th N of Main -122.926726  44.046335   \n",
       "1      00002            E/S of 58th S of D -122.926220  44.049456   \n",
       "2      00004  E/S of 58th S of Thurston Rd -122.926243  44.052247   \n",
       "3      00006     S/S of Thurston W of 64th -122.916628  44.052949   \n",
       "4      00007     S/S of Thurston E of 65th -122.913227  44.052675   \n",
       "\n",
       "                                geom  \n",
       "0  POINT (-13684140.499 5472615.449)  \n",
       "1  POINT (-13684084.216 5473098.744)  \n",
       "2  POINT (-13684086.821 5473531.152)  \n",
       "3  POINT (-13683016.473 5473639.838)  \n",
       "4  POINT (-13682637.864 5473597.336)  "
      ]
     },
     "execution_count": 3,
     "metadata": {},
     "output_type": "execute_result"
    }
   ],
   "source": [
    "ltdstops.head()"
   ]
  },
  {
   "cell_type": "code",
   "execution_count": 4,
   "id": "5b3fb5b4",
   "metadata": {},
   "outputs": [],
   "source": [
    "EmXstops = ltdstops.loc[ltdstops['stopName'].str.contains(\"EmX\", case=False)]"
   ]
  },
  {
   "cell_type": "code",
   "execution_count": 5,
   "id": "b511e16d",
   "metadata": {},
   "outputs": [],
   "source": [
    "import os"
   ]
  },
  {
   "cell_type": "code",
   "execution_count": 6,
   "id": "6c5bedb8",
   "metadata": {},
   "outputs": [],
   "source": [
    "EmXstops.to_file(os.path.join(r\"T:\\DCProjects\\StoryMap\\BikeCounting\\BikeMap\\data\\mapdata\", \"EmX_stops.shp\"))"
   ]
  },
  {
   "cell_type": "code",
   "execution_count": 7,
   "id": "0e5d9f1e",
   "metadata": {},
   "outputs": [
    {
     "data": {
      "text/html": [
       "<div>\n",
       "<style scoped>\n",
       "    .dataframe tbody tr th:only-of-type {\n",
       "        vertical-align: middle;\n",
       "    }\n",
       "\n",
       "    .dataframe tbody tr th {\n",
       "        vertical-align: top;\n",
       "    }\n",
       "\n",
       "    .dataframe thead th {\n",
       "        text-align: right;\n",
       "    }\n",
       "</style>\n",
       "<table border=\"1\" class=\"dataframe\">\n",
       "  <thead>\n",
       "    <tr style=\"text-align: right;\">\n",
       "      <th></th>\n",
       "      <th>stopNumber</th>\n",
       "      <th>stopName</th>\n",
       "      <th>longitude</th>\n",
       "      <th>latitude</th>\n",
       "      <th>geom</th>\n",
       "    </tr>\n",
       "  </thead>\n",
       "  <tbody>\n",
       "    <tr>\n",
       "      <th>1068</th>\n",
       "      <td>09901</td>\n",
       "      <td>EmX High Street Station outbound</td>\n",
       "      <td>-123.087714</td>\n",
       "      <td>44.048787</td>\n",
       "      <td>POINT (-13702061.679 5472995.206)</td>\n",
       "    </tr>\n",
       "    <tr>\n",
       "      <th>1069</th>\n",
       "      <td>09902</td>\n",
       "      <td>EmX Hilyard Station Outbound</td>\n",
       "      <td>-123.082311</td>\n",
       "      <td>44.047603</td>\n",
       "      <td>POINT (-13701460.164 5472811.830)</td>\n",
       "    </tr>\n",
       "    <tr>\n",
       "      <th>1070</th>\n",
       "      <td>09903</td>\n",
       "      <td>EmX Dads' Gates Station Outbound</td>\n",
       "      <td>-123.077481</td>\n",
       "      <td>44.047652</td>\n",
       "      <td>POINT (-13700922.491 5472819.373)</td>\n",
       "    </tr>\n",
       "    <tr>\n",
       "      <th>1071</th>\n",
       "      <td>09904</td>\n",
       "      <td>EmX Agate Station Outbound</td>\n",
       "      <td>-123.069273</td>\n",
       "      <td>44.046351</td>\n",
       "      <td>POINT (-13700008.836 5472617.958)</td>\n",
       "    </tr>\n",
       "    <tr>\n",
       "      <th>1072</th>\n",
       "      <td>09905</td>\n",
       "      <td>EmX Walnut Station Outbound</td>\n",
       "      <td>-123.061105</td>\n",
       "      <td>44.044701</td>\n",
       "      <td>POINT (-13699099.523 5472362.312)</td>\n",
       "    </tr>\n",
       "  </tbody>\n",
       "</table>\n",
       "</div>"
      ],
      "text/plain": [
       "     stopNumber                          stopName   longitude   latitude  \\\n",
       "1068      09901  EmX High Street Station outbound -123.087714  44.048787   \n",
       "1069      09902      EmX Hilyard Station Outbound -123.082311  44.047603   \n",
       "1070      09903  EmX Dads' Gates Station Outbound -123.077481  44.047652   \n",
       "1071      09904        EmX Agate Station Outbound -123.069273  44.046351   \n",
       "1072      09905       EmX Walnut Station Outbound -123.061105  44.044701   \n",
       "\n",
       "                                   geom  \n",
       "1068  POINT (-13702061.679 5472995.206)  \n",
       "1069  POINT (-13701460.164 5472811.830)  \n",
       "1070  POINT (-13700922.491 5472819.373)  \n",
       "1071  POINT (-13700008.836 5472617.958)  \n",
       "1072  POINT (-13699099.523 5472362.312)  "
      ]
     },
     "execution_count": 7,
     "metadata": {},
     "output_type": "execute_result"
    }
   ],
   "source": [
    "EmXstops.head()"
   ]
  },
  {
   "cell_type": "code",
   "execution_count": 8,
   "id": "1c2f54c1",
   "metadata": {},
   "outputs": [],
   "source": [
    "ltd_stops = ltdstops.loc[~ltdstops['stopName'].str.contains(\"EmX\", case=False)]"
   ]
  },
  {
   "cell_type": "code",
   "execution_count": 9,
   "id": "08d1d538",
   "metadata": {},
   "outputs": [],
   "source": [
    "ltd_stops.to_file(os.path.join(r\"T:\\DCProjects\\StoryMap\\BikeCounting\\BikeMap\\data\\mapdata\", \"LTD_stops.shp\"))"
   ]
  }
 ],
 "metadata": {
  "kernelspec": {
   "display_name": "Python 3",
   "language": "python",
   "name": "python3"
  },
  "language_info": {
   "codemirror_mode": {
    "name": "ipython",
    "version": 3
   },
   "file_extension": ".py",
   "mimetype": "text/x-python",
   "name": "python",
   "nbconvert_exporter": "python",
   "pygments_lexer": "ipython3",
   "version": "3.8.8"
  }
 },
 "nbformat": 4,
 "nbformat_minor": 5
}
