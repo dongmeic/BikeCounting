{
 "cells": [
  {
   "cell_type": "code",
   "execution_count": 1,
   "id": "c0fa432b",
   "metadata": {},
   "outputs": [],
   "source": [
    "import geopandas as gpd\n",
    "import pandas as pd\n",
    "import os\n",
    "from itertools import chain"
   ]
  },
  {
   "cell_type": "code",
   "execution_count": 2,
   "id": "35d44d2a",
   "metadata": {},
   "outputs": [],
   "source": [
    "path = r'T:\\Data\\LTD Data'"
   ]
  },
  {
   "cell_type": "code",
   "execution_count": 3,
   "id": "9cd7af00",
   "metadata": {},
   "outputs": [],
   "source": [
    "pathlist = ['2013 Fall_Oct2013_Routes and Stops\\Fall 2013 LTD Routes',\n",
    "            '2014 Fall Oct2014_Routes and Stops',\n",
    "            '2015 Fall LTD Routes and Stops',\n",
    "            '2016 Fall LTD Routes and Stops',\n",
    "            '2016 Winter LTD Routes and Stops',\n",
    "            '2018 Fall LTD Routes and Stops',\n",
    "            '2019 Fall LTD Routes and Stops',\n",
    "            '2020 Winter LTD Routes and Stops',\n",
    "            '2020 Winter LTD Routes and Stops', \n",
    "            '2022 Fall LTD Routes and Stops']"
   ]
  },
  {
   "cell_type": "code",
   "execution_count": 4,
   "id": "f8fb3117",
   "metadata": {},
   "outputs": [],
   "source": [
    "lyrlist = ['Fall 2013 LTD Routes', 'Fall 2014 LTD routes', 'Fall 2015 LTD routes',\n",
    "           'Fall 2016 LTD Routes', 'Winter 2016 LTD routes', 'Fall_2018_Routes',\n",
    "           'Fall_2019_Routes', 'Winter_2020_Routes', 'Winter_2020_Routes', 'Fall_2022_Routes']"
   ]
  },
  {
   "cell_type": "code",
   "execution_count": 5,
   "id": "1ea76cf8",
   "metadata": {},
   "outputs": [],
   "source": [
    "frames = []\n",
    "for i in range(0, len(pathlist)):\n",
    "    routes = gpd.read_file(os.path.join(path, pathlist[i]), layer=lyrlist[i])\n",
    "    routes = routes.to_crs(epsg=2992)\n",
    "    routes.columns = list(map(lambda x: x.lower(), routes.columns))\n",
    "    gdf = routes[['route', 'geometry']].dissolve('route')\n",
    "    gdf['route'] = gdf.index\n",
    "    gdf.reset_index(drop=True, inplace=True)\n",
    "    frames.append(gdf)"
   ]
  },
  {
   "cell_type": "code",
   "execution_count": 6,
   "id": "43fcc177",
   "metadata": {},
   "outputs": [],
   "source": [
    "routes = pd.concat(frames, ignore_index=True)"
   ]
  },
  {
   "cell_type": "code",
   "execution_count": 7,
   "id": "2141dfc7",
   "metadata": {
    "scrolled": true
   },
   "outputs": [],
   "source": [
    "gdf = routes.dissolve(by='route', aggfunc='last')\n",
    "gdf['route'] = gdf.index\n",
    "gdf.reset_index(drop=True, inplace=True)"
   ]
  },
  {
   "cell_type": "code",
   "execution_count": 8,
   "id": "06177927",
   "metadata": {},
   "outputs": [
    {
     "data": {
      "text/plain": [
       "array(['1', '11', '12', '13', '17', '18', '19', '24', '27', '28', '32',\n",
       "       '33', '36', '40', '41', '43', '51', '52', '55', '66', '67', '73',\n",
       "       '76', '78', '79x', '81', '82', '85', '91', '92', '93', '95', '96',\n",
       "       '98', 'EmX', 'EmX Blue', 'EmX Green'], dtype=object)"
      ]
     },
     "execution_count": 8,
     "metadata": {},
     "output_type": "execute_result"
    }
   ],
   "source": [
    "gdf.route.unique()"
   ]
  },
  {
   "cell_type": "code",
   "execution_count": 10,
   "id": "b9ded5d9",
   "metadata": {},
   "outputs": [],
   "source": [
    "outpath = r'T:\\MPO\\Bike&Ped\\BikeCounting\\StoryMap\\BikeOnBuses\\Output'"
   ]
  },
  {
   "cell_type": "code",
   "execution_count": 11,
   "id": "bf94559a",
   "metadata": {},
   "outputs": [],
   "source": [
    "gdf[~gdf.route.isin(['EmX Blue', 'EmX Green'])].to_file(os.path.join(outpath, 'LTD_Routes.shp'))"
   ]
  },
  {
   "cell_type": "code",
   "execution_count": 13,
   "id": "dc883009",
   "metadata": {},
   "outputs": [
    {
     "data": {
      "text/plain": [
       "37"
      ]
     },
     "execution_count": 13,
     "metadata": {},
     "output_type": "execute_result"
    }
   ],
   "source": [
    "len(gdf.route.values)"
   ]
  },
  {
   "cell_type": "code",
   "execution_count": 14,
   "id": "07854915",
   "metadata": {},
   "outputs": [],
   "source": [
    "lyrlist1 = ['Fall 2013 LTD Stops', 'fall 2014 stops + routes', 'Fall 2015 LTD Stops+routes',\n",
    "           'Fall 2016 LTD stops', 'Winter 2016 LTD Stops+Routes', 'Fall_2018_Stops', \n",
    "           'Fall_2019_Stops', 'Winter_2020_Stops', 'Winter_2020_Stops', 'Fall_2022_Stops']"
   ]
  },
  {
   "cell_type": "code",
   "execution_count": 15,
   "id": "30e0c9f7",
   "metadata": {},
   "outputs": [],
   "source": [
    "frames = []\n",
    "for i in range(0, len(pathlist)):\n",
    "    #print(range(2013, 2023)[i])\n",
    "    if i == 0:\n",
    "        stops = gpd.read_file(os.path.join(path, '2013 Fall_Oct2013_Routes and Stops\\Fall 2013 LTD Stops'), \n",
    "                              layer=lyrlist1[i])\n",
    "        stops = stops.to_crs(epsg=2992)\n",
    "    else:\n",
    "        if i not in range(5, 9):\n",
    "            stops = gpd.read_file(os.path.join(path, pathlist[i]), layer=lyrlist1[i])\n",
    "            stops = stops.to_crs(epsg=2992)\n",
    "    stops.columns = list(map(lambda x: x.lower(), stops.columns))\n",
    "    #print(stops.routes.unique())\n",
    "    frames.append(stops[['stop_name', 'routes', 'geometry']])"
   ]
  },
  {
   "cell_type": "code",
   "execution_count": 37,
   "id": "04a7f95b",
   "metadata": {},
   "outputs": [],
   "source": [
    "stops_all = pd.concat(frames, ignore_index=True)"
   ]
  },
  {
   "cell_type": "code",
   "execution_count": 38,
   "id": "17eeccb0",
   "metadata": {},
   "outputs": [],
   "source": [
    "#stops = stops.drop_duplicates(subset=['stop_name', 'routes'], keep='last')\n",
    "stops = stops_all[(stops_all.routes!=0) & (~stops_all.routes.isnull())]"
   ]
  },
  {
   "cell_type": "code",
   "execution_count": 41,
   "id": "726a2526",
   "metadata": {},
   "outputs": [
    {
     "data": {
      "text/plain": [
       "False"
      ]
     },
     "execution_count": 41,
     "metadata": {},
     "output_type": "execute_result"
    }
   ],
   "source": [
    "'Kruse Way Station_clockwise' in stops_all[stops_all.routes == 0]['stop_name'].values"
   ]
  },
  {
   "cell_type": "code",
   "execution_count": 19,
   "id": "cd5685da",
   "metadata": {
    "scrolled": false
   },
   "outputs": [
    {
     "data": {
      "text/plain": [
       "1505"
      ]
     },
     "execution_count": 19,
     "metadata": {},
     "output_type": "execute_result"
    }
   ],
   "source": [
    "len(stops.stop_name.unique())"
   ]
  },
  {
   "cell_type": "code",
   "execution_count": 20,
   "id": "a9066022",
   "metadata": {},
   "outputs": [],
   "source": [
    "g = stops.groupby('stop_name')"
   ]
  },
  {
   "cell_type": "code",
   "execution_count": 21,
   "id": "57f9bdac",
   "metadata": {},
   "outputs": [],
   "source": [
    "df = g.apply(lambda x: ', '.join(x.routes.astype(str).unique())).to_frame(name='routes').reset_index()"
   ]
  },
  {
   "cell_type": "code",
   "execution_count": 22,
   "id": "6eb399b6",
   "metadata": {},
   "outputs": [],
   "source": [
    "ndf = df.reindex(df.index.repeat(df.routes.apply(lambda x: len(x.split(', ')))))"
   ]
  },
  {
   "cell_type": "code",
   "execution_count": 23,
   "id": "92386439",
   "metadata": {},
   "outputs": [],
   "source": [
    "ndf.loc[:, 'route'] = list(chain.from_iterable(df.routes.apply(lambda x: x.split(', '))))"
   ]
  },
  {
   "cell_type": "code",
   "execution_count": 25,
   "id": "9afd20dc",
   "metadata": {},
   "outputs": [],
   "source": [
    "ndf = ndf.merge(stops[['stop_name', 'geometry']], on='stop_name')"
   ]
  },
  {
   "cell_type": "code",
   "execution_count": 26,
   "id": "26a94024",
   "metadata": {},
   "outputs": [],
   "source": [
    "ndf = ndf.drop_duplicates(subset=['stop_name', 'routes', 'route'], keep='last')"
   ]
  },
  {
   "cell_type": "code",
   "execution_count": 31,
   "id": "3fc83c27",
   "metadata": {},
   "outputs": [],
   "source": [
    "gdf = gpd.GeoDataFrame(ndf, geometry='geometry')"
   ]
  },
  {
   "cell_type": "code",
   "execution_count": 33,
   "id": "d370e60d",
   "metadata": {},
   "outputs": [],
   "source": [
    "gdf.to_file(os.path.join(outpath, 'LTD_Stops.shp'))"
   ]
  },
  {
   "cell_type": "code",
   "execution_count": 34,
   "id": "5ac753ed",
   "metadata": {},
   "outputs": [
    {
     "data": {
      "text/plain": [
       "1505"
      ]
     },
     "execution_count": 34,
     "metadata": {},
     "output_type": "execute_result"
    }
   ],
   "source": [
    "len(gdf.stop_name.unique())"
   ]
  },
  {
   "cell_type": "code",
   "execution_count": 35,
   "id": "7e52e3b0",
   "metadata": {},
   "outputs": [
    {
     "data": {
      "text/plain": [
       "array(['51', '52', '55', '91', '92', '101', '102', '25', '82', '73', '33',\n",
       "       '27', '81', '85', '17', '18', '28', '76', '78', '79x', '103', '12',\n",
       "       '36', '13', '11', '93', '98', '19', '40', '95', '66', '96', '67',\n",
       "       '41', '43', '24', '01', '32', '1'], dtype=object)"
      ]
     },
     "execution_count": 35,
     "metadata": {},
     "output_type": "execute_result"
    }
   ],
   "source": [
    "gdf.route.unique()"
   ]
  }
 ],
 "metadata": {
  "kernelspec": {
   "display_name": "Python 3",
   "language": "python",
   "name": "python3"
  },
  "language_info": {
   "codemirror_mode": {
    "name": "ipython",
    "version": 3
   },
   "file_extension": ".py",
   "mimetype": "text/x-python",
   "name": "python",
   "nbconvert_exporter": "python",
   "pygments_lexer": "ipython3",
   "version": "3.8.8"
  }
 },
 "nbformat": 4,
 "nbformat_minor": 5
}
